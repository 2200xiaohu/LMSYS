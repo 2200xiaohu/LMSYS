{
 "cells": [
  {
   "cell_type": "code",
   "execution_count": 1,
   "id": "5e66eb57-7d1d-4096-b2e2-3ec8cfbfbe5e",
   "metadata": {},
   "outputs": [],
   "source": [
    "import pandas as pd\n",
    "\n",
    "from typing import Optional, Union\n",
    "import pandas as pd, numpy as np, torch\n",
    "from dataclasses import dataclass\n",
    "from transformers import AutoTokenizer, AutoConfig\n",
    "from transformers import EarlyStoppingCallback\n",
    "from transformers.tokenization_utils_base import PreTrainedTokenizerBase, PaddingStrategy\n",
    "from transformers import AutoModelForMultipleChoice, TrainingArguments, Trainer, RobertaForMultipleChoice\n",
    "import argparse\n",
    "from transformers import get_polynomial_decay_schedule_with_warmup, TrainerCallback\n",
    "import datasets\n",
    "from datasets import Dataset"
   ]
  },
  {
   "cell_type": "code",
   "execution_count": 2,
   "id": "0349a49a-023b-4485-92ef-31340d656110",
   "metadata": {},
   "outputs": [],
   "source": [
    "data = pd.read_csv(\"dataset/train.csv\")"
   ]
  },
  {
   "cell_type": "code",
   "execution_count": null,
   "id": "d1bd6c0e-e4ff-46ef-96c1-b9c9f841a762",
   "metadata": {},
   "outputs": [],
   "source": []
  },
  {
   "cell_type": "code",
   "execution_count": 14,
   "id": "791e1ba2-1939-41b2-b85c-a302db87c93f",
   "metadata": {},
   "outputs": [
    {
     "data": {
      "text/plain": [
       "array(['gpt-4-0613', 'mistral-medium', 'mistral-7b-instruct',\n",
       "       'gpt-3.5-turbo-0314', 'gpt-4-0314', 'vicuna-13b', 'claude-2.0',\n",
       "       'gpt-3.5-turbo-0613', 'guanaco-33b', 'openchat-3.5',\n",
       "       'gpt-3.5-turbo-1106', 'gpt4all-13b-snoozy', 'koala-13b',\n",
       "       'gemini-pro-dev-api', 'wizardlm-70b', 'claude-instant-1',\n",
       "       'alpaca-13b', 'gpt-4-0125-preview', 'wizardlm-13b',\n",
       "       'gpt-4-1106-preview', 'claude-2.1', 'chatglm2-6b',\n",
       "       'tulu-2-dpo-70b', 'claude-1', 'zephyr-7b-beta',\n",
       "       'starling-lm-7b-alpha', 'oasst-pythia-12b', 'llama-2-13b-chat',\n",
       "       'codellama-34b-instruct', 'yi-34b-chat', 'mpt-7b-chat',\n",
       "       'vicuna-33b', 'deepseek-llm-67b-chat', 'llama-2-70b-chat',\n",
       "       'fastchat-t5-3b', 'gpt-3.5-turbo-0125', 'chatglm-6b',\n",
       "       'openhermes-2.5-mistral-7b', 'llama-2-7b-chat', 'pplx-70b-online',\n",
       "       'mixtral-8x7b-instruct-v0.1', 'RWKV-4-Raven-14B',\n",
       "       'solar-10.7b-instruct-v1.0', 'chatglm3-6b', 'dolly-v2-12b',\n",
       "       'falcon-180b-chat', 'palm-2', 'qwen1.5-72b-chat',\n",
       "       'stripedhyena-nous-7b', 'qwen1.5-4b-chat', 'vicuna-7b',\n",
       "       'pplx-7b-online', 'llama2-70b-steerlm-chat', 'qwen-14b-chat',\n",
       "       'zephyr-7b-alpha', 'gemini-pro', 'dolphin-2.2.1-mistral-7b',\n",
       "       'stablelm-tuned-alpha-7b', 'llama-13b', 'mpt-30b-chat',\n",
       "       'openchat-3.5-0106', 'qwen1.5-7b-chat',\n",
       "       'nous-hermes-2-mixtral-8x7b-dpo', 'mistral-7b-instruct-v0.2',\n",
       "       'gpt-4-1106-preview', 'koala-13b', 'gpt-3.5-turbo-0613',\n",
       "       'llama-2-13b-chat', 'vicuna-13b', 'mixtral-8x7b-instruct-v0.1',\n",
       "       'gemini-pro', 'gpt-4-0314', 'vicuna-7b', 'chatglm3-6b',\n",
       "       'pplx-70b-online', 'mpt-30b-chat', 'llama2-70b-steerlm-chat',\n",
       "       'claude-1', 'claude-2.1', 'chatglm-6b', 'claude-instant-1',\n",
       "       'dolly-v2-12b', 'claude-2.0', 'deepseek-llm-67b-chat',\n",
       "       'openchat-3.5', 'starling-lm-7b-alpha', 'gpt-4-0125-preview',\n",
       "       'llama-2-7b-chat', 'gpt-4-0613', 'wizardlm-70b',\n",
       "       'stablelm-tuned-alpha-7b', 'vicuna-33b', 'chatglm2-6b',\n",
       "       'dolphin-2.2.1-mistral-7b', 'llama-2-70b-chat', 'llama-13b',\n",
       "       'palm-2', 'wizardlm-13b', 'codellama-34b-instruct',\n",
       "       'gemini-pro-dev-api', 'gpt-3.5-turbo-0314', 'gpt-3.5-turbo-1106',\n",
       "       'yi-34b-chat', 'oasst-pythia-12b', 'qwen-14b-chat', 'alpaca-13b',\n",
       "       'qwen1.5-72b-chat', 'gpt-3.5-turbo-0125', 'pplx-7b-online',\n",
       "       'qwen1.5-4b-chat', 'fastchat-t5-3b', 'solar-10.7b-instruct-v1.0',\n",
       "       'mistral-medium', 'nous-hermes-2-mixtral-8x7b-dpo',\n",
       "       'zephyr-7b-beta', 'openhermes-2.5-mistral-7b',\n",
       "       'mistral-7b-instruct', 'tulu-2-dpo-70b', 'mpt-7b-chat',\n",
       "       'zephyr-7b-alpha', 'qwen1.5-7b-chat', 'RWKV-4-Raven-14B',\n",
       "       'guanaco-33b', 'stripedhyena-nous-7b', 'gpt4all-13b-snoozy',\n",
       "       'falcon-180b-chat', 'mistral-7b-instruct-v0.2',\n",
       "       'openchat-3.5-0106'], dtype=object)"
      ]
     },
     "execution_count": 14,
     "metadata": {},
     "output_type": "execute_result"
    }
   ],
   "source": [
    "np.concatenate([data.model_b.unique(), data.model_a.unique()])"
   ]
  },
  {
   "cell_type": "code",
   "execution_count": 15,
   "id": "46351e91-95ac-4d3d-aed4-a89460bffa47",
   "metadata": {},
   "outputs": [
    {
     "data": {
      "text/plain": [
       "{'RWKV-4-Raven-14B',\n",
       " 'alpaca-13b',\n",
       " 'chatglm-6b',\n",
       " 'chatglm2-6b',\n",
       " 'chatglm3-6b',\n",
       " 'claude-1',\n",
       " 'claude-2.0',\n",
       " 'claude-2.1',\n",
       " 'claude-instant-1',\n",
       " 'codellama-34b-instruct',\n",
       " 'deepseek-llm-67b-chat',\n",
       " 'dolly-v2-12b',\n",
       " 'dolphin-2.2.1-mistral-7b',\n",
       " 'falcon-180b-chat',\n",
       " 'fastchat-t5-3b',\n",
       " 'gemini-pro',\n",
       " 'gemini-pro-dev-api',\n",
       " 'gpt-3.5-turbo-0125',\n",
       " 'gpt-3.5-turbo-0314',\n",
       " 'gpt-3.5-turbo-0613',\n",
       " 'gpt-3.5-turbo-1106',\n",
       " 'gpt-4-0125-preview',\n",
       " 'gpt-4-0314',\n",
       " 'gpt-4-0613',\n",
       " 'gpt-4-1106-preview',\n",
       " 'gpt4all-13b-snoozy',\n",
       " 'guanaco-33b',\n",
       " 'koala-13b',\n",
       " 'llama-13b',\n",
       " 'llama-2-13b-chat',\n",
       " 'llama-2-70b-chat',\n",
       " 'llama-2-7b-chat',\n",
       " 'llama2-70b-steerlm-chat',\n",
       " 'mistral-7b-instruct',\n",
       " 'mistral-7b-instruct-v0.2',\n",
       " 'mistral-medium',\n",
       " 'mixtral-8x7b-instruct-v0.1',\n",
       " 'mpt-30b-chat',\n",
       " 'mpt-7b-chat',\n",
       " 'nous-hermes-2-mixtral-8x7b-dpo',\n",
       " 'oasst-pythia-12b',\n",
       " 'openchat-3.5',\n",
       " 'openchat-3.5-0106',\n",
       " 'openhermes-2.5-mistral-7b',\n",
       " 'palm-2',\n",
       " 'pplx-70b-online',\n",
       " 'pplx-7b-online',\n",
       " 'qwen-14b-chat',\n",
       " 'qwen1.5-4b-chat',\n",
       " 'qwen1.5-72b-chat',\n",
       " 'qwen1.5-7b-chat',\n",
       " 'solar-10.7b-instruct-v1.0',\n",
       " 'stablelm-tuned-alpha-7b',\n",
       " 'starling-lm-7b-alpha',\n",
       " 'stripedhyena-nous-7b',\n",
       " 'tulu-2-dpo-70b',\n",
       " 'vicuna-13b',\n",
       " 'vicuna-33b',\n",
       " 'vicuna-7b',\n",
       " 'wizardlm-13b',\n",
       " 'wizardlm-70b',\n",
       " 'yi-34b-chat',\n",
       " 'zephyr-7b-alpha',\n",
       " 'zephyr-7b-beta'}"
      ]
     },
     "execution_count": 15,
     "metadata": {},
     "output_type": "execute_result"
    }
   ],
   "source": [
    "set(np.concatenate([data.model_b.unique(), data.model_a.unique()]))"
   ]
  },
  {
   "cell_type": "code",
   "execution_count": null,
   "id": "cacf2390-99cb-4e8d-a90b-26603816f26e",
   "metadata": {},
   "outputs": [],
   "source": []
  }
 ],
 "metadata": {
  "kernelspec": {
   "display_name": "Python 3 (ipykernel)",
   "language": "python",
   "name": "python3"
  },
  "language_info": {
   "codemirror_mode": {
    "name": "ipython",
    "version": 3
   },
   "file_extension": ".py",
   "mimetype": "text/x-python",
   "name": "python",
   "nbconvert_exporter": "python",
   "pygments_lexer": "ipython3",
   "version": "3.10.8"
  }
 },
 "nbformat": 4,
 "nbformat_minor": 5
}
