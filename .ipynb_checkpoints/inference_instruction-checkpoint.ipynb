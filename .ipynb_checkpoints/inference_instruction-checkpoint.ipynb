{
 "cells": [
  {
   "cell_type": "code",
   "execution_count": 1,
   "id": "06762a62-6035-4580-a70a-8578f5a58fb3",
   "metadata": {},
   "outputs": [],
   "source": [
    "import argparse\n",
    "from typing import Optional, Union\n",
    "\n",
    "import pandas as pd\n",
    "import numpy as np\n",
    "import torch\n",
    "import torch.nn as nn\n",
    "\n",
    "from dataclasses import dataclass\n",
    "\n",
    "import datasets\n",
    "from datasets import Dataset\n",
    "from torch.utils.data import Dataset, DataLoader\n",
    "\n",
    "from sklearn.metrics import log_loss\n",
    "\n",
    "from transformers import (\n",
    "    AutoTokenizer,\n",
    "    AutoConfig,\n",
    "    EarlyStoppingCallback,\n",
    "    AutoModelForCausalLM,\n",
    "    AutoModelForMultipleChoice,\n",
    "    TrainingArguments,\n",
    "    Trainer,\n",
    "    RobertaForMultipleChoice,\n",
    "    AutoModelForSequenceClassification,\n",
    "    LlamaModel,\n",
    "    LlamaForSequenceClassification,\n",
    "    BitsAndBytesConfig,\n",
    "    get_polynomial_decay_schedule_with_warmup,\n",
    "    get_cosine_schedule_with_warmup,\n",
    "    TrainerCallback,\n",
    ")\n",
    "from transformers.tokenization_utils_base import PreTrainedTokenizerBase, PaddingStrategy\n",
    "\n",
    "from peft import (\n",
    "    get_peft_config,\n",
    "    PeftModel,\n",
    "    PeftConfig,\n",
    "    get_peft_model,\n",
    "    LoraConfig,\n",
    "    TaskType,\n",
    ")\n",
    "import os\n",
    "\n",
    "import random\n",
    "def seed_everything(seed=None):\n",
    "    '''\n",
    "    固定seed\n",
    "    :param seed: int, 随机种子\n",
    "    '''\n",
    "    max_seed_value = np.iinfo(np.uint32).max\n",
    "    min_seed_value = np.iinfo(np.uint32).min\n",
    "\n",
    "    if (seed is None) or not (min_seed_value <= seed <= max_seed_value):\n",
    "        seed = random.randint(np.iinfo(np.uint32).min, np.iinfo(np.uint32).max)\n",
    "    os.environ[\"PYTHONHASHSEED\"] = str(seed)\n",
    "    random.seed(seed)\n",
    "    np.random.seed(seed)\n",
    "    torch.manual_seed(seed)\n",
    "    torch.cuda.manual_seed(seed)\n",
    "    torch.cuda.manual_seed_all(seed)\n",
    "    torch.backends.cudnn.benchmark = False\n",
    "    torch.backends.cudnn.deterministic = True\n",
    "    return seed\n",
    "\n",
    "\n",
    "seed_everything(42)"
   ]
  },
  {
   "cell_type": "code",
   "execution_count": 2,
   "id": "a017584f-6664-4302-83e4-30932a04da33",
   "metadata": {},
   "outputs": [],
   "source": [
    "from torch.utils.data import Dataset\n",
    "class InstructionDataSet(Dataset):\n",
    "    def __init__(self, data, tokenizer, max_source_length, max_target_length):\n",
    "        super(InstructionDataSet, self).__init__()\n",
    "        #self.data = data.sample(len(data), random_state=0).reset_index(drop=True)\n",
    "        self.data = data\n",
    "        self.tokenizer = tokenizer\n",
    "        self.max_source_length = max_source_length\n",
    "        self.max_target_length = max_target_length\n",
    "        # self.A_token = self.tokenizer.encode(text='A', add_special_tokens=False, truncation=True, )\n",
    "        # self.B_token = self.tokenizer.encode(text='B', add_special_tokens=False, truncation=True, )\n",
    "        # self.C_token = self.tokenizer.encode(text='C', add_special_tokens=False, truncation=True, )\n",
    "\n",
    "    def __len__(self):\n",
    "        return len(self.data)\n",
    "\n",
    "    def __getitem__(self, index):\n",
    "        now_data = self.data.loc[index]\n",
    "        idx = now_data['id']\n",
    "        r_a = now_data['instruction_a']\n",
    "        r_b = now_data['instruction_b']\n",
    "        \n",
    "        templete_part1 = \"<|begin_of_text|><|start_header_id|>user<|end_header_id|>\\n\\nHere are two question-answering dialogues. Compare two model performance on answering question, determine which is better.\\n\\n\"\n",
    "        templete_part1_input_ids = self.tokenizer.encode(text=templete_part1, add_special_tokens=True,)\n",
    "        \n",
    "        model_a_input_ids = self.tokenizer.encode(text=r_a, add_special_tokens=True, truncation=True,\n",
    "                                          max_length=self.max_source_length // 2)\n",
    "        model_b_input_ids = self.tokenizer.encode(text=r_b, add_special_tokens=True, truncation=True,\n",
    "                                          max_length=self.max_source_length // 2)\n",
    "        templete_part2 = \"###options\\nA. Model A\\nB. Model B\\nC. Tie\\n<|eot_id|>\\n<|start_header_id|>assistant<|end_header_id|>\"\n",
    "        templete_part2_input_ids = self.tokenizer.encode(text=templete_part2, add_special_tokens=True,)\n",
    "        \n",
    "        input_ids = templete_part1_input_ids + model_a_input_ids + model_b_input_ids + templete_part2_input_ids\n",
    "        input_text = self.tokenizer.decode(input_ids, skip_special_tokens=False)\n",
    "        #print(f\"input :\\n {templete_part1 + r_a + r_b + templete_part2}\")\n",
    "        return {\n",
    "            \"input_ids\": input_text,\n",
    "            \"id\": idx\n",
    "        }"
   ]
  },
  {
   "cell_type": "code",
   "execution_count": 3,
   "id": "506790b9-c1ff-44f8-84a2-d2a186593f08",
   "metadata": {},
   "outputs": [],
   "source": [
    "from typing import Any, Callable, Dict, List, NewType, Optional, Tuple, Union\n",
    "# @dataclass\n",
    "# class DataCollatorForInstruction:\n",
    "#     tokenizer: PreTrainedTokenizerBase\n",
    "#     model: Optional[Any] = None\n",
    "#     padding: Union[bool, str, PaddingStrategy] = True\n",
    "#     max_length: Optional[int] = None\n",
    "#     pad_to_multiple_of: Optional[int] = None\n",
    "#     label_pad_token_id: int = -100\n",
    "#     return_tensors: str = \"pt\"\n",
    "\n",
    "#     def __call__(self, features, return_tensors=None):\n",
    "#         if return_tensors is None:\n",
    "#             return_tensors = self.return_tensors\n",
    "#         labels = [feature[\"labels\"] for feature in features] if \"labels\" in features[0].keys() else None\n",
    "#         print(f\"features is {features}\")\n",
    "#         # We have to pad the labels before calling `tokenizer.pad` as this method won't pad them and needs them of the\n",
    "#         # same length to return tensors.\n",
    "\n",
    "# #         features = self.tokenizer(\n",
    "# #             features,\n",
    "# #             padding='longest',\n",
    "# #             max_length=MAX_LENGTH,\n",
    "# #             pad_to_multiple_of=self.pad_to_multiple_of,\n",
    "# #             return_tensors=return_tensors,\n",
    "# #             truncation=True\n",
    "# #         )\n",
    "\n",
    "#         # prepare decoder_input_ids\n",
    "#         if (\n",
    "#                 labels is not None\n",
    "#                 and self.model is not None\n",
    "#                 and hasattr(self.model, \"prepare_decoder_input_ids_from_labels\")\n",
    "#         ):\n",
    "#             decoder_input_ids = self.model.prepare_decoder_input_ids_from_labels(labels=features[\"labels\"])\n",
    "#             features[\"decoder_input_ids\"] = decoder_input_ids\n",
    "#         # breakpoint() # [(len(features[i]['input_ids']),len(features[i]['labels'])) for i in range(4)]\n",
    "#         return features\n",
    "\n",
    "\n",
    "def collate_fn(batch):\n",
    "    batch = {k: [item[k] for item in batch] for k in ('input_ids','id')}\n",
    "    batch_input = tokenizer(\n",
    "        batch['input_ids'],\n",
    "        padding='longest',\n",
    "        truncation=True,\n",
    "        return_tensors=\"pt\",\n",
    "        add_special_tokens=True,\n",
    "        max_length=MAX_LENGTH\n",
    "    )\n",
    "    return batch_input, batch['id']"
   ]
  },
  {
   "cell_type": "code",
   "execution_count": 4,
   "id": "f0208959-dfd7-4218-b958-a367f9521742",
   "metadata": {},
   "outputs": [],
   "source": [
    "test = pd.read_csv('dataset/random_instruction_valid.csv')#.sample(5).reset_index(drop = True)\n",
    "test = test.groupby('id').head(1).reset_index(drop = True)\n",
    "#test = test.loc[:500,:].reset_index(drop=True)\n",
    "#sample_sub = pd.read_csv('/kaggle/input/lmsys-chatbot-arena/sample_submission.csv')"
   ]
  },
  {
   "cell_type": "code",
   "execution_count": 5,
   "id": "f2a1d9e5-14ed-4ba4-b701-dc878f211a93",
   "metadata": {},
   "outputs": [],
   "source": [
    "from tqdm import tqdm\n",
    "def inference(model, test_dataloader):\n",
    "    test_predictions = []\n",
    "    for batch in tqdm(test_dataloader):\n",
    "        batch_input, idx = batch\n",
    "        for k in batch_input.keys():\n",
    "            batch_input[k] = batch_input[k].to(device)\n",
    "        with torch.no_grad():\n",
    "            #batch_input, idx = batch['input_ids'], batch['id']\n",
    "            #batch_input = {\"input_ids\": batch_input}\n",
    "            #logits = outputs.logits.cpu().detach().numpy()\n",
    "            response = model.generate(**batch_input, max_new_tokens=1, return_dict_in_generate=True, output_scores=True)\n",
    "            #batch_input['input_ids'].shape[-1] + 1\n",
    "            #print(f\"score {response.scores}\")\n",
    "            #print(f\"score is {response.scores[0]}\")\n",
    "            #print(f\"response is {response}\")\n",
    "            #redict = np.exp(logits) / np.sum(np.exp(logits), axis=-1, keepdims=True)\n",
    "            score = response.scores[0]\n",
    "            A_prob, B_prob, C_prob = score[:,A_TOKEN_IDS], score[:,B_TOKEN_IDS], score[:,C_TOKEN_IDS]\n",
    "            logits = torch.Tensor([[A_prob,B_prob,C_prob]])\n",
    "            logits = torch.softmax(logits, dim=-1).cpu().numpy()\n",
    "            print(f\"logits is {logits}\")\n",
    "            node_result = [[idx[i],logits[i]] for i in range(batch_size)]\n",
    "\n",
    "        test_predictions.append(node_result)\n",
    "    return test_predictions"
   ]
  },
  {
   "cell_type": "code",
   "execution_count": 6,
   "id": "c5600585-ab23-4b1c-a723-7c6ab546e9d1",
   "metadata": {},
   "outputs": [],
   "source": [
    "device = torch.device(\"cuda:0\")"
   ]
  },
  {
   "cell_type": "code",
   "execution_count": 7,
   "id": "62cc96ee-74c1-4f9a-a50d-9a3598330116",
   "metadata": {},
   "outputs": [],
   "source": [
    "base_model = 'meta-llama/llama-3-transformers-8b-hf-v1'\n",
    "model_path = \"output/rare-wind-117/checkpoint-8400\"\n",
    "MAX_LENGTH = 1500"
   ]
  },
  {
   "cell_type": "code",
   "execution_count": 8,
   "id": "57af0d60-712e-4efa-b0cd-3731f3198ae6",
   "metadata": {},
   "outputs": [
    {
     "name": "stderr",
     "output_type": "stream",
     "text": [
      "Special tokens have been added in the vocabulary, make sure the associated word embeddings are fine-tuned or trained.\n"
     ]
    },
    {
     "data": {
      "application/vnd.jupyter.widget-view+json": {
       "model_id": "10614c2c9e7b47638206b4c38b0a6290",
       "version_major": 2,
       "version_minor": 0
      },
      "text/plain": [
       "Loading checkpoint shards:   0%|          | 0/4 [00:00<?, ?it/s]"
      ]
     },
     "metadata": {},
     "output_type": "display_data"
    },
    {
     "data": {
      "text/plain": [
       "PeftModelForSequenceClassification(\n",
       "  (base_model): LoraModel(\n",
       "    (model): LlamaForCausalLM(\n",
       "      (model): LlamaModel(\n",
       "        (embed_tokens): Embedding(128257, 4096)\n",
       "        (layers): ModuleList(\n",
       "          (0-31): 32 x LlamaDecoderLayer(\n",
       "            (self_attn): LlamaSdpaAttention(\n",
       "              (q_proj): lora.Linear4bit(\n",
       "                (base_layer): Linear4bit(in_features=4096, out_features=4096, bias=False)\n",
       "                (lora_dropout): ModuleDict(\n",
       "                  (default): Dropout(p=0.05, inplace=False)\n",
       "                )\n",
       "                (lora_A): ModuleDict(\n",
       "                  (default): Linear(in_features=4096, out_features=16, bias=False)\n",
       "                )\n",
       "                (lora_B): ModuleDict(\n",
       "                  (default): Linear(in_features=16, out_features=4096, bias=False)\n",
       "                )\n",
       "                (lora_embedding_A): ParameterDict()\n",
       "                (lora_embedding_B): ParameterDict()\n",
       "              )\n",
       "              (k_proj): lora.Linear4bit(\n",
       "                (base_layer): Linear4bit(in_features=4096, out_features=1024, bias=False)\n",
       "                (lora_dropout): ModuleDict(\n",
       "                  (default): Dropout(p=0.05, inplace=False)\n",
       "                )\n",
       "                (lora_A): ModuleDict(\n",
       "                  (default): Linear(in_features=4096, out_features=16, bias=False)\n",
       "                )\n",
       "                (lora_B): ModuleDict(\n",
       "                  (default): Linear(in_features=16, out_features=1024, bias=False)\n",
       "                )\n",
       "                (lora_embedding_A): ParameterDict()\n",
       "                (lora_embedding_B): ParameterDict()\n",
       "              )\n",
       "              (v_proj): lora.Linear4bit(\n",
       "                (base_layer): Linear4bit(in_features=4096, out_features=1024, bias=False)\n",
       "                (lora_dropout): ModuleDict(\n",
       "                  (default): Dropout(p=0.05, inplace=False)\n",
       "                )\n",
       "                (lora_A): ModuleDict(\n",
       "                  (default): Linear(in_features=4096, out_features=16, bias=False)\n",
       "                )\n",
       "                (lora_B): ModuleDict(\n",
       "                  (default): Linear(in_features=16, out_features=1024, bias=False)\n",
       "                )\n",
       "                (lora_embedding_A): ParameterDict()\n",
       "                (lora_embedding_B): ParameterDict()\n",
       "              )\n",
       "              (o_proj): lora.Linear4bit(\n",
       "                (base_layer): Linear4bit(in_features=4096, out_features=4096, bias=False)\n",
       "                (lora_dropout): ModuleDict(\n",
       "                  (default): Dropout(p=0.05, inplace=False)\n",
       "                )\n",
       "                (lora_A): ModuleDict(\n",
       "                  (default): Linear(in_features=4096, out_features=16, bias=False)\n",
       "                )\n",
       "                (lora_B): ModuleDict(\n",
       "                  (default): Linear(in_features=16, out_features=4096, bias=False)\n",
       "                )\n",
       "                (lora_embedding_A): ParameterDict()\n",
       "                (lora_embedding_B): ParameterDict()\n",
       "              )\n",
       "              (rotary_emb): LlamaRotaryEmbedding()\n",
       "            )\n",
       "            (mlp): LlamaMLP(\n",
       "              (gate_proj): Linear4bit(in_features=4096, out_features=14336, bias=False)\n",
       "              (up_proj): Linear4bit(in_features=4096, out_features=14336, bias=False)\n",
       "              (down_proj): Linear4bit(in_features=14336, out_features=4096, bias=False)\n",
       "              (act_fn): SiLU()\n",
       "            )\n",
       "            (input_layernorm): LlamaRMSNorm()\n",
       "            (post_attention_layernorm): LlamaRMSNorm()\n",
       "          )\n",
       "        )\n",
       "        (norm): LlamaRMSNorm()\n",
       "      )\n",
       "      (lm_head): Linear(in_features=4096, out_features=128257, bias=False)\n",
       "    )\n",
       "  )\n",
       ")"
      ]
     },
     "execution_count": 8,
     "metadata": {},
     "output_type": "execute_result"
    }
   ],
   "source": [
    "tokenizer = AutoTokenizer.from_pretrained(model_path)\n",
    "config = AutoConfig.from_pretrained(base_model, trust_remote_code=True)\n",
    "\n",
    "bnb_config = BitsAndBytesConfig(\n",
    "    load_in_4bit=True,  \n",
    "    bnb_4bit_quant_type='nf4',\n",
    "    bnb_4bit_compute_dtype=torch.float16,\n",
    "    bnb_4bit_use_double_quant=False\n",
    ")\n",
    "base_model_0 = AutoModelForCausalLM.from_pretrained(base_model,\n",
    "                                                 config=config,\n",
    "                                                 quantization_config=bnb_config,\n",
    "                                                 torch_dtype=torch.float16,\n",
    "                                                 device_map=\"auto\",\n",
    "                                                 trust_remote_code=True)\n",
    "base_model_0.config.pad_token_id = tokenizer.pad_token_id\n",
    "base_model_0.resize_token_embeddings(len(tokenizer))\n",
    "new_model = model_path\n",
    "model0 = PeftModel.from_pretrained(base_model_0, new_model).to(device)\n",
    "#model0 = model0.merge_and_unload()\n",
    "model0.eval()"
   ]
  },
  {
   "cell_type": "code",
   "execution_count": 9,
   "id": "ae5a3f5e-455d-4318-ad64-02280a99aa5d",
   "metadata": {},
   "outputs": [],
   "source": [
    "A_TOKEN_IDS = tokenizer.encode('A',add_special_tokens=True, truncation=True,\n",
    "                                          max_length=1024)\n",
    "B_TOKEN_IDS = tokenizer.encode('B',add_special_tokens=True, truncation=True,\n",
    "                                          max_length=1024)\n",
    "C_TOKEN_IDS = tokenizer.encode('C',add_special_tokens=True, truncation=True,\n",
    "                                          max_length=1024)"
   ]
  },
  {
   "cell_type": "code",
   "execution_count": 16,
   "id": "d6ba1af6-413e-4fdb-9357-9d7094743e1a",
   "metadata": {},
   "outputs": [
    {
     "data": {
      "text/plain": [
       "([32], [33], [34])"
      ]
     },
     "execution_count": 16,
     "metadata": {},
     "output_type": "execute_result"
    }
   ],
   "source": [
    "A_TOKEN_IDS,B_TOKEN_IDS,C_TOKEN_IDS"
   ]
  },
  {
   "cell_type": "code",
   "execution_count": 21,
   "id": "6316fe95-7d22-4033-a697-1852f00750fe",
   "metadata": {
    "scrolled": true
   },
   "outputs": [
    {
     "name": "stderr",
     "output_type": "stream",
     "text": [
      "Special tokens have been added in the vocabulary, make sure the associated word embeddings are fine-tuned or trained.\n"
     ]
    },
    {
     "ename": "ValueError",
     "evalue": "invalid literal for int() with base 10: '<'",
     "output_type": "error",
     "traceback": [
      "\u001b[0;31m---------------------------------------------------------------------------\u001b[0m",
      "\u001b[0;31mValueError\u001b[0m                                Traceback (most recent call last)",
      "Cell \u001b[0;32mIn[21], line 5\u001b[0m\n\u001b[1;32m      2\u001b[0m tokenized_dataset \u001b[38;5;241m=\u001b[39m InstructionDataSet(test, tokenizer, MAX_LENGTH, \u001b[38;5;241m1\u001b[39m)\n\u001b[1;32m      4\u001b[0m token_ids \u001b[38;5;241m=\u001b[39m tokenized_dataset[\u001b[38;5;241m0\u001b[39m][\u001b[38;5;124m'\u001b[39m\u001b[38;5;124minput_ids\u001b[39m\u001b[38;5;124m'\u001b[39m]\n\u001b[0;32m----> 5\u001b[0m tokens \u001b[38;5;241m=\u001b[39m \u001b[43mtokenizer\u001b[49m\u001b[38;5;241;43m.\u001b[39;49m\u001b[43mconvert_ids_to_tokens\u001b[49m\u001b[43m(\u001b[49m\u001b[43mtoken_ids\u001b[49m\u001b[43m)\u001b[49m\n\u001b[1;32m      7\u001b[0m \u001b[38;5;28;01mfor\u001b[39;00m token, token_id \u001b[38;5;129;01min\u001b[39;00m \u001b[38;5;28mzip\u001b[39m(tokens, token_ids):\n\u001b[1;32m      8\u001b[0m     \u001b[38;5;28mprint\u001b[39m(\u001b[38;5;124mf\u001b[39m\u001b[38;5;124m\"\u001b[39m\u001b[38;5;124mToken: \u001b[39m\u001b[38;5;132;01m{\u001b[39;00mtoken\u001b[38;5;132;01m}\u001b[39;00m\u001b[38;5;124m, ID: \u001b[39m\u001b[38;5;132;01m{\u001b[39;00mtoken_id\u001b[38;5;132;01m}\u001b[39;00m\u001b[38;5;124m\"\u001b[39m)\n",
      "File \u001b[0;32m~/miniconda3/lib/python3.10/site-packages/transformers/tokenization_utils_fast.py:396\u001b[0m, in \u001b[0;36mPreTrainedTokenizerFast.convert_ids_to_tokens\u001b[0;34m(self, ids, skip_special_tokens)\u001b[0m\n\u001b[1;32m    394\u001b[0m tokens \u001b[38;5;241m=\u001b[39m []\n\u001b[1;32m    395\u001b[0m \u001b[38;5;28;01mfor\u001b[39;00m index \u001b[38;5;129;01min\u001b[39;00m ids:\n\u001b[0;32m--> 396\u001b[0m     index \u001b[38;5;241m=\u001b[39m \u001b[38;5;28;43mint\u001b[39;49m\u001b[43m(\u001b[49m\u001b[43mindex\u001b[49m\u001b[43m)\u001b[49m\n\u001b[1;32m    397\u001b[0m     \u001b[38;5;28;01mif\u001b[39;00m skip_special_tokens \u001b[38;5;129;01mand\u001b[39;00m index \u001b[38;5;129;01min\u001b[39;00m \u001b[38;5;28mself\u001b[39m\u001b[38;5;241m.\u001b[39mall_special_ids:\n\u001b[1;32m    398\u001b[0m         \u001b[38;5;28;01mcontinue\u001b[39;00m\n",
      "\u001b[0;31mValueError\u001b[0m: invalid literal for int() with base 10: '<'"
     ]
    }
   ],
   "source": [
    "tokenizer = AutoTokenizer.from_pretrained(model_path)\n",
    "tokenized_dataset = InstructionDataSet(test, tokenizer, MAX_LENGTH, 1)\n",
    "\n",
    "token_ids = tokenized_dataset[0]['input_ids']\n",
    "tokens = tokenizer.convert_ids_to_tokens(token_ids)\n",
    "\n",
    "for token, token_id in zip(tokens, token_ids):\n",
    "    print(f\"Token: {token}, ID: {token_id}\")"
   ]
  },
  {
   "cell_type": "code",
   "execution_count": 10,
   "id": "bd6cf97a-1ad2-4cdb-92c1-17690144d40d",
   "metadata": {
    "scrolled": true
   },
   "outputs": [],
   "source": [
    "batch_size = 1\n",
    "tokenized_dataset = InstructionDataSet(test, tokenizer, MAX_LENGTH, 1)\n",
    "\n",
    "test_dataloader = torch.utils.data.DataLoader(tokenized_dataset, batch_size = batch_size ,collate_fn=collate_fn)"
   ]
  },
  {
   "cell_type": "code",
   "execution_count": null,
   "id": "4e194ff9-be6d-4472-a28b-b30b91a334a9",
   "metadata": {
    "scrolled": true
   },
   "outputs": [
    {
     "name": "stderr",
     "output_type": "stream",
     "text": [
      "  0%|          | 0/2874 [00:00<?, ?it/s]Setting `pad_token_id` to `eos_token_id`:128001 for open-end generation.\n",
      "  0%|          | 1/2874 [00:01<57:01,  1.19s/it]Setting `pad_token_id` to `eos_token_id`:128001 for open-end generation.\n",
      "  0%|          | 2/2874 [00:01<27:25,  1.75it/s]Setting `pad_token_id` to `eos_token_id`:128001 for open-end generation.\n"
     ]
    },
    {
     "name": "stdout",
     "output_type": "stream",
     "text": [
      "logits is [[0.8672875  0.05810464 0.07460784]]\n",
      "logits is [[0.8250977  0.05033128 0.12457111]]\n"
     ]
    },
    {
     "name": "stderr",
     "output_type": "stream",
     "text": [
      "  0%|          | 3/2874 [00:01<17:28,  2.74it/s]Setting `pad_token_id` to `eos_token_id`:128001 for open-end generation.\n",
      "  0%|          | 4/2874 [00:01<13:10,  3.63it/s]Setting `pad_token_id` to `eos_token_id`:128001 for open-end generation.\n"
     ]
    },
    {
     "name": "stdout",
     "output_type": "stream",
     "text": [
      "logits is [[0.63295704 0.11527004 0.2517729 ]]\n",
      "logits is [[0.19194828 0.6100104  0.19804138]]\n"
     ]
    },
    {
     "name": "stderr",
     "output_type": "stream",
     "text": [
      "  0%|          | 5/2874 [00:01<10:19,  4.63it/s]Setting `pad_token_id` to `eos_token_id`:128001 for open-end generation.\n",
      "  0%|          | 6/2874 [00:01<08:51,  5.39it/s]Setting `pad_token_id` to `eos_token_id`:128001 for open-end generation.\n"
     ]
    },
    {
     "name": "stdout",
     "output_type": "stream",
     "text": [
      "logits is [[0.32573012 0.3868141  0.28745583]]\n",
      "logits is [[0.39759102 0.1657406  0.4366683 ]]\n"
     ]
    },
    {
     "name": "stderr",
     "output_type": "stream",
     "text": [
      "  0%|          | 7/2874 [00:01<07:51,  6.08it/s]Setting `pad_token_id` to `eos_token_id`:128001 for open-end generation.\n",
      "  0%|          | 8/2874 [00:02<07:07,  6.70it/s]Setting `pad_token_id` to `eos_token_id`:128001 for open-end generation.\n"
     ]
    },
    {
     "name": "stdout",
     "output_type": "stream",
     "text": [
      "logits is [[0.6206579  0.14741917 0.23192292]]\n",
      "logits is [[0.208809   0.58561933 0.20557173]]\n"
     ]
    },
    {
     "name": "stderr",
     "output_type": "stream",
     "text": [
      "  0%|          | 9/2874 [00:02<07:30,  6.36it/s]Setting `pad_token_id` to `eos_token_id`:128001 for open-end generation.\n"
     ]
    },
    {
     "name": "stdout",
     "output_type": "stream",
     "text": [
      "logits is [[0.1484342  0.6549224  0.19664338]]\n"
     ]
    },
    {
     "name": "stderr",
     "output_type": "stream",
     "text": [
      "  0%|          | 10/2874 [00:02<08:51,  5.39it/s]Setting `pad_token_id` to `eos_token_id`:128001 for open-end generation.\n",
      "  0%|          | 11/2874 [00:02<07:48,  6.11it/s]Setting `pad_token_id` to `eos_token_id`:128001 for open-end generation.\n"
     ]
    },
    {
     "name": "stdout",
     "output_type": "stream",
     "text": [
      "logits is [[0.79512995 0.11635323 0.08851686]]\n",
      "logits is [[0.5439547  0.13123517 0.32481015]]\n"
     ]
    },
    {
     "name": "stderr",
     "output_type": "stream",
     "text": [
      "  0%|          | 12/2874 [00:02<07:16,  6.55it/s]Setting `pad_token_id` to `eos_token_id`:128001 for open-end generation.\n",
      "  0%|          | 13/2874 [00:02<06:42,  7.10it/s]Setting `pad_token_id` to `eos_token_id`:128001 for open-end generation.\n"
     ]
    },
    {
     "name": "stdout",
     "output_type": "stream",
     "text": [
      "logits is [[0.15458708 0.7374937  0.10791918]]\n",
      "logits is [[0.36699215 0.2602364  0.37277144]]\n"
     ]
    },
    {
     "name": "stderr",
     "output_type": "stream",
     "text": [
      "  0%|          | 14/2874 [00:03<07:39,  6.22it/s]Setting `pad_token_id` to `eos_token_id`:128001 for open-end generation.\n",
      "  1%|          | 15/2874 [00:03<07:02,  6.76it/s]Setting `pad_token_id` to `eos_token_id`:128001 for open-end generation.\n"
     ]
    },
    {
     "name": "stdout",
     "output_type": "stream",
     "text": [
      "logits is [[0.16887099 0.6274318  0.20369728]]\n",
      "logits is [[0.20500928 0.26323712 0.5317536 ]]\n"
     ]
    },
    {
     "name": "stderr",
     "output_type": "stream",
     "text": [
      "  1%|          | 16/2874 [00:03<06:33,  7.27it/s]Setting `pad_token_id` to `eos_token_id`:128001 for open-end generation.\n",
      "  1%|          | 17/2874 [00:03<06:36,  7.21it/s]Setting `pad_token_id` to `eos_token_id`:128001 for open-end generation.\n"
     ]
    },
    {
     "name": "stdout",
     "output_type": "stream",
     "text": [
      "logits is [[0.19038892 0.65422016 0.1553909 ]]\n",
      "logits is [[0.21790348 0.50664073 0.27545577]]\n"
     ]
    },
    {
     "name": "stderr",
     "output_type": "stream",
     "text": [
      "  1%|          | 18/2874 [00:03<06:56,  6.87it/s]Setting `pad_token_id` to `eos_token_id`:128001 for open-end generation.\n",
      "  1%|          | 19/2874 [00:03<06:27,  7.37it/s]Setting `pad_token_id` to `eos_token_id`:128001 for open-end generation.\n"
     ]
    },
    {
     "name": "stdout",
     "output_type": "stream",
     "text": [
      "logits is [[0.36227968 0.3511335  0.28658682]]\n",
      "logits is [[0.12490679 0.634329   0.24076414]]\n"
     ]
    },
    {
     "name": "stderr",
     "output_type": "stream",
     "text": [
      "  1%|          | 20/2874 [00:03<06:10,  7.71it/s]Setting `pad_token_id` to `eos_token_id`:128001 for open-end generation.\n",
      "  1%|          | 21/2874 [00:03<06:05,  7.82it/s]Setting `pad_token_id` to `eos_token_id`:128001 for open-end generation.\n"
     ]
    },
    {
     "name": "stdout",
     "output_type": "stream",
     "text": [
      "logits is [[0.1644118  0.22472428 0.6108639 ]]\n",
      "logits is [[0.5063698  0.25067124 0.24295889]]\n"
     ]
    },
    {
     "name": "stderr",
     "output_type": "stream",
     "text": [
      "  1%|          | 22/2874 [00:04<07:45,  6.12it/s]Setting `pad_token_id` to `eos_token_id`:128001 for open-end generation.\n",
      "  1%|          | 23/2874 [00:04<07:12,  6.60it/s]Setting `pad_token_id` to `eos_token_id`:128001 for open-end generation.\n"
     ]
    },
    {
     "name": "stdout",
     "output_type": "stream",
     "text": [
      "logits is [[0.29404593 0.29289958 0.4130546 ]]\n",
      "logits is [[0.76774585 0.09460485 0.13764924]]\n"
     ]
    },
    {
     "name": "stderr",
     "output_type": "stream",
     "text": [
      "  1%|          | 24/2874 [00:04<08:00,  5.93it/s]Setting `pad_token_id` to `eos_token_id`:128001 for open-end generation.\n",
      "  1%|          | 25/2874 [00:04<07:18,  6.50it/s]Setting `pad_token_id` to `eos_token_id`:128001 for open-end generation.\n"
     ]
    },
    {
     "name": "stdout",
     "output_type": "stream",
     "text": [
      "logits is [[0.2732863  0.19994053 0.52677315]]\n",
      "logits is [[0.35867763 0.35311684 0.28820556]]\n"
     ]
    },
    {
     "name": "stderr",
     "output_type": "stream",
     "text": [
      "  1%|          | 26/2874 [00:04<08:41,  5.46it/s]Setting `pad_token_id` to `eos_token_id`:128001 for open-end generation.\n",
      "  1%|          | 27/2874 [00:05<08:34,  5.53it/s]Setting `pad_token_id` to `eos_token_id`:128001 for open-end generation.\n"
     ]
    },
    {
     "name": "stdout",
     "output_type": "stream",
     "text": [
      "logits is [[0.46553636 0.48978743 0.04467617]]\n",
      "logits is [[0.29324296 0.39460152 0.3121555 ]]\n"
     ]
    },
    {
     "name": "stderr",
     "output_type": "stream",
     "text": [
      "  1%|          | 28/2874 [00:05<07:43,  6.15it/s]Setting `pad_token_id` to `eos_token_id`:128001 for open-end generation.\n",
      "  1%|          | 29/2874 [00:05<07:22,  6.42it/s]Setting `pad_token_id` to `eos_token_id`:128001 for open-end generation.\n"
     ]
    },
    {
     "name": "stdout",
     "output_type": "stream",
     "text": [
      "logits is [[0.13104144 0.7084033  0.16055532]]\n",
      "logits is [[0.62561375 0.15817992 0.21620634]]\n"
     ]
    },
    {
     "name": "stderr",
     "output_type": "stream",
     "text": [
      "  1%|          | 30/2874 [00:05<06:48,  6.97it/s]Setting `pad_token_id` to `eos_token_id`:128001 for open-end generation.\n",
      "  1%|          | 31/2874 [00:05<06:29,  7.31it/s]Setting `pad_token_id` to `eos_token_id`:128001 for open-end generation.\n"
     ]
    },
    {
     "name": "stdout",
     "output_type": "stream",
     "text": [
      "logits is [[0.1753698 0.4918368 0.3327934]]\n",
      "logits is [[0.2272793 0.5625217 0.210199 ]]\n"
     ]
    },
    {
     "name": "stderr",
     "output_type": "stream",
     "text": [
      "  1%|          | 32/2874 [00:05<06:21,  7.44it/s]Setting `pad_token_id` to `eos_token_id`:128001 for open-end generation.\n",
      "  1%|          | 33/2874 [00:05<07:07,  6.65it/s]"
     ]
    },
    {
     "name": "stdout",
     "output_type": "stream",
     "text": [
      "logits is [[0.31599185 0.29684687 0.38716128]]\n",
      "logits is [[0.5386339  0.30214623 0.15921988]]\n"
     ]
    },
    {
     "name": "stderr",
     "output_type": "stream",
     "text": [
      "Setting `pad_token_id` to `eos_token_id`:128001 for open-end generation.\n",
      "  1%|          | 34/2874 [00:06<08:01,  5.90it/s]Setting `pad_token_id` to `eos_token_id`:128001 for open-end generation.\n",
      "  1%|          | 35/2874 [00:06<07:17,  6.48it/s]Setting `pad_token_id` to `eos_token_id`:128001 for open-end generation.\n"
     ]
    },
    {
     "name": "stdout",
     "output_type": "stream",
     "text": [
      "logits is [[0.34052953 0.3682002  0.29127035]]\n",
      "logits is [[0.8289277  0.02011333 0.15095894]]\n"
     ]
    },
    {
     "name": "stderr",
     "output_type": "stream",
     "text": [
      "  1%|▏         | 36/2874 [00:06<06:46,  6.98it/s]Setting `pad_token_id` to `eos_token_id`:128001 for open-end generation.\n",
      "  1%|▏         | 37/2874 [00:06<06:18,  7.50it/s]Setting `pad_token_id` to `eos_token_id`:128001 for open-end generation.\n"
     ]
    },
    {
     "name": "stdout",
     "output_type": "stream",
     "text": [
      "logits is [[0.25463834 0.4985577  0.24680394]]\n",
      "logits is [[0.27172312 0.3953548  0.33292213]]\n"
     ]
    },
    {
     "name": "stderr",
     "output_type": "stream",
     "text": [
      "  1%|▏         | 38/2874 [00:06<06:06,  7.73it/s]Setting `pad_token_id` to `eos_token_id`:128001 for open-end generation.\n",
      "  1%|▏         | 39/2874 [00:06<05:55,  7.98it/s]Setting `pad_token_id` to `eos_token_id`:128001 for open-end generation.\n"
     ]
    },
    {
     "name": "stdout",
     "output_type": "stream",
     "text": [
      "logits is [[0.18504867 0.49521592 0.31973544]]\n",
      "logits is [[0.31892946 0.36708558 0.31398493]]\n"
     ]
    },
    {
     "name": "stderr",
     "output_type": "stream",
     "text": [
      "  1%|▏         | 40/2874 [00:06<05:51,  8.06it/s]Setting `pad_token_id` to `eos_token_id`:128001 for open-end generation.\n",
      "  1%|▏         | 41/2874 [00:06<06:01,  7.83it/s]Setting `pad_token_id` to `eos_token_id`:128001 for open-end generation.\n"
     ]
    },
    {
     "name": "stdout",
     "output_type": "stream",
     "text": [
      "logits is [[0.20997769 0.18243177 0.60759056]]\n",
      "logits is [[0.8510823  0.04727038 0.10164729]]\n"
     ]
    },
    {
     "name": "stderr",
     "output_type": "stream",
     "text": [
      "  1%|▏         | 42/2874 [00:07<06:24,  7.36it/s]Setting `pad_token_id` to `eos_token_id`:128001 for open-end generation.\n"
     ]
    },
    {
     "name": "stdout",
     "output_type": "stream",
     "text": [
      "logits is [[0.47514075 0.2665298  0.25832954]]\n"
     ]
    },
    {
     "name": "stderr",
     "output_type": "stream",
     "text": [
      "  1%|▏         | 43/2874 [00:07<08:01,  5.88it/s]Setting `pad_token_id` to `eos_token_id`:128001 for open-end generation.\n",
      "  2%|▏         | 44/2874 [00:07<07:33,  6.24it/s]Setting `pad_token_id` to `eos_token_id`:128001 for open-end generation.\n"
     ]
    },
    {
     "name": "stdout",
     "output_type": "stream",
     "text": [
      "logits is [[0.9031602  0.03644991 0.0603899 ]]\n",
      "logits is [[0.07422744 0.7734677  0.15230483]]\n"
     ]
    },
    {
     "name": "stderr",
     "output_type": "stream",
     "text": [
      "  2%|▏         | 45/2874 [00:07<07:01,  6.71it/s]Setting `pad_token_id` to `eos_token_id`:128001 for open-end generation.\n",
      "  2%|▏         | 46/2874 [00:07<06:34,  7.17it/s]Setting `pad_token_id` to `eos_token_id`:128001 for open-end generation.\n"
     ]
    },
    {
     "name": "stdout",
     "output_type": "stream",
     "text": [
      "logits is [[0.14951153 0.6913343  0.15915419]]\n",
      "logits is [[0.39207438 0.20340551 0.40452015]]\n"
     ]
    },
    {
     "name": "stderr",
     "output_type": "stream",
     "text": [
      "  2%|▏         | 47/2874 [00:07<06:32,  7.20it/s]Setting `pad_token_id` to `eos_token_id`:128001 for open-end generation.\n",
      "  2%|▏         | 48/2874 [00:08<07:14,  6.50it/s]Setting `pad_token_id` to `eos_token_id`:128001 for open-end generation.\n"
     ]
    },
    {
     "name": "stdout",
     "output_type": "stream",
     "text": [
      "logits is [[0.10848239 0.80158246 0.08993506]]\n",
      "logits is [[0.395704   0.32805014 0.2762459 ]]\n"
     ]
    },
    {
     "name": "stderr",
     "output_type": "stream",
     "text": [
      "  2%|▏         | 49/2874 [00:08<06:36,  7.12it/s]Setting `pad_token_id` to `eos_token_id`:128001 for open-end generation.\n",
      "  2%|▏         | 50/2874 [00:08<06:36,  7.13it/s]Setting `pad_token_id` to `eos_token_id`:128001 for open-end generation.\n"
     ]
    },
    {
     "name": "stdout",
     "output_type": "stream",
     "text": [
      "logits is [[0.15261897 0.15261897 0.69476205]]\n",
      "logits is [[0.43890482 0.32616636 0.23492883]]\n"
     ]
    },
    {
     "name": "stderr",
     "output_type": "stream",
     "text": [
      "  2%|▏         | 51/2874 [00:08<08:16,  5.69it/s]Setting `pad_token_id` to `eos_token_id`:128001 for open-end generation.\n",
      "  2%|▏         | 52/2874 [00:08<07:33,  6.22it/s]Setting `pad_token_id` to `eos_token_id`:128001 for open-end generation.\n"
     ]
    },
    {
     "name": "stdout",
     "output_type": "stream",
     "text": [
      "logits is [[0.5531542  0.1687025  0.27814338]]\n",
      "logits is [[0.7527637  0.06276367 0.18447267]]\n"
     ]
    },
    {
     "name": "stderr",
     "output_type": "stream",
     "text": [
      "  2%|▏         | 53/2874 [00:08<06:57,  6.76it/s]Setting `pad_token_id` to `eos_token_id`:128001 for open-end generation.\n",
      "  2%|▏         | 54/2874 [00:08<07:19,  6.42it/s]Setting `pad_token_id` to `eos_token_id`:128001 for open-end generation.\n"
     ]
    },
    {
     "name": "stdout",
     "output_type": "stream",
     "text": [
      "logits is [[0.2289577  0.13886987 0.63217247]]\n",
      "logits is [[0.2991711  0.4153579  0.28547102]]\n"
     ]
    },
    {
     "name": "stderr",
     "output_type": "stream",
     "text": [
      "  2%|▏         | 55/2874 [00:09<07:25,  6.33it/s]Setting `pad_token_id` to `eos_token_id`:128001 for open-end generation.\n",
      "  2%|▏         | 56/2874 [00:09<06:56,  6.76it/s]Setting `pad_token_id` to `eos_token_id`:128001 for open-end generation.\n"
     ]
    },
    {
     "name": "stdout",
     "output_type": "stream",
     "text": [
      "logits is [[0.25139174 0.12640771 0.62220055]]\n",
      "logits is [[0.09245298 0.762098   0.14544895]]\n"
     ]
    },
    {
     "name": "stderr",
     "output_type": "stream",
     "text": [
      "  2%|▏         | 57/2874 [00:09<06:33,  7.17it/s]Setting `pad_token_id` to `eos_token_id`:128001 for open-end generation.\n",
      "  2%|▏         | 58/2874 [00:09<06:18,  7.45it/s]Setting `pad_token_id` to `eos_token_id`:128001 for open-end generation.\n"
     ]
    },
    {
     "name": "stdout",
     "output_type": "stream",
     "text": [
      "logits is [[0.35580298 0.27709964 0.36709738]]\n",
      "logits is [[0.49768293 0.18597052 0.3163465 ]]\n"
     ]
    },
    {
     "name": "stderr",
     "output_type": "stream",
     "text": [
      "  2%|▏         | 59/2874 [00:09<06:20,  7.40it/s]Setting `pad_token_id` to `eos_token_id`:128001 for open-end generation.\n",
      "  2%|▏         | 60/2874 [00:09<06:36,  7.09it/s]Setting `pad_token_id` to `eos_token_id`:128001 for open-end generation.\n"
     ]
    },
    {
     "name": "stdout",
     "output_type": "stream",
     "text": [
      "logits is [[0.09132597 0.7183344  0.19033965]]\n",
      "logits is [[0.10053416 0.7907624  0.10870335]]\n"
     ]
    },
    {
     "name": "stderr",
     "output_type": "stream",
     "text": [
      "  2%|▏         | 61/2874 [00:09<06:39,  7.05it/s]Setting `pad_token_id` to `eos_token_id`:128001 for open-end generation.\n",
      "  2%|▏         | 62/2874 [00:10<06:52,  6.82it/s]Setting `pad_token_id` to `eos_token_id`:128001 for open-end generation.\n"
     ]
    },
    {
     "name": "stdout",
     "output_type": "stream",
     "text": [
      "logits is [[0.42303798 0.2526075  0.32435447]]\n",
      "logits is [[0.14841707 0.5870009  0.26458204]]\n"
     ]
    },
    {
     "name": "stderr",
     "output_type": "stream",
     "text": [
      "  2%|▏         | 63/2874 [00:10<07:04,  6.62it/s]Setting `pad_token_id` to `eos_token_id`:128001 for open-end generation.\n",
      "  2%|▏         | 64/2874 [00:10<06:41,  7.01it/s]Setting `pad_token_id` to `eos_token_id`:128001 for open-end generation.\n"
     ]
    },
    {
     "name": "stdout",
     "output_type": "stream",
     "text": [
      "logits is [[0.37885517 0.28154126 0.33960357]]\n",
      "logits is [[0.18006168 0.43874767 0.3811906 ]]\n"
     ]
    },
    {
     "name": "stderr",
     "output_type": "stream",
     "text": [
      "  2%|▏         | 65/2874 [00:10<06:21,  7.36it/s]Setting `pad_token_id` to `eos_token_id`:128001 for open-end generation.\n",
      "  2%|▏         | 66/2874 [00:10<06:07,  7.64it/s]Setting `pad_token_id` to `eos_token_id`:128001 for open-end generation.\n"
     ]
    },
    {
     "name": "stdout",
     "output_type": "stream",
     "text": [
      "logits is [[0.13287646 0.6339181  0.23320544]]\n",
      "logits is [[0.6250267  0.16561559 0.20935772]]\n"
     ]
    },
    {
     "name": "stderr",
     "output_type": "stream",
     "text": [
      "  2%|▏         | 67/2874 [00:10<05:49,  8.03it/s]Setting `pad_token_id` to `eos_token_id`:128001 for open-end generation.\n",
      "  2%|▏         | 68/2874 [00:10<05:40,  8.25it/s]Setting `pad_token_id` to `eos_token_id`:128001 for open-end generation.\n"
     ]
    },
    {
     "name": "stdout",
     "output_type": "stream",
     "text": [
      "logits is [[0.2175978  0.17213403 0.6102681 ]]\n",
      "logits is [[0.61302704 0.17840104 0.20857194]]\n"
     ]
    },
    {
     "name": "stderr",
     "output_type": "stream",
     "text": [
      "  2%|▏         | 69/2874 [00:11<06:27,  7.24it/s]Setting `pad_token_id` to `eos_token_id`:128001 for open-end generation.\n",
      "  2%|▏         | 70/2874 [00:11<06:42,  6.97it/s]Setting `pad_token_id` to `eos_token_id`:128001 for open-end generation.\n"
     ]
    },
    {
     "name": "stdout",
     "output_type": "stream",
     "text": [
      "logits is [[0.71518713 0.11494103 0.16987184]]\n",
      "logits is [[0.17095321 0.6060818  0.22296503]]\n"
     ]
    },
    {
     "name": "stderr",
     "output_type": "stream",
     "text": [
      "  2%|▏         | 71/2874 [00:11<06:40,  7.00it/s]Setting `pad_token_id` to `eos_token_id`:128001 for open-end generation.\n",
      "  3%|▎         | 72/2874 [00:11<06:13,  7.50it/s]Setting `pad_token_id` to `eos_token_id`:128001 for open-end generation.\n"
     ]
    },
    {
     "name": "stdout",
     "output_type": "stream",
     "text": [
      "logits is [[0.2474315  0.4143698  0.33819878]]\n",
      "logits is [[0.33095106 0.17993498 0.489114  ]]\n"
     ]
    },
    {
     "name": "stderr",
     "output_type": "stream",
     "text": [
      "  3%|▎         | 73/2874 [00:11<05:52,  7.94it/s]Setting `pad_token_id` to `eos_token_id`:128001 for open-end generation.\n",
      "  3%|▎         | 74/2874 [00:11<05:41,  8.19it/s]Setting `pad_token_id` to `eos_token_id`:128001 for open-end generation.\n"
     ]
    },
    {
     "name": "stdout",
     "output_type": "stream",
     "text": [
      "logits is [[0.17678909 0.15601583 0.6671951 ]]\n",
      "logits is [[0.31280905 0.3489637  0.3382272 ]]\n"
     ]
    },
    {
     "name": "stderr",
     "output_type": "stream",
     "text": [
      "  3%|▎         | 75/2874 [00:11<06:15,  7.46it/s]Setting `pad_token_id` to `eos_token_id`:128001 for open-end generation.\n"
     ]
    },
    {
     "name": "stdout",
     "output_type": "stream",
     "text": [
      "logits is [[0.10618502 0.74867725 0.14513771]]\n"
     ]
    },
    {
     "name": "stderr",
     "output_type": "stream",
     "text": [
      "  3%|▎         | 76/2874 [00:12<07:47,  5.99it/s]Setting `pad_token_id` to `eos_token_id`:128001 for open-end generation.\n",
      "  3%|▎         | 77/2874 [00:12<06:59,  6.67it/s]Setting `pad_token_id` to `eos_token_id`:128001 for open-end generation.\n"
     ]
    },
    {
     "name": "stdout",
     "output_type": "stream",
     "text": [
      "logits is [[0.12108023 0.4360267  0.44289312]]\n",
      "logits is [[0.13517484 0.6348851  0.22994013]]\n"
     ]
    },
    {
     "name": "stderr",
     "output_type": "stream",
     "text": [
      "  3%|▎         | 78/2874 [00:12<06:25,  7.24it/s]Setting `pad_token_id` to `eos_token_id`:128001 for open-end generation.\n",
      "  3%|▎         | 79/2874 [00:12<06:04,  7.67it/s]Setting `pad_token_id` to `eos_token_id`:128001 for open-end generation.\n"
     ]
    },
    {
     "name": "stdout",
     "output_type": "stream",
     "text": [
      "logits is [[0.39096224 0.29976115 0.30927658]]\n",
      "logits is [[0.34663856 0.03541136 0.6179501 ]]\n"
     ]
    },
    {
     "name": "stderr",
     "output_type": "stream",
     "text": [
      "  3%|▎         | 80/2874 [00:12<06:02,  7.71it/s]Setting `pad_token_id` to `eos_token_id`:128001 for open-end generation.\n",
      "  3%|▎         | 81/2874 [00:12<05:47,  8.04it/s]Setting `pad_token_id` to `eos_token_id`:128001 for open-end generation.\n"
     ]
    },
    {
     "name": "stdout",
     "output_type": "stream",
     "text": [
      "logits is [[0.59433836 0.18701686 0.21864487]]\n",
      "logits is [[0.6517841  0.17818786 0.17002806]]\n"
     ]
    },
    {
     "name": "stderr",
     "output_type": "stream",
     "text": [
      "  3%|▎         | 82/2874 [00:12<06:58,  6.67it/s]Setting `pad_token_id` to `eos_token_id`:128001 for open-end generation.\n",
      "  3%|▎         | 83/2874 [00:12<06:35,  7.05it/s]Setting `pad_token_id` to `eos_token_id`:128001 for open-end generation.\n"
     ]
    },
    {
     "name": "stdout",
     "output_type": "stream",
     "text": [
      "logits is [[0.7672932  0.10547712 0.12722968]]\n",
      "logits is [[0.47368264 0.2344899  0.2918274 ]]\n"
     ]
    },
    {
     "name": "stderr",
     "output_type": "stream",
     "text": [
      "  3%|▎         | 84/2874 [00:13<06:08,  7.56it/s]Setting `pad_token_id` to `eos_token_id`:128001 for open-end generation.\n",
      "  3%|▎         | 85/2874 [00:13<06:10,  7.52it/s]Setting `pad_token_id` to `eos_token_id`:128001 for open-end generation.\n"
     ]
    },
    {
     "name": "stdout",
     "output_type": "stream",
     "text": [
      "logits is [[0.11444299 0.07865544 0.80690163]]\n",
      "logits is [[0.1506092  0.6964098  0.15298094]]\n"
     ]
    },
    {
     "name": "stderr",
     "output_type": "stream",
     "text": [
      "  3%|▎         | 86/2874 [00:13<05:51,  7.93it/s]Setting `pad_token_id` to `eos_token_id`:128001 for open-end generation.\n",
      "  3%|▎         | 87/2874 [00:13<06:43,  6.91it/s]Setting `pad_token_id` to `eos_token_id`:128001 for open-end generation.\n"
     ]
    },
    {
     "name": "stdout",
     "output_type": "stream",
     "text": [
      "logits is [[0.3784831  0.34461278 0.27690417]]\n",
      "logits is [[0.07807913 0.8009895  0.12093133]]\n"
     ]
    },
    {
     "name": "stderr",
     "output_type": "stream",
     "text": [
      "  3%|▎         | 88/2874 [00:13<07:10,  6.47it/s]Setting `pad_token_id` to `eos_token_id`:128001 for open-end generation.\n",
      "  3%|▎         | 89/2874 [00:13<07:00,  6.63it/s]Setting `pad_token_id` to `eos_token_id`:128001 for open-end generation.\n"
     ]
    },
    {
     "name": "stdout",
     "output_type": "stream",
     "text": [
      "logits is [[0.30844766 0.41506168 0.2764907 ]]\n",
      "logits is [[0.59571487 0.22260238 0.18168278]]\n"
     ]
    },
    {
     "name": "stderr",
     "output_type": "stream",
     "text": [
      "  3%|▎         | 90/2874 [00:13<06:49,  6.80it/s]Setting `pad_token_id` to `eos_token_id`:128001 for open-end generation.\n",
      "  3%|▎         | 91/2874 [00:14<06:31,  7.11it/s]Setting `pad_token_id` to `eos_token_id`:128001 for open-end generation.\n"
     ]
    },
    {
     "name": "stdout",
     "output_type": "stream",
     "text": [
      "logits is [[0.57122225 0.19434857 0.23442914]]\n",
      "logits is [[0.06810286 0.8296627  0.1022345 ]]\n"
     ]
    },
    {
     "name": "stderr",
     "output_type": "stream",
     "text": [
      "  3%|▎         | 92/2874 [00:14<07:02,  6.59it/s]Setting `pad_token_id` to `eos_token_id`:128001 for open-end generation.\n",
      "  3%|▎         | 93/2874 [00:14<07:03,  6.57it/s]Setting `pad_token_id` to `eos_token_id`:128001 for open-end generation.\n"
     ]
    },
    {
     "name": "stdout",
     "output_type": "stream",
     "text": [
      "logits is [[0.33583507 0.3631243  0.30104062]]\n",
      "logits is [[0.40453202 0.3301694  0.26529858]]\n"
     ]
    },
    {
     "name": "stderr",
     "output_type": "stream",
     "text": [
      "  3%|▎         | 94/2874 [00:14<06:54,  6.71it/s]Setting `pad_token_id` to `eos_token_id`:128001 for open-end generation.\n",
      "  3%|▎         | 95/2874 [00:14<06:35,  7.03it/s]Setting `pad_token_id` to `eos_token_id`:128001 for open-end generation.\n"
     ]
    },
    {
     "name": "stdout",
     "output_type": "stream",
     "text": [
      "logits is [[0.19012995 0.5332326  0.27663743]]\n",
      "logits is [[0.323752   0.43565592 0.24059206]]\n"
     ]
    },
    {
     "name": "stderr",
     "output_type": "stream",
     "text": [
      "  3%|▎         | 96/2874 [00:14<07:30,  6.17it/s]Setting `pad_token_id` to `eos_token_id`:128001 for open-end generation.\n",
      "  3%|▎         | 97/2874 [00:15<06:58,  6.64it/s]Setting `pad_token_id` to `eos_token_id`:128001 for open-end generation.\n"
     ]
    },
    {
     "name": "stdout",
     "output_type": "stream",
     "text": [
      "logits is [[0.33960357 0.37885517 0.28154126]]\n",
      "logits is [[0.21901868 0.39659157 0.38438973]]\n"
     ]
    },
    {
     "name": "stderr",
     "output_type": "stream",
     "text": [
      "  3%|▎         | 98/2874 [00:15<08:23,  5.52it/s]Setting `pad_token_id` to `eos_token_id`:128001 for open-end generation.\n",
      "  3%|▎         | 99/2874 [00:15<07:36,  6.08it/s]Setting `pad_token_id` to `eos_token_id`:128001 for open-end generation.\n"
     ]
    },
    {
     "name": "stdout",
     "output_type": "stream",
     "text": [
      "logits is [[0.04708461 0.8610876  0.09182779]]\n",
      "logits is [[0.6474507  0.16116321 0.19138606]]\n"
     ]
    },
    {
     "name": "stderr",
     "output_type": "stream",
     "text": [
      "  3%|▎         | 100/2874 [00:15<06:58,  6.63it/s]Setting `pad_token_id` to `eos_token_id`:128001 for open-end generation.\n",
      "  4%|▎         | 101/2874 [00:15<06:24,  7.21it/s]Setting `pad_token_id` to `eos_token_id`:128001 for open-end generation.\n"
     ]
    },
    {
     "name": "stdout",
     "output_type": "stream",
     "text": [
      "logits is [[0.21079336 0.5911846  0.19802204]]\n",
      "logits is [[0.20480217 0.68209535 0.11310249]]\n"
     ]
    },
    {
     "name": "stderr",
     "output_type": "stream",
     "text": [
      "  4%|▎         | 102/2874 [00:15<06:07,  7.54it/s]Setting `pad_token_id` to `eos_token_id`:128001 for open-end generation.\n"
     ]
    },
    {
     "name": "stdout",
     "output_type": "stream",
     "text": [
      "logits is [[0.2741893  0.4246727  0.30113804]]\n"
     ]
    },
    {
     "name": "stderr",
     "output_type": "stream",
     "text": [
      "  4%|▎         | 103/2874 [00:15<07:10,  6.43it/s]Setting `pad_token_id` to `eos_token_id`:128001 for open-end generation.\n"
     ]
    },
    {
     "name": "stdout",
     "output_type": "stream",
     "text": [
      "logits is [[0.68635124 0.12305599 0.19059286]]\n"
     ]
    },
    {
     "name": "stderr",
     "output_type": "stream",
     "text": [
      "  4%|▎         | 104/2874 [00:16<08:29,  5.44it/s]Setting `pad_token_id` to `eos_token_id`:128001 for open-end generation.\n"
     ]
    },
    {
     "name": "stdout",
     "output_type": "stream",
     "text": [
      "logits is [[0.620828   0.19920518 0.17996688]]\n"
     ]
    },
    {
     "name": "stderr",
     "output_type": "stream",
     "text": [
      "  4%|▎         | 105/2874 [00:16<09:22,  4.92it/s]Setting `pad_token_id` to `eos_token_id`:128001 for open-end generation.\n",
      "  4%|▎         | 106/2874 [00:16<08:30,  5.42it/s]Setting `pad_token_id` to `eos_token_id`:128001 for open-end generation.\n"
     ]
    },
    {
     "name": "stdout",
     "output_type": "stream",
     "text": [
      "logits is [[0.5975264  0.07248817 0.3299854 ]]\n",
      "logits is [[0.01646513 0.9131224  0.07041244]]\n"
     ]
    },
    {
     "name": "stderr",
     "output_type": "stream",
     "text": [
      "  4%|▎         | 107/2874 [00:16<08:07,  5.67it/s]Setting `pad_token_id` to `eos_token_id`:128001 for open-end generation.\n",
      "  4%|▍         | 108/2874 [00:16<07:18,  6.30it/s]Setting `pad_token_id` to `eos_token_id`:128001 for open-end generation.\n"
     ]
    },
    {
     "name": "stdout",
     "output_type": "stream",
     "text": [
      "logits is [[0.40077385 0.3322532  0.26697293]]\n",
      "logits is [[0.10347155 0.4028933  0.49363518]]\n"
     ]
    },
    {
     "name": "stderr",
     "output_type": "stream",
     "text": [
      "  4%|▍         | 109/2874 [00:16<06:44,  6.84it/s]Setting `pad_token_id` to `eos_token_id`:128001 for open-end generation.\n",
      "  4%|▍         | 110/2874 [00:17<06:18,  7.31it/s]Setting `pad_token_id` to `eos_token_id`:128001 for open-end generation.\n"
     ]
    },
    {
     "name": "stdout",
     "output_type": "stream",
     "text": [
      "logits is [[0.20228553 0.24784541 0.54986906]]\n",
      "logits is [[0.11853718 0.29800242 0.58346045]]\n"
     ]
    },
    {
     "name": "stderr",
     "output_type": "stream",
     "text": [
      "  4%|▍         | 111/2874 [00:17<05:57,  7.74it/s]Setting `pad_token_id` to `eos_token_id`:128001 for open-end generation.\n",
      "  4%|▍         | 112/2874 [00:17<05:40,  8.10it/s]Setting `pad_token_id` to `eos_token_id`:128001 for open-end generation.\n"
     ]
    },
    {
     "name": "stdout",
     "output_type": "stream",
     "text": [
      "logits is [[0.3831146  0.32769528 0.28919008]]\n",
      "logits is [[0.2666815  0.24281625 0.49050233]]\n"
     ]
    },
    {
     "name": "stderr",
     "output_type": "stream",
     "text": [
      "  4%|▍         | 113/2874 [00:17<05:30,  8.36it/s]Setting `pad_token_id` to `eos_token_id`:128001 for open-end generation.\n",
      "  4%|▍         | 114/2874 [00:17<05:21,  8.57it/s]Setting `pad_token_id` to `eos_token_id`:128001 for open-end generation.\n"
     ]
    },
    {
     "name": "stdout",
     "output_type": "stream",
     "text": [
      "logits is [[0.44515342 0.25364077 0.30120587]]\n",
      "logits is [[0.37277144 0.36699215 0.2602364 ]]\n"
     ]
    },
    {
     "name": "stderr",
     "output_type": "stream",
     "text": [
      "  4%|▍         | 115/2874 [00:17<06:09,  7.48it/s]Setting `pad_token_id` to `eos_token_id`:128001 for open-end generation.\n",
      "  4%|▍         | 116/2874 [00:17<06:34,  6.99it/s]Setting `pad_token_id` to `eos_token_id`:128001 for open-end generation.\n"
     ]
    },
    {
     "name": "stdout",
     "output_type": "stream",
     "text": [
      "logits is [[0.20469746 0.3482021  0.44710037]]\n",
      "logits is [[0.4988199  0.29324108 0.20793906]]\n"
     ]
    },
    {
     "name": "stderr",
     "output_type": "stream",
     "text": [
      "  4%|▍         | 117/2874 [00:18<07:43,  5.95it/s]Setting `pad_token_id` to `eos_token_id`:128001 for open-end generation.\n",
      "  4%|▍         | 118/2874 [00:18<07:21,  6.24it/s]Setting `pad_token_id` to `eos_token_id`:128001 for open-end generation.\n"
     ]
    },
    {
     "name": "stdout",
     "output_type": "stream",
     "text": [
      "logits is [[0.3675422  0.42303848 0.20941924]]\n",
      "logits is [[0.6502901  0.15445742 0.1952525 ]]\n"
     ]
    },
    {
     "name": "stderr",
     "output_type": "stream",
     "text": [
      "  4%|▍         | 119/2874 [00:18<06:48,  6.75it/s]Setting `pad_token_id` to `eos_token_id`:128001 for open-end generation.\n",
      "  4%|▍         | 120/2874 [00:18<06:32,  7.02it/s]Setting `pad_token_id` to `eos_token_id`:128001 for open-end generation.\n"
     ]
    },
    {
     "name": "stdout",
     "output_type": "stream",
     "text": [
      "logits is [[0.509402   0.13497809 0.35561988]]\n",
      "logits is [[0.23899831 0.16947518 0.5915265 ]]\n"
     ]
    },
    {
     "name": "stderr",
     "output_type": "stream",
     "text": [
      "  4%|▍         | 121/2874 [00:18<06:29,  7.08it/s]Setting `pad_token_id` to `eos_token_id`:128001 for open-end generation.\n",
      "  4%|▍         | 122/2874 [00:18<06:58,  6.57it/s]Setting `pad_token_id` to `eos_token_id`:128001 for open-end generation.\n"
     ]
    },
    {
     "name": "stdout",
     "output_type": "stream",
     "text": [
      "logits is [[0.8029184  0.07585913 0.12122254]]\n",
      "logits is [[0.7256689  0.15210846 0.12222259]]\n"
     ]
    },
    {
     "name": "stderr",
     "output_type": "stream",
     "text": [
      "  4%|▍         | 123/2874 [00:18<06:32,  7.02it/s]Setting `pad_token_id` to `eos_token_id`:128001 for open-end generation.\n",
      "  4%|▍         | 124/2874 [00:19<06:22,  7.19it/s]Setting `pad_token_id` to `eos_token_id`:128001 for open-end generation.\n"
     ]
    },
    {
     "name": "stdout",
     "output_type": "stream",
     "text": [
      "logits is [[0.3220405  0.37066635 0.30729318]]\n",
      "logits is [[0.26627865 0.52955836 0.20416294]]\n"
     ]
    },
    {
     "name": "stderr",
     "output_type": "stream",
     "text": [
      "  4%|▍         | 125/2874 [00:20<17:56,  2.55it/s]"
     ]
    },
    {
     "name": "stdout",
     "output_type": "stream",
     "text": [
      "logits is [[0.5455681  0.26588866 0.1885433 ]]\n"
     ]
    },
    {
     "name": "stderr",
     "output_type": "stream",
     "text": [
      "Setting `pad_token_id` to `eos_token_id`:128001 for open-end generation.\n",
      "  4%|▍         | 126/2874 [00:20<19:59,  2.29it/s]Setting `pad_token_id` to `eos_token_id`:128001 for open-end generation.\n"
     ]
    },
    {
     "name": "stdout",
     "output_type": "stream",
     "text": [
      "logits is [[0.36188653 0.356276   0.28183752]]\n"
     ]
    },
    {
     "name": "stderr",
     "output_type": "stream",
     "text": [
      "  4%|▍         | 127/2874 [00:20<18:25,  2.48it/s]Setting `pad_token_id` to `eos_token_id`:128001 for open-end generation.\n",
      "  4%|▍         | 128/2874 [00:21<15:10,  3.02it/s]"
     ]
    },
    {
     "name": "stdout",
     "output_type": "stream",
     "text": [
      "logits is [[0.0178147  0.00190722 0.9802781 ]]\n",
      "logits is [[0.5687998  0.17078468 0.26041552]]\n"
     ]
    },
    {
     "name": "stderr",
     "output_type": "stream",
     "text": [
      "Setting `pad_token_id` to `eos_token_id`:128001 for open-end generation.\n",
      "  4%|▍         | 129/2874 [00:21<14:31,  3.15it/s]Setting `pad_token_id` to `eos_token_id`:128001 for open-end generation.\n",
      "  5%|▍         | 130/2874 [00:21<11:49,  3.87it/s]Setting `pad_token_id` to `eos_token_id`:128001 for open-end generation.\n"
     ]
    },
    {
     "name": "stdout",
     "output_type": "stream",
     "text": [
      "logits is [[0.28229016 0.44410476 0.27360502]]\n",
      "logits is [[0.13661334 0.22174534 0.6416414 ]]\n"
     ]
    },
    {
     "name": "stderr",
     "output_type": "stream",
     "text": [
      "  5%|▍         | 131/2874 [00:21<10:08,  4.51it/s]Setting `pad_token_id` to `eos_token_id`:128001 for open-end generation.\n",
      "  5%|▍         | 132/2874 [00:21<09:07,  5.01it/s]Setting `pad_token_id` to `eos_token_id`:128001 for open-end generation.\n"
     ]
    },
    {
     "name": "stdout",
     "output_type": "stream",
     "text": [
      "logits is [[0.34513295 0.3731777  0.28168932]]\n",
      "logits is [[0.18734613 0.39046285 0.42219102]]\n"
     ]
    },
    {
     "name": "stderr",
     "output_type": "stream",
     "text": [
      "  5%|▍         | 133/2874 [00:21<08:35,  5.31it/s]Setting `pad_token_id` to `eos_token_id`:128001 for open-end generation.\n"
     ]
    },
    {
     "name": "stdout",
     "output_type": "stream",
     "text": [
      "logits is [[0.44358632 0.09153921 0.46487448]]\n"
     ]
    },
    {
     "name": "stderr",
     "output_type": "stream",
     "text": [
      "  5%|▍         | 134/2874 [00:22<09:13,  4.95it/s]Setting `pad_token_id` to `eos_token_id`:128001 for open-end generation.\n"
     ]
    },
    {
     "name": "stdout",
     "output_type": "stream",
     "text": [
      "logits is [[0.7966897  0.07527065 0.12803969]]\n"
     ]
    },
    {
     "name": "stderr",
     "output_type": "stream",
     "text": [
      "  5%|▍         | 135/2874 [00:22<09:42,  4.70it/s]Setting `pad_token_id` to `eos_token_id`:128001 for open-end generation.\n",
      "  5%|▍         | 136/2874 [00:22<08:19,  5.48it/s]Setting `pad_token_id` to `eos_token_id`:128001 for open-end generation.\n"
     ]
    },
    {
     "name": "stdout",
     "output_type": "stream",
     "text": [
      "logits is [[0.5718189  0.22745384 0.20072731]]\n",
      "logits is [[0.8598701  0.02556326 0.1145666 ]]\n"
     ]
    },
    {
     "name": "stderr",
     "output_type": "stream",
     "text": [
      "  5%|▍         | 137/2874 [00:22<07:26,  6.14it/s]Setting `pad_token_id` to `eos_token_id`:128001 for open-end generation.\n",
      "  5%|▍         | 138/2874 [00:22<06:44,  6.77it/s]Setting `pad_token_id` to `eos_token_id`:128001 for open-end generation.\n"
     ]
    },
    {
     "name": "stdout",
     "output_type": "stream",
     "text": [
      "logits is [[0.80627334 0.0641467  0.12957992]]\n",
      "logits is [[0.352689 0.326184 0.321127]]\n"
     ]
    },
    {
     "name": "stderr",
     "output_type": "stream",
     "text": [
      "  5%|▍         | 139/2874 [00:22<07:08,  6.38it/s]Setting `pad_token_id` to `eos_token_id`:128001 for open-end generation.\n"
     ]
    },
    {
     "name": "stdout",
     "output_type": "stream",
     "text": [
      "logits is [[0.11739834 0.7536648  0.12893684]]\n"
     ]
    },
    {
     "name": "stderr",
     "output_type": "stream",
     "text": [
      "  5%|▍         | 140/2874 [00:23<08:37,  5.28it/s]Setting `pad_token_id` to `eos_token_id`:128001 for open-end generation.\n",
      "  5%|▍         | 141/2874 [00:23<07:38,  5.96it/s]Setting `pad_token_id` to `eos_token_id`:128001 for open-end generation.\n"
     ]
    },
    {
     "name": "stdout",
     "output_type": "stream",
     "text": [
      "logits is [[0.43114218 0.4962416  0.0726162 ]]\n",
      "logits is [[0.914857   0.01989847 0.06524456]]\n"
     ]
    },
    {
     "name": "stderr",
     "output_type": "stream",
     "text": [
      "  5%|▍         | 142/2874 [00:23<07:06,  6.41it/s]Setting `pad_token_id` to `eos_token_id`:128001 for open-end generation.\n",
      "  5%|▍         | 143/2874 [00:23<06:34,  6.91it/s]Setting `pad_token_id` to `eos_token_id`:128001 for open-end generation.\n"
     ]
    },
    {
     "name": "stdout",
     "output_type": "stream",
     "text": [
      "logits is [[0.5430297  0.24096797 0.2160023 ]]\n",
      "logits is [[0.06475835 0.55075365 0.38448802]]\n"
     ]
    },
    {
     "name": "stderr",
     "output_type": "stream",
     "text": [
      "  5%|▌         | 144/2874 [00:23<07:14,  6.28it/s]Setting `pad_token_id` to `eos_token_id`:128001 for open-end generation.\n",
      "  5%|▌         | 145/2874 [00:23<06:31,  6.96it/s]Setting `pad_token_id` to `eos_token_id`:128001 for open-end generation.\n"
     ]
    },
    {
     "name": "stdout",
     "output_type": "stream",
     "text": [
      "logits is [[0.56436086 0.20761676 0.2280224 ]]\n",
      "logits is [[0.7809847  0.04475399 0.17426124]]\n"
     ]
    },
    {
     "name": "stderr",
     "output_type": "stream",
     "text": [
      "  5%|▌         | 146/2874 [00:23<06:02,  7.52it/s]Setting `pad_token_id` to `eos_token_id`:128001 for open-end generation.\n",
      "  5%|▌         | 147/2874 [00:24<06:34,  6.91it/s]Setting `pad_token_id` to `eos_token_id`:128001 for open-end generation.\n"
     ]
    },
    {
     "name": "stdout",
     "output_type": "stream",
     "text": [
      "logits is [[0.8429859  0.04984037 0.10717364]]\n",
      "logits is [[0.27688807 0.4710025  0.25210947]]\n"
     ]
    },
    {
     "name": "stderr",
     "output_type": "stream",
     "text": [
      "  5%|▌         | 148/2874 [00:24<07:18,  6.21it/s]Setting `pad_token_id` to `eos_token_id`:128001 for open-end generation.\n",
      "  5%|▌         | 149/2874 [00:24<06:50,  6.63it/s]Setting `pad_token_id` to `eos_token_id`:128001 for open-end generation.\n"
     ]
    },
    {
     "name": "stdout",
     "output_type": "stream",
     "text": [
      "logits is [[0.545157   0.14903763 0.30580536]]\n",
      "logits is [[0.45852423 0.2960455  0.24543035]]\n"
     ]
    },
    {
     "name": "stderr",
     "output_type": "stream",
     "text": [
      "  5%|▌         | 150/2874 [00:24<06:19,  7.18it/s]Setting `pad_token_id` to `eos_token_id`:128001 for open-end generation.\n",
      "  5%|▌         | 151/2874 [00:24<05:58,  7.59it/s]Setting `pad_token_id` to `eos_token_id`:128001 for open-end generation.\n"
     ]
    },
    {
     "name": "stdout",
     "output_type": "stream",
     "text": [
      "logits is [[0.5831388  0.10956854 0.30729258]]\n",
      "logits is [[0.3081578  0.22195774 0.46988454]]\n"
     ]
    },
    {
     "name": "stderr",
     "output_type": "stream",
     "text": [
      "  5%|▌         | 152/2874 [00:24<05:40,  8.00it/s]Setting `pad_token_id` to `eos_token_id`:128001 for open-end generation.\n",
      "  5%|▌         | 153/2874 [00:24<06:09,  7.36it/s]Setting `pad_token_id` to `eos_token_id`:128001 for open-end generation.\n"
     ]
    },
    {
     "name": "stdout",
     "output_type": "stream",
     "text": [
      "logits is [[0.45871463 0.34088776 0.20039758]]\n",
      "logits is [[0.6939948  0.08419113 0.22181408]]\n"
     ]
    },
    {
     "name": "stderr",
     "output_type": "stream",
     "text": [
      "  5%|▌         | 154/2874 [00:25<06:26,  7.03it/s]Setting `pad_token_id` to `eos_token_id`:128001 for open-end generation.\n",
      "  5%|▌         | 155/2874 [00:25<06:00,  7.54it/s]Setting `pad_token_id` to `eos_token_id`:128001 for open-end generation.\n"
     ]
    },
    {
     "name": "stdout",
     "output_type": "stream",
     "text": [
      "logits is [[0.65880704 0.14026812 0.2009248 ]]\n",
      "logits is [[0.3385336  0.18405752 0.4774089 ]]\n"
     ]
    },
    {
     "name": "stderr",
     "output_type": "stream",
     "text": [
      "  5%|▌         | 156/2874 [00:25<06:25,  7.06it/s]Setting `pad_token_id` to `eos_token_id`:128001 for open-end generation.\n",
      "  5%|▌         | 157/2874 [00:25<05:58,  7.57it/s]Setting `pad_token_id` to `eos_token_id`:128001 for open-end generation.\n"
     ]
    },
    {
     "name": "stdout",
     "output_type": "stream",
     "text": [
      "logits is [[0.50954366 0.26434776 0.22610863]]\n",
      "logits is [[0.608172   0.19438346 0.19744454]]\n"
     ]
    },
    {
     "name": "stderr",
     "output_type": "stream",
     "text": [
      "  5%|▌         | 158/2874 [00:25<05:48,  7.80it/s]Setting `pad_token_id` to `eos_token_id`:128001 for open-end generation.\n",
      "  6%|▌         | 159/2874 [00:25<05:38,  8.03it/s]Setting `pad_token_id` to `eos_token_id`:128001 for open-end generation.\n"
     ]
    },
    {
     "name": "stdout",
     "output_type": "stream",
     "text": [
      "logits is [[0.27236778 0.4284947  0.2991375 ]]\n",
      "logits is [[0.15109307 0.18225302 0.6666539 ]]\n"
     ]
    },
    {
     "name": "stderr",
     "output_type": "stream",
     "text": [
      "  6%|▌         | 160/2874 [00:25<05:41,  7.94it/s]Setting `pad_token_id` to `eos_token_id`:128001 for open-end generation.\n"
     ]
    },
    {
     "name": "stdout",
     "output_type": "stream",
     "text": [
      "logits is [[0.1505277  0.64372534 0.20574698]]\n"
     ]
    },
    {
     "name": "stderr",
     "output_type": "stream",
     "text": [
      "  6%|▌         | 161/2874 [00:26<07:19,  6.17it/s]Setting `pad_token_id` to `eos_token_id`:128001 for open-end generation.\n",
      "  6%|▌         | 162/2874 [00:26<06:44,  6.70it/s]Setting `pad_token_id` to `eos_token_id`:128001 for open-end generation.\n"
     ]
    },
    {
     "name": "stdout",
     "output_type": "stream",
     "text": [
      "logits is [[0.33636543 0.40573418 0.25790033]]\n",
      "logits is [[0.30798203 0.4770119  0.21500611]]\n"
     ]
    },
    {
     "name": "stderr",
     "output_type": "stream",
     "text": [
      "  6%|▌         | 163/2874 [00:26<06:18,  7.16it/s]Setting `pad_token_id` to `eos_token_id`:128001 for open-end generation.\n",
      "  6%|▌         | 164/2874 [00:26<06:12,  7.28it/s]Setting `pad_token_id` to `eos_token_id`:128001 for open-end generation.\n"
     ]
    },
    {
     "name": "stdout",
     "output_type": "stream",
     "text": [
      "logits is [[0.16828758 0.15564057 0.6760718 ]]\n",
      "logits is [[0.47468442 0.27905256 0.24626303]]\n"
     ]
    },
    {
     "name": "stderr",
     "output_type": "stream",
     "text": [
      "  6%|▌         | 165/2874 [00:26<05:57,  7.57it/s]Setting `pad_token_id` to `eos_token_id`:128001 for open-end generation.\n",
      "  6%|▌         | 166/2874 [00:26<05:40,  7.96it/s]Setting `pad_token_id` to `eos_token_id`:128001 for open-end generation.\n"
     ]
    },
    {
     "name": "stdout",
     "output_type": "stream",
     "text": [
      "logits is [[0.30933475 0.45716712 0.23349811]]\n",
      "logits is [[0.2425801  0.5466627  0.21075724]]\n"
     ]
    },
    {
     "name": "stderr",
     "output_type": "stream",
     "text": [
      "  6%|▌         | 167/2874 [00:26<07:26,  6.07it/s]Setting `pad_token_id` to `eos_token_id`:128001 for open-end generation.\n",
      "  6%|▌         | 168/2874 [00:27<06:46,  6.66it/s]Setting `pad_token_id` to `eos_token_id`:128001 for open-end generation.\n"
     ]
    },
    {
     "name": "stdout",
     "output_type": "stream",
     "text": [
      "logits is [[0.879107   0.08403642 0.03685649]]\n",
      "logits is [[0.15795128 0.12301259 0.71903616]]\n"
     ]
    },
    {
     "name": "stderr",
     "output_type": "stream",
     "text": [
      "  6%|▌         | 169/2874 [00:27<06:25,  7.02it/s]Setting `pad_token_id` to `eos_token_id`:128001 for open-end generation.\n"
     ]
    },
    {
     "name": "stdout",
     "output_type": "stream",
     "text": [
      "logits is [[0.6316302  0.14315516 0.22521468]]\n"
     ]
    },
    {
     "name": "stderr",
     "output_type": "stream",
     "text": [
      "  6%|▌         | 170/2874 [00:27<08:01,  5.61it/s]Setting `pad_token_id` to `eos_token_id`:128001 for open-end generation.\n",
      "  6%|▌         | 171/2874 [00:27<07:18,  6.16it/s]Setting `pad_token_id` to `eos_token_id`:128001 for open-end generation.\n"
     ]
    },
    {
     "name": "stdout",
     "output_type": "stream",
     "text": [
      "logits is [[0.46654895 0.35216963 0.18128139]]\n",
      "logits is [[0.32119894 0.27906248 0.39973855]]\n"
     ]
    },
    {
     "name": "stderr",
     "output_type": "stream",
     "text": [
      "  6%|▌         | 172/2874 [00:27<06:35,  6.83it/s]Setting `pad_token_id` to `eos_token_id`:128001 for open-end generation.\n",
      "  6%|▌         | 173/2874 [00:27<06:31,  6.89it/s]Setting `pad_token_id` to `eos_token_id`:128001 for open-end generation.\n"
     ]
    },
    {
     "name": "stdout",
     "output_type": "stream",
     "text": [
      "logits is [[0.5157874  0.22887929 0.25533327]]\n",
      "logits is [[0.18034813 0.5731452  0.24650669]]\n"
     ]
    },
    {
     "name": "stderr",
     "output_type": "stream",
     "text": [
      "  6%|▌         | 174/2874 [00:27<06:05,  7.38it/s]Setting `pad_token_id` to `eos_token_id`:128001 for open-end generation.\n"
     ]
    },
    {
     "name": "stdout",
     "output_type": "stream",
     "text": [
      "logits is [[0.8110031  0.05025057 0.13874628]]\n"
     ]
    },
    {
     "name": "stderr",
     "output_type": "stream",
     "text": [
      "  6%|▌         | 175/2874 [00:28<07:25,  6.06it/s]Setting `pad_token_id` to `eos_token_id`:128001 for open-end generation.\n",
      "  6%|▌         | 176/2874 [00:28<07:05,  6.34it/s]Setting `pad_token_id` to `eos_token_id`:128001 for open-end generation.\n"
     ]
    },
    {
     "name": "stdout",
     "output_type": "stream",
     "text": [
      "logits is [[0.48687246 0.25656378 0.25656378]]\n",
      "logits is [[0.26058775 0.486842   0.2525703 ]]\n"
     ]
    },
    {
     "name": "stderr",
     "output_type": "stream",
     "text": [
      "  6%|▌         | 177/2874 [00:28<06:41,  6.71it/s]Setting `pad_token_id` to `eos_token_id`:128001 for open-end generation.\n",
      "  6%|▌         | 178/2874 [00:28<07:18,  6.15it/s]"
     ]
    },
    {
     "name": "stdout",
     "output_type": "stream",
     "text": [
      "logits is [[0.21104543 0.40680072 0.3821539 ]]\n",
      "logits is [[0.417971   0.32046947 0.26155958]]\n"
     ]
    },
    {
     "name": "stderr",
     "output_type": "stream",
     "text": [
      "Setting `pad_token_id` to `eos_token_id`:128001 for open-end generation.\n",
      "  6%|▌         | 179/2874 [00:28<07:15,  6.19it/s]Setting `pad_token_id` to `eos_token_id`:128001 for open-end generation.\n"
     ]
    },
    {
     "name": "stdout",
     "output_type": "stream",
     "text": [
      "logits is [[0.22339475 0.43060467 0.34600058]]\n"
     ]
    },
    {
     "name": "stderr",
     "output_type": "stream",
     "text": [
      "  6%|▋         | 180/2874 [00:29<08:27,  5.31it/s]Setting `pad_token_id` to `eos_token_id`:128001 for open-end generation.\n",
      "  6%|▋         | 181/2874 [00:29<07:28,  6.00it/s]Setting `pad_token_id` to `eos_token_id`:128001 for open-end generation.\n"
     ]
    },
    {
     "name": "stdout",
     "output_type": "stream",
     "text": [
      "logits is [[0.44070694 0.24433406 0.31495905]]\n",
      "logits is [[0.4809112  0.21340305 0.30568576]]\n"
     ]
    },
    {
     "name": "stderr",
     "output_type": "stream",
     "text": [
      "  6%|▋         | 182/2874 [00:29<08:03,  5.57it/s]Setting `pad_token_id` to `eos_token_id`:128001 for open-end generation.\n",
      "  6%|▋         | 183/2874 [00:29<07:18,  6.14it/s]Setting `pad_token_id` to `eos_token_id`:128001 for open-end generation.\n"
     ]
    },
    {
     "name": "stdout",
     "output_type": "stream",
     "text": [
      "logits is [[0.64648086 0.17399797 0.17952125]]\n",
      "logits is [[0.21167919 0.5664829  0.22183788]]\n"
     ]
    },
    {
     "name": "stderr",
     "output_type": "stream",
     "text": [
      "  6%|▋         | 184/2874 [00:29<06:43,  6.66it/s]Setting `pad_token_id` to `eos_token_id`:128001 for open-end generation.\n",
      "  6%|▋         | 185/2874 [00:29<06:15,  7.16it/s]Setting `pad_token_id` to `eos_token_id`:128001 for open-end generation.\n"
     ]
    },
    {
     "name": "stdout",
     "output_type": "stream",
     "text": [
      "logits is [[0.13714842 0.13292882 0.7299228 ]]\n",
      "logits is [[0.48863384 0.24570052 0.26566562]]\n"
     ]
    },
    {
     "name": "stderr",
     "output_type": "stream",
     "text": [
      "  6%|▋         | 186/2874 [00:30<08:00,  5.59it/s]Setting `pad_token_id` to `eos_token_id`:128001 for open-end generation.\n",
      "  7%|▋         | 187/2874 [00:30<08:13,  5.44it/s]"
     ]
    },
    {
     "name": "stdout",
     "output_type": "stream",
     "text": [
      "logits is [[0.532037   0.16481738 0.30314556]]\n",
      "logits is [[0.12598786 0.74802434 0.12598786]]\n"
     ]
    },
    {
     "name": "stderr",
     "output_type": "stream",
     "text": [
      "Setting `pad_token_id` to `eos_token_id`:128001 for open-end generation.\n",
      "  7%|▋         | 188/2874 [00:30<07:30,  5.97it/s]Setting `pad_token_id` to `eos_token_id`:128001 for open-end generation.\n",
      "  7%|▋         | 189/2874 [00:30<07:13,  6.20it/s]Setting `pad_token_id` to `eos_token_id`:128001 for open-end generation.\n"
     ]
    },
    {
     "name": "stdout",
     "output_type": "stream",
     "text": [
      "logits is [[0.5478263  0.26284993 0.18932371]]\n",
      "logits is [[0.31022188 0.44437236 0.24540573]]\n"
     ]
    },
    {
     "name": "stderr",
     "output_type": "stream",
     "text": [
      "  7%|▋         | 190/2874 [00:30<06:44,  6.64it/s]Setting `pad_token_id` to `eos_token_id`:128001 for open-end generation.\n",
      "  7%|▋         | 191/2874 [00:30<06:39,  6.71it/s]Setting `pad_token_id` to `eos_token_id`:128001 for open-end generation.\n"
     ]
    },
    {
     "name": "stdout",
     "output_type": "stream",
     "text": [
      "logits is [[0.24710815 0.4405179  0.31237397]]\n",
      "logits is [[0.35592863 0.33962947 0.30444187]]\n"
     ]
    },
    {
     "name": "stderr",
     "output_type": "stream",
     "text": [
      "  7%|▋         | 192/2874 [00:30<07:18,  6.12it/s]Setting `pad_token_id` to `eos_token_id`:128001 for open-end generation.\n",
      "  7%|▋         | 193/2874 [00:31<06:47,  6.58it/s]Setting `pad_token_id` to `eos_token_id`:128001 for open-end generation.\n"
     ]
    },
    {
     "name": "stdout",
     "output_type": "stream",
     "text": [
      "logits is [[0.30050105 0.41720435 0.28229457]]\n",
      "logits is [[0.43828893 0.27427423 0.2874369 ]]\n"
     ]
    },
    {
     "name": "stderr",
     "output_type": "stream",
     "text": [
      "  7%|▋         | 194/2874 [00:31<06:33,  6.81it/s]Setting `pad_token_id` to `eos_token_id`:128001 for open-end generation.\n",
      "  7%|▋         | 195/2874 [00:31<06:09,  7.25it/s]Setting `pad_token_id` to `eos_token_id`:128001 for open-end generation.\n"
     ]
    },
    {
     "name": "stdout",
     "output_type": "stream",
     "text": [
      "logits is [[0.2516576  0.4927217  0.25562066]]\n",
      "logits is [[0.31678024 0.30703393 0.37618583]]\n"
     ]
    },
    {
     "name": "stderr",
     "output_type": "stream",
     "text": [
      "  7%|▋         | 196/2874 [00:31<07:42,  5.78it/s]Setting `pad_token_id` to `eos_token_id`:128001 for open-end generation.\n"
     ]
    },
    {
     "name": "stdout",
     "output_type": "stream",
     "text": [
      "logits is [[0.30460688 0.11053699 0.5848561 ]]\n"
     ]
    },
    {
     "name": "stderr",
     "output_type": "stream",
     "text": [
      "  7%|▋         | 197/2874 [00:31<08:17,  5.38it/s]Setting `pad_token_id` to `eos_token_id`:128001 for open-end generation.\n",
      "  7%|▋         | 198/2874 [00:31<07:53,  5.65it/s]Setting `pad_token_id` to `eos_token_id`:128001 for open-end generation.\n"
     ]
    },
    {
     "name": "stdout",
     "output_type": "stream",
     "text": [
      "logits is [[0.24916565 0.22335064 0.5274837 ]]\n",
      "logits is [[0.4455598  0.23849098 0.31594923]]\n"
     ]
    },
    {
     "name": "stderr",
     "output_type": "stream",
     "text": [
      "  7%|▋         | 199/2874 [00:32<07:09,  6.22it/s]Setting `pad_token_id` to `eos_token_id`:128001 for open-end generation.\n",
      "  7%|▋         | 200/2874 [00:32<07:35,  5.87it/s]"
     ]
    },
    {
     "name": "stdout",
     "output_type": "stream",
     "text": [
      "logits is [[0.38285545 0.33263057 0.284514  ]]\n",
      "logits is [[0.26904827 0.45766658 0.27328518]]\n"
     ]
    },
    {
     "name": "stderr",
     "output_type": "stream",
     "text": [
      "Setting `pad_token_id` to `eos_token_id`:128001 for open-end generation.\n",
      "  7%|▋         | 201/2874 [00:32<07:56,  5.61it/s]Setting `pad_token_id` to `eos_token_id`:128001 for open-end generation.\n",
      "  7%|▋         | 202/2874 [00:32<07:25,  6.00it/s]Setting `pad_token_id` to `eos_token_id`:128001 for open-end generation.\n"
     ]
    },
    {
     "name": "stdout",
     "output_type": "stream",
     "text": [
      "logits is [[0.3015892  0.3872482  0.31116268]]\n",
      "logits is [[0.85634786 0.03646769 0.1071845 ]]\n"
     ]
    },
    {
     "name": "stderr",
     "output_type": "stream",
     "text": [
      "  7%|▋         | 203/2874 [00:32<06:40,  6.67it/s]Setting `pad_token_id` to `eos_token_id`:128001 for open-end generation.\n",
      "  7%|▋         | 204/2874 [00:32<06:32,  6.81it/s]Setting `pad_token_id` to `eos_token_id`:128001 for open-end generation.\n"
     ]
    },
    {
     "name": "stdout",
     "output_type": "stream",
     "text": [
      "logits is [[0.314904  0.4510792 0.2340168]]\n",
      "logits is [[0.25716284 0.43744874 0.30538842]]\n"
     ]
    },
    {
     "name": "stderr",
     "output_type": "stream",
     "text": [
      "  7%|▋         | 205/2874 [00:32<06:14,  7.13it/s]Setting `pad_token_id` to `eos_token_id`:128001 for open-end generation.\n",
      "  7%|▋         | 206/2874 [00:33<06:12,  7.17it/s]Setting `pad_token_id` to `eos_token_id`:128001 for open-end generation.\n"
     ]
    },
    {
     "name": "stdout",
     "output_type": "stream",
     "text": [
      "logits is [[0.2160023  0.5430297  0.24096797]]\n",
      "logits is [[0.7161453  0.03246404 0.25139064]]\n"
     ]
    },
    {
     "name": "stderr",
     "output_type": "stream",
     "text": [
      "  7%|▋         | 207/2874 [00:33<06:57,  6.39it/s]Setting `pad_token_id` to `eos_token_id`:128001 for open-end generation.\n",
      "  7%|▋         | 208/2874 [00:33<06:42,  6.63it/s]Setting `pad_token_id` to `eos_token_id`:128001 for open-end generation.\n"
     ]
    },
    {
     "name": "stdout",
     "output_type": "stream",
     "text": [
      "logits is [[0.18265375 0.63752425 0.17982197]]\n",
      "logits is [[0.6014147  0.23922624 0.15935902]]\n"
     ]
    },
    {
     "name": "stderr",
     "output_type": "stream",
     "text": [
      "  7%|▋         | 209/2874 [00:33<08:03,  5.51it/s]Setting `pad_token_id` to `eos_token_id`:128001 for open-end generation.\n"
     ]
    },
    {
     "name": "stdout",
     "output_type": "stream",
     "text": [
      "logits is [[0.66588354 0.01834428 0.31577218]]\n"
     ]
    },
    {
     "name": "stderr",
     "output_type": "stream",
     "text": [
      "  7%|▋         | 210/2874 [00:33<08:59,  4.94it/s]Setting `pad_token_id` to `eos_token_id`:128001 for open-end generation.\n",
      "  7%|▋         | 211/2874 [00:34<07:54,  5.61it/s]Setting `pad_token_id` to `eos_token_id`:128001 for open-end generation.\n"
     ]
    },
    {
     "name": "stdout",
     "output_type": "stream",
     "text": [
      "logits is [[0.37942865 0.32965332 0.29091805]]\n",
      "logits is [[0.22531798 0.1810481  0.59363383]]\n"
     ]
    },
    {
     "name": "stderr",
     "output_type": "stream",
     "text": [
      "  7%|▋         | 212/2874 [00:34<07:16,  6.10it/s]Setting `pad_token_id` to `eos_token_id`:128001 for open-end generation.\n",
      "  7%|▋         | 213/2874 [00:34<07:41,  5.77it/s]"
     ]
    },
    {
     "name": "stdout",
     "output_type": "stream",
     "text": [
      "logits is [[0.2969826  0.5051844  0.19783305]]\n",
      "logits is [[0.05157457 0.7819406  0.16648476]]\n"
     ]
    },
    {
     "name": "stderr",
     "output_type": "stream",
     "text": [
      "Setting `pad_token_id` to `eos_token_id`:128001 for open-end generation.\n",
      "  7%|▋         | 214/2874 [00:34<07:17,  6.08it/s]Setting `pad_token_id` to `eos_token_id`:128001 for open-end generation.\n",
      "  7%|▋         | 215/2874 [00:34<07:19,  6.05it/s]Setting `pad_token_id` to `eos_token_id`:128001 for open-end generation.\n"
     ]
    },
    {
     "name": "stdout",
     "output_type": "stream",
     "text": [
      "logits is [[0.03975051 0.66190535 0.29834414]]\n",
      "logits is [[0.3229726  0.34380254 0.33322483]]\n"
     ]
    },
    {
     "name": "stderr",
     "output_type": "stream",
     "text": [
      "  8%|▊         | 216/2874 [00:34<07:13,  6.14it/s]Setting `pad_token_id` to `eos_token_id`:128001 for open-end generation.\n",
      "  8%|▊         | 217/2874 [00:35<07:25,  5.97it/s]Setting `pad_token_id` to `eos_token_id`:128001 for open-end generation.\n"
     ]
    },
    {
     "name": "stdout",
     "output_type": "stream",
     "text": [
      "logits is [[0.805888   0.05837833 0.13573368]]\n",
      "logits is [[0.05069841 0.85749865 0.09180296]]\n"
     ]
    },
    {
     "name": "stderr",
     "output_type": "stream",
     "text": [
      "  8%|▊         | 218/2874 [00:35<06:43,  6.58it/s]Setting `pad_token_id` to `eos_token_id`:128001 for open-end generation.\n",
      "  8%|▊         | 219/2874 [00:35<07:02,  6.28it/s]Setting `pad_token_id` to `eos_token_id`:128001 for open-end generation.\n"
     ]
    },
    {
     "name": "stdout",
     "output_type": "stream",
     "text": [
      "logits is [[0.35985577 0.32257262 0.3175716 ]]\n",
      "logits is [[0.34743643 0.40619433 0.24636932]]\n"
     ]
    },
    {
     "name": "stderr",
     "output_type": "stream",
     "text": [
      "  8%|▊         | 220/2874 [00:35<07:13,  6.12it/s]Setting `pad_token_id` to `eos_token_id`:128001 for open-end generation.\n",
      "  8%|▊         | 221/2874 [00:35<06:43,  6.58it/s]Setting `pad_token_id` to `eos_token_id`:128001 for open-end generation.\n"
     ]
    },
    {
     "name": "stdout",
     "output_type": "stream",
     "text": [
      "logits is [[0.6484972  0.08116894 0.27033386]]\n",
      "logits is [[0.8828835  0.03370237 0.08341417]]\n"
     ]
    },
    {
     "name": "stderr",
     "output_type": "stream",
     "text": [
      "  8%|▊         | 222/2874 [00:35<07:04,  6.24it/s]Setting `pad_token_id` to `eos_token_id`:128001 for open-end generation.\n",
      "  8%|▊         | 223/2874 [00:35<06:28,  6.82it/s]Setting `pad_token_id` to `eos_token_id`:128001 for open-end generation.\n"
     ]
    },
    {
     "name": "stdout",
     "output_type": "stream",
     "text": [
      "logits is [[0.38874716 0.38272017 0.22853266]]\n",
      "logits is [[0.30438763 0.20920235 0.48641002]]\n"
     ]
    },
    {
     "name": "stderr",
     "output_type": "stream",
     "text": [
      "  8%|▊         | 224/2874 [00:36<06:49,  6.46it/s]Setting `pad_token_id` to `eos_token_id`:128001 for open-end generation.\n",
      "  8%|▊         | 225/2874 [00:36<06:14,  7.08it/s]Setting `pad_token_id` to `eos_token_id`:128001 for open-end generation.\n"
     ]
    },
    {
     "name": "stdout",
     "output_type": "stream",
     "text": [
      "logits is [[0.3045048  0.44305187 0.25244337]]\n",
      "logits is [[0.16949564 0.14957938 0.680925  ]]\n"
     ]
    },
    {
     "name": "stderr",
     "output_type": "stream",
     "text": [
      "  8%|▊         | 226/2874 [00:36<05:56,  7.43it/s]Setting `pad_token_id` to `eos_token_id`:128001 for open-end generation.\n",
      "  8%|▊         | 227/2874 [00:36<05:46,  7.65it/s]Setting `pad_token_id` to `eos_token_id`:128001 for open-end generation.\n"
     ]
    },
    {
     "name": "stdout",
     "output_type": "stream",
     "text": [
      "logits is [[0.15786393 0.23698181 0.6051543 ]]\n",
      "logits is [[0.10502917 0.78828764 0.10668313]]\n"
     ]
    },
    {
     "name": "stderr",
     "output_type": "stream",
     "text": [
      "  8%|▊         | 228/2874 [00:36<05:29,  8.02it/s]Setting `pad_token_id` to `eos_token_id`:128001 for open-end generation.\n",
      "  8%|▊         | 229/2874 [00:36<05:25,  8.12it/s]Setting `pad_token_id` to `eos_token_id`:128001 for open-end generation.\n"
     ]
    },
    {
     "name": "stdout",
     "output_type": "stream",
     "text": [
      "logits is [[0.11584217 0.7207942  0.16336365]]\n",
      "logits is [[0.02856348 0.87480754 0.09662899]]\n"
     ]
    },
    {
     "name": "stderr",
     "output_type": "stream",
     "text": [
      "  8%|▊         | 230/2874 [00:36<05:56,  7.41it/s]Setting `pad_token_id` to `eos_token_id`:128001 for open-end generation.\n",
      "  8%|▊         | 231/2874 [00:36<05:43,  7.69it/s]Setting `pad_token_id` to `eos_token_id`:128001 for open-end generation.\n"
     ]
    },
    {
     "name": "stdout",
     "output_type": "stream",
     "text": [
      "logits is [[0.660207   0.1320497  0.20774333]]\n",
      "logits is [[0.45684808 0.3239538  0.21919811]]\n"
     ]
    },
    {
     "name": "stderr",
     "output_type": "stream",
     "text": [
      "  8%|▊         | 232/2874 [00:37<05:31,  7.97it/s]Setting `pad_token_id` to `eos_token_id`:128001 for open-end generation.\n",
      "  8%|▊         | 233/2874 [00:37<06:22,  6.90it/s]Setting `pad_token_id` to `eos_token_id`:128001 for open-end generation.\n"
     ]
    },
    {
     "name": "stdout",
     "output_type": "stream",
     "text": [
      "logits is [[0.60850817 0.04477435 0.3467175 ]]\n",
      "logits is [[0.88932985 0.02261454 0.08805558]]\n"
     ]
    },
    {
     "name": "stderr",
     "output_type": "stream",
     "text": [
      "  8%|▊         | 234/2874 [00:37<05:53,  7.46it/s]Setting `pad_token_id` to `eos_token_id`:128001 for open-end generation.\n",
      "  8%|▊         | 235/2874 [00:37<05:54,  7.44it/s]Setting `pad_token_id` to `eos_token_id`:128001 for open-end generation.\n"
     ]
    },
    {
     "name": "stdout",
     "output_type": "stream",
     "text": [
      "logits is [[0.33200806 0.37038177 0.29761013]]\n",
      "logits is [[0.16947518 0.5915265  0.23899831]]\n"
     ]
    },
    {
     "name": "stderr",
     "output_type": "stream",
     "text": [
      "  8%|▊         | 236/2874 [00:37<05:42,  7.71it/s]Setting `pad_token_id` to `eos_token_id`:128001 for open-end generation.\n",
      "  8%|▊         | 237/2874 [00:37<05:30,  7.98it/s]Setting `pad_token_id` to `eos_token_id`:128001 for open-end generation.\n"
     ]
    },
    {
     "name": "stdout",
     "output_type": "stream",
     "text": [
      "logits is [[0.15509978 0.63290393 0.21199627]]\n",
      "logits is [[0.3096843  0.28641117 0.40390447]]\n"
     ]
    },
    {
     "name": "stderr",
     "output_type": "stream",
     "text": [
      "  8%|▊         | 238/2874 [00:37<05:18,  8.28it/s]Setting `pad_token_id` to `eos_token_id`:128001 for open-end generation.\n",
      "  8%|▊         | 239/2874 [00:37<05:33,  7.89it/s]Setting `pad_token_id` to `eos_token_id`:128001 for open-end generation.\n"
     ]
    },
    {
     "name": "stdout",
     "output_type": "stream",
     "text": [
      "logits is [[0.36264423 0.41740093 0.21995485]]\n",
      "logits is [[0.2003253  0.5796604  0.22001427]]\n"
     ]
    },
    {
     "name": "stderr",
     "output_type": "stream",
     "text": [
      "  8%|▊         | 240/2874 [00:38<05:26,  8.07it/s]Setting `pad_token_id` to `eos_token_id`:128001 for open-end generation.\n",
      "  8%|▊         | 241/2874 [00:38<05:36,  7.82it/s]Setting `pad_token_id` to `eos_token_id`:128001 for open-end generation.\n"
     ]
    },
    {
     "name": "stdout",
     "output_type": "stream",
     "text": [
      "logits is [[0.68124294 0.16435751 0.15439959]]\n",
      "logits is [[0.08392206 0.84758276 0.06849518]]\n"
     ]
    },
    {
     "name": "stderr",
     "output_type": "stream",
     "text": [
      "  8%|▊         | 242/2874 [00:38<07:15,  6.04it/s]Setting `pad_token_id` to `eos_token_id`:128001 for open-end generation.\n",
      "  8%|▊         | 243/2874 [00:38<06:44,  6.50it/s]Setting `pad_token_id` to `eos_token_id`:128001 for open-end generation.\n"
     ]
    },
    {
     "name": "stdout",
     "output_type": "stream",
     "text": [
      "logits is [[0.608995   0.17722765 0.21377736]]\n",
      "logits is [[0.75465477 0.08466992 0.16067527]]\n"
     ]
    },
    {
     "name": "stderr",
     "output_type": "stream",
     "text": [
      "  8%|▊         | 244/2874 [00:38<06:13,  7.05it/s]Setting `pad_token_id` to `eos_token_id`:128001 for open-end generation.\n",
      "  9%|▊         | 245/2874 [00:38<05:53,  7.43it/s]Setting `pad_token_id` to `eos_token_id`:128001 for open-end generation.\n"
     ]
    },
    {
     "name": "stdout",
     "output_type": "stream",
     "text": [
      "logits is [[0.05901852 0.8405876  0.10039388]]\n",
      "logits is [[0.43742603 0.34603247 0.21654159]]\n"
     ]
    },
    {
     "name": "stderr",
     "output_type": "stream",
     "text": [
      "  9%|▊         | 246/2874 [00:39<06:00,  7.30it/s]Setting `pad_token_id` to `eos_token_id`:128001 for open-end generation.\n",
      "  9%|▊         | 247/2874 [00:39<06:20,  6.90it/s]Setting `pad_token_id` to `eos_token_id`:128001 for open-end generation.\n"
     ]
    },
    {
     "name": "stdout",
     "output_type": "stream",
     "text": [
      "logits is [[0.36227968 0.28658682 0.3511335 ]]\n",
      "logits is [[0.23661439 0.4779742  0.28541142]]\n"
     ]
    },
    {
     "name": "stderr",
     "output_type": "stream",
     "text": [
      "  9%|▊         | 248/2874 [00:39<06:29,  6.74it/s]Setting `pad_token_id` to `eos_token_id`:128001 for open-end generation.\n",
      "  9%|▊         | 249/2874 [00:39<07:01,  6.22it/s]Setting `pad_token_id` to `eos_token_id`:128001 for open-end generation.\n"
     ]
    },
    {
     "name": "stdout",
     "output_type": "stream",
     "text": [
      "logits is [[0.3748146  0.34664685 0.27853855]]\n",
      "logits is [[0.80953467 0.0922576  0.0982077 ]]\n"
     ]
    },
    {
     "name": "stderr",
     "output_type": "stream",
     "text": [
      "  9%|▊         | 250/2874 [00:39<06:46,  6.45it/s]Setting `pad_token_id` to `eos_token_id`:128001 for open-end generation.\n",
      "  9%|▊         | 251/2874 [00:39<06:08,  7.12it/s]Setting `pad_token_id` to `eos_token_id`:128001 for open-end generation.\n"
     ]
    },
    {
     "name": "stdout",
     "output_type": "stream",
     "text": [
      "logits is [[0.3540351  0.3431426  0.30282226]]\n",
      "logits is [[0.18887094 0.19184521 0.6192839 ]]\n"
     ]
    },
    {
     "name": "stderr",
     "output_type": "stream",
     "text": [
      "  9%|▉         | 252/2874 [00:39<06:34,  6.65it/s]Setting `pad_token_id` to `eos_token_id`:128001 for open-end generation.\n",
      "  9%|▉         | 253/2874 [00:40<06:15,  6.98it/s]Setting `pad_token_id` to `eos_token_id`:128001 for open-end generation.\n"
     ]
    },
    {
     "name": "stdout",
     "output_type": "stream",
     "text": [
      "logits is [[0.42266828 0.27289516 0.30443656]]\n",
      "logits is [[0.7221227  0.13568284 0.1421944 ]]\n"
     ]
    },
    {
     "name": "stderr",
     "output_type": "stream",
     "text": [
      "  9%|▉         | 254/2874 [00:40<05:56,  7.35it/s]Setting `pad_token_id` to `eos_token_id`:128001 for open-end generation.\n",
      "  9%|▉         | 255/2874 [00:40<05:59,  7.29it/s]Setting `pad_token_id` to `eos_token_id`:128001 for open-end generation.\n"
     ]
    },
    {
     "name": "stdout",
     "output_type": "stream",
     "text": [
      "logits is [[0.19994053 0.52677315 0.2732863 ]]\n",
      "logits is [[0.3506909  0.36752093 0.28178808]]\n"
     ]
    },
    {
     "name": "stderr",
     "output_type": "stream",
     "text": [
      "  9%|▉         | 256/2874 [00:40<06:16,  6.95it/s]Setting `pad_token_id` to `eos_token_id`:128001 for open-end generation.\n",
      "  9%|▉         | 257/2874 [00:40<05:49,  7.49it/s]Setting `pad_token_id` to `eos_token_id`:128001 for open-end generation.\n"
     ]
    },
    {
     "name": "stdout",
     "output_type": "stream",
     "text": [
      "logits is [[0.39798954 0.31979358 0.28221685]]\n",
      "logits is [[0.34664685 0.27853855 0.3748146 ]]\n"
     ]
    },
    {
     "name": "stderr",
     "output_type": "stream",
     "text": [
      "  9%|▉         | 258/2874 [00:40<05:30,  7.93it/s]Setting `pad_token_id` to `eos_token_id`:128001 for open-end generation.\n",
      "  9%|▉         | 259/2874 [00:40<06:09,  7.07it/s]Setting `pad_token_id` to `eos_token_id`:128001 for open-end generation.\n"
     ]
    },
    {
     "name": "stdout",
     "output_type": "stream",
     "text": [
      "logits is [[0.1298605  0.75906384 0.11107559]]\n",
      "logits is [[0.47894737 0.25238755 0.2686651 ]]\n"
     ]
    },
    {
     "name": "stderr",
     "output_type": "stream",
     "text": [
      "  9%|▉         | 260/2874 [00:41<07:04,  6.16it/s]Setting `pad_token_id` to `eos_token_id`:128001 for open-end generation.\n",
      "  9%|▉         | 261/2874 [00:41<06:35,  6.61it/s]Setting `pad_token_id` to `eos_token_id`:128001 for open-end generation.\n"
     ]
    },
    {
     "name": "stdout",
     "output_type": "stream",
     "text": [
      "logits is [[0.20910895 0.45673594 0.33415517]]\n",
      "logits is [[0.28095952 0.25581655 0.4632239 ]]\n"
     ]
    },
    {
     "name": "stderr",
     "output_type": "stream",
     "text": [
      "  9%|▉         | 262/2874 [00:41<06:12,  7.01it/s]Setting `pad_token_id` to `eos_token_id`:128001 for open-end generation.\n",
      "  9%|▉         | 263/2874 [00:41<06:30,  6.69it/s]Setting `pad_token_id` to `eos_token_id`:128001 for open-end generation.\n"
     ]
    },
    {
     "name": "stdout",
     "output_type": "stream",
     "text": [
      "logits is [[0.02716257 0.9280539  0.0447835 ]]\n",
      "logits is [[0.53314084 0.1434929  0.32336625]]\n"
     ]
    },
    {
     "name": "stderr",
     "output_type": "stream",
     "text": [
      "  9%|▉         | 264/2874 [00:41<06:56,  6.27it/s]Setting `pad_token_id` to `eos_token_id`:128001 for open-end generation.\n",
      "  9%|▉         | 265/2874 [00:41<06:20,  6.86it/s]Setting `pad_token_id` to `eos_token_id`:128001 for open-end generation.\n"
     ]
    },
    {
     "name": "stdout",
     "output_type": "stream",
     "text": [
      "logits is [[0.05889326 0.8257993  0.11530741]]\n",
      "logits is [[0.12444686 0.13667814 0.73887503]]\n"
     ]
    },
    {
     "name": "stderr",
     "output_type": "stream",
     "text": [
      "  9%|▉         | 266/2874 [00:41<06:16,  6.93it/s]Setting `pad_token_id` to `eos_token_id`:128001 for open-end generation.\n",
      "  9%|▉         | 267/2874 [00:42<06:13,  6.99it/s]Setting `pad_token_id` to `eos_token_id`:128001 for open-end generation.\n"
     ]
    },
    {
     "name": "stdout",
     "output_type": "stream",
     "text": [
      "logits is [[0.04956856 0.7633616  0.18706979]]\n",
      "logits is [[0.7585293  0.10758233 0.13388838]]\n"
     ]
    },
    {
     "name": "stderr",
     "output_type": "stream",
     "text": [
      "  9%|▉         | 268/2874 [00:42<06:28,  6.71it/s]Setting `pad_token_id` to `eos_token_id`:128001 for open-end generation.\n",
      "  9%|▉         | 269/2874 [00:42<06:14,  6.96it/s]Setting `pad_token_id` to `eos_token_id`:128001 for open-end generation.\n"
     ]
    },
    {
     "name": "stdout",
     "output_type": "stream",
     "text": [
      "logits is [[0.33547142 0.43753722 0.22699133]]\n",
      "logits is [[0.2030317 0.2094766 0.5874917]]\n"
     ]
    },
    {
     "name": "stderr",
     "output_type": "stream",
     "text": [
      "  9%|▉         | 270/2874 [00:42<07:42,  5.63it/s]Setting `pad_token_id` to `eos_token_id`:128001 for open-end generation.\n",
      "  9%|▉         | 271/2874 [00:42<07:14,  5.99it/s]Setting `pad_token_id` to `eos_token_id`:128001 for open-end generation.\n"
     ]
    },
    {
     "name": "stdout",
     "output_type": "stream",
     "text": [
      "logits is [[0.7097357  0.12430088 0.16596346]]\n",
      "logits is [[0.54830086 0.1343669  0.3173322 ]]\n"
     ]
    },
    {
     "name": "stderr",
     "output_type": "stream",
     "text": [
      "  9%|▉         | 272/2874 [00:42<06:42,  6.46it/s]Setting `pad_token_id` to `eos_token_id`:128001 for open-end generation.\n",
      "  9%|▉         | 273/2874 [00:43<06:13,  6.96it/s]Setting `pad_token_id` to `eos_token_id`:128001 for open-end generation.\n"
     ]
    },
    {
     "name": "stdout",
     "output_type": "stream",
     "text": [
      "logits is [[0.73171157 0.09449165 0.17379673]]\n",
      "logits is [[0.35677716 0.39801368 0.24520911]]\n"
     ]
    },
    {
     "name": "stderr",
     "output_type": "stream",
     "text": [
      " 10%|▉         | 274/2874 [00:43<05:46,  7.49it/s]Setting `pad_token_id` to `eos_token_id`:128001 for open-end generation.\n",
      " 10%|▉         | 275/2874 [00:43<05:28,  7.90it/s]Setting `pad_token_id` to `eos_token_id`:128001 for open-end generation.\n"
     ]
    },
    {
     "name": "stdout",
     "output_type": "stream",
     "text": [
      "logits is [[0.62428075 0.11548033 0.26023892]]\n",
      "logits is [[0.18533364 0.553304   0.2613623 ]]\n"
     ]
    },
    {
     "name": "stderr",
     "output_type": "stream",
     "text": [
      " 10%|▉         | 276/2874 [00:43<05:14,  8.26it/s]Setting `pad_token_id` to `eos_token_id`:128001 for open-end generation.\n",
      " 10%|▉         | 277/2874 [00:43<05:58,  7.24it/s]Setting `pad_token_id` to `eos_token_id`:128001 for open-end generation.\n"
     ]
    },
    {
     "name": "stdout",
     "output_type": "stream",
     "text": [
      "logits is [[0.31918964 0.40349352 0.27731678]]\n",
      "logits is [[0.29131815 0.4955489  0.21313293]]\n"
     ]
    },
    {
     "name": "stderr",
     "output_type": "stream",
     "text": [
      " 10%|▉         | 278/2874 [00:43<05:36,  7.71it/s]Setting `pad_token_id` to `eos_token_id`:128001 for open-end generation.\n",
      " 10%|▉         | 279/2874 [00:43<05:26,  7.95it/s]Setting `pad_token_id` to `eos_token_id`:128001 for open-end generation.\n"
     ]
    },
    {
     "name": "stdout",
     "output_type": "stream",
     "text": [
      "logits is [[0.26172552 0.3749045  0.3633699 ]]\n",
      "logits is [[0.802314   0.04456171 0.1531243 ]]\n"
     ]
    },
    {
     "name": "stderr",
     "output_type": "stream",
     "text": [
      " 10%|▉         | 280/2874 [00:43<05:17,  8.18it/s]Setting `pad_token_id` to `eos_token_id`:128001 for open-end generation.\n",
      " 10%|▉         | 281/2874 [00:44<06:08,  7.04it/s]Setting `pad_token_id` to `eos_token_id`:128001 for open-end generation.\n"
     ]
    },
    {
     "name": "stdout",
     "output_type": "stream",
     "text": [
      "logits is [[0.84622705 0.06732541 0.08644754]]\n",
      "logits is [[0.29832742 0.23233764 0.46933493]]\n"
     ]
    },
    {
     "name": "stderr",
     "output_type": "stream",
     "text": [
      " 10%|▉         | 282/2874 [00:44<06:37,  6.51it/s]Setting `pad_token_id` to `eos_token_id`:128001 for open-end generation.\n",
      " 10%|▉         | 283/2874 [00:44<06:04,  7.12it/s]Setting `pad_token_id` to `eos_token_id`:128001 for open-end generation.\n"
     ]
    },
    {
     "name": "stdout",
     "output_type": "stream",
     "text": [
      "logits is [[0.44661477 0.32168457 0.23170069]]\n",
      "logits is [[0.0947763 0.1826861 0.7225376]]\n"
     ]
    },
    {
     "name": "stderr",
     "output_type": "stream",
     "text": [
      " 10%|▉         | 284/2874 [00:44<07:01,  6.14it/s]Setting `pad_token_id` to `eos_token_id`:128001 for open-end generation.\n"
     ]
    },
    {
     "name": "stdout",
     "output_type": "stream",
     "text": [
      "logits is [[0.69922864 0.08751872 0.2132527 ]]\n"
     ]
    },
    {
     "name": "stderr",
     "output_type": "stream",
     "text": [
      " 10%|▉         | 285/2874 [00:44<07:40,  5.63it/s]Setting `pad_token_id` to `eos_token_id`:128001 for open-end generation.\n",
      " 10%|▉         | 286/2874 [00:44<06:54,  6.24it/s]Setting `pad_token_id` to `eos_token_id`:128001 for open-end generation.\n"
     ]
    },
    {
     "name": "stdout",
     "output_type": "stream",
     "text": [
      "logits is [[0.5587041  0.09708821 0.34420758]]\n",
      "logits is [[0.28012204 0.47650367 0.24337424]]\n"
     ]
    },
    {
     "name": "stderr",
     "output_type": "stream",
     "text": [
      " 10%|▉         | 287/2874 [00:45<06:35,  6.53it/s]Setting `pad_token_id` to `eos_token_id`:128001 for open-end generation.\n",
      " 10%|█         | 288/2874 [00:45<06:03,  7.11it/s]Setting `pad_token_id` to `eos_token_id`:128001 for open-end generation.\n"
     ]
    },
    {
     "name": "stdout",
     "output_type": "stream",
     "text": [
      "logits is [[0.24770357 0.34390232 0.40839413]]\n",
      "logits is [[0.26904827 0.27328518 0.45766658]]\n"
     ]
    },
    {
     "name": "stderr",
     "output_type": "stream",
     "text": [
      " 10%|█         | 289/2874 [00:45<05:50,  7.37it/s]Setting `pad_token_id` to `eos_token_id`:128001 for open-end generation.\n",
      " 10%|█         | 290/2874 [00:45<05:31,  7.79it/s]Setting `pad_token_id` to `eos_token_id`:128001 for open-end generation.\n"
     ]
    },
    {
     "name": "stdout",
     "output_type": "stream",
     "text": [
      "logits is [[0.28096503 0.4152394  0.30379564]]\n",
      "logits is [[0.384077   0.12275838 0.49316463]]\n"
     ]
    },
    {
     "name": "stderr",
     "output_type": "stream",
     "text": [
      " 10%|█         | 291/2874 [00:45<06:26,  6.69it/s]Setting `pad_token_id` to `eos_token_id`:128001 for open-end generation.\n",
      " 10%|█         | 292/2874 [00:45<06:09,  6.98it/s]Setting `pad_token_id` to `eos_token_id`:128001 for open-end generation.\n"
     ]
    },
    {
     "name": "stdout",
     "output_type": "stream",
     "text": [
      "logits is [[0.42303848 0.3675422  0.20941924]]\n",
      "logits is [[0.42038435 0.3124031  0.26721254]]\n"
     ]
    },
    {
     "name": "stderr",
     "output_type": "stream",
     "text": [
      " 10%|█         | 293/2874 [00:45<07:31,  5.71it/s]Setting `pad_token_id` to `eos_token_id`:128001 for open-end generation.\n",
      " 10%|█         | 294/2874 [00:46<06:56,  6.19it/s]Setting `pad_token_id` to `eos_token_id`:128001 for open-end generation.\n"
     ]
    },
    {
     "name": "stdout",
     "output_type": "stream",
     "text": [
      "logits is [[0.02652811 0.6502934  0.32317853]]\n",
      "logits is [[0.34687728 0.41841388 0.2347089 ]]\n"
     ]
    },
    {
     "name": "stderr",
     "output_type": "stream",
     "text": [
      " 10%|█         | 295/2874 [00:46<07:13,  5.94it/s]Setting `pad_token_id` to `eos_token_id`:128001 for open-end generation.\n",
      " 10%|█         | 296/2874 [00:46<06:36,  6.50it/s]Setting `pad_token_id` to `eos_token_id`:128001 for open-end generation.\n"
     ]
    },
    {
     "name": "stdout",
     "output_type": "stream",
     "text": [
      "logits is [[0.2759481  0.48430398 0.23974785]]\n",
      "logits is [[0.17170648 0.6791123  0.14918117]]\n"
     ]
    },
    {
     "name": "stderr",
     "output_type": "stream",
     "text": [
      " 10%|█         | 297/2874 [00:46<07:11,  5.97it/s]Setting `pad_token_id` to `eos_token_id`:128001 for open-end generation.\n",
      " 10%|█         | 298/2874 [00:46<06:28,  6.63it/s]Setting `pad_token_id` to `eos_token_id`:128001 for open-end generation.\n"
     ]
    },
    {
     "name": "stdout",
     "output_type": "stream",
     "text": [
      "logits is [[0.29749554 0.40032402 0.3021804 ]]\n",
      "logits is [[0.66022027 0.18049417 0.15928555]]\n"
     ]
    },
    {
     "name": "stderr",
     "output_type": "stream",
     "text": [
      " 10%|█         | 299/2874 [00:46<06:57,  6.17it/s]Setting `pad_token_id` to `eos_token_id`:128001 for open-end generation.\n",
      " 10%|█         | 300/2874 [00:46<06:20,  6.77it/s]Setting `pad_token_id` to `eos_token_id`:128001 for open-end generation.\n"
     ]
    },
    {
     "name": "stdout",
     "output_type": "stream",
     "text": [
      "logits is [[0.19619943 0.6333395  0.17046103]]\n",
      "logits is [[0.22422707 0.5053035  0.2704695 ]]\n"
     ]
    },
    {
     "name": "stderr",
     "output_type": "stream",
     "text": [
      " 10%|█         | 301/2874 [00:47<05:54,  7.27it/s]Setting `pad_token_id` to `eos_token_id`:128001 for open-end generation.\n",
      " 11%|█         | 302/2874 [00:47<05:50,  7.34it/s]Setting `pad_token_id` to `eos_token_id`:128001 for open-end generation.\n"
     ]
    },
    {
     "name": "stdout",
     "output_type": "stream",
     "text": [
      "logits is [[0.2838127  0.17760544 0.53858185]]\n",
      "logits is [[0.14932573 0.70134854 0.14932573]]\n"
     ]
    },
    {
     "name": "stderr",
     "output_type": "stream",
     "text": [
      " 11%|█         | 303/2874 [00:47<05:31,  7.75it/s]Setting `pad_token_id` to `eos_token_id`:128001 for open-end generation.\n",
      " 11%|█         | 304/2874 [00:47<05:52,  7.28it/s]Setting `pad_token_id` to `eos_token_id`:128001 for open-end generation.\n"
     ]
    },
    {
     "name": "stdout",
     "output_type": "stream",
     "text": [
      "logits is [[0.21947719 0.5432113  0.23731144]]\n",
      "logits is [[0.11919148 0.73013633 0.15067215]]\n"
     ]
    },
    {
     "name": "stderr",
     "output_type": "stream",
     "text": [
      " 11%|█         | 305/2874 [00:47<06:12,  6.89it/s]Setting `pad_token_id` to `eos_token_id`:128001 for open-end generation.\n",
      " 11%|█         | 306/2874 [00:47<05:57,  7.17it/s]Setting `pad_token_id` to `eos_token_id`:128001 for open-end generation.\n"
     ]
    },
    {
     "name": "stdout",
     "output_type": "stream",
     "text": [
      "logits is [[0.2905313  0.40971482 0.2997538 ]]\n",
      "logits is [[0.70805156 0.16300273 0.12894577]]\n"
     ]
    },
    {
     "name": "stderr",
     "output_type": "stream",
     "text": [
      " 11%|█         | 307/2874 [00:47<06:00,  7.11it/s]Setting `pad_token_id` to `eos_token_id`:128001 for open-end generation.\n",
      " 11%|█         | 308/2874 [00:48<05:42,  7.49it/s]Setting `pad_token_id` to `eos_token_id`:128001 for open-end generation.\n"
     ]
    },
    {
     "name": "stdout",
     "output_type": "stream",
     "text": [
      "logits is [[0.17319134 0.6536173  0.17319134]]\n",
      "logits is [[0.08199331 0.6449273  0.2730794 ]]\n"
     ]
    },
    {
     "name": "stderr",
     "output_type": "stream",
     "text": [
      " 11%|█         | 309/2874 [00:48<06:24,  6.67it/s]Setting `pad_token_id` to `eos_token_id`:128001 for open-end generation.\n",
      " 11%|█         | 310/2874 [00:48<05:59,  7.14it/s]Setting `pad_token_id` to `eos_token_id`:128001 for open-end generation.\n"
     ]
    },
    {
     "name": "stdout",
     "output_type": "stream",
     "text": [
      "logits is [[0.7929809  0.055676   0.15134306]]\n",
      "logits is [[0.44865453 0.30357483 0.24777058]]\n"
     ]
    },
    {
     "name": "stderr",
     "output_type": "stream",
     "text": [
      " 11%|█         | 311/2874 [00:48<06:00,  7.11it/s]Setting `pad_token_id` to `eos_token_id`:128001 for open-end generation.\n",
      " 11%|█         | 312/2874 [00:48<05:38,  7.56it/s]Setting `pad_token_id` to `eos_token_id`:128001 for open-end generation.\n"
     ]
    },
    {
     "name": "stdout",
     "output_type": "stream",
     "text": [
      "logits is [[0.21520863 0.60356754 0.18122385]]\n",
      "logits is [[0.3276012  0.31259924 0.35979953]]\n"
     ]
    },
    {
     "name": "stderr",
     "output_type": "stream",
     "text": [
      " 11%|█         | 313/2874 [00:48<06:53,  6.20it/s]Setting `pad_token_id` to `eos_token_id`:128001 for open-end generation.\n",
      " 11%|█         | 314/2874 [00:49<06:49,  6.26it/s]Setting `pad_token_id` to `eos_token_id`:128001 for open-end generation.\n"
     ]
    },
    {
     "name": "stdout",
     "output_type": "stream",
     "text": [
      "logits is [[0.62625134 0.13973556 0.23401302]]\n",
      "logits is [[0.57945246 0.19714876 0.22339882]]\n"
     ]
    },
    {
     "name": "stderr",
     "output_type": "stream",
     "text": [
      " 11%|█         | 315/2874 [00:49<07:01,  6.08it/s]Setting `pad_token_id` to `eos_token_id`:128001 for open-end generation.\n",
      " 11%|█         | 316/2874 [00:49<06:18,  6.76it/s]Setting `pad_token_id` to `eos_token_id`:128001 for open-end generation.\n"
     ]
    },
    {
     "name": "stdout",
     "output_type": "stream",
     "text": [
      "logits is [[0.3090908  0.40947878 0.2814304 ]]\n",
      "logits is [[0.39479733 0.09827283 0.5069298 ]]\n"
     ]
    },
    {
     "name": "stderr",
     "output_type": "stream",
     "text": [
      " 11%|█         | 317/2874 [00:49<05:51,  7.28it/s]Setting `pad_token_id` to `eos_token_id`:128001 for open-end generation.\n",
      " 11%|█         | 318/2874 [00:49<05:32,  7.70it/s]Setting `pad_token_id` to `eos_token_id`:128001 for open-end generation.\n"
     ]
    },
    {
     "name": "stdout",
     "output_type": "stream",
     "text": [
      "logits is [[0.23795937 0.5708349  0.19120574]]\n",
      "logits is [[0.6790841  0.06316467 0.25775126]]\n"
     ]
    },
    {
     "name": "stderr",
     "output_type": "stream",
     "text": [
      " 11%|█         | 319/2874 [00:49<05:16,  8.08it/s]Setting `pad_token_id` to `eos_token_id`:128001 for open-end generation.\n",
      " 11%|█         | 320/2874 [00:49<05:14,  8.13it/s]Setting `pad_token_id` to `eos_token_id`:128001 for open-end generation.\n"
     ]
    },
    {
     "name": "stdout",
     "output_type": "stream",
     "text": [
      "logits is [[0.8157972  0.05909615 0.12510656]]\n",
      "logits is [[0.7034485  0.08533798 0.21121354]]\n"
     ]
    },
    {
     "name": "stderr",
     "output_type": "stream",
     "text": [
      " 11%|█         | 321/2874 [00:49<05:54,  7.19it/s]Setting `pad_token_id` to `eos_token_id`:128001 for open-end generation.\n",
      " 11%|█         | 322/2874 [00:50<05:31,  7.69it/s]Setting `pad_token_id` to `eos_token_id`:128001 for open-end generation.\n"
     ]
    },
    {
     "name": "stdout",
     "output_type": "stream",
     "text": [
      "logits is [[0.7614505  0.06864686 0.16990258]]\n",
      "logits is [[0.31499743 0.39819407 0.28680846]]\n"
     ]
    },
    {
     "name": "stderr",
     "output_type": "stream",
     "text": [
      " 11%|█         | 323/2874 [00:50<05:57,  7.14it/s]Setting `pad_token_id` to `eos_token_id`:128001 for open-end generation.\n",
      " 11%|█▏        | 324/2874 [00:50<05:47,  7.34it/s]Setting `pad_token_id` to `eos_token_id`:128001 for open-end generation.\n"
     ]
    },
    {
     "name": "stdout",
     "output_type": "stream",
     "text": [
      "logits is [[0.18474904 0.57802856 0.23722243]]\n",
      "logits is [[0.2602364  0.37277144 0.36699215]]\n"
     ]
    },
    {
     "name": "stderr",
     "output_type": "stream",
     "text": [
      " 11%|█▏        | 325/2874 [00:50<05:37,  7.54it/s]Setting `pad_token_id` to `eos_token_id`:128001 for open-end generation.\n",
      " 11%|█▏        | 326/2874 [00:50<05:21,  7.93it/s]Setting `pad_token_id` to `eos_token_id`:128001 for open-end generation.\n"
     ]
    },
    {
     "name": "stdout",
     "output_type": "stream",
     "text": [
      "logits is [[0.338555   0.32813877 0.3333062 ]]\n",
      "logits is [[0.86478585 0.03353139 0.10168267]]\n"
     ]
    },
    {
     "name": "stderr",
     "output_type": "stream",
     "text": [
      " 11%|█▏        | 327/2874 [00:50<06:13,  6.82it/s]Setting `pad_token_id` to `eos_token_id`:128001 for open-end generation.\n",
      " 11%|█▏        | 328/2874 [00:50<05:50,  7.26it/s]Setting `pad_token_id` to `eos_token_id`:128001 for open-end generation.\n"
     ]
    },
    {
     "name": "stdout",
     "output_type": "stream",
     "text": [
      "logits is [[0.20717852 0.466884   0.32593754]]\n",
      "logits is [[0.6211026  0.19240859 0.18648882]]\n"
     ]
    },
    {
     "name": "stderr",
     "output_type": "stream",
     "text": [
      " 11%|█▏        | 329/2874 [00:50<05:29,  7.72it/s]Setting `pad_token_id` to `eos_token_id`:128001 for open-end generation.\n",
      " 11%|█▏        | 330/2874 [00:51<05:23,  7.86it/s]Setting `pad_token_id` to `eos_token_id`:128001 for open-end generation.\n"
     ]
    },
    {
     "name": "stdout",
     "output_type": "stream",
     "text": [
      "logits is [[0.2081352 0.2081352 0.5837296]]\n",
      "logits is [[0.6910434  0.12584835 0.18310826]]\n"
     ]
    },
    {
     "name": "stderr",
     "output_type": "stream",
     "text": [
      " 12%|█▏        | 331/2874 [00:51<05:10,  8.18it/s]Setting `pad_token_id` to `eos_token_id`:128001 for open-end generation.\n",
      " 12%|█▏        | 332/2874 [00:51<05:11,  8.16it/s]Setting `pad_token_id` to `eos_token_id`:128001 for open-end generation.\n"
     ]
    },
    {
     "name": "stdout",
     "output_type": "stream",
     "text": [
      "logits is [[0.45288447 0.2970089  0.25010657]]\n",
      "logits is [[0.60052484 0.19193928 0.20753585]]\n"
     ]
    },
    {
     "name": "stderr",
     "output_type": "stream",
     "text": [
      " 12%|█▏        | 333/2874 [00:51<05:54,  7.17it/s]Setting `pad_token_id` to `eos_token_id`:128001 for open-end generation.\n",
      " 12%|█▏        | 334/2874 [00:51<05:29,  7.71it/s]Setting `pad_token_id` to `eos_token_id`:128001 for open-end generation.\n"
     ]
    },
    {
     "name": "stdout",
     "output_type": "stream",
     "text": [
      "logits is [[0.29492494 0.51760936 0.18746568]]\n",
      "logits is [[0.44942296 0.23682927 0.31374776]]\n"
     ]
    },
    {
     "name": "stderr",
     "output_type": "stream",
     "text": [
      " 12%|█▏        | 335/2874 [00:51<06:13,  6.79it/s]Setting `pad_token_id` to `eos_token_id`:128001 for open-end generation.\n",
      " 12%|█▏        | 336/2874 [00:51<05:48,  7.28it/s]Setting `pad_token_id` to `eos_token_id`:128001 for open-end generation.\n"
     ]
    },
    {
     "name": "stdout",
     "output_type": "stream",
     "text": [
      "logits is [[0.5549375  0.22774588 0.21731663]]\n",
      "logits is [[0.7457258  0.10743199 0.14684212]]\n"
     ]
    },
    {
     "name": "stderr",
     "output_type": "stream",
     "text": [
      " 12%|█▏        | 337/2874 [00:52<05:33,  7.60it/s]Setting `pad_token_id` to `eos_token_id`:128001 for open-end generation.\n",
      " 12%|█▏        | 338/2874 [00:52<05:31,  7.66it/s]Setting `pad_token_id` to `eos_token_id`:128001 for open-end generation.\n"
     ]
    },
    {
     "name": "stdout",
     "output_type": "stream",
     "text": [
      "logits is [[0.33086216 0.39909598 0.27004185]]\n",
      "logits is [[0.1420275  0.7326336  0.12533882]]\n"
     ]
    },
    {
     "name": "stderr",
     "output_type": "stream",
     "text": [
      " 12%|█▏        | 339/2874 [00:52<05:18,  7.95it/s]Setting `pad_token_id` to `eos_token_id`:128001 for open-end generation.\n",
      " 12%|█▏        | 340/2874 [00:52<05:06,  8.27it/s]Setting `pad_token_id` to `eos_token_id`:128001 for open-end generation.\n"
     ]
    },
    {
     "name": "stdout",
     "output_type": "stream",
     "text": [
      "logits is [[0.5568135  0.22851579 0.21467072]]\n",
      "logits is [[0.8056478  0.0476328  0.14671937]]\n"
     ]
    },
    {
     "name": "stderr",
     "output_type": "stream",
     "text": [
      " 12%|█▏        | 341/2874 [00:52<05:03,  8.35it/s]Setting `pad_token_id` to `eos_token_id`:128001 for open-end generation.\n",
      " 12%|█▏        | 342/2874 [00:52<04:58,  8.50it/s]Setting `pad_token_id` to `eos_token_id`:128001 for open-end generation.\n"
     ]
    },
    {
     "name": "stdout",
     "output_type": "stream",
     "text": [
      "logits is [[0.28168932 0.34513295 0.3731777 ]]\n",
      "logits is [[0.36299753 0.36299753 0.2740049 ]]\n"
     ]
    },
    {
     "name": "stderr",
     "output_type": "stream",
     "text": [
      " 12%|█▏        | 343/2874 [00:52<06:09,  6.85it/s]Setting `pad_token_id` to `eos_token_id`:128001 for open-end generation.\n",
      " 12%|█▏        | 344/2874 [00:53<06:30,  6.48it/s]Setting `pad_token_id` to `eos_token_id`:128001 for open-end generation.\n"
     ]
    },
    {
     "name": "stdout",
     "output_type": "stream",
     "text": [
      "logits is [[0.4758355  0.28860882 0.23555565]]\n",
      "logits is [[0.42223603 0.19331373 0.3844503 ]]\n"
     ]
    },
    {
     "name": "stderr",
     "output_type": "stream",
     "text": [
      " 12%|█▏        | 345/2874 [00:53<06:00,  7.02it/s]Setting `pad_token_id` to `eos_token_id`:128001 for open-end generation.\n",
      " 12%|█▏        | 346/2874 [00:53<06:10,  6.82it/s]Setting `pad_token_id` to `eos_token_id`:128001 for open-end generation.\n"
     ]
    },
    {
     "name": "stdout",
     "output_type": "stream",
     "text": [
      "logits is [[0.24220811 0.099402   0.65838987]]\n",
      "logits is [[0.22592853 0.53357184 0.24049968]]\n"
     ]
    },
    {
     "name": "stderr",
     "output_type": "stream",
     "text": [
      " 12%|█▏        | 347/2874 [00:53<05:44,  7.34it/s]Setting `pad_token_id` to `eos_token_id`:128001 for open-end generation.\n",
      " 12%|█▏        | 348/2874 [00:53<05:35,  7.53it/s]Setting `pad_token_id` to `eos_token_id`:128001 for open-end generation.\n"
     ]
    },
    {
     "name": "stdout",
     "output_type": "stream",
     "text": [
      "logits is [[0.73062974 0.15556005 0.11381017]]\n",
      "logits is [[0.04919412 0.8191556  0.13165028]]\n"
     ]
    },
    {
     "name": "stderr",
     "output_type": "stream",
     "text": [
      " 12%|█▏        | 349/2874 [00:53<05:52,  7.16it/s]Setting `pad_token_id` to `eos_token_id`:128001 for open-end generation.\n",
      " 12%|█▏        | 350/2874 [00:53<05:29,  7.65it/s]Setting `pad_token_id` to `eos_token_id`:128001 for open-end generation.\n"
     ]
    },
    {
     "name": "stdout",
     "output_type": "stream",
     "text": [
      "logits is [[0.4629632  0.344045   0.19299176]]\n",
      "logits is [[0.3378169  0.39494798 0.26723516]]\n"
     ]
    },
    {
     "name": "stderr",
     "output_type": "stream",
     "text": [
      " 12%|█▏        | 351/2874 [00:53<05:16,  7.98it/s]Setting `pad_token_id` to `eos_token_id`:128001 for open-end generation.\n",
      " 12%|█▏        | 352/2874 [00:54<05:06,  8.24it/s]Setting `pad_token_id` to `eos_token_id`:128001 for open-end generation.\n"
     ]
    },
    {
     "name": "stdout",
     "output_type": "stream",
     "text": [
      "logits is [[0.26773685 0.37756947 0.35469368]]\n",
      "logits is [[0.8508173  0.03403698 0.1151456 ]]\n"
     ]
    },
    {
     "name": "stderr",
     "output_type": "stream",
     "text": [
      " 12%|█▏        | 353/2874 [00:54<05:11,  8.10it/s]Setting `pad_token_id` to `eos_token_id`:128001 for open-end generation.\n",
      " 12%|█▏        | 354/2874 [00:54<04:59,  8.42it/s]Setting `pad_token_id` to `eos_token_id`:128001 for open-end generation.\n"
     ]
    },
    {
     "name": "stdout",
     "output_type": "stream",
     "text": [
      "logits is [[0.84565455 0.05491222 0.09943318]]\n",
      "logits is [[0.04231366 0.4340827  0.5236037 ]]\n"
     ]
    },
    {
     "name": "stderr",
     "output_type": "stream",
     "text": [
      " 12%|█▏        | 355/2874 [00:54<04:59,  8.42it/s]Setting `pad_token_id` to `eos_token_id`:128001 for open-end generation.\n",
      " 12%|█▏        | 356/2874 [00:54<04:58,  8.43it/s]Setting `pad_token_id` to `eos_token_id`:128001 for open-end generation.\n"
     ]
    },
    {
     "name": "stdout",
     "output_type": "stream",
     "text": [
      "logits is [[0.16028254 0.36120227 0.47851527]]\n",
      "logits is [[0.50490814 0.22057803 0.27451378]]\n"
     ]
    },
    {
     "name": "stderr",
     "output_type": "stream",
     "text": [
      " 12%|█▏        | 357/2874 [00:54<05:01,  8.35it/s]Setting `pad_token_id` to `eos_token_id`:128001 for open-end generation.\n",
      " 12%|█▏        | 358/2874 [00:54<04:57,  8.44it/s]Setting `pad_token_id` to `eos_token_id`:128001 for open-end generation.\n"
     ]
    },
    {
     "name": "stdout",
     "output_type": "stream",
     "text": [
      "logits is [[0.5074082  0.30298728 0.1896046 ]]\n",
      "logits is [[0.69039965 0.12378183 0.18581855]]\n"
     ]
    },
    {
     "name": "stderr",
     "output_type": "stream",
     "text": [
      " 12%|█▏        | 359/2874 [00:54<06:07,  6.84it/s]Setting `pad_token_id` to `eos_token_id`:128001 for open-end generation.\n",
      " 13%|█▎        | 360/2874 [00:55<05:45,  7.28it/s]Setting `pad_token_id` to `eos_token_id`:128001 for open-end generation.\n"
     ]
    },
    {
     "name": "stdout",
     "output_type": "stream",
     "text": [
      "logits is [[0.47602913 0.18641567 0.3375552 ]]\n",
      "logits is [[0.05848592 0.78253293 0.1589812 ]]\n"
     ]
    },
    {
     "name": "stderr",
     "output_type": "stream",
     "text": [
      " 13%|█▎        | 361/2874 [00:55<05:49,  7.19it/s]Setting `pad_token_id` to `eos_token_id`:128001 for open-end generation.\n",
      " 13%|█▎        | 362/2874 [00:55<06:05,  6.87it/s]Setting `pad_token_id` to `eos_token_id`:128001 for open-end generation.\n"
     ]
    },
    {
     "name": "stdout",
     "output_type": "stream",
     "text": [
      "logits is [[0.2663077  0.46738458 0.2663077 ]]\n",
      "logits is [[0.03649442 0.6172562  0.34624934]]\n"
     ]
    },
    {
     "name": "stderr",
     "output_type": "stream",
     "text": [
      " 13%|█▎        | 363/2874 [00:55<05:44,  7.30it/s]Setting `pad_token_id` to `eos_token_id`:128001 for open-end generation.\n",
      " 13%|█▎        | 364/2874 [00:55<05:56,  7.04it/s]Setting `pad_token_id` to `eos_token_id`:128001 for open-end generation.\n"
     ]
    },
    {
     "name": "stdout",
     "output_type": "stream",
     "text": [
      "logits is [[0.18509695 0.45811936 0.35678372]]\n",
      "logits is [[0.32546133 0.36879602 0.30574262]]\n"
     ]
    },
    {
     "name": "stderr",
     "output_type": "stream",
     "text": [
      " 13%|█▎        | 365/2874 [00:55<06:32,  6.40it/s]Setting `pad_token_id` to `eos_token_id`:128001 for open-end generation.\n",
      " 13%|█▎        | 366/2874 [00:55<06:09,  6.79it/s]Setting `pad_token_id` to `eos_token_id`:128001 for open-end generation.\n"
     ]
    },
    {
     "name": "stdout",
     "output_type": "stream",
     "text": [
      "logits is [[0.21174294 0.54070455 0.24755257]]\n",
      "logits is [[0.2763895  0.5083581  0.21525237]]\n"
     ]
    },
    {
     "name": "stderr",
     "output_type": "stream",
     "text": [
      " 13%|█▎        | 367/2874 [00:56<05:43,  7.30it/s]Setting `pad_token_id` to `eos_token_id`:128001 for open-end generation.\n",
      " 13%|█▎        | 368/2874 [00:56<05:25,  7.70it/s]Setting `pad_token_id` to `eos_token_id`:128001 for open-end generation.\n"
     ]
    },
    {
     "name": "stdout",
     "output_type": "stream",
     "text": [
      "logits is [[0.29758355 0.26261654 0.43979996]]\n",
      "logits is [[0.33776262 0.22854163 0.4336958 ]]\n"
     ]
    },
    {
     "name": "stderr",
     "output_type": "stream",
     "text": [
      " 13%|█▎        | 369/2874 [00:56<05:14,  7.96it/s]Setting `pad_token_id` to `eos_token_id`:128001 for open-end generation.\n",
      " 13%|█▎        | 370/2874 [00:56<05:02,  8.28it/s]Setting `pad_token_id` to `eos_token_id`:128001 for open-end generation.\n"
     ]
    },
    {
     "name": "stdout",
     "output_type": "stream",
     "text": [
      "logits is [[0.16520984 0.71763885 0.11715132]]\n",
      "logits is [[0.26360962 0.48485228 0.25153804]]\n"
     ]
    },
    {
     "name": "stderr",
     "output_type": "stream",
     "text": [
      " 13%|█▎        | 371/2874 [00:56<05:45,  7.24it/s]Setting `pad_token_id` to `eos_token_id`:128001 for open-end generation.\n"
     ]
    },
    {
     "name": "stdout",
     "output_type": "stream",
     "text": [
      "logits is [[0.64267755 0.17029259 0.18702982]]\n"
     ]
    },
    {
     "name": "stderr",
     "output_type": "stream",
     "text": [
      " 13%|█▎        | 372/2874 [00:56<07:10,  5.81it/s]Setting `pad_token_id` to `eos_token_id`:128001 for open-end generation.\n",
      " 13%|█▎        | 373/2874 [00:56<06:27,  6.45it/s]Setting `pad_token_id` to `eos_token_id`:128001 for open-end generation.\n"
     ]
    },
    {
     "name": "stdout",
     "output_type": "stream",
     "text": [
      "logits is [[0.5452328  0.10683975 0.34792748]]\n",
      "logits is [[0.12680511 0.10846216 0.7647327 ]]\n"
     ]
    },
    {
     "name": "stderr",
     "output_type": "stream",
     "text": [
      " 13%|█▎        | 374/2874 [00:57<05:54,  7.06it/s]Setting `pad_token_id` to `eos_token_id`:128001 for open-end generation.\n",
      " 13%|█▎        | 375/2874 [00:57<05:28,  7.61it/s]Setting `pad_token_id` to `eos_token_id`:128001 for open-end generation.\n"
     ]
    },
    {
     "name": "stdout",
     "output_type": "stream",
     "text": [
      "logits is [[0.6965778  0.09427155 0.2091506 ]]\n",
      "logits is [[0.14094491 0.12055658 0.73849857]]\n"
     ]
    },
    {
     "name": "stderr",
     "output_type": "stream",
     "text": [
      " 13%|█▎        | 376/2874 [00:57<05:33,  7.50it/s]Setting `pad_token_id` to `eos_token_id`:128001 for open-end generation.\n",
      " 13%|█▎        | 377/2874 [00:57<05:11,  8.01it/s]Setting `pad_token_id` to `eos_token_id`:128001 for open-end generation.\n"
     ]
    },
    {
     "name": "stdout",
     "output_type": "stream",
     "text": [
      "logits is [[0.13248749 0.75059277 0.11691981]]\n",
      "logits is [[0.37229812 0.32855195 0.29914996]]\n"
     ]
    },
    {
     "name": "stderr",
     "output_type": "stream",
     "text": [
      " 13%|█▎        | 378/2874 [00:57<04:58,  8.37it/s]Setting `pad_token_id` to `eos_token_id`:128001 for open-end generation.\n",
      " 13%|█▎        | 379/2874 [00:57<04:54,  8.47it/s]Setting `pad_token_id` to `eos_token_id`:128001 for open-end generation.\n"
     ]
    },
    {
     "name": "stdout",
     "output_type": "stream",
     "text": [
      "logits is [[0.2364941  0.22216563 0.54134035]]\n",
      "logits is [[0.5764473  0.16775572 0.25579694]]\n"
     ]
    },
    {
     "name": "stderr",
     "output_type": "stream",
     "text": [
      " 13%|█▎        | 380/2874 [00:57<05:50,  7.12it/s]Setting `pad_token_id` to `eos_token_id`:128001 for open-end generation.\n",
      " 13%|█▎        | 381/2874 [00:57<05:38,  7.36it/s]Setting `pad_token_id` to `eos_token_id`:128001 for open-end generation.\n"
     ]
    },
    {
     "name": "stdout",
     "output_type": "stream",
     "text": [
      "logits is [[0.09163465 0.8167307  0.09163465]]\n",
      "logits is [[0.28937548 0.45525154 0.25537297]]\n"
     ]
    },
    {
     "name": "stderr",
     "output_type": "stream",
     "text": [
      " 13%|█▎        | 382/2874 [00:58<05:21,  7.75it/s]Setting `pad_token_id` to `eos_token_id`:128001 for open-end generation.\n",
      " 13%|█▎        | 383/2874 [00:58<06:13,  6.67it/s]"
     ]
    },
    {
     "name": "stdout",
     "output_type": "stream",
     "text": [
      "logits is [[0.40767205 0.307727   0.28460094]]\n",
      "logits is [[0.17372774 0.6354697  0.1908026 ]]\n"
     ]
    },
    {
     "name": "stderr",
     "output_type": "stream",
     "text": [
      "Setting `pad_token_id` to `eos_token_id`:128001 for open-end generation.\n",
      " 13%|█▎        | 384/2874 [00:58<05:44,  7.22it/s]Setting `pad_token_id` to `eos_token_id`:128001 for open-end generation.\n"
     ]
    },
    {
     "name": "stdout",
     "output_type": "stream",
     "text": [
      "logits is [[0.35235482 0.30613118 0.341514  ]]\n"
     ]
    },
    {
     "name": "stderr",
     "output_type": "stream",
     "text": [
      " 13%|█▎        | 385/2874 [00:58<06:39,  6.24it/s]Setting `pad_token_id` to `eos_token_id`:128001 for open-end generation.\n",
      " 13%|█▎        | 386/2874 [00:58<06:04,  6.82it/s]Setting `pad_token_id` to `eos_token_id`:128001 for open-end generation.\n"
     ]
    },
    {
     "name": "stdout",
     "output_type": "stream",
     "text": [
      "logits is [[0.29000792 0.41541716 0.2945749 ]]\n",
      "logits is [[0.11786591 0.75666654 0.12546761]]\n"
     ]
    },
    {
     "name": "stderr",
     "output_type": "stream",
     "text": [
      " 13%|█▎        | 387/2874 [00:58<05:36,  7.40it/s]Setting `pad_token_id` to `eos_token_id`:128001 for open-end generation.\n",
      " 14%|█▎        | 388/2874 [00:58<05:14,  7.90it/s]Setting `pad_token_id` to `eos_token_id`:128001 for open-end generation.\n"
     ]
    },
    {
     "name": "stdout",
     "output_type": "stream",
     "text": [
      "logits is [[0.14721312 0.4826932  0.37009373]]\n",
      "logits is [[0.39192867 0.02883831 0.57923305]]\n"
     ]
    },
    {
     "name": "stderr",
     "output_type": "stream",
     "text": [
      " 14%|█▎        | 389/2874 [00:59<06:44,  6.14it/s]Setting `pad_token_id` to `eos_token_id`:128001 for open-end generation.\n",
      " 14%|█▎        | 390/2874 [00:59<06:17,  6.58it/s]Setting `pad_token_id` to `eos_token_id`:128001 for open-end generation.\n"
     ]
    },
    {
     "name": "stdout",
     "output_type": "stream",
     "text": [
      "logits is [[0.34424487 0.2231311  0.43262395]]\n",
      "logits is [[0.2220513  0.5850272  0.19292149]]\n"
     ]
    },
    {
     "name": "stderr",
     "output_type": "stream",
     "text": [
      " 14%|█▎        | 391/2874 [00:59<06:32,  6.32it/s]Setting `pad_token_id` to `eos_token_id`:128001 for open-end generation.\n",
      " 14%|█▎        | 392/2874 [00:59<06:00,  6.88it/s]Setting `pad_token_id` to `eos_token_id`:128001 for open-end generation.\n"
     ]
    },
    {
     "name": "stdout",
     "output_type": "stream",
     "text": [
      "logits is [[0.17591785 0.66390705 0.16017503]]\n",
      "logits is [[0.21620634 0.62561375 0.15817992]]\n"
     ]
    },
    {
     "name": "stderr",
     "output_type": "stream",
     "text": [
      " 14%|█▎        | 393/2874 [00:59<05:33,  7.44it/s]Setting `pad_token_id` to `eos_token_id`:128001 for open-end generation.\n",
      " 14%|█▎        | 394/2874 [00:59<05:24,  7.65it/s]Setting `pad_token_id` to `eos_token_id`:128001 for open-end generation.\n"
     ]
    },
    {
     "name": "stdout",
     "output_type": "stream",
     "text": [
      "logits is [[0.6682609  0.0531665  0.27857256]]\n",
      "logits is [[0.27038705 0.12973312 0.59987986]]\n"
     ]
    },
    {
     "name": "stderr",
     "output_type": "stream",
     "text": [
      " 14%|█▎        | 395/2874 [00:59<05:07,  8.06it/s]Setting `pad_token_id` to `eos_token_id`:128001 for open-end generation.\n",
      " 14%|█▍        | 396/2874 [01:00<05:08,  8.03it/s]Setting `pad_token_id` to `eos_token_id`:128001 for open-end generation.\n"
     ]
    },
    {
     "name": "stdout",
     "output_type": "stream",
     "text": [
      "logits is [[0.1585829  0.64711726 0.19429985]]\n",
      "logits is [[0.49266067 0.24772534 0.25961393]]\n"
     ]
    },
    {
     "name": "stderr",
     "output_type": "stream",
     "text": [
      " 14%|█▍        | 397/2874 [01:00<05:06,  8.09it/s]Setting `pad_token_id` to `eos_token_id`:128001 for open-end generation.\n",
      " 14%|█▍        | 398/2874 [01:00<05:43,  7.20it/s]Setting `pad_token_id` to `eos_token_id`:128001 for open-end generation.\n"
     ]
    },
    {
     "name": "stdout",
     "output_type": "stream",
     "text": [
      "logits is [[0.15333897 0.6980397  0.14862123]]\n",
      "logits is [[0.3862364  0.27819565 0.335568  ]]\n"
     ]
    },
    {
     "name": "stderr",
     "output_type": "stream",
     "text": [
      " 14%|█▍        | 399/2874 [01:00<05:32,  7.45it/s]Setting `pad_token_id` to `eos_token_id`:128001 for open-end generation.\n",
      " 14%|█▍        | 400/2874 [01:00<06:02,  6.82it/s]Setting `pad_token_id` to `eos_token_id`:128001 for open-end generation.\n"
     ]
    },
    {
     "name": "stdout",
     "output_type": "stream",
     "text": [
      "logits is [[0.25359482 0.2575884  0.48881683]]\n",
      "logits is [[0.21480453 0.3711489  0.41404656]]\n"
     ]
    },
    {
     "name": "stderr",
     "output_type": "stream",
     "text": [
      " 14%|█▍        | 401/2874 [01:00<06:11,  6.66it/s]Setting `pad_token_id` to `eos_token_id`:128001 for open-end generation.\n",
      " 14%|█▍        | 402/2874 [01:00<05:43,  7.19it/s]Setting `pad_token_id` to `eos_token_id`:128001 for open-end generation.\n"
     ]
    },
    {
     "name": "stdout",
     "output_type": "stream",
     "text": [
      "logits is [[0.3243824  0.35626435 0.31935328]]\n",
      "logits is [[0.38463825 0.11369885 0.50166285]]\n"
     ]
    },
    {
     "name": "stderr",
     "output_type": "stream",
     "text": [
      " 14%|█▍        | 403/2874 [01:01<05:23,  7.65it/s]Setting `pad_token_id` to `eos_token_id`:128001 for open-end generation.\n"
     ]
    },
    {
     "name": "stdout",
     "output_type": "stream",
     "text": [
      "logits is [[0.4267454 0.3375834 0.2356712]]\n"
     ]
    },
    {
     "name": "stderr",
     "output_type": "stream",
     "text": [
      " 14%|█▍        | 404/2874 [01:01<06:33,  6.27it/s]Setting `pad_token_id` to `eos_token_id`:128001 for open-end generation.\n",
      " 14%|█▍        | 405/2874 [01:01<06:38,  6.20it/s]Setting `pad_token_id` to `eos_token_id`:128001 for open-end generation.\n"
     ]
    },
    {
     "name": "stdout",
     "output_type": "stream",
     "text": [
      "logits is [[0.6493775  0.16164285 0.18897963]]\n",
      "logits is [[0.772504   0.0729856  0.15451051]]\n"
     ]
    },
    {
     "name": "stderr",
     "output_type": "stream",
     "text": [
      " 14%|█▍        | 406/2874 [01:01<06:07,  6.71it/s]Setting `pad_token_id` to `eos_token_id`:128001 for open-end generation.\n",
      " 14%|█▍        | 407/2874 [01:01<05:41,  7.21it/s]Setting `pad_token_id` to `eos_token_id`:128001 for open-end generation.\n"
     ]
    },
    {
     "name": "stdout",
     "output_type": "stream",
     "text": [
      "logits is [[0.20209247 0.46987906 0.32802844]]\n",
      "logits is [[0.20585299 0.2684829  0.52566403]]\n"
     ]
    },
    {
     "name": "stderr",
     "output_type": "stream",
     "text": [
      " 14%|█▍        | 408/2874 [01:01<07:08,  5.76it/s]Setting `pad_token_id` to `eos_token_id`:128001 for open-end generation.\n",
      " 14%|█▍        | 409/2874 [01:02<06:41,  6.14it/s]Setting `pad_token_id` to `eos_token_id`:128001 for open-end generation.\n"
     ]
    },
    {
     "name": "stdout",
     "output_type": "stream",
     "text": [
      "logits is [[0.7231897  0.23848265 0.03832765]]\n",
      "logits is [[0.59483665 0.17583337 0.22932996]]\n"
     ]
    },
    {
     "name": "stderr",
     "output_type": "stream",
     "text": [
      " 14%|█▍        | 410/2874 [01:02<06:09,  6.66it/s]Setting `pad_token_id` to `eos_token_id`:128001 for open-end generation.\n",
      " 14%|█▍        | 411/2874 [01:02<06:01,  6.81it/s]Setting `pad_token_id` to `eos_token_id`:128001 for open-end generation.\n"
     ]
    },
    {
     "name": "stdout",
     "output_type": "stream",
     "text": [
      "logits is [[0.38735315 0.38134778 0.23129913]]\n",
      "logits is [[0.78503615 0.0827422  0.13222167]]\n"
     ]
    },
    {
     "name": "stderr",
     "output_type": "stream",
     "text": [
      " 14%|█▍        | 412/2874 [01:02<05:50,  7.02it/s]Setting `pad_token_id` to `eos_token_id`:128001 for open-end generation.\n",
      " 14%|█▍        | 413/2874 [01:02<05:27,  7.52it/s]Setting `pad_token_id` to `eos_token_id`:128001 for open-end generation.\n"
     ]
    },
    {
     "name": "stdout",
     "output_type": "stream",
     "text": [
      "logits is [[0.3905506  0.36120027 0.24824907]]\n",
      "logits is [[0.49211198 0.27177006 0.2361179 ]]\n"
     ]
    },
    {
     "name": "stderr",
     "output_type": "stream",
     "text": [
      " 14%|█▍        | 414/2874 [01:02<05:50,  7.03it/s]Setting `pad_token_id` to `eos_token_id`:128001 for open-end generation.\n",
      " 14%|█▍        | 415/2874 [01:02<06:18,  6.51it/s]Setting `pad_token_id` to `eos_token_id`:128001 for open-end generation.\n"
     ]
    },
    {
     "name": "stdout",
     "output_type": "stream",
     "text": [
      "logits is [[0.34161004 0.37518525 0.28320467]]\n",
      "logits is [[0.11968082 0.7217678  0.15855134]]\n"
     ]
    },
    {
     "name": "stderr",
     "output_type": "stream",
     "text": [
      " 14%|█▍        | 416/2874 [01:03<06:51,  5.97it/s]Setting `pad_token_id` to `eos_token_id`:128001 for open-end generation.\n",
      " 15%|█▍        | 417/2874 [01:03<06:31,  6.27it/s]Setting `pad_token_id` to `eos_token_id`:128001 for open-end generation.\n"
     ]
    },
    {
     "name": "stdout",
     "output_type": "stream",
     "text": [
      "logits is [[0.7675323  0.10717152 0.1252962 ]]\n",
      "logits is [[0.31525594 0.3743757  0.31036833]]\n"
     ]
    },
    {
     "name": "stderr",
     "output_type": "stream",
     "text": [
      " 15%|█▍        | 418/2874 [01:03<07:19,  5.59it/s]Setting `pad_token_id` to `eos_token_id`:128001 for open-end generation.\n",
      " 15%|█▍        | 419/2874 [01:03<06:29,  6.31it/s]Setting `pad_token_id` to `eos_token_id`:128001 for open-end generation.\n"
     ]
    },
    {
     "name": "stdout",
     "output_type": "stream",
     "text": [
      "logits is [[0.6376263  0.07497295 0.2874007 ]]\n",
      "logits is [[0.30854928 0.31340823 0.3780425 ]]\n"
     ]
    },
    {
     "name": "stderr",
     "output_type": "stream",
     "text": [
      " 15%|█▍        | 420/2874 [01:03<05:53,  6.95it/s]Setting `pad_token_id` to `eos_token_id`:128001 for open-end generation.\n",
      " 15%|█▍        | 421/2874 [01:03<06:25,  6.36it/s]Setting `pad_token_id` to `eos_token_id`:128001 for open-end generation.\n"
     ]
    },
    {
     "name": "stdout",
     "output_type": "stream",
     "text": [
      "logits is [[0.12620333 0.72625    0.14754663]]\n",
      "logits is [[0.7065957 0.0710642 0.2223402]]\n"
     ]
    },
    {
     "name": "stderr",
     "output_type": "stream",
     "text": [
      " 15%|█▍        | 422/2874 [01:03<06:04,  6.73it/s]Setting `pad_token_id` to `eos_token_id`:128001 for open-end generation.\n",
      " 15%|█▍        | 423/2874 [01:04<05:59,  6.81it/s]Setting `pad_token_id` to `eos_token_id`:128001 for open-end generation.\n"
     ]
    },
    {
     "name": "stdout",
     "output_type": "stream",
     "text": [
      "logits is [[0.16561559 0.6250267  0.20935772]]\n",
      "logits is [[0.5082844  0.24009654 0.251619  ]]\n"
     ]
    },
    {
     "name": "stderr",
     "output_type": "stream",
     "text": [
      " 15%|█▍        | 424/2874 [01:04<06:09,  6.63it/s]Setting `pad_token_id` to `eos_token_id`:128001 for open-end generation.\n",
      " 15%|█▍        | 425/2874 [01:04<05:51,  6.97it/s]Setting `pad_token_id` to `eos_token_id`:128001 for open-end generation.\n"
     ]
    },
    {
     "name": "stdout",
     "output_type": "stream",
     "text": [
      "logits is [[0.37644017 0.34815022 0.27540952]]\n",
      "logits is [[0.81544363 0.08867538 0.09588095]]\n"
     ]
    },
    {
     "name": "stderr",
     "output_type": "stream",
     "text": [
      " 15%|█▍        | 426/2874 [01:04<06:32,  6.24it/s]Setting `pad_token_id` to `eos_token_id`:128001 for open-end generation.\n",
      " 15%|█▍        | 427/2874 [01:04<05:58,  6.83it/s]Setting `pad_token_id` to `eos_token_id`:128001 for open-end generation.\n"
     ]
    },
    {
     "name": "stdout",
     "output_type": "stream",
     "text": [
      "logits is [[0.26661387 0.49810025 0.2352859 ]]\n",
      "logits is [[0.5300424  0.26239002 0.20756759]]\n"
     ]
    },
    {
     "name": "stderr",
     "output_type": "stream",
     "text": [
      " 15%|█▍        | 428/2874 [01:04<05:50,  6.98it/s]Setting `pad_token_id` to `eos_token_id`:128001 for open-end generation.\n",
      " 15%|█▍        | 429/2874 [01:05<06:20,  6.43it/s]Setting `pad_token_id` to `eos_token_id`:128001 for open-end generation.\n"
     ]
    },
    {
     "name": "stdout",
     "output_type": "stream",
     "text": [
      "logits is [[0.2852721  0.5246957  0.19003218]]\n",
      "logits is [[0.27357805 0.46537197 0.26105002]]\n"
     ]
    },
    {
     "name": "stderr",
     "output_type": "stream",
     "text": [
      " 15%|█▍        | 430/2874 [01:05<06:12,  6.56it/s]Setting `pad_token_id` to `eos_token_id`:128001 for open-end generation.\n"
     ]
    },
    {
     "name": "stdout",
     "output_type": "stream",
     "text": [
      "logits is [[0.27672142 0.44219953 0.2810791 ]]\n"
     ]
    },
    {
     "name": "stderr",
     "output_type": "stream",
     "text": [
      " 15%|█▍        | 431/2874 [01:05<07:20,  5.55it/s]Setting `pad_token_id` to `eos_token_id`:128001 for open-end generation.\n",
      " 15%|█▌        | 432/2874 [01:05<06:43,  6.05it/s]Setting `pad_token_id` to `eos_token_id`:128001 for open-end generation.\n"
     ]
    },
    {
     "name": "stdout",
     "output_type": "stream",
     "text": [
      "logits is [[0.24917479 0.47285065 0.27797455]]\n",
      "logits is [[0.6407902  0.18941723 0.1697925 ]]\n"
     ]
    },
    {
     "name": "stderr",
     "output_type": "stream",
     "text": [
      " 15%|█▌        | 433/2874 [01:05<07:19,  5.56it/s]Setting `pad_token_id` to `eos_token_id`:128001 for open-end generation.\n",
      " 15%|█▌        | 434/2874 [01:05<07:31,  5.41it/s]"
     ]
    },
    {
     "name": "stdout",
     "output_type": "stream",
     "text": [
      "logits is [[0.21586198 0.3615008  0.42263725]]\n",
      "logits is [[0.35545275 0.4221106  0.22243667]]\n"
     ]
    },
    {
     "name": "stderr",
     "output_type": "stream",
     "text": [
      "Setting `pad_token_id` to `eos_token_id`:128001 for open-end generation.\n",
      " 15%|█▌        | 435/2874 [01:06<06:47,  5.98it/s]Setting `pad_token_id` to `eos_token_id`:128001 for open-end generation.\n",
      " 15%|█▌        | 436/2874 [01:06<06:12,  6.55it/s]Setting `pad_token_id` to `eos_token_id`:128001 for open-end generation.\n"
     ]
    },
    {
     "name": "stdout",
     "output_type": "stream",
     "text": [
      "logits is [[0.14952016 0.62950337 0.22097647]]\n",
      "logits is [[0.10192496 0.77703613 0.12103888]]\n"
     ]
    },
    {
     "name": "stderr",
     "output_type": "stream",
     "text": [
      " 15%|█▌        | 437/2874 [01:06<07:24,  5.48it/s]Setting `pad_token_id` to `eos_token_id`:128001 for open-end generation.\n",
      " 15%|█▌        | 438/2874 [01:06<06:30,  6.23it/s]Setting `pad_token_id` to `eos_token_id`:128001 for open-end generation.\n"
     ]
    },
    {
     "name": "stdout",
     "output_type": "stream",
     "text": [
      "logits is [[0.38810024 0.2585305  0.3533693 ]]\n",
      "logits is [[0.3315036  0.39367026 0.27482614]]\n"
     ]
    },
    {
     "name": "stderr",
     "output_type": "stream",
     "text": [
      " 15%|█▌        | 439/2874 [01:06<06:34,  6.18it/s]Setting `pad_token_id` to `eos_token_id`:128001 for open-end generation.\n",
      " 15%|█▌        | 440/2874 [01:06<05:55,  6.85it/s]Setting `pad_token_id` to `eos_token_id`:128001 for open-end generation.\n"
     ]
    },
    {
     "name": "stdout",
     "output_type": "stream",
     "text": [
      "logits is [[0.61911124 0.19787985 0.18300892]]\n",
      "logits is [[0.25685537 0.31966168 0.42348292]]\n"
     ]
    },
    {
     "name": "stderr",
     "output_type": "stream",
     "text": [
      " 15%|█▌        | 441/2874 [01:07<07:16,  5.58it/s]Setting `pad_token_id` to `eos_token_id`:128001 for open-end generation.\n",
      " 15%|█▌        | 442/2874 [01:07<06:43,  6.02it/s]Setting `pad_token_id` to `eos_token_id`:128001 for open-end generation.\n"
     ]
    },
    {
     "name": "stdout",
     "output_type": "stream",
     "text": [
      "logits is [[0.36482704 0.33740985 0.29776317]]\n",
      "logits is [[0.15698315 0.6506771  0.19233978]]\n"
     ]
    },
    {
     "name": "stderr",
     "output_type": "stream",
     "text": [
      " 15%|█▌        | 443/2874 [01:07<06:15,  6.48it/s]Setting `pad_token_id` to `eos_token_id`:128001 for open-end generation.\n"
     ]
    },
    {
     "name": "stdout",
     "output_type": "stream",
     "text": [
      "logits is [[0.16236521 0.694348   0.14328681]]\n"
     ]
    },
    {
     "name": "stderr",
     "output_type": "stream",
     "text": [
      " 15%|█▌        | 444/2874 [01:07<07:26,  5.45it/s]Setting `pad_token_id` to `eos_token_id`:128001 for open-end generation.\n",
      " 15%|█▌        | 445/2874 [01:07<06:41,  6.05it/s]Setting `pad_token_id` to `eos_token_id`:128001 for open-end generation.\n"
     ]
    },
    {
     "name": "stdout",
     "output_type": "stream",
     "text": [
      "logits is [[0.49497175 0.17787182 0.32715636]]\n",
      "logits is [[0.05845853 0.8197034  0.12183803]]\n"
     ]
    },
    {
     "name": "stderr",
     "output_type": "stream",
     "text": [
      " 16%|█▌        | 446/2874 [01:07<06:12,  6.52it/s]Setting `pad_token_id` to `eos_token_id`:128001 for open-end generation.\n",
      " 16%|█▌        | 447/2874 [01:08<06:04,  6.66it/s]Setting `pad_token_id` to `eos_token_id`:128001 for open-end generation.\n"
     ]
    },
    {
     "name": "stdout",
     "output_type": "stream",
     "text": [
      "logits is [[0.32278475 0.3833164  0.29389888]]\n",
      "logits is [[0.5785666  0.24498051 0.17645286]]\n"
     ]
    },
    {
     "name": "stderr",
     "output_type": "stream",
     "text": [
      " 16%|█▌        | 448/2874 [01:08<05:46,  7.01it/s]Setting `pad_token_id` to `eos_token_id`:128001 for open-end generation.\n",
      " 16%|█▌        | 449/2874 [01:08<05:31,  7.31it/s]Setting `pad_token_id` to `eos_token_id`:128001 for open-end generation.\n"
     ]
    },
    {
     "name": "stdout",
     "output_type": "stream",
     "text": [
      "logits is [[0.6213494  0.22154894 0.15710174]]\n",
      "logits is [[0.21705252 0.11437865 0.66856885]]\n"
     ]
    },
    {
     "name": "stderr",
     "output_type": "stream",
     "text": [
      " 16%|█▌        | 450/2874 [01:08<05:26,  7.43it/s]Setting `pad_token_id` to `eos_token_id`:128001 for open-end generation.\n",
      " 16%|█▌        | 451/2874 [01:08<05:21,  7.53it/s]Setting `pad_token_id` to `eos_token_id`:128001 for open-end generation.\n"
     ]
    },
    {
     "name": "stdout",
     "output_type": "stream",
     "text": [
      "logits is [[0.5271757  0.11050203 0.36232224]]\n",
      "logits is [[0.42266828 0.30443656 0.27289516]]\n"
     ]
    },
    {
     "name": "stderr",
     "output_type": "stream",
     "text": [
      " 16%|█▌        | 452/2874 [01:08<05:23,  7.48it/s]Setting `pad_token_id` to `eos_token_id`:128001 for open-end generation.\n",
      " 16%|█▌        | 453/2874 [01:08<05:32,  7.28it/s]Setting `pad_token_id` to `eos_token_id`:128001 for open-end generation.\n"
     ]
    },
    {
     "name": "stdout",
     "output_type": "stream",
     "text": [
      "logits is [[0.5648672  0.19218637 0.24294637]]\n",
      "logits is [[0.8003396  0.07103417 0.12862627]]\n"
     ]
    },
    {
     "name": "stderr",
     "output_type": "stream",
     "text": [
      " 16%|█▌        | 454/2874 [01:08<05:15,  7.68it/s]Setting `pad_token_id` to `eos_token_id`:128001 for open-end generation.\n",
      " 16%|█▌        | 455/2874 [01:09<05:13,  7.72it/s]Setting `pad_token_id` to `eos_token_id`:128001 for open-end generation.\n"
     ]
    },
    {
     "name": "stdout",
     "output_type": "stream",
     "text": [
      "logits is [[0.513707   0.18898225 0.2973108 ]]\n",
      "logits is [[0.33556312 0.41114053 0.25329635]]\n"
     ]
    },
    {
     "name": "stderr",
     "output_type": "stream",
     "text": [
      " 16%|█▌        | 456/2874 [01:09<05:13,  7.72it/s]Setting `pad_token_id` to `eos_token_id`:128001 for open-end generation.\n",
      " 16%|█▌        | 457/2874 [01:09<05:21,  7.52it/s]Setting `pad_token_id` to `eos_token_id`:128001 for open-end generation.\n"
     ]
    },
    {
     "name": "stdout",
     "output_type": "stream",
     "text": [
      "logits is [[0.0476539  0.81869733 0.13364866]]\n",
      "logits is [[0.23119152 0.59966516 0.16914332]]\n"
     ]
    },
    {
     "name": "stderr",
     "output_type": "stream",
     "text": [
      " 16%|█▌        | 458/2874 [01:09<05:04,  7.92it/s]Setting `pad_token_id` to `eos_token_id`:128001 for open-end generation.\n",
      " 16%|█▌        | 459/2874 [01:09<04:56,  8.14it/s]Setting `pad_token_id` to `eos_token_id`:128001 for open-end generation.\n"
     ]
    },
    {
     "name": "stdout",
     "output_type": "stream",
     "text": [
      "logits is [[0.1159621 0.7680758 0.1159621]]\n",
      "logits is [[0.543711   0.12131833 0.33497062]]\n"
     ]
    },
    {
     "name": "stderr",
     "output_type": "stream",
     "text": [
      " 16%|█▌        | 460/2874 [01:09<06:30,  6.18it/s]Setting `pad_token_id` to `eos_token_id`:128001 for open-end generation.\n"
     ]
    },
    {
     "name": "stdout",
     "output_type": "stream",
     "text": [
      "logits is [[0.5644565  0.28829616 0.14724728]]\n"
     ]
    },
    {
     "name": "stderr",
     "output_type": "stream",
     "text": [
      " 16%|█▌        | 461/2874 [01:10<07:07,  5.64it/s]Setting `pad_token_id` to `eos_token_id`:128001 for open-end generation.\n",
      " 16%|█▌        | 462/2874 [01:10<06:52,  5.84it/s]Setting `pad_token_id` to `eos_token_id`:128001 for open-end generation.\n"
     ]
    },
    {
     "name": "stdout",
     "output_type": "stream",
     "text": [
      "logits is [[0.4168485  0.27337593 0.3097755 ]]\n",
      "logits is [[0.51054585 0.27327552 0.2161787 ]]\n"
     ]
    },
    {
     "name": "stderr",
     "output_type": "stream",
     "text": [
      " 16%|█▌        | 463/2874 [01:10<06:30,  6.17it/s]Setting `pad_token_id` to `eos_token_id`:128001 for open-end generation.\n",
      " 16%|█▌        | 464/2874 [01:10<06:06,  6.57it/s]Setting `pad_token_id` to `eos_token_id`:128001 for open-end generation.\n"
     ]
    },
    {
     "name": "stdout",
     "output_type": "stream",
     "text": [
      "logits is [[0.1556045  0.74234754 0.10204792]]\n",
      "logits is [[0.19406246 0.5528325  0.25310513]]\n"
     ]
    },
    {
     "name": "stderr",
     "output_type": "stream",
     "text": [
      " 16%|█▌        | 465/2874 [01:10<07:07,  5.63it/s]Setting `pad_token_id` to `eos_token_id`:128001 for open-end generation.\n",
      " 16%|█▌        | 466/2874 [01:10<06:50,  5.87it/s]Setting `pad_token_id` to `eos_token_id`:128001 for open-end generation.\n"
     ]
    },
    {
     "name": "stdout",
     "output_type": "stream",
     "text": [
      "logits is [[0.21390252 0.43889946 0.34719804]]\n",
      "logits is [[0.3220405  0.37066635 0.30729318]]\n"
     ]
    },
    {
     "name": "stderr",
     "output_type": "stream",
     "text": [
      " 16%|█▌        | 467/2874 [01:10<06:28,  6.20it/s]Setting `pad_token_id` to `eos_token_id`:128001 for open-end generation.\n",
      " 16%|█▋        | 468/2874 [01:11<06:10,  6.50it/s]Setting `pad_token_id` to `eos_token_id`:128001 for open-end generation.\n"
     ]
    },
    {
     "name": "stdout",
     "output_type": "stream",
     "text": [
      "logits is [[0.55278367 0.15591979 0.29129654]]\n",
      "logits is [[0.22846416 0.08946785 0.682068  ]]\n"
     ]
    },
    {
     "name": "stderr",
     "output_type": "stream",
     "text": [
      " 16%|█▋        | 469/2874 [01:11<05:35,  7.17it/s]Setting `pad_token_id` to `eos_token_id`:128001 for open-end generation.\n",
      " 16%|█▋        | 470/2874 [01:11<05:15,  7.62it/s]Setting `pad_token_id` to `eos_token_id`:128001 for open-end generation.\n"
     ]
    },
    {
     "name": "stdout",
     "output_type": "stream",
     "text": [
      "logits is [[0.3157821  0.36346295 0.32075492]]\n",
      "logits is [[0.24486987 0.30474547 0.45038462]]\n"
     ]
    },
    {
     "name": "stderr",
     "output_type": "stream",
     "text": [
      " 16%|█▋        | 471/2874 [01:11<04:58,  8.04it/s]Setting `pad_token_id` to `eos_token_id`:128001 for open-end generation.\n"
     ]
    },
    {
     "name": "stdout",
     "output_type": "stream",
     "text": [
      "logits is [[0.29284045 0.40026543 0.30689415]]\n"
     ]
    },
    {
     "name": "stderr",
     "output_type": "stream",
     "text": [
      " 16%|█▋        | 472/2874 [01:11<06:15,  6.39it/s]Setting `pad_token_id` to `eos_token_id`:128001 for open-end generation.\n"
     ]
    },
    {
     "name": "stdout",
     "output_type": "stream",
     "text": [
      "logits is [[0.44112882 0.19883235 0.36003885]]\n"
     ]
    },
    {
     "name": "stderr",
     "output_type": "stream",
     "text": [
      " 16%|█▋        | 473/2874 [01:11<07:24,  5.40it/s]Setting `pad_token_id` to `eos_token_id`:128001 for open-end generation.\n",
      " 16%|█▋        | 474/2874 [01:12<07:08,  5.60it/s]Setting `pad_token_id` to `eos_token_id`:128001 for open-end generation.\n"
     ]
    },
    {
     "name": "stdout",
     "output_type": "stream",
     "text": [
      "logits is [[0.8152842  0.01875695 0.16595885]]\n",
      "logits is [[0.7125195  0.14935221 0.13812822]]\n"
     ]
    },
    {
     "name": "stderr",
     "output_type": "stream",
     "text": [
      " 17%|█▋        | 475/2874 [01:12<07:06,  5.63it/s]Setting `pad_token_id` to `eos_token_id`:128001 for open-end generation.\n",
      " 17%|█▋        | 476/2874 [01:12<06:30,  6.14it/s]Setting `pad_token_id` to `eos_token_id`:128001 for open-end generation.\n"
     ]
    },
    {
     "name": "stdout",
     "output_type": "stream",
     "text": [
      "logits is [[0.4749264  0.29720137 0.22787218]]\n",
      "logits is [[0.01121689 0.8772529  0.11153019]]\n"
     ]
    },
    {
     "name": "stderr",
     "output_type": "stream",
     "text": [
      " 17%|█▋        | 477/2874 [01:12<05:50,  6.84it/s]Setting `pad_token_id` to `eos_token_id`:128001 for open-end generation.\n",
      " 17%|█▋        | 478/2874 [01:12<06:15,  6.38it/s]Setting `pad_token_id` to `eos_token_id`:128001 for open-end generation.\n"
     ]
    },
    {
     "name": "stdout",
     "output_type": "stream",
     "text": [
      "logits is [[0.41026092 0.3735468  0.21619232]]\n",
      "logits is [[0.13110887 0.6658257  0.20306538]]\n"
     ]
    },
    {
     "name": "stderr",
     "output_type": "stream",
     "text": [
      " 17%|█▋        | 479/2874 [01:12<06:20,  6.29it/s]Setting `pad_token_id` to `eos_token_id`:128001 for open-end generation.\n",
      " 17%|█▋        | 480/2874 [01:12<05:48,  6.88it/s]Setting `pad_token_id` to `eos_token_id`:128001 for open-end generation.\n"
     ]
    },
    {
     "name": "stdout",
     "output_type": "stream",
     "text": [
      "logits is [[0.08126201 0.8207173  0.0980207 ]]\n",
      "logits is [[0.8670984 0.0496887 0.0832129]]\n"
     ]
    },
    {
     "name": "stderr",
     "output_type": "stream",
     "text": [
      " 17%|█▋        | 481/2874 [01:13<05:25,  7.35it/s]Setting `pad_token_id` to `eos_token_id`:128001 for open-end generation.\n",
      " 17%|█▋        | 482/2874 [01:13<05:07,  7.78it/s]Setting `pad_token_id` to `eos_token_id`:128001 for open-end generation.\n"
     ]
    },
    {
     "name": "stdout",
     "output_type": "stream",
     "text": [
      "logits is [[0.3807055  0.26165482 0.35763973]]\n",
      "logits is [[0.4317076  0.15635413 0.41193825]]\n"
     ]
    },
    {
     "name": "stderr",
     "output_type": "stream",
     "text": [
      " 17%|█▋        | 483/2874 [01:13<05:55,  6.72it/s]Setting `pad_token_id` to `eos_token_id`:128001 for open-end generation.\n",
      " 17%|█▋        | 484/2874 [01:13<05:31,  7.22it/s]Setting `pad_token_id` to `eos_token_id`:128001 for open-end generation.\n"
     ]
    },
    {
     "name": "stdout",
     "output_type": "stream",
     "text": [
      "logits is [[0.21734464 0.5816444  0.20101094]]\n",
      "logits is [[0.20245966 0.44221258 0.35532779]]\n"
     ]
    },
    {
     "name": "stderr",
     "output_type": "stream",
     "text": [
      " 17%|█▋        | 485/2874 [01:13<05:12,  7.64it/s]Setting `pad_token_id` to `eos_token_id`:128001 for open-end generation.\n",
      " 17%|█▋        | 486/2874 [01:13<05:40,  7.02it/s]Setting `pad_token_id` to `eos_token_id`:128001 for open-end generation.\n"
     ]
    },
    {
     "name": "stdout",
     "output_type": "stream",
     "text": [
      "logits is [[0.3005141  0.46544534 0.23404062]]\n",
      "logits is [[0.18991716 0.16760132 0.6424815 ]]\n"
     ]
    },
    {
     "name": "stderr",
     "output_type": "stream",
     "text": [
      " 17%|█▋        | 487/2874 [01:13<06:17,  6.32it/s]Setting `pad_token_id` to `eos_token_id`:128001 for open-end generation.\n",
      " 17%|█▋        | 488/2874 [01:14<05:48,  6.86it/s]Setting `pad_token_id` to `eos_token_id`:128001 for open-end generation.\n"
     ]
    },
    {
     "name": "stdout",
     "output_type": "stream",
     "text": [
      "logits is [[0.89355475 0.0220229  0.08442239]]\n",
      "logits is [[0.2786076  0.08365317 0.6377392 ]]\n"
     ]
    },
    {
     "name": "stderr",
     "output_type": "stream",
     "text": [
      " 17%|█▋        | 489/2874 [01:14<05:26,  7.31it/s]Setting `pad_token_id` to `eos_token_id`:128001 for open-end generation.\n",
      " 17%|█▋        | 490/2874 [01:14<05:10,  7.68it/s]Setting `pad_token_id` to `eos_token_id`:128001 for open-end generation.\n"
     ]
    },
    {
     "name": "stdout",
     "output_type": "stream",
     "text": [
      "logits is [[0.73390454 0.08903272 0.1770627 ]]\n",
      "logits is [[0.10258403 0.80688584 0.09053008]]\n"
     ]
    },
    {
     "name": "stderr",
     "output_type": "stream",
     "text": [
      " 17%|█▋        | 491/2874 [01:14<05:54,  6.73it/s]Setting `pad_token_id` to `eos_token_id`:128001 for open-end generation.\n",
      " 17%|█▋        | 492/2874 [01:14<05:25,  7.33it/s]Setting `pad_token_id` to `eos_token_id`:128001 for open-end generation.\n"
     ]
    },
    {
     "name": "stdout",
     "output_type": "stream",
     "text": [
      "logits is [[0.5198714  0.23069154 0.24943702]]\n",
      "logits is [[0.31116268 0.3872482  0.3015892 ]]\n"
     ]
    },
    {
     "name": "stderr",
     "output_type": "stream",
     "text": [
      " 17%|█▋        | 493/2874 [01:14<05:38,  7.04it/s]Setting `pad_token_id` to `eos_token_id`:128001 for open-end generation.\n",
      " 17%|█▋        | 494/2874 [01:14<05:13,  7.58it/s]Setting `pad_token_id` to `eos_token_id`:128001 for open-end generation.\n"
     ]
    },
    {
     "name": "stdout",
     "output_type": "stream",
     "text": [
      "logits is [[0.15554006 0.3344637  0.50999624]]\n",
      "logits is [[0.23152709 0.20432195 0.564151  ]]\n"
     ]
    },
    {
     "name": "stderr",
     "output_type": "stream",
     "text": [
      " 17%|█▋        | 495/2874 [01:14<05:03,  7.85it/s]Setting `pad_token_id` to `eos_token_id`:128001 for open-end generation.\n",
      " 17%|█▋        | 496/2874 [01:15<05:16,  7.52it/s]Setting `pad_token_id` to `eos_token_id`:128001 for open-end generation.\n"
     ]
    },
    {
     "name": "stdout",
     "output_type": "stream",
     "text": [
      "logits is [[0.34525687 0.34525687 0.30948624]]\n",
      "logits is [[0.09081206 0.28860012 0.62058777]]\n"
     ]
    },
    {
     "name": "stderr",
     "output_type": "stream",
     "text": [
      " 17%|█▋        | 497/2874 [01:15<06:38,  5.97it/s]Setting `pad_token_id` to `eos_token_id`:128001 for open-end generation.\n",
      " 17%|█▋        | 498/2874 [01:15<05:58,  6.63it/s]Setting `pad_token_id` to `eos_token_id`:128001 for open-end generation.\n"
     ]
    },
    {
     "name": "stdout",
     "output_type": "stream",
     "text": [
      "logits is [[0.33610815 0.38086045 0.28303143]]\n",
      "logits is [[0.3195655  0.34553272 0.33490178]]\n"
     ]
    },
    {
     "name": "stderr",
     "output_type": "stream",
     "text": [
      " 17%|█▋        | 499/2874 [01:15<06:14,  6.34it/s]Setting `pad_token_id` to `eos_token_id`:128001 for open-end generation.\n",
      " 17%|█▋        | 500/2874 [01:15<05:44,  6.90it/s]Setting `pad_token_id` to `eos_token_id`:128001 for open-end generation.\n"
     ]
    },
    {
     "name": "stdout",
     "output_type": "stream",
     "text": [
      "logits is [[0.06211193 0.81816417 0.11972388]]\n",
      "logits is [[0.18526873 0.5277815  0.2869498 ]]\n"
     ]
    },
    {
     "name": "stderr",
     "output_type": "stream",
     "text": [
      " 17%|█▋        | 501/2874 [01:15<05:22,  7.36it/s]Setting `pad_token_id` to `eos_token_id`:128001 for open-end generation.\n",
      " 17%|█▋        | 502/2874 [01:16<05:05,  7.77it/s]Setting `pad_token_id` to `eos_token_id`:128001 for open-end generation.\n"
     ]
    },
    {
     "name": "stdout",
     "output_type": "stream",
     "text": [
      "logits is [[0.3398622  0.40359634 0.25654143]]\n",
      "logits is [[0.4318183  0.32595354 0.2422281 ]]\n"
     ]
    },
    {
     "name": "stderr",
     "output_type": "stream",
     "text": [
      " 18%|█▊        | 503/2874 [01:16<06:04,  6.50it/s]Setting `pad_token_id` to `eos_token_id`:128001 for open-end generation.\n",
      " 18%|█▊        | 504/2874 [01:16<06:25,  6.15it/s]Setting `pad_token_id` to `eos_token_id`:128001 for open-end generation.\n"
     ]
    },
    {
     "name": "stdout",
     "output_type": "stream",
     "text": [
      "logits is [[0.03691778 0.9085213  0.05456094]]\n",
      "logits is [[0.40839413 0.34390232 0.24770357]]\n"
     ]
    },
    {
     "name": "stderr",
     "output_type": "stream",
     "text": [
      " 18%|█▊        | 505/2874 [01:16<06:25,  6.14it/s]Setting `pad_token_id` to `eos_token_id`:128001 for open-end generation.\n",
      " 18%|█▊        | 506/2874 [01:16<06:09,  6.41it/s]Setting `pad_token_id` to `eos_token_id`:128001 for open-end generation.\n"
     ]
    },
    {
     "name": "stdout",
     "output_type": "stream",
     "text": [
      "logits is [[0.41944313 0.13406208 0.44649488]]\n",
      "logits is [[0.2688304  0.17087899 0.56029063]]\n"
     ]
    },
    {
     "name": "stderr",
     "output_type": "stream",
     "text": [
      " 18%|█▊        | 507/2874 [01:16<05:38,  6.99it/s]Setting `pad_token_id` to `eos_token_id`:128001 for open-end generation.\n",
      " 18%|█▊        | 508/2874 [01:16<05:15,  7.49it/s]Setting `pad_token_id` to `eos_token_id`:128001 for open-end generation.\n"
     ]
    },
    {
     "name": "stdout",
     "output_type": "stream",
     "text": [
      "logits is [[0.25196487 0.33905578 0.40897936]]\n",
      "logits is [[0.7734239  0.09832982 0.12824625]]\n"
     ]
    },
    {
     "name": "stderr",
     "output_type": "stream",
     "text": [
      " 18%|█▊        | 509/2874 [01:17<04:56,  7.97it/s]Setting `pad_token_id` to `eos_token_id`:128001 for open-end generation.\n",
      " 18%|█▊        | 510/2874 [01:17<04:43,  8.33it/s]Setting `pad_token_id` to `eos_token_id`:128001 for open-end generation.\n"
     ]
    },
    {
     "name": "stdout",
     "output_type": "stream",
     "text": [
      "logits is [[0.0485676  0.8214587  0.12997364]]\n",
      "logits is [[0.1996489  0.40330186 0.39704925]]\n"
     ]
    },
    {
     "name": "stderr",
     "output_type": "stream",
     "text": [
      " 18%|█▊        | 511/2874 [01:17<04:37,  8.53it/s]Setting `pad_token_id` to `eos_token_id`:128001 for open-end generation.\n",
      " 18%|█▊        | 512/2874 [01:17<04:36,  8.56it/s]Setting `pad_token_id` to `eos_token_id`:128001 for open-end generation.\n"
     ]
    },
    {
     "name": "stdout",
     "output_type": "stream",
     "text": [
      "logits is [[0.18997148 0.25167134 0.55835724]]\n",
      "logits is [[0.5514297  0.15798725 0.29058304]]\n"
     ]
    },
    {
     "name": "stderr",
     "output_type": "stream",
     "text": [
      " 18%|█▊        | 513/2874 [01:17<04:45,  8.28it/s]Setting `pad_token_id` to `eos_token_id`:128001 for open-end generation.\n",
      " 18%|█▊        | 514/2874 [01:17<04:36,  8.54it/s]Setting `pad_token_id` to `eos_token_id`:128001 for open-end generation.\n"
     ]
    },
    {
     "name": "stdout",
     "output_type": "stream",
     "text": [
      "logits is [[0.72313267 0.14922686 0.1276405 ]]\n",
      "logits is [[0.09830748 0.71513766 0.18655482]]\n"
     ]
    },
    {
     "name": "stderr",
     "output_type": "stream",
     "text": [
      " 18%|█▊        | 515/2874 [01:17<04:33,  8.62it/s]Setting `pad_token_id` to `eos_token_id`:128001 for open-end generation.\n",
      " 18%|█▊        | 516/2874 [01:17<05:14,  7.51it/s]Setting `pad_token_id` to `eos_token_id`:128001 for open-end generation.\n"
     ]
    },
    {
     "name": "stdout",
     "output_type": "stream",
     "text": [
      "logits is [[0.26896104 0.17916669 0.55187225]]\n",
      "logits is [[0.27066332 0.49782607 0.23151062]]\n"
     ]
    },
    {
     "name": "stderr",
     "output_type": "stream",
     "text": [
      " 18%|█▊        | 517/2874 [01:18<05:53,  6.67it/s]Setting `pad_token_id` to `eos_token_id`:128001 for open-end generation.\n",
      " 18%|█▊        | 518/2874 [01:18<05:22,  7.30it/s]Setting `pad_token_id` to `eos_token_id`:128001 for open-end generation.\n"
     ]
    },
    {
     "name": "stdout",
     "output_type": "stream",
     "text": [
      "logits is [[0.6795905  0.15645063 0.16395885]]\n",
      "logits is [[0.06050777 0.07769351 0.8617987 ]]\n"
     ]
    },
    {
     "name": "stderr",
     "output_type": "stream",
     "text": [
      " 18%|█▊        | 519/2874 [01:18<05:35,  7.01it/s]Setting `pad_token_id` to `eos_token_id`:128001 for open-end generation.\n",
      " 18%|█▊        | 520/2874 [01:18<05:10,  7.58it/s]Setting `pad_token_id` to `eos_token_id`:128001 for open-end generation.\n"
     ]
    },
    {
     "name": "stdout",
     "output_type": "stream",
     "text": [
      "logits is [[0.2161787  0.51054585 0.27327552]]\n",
      "logits is [[0.19541149 0.62101644 0.18357211]]\n"
     ]
    },
    {
     "name": "stderr",
     "output_type": "stream",
     "text": [
      " 18%|█▊        | 521/2874 [01:18<05:27,  7.18it/s]Setting `pad_token_id` to `eos_token_id`:128001 for open-end generation.\n",
      " 18%|█▊        | 522/2874 [01:18<05:19,  7.37it/s]Setting `pad_token_id` to `eos_token_id`:128001 for open-end generation.\n"
     ]
    },
    {
     "name": "stdout",
     "output_type": "stream",
     "text": [
      "logits is [[0.83996415 0.02919461 0.13084118]]\n",
      "logits is [[0.2451077  0.32471493 0.4301774 ]]\n"
     ]
    },
    {
     "name": "stderr",
     "output_type": "stream",
     "text": [
      " 18%|█▊        | 523/2874 [01:18<05:05,  7.71it/s]Setting `pad_token_id` to `eos_token_id`:128001 for open-end generation.\n"
     ]
    },
    {
     "name": "stdout",
     "output_type": "stream",
     "text": [
      "logits is [[0.84972215 0.04719483 0.10308299]]\n"
     ]
    },
    {
     "name": "stderr",
     "output_type": "stream",
     "text": [
      " 18%|█▊        | 524/2874 [01:19<06:29,  6.03it/s]Setting `pad_token_id` to `eos_token_id`:128001 for open-end generation.\n",
      " 18%|█▊        | 525/2874 [01:19<05:55,  6.60it/s]Setting `pad_token_id` to `eos_token_id`:128001 for open-end generation.\n"
     ]
    },
    {
     "name": "stdout",
     "output_type": "stream",
     "text": [
      "logits is [[0.251013   0.32343036 0.42555657]]\n",
      "logits is [[0.49440762 0.24095502 0.26463735]]\n"
     ]
    },
    {
     "name": "stderr",
     "output_type": "stream",
     "text": [
      " 18%|█▊        | 526/2874 [01:19<05:30,  7.10it/s]Setting `pad_token_id` to `eos_token_id`:128001 for open-end generation.\n",
      " 18%|█▊        | 527/2874 [01:19<05:31,  7.09it/s]Setting `pad_token_id` to `eos_token_id`:128001 for open-end generation.\n"
     ]
    },
    {
     "name": "stdout",
     "output_type": "stream",
     "text": [
      "logits is [[0.4988199  0.20793906 0.29324108]]\n",
      "logits is [[0.15611039 0.62715167 0.21673782]]\n"
     ]
    },
    {
     "name": "stderr",
     "output_type": "stream",
     "text": [
      " 18%|█▊        | 528/2874 [01:19<06:23,  6.12it/s]Setting `pad_token_id` to `eos_token_id`:128001 for open-end generation.\n",
      " 18%|█▊        | 529/2874 [01:19<06:24,  6.10it/s]Setting `pad_token_id` to `eos_token_id`:128001 for open-end generation.\n"
     ]
    },
    {
     "name": "stdout",
     "output_type": "stream",
     "text": [
      "logits is [[0.39853406 0.3743881  0.22707787]]\n",
      "logits is [[0.38086045 0.33610815 0.28303143]]\n"
     ]
    },
    {
     "name": "stderr",
     "output_type": "stream",
     "text": [
      " 18%|█▊        | 530/2874 [01:19<05:44,  6.80it/s]Setting `pad_token_id` to `eos_token_id`:128001 for open-end generation.\n",
      " 18%|█▊        | 531/2874 [01:20<05:29,  7.11it/s]Setting `pad_token_id` to `eos_token_id`:128001 for open-end generation.\n"
     ]
    },
    {
     "name": "stdout",
     "output_type": "stream",
     "text": [
      "logits is [[0.11235596 0.8173334  0.07031057]]\n",
      "logits is [[0.3075008  0.36516625 0.3273329 ]]\n"
     ]
    },
    {
     "name": "stderr",
     "output_type": "stream",
     "text": [
      " 19%|█▊        | 532/2874 [01:20<05:19,  7.33it/s]Setting `pad_token_id` to `eos_token_id`:128001 for open-end generation.\n"
     ]
    },
    {
     "name": "stdout",
     "output_type": "stream",
     "text": [
      "logits is [[0.1327578  0.7759991  0.09124301]]\n"
     ]
    },
    {
     "name": "stderr",
     "output_type": "stream",
     "text": [
      " 19%|█▊        | 533/2874 [01:20<06:13,  6.27it/s]Setting `pad_token_id` to `eos_token_id`:128001 for open-end generation.\n",
      " 19%|█▊        | 534/2874 [01:20<05:39,  6.89it/s]Setting `pad_token_id` to `eos_token_id`:128001 for open-end generation.\n"
     ]
    },
    {
     "name": "stdout",
     "output_type": "stream",
     "text": [
      "logits is [[0.30592388 0.3632936  0.33078256]]\n",
      "logits is [[0.75693333 0.10735597 0.13571067]]\n"
     ]
    },
    {
     "name": "stderr",
     "output_type": "stream",
     "text": [
      " 19%|█▊        | 535/2874 [01:20<06:25,  6.07it/s]Setting `pad_token_id` to `eos_token_id`:128001 for open-end generation.\n",
      " 19%|█▊        | 536/2874 [01:20<05:44,  6.78it/s]Setting `pad_token_id` to `eos_token_id`:128001 for open-end generation.\n"
     ]
    },
    {
     "name": "stdout",
     "output_type": "stream",
     "text": [
      "logits is [[0.35455492 0.24368179 0.40176335]]\n",
      "logits is [[0.255932   0.30871296 0.43535504]]\n"
     ]
    },
    {
     "name": "stderr",
     "output_type": "stream",
     "text": [
      " 19%|█▊        | 537/2874 [01:20<05:18,  7.34it/s]Setting `pad_token_id` to `eos_token_id`:128001 for open-end generation.\n",
      " 19%|█▊        | 538/2874 [01:21<05:09,  7.56it/s]Setting `pad_token_id` to `eos_token_id`:128001 for open-end generation.\n"
     ]
    },
    {
     "name": "stdout",
     "output_type": "stream",
     "text": [
      "logits is [[0.03180702 0.8869709  0.08122208]]\n",
      "logits is [[0.66515154 0.13513373 0.19971472]]\n"
     ]
    },
    {
     "name": "stderr",
     "output_type": "stream",
     "text": [
      " 19%|█▉        | 539/2874 [01:21<04:59,  7.79it/s]Setting `pad_token_id` to `eos_token_id`:128001 for open-end generation.\n",
      " 19%|█▉        | 540/2874 [01:21<04:57,  7.86it/s]Setting `pad_token_id` to `eos_token_id`:128001 for open-end generation.\n"
     ]
    },
    {
     "name": "stdout",
     "output_type": "stream",
     "text": [
      "logits is [[0.24194768 0.4964444  0.26160783]]\n",
      "logits is [[0.39702734 0.33433053 0.26864213]]\n"
     ]
    },
    {
     "name": "stderr",
     "output_type": "stream",
     "text": [
      " 19%|█▉        | 541/2874 [01:21<04:46,  8.14it/s]Setting `pad_token_id` to `eos_token_id`:128001 for open-end generation.\n",
      " 19%|█▉        | 542/2874 [01:21<04:57,  7.83it/s]Setting `pad_token_id` to `eos_token_id`:128001 for open-end generation.\n"
     ]
    },
    {
     "name": "stdout",
     "output_type": "stream",
     "text": [
      "logits is [[0.2494777  0.18831566 0.5622067 ]]\n",
      "logits is [[0.3272386  0.46148035 0.21128109]]\n"
     ]
    },
    {
     "name": "stderr",
     "output_type": "stream",
     "text": [
      " 19%|█▉        | 543/2874 [01:21<05:22,  7.23it/s]Setting `pad_token_id` to `eos_token_id`:128001 for open-end generation.\n",
      " 19%|█▉        | 544/2874 [01:21<05:04,  7.65it/s]Setting `pad_token_id` to `eos_token_id`:128001 for open-end generation.\n"
     ]
    },
    {
     "name": "stdout",
     "output_type": "stream",
     "text": [
      "logits is [[0.51218903 0.23819003 0.24962099]]\n",
      "logits is [[0.27004185 0.33086216 0.39909598]]\n"
     ]
    },
    {
     "name": "stderr",
     "output_type": "stream",
     "text": [
      " 19%|█▉        | 545/2874 [01:22<06:00,  6.46it/s]Setting `pad_token_id` to `eos_token_id`:128001 for open-end generation.\n",
      " 19%|█▉        | 546/2874 [01:22<05:31,  7.02it/s]Setting `pad_token_id` to `eos_token_id`:128001 for open-end generation.\n"
     ]
    },
    {
     "name": "stdout",
     "output_type": "stream",
     "text": [
      "logits is [[0.12231358 0.6020485  0.2756379 ]]\n",
      "logits is [[0.06366958 0.68451244 0.25181806]]\n"
     ]
    },
    {
     "name": "stderr",
     "output_type": "stream",
     "text": [
      " 19%|█▉        | 547/2874 [01:22<05:31,  7.02it/s]Setting `pad_token_id` to `eos_token_id`:128001 for open-end generation.\n",
      " 19%|█▉        | 548/2874 [01:22<05:42,  6.79it/s]Setting `pad_token_id` to `eos_token_id`:128001 for open-end generation.\n"
     ]
    },
    {
     "name": "stdout",
     "output_type": "stream",
     "text": [
      "logits is [[0.9162411  0.01527977 0.06847917]]\n",
      "logits is [[0.05378614 0.6975093  0.2487046 ]]\n"
     ]
    },
    {
     "name": "stderr",
     "output_type": "stream",
     "text": [
      " 19%|█▉        | 549/2874 [01:22<05:21,  7.22it/s]Setting `pad_token_id` to `eos_token_id`:128001 for open-end generation.\n",
      " 19%|█▉        | 550/2874 [01:22<05:01,  7.72it/s]Setting `pad_token_id` to `eos_token_id`:128001 for open-end generation.\n"
     ]
    },
    {
     "name": "stdout",
     "output_type": "stream",
     "text": [
      "logits is [[0.82293546 0.07079248 0.1062721 ]]\n",
      "logits is [[0.31419504 0.36163628 0.32416865]]\n"
     ]
    },
    {
     "name": "stderr",
     "output_type": "stream",
     "text": [
      " 19%|█▉        | 551/2874 [01:22<06:25,  6.02it/s]Setting `pad_token_id` to `eos_token_id`:128001 for open-end generation.\n",
      " 19%|█▉        | 552/2874 [01:23<06:11,  6.26it/s]Setting `pad_token_id` to `eos_token_id`:128001 for open-end generation.\n"
     ]
    },
    {
     "name": "stdout",
     "output_type": "stream",
     "text": [
      "logits is [[0.11120847 0.4945232  0.39426827]]\n",
      "logits is [[0.8279968  0.07464618 0.09735697]]\n"
     ]
    },
    {
     "name": "stderr",
     "output_type": "stream",
     "text": [
      " 19%|█▉        | 553/2874 [01:23<07:19,  5.28it/s]Setting `pad_token_id` to `eos_token_id`:128001 for open-end generation.\n",
      " 19%|█▉        | 554/2874 [01:23<07:13,  5.35it/s]Setting `pad_token_id` to `eos_token_id`:128001 for open-end generation.\n"
     ]
    },
    {
     "name": "stdout",
     "output_type": "stream",
     "text": [
      "logits is [[0.1772888 0.4991648 0.3235464]]\n",
      "logits is [[0.47441092 0.28328368 0.24230538]]\n"
     ]
    },
    {
     "name": "stderr",
     "output_type": "stream",
     "text": [
      " 19%|█▉        | 555/2874 [01:23<06:42,  5.76it/s]Setting `pad_token_id` to `eos_token_id`:128001 for open-end generation.\n",
      " 19%|█▉        | 556/2874 [01:23<06:10,  6.26it/s]Setting `pad_token_id` to `eos_token_id`:128001 for open-end generation.\n"
     ]
    },
    {
     "name": "stdout",
     "output_type": "stream",
     "text": [
      "logits is [[0.849932   0.02373691 0.12633112]]\n",
      "logits is [[0.28219628 0.1738561  0.5439476 ]]\n"
     ]
    },
    {
     "name": "stderr",
     "output_type": "stream",
     "text": [
      " 19%|█▉        | 557/2874 [01:23<05:40,  6.81it/s]Setting `pad_token_id` to `eos_token_id`:128001 for open-end generation.\n",
      " 19%|█▉        | 558/2874 [01:24<05:36,  6.89it/s]Setting `pad_token_id` to `eos_token_id`:128001 for open-end generation.\n"
     ]
    },
    {
     "name": "stdout",
     "output_type": "stream",
     "text": [
      "logits is [[0.1463418  0.616122   0.23753619]]\n",
      "logits is [[0.26615432 0.38124847 0.35259718]]\n"
     ]
    },
    {
     "name": "stderr",
     "output_type": "stream",
     "text": [
      " 19%|█▉        | 559/2874 [01:24<05:23,  7.16it/s]Setting `pad_token_id` to `eos_token_id`:128001 for open-end generation.\n",
      " 19%|█▉        | 560/2874 [01:24<05:46,  6.67it/s]Setting `pad_token_id` to `eos_token_id`:128001 for open-end generation.\n"
     ]
    },
    {
     "name": "stdout",
     "output_type": "stream",
     "text": [
      "logits is [[0.1563933  0.5374034  0.30620325]]\n",
      "logits is [[0.7408309  0.06890801 0.19026111]]\n"
     ]
    },
    {
     "name": "stderr",
     "output_type": "stream",
     "text": [
      " 20%|█▉        | 561/2874 [01:24<05:38,  6.84it/s]Setting `pad_token_id` to `eos_token_id`:128001 for open-end generation.\n",
      " 20%|█▉        | 562/2874 [01:24<05:25,  7.10it/s]Setting `pad_token_id` to `eos_token_id`:128001 for open-end generation.\n"
     ]
    },
    {
     "name": "stdout",
     "output_type": "stream",
     "text": [
      "logits is [[0.71730727 0.09557195 0.1871208 ]]\n",
      "logits is [[0.51188415 0.2573915  0.23072428]]\n"
     ]
    },
    {
     "name": "stderr",
     "output_type": "stream",
     "text": [
      " 20%|█▉        | 563/2874 [01:24<05:01,  7.66it/s]Setting `pad_token_id` to `eos_token_id`:128001 for open-end generation.\n",
      " 20%|█▉        | 564/2874 [01:24<05:46,  6.66it/s]Setting `pad_token_id` to `eos_token_id`:128001 for open-end generation.\n"
     ]
    },
    {
     "name": "stdout",
     "output_type": "stream",
     "text": [
      "logits is [[0.20560613 0.24416333 0.55023056]]\n",
      "logits is [[0.1957401  0.5489667  0.25529322]]\n"
     ]
    },
    {
     "name": "stderr",
     "output_type": "stream",
     "text": [
      " 20%|█▉        | 565/2874 [01:25<05:19,  7.23it/s]Setting `pad_token_id` to `eos_token_id`:128001 for open-end generation.\n"
     ]
    },
    {
     "name": "stdout",
     "output_type": "stream",
     "text": [
      "logits is [[0.22681215 0.5791851  0.19400272]]\n"
     ]
    },
    {
     "name": "stderr",
     "output_type": "stream",
     "text": [
      " 20%|█▉        | 566/2874 [01:25<06:40,  5.76it/s]Setting `pad_token_id` to `eos_token_id`:128001 for open-end generation.\n",
      " 20%|█▉        | 567/2874 [01:25<06:55,  5.55it/s]"
     ]
    },
    {
     "name": "stdout",
     "output_type": "stream",
     "text": [
      "logits is [[0.5337329  0.26837775 0.19788934]]\n",
      "logits is [[0.2790809  0.48220855 0.23871054]]\n"
     ]
    },
    {
     "name": "stderr",
     "output_type": "stream",
     "text": [
      "Setting `pad_token_id` to `eos_token_id`:128001 for open-end generation.\n",
      " 20%|█▉        | 568/2874 [01:25<07:19,  5.25it/s]Setting `pad_token_id` to `eos_token_id`:128001 for open-end generation.\n",
      " 20%|█▉        | 569/2874 [01:25<06:28,  5.93it/s]Setting `pad_token_id` to `eos_token_id`:128001 for open-end generation.\n"
     ]
    },
    {
     "name": "stdout",
     "output_type": "stream",
     "text": [
      "logits is [[0.06843445 0.57299465 0.3585709 ]]\n",
      "logits is [[0.84510934 0.05075276 0.1041379 ]]\n"
     ]
    },
    {
     "name": "stderr",
     "output_type": "stream",
     "text": [
      " 20%|█▉        | 570/2874 [01:25<05:46,  6.65it/s]Setting `pad_token_id` to `eos_token_id`:128001 for open-end generation.\n"
     ]
    },
    {
     "name": "stdout",
     "output_type": "stream",
     "text": [
      "logits is [[0.48845097 0.24180076 0.26974827]]\n"
     ]
    },
    {
     "name": "stderr",
     "output_type": "stream",
     "text": [
      " 20%|█▉        | 571/2874 [01:26<06:27,  5.95it/s]Setting `pad_token_id` to `eos_token_id`:128001 for open-end generation.\n",
      " 20%|█▉        | 572/2874 [01:26<06:33,  5.85it/s]Setting `pad_token_id` to `eos_token_id`:128001 for open-end generation.\n"
     ]
    },
    {
     "name": "stdout",
     "output_type": "stream",
     "text": [
      "logits is [[0.18210062 0.34556627 0.47233307]]\n",
      "logits is [[0.40725988 0.2755658  0.31717432]]\n"
     ]
    },
    {
     "name": "stderr",
     "output_type": "stream",
     "text": [
      " 20%|█▉        | 573/2874 [01:26<05:54,  6.49it/s]Setting `pad_token_id` to `eos_token_id`:128001 for open-end generation.\n",
      " 20%|█▉        | 574/2874 [01:26<05:23,  7.10it/s]Setting `pad_token_id` to `eos_token_id`:128001 for open-end generation.\n"
     ]
    },
    {
     "name": "stdout",
     "output_type": "stream",
     "text": [
      "logits is [[0.70289195 0.17496364 0.1221443 ]]\n",
      "logits is [[0.28178298 0.43643403 0.28178298]]\n"
     ]
    },
    {
     "name": "stderr",
     "output_type": "stream",
     "text": [
      " 20%|██        | 575/2874 [01:26<05:25,  7.06it/s]Setting `pad_token_id` to `eos_token_id`:128001 for open-end generation.\n",
      " 20%|██        | 576/2874 [01:26<05:27,  7.01it/s]Setting `pad_token_id` to `eos_token_id`:128001 for open-end generation.\n"
     ]
    },
    {
     "name": "stdout",
     "output_type": "stream",
     "text": [
      "logits is [[0.3219365  0.40696585 0.2710977 ]]\n",
      "logits is [[0.8337857  0.05854095 0.10767328]]\n"
     ]
    },
    {
     "name": "stderr",
     "output_type": "stream",
     "text": [
      " 20%|██        | 577/2874 [01:26<05:15,  7.28it/s]Setting `pad_token_id` to `eos_token_id`:128001 for open-end generation.\n"
     ]
    },
    {
     "name": "stdout",
     "output_type": "stream",
     "text": [
      "logits is [[0.15707432 0.69304436 0.14988136]]\n"
     ]
    },
    {
     "name": "stderr",
     "output_type": "stream",
     "text": [
      " 20%|██        | 578/2874 [01:27<06:07,  6.25it/s]Setting `pad_token_id` to `eos_token_id`:128001 for open-end generation.\n",
      " 20%|██        | 579/2874 [01:27<05:32,  6.91it/s]Setting `pad_token_id` to `eos_token_id`:128001 for open-end generation.\n"
     ]
    },
    {
     "name": "stdout",
     "output_type": "stream",
     "text": [
      "logits is [[0.14224409 0.6475328  0.21022312]]\n",
      "logits is [[0.35470173 0.3602875  0.28501084]]\n"
     ]
    },
    {
     "name": "stderr",
     "output_type": "stream",
     "text": [
      " 20%|██        | 580/2874 [01:27<05:55,  6.45it/s]Setting `pad_token_id` to `eos_token_id`:128001 for open-end generation.\n",
      " 20%|██        | 581/2874 [01:27<05:33,  6.87it/s]Setting `pad_token_id` to `eos_token_id`:128001 for open-end generation.\n"
     ]
    },
    {
     "name": "stdout",
     "output_type": "stream",
     "text": [
      "logits is [[0.02217799 0.8858968  0.09192523]]\n",
      "logits is [[0.72252715 0.0672055  0.21026738]]\n"
     ]
    },
    {
     "name": "stderr",
     "output_type": "stream",
     "text": [
      " 20%|██        | 582/2874 [01:27<05:14,  7.29it/s]Setting `pad_token_id` to `eos_token_id`:128001 for open-end generation.\n",
      " 20%|██        | 583/2874 [01:27<05:00,  7.63it/s]Setting `pad_token_id` to `eos_token_id`:128001 for open-end generation.\n"
     ]
    },
    {
     "name": "stdout",
     "output_type": "stream",
     "text": [
      "logits is [[0.35094243 0.11393432 0.5351233 ]]\n",
      "logits is [[0.17669526 0.61672705 0.20657769]]\n"
     ]
    },
    {
     "name": "stderr",
     "output_type": "stream",
     "text": [
      " 20%|██        | 584/2874 [01:27<04:55,  7.76it/s]Setting `pad_token_id` to `eos_token_id`:128001 for open-end generation.\n",
      " 20%|██        | 585/2874 [01:28<05:04,  7.52it/s]Setting `pad_token_id` to `eos_token_id`:128001 for open-end generation.\n"
     ]
    },
    {
     "name": "stdout",
     "output_type": "stream",
     "text": [
      "logits is [[0.31312627 0.4148249  0.27204883]]\n",
      "logits is [[0.7066976  0.08440299 0.20889941]]\n"
     ]
    },
    {
     "name": "stderr",
     "output_type": "stream",
     "text": [
      " 20%|██        | 586/2874 [01:28<05:25,  7.03it/s]Setting `pad_token_id` to `eos_token_id`:128001 for open-end generation.\n",
      " 20%|██        | 587/2874 [01:28<05:05,  7.48it/s]Setting `pad_token_id` to `eos_token_id`:128001 for open-end generation.\n"
     ]
    },
    {
     "name": "stdout",
     "output_type": "stream",
     "text": [
      "logits is [[0.03125099 0.85795456 0.11079439]]\n",
      "logits is [[0.793374   0.06214185 0.14448413]]\n"
     ]
    },
    {
     "name": "stderr",
     "output_type": "stream",
     "text": [
      " 20%|██        | 588/2874 [01:28<04:49,  7.90it/s]Setting `pad_token_id` to `eos_token_id`:128001 for open-end generation.\n"
     ]
    },
    {
     "name": "stdout",
     "output_type": "stream",
     "text": [
      "logits is [[0.7819406  0.05157457 0.16648476]]\n"
     ]
    },
    {
     "name": "stderr",
     "output_type": "stream",
     "text": [
      " 20%|██        | 589/2874 [01:28<05:46,  6.59it/s]Setting `pad_token_id` to `eos_token_id`:128001 for open-end generation.\n",
      " 21%|██        | 590/2874 [01:28<05:21,  7.10it/s]Setting `pad_token_id` to `eos_token_id`:128001 for open-end generation.\n"
     ]
    },
    {
     "name": "stdout",
     "output_type": "stream",
     "text": [
      "logits is [[0.30644464 0.41886017 0.27469522]]\n",
      "logits is [[0.7722282  0.09972387 0.12804797]]\n"
     ]
    },
    {
     "name": "stderr",
     "output_type": "stream",
     "text": [
      " 21%|██        | 591/2874 [01:28<05:11,  7.32it/s]Setting `pad_token_id` to `eos_token_id`:128001 for open-end generation.\n",
      " 21%|██        | 592/2874 [01:29<05:27,  6.96it/s]Setting `pad_token_id` to `eos_token_id`:128001 for open-end generation.\n"
     ]
    },
    {
     "name": "stdout",
     "output_type": "stream",
     "text": [
      "logits is [[0.73414344 0.11435749 0.15149906]]\n",
      "logits is [[0.15267102 0.66317266 0.18415639]]\n"
     ]
    },
    {
     "name": "stderr",
     "output_type": "stream",
     "text": [
      " 21%|██        | 593/2874 [01:29<05:53,  6.46it/s]Setting `pad_token_id` to `eos_token_id`:128001 for open-end generation.\n",
      " 21%|██        | 594/2874 [01:29<05:30,  6.90it/s]Setting `pad_token_id` to `eos_token_id`:128001 for open-end generation.\n"
     ]
    },
    {
     "name": "stdout",
     "output_type": "stream",
     "text": [
      "logits is [[0.16618818 0.52814496 0.30566686]]\n",
      "logits is [[0.16316898 0.17099963 0.6658313 ]]\n"
     ]
    },
    {
     "name": "stderr",
     "output_type": "stream",
     "text": [
      " 21%|██        | 595/2874 [01:29<06:44,  5.64it/s]Setting `pad_token_id` to `eos_token_id`:128001 for open-end generation.\n",
      " 21%|██        | 596/2874 [01:29<06:11,  6.13it/s]Setting `pad_token_id` to `eos_token_id`:128001 for open-end generation.\n"
     ]
    },
    {
     "name": "stdout",
     "output_type": "stream",
     "text": [
      "logits is [[0.49793833 0.40324277 0.09881889]]\n",
      "logits is [[0.1559599  0.5616332  0.28240693]]\n"
     ]
    },
    {
     "name": "stderr",
     "output_type": "stream",
     "text": [
      " 21%|██        | 597/2874 [01:29<05:36,  6.76it/s]Setting `pad_token_id` to `eos_token_id`:128001 for open-end generation.\n",
      " 21%|██        | 598/2874 [01:30<05:32,  6.85it/s]Setting `pad_token_id` to `eos_token_id`:128001 for open-end generation.\n"
     ]
    },
    {
     "name": "stdout",
     "output_type": "stream",
     "text": [
      "logits is [[0.0959845  0.1607438  0.74327177]]\n",
      "logits is [[0.26067248 0.5265729  0.21275468]]\n"
     ]
    },
    {
     "name": "stderr",
     "output_type": "stream",
     "text": [
      " 21%|██        | 599/2874 [01:30<06:07,  6.19it/s]Setting `pad_token_id` to `eos_token_id`:128001 for open-end generation.\n",
      " 21%|██        | 600/2874 [01:30<06:32,  5.79it/s]"
     ]
    },
    {
     "name": "stdout",
     "output_type": "stream",
     "text": [
      "logits is [[0.6079975  0.20365365 0.18834883]]\n",
      "logits is [[0.361169   0.4092581  0.22957298]]\n"
     ]
    },
    {
     "name": "stderr",
     "output_type": "stream",
     "text": [
      "Setting `pad_token_id` to `eos_token_id`:128001 for open-end generation.\n",
      " 21%|██        | 601/2874 [01:30<05:52,  6.45it/s]Setting `pad_token_id` to `eos_token_id`:128001 for open-end generation.\n",
      " 21%|██        | 602/2874 [01:30<05:25,  6.99it/s]Setting `pad_token_id` to `eos_token_id`:128001 for open-end generation.\n"
     ]
    },
    {
     "name": "stdout",
     "output_type": "stream",
     "text": [
      "logits is [[0.13778952 0.43110526 0.43110526]]\n",
      "logits is [[0.23849098 0.31594923 0.4455598 ]]\n"
     ]
    },
    {
     "name": "stderr",
     "output_type": "stream",
     "text": [
      " 21%|██        | 603/2874 [01:30<05:07,  7.39it/s]Setting `pad_token_id` to `eos_token_id`:128001 for open-end generation.\n",
      " 21%|██        | 604/2874 [01:30<05:45,  6.57it/s]Setting `pad_token_id` to `eos_token_id`:128001 for open-end generation.\n"
     ]
    },
    {
     "name": "stdout",
     "output_type": "stream",
     "text": [
      "logits is [[0.32398063 0.4032004  0.272819  ]]\n",
      "logits is [[0.13273945 0.5948969  0.27236363]]\n"
     ]
    },
    {
     "name": "stderr",
     "output_type": "stream",
     "text": [
      " 21%|██        | 605/2874 [01:31<05:24,  7.00it/s]Setting `pad_token_id` to `eos_token_id`:128001 for open-end generation.\n",
      " 21%|██        | 606/2874 [01:31<05:58,  6.33it/s]Setting `pad_token_id` to `eos_token_id`:128001 for open-end generation.\n"
     ]
    },
    {
     "name": "stdout",
     "output_type": "stream",
     "text": [
      "logits is [[0.012666   0.93056893 0.05676507]]\n",
      "logits is [[0.47603592 0.30258682 0.22137727]]\n"
     ]
    },
    {
     "name": "stderr",
     "output_type": "stream",
     "text": [
      " 21%|██        | 607/2874 [01:31<05:29,  6.87it/s]Setting `pad_token_id` to `eos_token_id`:128001 for open-end generation.\n",
      " 21%|██        | 608/2874 [01:31<05:08,  7.34it/s]Setting `pad_token_id` to `eos_token_id`:128001 for open-end generation.\n"
     ]
    },
    {
     "name": "stdout",
     "output_type": "stream",
     "text": [
      "logits is [[0.17510672 0.37070096 0.45419228]]\n",
      "logits is [[0.13732217 0.75404704 0.10863078]]\n"
     ]
    },
    {
     "name": "stderr",
     "output_type": "stream",
     "text": [
      " 21%|██        | 609/2874 [01:31<04:50,  7.80it/s]Setting `pad_token_id` to `eos_token_id`:128001 for open-end generation.\n",
      " 21%|██        | 610/2874 [01:31<04:37,  8.15it/s]Setting `pad_token_id` to `eos_token_id`:128001 for open-end generation.\n"
     ]
    },
    {
     "name": "stdout",
     "output_type": "stream",
     "text": [
      "logits is [[0.08703298 0.7287182  0.18424882]]\n",
      "logits is [[0.13250728 0.68352455 0.18396814]]\n"
     ]
    },
    {
     "name": "stderr",
     "output_type": "stream",
     "text": [
      " 21%|██▏       | 611/2874 [01:31<04:26,  8.48it/s]Setting `pad_token_id` to `eos_token_id`:128001 for open-end generation.\n",
      " 21%|██▏       | 612/2874 [01:32<05:16,  7.15it/s]Setting `pad_token_id` to `eos_token_id`:128001 for open-end generation.\n"
     ]
    },
    {
     "name": "stdout",
     "output_type": "stream",
     "text": [
      "logits is [[0.16558559 0.5779505  0.25646397]]\n",
      "logits is [[0.05311568 0.830869   0.11601531]]\n"
     ]
    },
    {
     "name": "stderr",
     "output_type": "stream",
     "text": [
      " 21%|██▏       | 613/2874 [01:32<04:57,  7.61it/s]Setting `pad_token_id` to `eos_token_id`:128001 for open-end generation.\n",
      " 21%|██▏       | 614/2874 [01:32<05:02,  7.48it/s]Setting `pad_token_id` to `eos_token_id`:128001 for open-end generation.\n"
     ]
    },
    {
     "name": "stdout",
     "output_type": "stream",
     "text": [
      "logits is [[0.712567   0.08644418 0.20098874]]\n",
      "logits is [[0.36629128 0.42823792 0.20547079]]\n"
     ]
    },
    {
     "name": "stderr",
     "output_type": "stream",
     "text": [
      " 21%|██▏       | 615/2874 [01:32<04:46,  7.89it/s]Setting `pad_token_id` to `eos_token_id`:128001 for open-end generation.\n",
      " 21%|██▏       | 616/2874 [01:32<04:34,  8.23it/s]Setting `pad_token_id` to `eos_token_id`:128001 for open-end generation.\n"
     ]
    },
    {
     "name": "stdout",
     "output_type": "stream",
     "text": [
      "logits is [[0.164032   0.16661513 0.66935295]]\n",
      "logits is [[0.13595812 0.15167224 0.7123696 ]]\n"
     ]
    },
    {
     "name": "stderr",
     "output_type": "stream",
     "text": [
      " 21%|██▏       | 617/2874 [01:32<04:26,  8.45it/s]Setting `pad_token_id` to `eos_token_id`:128001 for open-end generation.\n"
     ]
    },
    {
     "name": "stdout",
     "output_type": "stream",
     "text": [
      "logits is [[0.7019062  0.13396114 0.16413262]]\n"
     ]
    },
    {
     "name": "stderr",
     "output_type": "stream",
     "text": [
      " 22%|██▏       | 618/2874 [01:32<05:56,  6.33it/s]Setting `pad_token_id` to `eos_token_id`:128001 for open-end generation.\n",
      " 22%|██▏       | 619/2874 [01:33<06:06,  6.15it/s]Setting `pad_token_id` to `eos_token_id`:128001 for open-end generation.\n"
     ]
    },
    {
     "name": "stdout",
     "output_type": "stream",
     "text": [
      "logits is [[0.027487   0.00734045 0.9651725 ]]\n",
      "logits is [[0.48675054 0.26464167 0.24860784]]\n"
     ]
    },
    {
     "name": "stderr",
     "output_type": "stream",
     "text": [
      " 22%|██▏       | 620/2874 [01:33<06:41,  5.62it/s]Setting `pad_token_id` to `eos_token_id`:128001 for open-end generation.\n",
      " 22%|██▏       | 621/2874 [01:33<06:04,  6.18it/s]Setting `pad_token_id` to `eos_token_id`:128001 for open-end generation.\n"
     ]
    },
    {
     "name": "stdout",
     "output_type": "stream",
     "text": [
      "logits is [[0.2661996  0.51311314 0.22068723]]\n",
      "logits is [[0.08541346 0.6824087  0.23217785]]\n"
     ]
    },
    {
     "name": "stderr",
     "output_type": "stream",
     "text": [
      " 22%|██▏       | 622/2874 [01:33<06:01,  6.23it/s]Setting `pad_token_id` to `eos_token_id`:128001 for open-end generation.\n",
      " 22%|██▏       | 623/2874 [01:33<05:27,  6.88it/s]Setting `pad_token_id` to `eos_token_id`:128001 for open-end generation.\n"
     ]
    },
    {
     "name": "stdout",
     "output_type": "stream",
     "text": [
      "logits is [[0.27180657 0.4845476  0.24364583]]\n",
      "logits is [[0.72041005 0.12133685 0.15825309]]\n"
     ]
    },
    {
     "name": "stderr",
     "output_type": "stream",
     "text": [
      " 22%|██▏       | 624/2874 [01:33<05:04,  7.38it/s]Setting `pad_token_id` to `eos_token_id`:128001 for open-end generation.\n",
      " 22%|██▏       | 625/2874 [01:33<04:48,  7.80it/s]Setting `pad_token_id` to `eos_token_id`:128001 for open-end generation.\n"
     ]
    },
    {
     "name": "stdout",
     "output_type": "stream",
     "text": [
      "logits is [[0.46072778 0.21763238 0.3216398 ]]\n",
      "logits is [[0.16508076 0.558461   0.27645823]]\n"
     ]
    },
    {
     "name": "stderr",
     "output_type": "stream",
     "text": [
      " 22%|██▏       | 626/2874 [01:34<05:21,  6.99it/s]Setting `pad_token_id` to `eos_token_id`:128001 for open-end generation.\n"
     ]
    },
    {
     "name": "stdout",
     "output_type": "stream",
     "text": [
      "logits is [[0.40680724 0.34256604 0.25062668]]\n"
     ]
    },
    {
     "name": "stderr",
     "output_type": "stream",
     "text": [
      " 22%|██▏       | 627/2874 [01:34<06:34,  5.70it/s]Setting `pad_token_id` to `eos_token_id`:128001 for open-end generation.\n",
      " 22%|██▏       | 628/2874 [01:34<06:45,  5.54it/s]Setting `pad_token_id` to `eos_token_id`:128001 for open-end generation.\n"
     ]
    },
    {
     "name": "stdout",
     "output_type": "stream",
     "text": [
      "logits is [[0.04928906 0.35024735 0.6004636 ]]\n",
      "logits is [[0.61672705 0.20657769 0.17669526]]\n"
     ]
    },
    {
     "name": "stderr",
     "output_type": "stream",
     "text": [
      " 22%|██▏       | 629/2874 [01:34<06:01,  6.21it/s]Setting `pad_token_id` to `eos_token_id`:128001 for open-end generation.\n",
      " 22%|██▏       | 630/2874 [01:34<05:36,  6.67it/s]Setting `pad_token_id` to `eos_token_id`:128001 for open-end generation.\n"
     ]
    },
    {
     "name": "stdout",
     "output_type": "stream",
     "text": [
      "logits is [[0.34914163 0.3658973  0.2849611 ]]\n",
      "logits is [[0.1556982  0.58759886 0.25670293]]\n"
     ]
    },
    {
     "name": "stderr",
     "output_type": "stream",
     "text": [
      " 22%|██▏       | 631/2874 [01:34<05:21,  6.97it/s]Setting `pad_token_id` to `eos_token_id`:128001 for open-end generation.\n",
      " 22%|██▏       | 632/2874 [01:34<04:58,  7.51it/s]Setting `pad_token_id` to `eos_token_id`:128001 for open-end generation.\n"
     ]
    },
    {
     "name": "stdout",
     "output_type": "stream",
     "text": [
      "logits is [[0.37431854 0.3201716  0.3055099 ]]\n",
      "logits is [[0.42629156 0.16693817 0.40677023]]\n"
     ]
    },
    {
     "name": "stderr",
     "output_type": "stream",
     "text": [
      " 22%|██▏       | 633/2874 [01:35<05:38,  6.61it/s]Setting `pad_token_id` to `eos_token_id`:128001 for open-end generation.\n",
      " 22%|██▏       | 634/2874 [01:35<06:10,  6.04it/s]"
     ]
    },
    {
     "name": "stdout",
     "output_type": "stream",
     "text": [
      "logits is [[0.24472417 0.51808107 0.23719479]]\n",
      "logits is [[0.356276   0.36188653 0.28183752]]\n"
     ]
    },
    {
     "name": "stderr",
     "output_type": "stream",
     "text": [
      "Setting `pad_token_id` to `eos_token_id`:128001 for open-end generation.\n",
      " 22%|██▏       | 635/2874 [01:35<05:33,  6.72it/s]Setting `pad_token_id` to `eos_token_id`:128001 for open-end generation.\n",
      " 22%|██▏       | 636/2874 [01:35<05:09,  7.22it/s]Setting `pad_token_id` to `eos_token_id`:128001 for open-end generation.\n"
     ]
    },
    {
     "name": "stdout",
     "output_type": "stream",
     "text": [
      "logits is [[0.16314176 0.3793159  0.45754236]]\n",
      "logits is [[0.50383    0.26549977 0.23067018]]\n"
     ]
    },
    {
     "name": "stderr",
     "output_type": "stream",
     "text": [
      " 22%|██▏       | 637/2874 [01:35<05:27,  6.84it/s]Setting `pad_token_id` to `eos_token_id`:128001 for open-end generation.\n",
      " 22%|██▏       | 638/2874 [01:35<05:21,  6.95it/s]Setting `pad_token_id` to `eos_token_id`:128001 for open-end generation.\n"
     ]
    },
    {
     "name": "stdout",
     "output_type": "stream",
     "text": [
      "logits is [[0.27484947 0.47489727 0.2502533 ]]\n",
      "logits is [[0.36516625 0.3273329  0.3075008 ]]\n"
     ]
    },
    {
     "name": "stderr",
     "output_type": "stream",
     "text": [
      " 22%|██▏       | 639/2874 [01:36<05:03,  7.37it/s]Setting `pad_token_id` to `eos_token_id`:128001 for open-end generation.\n",
      " 22%|██▏       | 640/2874 [01:36<04:51,  7.66it/s]Setting `pad_token_id` to `eos_token_id`:128001 for open-end generation.\n"
     ]
    },
    {
     "name": "stdout",
     "output_type": "stream",
     "text": [
      "logits is [[0.6989341  0.16343762 0.13762829]]\n",
      "logits is [[0.80526656 0.05479908 0.13993435]]\n"
     ]
    },
    {
     "name": "stderr",
     "output_type": "stream",
     "text": [
      " 22%|██▏       | 641/2874 [01:36<04:57,  7.50it/s]Setting `pad_token_id` to `eos_token_id`:128001 for open-end generation.\n",
      " 22%|██▏       | 642/2874 [01:36<04:42,  7.91it/s]Setting `pad_token_id` to `eos_token_id`:128001 for open-end generation.\n"
     ]
    },
    {
     "name": "stdout",
     "output_type": "stream",
     "text": [
      "logits is [[0.43017736 0.3247149  0.24510768]]\n",
      "logits is [[0.3263181 0.3473638 0.3263181]]\n"
     ]
    },
    {
     "name": "stderr",
     "output_type": "stream",
     "text": [
      " 22%|██▏       | 643/2874 [01:36<04:51,  7.66it/s]Setting `pad_token_id` to `eos_token_id`:128001 for open-end generation.\n",
      " 22%|██▏       | 644/2874 [01:36<05:15,  7.08it/s]Setting `pad_token_id` to `eos_token_id`:128001 for open-end generation.\n"
     ]
    },
    {
     "name": "stdout",
     "output_type": "stream",
     "text": [
      "logits is [[0.10669458 0.663876   0.22942942]]\n",
      "logits is [[0.3382272  0.3489637  0.31280905]]\n"
     ]
    },
    {
     "name": "stderr",
     "output_type": "stream",
     "text": [
      " 22%|██▏       | 645/2874 [01:36<05:30,  6.75it/s]Setting `pad_token_id` to `eos_token_id`:128001 for open-end generation.\n"
     ]
    },
    {
     "name": "stdout",
     "output_type": "stream",
     "text": [
      "logits is [[0.42603713 0.23163237 0.34233046]]\n"
     ]
    },
    {
     "name": "stderr",
     "output_type": "stream",
     "text": [
      " 22%|██▏       | 646/2874 [01:37<06:12,  5.98it/s]Setting `pad_token_id` to `eos_token_id`:128001 for open-end generation.\n",
      " 23%|██▎       | 647/2874 [01:37<05:35,  6.64it/s]Setting `pad_token_id` to `eos_token_id`:128001 for open-end generation.\n"
     ]
    },
    {
     "name": "stdout",
     "output_type": "stream",
     "text": [
      "logits is [[0.3748146  0.34664685 0.27853855]]\n",
      "logits is [[0.24134028 0.3147671  0.44389272]]\n"
     ]
    },
    {
     "name": "stderr",
     "output_type": "stream",
     "text": [
      " 23%|██▎       | 648/2874 [01:37<05:51,  6.33it/s]Setting `pad_token_id` to `eos_token_id`:128001 for open-end generation.\n",
      " 23%|██▎       | 649/2874 [01:37<05:20,  6.93it/s]Setting `pad_token_id` to `eos_token_id`:128001 for open-end generation.\n"
     ]
    },
    {
     "name": "stdout",
     "output_type": "stream",
     "text": [
      "logits is [[0.05459315 0.85398054 0.09142632]]\n",
      "logits is [[0.41145048 0.30576402 0.2827855 ]]\n"
     ]
    },
    {
     "name": "stderr",
     "output_type": "stream",
     "text": [
      " 23%|██▎       | 650/2874 [01:37<05:56,  6.24it/s]Setting `pad_token_id` to `eos_token_id`:128001 for open-end generation.\n",
      " 23%|██▎       | 651/2874 [01:37<05:21,  6.91it/s]Setting `pad_token_id` to `eos_token_id`:128001 for open-end generation.\n"
     ]
    },
    {
     "name": "stdout",
     "output_type": "stream",
     "text": [
      "logits is [[0.1270982  0.6354511  0.23745072]]\n",
      "logits is [[0.658349   0.15883408 0.18281691]]\n"
     ]
    },
    {
     "name": "stderr",
     "output_type": "stream",
     "text": [
      " 23%|██▎       | 652/2874 [01:37<05:10,  7.17it/s]Setting `pad_token_id` to `eos_token_id`:128001 for open-end generation.\n",
      " 23%|██▎       | 653/2874 [01:38<05:11,  7.13it/s]Setting `pad_token_id` to `eos_token_id`:128001 for open-end generation.\n"
     ]
    },
    {
     "name": "stdout",
     "output_type": "stream",
     "text": [
      "logits is [[0.2704695  0.5053035  0.22422707]]\n",
      "logits is [[0.3179     0.3834606  0.29863942]]\n"
     ]
    },
    {
     "name": "stderr",
     "output_type": "stream",
     "text": [
      " 23%|██▎       | 654/2874 [01:38<05:37,  6.59it/s]Setting `pad_token_id` to `eos_token_id`:128001 for open-end generation.\n",
      " 23%|██▎       | 655/2874 [01:38<05:09,  7.17it/s]Setting `pad_token_id` to `eos_token_id`:128001 for open-end generation.\n"
     ]
    },
    {
     "name": "stdout",
     "output_type": "stream",
     "text": [
      "logits is [[0.47127613 0.26436195 0.26436195]]\n",
      "logits is [[0.06241933 0.79691654 0.14066413]]\n"
     ]
    },
    {
     "name": "stderr",
     "output_type": "stream",
     "text": [
      " 23%|██▎       | 656/2874 [01:38<06:24,  5.77it/s]Setting `pad_token_id` to `eos_token_id`:128001 for open-end generation.\n",
      " 23%|██▎       | 657/2874 [01:38<05:51,  6.31it/s]Setting `pad_token_id` to `eos_token_id`:128001 for open-end generation.\n"
     ]
    },
    {
     "name": "stdout",
     "output_type": "stream",
     "text": [
      "logits is [[0.5844166  0.1890849  0.22649847]]\n",
      "logits is [[0.7324188  0.14422181 0.12335945]]\n"
     ]
    },
    {
     "name": "stderr",
     "output_type": "stream",
     "text": [
      " 23%|██▎       | 658/2874 [01:38<05:23,  6.85it/s]Setting `pad_token_id` to `eos_token_id`:128001 for open-end generation.\n"
     ]
    },
    {
     "name": "stdout",
     "output_type": "stream",
     "text": [
      "logits is [[0.55795145 0.20207663 0.23997194]]\n"
     ]
    },
    {
     "name": "stderr",
     "output_type": "stream",
     "text": [
      " 23%|██▎       | 659/2874 [01:39<06:08,  6.01it/s]Setting `pad_token_id` to `eos_token_id`:128001 for open-end generation.\n"
     ]
    },
    {
     "name": "stdout",
     "output_type": "stream",
     "text": [
      "logits is [[0.32781607 0.31773022 0.35445368]]\n"
     ]
    },
    {
     "name": "stderr",
     "output_type": "stream",
     "text": [
      " 23%|██▎       | 660/2874 [01:39<07:05,  5.21it/s]Setting `pad_token_id` to `eos_token_id`:128001 for open-end generation.\n",
      " 23%|██▎       | 661/2874 [01:39<06:11,  5.96it/s]Setting `pad_token_id` to `eos_token_id`:128001 for open-end generation.\n"
     ]
    },
    {
     "name": "stdout",
     "output_type": "stream",
     "text": [
      "logits is [[0.27774423 0.23479947 0.4874563 ]]\n",
      "logits is [[0.39285803 0.26582104 0.34132096]]\n"
     ]
    },
    {
     "name": "stderr",
     "output_type": "stream",
     "text": [
      " 23%|██▎       | 662/2874 [01:39<05:56,  6.20it/s]Setting `pad_token_id` to `eos_token_id`:128001 for open-end generation.\n"
     ]
    },
    {
     "name": "stdout",
     "output_type": "stream",
     "text": [
      "logits is [[0.59083086 0.19181469 0.21735454]]\n"
     ]
    },
    {
     "name": "stderr",
     "output_type": "stream",
     "text": [
      " 23%|██▎       | 663/2874 [01:39<06:54,  5.34it/s]Setting `pad_token_id` to `eos_token_id`:128001 for open-end generation.\n",
      " 23%|██▎       | 664/2874 [01:39<06:04,  6.06it/s]Setting `pad_token_id` to `eos_token_id`:128001 for open-end generation.\n"
     ]
    },
    {
     "name": "stdout",
     "output_type": "stream",
     "text": [
      "logits is [[0.28641117 0.40390447 0.3096843 ]]\n",
      "logits is [[0.16651477 0.154001   0.67948425]]\n"
     ]
    },
    {
     "name": "stderr",
     "output_type": "stream",
     "text": [
      " 23%|██▎       | 665/2874 [01:40<06:21,  5.79it/s]Setting `pad_token_id` to `eos_token_id`:128001 for open-end generation.\n",
      " 23%|██▎       | 666/2874 [01:40<06:24,  5.75it/s]Setting `pad_token_id` to `eos_token_id`:128001 for open-end generation.\n"
     ]
    },
    {
     "name": "stdout",
     "output_type": "stream",
     "text": [
      "logits is [[0.8256119  0.06777035 0.10661773]]\n",
      "logits is [[0.14185527 0.597233   0.2609118 ]]\n"
     ]
    },
    {
     "name": "stderr",
     "output_type": "stream",
     "text": [
      " 23%|██▎       | 667/2874 [01:40<05:41,  6.46it/s]Setting `pad_token_id` to `eos_token_id`:128001 for open-end generation.\n",
      " 23%|██▎       | 668/2874 [01:40<05:52,  6.25it/s]Setting `pad_token_id` to `eos_token_id`:128001 for open-end generation.\n"
     ]
    },
    {
     "name": "stdout",
     "output_type": "stream",
     "text": [
      "logits is [[0.40784886 0.29838863 0.29376253]]\n",
      "logits is [[0.7076497  0.1268746  0.16547567]]\n"
     ]
    },
    {
     "name": "stderr",
     "output_type": "stream",
     "text": [
      " 23%|██▎       | 669/2874 [01:40<05:40,  6.48it/s]Setting `pad_token_id` to `eos_token_id`:128001 for open-end generation.\n",
      " 23%|██▎       | 670/2874 [01:40<05:09,  7.13it/s]Setting `pad_token_id` to `eos_token_id`:128001 for open-end generation.\n"
     ]
    },
    {
     "name": "stdout",
     "output_type": "stream",
     "text": [
      "logits is [[0.44606948 0.24252376 0.31140667]]\n",
      "logits is [[0.5347487  0.30469063 0.16056068]]\n"
     ]
    },
    {
     "name": "stderr",
     "output_type": "stream",
     "text": [
      " 23%|██▎       | 671/2874 [01:40<04:50,  7.57it/s]Setting `pad_token_id` to `eos_token_id`:128001 for open-end generation.\n",
      " 23%|██▎       | 672/2874 [01:41<05:21,  6.84it/s]Setting `pad_token_id` to `eos_token_id`:128001 for open-end generation.\n"
     ]
    },
    {
     "name": "stdout",
     "output_type": "stream",
     "text": [
      "logits is [[0.08019452 0.5925618  0.32724372]]\n",
      "logits is [[0.15558268 0.66534275 0.17907457]]\n"
     ]
    },
    {
     "name": "stderr",
     "output_type": "stream",
     "text": [
      " 23%|██▎       | 673/2874 [01:41<06:29,  5.65it/s]Setting `pad_token_id` to `eos_token_id`:128001 for open-end generation.\n",
      " 23%|██▎       | 674/2874 [01:41<06:16,  5.84it/s]Setting `pad_token_id` to `eos_token_id`:128001 for open-end generation.\n"
     ]
    },
    {
     "name": "stdout",
     "output_type": "stream",
     "text": [
      "logits is [[0.24250571 0.5296812  0.22781307]]\n",
      "logits is [[0.27360672 0.54413193 0.18226136]]\n"
     ]
    },
    {
     "name": "stderr",
     "output_type": "stream",
     "text": [
      " 23%|██▎       | 675/2874 [01:41<05:36,  6.53it/s]Setting `pad_token_id` to `eos_token_id`:128001 for open-end generation.\n",
      " 24%|██▎       | 676/2874 [01:41<05:07,  7.16it/s]Setting `pad_token_id` to `eos_token_id`:128001 for open-end generation.\n"
     ]
    },
    {
     "name": "stdout",
     "output_type": "stream",
     "text": [
      "logits is [[0.31290415 0.25940666 0.42768925]]\n",
      "logits is [[0.07121295 0.8149891  0.11379798]]\n"
     ]
    },
    {
     "name": "stderr",
     "output_type": "stream",
     "text": [
      " 24%|██▎       | 677/2874 [01:41<04:48,  7.61it/s]Setting `pad_token_id` to `eos_token_id`:128001 for open-end generation.\n",
      " 24%|██▎       | 678/2874 [01:41<04:38,  7.89it/s]Setting `pad_token_id` to `eos_token_id`:128001 for open-end generation.\n"
     ]
    },
    {
     "name": "stdout",
     "output_type": "stream",
     "text": [
      "logits is [[0.21467072 0.22851579 0.5568135 ]]\n",
      "logits is [[0.32259464 0.40147552 0.27592984]]\n"
     ]
    },
    {
     "name": "stderr",
     "output_type": "stream",
     "text": [
      " 24%|██▎       | 679/2874 [01:42<04:39,  7.84it/s]Setting `pad_token_id` to `eos_token_id`:128001 for open-end generation.\n",
      " 24%|██▎       | 680/2874 [01:42<04:28,  8.16it/s]Setting `pad_token_id` to `eos_token_id`:128001 for open-end generation.\n"
     ]
    },
    {
     "name": "stdout",
     "output_type": "stream",
     "text": [
      "logits is [[0.5533127  0.19728972 0.24939759]]\n",
      "logits is [[0.62087286 0.19844289 0.1806843 ]]\n"
     ]
    },
    {
     "name": "stderr",
     "output_type": "stream",
     "text": [
      " 24%|██▎       | 681/2874 [01:42<04:22,  8.37it/s]Setting `pad_token_id` to `eos_token_id`:128001 for open-end generation.\n",
      " 24%|██▎       | 682/2874 [01:42<04:49,  7.57it/s]Setting `pad_token_id` to `eos_token_id`:128001 for open-end generation.\n"
     ]
    },
    {
     "name": "stdout",
     "output_type": "stream",
     "text": [
      "logits is [[0.7585336  0.06129891 0.18016751]]\n",
      "logits is [[0.4608764  0.12599659 0.41312695]]\n"
     ]
    },
    {
     "name": "stderr",
     "output_type": "stream",
     "text": [
      " 24%|██▍       | 683/2874 [01:42<04:35,  7.95it/s]Setting `pad_token_id` to `eos_token_id`:128001 for open-end generation.\n",
      " 24%|██▍       | 684/2874 [01:42<05:01,  7.26it/s]Setting `pad_token_id` to `eos_token_id`:128001 for open-end generation.\n"
     ]
    },
    {
     "name": "stdout",
     "output_type": "stream",
     "text": [
      "logits is [[0.4249112  0.29203692 0.28305188]]\n",
      "logits is [[0.2270391  0.5116405  0.26132038]]\n"
     ]
    },
    {
     "name": "stderr",
     "output_type": "stream",
     "text": [
      " 24%|██▍       | 685/2874 [01:42<05:50,  6.25it/s]Setting `pad_token_id` to `eos_token_id`:128001 for open-end generation.\n",
      " 24%|██▍       | 686/2874 [01:43<05:32,  6.57it/s]Setting `pad_token_id` to `eos_token_id`:128001 for open-end generation.\n"
     ]
    },
    {
     "name": "stdout",
     "output_type": "stream",
     "text": [
      "logits is [[0.24214973 0.4055245  0.3523258 ]]\n",
      "logits is [[0.6020985  0.2432698  0.15463169]]\n"
     ]
    },
    {
     "name": "stderr",
     "output_type": "stream",
     "text": [
      " 24%|██▍       | 687/2874 [01:43<05:25,  6.71it/s]Setting `pad_token_id` to `eos_token_id`:128001 for open-end generation.\n"
     ]
    },
    {
     "name": "stdout",
     "output_type": "stream",
     "text": [
      "logits is [[0.5098177  0.22979286 0.2603894 ]]\n"
     ]
    },
    {
     "name": "stderr",
     "output_type": "stream",
     "text": [
      " 24%|██▍       | 688/2874 [01:43<06:34,  5.54it/s]Setting `pad_token_id` to `eos_token_id`:128001 for open-end generation.\n",
      " 24%|██▍       | 689/2874 [01:43<05:58,  6.10it/s]Setting `pad_token_id` to `eos_token_id`:128001 for open-end generation.\n"
     ]
    },
    {
     "name": "stdout",
     "output_type": "stream",
     "text": [
      "logits is [[0.41127324 0.31044534 0.2782814 ]]\n",
      "logits is [[0.19918647 0.21537195 0.58544165]]\n"
     ]
    },
    {
     "name": "stderr",
     "output_type": "stream",
     "text": [
      " 24%|██▍       | 690/2874 [01:43<05:46,  6.30it/s]Setting `pad_token_id` to `eos_token_id`:128001 for open-end generation.\n"
     ]
    },
    {
     "name": "stdout",
     "output_type": "stream",
     "text": [
      "logits is [[0.16608755 0.63667864 0.19723384]]\n"
     ]
    },
    {
     "name": "stderr",
     "output_type": "stream",
     "text": [
      " 24%|██▍       | 691/2874 [01:43<06:34,  5.53it/s]Setting `pad_token_id` to `eos_token_id`:128001 for open-end generation.\n",
      " 24%|██▍       | 692/2874 [01:44<06:07,  5.94it/s]Setting `pad_token_id` to `eos_token_id`:128001 for open-end generation.\n"
     ]
    },
    {
     "name": "stdout",
     "output_type": "stream",
     "text": [
      "logits is [[0.11655551 0.7029197  0.18052472]]\n",
      "logits is [[0.28045908 0.4017391  0.31780177]]\n"
     ]
    },
    {
     "name": "stderr",
     "output_type": "stream",
     "text": [
      " 24%|██▍       | 693/2874 [01:44<05:26,  6.68it/s]Setting `pad_token_id` to `eos_token_id`:128001 for open-end generation.\n",
      " 24%|██▍       | 694/2874 [01:44<04:59,  7.28it/s]Setting `pad_token_id` to `eos_token_id`:128001 for open-end generation.\n"
     ]
    },
    {
     "name": "stdout",
     "output_type": "stream",
     "text": [
      "logits is [[0.33235893 0.36502486 0.30261624]]\n",
      "logits is [[0.25951514 0.45546323 0.28502163]]\n"
     ]
    },
    {
     "name": "stderr",
     "output_type": "stream",
     "text": [
      " 24%|██▍       | 695/2874 [01:44<04:49,  7.53it/s]Setting `pad_token_id` to `eos_token_id`:128001 for open-end generation.\n",
      " 24%|██▍       | 696/2874 [01:44<04:46,  7.61it/s]Setting `pad_token_id` to `eos_token_id`:128001 for open-end generation.\n"
     ]
    },
    {
     "name": "stdout",
     "output_type": "stream",
     "text": [
      "logits is [[0.23356996 0.56030524 0.20612478]]\n",
      "logits is [[0.03975464 0.8633771  0.09686822]]\n"
     ]
    },
    {
     "name": "stderr",
     "output_type": "stream",
     "text": [
      " 24%|██▍       | 697/2874 [01:44<04:30,  8.05it/s]Setting `pad_token_id` to `eos_token_id`:128001 for open-end generation.\n",
      " 24%|██▍       | 698/2874 [01:44<04:24,  8.23it/s]Setting `pad_token_id` to `eos_token_id`:128001 for open-end generation.\n"
     ]
    },
    {
     "name": "stdout",
     "output_type": "stream",
     "text": [
      "logits is [[0.54212284 0.25211054 0.20576662]]\n",
      "logits is [[0.27718824 0.27289084 0.44992092]]\n"
     ]
    },
    {
     "name": "stderr",
     "output_type": "stream",
     "text": [
      " 24%|██▍       | 699/2874 [01:44<04:21,  8.32it/s]Setting `pad_token_id` to `eos_token_id`:128001 for open-end generation.\n"
     ]
    },
    {
     "name": "stdout",
     "output_type": "stream",
     "text": [
      "logits is [[0.5698827  0.18501382 0.24510351]]\n"
     ]
    },
    {
     "name": "stderr",
     "output_type": "stream",
     "text": [
      " 24%|██▍       | 700/2874 [01:45<05:47,  6.25it/s]Setting `pad_token_id` to `eos_token_id`:128001 for open-end generation.\n",
      " 24%|██▍       | 701/2874 [01:45<05:28,  6.62it/s]Setting `pad_token_id` to `eos_token_id`:128001 for open-end generation.\n"
     ]
    },
    {
     "name": "stdout",
     "output_type": "stream",
     "text": [
      "logits is [[0.41786462 0.3383971  0.2437383 ]]\n",
      "logits is [[0.3273587  0.44050926 0.23213208]]\n"
     ]
    },
    {
     "name": "stderr",
     "output_type": "stream",
     "text": [
      " 24%|██▍       | 702/2874 [01:45<05:05,  7.12it/s]Setting `pad_token_id` to `eos_token_id`:128001 for open-end generation.\n",
      " 24%|██▍       | 703/2874 [01:45<04:57,  7.31it/s]Setting `pad_token_id` to `eos_token_id`:128001 for open-end generation.\n"
     ]
    },
    {
     "name": "stdout",
     "output_type": "stream",
     "text": [
      "logits is [[0.19939475 0.29932696 0.50127834]]\n",
      "logits is [[0.39099133 0.30450436 0.30450436]]\n"
     ]
    },
    {
     "name": "stderr",
     "output_type": "stream",
     "text": [
      " 24%|██▍       | 704/2874 [01:45<05:42,  6.33it/s]Setting `pad_token_id` to `eos_token_id`:128001 for open-end generation.\n",
      " 25%|██▍       | 705/2874 [01:45<05:25,  6.66it/s]Setting `pad_token_id` to `eos_token_id`:128001 for open-end generation.\n"
     ]
    },
    {
     "name": "stdout",
     "output_type": "stream",
     "text": [
      "logits is [[0.09664673 0.71412814 0.1892251 ]]\n",
      "logits is [[0.21079336 0.19802204 0.5911846 ]]\n"
     ]
    },
    {
     "name": "stderr",
     "output_type": "stream",
     "text": [
      " 25%|██▍       | 706/2874 [01:46<04:59,  7.24it/s]Setting `pad_token_id` to `eos_token_id`:128001 for open-end generation.\n",
      " 25%|██▍       | 707/2874 [01:46<05:23,  6.69it/s]Setting `pad_token_id` to `eos_token_id`:128001 for open-end generation.\n"
     ]
    },
    {
     "name": "stdout",
     "output_type": "stream",
     "text": [
      "logits is [[0.20761205 0.49031413 0.30207378]]\n",
      "logits is [[0.17988192 0.445212   0.3749061 ]]\n"
     ]
    },
    {
     "name": "stderr",
     "output_type": "stream",
     "text": [
      " 25%|██▍       | 708/2874 [01:46<05:08,  7.02it/s]Setting `pad_token_id` to `eos_token_id`:128001 for open-end generation.\n",
      " 25%|██▍       | 709/2874 [01:46<05:07,  7.03it/s]Setting `pad_token_id` to `eos_token_id`:128001 for open-end generation.\n"
     ]
    },
    {
     "name": "stdout",
     "output_type": "stream",
     "text": [
      "logits is [[0.2687128  0.4361639  0.29512325]]\n",
      "logits is [[0.23830056 0.3868     0.3748994 ]]\n"
     ]
    },
    {
     "name": "stderr",
     "output_type": "stream",
     "text": [
      " 25%|██▍       | 710/2874 [01:46<04:57,  7.27it/s]Setting `pad_token_id` to `eos_token_id`:128001 for open-end generation.\n"
     ]
    },
    {
     "name": "stdout",
     "output_type": "stream",
     "text": [
      "logits is [[0.3273329  0.36516625 0.3075008 ]]\n"
     ]
    },
    {
     "name": "stderr",
     "output_type": "stream",
     "text": [
      " 25%|██▍       | 711/2874 [01:46<05:46,  6.25it/s]Setting `pad_token_id` to `eos_token_id`:128001 for open-end generation.\n",
      " 25%|██▍       | 712/2874 [01:46<05:15,  6.86it/s]Setting `pad_token_id` to `eos_token_id`:128001 for open-end generation.\n"
     ]
    },
    {
     "name": "stdout",
     "output_type": "stream",
     "text": [
      "logits is [[0.35552257 0.4288421  0.21563534]]\n",
      "logits is [[0.36535367 0.2396048  0.39504153]]\n"
     ]
    },
    {
     "name": "stderr",
     "output_type": "stream",
     "text": [
      " 25%|██▍       | 713/2874 [01:47<04:53,  7.37it/s]Setting `pad_token_id` to `eos_token_id`:128001 for open-end generation.\n",
      " 25%|██▍       | 714/2874 [01:47<04:58,  7.23it/s]Setting `pad_token_id` to `eos_token_id`:128001 for open-end generation.\n"
     ]
    },
    {
     "name": "stdout",
     "output_type": "stream",
     "text": [
      "logits is [[0.02908002 0.89062744 0.08029251]]\n",
      "logits is [[0.16928755 0.63888454 0.19182794]]\n"
     ]
    },
    {
     "name": "stderr",
     "output_type": "stream",
     "text": [
      " 25%|██▍       | 715/2874 [01:47<05:27,  6.59it/s]Setting `pad_token_id` to `eos_token_id`:128001 for open-end generation.\n"
     ]
    },
    {
     "name": "stdout",
     "output_type": "stream",
     "text": [
      "logits is [[0.38716128 0.31599185 0.29684687]]\n"
     ]
    },
    {
     "name": "stderr",
     "output_type": "stream",
     "text": [
      " 25%|██▍       | 716/2874 [01:47<06:04,  5.93it/s]Setting `pad_token_id` to `eos_token_id`:128001 for open-end generation.\n"
     ]
    },
    {
     "name": "stdout",
     "output_type": "stream",
     "text": [
      "logits is [[0.29064772 0.43631393 0.2730383 ]]\n"
     ]
    },
    {
     "name": "stderr",
     "output_type": "stream",
     "text": [
      " 25%|██▍       | 717/2874 [01:47<06:51,  5.24it/s]Setting `pad_token_id` to `eos_token_id`:128001 for open-end generation.\n",
      " 25%|██▍       | 718/2874 [01:47<06:34,  5.46it/s]Setting `pad_token_id` to `eos_token_id`:128001 for open-end generation.\n"
     ]
    },
    {
     "name": "stdout",
     "output_type": "stream",
     "text": [
      "logits is [[0.53342    0.24421747 0.22236255]]\n",
      "logits is [[0.5296812  0.24250571 0.22781307]]\n"
     ]
    },
    {
     "name": "stderr",
     "output_type": "stream",
     "text": [
      " 25%|██▌       | 719/2874 [01:48<06:05,  5.89it/s]Setting `pad_token_id` to `eos_token_id`:128001 for open-end generation.\n",
      " 25%|██▌       | 720/2874 [01:48<05:42,  6.28it/s]Setting `pad_token_id` to `eos_token_id`:128001 for open-end generation.\n"
     ]
    },
    {
     "name": "stdout",
     "output_type": "stream",
     "text": [
      "logits is [[0.33199716 0.22817808 0.43982476]]\n",
      "logits is [[0.7911851  0.0713275  0.13748735]]\n"
     ]
    },
    {
     "name": "stderr",
     "output_type": "stream",
     "text": [
      " 25%|██▌       | 721/2874 [01:48<05:17,  6.78it/s]Setting `pad_token_id` to `eos_token_id`:128001 for open-end generation.\n",
      " 25%|██▌       | 722/2874 [01:48<05:07,  7.01it/s]Setting `pad_token_id` to `eos_token_id`:128001 for open-end generation.\n"
     ]
    },
    {
     "name": "stdout",
     "output_type": "stream",
     "text": [
      "logits is [[0.3444313  0.36096093 0.29460773]]\n",
      "logits is [[0.5322975  0.17829733 0.28940514]]\n"
     ]
    },
    {
     "name": "stderr",
     "output_type": "stream",
     "text": [
      " 25%|██▌       | 723/2874 [01:48<05:15,  6.81it/s]Setting `pad_token_id` to `eos_token_id`:128001 for open-end generation.\n"
     ]
    },
    {
     "name": "stdout",
     "output_type": "stream",
     "text": [
      "logits is [[0.4985577  0.24680394 0.25463834]]\n"
     ]
    },
    {
     "name": "stderr",
     "output_type": "stream",
     "text": [
      " 25%|██▌       | 724/2874 [01:48<06:23,  5.60it/s]Setting `pad_token_id` to `eos_token_id`:128001 for open-end generation.\n",
      " 25%|██▌       | 725/2874 [01:49<06:11,  5.78it/s]Setting `pad_token_id` to `eos_token_id`:128001 for open-end generation.\n"
     ]
    },
    {
     "name": "stdout",
     "output_type": "stream",
     "text": [
      "logits is [[0.6355809  0.18861268 0.17580636]]\n",
      "logits is [[0.02992338 0.7838871  0.1861895 ]]\n"
     ]
    },
    {
     "name": "stderr",
     "output_type": "stream",
     "text": [
      " 25%|██▌       | 726/2874 [01:49<07:02,  5.08it/s]Setting `pad_token_id` to `eos_token_id`:128001 for open-end generation.\n",
      " 25%|██▌       | 727/2874 [01:49<06:36,  5.42it/s]Setting `pad_token_id` to `eos_token_id`:128001 for open-end generation.\n"
     ]
    },
    {
     "name": "stdout",
     "output_type": "stream",
     "text": [
      "logits is [[0.60460824 0.33915448 0.05623733]]\n",
      "logits is [[0.19576053 0.5753722  0.22886726]]\n"
     ]
    },
    {
     "name": "stderr",
     "output_type": "stream",
     "text": [
      " 25%|██▌       | 728/2874 [01:49<05:58,  5.98it/s]Setting `pad_token_id` to `eos_token_id`:128001 for open-end generation.\n",
      " 25%|██▌       | 729/2874 [01:49<05:20,  6.69it/s]Setting `pad_token_id` to `eos_token_id`:128001 for open-end generation.\n"
     ]
    },
    {
     "name": "stdout",
     "output_type": "stream",
     "text": [
      "logits is [[0.3658973  0.34914163 0.2849611 ]]\n",
      "logits is [[0.47489488 0.1494323  0.37567276]]\n"
     ]
    },
    {
     "name": "stderr",
     "output_type": "stream",
     "text": [
      " 25%|██▌       | 730/2874 [01:49<04:56,  7.24it/s]Setting `pad_token_id` to `eos_token_id`:128001 for open-end generation.\n",
      " 25%|██▌       | 731/2874 [01:49<04:58,  7.19it/s]Setting `pad_token_id` to `eos_token_id`:128001 for open-end generation.\n"
     ]
    },
    {
     "name": "stdout",
     "output_type": "stream",
     "text": [
      "logits is [[0.31853518 0.40900725 0.27245757]]\n",
      "logits is [[0.8027315  0.03161543 0.16565302]]\n"
     ]
    },
    {
     "name": "stderr",
     "output_type": "stream",
     "text": [
      " 25%|██▌       | 732/2874 [01:50<04:52,  7.33it/s]Setting `pad_token_id` to `eos_token_id`:128001 for open-end generation.\n",
      " 26%|██▌       | 733/2874 [01:50<04:38,  7.69it/s]Setting `pad_token_id` to `eos_token_id`:128001 for open-end generation.\n"
     ]
    },
    {
     "name": "stdout",
     "output_type": "stream",
     "text": [
      "logits is [[0.03343513 0.9179171  0.04864782]]\n",
      "logits is [[0.05539289 0.0781165  0.8664906 ]]\n"
     ]
    },
    {
     "name": "stderr",
     "output_type": "stream",
     "text": [
      " 26%|██▌       | 734/2874 [01:50<04:24,  8.08it/s]Setting `pad_token_id` to `eos_token_id`:128001 for open-end generation.\n",
      " 26%|██▌       | 735/2874 [01:50<04:58,  7.18it/s]Setting `pad_token_id` to `eos_token_id`:128001 for open-end generation.\n"
     ]
    },
    {
     "name": "stdout",
     "output_type": "stream",
     "text": [
      "logits is [[0.34876856 0.40775177 0.2434797 ]]\n",
      "logits is [[0.34006706 0.34542236 0.31451064]]\n"
     ]
    },
    {
     "name": "stderr",
     "output_type": "stream",
     "text": [
      " 26%|██▌       | 736/2874 [01:50<05:01,  7.09it/s]Setting `pad_token_id` to `eos_token_id`:128001 for open-end generation.\n",
      " 26%|██▌       | 737/2874 [01:50<05:26,  6.55it/s]Setting `pad_token_id` to `eos_token_id`:128001 for open-end generation.\n"
     ]
    },
    {
     "name": "stdout",
     "output_type": "stream",
     "text": [
      "logits is [[0.599851   0.13809355 0.26205552]]\n",
      "logits is [[0.02407081 0.8892469  0.08668231]]\n"
     ]
    },
    {
     "name": "stderr",
     "output_type": "stream",
     "text": [
      " 26%|██▌       | 738/2874 [01:50<05:09,  6.90it/s]Setting `pad_token_id` to `eos_token_id`:128001 for open-end generation.\n",
      " 26%|██▌       | 739/2874 [01:51<04:47,  7.42it/s]Setting `pad_token_id` to `eos_token_id`:128001 for open-end generation.\n"
     ]
    },
    {
     "name": "stdout",
     "output_type": "stream",
     "text": [
      "logits is [[0.05834658 0.8181337  0.12351972]]\n",
      "logits is [[0.29984334 0.27730975 0.42284688]]\n"
     ]
    },
    {
     "name": "stderr",
     "output_type": "stream",
     "text": [
      " 26%|██▌       | 740/2874 [01:51<04:37,  7.70it/s]Setting `pad_token_id` to `eos_token_id`:128001 for open-end generation.\n",
      " 26%|██▌       | 741/2874 [01:51<04:37,  7.69it/s]Setting `pad_token_id` to `eos_token_id`:128001 for open-end generation.\n"
     ]
    },
    {
     "name": "stdout",
     "output_type": "stream",
     "text": [
      "logits is [[0.13943407 0.51002866 0.35053724]]\n",
      "logits is [[0.8127514  0.0503589  0.13688968]]\n"
     ]
    },
    {
     "name": "stderr",
     "output_type": "stream",
     "text": [
      " 26%|██▌       | 742/2874 [01:51<04:55,  7.23it/s]Setting `pad_token_id` to `eos_token_id`:128001 for open-end generation.\n",
      " 26%|██▌       | 743/2874 [01:51<05:17,  6.71it/s]Setting `pad_token_id` to `eos_token_id`:128001 for open-end generation.\n"
     ]
    },
    {
     "name": "stdout",
     "output_type": "stream",
     "text": [
      "logits is [[0.43728036 0.36251813 0.20020153]]\n",
      "logits is [[0.452101   0.30590683 0.24199224]]\n"
     ]
    },
    {
     "name": "stderr",
     "output_type": "stream",
     "text": [
      " 26%|██▌       | 744/2874 [01:51<04:55,  7.21it/s]Setting `pad_token_id` to `eos_token_id`:128001 for open-end generation.\n",
      " 26%|██▌       | 745/2874 [01:51<04:37,  7.66it/s]Setting `pad_token_id` to `eos_token_id`:128001 for open-end generation.\n"
     ]
    },
    {
     "name": "stdout",
     "output_type": "stream",
     "text": [
      "logits is [[0.197743   0.63832223 0.16393471]]\n",
      "logits is [[0.13092189 0.30919617 0.5598819 ]]\n"
     ]
    },
    {
     "name": "stderr",
     "output_type": "stream",
     "text": [
      " 26%|██▌       | 746/2874 [01:51<04:25,  8.01it/s]Setting `pad_token_id` to `eos_token_id`:128001 for open-end generation.\n",
      " 26%|██▌       | 747/2874 [01:52<04:35,  7.73it/s]Setting `pad_token_id` to `eos_token_id`:128001 for open-end generation.\n"
     ]
    },
    {
     "name": "stdout",
     "output_type": "stream",
     "text": [
      "logits is [[0.38242647 0.24691309 0.37066042]]\n",
      "logits is [[0.12938477 0.78029007 0.09032513]]\n"
     ]
    },
    {
     "name": "stderr",
     "output_type": "stream",
     "text": [
      " 26%|██▌       | 748/2874 [01:52<04:20,  8.17it/s]Setting `pad_token_id` to `eos_token_id`:128001 for open-end generation.\n"
     ]
    },
    {
     "name": "stdout",
     "output_type": "stream",
     "text": [
      "logits is [[0.2924125 0.3813778 0.3262097]]\n"
     ]
    },
    {
     "name": "stderr",
     "output_type": "stream",
     "text": [
      " 26%|██▌       | 749/2874 [01:52<05:25,  6.53it/s]Setting `pad_token_id` to `eos_token_id`:128001 for open-end generation.\n",
      " 26%|██▌       | 750/2874 [01:52<04:56,  7.17it/s]Setting `pad_token_id` to `eos_token_id`:128001 for open-end generation.\n"
     ]
    },
    {
     "name": "stdout",
     "output_type": "stream",
     "text": [
      "logits is [[0.47315475 0.26959547 0.25724977]]\n",
      "logits is [[0.16340916 0.61669976 0.21989107]]\n"
     ]
    },
    {
     "name": "stderr",
     "output_type": "stream",
     "text": [
      " 26%|██▌       | 751/2874 [01:52<04:38,  7.61it/s]Setting `pad_token_id` to `eos_token_id`:128001 for open-end generation.\n",
      " 26%|██▌       | 752/2874 [01:52<04:54,  7.21it/s]Setting `pad_token_id` to `eos_token_id`:128001 for open-end generation.\n"
     ]
    },
    {
     "name": "stdout",
     "output_type": "stream",
     "text": [
      "logits is [[0.79312605 0.08898628 0.11788766]]\n",
      "logits is [[0.33124012 0.41872674 0.25003314]]\n"
     ]
    },
    {
     "name": "stderr",
     "output_type": "stream",
     "text": [
      " 26%|██▌       | 753/2874 [01:52<04:47,  7.37it/s]Setting `pad_token_id` to `eos_token_id`:128001 for open-end generation.\n",
      " 26%|██▌       | 754/2874 [01:53<04:27,  7.91it/s]Setting `pad_token_id` to `eos_token_id`:128001 for open-end generation.\n"
     ]
    },
    {
     "name": "stdout",
     "output_type": "stream",
     "text": [
      "logits is [[0.23685782 0.39051253 0.37262964]]\n",
      "logits is [[0.19684559 0.34547475 0.4576797 ]]\n"
     ]
    },
    {
     "name": "stderr",
     "output_type": "stream",
     "text": [
      " 26%|██▋       | 755/2874 [01:53<04:16,  8.27it/s]Setting `pad_token_id` to `eos_token_id`:128001 for open-end generation.\n",
      " 26%|██▋       | 756/2874 [01:53<04:08,  8.51it/s]Setting `pad_token_id` to `eos_token_id`:128001 for open-end generation.\n"
     ]
    },
    {
     "name": "stdout",
     "output_type": "stream",
     "text": [
      "logits is [[0.06927423 0.8052864  0.12543944]]\n",
      "logits is [[0.2800672  0.40749535 0.31243753]]\n"
     ]
    },
    {
     "name": "stderr",
     "output_type": "stream",
     "text": [
      " 26%|██▋       | 757/2874 [01:53<04:49,  7.31it/s]Setting `pad_token_id` to `eos_token_id`:128001 for open-end generation.\n",
      " 26%|██▋       | 758/2874 [01:53<04:29,  7.86it/s]Setting `pad_token_id` to `eos_token_id`:128001 for open-end generation.\n"
     ]
    },
    {
     "name": "stdout",
     "output_type": "stream",
     "text": [
      "logits is [[0.4810248  0.18837202 0.3306032 ]]\n",
      "logits is [[0.6946585  0.15744016 0.14790134]]\n"
     ]
    },
    {
     "name": "stderr",
     "output_type": "stream",
     "text": [
      " 26%|██▋       | 759/2874 [01:53<04:19,  8.14it/s]Setting `pad_token_id` to `eos_token_id`:128001 for open-end generation.\n",
      " 26%|██▋       | 760/2874 [01:53<04:11,  8.40it/s]Setting `pad_token_id` to `eos_token_id`:128001 for open-end generation.\n"
     ]
    },
    {
     "name": "stdout",
     "output_type": "stream",
     "text": [
      "logits is [[0.10825369 0.47023258 0.42151374]]\n",
      "logits is [[0.05479932 0.7447531  0.20044759]]\n"
     ]
    },
    {
     "name": "stderr",
     "output_type": "stream",
     "text": [
      " 26%|██▋       | 761/2874 [01:54<05:36,  6.27it/s]Setting `pad_token_id` to `eos_token_id`:128001 for open-end generation.\n",
      " 27%|██▋       | 762/2874 [01:54<05:15,  6.70it/s]Setting `pad_token_id` to `eos_token_id`:128001 for open-end generation.\n"
     ]
    },
    {
     "name": "stdout",
     "output_type": "stream",
     "text": [
      "logits is [[0.74641055 0.08309323 0.17049624]]\n",
      "logits is [[0.81170356 0.02338887 0.16490759]]\n"
     ]
    },
    {
     "name": "stderr",
     "output_type": "stream",
     "text": [
      " 27%|██▋       | 763/2874 [01:54<05:33,  6.33it/s]Setting `pad_token_id` to `eos_token_id`:128001 for open-end generation.\n",
      " 27%|██▋       | 764/2874 [01:54<05:12,  6.76it/s]Setting `pad_token_id` to `eos_token_id`:128001 for open-end generation.\n"
     ]
    },
    {
     "name": "stdout",
     "output_type": "stream",
     "text": [
      "logits is [[0.32464427 0.4103888  0.26496693]]\n",
      "logits is [[0.10991231 0.8121482  0.0779395 ]]\n"
     ]
    },
    {
     "name": "stderr",
     "output_type": "stream",
     "text": [
      " 27%|██▋       | 765/2874 [01:54<05:08,  6.84it/s]Setting `pad_token_id` to `eos_token_id`:128001 for open-end generation.\n",
      " 27%|██▋       | 766/2874 [01:54<04:49,  7.29it/s]Setting `pad_token_id` to `eos_token_id`:128001 for open-end generation.\n"
     ]
    },
    {
     "name": "stdout",
     "output_type": "stream",
     "text": [
      "logits is [[0.14447263 0.16628698 0.68924034]]\n",
      "logits is [[0.36500627 0.4136063  0.2213875 ]]\n"
     ]
    },
    {
     "name": "stderr",
     "output_type": "stream",
     "text": [
      " 27%|██▋       | 767/2874 [01:54<06:02,  5.80it/s]Setting `pad_token_id` to `eos_token_id`:128001 for open-end generation.\n",
      " 27%|██▋       | 768/2874 [01:55<06:09,  5.70it/s]Setting `pad_token_id` to `eos_token_id`:128001 for open-end generation.\n"
     ]
    },
    {
     "name": "stdout",
     "output_type": "stream",
     "text": [
      "logits is [[0.55430865 0.28311315 0.16257821]]\n",
      "logits is [[0.11837011 0.67061234 0.21101752]]\n"
     ]
    },
    {
     "name": "stderr",
     "output_type": "stream",
     "text": [
      " 27%|██▋       | 769/2874 [01:55<05:28,  6.41it/s]Setting `pad_token_id` to `eos_token_id`:128001 for open-end generation.\n",
      " 27%|██▋       | 770/2874 [01:55<05:16,  6.64it/s]Setting `pad_token_id` to `eos_token_id`:128001 for open-end generation.\n"
     ]
    },
    {
     "name": "stdout",
     "output_type": "stream",
     "text": [
      "logits is [[0.85295475 0.0571444  0.08990077]]\n",
      "logits is [[0.01247933 0.94595814 0.0415625 ]]\n"
     ]
    },
    {
     "name": "stderr",
     "output_type": "stream",
     "text": [
      " 27%|██▋       | 771/2874 [01:55<05:37,  6.23it/s]Setting `pad_token_id` to `eos_token_id`:128001 for open-end generation.\n",
      " 27%|██▋       | 772/2874 [01:55<05:09,  6.80it/s]Setting `pad_token_id` to `eos_token_id`:128001 for open-end generation.\n"
     ]
    },
    {
     "name": "stdout",
     "output_type": "stream",
     "text": [
      "logits is [[0.7786525  0.07954436 0.14180315]]\n",
      "logits is [[0.4826932  0.14721312 0.37009373]]\n"
     ]
    },
    {
     "name": "stderr",
     "output_type": "stream",
     "text": [
      " 27%|██▋       | 773/2874 [01:55<04:42,  7.44it/s]Setting `pad_token_id` to `eos_token_id`:128001 for open-end generation.\n"
     ]
    },
    {
     "name": "stdout",
     "output_type": "stream",
     "text": [
      "logits is [[0.20364463 0.315411   0.48094434]]\n"
     ]
    },
    {
     "name": "stderr",
     "output_type": "stream",
     "text": [
      " 27%|██▋       | 774/2874 [01:56<05:55,  5.90it/s]Setting `pad_token_id` to `eos_token_id`:128001 for open-end generation.\n",
      " 27%|██▋       | 775/2874 [01:56<06:10,  5.67it/s]Setting `pad_token_id` to `eos_token_id`:128001 for open-end generation.\n"
     ]
    },
    {
     "name": "stdout",
     "output_type": "stream",
     "text": [
      "logits is [[0.6581284  0.2310248  0.11084691]]\n",
      "logits is [[0.79542947 0.07059838 0.13397218]]\n"
     ]
    },
    {
     "name": "stderr",
     "output_type": "stream",
     "text": [
      " 27%|██▋       | 776/2874 [01:56<05:38,  6.21it/s]Setting `pad_token_id` to `eos_token_id`:128001 for open-end generation.\n",
      " 27%|██▋       | 777/2874 [01:56<05:04,  6.89it/s]Setting `pad_token_id` to `eos_token_id`:128001 for open-end generation.\n"
     ]
    },
    {
     "name": "stdout",
     "output_type": "stream",
     "text": [
      "logits is [[0.49253872 0.26363698 0.24382435]]\n",
      "logits is [[0.03198274 0.8510292  0.11698801]]\n"
     ]
    },
    {
     "name": "stderr",
     "output_type": "stream",
     "text": [
      " 27%|██▋       | 778/2874 [01:56<04:44,  7.38it/s]Setting `pad_token_id` to `eos_token_id`:128001 for open-end generation.\n",
      " 27%|██▋       | 779/2874 [01:56<04:29,  7.78it/s]Setting `pad_token_id` to `eos_token_id`:128001 for open-end generation.\n"
     ]
    },
    {
     "name": "stdout",
     "output_type": "stream",
     "text": [
      "logits is [[0.4641595  0.29503772 0.24080276]]\n",
      "logits is [[0.4629632  0.19299176 0.344045  ]]\n"
     ]
    },
    {
     "name": "stderr",
     "output_type": "stream",
     "text": [
      " 27%|██▋       | 780/2874 [01:56<04:39,  7.50it/s]Setting `pad_token_id` to `eos_token_id`:128001 for open-end generation.\n",
      " 27%|██▋       | 781/2874 [01:56<04:25,  7.88it/s]Setting `pad_token_id` to `eos_token_id`:128001 for open-end generation.\n"
     ]
    },
    {
     "name": "stdout",
     "output_type": "stream",
     "text": [
      "logits is [[0.16487092 0.6623458  0.17278324]]\n",
      "logits is [[0.07163051 0.7945461  0.13382341]]\n"
     ]
    },
    {
     "name": "stderr",
     "output_type": "stream",
     "text": [
      " 27%|██▋       | 782/2874 [01:57<05:09,  6.77it/s]Setting `pad_token_id` to `eos_token_id`:128001 for open-end generation.\n",
      " 27%|██▋       | 783/2874 [01:57<04:48,  7.26it/s]Setting `pad_token_id` to `eos_token_id`:128001 for open-end generation.\n"
     ]
    },
    {
     "name": "stdout",
     "output_type": "stream",
     "text": [
      "logits is [[0.28617302 0.45730314 0.25652382]]\n",
      "logits is [[0.15365525 0.5890207  0.2573241 ]]\n"
     ]
    },
    {
     "name": "stderr",
     "output_type": "stream",
     "text": [
      " 27%|██▋       | 784/2874 [01:57<05:02,  6.91it/s]Setting `pad_token_id` to `eos_token_id`:128001 for open-end generation.\n",
      " 27%|██▋       | 785/2874 [01:57<04:41,  7.41it/s]Setting `pad_token_id` to `eos_token_id`:128001 for open-end generation.\n"
     ]
    },
    {
     "name": "stdout",
     "output_type": "stream",
     "text": [
      "logits is [[0.78458375 0.08531953 0.13009673]]\n",
      "logits is [[0.5005464  0.28078106 0.21867253]]\n"
     ]
    },
    {
     "name": "stderr",
     "output_type": "stream",
     "text": [
      " 27%|██▋       | 786/2874 [01:57<04:24,  7.89it/s]Setting `pad_token_id` to `eos_token_id`:128001 for open-end generation.\n",
      " 27%|██▋       | 787/2874 [01:57<04:31,  7.70it/s]Setting `pad_token_id` to `eos_token_id`:128001 for open-end generation.\n"
     ]
    },
    {
     "name": "stdout",
     "output_type": "stream",
     "text": [
      "logits is [[0.49970925 0.20190078 0.29839   ]]\n",
      "logits is [[0.3748994  0.3868     0.23830056]]\n"
     ]
    },
    {
     "name": "stderr",
     "output_type": "stream",
     "text": [
      " 27%|██▋       | 788/2874 [01:57<04:41,  7.42it/s]Setting `pad_token_id` to `eos_token_id`:128001 for open-end generation.\n",
      " 27%|██▋       | 789/2874 [01:58<04:34,  7.60it/s]Setting `pad_token_id` to `eos_token_id`:128001 for open-end generation.\n"
     ]
    },
    {
     "name": "stdout",
     "output_type": "stream",
     "text": [
      "logits is [[0.37431854 0.3201716  0.3055099 ]]\n",
      "logits is [[0.33235893 0.36502486 0.30261624]]\n"
     ]
    },
    {
     "name": "stderr",
     "output_type": "stream",
     "text": [
      " 27%|██▋       | 790/2874 [01:58<04:50,  7.17it/s]Setting `pad_token_id` to `eos_token_id`:128001 for open-end generation.\n",
      " 28%|██▊       | 791/2874 [01:58<05:27,  6.35it/s]"
     ]
    },
    {
     "name": "stdout",
     "output_type": "stream",
     "text": [
      "logits is [[0.7006854  0.12760429 0.17171033]]\n",
      "logits is [[0.82922775 0.04751854 0.1232537 ]]\n"
     ]
    },
    {
     "name": "stderr",
     "output_type": "stream",
     "text": [
      "Setting `pad_token_id` to `eos_token_id`:128001 for open-end generation.\n",
      " 28%|██▊       | 792/2874 [01:58<04:56,  7.02it/s]Setting `pad_token_id` to `eos_token_id`:128001 for open-end generation.\n",
      " 28%|██▊       | 793/2874 [01:58<05:08,  6.74it/s]Setting `pad_token_id` to `eos_token_id`:128001 for open-end generation.\n"
     ]
    },
    {
     "name": "stdout",
     "output_type": "stream",
     "text": [
      "logits is [[0.41265067 0.21745163 0.36989766]]\n",
      "logits is [[0.66415215 0.16792396 0.16792396]]\n"
     ]
    },
    {
     "name": "stderr",
     "output_type": "stream",
     "text": [
      " 28%|██▊       | 794/2874 [01:58<05:04,  6.83it/s]Setting `pad_token_id` to `eos_token_id`:128001 for open-end generation.\n",
      " 28%|██▊       | 795/2874 [01:59<05:35,  6.19it/s]"
     ]
    },
    {
     "name": "stdout",
     "output_type": "stream",
     "text": [
      "logits is [[0.5959018  0.26033023 0.143768  ]]\n",
      "logits is [[0.262529   0.4536094  0.28386152]]\n"
     ]
    },
    {
     "name": "stderr",
     "output_type": "stream",
     "text": [
      "Setting `pad_token_id` to `eos_token_id`:128001 for open-end generation.\n",
      " 28%|██▊       | 796/2874 [01:59<05:21,  6.45it/s]Setting `pad_token_id` to `eos_token_id`:128001 for open-end generation.\n",
      " 28%|██▊       | 797/2874 [01:59<04:56,  7.00it/s]Setting `pad_token_id` to `eos_token_id`:128001 for open-end generation.\n"
     ]
    },
    {
     "name": "stdout",
     "output_type": "stream",
     "text": [
      "logits is [[0.36550242 0.35425708 0.28024042]]\n",
      "logits is [[0.15404336 0.70124626 0.14471035]]\n"
     ]
    },
    {
     "name": "stderr",
     "output_type": "stream",
     "text": [
      " 28%|██▊       | 798/2874 [01:59<04:37,  7.48it/s]Setting `pad_token_id` to `eos_token_id`:128001 for open-end generation.\n"
     ]
    },
    {
     "name": "stdout",
     "output_type": "stream",
     "text": [
      "logits is [[0.07686335 0.05712    0.8660167 ]]\n"
     ]
    },
    {
     "name": "stderr",
     "output_type": "stream",
     "text": [
      " 28%|██▊       | 799/2874 [01:59<05:48,  5.95it/s]Setting `pad_token_id` to `eos_token_id`:128001 for open-end generation.\n",
      " 28%|██▊       | 800/2874 [01:59<05:56,  5.82it/s]Setting `pad_token_id` to `eos_token_id`:128001 for open-end generation.\n"
     ]
    },
    {
     "name": "stdout",
     "output_type": "stream",
     "text": [
      "logits is [[0.7021221  0.09354872 0.20432916]]\n",
      "logits is [[0.26148686 0.13996382 0.59854937]]\n"
     ]
    },
    {
     "name": "stderr",
     "output_type": "stream",
     "text": [
      " 28%|██▊       | 801/2874 [01:59<05:17,  6.53it/s]Setting `pad_token_id` to `eos_token_id`:128001 for open-end generation.\n",
      " 28%|██▊       | 802/2874 [02:00<05:25,  6.37it/s]Setting `pad_token_id` to `eos_token_id`:128001 for open-end generation.\n"
     ]
    },
    {
     "name": "stdout",
     "output_type": "stream",
     "text": [
      "logits is [[0.09307062 0.74358535 0.16334403]]\n",
      "logits is [[0.21842076 0.4922188  0.2893605 ]]\n"
     ]
    },
    {
     "name": "stderr",
     "output_type": "stream",
     "text": [
      " 28%|██▊       | 803/2874 [02:00<05:15,  6.56it/s]Setting `pad_token_id` to `eos_token_id`:128001 for open-end generation.\n"
     ]
    },
    {
     "name": "stdout",
     "output_type": "stream",
     "text": [
      "logits is [[0.6458117  0.19090156 0.16328676]]\n"
     ]
    },
    {
     "name": "stderr",
     "output_type": "stream",
     "text": [
      " 28%|██▊       | 804/2874 [02:00<06:17,  5.49it/s]Setting `pad_token_id` to `eos_token_id`:128001 for open-end generation.\n",
      " 28%|██▊       | 805/2874 [02:00<05:50,  5.90it/s]Setting `pad_token_id` to `eos_token_id`:128001 for open-end generation.\n"
     ]
    },
    {
     "name": "stdout",
     "output_type": "stream",
     "text": [
      "logits is [[0.39928868 0.2538033  0.34690803]]\n",
      "logits is [[0.5331928  0.28539756 0.18140972]]\n"
     ]
    },
    {
     "name": "stderr",
     "output_type": "stream",
     "text": [
      " 28%|██▊       | 806/2874 [02:00<05:12,  6.61it/s]Setting `pad_token_id` to `eos_token_id`:128001 for open-end generation.\n",
      " 28%|██▊       | 807/2874 [02:00<04:45,  7.24it/s]Setting `pad_token_id` to `eos_token_id`:128001 for open-end generation.\n"
     ]
    },
    {
     "name": "stdout",
     "output_type": "stream",
     "text": [
      "logits is [[0.13528635 0.32964575 0.53506786]]\n",
      "logits is [[0.10483699 0.13252638 0.76263666]]\n"
     ]
    },
    {
     "name": "stderr",
     "output_type": "stream",
     "text": [
      " 28%|██▊       | 808/2874 [02:00<04:46,  7.22it/s]Setting `pad_token_id` to `eos_token_id`:128001 for open-end generation.\n"
     ]
    },
    {
     "name": "stdout",
     "output_type": "stream",
     "text": [
      "logits is [[0.18329056 0.64982146 0.16688795]]\n"
     ]
    },
    {
     "name": "stderr",
     "output_type": "stream",
     "text": [
      " 28%|██▊       | 809/2874 [02:01<06:00,  5.72it/s]Setting `pad_token_id` to `eos_token_id`:128001 for open-end generation.\n"
     ]
    },
    {
     "name": "stdout",
     "output_type": "stream",
     "text": [
      "logits is [[0.20348707 0.13449675 0.66201615]]\n"
     ]
    },
    {
     "name": "stderr",
     "output_type": "stream",
     "text": [
      " 28%|██▊       | 810/2874 [02:01<06:26,  5.34it/s]Setting `pad_token_id` to `eos_token_id`:128001 for open-end generation.\n",
      " 28%|██▊       | 811/2874 [02:01<05:41,  6.04it/s]Setting `pad_token_id` to `eos_token_id`:128001 for open-end generation.\n"
     ]
    },
    {
     "name": "stdout",
     "output_type": "stream",
     "text": [
      "logits is [[0.42470127 0.32562977 0.24966899]]\n",
      "logits is [[0.3135753  0.44221202 0.24421267]]\n"
     ]
    },
    {
     "name": "stderr",
     "output_type": "stream",
     "text": [
      " 28%|██▊       | 812/2874 [02:01<05:05,  6.76it/s]Setting `pad_token_id` to `eos_token_id`:128001 for open-end generation.\n",
      " 28%|██▊       | 813/2874 [02:01<04:42,  7.31it/s]Setting `pad_token_id` to `eos_token_id`:128001 for open-end generation.\n"
     ]
    },
    {
     "name": "stdout",
     "output_type": "stream",
     "text": [
      "logits is [[0.43979996 0.26261654 0.29758355]]\n",
      "logits is [[0.36225492 0.443844   0.19390108]]\n"
     ]
    },
    {
     "name": "stderr",
     "output_type": "stream",
     "text": [
      " 28%|██▊       | 814/2874 [02:02<05:39,  6.07it/s]Setting `pad_token_id` to `eos_token_id`:128001 for open-end generation.\n"
     ]
    },
    {
     "name": "stdout",
     "output_type": "stream",
     "text": [
      "logits is [[0.02456959 0.8936012  0.08182923]]\n"
     ]
    },
    {
     "name": "stderr",
     "output_type": "stream",
     "text": [
      " 28%|██▊       | 815/2874 [02:02<06:09,  5.57it/s]Setting `pad_token_id` to `eos_token_id`:128001 for open-end generation.\n"
     ]
    },
    {
     "name": "stdout",
     "output_type": "stream",
     "text": [
      "logits is [[0.5384738  0.06136648 0.40015972]]\n"
     ]
    },
    {
     "name": "stderr",
     "output_type": "stream",
     "text": [
      " 28%|██▊       | 816/2874 [02:02<06:31,  5.25it/s]Setting `pad_token_id` to `eos_token_id`:128001 for open-end generation.\n",
      " 28%|██▊       | 817/2874 [02:02<06:27,  5.31it/s]Setting `pad_token_id` to `eos_token_id`:128001 for open-end generation.\n"
     ]
    },
    {
     "name": "stdout",
     "output_type": "stream",
     "text": [
      "logits is [[0.259602   0.4415979  0.29880008]]\n",
      "logits is [[0.5059125  0.2316236  0.26246393]]\n"
     ]
    },
    {
     "name": "stderr",
     "output_type": "stream",
     "text": [
      " 28%|██▊       | 818/2874 [02:02<05:58,  5.74it/s]Setting `pad_token_id` to `eos_token_id`:128001 for open-end generation.\n",
      " 28%|██▊       | 819/2874 [02:02<05:16,  6.50it/s]Setting `pad_token_id` to `eos_token_id`:128001 for open-end generation.\n"
     ]
    },
    {
     "name": "stdout",
     "output_type": "stream",
     "text": [
      "logits is [[0.888231   0.04219732 0.06957163]]\n",
      "logits is [[0.34121934 0.405208   0.2535727 ]]\n"
     ]
    },
    {
     "name": "stderr",
     "output_type": "stream",
     "text": [
      " 29%|██▊       | 820/2874 [02:03<05:31,  6.20it/s]Setting `pad_token_id` to `eos_token_id`:128001 for open-end generation.\n",
      " 29%|██▊       | 821/2874 [02:03<04:59,  6.85it/s]Setting `pad_token_id` to `eos_token_id`:128001 for open-end generation.\n"
     ]
    },
    {
     "name": "stdout",
     "output_type": "stream",
     "text": [
      "logits is [[0.5464499  0.18303779 0.2705123 ]]\n",
      "logits is [[0.14146964 0.11728246 0.74124795]]\n"
     ]
    },
    {
     "name": "stderr",
     "output_type": "stream",
     "text": [
      " 29%|██▊       | 822/2874 [02:03<05:22,  6.36it/s]Setting `pad_token_id` to `eos_token_id`:128001 for open-end generation.\n",
      " 29%|██▊       | 823/2874 [02:03<04:52,  7.02it/s]Setting `pad_token_id` to `eos_token_id`:128001 for open-end generation.\n"
     ]
    },
    {
     "name": "stdout",
     "output_type": "stream",
     "text": [
      "logits is [[0.40570602 0.3110656  0.28322843]]\n",
      "logits is [[0.03662586 0.7830954  0.18027881]]\n"
     ]
    },
    {
     "name": "stderr",
     "output_type": "stream",
     "text": [
      " 29%|██▊       | 824/2874 [02:03<04:35,  7.44it/s]Setting `pad_token_id` to `eos_token_id`:128001 for open-end generation.\n",
      " 29%|██▊       | 825/2874 [02:03<04:23,  7.78it/s]Setting `pad_token_id` to `eos_token_id`:128001 for open-end generation.\n"
     ]
    },
    {
     "name": "stdout",
     "output_type": "stream",
     "text": [
      "logits is [[0.11993237 0.40572596 0.47434172]]\n",
      "logits is [[0.74842656 0.15934922 0.09222425]]\n"
     ]
    },
    {
     "name": "stderr",
     "output_type": "stream",
     "text": [
      " 29%|██▊       | 826/2874 [02:03<04:10,  8.19it/s]Setting `pad_token_id` to `eos_token_id`:128001 for open-end generation.\n",
      " 29%|██▉       | 827/2874 [02:03<04:44,  7.20it/s]Setting `pad_token_id` to `eos_token_id`:128001 for open-end generation.\n"
     ]
    },
    {
     "name": "stdout",
     "output_type": "stream",
     "text": [
      "logits is [[0.50493103 0.16392711 0.33114186]]\n",
      "logits is [[0.42213315 0.3137027  0.26416418]]\n"
     ]
    },
    {
     "name": "stderr",
     "output_type": "stream",
     "text": [
      " 29%|██▉       | 828/2874 [02:04<05:19,  6.41it/s]Setting `pad_token_id` to `eos_token_id`:128001 for open-end generation.\n",
      " 29%|██▉       | 829/2874 [02:04<05:41,  5.98it/s]"
     ]
    },
    {
     "name": "stdout",
     "output_type": "stream",
     "text": [
      "logits is [[0.2727686  0.49392006 0.23331131]]\n",
      "logits is [[0.25237375 0.51783735 0.22978893]]\n"
     ]
    },
    {
     "name": "stderr",
     "output_type": "stream",
     "text": [
      "Setting `pad_token_id` to `eos_token_id`:128001 for open-end generation.\n",
      " 29%|██▉       | 830/2874 [02:04<05:52,  5.80it/s]Setting `pad_token_id` to `eos_token_id`:128001 for open-end generation.\n",
      " 29%|██▉       | 831/2874 [02:04<05:14,  6.49it/s]Setting `pad_token_id` to `eos_token_id`:128001 for open-end generation.\n"
     ]
    },
    {
     "name": "stdout",
     "output_type": "stream",
     "text": [
      "logits is [[0.5196887  0.25327605 0.2270352 ]]\n",
      "logits is [[0.28979206 0.34955594 0.36065203]]\n"
     ]
    },
    {
     "name": "stderr",
     "output_type": "stream",
     "text": [
      " 29%|██▉       | 832/2874 [02:04<04:59,  6.82it/s]Setting `pad_token_id` to `eos_token_id`:128001 for open-end generation.\n"
     ]
    },
    {
     "name": "stdout",
     "output_type": "stream",
     "text": [
      "logits is [[0.3675095  0.41644284 0.2160477 ]]\n"
     ]
    },
    {
     "name": "stderr",
     "output_type": "stream",
     "text": [
      " 29%|██▉       | 833/2874 [02:05<05:56,  5.73it/s]Setting `pad_token_id` to `eos_token_id`:128001 for open-end generation.\n",
      " 29%|██▉       | 834/2874 [02:05<05:37,  6.04it/s]Setting `pad_token_id` to `eos_token_id`:128001 for open-end generation.\n"
     ]
    },
    {
     "name": "stdout",
     "output_type": "stream",
     "text": [
      "logits is [[0.01743113 0.89404625 0.08852257]]\n",
      "logits is [[0.179785   0.4736704  0.34654468]]\n"
     ]
    },
    {
     "name": "stderr",
     "output_type": "stream",
     "text": [
      " 29%|██▉       | 835/2874 [02:05<05:04,  6.71it/s]Setting `pad_token_id` to `eos_token_id`:128001 for open-end generation.\n",
      " 29%|██▉       | 836/2874 [02:05<05:22,  6.32it/s]Setting `pad_token_id` to `eos_token_id`:128001 for open-end generation.\n"
     ]
    },
    {
     "name": "stdout",
     "output_type": "stream",
     "text": [
      "logits is [[0.79209733 0.10070388 0.10719872]]\n",
      "logits is [[0.37885517 0.33960357 0.28154126]]\n"
     ]
    },
    {
     "name": "stderr",
     "output_type": "stream",
     "text": [
      " 29%|██▉       | 837/2874 [02:05<04:57,  6.85it/s]Setting `pad_token_id` to `eos_token_id`:128001 for open-end generation.\n",
      " 29%|██▉       | 838/2874 [02:05<04:40,  7.27it/s]Setting `pad_token_id` to `eos_token_id`:128001 for open-end generation.\n"
     ]
    },
    {
     "name": "stdout",
     "output_type": "stream",
     "text": [
      "logits is [[0.04757627 0.6169784  0.33544534]]\n",
      "logits is [[0.15727824 0.40162405 0.44109774]]\n"
     ]
    },
    {
     "name": "stderr",
     "output_type": "stream",
     "text": [
      " 29%|██▉       | 839/2874 [02:05<04:24,  7.69it/s]Setting `pad_token_id` to `eos_token_id`:128001 for open-end generation.\n",
      " 29%|██▉       | 840/2874 [02:05<04:17,  7.90it/s]Setting `pad_token_id` to `eos_token_id`:128001 for open-end generation.\n"
     ]
    },
    {
     "name": "stdout",
     "output_type": "stream",
     "text": [
      "logits is [[0.6870499  0.12512109 0.18782899]]\n",
      "logits is [[0.68270177 0.04573816 0.27156   ]]\n"
     ]
    },
    {
     "name": "stderr",
     "output_type": "stream",
     "text": [
      " 29%|██▉       | 841/2874 [02:06<04:28,  7.57it/s]Setting `pad_token_id` to `eos_token_id`:128001 for open-end generation.\n",
      " 29%|██▉       | 842/2874 [02:06<04:55,  6.87it/s]Setting `pad_token_id` to `eos_token_id`:128001 for open-end generation.\n"
     ]
    },
    {
     "name": "stdout",
     "output_type": "stream",
     "text": [
      "logits is [[0.27600214 0.4479957  0.27600214]]\n",
      "logits is [[0.66809815 0.06615068 0.2657511 ]]\n"
     ]
    },
    {
     "name": "stderr",
     "output_type": "stream",
     "text": [
      " 29%|██▉       | 843/2874 [02:06<04:53,  6.91it/s]Setting `pad_token_id` to `eos_token_id`:128001 for open-end generation.\n",
      " 29%|██▉       | 844/2874 [02:06<04:30,  7.49it/s]Setting `pad_token_id` to `eos_token_id`:128001 for open-end generation.\n"
     ]
    },
    {
     "name": "stdout",
     "output_type": "stream",
     "text": [
      "logits is [[0.14923204 0.7345459  0.11622203]]\n",
      "logits is [[0.42348292 0.25685537 0.31966168]]\n"
     ]
    },
    {
     "name": "stderr",
     "output_type": "stream",
     "text": [
      " 29%|██▉       | 845/2874 [02:06<04:38,  7.30it/s]Setting `pad_token_id` to `eos_token_id`:128001 for open-end generation.\n"
     ]
    },
    {
     "name": "stdout",
     "output_type": "stream",
     "text": [
      "logits is [[0.5525443  0.16079955 0.2866562 ]]\n"
     ]
    },
    {
     "name": "stderr",
     "output_type": "stream",
     "text": [
      " 29%|██▉       | 846/2874 [02:06<05:49,  5.81it/s]Setting `pad_token_id` to `eos_token_id`:128001 for open-end generation.\n",
      " 29%|██▉       | 847/2874 [02:07<05:44,  5.88it/s]Setting `pad_token_id` to `eos_token_id`:128001 for open-end generation.\n"
     ]
    },
    {
     "name": "stdout",
     "output_type": "stream",
     "text": [
      "logits is [[0.2910984  0.6874825  0.02141917]]\n",
      "logits is [[0.39522842 0.22170304 0.3830685 ]]\n"
     ]
    },
    {
     "name": "stderr",
     "output_type": "stream",
     "text": [
      " 30%|██▉       | 848/2874 [02:07<05:09,  6.54it/s]Setting `pad_token_id` to `eos_token_id`:128001 for open-end generation.\n",
      " 30%|██▉       | 849/2874 [02:07<05:03,  6.67it/s]Setting `pad_token_id` to `eos_token_id`:128001 for open-end generation.\n"
     ]
    },
    {
     "name": "stdout",
     "output_type": "stream",
     "text": [
      "logits is [[0.7788964  0.07244866 0.14865498]]\n",
      "logits is [[0.21700579 0.5370945  0.24589977]]\n"
     ]
    },
    {
     "name": "stderr",
     "output_type": "stream",
     "text": [
      " 30%|██▉       | 850/2874 [02:07<06:06,  5.52it/s]Setting `pad_token_id` to `eos_token_id`:128001 for open-end generation.\n",
      " 30%|██▉       | 851/2874 [02:07<05:52,  5.74it/s]Setting `pad_token_id` to `eos_token_id`:128001 for open-end generation.\n"
     ]
    },
    {
     "name": "stdout",
     "output_type": "stream",
     "text": [
      "logits is [[0.3760684  0.08101343 0.54291815]]\n",
      "logits is [[0.20921765 0.42928675 0.36149567]]\n"
     ]
    },
    {
     "name": "stderr",
     "output_type": "stream",
     "text": [
      " 30%|██▉       | 852/2874 [02:07<06:19,  5.33it/s]Setting `pad_token_id` to `eos_token_id`:128001 for open-end generation.\n",
      " 30%|██▉       | 853/2874 [02:08<05:41,  5.92it/s]Setting `pad_token_id` to `eos_token_id`:128001 for open-end generation.\n"
     ]
    },
    {
     "name": "stdout",
     "output_type": "stream",
     "text": [
      "logits is [[0.54773134 0.2014991  0.25076967]]\n",
      "logits is [[0.07518885 0.80835634 0.11645478]]\n"
     ]
    },
    {
     "name": "stderr",
     "output_type": "stream",
     "text": [
      " 30%|██▉       | 854/2874 [02:08<05:05,  6.62it/s]Setting `pad_token_id` to `eos_token_id`:128001 for open-end generation.\n",
      " 30%|██▉       | 855/2874 [02:08<05:13,  6.45it/s]Setting `pad_token_id` to `eos_token_id`:128001 for open-end generation.\n"
     ]
    },
    {
     "name": "stdout",
     "output_type": "stream",
     "text": [
      "logits is [[0.5290145  0.27019417 0.20079127]]\n",
      "logits is [[0.2994059  0.22956249 0.47103164]]\n"
     ]
    },
    {
     "name": "stderr",
     "output_type": "stream",
     "text": [
      " 30%|██▉       | 856/2874 [02:08<04:49,  6.97it/s]Setting `pad_token_id` to `eos_token_id`:128001 for open-end generation.\n",
      " 30%|██▉       | 857/2874 [02:08<04:48,  6.99it/s]Setting `pad_token_id` to `eos_token_id`:128001 for open-end generation.\n"
     ]
    },
    {
     "name": "stdout",
     "output_type": "stream",
     "text": [
      "logits is [[0.30883512 0.3725263  0.31863862]]\n",
      "logits is [[0.4584059  0.3250585  0.21653561]]\n"
     ]
    },
    {
     "name": "stderr",
     "output_type": "stream",
     "text": [
      " 30%|██▉       | 858/2874 [02:08<05:55,  5.67it/s]Setting `pad_token_id` to `eos_token_id`:128001 for open-end generation.\n"
     ]
    },
    {
     "name": "stdout",
     "output_type": "stream",
     "text": [
      "logits is [[0.7735859  0.19068943 0.03572467]]\n"
     ]
    },
    {
     "name": "stderr",
     "output_type": "stream",
     "text": [
      " 30%|██▉       | 859/2874 [02:09<06:42,  5.01it/s]Setting `pad_token_id` to `eos_token_id`:128001 for open-end generation.\n",
      " 30%|██▉       | 860/2874 [02:09<06:07,  5.48it/s]Setting `pad_token_id` to `eos_token_id`:128001 for open-end generation.\n"
     ]
    },
    {
     "name": "stdout",
     "output_type": "stream",
     "text": [
      "logits is [[0.1936297  0.33456212 0.4718082 ]]\n",
      "logits is [[0.5931941  0.2286967  0.17810918]]\n"
     ]
    },
    {
     "name": "stderr",
     "output_type": "stream",
     "text": [
      " 30%|██▉       | 861/2874 [02:09<06:50,  4.91it/s]Setting `pad_token_id` to `eos_token_id`:128001 for open-end generation.\n",
      " 30%|██▉       | 862/2874 [02:09<06:44,  4.98it/s]"
     ]
    },
    {
     "name": "stdout",
     "output_type": "stream",
     "text": [
      "logits is [[0.11120847 0.4945232  0.39426827]]\n",
      "logits is [[0.46372744 0.22249885 0.3137737 ]]\n"
     ]
    },
    {
     "name": "stderr",
     "output_type": "stream",
     "text": [
      "Setting `pad_token_id` to `eos_token_id`:128001 for open-end generation.\n",
      " 30%|███       | 863/2874 [02:09<06:23,  5.24it/s]Setting `pad_token_id` to `eos_token_id`:128001 for open-end generation.\n",
      " 30%|███       | 864/2874 [02:09<05:36,  5.97it/s]Setting `pad_token_id` to `eos_token_id`:128001 for open-end generation.\n"
     ]
    },
    {
     "name": "stdout",
     "output_type": "stream",
     "text": [
      "logits is [[0.5872551  0.19670583 0.21603909]]\n",
      "logits is [[0.74886966 0.04640072 0.20472957]]\n"
     ]
    },
    {
     "name": "stderr",
     "output_type": "stream",
     "text": [
      " 30%|███       | 865/2874 [02:10<05:23,  6.21it/s]Setting `pad_token_id` to `eos_token_id`:128001 for open-end generation.\n",
      " 30%|███       | 866/2874 [02:10<04:57,  6.76it/s]Setting `pad_token_id` to `eos_token_id`:128001 for open-end generation.\n"
     ]
    },
    {
     "name": "stdout",
     "output_type": "stream",
     "text": [
      "logits is [[0.4611834  0.28412685 0.25468966]]\n",
      "logits is [[0.28376347 0.5301399  0.18609662]]\n"
     ]
    },
    {
     "name": "stderr",
     "output_type": "stream",
     "text": [
      " 30%|███       | 867/2874 [02:10<04:35,  7.28it/s]Setting `pad_token_id` to `eos_token_id`:128001 for open-end generation.\n",
      " 30%|███       | 868/2874 [02:10<04:29,  7.45it/s]Setting `pad_token_id` to `eos_token_id`:128001 for open-end generation.\n"
     ]
    },
    {
     "name": "stdout",
     "output_type": "stream",
     "text": [
      "logits is [[0.18515141 0.67725575 0.13759285]]\n",
      "logits is [[0.5317536  0.20500928 0.26323712]]\n"
     ]
    },
    {
     "name": "stderr",
     "output_type": "stream",
     "text": [
      " 30%|███       | 869/2874 [02:10<04:43,  7.08it/s]Setting `pad_token_id` to `eos_token_id`:128001 for open-end generation.\n",
      " 30%|███       | 870/2874 [02:10<04:43,  7.06it/s]Setting `pad_token_id` to `eos_token_id`:128001 for open-end generation.\n"
     ]
    },
    {
     "name": "stdout",
     "output_type": "stream",
     "text": [
      "logits is [[0.34338987 0.34879747 0.3078127 ]]\n",
      "logits is [[0.6451642  0.11749313 0.23734266]]\n"
     ]
    },
    {
     "name": "stderr",
     "output_type": "stream",
     "text": [
      " 30%|███       | 871/2874 [02:10<04:45,  7.03it/s]Setting `pad_token_id` to `eos_token_id`:128001 for open-end generation.\n",
      " 30%|███       | 872/2874 [02:11<05:08,  6.49it/s]Setting `pad_token_id` to `eos_token_id`:128001 for open-end generation.\n"
     ]
    },
    {
     "name": "stdout",
     "output_type": "stream",
     "text": [
      "logits is [[0.4962615  0.26562965 0.23810887]]\n",
      "logits is [[0.45871463 0.34088776 0.20039758]]\n"
     ]
    },
    {
     "name": "stderr",
     "output_type": "stream",
     "text": [
      " 30%|███       | 873/2874 [02:11<04:40,  7.13it/s]Setting `pad_token_id` to `eos_token_id`:128001 for open-end generation.\n",
      " 30%|███       | 874/2874 [02:11<04:51,  6.87it/s]Setting `pad_token_id` to `eos_token_id`:128001 for open-end generation.\n"
     ]
    },
    {
     "name": "stdout",
     "output_type": "stream",
     "text": [
      "logits is [[0.6834196  0.07667755 0.23990285]]\n",
      "logits is [[0.30028737 0.40408084 0.29563186]]\n"
     ]
    },
    {
     "name": "stderr",
     "output_type": "stream",
     "text": [
      " 30%|███       | 875/2874 [02:11<04:41,  7.11it/s]Setting `pad_token_id` to `eos_token_id`:128001 for open-end generation.\n",
      " 30%|███       | 876/2874 [02:11<04:23,  7.57it/s]Setting `pad_token_id` to `eos_token_id`:128001 for open-end generation.\n"
     ]
    },
    {
     "name": "stdout",
     "output_type": "stream",
     "text": [
      "logits is [[0.18504867 0.49521592 0.31973544]]\n",
      "logits is [[0.26544988 0.4732156  0.26133448]]\n"
     ]
    },
    {
     "name": "stderr",
     "output_type": "stream",
     "text": [
      " 31%|███       | 877/2874 [02:11<04:14,  7.86it/s]Setting `pad_token_id` to `eos_token_id`:128001 for open-end generation.\n"
     ]
    },
    {
     "name": "stdout",
     "output_type": "stream",
     "text": [
      "logits is [[0.35795286 0.31099483 0.33105227]]\n"
     ]
    },
    {
     "name": "stderr",
     "output_type": "stream",
     "text": [
      " 31%|███       | 878/2874 [02:11<05:29,  6.06it/s]Setting `pad_token_id` to `eos_token_id`:128001 for open-end generation.\n",
      " 31%|███       | 879/2874 [02:12<05:06,  6.51it/s]Setting `pad_token_id` to `eos_token_id`:128001 for open-end generation.\n"
     ]
    },
    {
     "name": "stdout",
     "output_type": "stream",
     "text": [
      "logits is [[0.3890064  0.42723995 0.18375362]]\n",
      "logits is [[0.22033171 0.39896917 0.38069904]]\n"
     ]
    },
    {
     "name": "stderr",
     "output_type": "stream",
     "text": [
      " 31%|███       | 880/2874 [02:12<05:30,  6.04it/s]Setting `pad_token_id` to `eos_token_id`:128001 for open-end generation.\n",
      " 31%|███       | 881/2874 [02:12<05:37,  5.90it/s]Setting `pad_token_id` to `eos_token_id`:128001 for open-end generation.\n"
     ]
    },
    {
     "name": "stdout",
     "output_type": "stream",
     "text": [
      "logits is [[0.82652754 0.0562459  0.11722653]]\n",
      "logits is [[0.07418419 0.8623628  0.0634531 ]]\n"
     ]
    },
    {
     "name": "stderr",
     "output_type": "stream",
     "text": [
      " 31%|███       | 882/2874 [02:12<05:20,  6.22it/s]Setting `pad_token_id` to `eos_token_id`:128001 for open-end generation.\n",
      " 31%|███       | 883/2874 [02:12<05:00,  6.62it/s]Setting `pad_token_id` to `eos_token_id`:128001 for open-end generation.\n"
     ]
    },
    {
     "name": "stdout",
     "output_type": "stream",
     "text": [
      "logits is [[0.7945577  0.05846397 0.1469784 ]]\n",
      "logits is [[0.32390186 0.3670289  0.3090693 ]]\n"
     ]
    },
    {
     "name": "stderr",
     "output_type": "stream",
     "text": [
      " 31%|███       | 884/2874 [02:12<05:08,  6.46it/s]Setting `pad_token_id` to `eos_token_id`:128001 for open-end generation.\n"
     ]
    },
    {
     "name": "stdout",
     "output_type": "stream",
     "text": [
      "logits is [[0.23583935 0.57465845 0.18950224]]\n"
     ]
    },
    {
     "name": "stderr",
     "output_type": "stream",
     "text": [
      " 31%|███       | 885/2874 [02:13<05:52,  5.64it/s]Setting `pad_token_id` to `eos_token_id`:128001 for open-end generation.\n",
      " 31%|███       | 886/2874 [02:13<05:14,  6.33it/s]Setting `pad_token_id` to `eos_token_id`:128001 for open-end generation.\n"
     ]
    },
    {
     "name": "stdout",
     "output_type": "stream",
     "text": [
      "logits is [[0.19808866 0.49027413 0.3116372 ]]\n",
      "logits is [[0.40815848 0.15735911 0.43448243]]\n"
     ]
    },
    {
     "name": "stderr",
     "output_type": "stream",
     "text": [
      " 31%|███       | 887/2874 [02:13<05:06,  6.49it/s]Setting `pad_token_id` to `eos_token_id`:128001 for open-end generation.\n",
      " 31%|███       | 888/2874 [02:13<04:40,  7.08it/s]Setting `pad_token_id` to `eos_token_id`:128001 for open-end generation.\n"
     ]
    },
    {
     "name": "stdout",
     "output_type": "stream",
     "text": [
      "logits is [[0.09921976 0.74468565 0.1560946 ]]\n",
      "logits is [[0.3266369  0.37595677 0.2974063 ]]\n"
     ]
    },
    {
     "name": "stderr",
     "output_type": "stream",
     "text": [
      " 31%|███       | 889/2874 [02:13<04:25,  7.49it/s]Setting `pad_token_id` to `eos_token_id`:128001 for open-end generation.\n",
      " 31%|███       | 890/2874 [02:13<04:40,  7.08it/s]Setting `pad_token_id` to `eos_token_id`:128001 for open-end generation.\n"
     ]
    },
    {
     "name": "stdout",
     "output_type": "stream",
     "text": [
      "logits is [[0.7444884  0.11779517 0.13771652]]\n",
      "logits is [[0.651851   0.15242779 0.19572118]]\n"
     ]
    },
    {
     "name": "stderr",
     "output_type": "stream",
     "text": [
      " 31%|███       | 891/2874 [02:13<05:14,  6.31it/s]Setting `pad_token_id` to `eos_token_id`:128001 for open-end generation.\n",
      " 31%|███       | 892/2874 [02:14<05:03,  6.54it/s]Setting `pad_token_id` to `eos_token_id`:128001 for open-end generation.\n"
     ]
    },
    {
     "name": "stdout",
     "output_type": "stream",
     "text": [
      "logits is [[0.2831884  0.46689874 0.2499129 ]]\n",
      "logits is [[0.24718751 0.45464742 0.29816505]]\n"
     ]
    },
    {
     "name": "stderr",
     "output_type": "stream",
     "text": [
      " 31%|███       | 893/2874 [02:14<04:46,  6.91it/s]Setting `pad_token_id` to `eos_token_id`:128001 for open-end generation.\n",
      " 31%|███       | 894/2874 [02:14<05:00,  6.59it/s]Setting `pad_token_id` to `eos_token_id`:128001 for open-end generation.\n"
     ]
    },
    {
     "name": "stdout",
     "output_type": "stream",
     "text": [
      "logits is [[0.19747514 0.53679305 0.2657318 ]]\n",
      "logits is [[0.30313385 0.42085963 0.2760065 ]]\n"
     ]
    },
    {
     "name": "stderr",
     "output_type": "stream",
     "text": [
      " 31%|███       | 895/2874 [02:14<04:35,  7.19it/s]Setting `pad_token_id` to `eos_token_id`:128001 for open-end generation.\n",
      " 31%|███       | 896/2874 [02:14<04:20,  7.59it/s]Setting `pad_token_id` to `eos_token_id`:128001 for open-end generation.\n"
     ]
    },
    {
     "name": "stdout",
     "output_type": "stream",
     "text": [
      "logits is [[0.22271743 0.1905003  0.5867823 ]]\n",
      "logits is [[0.2916671 0.2494761 0.4588568]]\n"
     ]
    },
    {
     "name": "stderr",
     "output_type": "stream",
     "text": [
      " 31%|███       | 897/2874 [02:14<05:08,  6.41it/s]Setting `pad_token_id` to `eos_token_id`:128001 for open-end generation.\n",
      " 31%|███       | 898/2874 [02:14<04:40,  7.05it/s]Setting `pad_token_id` to `eos_token_id`:128001 for open-end generation.\n"
     ]
    },
    {
     "name": "stdout",
     "output_type": "stream",
     "text": [
      "logits is [[0.79489523 0.09058923 0.11451552]]\n",
      "logits is [[0.31259924 0.35979953 0.3276012 ]]\n"
     ]
    },
    {
     "name": "stderr",
     "output_type": "stream",
     "text": [
      " 31%|███▏      | 899/2874 [02:15<04:53,  6.73it/s]Setting `pad_token_id` to `eos_token_id`:128001 for open-end generation.\n",
      " 31%|███▏      | 900/2874 [02:15<04:28,  7.35it/s]Setting `pad_token_id` to `eos_token_id`:128001 for open-end generation.\n"
     ]
    },
    {
     "name": "stdout",
     "output_type": "stream",
     "text": [
      "logits is [[0.29466903 0.39652053 0.3088105 ]]\n",
      "logits is [[0.3424898  0.16691619 0.490594  ]]\n"
     ]
    },
    {
     "name": "stderr",
     "output_type": "stream",
     "text": [
      " 31%|███▏      | 901/2874 [02:15<04:45,  6.90it/s]Setting `pad_token_id` to `eos_token_id`:128001 for open-end generation.\n",
      " 31%|███▏      | 902/2874 [02:15<04:36,  7.13it/s]Setting `pad_token_id` to `eos_token_id`:128001 for open-end generation.\n"
     ]
    },
    {
     "name": "stdout",
     "output_type": "stream",
     "text": [
      "logits is [[0.42678407 0.27989182 0.2933241 ]]\n",
      "logits is [[0.01940673 0.8922487  0.08834459]]\n"
     ]
    },
    {
     "name": "stderr",
     "output_type": "stream",
     "text": [
      " 31%|███▏      | 903/2874 [02:15<05:21,  6.13it/s]Setting `pad_token_id` to `eos_token_id`:128001 for open-end generation.\n",
      " 31%|███▏      | 904/2874 [02:15<04:59,  6.57it/s]Setting `pad_token_id` to `eos_token_id`:128001 for open-end generation.\n"
     ]
    },
    {
     "name": "stdout",
     "output_type": "stream",
     "text": [
      "logits is [[0.613721   0.1901219  0.19615702]]\n",
      "logits is [[0.10359853 0.5513656  0.3450358 ]]\n"
     ]
    },
    {
     "name": "stderr",
     "output_type": "stream",
     "text": [
      " 31%|███▏      | 905/2874 [02:16<05:17,  6.21it/s]Setting `pad_token_id` to `eos_token_id`:128001 for open-end generation.\n",
      " 32%|███▏      | 906/2874 [02:16<05:30,  5.95it/s]Setting `pad_token_id` to `eos_token_id`:128001 for open-end generation.\n"
     ]
    },
    {
     "name": "stdout",
     "output_type": "stream",
     "text": [
      "logits is [[0.5988325  0.20058376 0.20058376]]\n",
      "logits is [[0.15194508 0.67041314 0.1776418 ]]\n"
     ]
    },
    {
     "name": "stderr",
     "output_type": "stream",
     "text": [
      " 32%|███▏      | 907/2874 [02:16<05:00,  6.55it/s]Setting `pad_token_id` to `eos_token_id`:128001 for open-end generation.\n",
      " 32%|███▏      | 908/2874 [02:16<05:18,  6.18it/s]Setting `pad_token_id` to `eos_token_id`:128001 for open-end generation.\n"
     ]
    },
    {
     "name": "stdout",
     "output_type": "stream",
     "text": [
      "logits is [[0.04847421 0.16919164 0.7823342 ]]\n",
      "logits is [[0.14365675 0.6338433  0.22249994]]\n"
     ]
    },
    {
     "name": "stderr",
     "output_type": "stream",
     "text": [
      " 32%|███▏      | 909/2874 [02:16<04:48,  6.82it/s]Setting `pad_token_id` to `eos_token_id`:128001 for open-end generation.\n",
      " 32%|███▏      | 910/2874 [02:16<04:25,  7.39it/s]Setting `pad_token_id` to `eos_token_id`:128001 for open-end generation.\n"
     ]
    },
    {
     "name": "stdout",
     "output_type": "stream",
     "text": [
      "logits is [[0.3342505  0.36141098 0.30433854]]\n",
      "logits is [[0.55782133 0.05879394 0.38338464]]\n"
     ]
    },
    {
     "name": "stderr",
     "output_type": "stream",
     "text": [
      " 32%|███▏      | 911/2874 [02:16<04:09,  7.88it/s]Setting `pad_token_id` to `eos_token_id`:128001 for open-end generation.\n",
      " 32%|███▏      | 912/2874 [02:16<03:59,  8.18it/s]Setting `pad_token_id` to `eos_token_id`:128001 for open-end generation.\n"
     ]
    },
    {
     "name": "stdout",
     "output_type": "stream",
     "text": [
      "logits is [[0.23810887 0.4962615  0.26562965]]\n",
      "logits is [[0.6066522  0.09303313 0.3003146 ]]\n"
     ]
    },
    {
     "name": "stderr",
     "output_type": "stream",
     "text": [
      " 32%|███▏      | 913/2874 [02:17<04:20,  7.54it/s]Setting `pad_token_id` to `eos_token_id`:128001 for open-end generation.\n",
      " 32%|███▏      | 914/2874 [02:17<04:06,  7.96it/s]Setting `pad_token_id` to `eos_token_id`:128001 for open-end generation.\n"
     ]
    },
    {
     "name": "stdout",
     "output_type": "stream",
     "text": [
      "logits is [[0.17457591 0.6588426  0.1665815 ]]\n",
      "logits is [[0.22414395 0.6092864  0.16656964]]\n"
     ]
    },
    {
     "name": "stderr",
     "output_type": "stream",
     "text": [
      " 32%|███▏      | 915/2874 [02:17<05:06,  6.39it/s]Setting `pad_token_id` to `eos_token_id`:128001 for open-end generation.\n",
      " 32%|███▏      | 916/2874 [02:17<05:30,  5.92it/s]"
     ]
    },
    {
     "name": "stdout",
     "output_type": "stream",
     "text": [
      "logits is [[0.746147   0.06519759 0.1886555 ]]\n",
      "logits is [[0.19608654 0.44884655 0.35506684]]\n"
     ]
    },
    {
     "name": "stderr",
     "output_type": "stream",
     "text": [
      "Setting `pad_token_id` to `eos_token_id`:128001 for open-end generation.\n",
      " 32%|███▏      | 917/2874 [02:17<04:54,  6.65it/s]Setting `pad_token_id` to `eos_token_id`:128001 for open-end generation.\n",
      " 32%|███▏      | 918/2874 [02:17<04:40,  6.97it/s]Setting `pad_token_id` to `eos_token_id`:128001 for open-end generation.\n"
     ]
    },
    {
     "name": "stdout",
     "output_type": "stream",
     "text": [
      "logits is [[0.6419217  0.16230322 0.19577506]]\n",
      "logits is [[0.08638145 0.83247066 0.08114786]]\n"
     ]
    },
    {
     "name": "stderr",
     "output_type": "stream",
     "text": [
      " 32%|███▏      | 919/2874 [02:18<04:23,  7.41it/s]Setting `pad_token_id` to `eos_token_id`:128001 for open-end generation.\n",
      " 32%|███▏      | 920/2874 [02:18<04:19,  7.52it/s]Setting `pad_token_id` to `eos_token_id`:128001 for open-end generation.\n"
     ]
    },
    {
     "name": "stdout",
     "output_type": "stream",
     "text": [
      "logits is [[0.7009271  0.1162251  0.18284777]]\n",
      "logits is [[0.20369728 0.6274318  0.16887099]]\n"
     ]
    },
    {
     "name": "stderr",
     "output_type": "stream",
     "text": [
      " 32%|███▏      | 921/2874 [02:18<04:07,  7.90it/s]Setting `pad_token_id` to `eos_token_id`:128001 for open-end generation.\n",
      " 32%|███▏      | 922/2874 [02:18<03:58,  8.19it/s]Setting `pad_token_id` to `eos_token_id`:128001 for open-end generation.\n"
     ]
    },
    {
     "name": "stdout",
     "output_type": "stream",
     "text": [
      "logits is [[0.11718341 0.21892743 0.6638892 ]]\n",
      "logits is [[0.5083215  0.13681288 0.3548656 ]]\n"
     ]
    },
    {
     "name": "stderr",
     "output_type": "stream",
     "text": [
      " 32%|███▏      | 923/2874 [02:18<03:50,  8.47it/s]Setting `pad_token_id` to `eos_token_id`:128001 for open-end generation.\n",
      " 32%|███▏      | 924/2874 [02:18<03:48,  8.53it/s]Setting `pad_token_id` to `eos_token_id`:128001 for open-end generation.\n"
     ]
    },
    {
     "name": "stdout",
     "output_type": "stream",
     "text": [
      "logits is [[0.470775   0.20566638 0.32355863]]\n",
      "logits is [[0.6282278  0.16134223 0.21042995]]\n"
     ]
    },
    {
     "name": "stderr",
     "output_type": "stream",
     "text": [
      " 32%|███▏      | 925/2874 [02:18<04:13,  7.70it/s]Setting `pad_token_id` to `eos_token_id`:128001 for open-end generation.\n",
      " 32%|███▏      | 926/2874 [02:18<04:04,  7.98it/s]Setting `pad_token_id` to `eos_token_id`:128001 for open-end generation.\n"
     ]
    },
    {
     "name": "stdout",
     "output_type": "stream",
     "text": [
      "logits is [[0.2800155  0.4914425  0.22854199]]\n",
      "logits is [[0.6282004  0.1946074  0.17719206]]\n"
     ]
    },
    {
     "name": "stderr",
     "output_type": "stream",
     "text": [
      " 32%|███▏      | 927/2874 [02:19<04:11,  7.73it/s]Setting `pad_token_id` to `eos_token_id`:128001 for open-end generation.\n",
      " 32%|███▏      | 928/2874 [02:19<04:10,  7.78it/s]Setting `pad_token_id` to `eos_token_id`:128001 for open-end generation.\n"
     ]
    },
    {
     "name": "stdout",
     "output_type": "stream",
     "text": [
      "logits is [[0.3216953 0.3760999 0.3022048]]\n",
      "logits is [[0.18502547 0.6663023  0.14867215]]\n"
     ]
    },
    {
     "name": "stderr",
     "output_type": "stream",
     "text": [
      " 32%|███▏      | 929/2874 [02:19<04:18,  7.52it/s]Setting `pad_token_id` to `eos_token_id`:128001 for open-end generation.\n",
      " 32%|███▏      | 930/2874 [02:19<04:33,  7.10it/s]Setting `pad_token_id` to `eos_token_id`:128001 for open-end generation.\n"
     ]
    },
    {
     "name": "stdout",
     "output_type": "stream",
     "text": [
      "logits is [[0.30568576 0.4809112  0.21340305]]\n",
      "logits is [[0.22534081 0.62218595 0.15247323]]\n"
     ]
    },
    {
     "name": "stderr",
     "output_type": "stream",
     "text": [
      " 32%|███▏      | 931/2874 [02:19<04:20,  7.46it/s]Setting `pad_token_id` to `eos_token_id`:128001 for open-end generation.\n",
      " 32%|███▏      | 932/2874 [02:19<04:07,  7.85it/s]Setting `pad_token_id` to `eos_token_id`:128001 for open-end generation.\n"
     ]
    },
    {
     "name": "stdout",
     "output_type": "stream",
     "text": [
      "logits is [[0.36879602 0.32546133 0.30574262]]\n",
      "logits is [[0.2336052  0.17911133 0.58728343]]\n"
     ]
    },
    {
     "name": "stderr",
     "output_type": "stream",
     "text": [
      " 32%|███▏      | 933/2874 [02:19<04:01,  8.04it/s]Setting `pad_token_id` to `eos_token_id`:128001 for open-end generation.\n",
      " 32%|███▏      | 934/2874 [02:19<03:52,  8.34it/s]Setting `pad_token_id` to `eos_token_id`:128001 for open-end generation.\n"
     ]
    },
    {
     "name": "stdout",
     "output_type": "stream",
     "text": [
      "logits is [[0.40079585 0.40079585 0.19840832]]\n",
      "logits is [[0.10361798 0.58703583 0.30934617]]\n"
     ]
    },
    {
     "name": "stderr",
     "output_type": "stream",
     "text": [
      " 33%|███▎      | 935/2874 [02:20<03:50,  8.39it/s]Setting `pad_token_id` to `eos_token_id`:128001 for open-end generation.\n",
      " 33%|███▎      | 936/2874 [02:20<03:47,  8.50it/s]Setting `pad_token_id` to `eos_token_id`:128001 for open-end generation.\n"
     ]
    },
    {
     "name": "stdout",
     "output_type": "stream",
     "text": [
      "logits is [[0.49569002 0.194115   0.3101949 ]]\n",
      "logits is [[0.3232096  0.29892004 0.37787032]]\n"
     ]
    },
    {
     "name": "stderr",
     "output_type": "stream",
     "text": [
      " 33%|███▎      | 937/2874 [02:20<03:43,  8.66it/s]Setting `pad_token_id` to `eos_token_id`:128001 for open-end generation.\n"
     ]
    },
    {
     "name": "stdout",
     "output_type": "stream",
     "text": [
      "logits is [[0.5004279  0.09113469 0.40843737]]\n"
     ]
    },
    {
     "name": "stderr",
     "output_type": "stream",
     "text": [
      " 33%|███▎      | 938/2874 [02:20<05:04,  6.35it/s]Setting `pad_token_id` to `eos_token_id`:128001 for open-end generation.\n",
      " 33%|███▎      | 939/2874 [02:20<04:35,  7.02it/s]Setting `pad_token_id` to `eos_token_id`:128001 for open-end generation.\n"
     ]
    },
    {
     "name": "stdout",
     "output_type": "stream",
     "text": [
      "logits is [[0.81068015 0.08544505 0.10387477]]\n",
      "logits is [[0.3403623  0.14869328 0.51094437]]\n"
     ]
    },
    {
     "name": "stderr",
     "output_type": "stream",
     "text": [
      " 33%|███▎      | 940/2874 [02:20<04:36,  7.01it/s]Setting `pad_token_id` to `eos_token_id`:128001 for open-end generation.\n"
     ]
    },
    {
     "name": "stdout",
     "output_type": "stream",
     "text": [
      "logits is [[0.3807055  0.35763973 0.26165482]]\n"
     ]
    },
    {
     "name": "stderr",
     "output_type": "stream",
     "text": [
      " 33%|███▎      | 941/2874 [02:21<05:39,  5.69it/s]Setting `pad_token_id` to `eos_token_id`:128001 for open-end generation.\n",
      " 33%|███▎      | 942/2874 [02:21<05:21,  6.01it/s]Setting `pad_token_id` to `eos_token_id`:128001 for open-end generation.\n"
     ]
    },
    {
     "name": "stdout",
     "output_type": "stream",
     "text": [
      "logits is [[0.2075284  0.13294768 0.6595239 ]]\n",
      "logits is [[0.41994193 0.34814408 0.23191397]]\n"
     ]
    },
    {
     "name": "stderr",
     "output_type": "stream",
     "text": [
      " 33%|███▎      | 943/2874 [02:21<05:31,  5.82it/s]Setting `pad_token_id` to `eos_token_id`:128001 for open-end generation.\n",
      " 33%|███▎      | 944/2874 [02:21<04:55,  6.54it/s]Setting `pad_token_id` to `eos_token_id`:128001 for open-end generation.\n"
     ]
    },
    {
     "name": "stdout",
     "output_type": "stream",
     "text": [
      "logits is [[0.32320195 0.28080273 0.39599532]]\n",
      "logits is [[0.16808307 0.14603311 0.6858839 ]]\n"
     ]
    },
    {
     "name": "stderr",
     "output_type": "stream",
     "text": [
      " 33%|███▎      | 945/2874 [02:21<04:31,  7.12it/s]Setting `pad_token_id` to `eos_token_id`:128001 for open-end generation.\n",
      " 33%|███▎      | 946/2874 [02:21<04:14,  7.57it/s]Setting `pad_token_id` to `eos_token_id`:128001 for open-end generation.\n"
     ]
    },
    {
     "name": "stdout",
     "output_type": "stream",
     "text": [
      "logits is [[0.61612874 0.11046579 0.27340546]]\n",
      "logits is [[0.35763973 0.3807055  0.26165482]]\n"
     ]
    },
    {
     "name": "stderr",
     "output_type": "stream",
     "text": [
      " 33%|███▎      | 947/2874 [02:21<04:11,  7.66it/s]Setting `pad_token_id` to `eos_token_id`:128001 for open-end generation.\n",
      " 33%|███▎      | 948/2874 [02:21<04:03,  7.91it/s]Setting `pad_token_id` to `eos_token_id`:128001 for open-end generation.\n"
     ]
    },
    {
     "name": "stdout",
     "output_type": "stream",
     "text": [
      "logits is [[0.11854275 0.13224399 0.7492132 ]]\n",
      "logits is [[0.18909149 0.67038757 0.14052087]]\n"
     ]
    },
    {
     "name": "stderr",
     "output_type": "stream",
     "text": [
      " 33%|███▎      | 949/2874 [02:22<03:53,  8.25it/s]Setting `pad_token_id` to `eos_token_id`:128001 for open-end generation.\n",
      " 33%|███▎      | 950/2874 [02:22<03:48,  8.42it/s]Setting `pad_token_id` to `eos_token_id`:128001 for open-end generation.\n"
     ]
    },
    {
     "name": "stdout",
     "output_type": "stream",
     "text": [
      "logits is [[0.33535057 0.17671733 0.48793218]]\n",
      "logits is [[0.626134   0.09602076 0.27784526]]\n"
     ]
    },
    {
     "name": "stderr",
     "output_type": "stream",
     "text": [
      " 33%|███▎      | 951/2874 [02:22<03:47,  8.46it/s]Setting `pad_token_id` to `eos_token_id`:128001 for open-end generation.\n",
      " 33%|███▎      | 952/2874 [02:22<03:52,  8.28it/s]Setting `pad_token_id` to `eos_token_id`:128001 for open-end generation.\n"
     ]
    },
    {
     "name": "stdout",
     "output_type": "stream",
     "text": [
      "logits is [[0.5223491  0.18918231 0.2884686 ]]\n",
      "logits is [[0.10863078 0.75404704 0.13732217]]\n"
     ]
    },
    {
     "name": "stderr",
     "output_type": "stream",
     "text": [
      " 33%|███▎      | 953/2874 [02:22<04:05,  7.83it/s]Setting `pad_token_id` to `eos_token_id`:128001 for open-end generation.\n",
      " 33%|███▎      | 954/2874 [02:22<04:04,  7.87it/s]Setting `pad_token_id` to `eos_token_id`:128001 for open-end generation.\n"
     ]
    },
    {
     "name": "stdout",
     "output_type": "stream",
     "text": [
      "logits is [[0.6536665  0.07806933 0.26826417]]\n",
      "logits is [[0.03742457 0.89265704 0.0699183 ]]\n"
     ]
    },
    {
     "name": "stderr",
     "output_type": "stream",
     "text": [
      " 33%|███▎      | 955/2874 [02:22<04:22,  7.30it/s]Setting `pad_token_id` to `eos_token_id`:128001 for open-end generation.\n"
     ]
    },
    {
     "name": "stdout",
     "output_type": "stream",
     "text": [
      "logits is [[0.210126   0.52006686 0.26980713]]\n"
     ]
    },
    {
     "name": "stderr",
     "output_type": "stream",
     "text": [
      " 33%|███▎      | 956/2874 [02:23<05:07,  6.25it/s]Setting `pad_token_id` to `eos_token_id`:128001 for open-end generation.\n",
      " 33%|███▎      | 957/2874 [02:23<04:57,  6.44it/s]Setting `pad_token_id` to `eos_token_id`:128001 for open-end generation.\n"
     ]
    },
    {
     "name": "stdout",
     "output_type": "stream",
     "text": [
      "logits is [[0.7520354  0.1066613  0.14130326]]\n",
      "logits is [[0.40509787 0.2202479  0.3746543 ]]\n"
     ]
    },
    {
     "name": "stderr",
     "output_type": "stream",
     "text": [
      " 33%|███▎      | 958/2874 [02:23<04:30,  7.09it/s]Setting `pad_token_id` to `eos_token_id`:128001 for open-end generation.\n",
      " 33%|███▎      | 959/2874 [02:23<04:13,  7.56it/s]Setting `pad_token_id` to `eos_token_id`:128001 for open-end generation.\n"
     ]
    },
    {
     "name": "stdout",
     "output_type": "stream",
     "text": [
      "logits is [[0.09268891 0.78829616 0.11901492]]\n",
      "logits is [[0.14391103 0.6654379  0.19065115]]\n"
     ]
    },
    {
     "name": "stderr",
     "output_type": "stream",
     "text": [
      " 33%|███▎      | 960/2874 [02:23<04:18,  7.41it/s]Setting `pad_token_id` to `eos_token_id`:128001 for open-end generation.\n",
      " 33%|███▎      | 961/2874 [02:23<04:07,  7.73it/s]Setting `pad_token_id` to `eos_token_id`:128001 for open-end generation.\n"
     ]
    },
    {
     "name": "stdout",
     "output_type": "stream",
     "text": [
      "logits is [[0.45544335 0.18985704 0.35469964]]\n",
      "logits is [[0.16792396 0.16792396 0.66415215]]\n"
     ]
    },
    {
     "name": "stderr",
     "output_type": "stream",
     "text": [
      " 33%|███▎      | 962/2874 [02:23<03:59,  7.97it/s]Setting `pad_token_id` to `eos_token_id`:128001 for open-end generation.\n",
      " 34%|███▎      | 963/2874 [02:23<04:07,  7.71it/s]Setting `pad_token_id` to `eos_token_id`:128001 for open-end generation.\n"
     ]
    },
    {
     "name": "stdout",
     "output_type": "stream",
     "text": [
      "logits is [[0.46746427 0.20105389 0.3314818 ]]\n",
      "logits is [[0.19340889 0.41589448 0.3906967 ]]\n"
     ]
    },
    {
     "name": "stderr",
     "output_type": "stream",
     "text": [
      " 34%|███▎      | 964/2874 [02:24<03:57,  8.03it/s]Setting `pad_token_id` to `eos_token_id`:128001 for open-end generation.\n",
      " 34%|███▎      | 965/2874 [02:24<03:53,  8.18it/s]Setting `pad_token_id` to `eos_token_id`:128001 for open-end generation.\n"
     ]
    },
    {
     "name": "stdout",
     "output_type": "stream",
     "text": [
      "logits is [[0.7062391  0.10662615 0.18713473]]\n",
      "logits is [[0.1360224  0.7827549  0.08122269]]\n"
     ]
    },
    {
     "name": "stderr",
     "output_type": "stream",
     "text": [
      " 34%|███▎      | 966/2874 [02:24<03:47,  8.39it/s]Setting `pad_token_id` to `eos_token_id`:128001 for open-end generation.\n",
      " 34%|███▎      | 967/2874 [02:24<03:38,  8.71it/s]Setting `pad_token_id` to `eos_token_id`:128001 for open-end generation.\n"
     ]
    },
    {
     "name": "stdout",
     "output_type": "stream",
     "text": [
      "logits is [[0.5904272  0.15163426 0.25793856]]\n",
      "logits is [[0.501098   0.20888871 0.29001328]]\n"
     ]
    },
    {
     "name": "stderr",
     "output_type": "stream",
     "text": [
      " 34%|███▎      | 968/2874 [02:24<03:44,  8.48it/s]Setting `pad_token_id` to `eos_token_id`:128001 for open-end generation.\n",
      " 34%|███▎      | 969/2874 [02:24<03:38,  8.73it/s]Setting `pad_token_id` to `eos_token_id`:128001 for open-end generation.\n"
     ]
    },
    {
     "name": "stdout",
     "output_type": "stream",
     "text": [
      "logits is [[0.6896766  0.1827461  0.12757735]]\n",
      "logits is [[0.2970089  0.45288447 0.25010657]]\n"
     ]
    },
    {
     "name": "stderr",
     "output_type": "stream",
     "text": [
      " 34%|███▍      | 970/2874 [02:24<03:54,  8.10it/s]Setting `pad_token_id` to `eos_token_id`:128001 for open-end generation.\n"
     ]
    },
    {
     "name": "stdout",
     "output_type": "stream",
     "text": [
      "logits is [[0.26246393 0.5059125  0.2316236 ]]\n"
     ]
    },
    {
     "name": "stderr",
     "output_type": "stream",
     "text": [
      " 34%|███▍      | 971/2874 [02:24<05:10,  6.14it/s]Setting `pad_token_id` to `eos_token_id`:128001 for open-end generation.\n",
      " 34%|███▍      | 972/2874 [02:25<04:49,  6.56it/s]Setting `pad_token_id` to `eos_token_id`:128001 for open-end generation.\n"
     ]
    },
    {
     "name": "stdout",
     "output_type": "stream",
     "text": [
      "logits is [[0.23214218 0.06663987 0.70121795]]\n",
      "logits is [[0.2769207  0.14592695 0.5771523 ]]\n"
     ]
    },
    {
     "name": "stderr",
     "output_type": "stream",
     "text": [
      " 34%|███▍      | 973/2874 [02:25<05:07,  6.18it/s]Setting `pad_token_id` to `eos_token_id`:128001 for open-end generation.\n",
      " 34%|███▍      | 974/2874 [02:25<04:38,  6.81it/s]Setting `pad_token_id` to `eos_token_id`:128001 for open-end generation.\n"
     ]
    },
    {
     "name": "stdout",
     "output_type": "stream",
     "text": [
      "logits is [[0.41542953 0.3286318  0.2559387 ]]\n",
      "logits is [[0.4490159  0.29910907 0.25187507]]\n"
     ]
    },
    {
     "name": "stderr",
     "output_type": "stream",
     "text": [
      " 34%|███▍      | 975/2874 [02:25<04:47,  6.61it/s]Setting `pad_token_id` to `eos_token_id`:128001 for open-end generation.\n",
      " 34%|███▍      | 976/2874 [02:25<04:42,  6.71it/s]Setting `pad_token_id` to `eos_token_id`:128001 for open-end generation.\n"
     ]
    },
    {
     "name": "stdout",
     "output_type": "stream",
     "text": [
      "logits is [[0.25131422 0.37141836 0.37726736]]\n",
      "logits is [[0.28501084 0.36028746 0.3547017 ]]\n"
     ]
    },
    {
     "name": "stderr",
     "output_type": "stream",
     "text": [
      " 34%|███▍      | 977/2874 [02:25<04:49,  6.55it/s]Setting `pad_token_id` to `eos_token_id`:128001 for open-end generation.\n"
     ]
    },
    {
     "name": "stdout",
     "output_type": "stream",
     "text": [
      "logits is [[0.20600447 0.61501575 0.17897978]]\n"
     ]
    },
    {
     "name": "stderr",
     "output_type": "stream",
     "text": [
      " 34%|███▍      | 978/2874 [02:26<05:32,  5.70it/s]Setting `pad_token_id` to `eos_token_id`:128001 for open-end generation.\n",
      " 34%|███▍      | 979/2874 [02:26<05:14,  6.02it/s]Setting `pad_token_id` to `eos_token_id`:128001 for open-end generation.\n"
     ]
    },
    {
     "name": "stdout",
     "output_type": "stream",
     "text": [
      "logits is [[0.20835333 0.56636304 0.22528365]]\n",
      "logits is [[0.5079477  0.18396646 0.30808586]]\n"
     ]
    },
    {
     "name": "stderr",
     "output_type": "stream",
     "text": [
      " 34%|███▍      | 980/2874 [02:26<04:45,  6.64it/s]Setting `pad_token_id` to `eos_token_id`:128001 for open-end generation.\n",
      " 34%|███▍      | 981/2874 [02:26<04:23,  7.19it/s]Setting `pad_token_id` to `eos_token_id`:128001 for open-end generation.\n"
     ]
    },
    {
     "name": "stdout",
     "output_type": "stream",
     "text": [
      "logits is [[0.5572679  0.26738006 0.17535211]]\n",
      "logits is [[0.17297225 0.53279203 0.2942357 ]]\n"
     ]
    },
    {
     "name": "stderr",
     "output_type": "stream",
     "text": [
      " 34%|███▍      | 982/2874 [02:26<04:43,  6.68it/s]Setting `pad_token_id` to `eos_token_id`:128001 for open-end generation.\n",
      " 34%|███▍      | 983/2874 [02:26<04:23,  7.17it/s]Setting `pad_token_id` to `eos_token_id`:128001 for open-end generation.\n"
     ]
    },
    {
     "name": "stdout",
     "output_type": "stream",
     "text": [
      "logits is [[0.6502821  0.14509755 0.20462033]]\n",
      "logits is [[0.4241962  0.3103486  0.26545522]]\n"
     ]
    },
    {
     "name": "stderr",
     "output_type": "stream",
     "text": [
      " 34%|███▍      | 984/2874 [02:26<04:34,  6.88it/s]Setting `pad_token_id` to `eos_token_id`:128001 for open-end generation.\n",
      " 34%|███▍      | 985/2874 [02:27<04:22,  7.18it/s]Setting `pad_token_id` to `eos_token_id`:128001 for open-end generation.\n"
     ]
    },
    {
     "name": "stdout",
     "output_type": "stream",
     "text": [
      "logits is [[0.3627003  0.38010666 0.25719303]]\n",
      "logits is [[0.32620972 0.38137782 0.29241252]]\n"
     ]
    },
    {
     "name": "stderr",
     "output_type": "stream",
     "text": [
      " 34%|███▍      | 986/2874 [02:27<04:12,  7.47it/s]Setting `pad_token_id` to `eos_token_id`:128001 for open-end generation.\n",
      " 34%|███▍      | 987/2874 [02:27<04:27,  7.05it/s]Setting `pad_token_id` to `eos_token_id`:128001 for open-end generation.\n"
     ]
    },
    {
     "name": "stdout",
     "output_type": "stream",
     "text": [
      "logits is [[0.2716383  0.4996193  0.22874238]]\n",
      "logits is [[0.25101495 0.46895766 0.2800274 ]]\n"
     ]
    },
    {
     "name": "stderr",
     "output_type": "stream",
     "text": [
      " 34%|███▍      | 988/2874 [02:27<04:17,  7.31it/s]Setting `pad_token_id` to `eos_token_id`:128001 for open-end generation.\n",
      " 34%|███▍      | 989/2874 [02:27<04:22,  7.17it/s]Setting `pad_token_id` to `eos_token_id`:128001 for open-end generation.\n"
     ]
    },
    {
     "name": "stdout",
     "output_type": "stream",
     "text": [
      "logits is [[0.28881696 0.4268438  0.28433925]]\n",
      "logits is [[0.72335225 0.1296899  0.14695793]]\n"
     ]
    },
    {
     "name": "stderr",
     "output_type": "stream",
     "text": [
      " 34%|███▍      | 990/2874 [02:27<04:10,  7.53it/s]Setting `pad_token_id` to `eos_token_id`:128001 for open-end generation.\n",
      " 34%|███▍      | 991/2874 [02:27<04:24,  7.13it/s]Setting `pad_token_id` to `eos_token_id`:128001 for open-end generation.\n"
     ]
    },
    {
     "name": "stdout",
     "output_type": "stream",
     "text": [
      "logits is [[0.27088362 0.35886246 0.37025398]]\n",
      "logits is [[0.7907624  0.10870335 0.10053416]]\n"
     ]
    },
    {
     "name": "stderr",
     "output_type": "stream",
     "text": [
      " 35%|███▍      | 992/2874 [02:27<04:07,  7.59it/s]Setting `pad_token_id` to `eos_token_id`:128001 for open-end generation.\n",
      " 35%|███▍      | 993/2874 [02:28<03:57,  7.93it/s]Setting `pad_token_id` to `eos_token_id`:128001 for open-end generation.\n"
     ]
    },
    {
     "name": "stdout",
     "output_type": "stream",
     "text": [
      "logits is [[0.23442495 0.42448872 0.34108627]]\n",
      "logits is [[0.16258816 0.65317523 0.18423653]]\n"
     ]
    },
    {
     "name": "stderr",
     "output_type": "stream",
     "text": [
      " 35%|███▍      | 994/2874 [02:28<03:55,  7.97it/s]Setting `pad_token_id` to `eos_token_id`:128001 for open-end generation.\n",
      " 35%|███▍      | 995/2874 [02:28<03:50,  8.15it/s]Setting `pad_token_id` to `eos_token_id`:128001 for open-end generation.\n"
     ]
    },
    {
     "name": "stdout",
     "output_type": "stream",
     "text": [
      "logits is [[0.03041926 0.8221732  0.14740753]]\n",
      "logits is [[0.76325154 0.07676223 0.15998621]]\n"
     ]
    },
    {
     "name": "stderr",
     "output_type": "stream",
     "text": [
      " 35%|███▍      | 996/2874 [02:28<03:42,  8.42it/s]Setting `pad_token_id` to `eos_token_id`:128001 for open-end generation.\n",
      " 35%|███▍      | 997/2874 [02:28<03:40,  8.51it/s]Setting `pad_token_id` to `eos_token_id`:128001 for open-end generation.\n"
     ]
    },
    {
     "name": "stdout",
     "output_type": "stream",
     "text": [
      "logits is [[0.39052665 0.32375795 0.2857154 ]]\n",
      "logits is [[0.19752249 0.57155025 0.23092717]]\n"
     ]
    },
    {
     "name": "stderr",
     "output_type": "stream",
     "text": [
      " 35%|███▍      | 998/2874 [02:28<03:34,  8.76it/s]Setting `pad_token_id` to `eos_token_id`:128001 for open-end generation.\n"
     ]
    },
    {
     "name": "stdout",
     "output_type": "stream",
     "text": [
      "logits is [[0.34829938 0.29791626 0.35378432]]\n"
     ]
    },
    {
     "name": "stderr",
     "output_type": "stream",
     "text": [
      " 35%|███▍      | 999/2874 [02:28<04:30,  6.93it/s]Setting `pad_token_id` to `eos_token_id`:128001 for open-end generation.\n",
      " 35%|███▍      | 1000/2874 [02:29<04:31,  6.90it/s]Setting `pad_token_id` to `eos_token_id`:128001 for open-end generation.\n"
     ]
    },
    {
     "name": "stdout",
     "output_type": "stream",
     "text": [
      "logits is [[0.52778774 0.2305734  0.24163882]]\n",
      "logits is [[0.34006706 0.34542236 0.31451064]]\n"
     ]
    },
    {
     "name": "stderr",
     "output_type": "stream",
     "text": [
      " 35%|███▍      | 1001/2874 [02:29<04:09,  7.51it/s]Setting `pad_token_id` to `eos_token_id`:128001 for open-end generation.\n",
      " 35%|███▍      | 1002/2874 [02:29<03:54,  7.99it/s]Setting `pad_token_id` to `eos_token_id`:128001 for open-end generation.\n"
     ]
    },
    {
     "name": "stdout",
     "output_type": "stream",
     "text": [
      "logits is [[0.400866   0.34827843 0.25085554]]\n",
      "logits is [[0.2879053 0.3365954 0.3754993]]\n"
     ]
    },
    {
     "name": "stderr",
     "output_type": "stream",
     "text": [
      " 35%|███▍      | 1003/2874 [02:29<04:41,  6.64it/s]Setting `pad_token_id` to `eos_token_id`:128001 for open-end generation.\n",
      " 35%|███▍      | 1004/2874 [02:29<04:45,  6.55it/s]Setting `pad_token_id` to `eos_token_id`:128001 for open-end generation.\n"
     ]
    },
    {
     "name": "stdout",
     "output_type": "stream",
     "text": [
      "logits is [[0.16200022 0.7036969  0.1343029 ]]\n",
      "logits is [[0.5708349  0.23795937 0.19120574]]\n"
     ]
    },
    {
     "name": "stderr",
     "output_type": "stream",
     "text": [
      " 35%|███▍      | 1005/2874 [02:29<05:08,  6.07it/s]Setting `pad_token_id` to `eos_token_id`:128001 for open-end generation.\n",
      " 35%|███▌      | 1006/2874 [02:29<04:34,  6.80it/s]Setting `pad_token_id` to `eos_token_id`:128001 for open-end generation.\n"
     ]
    },
    {
     "name": "stdout",
     "output_type": "stream",
     "text": [
      "logits is [[0.90604013 0.0135442  0.08041563]]\n",
      "logits is [[0.11670232 0.12230297 0.7609947 ]]\n"
     ]
    },
    {
     "name": "stderr",
     "output_type": "stream",
     "text": [
      " 35%|███▌      | 1007/2874 [02:30<05:10,  6.01it/s]Setting `pad_token_id` to `eos_token_id`:128001 for open-end generation.\n",
      " 35%|███▌      | 1008/2874 [02:30<04:40,  6.65it/s]Setting `pad_token_id` to `eos_token_id`:128001 for open-end generation.\n"
     ]
    },
    {
     "name": "stdout",
     "output_type": "stream",
     "text": [
      "logits is [[0.39367026 0.3315036  0.27482614]]\n",
      "logits is [[0.21735454 0.59083086 0.19181469]]\n"
     ]
    },
    {
     "name": "stderr",
     "output_type": "stream",
     "text": [
      " 35%|███▌      | 1009/2874 [02:30<04:17,  7.24it/s]Setting `pad_token_id` to `eos_token_id`:128001 for open-end generation.\n",
      " 35%|███▌      | 1010/2874 [02:30<04:37,  6.73it/s]Setting `pad_token_id` to `eos_token_id`:128001 for open-end generation.\n"
     ]
    },
    {
     "name": "stdout",
     "output_type": "stream",
     "text": [
      "logits is [[0.13485414 0.4562057  0.40894014]]\n",
      "logits is [[0.36188653 0.356276   0.28183752]]\n"
     ]
    },
    {
     "name": "stderr",
     "output_type": "stream",
     "text": [
      " 35%|███▌      | 1011/2874 [02:30<05:37,  5.53it/s]Setting `pad_token_id` to `eos_token_id`:128001 for open-end generation.\n",
      " 35%|███▌      | 1012/2874 [02:30<04:55,  6.30it/s]Setting `pad_token_id` to `eos_token_id`:128001 for open-end generation.\n"
     ]
    },
    {
     "name": "stdout",
     "output_type": "stream",
     "text": [
      "logits is [[0.26717433 0.49333215 0.23949353]]\n",
      "logits is [[0.10839298 0.07807253 0.8135345 ]]\n"
     ]
    },
    {
     "name": "stderr",
     "output_type": "stream",
     "text": [
      " 35%|███▌      | 1013/2874 [02:31<04:36,  6.74it/s]Setting `pad_token_id` to `eos_token_id`:128001 for open-end generation.\n",
      " 35%|███▌      | 1014/2874 [02:31<04:25,  6.99it/s]Setting `pad_token_id` to `eos_token_id`:128001 for open-end generation.\n"
     ]
    },
    {
     "name": "stdout",
     "output_type": "stream",
     "text": [
      "logits is [[0.79055065 0.0900941  0.1193553 ]]\n",
      "logits is [[0.33322483 0.3229726  0.34380254]]\n"
     ]
    },
    {
     "name": "stderr",
     "output_type": "stream",
     "text": [
      " 35%|███▌      | 1015/2874 [02:31<04:46,  6.49it/s]Setting `pad_token_id` to `eos_token_id`:128001 for open-end generation.\n",
      " 35%|███▌      | 1016/2874 [02:31<04:25,  7.01it/s]Setting `pad_token_id` to `eos_token_id`:128001 for open-end generation.\n"
     ]
    },
    {
     "name": "stdout",
     "output_type": "stream",
     "text": [
      "logits is [[0.19090156 0.16328676 0.6458117 ]]\n",
      "logits is [[0.14708492 0.6389078  0.2140073 ]]\n"
     ]
    },
    {
     "name": "stderr",
     "output_type": "stream",
     "text": [
      " 35%|███▌      | 1017/2874 [02:31<04:09,  7.43it/s]Setting `pad_token_id` to `eos_token_id`:128001 for open-end generation.\n",
      " 35%|███▌      | 1018/2874 [02:31<03:54,  7.92it/s]Setting `pad_token_id` to `eos_token_id`:128001 for open-end generation.\n"
     ]
    },
    {
     "name": "stdout",
     "output_type": "stream",
     "text": [
      "logits is [[0.2676402  0.41452926 0.31783062]]\n",
      "logits is [[0.6549224  0.1484342  0.19664338]]\n"
     ]
    },
    {
     "name": "stderr",
     "output_type": "stream",
     "text": [
      " 35%|███▌      | 1019/2874 [02:31<04:53,  6.31it/s]Setting `pad_token_id` to `eos_token_id`:128001 for open-end generation.\n",
      " 35%|███▌      | 1020/2874 [02:31<04:27,  6.93it/s]Setting `pad_token_id` to `eos_token_id`:128001 for open-end generation.\n"
     ]
    },
    {
     "name": "stdout",
     "output_type": "stream",
     "text": [
      "logits is [[0.23536637 0.51408744 0.25054622]]\n",
      "logits is [[0.10603619 0.6101962  0.28376758]]\n"
     ]
    },
    {
     "name": "stderr",
     "output_type": "stream",
     "text": [
      " 36%|███▌      | 1021/2874 [02:32<05:25,  5.69it/s]Setting `pad_token_id` to `eos_token_id`:128001 for open-end generation.\n",
      " 36%|███▌      | 1022/2874 [02:32<05:19,  5.80it/s]Setting `pad_token_id` to `eos_token_id`:128001 for open-end generation.\n"
     ]
    },
    {
     "name": "stdout",
     "output_type": "stream",
     "text": [
      "logits is [[0.6015289  0.18061173 0.21785933]]\n",
      "logits is [[0.31525594 0.3743757  0.31036833]]\n"
     ]
    },
    {
     "name": "stderr",
     "output_type": "stream",
     "text": [
      " 36%|███▌      | 1023/2874 [02:32<04:44,  6.50it/s]Setting `pad_token_id` to `eos_token_id`:128001 for open-end generation.\n",
      " 36%|███▌      | 1024/2874 [02:32<04:20,  7.10it/s]Setting `pad_token_id` to `eos_token_id`:128001 for open-end generation.\n"
     ]
    },
    {
     "name": "stdout",
     "output_type": "stream",
     "text": [
      "logits is [[0.66204447 0.1263534  0.21160212]]\n",
      "logits is [[0.21564382 0.15054366 0.6338125 ]]\n"
     ]
    },
    {
     "name": "stderr",
     "output_type": "stream",
     "text": [
      " 36%|███▌      | 1025/2874 [02:32<04:01,  7.66it/s]Setting `pad_token_id` to `eos_token_id`:128001 for open-end generation.\n",
      " 36%|███▌      | 1026/2874 [02:32<03:53,  7.93it/s]Setting `pad_token_id` to `eos_token_id`:128001 for open-end generation.\n"
     ]
    },
    {
     "name": "stdout",
     "output_type": "stream",
     "text": [
      "logits is [[0.34020397 0.34020397 0.31959206]]\n",
      "logits is [[0.64958274 0.22448981 0.12592736]]\n"
     ]
    },
    {
     "name": "stderr",
     "output_type": "stream",
     "text": [
      " 36%|███▌      | 1027/2874 [02:32<03:53,  7.92it/s]Setting `pad_token_id` to `eos_token_id`:128001 for open-end generation.\n",
      " 36%|███▌      | 1028/2874 [02:33<04:24,  6.98it/s]Setting `pad_token_id` to `eos_token_id`:128001 for open-end generation.\n"
     ]
    },
    {
     "name": "stdout",
     "output_type": "stream",
     "text": [
      "logits is [[0.7646297  0.08714006 0.14823024]]\n",
      "logits is [[0.6846263  0.16261299 0.15276077]]\n"
     ]
    },
    {
     "name": "stderr",
     "output_type": "stream",
     "text": [
      " 36%|███▌      | 1029/2874 [02:33<04:06,  7.48it/s]Setting `pad_token_id` to `eos_token_id`:128001 for open-end generation.\n",
      " 36%|███▌      | 1030/2874 [02:33<03:54,  7.87it/s]Setting `pad_token_id` to `eos_token_id`:128001 for open-end generation.\n"
     ]
    },
    {
     "name": "stdout",
     "output_type": "stream",
     "text": [
      "logits is [[0.36709785 0.22972399 0.40317813]]\n",
      "logits is [[0.0580332 0.826554  0.1154128]]\n"
     ]
    },
    {
     "name": "stderr",
     "output_type": "stream",
     "text": [
      " 36%|███▌      | 1031/2874 [02:33<03:52,  7.93it/s]Setting `pad_token_id` to `eos_token_id`:128001 for open-end generation.\n",
      " 36%|███▌      | 1032/2874 [02:33<04:31,  6.78it/s]"
     ]
    },
    {
     "name": "stdout",
     "output_type": "stream",
     "text": [
      "logits is [[0.14832307 0.37288418 0.47879276]]\n",
      "logits is [[0.42153034 0.15030128 0.42816848]]\n"
     ]
    },
    {
     "name": "stderr",
     "output_type": "stream",
     "text": [
      "Setting `pad_token_id` to `eos_token_id`:128001 for open-end generation.\n",
      " 36%|███▌      | 1033/2874 [02:33<04:28,  6.84it/s]Setting `pad_token_id` to `eos_token_id`:128001 for open-end generation.\n",
      " 36%|███▌      | 1034/2874 [02:33<04:11,  7.33it/s]Setting `pad_token_id` to `eos_token_id`:128001 for open-end generation.\n"
     ]
    },
    {
     "name": "stdout",
     "output_type": "stream",
     "text": [
      "logits is [[0.40604803 0.36971095 0.22424103]]\n",
      "logits is [[0.42243034 0.30905664 0.26851305]]\n"
     ]
    },
    {
     "name": "stderr",
     "output_type": "stream",
     "text": [
      " 36%|███▌      | 1035/2874 [02:34<04:53,  6.26it/s]Setting `pad_token_id` to `eos_token_id`:128001 for open-end generation.\n",
      " 36%|███▌      | 1036/2874 [02:34<04:56,  6.19it/s]Setting `pad_token_id` to `eos_token_id`:128001 for open-end generation.\n"
     ]
    },
    {
     "name": "stdout",
     "output_type": "stream",
     "text": [
      "logits is [[0.32154602 0.4395013  0.2389527 ]]\n",
      "logits is [[0.49053153 0.2883686  0.2210999 ]]\n"
     ]
    },
    {
     "name": "stderr",
     "output_type": "stream",
     "text": [
      " 36%|███▌      | 1037/2874 [02:34<04:30,  6.79it/s]Setting `pad_token_id` to `eos_token_id`:128001 for open-end generation.\n"
     ]
    },
    {
     "name": "stdout",
     "output_type": "stream",
     "text": [
      "logits is [[0.27339888 0.39162582 0.3349753 ]]\n"
     ]
    },
    {
     "name": "stderr",
     "output_type": "stream",
     "text": [
      " 36%|███▌      | 1038/2874 [02:34<05:28,  5.58it/s]Setting `pad_token_id` to `eos_token_id`:128001 for open-end generation.\n",
      " 36%|███▌      | 1039/2874 [02:34<05:10,  5.92it/s]Setting `pad_token_id` to `eos_token_id`:128001 for open-end generation.\n"
     ]
    },
    {
     "name": "stdout",
     "output_type": "stream",
     "text": [
      "logits is [[0.8872772  0.07722716 0.03549555]]\n",
      "logits is [[0.39367026 0.27482614 0.3315036 ]]\n"
     ]
    },
    {
     "name": "stderr",
     "output_type": "stream",
     "text": [
      " 36%|███▌      | 1040/2874 [02:34<04:37,  6.61it/s]Setting `pad_token_id` to `eos_token_id`:128001 for open-end generation.\n",
      " 36%|███▌      | 1041/2874 [02:35<04:18,  7.10it/s]Setting `pad_token_id` to `eos_token_id`:128001 for open-end generation.\n"
     ]
    },
    {
     "name": "stdout",
     "output_type": "stream",
     "text": [
      "logits is [[0.35795286 0.33105227 0.31099483]]\n",
      "logits is [[0.2003253  0.5796604  0.22001427]]\n"
     ]
    },
    {
     "name": "stderr",
     "output_type": "stream",
     "text": [
      " 36%|███▋      | 1042/2874 [02:35<04:40,  6.53it/s]Setting `pad_token_id` to `eos_token_id`:128001 for open-end generation.\n",
      " 36%|███▋      | 1043/2874 [02:35<04:52,  6.26it/s]Setting `pad_token_id` to `eos_token_id`:128001 for open-end generation.\n"
     ]
    },
    {
     "name": "stdout",
     "output_type": "stream",
     "text": [
      "logits is [[0.32039627 0.46617383 0.21342993]]\n",
      "logits is [[0.7252472  0.14059559 0.13415724]]\n"
     ]
    },
    {
     "name": "stderr",
     "output_type": "stream",
     "text": [
      " 36%|███▋      | 1044/2874 [02:35<05:47,  5.26it/s]Setting `pad_token_id` to `eos_token_id`:128001 for open-end generation.\n",
      " 36%|███▋      | 1045/2874 [02:35<05:20,  5.70it/s]Setting `pad_token_id` to `eos_token_id`:128001 for open-end generation.\n"
     ]
    },
    {
     "name": "stdout",
     "output_type": "stream",
     "text": [
      "logits is [[0.7512268 0.0900724 0.1587007]]\n",
      "logits is [[0.17574115 0.42822003 0.39603877]]\n"
     ]
    },
    {
     "name": "stderr",
     "output_type": "stream",
     "text": [
      " 36%|███▋      | 1046/2874 [02:35<04:48,  6.34it/s]Setting `pad_token_id` to `eos_token_id`:128001 for open-end generation.\n",
      " 36%|███▋      | 1047/2874 [02:36<05:07,  5.94it/s]Setting `pad_token_id` to `eos_token_id`:128001 for open-end generation.\n"
     ]
    },
    {
     "name": "stdout",
     "output_type": "stream",
     "text": [
      "logits is [[0.32426223 0.38507095 0.2906668 ]]\n",
      "logits is [[0.31640998 0.4824676  0.2011224 ]]\n"
     ]
    },
    {
     "name": "stderr",
     "output_type": "stream",
     "text": [
      " 36%|███▋      | 1048/2874 [02:36<04:36,  6.60it/s]Setting `pad_token_id` to `eos_token_id`:128001 for open-end generation.\n",
      " 36%|███▋      | 1049/2874 [02:36<04:15,  7.14it/s]Setting `pad_token_id` to `eos_token_id`:128001 for open-end generation.\n"
     ]
    },
    {
     "name": "stdout",
     "output_type": "stream",
     "text": [
      "logits is [[0.3276012  0.35979953 0.31259924]]\n",
      "logits is [[0.37116042 0.28016657 0.34867296]]\n"
     ]
    },
    {
     "name": "stderr",
     "output_type": "stream",
     "text": [
      " 37%|███▋      | 1050/2874 [02:36<04:08,  7.33it/s]Setting `pad_token_id` to `eos_token_id`:128001 for open-end generation.\n",
      " 37%|███▋      | 1051/2874 [02:36<04:43,  6.42it/s]"
     ]
    },
    {
     "name": "stdout",
     "output_type": "stream",
     "text": [
      "logits is [[0.55232126 0.24129128 0.20638737]]\n",
      "logits is [[0.5627019  0.22035721 0.2169409 ]]\n"
     ]
    },
    {
     "name": "stderr",
     "output_type": "stream",
     "text": [
      "Setting `pad_token_id` to `eos_token_id`:128001 for open-end generation.\n",
      " 37%|███▋      | 1052/2874 [02:36<04:19,  7.02it/s]Setting `pad_token_id` to `eos_token_id`:128001 for open-end generation.\n",
      " 37%|███▋      | 1053/2874 [02:37<04:46,  6.35it/s]Setting `pad_token_id` to `eos_token_id`:128001 for open-end generation.\n"
     ]
    },
    {
     "name": "stdout",
     "output_type": "stream",
     "text": [
      "logits is [[0.82202804 0.05954751 0.11842437]]\n",
      "logits is [[0.2430139  0.5391499  0.21783625]]\n"
     ]
    },
    {
     "name": "stderr",
     "output_type": "stream",
     "text": [
      " 37%|███▋      | 1054/2874 [02:37<04:23,  6.92it/s]Setting `pad_token_id` to `eos_token_id`:128001 for open-end generation.\n",
      " 37%|███▋      | 1055/2874 [02:37<04:07,  7.36it/s]Setting `pad_token_id` to `eos_token_id`:128001 for open-end generation.\n"
     ]
    },
    {
     "name": "stdout",
     "output_type": "stream",
     "text": [
      "logits is [[0.60011524 0.18590702 0.21397768]]\n",
      "logits is [[0.0925372  0.09547465 0.8119881 ]]\n"
     ]
    },
    {
     "name": "stderr",
     "output_type": "stream",
     "text": [
      " 37%|███▋      | 1056/2874 [02:37<05:13,  5.79it/s]Setting `pad_token_id` to `eos_token_id`:128001 for open-end generation.\n",
      " 37%|███▋      | 1057/2874 [02:37<04:37,  6.54it/s]Setting `pad_token_id` to `eos_token_id`:128001 for open-end generation.\n"
     ]
    },
    {
     "name": "stdout",
     "output_type": "stream",
     "text": [
      "logits is [[0.47792938 0.15275541 0.3693152 ]]\n",
      "logits is [[0.31605065 0.4527217  0.23122759]]\n"
     ]
    },
    {
     "name": "stderr",
     "output_type": "stream",
     "text": [
      " 37%|███▋      | 1058/2874 [02:37<04:17,  7.07it/s]Setting `pad_token_id` to `eos_token_id`:128001 for open-end generation.\n",
      " 37%|███▋      | 1059/2874 [02:37<04:27,  6.79it/s]Setting `pad_token_id` to `eos_token_id`:128001 for open-end generation.\n"
     ]
    },
    {
     "name": "stdout",
     "output_type": "stream",
     "text": [
      "logits is [[0.31806132 0.21187453 0.47006416]]\n",
      "logits is [[0.05654133 0.85724336 0.08621524]]\n"
     ]
    },
    {
     "name": "stderr",
     "output_type": "stream",
     "text": [
      " 37%|███▋      | 1060/2874 [02:38<04:32,  6.66it/s]Setting `pad_token_id` to `eos_token_id`:128001 for open-end generation.\n",
      " 37%|███▋      | 1061/2874 [02:38<04:35,  6.58it/s]Setting `pad_token_id` to `eos_token_id`:128001 for open-end generation.\n"
     ]
    },
    {
     "name": "stdout",
     "output_type": "stream",
     "text": [
      "logits is [[0.21700579 0.5370945  0.24589977]]\n",
      "logits is [[0.17107534 0.62576765 0.20315701]]\n"
     ]
    },
    {
     "name": "stderr",
     "output_type": "stream",
     "text": [
      " 37%|███▋      | 1062/2874 [02:38<04:43,  6.39it/s]Setting `pad_token_id` to `eos_token_id`:128001 for open-end generation.\n",
      " 37%|███▋      | 1063/2874 [02:38<05:03,  5.97it/s]Setting `pad_token_id` to `eos_token_id`:128001 for open-end generation.\n"
     ]
    },
    {
     "name": "stdout",
     "output_type": "stream",
     "text": [
      "logits is [[0.16676858 0.3938547  0.43937668]]\n",
      "logits is [[0.23437932 0.51999325 0.24562742]]\n"
     ]
    },
    {
     "name": "stderr",
     "output_type": "stream",
     "text": [
      " 37%|███▋      | 1064/2874 [02:38<04:34,  6.59it/s]Setting `pad_token_id` to `eos_token_id`:128001 for open-end generation.\n",
      " 37%|███▋      | 1065/2874 [02:38<04:59,  6.03it/s]"
     ]
    },
    {
     "name": "stdout",
     "output_type": "stream",
     "text": [
      "logits is [[0.34686014 0.10745227 0.5456876 ]]\n",
      "logits is [[0.26136068 0.45159075 0.28704855]]\n"
     ]
    },
    {
     "name": "stderr",
     "output_type": "stream",
     "text": [
      "Setting `pad_token_id` to `eos_token_id`:128001 for open-end generation.\n",
      " 37%|███▋      | 1066/2874 [02:38<04:30,  6.69it/s]Setting `pad_token_id` to `eos_token_id`:128001 for open-end generation.\n",
      " 37%|███▋      | 1067/2874 [02:39<04:53,  6.15it/s]"
     ]
    },
    {
     "name": "stdout",
     "output_type": "stream",
     "text": [
      "logits is [[0.64243674 0.22906788 0.12849542]]\n",
      "logits is [[0.3194859  0.3508866  0.32962748]]\n"
     ]
    },
    {
     "name": "stderr",
     "output_type": "stream",
     "text": [
      "Setting `pad_token_id` to `eos_token_id`:128001 for open-end generation.\n",
      " 37%|███▋      | 1068/2874 [02:39<04:52,  6.18it/s]Setting `pad_token_id` to `eos_token_id`:128001 for open-end generation.\n",
      " 37%|███▋      | 1069/2874 [02:39<04:33,  6.61it/s]Setting `pad_token_id` to `eos_token_id`:128001 for open-end generation.\n"
     ]
    },
    {
     "name": "stdout",
     "output_type": "stream",
     "text": [
      "logits is [[0.29682449 0.48938084 0.21379466]]\n",
      "logits is [[0.7908432  0.10702898 0.10212778]]\n"
     ]
    },
    {
     "name": "stderr",
     "output_type": "stream",
     "text": [
      " 37%|███▋      | 1070/2874 [02:39<04:10,  7.21it/s]Setting `pad_token_id` to `eos_token_id`:128001 for open-end generation.\n",
      " 37%|███▋      | 1071/2874 [02:39<04:32,  6.61it/s]Setting `pad_token_id` to `eos_token_id`:128001 for open-end generation.\n"
     ]
    },
    {
     "name": "stdout",
     "output_type": "stream",
     "text": [
      "logits is [[0.26789537 0.27639928 0.45570537]]\n",
      "logits is [[0.397406   0.32946113 0.2731329 ]]\n"
     ]
    },
    {
     "name": "stderr",
     "output_type": "stream",
     "text": [
      " 37%|███▋      | 1072/2874 [02:39<04:09,  7.21it/s]Setting `pad_token_id` to `eos_token_id`:128001 for open-end generation.\n"
     ]
    },
    {
     "name": "stdout",
     "output_type": "stream",
     "text": [
      "logits is [[0.29682449 0.48938084 0.21379466]]\n"
     ]
    },
    {
     "name": "stderr",
     "output_type": "stream",
     "text": [
      " 37%|███▋      | 1073/2874 [02:40<05:11,  5.77it/s]Setting `pad_token_id` to `eos_token_id`:128001 for open-end generation.\n",
      " 37%|███▋      | 1074/2874 [02:40<04:43,  6.35it/s]Setting `pad_token_id` to `eos_token_id`:128001 for open-end generation.\n"
     ]
    },
    {
     "name": "stdout",
     "output_type": "stream",
     "text": [
      "logits is [[0.12410259 0.7967043  0.07919315]]\n",
      "logits is [[0.24421917 0.42197287 0.333808  ]]\n"
     ]
    },
    {
     "name": "stderr",
     "output_type": "stream",
     "text": [
      " 37%|███▋      | 1075/2874 [02:40<05:06,  5.87it/s]Setting `pad_token_id` to `eos_token_id`:128001 for open-end generation.\n",
      " 37%|███▋      | 1076/2874 [02:40<04:38,  6.46it/s]Setting `pad_token_id` to `eos_token_id`:128001 for open-end generation.\n"
     ]
    },
    {
     "name": "stdout",
     "output_type": "stream",
     "text": [
      "logits is [[0.30144507 0.45252267 0.2460323 ]]\n",
      "logits is [[0.40570602 0.28322843 0.3110656 ]]\n"
     ]
    },
    {
     "name": "stderr",
     "output_type": "stream",
     "text": [
      " 37%|███▋      | 1077/2874 [02:40<04:29,  6.66it/s]Setting `pad_token_id` to `eos_token_id`:128001 for open-end generation.\n",
      " 38%|███▊      | 1078/2874 [02:40<04:24,  6.80it/s]Setting `pad_token_id` to `eos_token_id`:128001 for open-end generation.\n"
     ]
    },
    {
     "name": "stdout",
     "output_type": "stream",
     "text": [
      "logits is [[0.29137108 0.36261716 0.3460117 ]]\n",
      "logits is [[0.13233949 0.6720754  0.19558509]]\n"
     ]
    },
    {
     "name": "stderr",
     "output_type": "stream",
     "text": [
      " 38%|███▊      | 1079/2874 [02:41<05:18,  5.64it/s]Setting `pad_token_id` to `eos_token_id`:128001 for open-end generation.\n",
      " 38%|███▊      | 1080/2874 [02:41<04:45,  6.28it/s]Setting `pad_token_id` to `eos_token_id`:128001 for open-end generation.\n"
     ]
    },
    {
     "name": "stdout",
     "output_type": "stream",
     "text": [
      "logits is [[0.30371955 0.3779851  0.31829536]]\n",
      "logits is [[0.6150151  0.06089474 0.32409018]]\n"
     ]
    },
    {
     "name": "stderr",
     "output_type": "stream",
     "text": [
      " 38%|███▊      | 1081/2874 [02:41<04:53,  6.10it/s]Setting `pad_token_id` to `eos_token_id`:128001 for open-end generation.\n",
      " 38%|███▊      | 1082/2874 [02:41<04:23,  6.79it/s]Setting `pad_token_id` to `eos_token_id`:128001 for open-end generation.\n"
     ]
    },
    {
     "name": "stdout",
     "output_type": "stream",
     "text": [
      "logits is [[0.25556886 0.32306933 0.42136183]]\n",
      "logits is [[0.7140487  0.13627858 0.14967273]]\n"
     ]
    },
    {
     "name": "stderr",
     "output_type": "stream",
     "text": [
      " 38%|███▊      | 1083/2874 [02:41<04:02,  7.37it/s]Setting `pad_token_id` to `eos_token_id`:128001 for open-end generation.\n",
      " 38%|███▊      | 1084/2874 [02:41<04:25,  6.75it/s]Setting `pad_token_id` to `eos_token_id`:128001 for open-end generation.\n"
     ]
    },
    {
     "name": "stdout",
     "output_type": "stream",
     "text": [
      "logits is [[0.22848964 0.39479467 0.3767157 ]]\n",
      "logits is [[0.25383776 0.5290433  0.21711893]]\n"
     ]
    },
    {
     "name": "stderr",
     "output_type": "stream",
     "text": [
      " 38%|███▊      | 1085/2874 [02:41<04:03,  7.34it/s]Setting `pad_token_id` to `eos_token_id`:128001 for open-end generation.\n",
      " 38%|███▊      | 1086/2874 [02:41<03:49,  7.80it/s]Setting `pad_token_id` to `eos_token_id`:128001 for open-end generation.\n"
     ]
    },
    {
     "name": "stdout",
     "output_type": "stream",
     "text": [
      "logits is [[0.22677408 0.2376572  0.5355688 ]]\n",
      "logits is [[0.3095547  0.26067117 0.4297741 ]]\n"
     ]
    },
    {
     "name": "stderr",
     "output_type": "stream",
     "text": [
      " 38%|███▊      | 1087/2874 [02:42<03:38,  8.17it/s]Setting `pad_token_id` to `eos_token_id`:128001 for open-end generation.\n",
      " 38%|███▊      | 1088/2874 [02:42<03:57,  7.51it/s]Setting `pad_token_id` to `eos_token_id`:128001 for open-end generation.\n"
     ]
    },
    {
     "name": "stdout",
     "output_type": "stream",
     "text": [
      "logits is [[0.22249885 0.46372744 0.3137737 ]]\n",
      "logits is [[0.3111631  0.4388103  0.25002658]]\n"
     ]
    },
    {
     "name": "stderr",
     "output_type": "stream",
     "text": [
      " 38%|███▊      | 1089/2874 [02:42<03:44,  7.94it/s]Setting `pad_token_id` to `eos_token_id`:128001 for open-end generation.\n"
     ]
    },
    {
     "name": "stdout",
     "output_type": "stream",
     "text": [
      "logits is [[0.27066332 0.49782607 0.23151062]]\n"
     ]
    },
    {
     "name": "stderr",
     "output_type": "stream",
     "text": [
      " 38%|███▊      | 1090/2874 [02:42<04:41,  6.35it/s]Setting `pad_token_id` to `eos_token_id`:128001 for open-end generation.\n",
      " 38%|███▊      | 1091/2874 [02:42<04:54,  6.04it/s]Setting `pad_token_id` to `eos_token_id`:128001 for open-end generation.\n"
     ]
    },
    {
     "name": "stdout",
     "output_type": "stream",
     "text": [
      "logits is [[0.31116268 0.3015892  0.3872482 ]]\n",
      "logits is [[0.46929848 0.14767131 0.38303027]]\n"
     ]
    },
    {
     "name": "stderr",
     "output_type": "stream",
     "text": [
      " 38%|███▊      | 1092/2874 [02:42<04:43,  6.30it/s]Setting `pad_token_id` to `eos_token_id`:128001 for open-end generation.\n",
      " 38%|███▊      | 1093/2874 [02:43<04:17,  6.91it/s]Setting `pad_token_id` to `eos_token_id`:128001 for open-end generation.\n"
     ]
    },
    {
     "name": "stdout",
     "output_type": "stream",
     "text": [
      "logits is [[0.6697674  0.14712837 0.1831042 ]]\n",
      "logits is [[0.8282304  0.04672556 0.12504408]]\n"
     ]
    },
    {
     "name": "stderr",
     "output_type": "stream",
     "text": [
      " 38%|███▊      | 1094/2874 [02:43<03:57,  7.50it/s]Setting `pad_token_id` to `eos_token_id`:128001 for open-end generation.\n",
      " 38%|███▊      | 1095/2874 [02:43<04:13,  7.02it/s]Setting `pad_token_id` to `eos_token_id`:128001 for open-end generation.\n"
     ]
    },
    {
     "name": "stdout",
     "output_type": "stream",
     "text": [
      "logits is [[0.5223491  0.18918231 0.2884686 ]]\n",
      "logits is [[0.65537703 0.17096533 0.17365761]]\n"
     ]
    },
    {
     "name": "stderr",
     "output_type": "stream",
     "text": [
      " 38%|███▊      | 1096/2874 [02:43<04:32,  6.53it/s]Setting `pad_token_id` to `eos_token_id`:128001 for open-end generation.\n"
     ]
    },
    {
     "name": "stdout",
     "output_type": "stream",
     "text": [
      "logits is [[0.02221119 0.8734679  0.10432087]]\n"
     ]
    },
    {
     "name": "stderr",
     "output_type": "stream",
     "text": [
      " 38%|███▊      | 1097/2874 [02:43<05:25,  5.47it/s]Setting `pad_token_id` to `eos_token_id`:128001 for open-end generation.\n",
      " 38%|███▊      | 1098/2874 [02:43<04:50,  6.11it/s]Setting `pad_token_id` to `eos_token_id`:128001 for open-end generation.\n"
     ]
    },
    {
     "name": "stdout",
     "output_type": "stream",
     "text": [
      "logits is [[0.3862364  0.335568   0.27819565]]\n",
      "logits is [[0.8849455  0.03274175 0.08231276]]\n"
     ]
    },
    {
     "name": "stderr",
     "output_type": "stream",
     "text": [
      " 38%|███▊      | 1099/2874 [02:43<04:25,  6.68it/s]Setting `pad_token_id` to `eos_token_id`:128001 for open-end generation.\n",
      " 38%|███▊      | 1100/2874 [02:44<04:14,  6.96it/s]Setting `pad_token_id` to `eos_token_id`:128001 for open-end generation.\n"
     ]
    },
    {
     "name": "stdout",
     "output_type": "stream",
     "text": [
      "logits is [[0.8976254  0.02753279 0.07484189]]\n",
      "logits is [[0.13252635 0.76263654 0.10483698]]\n"
     ]
    },
    {
     "name": "stderr",
     "output_type": "stream",
     "text": [
      " 38%|███▊      | 1101/2874 [02:44<04:15,  6.94it/s]Setting `pad_token_id` to `eos_token_id`:128001 for open-end generation.\n"
     ]
    },
    {
     "name": "stdout",
     "output_type": "stream",
     "text": [
      "logits is [[0.5681787  0.15055236 0.28126886]]\n"
     ]
    },
    {
     "name": "stderr",
     "output_type": "stream",
     "text": [
      " 38%|███▊      | 1102/2874 [02:44<05:14,  5.63it/s]Setting `pad_token_id` to `eos_token_id`:128001 for open-end generation.\n",
      " 38%|███▊      | 1103/2874 [02:44<04:43,  6.24it/s]Setting `pad_token_id` to `eos_token_id`:128001 for open-end generation.\n"
     ]
    },
    {
     "name": "stdout",
     "output_type": "stream",
     "text": [
      "logits is [[0.35784507 0.39764866 0.24450622]]\n",
      "logits is [[0.4824824  0.2749102  0.24260738]]\n"
     ]
    },
    {
     "name": "stderr",
     "output_type": "stream",
     "text": [
      " 38%|███▊      | 1104/2874 [02:44<04:45,  6.20it/s]Setting `pad_token_id` to `eos_token_id`:128001 for open-end generation.\n"
     ]
    },
    {
     "name": "stdout",
     "output_type": "stream",
     "text": [
      "logits is [[0.17937128 0.59739757 0.22323115]]\n"
     ]
    },
    {
     "name": "stderr",
     "output_type": "stream",
     "text": [
      " 38%|███▊      | 1105/2874 [02:44<05:16,  5.59it/s]Setting `pad_token_id` to `eos_token_id`:128001 for open-end generation.\n"
     ]
    },
    {
     "name": "stdout",
     "output_type": "stream",
     "text": [
      "logits is [[0.463497  0.2682515 0.2682515]]\n"
     ]
    },
    {
     "name": "stderr",
     "output_type": "stream",
     "text": [
      " 38%|███▊      | 1106/2874 [02:45<05:45,  5.11it/s]Setting `pad_token_id` to `eos_token_id`:128001 for open-end generation.\n"
     ]
    },
    {
     "name": "stdout",
     "output_type": "stream",
     "text": [
      "logits is [[0.2815155  0.44986048 0.26862395]]\n"
     ]
    },
    {
     "name": "stderr",
     "output_type": "stream",
     "text": [
      " 39%|███▊      | 1107/2874 [02:45<05:56,  4.96it/s]Setting `pad_token_id` to `eos_token_id`:128001 for open-end generation.\n",
      " 39%|███▊      | 1108/2874 [02:45<05:16,  5.59it/s]Setting `pad_token_id` to `eos_token_id`:128001 for open-end generation.\n"
     ]
    },
    {
     "name": "stdout",
     "output_type": "stream",
     "text": [
      "logits is [[0.22893204 0.54917943 0.22188854]]\n",
      "logits is [[0.44210035 0.22935864 0.32854107]]\n"
     ]
    },
    {
     "name": "stderr",
     "output_type": "stream",
     "text": [
      " 39%|███▊      | 1109/2874 [02:45<04:49,  6.10it/s]Setting `pad_token_id` to `eos_token_id`:128001 for open-end generation.\n"
     ]
    },
    {
     "name": "stdout",
     "output_type": "stream",
     "text": [
      "logits is [[0.6967081  0.03468705 0.2686049 ]]\n"
     ]
    },
    {
     "name": "stderr",
     "output_type": "stream",
     "text": [
      " 39%|███▊      | 1110/2874 [02:45<05:37,  5.23it/s]Setting `pad_token_id` to `eos_token_id`:128001 for open-end generation.\n",
      " 39%|███▊      | 1111/2874 [02:46<05:40,  5.18it/s]"
     ]
    },
    {
     "name": "stdout",
     "output_type": "stream",
     "text": [
      "logits is [[0.39466304 0.25431642 0.35102057]]\n",
      "logits is [[0.1698896  0.6825077  0.14760265]]\n"
     ]
    },
    {
     "name": "stderr",
     "output_type": "stream",
     "text": [
      "Setting `pad_token_id` to `eos_token_id`:128001 for open-end generation.\n",
      " 39%|███▊      | 1112/2874 [02:46<04:57,  5.92it/s]Setting `pad_token_id` to `eos_token_id`:128001 for open-end generation.\n",
      " 39%|███▊      | 1113/2874 [02:46<04:32,  6.47it/s]Setting `pad_token_id` to `eos_token_id`:128001 for open-end generation.\n"
     ]
    },
    {
     "name": "stdout",
     "output_type": "stream",
     "text": [
      "logits is [[0.11195645 0.12296011 0.7650835 ]]\n",
      "logits is [[0.4246929  0.11610458 0.45920253]]\n"
     ]
    },
    {
     "name": "stderr",
     "output_type": "stream",
     "text": [
      " 39%|███▉      | 1114/2874 [02:46<04:44,  6.18it/s]Setting `pad_token_id` to `eos_token_id`:128001 for open-end generation.\n",
      " 39%|███▉      | 1115/2874 [02:46<04:18,  6.81it/s]Setting `pad_token_id` to `eos_token_id`:128001 for open-end generation.\n"
     ]
    },
    {
     "name": "stdout",
     "output_type": "stream",
     "text": [
      "logits is [[0.26438832 0.4497397  0.28587192]]\n",
      "logits is [[0.20716235 0.5543952  0.23844242]]\n"
     ]
    },
    {
     "name": "stderr",
     "output_type": "stream",
     "text": [
      " 39%|███▉      | 1116/2874 [02:46<05:01,  5.82it/s]Setting `pad_token_id` to `eos_token_id`:128001 for open-end generation.\n",
      " 39%|███▉      | 1117/2874 [02:47<04:38,  6.31it/s]Setting `pad_token_id` to `eos_token_id`:128001 for open-end generation.\n"
     ]
    },
    {
     "name": "stdout",
     "output_type": "stream",
     "text": [
      "logits is [[0.4743821  0.22408223 0.3015356 ]]\n",
      "logits is [[0.4926212  0.29878986 0.20858894]]\n"
     ]
    },
    {
     "name": "stderr",
     "output_type": "stream",
     "text": [
      " 39%|███▉      | 1118/2874 [02:47<04:29,  6.51it/s]Setting `pad_token_id` to `eos_token_id`:128001 for open-end generation.\n"
     ]
    },
    {
     "name": "stdout",
     "output_type": "stream",
     "text": [
      "logits is [[0.16087851 0.15113138 0.6879901 ]]\n"
     ]
    },
    {
     "name": "stderr",
     "output_type": "stream",
     "text": [
      " 39%|███▉      | 1119/2874 [02:47<05:24,  5.41it/s]Setting `pad_token_id` to `eos_token_id`:128001 for open-end generation.\n",
      " 39%|███▉      | 1120/2874 [02:47<04:47,  6.10it/s]Setting `pad_token_id` to `eos_token_id`:128001 for open-end generation.\n"
     ]
    },
    {
     "name": "stdout",
     "output_type": "stream",
     "text": [
      "logits is [[0.3820398  0.35332903 0.26463124]]\n",
      "logits is [[0.66024286 0.13839442 0.2013627 ]]\n"
     ]
    },
    {
     "name": "stderr",
     "output_type": "stream",
     "text": [
      " 39%|███▉      | 1121/2874 [02:47<04:19,  6.75it/s]Setting `pad_token_id` to `eos_token_id`:128001 for open-end generation.\n",
      " 39%|███▉      | 1122/2874 [02:47<04:00,  7.28it/s]Setting `pad_token_id` to `eos_token_id`:128001 for open-end generation.\n"
     ]
    },
    {
     "name": "stdout",
     "output_type": "stream",
     "text": [
      "logits is [[0.36788866 0.3455994  0.286512  ]]\n",
      "logits is [[0.20000632 0.49502042 0.30497324]]\n"
     ]
    },
    {
     "name": "stderr",
     "output_type": "stream",
     "text": [
      " 39%|███▉      | 1123/2874 [02:47<04:29,  6.49it/s]Setting `pad_token_id` to `eos_token_id`:128001 for open-end generation.\n",
      " 39%|███▉      | 1124/2874 [02:48<04:06,  7.10it/s]Setting `pad_token_id` to `eos_token_id`:128001 for open-end generation.\n"
     ]
    },
    {
     "name": "stdout",
     "output_type": "stream",
     "text": [
      "logits is [[0.2972399  0.467624   0.23513612]]\n",
      "logits is [[0.259602   0.4415979  0.29880008]]\n"
     ]
    },
    {
     "name": "stderr",
     "output_type": "stream",
     "text": [
      " 39%|███▉      | 1125/2874 [02:48<04:24,  6.61it/s]Setting `pad_token_id` to `eos_token_id`:128001 for open-end generation.\n",
      " 39%|███▉      | 1126/2874 [02:48<04:12,  6.93it/s]Setting `pad_token_id` to `eos_token_id`:128001 for open-end generation.\n"
     ]
    },
    {
     "name": "stdout",
     "output_type": "stream",
     "text": [
      "logits is [[0.21470825 0.5928285  0.19246323]]\n",
      "logits is [[0.4465199  0.24659173 0.30688834]]\n"
     ]
    },
    {
     "name": "stderr",
     "output_type": "stream",
     "text": [
      " 39%|███▉      | 1127/2874 [02:48<03:58,  7.32it/s]Setting `pad_token_id` to `eos_token_id`:128001 for open-end generation.\n",
      " 39%|███▉      | 1128/2874 [02:48<03:52,  7.51it/s]Setting `pad_token_id` to `eos_token_id`:128001 for open-end generation.\n"
     ]
    },
    {
     "name": "stdout",
     "output_type": "stream",
     "text": [
      "logits is [[0.23723188 0.5022199  0.26054826]]\n",
      "logits is [[0.23685326 0.46373618 0.29941058]]\n"
     ]
    },
    {
     "name": "stderr",
     "output_type": "stream",
     "text": [
      " 39%|███▉      | 1129/2874 [02:48<03:58,  7.32it/s]Setting `pad_token_id` to `eos_token_id`:128001 for open-end generation.\n",
      " 39%|███▉      | 1130/2874 [02:48<04:27,  6.51it/s]Setting `pad_token_id` to `eos_token_id`:128001 for open-end generation.\n"
     ]
    },
    {
     "name": "stdout",
     "output_type": "stream",
     "text": [
      "logits is [[0.22320764 0.5354473  0.24134502]]\n",
      "logits is [[0.42873374 0.28117046 0.29009575]]\n"
     ]
    },
    {
     "name": "stderr",
     "output_type": "stream",
     "text": [
      " 39%|███▉      | 1131/2874 [02:49<04:04,  7.12it/s]Setting `pad_token_id` to `eos_token_id`:128001 for open-end generation.\n"
     ]
    },
    {
     "name": "stdout",
     "output_type": "stream",
     "text": [
      "logits is [[0.1771256  0.24210198 0.58077246]]\n"
     ]
    },
    {
     "name": "stderr",
     "output_type": "stream",
     "text": [
      " 39%|███▉      | 1132/2874 [02:49<05:04,  5.73it/s]Setting `pad_token_id` to `eos_token_id`:128001 for open-end generation.\n",
      " 39%|███▉      | 1133/2874 [02:49<04:56,  5.88it/s]Setting `pad_token_id` to `eos_token_id`:128001 for open-end generation.\n"
     ]
    },
    {
     "name": "stdout",
     "output_type": "stream",
     "text": [
      "logits is [[0.80937946 0.10051735 0.09010317]]\n",
      "logits is [[0.9086735  0.04316849 0.04815793]]\n"
     ]
    },
    {
     "name": "stderr",
     "output_type": "stream",
     "text": [
      " 39%|███▉      | 1134/2874 [02:49<04:54,  5.92it/s]Setting `pad_token_id` to `eos_token_id`:128001 for open-end generation.\n",
      " 39%|███▉      | 1135/2874 [02:49<04:23,  6.60it/s]Setting `pad_token_id` to `eos_token_id`:128001 for open-end generation.\n"
     ]
    },
    {
     "name": "stdout",
     "output_type": "stream",
     "text": [
      "logits is [[0.5881667  0.18507487 0.22675847]]\n",
      "logits is [[0.69862664 0.13543496 0.16593836]]\n"
     ]
    },
    {
     "name": "stderr",
     "output_type": "stream",
     "text": [
      " 40%|███▉      | 1136/2874 [02:49<04:01,  7.19it/s]Setting `pad_token_id` to `eos_token_id`:128001 for open-end generation.\n"
     ]
    },
    {
     "name": "stdout",
     "output_type": "stream",
     "text": [
      "logits is [[0.14573841 0.14803346 0.70622814]]\n"
     ]
    },
    {
     "name": "stderr",
     "output_type": "stream",
     "text": [
      " 40%|███▉      | 1137/2874 [02:50<04:39,  6.22it/s]Setting `pad_token_id` to `eos_token_id`:128001 for open-end generation.\n",
      " 40%|███▉      | 1138/2874 [02:50<04:20,  6.65it/s]Setting `pad_token_id` to `eos_token_id`:128001 for open-end generation.\n"
     ]
    },
    {
     "name": "stdout",
     "output_type": "stream",
     "text": [
      "logits is [[0.25427562 0.47504938 0.270675  ]]\n",
      "logits is [[0.6229728  0.2119558  0.16507135]]\n"
     ]
    },
    {
     "name": "stderr",
     "output_type": "stream",
     "text": [
      " 40%|███▉      | 1139/2874 [02:50<04:17,  6.74it/s]Setting `pad_token_id` to `eos_token_id`:128001 for open-end generation.\n",
      " 40%|███▉      | 1140/2874 [02:50<04:03,  7.13it/s]Setting `pad_token_id` to `eos_token_id`:128001 for open-end generation.\n"
     ]
    },
    {
     "name": "stdout",
     "output_type": "stream",
     "text": [
      "logits is [[0.7496374  0.07778624 0.17257634]]\n",
      "logits is [[0.09185147 0.73384506 0.17430347]]\n"
     ]
    },
    {
     "name": "stderr",
     "output_type": "stream",
     "text": [
      " 40%|███▉      | 1141/2874 [02:50<03:47,  7.61it/s]Setting `pad_token_id` to `eos_token_id`:128001 for open-end generation.\n",
      " 40%|███▉      | 1142/2874 [02:50<03:39,  7.89it/s]Setting `pad_token_id` to `eos_token_id`:128001 for open-end generation.\n"
     ]
    },
    {
     "name": "stdout",
     "output_type": "stream",
     "text": [
      "logits is [[0.30259928 0.24314538 0.45425534]]\n",
      "logits is [[0.566978   0.10488039 0.3281417 ]]\n"
     ]
    },
    {
     "name": "stderr",
     "output_type": "stream",
     "text": [
      " 40%|███▉      | 1143/2874 [02:50<03:45,  7.66it/s]Setting `pad_token_id` to `eos_token_id`:128001 for open-end generation.\n",
      " 40%|███▉      | 1144/2874 [02:50<03:37,  7.94it/s]Setting `pad_token_id` to `eos_token_id`:128001 for open-end generation.\n"
     ]
    },
    {
     "name": "stdout",
     "output_type": "stream",
     "text": [
      "logits is [[0.1590161  0.5908165  0.25016743]]\n",
      "logits is [[0.5316409  0.19254757 0.27581167]]\n"
     ]
    },
    {
     "name": "stderr",
     "output_type": "stream",
     "text": [
      " 40%|███▉      | 1145/2874 [02:51<03:31,  8.18it/s]Setting `pad_token_id` to `eos_token_id`:128001 for open-end generation.\n",
      " 40%|███▉      | 1146/2874 [02:51<04:07,  6.99it/s]Setting `pad_token_id` to `eos_token_id`:128001 for open-end generation.\n"
     ]
    },
    {
     "name": "stdout",
     "output_type": "stream",
     "text": [
      "logits is [[0.5322074  0.25937718 0.20841542]]\n",
      "logits is [[0.8114985  0.04300785 0.14549367]]\n"
     ]
    },
    {
     "name": "stderr",
     "output_type": "stream",
     "text": [
      " 40%|███▉      | 1147/2874 [02:51<03:59,  7.22it/s]Setting `pad_token_id` to `eos_token_id`:128001 for open-end generation.\n",
      " 40%|███▉      | 1148/2874 [02:51<04:17,  6.71it/s]Setting `pad_token_id` to `eos_token_id`:128001 for open-end generation.\n"
     ]
    },
    {
     "name": "stdout",
     "output_type": "stream",
     "text": [
      "logits is [[0.22677408 0.5355688  0.2376572 ]]\n",
      "logits is [[0.39396247 0.34767064 0.2583669 ]]\n"
     ]
    },
    {
     "name": "stderr",
     "output_type": "stream",
     "text": [
      " 40%|███▉      | 1149/2874 [02:51<03:58,  7.25it/s]Setting `pad_token_id` to `eos_token_id`:128001 for open-end generation.\n",
      " 40%|████      | 1150/2874 [02:51<04:08,  6.95it/s]Setting `pad_token_id` to `eos_token_id`:128001 for open-end generation.\n"
     ]
    },
    {
     "name": "stdout",
     "output_type": "stream",
     "text": [
      "logits is [[0.03454048 0.06062043 0.90483904]]\n",
      "logits is [[0.6094117  0.06945084 0.32113743]]\n"
     ]
    },
    {
     "name": "stderr",
     "output_type": "stream",
     "text": [
      " 40%|████      | 1151/2874 [02:51<03:52,  7.40it/s]Setting `pad_token_id` to `eos_token_id`:128001 for open-end generation.\n",
      " 40%|████      | 1152/2874 [02:52<03:39,  7.85it/s]Setting `pad_token_id` to `eos_token_id`:128001 for open-end generation.\n"
     ]
    },
    {
     "name": "stdout",
     "output_type": "stream",
     "text": [
      "logits is [[0.35080323 0.31445798 0.33473876]]\n",
      "logits is [[0.30338815 0.21179906 0.48481286]]\n"
     ]
    },
    {
     "name": "stderr",
     "output_type": "stream",
     "text": [
      " 40%|████      | 1153/2874 [02:52<03:30,  8.18it/s]Setting `pad_token_id` to `eos_token_id`:128001 for open-end generation.\n",
      " 40%|████      | 1154/2874 [02:52<03:42,  7.72it/s]Setting `pad_token_id` to `eos_token_id`:128001 for open-end generation.\n"
     ]
    },
    {
     "name": "stdout",
     "output_type": "stream",
     "text": [
      "logits is [[0.30113804 0.4246727  0.2741893 ]]\n",
      "logits is [[0.45766658 0.26904827 0.27328518]]\n"
     ]
    },
    {
     "name": "stderr",
     "output_type": "stream",
     "text": [
      " 40%|████      | 1155/2874 [02:52<04:26,  6.44it/s]Setting `pad_token_id` to `eos_token_id`:128001 for open-end generation.\n",
      " 40%|████      | 1156/2874 [02:52<04:11,  6.83it/s]Setting `pad_token_id` to `eos_token_id`:128001 for open-end generation.\n"
     ]
    },
    {
     "name": "stdout",
     "output_type": "stream",
     "text": [
      "logits is [[0.523828   0.14320661 0.33296534]]\n",
      "logits is [[0.14142096 0.17327258 0.6853064 ]]\n"
     ]
    },
    {
     "name": "stderr",
     "output_type": "stream",
     "text": [
      " 40%|████      | 1157/2874 [02:52<03:57,  7.22it/s]Setting `pad_token_id` to `eos_token_id`:128001 for open-end generation.\n",
      " 40%|████      | 1158/2874 [02:52<03:42,  7.70it/s]Setting `pad_token_id` to `eos_token_id`:128001 for open-end generation.\n"
     ]
    },
    {
     "name": "stdout",
     "output_type": "stream",
     "text": [
      "logits is [[0.06773827 0.8382165  0.09404528]]\n",
      "logits is [[0.28638536 0.5105371  0.20307763]]\n"
     ]
    },
    {
     "name": "stderr",
     "output_type": "stream",
     "text": [
      " 40%|████      | 1159/2874 [02:53<03:48,  7.50it/s]Setting `pad_token_id` to `eos_token_id`:128001 for open-end generation.\n",
      " 40%|████      | 1160/2874 [02:53<03:52,  7.38it/s]Setting `pad_token_id` to `eos_token_id`:128001 for open-end generation.\n"
     ]
    },
    {
     "name": "stdout",
     "output_type": "stream",
     "text": [
      "logits is [[0.25616226 0.47115448 0.2726833 ]]\n",
      "logits is [[0.6752808  0.11552692 0.20919223]]\n"
     ]
    },
    {
     "name": "stderr",
     "output_type": "stream",
     "text": [
      " 40%|████      | 1161/2874 [02:53<03:39,  7.79it/s]Setting `pad_token_id` to `eos_token_id`:128001 for open-end generation.\n",
      " 40%|████      | 1162/2874 [02:53<03:33,  8.03it/s]Setting `pad_token_id` to `eos_token_id`:128001 for open-end generation.\n"
     ]
    },
    {
     "name": "stdout",
     "output_type": "stream",
     "text": [
      "logits is [[0.74094445 0.11541688 0.14363864]]\n",
      "logits is [[0.33235893 0.36502486 0.30261624]]\n"
     ]
    },
    {
     "name": "stderr",
     "output_type": "stream",
     "text": [
      " 40%|████      | 1163/2874 [02:53<03:31,  8.07it/s]Setting `pad_token_id` to `eos_token_id`:128001 for open-end generation.\n"
     ]
    },
    {
     "name": "stdout",
     "output_type": "stream",
     "text": [
      "logits is [[0.7136503  0.1543377  0.13201204]]\n"
     ]
    },
    {
     "name": "stderr",
     "output_type": "stream",
     "text": [
      " 41%|████      | 1164/2874 [02:53<04:39,  6.12it/s]Setting `pad_token_id` to `eos_token_id`:128001 for open-end generation.\n"
     ]
    },
    {
     "name": "stdout",
     "output_type": "stream",
     "text": [
      "logits is [[0.7787389  0.09900555 0.12225553]]\n"
     ]
    },
    {
     "name": "stderr",
     "output_type": "stream",
     "text": [
      " 41%|████      | 1165/2874 [02:54<05:33,  5.12it/s]Setting `pad_token_id` to `eos_token_id`:128001 for open-end generation.\n",
      " 41%|████      | 1166/2874 [02:54<05:24,  5.27it/s]Setting `pad_token_id` to `eos_token_id`:128001 for open-end generation.\n"
     ]
    },
    {
     "name": "stdout",
     "output_type": "stream",
     "text": [
      "logits is [[0.54761666 0.05173841 0.40064493]]\n",
      "logits is [[0.8433714  0.03321602 0.1234125 ]]\n"
     ]
    },
    {
     "name": "stderr",
     "output_type": "stream",
     "text": [
      " 41%|████      | 1167/2874 [02:54<04:45,  5.98it/s]Setting `pad_token_id` to `eos_token_id`:128001 for open-end generation.\n",
      " 41%|████      | 1168/2874 [02:54<04:16,  6.64it/s]Setting `pad_token_id` to `eos_token_id`:128001 for open-end generation.\n"
     ]
    },
    {
     "name": "stdout",
     "output_type": "stream",
     "text": [
      "logits is [[0.417971   0.26155958 0.32046947]]\n",
      "logits is [[0.27711254 0.08857049 0.6343169 ]]\n"
     ]
    },
    {
     "name": "stderr",
     "output_type": "stream",
     "text": [
      " 41%|████      | 1169/2874 [02:54<03:54,  7.26it/s]Setting `pad_token_id` to `eos_token_id`:128001 for open-end generation.\n",
      " 41%|████      | 1170/2874 [02:54<04:04,  6.96it/s]Setting `pad_token_id` to `eos_token_id`:128001 for open-end generation.\n"
     ]
    },
    {
     "name": "stdout",
     "output_type": "stream",
     "text": [
      "logits is [[0.12043162 0.13021763 0.7493507 ]]\n",
      "logits is [[0.32208407 0.13852663 0.5393893 ]]\n"
     ]
    },
    {
     "name": "stderr",
     "output_type": "stream",
     "text": [
      " 41%|████      | 1171/2874 [02:54<05:05,  5.58it/s]Setting `pad_token_id` to `eos_token_id`:128001 for open-end generation.\n",
      " 41%|████      | 1172/2874 [02:55<04:35,  6.18it/s]Setting `pad_token_id` to `eos_token_id`:128001 for open-end generation.\n"
     ]
    },
    {
     "name": "stdout",
     "output_type": "stream",
     "text": [
      "logits is [[0.5166405  0.42332003 0.06003955]]\n",
      "logits is [[0.13864437 0.67185134 0.18950437]]\n"
     ]
    },
    {
     "name": "stderr",
     "output_type": "stream",
     "text": [
      " 41%|████      | 1173/2874 [02:55<04:55,  5.77it/s]Setting `pad_token_id` to `eos_token_id`:128001 for open-end generation.\n"
     ]
    },
    {
     "name": "stdout",
     "output_type": "stream",
     "text": [
      "logits is [[0.38655397 0.33063713 0.28280893]]\n"
     ]
    },
    {
     "name": "stderr",
     "output_type": "stream",
     "text": [
      " 41%|████      | 1174/2874 [02:55<05:39,  5.00it/s]Setting `pad_token_id` to `eos_token_id`:128001 for open-end generation.\n",
      " 41%|████      | 1175/2874 [02:55<05:40,  5.00it/s]"
     ]
    },
    {
     "name": "stdout",
     "output_type": "stream",
     "text": [
      "logits is [[0.07136419 0.38881698 0.5398189 ]]\n",
      "logits is [[0.40784886 0.29376253 0.29838863]]\n"
     ]
    },
    {
     "name": "stderr",
     "output_type": "stream",
     "text": [
      "Setting `pad_token_id` to `eos_token_id`:128001 for open-end generation.\n",
      " 41%|████      | 1176/2874 [02:55<04:54,  5.76it/s]Setting `pad_token_id` to `eos_token_id`:128001 for open-end generation.\n",
      " 41%|████      | 1177/2874 [02:56<04:39,  6.08it/s]Setting `pad_token_id` to `eos_token_id`:128001 for open-end generation.\n"
     ]
    },
    {
     "name": "stdout",
     "output_type": "stream",
     "text": [
      "logits is [[0.1905449  0.18468244 0.62477267]]\n",
      "logits is [[0.37420422 0.30068153 0.32511425]]\n"
     ]
    },
    {
     "name": "stderr",
     "output_type": "stream",
     "text": [
      " 41%|████      | 1178/2874 [02:56<04:20,  6.51it/s]Setting `pad_token_id` to `eos_token_id`:128001 for open-end generation.\n",
      " 41%|████      | 1179/2874 [02:56<04:01,  7.02it/s]Setting `pad_token_id` to `eos_token_id`:128001 for open-end generation.\n"
     ]
    },
    {
     "name": "stdout",
     "output_type": "stream",
     "text": [
      "logits is [[0.29229525 0.5129941  0.1947106 ]]\n",
      "logits is [[0.12361329 0.7225474  0.15383923]]\n"
     ]
    },
    {
     "name": "stderr",
     "output_type": "stream",
     "text": [
      " 41%|████      | 1180/2874 [02:56<03:54,  7.21it/s]Setting `pad_token_id` to `eos_token_id`:128001 for open-end generation.\n",
      " 41%|████      | 1181/2874 [02:56<03:56,  7.14it/s]Setting `pad_token_id` to `eos_token_id`:128001 for open-end generation.\n"
     ]
    },
    {
     "name": "stdout",
     "output_type": "stream",
     "text": [
      "logits is [[0.11820969 0.80781657 0.07397373]]\n",
      "logits is [[0.38586158 0.34052163 0.27361685]]\n"
     ]
    },
    {
     "name": "stderr",
     "output_type": "stream",
     "text": [
      " 41%|████      | 1182/2874 [02:56<03:47,  7.43it/s]Setting `pad_token_id` to `eos_token_id`:128001 for open-end generation.\n",
      " 41%|████      | 1183/2874 [02:56<03:36,  7.81it/s]Setting `pad_token_id` to `eos_token_id`:128001 for open-end generation.\n"
     ]
    },
    {
     "name": "stdout",
     "output_type": "stream",
     "text": [
      "logits is [[0.09334227 0.62798923 0.27866852]]\n",
      "logits is [[0.49598527 0.0992033  0.40481138]]\n"
     ]
    },
    {
     "name": "stderr",
     "output_type": "stream",
     "text": [
      " 41%|████      | 1184/2874 [02:56<03:30,  8.03it/s]Setting `pad_token_id` to `eos_token_id`:128001 for open-end generation.\n",
      " 41%|████      | 1185/2874 [02:57<03:31,  7.97it/s]Setting `pad_token_id` to `eos_token_id`:128001 for open-end generation.\n"
     ]
    },
    {
     "name": "stdout",
     "output_type": "stream",
     "text": [
      "logits is [[0.15649122 0.26207346 0.5814354 ]]\n",
      "logits is [[0.7763763  0.08442701 0.1391966 ]]\n"
     ]
    },
    {
     "name": "stderr",
     "output_type": "stream",
     "text": [
      " 41%|████▏     | 1186/2874 [02:57<03:39,  7.70it/s]Setting `pad_token_id` to `eos_token_id`:128001 for open-end generation.\n",
      " 41%|████▏     | 1187/2874 [02:57<03:32,  7.92it/s]Setting `pad_token_id` to `eos_token_id`:128001 for open-end generation.\n"
     ]
    },
    {
     "name": "stdout",
     "output_type": "stream",
     "text": [
      "logits is [[0.36550242 0.35425708 0.28024042]]\n",
      "logits is [[0.51732147 0.20577626 0.27690223]]\n"
     ]
    },
    {
     "name": "stderr",
     "output_type": "stream",
     "text": [
      " 41%|████▏     | 1188/2874 [02:57<04:27,  6.31it/s]Setting `pad_token_id` to `eos_token_id`:128001 for open-end generation.\n",
      " 41%|████▏     | 1189/2874 [02:57<04:03,  6.91it/s]Setting `pad_token_id` to `eos_token_id`:128001 for open-end generation.\n"
     ]
    },
    {
     "name": "stdout",
     "output_type": "stream",
     "text": [
      "logits is [[0.20162593 0.47617677 0.32219732]]\n",
      "logits is [[0.30440843 0.40962633 0.28596526]]\n"
     ]
    },
    {
     "name": "stderr",
     "output_type": "stream",
     "text": [
      " 41%|████▏     | 1190/2874 [02:57<03:50,  7.29it/s]Setting `pad_token_id` to `eos_token_id`:128001 for open-end generation.\n",
      " 41%|████▏     | 1191/2874 [02:57<03:45,  7.45it/s]Setting `pad_token_id` to `eos_token_id`:128001 for open-end generation.\n"
     ]
    },
    {
     "name": "stdout",
     "output_type": "stream",
     "text": [
      "logits is [[0.27177006 0.49211198 0.2361179 ]]\n",
      "logits is [[0.23442914 0.57122225 0.19434857]]\n"
     ]
    },
    {
     "name": "stderr",
     "output_type": "stream",
     "text": [
      " 41%|████▏     | 1192/2874 [02:58<04:34,  6.14it/s]Setting `pad_token_id` to `eos_token_id`:128001 for open-end generation.\n",
      " 42%|████▏     | 1193/2874 [02:58<04:16,  6.56it/s]Setting `pad_token_id` to `eos_token_id`:128001 for open-end generation.\n"
     ]
    },
    {
     "name": "stdout",
     "output_type": "stream",
     "text": [
      "logits is [[0.36340067 0.386838   0.24976139]]\n",
      "logits is [[0.37062946 0.25874105 0.37062946]]\n"
     ]
    },
    {
     "name": "stderr",
     "output_type": "stream",
     "text": [
      " 42%|████▏     | 1194/2874 [02:58<03:58,  7.04it/s]Setting `pad_token_id` to `eos_token_id`:128001 for open-end generation.\n"
     ]
    },
    {
     "name": "stdout",
     "output_type": "stream",
     "text": [
      "logits is [[0.8420535  0.02881349 0.12913309]]\n"
     ]
    },
    {
     "name": "stderr",
     "output_type": "stream",
     "text": [
      " 42%|████▏     | 1195/2874 [02:58<04:54,  5.70it/s]Setting `pad_token_id` to `eos_token_id`:128001 for open-end generation.\n",
      " 42%|████▏     | 1196/2874 [02:58<04:27,  6.28it/s]Setting `pad_token_id` to `eos_token_id`:128001 for open-end generation.\n"
     ]
    },
    {
     "name": "stdout",
     "output_type": "stream",
     "text": [
      "logits is [[0.40103927 0.23947148 0.35948926]]\n",
      "logits is [[0.65538895 0.2195278  0.12508318]]\n"
     ]
    },
    {
     "name": "stderr",
     "output_type": "stream",
     "text": [
      " 42%|████▏     | 1197/2874 [02:58<04:28,  6.25it/s]Setting `pad_token_id` to `eos_token_id`:128001 for open-end generation.\n",
      " 42%|████▏     | 1198/2874 [02:59<04:30,  6.20it/s]Setting `pad_token_id` to `eos_token_id`:128001 for open-end generation.\n"
     ]
    },
    {
     "name": "stdout",
     "output_type": "stream",
     "text": [
      "logits is [[0.29853964 0.42100835 0.280452  ]]\n",
      "logits is [[0.2270391  0.5116405  0.26132038]]\n"
     ]
    },
    {
     "name": "stderr",
     "output_type": "stream",
     "text": [
      " 42%|████▏     | 1199/2874 [02:59<04:09,  6.72it/s]Setting `pad_token_id` to `eos_token_id`:128001 for open-end generation.\n"
     ]
    },
    {
     "name": "stdout",
     "output_type": "stream",
     "text": [
      "logits is [[0.5215496  0.2835616  0.19488883]]\n"
     ]
    },
    {
     "name": "stderr",
     "output_type": "stream",
     "text": [
      " 42%|████▏     | 1200/2874 [02:59<04:44,  5.88it/s]Setting `pad_token_id` to `eos_token_id`:128001 for open-end generation.\n",
      " 42%|████▏     | 1201/2874 [02:59<04:51,  5.74it/s]Setting `pad_token_id` to `eos_token_id`:128001 for open-end generation.\n"
     ]
    },
    {
     "name": "stdout",
     "output_type": "stream",
     "text": [
      "logits is [[0.06108353 0.48045912 0.4584573 ]]\n",
      "logits is [[0.30117458 0.50437254 0.19445294]]\n"
     ]
    },
    {
     "name": "stderr",
     "output_type": "stream",
     "text": [
      " 42%|████▏     | 1202/2874 [02:59<04:48,  5.80it/s]Setting `pad_token_id` to `eos_token_id`:128001 for open-end generation.\n",
      " 42%|████▏     | 1203/2874 [02:59<04:32,  6.14it/s]Setting `pad_token_id` to `eos_token_id`:128001 for open-end generation.\n"
     ]
    },
    {
     "name": "stdout",
     "output_type": "stream",
     "text": [
      "logits is [[0.41503078 0.21870586 0.36626336]]\n",
      "logits is [[0.47489727 0.2502533  0.27484947]]\n"
     ]
    },
    {
     "name": "stderr",
     "output_type": "stream",
     "text": [
      " 42%|████▏     | 1204/2874 [03:00<04:41,  5.93it/s]Setting `pad_token_id` to `eos_token_id`:128001 for open-end generation.\n"
     ]
    },
    {
     "name": "stdout",
     "output_type": "stream",
     "text": [
      "logits is [[0.15407059 0.6386048  0.20732462]]\n"
     ]
    },
    {
     "name": "stderr",
     "output_type": "stream",
     "text": [
      " 42%|████▏     | 1205/2874 [03:00<05:04,  5.48it/s]Setting `pad_token_id` to `eos_token_id`:128001 for open-end generation.\n"
     ]
    },
    {
     "name": "stdout",
     "output_type": "stream",
     "text": [
      "logits is [[0.26666814 0.18616435 0.5471675 ]]\n"
     ]
    },
    {
     "name": "stderr",
     "output_type": "stream",
     "text": [
      " 42%|████▏     | 1206/2874 [03:00<05:22,  5.17it/s]Setting `pad_token_id` to `eos_token_id`:128001 for open-end generation.\n",
      " 42%|████▏     | 1207/2874 [03:00<04:55,  5.64it/s]Setting `pad_token_id` to `eos_token_id`:128001 for open-end generation.\n"
     ]
    },
    {
     "name": "stdout",
     "output_type": "stream",
     "text": [
      "logits is [[0.36426267 0.2881555  0.34758186]]\n",
      "logits is [[0.42303798 0.32435447 0.2526075 ]]\n"
     ]
    },
    {
     "name": "stderr",
     "output_type": "stream",
     "text": [
      " 42%|████▏     | 1208/2874 [03:00<04:49,  5.76it/s]Setting `pad_token_id` to `eos_token_id`:128001 for open-end generation.\n"
     ]
    },
    {
     "name": "stdout",
     "output_type": "stream",
     "text": [
      "logits is [[0.6302841  0.16187035 0.20784563]]\n"
     ]
    },
    {
     "name": "stderr",
     "output_type": "stream",
     "text": [
      " 42%|████▏     | 1209/2874 [03:01<05:31,  5.02it/s]Setting `pad_token_id` to `eos_token_id`:128001 for open-end generation.\n",
      " 42%|████▏     | 1210/2874 [03:01<04:47,  5.78it/s]Setting `pad_token_id` to `eos_token_id`:128001 for open-end generation.\n"
     ]
    },
    {
     "name": "stdout",
     "output_type": "stream",
     "text": [
      "logits is [[0.08012588 0.02061826 0.89925593]]\n",
      "logits is [[0.18943435 0.18943435 0.6211313 ]]\n"
     ]
    },
    {
     "name": "stderr",
     "output_type": "stream",
     "text": [
      " 42%|████▏     | 1211/2874 [03:01<04:59,  5.55it/s]Setting `pad_token_id` to `eos_token_id`:128001 for open-end generation.\n",
      " 42%|████▏     | 1212/2874 [03:01<05:06,  5.43it/s]"
     ]
    },
    {
     "name": "stdout",
     "output_type": "stream",
     "text": [
      "logits is [[0.2744299  0.45958358 0.2659866 ]]\n",
      "logits is [[0.25131673 0.11687314 0.6318102 ]]\n"
     ]
    },
    {
     "name": "stderr",
     "output_type": "stream",
     "text": [
      "Setting `pad_token_id` to `eos_token_id`:128001 for open-end generation.\n",
      " 42%|████▏     | 1213/2874 [03:01<05:29,  5.04it/s]Setting `pad_token_id` to `eos_token_id`:128001 for open-end generation.\n",
      " 42%|████▏     | 1214/2874 [03:01<05:04,  5.45it/s]Setting `pad_token_id` to `eos_token_id`:128001 for open-end generation.\n"
     ]
    },
    {
     "name": "stdout",
     "output_type": "stream",
     "text": [
      "logits is [[0.37644017 0.34815022 0.27540952]]\n",
      "logits is [[0.4755086  0.20773433 0.31675702]]\n"
     ]
    },
    {
     "name": "stderr",
     "output_type": "stream",
     "text": [
      " 42%|████▏     | 1215/2874 [03:02<04:32,  6.09it/s]Setting `pad_token_id` to `eos_token_id`:128001 for open-end generation.\n",
      " 42%|████▏     | 1216/2874 [03:02<04:07,  6.71it/s]Setting `pad_token_id` to `eos_token_id`:128001 for open-end generation.\n"
     ]
    },
    {
     "name": "stdout",
     "output_type": "stream",
     "text": [
      "logits is [[0.67190164 0.10303946 0.22505887]]\n",
      "logits is [[0.44606948 0.31140667 0.24252376]]\n"
     ]
    },
    {
     "name": "stderr",
     "output_type": "stream",
     "text": [
      " 42%|████▏     | 1217/2874 [03:02<04:20,  6.35it/s]Setting `pad_token_id` to `eos_token_id`:128001 for open-end generation.\n",
      " 42%|████▏     | 1218/2874 [03:02<04:05,  6.74it/s]Setting `pad_token_id` to `eos_token_id`:128001 for open-end generation.\n"
     ]
    },
    {
     "name": "stdout",
     "output_type": "stream",
     "text": [
      "logits is [[0.30747375 0.25891882 0.43360746]]\n",
      "logits is [[0.4145068  0.36012974 0.22536343]]\n"
     ]
    },
    {
     "name": "stderr",
     "output_type": "stream",
     "text": [
      " 42%|████▏     | 1219/2874 [03:02<04:19,  6.38it/s]Setting `pad_token_id` to `eos_token_id`:128001 for open-end generation.\n",
      " 42%|████▏     | 1220/2874 [03:02<04:06,  6.70it/s]Setting `pad_token_id` to `eos_token_id`:128001 for open-end generation.\n"
     ]
    },
    {
     "name": "stdout",
     "output_type": "stream",
     "text": [
      "logits is [[0.2738639 0.4806461 0.24549  ]]\n",
      "logits is [[0.0370606  0.89789605 0.06504337]]\n"
     ]
    },
    {
     "name": "stderr",
     "output_type": "stream",
     "text": [
      " 42%|████▏     | 1221/2874 [03:02<04:15,  6.47it/s]Setting `pad_token_id` to `eos_token_id`:128001 for open-end generation.\n",
      " 43%|████▎     | 1222/2874 [03:03<04:03,  6.78it/s]Setting `pad_token_id` to `eos_token_id`:128001 for open-end generation.\n"
     ]
    },
    {
     "name": "stdout",
     "output_type": "stream",
     "text": [
      "logits is [[0.06867716 0.52356786 0.40775505]]\n",
      "logits is [[0.18759938 0.18759938 0.6248013 ]]\n"
     ]
    },
    {
     "name": "stderr",
     "output_type": "stream",
     "text": [
      " 43%|████▎     | 1223/2874 [03:03<04:02,  6.82it/s]Setting `pad_token_id` to `eos_token_id`:128001 for open-end generation.\n",
      " 43%|████▎     | 1224/2874 [03:03<03:45,  7.31it/s]Setting `pad_token_id` to `eos_token_id`:128001 for open-end generation.\n"
     ]
    },
    {
     "name": "stdout",
     "output_type": "stream",
     "text": [
      "logits is [[0.09497591 0.84651107 0.05851296]]\n",
      "logits is [[0.2702832  0.31109405 0.4186228 ]]\n"
     ]
    },
    {
     "name": "stderr",
     "output_type": "stream",
     "text": [
      " 43%|████▎     | 1225/2874 [03:03<04:33,  6.02it/s]Setting `pad_token_id` to `eos_token_id`:128001 for open-end generation.\n",
      " 43%|████▎     | 1226/2874 [03:03<04:15,  6.44it/s]Setting `pad_token_id` to `eos_token_id`:128001 for open-end generation.\n"
     ]
    },
    {
     "name": "stdout",
     "output_type": "stream",
     "text": [
      "logits is [[0.36457288 0.29294255 0.34248453]]\n",
      "logits is [[0.6896766  0.12757735 0.1827461 ]]\n"
     ]
    },
    {
     "name": "stderr",
     "output_type": "stream",
     "text": [
      " 43%|████▎     | 1227/2874 [03:03<04:58,  5.52it/s]Setting `pad_token_id` to `eos_token_id`:128001 for open-end generation.\n",
      " 43%|████▎     | 1228/2874 [03:04<04:28,  6.13it/s]Setting `pad_token_id` to `eos_token_id`:128001 for open-end generation.\n"
     ]
    },
    {
     "name": "stdout",
     "output_type": "stream",
     "text": [
      "logits is [[0.50443983 0.24971582 0.24584433]]\n",
      "logits is [[0.42441648 0.36873943 0.20684408]]\n"
     ]
    },
    {
     "name": "stderr",
     "output_type": "stream",
     "text": [
      " 43%|████▎     | 1229/2874 [03:04<04:38,  5.91it/s]Setting `pad_token_id` to `eos_token_id`:128001 for open-end generation.\n",
      " 43%|████▎     | 1230/2874 [03:04<04:16,  6.41it/s]Setting `pad_token_id` to `eos_token_id`:128001 for open-end generation.\n"
     ]
    },
    {
     "name": "stdout",
     "output_type": "stream",
     "text": [
      "logits is [[0.5155439  0.25923175 0.22522445]]\n",
      "logits is [[0.34545103 0.14400542 0.5105435 ]]\n"
     ]
    },
    {
     "name": "stderr",
     "output_type": "stream",
     "text": [
      " 43%|████▎     | 1231/2874 [03:04<04:16,  6.40it/s]Setting `pad_token_id` to `eos_token_id`:128001 for open-end generation.\n",
      " 43%|████▎     | 1232/2874 [03:04<04:06,  6.66it/s]Setting `pad_token_id` to `eos_token_id`:128001 for open-end generation.\n"
     ]
    },
    {
     "name": "stdout",
     "output_type": "stream",
     "text": [
      "logits is [[0.50726706 0.20818198 0.28455102]]\n",
      "logits is [[0.09599248 0.8292485  0.07475902]]\n"
     ]
    },
    {
     "name": "stderr",
     "output_type": "stream",
     "text": [
      " 43%|████▎     | 1233/2874 [03:04<04:59,  5.48it/s]Setting `pad_token_id` to `eos_token_id`:128001 for open-end generation.\n",
      " 43%|████▎     | 1234/2874 [03:05<04:36,  5.93it/s]Setting `pad_token_id` to `eos_token_id`:128001 for open-end generation.\n"
     ]
    },
    {
     "name": "stdout",
     "output_type": "stream",
     "text": [
      "logits is [[0.43258354 0.33038023 0.23703623]]\n",
      "logits is [[0.2676173  0.34903872 0.38334405]]\n"
     ]
    },
    {
     "name": "stderr",
     "output_type": "stream",
     "text": [
      " 43%|████▎     | 1235/2874 [03:05<04:18,  6.34it/s]Setting `pad_token_id` to `eos_token_id`:128001 for open-end generation.\n",
      " 43%|████▎     | 1236/2874 [03:05<04:15,  6.41it/s]Setting `pad_token_id` to `eos_token_id`:128001 for open-end generation.\n"
     ]
    },
    {
     "name": "stdout",
     "output_type": "stream",
     "text": [
      "logits is [[0.21076937 0.50560945 0.2836212 ]]\n",
      "logits is [[0.16661511 0.6693529  0.16403198]]\n"
     ]
    },
    {
     "name": "stderr",
     "output_type": "stream",
     "text": [
      " 43%|████▎     | 1237/2874 [03:05<05:17,  5.15it/s]Setting `pad_token_id` to `eos_token_id`:128001 for open-end generation.\n",
      " 43%|████▎     | 1238/2874 [03:05<04:49,  5.65it/s]Setting `pad_token_id` to `eos_token_id`:128001 for open-end generation.\n"
     ]
    },
    {
     "name": "stdout",
     "output_type": "stream",
     "text": [
      "logits is [[0.08381085 0.04965629 0.86653286]]\n",
      "logits is [[0.28940338 0.43444595 0.27615064]]\n"
     ]
    },
    {
     "name": "stderr",
     "output_type": "stream",
     "text": [
      " 43%|████▎     | 1239/2874 [03:05<04:27,  6.10it/s]Setting `pad_token_id` to `eos_token_id`:128001 for open-end generation.\n",
      " 43%|████▎     | 1240/2874 [03:06<04:17,  6.34it/s]Setting `pad_token_id` to `eos_token_id`:128001 for open-end generation.\n"
     ]
    },
    {
     "name": "stdout",
     "output_type": "stream",
     "text": [
      "logits is [[0.51864463 0.17645994 0.30489543]]\n",
      "logits is [[0.196842   0.196842   0.60631603]]\n"
     ]
    },
    {
     "name": "stderr",
     "output_type": "stream",
     "text": [
      " 43%|████▎     | 1241/2874 [03:06<04:35,  5.92it/s]Setting `pad_token_id` to `eos_token_id`:128001 for open-end generation.\n",
      " 43%|████▎     | 1242/2874 [03:06<04:35,  5.93it/s]Setting `pad_token_id` to `eos_token_id`:128001 for open-end generation.\n"
     ]
    },
    {
     "name": "stdout",
     "output_type": "stream",
     "text": [
      "logits is [[0.22032738 0.4737783  0.3058943 ]]\n",
      "logits is [[0.40996853 0.24480338 0.3452281 ]]\n"
     ]
    },
    {
     "name": "stderr",
     "output_type": "stream",
     "text": [
      " 43%|████▎     | 1243/2874 [03:06<04:49,  5.64it/s]Setting `pad_token_id` to `eos_token_id`:128001 for open-end generation.\n",
      " 43%|████▎     | 1244/2874 [03:06<04:25,  6.13it/s]Setting `pad_token_id` to `eos_token_id`:128001 for open-end generation.\n"
     ]
    },
    {
     "name": "stdout",
     "output_type": "stream",
     "text": [
      "logits is [[0.28598884 0.32917112 0.38484004]]\n",
      "logits is [[0.51507545 0.20488286 0.28004166]]\n"
     ]
    },
    {
     "name": "stderr",
     "output_type": "stream",
     "text": [
      " 43%|████▎     | 1245/2874 [03:06<04:02,  6.71it/s]Setting `pad_token_id` to `eos_token_id`:128001 for open-end generation.\n",
      " 43%|████▎     | 1246/2874 [03:07<04:06,  6.61it/s]Setting `pad_token_id` to `eos_token_id`:128001 for open-end generation.\n"
     ]
    },
    {
     "name": "stdout",
     "output_type": "stream",
     "text": [
      "logits is [[0.3688813  0.3106292  0.32048962]]\n",
      "logits is [[0.5434056  0.19990775 0.25668663]]\n"
     ]
    },
    {
     "name": "stderr",
     "output_type": "stream",
     "text": [
      " 43%|████▎     | 1247/2874 [03:07<03:54,  6.94it/s]Setting `pad_token_id` to `eos_token_id`:128001 for open-end generation.\n",
      " 43%|████▎     | 1248/2874 [03:07<03:55,  6.90it/s]Setting `pad_token_id` to `eos_token_id`:128001 for open-end generation.\n"
     ]
    },
    {
     "name": "stdout",
     "output_type": "stream",
     "text": [
      "logits is [[0.7106165  0.04760834 0.24177508]]\n",
      "logits is [[0.2663077  0.46738458 0.2663077 ]]\n"
     ]
    },
    {
     "name": "stderr",
     "output_type": "stream",
     "text": [
      " 43%|████▎     | 1249/2874 [03:07<04:03,  6.67it/s]Setting `pad_token_id` to `eos_token_id`:128001 for open-end generation.\n",
      " 43%|████▎     | 1250/2874 [03:07<03:46,  7.18it/s]Setting `pad_token_id` to `eos_token_id`:128001 for open-end generation.\n"
     ]
    },
    {
     "name": "stdout",
     "output_type": "stream",
     "text": [
      "logits is [[0.61335725 0.08300888 0.30363384]]\n",
      "logits is [[0.45061684 0.11940157 0.4299816 ]]\n"
     ]
    },
    {
     "name": "stderr",
     "output_type": "stream",
     "text": [
      " 44%|████▎     | 1251/2874 [03:07<03:34,  7.55it/s]Setting `pad_token_id` to `eos_token_id`:128001 for open-end generation.\n"
     ]
    },
    {
     "name": "stdout",
     "output_type": "stream",
     "text": [
      "logits is [[0.11720649 0.70684564 0.17594779]]\n"
     ]
    },
    {
     "name": "stderr",
     "output_type": "stream",
     "text": [
      " 44%|████▎     | 1252/2874 [03:07<04:15,  6.34it/s]Setting `pad_token_id` to `eos_token_id`:128001 for open-end generation.\n",
      " 44%|████▎     | 1253/2874 [03:08<04:17,  6.30it/s]Setting `pad_token_id` to `eos_token_id`:128001 for open-end generation.\n"
     ]
    },
    {
     "name": "stdout",
     "output_type": "stream",
     "text": [
      "logits is [[0.5226761  0.26281807 0.21450584]]\n",
      "logits is [[0.38365173 0.38365173 0.23269655]]\n"
     ]
    },
    {
     "name": "stderr",
     "output_type": "stream",
     "text": [
      " 44%|████▎     | 1254/2874 [03:08<03:57,  6.82it/s]Setting `pad_token_id` to `eos_token_id`:128001 for open-end generation.\n",
      " 44%|████▎     | 1255/2874 [03:08<03:43,  7.24it/s]Setting `pad_token_id` to `eos_token_id`:128001 for open-end generation.\n"
     ]
    },
    {
     "name": "stdout",
     "output_type": "stream",
     "text": [
      "logits is [[0.76873356 0.07262938 0.15863714]]\n",
      "logits is [[0.24142855 0.579157   0.17941447]]\n"
     ]
    },
    {
     "name": "stderr",
     "output_type": "stream",
     "text": [
      " 44%|████▎     | 1256/2874 [03:08<03:35,  7.50it/s]Setting `pad_token_id` to `eos_token_id`:128001 for open-end generation.\n",
      " 44%|████▎     | 1257/2874 [03:08<03:50,  7.02it/s]Setting `pad_token_id` to `eos_token_id`:128001 for open-end generation.\n"
     ]
    },
    {
     "name": "stdout",
     "output_type": "stream",
     "text": [
      "logits is [[0.4490159  0.29910907 0.25187507]]\n",
      "logits is [[0.2007877  0.53733575 0.26187652]]\n"
     ]
    },
    {
     "name": "stderr",
     "output_type": "stream",
     "text": [
      " 44%|████▍     | 1258/2874 [03:08<03:38,  7.39it/s]Setting `pad_token_id` to `eos_token_id`:128001 for open-end generation.\n",
      " 44%|████▍     | 1259/2874 [03:08<03:34,  7.53it/s]Setting `pad_token_id` to `eos_token_id`:128001 for open-end generation.\n"
     ]
    },
    {
     "name": "stdout",
     "output_type": "stream",
     "text": [
      "logits is [[0.67525315 0.09138557 0.23336126]]\n",
      "logits is [[0.57019645 0.20651147 0.22329213]]\n"
     ]
    },
    {
     "name": "stderr",
     "output_type": "stream",
     "text": [
      " 44%|████▍     | 1260/2874 [03:08<03:40,  7.31it/s]Setting `pad_token_id` to `eos_token_id`:128001 for open-end generation.\n",
      " 44%|████▍     | 1261/2874 [03:09<03:31,  7.62it/s]Setting `pad_token_id` to `eos_token_id`:128001 for open-end generation.\n"
     ]
    },
    {
     "name": "stdout",
     "output_type": "stream",
     "text": [
      "logits is [[0.29074097 0.4230256  0.28623343]]\n",
      "logits is [[0.10461865 0.134333   0.7610483 ]]\n"
     ]
    },
    {
     "name": "stderr",
     "output_type": "stream",
     "text": [
      " 44%|████▍     | 1262/2874 [03:09<03:47,  7.07it/s]Setting `pad_token_id` to `eos_token_id`:128001 for open-end generation.\n",
      " 44%|████▍     | 1263/2874 [03:09<03:36,  7.44it/s]Setting `pad_token_id` to `eos_token_id`:128001 for open-end generation.\n"
     ]
    },
    {
     "name": "stdout",
     "output_type": "stream",
     "text": [
      "logits is [[0.35783952 0.3634747  0.27868572]]\n",
      "logits is [[0.09749153 0.72037035 0.18213814]]\n"
     ]
    },
    {
     "name": "stderr",
     "output_type": "stream",
     "text": [
      " 44%|████▍     | 1264/2874 [03:09<03:48,  7.04it/s]Setting `pad_token_id` to `eos_token_id`:128001 for open-end generation.\n",
      " 44%|████▍     | 1265/2874 [03:09<03:48,  7.06it/s]Setting `pad_token_id` to `eos_token_id`:128001 for open-end generation.\n"
     ]
    },
    {
     "name": "stdout",
     "output_type": "stream",
     "text": [
      "logits is [[0.3266369  0.37595677 0.2974063 ]]\n",
      "logits is [[0.5455768  0.2007065  0.25371677]]\n"
     ]
    },
    {
     "name": "stderr",
     "output_type": "stream",
     "text": [
      " 44%|████▍     | 1266/2874 [03:09<03:48,  7.03it/s]Setting `pad_token_id` to `eos_token_id`:128001 for open-end generation.\n",
      " 44%|████▍     | 1267/2874 [03:09<03:36,  7.44it/s]Setting `pad_token_id` to `eos_token_id`:128001 for open-end generation.\n"
     ]
    },
    {
     "name": "stdout",
     "output_type": "stream",
     "text": [
      "logits is [[0.382251   0.382251   0.23549801]]\n",
      "logits is [[0.280452   0.29853964 0.42100835]]\n"
     ]
    },
    {
     "name": "stderr",
     "output_type": "stream",
     "text": [
      " 44%|████▍     | 1268/2874 [03:10<04:06,  6.51it/s]Setting `pad_token_id` to `eos_token_id`:128001 for open-end generation.\n"
     ]
    },
    {
     "name": "stdout",
     "output_type": "stream",
     "text": [
      "logits is [[0.5919462  0.18337637 0.22467743]]\n"
     ]
    },
    {
     "name": "stderr",
     "output_type": "stream",
     "text": [
      " 44%|████▍     | 1269/2874 [03:10<04:53,  5.46it/s]Setting `pad_token_id` to `eos_token_id`:128001 for open-end generation.\n",
      " 44%|████▍     | 1270/2874 [03:10<04:59,  5.35it/s]"
     ]
    },
    {
     "name": "stdout",
     "output_type": "stream",
     "text": [
      "logits is [[0.4440144  0.28667724 0.26930836]]\n",
      "logits is [[0.32879576 0.402849   0.26835528]]\n"
     ]
    },
    {
     "name": "stderr",
     "output_type": "stream",
     "text": [
      "Setting `pad_token_id` to `eos_token_id`:128001 for open-end generation.\n",
      " 44%|████▍     | 1271/2874 [03:10<04:31,  5.90it/s]Setting `pad_token_id` to `eos_token_id`:128001 for open-end generation.\n",
      " 44%|████▍     | 1272/2874 [03:10<04:05,  6.53it/s]Setting `pad_token_id` to `eos_token_id`:128001 for open-end generation.\n"
     ]
    },
    {
     "name": "stdout",
     "output_type": "stream",
     "text": [
      "logits is [[0.8433681  0.04069696 0.11593486]]\n",
      "logits is [[0.3562424  0.17912991 0.46462765]]\n"
     ]
    },
    {
     "name": "stderr",
     "output_type": "stream",
     "text": [
      " 44%|████▍     | 1273/2874 [03:11<04:28,  5.96it/s]Setting `pad_token_id` to `eos_token_id`:128001 for open-end generation.\n"
     ]
    },
    {
     "name": "stdout",
     "output_type": "stream",
     "text": [
      "logits is [[0.14650238 0.55289423 0.3006034 ]]\n"
     ]
    },
    {
     "name": "stderr",
     "output_type": "stream",
     "text": [
      " 44%|████▍     | 1274/2874 [03:11<05:10,  5.15it/s]Setting `pad_token_id` to `eos_token_id`:128001 for open-end generation.\n",
      " 44%|████▍     | 1275/2874 [03:11<04:34,  5.82it/s]Setting `pad_token_id` to `eos_token_id`:128001 for open-end generation.\n"
     ]
    },
    {
     "name": "stdout",
     "output_type": "stream",
     "text": [
      "logits is [[0.31036833 0.3743757  0.31525594]]\n",
      "logits is [[0.5685464  0.16289128 0.26856232]]\n"
     ]
    },
    {
     "name": "stderr",
     "output_type": "stream",
     "text": [
      " 44%|████▍     | 1276/2874 [03:11<04:48,  5.54it/s]Setting `pad_token_id` to `eos_token_id`:128001 for open-end generation.\n",
      " 44%|████▍     | 1277/2874 [03:11<04:16,  6.24it/s]Setting `pad_token_id` to `eos_token_id`:128001 for open-end generation.\n"
     ]
    },
    {
     "name": "stdout",
     "output_type": "stream",
     "text": [
      "logits is [[0.32220796 0.4268562  0.2509358 ]]\n",
      "logits is [[0.5087501  0.15760343 0.33364645]]\n"
     ]
    },
    {
     "name": "stderr",
     "output_type": "stream",
     "text": [
      " 44%|████▍     | 1278/2874 [03:11<04:41,  5.68it/s]Setting `pad_token_id` to `eos_token_id`:128001 for open-end generation.\n",
      " 45%|████▍     | 1279/2874 [03:12<04:11,  6.33it/s]Setting `pad_token_id` to `eos_token_id`:128001 for open-end generation.\n"
     ]
    },
    {
     "name": "stdout",
     "output_type": "stream",
     "text": [
      "logits is [[0.37072328 0.3170964  0.31218028]]\n",
      "logits is [[0.54485434 0.21336801 0.24177764]]\n"
     ]
    },
    {
     "name": "stderr",
     "output_type": "stream",
     "text": [
      " 45%|████▍     | 1280/2874 [03:12<03:52,  6.87it/s]Setting `pad_token_id` to `eos_token_id`:128001 for open-end generation.\n",
      " 45%|████▍     | 1281/2874 [03:12<03:43,  7.14it/s]Setting `pad_token_id` to `eos_token_id`:128001 for open-end generation.\n"
     ]
    },
    {
     "name": "stdout",
     "output_type": "stream",
     "text": [
      "logits is [[0.8810721  0.02311576 0.09581215]]\n",
      "logits is [[0.9200073  0.01738541 0.06260728]]\n"
     ]
    },
    {
     "name": "stderr",
     "output_type": "stream",
     "text": [
      " 45%|████▍     | 1282/2874 [03:12<04:26,  5.98it/s]Setting `pad_token_id` to `eos_token_id`:128001 for open-end generation.\n",
      " 45%|████▍     | 1283/2874 [03:12<04:38,  5.72it/s]Setting `pad_token_id` to `eos_token_id`:128001 for open-end generation.\n"
     ]
    },
    {
     "name": "stdout",
     "output_type": "stream",
     "text": [
      "logits is [[0.11530844 0.5948062  0.28988537]]\n",
      "logits is [[0.5384034  0.12989587 0.3317007 ]]\n"
     ]
    },
    {
     "name": "stderr",
     "output_type": "stream",
     "text": [
      " 45%|████▍     | 1284/2874 [03:12<04:13,  6.28it/s]Setting `pad_token_id` to `eos_token_id`:128001 for open-end generation.\n",
      " 45%|████▍     | 1285/2874 [03:12<04:15,  6.22it/s]Setting `pad_token_id` to `eos_token_id`:128001 for open-end generation.\n"
     ]
    },
    {
     "name": "stdout",
     "output_type": "stream",
     "text": [
      "logits is [[0.04641814 0.8758461  0.07773576]]\n",
      "logits is [[0.44221202 0.3135753  0.24421267]]\n"
     ]
    },
    {
     "name": "stderr",
     "output_type": "stream",
     "text": [
      " 45%|████▍     | 1286/2874 [03:13<03:53,  6.79it/s]Setting `pad_token_id` to `eos_token_id`:128001 for open-end generation.\n",
      " 45%|████▍     | 1287/2874 [03:13<03:44,  7.08it/s]Setting `pad_token_id` to `eos_token_id`:128001 for open-end generation.\n"
     ]
    },
    {
     "name": "stdout",
     "output_type": "stream",
     "text": [
      "logits is [[0.23932701 0.2213413  0.53933173]]\n",
      "logits is [[0.10963111 0.8228271  0.06754176]]\n"
     ]
    },
    {
     "name": "stderr",
     "output_type": "stream",
     "text": [
      " 45%|████▍     | 1288/2874 [03:13<04:18,  6.13it/s]Setting `pad_token_id` to `eos_token_id`:128001 for open-end generation.\n",
      " 45%|████▍     | 1289/2874 [03:13<03:54,  6.75it/s]Setting `pad_token_id` to `eos_token_id`:128001 for open-end generation.\n"
     ]
    },
    {
     "name": "stdout",
     "output_type": "stream",
     "text": [
      "logits is [[0.17107858 0.47236308 0.35655835]]\n",
      "logits is [[0.04782499 0.62020385 0.33197123]]\n"
     ]
    },
    {
     "name": "stderr",
     "output_type": "stream",
     "text": [
      " 45%|████▍     | 1290/2874 [03:13<04:02,  6.54it/s]Setting `pad_token_id` to `eos_token_id`:128001 for open-end generation.\n",
      " 45%|████▍     | 1291/2874 [03:13<03:46,  6.98it/s]Setting `pad_token_id` to `eos_token_id`:128001 for open-end generation.\n"
     ]
    },
    {
     "name": "stdout",
     "output_type": "stream",
     "text": [
      "logits is [[0.11779517 0.7444884  0.13771652]]\n",
      "logits is [[0.5778376  0.21932241 0.20284007]]\n"
     ]
    },
    {
     "name": "stderr",
     "output_type": "stream",
     "text": [
      " 45%|████▍     | 1292/2874 [03:13<03:46,  6.98it/s]Setting `pad_token_id` to `eos_token_id`:128001 for open-end generation.\n",
      " 45%|████▍     | 1293/2874 [03:14<04:11,  6.29it/s]"
     ]
    },
    {
     "name": "stdout",
     "output_type": "stream",
     "text": [
      "logits is [[0.732992   0.13558988 0.13141821]]\n",
      "logits is [[0.16425149 0.64962727 0.18612133]]\n"
     ]
    },
    {
     "name": "stderr",
     "output_type": "stream",
     "text": [
      "Setting `pad_token_id` to `eos_token_id`:128001 for open-end generation.\n",
      " 45%|████▌     | 1294/2874 [03:14<03:56,  6.69it/s]Setting `pad_token_id` to `eos_token_id`:128001 for open-end generation.\n"
     ]
    },
    {
     "name": "stdout",
     "output_type": "stream",
     "text": [
      "logits is [[0.82219523 0.04566595 0.1321388 ]]\n"
     ]
    },
    {
     "name": "stderr",
     "output_type": "stream",
     "text": [
      " 45%|████▌     | 1295/2874 [03:14<04:27,  5.90it/s]Setting `pad_token_id` to `eos_token_id`:128001 for open-end generation.\n",
      " 45%|████▌     | 1296/2874 [03:14<04:24,  5.96it/s]Setting `pad_token_id` to `eos_token_id`:128001 for open-end generation.\n"
     ]
    },
    {
     "name": "stdout",
     "output_type": "stream",
     "text": [
      "logits is [[0.30305117 0.3891254  0.30782354]]\n",
      "logits is [[0.3688813  0.3106292  0.32048962]]\n"
     ]
    },
    {
     "name": "stderr",
     "output_type": "stream",
     "text": [
      " 45%|████▌     | 1297/2874 [03:14<04:02,  6.50it/s]Setting `pad_token_id` to `eos_token_id`:128001 for open-end generation.\n",
      " 45%|████▌     | 1298/2874 [03:14<03:55,  6.69it/s]Setting `pad_token_id` to `eos_token_id`:128001 for open-end generation.\n"
     ]
    },
    {
     "name": "stdout",
     "output_type": "stream",
     "text": [
      "logits is [[0.21357597 0.44513056 0.34129345]]\n",
      "logits is [[0.3438791  0.14790055 0.5082204 ]]\n"
     ]
    },
    {
     "name": "stderr",
     "output_type": "stream",
     "text": [
      " 45%|████▌     | 1299/2874 [03:15<03:47,  6.93it/s]Setting `pad_token_id` to `eos_token_id`:128001 for open-end generation.\n",
      " 45%|████▌     | 1300/2874 [03:15<03:54,  6.71it/s]Setting `pad_token_id` to `eos_token_id`:128001 for open-end generation.\n"
     ]
    },
    {
     "name": "stdout",
     "output_type": "stream",
     "text": [
      "logits is [[0.8257059  0.03303239 0.14126162]]\n",
      "logits is [[0.27763656 0.50273484 0.21962859]]\n"
     ]
    },
    {
     "name": "stderr",
     "output_type": "stream",
     "text": [
      " 45%|████▌     | 1301/2874 [03:15<03:40,  7.12it/s]Setting `pad_token_id` to `eos_token_id`:128001 for open-end generation.\n",
      " 45%|████▌     | 1302/2874 [03:15<03:33,  7.36it/s]Setting `pad_token_id` to `eos_token_id`:128001 for open-end generation.\n"
     ]
    },
    {
     "name": "stdout",
     "output_type": "stream",
     "text": [
      "logits is [[0.5332326  0.27663743 0.19012995]]\n",
      "logits is [[0.36149567 0.42928675 0.20921765]]\n"
     ]
    },
    {
     "name": "stderr",
     "output_type": "stream",
     "text": [
      " 45%|████▌     | 1303/2874 [03:15<03:39,  7.17it/s]Setting `pad_token_id` to `eos_token_id`:128001 for open-end generation.\n"
     ]
    },
    {
     "name": "stdout",
     "output_type": "stream",
     "text": [
      "logits is [[0.53997904 0.20495293 0.25506803]]\n"
     ]
    },
    {
     "name": "stderr",
     "output_type": "stream",
     "text": [
      " 45%|████▌     | 1304/2874 [03:15<04:33,  5.74it/s]Setting `pad_token_id` to `eos_token_id`:128001 for open-end generation.\n"
     ]
    },
    {
     "name": "stdout",
     "output_type": "stream",
     "text": [
      "logits is [[0.08501588 0.6842253  0.23075886]]\n"
     ]
    },
    {
     "name": "stderr",
     "output_type": "stream",
     "text": [
      " 45%|████▌     | 1305/2874 [03:16<05:09,  5.07it/s]Setting `pad_token_id` to `eos_token_id`:128001 for open-end generation.\n",
      " 45%|████▌     | 1306/2874 [03:16<04:45,  5.49it/s]Setting `pad_token_id` to `eos_token_id`:128001 for open-end generation.\n"
     ]
    },
    {
     "name": "stdout",
     "output_type": "stream",
     "text": [
      "logits is [[0.32620972 0.38137782 0.29241252]]\n",
      "logits is [[0.21075724 0.5466627  0.2425801 ]]\n"
     ]
    },
    {
     "name": "stderr",
     "output_type": "stream",
     "text": [
      " 45%|████▌     | 1307/2874 [03:16<04:15,  6.12it/s]Setting `pad_token_id` to `eos_token_id`:128001 for open-end generation.\n",
      " 46%|████▌     | 1308/2874 [03:16<03:56,  6.62it/s]Setting `pad_token_id` to `eos_token_id`:128001 for open-end generation.\n"
     ]
    },
    {
     "name": "stdout",
     "output_type": "stream",
     "text": [
      "logits is [[0.3350762  0.29111928 0.37380454]]\n",
      "logits is [[0.4648821  0.06291496 0.47220296]]\n"
     ]
    },
    {
     "name": "stderr",
     "output_type": "stream",
     "text": [
      " 46%|████▌     | 1309/2874 [03:16<03:38,  7.15it/s]Setting `pad_token_id` to `eos_token_id`:128001 for open-end generation.\n",
      " 46%|████▌     | 1310/2874 [03:16<04:06,  6.36it/s]"
     ]
    },
    {
     "name": "stdout",
     "output_type": "stream",
     "text": [
      "logits is [[0.24829233 0.5256349  0.22607276]]\n",
      "logits is [[0.404022   0.3049718  0.29100615]]\n"
     ]
    },
    {
     "name": "stderr",
     "output_type": "stream",
     "text": [
      "Setting `pad_token_id` to `eos_token_id`:128001 for open-end generation.\n",
      " 46%|████▌     | 1311/2874 [03:17<04:26,  5.86it/s]Setting `pad_token_id` to `eos_token_id`:128001 for open-end generation.\n",
      " 46%|████▌     | 1312/2874 [03:17<04:40,  5.57it/s]"
     ]
    },
    {
     "name": "stdout",
     "output_type": "stream",
     "text": [
      "logits is [[0.15150927 0.6897104  0.15878035]]\n",
      "logits is [[0.5271757  0.11050203 0.36232224]]\n"
     ]
    },
    {
     "name": "stderr",
     "output_type": "stream",
     "text": [
      "Setting `pad_token_id` to `eos_token_id`:128001 for open-end generation.\n",
      " 46%|████▌     | 1313/2874 [03:17<04:45,  5.46it/s]Setting `pad_token_id` to `eos_token_id`:128001 for open-end generation.\n"
     ]
    },
    {
     "name": "stdout",
     "output_type": "stream",
     "text": [
      "logits is [[0.09793653 0.55484825 0.34721518]]\n"
     ]
    },
    {
     "name": "stderr",
     "output_type": "stream",
     "text": [
      " 46%|████▌     | 1314/2874 [03:17<04:59,  5.20it/s]Setting `pad_token_id` to `eos_token_id`:128001 for open-end generation.\n",
      " 46%|████▌     | 1315/2874 [03:17<04:23,  5.91it/s]Setting `pad_token_id` to `eos_token_id`:128001 for open-end generation.\n"
     ]
    },
    {
     "name": "stdout",
     "output_type": "stream",
     "text": [
      "logits is [[0.44219953 0.2810791  0.27672142]]\n",
      "logits is [[0.46543264 0.26937175 0.26519555]]\n"
     ]
    },
    {
     "name": "stderr",
     "output_type": "stream",
     "text": [
      " 46%|████▌     | 1316/2874 [03:17<03:59,  6.50it/s]Setting `pad_token_id` to `eos_token_id`:128001 for open-end generation.\n",
      " 46%|████▌     | 1317/2874 [03:18<03:49,  6.80it/s]Setting `pad_token_id` to `eos_token_id`:128001 for open-end generation.\n"
     ]
    },
    {
     "name": "stdout",
     "output_type": "stream",
     "text": [
      "logits is [[0.17213403 0.6102681  0.2175978 ]]\n",
      "logits is [[0.7556467  0.0834668  0.16088647]]\n"
     ]
    },
    {
     "name": "stderr",
     "output_type": "stream",
     "text": [
      " 46%|████▌     | 1318/2874 [03:18<03:38,  7.12it/s]Setting `pad_token_id` to `eos_token_id`:128001 for open-end generation.\n"
     ]
    },
    {
     "name": "stdout",
     "output_type": "stream",
     "text": [
      "logits is [[0.49803326 0.15428351 0.34768322]]\n"
     ]
    },
    {
     "name": "stderr",
     "output_type": "stream",
     "text": [
      " 46%|████▌     | 1319/2874 [03:18<04:12,  6.16it/s]Setting `pad_token_id` to `eos_token_id`:128001 for open-end generation.\n",
      " 46%|████▌     | 1320/2874 [03:18<03:55,  6.59it/s]Setting `pad_token_id` to `eos_token_id`:128001 for open-end generation.\n"
     ]
    },
    {
     "name": "stdout",
     "output_type": "stream",
     "text": [
      "logits is [[0.22300023 0.45756677 0.31943306]]\n",
      "logits is [[0.12782305 0.68029183 0.19188511]]\n"
     ]
    },
    {
     "name": "stderr",
     "output_type": "stream",
     "text": [
      " 46%|████▌     | 1321/2874 [03:18<04:09,  6.23it/s]Setting `pad_token_id` to `eos_token_id`:128001 for open-end generation.\n",
      " 46%|████▌     | 1322/2874 [03:18<04:19,  5.97it/s]Setting `pad_token_id` to `eos_token_id`:128001 for open-end generation.\n"
     ]
    },
    {
     "name": "stdout",
     "output_type": "stream",
     "text": [
      "logits is [[0.4332488 0.2546938 0.3120574]]\n",
      "logits is [[0.2094766 0.5874917 0.2030317]]\n"
     ]
    },
    {
     "name": "stderr",
     "output_type": "stream",
     "text": [
      " 46%|████▌     | 1323/2874 [03:18<04:09,  6.21it/s]Setting `pad_token_id` to `eos_token_id`:128001 for open-end generation.\n"
     ]
    },
    {
     "name": "stdout",
     "output_type": "stream",
     "text": [
      "logits is [[0.4927344 0.2851728 0.2220928]]\n"
     ]
    },
    {
     "name": "stderr",
     "output_type": "stream",
     "text": [
      " 46%|████▌     | 1324/2874 [03:19<06:27,  4.00it/s]Setting `pad_token_id` to `eos_token_id`:128001 for open-end generation.\n"
     ]
    },
    {
     "name": "stdout",
     "output_type": "stream",
     "text": [
      "logits is [[0.39023814 0.3498072  0.25995463]]\n"
     ]
    },
    {
     "name": "stderr",
     "output_type": "stream",
     "text": [
      " 46%|████▌     | 1325/2874 [03:19<07:12,  3.58it/s]Setting `pad_token_id` to `eos_token_id`:128001 for open-end generation.\n",
      " 46%|████▌     | 1326/2874 [03:19<06:17,  4.10it/s]"
     ]
    },
    {
     "name": "stdout",
     "output_type": "stream",
     "text": [
      "logits is [[0.35968712 0.3326562  0.3076567 ]]\n",
      "logits is [[0.83170813 0.04272275 0.12556915]]\n"
     ]
    },
    {
     "name": "stderr",
     "output_type": "stream",
     "text": [
      "Setting `pad_token_id` to `eos_token_id`:128001 for open-end generation.\n",
      " 46%|████▌     | 1327/2874 [03:20<05:55,  4.35it/s]Setting `pad_token_id` to `eos_token_id`:128001 for open-end generation.\n",
      " 46%|████▌     | 1328/2874 [03:20<05:32,  4.65it/s]Setting `pad_token_id` to `eos_token_id`:128001 for open-end generation.\n"
     ]
    },
    {
     "name": "stdout",
     "output_type": "stream",
     "text": [
      "logits is [[0.5998007  0.15404156 0.2461577 ]]\n",
      "logits is [[0.07333148 0.8658745  0.06079394]]\n"
     ]
    },
    {
     "name": "stderr",
     "output_type": "stream",
     "text": [
      " 46%|████▌     | 1329/2874 [03:20<04:46,  5.39it/s]Setting `pad_token_id` to `eos_token_id`:128001 for open-end generation.\n",
      " 46%|████▋     | 1330/2874 [03:20<04:40,  5.50it/s]Setting `pad_token_id` to `eos_token_id`:128001 for open-end generation.\n"
     ]
    },
    {
     "name": "stdout",
     "output_type": "stream",
     "text": [
      "logits is [[0.12908772 0.15091883 0.7199935 ]]\n",
      "logits is [[0.35423034 0.33800894 0.30776066]]\n"
     ]
    },
    {
     "name": "stderr",
     "output_type": "stream",
     "text": [
      " 46%|████▋     | 1331/2874 [03:20<04:11,  6.13it/s]Setting `pad_token_id` to `eos_token_id`:128001 for open-end generation.\n"
     ]
    },
    {
     "name": "stdout",
     "output_type": "stream",
     "text": [
      "logits is [[0.15024723 0.6947361  0.15501659]]\n"
     ]
    },
    {
     "name": "stderr",
     "output_type": "stream",
     "text": [
      " 46%|████▋     | 1332/2874 [03:20<04:48,  5.35it/s]Setting `pad_token_id` to `eos_token_id`:128001 for open-end generation.\n",
      " 46%|████▋     | 1333/2874 [03:21<04:40,  5.49it/s]Setting `pad_token_id` to `eos_token_id`:128001 for open-end generation.\n"
     ]
    },
    {
     "name": "stdout",
     "output_type": "stream",
     "text": [
      "logits is [[0.31576928 0.41832632 0.26590437]]\n",
      "logits is [[0.24997644 0.54599875 0.20402482]]\n"
     ]
    },
    {
     "name": "stderr",
     "output_type": "stream",
     "text": [
      " 46%|████▋     | 1334/2874 [03:21<04:09,  6.17it/s]Setting `pad_token_id` to `eos_token_id`:128001 for open-end generation.\n",
      " 46%|████▋     | 1335/2874 [03:21<04:01,  6.38it/s]Setting `pad_token_id` to `eos_token_id`:128001 for open-end generation.\n"
     ]
    },
    {
     "name": "stdout",
     "output_type": "stream",
     "text": [
      "logits is [[0.35951856 0.33773643 0.30274498]]\n",
      "logits is [[0.2186957  0.30362892 0.47767535]]\n"
     ]
    },
    {
     "name": "stderr",
     "output_type": "stream",
     "text": [
      " 46%|████▋     | 1336/2874 [03:21<03:57,  6.46it/s]Setting `pad_token_id` to `eos_token_id`:128001 for open-end generation.\n"
     ]
    },
    {
     "name": "stdout",
     "output_type": "stream",
     "text": [
      "logits is [[0.36389652 0.3527006  0.2834029 ]]\n"
     ]
    },
    {
     "name": "stderr",
     "output_type": "stream",
     "text": [
      " 47%|████▋     | 1337/2874 [03:21<04:44,  5.40it/s]Setting `pad_token_id` to `eos_token_id`:128001 for open-end generation.\n",
      " 47%|████▋     | 1338/2874 [03:22<04:40,  5.47it/s]Setting `pad_token_id` to `eos_token_id`:128001 for open-end generation.\n"
     ]
    },
    {
     "name": "stdout",
     "output_type": "stream",
     "text": [
      "logits is [[0.19956894 0.55970496 0.24072611]]\n",
      "logits is [[0.3273852  0.4545293  0.21808553]]\n"
     ]
    },
    {
     "name": "stderr",
     "output_type": "stream",
     "text": [
      " 47%|████▋     | 1339/2874 [03:22<04:37,  5.52it/s]Setting `pad_token_id` to `eos_token_id`:128001 for open-end generation.\n",
      " 47%|████▋     | 1340/2874 [03:22<04:27,  5.73it/s]Setting `pad_token_id` to `eos_token_id`:128001 for open-end generation.\n"
     ]
    },
    {
     "name": "stdout",
     "output_type": "stream",
     "text": [
      "logits is [[0.17077067 0.11025784 0.71897143]]\n",
      "logits is [[0.07306276 0.65120125 0.27573594]]\n"
     ]
    },
    {
     "name": "stderr",
     "output_type": "stream",
     "text": [
      " 47%|████▋     | 1341/2874 [03:22<04:03,  6.30it/s]Setting `pad_token_id` to `eos_token_id`:128001 for open-end generation.\n",
      " 47%|████▋     | 1342/2874 [03:22<03:43,  6.85it/s]Setting `pad_token_id` to `eos_token_id`:128001 for open-end generation.\n"
     ]
    },
    {
     "name": "stdout",
     "output_type": "stream",
     "text": [
      "logits is [[0.24839564 0.27280924 0.4787951 ]]\n",
      "logits is [[0.5834432 0.1452305 0.2713263]]\n"
     ]
    },
    {
     "name": "stderr",
     "output_type": "stream",
     "text": [
      " 47%|████▋     | 1343/2874 [03:22<04:16,  5.97it/s]Setting `pad_token_id` to `eos_token_id`:128001 for open-end generation.\n"
     ]
    },
    {
     "name": "stdout",
     "output_type": "stream",
     "text": [
      "logits is [[0.23121014 0.53757966 0.23121014]]\n"
     ]
    },
    {
     "name": "stderr",
     "output_type": "stream",
     "text": [
      " 47%|████▋     | 1344/2874 [03:23<04:47,  5.31it/s]Setting `pad_token_id` to `eos_token_id`:128001 for open-end generation.\n"
     ]
    },
    {
     "name": "stdout",
     "output_type": "stream",
     "text": [
      "logits is [[0.16876207 0.6571188  0.17411914]]\n"
     ]
    },
    {
     "name": "stderr",
     "output_type": "stream",
     "text": [
      " 47%|████▋     | 1345/2874 [03:23<05:00,  5.09it/s]Setting `pad_token_id` to `eos_token_id`:128001 for open-end generation.\n",
      " 47%|████▋     | 1346/2874 [03:23<04:21,  5.85it/s]Setting `pad_token_id` to `eos_token_id`:128001 for open-end generation.\n"
     ]
    },
    {
     "name": "stdout",
     "output_type": "stream",
     "text": [
      "logits is [[0.25831556 0.5137218  0.22796267]]\n",
      "logits is [[0.64958274 0.12592736 0.22448981]]\n"
     ]
    },
    {
     "name": "stderr",
     "output_type": "stream",
     "text": [
      " 47%|████▋     | 1347/2874 [03:23<04:00,  6.34it/s]Setting `pad_token_id` to `eos_token_id`:128001 for open-end generation.\n"
     ]
    },
    {
     "name": "stdout",
     "output_type": "stream",
     "text": [
      "logits is [[0.12719212 0.7551744  0.11763348]]\n"
     ]
    },
    {
     "name": "stderr",
     "output_type": "stream",
     "text": [
      " 47%|████▋     | 1348/2874 [03:23<04:32,  5.59it/s]Setting `pad_token_id` to `eos_token_id`:128001 for open-end generation.\n",
      " 47%|████▋     | 1349/2874 [03:23<04:03,  6.28it/s]Setting `pad_token_id` to `eos_token_id`:128001 for open-end generation.\n"
     ]
    },
    {
     "name": "stdout",
     "output_type": "stream",
     "text": [
      "logits is [[0.7593184  0.05167226 0.1890093 ]]\n",
      "logits is [[0.4132623  0.30711046 0.27962726]]\n"
     ]
    },
    {
     "name": "stderr",
     "output_type": "stream",
     "text": [
      " 47%|████▋     | 1350/2874 [03:23<03:43,  6.82it/s]Setting `pad_token_id` to `eos_token_id`:128001 for open-end generation.\n",
      " 47%|████▋     | 1351/2874 [03:24<04:00,  6.33it/s]Setting `pad_token_id` to `eos_token_id`:128001 for open-end generation.\n"
     ]
    },
    {
     "name": "stdout",
     "output_type": "stream",
     "text": [
      "logits is [[0.32879576 0.402849   0.26835528]]\n",
      "logits is [[0.53320754 0.24796453 0.21882793]]\n"
     ]
    },
    {
     "name": "stderr",
     "output_type": "stream",
     "text": [
      " 47%|████▋     | 1352/2874 [03:24<03:45,  6.75it/s]Setting `pad_token_id` to `eos_token_id`:128001 for open-end generation.\n",
      " 47%|████▋     | 1353/2874 [03:24<03:33,  7.13it/s]Setting `pad_token_id` to `eos_token_id`:128001 for open-end generation.\n"
     ]
    },
    {
     "name": "stdout",
     "output_type": "stream",
     "text": [
      "logits is [[0.33740985 0.36482704 0.29776317]]\n",
      "logits is [[0.37400305 0.39195183 0.23404512]]\n"
     ]
    },
    {
     "name": "stderr",
     "output_type": "stream",
     "text": [
      " 47%|████▋     | 1354/2874 [03:24<03:19,  7.62it/s]Setting `pad_token_id` to `eos_token_id`:128001 for open-end generation.\n",
      " 47%|████▋     | 1355/2874 [03:24<03:10,  7.96it/s]Setting `pad_token_id` to `eos_token_id`:128001 for open-end generation.\n"
     ]
    },
    {
     "name": "stdout",
     "output_type": "stream",
     "text": [
      "logits is [[0.28502163 0.25951514 0.45546323]]\n",
      "logits is [[0.21215963 0.29455444 0.4932859 ]]\n"
     ]
    },
    {
     "name": "stderr",
     "output_type": "stream",
     "text": [
      " 47%|████▋     | 1356/2874 [03:24<03:06,  8.14it/s]Setting `pad_token_id` to `eos_token_id`:128001 for open-end generation.\n",
      " 47%|████▋     | 1357/2874 [03:24<03:25,  7.39it/s]Setting `pad_token_id` to `eos_token_id`:128001 for open-end generation.\n"
     ]
    },
    {
     "name": "stdout",
     "output_type": "stream",
     "text": [
      "logits is [[0.5121496  0.28728986 0.20056064]]\n",
      "logits is [[0.01565728 0.92432225 0.06002048]]\n"
     ]
    },
    {
     "name": "stderr",
     "output_type": "stream",
     "text": [
      " 47%|████▋     | 1358/2874 [03:25<03:47,  6.68it/s]Setting `pad_token_id` to `eos_token_id`:128001 for open-end generation.\n",
      " 47%|████▋     | 1359/2874 [03:25<03:56,  6.40it/s]Setting `pad_token_id` to `eos_token_id`:128001 for open-end generation.\n"
     ]
    },
    {
     "name": "stdout",
     "output_type": "stream",
     "text": [
      "logits is [[0.2625469  0.4003362  0.33711687]]\n",
      "logits is [[0.17499569 0.6204136  0.2045907 ]]\n"
     ]
    },
    {
     "name": "stderr",
     "output_type": "stream",
     "text": [
      " 47%|████▋     | 1360/2874 [03:25<04:09,  6.06it/s]Setting `pad_token_id` to `eos_token_id`:128001 for open-end generation.\n",
      " 47%|████▋     | 1361/2874 [03:25<03:48,  6.62it/s]Setting `pad_token_id` to `eos_token_id`:128001 for open-end generation.\n"
     ]
    },
    {
     "name": "stdout",
     "output_type": "stream",
     "text": [
      "logits is [[0.5022199  0.23723188 0.26054826]]\n",
      "logits is [[0.12465224 0.65313107 0.22221665]]\n"
     ]
    },
    {
     "name": "stderr",
     "output_type": "stream",
     "text": [
      " 47%|████▋     | 1362/2874 [03:25<03:44,  6.74it/s]Setting `pad_token_id` to `eos_token_id`:128001 for open-end generation.\n",
      " 47%|████▋     | 1363/2874 [03:25<03:49,  6.58it/s]Setting `pad_token_id` to `eos_token_id`:128001 for open-end generation.\n"
     ]
    },
    {
     "name": "stdout",
     "output_type": "stream",
     "text": [
      "logits is [[0.47103164 0.22956249 0.2994059 ]]\n",
      "logits is [[0.23913765 0.4538035  0.3070588 ]]\n"
     ]
    },
    {
     "name": "stderr",
     "output_type": "stream",
     "text": [
      " 47%|████▋     | 1364/2874 [03:25<03:33,  7.07it/s]Setting `pad_token_id` to `eos_token_id`:128001 for open-end generation.\n",
      " 47%|████▋     | 1365/2874 [03:26<03:19,  7.57it/s]Setting `pad_token_id` to `eos_token_id`:128001 for open-end generation.\n"
     ]
    },
    {
     "name": "stdout",
     "output_type": "stream",
     "text": [
      "logits is [[0.21866006 0.54118884 0.24015109]]\n",
      "logits is [[0.32375795 0.2857154  0.39052665]]\n"
     ]
    },
    {
     "name": "stderr",
     "output_type": "stream",
     "text": [
      " 48%|████▊     | 1366/2874 [03:26<03:10,  7.92it/s]Setting `pad_token_id` to `eos_token_id`:128001 for open-end generation.\n",
      " 48%|████▊     | 1367/2874 [03:26<03:07,  8.03it/s]Setting `pad_token_id` to `eos_token_id`:128001 for open-end generation.\n"
     ]
    },
    {
     "name": "stdout",
     "output_type": "stream",
     "text": [
      "logits is [[0.8317594  0.0484142  0.11982631]]\n",
      "logits is [[0.3811906  0.18006168 0.43874767]]\n"
     ]
    },
    {
     "name": "stderr",
     "output_type": "stream",
     "text": [
      " 48%|████▊     | 1368/2874 [03:26<03:23,  7.38it/s]Setting `pad_token_id` to `eos_token_id`:128001 for open-end generation.\n",
      " 48%|████▊     | 1369/2874 [03:26<03:15,  7.71it/s]Setting `pad_token_id` to `eos_token_id`:128001 for open-end generation.\n"
     ]
    },
    {
     "name": "stdout",
     "output_type": "stream",
     "text": [
      "logits is [[0.10802732 0.7616668  0.13030583]]\n",
      "logits is [[0.2834029  0.36389652 0.3527006 ]]\n"
     ]
    },
    {
     "name": "stderr",
     "output_type": "stream",
     "text": [
      " 48%|████▊     | 1370/2874 [03:26<03:06,  8.05it/s]Setting `pad_token_id` to `eos_token_id`:128001 for open-end generation.\n"
     ]
    },
    {
     "name": "stdout",
     "output_type": "stream",
     "text": [
      "logits is [[0.44931728 0.29466948 0.25601327]]\n"
     ]
    },
    {
     "name": "stderr",
     "output_type": "stream",
     "text": [
      " 48%|████▊     | 1371/2874 [03:26<04:05,  6.12it/s]Setting `pad_token_id` to `eos_token_id`:128001 for open-end generation.\n",
      " 48%|████▊     | 1372/2874 [03:27<04:05,  6.11it/s]Setting `pad_token_id` to `eos_token_id`:128001 for open-end generation.\n"
     ]
    },
    {
     "name": "stdout",
     "output_type": "stream",
     "text": [
      "logits is [[0.64126384 0.18881822 0.169918  ]]\n",
      "logits is [[0.39051253 0.37262964 0.23685782]]\n"
     ]
    },
    {
     "name": "stderr",
     "output_type": "stream",
     "text": [
      " 48%|████▊     | 1373/2874 [03:27<03:44,  6.69it/s]Setting `pad_token_id` to `eos_token_id`:128001 for open-end generation.\n",
      " 48%|████▊     | 1374/2874 [03:27<03:29,  7.17it/s]Setting `pad_token_id` to `eos_token_id`:128001 for open-end generation.\n"
     ]
    },
    {
     "name": "stdout",
     "output_type": "stream",
     "text": [
      "logits is [[0.78256637 0.05081562 0.166618  ]]\n",
      "logits is [[0.36065203 0.34955594 0.28979206]]\n"
     ]
    },
    {
     "name": "stderr",
     "output_type": "stream",
     "text": [
      " 48%|████▊     | 1375/2874 [03:27<04:17,  5.83it/s]Setting `pad_token_id` to `eos_token_id`:128001 for open-end generation.\n",
      " 48%|████▊     | 1376/2874 [03:27<03:53,  6.40it/s]Setting `pad_token_id` to `eos_token_id`:128001 for open-end generation.\n"
     ]
    },
    {
     "name": "stdout",
     "output_type": "stream",
     "text": [
      "logits is [[0.23484671 0.48187417 0.2832792 ]]\n",
      "logits is [[0.39181724 0.3512227  0.25696003]]\n"
     ]
    },
    {
     "name": "stderr",
     "output_type": "stream",
     "text": [
      " 48%|████▊     | 1377/2874 [03:27<04:37,  5.40it/s]Setting `pad_token_id` to `eos_token_id`:128001 for open-end generation.\n",
      " 48%|████▊     | 1378/2874 [03:28<04:26,  5.60it/s]Setting `pad_token_id` to `eos_token_id`:128001 for open-end generation.\n"
     ]
    },
    {
     "name": "stdout",
     "output_type": "stream",
     "text": [
      "logits is [[0.44219953 0.27672142 0.2810791 ]]\n",
      "logits is [[0.5504676  0.10505858 0.34447384]]\n"
     ]
    },
    {
     "name": "stderr",
     "output_type": "stream",
     "text": [
      " 48%|████▊     | 1379/2874 [03:28<04:12,  5.92it/s]Setting `pad_token_id` to `eos_token_id`:128001 for open-end generation.\n"
     ]
    },
    {
     "name": "stdout",
     "output_type": "stream",
     "text": [
      "logits is [[0.43259478 0.28370258 0.28370258]]\n"
     ]
    },
    {
     "name": "stderr",
     "output_type": "stream",
     "text": [
      " 48%|████▊     | 1380/2874 [03:28<04:38,  5.37it/s]Setting `pad_token_id` to `eos_token_id`:128001 for open-end generation.\n",
      " 48%|████▊     | 1381/2874 [03:28<04:04,  6.09it/s]Setting `pad_token_id` to `eos_token_id`:128001 for open-end generation.\n"
     ]
    },
    {
     "name": "stdout",
     "output_type": "stream",
     "text": [
      "logits is [[0.51999325 0.24562742 0.23437932]]\n",
      "logits is [[0.18897963 0.6493775  0.16164285]]\n"
     ]
    },
    {
     "name": "stderr",
     "output_type": "stream",
     "text": [
      " 48%|████▊     | 1382/2874 [03:28<04:19,  5.76it/s]Setting `pad_token_id` to `eos_token_id`:128001 for open-end generation.\n",
      " 48%|████▊     | 1383/2874 [03:28<03:52,  6.41it/s]Setting `pad_token_id` to `eos_token_id`:128001 for open-end generation.\n"
     ]
    },
    {
     "name": "stdout",
     "output_type": "stream",
     "text": [
      "logits is [[0.23260938 0.37170875 0.3956819 ]]\n",
      "logits is [[0.46299693 0.328314   0.20868908]]\n"
     ]
    },
    {
     "name": "stderr",
     "output_type": "stream",
     "text": [
      " 48%|████▊     | 1384/2874 [03:29<04:09,  5.98it/s]Setting `pad_token_id` to `eos_token_id`:128001 for open-end generation.\n",
      " 48%|████▊     | 1385/2874 [03:29<03:52,  6.42it/s]Setting `pad_token_id` to `eos_token_id`:128001 for open-end generation.\n"
     ]
    },
    {
     "name": "stdout",
     "output_type": "stream",
     "text": [
      "logits is [[0.41614068 0.35042557 0.23343375]]\n",
      "logits is [[0.18977225 0.56655526 0.24367239]]\n"
     ]
    },
    {
     "name": "stderr",
     "output_type": "stream",
     "text": [
      " 48%|████▊     | 1386/2874 [03:29<03:32,  7.02it/s]Setting `pad_token_id` to `eos_token_id`:128001 for open-end generation.\n",
      " 48%|████▊     | 1387/2874 [03:29<03:48,  6.50it/s]Setting `pad_token_id` to `eos_token_id`:128001 for open-end generation.\n"
     ]
    },
    {
     "name": "stdout",
     "output_type": "stream",
     "text": [
      "logits is [[0.13445032 0.13871822 0.7268315 ]]\n",
      "logits is [[0.74194866 0.08455525 0.17349608]]\n"
     ]
    },
    {
     "name": "stderr",
     "output_type": "stream",
     "text": [
      " 48%|████▊     | 1388/2874 [03:29<03:35,  6.90it/s]Setting `pad_token_id` to `eos_token_id`:128001 for open-end generation.\n",
      " 48%|████▊     | 1389/2874 [03:29<03:27,  7.14it/s]Setting `pad_token_id` to `eos_token_id`:128001 for open-end generation.\n"
     ]
    },
    {
     "name": "stdout",
     "output_type": "stream",
     "text": [
      "logits is [[0.2467167  0.49065474 0.26262856]]\n",
      "logits is [[0.4413862  0.33317578 0.225438  ]]\n"
     ]
    },
    {
     "name": "stderr",
     "output_type": "stream",
     "text": [
      " 48%|████▊     | 1390/2874 [03:29<03:22,  7.33it/s]Setting `pad_token_id` to `eos_token_id`:128001 for open-end generation.\n",
      " 48%|████▊     | 1391/2874 [03:30<03:44,  6.61it/s]Setting `pad_token_id` to `eos_token_id`:128001 for open-end generation.\n"
     ]
    },
    {
     "name": "stdout",
     "output_type": "stream",
     "text": [
      "logits is [[0.75325096 0.0562974  0.19045167]]\n",
      "logits is [[0.34879747 0.3078127  0.34338987]]\n"
     ]
    },
    {
     "name": "stderr",
     "output_type": "stream",
     "text": [
      " 48%|████▊     | 1392/2874 [03:30<03:41,  6.68it/s]Setting `pad_token_id` to `eos_token_id`:128001 for open-end generation.\n",
      " 48%|████▊     | 1393/2874 [03:30<03:30,  7.03it/s]Setting `pad_token_id` to `eos_token_id`:128001 for open-end generation.\n"
     ]
    },
    {
     "name": "stdout",
     "output_type": "stream",
     "text": [
      "logits is [[0.2842661  0.3885457  0.32718828]]\n",
      "logits is [[0.40767205 0.28460094 0.307727  ]]\n"
     ]
    },
    {
     "name": "stderr",
     "output_type": "stream",
     "text": [
      " 49%|████▊     | 1394/2874 [03:30<03:21,  7.35it/s]Setting `pad_token_id` to `eos_token_id`:128001 for open-end generation.\n",
      " 49%|████▊     | 1395/2874 [03:30<03:12,  7.70it/s]Setting `pad_token_id` to `eos_token_id`:128001 for open-end generation.\n"
     ]
    },
    {
     "name": "stdout",
     "output_type": "stream",
     "text": [
      "logits is [[0.22733083 0.54533833 0.22733083]]\n",
      "logits is [[0.18526872 0.28694978 0.5277814 ]]\n"
     ]
    },
    {
     "name": "stderr",
     "output_type": "stream",
     "text": [
      " 49%|████▊     | 1396/2874 [03:30<03:08,  7.84it/s]Setting `pad_token_id` to `eos_token_id`:128001 for open-end generation.\n",
      " 49%|████▊     | 1397/2874 [03:30<03:01,  8.13it/s]Setting `pad_token_id` to `eos_token_id`:128001 for open-end generation.\n"
     ]
    },
    {
     "name": "stdout",
     "output_type": "stream",
     "text": [
      "logits is [[0.12417988 0.40717018 0.46864998]]\n",
      "logits is [[0.43444595 0.28940338 0.27615064]]\n"
     ]
    },
    {
     "name": "stderr",
     "output_type": "stream",
     "text": [
      " 49%|████▊     | 1398/2874 [03:30<02:59,  8.23it/s]Setting `pad_token_id` to `eos_token_id`:128001 for open-end generation.\n",
      " 49%|████▊     | 1399/2874 [03:31<02:57,  8.31it/s]Setting `pad_token_id` to `eos_token_id`:128001 for open-end generation.\n"
     ]
    },
    {
     "name": "stdout",
     "output_type": "stream",
     "text": [
      "logits is [[0.51597023 0.2514638  0.23256601]]\n",
      "logits is [[0.85293776 0.05284888 0.09421331]]\n"
     ]
    },
    {
     "name": "stderr",
     "output_type": "stream",
     "text": [
      " 49%|████▊     | 1400/2874 [03:31<04:00,  6.14it/s]Setting `pad_token_id` to `eos_token_id`:128001 for open-end generation.\n",
      " 49%|████▊     | 1401/2874 [03:31<03:40,  6.67it/s]Setting `pad_token_id` to `eos_token_id`:128001 for open-end generation.\n"
     ]
    },
    {
     "name": "stdout",
     "output_type": "stream",
     "text": [
      "logits is [[0.5236586  0.37717715 0.09916423]]\n",
      "logits is [[0.56075597 0.21619068 0.22305332]]\n"
     ]
    },
    {
     "name": "stderr",
     "output_type": "stream",
     "text": [
      " 49%|████▉     | 1402/2874 [03:31<03:24,  7.21it/s]Setting `pad_token_id` to `eos_token_id`:128001 for open-end generation.\n",
      " 49%|████▉     | 1403/2874 [03:31<03:15,  7.52it/s]Setting `pad_token_id` to `eos_token_id`:128001 for open-end generation.\n"
     ]
    },
    {
     "name": "stdout",
     "output_type": "stream",
     "text": [
      "logits is [[0.6348851  0.13517484 0.22994013]]\n",
      "logits is [[0.74626607 0.13379812 0.11993587]]\n"
     ]
    },
    {
     "name": "stderr",
     "output_type": "stream",
     "text": [
      " 49%|████▉     | 1404/2874 [03:31<03:08,  7.79it/s]Setting `pad_token_id` to `eos_token_id`:128001 for open-end generation.\n",
      " 49%|████▉     | 1405/2874 [03:31<03:09,  7.77it/s]Setting `pad_token_id` to `eos_token_id`:128001 for open-end generation.\n"
     ]
    },
    {
     "name": "stdout",
     "output_type": "stream",
     "text": [
      "logits is [[0.14278716 0.70282304 0.15438974]]\n",
      "logits is [[0.15608872 0.5983492  0.24556202]]\n"
     ]
    },
    {
     "name": "stderr",
     "output_type": "stream",
     "text": [
      " 49%|████▉     | 1406/2874 [03:32<03:02,  8.03it/s]Setting `pad_token_id` to `eos_token_id`:128001 for open-end generation.\n",
      " 49%|████▉     | 1407/2874 [03:32<02:59,  8.16it/s]Setting `pad_token_id` to `eos_token_id`:128001 for open-end generation.\n"
     ]
    },
    {
     "name": "stdout",
     "output_type": "stream",
     "text": [
      "logits is [[0.16358042 0.54480594 0.2916136 ]]\n",
      "logits is [[0.16118515 0.48120996 0.35760486]]\n"
     ]
    },
    {
     "name": "stderr",
     "output_type": "stream",
     "text": [
      " 49%|████▉     | 1408/2874 [03:32<03:16,  7.48it/s]Setting `pad_token_id` to `eos_token_id`:128001 for open-end generation.\n",
      " 49%|████▉     | 1409/2874 [03:32<03:30,  6.97it/s]Setting `pad_token_id` to `eos_token_id`:128001 for open-end generation.\n"
     ]
    },
    {
     "name": "stdout",
     "output_type": "stream",
     "text": [
      "logits is [[0.5187766  0.26496515 0.21625826]]\n",
      "logits is [[0.14948207 0.5136548  0.33686307]]\n"
     ]
    },
    {
     "name": "stderr",
     "output_type": "stream",
     "text": [
      " 49%|████▉     | 1410/2874 [03:32<03:19,  7.32it/s]Setting `pad_token_id` to `eos_token_id`:128001 for open-end generation.\n",
      " 49%|████▉     | 1411/2874 [03:32<03:08,  7.76it/s]Setting `pad_token_id` to `eos_token_id`:128001 for open-end generation.\n"
     ]
    },
    {
     "name": "stdout",
     "output_type": "stream",
     "text": [
      "logits is [[0.21282907 0.6453962  0.14177473]]\n",
      "logits is [[0.20169055 0.21469848 0.58361095]]\n"
     ]
    },
    {
     "name": "stderr",
     "output_type": "stream",
     "text": [
      " 49%|████▉     | 1412/2874 [03:32<03:02,  8.01it/s]Setting `pad_token_id` to `eos_token_id`:128001 for open-end generation.\n",
      " 49%|████▉     | 1413/2874 [03:33<03:19,  7.31it/s]Setting `pad_token_id` to `eos_token_id`:128001 for open-end generation.\n"
     ]
    },
    {
     "name": "stdout",
     "output_type": "stream",
     "text": [
      "logits is [[0.32741213 0.4011537  0.2714342 ]]\n",
      "logits is [[0.1749175  0.49829358 0.3267889 ]]\n"
     ]
    },
    {
     "name": "stderr",
     "output_type": "stream",
     "text": [
      " 49%|████▉     | 1414/2874 [03:33<03:41,  6.60it/s]Setting `pad_token_id` to `eos_token_id`:128001 for open-end generation.\n",
      " 49%|████▉     | 1415/2874 [03:33<03:30,  6.93it/s]Setting `pad_token_id` to `eos_token_id`:128001 for open-end generation.\n"
     ]
    },
    {
     "name": "stdout",
     "output_type": "stream",
     "text": [
      "logits is [[0.11809563 0.7581412  0.12376315]]\n",
      "logits is [[0.19790559 0.46014425 0.34195018]]\n"
     ]
    },
    {
     "name": "stderr",
     "output_type": "stream",
     "text": [
      " 49%|████▉     | 1416/2874 [03:33<03:44,  6.49it/s]Setting `pad_token_id` to `eos_token_id`:128001 for open-end generation.\n",
      " 49%|████▉     | 1417/2874 [03:33<03:29,  6.96it/s]Setting `pad_token_id` to `eos_token_id`:128001 for open-end generation.\n"
     ]
    },
    {
     "name": "stdout",
     "output_type": "stream",
     "text": [
      "logits is [[0.68352604 0.09107103 0.22540297]]\n",
      "logits is [[0.30927658 0.39096224 0.29976115]]\n"
     ]
    },
    {
     "name": "stderr",
     "output_type": "stream",
     "text": [
      " 49%|████▉     | 1418/2874 [03:33<03:15,  7.43it/s]Setting `pad_token_id` to `eos_token_id`:128001 for open-end generation.\n",
      " 49%|████▉     | 1419/2874 [03:33<03:18,  7.31it/s]Setting `pad_token_id` to `eos_token_id`:128001 for open-end generation.\n"
     ]
    },
    {
     "name": "stdout",
     "output_type": "stream",
     "text": [
      "logits is [[0.07305181 0.83603376 0.09091446]]\n",
      "logits is [[0.31499743 0.39819407 0.28680846]]\n"
     ]
    },
    {
     "name": "stderr",
     "output_type": "stream",
     "text": [
      " 49%|████▉     | 1420/2874 [03:34<03:45,  6.44it/s]Setting `pad_token_id` to `eos_token_id`:128001 for open-end generation.\n",
      " 49%|████▉     | 1421/2874 [03:34<03:50,  6.31it/s]Setting `pad_token_id` to `eos_token_id`:128001 for open-end generation.\n"
     ]
    },
    {
     "name": "stdout",
     "output_type": "stream",
     "text": [
      "logits is [[0.3300828  0.37403283 0.2958843 ]]\n",
      "logits is [[0.50109255 0.30871418 0.19019328]]\n"
     ]
    },
    {
     "name": "stderr",
     "output_type": "stream",
     "text": [
      " 49%|████▉     | 1422/2874 [03:34<03:30,  6.88it/s]Setting `pad_token_id` to `eos_token_id`:128001 for open-end generation.\n",
      " 50%|████▉     | 1423/2874 [03:34<03:43,  6.51it/s]Setting `pad_token_id` to `eos_token_id`:128001 for open-end generation.\n"
     ]
    },
    {
     "name": "stdout",
     "output_type": "stream",
     "text": [
      "logits is [[0.16562262 0.4432291  0.3911483 ]]\n",
      "logits is [[0.8397358  0.02102237 0.13924184]]\n"
     ]
    },
    {
     "name": "stderr",
     "output_type": "stream",
     "text": [
      " 50%|████▉     | 1424/2874 [03:34<03:48,  6.34it/s]Setting `pad_token_id` to `eos_token_id`:128001 for open-end generation.\n",
      " 50%|████▉     | 1425/2874 [03:34<03:37,  6.66it/s]Setting `pad_token_id` to `eos_token_id`:128001 for open-end generation.\n"
     ]
    },
    {
     "name": "stdout",
     "output_type": "stream",
     "text": [
      "logits is [[0.03451306 0.89010346 0.07538345]]\n",
      "logits is [[0.4575997  0.21280362 0.32959673]]\n"
     ]
    },
    {
     "name": "stderr",
     "output_type": "stream",
     "text": [
      " 50%|████▉     | 1426/2874 [03:34<03:20,  7.22it/s]Setting `pad_token_id` to `eos_token_id`:128001 for open-end generation.\n"
     ]
    },
    {
     "name": "stdout",
     "output_type": "stream",
     "text": [
      "logits is [[0.85916334 0.01898139 0.12185527]]\n"
     ]
    },
    {
     "name": "stderr",
     "output_type": "stream",
     "text": [
      " 50%|████▉     | 1427/2874 [03:35<04:01,  6.00it/s]Setting `pad_token_id` to `eos_token_id`:128001 for open-end generation.\n",
      " 50%|████▉     | 1428/2874 [03:35<04:01,  6.00it/s]Setting `pad_token_id` to `eos_token_id`:128001 for open-end generation.\n"
     ]
    },
    {
     "name": "stdout",
     "output_type": "stream",
     "text": [
      "logits is [[0.42517605 0.32093972 0.25388423]]\n",
      "logits is [[0.53455615 0.19665222 0.2687917 ]]\n"
     ]
    },
    {
     "name": "stderr",
     "output_type": "stream",
     "text": [
      " 50%|████▉     | 1429/2874 [03:35<03:37,  6.64it/s]Setting `pad_token_id` to `eos_token_id`:128001 for open-end generation.\n",
      " 50%|████▉     | 1430/2874 [03:35<03:28,  6.93it/s]Setting `pad_token_id` to `eos_token_id`:128001 for open-end generation.\n"
     ]
    },
    {
     "name": "stdout",
     "output_type": "stream",
     "text": [
      "logits is [[0.30000755 0.4433824  0.25661007]]\n",
      "logits is [[0.51444733 0.14285687 0.3426958 ]]\n"
     ]
    },
    {
     "name": "stderr",
     "output_type": "stream",
     "text": [
      " 50%|████▉     | 1431/2874 [03:35<03:20,  7.18it/s]Setting `pad_token_id` to `eos_token_id`:128001 for open-end generation.\n"
     ]
    },
    {
     "name": "stdout",
     "output_type": "stream",
     "text": [
      "logits is [[0.8100202  0.0853755  0.10460425]]\n"
     ]
    },
    {
     "name": "stderr",
     "output_type": "stream",
     "text": [
      " 50%|████▉     | 1432/2874 [03:35<03:53,  6.18it/s]Setting `pad_token_id` to `eos_token_id`:128001 for open-end generation.\n",
      " 50%|████▉     | 1433/2874 [03:36<03:45,  6.39it/s]Setting `pad_token_id` to `eos_token_id`:128001 for open-end generation.\n"
     ]
    },
    {
     "name": "stdout",
     "output_type": "stream",
     "text": [
      "logits is [[0.1729542  0.59431046 0.23273532]]\n",
      "logits is [[0.12977767 0.30649388 0.5637285 ]]\n"
     ]
    },
    {
     "name": "stderr",
     "output_type": "stream",
     "text": [
      " 50%|████▉     | 1434/2874 [03:36<03:30,  6.84it/s]Setting `pad_token_id` to `eos_token_id`:128001 for open-end generation.\n",
      " 50%|████▉     | 1435/2874 [03:36<03:17,  7.29it/s]Setting `pad_token_id` to `eos_token_id`:128001 for open-end generation.\n"
     ]
    },
    {
     "name": "stdout",
     "output_type": "stream",
     "text": [
      "logits is [[0.2494872  0.3986794  0.35183334]]\n",
      "logits is [[0.3132428  0.17030714 0.51645005]]\n"
     ]
    },
    {
     "name": "stderr",
     "output_type": "stream",
     "text": [
      " 50%|████▉     | 1436/2874 [03:36<03:13,  7.45it/s]Setting `pad_token_id` to `eos_token_id`:128001 for open-end generation.\n",
      " 50%|█████     | 1437/2874 [03:36<03:03,  7.84it/s]Setting `pad_token_id` to `eos_token_id`:128001 for open-end generation.\n"
     ]
    },
    {
     "name": "stdout",
     "output_type": "stream",
     "text": [
      "logits is [[0.18366992 0.641071   0.17525905]]\n",
      "logits is [[0.2991393  0.1758549  0.52500576]]\n"
     ]
    },
    {
     "name": "stderr",
     "output_type": "stream",
     "text": [
      " 50%|█████     | 1438/2874 [03:36<02:58,  8.05it/s]Setting `pad_token_id` to `eos_token_id`:128001 for open-end generation.\n"
     ]
    },
    {
     "name": "stdout",
     "output_type": "stream",
     "text": [
      "logits is [[0.28129137 0.5507418  0.16796677]]\n"
     ]
    },
    {
     "name": "stderr",
     "output_type": "stream",
     "text": [
      " 50%|█████     | 1439/2874 [03:36<03:56,  6.08it/s]Setting `pad_token_id` to `eos_token_id`:128001 for open-end generation.\n",
      " 50%|█████     | 1440/2874 [03:37<03:33,  6.71it/s]Setting `pad_token_id` to `eos_token_id`:128001 for open-end generation.\n"
     ]
    },
    {
     "name": "stdout",
     "output_type": "stream",
     "text": [
      "logits is [[0.42486256 0.04947647 0.52566093]]\n",
      "logits is [[0.2580378  0.5212507  0.22071144]]\n"
     ]
    },
    {
     "name": "stderr",
     "output_type": "stream",
     "text": [
      " 50%|█████     | 1441/2874 [03:37<03:31,  6.78it/s]Setting `pad_token_id` to `eos_token_id`:128001 for open-end generation.\n",
      " 50%|█████     | 1442/2874 [03:37<03:20,  7.15it/s]Setting `pad_token_id` to `eos_token_id`:128001 for open-end generation.\n"
     ]
    },
    {
     "name": "stdout",
     "output_type": "stream",
     "text": [
      "logits is [[0.23345469 0.5020065  0.26453882]]\n",
      "logits is [[0.33185634 0.23532137 0.43282226]]\n"
     ]
    },
    {
     "name": "stderr",
     "output_type": "stream",
     "text": [
      " 50%|█████     | 1443/2874 [03:37<04:10,  5.72it/s]Setting `pad_token_id` to `eos_token_id`:128001 for open-end generation.\n"
     ]
    },
    {
     "name": "stdout",
     "output_type": "stream",
     "text": [
      "logits is [[0.44413492 0.27793255 0.27793255]]\n"
     ]
    },
    {
     "name": "stderr",
     "output_type": "stream",
     "text": [
      " 50%|█████     | 1444/2874 [03:37<04:48,  4.96it/s]Setting `pad_token_id` to `eos_token_id`:128001 for open-end generation.\n",
      " 50%|█████     | 1445/2874 [03:37<04:14,  5.62it/s]Setting `pad_token_id` to `eos_token_id`:128001 for open-end generation.\n"
     ]
    },
    {
     "name": "stdout",
     "output_type": "stream",
     "text": [
      "logits is [[0.49108437 0.30972305 0.19919261]]\n",
      "logits is [[0.21135218 0.4762895  0.3123583 ]]\n"
     ]
    },
    {
     "name": "stderr",
     "output_type": "stream",
     "text": [
      " 50%|█████     | 1446/2874 [03:38<03:46,  6.32it/s]Setting `pad_token_id` to `eos_token_id`:128001 for open-end generation.\n",
      " 50%|█████     | 1447/2874 [03:38<03:26,  6.93it/s]Setting `pad_token_id` to `eos_token_id`:128001 for open-end generation.\n"
     ]
    },
    {
     "name": "stdout",
     "output_type": "stream",
     "text": [
      "logits is [[0.5144496  0.21445449 0.2710959 ]]\n",
      "logits is [[0.11555394 0.7535063  0.13093977]]\n"
     ]
    },
    {
     "name": "stderr",
     "output_type": "stream",
     "text": [
      " 50%|█████     | 1448/2874 [03:38<03:18,  7.18it/s]Setting `pad_token_id` to `eos_token_id`:128001 for open-end generation.\n",
      " 50%|█████     | 1449/2874 [03:38<03:08,  7.56it/s]Setting `pad_token_id` to `eos_token_id`:128001 for open-end generation.\n"
     ]
    },
    {
     "name": "stdout",
     "output_type": "stream",
     "text": [
      "logits is [[0.53844154 0.1950106  0.2665479 ]]\n",
      "logits is [[0.5077357  0.22885443 0.26340982]]\n"
     ]
    },
    {
     "name": "stderr",
     "output_type": "stream",
     "text": [
      " 50%|█████     | 1450/2874 [03:38<03:02,  7.80it/s]Setting `pad_token_id` to `eos_token_id`:128001 for open-end generation.\n",
      " 50%|█████     | 1451/2874 [03:38<03:01,  7.85it/s]Setting `pad_token_id` to `eos_token_id`:128001 for open-end generation.\n"
     ]
    },
    {
     "name": "stdout",
     "output_type": "stream",
     "text": [
      "logits is [[0.07014737 0.790348   0.1395047 ]]\n",
      "logits is [[0.12747286 0.33584628 0.5366808 ]]\n"
     ]
    },
    {
     "name": "stderr",
     "output_type": "stream",
     "text": [
      " 51%|█████     | 1452/2874 [03:38<02:58,  7.98it/s]Setting `pad_token_id` to `eos_token_id`:128001 for open-end generation.\n",
      " 51%|█████     | 1453/2874 [03:38<03:27,  6.86it/s]"
     ]
    },
    {
     "name": "stdout",
     "output_type": "stream",
     "text": [
      "logits is [[0.34355092 0.44807488 0.20837417]]\n",
      "logits is [[0.5334491  0.26407644 0.20247445]]\n"
     ]
    },
    {
     "name": "stderr",
     "output_type": "stream",
     "text": [
      "Setting `pad_token_id` to `eos_token_id`:128001 for open-end generation.\n",
      " 51%|█████     | 1454/2874 [03:39<03:49,  6.18it/s]Setting `pad_token_id` to `eos_token_id`:128001 for open-end generation.\n",
      " 51%|█████     | 1455/2874 [03:39<03:42,  6.39it/s]Setting `pad_token_id` to `eos_token_id`:128001 for open-end generation.\n"
     ]
    },
    {
     "name": "stdout",
     "output_type": "stream",
     "text": [
      "logits is [[0.22613327 0.5176242  0.25624254]]\n",
      "logits is [[0.1887042  0.5049986  0.30629715]]\n"
     ]
    },
    {
     "name": "stderr",
     "output_type": "stream",
     "text": [
      " 51%|█████     | 1456/2874 [03:39<03:55,  6.03it/s]Setting `pad_token_id` to `eos_token_id`:128001 for open-end generation.\n"
     ]
    },
    {
     "name": "stdout",
     "output_type": "stream",
     "text": [
      "logits is [[0.1590992  0.45323145 0.38766938]]\n"
     ]
    },
    {
     "name": "stderr",
     "output_type": "stream",
     "text": [
      " 51%|█████     | 1457/2874 [03:39<04:33,  5.19it/s]Setting `pad_token_id` to `eos_token_id`:128001 for open-end generation.\n",
      " 51%|█████     | 1458/2874 [03:39<04:07,  5.73it/s]Setting `pad_token_id` to `eos_token_id`:128001 for open-end generation.\n"
     ]
    },
    {
     "name": "stdout",
     "output_type": "stream",
     "text": [
      "logits is [[0.3924664  0.38039148 0.22714213]]\n",
      "logits is [[0.83108205 0.03324746 0.13567041]]\n"
     ]
    },
    {
     "name": "stderr",
     "output_type": "stream",
     "text": [
      " 51%|█████     | 1459/2874 [03:40<04:23,  5.37it/s]Setting `pad_token_id` to `eos_token_id`:128001 for open-end generation.\n",
      " 51%|█████     | 1460/2874 [03:40<04:15,  5.53it/s]Setting `pad_token_id` to `eos_token_id`:128001 for open-end generation.\n"
     ]
    },
    {
     "name": "stdout",
     "output_type": "stream",
     "text": [
      "logits is [[0.20643575 0.12718138 0.6663828 ]]\n",
      "logits is [[0.30712363 0.4610472  0.23182909]]\n"
     ]
    },
    {
     "name": "stderr",
     "output_type": "stream",
     "text": [
      " 51%|█████     | 1461/2874 [03:40<03:57,  5.94it/s]Setting `pad_token_id` to `eos_token_id`:128001 for open-end generation.\n"
     ]
    },
    {
     "name": "stdout",
     "output_type": "stream",
     "text": [
      "logits is [[0.43432605 0.27179432 0.2938797 ]]\n"
     ]
    },
    {
     "name": "stderr",
     "output_type": "stream",
     "text": [
      " 51%|█████     | 1462/2874 [03:40<04:34,  5.14it/s]Setting `pad_token_id` to `eos_token_id`:128001 for open-end generation.\n",
      " 51%|█████     | 1463/2874 [03:40<04:28,  5.25it/s]Setting `pad_token_id` to `eos_token_id`:128001 for open-end generation.\n"
     ]
    },
    {
     "name": "stdout",
     "output_type": "stream",
     "text": [
      "logits is [[0.6728127  0.13404638 0.19314092]]\n",
      "logits is [[0.32965332 0.37942865 0.29091805]]\n"
     ]
    },
    {
     "name": "stderr",
     "output_type": "stream",
     "text": [
      " 51%|█████     | 1464/2874 [03:40<03:59,  5.88it/s]Setting `pad_token_id` to `eos_token_id`:128001 for open-end generation.\n",
      " 51%|█████     | 1465/2874 [03:41<03:42,  6.32it/s]Setting `pad_token_id` to `eos_token_id`:128001 for open-end generation.\n"
     ]
    },
    {
     "name": "stdout",
     "output_type": "stream",
     "text": [
      "logits is [[0.03920542 0.9063632  0.05443134]]\n",
      "logits is [[0.32855195 0.37229812 0.29914996]]\n"
     ]
    },
    {
     "name": "stderr",
     "output_type": "stream",
     "text": [
      " 51%|█████     | 1466/2874 [03:41<03:45,  6.25it/s]Setting `pad_token_id` to `eos_token_id`:128001 for open-end generation.\n",
      " 51%|█████     | 1467/2874 [03:41<03:27,  6.77it/s]Setting `pad_token_id` to `eos_token_id`:128001 for open-end generation.\n"
     ]
    },
    {
     "name": "stdout",
     "output_type": "stream",
     "text": [
      "logits is [[0.53490895 0.12508225 0.3400088 ]]\n",
      "logits is [[0.30772257 0.12628908 0.5659884 ]]\n"
     ]
    },
    {
     "name": "stderr",
     "output_type": "stream",
     "text": [
      " 51%|█████     | 1468/2874 [03:41<03:47,  6.19it/s]Setting `pad_token_id` to `eos_token_id`:128001 for open-end generation.\n",
      " 51%|█████     | 1469/2874 [03:41<03:46,  6.21it/s]Setting `pad_token_id` to `eos_token_id`:128001 for open-end generation.\n"
     ]
    },
    {
     "name": "stdout",
     "output_type": "stream",
     "text": [
      "logits is [[0.034559   0.8638664  0.10157456]]\n",
      "logits is [[0.2150605  0.50003064 0.2849089 ]]\n"
     ]
    },
    {
     "name": "stderr",
     "output_type": "stream",
     "text": [
      " 51%|█████     | 1470/2874 [03:41<03:26,  6.79it/s]Setting `pad_token_id` to `eos_token_id`:128001 for open-end generation.\n",
      " 51%|█████     | 1471/2874 [03:41<03:15,  7.17it/s]Setting `pad_token_id` to `eos_token_id`:128001 for open-end generation.\n"
     ]
    },
    {
     "name": "stdout",
     "output_type": "stream",
     "text": [
      "logits is [[0.18218474 0.31478703 0.5030282 ]]\n",
      "logits is [[0.6389078  0.2140073  0.14708492]]\n"
     ]
    },
    {
     "name": "stderr",
     "output_type": "stream",
     "text": [
      " 51%|█████     | 1472/2874 [03:42<03:08,  7.43it/s]Setting `pad_token_id` to `eos_token_id`:128001 for open-end generation.\n",
      " 51%|█████▏    | 1473/2874 [03:42<03:05,  7.55it/s]Setting `pad_token_id` to `eos_token_id`:128001 for open-end generation.\n"
     ]
    },
    {
     "name": "stdout",
     "output_type": "stream",
     "text": [
      "logits is [[0.20751072 0.53824186 0.25424746]]\n",
      "logits is [[0.31358114 0.3964037  0.29001516]]\n"
     ]
    },
    {
     "name": "stderr",
     "output_type": "stream",
     "text": [
      " 51%|█████▏    | 1474/2874 [03:42<03:02,  7.65it/s]Setting `pad_token_id` to `eos_token_id`:128001 for open-end generation.\n",
      " 51%|█████▏    | 1475/2874 [03:42<03:04,  7.58it/s]Setting `pad_token_id` to `eos_token_id`:128001 for open-end generation.\n"
     ]
    },
    {
     "name": "stdout",
     "output_type": "stream",
     "text": [
      "logits is [[0.4504073  0.181981   0.36761174]]\n",
      "logits is [[0.2693133  0.35678217 0.3739045 ]]\n"
     ]
    },
    {
     "name": "stderr",
     "output_type": "stream",
     "text": [
      " 51%|█████▏    | 1476/2874 [03:42<03:02,  7.64it/s]Setting `pad_token_id` to `eos_token_id`:128001 for open-end generation.\n",
      " 51%|█████▏    | 1477/2874 [03:42<03:25,  6.81it/s]Setting `pad_token_id` to `eos_token_id`:128001 for open-end generation.\n"
     ]
    },
    {
     "name": "stdout",
     "output_type": "stream",
     "text": [
      "logits is [[0.31499743 0.39819407 0.28680846]]\n",
      "logits is [[0.20745525 0.58182263 0.2107222 ]]\n"
     ]
    },
    {
     "name": "stderr",
     "output_type": "stream",
     "text": [
      " 51%|█████▏    | 1478/2874 [03:42<03:26,  6.76it/s]Setting `pad_token_id` to `eos_token_id`:128001 for open-end generation.\n",
      " 51%|█████▏    | 1479/2874 [03:43<03:15,  7.13it/s]Setting `pad_token_id` to `eos_token_id`:128001 for open-end generation.\n"
     ]
    },
    {
     "name": "stdout",
     "output_type": "stream",
     "text": [
      "logits is [[0.73554975 0.04702212 0.21742809]]\n",
      "logits is [[0.13907944 0.7174263  0.14349428]]\n"
     ]
    },
    {
     "name": "stderr",
     "output_type": "stream",
     "text": [
      " 51%|█████▏    | 1480/2874 [03:43<03:40,  6.32it/s]Setting `pad_token_id` to `eos_token_id`:128001 for open-end generation.\n",
      " 52%|█████▏    | 1481/2874 [03:43<03:21,  6.92it/s]Setting `pad_token_id` to `eos_token_id`:128001 for open-end generation.\n"
     ]
    },
    {
     "name": "stdout",
     "output_type": "stream",
     "text": [
      "logits is [[0.49779716 0.2140999  0.2881029 ]]\n",
      "logits is [[0.35948926 0.23947148 0.40103927]]\n"
     ]
    },
    {
     "name": "stderr",
     "output_type": "stream",
     "text": [
      " 52%|█████▏    | 1482/2874 [03:43<03:11,  7.28it/s]Setting `pad_token_id` to `eos_token_id`:128001 for open-end generation.\n",
      " 52%|█████▏    | 1483/2874 [03:43<03:03,  7.57it/s]Setting `pad_token_id` to `eos_token_id`:128001 for open-end generation.\n"
     ]
    },
    {
     "name": "stdout",
     "output_type": "stream",
     "text": [
      "logits is [[0.32813877 0.3333062  0.338555  ]]\n",
      "logits is [[0.8302059  0.03426669 0.13552739]]\n"
     ]
    },
    {
     "name": "stderr",
     "output_type": "stream",
     "text": [
      " 52%|█████▏    | 1484/2874 [03:43<02:57,  7.85it/s]Setting `pad_token_id` to `eos_token_id`:128001 for open-end generation.\n",
      " 52%|█████▏    | 1485/2874 [03:43<02:53,  8.01it/s]Setting `pad_token_id` to `eos_token_id`:128001 for open-end generation.\n"
     ]
    },
    {
     "name": "stdout",
     "output_type": "stream",
     "text": [
      "logits is [[0.12112407 0.14840433 0.7304717 ]]\n",
      "logits is [[0.25656378 0.25656378 0.48687246]]\n"
     ]
    },
    {
     "name": "stderr",
     "output_type": "stream",
     "text": [
      " 52%|█████▏    | 1486/2874 [03:44<03:09,  7.32it/s]Setting `pad_token_id` to `eos_token_id`:128001 for open-end generation.\n",
      " 52%|█████▏    | 1487/2874 [03:44<03:11,  7.24it/s]Setting `pad_token_id` to `eos_token_id`:128001 for open-end generation.\n"
     ]
    },
    {
     "name": "stdout",
     "output_type": "stream",
     "text": [
      "logits is [[0.130925   0.5018868  0.36718825]]\n",
      "logits is [[0.87327117 0.02720759 0.09952125]]\n"
     ]
    },
    {
     "name": "stderr",
     "output_type": "stream",
     "text": [
      " 52%|█████▏    | 1488/2874 [03:44<03:08,  7.34it/s]Setting `pad_token_id` to `eos_token_id`:128001 for open-end generation.\n",
      " 52%|█████▏    | 1489/2874 [03:44<03:23,  6.81it/s]Setting `pad_token_id` to `eos_token_id`:128001 for open-end generation.\n"
     ]
    },
    {
     "name": "stdout",
     "output_type": "stream",
     "text": [
      "logits is [[0.68092495 0.16949563 0.14957936]]\n",
      "logits is [[0.51732147 0.20577626 0.27690223]]\n"
     ]
    },
    {
     "name": "stderr",
     "output_type": "stream",
     "text": [
      " 52%|█████▏    | 1490/2874 [03:44<03:31,  6.53it/s]Setting `pad_token_id` to `eos_token_id`:128001 for open-end generation.\n",
      " 52%|█████▏    | 1491/2874 [03:44<03:29,  6.61it/s]Setting `pad_token_id` to `eos_token_id`:128001 for open-end generation.\n"
     ]
    },
    {
     "name": "stdout",
     "output_type": "stream",
     "text": [
      "logits is [[0.32942578 0.409977   0.26059723]]\n",
      "logits is [[0.15710174 0.6213494  0.22154894]]\n"
     ]
    },
    {
     "name": "stderr",
     "output_type": "stream",
     "text": [
      " 52%|█████▏    | 1492/2874 [03:44<03:15,  7.07it/s]Setting `pad_token_id` to `eos_token_id`:128001 for open-end generation.\n",
      " 52%|█████▏    | 1493/2874 [03:45<03:32,  6.50it/s]Setting `pad_token_id` to `eos_token_id`:128001 for open-end generation.\n"
     ]
    },
    {
     "name": "stdout",
     "output_type": "stream",
     "text": [
      "logits is [[0.08080485 0.80344754 0.1157476 ]]\n",
      "logits is [[0.25010657 0.45288447 0.2970089 ]]\n"
     ]
    },
    {
     "name": "stderr",
     "output_type": "stream",
     "text": [
      " 52%|█████▏    | 1494/2874 [03:45<03:22,  6.83it/s]Setting `pad_token_id` to `eos_token_id`:128001 for open-end generation.\n",
      " 52%|█████▏    | 1495/2874 [03:45<03:07,  7.34it/s]Setting `pad_token_id` to `eos_token_id`:128001 for open-end generation.\n"
     ]
    },
    {
     "name": "stdout",
     "output_type": "stream",
     "text": [
      "logits is [[0.53745836 0.22404598 0.23849571]]\n",
      "logits is [[0.22952557 0.23681149 0.5336629 ]]\n"
     ]
    },
    {
     "name": "stderr",
     "output_type": "stream",
     "text": [
      " 52%|█████▏    | 1496/2874 [03:45<03:24,  6.74it/s]Setting `pad_token_id` to `eos_token_id`:128001 for open-end generation.\n",
      " 52%|█████▏    | 1497/2874 [03:45<03:16,  7.01it/s]Setting `pad_token_id` to `eos_token_id`:128001 for open-end generation.\n"
     ]
    },
    {
     "name": "stdout",
     "output_type": "stream",
     "text": [
      "logits is [[0.51616573 0.21183398 0.27200025]]\n",
      "logits is [[0.06008741 0.81662124 0.12329137]]\n"
     ]
    },
    {
     "name": "stderr",
     "output_type": "stream",
     "text": [
      " 52%|█████▏    | 1498/2874 [03:45<03:08,  7.28it/s]Setting `pad_token_id` to `eos_token_id`:128001 for open-end generation.\n",
      " 52%|█████▏    | 1499/2874 [03:45<03:14,  7.06it/s]Setting `pad_token_id` to `eos_token_id`:128001 for open-end generation.\n"
     ]
    },
    {
     "name": "stdout",
     "output_type": "stream",
     "text": [
      "logits is [[0.56528556 0.23935696 0.19535747]]\n",
      "logits is [[0.02796192 0.8300357  0.14200236]]\n"
     ]
    },
    {
     "name": "stderr",
     "output_type": "stream",
     "text": [
      " 52%|█████▏    | 1500/2874 [03:46<03:08,  7.30it/s]Setting `pad_token_id` to `eos_token_id`:128001 for open-end generation.\n",
      " 52%|█████▏    | 1501/2874 [03:46<03:06,  7.38it/s]Setting `pad_token_id` to `eos_token_id`:128001 for open-end generation.\n"
     ]
    },
    {
     "name": "stdout",
     "output_type": "stream",
     "text": [
      "logits is [[0.29284045 0.40026543 0.30689415]]\n",
      "logits is [[0.11837941 0.61064744 0.27097315]]\n"
     ]
    },
    {
     "name": "stderr",
     "output_type": "stream",
     "text": [
      " 52%|█████▏    | 1502/2874 [03:46<03:01,  7.56it/s]Setting `pad_token_id` to `eos_token_id`:128001 for open-end generation.\n",
      " 52%|█████▏    | 1503/2874 [03:46<03:01,  7.54it/s]Setting `pad_token_id` to `eos_token_id`:128001 for open-end generation.\n"
     ]
    },
    {
     "name": "stdout",
     "output_type": "stream",
     "text": [
      "logits is [[0.10896083 0.667466   0.2235731 ]]\n",
      "logits is [[0.8462838  0.02987747 0.12383869]]\n"
     ]
    },
    {
     "name": "stderr",
     "output_type": "stream",
     "text": [
      " 52%|█████▏    | 1504/2874 [03:46<03:35,  6.37it/s]Setting `pad_token_id` to `eos_token_id`:128001 for open-end generation.\n",
      " 52%|█████▏    | 1505/2874 [03:46<03:18,  6.90it/s]Setting `pad_token_id` to `eos_token_id`:128001 for open-end generation.\n"
     ]
    },
    {
     "name": "stdout",
     "output_type": "stream",
     "text": [
      "logits is [[0.2997538  0.40971482 0.2905313 ]]\n",
      "logits is [[0.34206277 0.32639858 0.3315386 ]]\n"
     ]
    },
    {
     "name": "stderr",
     "output_type": "stream",
     "text": [
      " 52%|█████▏    | 1506/2874 [03:46<03:58,  5.73it/s]Setting `pad_token_id` to `eos_token_id`:128001 for open-end generation.\n"
     ]
    },
    {
     "name": "stdout",
     "output_type": "stream",
     "text": [
      "logits is [[0.18538584 0.5448793  0.26973483]]\n"
     ]
    },
    {
     "name": "stderr",
     "output_type": "stream",
     "text": [
      " 52%|█████▏    | 1507/2874 [03:47<04:16,  5.33it/s]Setting `pad_token_id` to `eos_token_id`:128001 for open-end generation.\n",
      " 52%|█████▏    | 1508/2874 [03:47<03:47,  5.99it/s]Setting `pad_token_id` to `eos_token_id`:128001 for open-end generation.\n"
     ]
    },
    {
     "name": "stdout",
     "output_type": "stream",
     "text": [
      "logits is [[0.42303798 0.2526075  0.32435447]]\n",
      "logits is [[0.33143046 0.34733614 0.32123342]]\n"
     ]
    },
    {
     "name": "stderr",
     "output_type": "stream",
     "text": [
      " 53%|█████▎    | 1509/2874 [03:47<03:41,  6.16it/s]Setting `pad_token_id` to `eos_token_id`:128001 for open-end generation.\n",
      " 53%|█████▎    | 1510/2874 [03:47<03:29,  6.52it/s]Setting `pad_token_id` to `eos_token_id`:128001 for open-end generation.\n"
     ]
    },
    {
     "name": "stdout",
     "output_type": "stream",
     "text": [
      "logits is [[0.27985954 0.44028085 0.27985954]]\n",
      "logits is [[0.55546045 0.19805552 0.24648409]]\n"
     ]
    },
    {
     "name": "stderr",
     "output_type": "stream",
     "text": [
      " 53%|█████▎    | 1511/2874 [03:47<03:40,  6.20it/s]Setting `pad_token_id` to `eos_token_id`:128001 for open-end generation.\n"
     ]
    },
    {
     "name": "stdout",
     "output_type": "stream",
     "text": [
      "logits is [[0.7295619  0.14365926 0.12677886]]\n"
     ]
    },
    {
     "name": "stderr",
     "output_type": "stream",
     "text": [
      " 53%|█████▎    | 1512/2874 [03:48<04:02,  5.61it/s]Setting `pad_token_id` to `eos_token_id`:128001 for open-end generation.\n",
      " 53%|█████▎    | 1513/2874 [03:48<03:40,  6.18it/s]Setting `pad_token_id` to `eos_token_id`:128001 for open-end generation.\n"
     ]
    },
    {
     "name": "stdout",
     "output_type": "stream",
     "text": [
      "logits is [[0.31407696 0.39087507 0.29504797]]\n",
      "logits is [[0.5390137  0.19829206 0.2626943 ]]\n"
     ]
    },
    {
     "name": "stderr",
     "output_type": "stream",
     "text": [
      " 53%|█████▎    | 1514/2874 [03:48<03:56,  5.76it/s]Setting `pad_token_id` to `eos_token_id`:128001 for open-end generation.\n",
      " 53%|█████▎    | 1515/2874 [03:48<03:30,  6.46it/s]Setting `pad_token_id` to `eos_token_id`:128001 for open-end generation.\n"
     ]
    },
    {
     "name": "stdout",
     "output_type": "stream",
     "text": [
      "logits is [[0.19752249 0.57155025 0.23092717]]\n",
      "logits is [[0.6282278  0.16134223 0.21042995]]\n"
     ]
    },
    {
     "name": "stderr",
     "output_type": "stream",
     "text": [
      " 53%|█████▎    | 1516/2874 [03:48<03:15,  6.94it/s]Setting `pad_token_id` to `eos_token_id`:128001 for open-end generation.\n",
      " 53%|█████▎    | 1517/2874 [03:48<03:31,  6.42it/s]Setting `pad_token_id` to `eos_token_id`:128001 for open-end generation.\n"
     ]
    },
    {
     "name": "stdout",
     "output_type": "stream",
     "text": [
      "logits is [[0.1965023  0.6966612  0.10683645]]\n",
      "logits is [[0.47661024 0.2982551  0.22513473]]\n"
     ]
    },
    {
     "name": "stderr",
     "output_type": "stream",
     "text": [
      " 53%|█████▎    | 1518/2874 [03:48<03:18,  6.82it/s]Setting `pad_token_id` to `eos_token_id`:128001 for open-end generation.\n",
      " 53%|█████▎    | 1519/2874 [03:49<03:32,  6.37it/s]Setting `pad_token_id` to `eos_token_id`:128001 for open-end generation.\n"
     ]
    },
    {
     "name": "stdout",
     "output_type": "stream",
     "text": [
      "logits is [[0.183951 0.632098 0.183951]]\n",
      "logits is [[0.08289073 0.762249   0.15486027]]\n"
     ]
    },
    {
     "name": "stderr",
     "output_type": "stream",
     "text": [
      " 53%|█████▎    | 1520/2874 [03:49<03:36,  6.27it/s]Setting `pad_token_id` to `eos_token_id`:128001 for open-end generation.\n",
      " 53%|█████▎    | 1521/2874 [03:49<03:15,  6.92it/s]Setting `pad_token_id` to `eos_token_id`:128001 for open-end generation.\n"
     ]
    },
    {
     "name": "stdout",
     "output_type": "stream",
     "text": [
      "logits is [[0.28728986 0.5121496  0.20056064]]\n",
      "logits is [[0.2841789 0.4910171 0.224804 ]]\n"
     ]
    },
    {
     "name": "stderr",
     "output_type": "stream",
     "text": [
      " 53%|█████▎    | 1522/2874 [03:49<04:00,  5.63it/s]Setting `pad_token_id` to `eos_token_id`:128001 for open-end generation.\n",
      " 53%|█████▎    | 1523/2874 [03:49<03:32,  6.35it/s]Setting `pad_token_id` to `eos_token_id`:128001 for open-end generation.\n"
     ]
    },
    {
     "name": "stdout",
     "output_type": "stream",
     "text": [
      "logits is [[0.39750233 0.14853577 0.4539619 ]]\n",
      "logits is [[0.33112898 0.17178747 0.4970835 ]]\n"
     ]
    },
    {
     "name": "stderr",
     "output_type": "stream",
     "text": [
      " 53%|█████▎    | 1524/2874 [03:49<03:17,  6.85it/s]Setting `pad_token_id` to `eos_token_id`:128001 for open-end generation.\n",
      " 53%|█████▎    | 1525/2874 [03:49<03:17,  6.84it/s]Setting `pad_token_id` to `eos_token_id`:128001 for open-end generation.\n"
     ]
    },
    {
     "name": "stdout",
     "output_type": "stream",
     "text": [
      "logits is [[0.33235893 0.30261624 0.36502486]]\n",
      "logits is [[0.10970709 0.77351034 0.11678259]]\n"
     ]
    },
    {
     "name": "stderr",
     "output_type": "stream",
     "text": [
      " 53%|█████▎    | 1526/2874 [03:50<03:07,  7.19it/s]Setting `pad_token_id` to `eos_token_id`:128001 for open-end generation.\n",
      " 53%|█████▎    | 1527/2874 [03:50<02:56,  7.64it/s]Setting `pad_token_id` to `eos_token_id`:128001 for open-end generation.\n"
     ]
    },
    {
     "name": "stdout",
     "output_type": "stream",
     "text": [
      "logits is [[0.344045   0.4629632  0.19299176]]\n",
      "logits is [[0.25080663 0.17509125 0.5741021 ]]\n"
     ]
    },
    {
     "name": "stderr",
     "output_type": "stream",
     "text": [
      " 53%|█████▎    | 1528/2874 [03:50<03:00,  7.46it/s]Setting `pad_token_id` to `eos_token_id`:128001 for open-end generation.\n",
      " 53%|█████▎    | 1529/2874 [03:50<03:14,  6.93it/s]Setting `pad_token_id` to `eos_token_id`:128001 for open-end generation.\n"
     ]
    },
    {
     "name": "stdout",
     "output_type": "stream",
     "text": [
      "logits is [[0.2974063  0.3266369  0.37595677]]\n",
      "logits is [[0.47407696 0.28754222 0.23838086]]\n"
     ]
    },
    {
     "name": "stderr",
     "output_type": "stream",
     "text": [
      " 53%|█████▎    | 1530/2874 [03:50<03:55,  5.70it/s]Setting `pad_token_id` to `eos_token_id`:128001 for open-end generation.\n",
      " 53%|█████▎    | 1531/2874 [03:50<03:31,  6.34it/s]Setting `pad_token_id` to `eos_token_id`:128001 for open-end generation.\n"
     ]
    },
    {
     "name": "stdout",
     "output_type": "stream",
     "text": [
      "logits is [[0.38532242 0.36197692 0.25270063]]\n",
      "logits is [[0.38951033 0.41463158 0.19585808]]\n"
     ]
    },
    {
     "name": "stderr",
     "output_type": "stream",
     "text": [
      " 53%|█████▎    | 1532/2874 [03:50<03:11,  7.00it/s]Setting `pad_token_id` to `eos_token_id`:128001 for open-end generation.\n",
      " 53%|█████▎    | 1533/2874 [03:51<03:10,  7.05it/s]Setting `pad_token_id` to `eos_token_id`:128001 for open-end generation.\n"
     ]
    },
    {
     "name": "stdout",
     "output_type": "stream",
     "text": [
      "logits is [[0.37702852 0.26320833 0.35976312]]\n",
      "logits is [[0.34206277 0.3315386  0.32639858]]\n"
     ]
    },
    {
     "name": "stderr",
     "output_type": "stream",
     "text": [
      " 53%|█████▎    | 1534/2874 [03:51<03:44,  5.96it/s]Setting `pad_token_id` to `eos_token_id`:128001 for open-end generation.\n",
      " 53%|█████▎    | 1535/2874 [03:51<03:21,  6.64it/s]Setting `pad_token_id` to `eos_token_id`:128001 for open-end generation.\n"
     ]
    },
    {
     "name": "stdout",
     "output_type": "stream",
     "text": [
      "logits is [[0.30490988 0.23015805 0.46493205]]\n",
      "logits is [[0.2011224  0.4824676  0.31640998]]\n"
     ]
    },
    {
     "name": "stderr",
     "output_type": "stream",
     "text": [
      " 53%|█████▎    | 1536/2874 [03:51<03:03,  7.29it/s]Setting `pad_token_id` to `eos_token_id`:128001 for open-end generation.\n",
      " 53%|█████▎    | 1537/2874 [03:51<02:51,  7.78it/s]Setting `pad_token_id` to `eos_token_id`:128001 for open-end generation.\n"
     ]
    },
    {
     "name": "stdout",
     "output_type": "stream",
     "text": [
      "logits is [[0.3273329  0.3075008  0.36516625]]\n",
      "logits is [[0.14241861 0.18867399 0.6689074 ]]\n"
     ]
    },
    {
     "name": "stderr",
     "output_type": "stream",
     "text": [
      " 54%|█████▎    | 1538/2874 [03:51<02:43,  8.17it/s]Setting `pad_token_id` to `eos_token_id`:128001 for open-end generation.\n",
      " 54%|█████▎    | 1539/2874 [03:51<02:45,  8.05it/s]Setting `pad_token_id` to `eos_token_id`:128001 for open-end generation.\n"
     ]
    },
    {
     "name": "stdout",
     "output_type": "stream",
     "text": [
      "logits is [[0.13292882 0.13714842 0.7299228 ]]\n",
      "logits is [[0.7276555  0.1675158  0.10482872]]\n"
     ]
    },
    {
     "name": "stderr",
     "output_type": "stream",
     "text": [
      " 54%|█████▎    | 1540/2874 [03:52<03:37,  6.13it/s]Setting `pad_token_id` to `eos_token_id`:128001 for open-end generation.\n",
      " 54%|█████▎    | 1541/2874 [03:52<03:45,  5.91it/s]Setting `pad_token_id` to `eos_token_id`:128001 for open-end generation.\n"
     ]
    },
    {
     "name": "stdout",
     "output_type": "stream",
     "text": [
      "logits is [[0.57578665 0.12549923 0.2987142 ]]\n",
      "logits is [[0.50560945 0.2836212  0.21076937]]\n"
     ]
    },
    {
     "name": "stderr",
     "output_type": "stream",
     "text": [
      " 54%|█████▎    | 1542/2874 [03:52<03:48,  5.82it/s]Setting `pad_token_id` to `eos_token_id`:128001 for open-end generation.\n",
      " 54%|█████▎    | 1543/2874 [03:52<03:26,  6.44it/s]Setting `pad_token_id` to `eos_token_id`:128001 for open-end generation.\n"
     ]
    },
    {
     "name": "stdout",
     "output_type": "stream",
     "text": [
      "logits is [[0.32255968 0.41417482 0.26326552]]\n",
      "logits is [[0.43232527 0.29713252 0.27054226]]\n"
     ]
    },
    {
     "name": "stderr",
     "output_type": "stream",
     "text": [
      " 54%|█████▎    | 1544/2874 [03:52<03:11,  6.95it/s]Setting `pad_token_id` to `eos_token_id`:128001 for open-end generation.\n",
      " 54%|█████▍    | 1545/2874 [03:52<03:33,  6.22it/s]"
     ]
    },
    {
     "name": "stdout",
     "output_type": "stream",
     "text": [
      "logits is [[0.4439544  0.18219852 0.3738471 ]]\n",
      "logits is [[0.2918274  0.47368264 0.2344899 ]]\n"
     ]
    },
    {
     "name": "stderr",
     "output_type": "stream",
     "text": [
      "Setting `pad_token_id` to `eos_token_id`:128001 for open-end generation.\n",
      " 54%|█████▍    | 1546/2874 [03:53<03:11,  6.93it/s]Setting `pad_token_id` to `eos_token_id`:128001 for open-end generation.\n",
      " 54%|█████▍    | 1547/2874 [03:53<03:09,  7.02it/s]Setting `pad_token_id` to `eos_token_id`:128001 for open-end generation.\n"
     ]
    },
    {
     "name": "stdout",
     "output_type": "stream",
     "text": [
      "logits is [[0.33159274 0.33681458 0.33159274]]\n",
      "logits is [[0.19175245 0.48206562 0.32618192]]\n"
     ]
    },
    {
     "name": "stderr",
     "output_type": "stream",
     "text": [
      " 54%|█████▍    | 1548/2874 [03:53<03:37,  6.09it/s]Setting `pad_token_id` to `eos_token_id`:128001 for open-end generation.\n",
      " 54%|█████▍    | 1549/2874 [03:53<03:15,  6.78it/s]Setting `pad_token_id` to `eos_token_id`:128001 for open-end generation.\n"
     ]
    },
    {
     "name": "stdout",
     "output_type": "stream",
     "text": [
      "logits is [[0.7293227  0.1153956  0.15528177]]\n",
      "logits is [[0.4348209  0.15027009 0.41490898]]\n"
     ]
    },
    {
     "name": "stderr",
     "output_type": "stream",
     "text": [
      " 54%|█████▍    | 1550/2874 [03:53<03:19,  6.64it/s]Setting `pad_token_id` to `eos_token_id`:128001 for open-end generation.\n",
      " 54%|█████▍    | 1551/2874 [03:53<03:21,  6.56it/s]Setting `pad_token_id` to `eos_token_id`:128001 for open-end generation.\n"
     ]
    },
    {
     "name": "stdout",
     "output_type": "stream",
     "text": [
      "logits is [[0.8728364  0.03659359 0.09057001]]\n",
      "logits is [[0.22745821 0.60870975 0.16383201]]\n"
     ]
    },
    {
     "name": "stderr",
     "output_type": "stream",
     "text": [
      " 54%|█████▍    | 1552/2874 [03:53<03:07,  7.05it/s]Setting `pad_token_id` to `eos_token_id`:128001 for open-end generation.\n",
      " 54%|█████▍    | 1553/2874 [03:54<02:54,  7.58it/s]Setting `pad_token_id` to `eos_token_id`:128001 for open-end generation.\n"
     ]
    },
    {
     "name": "stdout",
     "output_type": "stream",
     "text": [
      "logits is [[0.1362023  0.77163863 0.09215909]]\n",
      "logits is [[0.59214026 0.23553713 0.17232263]]\n"
     ]
    },
    {
     "name": "stderr",
     "output_type": "stream",
     "text": [
      " 54%|█████▍    | 1554/2874 [03:54<02:47,  7.90it/s]Setting `pad_token_id` to `eos_token_id`:128001 for open-end generation.\n",
      " 54%|█████▍    | 1555/2874 [03:54<02:53,  7.61it/s]Setting `pad_token_id` to `eos_token_id`:128001 for open-end generation.\n"
     ]
    },
    {
     "name": "stdout",
     "output_type": "stream",
     "text": [
      "logits is [[0.23514679 0.4062972  0.35855603]]\n",
      "logits is [[0.62576765 0.20315701 0.17107534]]\n"
     ]
    },
    {
     "name": "stderr",
     "output_type": "stream",
     "text": [
      " 54%|█████▍    | 1556/2874 [03:54<02:51,  7.68it/s]Setting `pad_token_id` to `eos_token_id`:128001 for open-end generation.\n",
      " 54%|█████▍    | 1557/2874 [03:54<02:46,  7.93it/s]Setting `pad_token_id` to `eos_token_id`:128001 for open-end generation.\n"
     ]
    },
    {
     "name": "stdout",
     "output_type": "stream",
     "text": [
      "logits is [[0.7651044  0.13295521 0.1019403 ]]\n",
      "logits is [[0.75477403 0.06595141 0.17927454]]\n"
     ]
    },
    {
     "name": "stderr",
     "output_type": "stream",
     "text": [
      " 54%|█████▍    | 1558/2874 [03:54<02:47,  7.84it/s]Setting `pad_token_id` to `eos_token_id`:128001 for open-end generation.\n",
      " 54%|█████▍    | 1559/2874 [03:54<02:39,  8.24it/s]Setting `pad_token_id` to `eos_token_id`:128001 for open-end generation.\n"
     ]
    },
    {
     "name": "stdout",
     "output_type": "stream",
     "text": [
      "logits is [[0.26544988 0.4732156  0.26133448]]\n",
      "logits is [[0.37726736 0.37141836 0.25131422]]\n"
     ]
    },
    {
     "name": "stderr",
     "output_type": "stream",
     "text": [
      " 54%|█████▍    | 1560/2874 [03:55<03:31,  6.22it/s]Setting `pad_token_id` to `eos_token_id`:128001 for open-end generation.\n",
      " 54%|█████▍    | 1561/2874 [03:55<03:15,  6.73it/s]Setting `pad_token_id` to `eos_token_id`:128001 for open-end generation.\n"
     ]
    },
    {
     "name": "stdout",
     "output_type": "stream",
     "text": [
      "logits is [[0.29209608 0.25328228 0.45462167]]\n",
      "logits is [[0.7354763  0.04021614 0.22430761]]\n"
     ]
    },
    {
     "name": "stderr",
     "output_type": "stream",
     "text": [
      " 54%|█████▍    | 1562/2874 [03:55<03:06,  7.05it/s]Setting `pad_token_id` to `eos_token_id`:128001 for open-end generation.\n",
      " 54%|█████▍    | 1563/2874 [03:55<03:03,  7.14it/s]Setting `pad_token_id` to `eos_token_id`:128001 for open-end generation.\n"
     ]
    },
    {
     "name": "stdout",
     "output_type": "stream",
     "text": [
      "logits is [[0.75373703 0.08325586 0.16300707]]\n",
      "logits is [[0.7039761  0.13647199 0.15955192]]\n"
     ]
    },
    {
     "name": "stderr",
     "output_type": "stream",
     "text": [
      " 54%|█████▍    | 1564/2874 [03:55<03:19,  6.55it/s]Setting `pad_token_id` to `eos_token_id`:128001 for open-end generation.\n",
      " 54%|█████▍    | 1565/2874 [03:55<03:37,  6.03it/s]"
     ]
    },
    {
     "name": "stdout",
     "output_type": "stream",
     "text": [
      "logits is [[0.14932573 0.70134854 0.14932573]]\n",
      "logits is [[0.24364583 0.27180657 0.4845476 ]]\n"
     ]
    },
    {
     "name": "stderr",
     "output_type": "stream",
     "text": [
      "Setting `pad_token_id` to `eos_token_id`:128001 for open-end generation.\n",
      " 54%|█████▍    | 1566/2874 [03:55<03:18,  6.60it/s]Setting `pad_token_id` to `eos_token_id`:128001 for open-end generation.\n",
      " 55%|█████▍    | 1567/2874 [03:56<03:08,  6.92it/s]Setting `pad_token_id` to `eos_token_id`:128001 for open-end generation.\n"
     ]
    },
    {
     "name": "stdout",
     "output_type": "stream",
     "text": [
      "logits is [[0.2106194 0.3639177 0.4254629]]\n",
      "logits is [[0.36037743 0.18406278 0.45555976]]\n"
     ]
    },
    {
     "name": "stderr",
     "output_type": "stream",
     "text": [
      " 55%|█████▍    | 1568/2874 [03:56<03:13,  6.74it/s]Setting `pad_token_id` to `eos_token_id`:128001 for open-end generation.\n",
      " 55%|█████▍    | 1569/2874 [03:56<03:01,  7.19it/s]Setting `pad_token_id` to `eos_token_id`:128001 for open-end generation.\n"
     ]
    },
    {
     "name": "stdout",
     "output_type": "stream",
     "text": [
      "logits is [[0.3489637  0.3382272  0.31280905]]\n",
      "logits is [[0.2737588  0.4957131  0.23052801]]\n"
     ]
    },
    {
     "name": "stderr",
     "output_type": "stream",
     "text": [
      " 55%|█████▍    | 1570/2874 [03:56<03:24,  6.36it/s]Setting `pad_token_id` to `eos_token_id`:128001 for open-end generation.\n",
      " 55%|█████▍    | 1571/2874 [03:56<03:13,  6.74it/s]Setting `pad_token_id` to `eos_token_id`:128001 for open-end generation.\n"
     ]
    },
    {
     "name": "stdout",
     "output_type": "stream",
     "text": [
      "logits is [[0.383576   0.30821198 0.30821198]]\n",
      "logits is [[0.83238417 0.04769941 0.11991631]]\n"
     ]
    },
    {
     "name": "stderr",
     "output_type": "stream",
     "text": [
      " 55%|█████▍    | 1572/2874 [03:56<02:59,  7.27it/s]Setting `pad_token_id` to `eos_token_id`:128001 for open-end generation.\n",
      " 55%|█████▍    | 1573/2874 [03:56<03:17,  6.60it/s]Setting `pad_token_id` to `eos_token_id`:128001 for open-end generation.\n"
     ]
    },
    {
     "name": "stdout",
     "output_type": "stream",
     "text": [
      "logits is [[0.8282721  0.05052492 0.12120299]]\n",
      "logits is [[0.27690223 0.51732147 0.20577626]]\n"
     ]
    },
    {
     "name": "stderr",
     "output_type": "stream",
     "text": [
      " 55%|█████▍    | 1574/2874 [03:57<03:07,  6.92it/s]Setting `pad_token_id` to `eos_token_id`:128001 for open-end generation.\n",
      " 55%|█████▍    | 1575/2874 [03:57<02:52,  7.53it/s]Setting `pad_token_id` to `eos_token_id`:128001 for open-end generation.\n"
     ]
    },
    {
     "name": "stdout",
     "output_type": "stream",
     "text": [
      "logits is [[0.09259001 0.3662006  0.5412094 ]]\n",
      "logits is [[0.34525687 0.30948624 0.34525687]]\n"
     ]
    },
    {
     "name": "stderr",
     "output_type": "stream",
     "text": [
      " 55%|█████▍    | 1576/2874 [03:57<03:08,  6.87it/s]Setting `pad_token_id` to `eos_token_id`:128001 for open-end generation.\n",
      " 55%|█████▍    | 1577/2874 [03:57<02:59,  7.23it/s]Setting `pad_token_id` to `eos_token_id`:128001 for open-end generation.\n"
     ]
    },
    {
     "name": "stdout",
     "output_type": "stream",
     "text": [
      "logits is [[0.05790747 0.05031088 0.8917816 ]]\n",
      "logits is [[0.6588369  0.13385084 0.20731223]]\n"
     ]
    },
    {
     "name": "stderr",
     "output_type": "stream",
     "text": [
      " 55%|█████▍    | 1578/2874 [03:57<02:49,  7.66it/s]Setting `pad_token_id` to `eos_token_id`:128001 for open-end generation.\n"
     ]
    },
    {
     "name": "stdout",
     "output_type": "stream",
     "text": [
      "logits is [[0.5502077  0.27666178 0.17313051]]\n"
     ]
    },
    {
     "name": "stderr",
     "output_type": "stream",
     "text": [
      " 55%|█████▍    | 1579/2874 [03:57<03:35,  6.01it/s]Setting `pad_token_id` to `eos_token_id`:128001 for open-end generation.\n",
      " 55%|█████▍    | 1580/2874 [03:58<03:41,  5.83it/s]"
     ]
    },
    {
     "name": "stdout",
     "output_type": "stream",
     "text": [
      "logits is [[0.38059142 0.2964049  0.32300374]]\n",
      "logits is [[0.6416464  0.15004157 0.20831208]]\n"
     ]
    },
    {
     "name": "stderr",
     "output_type": "stream",
     "text": [
      "Setting `pad_token_id` to `eos_token_id`:128001 for open-end generation.\n",
      " 55%|█████▌    | 1581/2874 [03:58<04:14,  5.09it/s]Setting `pad_token_id` to `eos_token_id`:128001 for open-end generation.\n",
      " 55%|█████▌    | 1582/2874 [03:58<04:13,  5.10it/s]"
     ]
    },
    {
     "name": "stdout",
     "output_type": "stream",
     "text": [
      "logits is [[0.72922283 0.08054809 0.19022915]]\n",
      "logits is [[0.88665056 0.01989714 0.09345228]]\n"
     ]
    },
    {
     "name": "stderr",
     "output_type": "stream",
     "text": [
      "Setting `pad_token_id` to `eos_token_id`:128001 for open-end generation.\n",
      " 55%|█████▌    | 1583/2874 [03:58<03:45,  5.73it/s]Setting `pad_token_id` to `eos_token_id`:128001 for open-end generation.\n"
     ]
    },
    {
     "name": "stdout",
     "output_type": "stream",
     "text": [
      "logits is [[0.604384   0.19317274 0.20244329]]\n"
     ]
    },
    {
     "name": "stderr",
     "output_type": "stream",
     "text": [
      " 55%|█████▌    | 1584/2874 [03:58<04:08,  5.18it/s]Setting `pad_token_id` to `eos_token_id`:128001 for open-end generation.\n",
      " 55%|█████▌    | 1585/2874 [03:58<03:41,  5.83it/s]Setting `pad_token_id` to `eos_token_id`:128001 for open-end generation.\n"
     ]
    },
    {
     "name": "stdout",
     "output_type": "stream",
     "text": [
      "logits is [[0.10231596 0.5115476  0.3861364 ]]\n",
      "logits is [[0.2726833  0.47115448 0.25616226]]\n"
     ]
    },
    {
     "name": "stderr",
     "output_type": "stream",
     "text": [
      " 55%|█████▌    | 1586/2874 [03:59<03:20,  6.41it/s]Setting `pad_token_id` to `eos_token_id`:128001 for open-end generation.\n",
      " 55%|█████▌    | 1587/2874 [03:59<03:17,  6.53it/s]Setting `pad_token_id` to `eos_token_id`:128001 for open-end generation.\n"
     ]
    },
    {
     "name": "stdout",
     "output_type": "stream",
     "text": [
      "logits is [[0.22339882 0.19714876 0.57945246]]\n",
      "logits is [[0.57802856 0.23722243 0.18474904]]\n"
     ]
    },
    {
     "name": "stderr",
     "output_type": "stream",
     "text": [
      " 55%|█████▌    | 1588/2874 [03:59<03:14,  6.61it/s]Setting `pad_token_id` to `eos_token_id`:128001 for open-end generation.\n",
      " 55%|█████▌    | 1589/2874 [03:59<03:18,  6.49it/s]Setting `pad_token_id` to `eos_token_id`:128001 for open-end generation.\n"
     ]
    },
    {
     "name": "stdout",
     "output_type": "stream",
     "text": [
      "logits is [[0.6015289  0.18061173 0.21785933]]\n",
      "logits is [[0.64472634 0.12895338 0.22632024]]\n"
     ]
    },
    {
     "name": "stderr",
     "output_type": "stream",
     "text": [
      " 55%|█████▌    | 1590/2874 [03:59<03:00,  7.11it/s]Setting `pad_token_id` to `eos_token_id`:128001 for open-end generation.\n",
      " 55%|█████▌    | 1591/2874 [03:59<03:17,  6.51it/s]Setting `pad_token_id` to `eos_token_id`:128001 for open-end generation.\n"
     ]
    },
    {
     "name": "stdout",
     "output_type": "stream",
     "text": [
      "logits is [[0.42164797 0.3663341  0.21201791]]\n",
      "logits is [[0.2682515 0.463497  0.2682515]]\n"
     ]
    },
    {
     "name": "stderr",
     "output_type": "stream",
     "text": [
      " 55%|█████▌    | 1592/2874 [04:00<03:46,  5.66it/s]Setting `pad_token_id` to `eos_token_id`:128001 for open-end generation.\n",
      " 55%|█████▌    | 1593/2874 [04:00<03:33,  5.99it/s]Setting `pad_token_id` to `eos_token_id`:128001 for open-end generation.\n"
     ]
    },
    {
     "name": "stdout",
     "output_type": "stream",
     "text": [
      "logits is [[0.35252187 0.3363787  0.31109944]]\n",
      "logits is [[0.5861669  0.24056241 0.17327061]]\n"
     ]
    },
    {
     "name": "stderr",
     "output_type": "stream",
     "text": [
      " 55%|█████▌    | 1594/2874 [04:00<04:05,  5.21it/s]Setting `pad_token_id` to `eos_token_id`:128001 for open-end generation.\n",
      " 55%|█████▌    | 1595/2874 [04:00<03:53,  5.49it/s]Setting `pad_token_id` to `eos_token_id`:128001 for open-end generation.\n"
     ]
    },
    {
     "name": "stdout",
     "output_type": "stream",
     "text": [
      "logits is [[0.24872646 0.49465162 0.25662187]]\n",
      "logits is [[0.37756947 0.35469368 0.26773685]]\n"
     ]
    },
    {
     "name": "stderr",
     "output_type": "stream",
     "text": [
      " 56%|█████▌    | 1596/2874 [04:00<03:31,  6.04it/s]Setting `pad_token_id` to `eos_token_id`:128001 for open-end generation.\n"
     ]
    },
    {
     "name": "stdout",
     "output_type": "stream",
     "text": [
      "logits is [[0.905198   0.02608287 0.06871921]]\n"
     ]
    },
    {
     "name": "stderr",
     "output_type": "stream",
     "text": [
      " 56%|█████▌    | 1597/2874 [04:01<04:08,  5.14it/s]Setting `pad_token_id` to `eos_token_id`:128001 for open-end generation.\n",
      " 56%|█████▌    | 1598/2874 [04:01<03:36,  5.89it/s]Setting `pad_token_id` to `eos_token_id`:128001 for open-end generation.\n"
     ]
    },
    {
     "name": "stdout",
     "output_type": "stream",
     "text": [
      "logits is [[0.29006997 0.30877787 0.4011522 ]]\n",
      "logits is [[0.5860739  0.22950982 0.18441632]]\n"
     ]
    },
    {
     "name": "stderr",
     "output_type": "stream",
     "text": [
      " 56%|█████▌    | 1599/2874 [04:01<04:10,  5.08it/s]Setting `pad_token_id` to `eos_token_id`:128001 for open-end generation.\n"
     ]
    },
    {
     "name": "stdout",
     "output_type": "stream",
     "text": [
      "logits is [[0.51126665 0.16056329 0.32817003]]\n"
     ]
    },
    {
     "name": "stderr",
     "output_type": "stream",
     "text": [
      " 56%|█████▌    | 1600/2874 [04:01<04:24,  4.82it/s]Setting `pad_token_id` to `eos_token_id`:128001 for open-end generation.\n",
      " 56%|█████▌    | 1601/2874 [04:01<03:48,  5.58it/s]Setting `pad_token_id` to `eos_token_id`:128001 for open-end generation.\n"
     ]
    },
    {
     "name": "stdout",
     "output_type": "stream",
     "text": [
      "logits is [[0.29359588 0.38895133 0.31745285]]\n",
      "logits is [[0.4415979  0.29880008 0.259602  ]]\n"
     ]
    },
    {
     "name": "stderr",
     "output_type": "stream",
     "text": [
      " 56%|█████▌    | 1602/2874 [04:01<03:32,  5.97it/s]Setting `pad_token_id` to `eos_token_id`:128001 for open-end generation.\n",
      " 56%|█████▌    | 1603/2874 [04:02<03:18,  6.40it/s]Setting `pad_token_id` to `eos_token_id`:128001 for open-end generation.\n"
     ]
    },
    {
     "name": "stdout",
     "output_type": "stream",
     "text": [
      "logits is [[0.5807658  0.149153   0.27008116]]\n",
      "logits is [[0.30854928 0.3780425  0.31340823]]\n"
     ]
    },
    {
     "name": "stderr",
     "output_type": "stream",
     "text": [
      " 56%|█████▌    | 1604/2874 [04:02<03:41,  5.74it/s]Setting `pad_token_id` to `eos_token_id`:128001 for open-end generation.\n",
      " 56%|█████▌    | 1605/2874 [04:02<03:19,  6.35it/s]Setting `pad_token_id` to `eos_token_id`:128001 for open-end generation.\n"
     ]
    },
    {
     "name": "stdout",
     "output_type": "stream",
     "text": [
      "logits is [[0.2176846  0.56463087 0.2176846 ]]\n",
      "logits is [[0.5304664  0.21100494 0.25852865]]\n"
     ]
    },
    {
     "name": "stderr",
     "output_type": "stream",
     "text": [
      " 56%|█████▌    | 1606/2874 [04:02<03:49,  5.53it/s]Setting `pad_token_id` to `eos_token_id`:128001 for open-end generation.\n",
      " 56%|█████▌    | 1607/2874 [04:02<03:29,  6.03it/s]Setting `pad_token_id` to `eos_token_id`:128001 for open-end generation.\n"
     ]
    },
    {
     "name": "stdout",
     "output_type": "stream",
     "text": [
      "logits is [[0.17039652 0.24408175 0.5855217 ]]\n",
      "logits is [[0.33771577 0.407363   0.25492126]]\n"
     ]
    },
    {
     "name": "stderr",
     "output_type": "stream",
     "text": [
      " 56%|█████▌    | 1608/2874 [04:02<03:09,  6.67it/s]Setting `pad_token_id` to `eos_token_id`:128001 for open-end generation.\n",
      " 56%|█████▌    | 1609/2874 [04:02<02:57,  7.12it/s]Setting `pad_token_id` to `eos_token_id`:128001 for open-end generation.\n"
     ]
    },
    {
     "name": "stdout",
     "output_type": "stream",
     "text": [
      "logits is [[0.6512857  0.16211782 0.18659648]]\n",
      "logits is [[0.521981   0.23527528 0.24274372]]\n"
     ]
    },
    {
     "name": "stderr",
     "output_type": "stream",
     "text": [
      " 56%|█████▌    | 1610/2874 [04:03<02:48,  7.51it/s]Setting `pad_token_id` to `eos_token_id`:128001 for open-end generation.\n",
      " 56%|█████▌    | 1611/2874 [04:03<02:59,  7.03it/s]Setting `pad_token_id` to `eos_token_id`:128001 for open-end generation.\n"
     ]
    },
    {
     "name": "stdout",
     "output_type": "stream",
     "text": [
      "logits is [[0.12964343 0.43857807 0.43177855]]\n",
      "logits is [[0.1386686  0.5072287  0.35410267]]\n"
     ]
    },
    {
     "name": "stderr",
     "output_type": "stream",
     "text": [
      " 56%|█████▌    | 1612/2874 [04:03<02:50,  7.40it/s]Setting `pad_token_id` to `eos_token_id`:128001 for open-end generation.\n",
      " 56%|█████▌    | 1613/2874 [04:03<03:00,  6.98it/s]Setting `pad_token_id` to `eos_token_id`:128001 for open-end generation.\n"
     ]
    },
    {
     "name": "stdout",
     "output_type": "stream",
     "text": [
      "logits is [[0.7419529  0.08723981 0.17080726]]\n",
      "logits is [[0.7545114  0.1417685  0.10372005]]\n"
     ]
    },
    {
     "name": "stderr",
     "output_type": "stream",
     "text": [
      " 56%|█████▌    | 1614/2874 [04:03<02:50,  7.39it/s]Setting `pad_token_id` to `eos_token_id`:128001 for open-end generation.\n",
      " 56%|█████▌    | 1615/2874 [04:03<02:41,  7.79it/s]Setting `pad_token_id` to `eos_token_id`:128001 for open-end generation.\n"
     ]
    },
    {
     "name": "stdout",
     "output_type": "stream",
     "text": [
      "logits is [[0.3286366 0.2810978 0.3902656]]\n",
      "logits is [[0.23790386 0.18240722 0.57968897]]\n"
     ]
    },
    {
     "name": "stderr",
     "output_type": "stream",
     "text": [
      " 56%|█████▌    | 1616/2874 [04:03<02:41,  7.77it/s]Setting `pad_token_id` to `eos_token_id`:128001 for open-end generation.\n",
      " 56%|█████▋    | 1617/2874 [04:04<02:55,  7.15it/s]Setting `pad_token_id` to `eos_token_id`:128001 for open-end generation.\n"
     ]
    },
    {
     "name": "stdout",
     "output_type": "stream",
     "text": [
      "logits is [[0.123466  0.5982991 0.2782349]]\n",
      "logits is [[0.09536003 0.51551145 0.38912845]]\n"
     ]
    },
    {
     "name": "stderr",
     "output_type": "stream",
     "text": [
      " 56%|█████▋    | 1618/2874 [04:04<02:45,  7.58it/s]Setting `pad_token_id` to `eos_token_id`:128001 for open-end generation.\n",
      " 56%|█████▋    | 1619/2874 [04:04<02:36,  8.03it/s]Setting `pad_token_id` to `eos_token_id`:128001 for open-end generation.\n"
     ]
    },
    {
     "name": "stdout",
     "output_type": "stream",
     "text": [
      "logits is [[0.21932241 0.5778376  0.20284007]]\n",
      "logits is [[0.1021985  0.73191696 0.16588455]]\n"
     ]
    },
    {
     "name": "stderr",
     "output_type": "stream",
     "text": [
      " 56%|█████▋    | 1620/2874 [04:04<02:30,  8.34it/s]Setting `pad_token_id` to `eos_token_id`:128001 for open-end generation.\n"
     ]
    },
    {
     "name": "stdout",
     "output_type": "stream",
     "text": [
      "logits is [[0.12766628 0.4971017  0.37523204]]\n"
     ]
    },
    {
     "name": "stderr",
     "output_type": "stream",
     "text": [
      " 56%|█████▋    | 1621/2874 [04:04<03:19,  6.29it/s]Setting `pad_token_id` to `eos_token_id`:128001 for open-end generation.\n",
      " 56%|█████▋    | 1622/2874 [04:04<03:14,  6.44it/s]Setting `pad_token_id` to `eos_token_id`:128001 for open-end generation.\n"
     ]
    },
    {
     "name": "stdout",
     "output_type": "stream",
     "text": [
      "logits is [[0.7191243  0.0545932  0.22628249]]\n",
      "logits is [[0.48018834 0.3100329  0.20977876]]\n"
     ]
    },
    {
     "name": "stderr",
     "output_type": "stream",
     "text": [
      " 56%|█████▋    | 1623/2874 [04:04<02:57,  7.04it/s]Setting `pad_token_id` to `eos_token_id`:128001 for open-end generation.\n"
     ]
    },
    {
     "name": "stdout",
     "output_type": "stream",
     "text": [
      "logits is [[0.26937136 0.3198864  0.41074225]]\n"
     ]
    },
    {
     "name": "stderr",
     "output_type": "stream",
     "text": [
      " 57%|█████▋    | 1624/2874 [04:05<03:29,  5.96it/s]Setting `pad_token_id` to `eos_token_id`:128001 for open-end generation.\n"
     ]
    },
    {
     "name": "stdout",
     "output_type": "stream",
     "text": [
      "logits is [[0.6688128  0.15396945 0.17721775]]\n"
     ]
    },
    {
     "name": "stderr",
     "output_type": "stream",
     "text": [
      " 57%|█████▋    | 1625/2874 [04:05<04:03,  5.12it/s]Setting `pad_token_id` to `eos_token_id`:128001 for open-end generation.\n",
      " 57%|█████▋    | 1626/2874 [04:05<03:49,  5.43it/s]Setting `pad_token_id` to `eos_token_id`:128001 for open-end generation.\n"
     ]
    },
    {
     "name": "stdout",
     "output_type": "stream",
     "text": [
      "logits is [[0.563655   0.11012653 0.32621852]]\n",
      "logits is [[0.3602875  0.35470173 0.28501084]]\n"
     ]
    },
    {
     "name": "stderr",
     "output_type": "stream",
     "text": [
      " 57%|█████▋    | 1627/2874 [04:05<03:22,  6.14it/s]Setting `pad_token_id` to `eos_token_id`:128001 for open-end generation.\n",
      " 57%|█████▋    | 1628/2874 [04:05<03:01,  6.86it/s]Setting `pad_token_id` to `eos_token_id`:128001 for open-end generation.\n"
     ]
    },
    {
     "name": "stdout",
     "output_type": "stream",
     "text": [
      "logits is [[0.1282987  0.6935762  0.17812511]]\n",
      "logits is [[0.26768917 0.23995504 0.49235576]]\n"
     ]
    },
    {
     "name": "stderr",
     "output_type": "stream",
     "text": [
      " 57%|█████▋    | 1629/2874 [04:05<03:08,  6.61it/s]Setting `pad_token_id` to `eos_token_id`:128001 for open-end generation.\n",
      " 57%|█████▋    | 1630/2874 [04:05<02:52,  7.21it/s]Setting `pad_token_id` to `eos_token_id`:128001 for open-end generation.\n"
     ]
    },
    {
     "name": "stdout",
     "output_type": "stream",
     "text": [
      "logits is [[0.7065639  0.09414053 0.19929549]]\n",
      "logits is [[0.4088689  0.37227938 0.21885176]]\n"
     ]
    },
    {
     "name": "stderr",
     "output_type": "stream",
     "text": [
      " 57%|█████▋    | 1631/2874 [04:06<03:02,  6.82it/s]Setting `pad_token_id` to `eos_token_id`:128001 for open-end generation.\n",
      " 57%|█████▋    | 1632/2874 [04:06<02:51,  7.25it/s]Setting `pad_token_id` to `eos_token_id`:128001 for open-end generation.\n"
     ]
    },
    {
     "name": "stdout",
     "output_type": "stream",
     "text": [
      "logits is [[0.19633812 0.5593152  0.24434672]]\n",
      "logits is [[0.10417444 0.75781685 0.1380087 ]]\n"
     ]
    },
    {
     "name": "stderr",
     "output_type": "stream",
     "text": [
      " 57%|█████▋    | 1633/2874 [04:06<02:41,  7.67it/s]Setting `pad_token_id` to `eos_token_id`:128001 for open-end generation.\n",
      " 57%|█████▋    | 1634/2874 [04:06<03:01,  6.85it/s]Setting `pad_token_id` to `eos_token_id`:128001 for open-end generation.\n"
     ]
    },
    {
     "name": "stdout",
     "output_type": "stream",
     "text": [
      "logits is [[0.2555448  0.5326011  0.21185409]]\n",
      "logits is [[0.33681458 0.33159274 0.33159274]]\n"
     ]
    },
    {
     "name": "stderr",
     "output_type": "stream",
     "text": [
      " 57%|█████▋    | 1635/2874 [04:06<02:50,  7.28it/s]Setting `pad_token_id` to `eos_token_id`:128001 for open-end generation.\n"
     ]
    },
    {
     "name": "stdout",
     "output_type": "stream",
     "text": [
      "logits is [[0.7607495  0.08944994 0.14980046]]\n"
     ]
    },
    {
     "name": "stderr",
     "output_type": "stream",
     "text": [
      " 57%|█████▋    | 1636/2874 [04:06<03:24,  6.06it/s]Setting `pad_token_id` to `eos_token_id`:128001 for open-end generation.\n",
      " 57%|█████▋    | 1637/2874 [04:07<03:21,  6.13it/s]Setting `pad_token_id` to `eos_token_id`:128001 for open-end generation.\n"
     ]
    },
    {
     "name": "stdout",
     "output_type": "stream",
     "text": [
      "logits is [[0.58609605 0.13705176 0.27685216]]\n",
      "logits is [[0.18597183 0.6097781  0.20425008]]\n"
     ]
    },
    {
     "name": "stderr",
     "output_type": "stream",
     "text": [
      " 57%|█████▋    | 1638/2874 [04:07<03:22,  6.10it/s]Setting `pad_token_id` to `eos_token_id`:128001 for open-end generation.\n",
      " 57%|█████▋    | 1639/2874 [04:07<03:04,  6.69it/s]Setting `pad_token_id` to `eos_token_id`:128001 for open-end generation.\n"
     ]
    },
    {
     "name": "stdout",
     "output_type": "stream",
     "text": [
      "logits is [[0.36340648 0.32575545 0.310838  ]]\n",
      "logits is [[0.4790692 0.2604654 0.2604654]]\n"
     ]
    },
    {
     "name": "stderr",
     "output_type": "stream",
     "text": [
      " 57%|█████▋    | 1640/2874 [04:07<02:49,  7.27it/s]Setting `pad_token_id` to `eos_token_id`:128001 for open-end generation.\n",
      " 57%|█████▋    | 1641/2874 [04:07<02:52,  7.15it/s]Setting `pad_token_id` to `eos_token_id`:128001 for open-end generation.\n"
     ]
    },
    {
     "name": "stdout",
     "output_type": "stream",
     "text": [
      "logits is [[0.3510646  0.17652635 0.47240904]]\n",
      "logits is [[0.6363407  0.1634258  0.20023347]]\n"
     ]
    },
    {
     "name": "stderr",
     "output_type": "stream",
     "text": [
      " 57%|█████▋    | 1642/2874 [04:07<02:47,  7.35it/s]Setting `pad_token_id` to `eos_token_id`:128001 for open-end generation.\n",
      " 57%|█████▋    | 1643/2874 [04:07<02:39,  7.70it/s]Setting `pad_token_id` to `eos_token_id`:128001 for open-end generation.\n"
     ]
    },
    {
     "name": "stdout",
     "output_type": "stream",
     "text": [
      "logits is [[0.63290393 0.15509978 0.21199627]]\n",
      "logits is [[0.20770685 0.6200981  0.17219502]]\n"
     ]
    },
    {
     "name": "stderr",
     "output_type": "stream",
     "text": [
      " 57%|█████▋    | 1644/2874 [04:08<02:59,  6.84it/s]Setting `pad_token_id` to `eos_token_id`:128001 for open-end generation.\n",
      " 57%|█████▋    | 1645/2874 [04:08<02:48,  7.30it/s]Setting `pad_token_id` to `eos_token_id`:128001 for open-end generation.\n"
     ]
    },
    {
     "name": "stdout",
     "output_type": "stream",
     "text": [
      "logits is [[0.73013455 0.07939845 0.19046699]]\n",
      "logits is [[0.3229726  0.33322483 0.34380254]]\n"
     ]
    },
    {
     "name": "stderr",
     "output_type": "stream",
     "text": [
      " 57%|█████▋    | 1646/2874 [04:08<02:39,  7.71it/s]Setting `pad_token_id` to `eos_token_id`:128001 for open-end generation.\n",
      " 57%|█████▋    | 1647/2874 [04:08<02:43,  7.53it/s]Setting `pad_token_id` to `eos_token_id`:128001 for open-end generation.\n"
     ]
    },
    {
     "name": "stdout",
     "output_type": "stream",
     "text": [
      "logits is [[0.1318639  0.06037169 0.80776435]]\n",
      "logits is [[0.43106776 0.38640663 0.18252558]]\n"
     ]
    },
    {
     "name": "stderr",
     "output_type": "stream",
     "text": [
      " 57%|█████▋    | 1648/2874 [04:08<02:33,  7.99it/s]Setting `pad_token_id` to `eos_token_id`:128001 for open-end generation.\n",
      " 57%|█████▋    | 1649/2874 [04:08<02:33,  7.98it/s]Setting `pad_token_id` to `eos_token_id`:128001 for open-end generation.\n"
     ]
    },
    {
     "name": "stdout",
     "output_type": "stream",
     "text": [
      "logits is [[0.12064853 0.10482126 0.7745302 ]]\n",
      "logits is [[0.5511119  0.12490617 0.32398194]]\n"
     ]
    },
    {
     "name": "stderr",
     "output_type": "stream",
     "text": [
      " 57%|█████▋    | 1650/2874 [04:08<02:46,  7.36it/s]Setting `pad_token_id` to `eos_token_id`:128001 for open-end generation.\n",
      " 57%|█████▋    | 1651/2874 [04:08<02:48,  7.25it/s]Setting `pad_token_id` to `eos_token_id`:128001 for open-end generation.\n"
     ]
    },
    {
     "name": "stdout",
     "output_type": "stream",
     "text": [
      "logits is [[0.17772831 0.63010156 0.19217013]]\n",
      "logits is [[0.12803356 0.64012754 0.23183884]]\n"
     ]
    },
    {
     "name": "stderr",
     "output_type": "stream",
     "text": [
      " 57%|█████▋    | 1652/2874 [04:09<02:58,  6.83it/s]Setting `pad_token_id` to `eos_token_id`:128001 for open-end generation.\n",
      " 58%|█████▊    | 1653/2874 [04:09<02:48,  7.25it/s]Setting `pad_token_id` to `eos_token_id`:128001 for open-end generation.\n"
     ]
    },
    {
     "name": "stdout",
     "output_type": "stream",
     "text": [
      "logits is [[0.45639646 0.24429144 0.2993121 ]]\n",
      "logits is [[0.25529322 0.5489667  0.1957401 ]]\n"
     ]
    },
    {
     "name": "stderr",
     "output_type": "stream",
     "text": [
      " 58%|█████▊    | 1654/2874 [04:09<02:57,  6.86it/s]Setting `pad_token_id` to `eos_token_id`:128001 for open-end generation.\n"
     ]
    },
    {
     "name": "stdout",
     "output_type": "stream",
     "text": [
      "logits is [[0.5386048  0.21092066 0.25047448]]\n"
     ]
    },
    {
     "name": "stderr",
     "output_type": "stream",
     "text": [
      " 58%|█████▊    | 1655/2874 [04:09<03:37,  5.61it/s]Setting `pad_token_id` to `eos_token_id`:128001 for open-end generation.\n",
      " 58%|█████▊    | 1656/2874 [04:09<03:29,  5.81it/s]Setting `pad_token_id` to `eos_token_id`:128001 for open-end generation.\n"
     ]
    },
    {
     "name": "stdout",
     "output_type": "stream",
     "text": [
      "logits is [[0.39981177 0.14536898 0.45481926]]\n",
      "logits is [[0.26741177 0.46932226 0.26326594]]\n"
     ]
    },
    {
     "name": "stderr",
     "output_type": "stream",
     "text": [
      " 58%|█████▊    | 1657/2874 [04:09<03:26,  5.89it/s]Setting `pad_token_id` to `eos_token_id`:128001 for open-end generation.\n",
      " 58%|█████▊    | 1658/2874 [04:10<03:07,  6.50it/s]Setting `pad_token_id` to `eos_token_id`:128001 for open-end generation.\n"
     ]
    },
    {
     "name": "stdout",
     "output_type": "stream",
     "text": [
      "logits is [[0.29213542 0.320848   0.38701656]]\n",
      "logits is [[0.5447879  0.1399131  0.31529903]]\n"
     ]
    },
    {
     "name": "stderr",
     "output_type": "stream",
     "text": [
      " 58%|█████▊    | 1659/2874 [04:10<02:57,  6.83it/s]Setting `pad_token_id` to `eos_token_id`:128001 for open-end generation.\n",
      " 58%|█████▊    | 1660/2874 [04:10<02:52,  7.06it/s]Setting `pad_token_id` to `eos_token_id`:128001 for open-end generation.\n"
     ]
    },
    {
     "name": "stdout",
     "output_type": "stream",
     "text": [
      "logits is [[0.25581655 0.4632239  0.28095952]]\n",
      "logits is [[0.11131387 0.8097527  0.07893335]]\n"
     ]
    },
    {
     "name": "stderr",
     "output_type": "stream",
     "text": [
      " 58%|█████▊    | 1661/2874 [04:10<02:43,  7.42it/s]Setting `pad_token_id` to `eos_token_id`:128001 for open-end generation.\n",
      " 58%|█████▊    | 1662/2874 [04:10<03:04,  6.56it/s]Setting `pad_token_id` to `eos_token_id`:128001 for open-end generation.\n"
     ]
    },
    {
     "name": "stdout",
     "output_type": "stream",
     "text": [
      "logits is [[0.15892678 0.6796437  0.16142952]]\n",
      "logits is [[0.83221656 0.04015884 0.12762454]]\n"
     ]
    },
    {
     "name": "stderr",
     "output_type": "stream",
     "text": [
      " 58%|█████▊    | 1663/2874 [04:10<02:50,  7.10it/s]Setting `pad_token_id` to `eos_token_id`:128001 for open-end generation.\n",
      " 58%|█████▊    | 1664/2874 [04:10<02:38,  7.62it/s]Setting `pad_token_id` to `eos_token_id`:128001 for open-end generation.\n"
     ]
    },
    {
     "name": "stdout",
     "output_type": "stream",
     "text": [
      "logits is [[0.11239878 0.18823254 0.6993687 ]]\n",
      "logits is [[0.79043674 0.04897626 0.16058697]]\n"
     ]
    },
    {
     "name": "stderr",
     "output_type": "stream",
     "text": [
      " 58%|█████▊    | 1665/2874 [04:11<02:57,  6.80it/s]Setting `pad_token_id` to `eos_token_id`:128001 for open-end generation.\n",
      " 58%|█████▊    | 1666/2874 [04:11<02:47,  7.21it/s]Setting `pad_token_id` to `eos_token_id`:128001 for open-end generation.\n"
     ]
    },
    {
     "name": "stdout",
     "output_type": "stream",
     "text": [
      "logits is [[0.20143767 0.57384247 0.22471993]]\n",
      "logits is [[0.31022188 0.44437236 0.24540573]]\n"
     ]
    },
    {
     "name": "stderr",
     "output_type": "stream",
     "text": [
      " 58%|█████▊    | 1667/2874 [04:11<02:39,  7.55it/s]Setting `pad_token_id` to `eos_token_id`:128001 for open-end generation.\n",
      " 58%|█████▊    | 1668/2874 [04:11<02:31,  7.94it/s]Setting `pad_token_id` to `eos_token_id`:128001 for open-end generation.\n"
     ]
    },
    {
     "name": "stdout",
     "output_type": "stream",
     "text": [
      "logits is [[0.78228676 0.07745688 0.14025629]]\n",
      "logits is [[0.57696337 0.17873491 0.24430165]]\n"
     ]
    },
    {
     "name": "stderr",
     "output_type": "stream",
     "text": [
      " 58%|█████▊    | 1669/2874 [04:11<02:42,  7.39it/s]Setting `pad_token_id` to `eos_token_id`:128001 for open-end generation.\n",
      " 58%|█████▊    | 1670/2874 [04:11<02:52,  7.00it/s]Setting `pad_token_id` to `eos_token_id`:128001 for open-end generation.\n"
     ]
    },
    {
     "name": "stdout",
     "output_type": "stream",
     "text": [
      "logits is [[0.0643525  0.68112844 0.2545191 ]]\n",
      "logits is [[0.53113353 0.25088972 0.21797676]]\n"
     ]
    },
    {
     "name": "stderr",
     "output_type": "stream",
     "text": [
      " 58%|█████▊    | 1671/2874 [04:11<02:46,  7.23it/s]Setting `pad_token_id` to `eos_token_id`:128001 for open-end generation.\n",
      " 58%|█████▊    | 1672/2874 [04:11<02:37,  7.64it/s]Setting `pad_token_id` to `eos_token_id`:128001 for open-end generation.\n"
     ]
    },
    {
     "name": "stdout",
     "output_type": "stream",
     "text": [
      "logits is [[0.43706295 0.3917807  0.1711563 ]]\n",
      "logits is [[0.22732626 0.45209226 0.32058144]]\n"
     ]
    },
    {
     "name": "stderr",
     "output_type": "stream",
     "text": [
      " 58%|█████▊    | 1673/2874 [04:12<02:49,  7.08it/s]Setting `pad_token_id` to `eos_token_id`:128001 for open-end generation.\n",
      " 58%|█████▊    | 1674/2874 [04:12<02:39,  7.53it/s]Setting `pad_token_id` to `eos_token_id`:128001 for open-end generation.\n"
     ]
    },
    {
     "name": "stdout",
     "output_type": "stream",
     "text": [
      "logits is [[0.71671635 0.10487878 0.17840481]]\n",
      "logits is [[0.4178424 0.3687446 0.213413 ]]\n"
     ]
    },
    {
     "name": "stderr",
     "output_type": "stream",
     "text": [
      " 58%|█████▊    | 1675/2874 [04:12<02:29,  8.00it/s]Setting `pad_token_id` to `eos_token_id`:128001 for open-end generation.\n",
      " 58%|█████▊    | 1676/2874 [04:12<02:35,  7.69it/s]Setting `pad_token_id` to `eos_token_id`:128001 for open-end generation.\n"
     ]
    },
    {
     "name": "stdout",
     "output_type": "stream",
     "text": [
      "logits is [[0.13525471 0.57841104 0.28633422]]\n",
      "logits is [[0.6463971  0.17127818 0.18232468]]\n"
     ]
    },
    {
     "name": "stderr",
     "output_type": "stream",
     "text": [
      " 58%|█████▊    | 1677/2874 [04:12<02:28,  8.07it/s]Setting `pad_token_id` to `eos_token_id`:128001 for open-end generation.\n",
      " 58%|█████▊    | 1678/2874 [04:12<02:28,  8.06it/s]Setting `pad_token_id` to `eos_token_id`:128001 for open-end generation.\n"
     ]
    },
    {
     "name": "stdout",
     "output_type": "stream",
     "text": [
      "logits is [[0.3090121  0.47860727 0.21238069]]\n",
      "logits is [[0.56271434 0.2458317  0.1914539 ]]\n"
     ]
    },
    {
     "name": "stderr",
     "output_type": "stream",
     "text": [
      " 58%|█████▊    | 1679/2874 [04:12<02:43,  7.33it/s]Setting `pad_token_id` to `eos_token_id`:128001 for open-end generation.\n",
      " 58%|█████▊    | 1680/2874 [04:13<02:57,  6.73it/s]Setting `pad_token_id` to `eos_token_id`:128001 for open-end generation.\n"
     ]
    },
    {
     "name": "stdout",
     "output_type": "stream",
     "text": [
      "logits is [[0.61067295 0.17496073 0.21436638]]\n",
      "logits is [[0.571522   0.24580856 0.1826694 ]]\n"
     ]
    },
    {
     "name": "stderr",
     "output_type": "stream",
     "text": [
      " 58%|█████▊    | 1681/2874 [04:13<03:03,  6.49it/s]Setting `pad_token_id` to `eos_token_id`:128001 for open-end generation.\n",
      " 59%|█████▊    | 1682/2874 [04:13<02:49,  7.03it/s]Setting `pad_token_id` to `eos_token_id`:128001 for open-end generation.\n"
     ]
    },
    {
     "name": "stdout",
     "output_type": "stream",
     "text": [
      "logits is [[0.16272672 0.6958939  0.14137942]]\n",
      "logits is [[0.23725736 0.5101835  0.25255916]]\n"
     ]
    },
    {
     "name": "stderr",
     "output_type": "stream",
     "text": [
      " 59%|█████▊    | 1683/2874 [04:13<03:01,  6.56it/s]Setting `pad_token_id` to `eos_token_id`:128001 for open-end generation.\n",
      " 59%|█████▊    | 1684/2874 [04:13<03:05,  6.41it/s]Setting `pad_token_id` to `eos_token_id`:128001 for open-end generation.\n"
     ]
    },
    {
     "name": "stdout",
     "output_type": "stream",
     "text": [
      "logits is [[0.16347465 0.3921553  0.44437015]]\n",
      "logits is [[0.19736688 0.58922863 0.21340446]]\n"
     ]
    },
    {
     "name": "stderr",
     "output_type": "stream",
     "text": [
      " 59%|█████▊    | 1685/2874 [04:13<02:54,  6.81it/s]Setting `pad_token_id` to `eos_token_id`:128001 for open-end generation.\n",
      " 59%|█████▊    | 1686/2874 [04:13<02:40,  7.39it/s]Setting `pad_token_id` to `eos_token_id`:128001 for open-end generation.\n"
     ]
    },
    {
     "name": "stdout",
     "output_type": "stream",
     "text": [
      "logits is [[0.07220971 0.6141256  0.31366464]]\n",
      "logits is [[0.18234128 0.62656665 0.19109204]]\n"
     ]
    },
    {
     "name": "stderr",
     "output_type": "stream",
     "text": [
      " 59%|█████▊    | 1687/2874 [04:14<02:36,  7.57it/s]Setting `pad_token_id` to `eos_token_id`:128001 for open-end generation.\n",
      " 59%|█████▊    | 1688/2874 [04:14<02:39,  7.44it/s]Setting `pad_token_id` to `eos_token_id`:128001 for open-end generation.\n"
     ]
    },
    {
     "name": "stdout",
     "output_type": "stream",
     "text": [
      "logits is [[0.51523954 0.2631586  0.22160177]]\n",
      "logits is [[0.40409306 0.3350049  0.26090208]]\n"
     ]
    },
    {
     "name": "stderr",
     "output_type": "stream",
     "text": [
      " 59%|█████▉    | 1689/2874 [04:14<02:35,  7.61it/s]Setting `pad_token_id` to `eos_token_id`:128001 for open-end generation.\n",
      " 59%|█████▉    | 1690/2874 [04:14<02:30,  7.88it/s]Setting `pad_token_id` to `eos_token_id`:128001 for open-end generation.\n"
     ]
    },
    {
     "name": "stdout",
     "output_type": "stream",
     "text": [
      "logits is [[0.8844589  0.03825794 0.07728315]]\n",
      "logits is [[0.46273896 0.28957465 0.24768633]]\n"
     ]
    },
    {
     "name": "stderr",
     "output_type": "stream",
     "text": [
      " 59%|█████▉    | 1691/2874 [04:14<02:48,  7.03it/s]Setting `pad_token_id` to `eos_token_id`:128001 for open-end generation.\n",
      " 59%|█████▉    | 1692/2874 [04:14<02:39,  7.43it/s]Setting `pad_token_id` to `eos_token_id`:128001 for open-end generation.\n"
     ]
    },
    {
     "name": "stdout",
     "output_type": "stream",
     "text": [
      "logits is [[0.1320848  0.65014416 0.21777102]]\n",
      "logits is [[0.5959018  0.143768   0.26033023]]\n"
     ]
    },
    {
     "name": "stderr",
     "output_type": "stream",
     "text": [
      " 59%|█████▉    | 1693/2874 [04:14<02:35,  7.58it/s]Setting `pad_token_id` to `eos_token_id`:128001 for open-end generation.\n",
      " 59%|█████▉    | 1694/2874 [04:14<02:34,  7.63it/s]Setting `pad_token_id` to `eos_token_id`:128001 for open-end generation.\n"
     ]
    },
    {
     "name": "stdout",
     "output_type": "stream",
     "text": [
      "logits is [[0.3216953 0.3760999 0.3022048]]\n",
      "logits is [[0.26207346 0.5814354  0.15649122]]\n"
     ]
    },
    {
     "name": "stderr",
     "output_type": "stream",
     "text": [
      " 59%|█████▉    | 1695/2874 [04:15<03:00,  6.54it/s]Setting `pad_token_id` to `eos_token_id`:128001 for open-end generation.\n",
      " 59%|█████▉    | 1696/2874 [04:15<02:45,  7.12it/s]Setting `pad_token_id` to `eos_token_id`:128001 for open-end generation.\n"
     ]
    },
    {
     "name": "stdout",
     "output_type": "stream",
     "text": [
      "logits is [[0.00926422 0.93032545 0.06041029]]\n",
      "logits is [[0.43682387 0.10538867 0.4577875 ]]\n"
     ]
    },
    {
     "name": "stderr",
     "output_type": "stream",
     "text": [
      " 59%|█████▉    | 1697/2874 [04:15<02:47,  7.01it/s]Setting `pad_token_id` to `eos_token_id`:128001 for open-end generation.\n",
      " 59%|█████▉    | 1698/2874 [04:15<02:38,  7.44it/s]Setting `pad_token_id` to `eos_token_id`:128001 for open-end generation.\n"
     ]
    },
    {
     "name": "stdout",
     "output_type": "stream",
     "text": [
      "logits is [[0.34091187 0.29618937 0.3628988 ]]\n",
      "logits is [[0.394276   0.35899237 0.24673162]]\n"
     ]
    },
    {
     "name": "stderr",
     "output_type": "stream",
     "text": [
      " 59%|█████▉    | 1699/2874 [04:15<02:53,  6.78it/s]Setting `pad_token_id` to `eos_token_id`:128001 for open-end generation.\n",
      " 59%|█████▉    | 1700/2874 [04:15<02:46,  7.06it/s]Setting `pad_token_id` to `eos_token_id`:128001 for open-end generation.\n"
     ]
    },
    {
     "name": "stdout",
     "output_type": "stream",
     "text": [
      "logits is [[0.16222274 0.6829833  0.15479402]]\n",
      "logits is [[0.25049818 0.48284787 0.26665393]]\n"
     ]
    },
    {
     "name": "stderr",
     "output_type": "stream",
     "text": [
      " 59%|█████▉    | 1701/2874 [04:16<02:59,  6.53it/s]Setting `pad_token_id` to `eos_token_id`:128001 for open-end generation.\n",
      " 59%|█████▉    | 1702/2874 [04:16<02:46,  7.02it/s]Setting `pad_token_id` to `eos_token_id`:128001 for open-end generation.\n"
     ]
    },
    {
     "name": "stdout",
     "output_type": "stream",
     "text": [
      "logits is [[0.682068   0.08946785 0.22846416]]\n",
      "logits is [[0.75328106 0.1051816  0.14153732]]\n"
     ]
    },
    {
     "name": "stderr",
     "output_type": "stream",
     "text": [
      " 59%|█████▉    | 1703/2874 [04:16<02:36,  7.49it/s]Setting `pad_token_id` to `eos_token_id`:128001 for open-end generation.\n",
      " 59%|█████▉    | 1704/2874 [04:16<02:31,  7.73it/s]Setting `pad_token_id` to `eos_token_id`:128001 for open-end generation.\n"
     ]
    },
    {
     "name": "stdout",
     "output_type": "stream",
     "text": [
      "logits is [[0.35550836 0.3843962  0.26009548]]\n",
      "logits is [[0.08724721 0.71918637 0.19356638]]\n"
     ]
    },
    {
     "name": "stderr",
     "output_type": "stream",
     "text": [
      " 59%|█████▉    | 1705/2874 [04:16<02:36,  7.46it/s]Setting `pad_token_id` to `eos_token_id`:128001 for open-end generation.\n",
      " 59%|█████▉    | 1706/2874 [04:16<02:47,  6.99it/s]Setting `pad_token_id` to `eos_token_id`:128001 for open-end generation.\n"
     ]
    },
    {
     "name": "stdout",
     "output_type": "stream",
     "text": [
      "logits is [[0.3868141  0.28745583 0.32573012]]\n",
      "logits is [[0.25449115 0.48293933 0.26256955]]\n"
     ]
    },
    {
     "name": "stderr",
     "output_type": "stream",
     "text": [
      " 59%|█████▉    | 1707/2874 [04:16<02:35,  7.53it/s]Setting `pad_token_id` to `eos_token_id`:128001 for open-end generation.\n"
     ]
    },
    {
     "name": "stdout",
     "output_type": "stream",
     "text": [
      "logits is [[0.19867529 0.6313888  0.16993599]]\n"
     ]
    },
    {
     "name": "stderr",
     "output_type": "stream",
     "text": [
      " 59%|█████▉    | 1708/2874 [04:17<03:22,  5.76it/s]Setting `pad_token_id` to `eos_token_id`:128001 for open-end generation.\n",
      " 59%|█████▉    | 1709/2874 [04:17<03:02,  6.38it/s]Setting `pad_token_id` to `eos_token_id`:128001 for open-end generation.\n"
     ]
    },
    {
     "name": "stdout",
     "output_type": "stream",
     "text": [
      "logits is [[0.11636182 0.66961604 0.21402214]]\n",
      "logits is [[0.2572214  0.53609544 0.2066832 ]]\n"
     ]
    },
    {
     "name": "stderr",
     "output_type": "stream",
     "text": [
      " 59%|█████▉    | 1710/2874 [04:17<02:48,  6.91it/s]Setting `pad_token_id` to `eos_token_id`:128001 for open-end generation.\n",
      " 60%|█████▉    | 1711/2874 [04:17<02:36,  7.44it/s]Setting `pad_token_id` to `eos_token_id`:128001 for open-end generation.\n"
     ]
    },
    {
     "name": "stdout",
     "output_type": "stream",
     "text": [
      "logits is [[0.15404336 0.14471035 0.70124626]]\n",
      "logits is [[0.24670571 0.5141789  0.23911539]]\n"
     ]
    },
    {
     "name": "stderr",
     "output_type": "stream",
     "text": [
      " 60%|█████▉    | 1712/2874 [04:17<02:26,  7.91it/s]Setting `pad_token_id` to `eos_token_id`:128001 for open-end generation.\n"
     ]
    },
    {
     "name": "stdout",
     "output_type": "stream",
     "text": [
      "logits is [[0.2886702  0.506632   0.20469782]]\n"
     ]
    },
    {
     "name": "stderr",
     "output_type": "stream",
     "text": [
      " 60%|█████▉    | 1713/2874 [04:17<02:59,  6.48it/s]Setting `pad_token_id` to `eos_token_id`:128001 for open-end generation.\n",
      " 60%|█████▉    | 1714/2874 [04:17<02:53,  6.67it/s]Setting `pad_token_id` to `eos_token_id`:128001 for open-end generation.\n"
     ]
    },
    {
     "name": "stdout",
     "output_type": "stream",
     "text": [
      "logits is [[0.3070143  0.42624712 0.26673865]]\n",
      "logits is [[0.44180703 0.34949812 0.20869486]]\n"
     ]
    },
    {
     "name": "stderr",
     "output_type": "stream",
     "text": [
      " 60%|█████▉    | 1715/2874 [04:18<03:30,  5.51it/s]Setting `pad_token_id` to `eos_token_id`:128001 for open-end generation.\n",
      " 60%|█████▉    | 1716/2874 [04:18<03:29,  5.53it/s]Setting `pad_token_id` to `eos_token_id`:128001 for open-end generation.\n"
     ]
    },
    {
     "name": "stdout",
     "output_type": "stream",
     "text": [
      "logits is [[0.8376046  0.06235787 0.1000376 ]]\n",
      "logits is [[0.5331928  0.18140972 0.28539756]]\n"
     ]
    },
    {
     "name": "stderr",
     "output_type": "stream",
     "text": [
      " 60%|█████▉    | 1717/2874 [04:18<03:05,  6.24it/s]Setting `pad_token_id` to `eos_token_id`:128001 for open-end generation.\n"
     ]
    },
    {
     "name": "stdout",
     "output_type": "stream",
     "text": [
      "logits is [[0.02159917 0.9041811  0.0742197 ]]\n"
     ]
    },
    {
     "name": "stderr",
     "output_type": "stream",
     "text": [
      " 60%|█████▉    | 1718/2874 [04:18<03:37,  5.31it/s]Setting `pad_token_id` to `eos_token_id`:128001 for open-end generation.\n",
      " 60%|█████▉    | 1719/2874 [04:18<03:13,  5.96it/s]Setting `pad_token_id` to `eos_token_id`:128001 for open-end generation.\n"
     ]
    },
    {
     "name": "stdout",
     "output_type": "stream",
     "text": [
      "logits is [[0.14984965 0.556759   0.29339138]]\n",
      "logits is [[0.30538967 0.5035024  0.19110797]]\n"
     ]
    },
    {
     "name": "stderr",
     "output_type": "stream",
     "text": [
      " 60%|█████▉    | 1720/2874 [04:18<02:55,  6.58it/s]Setting `pad_token_id` to `eos_token_id`:128001 for open-end generation.\n",
      " 60%|█████▉    | 1721/2874 [04:19<02:40,  7.18it/s]Setting `pad_token_id` to `eos_token_id`:128001 for open-end generation.\n"
     ]
    },
    {
     "name": "stdout",
     "output_type": "stream",
     "text": [
      "logits is [[0.57310766 0.12012989 0.30676243]]\n",
      "logits is [[0.32960975 0.23372832 0.43666196]]\n"
     ]
    },
    {
     "name": "stderr",
     "output_type": "stream",
     "text": [
      " 60%|█████▉    | 1722/2874 [04:19<03:07,  6.15it/s]Setting `pad_token_id` to `eos_token_id`:128001 for open-end generation.\n",
      " 60%|█████▉    | 1723/2874 [04:19<02:49,  6.80it/s]Setting `pad_token_id` to `eos_token_id`:128001 for open-end generation.\n"
     ]
    },
    {
     "name": "stdout",
     "output_type": "stream",
     "text": [
      "logits is [[0.4749264  0.22787218 0.29720137]]\n",
      "logits is [[0.210199  0.5625217 0.2272793]]\n"
     ]
    },
    {
     "name": "stderr",
     "output_type": "stream",
     "text": [
      " 60%|█████▉    | 1724/2874 [04:19<02:37,  7.28it/s]Setting `pad_token_id` to `eos_token_id`:128001 for open-end generation.\n",
      " 60%|██████    | 1725/2874 [04:19<02:28,  7.74it/s]Setting `pad_token_id` to `eos_token_id`:128001 for open-end generation.\n"
     ]
    },
    {
     "name": "stdout",
     "output_type": "stream",
     "text": [
      "logits is [[0.20309956 0.48721054 0.30968985]]\n",
      "logits is [[0.2786964  0.26181105 0.45949265]]\n"
     ]
    },
    {
     "name": "stderr",
     "output_type": "stream",
     "text": [
      " 60%|██████    | 1726/2874 [04:19<02:21,  8.11it/s]Setting `pad_token_id` to `eos_token_id`:128001 for open-end generation.\n",
      " 60%|██████    | 1727/2874 [04:19<02:25,  7.90it/s]Setting `pad_token_id` to `eos_token_id`:128001 for open-end generation.\n"
     ]
    },
    {
     "name": "stdout",
     "output_type": "stream",
     "text": [
      "logits is [[0.4650684  0.28207824 0.2528533 ]]\n",
      "logits is [[0.38460785 0.41586024 0.19953191]]\n"
     ]
    },
    {
     "name": "stderr",
     "output_type": "stream",
     "text": [
      " 60%|██████    | 1728/2874 [04:20<02:44,  6.97it/s]Setting `pad_token_id` to `eos_token_id`:128001 for open-end generation.\n",
      " 60%|██████    | 1729/2874 [04:20<02:36,  7.29it/s]Setting `pad_token_id` to `eos_token_id`:128001 for open-end generation.\n"
     ]
    },
    {
     "name": "stdout",
     "output_type": "stream",
     "text": [
      "logits is [[0.29816505 0.4546474  0.2471875 ]]\n",
      "logits is [[0.2759345  0.18381199 0.5402535 ]]\n"
     ]
    },
    {
     "name": "stderr",
     "output_type": "stream",
     "text": [
      " 60%|██████    | 1730/2874 [04:20<02:30,  7.58it/s]Setting `pad_token_id` to `eos_token_id`:128001 for open-end generation.\n",
      " 60%|██████    | 1731/2874 [04:20<02:30,  7.59it/s]Setting `pad_token_id` to `eos_token_id`:128001 for open-end generation.\n"
     ]
    },
    {
     "name": "stdout",
     "output_type": "stream",
     "text": [
      "logits is [[0.28045908 0.31780177 0.4017391 ]]\n",
      "logits is [[0.27892485 0.46711126 0.25396398]]\n"
     ]
    },
    {
     "name": "stderr",
     "output_type": "stream",
     "text": [
      " 60%|██████    | 1732/2874 [04:20<03:15,  5.84it/s]Setting `pad_token_id` to `eos_token_id`:128001 for open-end generation.\n",
      " 60%|██████    | 1733/2874 [04:20<02:57,  6.42it/s]Setting `pad_token_id` to `eos_token_id`:128001 for open-end generation.\n"
     ]
    },
    {
     "name": "stdout",
     "output_type": "stream",
     "text": [
      "logits is [[0.6254508  0.22127585 0.1532733 ]]\n",
      "logits is [[0.5875213  0.20623939 0.20623939]]\n"
     ]
    },
    {
     "name": "stderr",
     "output_type": "stream",
     "text": [
      " 60%|██████    | 1734/2874 [04:20<02:55,  6.50it/s]Setting `pad_token_id` to `eos_token_id`:128001 for open-end generation.\n",
      " 60%|██████    | 1735/2874 [04:21<02:59,  6.34it/s]Setting `pad_token_id` to `eos_token_id`:128001 for open-end generation.\n"
     ]
    },
    {
     "name": "stdout",
     "output_type": "stream",
     "text": [
      "logits is [[0.23204191 0.5395136  0.22844441]]\n",
      "logits is [[0.68553376 0.07003168 0.24443458]]\n"
     ]
    },
    {
     "name": "stderr",
     "output_type": "stream",
     "text": [
      " 60%|██████    | 1736/2874 [04:21<02:48,  6.77it/s]Setting `pad_token_id` to `eos_token_id`:128001 for open-end generation.\n",
      " 60%|██████    | 1737/2874 [04:21<02:41,  7.03it/s]Setting `pad_token_id` to `eos_token_id`:128001 for open-end generation.\n"
     ]
    },
    {
     "name": "stdout",
     "output_type": "stream",
     "text": [
      "logits is [[0.05807299 0.8533763  0.08855073]]\n",
      "logits is [[0.53526527 0.24506229 0.21967243]]\n"
     ]
    },
    {
     "name": "stderr",
     "output_type": "stream",
     "text": [
      " 60%|██████    | 1738/2874 [04:21<02:50,  6.67it/s]Setting `pad_token_id` to `eos_token_id`:128001 for open-end generation.\n",
      " 61%|██████    | 1739/2874 [04:21<02:37,  7.20it/s]Setting `pad_token_id` to `eos_token_id`:128001 for open-end generation.\n"
     ]
    },
    {
     "name": "stdout",
     "output_type": "stream",
     "text": [
      "logits is [[0.18138306 0.6634717  0.15514515]]\n",
      "logits is [[0.25253648 0.14166011 0.6058035 ]]\n"
     ]
    },
    {
     "name": "stderr",
     "output_type": "stream",
     "text": [
      " 61%|██████    | 1740/2874 [04:21<03:06,  6.08it/s]Setting `pad_token_id` to `eos_token_id`:128001 for open-end generation.\n",
      " 61%|██████    | 1741/2874 [04:22<03:05,  6.10it/s]Setting `pad_token_id` to `eos_token_id`:128001 for open-end generation.\n"
     ]
    },
    {
     "name": "stdout",
     "output_type": "stream",
     "text": [
      "logits is [[0.4641595  0.24080276 0.29503772]]\n",
      "logits is [[0.10361798 0.58703583 0.30934617]]\n"
     ]
    },
    {
     "name": "stderr",
     "output_type": "stream",
     "text": [
      " 61%|██████    | 1742/2874 [04:22<02:50,  6.66it/s]Setting `pad_token_id` to `eos_token_id`:128001 for open-end generation.\n",
      " 61%|██████    | 1743/2874 [04:22<02:39,  7.09it/s]Setting `pad_token_id` to `eos_token_id`:128001 for open-end generation.\n"
     ]
    },
    {
     "name": "stdout",
     "output_type": "stream",
     "text": [
      "logits is [[0.54368806 0.16071388 0.29559806]]\n",
      "logits is [[0.85004044 0.05606624 0.09389329]]\n"
     ]
    },
    {
     "name": "stderr",
     "output_type": "stream",
     "text": [
      " 61%|██████    | 1744/2874 [04:22<03:00,  6.26it/s]Setting `pad_token_id` to `eos_token_id`:128001 for open-end generation.\n",
      " 61%|██████    | 1745/2874 [04:22<02:43,  6.89it/s]Setting `pad_token_id` to `eos_token_id`:128001 for open-end generation.\n"
     ]
    },
    {
     "name": "stdout",
     "output_type": "stream",
     "text": [
      "logits is [[0.18978417 0.6624118  0.14780405]]\n",
      "logits is [[0.02383168 0.8942772  0.08189114]]\n"
     ]
    },
    {
     "name": "stderr",
     "output_type": "stream",
     "text": [
      " 61%|██████    | 1746/2874 [04:22<02:42,  6.94it/s]Setting `pad_token_id` to `eos_token_id`:128001 for open-end generation.\n",
      " 61%|██████    | 1747/2874 [04:22<02:54,  6.45it/s]Setting `pad_token_id` to `eos_token_id`:128001 for open-end generation.\n"
     ]
    },
    {
     "name": "stdout",
     "output_type": "stream",
     "text": [
      "logits is [[0.17645286 0.5785666  0.24498051]]\n",
      "logits is [[0.5591465  0.15526938 0.2855841 ]]\n"
     ]
    },
    {
     "name": "stderr",
     "output_type": "stream",
     "text": [
      " 61%|██████    | 1748/2874 [04:23<03:04,  6.12it/s]Setting `pad_token_id` to `eos_token_id`:128001 for open-end generation.\n",
      " 61%|██████    | 1749/2874 [04:23<02:57,  6.35it/s]Setting `pad_token_id` to `eos_token_id`:128001 for open-end generation.\n"
     ]
    },
    {
     "name": "stdout",
     "output_type": "stream",
     "text": [
      "logits is [[0.31609842 0.35263327 0.3312683 ]]\n",
      "logits is [[0.7706534  0.1093019  0.12004466]]\n"
     ]
    },
    {
     "name": "stderr",
     "output_type": "stream",
     "text": [
      " 61%|██████    | 1750/2874 [04:23<02:57,  6.34it/s]Setting `pad_token_id` to `eos_token_id`:128001 for open-end generation.\n",
      " 61%|██████    | 1751/2874 [04:23<02:53,  6.48it/s]Setting `pad_token_id` to `eos_token_id`:128001 for open-end generation.\n"
     ]
    },
    {
     "name": "stdout",
     "output_type": "stream",
     "text": [
      "logits is [[0.63010156 0.17772831 0.19217013]]\n",
      "logits is [[0.44605696 0.27913532 0.27480772]]\n"
     ]
    },
    {
     "name": "stderr",
     "output_type": "stream",
     "text": [
      " 61%|██████    | 1752/2874 [04:23<02:49,  6.60it/s]Setting `pad_token_id` to `eos_token_id`:128001 for open-end generation.\n",
      " 61%|██████    | 1753/2874 [04:23<02:41,  6.93it/s]Setting `pad_token_id` to `eos_token_id`:128001 for open-end generation.\n"
     ]
    },
    {
     "name": "stdout",
     "output_type": "stream",
     "text": [
      "logits is [[0.80286515 0.06191031 0.13522455]]\n",
      "logits is [[0.51174724 0.21002065 0.27823216]]\n"
     ]
    },
    {
     "name": "stderr",
     "output_type": "stream",
     "text": [
      " 61%|██████    | 1754/2874 [04:24<03:20,  5.58it/s]Setting `pad_token_id` to `eos_token_id`:128001 for open-end generation.\n",
      " 61%|██████    | 1755/2874 [04:24<03:21,  5.55it/s]Setting `pad_token_id` to `eos_token_id`:128001 for open-end generation.\n"
     ]
    },
    {
     "name": "stdout",
     "output_type": "stream",
     "text": [
      "logits is [[0.5428283  0.32924202 0.12792966]]\n",
      "logits is [[0.2529745  0.41708446 0.32994094]]\n"
     ]
    },
    {
     "name": "stderr",
     "output_type": "stream",
     "text": [
      " 61%|██████    | 1756/2874 [04:24<03:22,  5.51it/s]Setting `pad_token_id` to `eos_token_id`:128001 for open-end generation.\n",
      " 61%|██████    | 1757/2874 [04:24<03:00,  6.18it/s]Setting `pad_token_id` to `eos_token_id`:128001 for open-end generation.\n"
     ]
    },
    {
     "name": "stdout",
     "output_type": "stream",
     "text": [
      "logits is [[0.24185175 0.16883974 0.58930856]]\n",
      "logits is [[0.20978294 0.38584986 0.4043672 ]]\n"
     ]
    },
    {
     "name": "stderr",
     "output_type": "stream",
     "text": [
      " 61%|██████    | 1758/2874 [04:24<02:45,  6.75it/s]Setting `pad_token_id` to `eos_token_id`:128001 for open-end generation.\n",
      " 61%|██████    | 1759/2874 [04:24<02:50,  6.55it/s]Setting `pad_token_id` to `eos_token_id`:128001 for open-end generation.\n"
     ]
    },
    {
     "name": "stdout",
     "output_type": "stream",
     "text": [
      "logits is [[0.3523548  0.34151396 0.30613115]]\n",
      "logits is [[0.5463608  0.24626411 0.20737517]]\n"
     ]
    },
    {
     "name": "stderr",
     "output_type": "stream",
     "text": [
      " 61%|██████    | 1760/2874 [04:24<02:53,  6.43it/s]Setting `pad_token_id` to `eos_token_id`:128001 for open-end generation.\n",
      " 61%|██████▏   | 1761/2874 [04:25<02:39,  6.96it/s]Setting `pad_token_id` to `eos_token_id`:128001 for open-end generation.\n"
     ]
    },
    {
     "name": "stdout",
     "output_type": "stream",
     "text": [
      "logits is [[0.33702153 0.3879094  0.27506897]]\n",
      "logits is [[0.51506865 0.17252639 0.31240493]]\n"
     ]
    },
    {
     "name": "stderr",
     "output_type": "stream",
     "text": [
      " 61%|██████▏   | 1762/2874 [04:25<02:32,  7.31it/s]Setting `pad_token_id` to `eos_token_id`:128001 for open-end generation.\n",
      " 61%|██████▏   | 1763/2874 [04:25<02:48,  6.61it/s]"
     ]
    },
    {
     "name": "stdout",
     "output_type": "stream",
     "text": [
      "logits is [[0.21254182 0.11200166 0.6754565 ]]\n",
      "logits is [[0.3341043  0.38455167 0.28134403]]\n"
     ]
    },
    {
     "name": "stderr",
     "output_type": "stream",
     "text": [
      "Setting `pad_token_id` to `eos_token_id`:128001 for open-end generation.\n",
      " 61%|██████▏   | 1764/2874 [04:25<03:22,  5.47it/s]Setting `pad_token_id` to `eos_token_id`:128001 for open-end generation.\n"
     ]
    },
    {
     "name": "stdout",
     "output_type": "stream",
     "text": [
      "logits is [[0.8803371  0.03951931 0.08014365]]\n"
     ]
    },
    {
     "name": "stderr",
     "output_type": "stream",
     "text": [
      " 61%|██████▏   | 1765/2874 [04:25<03:46,  4.89it/s]Setting `pad_token_id` to `eos_token_id`:128001 for open-end generation.\n",
      " 61%|██████▏   | 1766/2874 [04:26<03:23,  5.45it/s]Setting `pad_token_id` to `eos_token_id`:128001 for open-end generation.\n"
     ]
    },
    {
     "name": "stdout",
     "output_type": "stream",
     "text": [
      "logits is [[0.64198977 0.16730957 0.19070071]]\n",
      "logits is [[0.52557015 0.08991445 0.38451535]]\n"
     ]
    },
    {
     "name": "stderr",
     "output_type": "stream",
     "text": [
      " 61%|██████▏   | 1767/2874 [04:26<03:01,  6.10it/s]Setting `pad_token_id` to `eos_token_id`:128001 for open-end generation.\n",
      " 62%|██████▏   | 1768/2874 [04:26<02:48,  6.55it/s]Setting `pad_token_id` to `eos_token_id`:128001 for open-end generation.\n"
     ]
    },
    {
     "name": "stdout",
     "output_type": "stream",
     "text": [
      "logits is [[0.53155863 0.24336527 0.22507608]]\n",
      "logits is [[0.35152143 0.2914215  0.3570571 ]]\n"
     ]
    },
    {
     "name": "stderr",
     "output_type": "stream",
     "text": [
      " 62%|██████▏   | 1769/2874 [04:26<03:02,  6.06it/s]Setting `pad_token_id` to `eos_token_id`:128001 for open-end generation.\n",
      " 62%|██████▏   | 1770/2874 [04:26<03:09,  5.84it/s]Setting `pad_token_id` to `eos_token_id`:128001 for open-end generation.\n"
     ]
    },
    {
     "name": "stdout",
     "output_type": "stream",
     "text": [
      "logits is [[0.6567064  0.16093282 0.18236077]]\n",
      "logits is [[0.35761654 0.34124008 0.30114332]]\n"
     ]
    },
    {
     "name": "stderr",
     "output_type": "stream",
     "text": [
      " 62%|██████▏   | 1771/2874 [04:26<02:49,  6.50it/s]Setting `pad_token_id` to `eos_token_id`:128001 for open-end generation.\n",
      " 62%|██████▏   | 1772/2874 [04:26<02:36,  7.06it/s]Setting `pad_token_id` to `eos_token_id`:128001 for open-end generation.\n"
     ]
    },
    {
     "name": "stdout",
     "output_type": "stream",
     "text": [
      "logits is [[0.17186242 0.6691908  0.15894675]]\n",
      "logits is [[0.24494413 0.5519901  0.20306581]]\n"
     ]
    },
    {
     "name": "stderr",
     "output_type": "stream",
     "text": [
      " 62%|██████▏   | 1773/2874 [04:27<02:41,  6.84it/s]Setting `pad_token_id` to `eos_token_id`:128001 for open-end generation.\n",
      " 62%|██████▏   | 1774/2874 [04:27<02:29,  7.34it/s]Setting `pad_token_id` to `eos_token_id`:128001 for open-end generation.\n"
     ]
    },
    {
     "name": "stdout",
     "output_type": "stream",
     "text": [
      "logits is [[0.18125471 0.6840482  0.13469708]]\n",
      "logits is [[0.20536941 0.23637873 0.5582519 ]]\n"
     ]
    },
    {
     "name": "stderr",
     "output_type": "stream",
     "text": [
      " 62%|██████▏   | 1775/2874 [04:27<03:07,  5.88it/s]Setting `pad_token_id` to `eos_token_id`:128001 for open-end generation.\n",
      " 62%|██████▏   | 1776/2874 [04:27<02:58,  6.15it/s]Setting `pad_token_id` to `eos_token_id`:128001 for open-end generation.\n"
     ]
    },
    {
     "name": "stdout",
     "output_type": "stream",
     "text": [
      "logits is [[0.35570508 0.3447612  0.2995337 ]]\n",
      "logits is [[0.08682662 0.6619323  0.25124115]]\n"
     ]
    },
    {
     "name": "stderr",
     "output_type": "stream",
     "text": [
      " 62%|██████▏   | 1777/2874 [04:27<02:41,  6.79it/s]Setting `pad_token_id` to `eos_token_id`:128001 for open-end generation.\n",
      " 62%|██████▏   | 1778/2874 [04:27<02:38,  6.91it/s]Setting `pad_token_id` to `eos_token_id`:128001 for open-end generation.\n"
     ]
    },
    {
     "name": "stdout",
     "output_type": "stream",
     "text": [
      "logits is [[0.6134896 0.2023074 0.184203 ]]\n",
      "logits is [[0.3565371  0.22662878 0.41683412]]\n"
     ]
    },
    {
     "name": "stderr",
     "output_type": "stream",
     "text": [
      " 62%|██████▏   | 1779/2874 [04:27<02:40,  6.82it/s]Setting `pad_token_id` to `eos_token_id`:128001 for open-end generation.\n",
      " 62%|██████▏   | 1780/2874 [04:28<02:34,  7.10it/s]Setting `pad_token_id` to `eos_token_id`:128001 for open-end generation.\n"
     ]
    },
    {
     "name": "stdout",
     "output_type": "stream",
     "text": [
      "logits is [[0.2913659  0.43061087 0.27802327]]\n",
      "logits is [[0.21365882 0.38088802 0.40545318]]\n"
     ]
    },
    {
     "name": "stderr",
     "output_type": "stream",
     "text": [
      " 62%|██████▏   | 1781/2874 [04:28<02:41,  6.78it/s]Setting `pad_token_id` to `eos_token_id`:128001 for open-end generation.\n",
      " 62%|██████▏   | 1782/2874 [04:28<02:40,  6.82it/s]Setting `pad_token_id` to `eos_token_id`:128001 for open-end generation.\n"
     ]
    },
    {
     "name": "stdout",
     "output_type": "stream",
     "text": [
      "logits is [[0.0525297  0.84778637 0.09968385]]\n",
      "logits is [[0.32289255 0.3491301  0.32797736]]\n"
     ]
    },
    {
     "name": "stderr",
     "output_type": "stream",
     "text": [
      " 62%|██████▏   | 1783/2874 [04:28<03:03,  5.93it/s]Setting `pad_token_id` to `eos_token_id`:128001 for open-end generation.\n"
     ]
    },
    {
     "name": "stdout",
     "output_type": "stream",
     "text": [
      "logits is [[0.21234204 0.5507733  0.23688467]]\n"
     ]
    },
    {
     "name": "stderr",
     "output_type": "stream",
     "text": [
      " 62%|██████▏   | 1784/2874 [04:28<03:32,  5.13it/s]Setting `pad_token_id` to `eos_token_id`:128001 for open-end generation.\n"
     ]
    },
    {
     "name": "stdout",
     "output_type": "stream",
     "text": [
      "logits is [[0.49963602 0.3151165  0.18524744]]\n"
     ]
    },
    {
     "name": "stderr",
     "output_type": "stream",
     "text": [
      " 62%|██████▏   | 1785/2874 [04:29<03:53,  4.67it/s]Setting `pad_token_id` to `eos_token_id`:128001 for open-end generation.\n",
      " 62%|██████▏   | 1786/2874 [04:29<03:25,  5.29it/s]Setting `pad_token_id` to `eos_token_id`:128001 for open-end generation.\n"
     ]
    },
    {
     "name": "stdout",
     "output_type": "stream",
     "text": [
      "logits is [[0.31648228 0.30915096 0.37436676]]\n",
      "logits is [[0.5626418  0.21355474 0.22380345]]\n"
     ]
    },
    {
     "name": "stderr",
     "output_type": "stream",
     "text": [
      " 62%|██████▏   | 1787/2874 [04:29<03:11,  5.68it/s]Setting `pad_token_id` to `eos_token_id`:128001 for open-end generation.\n"
     ]
    },
    {
     "name": "stdout",
     "output_type": "stream",
     "text": [
      "logits is [[0.26891726 0.5183516  0.21273108]]\n"
     ]
    },
    {
     "name": "stderr",
     "output_type": "stream",
     "text": [
      " 62%|██████▏   | 1788/2874 [04:29<03:22,  5.36it/s]Setting `pad_token_id` to `eos_token_id`:128001 for open-end generation.\n",
      " 62%|██████▏   | 1789/2874 [04:29<03:08,  5.77it/s]Setting `pad_token_id` to `eos_token_id`:128001 for open-end generation.\n"
     ]
    },
    {
     "name": "stdout",
     "output_type": "stream",
     "text": [
      "logits is [[0.7705547  0.04925991 0.18018527]]\n",
      "logits is [[0.77885336 0.12517312 0.09597357]]\n"
     ]
    },
    {
     "name": "stderr",
     "output_type": "stream",
     "text": [
      " 62%|██████▏   | 1790/2874 [04:29<03:03,  5.90it/s]Setting `pad_token_id` to `eos_token_id`:128001 for open-end generation.\n",
      " 62%|██████▏   | 1791/2874 [04:30<02:58,  6.08it/s]Setting `pad_token_id` to `eos_token_id`:128001 for open-end generation.\n"
     ]
    },
    {
     "name": "stdout",
     "output_type": "stream",
     "text": [
      "logits is [[0.09922011 0.7564154  0.14436442]]\n",
      "logits is [[0.0519708  0.7879479  0.16008133]]\n"
     ]
    },
    {
     "name": "stderr",
     "output_type": "stream",
     "text": [
      " 62%|██████▏   | 1792/2874 [04:30<02:41,  6.71it/s]Setting `pad_token_id` to `eos_token_id`:128001 for open-end generation.\n",
      " 62%|██████▏   | 1793/2874 [04:30<02:39,  6.79it/s]Setting `pad_token_id` to `eos_token_id`:128001 for open-end generation.\n"
     ]
    },
    {
     "name": "stdout",
     "output_type": "stream",
     "text": [
      "logits is [[0.27989182 0.2933241  0.42678407]]\n",
      "logits is [[0.17806432 0.484029   0.3379067 ]]\n"
     ]
    },
    {
     "name": "stderr",
     "output_type": "stream",
     "text": [
      " 62%|██████▏   | 1794/2874 [04:30<02:26,  7.37it/s]Setting `pad_token_id` to `eos_token_id`:128001 for open-end generation.\n",
      " 62%|██████▏   | 1795/2874 [04:30<02:33,  7.03it/s]Setting `pad_token_id` to `eos_token_id`:128001 for open-end generation.\n"
     ]
    },
    {
     "name": "stdout",
     "output_type": "stream",
     "text": [
      "logits is [[0.2852721  0.19003218 0.5246957 ]]\n",
      "logits is [[0.30820146 0.45549226 0.23630626]]\n"
     ]
    },
    {
     "name": "stderr",
     "output_type": "stream",
     "text": [
      " 62%|██████▏   | 1796/2874 [04:30<02:45,  6.50it/s]Setting `pad_token_id` to `eos_token_id`:128001 for open-end generation.\n",
      " 63%|██████▎   | 1797/2874 [04:30<02:34,  6.97it/s]Setting `pad_token_id` to `eos_token_id`:128001 for open-end generation.\n"
     ]
    },
    {
     "name": "stdout",
     "output_type": "stream",
     "text": [
      "logits is [[0.45159075 0.26136068 0.28704855]]\n",
      "logits is [[0.2927996  0.246562   0.46063843]]\n"
     ]
    },
    {
     "name": "stderr",
     "output_type": "stream",
     "text": [
      " 63%|██████▎   | 1798/2874 [04:31<03:10,  5.65it/s]Setting `pad_token_id` to `eos_token_id`:128001 for open-end generation.\n",
      " 63%|██████▎   | 1799/2874 [04:31<02:57,  6.05it/s]Setting `pad_token_id` to `eos_token_id`:128001 for open-end generation.\n"
     ]
    },
    {
     "name": "stdout",
     "output_type": "stream",
     "text": [
      "logits is [[0.4888772  0.37483516 0.13628763]]\n",
      "logits is [[0.7703085  0.10589162 0.12379984]]\n"
     ]
    },
    {
     "name": "stderr",
     "output_type": "stream",
     "text": [
      " 63%|██████▎   | 1800/2874 [04:31<02:49,  6.35it/s]Setting `pad_token_id` to `eos_token_id`:128001 for open-end generation.\n",
      " 63%|██████▎   | 1801/2874 [04:31<02:55,  6.11it/s]Setting `pad_token_id` to `eos_token_id`:128001 for open-end generation.\n"
     ]
    },
    {
     "name": "stdout",
     "output_type": "stream",
     "text": [
      "logits is [[0.44721335 0.23566489 0.31712177]]\n",
      "logits is [[0.77707726 0.07227945 0.1506433 ]]\n"
     ]
    },
    {
     "name": "stderr",
     "output_type": "stream",
     "text": [
      " 63%|██████▎   | 1802/2874 [04:31<03:01,  5.91it/s]Setting `pad_token_id` to `eos_token_id`:128001 for open-end generation.\n",
      " 63%|██████▎   | 1803/2874 [04:31<03:05,  5.77it/s]Setting `pad_token_id` to `eos_token_id`:128001 for open-end generation.\n"
     ]
    },
    {
     "name": "stdout",
     "output_type": "stream",
     "text": [
      "logits is [[0.36699215 0.37277144 0.2602364 ]]\n",
      "logits is [[0.1043412  0.5640632  0.33159563]]\n"
     ]
    },
    {
     "name": "stderr",
     "output_type": "stream",
     "text": [
      " 63%|██████▎   | 1804/2874 [04:32<02:56,  6.06it/s]Setting `pad_token_id` to `eos_token_id`:128001 for open-end generation.\n",
      " 63%|██████▎   | 1805/2874 [04:32<02:40,  6.64it/s]Setting `pad_token_id` to `eos_token_id`:128001 for open-end generation.\n"
     ]
    },
    {
     "name": "stdout",
     "output_type": "stream",
     "text": [
      "logits is [[0.09251551 0.7868214  0.12066298]]\n",
      "logits is [[0.3075008  0.3273329  0.36516625]]\n"
     ]
    },
    {
     "name": "stderr",
     "output_type": "stream",
     "text": [
      " 63%|██████▎   | 1806/2874 [04:32<02:28,  7.17it/s]Setting `pad_token_id` to `eos_token_id`:128001 for open-end generation.\n",
      " 63%|██████▎   | 1807/2874 [04:32<02:21,  7.55it/s]Setting `pad_token_id` to `eos_token_id`:128001 for open-end generation.\n"
     ]
    },
    {
     "name": "stdout",
     "output_type": "stream",
     "text": [
      "logits is [[0.30636144 0.30636144 0.38727716]]\n",
      "logits is [[0.45934114 0.28299186 0.257667  ]]\n"
     ]
    },
    {
     "name": "stderr",
     "output_type": "stream",
     "text": [
      " 63%|██████▎   | 1808/2874 [04:32<02:43,  6.53it/s]Setting `pad_token_id` to `eos_token_id`:128001 for open-end generation.\n"
     ]
    },
    {
     "name": "stdout",
     "output_type": "stream",
     "text": [
      "logits is [[0.05875044 0.7738852  0.16736442]]\n"
     ]
    },
    {
     "name": "stderr",
     "output_type": "stream",
     "text": [
      " 63%|██████▎   | 1809/2874 [04:32<02:59,  5.95it/s]Setting `pad_token_id` to `eos_token_id`:128001 for open-end generation.\n",
      " 63%|██████▎   | 1810/2874 [04:32<02:43,  6.50it/s]Setting `pad_token_id` to `eos_token_id`:128001 for open-end generation.\n"
     ]
    },
    {
     "name": "stdout",
     "output_type": "stream",
     "text": [
      "logits is [[0.35763973 0.3807055  0.26165482]]\n",
      "logits is [[0.33209318 0.2796505  0.38825628]]\n"
     ]
    },
    {
     "name": "stderr",
     "output_type": "stream",
     "text": [
      " 63%|██████▎   | 1811/2874 [04:33<02:33,  6.93it/s]Setting `pad_token_id` to `eos_token_id`:128001 for open-end generation.\n",
      " 63%|██████▎   | 1812/2874 [04:33<02:24,  7.36it/s]Setting `pad_token_id` to `eos_token_id`:128001 for open-end generation.\n"
     ]
    },
    {
     "name": "stdout",
     "output_type": "stream",
     "text": [
      "logits is [[0.24484725 0.5103055  0.24484725]]\n",
      "logits is [[0.8459479  0.03956551 0.1144866 ]]\n"
     ]
    },
    {
     "name": "stderr",
     "output_type": "stream",
     "text": [
      " 63%|██████▎   | 1813/2874 [04:33<02:25,  7.29it/s]Setting `pad_token_id` to `eos_token_id`:128001 for open-end generation.\n",
      " 63%|██████▎   | 1814/2874 [04:33<02:41,  6.56it/s]Setting `pad_token_id` to `eos_token_id`:128001 for open-end generation.\n"
     ]
    },
    {
     "name": "stdout",
     "output_type": "stream",
     "text": [
      "logits is [[0.6760718  0.15564057 0.16828758]]\n",
      "logits is [[0.7302135  0.10685385 0.16293266]]\n"
     ]
    },
    {
     "name": "stderr",
     "output_type": "stream",
     "text": [
      " 63%|██████▎   | 1815/2874 [04:33<02:41,  6.54it/s]Setting `pad_token_id` to `eos_token_id`:128001 for open-end generation.\n"
     ]
    },
    {
     "name": "stdout",
     "output_type": "stream",
     "text": [
      "logits is [[0.3573381  0.36868125 0.27398065]]\n"
     ]
    },
    {
     "name": "stderr",
     "output_type": "stream",
     "text": [
      " 63%|██████▎   | 1816/2874 [04:33<03:16,  5.40it/s]Setting `pad_token_id` to `eos_token_id`:128001 for open-end generation.\n",
      " 63%|██████▎   | 1817/2874 [04:34<03:00,  5.87it/s]Setting `pad_token_id` to `eos_token_id`:128001 for open-end generation.\n"
     ]
    },
    {
     "name": "stdout",
     "output_type": "stream",
     "text": [
      "logits is [[0.61335737 0.05705113 0.32959148]]\n",
      "logits is [[0.41561016 0.18156664 0.40282318]]\n"
     ]
    },
    {
     "name": "stderr",
     "output_type": "stream",
     "text": [
      " 63%|██████▎   | 1818/2874 [04:34<03:26,  5.11it/s]Setting `pad_token_id` to `eos_token_id`:128001 for open-end generation.\n"
     ]
    },
    {
     "name": "stdout",
     "output_type": "stream",
     "text": [
      "logits is [[0.4284606  0.18142162 0.39011782]]\n"
     ]
    },
    {
     "name": "stderr",
     "output_type": "stream",
     "text": [
      " 63%|██████▎   | 1819/2874 [04:34<03:40,  4.79it/s]Setting `pad_token_id` to `eos_token_id`:128001 for open-end generation.\n",
      " 63%|██████▎   | 1820/2874 [04:34<03:26,  5.11it/s]Setting `pad_token_id` to `eos_token_id`:128001 for open-end generation.\n"
     ]
    },
    {
     "name": "stdout",
     "output_type": "stream",
     "text": [
      "logits is [[0.43774855 0.3008599  0.26139158]]\n",
      "logits is [[0.663876   0.10669458 0.22942942]]\n"
     ]
    },
    {
     "name": "stderr",
     "output_type": "stream",
     "text": [
      " 63%|██████▎   | 1821/2874 [04:35<03:44,  4.69it/s]Setting `pad_token_id` to `eos_token_id`:128001 for open-end generation.\n"
     ]
    },
    {
     "name": "stdout",
     "output_type": "stream",
     "text": [
      "logits is [[0.3298747  0.29339662 0.3767287 ]]\n"
     ]
    },
    {
     "name": "stderr",
     "output_type": "stream",
     "text": [
      " 63%|██████▎   | 1822/2874 [04:35<03:46,  4.65it/s]Setting `pad_token_id` to `eos_token_id`:128001 for open-end generation.\n",
      " 63%|██████▎   | 1823/2874 [04:35<03:25,  5.13it/s]Setting `pad_token_id` to `eos_token_id`:128001 for open-end generation.\n"
     ]
    },
    {
     "name": "stdout",
     "output_type": "stream",
     "text": [
      "logits is [[0.28988308 0.4420189  0.26809803]]\n",
      "logits is [[0.5434061  0.16572951 0.29086435]]\n"
     ]
    },
    {
     "name": "stderr",
     "output_type": "stream",
     "text": [
      " 63%|██████▎   | 1824/2874 [04:35<03:01,  5.79it/s]Setting `pad_token_id` to `eos_token_id`:128001 for open-end generation.\n"
     ]
    },
    {
     "name": "stdout",
     "output_type": "stream",
     "text": [
      "logits is [[0.76263654 0.13252635 0.10483698]]\n"
     ]
    },
    {
     "name": "stderr",
     "output_type": "stream",
     "text": [
      " 64%|██████▎   | 1825/2874 [04:35<03:27,  5.04it/s]Setting `pad_token_id` to `eos_token_id`:128001 for open-end generation.\n",
      " 64%|██████▎   | 1826/2874 [04:35<03:06,  5.61it/s]Setting `pad_token_id` to `eos_token_id`:128001 for open-end generation.\n"
     ]
    },
    {
     "name": "stdout",
     "output_type": "stream",
     "text": [
      "logits is [[0.65087277 0.16264914 0.18647818]]\n",
      "logits is [[0.23844242 0.5543952  0.20716235]]\n"
     ]
    },
    {
     "name": "stderr",
     "output_type": "stream",
     "text": [
      " 64%|██████▎   | 1827/2874 [04:36<03:07,  5.57it/s]Setting `pad_token_id` to `eos_token_id`:128001 for open-end generation.\n",
      " 64%|██████▎   | 1828/2874 [04:36<02:48,  6.20it/s]Setting `pad_token_id` to `eos_token_id`:128001 for open-end generation.\n"
     ]
    },
    {
     "name": "stdout",
     "output_type": "stream",
     "text": [
      "logits is [[0.23371385 0.1968068  0.56947935]]\n",
      "logits is [[0.4149286  0.33340448 0.2516669 ]]\n"
     ]
    },
    {
     "name": "stderr",
     "output_type": "stream",
     "text": [
      " 64%|██████▎   | 1829/2874 [04:36<02:50,  6.13it/s]Setting `pad_token_id` to `eos_token_id`:128001 for open-end generation.\n",
      " 64%|██████▎   | 1830/2874 [04:36<02:47,  6.25it/s]Setting `pad_token_id` to `eos_token_id`:128001 for open-end generation.\n"
     ]
    },
    {
     "name": "stdout",
     "output_type": "stream",
     "text": [
      "logits is [[0.18782899 0.6870499  0.12512109]]\n",
      "logits is [[0.2180117  0.5148748  0.26711354]]\n"
     ]
    },
    {
     "name": "stderr",
     "output_type": "stream",
     "text": [
      " 64%|██████▎   | 1831/2874 [04:36<02:36,  6.65it/s]Setting `pad_token_id` to `eos_token_id`:128001 for open-end generation.\n",
      " 64%|██████▎   | 1832/2874 [04:36<02:40,  6.51it/s]Setting `pad_token_id` to `eos_token_id`:128001 for open-end generation.\n"
     ]
    },
    {
     "name": "stdout",
     "output_type": "stream",
     "text": [
      "logits is [[0.29889584 0.40220833 0.29889584]]\n",
      "logits is [[0.49031413 0.30207378 0.20761205]]\n"
     ]
    },
    {
     "name": "stderr",
     "output_type": "stream",
     "text": [
      " 64%|██████▍   | 1833/2874 [04:36<02:27,  7.08it/s]Setting `pad_token_id` to `eos_token_id`:128001 for open-end generation.\n",
      " 64%|██████▍   | 1834/2874 [04:37<02:40,  6.49it/s]Setting `pad_token_id` to `eos_token_id`:128001 for open-end generation.\n"
     ]
    },
    {
     "name": "stdout",
     "output_type": "stream",
     "text": [
      "logits is [[0.36096093 0.3444313  0.29460773]]\n",
      "logits is [[0.17024466 0.4083957  0.4213596 ]]\n"
     ]
    },
    {
     "name": "stderr",
     "output_type": "stream",
     "text": [
      " 64%|██████▍   | 1835/2874 [04:37<02:33,  6.79it/s]Setting `pad_token_id` to `eos_token_id`:128001 for open-end generation.\n"
     ]
    },
    {
     "name": "stdout",
     "output_type": "stream",
     "text": [
      "logits is [[0.5761169  0.21194157 0.21194157]]\n"
     ]
    },
    {
     "name": "stderr",
     "output_type": "stream",
     "text": [
      " 64%|██████▍   | 1836/2874 [04:37<03:08,  5.51it/s]Setting `pad_token_id` to `eos_token_id`:128001 for open-end generation.\n",
      " 64%|██████▍   | 1837/2874 [04:37<02:52,  6.02it/s]Setting `pad_token_id` to `eos_token_id`:128001 for open-end generation.\n"
     ]
    },
    {
     "name": "stdout",
     "output_type": "stream",
     "text": [
      "logits is [[0.18694483 0.5848986  0.2281566 ]]\n",
      "logits is [[0.8374002  0.06258666 0.1000132 ]]\n"
     ]
    },
    {
     "name": "stderr",
     "output_type": "stream",
     "text": [
      " 64%|██████▍   | 1838/2874 [04:37<02:55,  5.90it/s]Setting `pad_token_id` to `eos_token_id`:128001 for open-end generation.\n",
      " 64%|██████▍   | 1839/2874 [04:37<02:43,  6.33it/s]Setting `pad_token_id` to `eos_token_id`:128001 for open-end generation.\n"
     ]
    },
    {
     "name": "stdout",
     "output_type": "stream",
     "text": [
      "logits is [[0.7410473  0.04663911 0.21231362]]\n",
      "logits is [[0.11594439 0.79233605 0.09171955]]\n"
     ]
    },
    {
     "name": "stderr",
     "output_type": "stream",
     "text": [
      " 64%|██████▍   | 1840/2874 [04:38<03:14,  5.32it/s]Setting `pad_token_id` to `eos_token_id`:128001 for open-end generation.\n",
      " 64%|██████▍   | 1841/2874 [04:38<02:51,  6.03it/s]Setting `pad_token_id` to `eos_token_id`:128001 for open-end generation.\n"
     ]
    },
    {
     "name": "stdout",
     "output_type": "stream",
     "text": [
      "logits is [[0.3162908  0.16830918 0.5154    ]]\n",
      "logits is [[0.31259924 0.35979953 0.3276012 ]]\n"
     ]
    },
    {
     "name": "stderr",
     "output_type": "stream",
     "text": [
      " 64%|██████▍   | 1842/2874 [04:38<03:17,  5.22it/s]Setting `pad_token_id` to `eos_token_id`:128001 for open-end generation.\n",
      " 64%|██████▍   | 1843/2874 [04:38<03:03,  5.62it/s]Setting `pad_token_id` to `eos_token_id`:128001 for open-end generation.\n"
     ]
    },
    {
     "name": "stdout",
     "output_type": "stream",
     "text": [
      "logits is [[0.34838104 0.38864714 0.26297182]]\n",
      "logits is [[0.44772413 0.2632034  0.28907242]]\n"
     ]
    },
    {
     "name": "stderr",
     "output_type": "stream",
     "text": [
      " 64%|██████▍   | 1844/2874 [04:38<03:10,  5.42it/s]Setting `pad_token_id` to `eos_token_id`:128001 for open-end generation.\n",
      " 64%|██████▍   | 1845/2874 [04:39<02:47,  6.13it/s]Setting `pad_token_id` to `eos_token_id`:128001 for open-end generation.\n"
     ]
    },
    {
     "name": "stdout",
     "output_type": "stream",
     "text": [
      "logits is [[0.33105227 0.35795286 0.31099483]]\n",
      "logits is [[0.72489023 0.0674253  0.20768453]]\n"
     ]
    },
    {
     "name": "stderr",
     "output_type": "stream",
     "text": [
      " 64%|██████▍   | 1846/2874 [04:39<02:53,  5.91it/s]Setting `pad_token_id` to `eos_token_id`:128001 for open-end generation.\n",
      " 64%|██████▍   | 1847/2874 [04:39<02:53,  5.93it/s]Setting `pad_token_id` to `eos_token_id`:128001 for open-end generation.\n"
     ]
    },
    {
     "name": "stdout",
     "output_type": "stream",
     "text": [
      "logits is [[0.11167617 0.5163854  0.37193847]]\n",
      "logits is [[0.83707935 0.03455039 0.12837029]]\n"
     ]
    },
    {
     "name": "stderr",
     "output_type": "stream",
     "text": [
      " 64%|██████▍   | 1848/2874 [04:39<03:07,  5.46it/s]Setting `pad_token_id` to `eos_token_id`:128001 for open-end generation.\n",
      " 64%|██████▍   | 1849/2874 [04:39<02:56,  5.79it/s]Setting `pad_token_id` to `eos_token_id`:128001 for open-end generation.\n"
     ]
    },
    {
     "name": "stdout",
     "output_type": "stream",
     "text": [
      "logits is [[0.32855195 0.37229812 0.29914996]]\n",
      "logits is [[0.6662458  0.10707545 0.22667871]]\n"
     ]
    },
    {
     "name": "stderr",
     "output_type": "stream",
     "text": [
      " 64%|██████▍   | 1850/2874 [04:39<02:39,  6.40it/s]Setting `pad_token_id` to `eos_token_id`:128001 for open-end generation.\n",
      " 64%|██████▍   | 1851/2874 [04:39<02:26,  6.99it/s]Setting `pad_token_id` to `eos_token_id`:128001 for open-end generation.\n"
     ]
    },
    {
     "name": "stdout",
     "output_type": "stream",
     "text": [
      "logits is [[0.22507997 0.6023452  0.1725748 ]]\n",
      "logits is [[0.43151805 0.3108108  0.25767118]]\n"
     ]
    },
    {
     "name": "stderr",
     "output_type": "stream",
     "text": [
      " 64%|██████▍   | 1852/2874 [04:40<02:22,  7.16it/s]Setting `pad_token_id` to `eos_token_id`:128001 for open-end generation.\n",
      " 64%|██████▍   | 1853/2874 [04:40<02:15,  7.54it/s]Setting `pad_token_id` to `eos_token_id`:128001 for open-end generation.\n"
     ]
    },
    {
     "name": "stdout",
     "output_type": "stream",
     "text": [
      "logits is [[0.5442996  0.09311868 0.3625817 ]]\n",
      "logits is [[0.28184822 0.4574848  0.260667  ]]\n"
     ]
    },
    {
     "name": "stderr",
     "output_type": "stream",
     "text": [
      " 65%|██████▍   | 1854/2874 [04:40<02:52,  5.91it/s]Setting `pad_token_id` to `eos_token_id`:128001 for open-end generation.\n",
      " 65%|██████▍   | 1855/2874 [04:40<02:40,  6.35it/s]Setting `pad_token_id` to `eos_token_id`:128001 for open-end generation.\n"
     ]
    },
    {
     "name": "stdout",
     "output_type": "stream",
     "text": [
      "logits is [[0.14673653 0.1109791  0.7422844 ]]\n",
      "logits is [[0.2410409 0.5023724 0.2565867]]\n"
     ]
    },
    {
     "name": "stderr",
     "output_type": "stream",
     "text": [
      " 65%|██████▍   | 1856/2874 [04:40<02:43,  6.24it/s]Setting `pad_token_id` to `eos_token_id`:128001 for open-end generation.\n",
      " 65%|██████▍   | 1857/2874 [04:40<02:30,  6.76it/s]Setting `pad_token_id` to `eos_token_id`:128001 for open-end generation.\n"
     ]
    },
    {
     "name": "stdout",
     "output_type": "stream",
     "text": [
      "logits is [[0.849124   0.06547742 0.08539865]]\n",
      "logits is [[0.81030107 0.03505018 0.15464866]]\n"
     ]
    },
    {
     "name": "stderr",
     "output_type": "stream",
     "text": [
      " 65%|██████▍   | 1858/2874 [04:41<02:20,  7.22it/s]Setting `pad_token_id` to `eos_token_id`:128001 for open-end generation.\n",
      " 65%|██████▍   | 1859/2874 [04:41<02:14,  7.52it/s]Setting `pad_token_id` to `eos_token_id`:128001 for open-end generation.\n"
     ]
    },
    {
     "name": "stdout",
     "output_type": "stream",
     "text": [
      "logits is [[0.1966424 0.4791491 0.3242085]]\n",
      "logits is [[0.09151789 0.63526005 0.27322194]]\n"
     ]
    },
    {
     "name": "stderr",
     "output_type": "stream",
     "text": [
      " 65%|██████▍   | 1860/2874 [04:41<02:13,  7.62it/s]Setting `pad_token_id` to `eos_token_id`:128001 for open-end generation.\n",
      " 65%|██████▍   | 1861/2874 [04:41<02:21,  7.14it/s]Setting `pad_token_id` to `eos_token_id`:128001 for open-end generation.\n"
     ]
    },
    {
     "name": "stdout",
     "output_type": "stream",
     "text": [
      "logits is [[0.31358114 0.3964037  0.29001516]]\n",
      "logits is [[0.76226187 0.06765458 0.17008361]]\n"
     ]
    },
    {
     "name": "stderr",
     "output_type": "stream",
     "text": [
      " 65%|██████▍   | 1862/2874 [04:41<02:29,  6.77it/s]Setting `pad_token_id` to `eos_token_id`:128001 for open-end generation.\n",
      " 65%|██████▍   | 1863/2874 [04:41<02:21,  7.17it/s]Setting `pad_token_id` to `eos_token_id`:128001 for open-end generation.\n"
     ]
    },
    {
     "name": "stdout",
     "output_type": "stream",
     "text": [
      "logits is [[0.84092534 0.08326288 0.07581172]]\n",
      "logits is [[0.2913659  0.27802327 0.43061087]]\n"
     ]
    },
    {
     "name": "stderr",
     "output_type": "stream",
     "text": [
      " 65%|██████▍   | 1864/2874 [04:41<02:13,  7.54it/s]Setting `pad_token_id` to `eos_token_id`:128001 for open-end generation.\n",
      " 65%|██████▍   | 1865/2874 [04:41<02:16,  7.38it/s]Setting `pad_token_id` to `eos_token_id`:128001 for open-end generation.\n"
     ]
    },
    {
     "name": "stdout",
     "output_type": "stream",
     "text": [
      "logits is [[0.14553939 0.0676821  0.7867785 ]]\n",
      "logits is [[0.7875667  0.08975405 0.12267923]]\n"
     ]
    },
    {
     "name": "stderr",
     "output_type": "stream",
     "text": [
      " 65%|██████▍   | 1866/2874 [04:42<02:19,  7.21it/s]Setting `pad_token_id` to `eos_token_id`:128001 for open-end generation.\n",
      " 65%|██████▍   | 1867/2874 [04:42<02:31,  6.67it/s]Setting `pad_token_id` to `eos_token_id`:128001 for open-end generation.\n"
     ]
    },
    {
     "name": "stdout",
     "output_type": "stream",
     "text": [
      "logits is [[0.2879053 0.3754993 0.3365954]]\n",
      "logits is [[0.11591621 0.7100729  0.17401084]]\n"
     ]
    },
    {
     "name": "stderr",
     "output_type": "stream",
     "text": [
      " 65%|██████▍   | 1868/2874 [04:42<02:25,  6.92it/s]Setting `pad_token_id` to `eos_token_id`:128001 for open-end generation.\n"
     ]
    },
    {
     "name": "stdout",
     "output_type": "stream",
     "text": [
      "logits is [[0.35425708 0.36550242 0.28024042]]\n"
     ]
    },
    {
     "name": "stderr",
     "output_type": "stream",
     "text": [
      " 65%|██████▌   | 1869/2874 [04:42<02:58,  5.63it/s]Setting `pad_token_id` to `eos_token_id`:128001 for open-end generation.\n",
      " 65%|██████▌   | 1870/2874 [04:42<02:44,  6.10it/s]Setting `pad_token_id` to `eos_token_id`:128001 for open-end generation.\n"
     ]
    },
    {
     "name": "stdout",
     "output_type": "stream",
     "text": [
      "logits is [[0.8433916 0.0272701 0.1293383]]\n",
      "logits is [[0.20948623 0.5967707  0.19374308]]\n"
     ]
    },
    {
     "name": "stderr",
     "output_type": "stream",
     "text": [
      " 65%|██████▌   | 1871/2874 [04:42<02:31,  6.63it/s]Setting `pad_token_id` to `eos_token_id`:128001 for open-end generation.\n",
      " 65%|██████▌   | 1872/2874 [04:43<02:28,  6.76it/s]Setting `pad_token_id` to `eos_token_id`:128001 for open-end generation.\n"
     ]
    },
    {
     "name": "stdout",
     "output_type": "stream",
     "text": [
      "logits is [[0.10030838 0.764712   0.13497968]]\n",
      "logits is [[0.11705562 0.6427618  0.24018255]]\n"
     ]
    },
    {
     "name": "stderr",
     "output_type": "stream",
     "text": [
      " 65%|██████▌   | 1873/2874 [04:43<02:18,  7.20it/s]Setting `pad_token_id` to `eos_token_id`:128001 for open-end generation.\n",
      " 65%|██████▌   | 1874/2874 [04:43<02:30,  6.64it/s]Setting `pad_token_id` to `eos_token_id`:128001 for open-end generation.\n"
     ]
    },
    {
     "name": "stdout",
     "output_type": "stream",
     "text": [
      "logits is [[0.02575567 0.9222164  0.05202789]]\n",
      "logits is [[0.40317813 0.22972399 0.36709785]]\n"
     ]
    },
    {
     "name": "stderr",
     "output_type": "stream",
     "text": [
      " 65%|██████▌   | 1875/2874 [04:43<02:21,  7.08it/s]Setting `pad_token_id` to `eos_token_id`:128001 for open-end generation.\n",
      " 65%|██████▌   | 1876/2874 [04:43<02:12,  7.52it/s]Setting `pad_token_id` to `eos_token_id`:128001 for open-end generation.\n"
     ]
    },
    {
     "name": "stdout",
     "output_type": "stream",
     "text": [
      "logits is [[0.35865295 0.4463508  0.19499624]]\n",
      "logits is [[0.11141056 0.72648805 0.1621014 ]]\n"
     ]
    },
    {
     "name": "stderr",
     "output_type": "stream",
     "text": [
      " 65%|██████▌   | 1877/2874 [04:43<02:20,  7.08it/s]Setting `pad_token_id` to `eos_token_id`:128001 for open-end generation.\n",
      " 65%|██████▌   | 1878/2874 [04:43<02:12,  7.51it/s]Setting `pad_token_id` to `eos_token_id`:128001 for open-end generation.\n"
     ]
    },
    {
     "name": "stdout",
     "output_type": "stream",
     "text": [
      "logits is [[0.0091903  0.9229021  0.06790762]]\n",
      "logits is [[0.7374747  0.07895331 0.18357196]]\n"
     ]
    },
    {
     "name": "stderr",
     "output_type": "stream",
     "text": [
      " 65%|██████▌   | 1879/2874 [04:43<02:09,  7.71it/s]Setting `pad_token_id` to `eos_token_id`:128001 for open-end generation.\n",
      " 65%|██████▌   | 1880/2874 [04:44<02:27,  6.73it/s]"
     ]
    },
    {
     "name": "stdout",
     "output_type": "stream",
     "text": [
      "logits is [[0.24379128 0.6128912  0.14331749]]\n",
      "logits is [[0.3326562  0.35968712 0.3076567 ]]\n"
     ]
    },
    {
     "name": "stderr",
     "output_type": "stream",
     "text": [
      "Setting `pad_token_id` to `eos_token_id`:128001 for open-end generation.\n",
      " 65%|██████▌   | 1881/2874 [04:44<02:27,  6.75it/s]Setting `pad_token_id` to `eos_token_id`:128001 for open-end generation.\n",
      " 65%|██████▌   | 1882/2874 [04:44<02:15,  7.30it/s]Setting `pad_token_id` to `eos_token_id`:128001 for open-end generation.\n"
     ]
    },
    {
     "name": "stdout",
     "output_type": "stream",
     "text": [
      "logits is [[0.04880404 0.7754458  0.1757501 ]]\n",
      "logits is [[0.47115448 0.2726833  0.25616226]]\n"
     ]
    },
    {
     "name": "stderr",
     "output_type": "stream",
     "text": [
      " 66%|██████▌   | 1883/2874 [04:44<02:09,  7.64it/s]Setting `pad_token_id` to `eos_token_id`:128001 for open-end generation.\n",
      " 66%|██████▌   | 1884/2874 [04:44<02:08,  7.73it/s]Setting `pad_token_id` to `eos_token_id`:128001 for open-end generation.\n"
     ]
    },
    {
     "name": "stdout",
     "output_type": "stream",
     "text": [
      "logits is [[0.68562126 0.14371403 0.17066462]]\n",
      "logits is [[0.8481784  0.0456597  0.10616197]]\n"
     ]
    },
    {
     "name": "stderr",
     "output_type": "stream",
     "text": [
      " 66%|██████▌   | 1885/2874 [04:44<02:45,  5.99it/s]Setting `pad_token_id` to `eos_token_id`:128001 for open-end generation.\n",
      " 66%|██████▌   | 1886/2874 [04:45<02:33,  6.44it/s]Setting `pad_token_id` to `eos_token_id`:128001 for open-end generation.\n"
     ]
    },
    {
     "name": "stdout",
     "output_type": "stream",
     "text": [
      "logits is [[0.27906844 0.12142584 0.5995057 ]]\n",
      "logits is [[0.4007495  0.14514185 0.4541087 ]]\n"
     ]
    },
    {
     "name": "stderr",
     "output_type": "stream",
     "text": [
      " 66%|██████▌   | 1887/2874 [04:45<02:57,  5.57it/s]Setting `pad_token_id` to `eos_token_id`:128001 for open-end generation.\n",
      " 66%|██████▌   | 1888/2874 [04:45<02:37,  6.25it/s]Setting `pad_token_id` to `eos_token_id`:128001 for open-end generation.\n"
     ]
    },
    {
     "name": "stdout",
     "output_type": "stream",
     "text": [
      "logits is [[0.3634747  0.35783952 0.27868572]]\n",
      "logits is [[0.24824907 0.3905506  0.36120027]]\n"
     ]
    },
    {
     "name": "stderr",
     "output_type": "stream",
     "text": [
      " 66%|██████▌   | 1889/2874 [04:45<02:28,  6.63it/s]Setting `pad_token_id` to `eos_token_id`:128001 for open-end generation.\n"
     ]
    },
    {
     "name": "stdout",
     "output_type": "stream",
     "text": [
      "logits is [[0.37380454 0.3350762  0.29111928]]\n"
     ]
    },
    {
     "name": "stderr",
     "output_type": "stream",
     "text": [
      " 66%|██████▌   | 1890/2874 [04:45<02:48,  5.84it/s]Setting `pad_token_id` to `eos_token_id`:128001 for open-end generation.\n",
      " 66%|██████▌   | 1891/2874 [04:45<02:55,  5.59it/s]Setting `pad_token_id` to `eos_token_id`:128001 for open-end generation.\n"
     ]
    },
    {
     "name": "stdout",
     "output_type": "stream",
     "text": [
      "logits is [[0.13727497 0.6971398  0.16558522]]\n",
      "logits is [[0.7028496 0.0653752 0.2317752]]\n"
     ]
    },
    {
     "name": "stderr",
     "output_type": "stream",
     "text": [
      " 66%|██████▌   | 1892/2874 [04:46<02:37,  6.25it/s]Setting `pad_token_id` to `eos_token_id`:128001 for open-end generation.\n",
      " 66%|██████▌   | 1893/2874 [04:46<02:36,  6.27it/s]Setting `pad_token_id` to `eos_token_id`:128001 for open-end generation.\n"
     ]
    },
    {
     "name": "stdout",
     "output_type": "stream",
     "text": [
      "logits is [[0.16915861 0.70114297 0.12969841]]\n",
      "logits is [[0.28587192 0.4497397  0.26438832]]\n"
     ]
    },
    {
     "name": "stderr",
     "output_type": "stream",
     "text": [
      " 66%|██████▌   | 1894/2874 [04:46<02:48,  5.82it/s]Setting `pad_token_id` to `eos_token_id`:128001 for open-end generation.\n",
      " 66%|██████▌   | 1895/2874 [04:46<02:51,  5.71it/s]Setting `pad_token_id` to `eos_token_id`:128001 for open-end generation.\n"
     ]
    },
    {
     "name": "stdout",
     "output_type": "stream",
     "text": [
      "logits is [[0.2715877  0.46926147 0.2591508 ]]\n",
      "logits is [[0.30821198 0.383576   0.30821198]]\n"
     ]
    },
    {
     "name": "stderr",
     "output_type": "stream",
     "text": [
      " 66%|██████▌   | 1896/2874 [04:46<02:43,  5.97it/s]Setting `pad_token_id` to `eos_token_id`:128001 for open-end generation.\n",
      " 66%|██████▌   | 1897/2874 [04:46<02:37,  6.21it/s]Setting `pad_token_id` to `eos_token_id`:128001 for open-end generation.\n"
     ]
    },
    {
     "name": "stdout",
     "output_type": "stream",
     "text": [
      "logits is [[0.24774778 0.2439068  0.5083454 ]]\n",
      "logits is [[0.30636144 0.38727716 0.30636144]]\n"
     ]
    },
    {
     "name": "stderr",
     "output_type": "stream",
     "text": [
      " 66%|██████▌   | 1898/2874 [04:47<02:27,  6.61it/s]Setting `pad_token_id` to `eos_token_id`:128001 for open-end generation.\n",
      " 66%|██████▌   | 1899/2874 [04:47<02:24,  6.73it/s]Setting `pad_token_id` to `eos_token_id`:128001 for open-end generation.\n"
     ]
    },
    {
     "name": "stdout",
     "output_type": "stream",
     "text": [
      "logits is [[0.77351034 0.11678259 0.10970709]]\n",
      "logits is [[0.39953256 0.35813865 0.24232875]]\n"
     ]
    },
    {
     "name": "stderr",
     "output_type": "stream",
     "text": [
      " 66%|██████▌   | 1900/2874 [04:47<02:16,  7.12it/s]Setting `pad_token_id` to `eos_token_id`:128001 for open-end generation.\n",
      " 66%|██████▌   | 1901/2874 [04:47<02:23,  6.78it/s]Setting `pad_token_id` to `eos_token_id`:128001 for open-end generation.\n"
     ]
    },
    {
     "name": "stdout",
     "output_type": "stream",
     "text": [
      "logits is [[0.18792008 0.6767262  0.13535376]]\n",
      "logits is [[0.49580306 0.30071977 0.20347716]]\n"
     ]
    },
    {
     "name": "stderr",
     "output_type": "stream",
     "text": [
      " 66%|██████▌   | 1902/2874 [04:47<02:17,  7.05it/s]Setting `pad_token_id` to `eos_token_id`:128001 for open-end generation.\n",
      " 66%|██████▌   | 1903/2874 [04:47<02:10,  7.44it/s]Setting `pad_token_id` to `eos_token_id`:128001 for open-end generation.\n"
     ]
    },
    {
     "name": "stdout",
     "output_type": "stream",
     "text": [
      "logits is [[0.3500901  0.40929678 0.24061315]]\n",
      "logits is [[0.7559477 0.1106196 0.1334327]]\n"
     ]
    },
    {
     "name": "stderr",
     "output_type": "stream",
     "text": [
      " 66%|██████▌   | 1904/2874 [04:47<02:23,  6.75it/s]Setting `pad_token_id` to `eos_token_id`:128001 for open-end generation.\n",
      " 66%|██████▋   | 1905/2874 [04:48<02:15,  7.16it/s]Setting `pad_token_id` to `eos_token_id`:128001 for open-end generation.\n"
     ]
    },
    {
     "name": "stdout",
     "output_type": "stream",
     "text": [
      "logits is [[0.43828893 0.27427423 0.2874369 ]]\n",
      "logits is [[0.42624712 0.26673865 0.3070143 ]]\n"
     ]
    },
    {
     "name": "stderr",
     "output_type": "stream",
     "text": [
      " 66%|██████▋   | 1906/2874 [04:48<02:09,  7.47it/s]Setting `pad_token_id` to `eos_token_id`:128001 for open-end generation.\n",
      " 66%|██████▋   | 1907/2874 [04:48<02:27,  6.55it/s]"
     ]
    },
    {
     "name": "stdout",
     "output_type": "stream",
     "text": [
      "logits is [[0.44293427 0.33434433 0.22272134]]\n",
      "logits is [[0.12449357 0.6943694  0.18113708]]\n"
     ]
    },
    {
     "name": "stderr",
     "output_type": "stream",
     "text": [
      "Setting `pad_token_id` to `eos_token_id`:128001 for open-end generation.\n",
      " 66%|██████▋   | 1908/2874 [04:48<02:20,  6.87it/s]Setting `pad_token_id` to `eos_token_id`:128001 for open-end generation.\n",
      " 66%|██████▋   | 1909/2874 [04:48<02:31,  6.37it/s]Setting `pad_token_id` to `eos_token_id`:128001 for open-end generation.\n"
     ]
    },
    {
     "name": "stdout",
     "output_type": "stream",
     "text": [
      "logits is [[0.69096464 0.09498449 0.21405086]]\n",
      "logits is [[0.3518334  0.39867947 0.24948725]]\n"
     ]
    },
    {
     "name": "stderr",
     "output_type": "stream",
     "text": [
      " 66%|██████▋   | 1910/2874 [04:48<02:19,  6.89it/s]Setting `pad_token_id` to `eos_token_id`:128001 for open-end generation.\n",
      " 66%|██████▋   | 1911/2874 [04:48<02:25,  6.62it/s]Setting `pad_token_id` to `eos_token_id`:128001 for open-end generation.\n"
     ]
    },
    {
     "name": "stdout",
     "output_type": "stream",
     "text": [
      "logits is [[0.41541716 0.29000792 0.2945749 ]]\n",
      "logits is [[0.17163363 0.61807644 0.21028991]]\n"
     ]
    },
    {
     "name": "stderr",
     "output_type": "stream",
     "text": [
      " 67%|██████▋   | 1912/2874 [04:49<02:15,  7.13it/s]Setting `pad_token_id` to `eos_token_id`:128001 for open-end generation.\n",
      " 67%|██████▋   | 1913/2874 [04:49<02:22,  6.75it/s]Setting `pad_token_id` to `eos_token_id`:128001 for open-end generation.\n"
     ]
    },
    {
     "name": "stdout",
     "output_type": "stream",
     "text": [
      "logits is [[0.57587725 0.18406144 0.24006134]]\n",
      "logits is [[0.29792732 0.44724187 0.25483075]]\n"
     ]
    },
    {
     "name": "stderr",
     "output_type": "stream",
     "text": [
      " 67%|██████▋   | 1914/2874 [04:49<02:45,  5.80it/s]Setting `pad_token_id` to `eos_token_id`:128001 for open-end generation.\n",
      " 67%|██████▋   | 1915/2874 [04:49<02:43,  5.86it/s]Setting `pad_token_id` to `eos_token_id`:128001 for open-end generation.\n"
     ]
    },
    {
     "name": "stdout",
     "output_type": "stream",
     "text": [
      "logits is [[0.6391712  0.12198795 0.23884082]]\n",
      "logits is [[0.1915949  0.46685013 0.34155488]]\n"
     ]
    },
    {
     "name": "stderr",
     "output_type": "stream",
     "text": [
      " 67%|██████▋   | 1916/2874 [04:49<02:46,  5.75it/s]Setting `pad_token_id` to `eos_token_id`:128001 for open-end generation.\n",
      " 67%|██████▋   | 1917/2874 [04:49<02:48,  5.68it/s]Setting `pad_token_id` to `eos_token_id`:128001 for open-end generation.\n"
     ]
    },
    {
     "name": "stdout",
     "output_type": "stream",
     "text": [
      "logits is [[0.62530166 0.13736054 0.23733774]]\n",
      "logits is [[0.17168488 0.346813   0.48150215]]\n"
     ]
    },
    {
     "name": "stderr",
     "output_type": "stream",
     "text": [
      " 67%|██████▋   | 1918/2874 [04:50<03:02,  5.24it/s]Setting `pad_token_id` to `eos_token_id`:128001 for open-end generation.\n",
      " 67%|██████▋   | 1919/2874 [04:50<02:39,  5.99it/s]Setting `pad_token_id` to `eos_token_id`:128001 for open-end generation.\n"
     ]
    },
    {
     "name": "stdout",
     "output_type": "stream",
     "text": [
      "logits is [[0.29127035 0.3682002  0.34052953]]\n",
      "logits is [[0.5767673  0.23303506 0.19019768]]\n"
     ]
    },
    {
     "name": "stderr",
     "output_type": "stream",
     "text": [
      " 67%|██████▋   | 1920/2874 [04:50<02:23,  6.67it/s]Setting `pad_token_id` to `eos_token_id`:128001 for open-end generation.\n",
      " 67%|██████▋   | 1921/2874 [04:50<02:20,  6.76it/s]Setting `pad_token_id` to `eos_token_id`:128001 for open-end generation.\n"
     ]
    },
    {
     "name": "stdout",
     "output_type": "stream",
     "text": [
      "logits is [[0.18478256 0.19979757 0.61541986]]\n",
      "logits is [[0.06759299 0.8495903  0.08281665]]\n"
     ]
    },
    {
     "name": "stderr",
     "output_type": "stream",
     "text": [
      " 67%|██████▋   | 1922/2874 [04:50<02:50,  5.57it/s]Setting `pad_token_id` to `eos_token_id`:128001 for open-end generation.\n",
      " 67%|██████▋   | 1923/2874 [04:50<02:31,  6.26it/s]Setting `pad_token_id` to `eos_token_id`:128001 for open-end generation.\n"
     ]
    },
    {
     "name": "stdout",
     "output_type": "stream",
     "text": [
      "logits is [[0.39106756 0.37903568 0.22989675]]\n",
      "logits is [[0.1880149  0.16592257 0.6460625 ]]\n"
     ]
    },
    {
     "name": "stderr",
     "output_type": "stream",
     "text": [
      " 67%|██████▋   | 1924/2874 [04:51<02:39,  5.96it/s]Setting `pad_token_id` to `eos_token_id`:128001 for open-end generation.\n",
      " 67%|██████▋   | 1925/2874 [04:51<02:24,  6.55it/s]Setting `pad_token_id` to `eos_token_id`:128001 for open-end generation.\n"
     ]
    },
    {
     "name": "stdout",
     "output_type": "stream",
     "text": [
      "logits is [[0.6851924  0.11540523 0.19940235]]\n",
      "logits is [[0.30747375 0.43360746 0.25891882]]\n"
     ]
    },
    {
     "name": "stderr",
     "output_type": "stream",
     "text": [
      " 67%|██████▋   | 1926/2874 [04:51<02:32,  6.22it/s]Setting `pad_token_id` to `eos_token_id`:128001 for open-end generation.\n"
     ]
    },
    {
     "name": "stdout",
     "output_type": "stream",
     "text": [
      "logits is [[0.07472327 0.7314593  0.19381742]]\n"
     ]
    },
    {
     "name": "stderr",
     "output_type": "stream",
     "text": [
      " 67%|██████▋   | 1927/2874 [04:51<02:58,  5.29it/s]Setting `pad_token_id` to `eos_token_id`:128001 for open-end generation.\n",
      " 67%|██████▋   | 1928/2874 [04:51<02:57,  5.33it/s]Setting `pad_token_id` to `eos_token_id`:128001 for open-end generation.\n"
     ]
    },
    {
     "name": "stdout",
     "output_type": "stream",
     "text": [
      "logits is [[0.5723267  0.35260028 0.07507293]]\n",
      "logits is [[0.66022027 0.15928555 0.18049417]]\n"
     ]
    },
    {
     "name": "stderr",
     "output_type": "stream",
     "text": [
      " 67%|██████▋   | 1929/2874 [04:52<02:54,  5.42it/s]Setting `pad_token_id` to `eos_token_id`:128001 for open-end generation.\n",
      " 67%|██████▋   | 1930/2874 [04:52<02:38,  5.94it/s]Setting `pad_token_id` to `eos_token_id`:128001 for open-end generation.\n"
     ]
    },
    {
     "name": "stdout",
     "output_type": "stream",
     "text": [
      "logits is [[0.21074244 0.6003493  0.18890828]]\n",
      "logits is [[0.64209795 0.1325044  0.22539759]]\n"
     ]
    },
    {
     "name": "stderr",
     "output_type": "stream",
     "text": [
      " 67%|██████▋   | 1931/2874 [04:52<02:23,  6.57it/s]Setting `pad_token_id` to `eos_token_id`:128001 for open-end generation.\n",
      " 67%|██████▋   | 1932/2874 [04:52<02:24,  6.50it/s]Setting `pad_token_id` to `eos_token_id`:128001 for open-end generation.\n"
     ]
    },
    {
     "name": "stdout",
     "output_type": "stream",
     "text": [
      "logits is [[0.08665369 0.05174328 0.86160296]]\n",
      "logits is [[0.08847339 0.36102667 0.5504999 ]]\n"
     ]
    },
    {
     "name": "stderr",
     "output_type": "stream",
     "text": [
      " 67%|██████▋   | 1933/2874 [04:52<02:12,  7.09it/s]Setting `pad_token_id` to `eos_token_id`:128001 for open-end generation.\n",
      " 67%|██████▋   | 1934/2874 [04:52<02:05,  7.51it/s]Setting `pad_token_id` to `eos_token_id`:128001 for open-end generation.\n"
     ]
    },
    {
     "name": "stdout",
     "output_type": "stream",
     "text": [
      "logits is [[0.16690253 0.58254707 0.2505504 ]]\n",
      "logits is [[0.02611047 0.85125464 0.12263487]]\n"
     ]
    },
    {
     "name": "stderr",
     "output_type": "stream",
     "text": [
      " 67%|██████▋   | 1935/2874 [04:52<01:59,  7.85it/s]Setting `pad_token_id` to `eos_token_id`:128001 for open-end generation.\n",
      " 67%|██████▋   | 1936/2874 [04:52<01:59,  7.82it/s]Setting `pad_token_id` to `eos_token_id`:128001 for open-end generation.\n"
     ]
    },
    {
     "name": "stdout",
     "output_type": "stream",
     "text": [
      "logits is [[0.368654   0.33045933 0.30088663]]\n",
      "logits is [[0.21436638 0.61067295 0.17496073]]\n"
     ]
    },
    {
     "name": "stderr",
     "output_type": "stream",
     "text": [
      " 67%|██████▋   | 1937/2874 [04:53<02:16,  6.85it/s]Setting `pad_token_id` to `eos_token_id`:128001 for open-end generation.\n",
      " 67%|██████▋   | 1938/2874 [04:53<02:06,  7.40it/s]Setting `pad_token_id` to `eos_token_id`:128001 for open-end generation.\n"
     ]
    },
    {
     "name": "stdout",
     "output_type": "stream",
     "text": [
      "logits is [[0.32976228 0.3246498  0.3455879 ]]\n",
      "logits is [[0.44306424 0.10689422 0.4500415 ]]\n"
     ]
    },
    {
     "name": "stderr",
     "output_type": "stream",
     "text": [
      " 67%|██████▋   | 1939/2874 [04:53<02:00,  7.74it/s]Setting `pad_token_id` to `eos_token_id`:128001 for open-end generation.\n",
      " 68%|██████▊   | 1940/2874 [04:53<01:56,  8.02it/s]Setting `pad_token_id` to `eos_token_id`:128001 for open-end generation.\n"
     ]
    },
    {
     "name": "stdout",
     "output_type": "stream",
     "text": [
      "logits is [[0.781617   0.11260261 0.10578036]]\n",
      "logits is [[0.17688352 0.5448396  0.27827683]]\n"
     ]
    },
    {
     "name": "stderr",
     "output_type": "stream",
     "text": [
      " 68%|██████▊   | 1941/2874 [04:53<01:53,  8.23it/s]Setting `pad_token_id` to `eos_token_id`:128001 for open-end generation.\n",
      " 68%|██████▊   | 1942/2874 [04:53<02:12,  7.03it/s]Setting `pad_token_id` to `eos_token_id`:128001 for open-end generation.\n"
     ]
    },
    {
     "name": "stdout",
     "output_type": "stream",
     "text": [
      "logits is [[0.3540351  0.3431426  0.30282226]]\n",
      "logits is [[0.3682002  0.29127035 0.34052953]]\n"
     ]
    },
    {
     "name": "stderr",
     "output_type": "stream",
     "text": [
      " 68%|██████▊   | 1943/2874 [04:53<02:03,  7.54it/s]Setting `pad_token_id` to `eos_token_id`:128001 for open-end generation.\n",
      " 68%|██████▊   | 1944/2874 [04:53<02:09,  7.16it/s]Setting `pad_token_id` to `eos_token_id`:128001 for open-end generation.\n"
     ]
    },
    {
     "name": "stdout",
     "output_type": "stream",
     "text": [
      "logits is [[0.14753555 0.15952396 0.6929405 ]]\n",
      "logits is [[0.3355695  0.4732288  0.19120172]]\n"
     ]
    },
    {
     "name": "stderr",
     "output_type": "stream",
     "text": [
      " 68%|██████▊   | 1945/2874 [04:54<02:25,  6.41it/s]Setting `pad_token_id` to `eos_token_id`:128001 for open-end generation.\n",
      " 68%|██████▊   | 1946/2874 [04:54<02:14,  6.92it/s]Setting `pad_token_id` to `eos_token_id`:128001 for open-end generation.\n"
     ]
    },
    {
     "name": "stdout",
     "output_type": "stream",
     "text": [
      "logits is [[0.5433262  0.17916995 0.27750385]]\n",
      "logits is [[0.10990608 0.7749133  0.11518058]]\n"
     ]
    },
    {
     "name": "stderr",
     "output_type": "stream",
     "text": [
      " 68%|██████▊   | 1947/2874 [04:54<02:05,  7.37it/s]Setting `pad_token_id` to `eos_token_id`:128001 for open-end generation.\n"
     ]
    },
    {
     "name": "stdout",
     "output_type": "stream",
     "text": [
      "logits is [[0.30259928 0.45425534 0.24314538]]\n"
     ]
    },
    {
     "name": "stderr",
     "output_type": "stream",
     "text": [
      " 68%|██████▊   | 1948/2874 [04:54<02:37,  5.89it/s]Setting `pad_token_id` to `eos_token_id`:128001 for open-end generation.\n",
      " 68%|██████▊   | 1949/2874 [04:54<02:21,  6.55it/s]Setting `pad_token_id` to `eos_token_id`:128001 for open-end generation.\n"
     ]
    },
    {
     "name": "stdout",
     "output_type": "stream",
     "text": [
      "logits is [[0.14411128 0.397904   0.4579847 ]]\n",
      "logits is [[0.45934114 0.257667   0.28299186]]\n"
     ]
    },
    {
     "name": "stderr",
     "output_type": "stream",
     "text": [
      " 68%|██████▊   | 1950/2874 [04:54<02:13,  6.90it/s]Setting `pad_token_id` to `eos_token_id`:128001 for open-end generation.\n",
      " 68%|██████▊   | 1951/2874 [04:55<02:20,  6.59it/s]Setting `pad_token_id` to `eos_token_id`:128001 for open-end generation.\n"
     ]
    },
    {
     "name": "stdout",
     "output_type": "stream",
     "text": [
      "logits is [[0.259602   0.4415979  0.29880008]]\n",
      "logits is [[0.18509726 0.51911813 0.29578462]]\n"
     ]
    },
    {
     "name": "stderr",
     "output_type": "stream",
     "text": [
      " 68%|██████▊   | 1952/2874 [04:55<02:09,  7.11it/s]Setting `pad_token_id` to `eos_token_id`:128001 for open-end generation.\n",
      " 68%|██████▊   | 1953/2874 [04:55<02:06,  7.26it/s]Setting `pad_token_id` to `eos_token_id`:128001 for open-end generation.\n"
     ]
    },
    {
     "name": "stdout",
     "output_type": "stream",
     "text": [
      "logits is [[0.15595254 0.6880949  0.15595254]]\n",
      "logits is [[0.29717627 0.2425482  0.4602756 ]]\n"
     ]
    },
    {
     "name": "stderr",
     "output_type": "stream",
     "text": [
      " 68%|██████▊   | 1954/2874 [04:55<02:15,  6.81it/s]Setting `pad_token_id` to `eos_token_id`:128001 for open-end generation.\n",
      " 68%|██████▊   | 1955/2874 [04:55<02:06,  7.27it/s]Setting `pad_token_id` to `eos_token_id`:128001 for open-end generation.\n"
     ]
    },
    {
     "name": "stdout",
     "output_type": "stream",
     "text": [
      "logits is [[0.19272706 0.4845158  0.3227571 ]]\n",
      "logits is [[0.17035505 0.6039611  0.22568378]]\n"
     ]
    },
    {
     "name": "stderr",
     "output_type": "stream",
     "text": [
      " 68%|██████▊   | 1956/2874 [04:55<02:07,  7.22it/s]Setting `pad_token_id` to `eos_token_id`:128001 for open-end generation.\n",
      " 68%|██████▊   | 1957/2874 [04:55<02:09,  7.09it/s]Setting `pad_token_id` to `eos_token_id`:128001 for open-end generation.\n"
     ]
    },
    {
     "name": "stdout",
     "output_type": "stream",
     "text": [
      "logits is [[0.3117905  0.4130553  0.27515414]]\n",
      "logits is [[0.2656535  0.43798858 0.2963579 ]]\n"
     ]
    },
    {
     "name": "stderr",
     "output_type": "stream",
     "text": [
      " 68%|██████▊   | 1958/2874 [04:56<02:01,  7.53it/s]Setting `pad_token_id` to `eos_token_id`:128001 for open-end generation.\n",
      " 68%|██████▊   | 1959/2874 [04:56<02:04,  7.38it/s]Setting `pad_token_id` to `eos_token_id`:128001 for open-end generation.\n"
     ]
    },
    {
     "name": "stdout",
     "output_type": "stream",
     "text": [
      "logits is [[0.31554517 0.31554517 0.3689097 ]]\n",
      "logits is [[0.5965946  0.19068308 0.21272235]]\n"
     ]
    },
    {
     "name": "stderr",
     "output_type": "stream",
     "text": [
      " 68%|██████▊   | 1960/2874 [04:56<02:30,  6.08it/s]Setting `pad_token_id` to `eos_token_id`:128001 for open-end generation.\n",
      " 68%|██████▊   | 1961/2874 [04:56<02:25,  6.28it/s]Setting `pad_token_id` to `eos_token_id`:128001 for open-end generation.\n"
     ]
    },
    {
     "name": "stdout",
     "output_type": "stream",
     "text": [
      "logits is [[0.29389888 0.3833164  0.32278475]]\n",
      "logits is [[0.11477013 0.5828508  0.302379  ]]\n"
     ]
    },
    {
     "name": "stderr",
     "output_type": "stream",
     "text": [
      " 68%|██████▊   | 1962/2874 [04:56<02:53,  5.25it/s]Setting `pad_token_id` to `eos_token_id`:128001 for open-end generation.\n"
     ]
    },
    {
     "name": "stdout",
     "output_type": "stream",
     "text": [
      "logits is [[0.82333034 0.15349531 0.02317433]]\n"
     ]
    },
    {
     "name": "stderr",
     "output_type": "stream",
     "text": [
      " 68%|██████▊   | 1963/2874 [04:56<02:56,  5.15it/s]Setting `pad_token_id` to `eos_token_id`:128001 for open-end generation.\n"
     ]
    },
    {
     "name": "stdout",
     "output_type": "stream",
     "text": [
      "logits is [[0.32358205 0.37244067 0.30397722]]\n"
     ]
    },
    {
     "name": "stderr",
     "output_type": "stream",
     "text": [
      " 68%|██████▊   | 1964/2874 [04:57<03:09,  4.79it/s]Setting `pad_token_id` to `eos_token_id`:128001 for open-end generation.\n",
      " 68%|██████▊   | 1965/2874 [04:57<02:43,  5.57it/s]Setting `pad_token_id` to `eos_token_id`:128001 for open-end generation.\n"
     ]
    },
    {
     "name": "stdout",
     "output_type": "stream",
     "text": [
      "logits is [[0.45766658 0.27328518 0.26904827]]\n",
      "logits is [[0.24950609 0.4447927  0.30570126]]\n"
     ]
    },
    {
     "name": "stderr",
     "output_type": "stream",
     "text": [
      " 68%|██████▊   | 1966/2874 [04:57<02:26,  6.20it/s]Setting `pad_token_id` to `eos_token_id`:128001 for open-end generation.\n"
     ]
    },
    {
     "name": "stdout",
     "output_type": "stream",
     "text": [
      "logits is [[0.19615702 0.613721   0.1901219 ]]\n"
     ]
    },
    {
     "name": "stderr",
     "output_type": "stream",
     "text": [
      " 68%|██████▊   | 1967/2874 [04:57<02:52,  5.27it/s]Setting `pad_token_id` to `eos_token_id`:128001 for open-end generation.\n",
      " 68%|██████▊   | 1968/2874 [04:57<02:29,  6.04it/s]Setting `pad_token_id` to `eos_token_id`:128001 for open-end generation.\n"
     ]
    },
    {
     "name": "stdout",
     "output_type": "stream",
     "text": [
      "logits is [[0.86142516 0.10491174 0.03366305]]\n",
      "logits is [[0.30274498 0.35951856 0.33773643]]\n"
     ]
    },
    {
     "name": "stderr",
     "output_type": "stream",
     "text": [
      " 69%|██████▊   | 1969/2874 [04:57<02:23,  6.32it/s]Setting `pad_token_id` to `eos_token_id`:128001 for open-end generation.\n",
      " 69%|██████▊   | 1970/2874 [04:58<02:09,  6.97it/s]Setting `pad_token_id` to `eos_token_id`:128001 for open-end generation.\n"
     ]
    },
    {
     "name": "stdout",
     "output_type": "stream",
     "text": [
      "logits is [[0.20864491 0.57608706 0.215268  ]]\n",
      "logits is [[0.35213232 0.30119473 0.346673  ]]\n"
     ]
    },
    {
     "name": "stderr",
     "output_type": "stream",
     "text": [
      " 69%|██████▊   | 1971/2874 [04:58<02:18,  6.52it/s]Setting `pad_token_id` to `eos_token_id`:128001 for open-end generation.\n",
      " 69%|██████▊   | 1972/2874 [04:58<02:09,  6.99it/s]Setting `pad_token_id` to `eos_token_id`:128001 for open-end generation.\n"
     ]
    },
    {
     "name": "stdout",
     "output_type": "stream",
     "text": [
      "logits is [[0.0140446  0.92494845 0.06100697]]\n",
      "logits is [[0.8979359  0.01983799 0.08222618]]\n"
     ]
    },
    {
     "name": "stderr",
     "output_type": "stream",
     "text": [
      " 69%|██████▊   | 1973/2874 [04:58<02:10,  6.91it/s]Setting `pad_token_id` to `eos_token_id`:128001 for open-end generation.\n",
      " 69%|██████▊   | 1974/2874 [04:58<02:02,  7.33it/s]Setting `pad_token_id` to `eos_token_id`:128001 for open-end generation.\n"
     ]
    },
    {
     "name": "stdout",
     "output_type": "stream",
     "text": [
      "logits is [[0.6829778  0.12437949 0.19264273]]\n",
      "logits is [[0.1929665  0.6229035  0.18412992]]\n"
     ]
    },
    {
     "name": "stderr",
     "output_type": "stream",
     "text": [
      " 69%|██████▊   | 1975/2874 [04:58<02:08,  6.99it/s]Setting `pad_token_id` to `eos_token_id`:128001 for open-end generation.\n",
      " 69%|██████▉   | 1976/2874 [04:58<02:03,  7.24it/s]Setting `pad_token_id` to `eos_token_id`:128001 for open-end generation.\n"
     ]
    },
    {
     "name": "stdout",
     "output_type": "stream",
     "text": [
      "logits is [[0.30269837 0.4615599  0.23574172]]\n",
      "logits is [[0.03412464 0.88008595 0.08578932]]\n"
     ]
    },
    {
     "name": "stderr",
     "output_type": "stream",
     "text": [
      " 69%|██████▉   | 1977/2874 [04:59<02:10,  6.88it/s]Setting `pad_token_id` to `eos_token_id`:128001 for open-end generation.\n",
      " 69%|██████▉   | 1978/2874 [04:59<02:23,  6.24it/s]"
     ]
    },
    {
     "name": "stdout",
     "output_type": "stream",
     "text": [
      "logits is [[0.42005795 0.31707639 0.26286557]]\n",
      "logits is [[0.11541688 0.74094445 0.14363864]]\n"
     ]
    },
    {
     "name": "stderr",
     "output_type": "stream",
     "text": [
      "Setting `pad_token_id` to `eos_token_id`:128001 for open-end generation.\n",
      " 69%|██████▉   | 1979/2874 [04:59<02:11,  6.81it/s]Setting `pad_token_id` to `eos_token_id`:128001 for open-end generation.\n",
      " 69%|██████▉   | 1980/2874 [04:59<02:05,  7.11it/s]Setting `pad_token_id` to `eos_token_id`:128001 for open-end generation.\n"
     ]
    },
    {
     "name": "stdout",
     "output_type": "stream",
     "text": [
      "logits is [[0.5450314  0.14441894 0.31054956]]\n",
      "logits is [[0.21973006 0.4799346  0.3003354 ]]\n"
     ]
    },
    {
     "name": "stderr",
     "output_type": "stream",
     "text": [
      " 69%|██████▉   | 1981/2874 [04:59<02:11,  6.79it/s]Setting `pad_token_id` to `eos_token_id`:128001 for open-end generation.\n",
      " 69%|██████▉   | 1982/2874 [04:59<02:19,  6.37it/s]Setting `pad_token_id` to `eos_token_id`:128001 for open-end generation.\n"
     ]
    },
    {
     "name": "stdout",
     "output_type": "stream",
     "text": [
      "logits is [[0.21269676 0.5347196  0.25258365]]\n",
      "logits is [[0.27469522 0.41886017 0.30644464]]\n"
     ]
    },
    {
     "name": "stderr",
     "output_type": "stream",
     "text": [
      " 69%|██████▉   | 1983/2874 [04:59<02:11,  6.75it/s]Setting `pad_token_id` to `eos_token_id`:128001 for open-end generation.\n",
      " 69%|██████▉   | 1984/2874 [05:00<02:04,  7.16it/s]Setting `pad_token_id` to `eos_token_id`:128001 for open-end generation.\n"
     ]
    },
    {
     "name": "stdout",
     "output_type": "stream",
     "text": [
      "logits is [[0.6334387  0.20888591 0.15767536]]\n",
      "logits is [[0.76271755 0.05612115 0.1811613 ]]\n"
     ]
    },
    {
     "name": "stderr",
     "output_type": "stream",
     "text": [
      " 69%|██████▉   | 1985/2874 [05:00<01:56,  7.63it/s]Setting `pad_token_id` to `eos_token_id`:128001 for open-end generation.\n",
      " 69%|██████▉   | 1986/2874 [05:00<02:10,  6.79it/s]Setting `pad_token_id` to `eos_token_id`:128001 for open-end generation.\n"
     ]
    },
    {
     "name": "stdout",
     "output_type": "stream",
     "text": [
      "logits is [[0.33962947 0.30444187 0.35592863]]\n",
      "logits is [[0.6565984  0.09026028 0.25314122]]\n"
     ]
    },
    {
     "name": "stderr",
     "output_type": "stream",
     "text": [
      " 69%|██████▉   | 1987/2874 [05:00<02:02,  7.23it/s]Setting `pad_token_id` to `eos_token_id`:128001 for open-end generation.\n",
      " 69%|██████▉   | 1988/2874 [05:00<01:58,  7.45it/s]Setting `pad_token_id` to `eos_token_id`:128001 for open-end generation.\n"
     ]
    },
    {
     "name": "stdout",
     "output_type": "stream",
     "text": [
      "logits is [[0.3615008  0.42263725 0.21586198]]\n",
      "logits is [[0.09202087 0.69065493 0.21732421]]\n"
     ]
    },
    {
     "name": "stderr",
     "output_type": "stream",
     "text": [
      " 69%|██████▉   | 1989/2874 [05:00<02:29,  5.93it/s]Setting `pad_token_id` to `eos_token_id`:128001 for open-end generation.\n",
      " 69%|██████▉   | 1990/2874 [05:01<02:13,  6.61it/s]Setting `pad_token_id` to `eos_token_id`:128001 for open-end generation.\n"
     ]
    },
    {
     "name": "stdout",
     "output_type": "stream",
     "text": [
      "logits is [[0.35867763 0.35311684 0.28820556]]\n",
      "logits is [[0.42386907 0.31499276 0.26113817]]\n"
     ]
    },
    {
     "name": "stderr",
     "output_type": "stream",
     "text": [
      " 69%|██████▉   | 1991/2874 [05:01<02:03,  7.15it/s]Setting `pad_token_id` to `eos_token_id`:128001 for open-end generation.\n"
     ]
    },
    {
     "name": "stdout",
     "output_type": "stream",
     "text": [
      "logits is [[0.38162836 0.3641523  0.2542193 ]]\n"
     ]
    },
    {
     "name": "stderr",
     "output_type": "stream",
     "text": [
      " 69%|██████▉   | 1992/2874 [05:01<02:34,  5.72it/s]Setting `pad_token_id` to `eos_token_id`:128001 for open-end generation.\n",
      " 69%|██████▉   | 1993/2874 [05:01<02:36,  5.65it/s]Setting `pad_token_id` to `eos_token_id`:128001 for open-end generation.\n"
     ]
    },
    {
     "name": "stdout",
     "output_type": "stream",
     "text": [
      "logits is [[0.3395992  0.1367256  0.52367514]]\n",
      "logits is [[0.10399269 0.7218523  0.17415497]]\n"
     ]
    },
    {
     "name": "stderr",
     "output_type": "stream",
     "text": [
      " 69%|██████▉   | 1994/2874 [05:01<02:36,  5.61it/s]Setting `pad_token_id` to `eos_token_id`:128001 for open-end generation.\n"
     ]
    },
    {
     "name": "stdout",
     "output_type": "stream",
     "text": [
      "logits is [[0.30304372 0.28916636 0.40778992]]\n"
     ]
    },
    {
     "name": "stderr",
     "output_type": "stream",
     "text": [
      " 69%|██████▉   | 1995/2874 [05:01<02:53,  5.08it/s]Setting `pad_token_id` to `eos_token_id`:128001 for open-end generation.\n",
      " 69%|██████▉   | 1996/2874 [05:02<02:29,  5.86it/s]Setting `pad_token_id` to `eos_token_id`:128001 for open-end generation.\n"
     ]
    },
    {
     "name": "stdout",
     "output_type": "stream",
     "text": [
      "logits is [[0.25359482 0.48881683 0.2575884 ]]\n",
      "logits is [[0.61981595 0.15918191 0.22100218]]\n"
     ]
    },
    {
     "name": "stderr",
     "output_type": "stream",
     "text": [
      " 69%|██████▉   | 1997/2874 [05:02<02:15,  6.49it/s]Setting `pad_token_id` to `eos_token_id`:128001 for open-end generation.\n",
      " 70%|██████▉   | 1998/2874 [05:02<02:17,  6.35it/s]Setting `pad_token_id` to `eos_token_id`:128001 for open-end generation.\n"
     ]
    },
    {
     "name": "stdout",
     "output_type": "stream",
     "text": [
      "logits is [[0.06234156 0.82118905 0.11646938]]\n",
      "logits is [[0.56066585 0.21280475 0.22652948]]\n"
     ]
    },
    {
     "name": "stderr",
     "output_type": "stream",
     "text": [
      " 70%|██████▉   | 1999/2874 [05:02<02:13,  6.55it/s]Setting `pad_token_id` to `eos_token_id`:128001 for open-end generation.\n",
      " 70%|██████▉   | 2000/2874 [05:02<02:01,  7.17it/s]Setting `pad_token_id` to `eos_token_id`:128001 for open-end generation.\n"
     ]
    },
    {
     "name": "stdout",
     "output_type": "stream",
     "text": [
      "logits is [[0.36096093 0.3444313  0.29460773]]\n",
      "logits is [[0.06023233 0.7453354  0.19443236]]\n"
     ]
    },
    {
     "name": "stderr",
     "output_type": "stream",
     "text": [
      " 70%|██████▉   | 2001/2874 [05:02<01:54,  7.66it/s]Setting `pad_token_id` to `eos_token_id`:128001 for open-end generation.\n",
      " 70%|██████▉   | 2002/2874 [05:02<02:10,  6.69it/s]"
     ]
    },
    {
     "name": "stdout",
     "output_type": "stream",
     "text": [
      "logits is [[0.32314345 0.4927349  0.18412158]]\n",
      "logits is [[0.16796678 0.55074185 0.2812914 ]]\n"
     ]
    },
    {
     "name": "stderr",
     "output_type": "stream",
     "text": [
      "Setting `pad_token_id` to `eos_token_id`:128001 for open-end generation.\n",
      " 70%|██████▉   | 2003/2874 [05:03<02:28,  5.85it/s]Setting `pad_token_id` to `eos_token_id`:128001 for open-end generation.\n",
      " 70%|██████▉   | 2004/2874 [05:03<02:21,  6.17it/s]Setting `pad_token_id` to `eos_token_id`:128001 for open-end generation.\n"
     ]
    },
    {
     "name": "stdout",
     "output_type": "stream",
     "text": [
      "logits is [[0.22774588 0.5549375  0.21731663]]\n",
      "logits is [[0.20133308 0.35891503 0.43975186]]\n"
     ]
    },
    {
     "name": "stderr",
     "output_type": "stream",
     "text": [
      " 70%|██████▉   | 2005/2874 [05:03<02:12,  6.55it/s]Setting `pad_token_id` to `eos_token_id`:128001 for open-end generation.\n",
      " 70%|██████▉   | 2006/2874 [05:03<02:06,  6.88it/s]Setting `pad_token_id` to `eos_token_id`:128001 for open-end generation.\n"
     ]
    },
    {
     "name": "stdout",
     "output_type": "stream",
     "text": [
      "logits is [[0.3518334  0.39867947 0.24948725]]\n",
      "logits is [[0.7439368  0.06500447 0.19105877]]\n"
     ]
    },
    {
     "name": "stderr",
     "output_type": "stream",
     "text": [
      " 70%|██████▉   | 2007/2874 [05:03<02:06,  6.87it/s]Setting `pad_token_id` to `eos_token_id`:128001 for open-end generation.\n",
      " 70%|██████▉   | 2008/2874 [05:03<02:02,  7.07it/s]Setting `pad_token_id` to `eos_token_id`:128001 for open-end generation.\n"
     ]
    },
    {
     "name": "stdout",
     "output_type": "stream",
     "text": [
      "logits is [[0.45882815 0.31045866 0.23071328]]\n",
      "logits is [[0.37403283 0.3300828  0.2958843 ]]\n"
     ]
    },
    {
     "name": "stderr",
     "output_type": "stream",
     "text": [
      " 70%|██████▉   | 2009/2874 [05:03<01:55,  7.50it/s]Setting `pad_token_id` to `eos_token_id`:128001 for open-end generation.\n",
      " 70%|██████▉   | 2010/2874 [05:04<02:12,  6.54it/s]"
     ]
    },
    {
     "name": "stdout",
     "output_type": "stream",
     "text": [
      "logits is [[0.10707791 0.7789382  0.11398385]]\n",
      "logits is [[0.22610863 0.50954366 0.26434776]]\n"
     ]
    },
    {
     "name": "stderr",
     "output_type": "stream",
     "text": [
      "Setting `pad_token_id` to `eos_token_id`:128001 for open-end generation.\n",
      " 70%|██████▉   | 2011/2874 [05:04<02:02,  7.02it/s]Setting `pad_token_id` to `eos_token_id`:128001 for open-end generation.\n",
      " 70%|███████   | 2012/2874 [05:04<02:12,  6.50it/s]Setting `pad_token_id` to `eos_token_id`:128001 for open-end generation.\n"
     ]
    },
    {
     "name": "stdout",
     "output_type": "stream",
     "text": [
      "logits is [[0.24465358 0.2125587  0.5427877 ]]\n",
      "logits is [[0.78115994 0.12554383 0.09329625]]\n"
     ]
    },
    {
     "name": "stderr",
     "output_type": "stream",
     "text": [
      " 70%|███████   | 2013/2874 [05:04<02:06,  6.79it/s]Setting `pad_token_id` to `eos_token_id`:128001 for open-end generation.\n",
      " 70%|███████   | 2014/2874 [05:04<02:02,  7.04it/s]Setting `pad_token_id` to `eos_token_id`:128001 for open-end generation.\n"
     ]
    },
    {
     "name": "stdout",
     "output_type": "stream",
     "text": [
      "logits is [[0.18526873 0.5277815  0.2869498 ]]\n",
      "logits is [[0.15203762 0.63017845 0.21778385]]\n"
     ]
    },
    {
     "name": "stderr",
     "output_type": "stream",
     "text": [
      " 70%|███████   | 2015/2874 [05:04<01:55,  7.41it/s]Setting `pad_token_id` to `eos_token_id`:128001 for open-end generation.\n",
      " 70%|███████   | 2016/2874 [05:04<02:01,  7.04it/s]Setting `pad_token_id` to `eos_token_id`:128001 for open-end generation.\n"
     ]
    },
    {
     "name": "stdout",
     "output_type": "stream",
     "text": [
      "logits is [[0.29415172 0.3776983  0.32814997]]\n",
      "logits is [[0.5530448  0.21998602 0.22696912]]\n"
     ]
    },
    {
     "name": "stderr",
     "output_type": "stream",
     "text": [
      " 70%|███████   | 2017/2874 [05:05<02:03,  6.95it/s]Setting `pad_token_id` to `eos_token_id`:128001 for open-end generation.\n",
      " 70%|███████   | 2018/2874 [05:05<02:07,  6.71it/s]Setting `pad_token_id` to `eos_token_id`:128001 for open-end generation.\n"
     ]
    },
    {
     "name": "stdout",
     "output_type": "stream",
     "text": [
      "logits is [[0.16928755 0.63888454 0.19182794]]\n",
      "logits is [[0.17284591 0.57566476 0.2514893 ]]\n"
     ]
    },
    {
     "name": "stderr",
     "output_type": "stream",
     "text": [
      " 70%|███████   | 2019/2874 [05:05<02:15,  6.32it/s]Setting `pad_token_id` to `eos_token_id`:128001 for open-end generation.\n"
     ]
    },
    {
     "name": "stdout",
     "output_type": "stream",
     "text": [
      "logits is [[0.8133725  0.06573057 0.12089702]]\n"
     ]
    },
    {
     "name": "stderr",
     "output_type": "stream",
     "text": [
      " 70%|███████   | 2020/2874 [05:05<02:39,  5.34it/s]Setting `pad_token_id` to `eos_token_id`:128001 for open-end generation.\n",
      " 70%|███████   | 2021/2874 [05:05<02:22,  5.98it/s]Setting `pad_token_id` to `eos_token_id`:128001 for open-end generation.\n"
     ]
    },
    {
     "name": "stdout",
     "output_type": "stream",
     "text": [
      "logits is [[0.29502422 0.39699847 0.30797732]]\n",
      "logits is [[0.40927243 0.27692756 0.31380007]]\n"
     ]
    },
    {
     "name": "stderr",
     "output_type": "stream",
     "text": [
      " 70%|███████   | 2022/2874 [05:05<02:08,  6.64it/s]Setting `pad_token_id` to `eos_token_id`:128001 for open-end generation.\n",
      " 70%|███████   | 2023/2874 [05:06<02:05,  6.78it/s]Setting `pad_token_id` to `eos_token_id`:128001 for open-end generation.\n"
     ]
    },
    {
     "name": "stdout",
     "output_type": "stream",
     "text": [
      "logits is [[0.6912041  0.14716585 0.16163005]]\n",
      "logits is [[0.20291303 0.45727158 0.33981538]]\n"
     ]
    },
    {
     "name": "stderr",
     "output_type": "stream",
     "text": [
      " 70%|███████   | 2024/2874 [05:06<02:22,  5.98it/s]Setting `pad_token_id` to `eos_token_id`:128001 for open-end generation.\n",
      " 70%|███████   | 2025/2874 [05:06<02:12,  6.43it/s]Setting `pad_token_id` to `eos_token_id`:128001 for open-end generation.\n"
     ]
    },
    {
     "name": "stdout",
     "output_type": "stream",
     "text": [
      "logits is [[0.26721254 0.42038435 0.3124031 ]]\n",
      "logits is [[0.04520003 0.7645007  0.19029926]]\n"
     ]
    },
    {
     "name": "stderr",
     "output_type": "stream",
     "text": [
      " 70%|███████   | 2026/2874 [05:06<02:38,  5.34it/s]Setting `pad_token_id` to `eos_token_id`:128001 for open-end generation.\n",
      " 71%|███████   | 2027/2874 [05:06<02:25,  5.84it/s]Setting `pad_token_id` to `eos_token_id`:128001 for open-end generation.\n"
     ]
    },
    {
     "name": "stdout",
     "output_type": "stream",
     "text": [
      "logits is [[0.35419852 0.44080716 0.20499437]]\n",
      "logits is [[0.14088534 0.70438236 0.15473227]]\n"
     ]
    },
    {
     "name": "stderr",
     "output_type": "stream",
     "text": [
      " 71%|███████   | 2028/2874 [05:06<02:19,  6.08it/s]Setting `pad_token_id` to `eos_token_id`:128001 for open-end generation.\n",
      " 71%|███████   | 2029/2874 [05:07<02:10,  6.47it/s]Setting `pad_token_id` to `eos_token_id`:128001 for open-end generation.\n"
     ]
    },
    {
     "name": "stdout",
     "output_type": "stream",
     "text": [
      "logits is [[0.05087768 0.7246395  0.22448283]]\n",
      "logits is [[0.57381135 0.15934165 0.26684707]]\n"
     ]
    },
    {
     "name": "stderr",
     "output_type": "stream",
     "text": [
      " 71%|███████   | 2030/2874 [05:07<02:17,  6.15it/s]Setting `pad_token_id` to `eos_token_id`:128001 for open-end generation.\n",
      " 71%|███████   | 2031/2874 [05:07<02:13,  6.31it/s]Setting `pad_token_id` to `eos_token_id`:128001 for open-end generation.\n"
     ]
    },
    {
     "name": "stdout",
     "output_type": "stream",
     "text": [
      "logits is [[0.2970623  0.48217973 0.22075796]]\n",
      "logits is [[0.5246957  0.2852721  0.19003218]]\n"
     ]
    },
    {
     "name": "stderr",
     "output_type": "stream",
     "text": [
      " 71%|███████   | 2032/2874 [05:07<02:05,  6.71it/s]Setting `pad_token_id` to `eos_token_id`:128001 for open-end generation.\n",
      " 71%|███████   | 2033/2874 [05:07<01:55,  7.29it/s]Setting `pad_token_id` to `eos_token_id`:128001 for open-end generation.\n"
     ]
    },
    {
     "name": "stdout",
     "output_type": "stream",
     "text": [
      "logits is [[0.31574    0.43836153 0.24589853]]\n",
      "logits is [[0.5708349  0.23795937 0.19120574]]\n"
     ]
    },
    {
     "name": "stderr",
     "output_type": "stream",
     "text": [
      " 71%|███████   | 2034/2874 [05:07<02:07,  6.60it/s]Setting `pad_token_id` to `eos_token_id`:128001 for open-end generation.\n"
     ]
    },
    {
     "name": "stdout",
     "output_type": "stream",
     "text": [
      "logits is [[0.28646228 0.47973403 0.23380369]]\n"
     ]
    },
    {
     "name": "stderr",
     "output_type": "stream",
     "text": [
      " 71%|███████   | 2035/2874 [05:08<02:23,  5.83it/s]Setting `pad_token_id` to `eos_token_id`:128001 for open-end generation.\n",
      " 71%|███████   | 2036/2874 [05:08<02:12,  6.34it/s]Setting `pad_token_id` to `eos_token_id`:128001 for open-end generation.\n"
     ]
    },
    {
     "name": "stdout",
     "output_type": "stream",
     "text": [
      "logits is [[0.78402454 0.10124723 0.11472815]]\n",
      "logits is [[0.04637186 0.7253779  0.22825028]]\n"
     ]
    },
    {
     "name": "stderr",
     "output_type": "stream",
     "text": [
      " 71%|███████   | 2037/2874 [05:08<02:14,  6.23it/s]Setting `pad_token_id` to `eos_token_id`:128001 for open-end generation.\n"
     ]
    },
    {
     "name": "stdout",
     "output_type": "stream",
     "text": [
      "logits is [[0.2595785  0.50035065 0.24007086]]\n"
     ]
    },
    {
     "name": "stderr",
     "output_type": "stream",
     "text": [
      " 71%|███████   | 2038/2874 [05:08<02:27,  5.65it/s]Setting `pad_token_id` to `eos_token_id`:128001 for open-end generation.\n",
      " 71%|███████   | 2039/2874 [05:08<02:12,  6.31it/s]Setting `pad_token_id` to `eos_token_id`:128001 for open-end generation.\n"
     ]
    },
    {
     "name": "stdout",
     "output_type": "stream",
     "text": [
      "logits is [[0.09080213 0.73688567 0.17231216]]\n",
      "logits is [[0.09429367 0.31899136 0.5867149 ]]\n"
     ]
    },
    {
     "name": "stderr",
     "output_type": "stream",
     "text": [
      " 71%|███████   | 2040/2874 [05:08<02:23,  5.81it/s]Setting `pad_token_id` to `eos_token_id`:128001 for open-end generation.\n",
      " 71%|███████   | 2041/2874 [05:09<02:25,  5.71it/s]Setting `pad_token_id` to `eos_token_id`:128001 for open-end generation.\n"
     ]
    },
    {
     "name": "stdout",
     "output_type": "stream",
     "text": [
      "logits is [[0.38874716 0.22853266 0.38272017]]\n",
      "logits is [[0.3977268  0.32461518 0.27765805]]\n"
     ]
    },
    {
     "name": "stderr",
     "output_type": "stream",
     "text": [
      " 71%|███████   | 2042/2874 [05:09<02:31,  5.49it/s]Setting `pad_token_id` to `eos_token_id`:128001 for open-end generation.\n",
      " 71%|███████   | 2043/2874 [05:09<02:27,  5.65it/s]Setting `pad_token_id` to `eos_token_id`:128001 for open-end generation.\n"
     ]
    },
    {
     "name": "stdout",
     "output_type": "stream",
     "text": [
      "logits is [[0.82106674 0.06953669 0.10939655]]\n",
      "logits is [[0.14995681 0.6513827  0.19866051]]\n"
     ]
    },
    {
     "name": "stderr",
     "output_type": "stream",
     "text": [
      " 71%|███████   | 2044/2874 [05:09<02:37,  5.28it/s]Setting `pad_token_id` to `eos_token_id`:128001 for open-end generation.\n",
      " 71%|███████   | 2045/2874 [05:09<02:19,  5.94it/s]Setting `pad_token_id` to `eos_token_id`:128001 for open-end generation.\n"
     ]
    },
    {
     "name": "stdout",
     "output_type": "stream",
     "text": [
      "logits is [[0.46791616 0.19505647 0.33702737]]\n",
      "logits is [[0.08521821 0.71352327 0.20125848]]\n"
     ]
    },
    {
     "name": "stderr",
     "output_type": "stream",
     "text": [
      " 71%|███████   | 2046/2874 [05:09<02:13,  6.21it/s]Setting `pad_token_id` to `eos_token_id`:128001 for open-end generation.\n"
     ]
    },
    {
     "name": "stdout",
     "output_type": "stream",
     "text": [
      "logits is [[0.12524901 0.45103905 0.423712  ]]\n"
     ]
    },
    {
     "name": "stderr",
     "output_type": "stream",
     "text": [
      " 71%|███████   | 2047/2874 [05:10<02:31,  5.46it/s]Setting `pad_token_id` to `eos_token_id`:128001 for open-end generation.\n",
      " 71%|███████▏  | 2048/2874 [05:10<02:19,  5.93it/s]Setting `pad_token_id` to `eos_token_id`:128001 for open-end generation.\n"
     ]
    },
    {
     "name": "stdout",
     "output_type": "stream",
     "text": [
      "logits is [[0.14832334 0.54254425 0.3091324 ]]\n",
      "logits is [[0.57695675 0.27253506 0.15050817]]\n"
     ]
    },
    {
     "name": "stderr",
     "output_type": "stream",
     "text": [
      " 71%|███████▏  | 2049/2874 [05:10<02:16,  6.04it/s]Setting `pad_token_id` to `eos_token_id`:128001 for open-end generation.\n",
      " 71%|███████▏  | 2050/2874 [05:10<02:08,  6.43it/s]Setting `pad_token_id` to `eos_token_id`:128001 for open-end generation.\n"
     ]
    },
    {
     "name": "stdout",
     "output_type": "stream",
     "text": [
      "logits is [[0.22953846 0.27687624 0.49358526]]\n",
      "logits is [[0.3130421 0.3835472 0.3034108]]\n"
     ]
    },
    {
     "name": "stderr",
     "output_type": "stream",
     "text": [
      " 71%|███████▏  | 2051/2874 [05:10<02:08,  6.40it/s]Setting `pad_token_id` to `eos_token_id`:128001 for open-end generation.\n",
      " 71%|███████▏  | 2052/2874 [05:10<02:00,  6.83it/s]Setting `pad_token_id` to `eos_token_id`:128001 for open-end generation.\n"
     ]
    },
    {
     "name": "stdout",
     "output_type": "stream",
     "text": [
      "logits is [[0.42253456 0.32907024 0.24839523]]\n",
      "logits is [[0.89671034 0.0224487  0.08084089]]\n"
     ]
    },
    {
     "name": "stderr",
     "output_type": "stream",
     "text": [
      " 71%|███████▏  | 2053/2874 [05:11<01:55,  7.10it/s]Setting `pad_token_id` to `eos_token_id`:128001 for open-end generation.\n",
      " 71%|███████▏  | 2054/2874 [05:11<01:50,  7.40it/s]Setting `pad_token_id` to `eos_token_id`:128001 for open-end generation.\n"
     ]
    },
    {
     "name": "stdout",
     "output_type": "stream",
     "text": [
      "logits is [[0.4914425  0.22854199 0.2800155 ]]\n",
      "logits is [[0.27390784 0.3743876  0.3517046 ]]\n"
     ]
    },
    {
     "name": "stderr",
     "output_type": "stream",
     "text": [
      " 72%|███████▏  | 2055/2874 [05:11<02:29,  5.49it/s]Setting `pad_token_id` to `eos_token_id`:128001 for open-end generation.\n",
      " 72%|███████▏  | 2056/2874 [05:11<02:12,  6.19it/s]Setting `pad_token_id` to `eos_token_id`:128001 for open-end generation.\n"
     ]
    },
    {
     "name": "stdout",
     "output_type": "stream",
     "text": [
      "logits is [[0.87279564 0.03229222 0.09491213]]\n",
      "logits is [[0.2595785  0.24007086 0.50035065]]\n"
     ]
    },
    {
     "name": "stderr",
     "output_type": "stream",
     "text": [
      " 72%|███████▏  | 2057/2874 [05:11<02:13,  6.11it/s]Setting `pad_token_id` to `eos_token_id`:128001 for open-end generation.\n",
      " 72%|███████▏  | 2058/2874 [05:11<02:21,  5.76it/s]"
     ]
    },
    {
     "name": "stdout",
     "output_type": "stream",
     "text": [
      "logits is [[0.29853964 0.42100835 0.280452  ]]\n",
      "logits is [[0.34404707 0.3662362  0.2897167 ]]\n"
     ]
    },
    {
     "name": "stderr",
     "output_type": "stream",
     "text": [
      "Setting `pad_token_id` to `eos_token_id`:128001 for open-end generation.\n",
      " 72%|███████▏  | 2059/2874 [05:12<02:42,  5.01it/s]Setting `pad_token_id` to `eos_token_id`:128001 for open-end generation.\n",
      " 72%|███████▏  | 2060/2874 [05:12<02:38,  5.14it/s]Setting `pad_token_id` to `eos_token_id`:128001 for open-end generation.\n"
     ]
    },
    {
     "name": "stdout",
     "output_type": "stream",
     "text": [
      "logits is [[0.43161672 0.14012544 0.42825785]]\n",
      "logits is [[0.14224409 0.6475328  0.21022312]]\n"
     ]
    },
    {
     "name": "stderr",
     "output_type": "stream",
     "text": [
      " 72%|███████▏  | 2061/2874 [05:12<02:30,  5.38it/s]Setting `pad_token_id` to `eos_token_id`:128001 for open-end generation.\n",
      " 72%|███████▏  | 2062/2874 [05:12<02:20,  5.76it/s]Setting `pad_token_id` to `eos_token_id`:128001 for open-end generation.\n"
     ]
    },
    {
     "name": "stdout",
     "output_type": "stream",
     "text": [
      "logits is [[0.36481327 0.3883417  0.24684499]]\n",
      "logits is [[0.87936324 0.03356799 0.08706875]]\n"
     ]
    },
    {
     "name": "stderr",
     "output_type": "stream",
     "text": [
      " 72%|███████▏  | 2063/2874 [05:12<02:14,  6.02it/s]Setting `pad_token_id` to `eos_token_id`:128001 for open-end generation.\n",
      " 72%|███████▏  | 2064/2874 [05:12<02:21,  5.73it/s]"
     ]
    },
    {
     "name": "stdout",
     "output_type": "stream",
     "text": [
      "logits is [[0.407363   0.25492126 0.33771577]]\n",
      "logits is [[0.6516733  0.18096314 0.16736355]]\n"
     ]
    },
    {
     "name": "stderr",
     "output_type": "stream",
     "text": [
      "Setting `pad_token_id` to `eos_token_id`:128001 for open-end generation.\n",
      " 72%|███████▏  | 2065/2874 [05:13<02:17,  5.87it/s]Setting `pad_token_id` to `eos_token_id`:128001 for open-end generation.\n"
     ]
    },
    {
     "name": "stdout",
     "output_type": "stream",
     "text": [
      "logits is [[0.5656732  0.14988846 0.28443834]]\n"
     ]
    },
    {
     "name": "stderr",
     "output_type": "stream",
     "text": [
      " 72%|███████▏  | 2066/2874 [05:13<02:36,  5.17it/s]Setting `pad_token_id` to `eos_token_id`:128001 for open-end generation.\n",
      " 72%|███████▏  | 2067/2874 [05:13<02:24,  5.57it/s]Setting `pad_token_id` to `eos_token_id`:128001 for open-end generation.\n"
     ]
    },
    {
     "name": "stdout",
     "output_type": "stream",
     "text": [
      "logits is [[0.80261534 0.03934034 0.15804434]]\n",
      "logits is [[0.77509445 0.06987689 0.15502864]]\n"
     ]
    },
    {
     "name": "stderr",
     "output_type": "stream",
     "text": [
      " 72%|███████▏  | 2068/2874 [05:13<02:07,  6.32it/s]Setting `pad_token_id` to `eos_token_id`:128001 for open-end generation.\n"
     ]
    },
    {
     "name": "stdout",
     "output_type": "stream",
     "text": [
      "logits is [[0.3023351  0.5142894  0.18337552]]\n"
     ]
    },
    {
     "name": "stderr",
     "output_type": "stream",
     "text": [
      " 72%|███████▏  | 2069/2874 [05:13<02:30,  5.35it/s]Setting `pad_token_id` to `eos_token_id`:128001 for open-end generation.\n",
      " 72%|███████▏  | 2070/2874 [05:14<02:17,  5.86it/s]Setting `pad_token_id` to `eos_token_id`:128001 for open-end generation.\n"
     ]
    },
    {
     "name": "stdout",
     "output_type": "stream",
     "text": [
      "logits is [[0.2998995  0.14417467 0.55592585]]\n",
      "logits is [[0.21467072 0.5568135  0.22851579]]\n"
     ]
    },
    {
     "name": "stderr",
     "output_type": "stream",
     "text": [
      " 72%|███████▏  | 2071/2874 [05:14<02:02,  6.54it/s]Setting `pad_token_id` to `eos_token_id`:128001 for open-end generation.\n",
      " 72%|███████▏  | 2072/2874 [05:14<01:55,  6.92it/s]Setting `pad_token_id` to `eos_token_id`:128001 for open-end generation.\n"
     ]
    },
    {
     "name": "stdout",
     "output_type": "stream",
     "text": [
      "logits is [[0.20990421 0.1535692  0.63652664]]\n",
      "logits is [[0.53679305 0.2657318  0.19747514]]\n"
     ]
    },
    {
     "name": "stderr",
     "output_type": "stream",
     "text": [
      " 72%|███████▏  | 2073/2874 [05:14<01:59,  6.70it/s]Setting `pad_token_id` to `eos_token_id`:128001 for open-end generation.\n"
     ]
    },
    {
     "name": "stdout",
     "output_type": "stream",
     "text": [
      "logits is [[0.32510343 0.44436368 0.23053284]]\n"
     ]
    },
    {
     "name": "stderr",
     "output_type": "stream",
     "text": [
      " 72%|███████▏  | 2074/2874 [05:14<02:16,  5.86it/s]Setting `pad_token_id` to `eos_token_id`:128001 for open-end generation.\n"
     ]
    },
    {
     "name": "stdout",
     "output_type": "stream",
     "text": [
      "logits is [[0.25196487 0.33905578 0.40897936]]\n"
     ]
    },
    {
     "name": "stderr",
     "output_type": "stream",
     "text": [
      " 72%|███████▏  | 2075/2874 [05:14<02:29,  5.36it/s]Setting `pad_token_id` to `eos_token_id`:128001 for open-end generation.\n",
      " 72%|███████▏  | 2076/2874 [05:15<02:22,  5.59it/s]Setting `pad_token_id` to `eos_token_id`:128001 for open-end generation.\n"
     ]
    },
    {
     "name": "stdout",
     "output_type": "stream",
     "text": [
      "logits is [[0.32128665 0.3367055  0.34200785]]\n",
      "logits is [[0.14922008 0.5631507  0.28762922]]\n"
     ]
    },
    {
     "name": "stderr",
     "output_type": "stream",
     "text": [
      " 72%|███████▏  | 2077/2874 [05:15<02:09,  6.14it/s]Setting `pad_token_id` to `eos_token_id`:128001 for open-end generation.\n",
      " 72%|███████▏  | 2078/2874 [05:15<02:05,  6.35it/s]Setting `pad_token_id` to `eos_token_id`:128001 for open-end generation.\n"
     ]
    },
    {
     "name": "stdout",
     "output_type": "stream",
     "text": [
      "logits is [[0.0617137  0.7756923  0.16259393]]\n",
      "logits is [[0.02639572 0.90185326 0.071751  ]]\n"
     ]
    },
    {
     "name": "stderr",
     "output_type": "stream",
     "text": [
      " 72%|███████▏  | 2079/2874 [05:15<02:00,  6.58it/s]Setting `pad_token_id` to `eos_token_id`:128001 for open-end generation.\n",
      " 72%|███████▏  | 2080/2874 [05:15<01:57,  6.74it/s]Setting `pad_token_id` to `eos_token_id`:128001 for open-end generation.\n"
     ]
    },
    {
     "name": "stdout",
     "output_type": "stream",
     "text": [
      "logits is [[0.5879278  0.08738767 0.3246846 ]]\n",
      "logits is [[0.4732156  0.26544988 0.26133448]]\n"
     ]
    },
    {
     "name": "stderr",
     "output_type": "stream",
     "text": [
      " 72%|███████▏  | 2081/2874 [05:15<01:55,  6.86it/s]Setting `pad_token_id` to `eos_token_id`:128001 for open-end generation.\n",
      " 72%|███████▏  | 2082/2874 [05:15<01:47,  7.37it/s]Setting `pad_token_id` to `eos_token_id`:128001 for open-end generation.\n"
     ]
    },
    {
     "name": "stdout",
     "output_type": "stream",
     "text": [
      "logits is [[0.26153696 0.38652658 0.35193646]]\n",
      "logits is [[0.12464971 0.4853559  0.38999444]]\n"
     ]
    },
    {
     "name": "stderr",
     "output_type": "stream",
     "text": [
      " 72%|███████▏  | 2083/2874 [05:15<01:41,  7.77it/s]Setting `pad_token_id` to `eos_token_id`:128001 for open-end generation.\n",
      " 73%|███████▎  | 2084/2874 [05:16<01:37,  8.10it/s]Setting `pad_token_id` to `eos_token_id`:128001 for open-end generation.\n"
     ]
    },
    {
     "name": "stdout",
     "output_type": "stream",
     "text": [
      "logits is [[0.2964844  0.4116278  0.29188782]]\n",
      "logits is [[0.18238011 0.3801128  0.43750715]]\n"
     ]
    },
    {
     "name": "stderr",
     "output_type": "stream",
     "text": [
      " 73%|███████▎  | 2085/2874 [05:16<01:37,  8.05it/s]Setting `pad_token_id` to `eos_token_id`:128001 for open-end generation.\n",
      " 73%|███████▎  | 2086/2874 [05:16<01:47,  7.33it/s]Setting `pad_token_id` to `eos_token_id`:128001 for open-end generation.\n"
     ]
    },
    {
     "name": "stdout",
     "output_type": "stream",
     "text": [
      "logits is [[0.74497515 0.13149592 0.12352899]]\n",
      "logits is [[0.6462577  0.18515594 0.1685864 ]]\n"
     ]
    },
    {
     "name": "stderr",
     "output_type": "stream",
     "text": [
      " 73%|███████▎  | 2087/2874 [05:16<01:42,  7.68it/s]Setting `pad_token_id` to `eos_token_id`:128001 for open-end generation.\n",
      " 73%|███████▎  | 2088/2874 [05:16<01:53,  6.93it/s]Setting `pad_token_id` to `eos_token_id`:128001 for open-end generation.\n"
     ]
    },
    {
     "name": "stdout",
     "output_type": "stream",
     "text": [
      "logits is [[0.39071074 0.39686355 0.21242575]]\n",
      "logits is [[0.382251   0.382251   0.23549801]]\n"
     ]
    },
    {
     "name": "stderr",
     "output_type": "stream",
     "text": [
      " 73%|███████▎  | 2089/2874 [05:16<01:58,  6.61it/s]Setting `pad_token_id` to `eos_token_id`:128001 for open-end generation.\n",
      " 73%|███████▎  | 2090/2874 [05:16<01:50,  7.09it/s]Setting `pad_token_id` to `eos_token_id`:128001 for open-end generation.\n"
     ]
    },
    {
     "name": "stdout",
     "output_type": "stream",
     "text": [
      "logits is [[0.7689601  0.04839585 0.18264404]]\n",
      "logits is [[0.5898813  0.1357984  0.27432027]]\n"
     ]
    },
    {
     "name": "stderr",
     "output_type": "stream",
     "text": [
      " 73%|███████▎  | 2091/2874 [05:17<01:46,  7.32it/s]Setting `pad_token_id` to `eos_token_id`:128001 for open-end generation.\n",
      " 73%|███████▎  | 2092/2874 [05:17<01:46,  7.37it/s]Setting `pad_token_id` to `eos_token_id`:128001 for open-end generation.\n"
     ]
    },
    {
     "name": "stdout",
     "output_type": "stream",
     "text": [
      "logits is [[0.48082882 0.26972052 0.24945071]]\n",
      "logits is [[0.47230393 0.2864668  0.24122922]]\n"
     ]
    },
    {
     "name": "stderr",
     "output_type": "stream",
     "text": [
      " 73%|███████▎  | 2093/2874 [05:17<01:48,  7.22it/s]Setting `pad_token_id` to `eos_token_id`:128001 for open-end generation.\n",
      " 73%|███████▎  | 2094/2874 [05:17<01:40,  7.77it/s]Setting `pad_token_id` to `eos_token_id`:128001 for open-end generation.\n"
     ]
    },
    {
     "name": "stdout",
     "output_type": "stream",
     "text": [
      "logits is [[0.837877   0.08296106 0.07916199]]\n",
      "logits is [[0.25506693 0.2757931  0.4691399 ]]\n"
     ]
    },
    {
     "name": "stderr",
     "output_type": "stream",
     "text": [
      " 73%|███████▎  | 2095/2874 [05:17<01:54,  6.79it/s]Setting `pad_token_id` to `eos_token_id`:128001 for open-end generation.\n",
      " 73%|███████▎  | 2096/2874 [05:17<02:07,  6.12it/s]"
     ]
    },
    {
     "name": "stdout",
     "output_type": "stream",
     "text": [
      "logits is [[0.49492252 0.28199837 0.22307907]]\n",
      "logits is [[0.8468476  0.0232841  0.12986828]]\n"
     ]
    },
    {
     "name": "stderr",
     "output_type": "stream",
     "text": [
      "Setting `pad_token_id` to `eos_token_id`:128001 for open-end generation.\n",
      " 73%|███████▎  | 2097/2874 [05:17<01:55,  6.71it/s]Setting `pad_token_id` to `eos_token_id`:128001 for open-end generation.\n",
      " 73%|███████▎  | 2098/2874 [05:18<01:47,  7.24it/s]Setting `pad_token_id` to `eos_token_id`:128001 for open-end generation.\n"
     ]
    },
    {
     "name": "stdout",
     "output_type": "stream",
     "text": [
      "logits is [[0.28680846 0.39819407 0.31499743]]\n",
      "logits is [[0.20585299 0.2684829  0.52566403]]\n"
     ]
    },
    {
     "name": "stderr",
     "output_type": "stream",
     "text": [
      " 73%|███████▎  | 2099/2874 [05:18<01:53,  6.85it/s]Setting `pad_token_id` to `eos_token_id`:128001 for open-end generation.\n"
     ]
    },
    {
     "name": "stdout",
     "output_type": "stream",
     "text": [
      "logits is [[0.19581982 0.5406759  0.2635044 ]]\n"
     ]
    },
    {
     "name": "stderr",
     "output_type": "stream",
     "text": [
      " 73%|███████▎  | 2100/2874 [05:18<02:09,  5.99it/s]Setting `pad_token_id` to `eos_token_id`:128001 for open-end generation.\n",
      " 73%|███████▎  | 2101/2874 [05:18<02:08,  6.00it/s]Setting `pad_token_id` to `eos_token_id`:128001 for open-end generation.\n"
     ]
    },
    {
     "name": "stdout",
     "output_type": "stream",
     "text": [
      "logits is [[0.04575791 0.8110783  0.14316383]]\n",
      "logits is [[0.1898345  0.58473146 0.22543406]]\n"
     ]
    },
    {
     "name": "stderr",
     "output_type": "stream",
     "text": [
      " 73%|███████▎  | 2102/2874 [05:18<02:20,  5.51it/s]Setting `pad_token_id` to `eos_token_id`:128001 for open-end generation.\n",
      " 73%|███████▎  | 2103/2874 [05:18<02:06,  6.10it/s]Setting `pad_token_id` to `eos_token_id`:128001 for open-end generation.\n"
     ]
    },
    {
     "name": "stdout",
     "output_type": "stream",
     "text": [
      "logits is [[0.47151572 0.295067   0.2334172 ]]\n",
      "logits is [[0.13052443 0.7629446  0.10653093]]\n"
     ]
    },
    {
     "name": "stderr",
     "output_type": "stream",
     "text": [
      " 73%|███████▎  | 2104/2874 [05:19<01:55,  6.67it/s]Setting `pad_token_id` to `eos_token_id`:128001 for open-end generation.\n"
     ]
    },
    {
     "name": "stdout",
     "output_type": "stream",
     "text": [
      "logits is [[0.59593225 0.03692456 0.3671432 ]]\n"
     ]
    },
    {
     "name": "stderr",
     "output_type": "stream",
     "text": [
      " 73%|███████▎  | 2105/2874 [05:20<07:51,  1.63it/s]"
     ]
    },
    {
     "name": "stdout",
     "output_type": "stream",
     "text": [
      "logits is [[0.36141098 0.3342505  0.30433854]]\n"
     ]
    },
    {
     "name": "stderr",
     "output_type": "stream",
     "text": [
      "Setting `pad_token_id` to `eos_token_id`:128001 for open-end generation.\n",
      " 73%|███████▎  | 2106/2874 [05:21<07:17,  1.76it/s]Setting `pad_token_id` to `eos_token_id`:128001 for open-end generation.\n"
     ]
    },
    {
     "name": "stdout",
     "output_type": "stream",
     "text": [
      "logits is [[0.1904919  0.24080431 0.5687038 ]]\n"
     ]
    },
    {
     "name": "stderr",
     "output_type": "stream",
     "text": [
      " 73%|███████▎  | 2107/2874 [05:21<06:12,  2.06it/s]Setting `pad_token_id` to `eos_token_id`:128001 for open-end generation.\n"
     ]
    },
    {
     "name": "stdout",
     "output_type": "stream",
     "text": [
      "logits is [[0.06488088 0.635113   0.30000612]]\n"
     ]
    },
    {
     "name": "stderr",
     "output_type": "stream",
     "text": [
      " 73%|███████▎  | 2108/2874 [05:21<05:13,  2.45it/s]Setting `pad_token_id` to `eos_token_id`:128001 for open-end generation.\n"
     ]
    },
    {
     "name": "stdout",
     "output_type": "stream",
     "text": [
      "logits is [[0.64855623 0.12377913 0.22766466]]\n"
     ]
    },
    {
     "name": "stderr",
     "output_type": "stream",
     "text": [
      " 73%|███████▎  | 2109/2874 [05:22<04:35,  2.78it/s]Setting `pad_token_id` to `eos_token_id`:128001 for open-end generation.\n"
     ]
    },
    {
     "name": "stdout",
     "output_type": "stream",
     "text": [
      "logits is [[0.56260294 0.1798187  0.25757837]]\n"
     ]
    },
    {
     "name": "stderr",
     "output_type": "stream",
     "text": [
      " 73%|███████▎  | 2110/2874 [05:22<04:14,  3.00it/s]Setting `pad_token_id` to `eos_token_id`:128001 for open-end generation.\n",
      " 73%|███████▎  | 2111/2874 [05:22<03:34,  3.55it/s]Setting `pad_token_id` to `eos_token_id`:128001 for open-end generation.\n"
     ]
    },
    {
     "name": "stdout",
     "output_type": "stream",
     "text": [
      "logits is [[0.28961524 0.40209094 0.30829382]]\n",
      "logits is [[0.29465845 0.34991556 0.35542595]]\n"
     ]
    },
    {
     "name": "stderr",
     "output_type": "stream",
     "text": [
      " 73%|███████▎  | 2112/2874 [05:22<03:21,  3.78it/s]Setting `pad_token_id` to `eos_token_id`:128001 for open-end generation.\n"
     ]
    },
    {
     "name": "stdout",
     "output_type": "stream",
     "text": [
      "logits is [[0.4755086  0.31675702 0.20773433]]\n"
     ]
    },
    {
     "name": "stderr",
     "output_type": "stream",
     "text": [
      " 74%|███████▎  | 2113/2874 [05:22<03:14,  3.92it/s]Setting `pad_token_id` to `eos_token_id`:128001 for open-end generation.\n",
      " 74%|███████▎  | 2114/2874 [05:23<03:00,  4.21it/s]"
     ]
    },
    {
     "name": "stdout",
     "output_type": "stream",
     "text": [
      "logits is [[0.50443983 0.24971582 0.24584433]]\n",
      "logits is [[0.3326562  0.35968712 0.3076567 ]]\n"
     ]
    },
    {
     "name": "stderr",
     "output_type": "stream",
     "text": [
      "Setting `pad_token_id` to `eos_token_id`:128001 for open-end generation.\n",
      " 74%|███████▎  | 2115/2874 [05:23<02:42,  4.66it/s]Setting `pad_token_id` to `eos_token_id`:128001 for open-end generation.\n",
      " 74%|███████▎  | 2116/2874 [05:23<02:20,  5.38it/s]Setting `pad_token_id` to `eos_token_id`:128001 for open-end generation.\n"
     ]
    },
    {
     "name": "stdout",
     "output_type": "stream",
     "text": [
      "logits is [[0.26904827 0.45766658 0.27328518]]\n",
      "logits is [[0.03758179 0.85535765 0.10706056]]\n"
     ]
    },
    {
     "name": "stderr",
     "output_type": "stream",
     "text": [
      " 74%|███████▎  | 2117/2874 [05:23<02:08,  5.90it/s]Setting `pad_token_id` to `eos_token_id`:128001 for open-end generation.\n",
      " 74%|███████▎  | 2118/2874 [05:23<02:12,  5.69it/s]Setting `pad_token_id` to `eos_token_id`:128001 for open-end generation.\n"
     ]
    },
    {
     "name": "stdout",
     "output_type": "stream",
     "text": [
      "logits is [[0.25852865 0.5304664  0.21100494]]\n",
      "logits is [[0.2141708  0.5469043  0.23892482]]\n"
     ]
    },
    {
     "name": "stderr",
     "output_type": "stream",
     "text": [
      " 74%|███████▎  | 2119/2874 [05:23<01:58,  6.36it/s]Setting `pad_token_id` to `eos_token_id`:128001 for open-end generation.\n",
      " 74%|███████▍  | 2120/2874 [05:23<01:49,  6.88it/s]Setting `pad_token_id` to `eos_token_id`:128001 for open-end generation.\n"
     ]
    },
    {
     "name": "stdout",
     "output_type": "stream",
     "text": [
      "logits is [[0.5141789  0.23911539 0.24670571]]\n",
      "logits is [[0.18160304 0.67473716 0.14365983]]\n"
     ]
    },
    {
     "name": "stderr",
     "output_type": "stream",
     "text": [
      " 74%|███████▍  | 2121/2874 [05:24<01:42,  7.34it/s]Setting `pad_token_id` to `eos_token_id`:128001 for open-end generation.\n",
      " 74%|███████▍  | 2122/2874 [05:24<01:37,  7.72it/s]Setting `pad_token_id` to `eos_token_id`:128001 for open-end generation.\n"
     ]
    },
    {
     "name": "stdout",
     "output_type": "stream",
     "text": [
      "logits is [[0.7074366  0.11369541 0.178868  ]]\n",
      "logits is [[0.23862286 0.56355184 0.19782531]]\n"
     ]
    },
    {
     "name": "stderr",
     "output_type": "stream",
     "text": [
      " 74%|███████▍  | 2123/2874 [05:24<01:33,  8.03it/s]Setting `pad_token_id` to `eos_token_id`:128001 for open-end generation.\n",
      " 74%|███████▍  | 2124/2874 [05:24<01:29,  8.38it/s]Setting `pad_token_id` to `eos_token_id`:128001 for open-end generation.\n"
     ]
    },
    {
     "name": "stdout",
     "output_type": "stream",
     "text": [
      "logits is [[0.6463467  0.11956212 0.23409125]]\n",
      "logits is [[0.4275726  0.34356424 0.22886313]]\n"
     ]
    },
    {
     "name": "stderr",
     "output_type": "stream",
     "text": [
      " 74%|███████▍  | 2125/2874 [05:24<01:51,  6.70it/s]Setting `pad_token_id` to `eos_token_id`:128001 for open-end generation.\n",
      " 74%|███████▍  | 2126/2874 [05:24<02:00,  6.19it/s]"
     ]
    },
    {
     "name": "stdout",
     "output_type": "stream",
     "text": [
      "logits is [[0.42303798 0.32435447 0.2526075 ]]\n",
      "logits is [[0.9035164  0.01629192 0.08019163]]\n"
     ]
    },
    {
     "name": "stderr",
     "output_type": "stream",
     "text": [
      "Setting `pad_token_id` to `eos_token_id`:128001 for open-end generation.\n",
      " 74%|███████▍  | 2127/2874 [05:24<02:08,  5.80it/s]Setting `pad_token_id` to `eos_token_id`:128001 for open-end generation.\n",
      " 74%|███████▍  | 2128/2874 [05:25<01:56,  6.41it/s]Setting `pad_token_id` to `eos_token_id`:128001 for open-end generation.\n"
     ]
    },
    {
     "name": "stdout",
     "output_type": "stream",
     "text": [
      "logits is [[0.17537878 0.54871166 0.27590954]]\n",
      "logits is [[0.32123342 0.34733614 0.33143046]]\n"
     ]
    },
    {
     "name": "stderr",
     "output_type": "stream",
     "text": [
      " 74%|███████▍  | 2129/2874 [05:25<01:47,  6.96it/s]Setting `pad_token_id` to `eos_token_id`:128001 for open-end generation.\n",
      " 74%|███████▍  | 2130/2874 [05:25<01:47,  6.95it/s]Setting `pad_token_id` to `eos_token_id`:128001 for open-end generation.\n"
     ]
    },
    {
     "name": "stdout",
     "output_type": "stream",
     "text": [
      "logits is [[0.7918121  0.06398823 0.1441997 ]]\n",
      "logits is [[0.34233046 0.23163237 0.42603713]]\n"
     ]
    },
    {
     "name": "stderr",
     "output_type": "stream",
     "text": [
      " 74%|███████▍  | 2131/2874 [05:25<02:13,  5.57it/s]Setting `pad_token_id` to `eos_token_id`:128001 for open-end generation.\n",
      " 74%|███████▍  | 2132/2874 [05:25<01:59,  6.20it/s]Setting `pad_token_id` to `eos_token_id`:128001 for open-end generation.\n"
     ]
    },
    {
     "name": "stdout",
     "output_type": "stream",
     "text": [
      "logits is [[0.12846327 0.03057235 0.8409644 ]]\n",
      "logits is [[0.19227232 0.5145474  0.2931803 ]]\n"
     ]
    },
    {
     "name": "stderr",
     "output_type": "stream",
     "text": [
      " 74%|███████▍  | 2133/2874 [05:25<02:07,  5.83it/s]Setting `pad_token_id` to `eos_token_id`:128001 for open-end generation.\n",
      " 74%|███████▍  | 2134/2874 [05:26<01:53,  6.51it/s]Setting `pad_token_id` to `eos_token_id`:128001 for open-end generation.\n"
     ]
    },
    {
     "name": "stdout",
     "output_type": "stream",
     "text": [
      "logits is [[0.181981   0.36761174 0.4504073 ]]\n",
      "logits is [[0.14564757 0.17027925 0.6840731 ]]\n"
     ]
    },
    {
     "name": "stderr",
     "output_type": "stream",
     "text": [
      " 74%|███████▍  | 2135/2874 [05:26<02:11,  5.60it/s]Setting `pad_token_id` to `eos_token_id`:128001 for open-end generation.\n",
      " 74%|███████▍  | 2136/2874 [05:26<01:57,  6.30it/s]Setting `pad_token_id` to `eos_token_id`:128001 for open-end generation.\n"
     ]
    },
    {
     "name": "stdout",
     "output_type": "stream",
     "text": [
      "logits is [[0.29935345 0.39657888 0.30406758]]\n",
      "logits is [[0.21060021 0.45286164 0.3365382 ]]\n"
     ]
    },
    {
     "name": "stderr",
     "output_type": "stream",
     "text": [
      " 74%|███████▍  | 2137/2874 [05:26<01:54,  6.44it/s]Setting `pad_token_id` to `eos_token_id`:128001 for open-end generation.\n",
      " 74%|███████▍  | 2138/2874 [05:26<01:44,  7.02it/s]Setting `pad_token_id` to `eos_token_id`:128001 for open-end generation.\n"
     ]
    },
    {
     "name": "stdout",
     "output_type": "stream",
     "text": [
      "logits is [[0.14922686 0.72313267 0.1276405 ]]\n",
      "logits is [[0.2162957  0.37961078 0.40409356]]\n"
     ]
    },
    {
     "name": "stderr",
     "output_type": "stream",
     "text": [
      " 74%|███████▍  | 2139/2874 [05:26<02:05,  5.84it/s]Setting `pad_token_id` to `eos_token_id`:128001 for open-end generation.\n",
      " 74%|███████▍  | 2140/2874 [05:27<02:00,  6.10it/s]Setting `pad_token_id` to `eos_token_id`:128001 for open-end generation.\n"
     ]
    },
    {
     "name": "stdout",
     "output_type": "stream",
     "text": [
      "logits is [[0.7168092  0.12073037 0.16246048]]\n",
      "logits is [[0.6081841  0.1715462  0.22026968]]\n"
     ]
    },
    {
     "name": "stderr",
     "output_type": "stream",
     "text": [
      " 74%|███████▍  | 2141/2874 [05:27<01:47,  6.81it/s]Setting `pad_token_id` to `eos_token_id`:128001 for open-end generation.\n",
      " 75%|███████▍  | 2142/2874 [05:27<01:46,  6.90it/s]Setting `pad_token_id` to `eos_token_id`:128001 for open-end generation.\n"
     ]
    },
    {
     "name": "stdout",
     "output_type": "stream",
     "text": [
      "logits is [[0.32976228 0.3455879  0.3246498 ]]\n",
      "logits is [[0.45458063 0.0615208  0.48389855]]\n"
     ]
    },
    {
     "name": "stderr",
     "output_type": "stream",
     "text": [
      " 75%|███████▍  | 2143/2874 [05:27<01:38,  7.41it/s]Setting `pad_token_id` to `eos_token_id`:128001 for open-end generation.\n",
      " 75%|███████▍  | 2144/2874 [05:27<01:37,  7.50it/s]Setting `pad_token_id` to `eos_token_id`:128001 for open-end generation.\n"
     ]
    },
    {
     "name": "stdout",
     "output_type": "stream",
     "text": [
      "logits is [[0.47285065 0.24917479 0.27797455]]\n",
      "logits is [[0.3115429  0.45329225 0.23516493]]\n"
     ]
    },
    {
     "name": "stderr",
     "output_type": "stream",
     "text": [
      " 75%|███████▍  | 2145/2874 [05:27<01:32,  7.88it/s]Setting `pad_token_id` to `eos_token_id`:128001 for open-end generation.\n",
      " 75%|███████▍  | 2146/2874 [05:27<01:43,  7.03it/s]Setting `pad_token_id` to `eos_token_id`:128001 for open-end generation.\n"
     ]
    },
    {
     "name": "stdout",
     "output_type": "stream",
     "text": [
      "logits is [[0.20271516 0.43590608 0.36137882]]\n",
      "logits is [[0.017866   0.8743882  0.10774577]]\n"
     ]
    },
    {
     "name": "stderr",
     "output_type": "stream",
     "text": [
      " 75%|███████▍  | 2147/2874 [05:27<01:37,  7.44it/s]Setting `pad_token_id` to `eos_token_id`:128001 for open-end generation.\n",
      " 75%|███████▍  | 2148/2874 [05:28<01:40,  7.26it/s]Setting `pad_token_id` to `eos_token_id`:128001 for open-end generation.\n"
     ]
    },
    {
     "name": "stdout",
     "output_type": "stream",
     "text": [
      "logits is [[0.1675158  0.7276555  0.10482872]]\n",
      "logits is [[0.4578638  0.16843869 0.37369755]]\n"
     ]
    },
    {
     "name": "stderr",
     "output_type": "stream",
     "text": [
      " 75%|███████▍  | 2149/2874 [05:28<01:35,  7.59it/s]Setting `pad_token_id` to `eos_token_id`:128001 for open-end generation.\n",
      " 75%|███████▍  | 2150/2874 [05:28<01:33,  7.78it/s]Setting `pad_token_id` to `eos_token_id`:128001 for open-end generation.\n"
     ]
    },
    {
     "name": "stdout",
     "output_type": "stream",
     "text": [
      "logits is [[0.20773433 0.4755086  0.31675702]]\n",
      "logits is [[0.22471993 0.57384247 0.20143767]]\n"
     ]
    },
    {
     "name": "stderr",
     "output_type": "stream",
     "text": [
      " 75%|███████▍  | 2151/2874 [05:28<01:28,  8.17it/s]Setting `pad_token_id` to `eos_token_id`:128001 for open-end generation.\n",
      " 75%|███████▍  | 2152/2874 [05:28<01:25,  8.47it/s]Setting `pad_token_id` to `eos_token_id`:128001 for open-end generation.\n"
     ]
    },
    {
     "name": "stdout",
     "output_type": "stream",
     "text": [
      "logits is [[0.04797906 0.85044926 0.10157168]]\n",
      "logits is [[0.3249641  0.437287   0.23774882]]\n"
     ]
    },
    {
     "name": "stderr",
     "output_type": "stream",
     "text": [
      " 75%|███████▍  | 2153/2874 [05:28<01:24,  8.55it/s]Setting `pad_token_id` to `eos_token_id`:128001 for open-end generation.\n",
      " 75%|███████▍  | 2154/2874 [05:28<01:23,  8.58it/s]Setting `pad_token_id` to `eos_token_id`:128001 for open-end generation.\n"
     ]
    },
    {
     "name": "stdout",
     "output_type": "stream",
     "text": [
      "logits is [[0.5543952  0.23844242 0.20716235]]\n",
      "logits is [[0.36971095 0.22424103 0.40604803]]\n"
     ]
    },
    {
     "name": "stderr",
     "output_type": "stream",
     "text": [
      " 75%|███████▍  | 2155/2874 [05:28<01:22,  8.74it/s]Setting `pad_token_id` to `eos_token_id`:128001 for open-end generation.\n"
     ]
    },
    {
     "name": "stdout",
     "output_type": "stream",
     "text": [
      "logits is [[0.7183717  0.09422985 0.18739846]]\n"
     ]
    },
    {
     "name": "stderr",
     "output_type": "stream",
     "text": [
      " 75%|███████▌  | 2156/2874 [05:29<01:53,  6.32it/s]Setting `pad_token_id` to `eos_token_id`:128001 for open-end generation.\n",
      " 75%|███████▌  | 2157/2874 [05:29<01:46,  6.72it/s]Setting `pad_token_id` to `eos_token_id`:128001 for open-end generation.\n"
     ]
    },
    {
     "name": "stdout",
     "output_type": "stream",
     "text": [
      "logits is [[0.39809376 0.06201104 0.5398952 ]]\n",
      "logits is [[0.14114062 0.662905   0.19595434]]\n"
     ]
    },
    {
     "name": "stderr",
     "output_type": "stream",
     "text": [
      " 75%|███████▌  | 2158/2874 [05:29<01:38,  7.24it/s]Setting `pad_token_id` to `eos_token_id`:128001 for open-end generation.\n",
      " 75%|███████▌  | 2159/2874 [05:29<01:39,  7.17it/s]Setting `pad_token_id` to `eos_token_id`:128001 for open-end generation.\n"
     ]
    },
    {
     "name": "stdout",
     "output_type": "stream",
     "text": [
      "logits is [[0.36922482 0.24983001 0.38094527]]\n",
      "logits is [[0.7348916  0.09055641 0.17455205]]\n"
     ]
    },
    {
     "name": "stderr",
     "output_type": "stream",
     "text": [
      " 75%|███████▌  | 2160/2874 [05:29<01:40,  7.12it/s]Setting `pad_token_id` to `eos_token_id`:128001 for open-end generation.\n"
     ]
    },
    {
     "name": "stdout",
     "output_type": "stream",
     "text": [
      "logits is [[0.5850272  0.2220513  0.19292149]]\n"
     ]
    },
    {
     "name": "stderr",
     "output_type": "stream",
     "text": [
      " 75%|███████▌  | 2161/2874 [05:29<02:07,  5.61it/s]Setting `pad_token_id` to `eos_token_id`:128001 for open-end generation.\n",
      " 75%|███████▌  | 2162/2874 [05:30<01:53,  6.29it/s]Setting `pad_token_id` to `eos_token_id`:128001 for open-end generation.\n"
     ]
    },
    {
     "name": "stdout",
     "output_type": "stream",
     "text": [
      "logits is [[0.6998968  0.26153234 0.0385708 ]]\n",
      "logits is [[0.17950757 0.15354097 0.66695154]]\n"
     ]
    },
    {
     "name": "stderr",
     "output_type": "stream",
     "text": [
      " 75%|███████▌  | 2163/2874 [05:30<01:47,  6.64it/s]Setting `pad_token_id` to `eos_token_id`:128001 for open-end generation.\n",
      " 75%|███████▌  | 2164/2874 [05:30<01:40,  7.10it/s]Setting `pad_token_id` to `eos_token_id`:128001 for open-end generation.\n"
     ]
    },
    {
     "name": "stdout",
     "output_type": "stream",
     "text": [
      "logits is [[0.14750643 0.514848   0.33764556]]\n",
      "logits is [[0.64113885 0.15711783 0.20174327]]\n"
     ]
    },
    {
     "name": "stderr",
     "output_type": "stream",
     "text": [
      " 75%|███████▌  | 2165/2874 [05:30<01:37,  7.27it/s]Setting `pad_token_id` to `eos_token_id`:128001 for open-end generation.\n",
      " 75%|███████▌  | 2166/2874 [05:30<01:38,  7.17it/s]Setting `pad_token_id` to `eos_token_id`:128001 for open-end generation.\n"
     ]
    },
    {
     "name": "stdout",
     "output_type": "stream",
     "text": [
      "logits is [[0.16425163 0.7361247  0.09962364]]\n",
      "logits is [[0.4614866  0.27556622 0.26294714]]\n"
     ]
    },
    {
     "name": "stderr",
     "output_type": "stream",
     "text": [
      " 75%|███████▌  | 2167/2874 [05:30<01:36,  7.32it/s]Setting `pad_token_id` to `eos_token_id`:128001 for open-end generation.\n",
      " 75%|███████▌  | 2168/2874 [05:30<01:32,  7.67it/s]Setting `pad_token_id` to `eos_token_id`:128001 for open-end generation.\n"
     ]
    },
    {
     "name": "stdout",
     "output_type": "stream",
     "text": [
      "logits is [[0.79630107 0.06958001 0.13411899]]\n",
      "logits is [[0.17803457 0.64112717 0.18083821]]\n"
     ]
    },
    {
     "name": "stderr",
     "output_type": "stream",
     "text": [
      " 75%|███████▌  | 2169/2874 [05:30<01:31,  7.72it/s]Setting `pad_token_id` to `eos_token_id`:128001 for open-end generation.\n",
      " 76%|███████▌  | 2170/2874 [05:31<01:27,  8.04it/s]Setting `pad_token_id` to `eos_token_id`:128001 for open-end generation.\n"
     ]
    },
    {
     "name": "stdout",
     "output_type": "stream",
     "text": [
      "logits is [[0.11984976 0.79382575 0.08632454]]\n",
      "logits is [[0.6437191 0.1267558 0.2295251]]\n"
     ]
    },
    {
     "name": "stderr",
     "output_type": "stream",
     "text": [
      " 76%|███████▌  | 2171/2874 [05:31<01:27,  8.00it/s]Setting `pad_token_id` to `eos_token_id`:128001 for open-end generation.\n",
      " 76%|███████▌  | 2172/2874 [05:31<01:28,  7.94it/s]Setting `pad_token_id` to `eos_token_id`:128001 for open-end generation.\n"
     ]
    },
    {
     "name": "stdout",
     "output_type": "stream",
     "text": [
      "logits is [[0.21079336 0.5911846  0.19802204]]\n",
      "logits is [[0.35470173 0.3602875  0.28501084]]\n"
     ]
    },
    {
     "name": "stderr",
     "output_type": "stream",
     "text": [
      " 76%|███████▌  | 2173/2874 [05:31<01:40,  6.97it/s]Setting `pad_token_id` to `eos_token_id`:128001 for open-end generation.\n",
      " 76%|███████▌  | 2174/2874 [05:31<01:40,  6.98it/s]Setting `pad_token_id` to `eos_token_id`:128001 for open-end generation.\n"
     ]
    },
    {
     "name": "stdout",
     "output_type": "stream",
     "text": [
      "logits is [[0.15720427 0.6618547  0.180941  ]]\n",
      "logits is [[0.45268375 0.15401788 0.39329845]]\n"
     ]
    },
    {
     "name": "stderr",
     "output_type": "stream",
     "text": [
      " 76%|███████▌  | 2175/2874 [05:31<01:35,  7.36it/s]Setting `pad_token_id` to `eos_token_id`:128001 for open-end generation.\n",
      " 76%|███████▌  | 2176/2874 [05:31<01:31,  7.66it/s]Setting `pad_token_id` to `eos_token_id`:128001 for open-end generation.\n"
     ]
    },
    {
     "name": "stdout",
     "output_type": "stream",
     "text": [
      "logits is [[0.3907276  0.17338432 0.43588814]]\n",
      "logits is [[0.16580181 0.7090444  0.12515377]]\n"
     ]
    },
    {
     "name": "stderr",
     "output_type": "stream",
     "text": [
      " 76%|███████▌  | 2177/2874 [05:32<01:32,  7.50it/s]Setting `pad_token_id` to `eos_token_id`:128001 for open-end generation.\n",
      " 76%|███████▌  | 2178/2874 [05:32<01:41,  6.85it/s]Setting `pad_token_id` to `eos_token_id`:128001 for open-end generation.\n"
     ]
    },
    {
     "name": "stdout",
     "output_type": "stream",
     "text": [
      "logits is [[0.4244641  0.2698058  0.30573004]]\n",
      "logits is [[0.490594   0.16691619 0.3424898 ]]\n"
     ]
    },
    {
     "name": "stderr",
     "output_type": "stream",
     "text": [
      " 76%|███████▌  | 2179/2874 [05:32<02:01,  5.71it/s]Setting `pad_token_id` to `eos_token_id`:128001 for open-end generation.\n",
      " 76%|███████▌  | 2180/2874 [05:32<02:05,  5.54it/s]"
     ]
    },
    {
     "name": "stdout",
     "output_type": "stream",
     "text": [
      "logits is [[0.38402417 0.15275428 0.4632216 ]]\n",
      "logits is [[0.17509125 0.5741021  0.25080663]]\n"
     ]
    },
    {
     "name": "stderr",
     "output_type": "stream",
     "text": [
      "Setting `pad_token_id` to `eos_token_id`:128001 for open-end generation.\n",
      " 76%|███████▌  | 2181/2874 [05:32<01:58,  5.86it/s]Setting `pad_token_id` to `eos_token_id`:128001 for open-end generation.\n",
      " 76%|███████▌  | 2182/2874 [05:32<01:56,  5.92it/s]Setting `pad_token_id` to `eos_token_id`:128001 for open-end generation.\n"
     ]
    },
    {
     "name": "stdout",
     "output_type": "stream",
     "text": [
      "logits is [[0.10173105 0.7755579  0.12271107]]\n",
      "logits is [[0.30304372 0.40778992 0.28916636]]\n"
     ]
    },
    {
     "name": "stderr",
     "output_type": "stream",
     "text": [
      " 76%|███████▌  | 2183/2874 [05:33<01:48,  6.36it/s]Setting `pad_token_id` to `eos_token_id`:128001 for open-end generation.\n",
      " 76%|███████▌  | 2184/2874 [05:33<01:46,  6.49it/s]Setting `pad_token_id` to `eos_token_id`:128001 for open-end generation.\n"
     ]
    },
    {
     "name": "stdout",
     "output_type": "stream",
     "text": [
      "logits is [[0.36482704 0.33740985 0.29776317]]\n",
      "logits is [[0.5345561  0.26879168 0.1966522 ]]\n"
     ]
    },
    {
     "name": "stderr",
     "output_type": "stream",
     "text": [
      " 76%|███████▌  | 2185/2874 [05:33<01:37,  7.06it/s]Setting `pad_token_id` to `eos_token_id`:128001 for open-end generation.\n",
      " 76%|███████▌  | 2186/2874 [05:33<01:31,  7.53it/s]Setting `pad_token_id` to `eos_token_id`:128001 for open-end generation.\n"
     ]
    },
    {
     "name": "stdout",
     "output_type": "stream",
     "text": [
      "logits is [[0.21335308 0.5983635  0.18828343]]\n",
      "logits is [[0.72934544 0.1247763  0.14587827]]\n"
     ]
    },
    {
     "name": "stderr",
     "output_type": "stream",
     "text": [
      " 76%|███████▌  | 2187/2874 [05:33<01:37,  7.05it/s]Setting `pad_token_id` to `eos_token_id`:128001 for open-end generation.\n",
      " 76%|███████▌  | 2188/2874 [05:33<01:32,  7.45it/s]Setting `pad_token_id` to `eos_token_id`:128001 for open-end generation.\n"
     ]
    },
    {
     "name": "stdout",
     "output_type": "stream",
     "text": [
      "logits is [[0.7386988  0.10154634 0.15975481]]\n",
      "logits is [[0.6782423  0.12743796 0.19431968]]\n"
     ]
    },
    {
     "name": "stderr",
     "output_type": "stream",
     "text": [
      " 76%|███████▌  | 2189/2874 [05:33<01:40,  6.81it/s]Setting `pad_token_id` to `eos_token_id`:128001 for open-end generation.\n",
      " 76%|███████▌  | 2190/2874 [05:33<01:32,  7.38it/s]Setting `pad_token_id` to `eos_token_id`:128001 for open-end generation.\n"
     ]
    },
    {
     "name": "stdout",
     "output_type": "stream",
     "text": [
      "logits is [[0.78186446 0.121791   0.09634461]]\n",
      "logits is [[0.14254287 0.71266955 0.14478761]]\n"
     ]
    },
    {
     "name": "stderr",
     "output_type": "stream",
     "text": [
      " 76%|███████▌  | 2191/2874 [05:34<01:26,  7.85it/s]Setting `pad_token_id` to `eos_token_id`:128001 for open-end generation.\n",
      " 76%|███████▋  | 2192/2874 [05:34<01:24,  8.07it/s]Setting `pad_token_id` to `eos_token_id`:128001 for open-end generation.\n"
     ]
    },
    {
     "name": "stdout",
     "output_type": "stream",
     "text": [
      "logits is [[0.10906004 0.5042885  0.3866514 ]]\n",
      "logits is [[0.88382894 0.01544659 0.10072445]]\n"
     ]
    },
    {
     "name": "stderr",
     "output_type": "stream",
     "text": [
      " 76%|███████▋  | 2193/2874 [05:34<01:42,  6.65it/s]Setting `pad_token_id` to `eos_token_id`:128001 for open-end generation.\n",
      " 76%|███████▋  | 2194/2874 [05:34<01:48,  6.28it/s]Setting `pad_token_id` to `eos_token_id`:128001 for open-end generation.\n"
     ]
    },
    {
     "name": "stdout",
     "output_type": "stream",
     "text": [
      "logits is [[0.28547102 0.4153579  0.2991711 ]]\n",
      "logits is [[0.45885676 0.2916671  0.24947609]]\n"
     ]
    },
    {
     "name": "stderr",
     "output_type": "stream",
     "text": [
      " 76%|███████▋  | 2195/2874 [05:34<01:39,  6.83it/s]Setting `pad_token_id` to `eos_token_id`:128001 for open-end generation.\n",
      " 76%|███████▋  | 2196/2874 [05:34<01:31,  7.38it/s]Setting `pad_token_id` to `eos_token_id`:128001 for open-end generation.\n"
     ]
    },
    {
     "name": "stdout",
     "output_type": "stream",
     "text": [
      "logits is [[0.77629954 0.11359773 0.11010269]]\n",
      "logits is [[0.5512374  0.07577668 0.37298587]]\n"
     ]
    },
    {
     "name": "stderr",
     "output_type": "stream",
     "text": [
      " 76%|███████▋  | 2197/2874 [05:34<01:29,  7.59it/s]Setting `pad_token_id` to `eos_token_id`:128001 for open-end generation.\n"
     ]
    },
    {
     "name": "stdout",
     "output_type": "stream",
     "text": [
      "logits is [[0.3350105  0.3247033  0.34028617]]\n"
     ]
    },
    {
     "name": "stderr",
     "output_type": "stream",
     "text": [
      " 76%|███████▋  | 2198/2874 [05:35<01:50,  6.10it/s]Setting `pad_token_id` to `eos_token_id`:128001 for open-end generation.\n"
     ]
    },
    {
     "name": "stdout",
     "output_type": "stream",
     "text": [
      "logits is [[0.52724063 0.2529728  0.21978658]]\n"
     ]
    },
    {
     "name": "stderr",
     "output_type": "stream",
     "text": [
      " 77%|███████▋  | 2199/2874 [05:35<01:59,  5.67it/s]Setting `pad_token_id` to `eos_token_id`:128001 for open-end generation.\n",
      " 77%|███████▋  | 2200/2874 [05:35<01:47,  6.24it/s]Setting `pad_token_id` to `eos_token_id`:128001 for open-end generation.\n"
     ]
    },
    {
     "name": "stdout",
     "output_type": "stream",
     "text": [
      "logits is [[0.22160177 0.51523954 0.2631586 ]]\n",
      "logits is [[0.41127324 0.31044534 0.2782814 ]]\n"
     ]
    },
    {
     "name": "stderr",
     "output_type": "stream",
     "text": [
      " 77%|███████▋  | 2201/2874 [05:35<01:44,  6.47it/s]Setting `pad_token_id` to `eos_token_id`:128001 for open-end generation.\n",
      " 77%|███████▋  | 2202/2874 [05:35<01:44,  6.42it/s]Setting `pad_token_id` to `eos_token_id`:128001 for open-end generation.\n"
     ]
    },
    {
     "name": "stdout",
     "output_type": "stream",
     "text": [
      "logits is [[0.8620587  0.05258592 0.08535537]]\n",
      "logits is [[0.4718082  0.1936297  0.33456212]]\n"
     ]
    },
    {
     "name": "stderr",
     "output_type": "stream",
     "text": [
      " 77%|███████▋  | 2203/2874 [05:35<01:43,  6.50it/s]Setting `pad_token_id` to `eos_token_id`:128001 for open-end generation.\n"
     ]
    },
    {
     "name": "stdout",
     "output_type": "stream",
     "text": [
      "logits is [[0.01038888 0.9351772  0.05443384]]\n"
     ]
    },
    {
     "name": "stderr",
     "output_type": "stream",
     "text": [
      " 77%|███████▋  | 2204/2874 [05:36<02:03,  5.42it/s]Setting `pad_token_id` to `eos_token_id`:128001 for open-end generation.\n",
      " 77%|███████▋  | 2205/2874 [05:36<01:52,  5.96it/s]Setting `pad_token_id` to `eos_token_id`:128001 for open-end generation.\n"
     ]
    },
    {
     "name": "stdout",
     "output_type": "stream",
     "text": [
      "logits is [[0.21269794 0.66029423 0.12700774]]\n",
      "logits is [[0.17104377 0.5877458  0.24121039]]\n"
     ]
    },
    {
     "name": "stderr",
     "output_type": "stream",
     "text": [
      " 77%|███████▋  | 2206/2874 [05:36<01:55,  5.80it/s]Setting `pad_token_id` to `eos_token_id`:128001 for open-end generation.\n",
      " 77%|███████▋  | 2207/2874 [05:36<01:52,  5.92it/s]Setting `pad_token_id` to `eos_token_id`:128001 for open-end generation.\n"
     ]
    },
    {
     "name": "stdout",
     "output_type": "stream",
     "text": [
      "logits is [[0.32769528 0.3831146  0.28919008]]\n",
      "logits is [[0.24626303 0.47468442 0.27905256]]\n"
     ]
    },
    {
     "name": "stderr",
     "output_type": "stream",
     "text": [
      " 77%|███████▋  | 2208/2874 [05:36<01:51,  5.96it/s]Setting `pad_token_id` to `eos_token_id`:128001 for open-end generation.\n"
     ]
    },
    {
     "name": "stdout",
     "output_type": "stream",
     "text": [
      "logits is [[0.4100717  0.35627648 0.23365182]]\n"
     ]
    },
    {
     "name": "stderr",
     "output_type": "stream",
     "text": [
      " 77%|███████▋  | 2209/2874 [05:37<02:09,  5.13it/s]Setting `pad_token_id` to `eos_token_id`:128001 for open-end generation.\n",
      " 77%|███████▋  | 2210/2874 [05:37<01:53,  5.87it/s]Setting `pad_token_id` to `eos_token_id`:128001 for open-end generation.\n"
     ]
    },
    {
     "name": "stdout",
     "output_type": "stream",
     "text": [
      "logits is [[0.01906127 0.8729493  0.10798947]]\n",
      "logits is [[0.55849236 0.23281425 0.20869334]]\n"
     ]
    },
    {
     "name": "stderr",
     "output_type": "stream",
     "text": [
      " 77%|███████▋  | 2211/2874 [05:37<01:52,  5.91it/s]Setting `pad_token_id` to `eos_token_id`:128001 for open-end generation.\n"
     ]
    },
    {
     "name": "stdout",
     "output_type": "stream",
     "text": [
      "logits is [[0.2710977  0.40696585 0.3219365 ]]\n"
     ]
    },
    {
     "name": "stderr",
     "output_type": "stream",
     "text": [
      " 77%|███████▋  | 2212/2874 [05:37<02:01,  5.44it/s]Setting `pad_token_id` to `eos_token_id`:128001 for open-end generation.\n",
      " 77%|███████▋  | 2213/2874 [05:37<02:04,  5.32it/s]"
     ]
    },
    {
     "name": "stdout",
     "output_type": "stream",
     "text": [
      "logits is [[0.2636192 0.3280794 0.4083014]]\n",
      "logits is [[0.15103017 0.30508932 0.5438805 ]]\n"
     ]
    },
    {
     "name": "stderr",
     "output_type": "stream",
     "text": [
      "Setting `pad_token_id` to `eos_token_id`:128001 for open-end generation.\n",
      " 77%|███████▋  | 2214/2874 [05:37<01:56,  5.68it/s]Setting `pad_token_id` to `eos_token_id`:128001 for open-end generation.\n",
      " 77%|███████▋  | 2215/2874 [05:38<01:46,  6.21it/s]Setting `pad_token_id` to `eos_token_id`:128001 for open-end generation.\n"
     ]
    },
    {
     "name": "stdout",
     "output_type": "stream",
     "text": [
      "logits is [[0.02447348 0.8901057  0.08542085]]\n",
      "logits is [[0.14293966 0.68192697 0.17513333]]\n"
     ]
    },
    {
     "name": "stderr",
     "output_type": "stream",
     "text": [
      " 77%|███████▋  | 2216/2874 [05:38<01:35,  6.88it/s]Setting `pad_token_id` to `eos_token_id`:128001 for open-end generation.\n",
      " 77%|███████▋  | 2217/2874 [05:38<01:29,  7.37it/s]Setting `pad_token_id` to `eos_token_id`:128001 for open-end generation.\n"
     ]
    },
    {
     "name": "stdout",
     "output_type": "stream",
     "text": [
      "logits is [[0.52122194 0.27466467 0.20411344]]\n",
      "logits is [[0.07229216 0.10036774 0.82734007]]\n"
     ]
    },
    {
     "name": "stderr",
     "output_type": "stream",
     "text": [
      " 77%|███████▋  | 2218/2874 [05:38<01:24,  7.77it/s]Setting `pad_token_id` to `eos_token_id`:128001 for open-end generation.\n",
      " 77%|███████▋  | 2219/2874 [05:38<01:22,  7.93it/s]Setting `pad_token_id` to `eos_token_id`:128001 for open-end generation.\n"
     ]
    },
    {
     "name": "stdout",
     "output_type": "stream",
     "text": [
      "logits is [[0.37942865 0.32965332 0.29091805]]\n",
      "logits is [[0.51999325 0.23437932 0.24562742]]\n"
     ]
    },
    {
     "name": "stderr",
     "output_type": "stream",
     "text": [
      " 77%|███████▋  | 2220/2874 [05:38<01:47,  6.06it/s]Setting `pad_token_id` to `eos_token_id`:128001 for open-end generation.\n",
      " 77%|███████▋  | 2221/2874 [05:38<01:40,  6.48it/s]Setting `pad_token_id` to `eos_token_id`:128001 for open-end generation.\n"
     ]
    },
    {
     "name": "stdout",
     "output_type": "stream",
     "text": [
      "logits is [[0.846445   0.0257609  0.12779409]]\n",
      "logits is [[0.37066042 0.38242647 0.24691309]]\n"
     ]
    },
    {
     "name": "stderr",
     "output_type": "stream",
     "text": [
      " 77%|███████▋  | 2222/2874 [05:39<01:43,  6.30it/s]Setting `pad_token_id` to `eos_token_id`:128001 for open-end generation.\n"
     ]
    },
    {
     "name": "stdout",
     "output_type": "stream",
     "text": [
      "logits is [[0.1989968 0.5494478 0.2515555]]\n"
     ]
    },
    {
     "name": "stderr",
     "output_type": "stream",
     "text": [
      " 77%|███████▋  | 2223/2874 [05:39<01:54,  5.67it/s]Setting `pad_token_id` to `eos_token_id`:128001 for open-end generation.\n",
      " 77%|███████▋  | 2224/2874 [05:39<01:48,  6.00it/s]Setting `pad_token_id` to `eos_token_id`:128001 for open-end generation.\n"
     ]
    },
    {
     "name": "stdout",
     "output_type": "stream",
     "text": [
      "logits is [[0.4019443  0.31303453 0.28502122]]\n",
      "logits is [[0.37721035 0.214928   0.40786165]]\n"
     ]
    },
    {
     "name": "stderr",
     "output_type": "stream",
     "text": [
      " 77%|███████▋  | 2225/2874 [05:39<01:48,  6.00it/s]Setting `pad_token_id` to `eos_token_id`:128001 for open-end generation.\n",
      " 77%|███████▋  | 2226/2874 [05:39<01:42,  6.30it/s]Setting `pad_token_id` to `eos_token_id`:128001 for open-end generation.\n"
     ]
    },
    {
     "name": "stdout",
     "output_type": "stream",
     "text": [
      "logits is [[0.8722721  0.02675513 0.10097282]]\n",
      "logits is [[0.5217666  0.27068895 0.20754442]]\n"
     ]
    },
    {
     "name": "stderr",
     "output_type": "stream",
     "text": [
      " 77%|███████▋  | 2227/2874 [05:39<01:47,  6.02it/s]Setting `pad_token_id` to `eos_token_id`:128001 for open-end generation.\n",
      " 78%|███████▊  | 2228/2874 [05:40<01:40,  6.42it/s]Setting `pad_token_id` to `eos_token_id`:128001 for open-end generation.\n"
     ]
    },
    {
     "name": "stdout",
     "output_type": "stream",
     "text": [
      "logits is [[0.42136183 0.25556886 0.32306933]]\n",
      "logits is [[0.129214   0.7435752  0.12721072]]\n"
     ]
    },
    {
     "name": "stderr",
     "output_type": "stream",
     "text": [
      " 78%|███████▊  | 2229/2874 [05:40<01:33,  6.91it/s]Setting `pad_token_id` to `eos_token_id`:128001 for open-end generation.\n",
      " 78%|███████▊  | 2230/2874 [05:40<01:35,  6.73it/s]Setting `pad_token_id` to `eos_token_id`:128001 for open-end generation.\n"
     ]
    },
    {
     "name": "stdout",
     "output_type": "stream",
     "text": [
      "logits is [[0.34814408 0.23191397 0.41994193]]\n",
      "logits is [[0.6236731  0.06272445 0.3136025 ]]\n"
     ]
    },
    {
     "name": "stderr",
     "output_type": "stream",
     "text": [
      " 78%|███████▊  | 2231/2874 [05:40<01:28,  7.27it/s]Setting `pad_token_id` to `eos_token_id`:128001 for open-end generation.\n",
      " 78%|███████▊  | 2232/2874 [05:40<01:27,  7.35it/s]Setting `pad_token_id` to `eos_token_id`:128001 for open-end generation.\n"
     ]
    },
    {
     "name": "stdout",
     "output_type": "stream",
     "text": [
      "logits is [[0.7922135  0.04683852 0.16094793]]\n",
      "logits is [[0.662905   0.14114062 0.19595434]]\n"
     ]
    },
    {
     "name": "stderr",
     "output_type": "stream",
     "text": [
      " 78%|███████▊  | 2233/2874 [05:40<01:36,  6.64it/s]Setting `pad_token_id` to `eos_token_id`:128001 for open-end generation.\n",
      " 78%|███████▊  | 2234/2874 [05:40<01:40,  6.40it/s]Setting `pad_token_id` to `eos_token_id`:128001 for open-end generation.\n"
     ]
    },
    {
     "name": "stdout",
     "output_type": "stream",
     "text": [
      "logits is [[0.73608637 0.04632689 0.21758671]]\n",
      "logits is [[0.23069154 0.5198714  0.24943702]]\n"
     ]
    },
    {
     "name": "stderr",
     "output_type": "stream",
     "text": [
      " 78%|███████▊  | 2235/2874 [05:41<01:40,  6.37it/s]Setting `pad_token_id` to `eos_token_id`:128001 for open-end generation.\n",
      " 78%|███████▊  | 2236/2874 [05:41<01:32,  6.86it/s]Setting `pad_token_id` to `eos_token_id`:128001 for open-end generation.\n"
     ]
    },
    {
     "name": "stdout",
     "output_type": "stream",
     "text": [
      "logits is [[0.17010549 0.59372646 0.23616807]]\n",
      "logits is [[0.17652635 0.3510646  0.47240904]]\n"
     ]
    },
    {
     "name": "stderr",
     "output_type": "stream",
     "text": [
      " 78%|███████▊  | 2237/2874 [05:41<01:46,  5.97it/s]Setting `pad_token_id` to `eos_token_id`:128001 for open-end generation.\n",
      " 78%|███████▊  | 2238/2874 [05:41<01:37,  6.53it/s]Setting `pad_token_id` to `eos_token_id`:128001 for open-end generation.\n"
     ]
    },
    {
     "name": "stdout",
     "output_type": "stream",
     "text": [
      "logits is [[0.39096224 0.29976115 0.30927658]]\n",
      "logits is [[0.49992383 0.23248617 0.26758996]]\n"
     ]
    },
    {
     "name": "stderr",
     "output_type": "stream",
     "text": [
      " 78%|███████▊  | 2239/2874 [05:41<01:38,  6.46it/s]Setting `pad_token_id` to `eos_token_id`:128001 for open-end generation.\n"
     ]
    },
    {
     "name": "stdout",
     "output_type": "stream",
     "text": [
      "logits is [[0.08828255 0.7277208  0.18399663]]\n"
     ]
    },
    {
     "name": "stderr",
     "output_type": "stream",
     "text": [
      " 78%|███████▊  | 2240/2874 [05:41<01:49,  5.77it/s]Setting `pad_token_id` to `eos_token_id`:128001 for open-end generation.\n"
     ]
    },
    {
     "name": "stdout",
     "output_type": "stream",
     "text": [
      "logits is [[0.80496764 0.04612832 0.14890404]]\n"
     ]
    },
    {
     "name": "stderr",
     "output_type": "stream",
     "text": [
      " 78%|███████▊  | 2241/2874 [05:42<01:55,  5.49it/s]Setting `pad_token_id` to `eos_token_id`:128001 for open-end generation.\n",
      " 78%|███████▊  | 2242/2874 [05:42<01:42,  6.15it/s]Setting `pad_token_id` to `eos_token_id`:128001 for open-end generation.\n"
     ]
    },
    {
     "name": "stdout",
     "output_type": "stream",
     "text": [
      "logits is [[0.2890736 0.5153294 0.195597 ]]\n",
      "logits is [[0.42876363 0.28561816 0.28561816]]\n"
     ]
    },
    {
     "name": "stderr",
     "output_type": "stream",
     "text": [
      " 78%|███████▊  | 2243/2874 [05:42<01:32,  6.82it/s]Setting `pad_token_id` to `eos_token_id`:128001 for open-end generation.\n",
      " 78%|███████▊  | 2244/2874 [05:42<01:26,  7.25it/s]Setting `pad_token_id` to `eos_token_id`:128001 for open-end generation.\n"
     ]
    },
    {
     "name": "stdout",
     "output_type": "stream",
     "text": [
      "logits is [[0.21995485 0.41740093 0.36264423]]\n",
      "logits is [[0.39554036 0.21505156 0.38940805]]\n"
     ]
    },
    {
     "name": "stderr",
     "output_type": "stream",
     "text": [
      " 78%|███████▊  | 2245/2874 [05:42<01:22,  7.59it/s]Setting `pad_token_id` to `eos_token_id`:128001 for open-end generation.\n",
      " 78%|███████▊  | 2246/2874 [05:42<01:19,  7.90it/s]Setting `pad_token_id` to `eos_token_id`:128001 for open-end generation.\n"
     ]
    },
    {
     "name": "stdout",
     "output_type": "stream",
     "text": [
      "logits is [[0.34052163 0.27361685 0.38586158]]\n",
      "logits is [[0.584709   0.25544044 0.15985054]]\n"
     ]
    },
    {
     "name": "stderr",
     "output_type": "stream",
     "text": [
      " 78%|███████▊  | 2247/2874 [05:42<01:35,  6.56it/s]Setting `pad_token_id` to `eos_token_id`:128001 for open-end generation.\n",
      " 78%|███████▊  | 2248/2874 [05:43<01:28,  7.04it/s]Setting `pad_token_id` to `eos_token_id`:128001 for open-end generation.\n"
     ]
    },
    {
     "name": "stdout",
     "output_type": "stream",
     "text": [
      "logits is [[0.14885077 0.5360322  0.31511706]]\n",
      "logits is [[0.3436087  0.3715296  0.28486162]]\n"
     ]
    },
    {
     "name": "stderr",
     "output_type": "stream",
     "text": [
      " 78%|███████▊  | 2249/2874 [05:43<01:32,  6.76it/s]Setting `pad_token_id` to `eos_token_id`:128001 for open-end generation.\n"
     ]
    },
    {
     "name": "stdout",
     "output_type": "stream",
     "text": [
      "logits is [[0.22341065 0.5194453  0.25714406]]\n"
     ]
    },
    {
     "name": "stderr",
     "output_type": "stream",
     "text": [
      " 78%|███████▊  | 2250/2874 [05:43<01:52,  5.56it/s]Setting `pad_token_id` to `eos_token_id`:128001 for open-end generation.\n",
      " 78%|███████▊  | 2251/2874 [05:43<01:45,  5.92it/s]Setting `pad_token_id` to `eos_token_id`:128001 for open-end generation.\n"
     ]
    },
    {
     "name": "stdout",
     "output_type": "stream",
     "text": [
      "logits is [[0.5286648  0.13791047 0.33342475]]\n",
      "logits is [[0.5409769  0.21518573 0.24383739]]\n"
     ]
    },
    {
     "name": "stderr",
     "output_type": "stream",
     "text": [
      " 78%|███████▊  | 2252/2874 [05:43<01:46,  5.84it/s]Setting `pad_token_id` to `eos_token_id`:128001 for open-end generation.\n",
      " 78%|███████▊  | 2253/2874 [05:43<01:36,  6.46it/s]Setting `pad_token_id` to `eos_token_id`:128001 for open-end generation.\n"
     ]
    },
    {
     "name": "stdout",
     "output_type": "stream",
     "text": [
      "logits is [[0.38083866 0.38083866 0.23832275]]\n",
      "logits is [[0.26113817 0.42386907 0.31499276]]\n"
     ]
    },
    {
     "name": "stderr",
     "output_type": "stream",
     "text": [
      " 78%|███████▊  | 2254/2874 [05:44<01:54,  5.41it/s]Setting `pad_token_id` to `eos_token_id`:128001 for open-end generation.\n",
      " 78%|███████▊  | 2255/2874 [05:44<01:45,  5.89it/s]Setting `pad_token_id` to `eos_token_id`:128001 for open-end generation.\n"
     ]
    },
    {
     "name": "stdout",
     "output_type": "stream",
     "text": [
      "logits is [[0.5453684  0.21356931 0.24106227]]\n",
      "logits is [[0.26980153 0.45183253 0.27836594]]\n"
     ]
    },
    {
     "name": "stderr",
     "output_type": "stream",
     "text": [
      " 78%|███████▊  | 2256/2874 [05:44<01:49,  5.65it/s]Setting `pad_token_id` to `eos_token_id`:128001 for open-end generation.\n",
      " 79%|███████▊  | 2257/2874 [05:44<01:37,  6.31it/s]Setting `pad_token_id` to `eos_token_id`:128001 for open-end generation.\n"
     ]
    },
    {
     "name": "stdout",
     "output_type": "stream",
     "text": [
      "logits is [[0.22927888 0.55867285 0.21204829]]\n",
      "logits is [[0.8842631  0.05067231 0.06506453]]\n"
     ]
    },
    {
     "name": "stderr",
     "output_type": "stream",
     "text": [
      " 79%|███████▊  | 2258/2874 [05:44<01:28,  6.96it/s]Setting `pad_token_id` to `eos_token_id`:128001 for open-end generation.\n",
      " 79%|███████▊  | 2259/2874 [05:44<01:31,  6.71it/s]Setting `pad_token_id` to `eos_token_id`:128001 for open-end generation.\n"
     ]
    },
    {
     "name": "stdout",
     "output_type": "stream",
     "text": [
      "logits is [[0.347848   0.23907222 0.41307974]]\n",
      "logits is [[0.30969182 0.38541767 0.30489045]]\n"
     ]
    },
    {
     "name": "stderr",
     "output_type": "stream",
     "text": [
      " 79%|███████▊  | 2260/2874 [05:45<01:26,  7.13it/s]Setting `pad_token_id` to `eos_token_id`:128001 for open-end generation.\n",
      " 79%|███████▊  | 2261/2874 [05:45<01:26,  7.09it/s]Setting `pad_token_id` to `eos_token_id`:128001 for open-end generation.\n"
     ]
    },
    {
     "name": "stdout",
     "output_type": "stream",
     "text": [
      "logits is [[0.1107055  0.68883276 0.20046176]]\n",
      "logits is [[0.6673846  0.17409769 0.15851773]]\n"
     ]
    },
    {
     "name": "stderr",
     "output_type": "stream",
     "text": [
      " 79%|███████▊  | 2262/2874 [05:45<01:21,  7.50it/s]Setting `pad_token_id` to `eos_token_id`:128001 for open-end generation.\n",
      " 79%|███████▊  | 2263/2874 [05:45<01:17,  7.85it/s]Setting `pad_token_id` to `eos_token_id`:128001 for open-end generation.\n"
     ]
    },
    {
     "name": "stdout",
     "output_type": "stream",
     "text": [
      "logits is [[0.22189012 0.43443978 0.34367016]]\n",
      "logits is [[0.15302354 0.6442532  0.20272325]]\n"
     ]
    },
    {
     "name": "stderr",
     "output_type": "stream",
     "text": [
      " 79%|███████▉  | 2264/2874 [05:45<01:14,  8.24it/s]Setting `pad_token_id` to `eos_token_id`:128001 for open-end generation.\n"
     ]
    },
    {
     "name": "stdout",
     "output_type": "stream",
     "text": [
      "logits is [[0.34525687 0.34525687 0.30948624]]\n"
     ]
    },
    {
     "name": "stderr",
     "output_type": "stream",
     "text": [
      " 79%|███████▉  | 2265/2874 [05:45<01:38,  6.21it/s]Setting `pad_token_id` to `eos_token_id`:128001 for open-end generation.\n",
      " 79%|███████▉  | 2266/2874 [05:45<01:28,  6.91it/s]Setting `pad_token_id` to `eos_token_id`:128001 for open-end generation.\n"
     ]
    },
    {
     "name": "stdout",
     "output_type": "stream",
     "text": [
      "logits is [[0.51611185 0.19210503 0.29178318]]\n",
      "logits is [[0.34206277 0.3315386  0.32639858]]\n"
     ]
    },
    {
     "name": "stderr",
     "output_type": "stream",
     "text": [
      " 79%|███████▉  | 2267/2874 [05:45<01:22,  7.40it/s]Setting `pad_token_id` to `eos_token_id`:128001 for open-end generation.\n",
      " 79%|███████▉  | 2268/2874 [05:46<01:18,  7.76it/s]Setting `pad_token_id` to `eos_token_id`:128001 for open-end generation.\n"
     ]
    },
    {
     "name": "stdout",
     "output_type": "stream",
     "text": [
      "logits is [[0.5345561  0.26879168 0.1966522 ]]\n",
      "logits is [[0.48659575 0.14610255 0.36730173]]\n"
     ]
    },
    {
     "name": "stderr",
     "output_type": "stream",
     "text": [
      " 79%|███████▉  | 2269/2874 [05:46<01:17,  7.82it/s]Setting `pad_token_id` to `eos_token_id`:128001 for open-end generation.\n",
      " 79%|███████▉  | 2270/2874 [05:46<01:29,  6.76it/s]"
     ]
    },
    {
     "name": "stdout",
     "output_type": "stream",
     "text": [
      "logits is [[0.82388604 0.02607318 0.15004079]]\n",
      "logits is [[0.22959077 0.45659578 0.3138134 ]]\n"
     ]
    },
    {
     "name": "stderr",
     "output_type": "stream",
     "text": [
      "Setting `pad_token_id` to `eos_token_id`:128001 for open-end generation.\n",
      " 79%|███████▉  | 2271/2874 [05:46<01:23,  7.20it/s]Setting `pad_token_id` to `eos_token_id`:128001 for open-end generation.\n",
      " 79%|███████▉  | 2272/2874 [05:46<01:31,  6.60it/s]Setting `pad_token_id` to `eos_token_id`:128001 for open-end generation.\n"
     ]
    },
    {
     "name": "stdout",
     "output_type": "stream",
     "text": [
      "logits is [[0.28961524 0.40209094 0.30829382]]\n",
      "logits is [[0.17617145 0.50976896 0.31405956]]\n"
     ]
    },
    {
     "name": "stderr",
     "output_type": "stream",
     "text": [
      " 79%|███████▉  | 2273/2874 [05:46<01:30,  6.65it/s]Setting `pad_token_id` to `eos_token_id`:128001 for open-end generation.\n",
      " 79%|███████▉  | 2274/2874 [05:46<01:26,  6.95it/s]Setting `pad_token_id` to `eos_token_id`:128001 for open-end generation.\n"
     ]
    },
    {
     "name": "stdout",
     "output_type": "stream",
     "text": [
      "logits is [[0.25754914 0.5042568  0.23819403]]\n",
      "logits is [[0.12082057 0.74011576 0.13906363]]\n"
     ]
    },
    {
     "name": "stderr",
     "output_type": "stream",
     "text": [
      " 79%|███████▉  | 2275/2874 [05:47<01:19,  7.49it/s]Setting `pad_token_id` to `eos_token_id`:128001 for open-end generation.\n",
      " 79%|███████▉  | 2276/2874 [05:47<01:25,  6.98it/s]Setting `pad_token_id` to `eos_token_id`:128001 for open-end generation.\n"
     ]
    },
    {
     "name": "stdout",
     "output_type": "stream",
     "text": [
      "logits is [[0.26456407 0.20928742 0.5261485 ]]\n",
      "logits is [[0.35760295 0.39275    0.24964708]]\n"
     ]
    },
    {
     "name": "stderr",
     "output_type": "stream",
     "text": [
      " 79%|███████▉  | 2277/2874 [05:47<01:25,  6.96it/s]Setting `pad_token_id` to `eos_token_id`:128001 for open-end generation.\n",
      " 79%|███████▉  | 2278/2874 [05:47<01:20,  7.42it/s]Setting `pad_token_id` to `eos_token_id`:128001 for open-end generation.\n"
     ]
    },
    {
     "name": "stdout",
     "output_type": "stream",
     "text": [
      "logits is [[0.27581167 0.5316409  0.19254757]]\n",
      "logits is [[0.18384513 0.39532915 0.4208257 ]]\n"
     ]
    },
    {
     "name": "stderr",
     "output_type": "stream",
     "text": [
      " 79%|███████▉  | 2279/2874 [05:47<01:34,  6.30it/s]Setting `pad_token_id` to `eos_token_id`:128001 for open-end generation.\n",
      " 79%|███████▉  | 2280/2874 [05:47<01:41,  5.86it/s]"
     ]
    },
    {
     "name": "stdout",
     "output_type": "stream",
     "text": [
      "logits is [[0.6858838  0.1460331  0.16808306]]\n",
      "logits is [[0.35470173 0.3602875  0.28501084]]\n"
     ]
    },
    {
     "name": "stderr",
     "output_type": "stream",
     "text": [
      "Setting `pad_token_id` to `eos_token_id`:128001 for open-end generation.\n",
      " 79%|███████▉  | 2281/2874 [05:48<01:56,  5.10it/s]Setting `pad_token_id` to `eos_token_id`:128001 for open-end generation.\n"
     ]
    },
    {
     "name": "stdout",
     "output_type": "stream",
     "text": [
      "logits is [[0.12654102 0.56270415 0.31075475]]\n"
     ]
    },
    {
     "name": "stderr",
     "output_type": "stream",
     "text": [
      " 79%|███████▉  | 2282/2874 [05:48<02:07,  4.64it/s]Setting `pad_token_id` to `eos_token_id`:128001 for open-end generation.\n",
      " 79%|███████▉  | 2283/2874 [05:48<01:52,  5.27it/s]Setting `pad_token_id` to `eos_token_id`:128001 for open-end generation.\n"
     ]
    },
    {
     "name": "stdout",
     "output_type": "stream",
     "text": [
      "logits is [[0.69916505 0.29836702 0.00246799]]\n",
      "logits is [[0.7465431  0.12573838 0.12771846]]\n"
     ]
    },
    {
     "name": "stderr",
     "output_type": "stream",
     "text": [
      " 79%|███████▉  | 2284/2874 [05:48<01:46,  5.53it/s]Setting `pad_token_id` to `eos_token_id`:128001 for open-end generation.\n",
      " 80%|███████▉  | 2285/2874 [05:48<01:35,  6.19it/s]Setting `pad_token_id` to `eos_token_id`:128001 for open-end generation.\n"
     ]
    },
    {
     "name": "stdout",
     "output_type": "stream",
     "text": [
      "logits is [[0.39367026 0.3315036  0.27482614]]\n",
      "logits is [[0.32599643 0.35803702 0.31596658]]\n"
     ]
    },
    {
     "name": "stderr",
     "output_type": "stream",
     "text": [
      " 80%|███████▉  | 2286/2874 [05:48<01:31,  6.42it/s]Setting `pad_token_id` to `eos_token_id`:128001 for open-end generation.\n",
      " 80%|███████▉  | 2287/2874 [05:49<01:24,  6.95it/s]Setting `pad_token_id` to `eos_token_id`:128001 for open-end generation.\n"
     ]
    },
    {
     "name": "stdout",
     "output_type": "stream",
     "text": [
      "logits is [[0.13297836 0.37294707 0.49407458]]\n",
      "logits is [[0.15087901 0.65538853 0.19373247]]\n"
     ]
    },
    {
     "name": "stderr",
     "output_type": "stream",
     "text": [
      " 80%|███████▉  | 2288/2874 [05:49<01:18,  7.45it/s]Setting `pad_token_id` to `eos_token_id`:128001 for open-end generation.\n",
      " 80%|███████▉  | 2289/2874 [05:49<01:13,  7.91it/s]Setting `pad_token_id` to `eos_token_id`:128001 for open-end generation.\n"
     ]
    },
    {
     "name": "stdout",
     "output_type": "stream",
     "text": [
      "logits is [[0.6393066  0.18316442 0.17752902]]\n",
      "logits is [[0.1549264  0.65226454 0.19280903]]\n"
     ]
    },
    {
     "name": "stderr",
     "output_type": "stream",
     "text": [
      " 80%|███████▉  | 2290/2874 [05:49<01:12,  8.07it/s]Setting `pad_token_id` to `eos_token_id`:128001 for open-end generation.\n",
      " 80%|███████▉  | 2291/2874 [05:49<01:11,  8.11it/s]Setting `pad_token_id` to `eos_token_id`:128001 for open-end generation.\n"
     ]
    },
    {
     "name": "stdout",
     "output_type": "stream",
     "text": [
      "logits is [[0.7863404  0.01792399 0.1957356 ]]\n",
      "logits is [[0.29188782 0.4116278  0.2964844 ]]\n"
     ]
    },
    {
     "name": "stderr",
     "output_type": "stream",
     "text": [
      " 80%|███████▉  | 2292/2874 [05:49<01:19,  7.33it/s]Setting `pad_token_id` to `eos_token_id`:128001 for open-end generation.\n"
     ]
    },
    {
     "name": "stdout",
     "output_type": "stream",
     "text": [
      "logits is [[0.44660935 0.21096331 0.34242728]]\n"
     ]
    },
    {
     "name": "stderr",
     "output_type": "stream",
     "text": [
      " 80%|███████▉  | 2293/2874 [05:49<01:37,  5.98it/s]Setting `pad_token_id` to `eos_token_id`:128001 for open-end generation.\n",
      " 80%|███████▉  | 2294/2874 [05:50<01:39,  5.81it/s]Setting `pad_token_id` to `eos_token_id`:128001 for open-end generation.\n"
     ]
    },
    {
     "name": "stdout",
     "output_type": "stream",
     "text": [
      "logits is [[0.22408374 0.581229   0.19468732]]\n",
      "logits is [[0.9080346  0.01742938 0.07453602]]\n"
     ]
    },
    {
     "name": "stderr",
     "output_type": "stream",
     "text": [
      " 80%|███████▉  | 2295/2874 [05:50<01:38,  5.89it/s]Setting `pad_token_id` to `eos_token_id`:128001 for open-end generation.\n",
      " 80%|███████▉  | 2296/2874 [05:50<01:28,  6.52it/s]Setting `pad_token_id` to `eos_token_id`:128001 for open-end generation.\n"
     ]
    },
    {
     "name": "stdout",
     "output_type": "stream",
     "text": [
      "logits is [[0.35757175 0.23086567 0.41156256]]\n",
      "logits is [[0.18113707 0.6943693  0.12449355]]\n"
     ]
    },
    {
     "name": "stderr",
     "output_type": "stream",
     "text": [
      " 80%|███████▉  | 2297/2874 [05:50<01:46,  5.44it/s]Setting `pad_token_id` to `eos_token_id`:128001 for open-end generation.\n",
      " 80%|███████▉  | 2298/2874 [05:50<01:41,  5.67it/s]Setting `pad_token_id` to `eos_token_id`:128001 for open-end generation.\n"
     ]
    },
    {
     "name": "stdout",
     "output_type": "stream",
     "text": [
      "logits is [[0.37244067 0.32358205 0.30397722]]\n",
      "logits is [[0.84820807 0.05955356 0.09223835]]\n"
     ]
    },
    {
     "name": "stderr",
     "output_type": "stream",
     "text": [
      " 80%|███████▉  | 2299/2874 [05:50<01:31,  6.32it/s]Setting `pad_token_id` to `eos_token_id`:128001 for open-end generation.\n"
     ]
    },
    {
     "name": "stdout",
     "output_type": "stream",
     "text": [
      "logits is [[0.5617016  0.0976091  0.34068924]]\n"
     ]
    },
    {
     "name": "stderr",
     "output_type": "stream",
     "text": [
      " 80%|████████  | 2300/2874 [05:51<01:47,  5.34it/s]Setting `pad_token_id` to `eos_token_id`:128001 for open-end generation.\n",
      " 80%|████████  | 2301/2874 [05:51<01:43,  5.54it/s]Setting `pad_token_id` to `eos_token_id`:128001 for open-end generation.\n"
     ]
    },
    {
     "name": "stdout",
     "output_type": "stream",
     "text": [
      "logits is [[0.14242265 0.65984315 0.19773425]]\n",
      "logits is [[0.19086726 0.5522927  0.25683996]]\n"
     ]
    },
    {
     "name": "stderr",
     "output_type": "stream",
     "text": [
      " 80%|████████  | 2302/2874 [05:51<01:45,  5.41it/s]Setting `pad_token_id` to `eos_token_id`:128001 for open-end generation.\n",
      " 80%|████████  | 2303/2874 [05:51<01:38,  5.79it/s]Setting `pad_token_id` to `eos_token_id`:128001 for open-end generation.\n"
     ]
    },
    {
     "name": "stdout",
     "output_type": "stream",
     "text": [
      "logits is [[0.2731329  0.397406   0.32946113]]\n",
      "logits is [[0.33702153 0.27506897 0.3879094 ]]\n"
     ]
    },
    {
     "name": "stderr",
     "output_type": "stream",
     "text": [
      " 80%|████████  | 2304/2874 [05:51<01:37,  5.84it/s]Setting `pad_token_id` to `eos_token_id`:128001 for open-end generation.\n",
      " 80%|████████  | 2305/2874 [05:52<01:38,  5.75it/s]Setting `pad_token_id` to `eos_token_id`:128001 for open-end generation.\n"
     ]
    },
    {
     "name": "stdout",
     "output_type": "stream",
     "text": [
      "logits is [[0.06058956 0.67207676 0.26733366]]\n",
      "logits is [[0.40594137 0.30167    0.29238862]]\n"
     ]
    },
    {
     "name": "stderr",
     "output_type": "stream",
     "text": [
      " 80%|████████  | 2306/2874 [05:52<01:48,  5.23it/s]Setting `pad_token_id` to `eos_token_id`:128001 for open-end generation.\n",
      " 80%|████████  | 2307/2874 [05:52<01:40,  5.62it/s]Setting `pad_token_id` to `eos_token_id`:128001 for open-end generation.\n"
     ]
    },
    {
     "name": "stdout",
     "output_type": "stream",
     "text": [
      "logits is [[0.4799346  0.21973006 0.3003354 ]]\n",
      "logits is [[0.46144736 0.22140485 0.31714782]]\n"
     ]
    },
    {
     "name": "stderr",
     "output_type": "stream",
     "text": [
      " 80%|████████  | 2308/2874 [05:52<01:30,  6.25it/s]Setting `pad_token_id` to `eos_token_id`:128001 for open-end generation.\n"
     ]
    },
    {
     "name": "stdout",
     "output_type": "stream",
     "text": [
      "logits is [[0.21998602 0.22696912 0.5530448 ]]\n"
     ]
    },
    {
     "name": "stderr",
     "output_type": "stream",
     "text": [
      " 80%|████████  | 2309/2874 [05:52<01:42,  5.50it/s]Setting `pad_token_id` to `eos_token_id`:128001 for open-end generation.\n",
      " 80%|████████  | 2310/2874 [05:52<01:40,  5.62it/s]Setting `pad_token_id` to `eos_token_id`:128001 for open-end generation.\n"
     ]
    },
    {
     "name": "stdout",
     "output_type": "stream",
     "text": [
      "logits is [[0.44249287 0.19635503 0.36115217]]\n",
      "logits is [[0.71656066 0.15496711 0.12847224]]\n"
     ]
    },
    {
     "name": "stderr",
     "output_type": "stream",
     "text": [
      " 80%|████████  | 2311/2874 [05:53<01:42,  5.47it/s]Setting `pad_token_id` to `eos_token_id`:128001 for open-end generation.\n",
      " 80%|████████  | 2312/2874 [05:53<01:35,  5.86it/s]Setting `pad_token_id` to `eos_token_id`:128001 for open-end generation.\n"
     ]
    },
    {
     "name": "stdout",
     "output_type": "stream",
     "text": [
      "logits is [[0.36065203 0.34955594 0.28979206]]\n",
      "logits is [[0.1576108  0.6431505  0.19923873]]\n"
     ]
    },
    {
     "name": "stderr",
     "output_type": "stream",
     "text": [
      " 80%|████████  | 2313/2874 [05:53<01:33,  5.99it/s]Setting `pad_token_id` to `eos_token_id`:128001 for open-end generation.\n",
      " 81%|████████  | 2314/2874 [05:53<01:23,  6.69it/s]Setting `pad_token_id` to `eos_token_id`:128001 for open-end generation.\n"
     ]
    },
    {
     "name": "stdout",
     "output_type": "stream",
     "text": [
      "logits is [[0.03368144 0.82887733 0.13744132]]\n",
      "logits is [[0.6138259  0.14579643 0.24037768]]\n"
     ]
    },
    {
     "name": "stderr",
     "output_type": "stream",
     "text": [
      " 81%|████████  | 2315/2874 [05:53<01:30,  6.15it/s]Setting `pad_token_id` to `eos_token_id`:128001 for open-end generation.\n",
      " 81%|████████  | 2316/2874 [05:53<01:28,  6.32it/s]Setting `pad_token_id` to `eos_token_id`:128001 for open-end generation.\n"
     ]
    },
    {
     "name": "stdout",
     "output_type": "stream",
     "text": [
      "logits is [[0.36332294 0.14007346 0.49660358]]\n",
      "logits is [[0.6820953  0.11310248 0.20480216]]\n"
     ]
    },
    {
     "name": "stderr",
     "output_type": "stream",
     "text": [
      " 81%|████████  | 2317/2874 [05:54<01:32,  6.05it/s]Setting `pad_token_id` to `eos_token_id`:128001 for open-end generation.\n",
      " 81%|████████  | 2318/2874 [05:54<01:23,  6.65it/s]Setting `pad_token_id` to `eos_token_id`:128001 for open-end generation.\n"
     ]
    },
    {
     "name": "stdout",
     "output_type": "stream",
     "text": [
      "logits is [[0.20600447 0.61501575 0.17897978]]\n",
      "logits is [[0.26054826 0.5022199  0.23723188]]\n"
     ]
    },
    {
     "name": "stderr",
     "output_type": "stream",
     "text": [
      " 81%|████████  | 2319/2874 [05:54<01:17,  7.15it/s]Setting `pad_token_id` to `eos_token_id`:128001 for open-end generation.\n",
      " 81%|████████  | 2320/2874 [05:54<01:12,  7.61it/s]Setting `pad_token_id` to `eos_token_id`:128001 for open-end generation.\n"
     ]
    },
    {
     "name": "stdout",
     "output_type": "stream",
     "text": [
      "logits is [[0.37571082 0.39994207 0.22434716]]\n",
      "logits is [[0.18616435 0.26666814 0.5471675 ]]\n"
     ]
    },
    {
     "name": "stderr",
     "output_type": "stream",
     "text": [
      " 81%|████████  | 2321/2874 [05:54<01:10,  7.88it/s]Setting `pad_token_id` to `eos_token_id`:128001 for open-end generation.\n",
      " 81%|████████  | 2322/2874 [05:54<01:16,  7.20it/s]Setting `pad_token_id` to `eos_token_id`:128001 for open-end generation.\n"
     ]
    },
    {
     "name": "stdout",
     "output_type": "stream",
     "text": [
      "logits is [[0.32616636 0.43890482 0.23492883]]\n",
      "logits is [[0.42266828 0.27289516 0.30443656]]\n"
     ]
    },
    {
     "name": "stderr",
     "output_type": "stream",
     "text": [
      " 81%|████████  | 2323/2874 [05:54<01:13,  7.51it/s]Setting `pad_token_id` to `eos_token_id`:128001 for open-end generation.\n",
      " 81%|████████  | 2324/2874 [05:54<01:09,  7.97it/s]Setting `pad_token_id` to `eos_token_id`:128001 for open-end generation.\n"
     ]
    },
    {
     "name": "stdout",
     "output_type": "stream",
     "text": [
      "logits is [[0.28269395 0.5199538  0.1973522 ]]\n",
      "logits is [[0.37066635 0.30729318 0.3220405 ]]\n"
     ]
    },
    {
     "name": "stderr",
     "output_type": "stream",
     "text": [
      " 81%|████████  | 2325/2874 [05:55<01:20,  6.79it/s]Setting `pad_token_id` to `eos_token_id`:128001 for open-end generation.\n",
      " 81%|████████  | 2326/2874 [05:55<01:14,  7.32it/s]Setting `pad_token_id` to `eos_token_id`:128001 for open-end generation.\n"
     ]
    },
    {
     "name": "stdout",
     "output_type": "stream",
     "text": [
      "logits is [[0.35402155 0.39493957 0.25103885]]\n",
      "logits is [[0.36082888 0.4025337  0.23663735]]\n"
     ]
    },
    {
     "name": "stderr",
     "output_type": "stream",
     "text": [
      " 81%|████████  | 2327/2874 [05:55<01:22,  6.63it/s]Setting `pad_token_id` to `eos_token_id`:128001 for open-end generation.\n",
      " 81%|████████  | 2328/2874 [05:55<01:18,  6.98it/s]Setting `pad_token_id` to `eos_token_id`:128001 for open-end generation.\n"
     ]
    },
    {
     "name": "stdout",
     "output_type": "stream",
     "text": [
      "logits is [[0.23871054 0.48220855 0.2790809 ]]\n",
      "logits is [[0.4611834  0.28412685 0.25468966]]\n"
     ]
    },
    {
     "name": "stderr",
     "output_type": "stream",
     "text": [
      " 81%|████████  | 2329/2874 [05:55<01:14,  7.30it/s]Setting `pad_token_id` to `eos_token_id`:128001 for open-end generation.\n"
     ]
    },
    {
     "name": "stdout",
     "output_type": "stream",
     "text": [
      "logits is [[0.85556304 0.04064536 0.10379157]]\n"
     ]
    },
    {
     "name": "stderr",
     "output_type": "stream",
     "text": [
      " 81%|████████  | 2330/2874 [05:55<01:34,  5.77it/s]Setting `pad_token_id` to `eos_token_id`:128001 for open-end generation.\n",
      " 81%|████████  | 2331/2874 [05:56<01:27,  6.18it/s]Setting `pad_token_id` to `eos_token_id`:128001 for open-end generation.\n"
     ]
    },
    {
     "name": "stdout",
     "output_type": "stream",
     "text": [
      "logits is [[0.71854234 0.23880854 0.04264909]]\n",
      "logits is [[0.62090033 0.21457742 0.1645222 ]]\n"
     ]
    },
    {
     "name": "stderr",
     "output_type": "stream",
     "text": [
      " 81%|████████  | 2332/2874 [05:56<01:27,  6.19it/s]Setting `pad_token_id` to `eos_token_id`:128001 for open-end generation.\n",
      " 81%|████████  | 2333/2874 [05:56<01:24,  6.40it/s]Setting `pad_token_id` to `eos_token_id`:128001 for open-end generation.\n"
     ]
    },
    {
     "name": "stdout",
     "output_type": "stream",
     "text": [
      "logits is [[0.31649664 0.41278943 0.27071393]]\n",
      "logits is [[0.4134102  0.30245736 0.2841324 ]]\n"
     ]
    },
    {
     "name": "stderr",
     "output_type": "stream",
     "text": [
      " 81%|████████  | 2334/2874 [05:56<01:20,  6.73it/s]Setting `pad_token_id` to `eos_token_id`:128001 for open-end generation.\n",
      " 81%|████████  | 2335/2874 [05:56<01:28,  6.10it/s]"
     ]
    },
    {
     "name": "stdout",
     "output_type": "stream",
     "text": [
      "logits is [[0.05893361 0.8525966  0.08846982]]\n",
      "logits is [[0.25449115 0.48293933 0.26256955]]\n"
     ]
    },
    {
     "name": "stderr",
     "output_type": "stream",
     "text": [
      "Setting `pad_token_id` to `eos_token_id`:128001 for open-end generation.\n",
      " 81%|████████▏ | 2336/2874 [05:56<01:39,  5.39it/s]Setting `pad_token_id` to `eos_token_id`:128001 for open-end generation.\n",
      " 81%|████████▏ | 2337/2874 [05:57<01:27,  6.16it/s]Setting `pad_token_id` to `eos_token_id`:128001 for open-end generation.\n"
     ]
    },
    {
     "name": "stdout",
     "output_type": "stream",
     "text": [
      "logits is [[0.24874006 0.19071561 0.5605444 ]]\n",
      "logits is [[0.3522297  0.27863666 0.3691336 ]]\n"
     ]
    },
    {
     "name": "stderr",
     "output_type": "stream",
     "text": [
      " 81%|████████▏ | 2338/2874 [05:57<01:26,  6.17it/s]Setting `pad_token_id` to `eos_token_id`:128001 for open-end generation.\n",
      " 81%|████████▏ | 2339/2874 [05:57<01:20,  6.64it/s]Setting `pad_token_id` to `eos_token_id`:128001 for open-end generation.\n"
     ]
    },
    {
     "name": "stdout",
     "output_type": "stream",
     "text": [
      "logits is [[0.4206762  0.23597796 0.3433459 ]]\n",
      "logits is [[0.32919666 0.3615518  0.30925164]]\n"
     ]
    },
    {
     "name": "stderr",
     "output_type": "stream",
     "text": [
      " 81%|████████▏ | 2340/2874 [05:57<01:22,  6.48it/s]Setting `pad_token_id` to `eos_token_id`:128001 for open-end generation.\n",
      " 81%|████████▏ | 2341/2874 [05:57<01:20,  6.58it/s]Setting `pad_token_id` to `eos_token_id`:128001 for open-end generation.\n"
     ]
    },
    {
     "name": "stdout",
     "output_type": "stream",
     "text": [
      "logits is [[0.46299693 0.328314   0.20868908]]\n",
      "logits is [[0.08325586 0.75373703 0.16300707]]\n"
     ]
    },
    {
     "name": "stderr",
     "output_type": "stream",
     "text": [
      " 81%|████████▏ | 2342/2874 [05:57<01:17,  6.87it/s]Setting `pad_token_id` to `eos_token_id`:128001 for open-end generation.\n",
      " 82%|████████▏ | 2343/2874 [05:57<01:19,  6.66it/s]Setting `pad_token_id` to `eos_token_id`:128001 for open-end generation.\n"
     ]
    },
    {
     "name": "stdout",
     "output_type": "stream",
     "text": [
      "logits is [[0.25276974 0.36777782 0.37945235]]\n",
      "logits is [[0.5747538  0.12237215 0.302874  ]]\n"
     ]
    },
    {
     "name": "stderr",
     "output_type": "stream",
     "text": [
      " 82%|████████▏ | 2344/2874 [05:58<01:15,  6.99it/s]Setting `pad_token_id` to `eos_token_id`:128001 for open-end generation.\n",
      " 82%|████████▏ | 2345/2874 [05:58<01:18,  6.70it/s]Setting `pad_token_id` to `eos_token_id`:128001 for open-end generation.\n"
     ]
    },
    {
     "name": "stdout",
     "output_type": "stream",
     "text": [
      "logits is [[0.18759938 0.6248013  0.18759938]]\n",
      "logits is [[0.6246868  0.19351894 0.18179421]]\n"
     ]
    },
    {
     "name": "stderr",
     "output_type": "stream",
     "text": [
      " 82%|████████▏ | 2346/2874 [05:58<01:14,  7.10it/s]Setting `pad_token_id` to `eos_token_id`:128001 for open-end generation.\n",
      " 82%|████████▏ | 2347/2874 [05:58<01:09,  7.61it/s]Setting `pad_token_id` to `eos_token_id`:128001 for open-end generation.\n"
     ]
    },
    {
     "name": "stdout",
     "output_type": "stream",
     "text": [
      "logits is [[0.52150965 0.2925404  0.18594998]]\n",
      "logits is [[0.32805014 0.395704   0.2762459 ]]\n"
     ]
    },
    {
     "name": "stderr",
     "output_type": "stream",
     "text": [
      " 82%|████████▏ | 2348/2874 [05:58<01:05,  7.97it/s]Setting `pad_token_id` to `eos_token_id`:128001 for open-end generation.\n",
      " 82%|████████▏ | 2349/2874 [05:58<01:06,  7.89it/s]Setting `pad_token_id` to `eos_token_id`:128001 for open-end generation.\n"
     ]
    },
    {
     "name": "stdout",
     "output_type": "stream",
     "text": [
      "logits is [[0.623772   0.17052978 0.20569818]]\n",
      "logits is [[0.88950276 0.02904329 0.08145393]]\n"
     ]
    },
    {
     "name": "stderr",
     "output_type": "stream",
     "text": [
      " 82%|████████▏ | 2350/2874 [05:58<01:08,  7.62it/s]Setting `pad_token_id` to `eos_token_id`:128001 for open-end generation.\n",
      " 82%|████████▏ | 2351/2874 [05:58<01:07,  7.70it/s]Setting `pad_token_id` to `eos_token_id`:128001 for open-end generation.\n"
     ]
    },
    {
     "name": "stdout",
     "output_type": "stream",
     "text": [
      "logits is [[0.19647753 0.51764935 0.28587314]]\n",
      "logits is [[0.22059397 0.57217723 0.20722885]]\n"
     ]
    },
    {
     "name": "stderr",
     "output_type": "stream",
     "text": [
      " 82%|████████▏ | 2352/2874 [05:59<01:05,  7.97it/s]Setting `pad_token_id` to `eos_token_id`:128001 for open-end generation.\n",
      " 82%|████████▏ | 2353/2874 [05:59<01:16,  6.83it/s]"
     ]
    },
    {
     "name": "stdout",
     "output_type": "stream",
     "text": [
      "logits is [[0.7660208  0.10696047 0.12701869]]\n",
      "logits is [[0.5951503  0.15284725 0.25200248]]\n"
     ]
    },
    {
     "name": "stderr",
     "output_type": "stream",
     "text": [
      "Setting `pad_token_id` to `eos_token_id`:128001 for open-end generation.\n",
      " 82%|████████▏ | 2354/2874 [05:59<01:24,  6.15it/s]Setting `pad_token_id` to `eos_token_id`:128001 for open-end generation.\n",
      " 82%|████████▏ | 2355/2874 [05:59<01:23,  6.22it/s]Setting `pad_token_id` to `eos_token_id`:128001 for open-end generation.\n"
     ]
    },
    {
     "name": "stdout",
     "output_type": "stream",
     "text": [
      "logits is [[0.24177764 0.54485434 0.21336801]]\n",
      "logits is [[0.04949714 0.6519969  0.29850593]]\n"
     ]
    },
    {
     "name": "stderr",
     "output_type": "stream",
     "text": [
      " 82%|████████▏ | 2356/2874 [05:59<01:15,  6.83it/s]Setting `pad_token_id` to `eos_token_id`:128001 for open-end generation.\n",
      " 82%|████████▏ | 2357/2874 [05:59<01:13,  7.05it/s]Setting `pad_token_id` to `eos_token_id`:128001 for open-end generation.\n"
     ]
    },
    {
     "name": "stdout",
     "output_type": "stream",
     "text": [
      "logits is [[0.43881607 0.14246272 0.4187212 ]]\n",
      "logits is [[0.7788092  0.07021178 0.15097906]]\n"
     ]
    },
    {
     "name": "stderr",
     "output_type": "stream",
     "text": [
      " 82%|████████▏ | 2358/2874 [06:00<01:14,  6.96it/s]Setting `pad_token_id` to `eos_token_id`:128001 for open-end generation.\n",
      " 82%|████████▏ | 2359/2874 [06:00<01:10,  7.32it/s]Setting `pad_token_id` to `eos_token_id`:128001 for open-end generation.\n"
     ]
    },
    {
     "name": "stdout",
     "output_type": "stream",
     "text": [
      "logits is [[0.4971187  0.16651392 0.33636734]]\n",
      "logits is [[0.3554048  0.3964827  0.24811254]]\n"
     ]
    },
    {
     "name": "stderr",
     "output_type": "stream",
     "text": [
      " 82%|████████▏ | 2360/2874 [06:00<01:14,  6.90it/s]Setting `pad_token_id` to `eos_token_id`:128001 for open-end generation.\n",
      " 82%|████████▏ | 2361/2874 [06:00<01:11,  7.18it/s]Setting `pad_token_id` to `eos_token_id`:128001 for open-end generation.\n"
     ]
    },
    {
     "name": "stdout",
     "output_type": "stream",
     "text": [
      "logits is [[0.3691336  0.3522297  0.27863666]]\n",
      "logits is [[0.19374308 0.5967707  0.20948623]]\n"
     ]
    },
    {
     "name": "stderr",
     "output_type": "stream",
     "text": [
      " 82%|████████▏ | 2362/2874 [06:00<01:07,  7.63it/s]Setting `pad_token_id` to `eos_token_id`:128001 for open-end generation.\n",
      " 82%|████████▏ | 2363/2874 [06:00<01:08,  7.44it/s]Setting `pad_token_id` to `eos_token_id`:128001 for open-end generation.\n"
     ]
    },
    {
     "name": "stdout",
     "output_type": "stream",
     "text": [
      "logits is [[0.34247342 0.22459956 0.43292698]]\n",
      "logits is [[0.3392223  0.39659107 0.2641866 ]]\n"
     ]
    },
    {
     "name": "stderr",
     "output_type": "stream",
     "text": [
      " 82%|████████▏ | 2364/2874 [06:00<01:26,  5.86it/s]Setting `pad_token_id` to `eos_token_id`:128001 for open-end generation.\n",
      " 82%|████████▏ | 2365/2874 [06:01<01:25,  5.96it/s]Setting `pad_token_id` to `eos_token_id`:128001 for open-end generation.\n"
     ]
    },
    {
     "name": "stdout",
     "output_type": "stream",
     "text": [
      "logits is [[0.4052255  0.09438785 0.50038666]]\n",
      "logits is [[0.12847224 0.71656066 0.15496711]]\n"
     ]
    },
    {
     "name": "stderr",
     "output_type": "stream",
     "text": [
      " 82%|████████▏ | 2366/2874 [06:01<01:38,  5.14it/s]Setting `pad_token_id` to `eos_token_id`:128001 for open-end generation.\n",
      " 82%|████████▏ | 2367/2874 [06:01<01:27,  5.80it/s]Setting `pad_token_id` to `eos_token_id`:128001 for open-end generation.\n"
     ]
    },
    {
     "name": "stdout",
     "output_type": "stream",
     "text": [
      "logits is [[0.8133709  0.1540265  0.03260254]]\n",
      "logits is [[0.05741082 0.51169705 0.4308921 ]]\n"
     ]
    },
    {
     "name": "stderr",
     "output_type": "stream",
     "text": [
      " 82%|████████▏ | 2368/2874 [06:01<01:25,  5.89it/s]Setting `pad_token_id` to `eos_token_id`:128001 for open-end generation.\n",
      " 82%|████████▏ | 2369/2874 [06:01<01:20,  6.30it/s]Setting `pad_token_id` to `eos_token_id`:128001 for open-end generation.\n"
     ]
    },
    {
     "name": "stdout",
     "output_type": "stream",
     "text": [
      "logits is [[0.24103685 0.510275   0.24868818]]\n",
      "logits is [[0.12941654 0.4961043  0.37447917]]\n"
     ]
    },
    {
     "name": "stderr",
     "output_type": "stream",
     "text": [
      " 82%|████████▏ | 2370/2874 [06:02<01:35,  5.29it/s]Setting `pad_token_id` to `eos_token_id`:128001 for open-end generation.\n",
      " 82%|████████▏ | 2371/2874 [06:02<01:26,  5.84it/s]Setting `pad_token_id` to `eos_token_id`:128001 for open-end generation.\n"
     ]
    },
    {
     "name": "stdout",
     "output_type": "stream",
     "text": [
      "logits is [[0.29590535 0.4172934  0.28680128]]\n",
      "logits is [[0.44804943 0.12441883 0.42753175]]\n"
     ]
    },
    {
     "name": "stderr",
     "output_type": "stream",
     "text": [
      " 83%|████████▎ | 2372/2874 [06:02<01:16,  6.57it/s]Setting `pad_token_id` to `eos_token_id`:128001 for open-end generation.\n",
      " 83%|████████▎ | 2373/2874 [06:02<01:12,  6.91it/s]Setting `pad_token_id` to `eos_token_id`:128001 for open-end generation.\n"
     ]
    },
    {
     "name": "stdout",
     "output_type": "stream",
     "text": [
      "logits is [[0.5791851  0.22681215 0.19400272]]\n",
      "logits is [[0.12508225 0.53490895 0.3400088 ]]\n"
     ]
    },
    {
     "name": "stderr",
     "output_type": "stream",
     "text": [
      " 83%|████████▎ | 2374/2874 [06:02<01:23,  6.02it/s]Setting `pad_token_id` to `eos_token_id`:128001 for open-end generation.\n"
     ]
    },
    {
     "name": "stdout",
     "output_type": "stream",
     "text": [
      "logits is [[0.78335905 0.07173409 0.14490686]]\n"
     ]
    },
    {
     "name": "stderr",
     "output_type": "stream",
     "text": [
      " 83%|████████▎ | 2375/2874 [06:02<01:32,  5.39it/s]Setting `pad_token_id` to `eos_token_id`:128001 for open-end generation.\n"
     ]
    },
    {
     "name": "stdout",
     "output_type": "stream",
     "text": [
      "logits is [[0.80122197 0.07000999 0.12876809]]\n"
     ]
    },
    {
     "name": "stderr",
     "output_type": "stream",
     "text": [
      " 83%|████████▎ | 2376/2874 [06:03<01:36,  5.15it/s]Setting `pad_token_id` to `eos_token_id`:128001 for open-end generation.\n",
      " 83%|████████▎ | 2377/2874 [06:03<01:24,  5.90it/s]Setting `pad_token_id` to `eos_token_id`:128001 for open-end generation.\n"
     ]
    },
    {
     "name": "stdout",
     "output_type": "stream",
     "text": [
      "logits is [[0.65346885 0.05198966 0.2945415 ]]\n",
      "logits is [[0.1784848  0.08171629 0.7397989 ]]\n"
     ]
    },
    {
     "name": "stderr",
     "output_type": "stream",
     "text": [
      " 83%|████████▎ | 2378/2874 [06:03<01:18,  6.32it/s]Setting `pad_token_id` to `eos_token_id`:128001 for open-end generation.\n",
      " 83%|████████▎ | 2379/2874 [06:03<01:10,  6.98it/s]Setting `pad_token_id` to `eos_token_id`:128001 for open-end generation.\n"
     ]
    },
    {
     "name": "stdout",
     "output_type": "stream",
     "text": [
      "logits is [[0.39460152 0.29324296 0.3121555 ]]\n",
      "logits is [[0.35855603 0.23514679 0.4062972 ]]\n"
     ]
    },
    {
     "name": "stderr",
     "output_type": "stream",
     "text": [
      " 83%|████████▎ | 2380/2874 [06:03<01:18,  6.26it/s]Setting `pad_token_id` to `eos_token_id`:128001 for open-end generation.\n",
      " 83%|████████▎ | 2381/2874 [06:03<01:16,  6.47it/s]Setting `pad_token_id` to `eos_token_id`:128001 for open-end generation.\n"
     ]
    },
    {
     "name": "stdout",
     "output_type": "stream",
     "text": [
      "logits is [[0.62238777 0.20205972 0.17555253]]\n",
      "logits is [[0.897438   0.0177728  0.08478928]]\n"
     ]
    },
    {
     "name": "stderr",
     "output_type": "stream",
     "text": [
      " 83%|████████▎ | 2382/2874 [06:03<01:09,  7.09it/s]Setting `pad_token_id` to `eos_token_id`:128001 for open-end generation.\n",
      " 83%|████████▎ | 2383/2874 [06:04<01:11,  6.84it/s]Setting `pad_token_id` to `eos_token_id`:128001 for open-end generation.\n"
     ]
    },
    {
     "name": "stdout",
     "output_type": "stream",
     "text": [
      "logits is [[0.02123851 0.91730577 0.06145565]]\n",
      "logits is [[0.26340982 0.5077357  0.22885443]]\n"
     ]
    },
    {
     "name": "stderr",
     "output_type": "stream",
     "text": [
      " 83%|████████▎ | 2384/2874 [06:04<01:14,  6.59it/s]Setting `pad_token_id` to `eos_token_id`:128001 for open-end generation.\n",
      " 83%|████████▎ | 2385/2874 [06:04<01:20,  6.09it/s]"
     ]
    },
    {
     "name": "stdout",
     "output_type": "stream",
     "text": [
      "logits is [[0.5641758  0.17752577 0.2582985 ]]\n",
      "logits is [[0.28244072 0.43067068 0.2868885 ]]\n"
     ]
    },
    {
     "name": "stderr",
     "output_type": "stream",
     "text": [
      "Setting `pad_token_id` to `eos_token_id`:128001 for open-end generation.\n",
      " 83%|████████▎ | 2386/2874 [06:04<01:24,  5.77it/s]Setting `pad_token_id` to `eos_token_id`:128001 for open-end generation.\n",
      " 83%|████████▎ | 2387/2874 [06:04<01:22,  5.91it/s]Setting `pad_token_id` to `eos_token_id`:128001 for open-end generation.\n"
     ]
    },
    {
     "name": "stdout",
     "output_type": "stream",
     "text": [
      "logits is [[0.3994463  0.32601857 0.27453518]]\n",
      "logits is [[0.39834028 0.291432   0.31022772]]\n"
     ]
    },
    {
     "name": "stderr",
     "output_type": "stream",
     "text": [
      " 83%|████████▎ | 2388/2874 [06:04<01:23,  5.82it/s]Setting `pad_token_id` to `eos_token_id`:128001 for open-end generation.\n",
      " 83%|████████▎ | 2389/2874 [06:05<01:15,  6.45it/s]Setting `pad_token_id` to `eos_token_id`:128001 for open-end generation.\n"
     ]
    },
    {
     "name": "stdout",
     "output_type": "stream",
     "text": [
      "logits is [[0.6626664  0.11880953 0.21852417]]\n",
      "logits is [[0.40567243 0.1886552  0.40567243]]\n"
     ]
    },
    {
     "name": "stderr",
     "output_type": "stream",
     "text": [
      " 83%|████████▎ | 2390/2874 [06:05<01:10,  6.90it/s]Setting `pad_token_id` to `eos_token_id`:128001 for open-end generation.\n"
     ]
    },
    {
     "name": "stdout",
     "output_type": "stream",
     "text": [
      "logits is [[0.7795922  0.06202397 0.15838377]]\n"
     ]
    },
    {
     "name": "stderr",
     "output_type": "stream",
     "text": [
      " 83%|████████▎ | 2391/2874 [06:05<01:25,  5.63it/s]Setting `pad_token_id` to `eos_token_id`:128001 for open-end generation.\n",
      " 83%|████████▎ | 2392/2874 [06:05<01:15,  6.37it/s]Setting `pad_token_id` to `eos_token_id`:128001 for open-end generation.\n"
     ]
    },
    {
     "name": "stdout",
     "output_type": "stream",
     "text": [
      "logits is [[0.4439599  0.18798444 0.36805567]]\n",
      "logits is [[0.2460323  0.45252267 0.30144507]]\n"
     ]
    },
    {
     "name": "stderr",
     "output_type": "stream",
     "text": [
      " 83%|████████▎ | 2393/2874 [06:05<01:09,  6.94it/s]Setting `pad_token_id` to `eos_token_id`:128001 for open-end generation.\n",
      " 83%|████████▎ | 2394/2874 [06:05<01:10,  6.78it/s]Setting `pad_token_id` to `eos_token_id`:128001 for open-end generation.\n"
     ]
    },
    {
     "name": "stdout",
     "output_type": "stream",
     "text": [
      "logits is [[0.08168072 0.7749651  0.14335413]]\n",
      "logits is [[0.2583295  0.4751407  0.26652977]]\n"
     ]
    },
    {
     "name": "stderr",
     "output_type": "stream",
     "text": [
      " 83%|████████▎ | 2395/2874 [06:05<01:18,  6.14it/s]Setting `pad_token_id` to `eos_token_id`:128001 for open-end generation.\n",
      " 83%|████████▎ | 2396/2874 [06:06<01:11,  6.66it/s]Setting `pad_token_id` to `eos_token_id`:128001 for open-end generation.\n"
     ]
    },
    {
     "name": "stdout",
     "output_type": "stream",
     "text": [
      "logits is [[0.14130013 0.52499366 0.33370626]]\n",
      "logits is [[0.5471675  0.18616435 0.26666814]]\n"
     ]
    },
    {
     "name": "stderr",
     "output_type": "stream",
     "text": [
      " 83%|████████▎ | 2397/2874 [06:06<01:18,  6.09it/s]Setting `pad_token_id` to `eos_token_id`:128001 for open-end generation.\n",
      " 83%|████████▎ | 2398/2874 [06:06<01:10,  6.77it/s]Setting `pad_token_id` to `eos_token_id`:128001 for open-end generation.\n"
     ]
    },
    {
     "name": "stdout",
     "output_type": "stream",
     "text": [
      "logits is [[0.33636543 0.40573418 0.25790033]]\n",
      "logits is [[0.34542236 0.34006706 0.31451064]]\n"
     ]
    },
    {
     "name": "stderr",
     "output_type": "stream",
     "text": [
      " 83%|████████▎ | 2399/2874 [06:06<01:04,  7.33it/s]Setting `pad_token_id` to `eos_token_id`:128001 for open-end generation.\n",
      " 84%|████████▎ | 2400/2874 [06:06<01:08,  6.90it/s]Setting `pad_token_id` to `eos_token_id`:128001 for open-end generation.\n"
     ]
    },
    {
     "name": "stdout",
     "output_type": "stream",
     "text": [
      "logits is [[0.12132137 0.25285542 0.6258232 ]]\n",
      "logits is [[0.6720754  0.13233949 0.19558509]]\n"
     ]
    },
    {
     "name": "stderr",
     "output_type": "stream",
     "text": [
      " 84%|████████▎ | 2401/2874 [06:06<01:03,  7.48it/s]Setting `pad_token_id` to `eos_token_id`:128001 for open-end generation.\n",
      " 84%|████████▎ | 2402/2874 [06:06<01:09,  6.77it/s]Setting `pad_token_id` to `eos_token_id`:128001 for open-end generation.\n"
     ]
    },
    {
     "name": "stdout",
     "output_type": "stream",
     "text": [
      "logits is [[0.31525594 0.3743757  0.31036833]]\n",
      "logits is [[0.57217723 0.22059397 0.20722885]]\n"
     ]
    },
    {
     "name": "stderr",
     "output_type": "stream",
     "text": [
      " 84%|████████▎ | 2403/2874 [06:07<01:04,  7.26it/s]Setting `pad_token_id` to `eos_token_id`:128001 for open-end generation.\n",
      " 84%|████████▎ | 2404/2874 [06:07<01:05,  7.20it/s]Setting `pad_token_id` to `eos_token_id`:128001 for open-end generation.\n"
     ]
    },
    {
     "name": "stdout",
     "output_type": "stream",
     "text": [
      "logits is [[0.6868017  0.10698307 0.20621526]]\n",
      "logits is [[0.42786503 0.17019296 0.401942  ]]\n"
     ]
    },
    {
     "name": "stderr",
     "output_type": "stream",
     "text": [
      " 84%|████████▎ | 2405/2874 [06:07<01:10,  6.64it/s]Setting `pad_token_id` to `eos_token_id`:128001 for open-end generation.\n",
      " 84%|████████▎ | 2406/2874 [06:07<01:11,  6.53it/s]Setting `pad_token_id` to `eos_token_id`:128001 for open-end generation.\n"
     ]
    },
    {
     "name": "stdout",
     "output_type": "stream",
     "text": [
      "logits is [[0.2918085  0.39267126 0.31552023]]\n",
      "logits is [[0.11531071 0.2990932  0.5855961 ]]\n"
     ]
    },
    {
     "name": "stderr",
     "output_type": "stream",
     "text": [
      " 84%|████████▍ | 2407/2874 [06:07<01:05,  7.08it/s]Setting `pad_token_id` to `eos_token_id`:128001 for open-end generation.\n",
      " 84%|████████▍ | 2408/2874 [06:07<01:02,  7.50it/s]Setting `pad_token_id` to `eos_token_id`:128001 for open-end generation.\n"
     ]
    },
    {
     "name": "stdout",
     "output_type": "stream",
     "text": [
      "logits is [[0.45268375 0.15401788 0.39329845]]\n",
      "logits is [[0.16575205 0.6658857  0.16836227]]\n"
     ]
    },
    {
     "name": "stderr",
     "output_type": "stream",
     "text": [
      " 84%|████████▍ | 2409/2874 [06:07<01:01,  7.61it/s]Setting `pad_token_id` to `eos_token_id`:128001 for open-end generation.\n",
      " 84%|████████▍ | 2410/2874 [06:08<01:04,  7.19it/s]Setting `pad_token_id` to `eos_token_id`:128001 for open-end generation.\n"
     ]
    },
    {
     "name": "stdout",
     "output_type": "stream",
     "text": [
      "logits is [[0.7939164  0.0447897  0.16129391]]\n",
      "logits is [[0.88952327 0.01817525 0.09230153]]\n"
     ]
    },
    {
     "name": "stderr",
     "output_type": "stream",
     "text": [
      " 84%|████████▍ | 2411/2874 [06:08<01:01,  7.55it/s]Setting `pad_token_id` to `eos_token_id`:128001 for open-end generation.\n",
      " 84%|████████▍ | 2412/2874 [06:08<01:00,  7.66it/s]Setting `pad_token_id` to `eos_token_id`:128001 for open-end generation.\n"
     ]
    },
    {
     "name": "stdout",
     "output_type": "stream",
     "text": [
      "logits is [[0.38699752 0.39928216 0.21372035]]\n",
      "logits is [[0.0360893  0.724873   0.23903774]]\n"
     ]
    },
    {
     "name": "stderr",
     "output_type": "stream",
     "text": [
      " 84%|████████▍ | 2413/2874 [06:08<01:09,  6.60it/s]Setting `pad_token_id` to `eos_token_id`:128001 for open-end generation.\n",
      " 84%|████████▍ | 2414/2874 [06:08<01:03,  7.24it/s]Setting `pad_token_id` to `eos_token_id`:128001 for open-end generation.\n"
     ]
    },
    {
     "name": "stdout",
     "output_type": "stream",
     "text": [
      "logits is [[0.57049525 0.0834819  0.34602287]]\n",
      "logits is [[0.29832742 0.23233764 0.46933493]]\n"
     ]
    },
    {
     "name": "stderr",
     "output_type": "stream",
     "text": [
      " 84%|████████▍ | 2415/2874 [06:08<01:09,  6.63it/s]Setting `pad_token_id` to `eos_token_id`:128001 for open-end generation.\n"
     ]
    },
    {
     "name": "stdout",
     "output_type": "stream",
     "text": [
      "logits is [[0.35252187 0.3363787  0.31109944]]\n"
     ]
    },
    {
     "name": "stderr",
     "output_type": "stream",
     "text": [
      " 84%|████████▍ | 2416/2874 [06:09<01:23,  5.51it/s]Setting `pad_token_id` to `eos_token_id`:128001 for open-end generation.\n",
      " 84%|████████▍ | 2417/2874 [06:09<01:14,  6.16it/s]Setting `pad_token_id` to `eos_token_id`:128001 for open-end generation.\n"
     ]
    },
    {
     "name": "stdout",
     "output_type": "stream",
     "text": [
      "logits is [[0.3567151  0.43028057 0.21300432]]\n",
      "logits is [[0.6076924  0.22355755 0.16875009]]\n"
     ]
    },
    {
     "name": "stderr",
     "output_type": "stream",
     "text": [
      " 84%|████████▍ | 2418/2874 [06:09<01:14,  6.14it/s]Setting `pad_token_id` to `eos_token_id`:128001 for open-end generation.\n",
      " 84%|████████▍ | 2419/2874 [06:09<01:07,  6.72it/s]Setting `pad_token_id` to `eos_token_id`:128001 for open-end generation.\n"
     ]
    },
    {
     "name": "stdout",
     "output_type": "stream",
     "text": [
      "logits is [[0.13981903 0.5194907  0.34069034]]\n",
      "logits is [[0.6829778  0.12437949 0.19264273]]\n"
     ]
    },
    {
     "name": "stderr",
     "output_type": "stream",
     "text": [
      " 84%|████████▍ | 2420/2874 [06:09<01:02,  7.30it/s]Setting `pad_token_id` to `eos_token_id`:128001 for open-end generation.\n"
     ]
    },
    {
     "name": "stdout",
     "output_type": "stream",
     "text": [
      "logits is [[0.4604684  0.19195178 0.34757978]]\n"
     ]
    },
    {
     "name": "stderr",
     "output_type": "stream",
     "text": [
      " 84%|████████▍ | 2421/2874 [06:09<01:13,  6.18it/s]Setting `pad_token_id` to `eos_token_id`:128001 for open-end generation.\n",
      " 84%|████████▍ | 2422/2874 [06:09<01:06,  6.84it/s]Setting `pad_token_id` to `eos_token_id`:128001 for open-end generation.\n"
     ]
    },
    {
     "name": "stdout",
     "output_type": "stream",
     "text": [
      "logits is [[0.08387814 0.8210755  0.09504639]]\n",
      "logits is [[0.30636144 0.30636144 0.38727716]]\n"
     ]
    },
    {
     "name": "stderr",
     "output_type": "stream",
     "text": [
      " 84%|████████▍ | 2423/2874 [06:10<01:01,  7.32it/s]Setting `pad_token_id` to `eos_token_id`:128001 for open-end generation.\n",
      " 84%|████████▍ | 2424/2874 [06:10<00:58,  7.68it/s]Setting `pad_token_id` to `eos_token_id`:128001 for open-end generation.\n"
     ]
    },
    {
     "name": "stdout",
     "output_type": "stream",
     "text": [
      "logits is [[0.322333   0.36525115 0.31241587]]\n",
      "logits is [[0.3220405  0.30729318 0.37066635]]\n"
     ]
    },
    {
     "name": "stderr",
     "output_type": "stream",
     "text": [
      " 84%|████████▍ | 2425/2874 [06:10<01:00,  7.43it/s]Setting `pad_token_id` to `eos_token_id`:128001 for open-end generation.\n",
      " 84%|████████▍ | 2426/2874 [06:10<00:58,  7.66it/s]Setting `pad_token_id` to `eos_token_id`:128001 for open-end generation.\n"
     ]
    },
    {
     "name": "stdout",
     "output_type": "stream",
     "text": [
      "logits is [[0.30371955 0.3779851  0.31829536]]\n",
      "logits is [[0.4749264  0.22787218 0.29720137]]\n"
     ]
    },
    {
     "name": "stderr",
     "output_type": "stream",
     "text": [
      " 84%|████████▍ | 2427/2874 [06:10<00:57,  7.71it/s]Setting `pad_token_id` to `eos_token_id`:128001 for open-end generation.\n",
      " 84%|████████▍ | 2428/2874 [06:10<00:55,  8.03it/s]Setting `pad_token_id` to `eos_token_id`:128001 for open-end generation.\n"
     ]
    },
    {
     "name": "stdout",
     "output_type": "stream",
     "text": [
      "logits is [[0.26059723 0.409977   0.32942578]]\n",
      "logits is [[0.19331373 0.42223603 0.3844503 ]]\n"
     ]
    },
    {
     "name": "stderr",
     "output_type": "stream",
     "text": [
      " 85%|████████▍ | 2429/2874 [06:10<01:01,  7.22it/s]Setting `pad_token_id` to `eos_token_id`:128001 for open-end generation.\n",
      " 85%|████████▍ | 2430/2874 [06:10<01:05,  6.81it/s]Setting `pad_token_id` to `eos_token_id`:128001 for open-end generation.\n"
     ]
    },
    {
     "name": "stdout",
     "output_type": "stream",
     "text": [
      "logits is [[0.26862395 0.44986048 0.2815155 ]]\n",
      "logits is [[0.4083014 0.3280794 0.2636192]]\n"
     ]
    },
    {
     "name": "stderr",
     "output_type": "stream",
     "text": [
      " 85%|████████▍ | 2431/2874 [06:11<01:09,  6.36it/s]Setting `pad_token_id` to `eos_token_id`:128001 for open-end generation.\n",
      " 85%|████████▍ | 2432/2874 [06:11<01:09,  6.35it/s]Setting `pad_token_id` to `eos_token_id`:128001 for open-end generation.\n"
     ]
    },
    {
     "name": "stdout",
     "output_type": "stream",
     "text": [
      "logits is [[0.08724684 0.7776226  0.13513054]]\n",
      "logits is [[0.27179432 0.43432605 0.2938797 ]]\n"
     ]
    },
    {
     "name": "stderr",
     "output_type": "stream",
     "text": [
      " 85%|████████▍ | 2433/2874 [06:11<01:03,  6.99it/s]Setting `pad_token_id` to `eos_token_id`:128001 for open-end generation.\n",
      " 85%|████████▍ | 2434/2874 [06:11<00:58,  7.55it/s]Setting `pad_token_id` to `eos_token_id`:128001 for open-end generation.\n"
     ]
    },
    {
     "name": "stdout",
     "output_type": "stream",
     "text": [
      "logits is [[0.3105313  0.504042   0.18542671]]\n",
      "logits is [[0.37305406 0.39711398 0.22983195]]\n"
     ]
    },
    {
     "name": "stderr",
     "output_type": "stream",
     "text": [
      " 85%|████████▍ | 2435/2874 [06:11<00:56,  7.78it/s]Setting `pad_token_id` to `eos_token_id`:128001 for open-end generation.\n",
      " 85%|████████▍ | 2436/2874 [06:11<00:54,  8.09it/s]Setting `pad_token_id` to `eos_token_id`:128001 for open-end generation.\n"
     ]
    },
    {
     "name": "stdout",
     "output_type": "stream",
     "text": [
      "logits is [[0.19972675 0.64472586 0.15554735]]\n",
      "logits is [[0.18452436 0.5015892  0.3138865 ]]\n"
     ]
    },
    {
     "name": "stderr",
     "output_type": "stream",
     "text": [
      " 85%|████████▍ | 2437/2874 [06:11<01:02,  6.95it/s]Setting `pad_token_id` to `eos_token_id`:128001 for open-end generation.\n",
      " 85%|████████▍ | 2438/2874 [06:12<00:58,  7.49it/s]Setting `pad_token_id` to `eos_token_id`:128001 for open-end generation.\n"
     ]
    },
    {
     "name": "stdout",
     "output_type": "stream",
     "text": [
      "logits is [[0.6400986 0.1012783 0.2586232]]\n",
      "logits is [[0.5851309  0.17845485 0.23641424]]\n"
     ]
    },
    {
     "name": "stderr",
     "output_type": "stream",
     "text": [
      " 85%|████████▍ | 2439/2874 [06:12<01:13,  5.91it/s]Setting `pad_token_id` to `eos_token_id`:128001 for open-end generation.\n"
     ]
    },
    {
     "name": "stdout",
     "output_type": "stream",
     "text": [
      "logits is [[0.20342033 0.39517823 0.4014014 ]]\n"
     ]
    },
    {
     "name": "stderr",
     "output_type": "stream",
     "text": [
      " 85%|████████▍ | 2440/2874 [06:12<01:24,  5.13it/s]Setting `pad_token_id` to `eos_token_id`:128001 for open-end generation.\n",
      " 85%|████████▍ | 2441/2874 [06:12<01:13,  5.89it/s]Setting `pad_token_id` to `eos_token_id`:128001 for open-end generation.\n"
     ]
    },
    {
     "name": "stdout",
     "output_type": "stream",
     "text": [
      "logits is [[0.692172   0.1983106  0.10951751]]\n",
      "logits is [[0.55103606 0.26439    0.18457396]]\n"
     ]
    },
    {
     "name": "stderr",
     "output_type": "stream",
     "text": [
      " 85%|████████▍ | 2442/2874 [06:12<01:06,  6.49it/s]Setting `pad_token_id` to `eos_token_id`:128001 for open-end generation.\n",
      " 85%|████████▌ | 2443/2874 [06:12<01:07,  6.37it/s]Setting `pad_token_id` to `eos_token_id`:128001 for open-end generation.\n"
     ]
    },
    {
     "name": "stdout",
     "output_type": "stream",
     "text": [
      "logits is [[0.24711299 0.5313764  0.22151065]]\n",
      "logits is [[0.16721873 0.63107693 0.20170431]]\n"
     ]
    },
    {
     "name": "stderr",
     "output_type": "stream",
     "text": [
      " 85%|████████▌ | 2444/2874 [06:13<01:06,  6.51it/s]Setting `pad_token_id` to `eos_token_id`:128001 for open-end generation.\n",
      " 85%|████████▌ | 2445/2874 [06:13<01:06,  6.44it/s]Setting `pad_token_id` to `eos_token_id`:128001 for open-end generation.\n"
     ]
    },
    {
     "name": "stdout",
     "output_type": "stream",
     "text": [
      "logits is [[0.18161707 0.6339058  0.1844771 ]]\n",
      "logits is [[0.2007065  0.5455768  0.25371677]]\n"
     ]
    },
    {
     "name": "stderr",
     "output_type": "stream",
     "text": [
      " 85%|████████▌ | 2446/2874 [06:13<01:14,  5.76it/s]Setting `pad_token_id` to `eos_token_id`:128001 for open-end generation.\n",
      " 85%|████████▌ | 2447/2874 [06:13<01:10,  6.08it/s]Setting `pad_token_id` to `eos_token_id`:128001 for open-end generation.\n"
     ]
    },
    {
     "name": "stdout",
     "output_type": "stream",
     "text": [
      "logits is [[0.11015303 0.7527593  0.13708764]]\n",
      "logits is [[0.5357506  0.09023513 0.3740142 ]]\n"
     ]
    },
    {
     "name": "stderr",
     "output_type": "stream",
     "text": [
      " 85%|████████▌ | 2448/2874 [06:13<01:09,  6.09it/s]Setting `pad_token_id` to `eos_token_id`:128001 for open-end generation.\n",
      " 85%|████████▌ | 2449/2874 [06:13<01:03,  6.71it/s]Setting `pad_token_id` to `eos_token_id`:128001 for open-end generation.\n"
     ]
    },
    {
     "name": "stdout",
     "output_type": "stream",
     "text": [
      "logits is [[0.2886688  0.413499   0.29783216]]\n",
      "logits is [[0.17583337 0.59483665 0.22932996]]\n"
     ]
    },
    {
     "name": "stderr",
     "output_type": "stream",
     "text": [
      " 85%|████████▌ | 2450/2874 [06:14<01:00,  6.97it/s]Setting `pad_token_id` to `eos_token_id`:128001 for open-end generation.\n",
      " 85%|████████▌ | 2451/2874 [06:14<01:03,  6.63it/s]Setting `pad_token_id` to `eos_token_id`:128001 for open-end generation.\n"
     ]
    },
    {
     "name": "stdout",
     "output_type": "stream",
     "text": [
      "logits is [[0.13012056 0.547828   0.32205147]]\n",
      "logits is [[0.3562026  0.39121202 0.25258547]]\n"
     ]
    },
    {
     "name": "stderr",
     "output_type": "stream",
     "text": [
      " 85%|████████▌ | 2452/2874 [06:14<01:16,  5.50it/s]Setting `pad_token_id` to `eos_token_id`:128001 for open-end generation.\n",
      " 85%|████████▌ | 2453/2874 [06:14<01:16,  5.51it/s]Setting `pad_token_id` to `eos_token_id`:128001 for open-end generation.\n"
     ]
    },
    {
     "name": "stdout",
     "output_type": "stream",
     "text": [
      "logits is [[0.44310993 0.30723315 0.24965686]]\n",
      "logits is [[0.58604926 0.1002612  0.3136896 ]]\n"
     ]
    },
    {
     "name": "stderr",
     "output_type": "stream",
     "text": [
      " 85%|████████▌ | 2454/2874 [06:14<01:07,  6.23it/s]Setting `pad_token_id` to `eos_token_id`:128001 for open-end generation.\n",
      " 85%|████████▌ | 2455/2874 [06:14<01:02,  6.75it/s]Setting `pad_token_id` to `eos_token_id`:128001 for open-end generation.\n"
     ]
    },
    {
     "name": "stdout",
     "output_type": "stream",
     "text": [
      "logits is [[0.25427562 0.47504938 0.270675  ]]\n",
      "logits is [[0.61501575 0.20600447 0.17897978]]\n"
     ]
    },
    {
     "name": "stderr",
     "output_type": "stream",
     "text": [
      " 85%|████████▌ | 2456/2874 [06:15<01:04,  6.48it/s]Setting `pad_token_id` to `eos_token_id`:128001 for open-end generation.\n",
      " 85%|████████▌ | 2457/2874 [06:15<01:00,  6.90it/s]Setting `pad_token_id` to `eos_token_id`:128001 for open-end generation.\n"
     ]
    },
    {
     "name": "stdout",
     "output_type": "stream",
     "text": [
      "logits is [[0.18950224 0.57465845 0.23583935]]\n",
      "logits is [[0.56260294 0.25757837 0.1798187 ]]\n"
     ]
    },
    {
     "name": "stderr",
     "output_type": "stream",
     "text": [
      " 86%|████████▌ | 2458/2874 [06:15<00:57,  7.26it/s]Setting `pad_token_id` to `eos_token_id`:128001 for open-end generation.\n"
     ]
    },
    {
     "name": "stdout",
     "output_type": "stream",
     "text": [
      "logits is [[0.19470233 0.4057945  0.39950323]]\n"
     ]
    },
    {
     "name": "stderr",
     "output_type": "stream",
     "text": [
      " 86%|████████▌ | 2459/2874 [06:15<01:11,  5.78it/s]Setting `pad_token_id` to `eos_token_id`:128001 for open-end generation.\n"
     ]
    },
    {
     "name": "stdout",
     "output_type": "stream",
     "text": [
      "logits is [[0.4349557 0.0702459 0.4947984]]\n"
     ]
    },
    {
     "name": "stderr",
     "output_type": "stream",
     "text": [
      " 86%|████████▌ | 2460/2874 [06:15<01:21,  5.06it/s]Setting `pad_token_id` to `eos_token_id`:128001 for open-end generation.\n",
      " 86%|████████▌ | 2461/2874 [06:15<01:13,  5.60it/s]Setting `pad_token_id` to `eos_token_id`:128001 for open-end generation.\n"
     ]
    },
    {
     "name": "stdout",
     "output_type": "stream",
     "text": [
      "logits is [[0.24864817 0.13744234 0.6139095 ]]\n",
      "logits is [[0.66810197 0.12167041 0.21022761]]\n"
     ]
    },
    {
     "name": "stderr",
     "output_type": "stream",
     "text": [
      " 86%|████████▌ | 2462/2874 [06:16<01:10,  5.86it/s]Setting `pad_token_id` to `eos_token_id`:128001 for open-end generation.\n",
      " 86%|████████▌ | 2463/2874 [06:16<01:05,  6.23it/s]Setting `pad_token_id` to `eos_token_id`:128001 for open-end generation.\n"
     ]
    },
    {
     "name": "stdout",
     "output_type": "stream",
     "text": [
      "logits is [[0.7660853  0.09440023 0.1395145 ]]\n",
      "logits is [[0.7259836  0.12420116 0.14981519]]\n"
     ]
    },
    {
     "name": "stderr",
     "output_type": "stream",
     "text": [
      " 86%|████████▌ | 2464/2874 [06:16<01:03,  6.45it/s]Setting `pad_token_id` to `eos_token_id`:128001 for open-end generation.\n"
     ]
    },
    {
     "name": "stdout",
     "output_type": "stream",
     "text": [
      "logits is [[0.17499569 0.6204136  0.2045907 ]]\n"
     ]
    },
    {
     "name": "stderr",
     "output_type": "stream",
     "text": [
      " 86%|████████▌ | 2465/2874 [06:16<01:16,  5.32it/s]Setting `pad_token_id` to `eos_token_id`:128001 for open-end generation.\n",
      " 86%|████████▌ | 2466/2874 [06:16<01:07,  6.02it/s]Setting `pad_token_id` to `eos_token_id`:128001 for open-end generation.\n"
     ]
    },
    {
     "name": "stdout",
     "output_type": "stream",
     "text": [
      "logits is [[0.07165498 0.82124984 0.10709518]]\n",
      "logits is [[0.2932357 0.2932357 0.4135286]]\n"
     ]
    },
    {
     "name": "stderr",
     "output_type": "stream",
     "text": [
      " 86%|████████▌ | 2467/2874 [06:16<01:05,  6.24it/s]Setting `pad_token_id` to `eos_token_id`:128001 for open-end generation.\n",
      " 86%|████████▌ | 2468/2874 [06:17<01:02,  6.51it/s]Setting `pad_token_id` to `eos_token_id`:128001 for open-end generation.\n"
     ]
    },
    {
     "name": "stdout",
     "output_type": "stream",
     "text": [
      "logits is [[0.18702982 0.64267755 0.17029259]]\n",
      "logits is [[0.11545146 0.80139196 0.08315656]]\n"
     ]
    },
    {
     "name": "stderr",
     "output_type": "stream",
     "text": [
      " 86%|████████▌ | 2469/2874 [06:17<00:58,  6.93it/s]Setting `pad_token_id` to `eos_token_id`:128001 for open-end generation.\n",
      " 86%|████████▌ | 2470/2874 [06:17<01:00,  6.66it/s]Setting `pad_token_id` to `eos_token_id`:128001 for open-end generation.\n"
     ]
    },
    {
     "name": "stdout",
     "output_type": "stream",
     "text": [
      "logits is [[0.48875582 0.24963203 0.26161215]]\n",
      "logits is [[0.31742918 0.08953501 0.59303576]]\n"
     ]
    },
    {
     "name": "stderr",
     "output_type": "stream",
     "text": [
      " 86%|████████▌ | 2471/2874 [06:17<01:00,  6.71it/s]Setting `pad_token_id` to `eos_token_id`:128001 for open-end generation.\n",
      " 86%|████████▌ | 2472/2874 [06:17<01:01,  6.51it/s]Setting `pad_token_id` to `eos_token_id`:128001 for open-end generation.\n"
     ]
    },
    {
     "name": "stdout",
     "output_type": "stream",
     "text": [
      "logits is [[0.06666693 0.8645499  0.06878316]]\n",
      "logits is [[0.7438019  0.09023341 0.16596463]]\n"
     ]
    },
    {
     "name": "stderr",
     "output_type": "stream",
     "text": [
      " 86%|████████▌ | 2473/2874 [06:17<01:05,  6.16it/s]Setting `pad_token_id` to `eos_token_id`:128001 for open-end generation.\n",
      " 86%|████████▌ | 2474/2874 [06:17<01:00,  6.61it/s]Setting `pad_token_id` to `eos_token_id`:128001 for open-end generation.\n"
     ]
    },
    {
     "name": "stdout",
     "output_type": "stream",
     "text": [
      "logits is [[0.6517841  0.17818786 0.17002806]]\n",
      "logits is [[0.30376974 0.22574249 0.47048777]]\n"
     ]
    },
    {
     "name": "stderr",
     "output_type": "stream",
     "text": [
      " 86%|████████▌ | 2475/2874 [06:18<00:57,  6.94it/s]Setting `pad_token_id` to `eos_token_id`:128001 for open-end generation.\n",
      " 86%|████████▌ | 2476/2874 [06:18<00:54,  7.34it/s]Setting `pad_token_id` to `eos_token_id`:128001 for open-end generation.\n"
     ]
    },
    {
     "name": "stdout",
     "output_type": "stream",
     "text": [
      "logits is [[0.45658907 0.19333197 0.350079  ]]\n",
      "logits is [[0.35545275 0.4221106  0.22243667]]\n"
     ]
    },
    {
     "name": "stderr",
     "output_type": "stream",
     "text": [
      " 86%|████████▌ | 2477/2874 [06:18<00:57,  6.89it/s]Setting `pad_token_id` to `eos_token_id`:128001 for open-end generation.\n",
      " 86%|████████▌ | 2478/2874 [06:18<00:53,  7.35it/s]Setting `pad_token_id` to `eos_token_id`:128001 for open-end generation.\n"
     ]
    },
    {
     "name": "stdout",
     "output_type": "stream",
     "text": [
      "logits is [[0.09207539 0.71300095 0.19492361]]\n",
      "logits is [[0.5035255  0.22695673 0.26951778]]\n"
     ]
    },
    {
     "name": "stderr",
     "output_type": "stream",
     "text": [
      " 86%|████████▋ | 2479/2874 [06:18<00:52,  7.55it/s]Setting `pad_token_id` to `eos_token_id`:128001 for open-end generation.\n",
      " 86%|████████▋ | 2480/2874 [06:18<00:49,  7.96it/s]Setting `pad_token_id` to `eos_token_id`:128001 for open-end generation.\n"
     ]
    },
    {
     "name": "stdout",
     "output_type": "stream",
     "text": [
      "logits is [[0.8582676  0.04693041 0.09480204]]\n",
      "logits is [[0.5237702  0.24741152 0.22881827]]\n"
     ]
    },
    {
     "name": "stderr",
     "output_type": "stream",
     "text": [
      " 86%|████████▋ | 2481/2874 [06:18<00:48,  8.12it/s]Setting `pad_token_id` to `eos_token_id`:128001 for open-end generation.\n",
      " 86%|████████▋ | 2482/2874 [06:18<00:47,  8.23it/s]Setting `pad_token_id` to `eos_token_id`:128001 for open-end generation.\n"
     ]
    },
    {
     "name": "stdout",
     "output_type": "stream",
     "text": [
      "logits is [[0.35152143 0.3570571  0.2914215 ]]\n",
      "logits is [[0.38225615 0.25864744 0.35909644]]\n"
     ]
    },
    {
     "name": "stderr",
     "output_type": "stream",
     "text": [
      " 86%|████████▋ | 2483/2874 [06:19<00:48,  8.09it/s]Setting `pad_token_id` to `eos_token_id`:128001 for open-end generation.\n",
      " 86%|████████▋ | 2484/2874 [06:19<00:52,  7.48it/s]Setting `pad_token_id` to `eos_token_id`:128001 for open-end generation.\n"
     ]
    },
    {
     "name": "stdout",
     "output_type": "stream",
     "text": [
      "logits is [[0.18706666 0.6529268  0.1600066 ]]\n",
      "logits is [[0.37448978 0.12157904 0.5039311 ]]\n"
     ]
    },
    {
     "name": "stderr",
     "output_type": "stream",
     "text": [
      " 86%|████████▋ | 2485/2874 [06:19<00:50,  7.68it/s]Setting `pad_token_id` to `eos_token_id`:128001 for open-end generation.\n",
      " 86%|████████▋ | 2486/2874 [06:19<00:52,  7.32it/s]Setting `pad_token_id` to `eos_token_id`:128001 for open-end generation.\n"
     ]
    },
    {
     "name": "stdout",
     "output_type": "stream",
     "text": [
      "logits is [[0.16883974 0.58930856 0.24185175]]\n",
      "logits is [[0.2905313  0.40971482 0.2997538 ]]\n"
     ]
    },
    {
     "name": "stderr",
     "output_type": "stream",
     "text": [
      " 87%|████████▋ | 2487/2874 [06:19<00:52,  7.40it/s]Setting `pad_token_id` to `eos_token_id`:128001 for open-end generation.\n",
      " 87%|████████▋ | 2488/2874 [06:19<00:51,  7.44it/s]Setting `pad_token_id` to `eos_token_id`:128001 for open-end generation.\n"
     ]
    },
    {
     "name": "stdout",
     "output_type": "stream",
     "text": [
      "logits is [[0.25767118 0.3108108  0.43151805]]\n",
      "logits is [[0.46738458 0.2663077  0.2663077 ]]\n"
     ]
    },
    {
     "name": "stderr",
     "output_type": "stream",
     "text": [
      " 87%|████████▋ | 2489/2874 [06:19<00:58,  6.57it/s]Setting `pad_token_id` to `eos_token_id`:128001 for open-end generation.\n",
      " 87%|████████▋ | 2490/2874 [06:20<00:58,  6.55it/s]Setting `pad_token_id` to `eos_token_id`:128001 for open-end generation.\n"
     ]
    },
    {
     "name": "stdout",
     "output_type": "stream",
     "text": [
      "logits is [[0.40076202 0.39454877 0.2046892 ]]\n",
      "logits is [[0.577913   0.07699946 0.3450876 ]]\n"
     ]
    },
    {
     "name": "stderr",
     "output_type": "stream",
     "text": [
      " 87%|████████▋ | 2491/2874 [06:20<01:01,  6.18it/s]Setting `pad_token_id` to `eos_token_id`:128001 for open-end generation.\n",
      " 87%|████████▋ | 2492/2874 [06:20<00:56,  6.73it/s]Setting `pad_token_id` to `eos_token_id`:128001 for open-end generation.\n"
     ]
    },
    {
     "name": "stdout",
     "output_type": "stream",
     "text": [
      "logits is [[0.30028737 0.40408084 0.29563186]]\n",
      "logits is [[0.14307936 0.3950548  0.46186584]]\n"
     ]
    },
    {
     "name": "stderr",
     "output_type": "stream",
     "text": [
      " 87%|████████▋ | 2493/2874 [06:20<00:54,  7.05it/s]Setting `pad_token_id` to `eos_token_id`:128001 for open-end generation.\n",
      " 87%|████████▋ | 2494/2874 [06:20<00:51,  7.40it/s]Setting `pad_token_id` to `eos_token_id`:128001 for open-end generation.\n"
     ]
    },
    {
     "name": "stdout",
     "output_type": "stream",
     "text": [
      "logits is [[0.10088974 0.38674992 0.5123604 ]]\n",
      "logits is [[0.17196447 0.5214758  0.3065598 ]]\n"
     ]
    },
    {
     "name": "stderr",
     "output_type": "stream",
     "text": [
      " 87%|████████▋ | 2495/2874 [06:20<00:51,  7.34it/s]Setting `pad_token_id` to `eos_token_id`:128001 for open-end generation.\n",
      " 87%|████████▋ | 2496/2874 [06:20<00:50,  7.49it/s]Setting `pad_token_id` to `eos_token_id`:128001 for open-end generation.\n"
     ]
    },
    {
     "name": "stdout",
     "output_type": "stream",
     "text": [
      "logits is [[0.8168746  0.10224385 0.08088154]]\n",
      "logits is [[0.7283791  0.07558037 0.19604057]]\n"
     ]
    },
    {
     "name": "stderr",
     "output_type": "stream",
     "text": [
      " 87%|████████▋ | 2497/2874 [06:21<00:48,  7.78it/s]Setting `pad_token_id` to `eos_token_id`:128001 for open-end generation.\n",
      " 87%|████████▋ | 2498/2874 [06:21<00:47,  7.88it/s]Setting `pad_token_id` to `eos_token_id`:128001 for open-end generation.\n"
     ]
    },
    {
     "name": "stdout",
     "output_type": "stream",
     "text": [
      "logits is [[0.46337566 0.2599302  0.27669424]]\n",
      "logits is [[0.31099483 0.35795286 0.33105227]]\n"
     ]
    },
    {
     "name": "stderr",
     "output_type": "stream",
     "text": [
      " 87%|████████▋ | 2499/2874 [06:21<00:57,  6.52it/s]Setting `pad_token_id` to `eos_token_id`:128001 for open-end generation.\n",
      " 87%|████████▋ | 2500/2874 [06:21<00:55,  6.69it/s]Setting `pad_token_id` to `eos_token_id`:128001 for open-end generation.\n"
     ]
    },
    {
     "name": "stdout",
     "output_type": "stream",
     "text": [
      "logits is [[0.51344776 0.26224345 0.22430871]]\n",
      "logits is [[0.1403231  0.71261954 0.14705735]]\n"
     ]
    },
    {
     "name": "stderr",
     "output_type": "stream",
     "text": [
      " 87%|████████▋ | 2501/2874 [06:21<00:56,  6.56it/s]Setting `pad_token_id` to `eos_token_id`:128001 for open-end generation.\n",
      " 87%|████████▋ | 2502/2874 [06:21<00:55,  6.76it/s]Setting `pad_token_id` to `eos_token_id`:128001 for open-end generation.\n"
     ]
    },
    {
     "name": "stdout",
     "output_type": "stream",
     "text": [
      "logits is [[0.21340446 0.58922863 0.19736688]]\n",
      "logits is [[0.19182794 0.63888454 0.16928755]]\n"
     ]
    },
    {
     "name": "stderr",
     "output_type": "stream",
     "text": [
      " 87%|████████▋ | 2503/2874 [06:21<00:51,  7.15it/s]Setting `pad_token_id` to `eos_token_id`:128001 for open-end generation.\n",
      " 87%|████████▋ | 2504/2874 [06:22<00:51,  7.18it/s]Setting `pad_token_id` to `eos_token_id`:128001 for open-end generation.\n"
     ]
    },
    {
     "name": "stdout",
     "output_type": "stream",
     "text": [
      "logits is [[0.37618583 0.30703393 0.31678024]]\n",
      "logits is [[0.5930052  0.19555235 0.2114425 ]]\n"
     ]
    },
    {
     "name": "stderr",
     "output_type": "stream",
     "text": [
      " 87%|████████▋ | 2505/2874 [06:22<00:57,  6.38it/s]Setting `pad_token_id` to `eos_token_id`:128001 for open-end generation.\n",
      " 87%|████████▋ | 2506/2874 [06:22<00:57,  6.44it/s]Setting `pad_token_id` to `eos_token_id`:128001 for open-end generation.\n"
     ]
    },
    {
     "name": "stdout",
     "output_type": "stream",
     "text": [
      "logits is [[0.49882865 0.22135387 0.2798175 ]]\n",
      "logits is [[0.29606223 0.33548245 0.36845538]]\n"
     ]
    },
    {
     "name": "stderr",
     "output_type": "stream",
     "text": [
      " 87%|████████▋ | 2507/2874 [06:22<00:52,  6.96it/s]Setting `pad_token_id` to `eos_token_id`:128001 for open-end generation.\n",
      " 87%|████████▋ | 2508/2874 [06:22<00:50,  7.20it/s]Setting `pad_token_id` to `eos_token_id`:128001 for open-end generation.\n"
     ]
    },
    {
     "name": "stdout",
     "output_type": "stream",
     "text": [
      "logits is [[0.34052953 0.29127035 0.3682002 ]]\n",
      "logits is [[0.28032967 0.27170482 0.44796553]]\n"
     ]
    },
    {
     "name": "stderr",
     "output_type": "stream",
     "text": [
      " 87%|████████▋ | 2509/2874 [06:22<00:56,  6.44it/s]Setting `pad_token_id` to `eos_token_id`:128001 for open-end generation.\n",
      " 87%|████████▋ | 2510/2874 [06:23<00:59,  6.09it/s]Setting `pad_token_id` to `eos_token_id`:128001 for open-end generation.\n"
     ]
    },
    {
     "name": "stdout",
     "output_type": "stream",
     "text": [
      "logits is [[0.09341525 0.7347678  0.17181692]]\n",
      "logits is [[0.14776903 0.5490286  0.3032024 ]]\n"
     ]
    },
    {
     "name": "stderr",
     "output_type": "stream",
     "text": [
      " 87%|████████▋ | 2511/2874 [06:23<00:57,  6.36it/s]Setting `pad_token_id` to `eos_token_id`:128001 for open-end generation.\n"
     ]
    },
    {
     "name": "stdout",
     "output_type": "stream",
     "text": [
      "logits is [[0.1921984  0.66043794 0.14736363]]\n"
     ]
    },
    {
     "name": "stderr",
     "output_type": "stream",
     "text": [
      " 87%|████████▋ | 2512/2874 [06:23<01:07,  5.35it/s]Setting `pad_token_id` to `eos_token_id`:128001 for open-end generation.\n",
      " 87%|████████▋ | 2513/2874 [06:23<01:00,  5.97it/s]Setting `pad_token_id` to `eos_token_id`:128001 for open-end generation.\n"
     ]
    },
    {
     "name": "stdout",
     "output_type": "stream",
     "text": [
      "logits is [[0.29376408 0.13554984 0.57068616]]\n",
      "logits is [[0.3363787  0.35252187 0.31109944]]\n"
     ]
    },
    {
     "name": "stderr",
     "output_type": "stream",
     "text": [
      " 87%|████████▋ | 2514/2874 [06:23<01:00,  5.94it/s]Setting `pad_token_id` to `eos_token_id`:128001 for open-end generation.\n"
     ]
    },
    {
     "name": "stdout",
     "output_type": "stream",
     "text": [
      "logits is [[0.0868742  0.7743013  0.13882457]]\n"
     ]
    },
    {
     "name": "stderr",
     "output_type": "stream",
     "text": [
      " 88%|████████▊ | 2515/2874 [06:23<01:11,  5.04it/s]Setting `pad_token_id` to `eos_token_id`:128001 for open-end generation.\n",
      " 88%|████████▊ | 2516/2874 [06:24<01:02,  5.69it/s]Setting `pad_token_id` to `eos_token_id`:128001 for open-end generation.\n"
     ]
    },
    {
     "name": "stdout",
     "output_type": "stream",
     "text": [
      "logits is [[0.83142966 0.08296835 0.08560205]]\n",
      "logits is [[0.31863862 0.3725263  0.30883512]]\n"
     ]
    },
    {
     "name": "stderr",
     "output_type": "stream",
     "text": [
      " 88%|████████▊ | 2517/2874 [06:24<00:56,  6.27it/s]Setting `pad_token_id` to `eos_token_id`:128001 for open-end generation.\n",
      " 88%|████████▊ | 2518/2874 [06:24<00:53,  6.63it/s]Setting `pad_token_id` to `eos_token_id`:128001 for open-end generation.\n"
     ]
    },
    {
     "name": "stdout",
     "output_type": "stream",
     "text": [
      "logits is [[0.51897717 0.20323437 0.27778846]]\n",
      "logits is [[0.17909226 0.5603301  0.26057768]]\n"
     ]
    },
    {
     "name": "stderr",
     "output_type": "stream",
     "text": [
      " 88%|████████▊ | 2519/2874 [06:24<00:58,  6.06it/s]Setting `pad_token_id` to `eos_token_id`:128001 for open-end generation.\n",
      " 88%|████████▊ | 2520/2874 [06:24<00:53,  6.58it/s]Setting `pad_token_id` to `eos_token_id`:128001 for open-end generation.\n"
     ]
    },
    {
     "name": "stdout",
     "output_type": "stream",
     "text": [
      "logits is [[0.11194218 0.7892692  0.09878862]]\n",
      "logits is [[0.37718287 0.33810455 0.28471255]]\n"
     ]
    },
    {
     "name": "stderr",
     "output_type": "stream",
     "text": [
      " 88%|████████▊ | 2521/2874 [06:24<01:02,  5.69it/s]Setting `pad_token_id` to `eos_token_id`:128001 for open-end generation.\n",
      " 88%|████████▊ | 2522/2874 [06:25<00:57,  6.14it/s]Setting `pad_token_id` to `eos_token_id`:128001 for open-end generation.\n"
     ]
    },
    {
     "name": "stdout",
     "output_type": "stream",
     "text": [
      "logits is [[0.21075724 0.5466627  0.2425801 ]]\n",
      "logits is [[0.3157821  0.36346295 0.32075492]]\n"
     ]
    },
    {
     "name": "stderr",
     "output_type": "stream",
     "text": [
      " 88%|████████▊ | 2523/2874 [06:25<01:03,  5.55it/s]Setting `pad_token_id` to `eos_token_id`:128001 for open-end generation.\n",
      " 88%|████████▊ | 2524/2874 [06:25<00:57,  6.14it/s]Setting `pad_token_id` to `eos_token_id`:128001 for open-end generation.\n"
     ]
    },
    {
     "name": "stdout",
     "output_type": "stream",
     "text": [
      "logits is [[0.56030524 0.20612478 0.23356996]]\n",
      "logits is [[0.07395897 0.06629639 0.85974467]]\n"
     ]
    },
    {
     "name": "stderr",
     "output_type": "stream",
     "text": [
      " 88%|████████▊ | 2525/2874 [06:25<00:54,  6.37it/s]Setting `pad_token_id` to `eos_token_id`:128001 for open-end generation.\n",
      " 88%|████████▊ | 2526/2874 [06:25<00:51,  6.73it/s]Setting `pad_token_id` to `eos_token_id`:128001 for open-end generation.\n"
     ]
    },
    {
     "name": "stdout",
     "output_type": "stream",
     "text": [
      "logits is [[0.2757931  0.4691399  0.25506693]]\n",
      "logits is [[0.8784272  0.03459669 0.08697607]]\n"
     ]
    },
    {
     "name": "stderr",
     "output_type": "stream",
     "text": [
      " 88%|████████▊ | 2527/2874 [06:25<00:51,  6.75it/s]Setting `pad_token_id` to `eos_token_id`:128001 for open-end generation.\n",
      " 88%|████████▊ | 2528/2874 [06:25<00:52,  6.54it/s]Setting `pad_token_id` to `eos_token_id`:128001 for open-end generation.\n"
     ]
    },
    {
     "name": "stdout",
     "output_type": "stream",
     "text": [
      "logits is [[0.02838657 0.8693894  0.10222396]]\n",
      "logits is [[0.26519555 0.46543264 0.26937175]]\n"
     ]
    },
    {
     "name": "stderr",
     "output_type": "stream",
     "text": [
      " 88%|████████▊ | 2529/2874 [06:26<00:50,  6.81it/s]Setting `pad_token_id` to `eos_token_id`:128001 for open-end generation.\n",
      " 88%|████████▊ | 2530/2874 [06:26<00:48,  7.03it/s]Setting `pad_token_id` to `eos_token_id`:128001 for open-end generation.\n"
     ]
    },
    {
     "name": "stdout",
     "output_type": "stream",
     "text": [
      "logits is [[0.17762302 0.55573326 0.26664373]]\n",
      "logits is [[0.18708637 0.37792486 0.43498883]]\n"
     ]
    },
    {
     "name": "stderr",
     "output_type": "stream",
     "text": [
      " 88%|████████▊ | 2531/2874 [06:26<01:00,  5.66it/s]Setting `pad_token_id` to `eos_token_id`:128001 for open-end generation.\n",
      " 88%|████████▊ | 2532/2874 [06:26<00:54,  6.27it/s]Setting `pad_token_id` to `eos_token_id`:128001 for open-end generation.\n"
     ]
    },
    {
     "name": "stdout",
     "output_type": "stream",
     "text": [
      "logits is [[0.43349957 0.0828966  0.48360375]]\n",
      "logits is [[0.17772831 0.19217013 0.63010156]]\n"
     ]
    },
    {
     "name": "stderr",
     "output_type": "stream",
     "text": [
      " 88%|████████▊ | 2533/2874 [06:26<00:50,  6.82it/s]Setting `pad_token_id` to `eos_token_id`:128001 for open-end generation.\n",
      " 88%|████████▊ | 2534/2874 [06:26<00:50,  6.69it/s]Setting `pad_token_id` to `eos_token_id`:128001 for open-end generation.\n"
     ]
    },
    {
     "name": "stdout",
     "output_type": "stream",
     "text": [
      "logits is [[0.16222274 0.15479402 0.6829833 ]]\n",
      "logits is [[0.23248617 0.49992383 0.26758996]]\n"
     ]
    },
    {
     "name": "stderr",
     "output_type": "stream",
     "text": [
      " 88%|████████▊ | 2535/2874 [06:27<00:47,  7.14it/s]Setting `pad_token_id` to `eos_token_id`:128001 for open-end generation.\n",
      " 88%|████████▊ | 2536/2874 [06:27<00:44,  7.61it/s]Setting `pad_token_id` to `eos_token_id`:128001 for open-end generation.\n"
     ]
    },
    {
     "name": "stdout",
     "output_type": "stream",
     "text": [
      "logits is [[0.32177907 0.39425194 0.28396904]]\n",
      "logits is [[0.07082894 0.6215042  0.30766687]]\n"
     ]
    },
    {
     "name": "stderr",
     "output_type": "stream",
     "text": [
      " 88%|████████▊ | 2537/2874 [06:27<00:46,  7.18it/s]Setting `pad_token_id` to `eos_token_id`:128001 for open-end generation.\n"
     ]
    },
    {
     "name": "stdout",
     "output_type": "stream",
     "text": [
      "logits is [[0.38379514 0.36054218 0.25566268]]\n"
     ]
    },
    {
     "name": "stderr",
     "output_type": "stream",
     "text": [
      " 88%|████████▊ | 2538/2874 [06:27<01:00,  5.60it/s]Setting `pad_token_id` to `eos_token_id`:128001 for open-end generation.\n",
      " 88%|████████▊ | 2539/2874 [06:27<00:53,  6.29it/s]Setting `pad_token_id` to `eos_token_id`:128001 for open-end generation.\n"
     ]
    },
    {
     "name": "stdout",
     "output_type": "stream",
     "text": [
      "logits is [[0.42177686 0.3183739  0.2598492 ]]\n",
      "logits is [[0.2197459  0.3566828  0.42357132]]\n"
     ]
    },
    {
     "name": "stderr",
     "output_type": "stream",
     "text": [
      " 88%|████████▊ | 2540/2874 [06:27<01:00,  5.53it/s]Setting `pad_token_id` to `eos_token_id`:128001 for open-end generation.\n",
      " 88%|████████▊ | 2541/2874 [06:28<00:54,  6.11it/s]Setting `pad_token_id` to `eos_token_id`:128001 for open-end generation.\n"
     ]
    },
    {
     "name": "stdout",
     "output_type": "stream",
     "text": [
      "logits is [[0.27380294 0.14655617 0.57964087]]\n",
      "logits is [[0.75545657 0.07597826 0.16856515]]\n"
     ]
    },
    {
     "name": "stderr",
     "output_type": "stream",
     "text": [
      " 88%|████████▊ | 2542/2874 [06:28<00:55,  5.96it/s]Setting `pad_token_id` to `eos_token_id`:128001 for open-end generation.\n",
      " 88%|████████▊ | 2543/2874 [06:28<00:50,  6.59it/s]Setting `pad_token_id` to `eos_token_id`:128001 for open-end generation.\n"
     ]
    },
    {
     "name": "stdout",
     "output_type": "stream",
     "text": [
      "logits is [[0.22430871 0.51344776 0.26224345]]\n",
      "logits is [[0.30443656 0.27289516 0.42266828]]\n"
     ]
    },
    {
     "name": "stderr",
     "output_type": "stream",
     "text": [
      " 89%|████████▊ | 2544/2874 [06:28<00:46,  7.07it/s]Setting `pad_token_id` to `eos_token_id`:128001 for open-end generation.\n",
      " 89%|████████▊ | 2545/2874 [06:28<00:48,  6.77it/s]Setting `pad_token_id` to `eos_token_id`:128001 for open-end generation.\n"
     ]
    },
    {
     "name": "stdout",
     "output_type": "stream",
     "text": [
      "logits is [[0.38365173 0.23269655 0.38365173]]\n",
      "logits is [[0.16016355 0.22586681 0.6139696 ]]\n"
     ]
    },
    {
     "name": "stderr",
     "output_type": "stream",
     "text": [
      " 89%|████████▊ | 2546/2874 [06:28<00:47,  6.94it/s]Setting `pad_token_id` to `eos_token_id`:128001 for open-end generation.\n",
      " 89%|████████▊ | 2547/2874 [06:28<00:44,  7.40it/s]Setting `pad_token_id` to `eos_token_id`:128001 for open-end generation.\n"
     ]
    },
    {
     "name": "stdout",
     "output_type": "stream",
     "text": [
      "logits is [[0.13077272 0.7886605  0.08056674]]\n",
      "logits is [[0.5681961  0.12288103 0.30892286]]\n"
     ]
    },
    {
     "name": "stderr",
     "output_type": "stream",
     "text": [
      " 89%|████████▊ | 2548/2874 [06:28<00:42,  7.70it/s]Setting `pad_token_id` to `eos_token_id`:128001 for open-end generation.\n",
      " 89%|████████▊ | 2549/2874 [06:29<00:41,  7.88it/s]Setting `pad_token_id` to `eos_token_id`:128001 for open-end generation.\n"
     ]
    },
    {
     "name": "stdout",
     "output_type": "stream",
     "text": [
      "logits is [[0.31979358 0.39798954 0.28221685]]\n",
      "logits is [[0.10026845 0.47093782 0.42879376]]\n"
     ]
    },
    {
     "name": "stderr",
     "output_type": "stream",
     "text": [
      " 89%|████████▊ | 2550/2874 [06:29<00:40,  8.05it/s]Setting `pad_token_id` to `eos_token_id`:128001 for open-end generation.\n",
      " 89%|████████▉ | 2551/2874 [06:29<00:41,  7.76it/s]Setting `pad_token_id` to `eos_token_id`:128001 for open-end generation.\n"
     ]
    },
    {
     "name": "stdout",
     "output_type": "stream",
     "text": [
      "logits is [[0.7603564  0.0922417  0.14740182]]\n",
      "logits is [[0.12015074 0.49801096 0.38183826]]\n"
     ]
    },
    {
     "name": "stderr",
     "output_type": "stream",
     "text": [
      " 89%|████████▉ | 2552/2874 [06:29<00:51,  6.25it/s]Setting `pad_token_id` to `eos_token_id`:128001 for open-end generation.\n",
      " 89%|████████▉ | 2553/2874 [06:29<00:46,  6.90it/s]Setting `pad_token_id` to `eos_token_id`:128001 for open-end generation.\n"
     ]
    },
    {
     "name": "stdout",
     "output_type": "stream",
     "text": [
      "logits is [[0.591535   0.22805704 0.18040799]]\n",
      "logits is [[0.76506907 0.08190754 0.15302344]]\n"
     ]
    },
    {
     "name": "stderr",
     "output_type": "stream",
     "text": [
      " 89%|████████▉ | 2554/2874 [06:29<00:53,  6.01it/s]Setting `pad_token_id` to `eos_token_id`:128001 for open-end generation.\n",
      " 89%|████████▉ | 2555/2874 [06:30<00:48,  6.59it/s]Setting `pad_token_id` to `eos_token_id`:128001 for open-end generation.\n"
     ]
    },
    {
     "name": "stdout",
     "output_type": "stream",
     "text": [
      "logits is [[0.1403413  0.63887084 0.22078787]]\n",
      "logits is [[0.50726706 0.20818198 0.28455102]]\n"
     ]
    },
    {
     "name": "stderr",
     "output_type": "stream",
     "text": [
      " 89%|████████▉ | 2556/2874 [06:30<00:47,  6.66it/s]Setting `pad_token_id` to `eos_token_id`:128001 for open-end generation.\n",
      " 89%|████████▉ | 2557/2874 [06:30<00:50,  6.27it/s]Setting `pad_token_id` to `eos_token_id`:128001 for open-end generation.\n"
     ]
    },
    {
     "name": "stdout",
     "output_type": "stream",
     "text": [
      "logits is [[0.26326594 0.46932226 0.26741177]]\n",
      "logits is [[0.2741893  0.4246727  0.30113804]]\n"
     ]
    },
    {
     "name": "stderr",
     "output_type": "stream",
     "text": [
      " 89%|████████▉ | 2558/2874 [06:30<00:47,  6.59it/s]Setting `pad_token_id` to `eos_token_id`:128001 for open-end generation.\n",
      " 89%|████████▉ | 2559/2874 [06:30<00:45,  6.92it/s]Setting `pad_token_id` to `eos_token_id`:128001 for open-end generation.\n"
     ]
    },
    {
     "name": "stdout",
     "output_type": "stream",
     "text": [
      "logits is [[0.10362916 0.60573566 0.29063514]]\n",
      "logits is [[0.2964917  0.3927877  0.31072062]]\n"
     ]
    },
    {
     "name": "stderr",
     "output_type": "stream",
     "text": [
      " 89%|████████▉ | 2560/2874 [06:30<00:42,  7.34it/s]Setting `pad_token_id` to `eos_token_id`:128001 for open-end generation.\n",
      " 89%|████████▉ | 2561/2874 [06:30<00:42,  7.38it/s]Setting `pad_token_id` to `eos_token_id`:128001 for open-end generation.\n"
     ]
    },
    {
     "name": "stdout",
     "output_type": "stream",
     "text": [
      "logits is [[0.48481286 0.21179906 0.30338815]]\n",
      "logits is [[0.183618   0.20484067 0.6115413 ]]\n"
     ]
    },
    {
     "name": "stderr",
     "output_type": "stream",
     "text": [
      " 89%|████████▉ | 2562/2874 [06:30<00:40,  7.63it/s]Setting `pad_token_id` to `eos_token_id`:128001 for open-end generation.\n",
      " 89%|████████▉ | 2563/2874 [06:31<00:45,  6.83it/s]Setting `pad_token_id` to `eos_token_id`:128001 for open-end generation.\n"
     ]
    },
    {
     "name": "stdout",
     "output_type": "stream",
     "text": [
      "logits is [[0.49810025 0.2352859  0.26661387]]\n",
      "logits is [[0.1055789  0.6777873  0.21663384]]\n"
     ]
    },
    {
     "name": "stderr",
     "output_type": "stream",
     "text": [
      " 89%|████████▉ | 2564/2874 [06:31<00:42,  7.25it/s]Setting `pad_token_id` to `eos_token_id`:128001 for open-end generation.\n",
      " 89%|████████▉ | 2565/2874 [06:31<00:41,  7.41it/s]Setting `pad_token_id` to `eos_token_id`:128001 for open-end generation.\n"
     ]
    },
    {
     "name": "stdout",
     "output_type": "stream",
     "text": [
      "logits is [[0.18209657 0.5269139  0.2909895 ]]\n",
      "logits is [[0.42831033 0.23286828 0.33882135]]\n"
     ]
    },
    {
     "name": "stderr",
     "output_type": "stream",
     "text": [
      " 89%|████████▉ | 2566/2874 [06:31<00:53,  5.79it/s]Setting `pad_token_id` to `eos_token_id`:128001 for open-end generation.\n",
      " 89%|████████▉ | 2567/2874 [06:31<00:54,  5.67it/s]Setting `pad_token_id` to `eos_token_id`:128001 for open-end generation.\n"
     ]
    },
    {
     "name": "stdout",
     "output_type": "stream",
     "text": [
      "logits is [[0.36619323 0.07324326 0.56056345]]\n",
      "logits is [[0.8699598  0.06502013 0.06502013]]\n"
     ]
    },
    {
     "name": "stderr",
     "output_type": "stream",
     "text": [
      " 89%|████████▉ | 2568/2874 [06:32<00:54,  5.59it/s]Setting `pad_token_id` to `eos_token_id`:128001 for open-end generation.\n"
     ]
    },
    {
     "name": "stdout",
     "output_type": "stream",
     "text": [
      "logits is [[0.38750538 0.3419723  0.27052236]]\n"
     ]
    },
    {
     "name": "stderr",
     "output_type": "stream",
     "text": [
      " 89%|████████▉ | 2569/2874 [06:32<01:02,  4.92it/s]Setting `pad_token_id` to `eos_token_id`:128001 for open-end generation.\n",
      " 89%|████████▉ | 2570/2874 [06:32<00:55,  5.49it/s]Setting `pad_token_id` to `eos_token_id`:128001 for open-end generation.\n"
     ]
    },
    {
     "name": "stdout",
     "output_type": "stream",
     "text": [
      "logits is [[0.40278038 0.4896564  0.10756323]]\n",
      "logits is [[0.19581982 0.5406759  0.2635044 ]]\n"
     ]
    },
    {
     "name": "stderr",
     "output_type": "stream",
     "text": [
      " 89%|████████▉ | 2571/2874 [06:32<00:53,  5.72it/s]Setting `pad_token_id` to `eos_token_id`:128001 for open-end generation.\n",
      " 89%|████████▉ | 2572/2874 [06:32<00:49,  6.13it/s]Setting `pad_token_id` to `eos_token_id`:128001 for open-end generation.\n"
     ]
    },
    {
     "name": "stdout",
     "output_type": "stream",
     "text": [
      "logits is [[0.47903872 0.26455033 0.25641096]]\n",
      "logits is [[0.8228303  0.07418041 0.10298929]]\n"
     ]
    },
    {
     "name": "stderr",
     "output_type": "stream",
     "text": [
      " 90%|████████▉ | 2573/2874 [06:32<00:46,  6.44it/s]Setting `pad_token_id` to `eos_token_id`:128001 for open-end generation.\n",
      " 90%|████████▉ | 2574/2874 [06:33<00:47,  6.29it/s]Setting `pad_token_id` to `eos_token_id`:128001 for open-end generation.\n"
     ]
    },
    {
     "name": "stdout",
     "output_type": "stream",
     "text": [
      "logits is [[0.3027096  0.10461365 0.5926767 ]]\n",
      "logits is [[0.41976097 0.3590406  0.2211985 ]]\n"
     ]
    },
    {
     "name": "stderr",
     "output_type": "stream",
     "text": [
      " 90%|████████▉ | 2575/2874 [06:33<00:52,  5.65it/s]Setting `pad_token_id` to `eos_token_id`:128001 for open-end generation.\n",
      " 90%|████████▉ | 2576/2874 [06:33<00:48,  6.13it/s]Setting `pad_token_id` to `eos_token_id`:128001 for open-end generation.\n"
     ]
    },
    {
     "name": "stdout",
     "output_type": "stream",
     "text": [
      "logits is [[0.71650594 0.03197683 0.25151727]]\n",
      "logits is [[0.7375244  0.13431317 0.12816252]]\n"
     ]
    },
    {
     "name": "stderr",
     "output_type": "stream",
     "text": [
      " 90%|████████▉ | 2577/2874 [06:33<00:45,  6.53it/s]Setting `pad_token_id` to `eos_token_id`:128001 for open-end generation.\n",
      " 90%|████████▉ | 2578/2874 [06:33<00:44,  6.59it/s]Setting `pad_token_id` to `eos_token_id`:128001 for open-end generation.\n"
     ]
    },
    {
     "name": "stdout",
     "output_type": "stream",
     "text": [
      "logits is [[0.8533229  0.06085616 0.08582094]]\n",
      "logits is [[0.39853406 0.22707787 0.3743881 ]]\n"
     ]
    },
    {
     "name": "stderr",
     "output_type": "stream",
     "text": [
      " 90%|████████▉ | 2579/2874 [06:33<00:42,  6.87it/s]Setting `pad_token_id` to `eos_token_id`:128001 for open-end generation.\n",
      " 90%|████████▉ | 2580/2874 [06:33<00:44,  6.67it/s]Setting `pad_token_id` to `eos_token_id`:128001 for open-end generation.\n"
     ]
    },
    {
     "name": "stdout",
     "output_type": "stream",
     "text": [
      "logits is [[0.6073566  0.12730886 0.26533446]]\n",
      "logits is [[0.18423653 0.65317523 0.16258816]]\n"
     ]
    },
    {
     "name": "stderr",
     "output_type": "stream",
     "text": [
      " 90%|████████▉ | 2581/2874 [06:34<00:49,  5.88it/s]Setting `pad_token_id` to `eos_token_id`:128001 for open-end generation.\n",
      " 90%|████████▉ | 2582/2874 [06:34<00:46,  6.32it/s]Setting `pad_token_id` to `eos_token_id`:128001 for open-end generation.\n"
     ]
    },
    {
     "name": "stdout",
     "output_type": "stream",
     "text": [
      "logits is [[0.5278486  0.23792002 0.2342314 ]]\n",
      "logits is [[0.24180573 0.4378536  0.32034054]]\n"
     ]
    },
    {
     "name": "stderr",
     "output_type": "stream",
     "text": [
      " 90%|████████▉ | 2583/2874 [06:34<00:47,  6.17it/s]Setting `pad_token_id` to `eos_token_id`:128001 for open-end generation.\n",
      " 90%|████████▉ | 2584/2874 [06:34<00:47,  6.09it/s]Setting `pad_token_id` to `eos_token_id`:128001 for open-end generation.\n"
     ]
    },
    {
     "name": "stdout",
     "output_type": "stream",
     "text": [
      "logits is [[0.08881395 0.8040559  0.10713009]]\n",
      "logits is [[0.61501575 0.20600447 0.17897978]]\n"
     ]
    },
    {
     "name": "stderr",
     "output_type": "stream",
     "text": [
      " 90%|████████▉ | 2585/2874 [06:34<00:44,  6.53it/s]Setting `pad_token_id` to `eos_token_id`:128001 for open-end generation.\n",
      " 90%|████████▉ | 2586/2874 [06:34<00:44,  6.49it/s]Setting `pad_token_id` to `eos_token_id`:128001 for open-end generation.\n"
     ]
    },
    {
     "name": "stdout",
     "output_type": "stream",
     "text": [
      "logits is [[0.07918791 0.77516323 0.14564885]]\n",
      "logits is [[0.34006706 0.34542236 0.31451064]]\n"
     ]
    },
    {
     "name": "stderr",
     "output_type": "stream",
     "text": [
      " 90%|█████████ | 2587/2874 [06:35<00:41,  6.85it/s]Setting `pad_token_id` to `eos_token_id`:128001 for open-end generation.\n",
      " 90%|█████████ | 2588/2874 [06:35<00:40,  7.03it/s]Setting `pad_token_id` to `eos_token_id`:128001 for open-end generation.\n"
     ]
    },
    {
     "name": "stdout",
     "output_type": "stream",
     "text": [
      "logits is [[0.42594922 0.3116311  0.2624197 ]]\n",
      "logits is [[0.7259836  0.12420116 0.14981519]]\n"
     ]
    },
    {
     "name": "stderr",
     "output_type": "stream",
     "text": [
      " 90%|█████████ | 2589/2874 [06:35<00:50,  5.66it/s]Setting `pad_token_id` to `eos_token_id`:128001 for open-end generation.\n",
      " 90%|█████████ | 2590/2874 [06:35<00:46,  6.10it/s]Setting `pad_token_id` to `eos_token_id`:128001 for open-end generation.\n"
     ]
    },
    {
     "name": "stdout",
     "output_type": "stream",
     "text": [
      "logits is [[0.4996193  0.22874238 0.2716383 ]]\n",
      "logits is [[0.4627103 0.3082315 0.2290582]]\n"
     ]
    },
    {
     "name": "stderr",
     "output_type": "stream",
     "text": [
      " 90%|█████████ | 2591/2874 [06:35<00:42,  6.63it/s]Setting `pad_token_id` to `eos_token_id`:128001 for open-end generation.\n",
      " 90%|█████████ | 2592/2874 [06:35<00:39,  7.14it/s]Setting `pad_token_id` to `eos_token_id`:128001 for open-end generation.\n"
     ]
    },
    {
     "name": "stdout",
     "output_type": "stream",
     "text": [
      "logits is [[0.3471149  0.31115177 0.34173337]]\n",
      "logits is [[0.7106165  0.04760834 0.24177508]]\n"
     ]
    },
    {
     "name": "stderr",
     "output_type": "stream",
     "text": [
      " 90%|█████████ | 2593/2874 [06:35<00:37,  7.51it/s]Setting `pad_token_id` to `eos_token_id`:128001 for open-end generation.\n",
      " 90%|█████████ | 2594/2874 [06:36<00:37,  7.49it/s]Setting `pad_token_id` to `eos_token_id`:128001 for open-end generation.\n"
     ]
    },
    {
     "name": "stdout",
     "output_type": "stream",
     "text": [
      "logits is [[0.3149344  0.45822686 0.22683874]]\n",
      "logits is [[0.11638168 0.5910349  0.2925835 ]]\n"
     ]
    },
    {
     "name": "stderr",
     "output_type": "stream",
     "text": [
      " 90%|█████████ | 2595/2874 [06:36<00:37,  7.36it/s]Setting `pad_token_id` to `eos_token_id`:128001 for open-end generation.\n",
      " 90%|█████████ | 2596/2874 [06:36<00:35,  7.81it/s]Setting `pad_token_id` to `eos_token_id`:128001 for open-end generation.\n"
     ]
    },
    {
     "name": "stdout",
     "output_type": "stream",
     "text": [
      "logits is [[0.2612797 0.5445537 0.1941666]]\n",
      "logits is [[0.2790809  0.48220855 0.23871054]]\n"
     ]
    },
    {
     "name": "stderr",
     "output_type": "stream",
     "text": [
      " 90%|█████████ | 2597/2874 [06:36<00:37,  7.31it/s]Setting `pad_token_id` to `eos_token_id`:128001 for open-end generation.\n",
      " 90%|█████████ | 2598/2874 [06:36<00:37,  7.27it/s]Setting `pad_token_id` to `eos_token_id`:128001 for open-end generation.\n"
     ]
    },
    {
     "name": "stdout",
     "output_type": "stream",
     "text": [
      "logits is [[0.41058323 0.34038544 0.24903132]]\n",
      "logits is [[0.18384513 0.39532915 0.4208257 ]]\n"
     ]
    },
    {
     "name": "stderr",
     "output_type": "stream",
     "text": [
      " 90%|█████████ | 2599/2874 [06:36<00:38,  7.23it/s]Setting `pad_token_id` to `eos_token_id`:128001 for open-end generation.\n",
      " 90%|█████████ | 2600/2874 [06:36<00:36,  7.44it/s]Setting `pad_token_id` to `eos_token_id`:128001 for open-end generation.\n"
     ]
    },
    {
     "name": "stdout",
     "output_type": "stream",
     "text": [
      "logits is [[0.21185409 0.5326011  0.2555448 ]]\n",
      "logits is [[0.07085818 0.7617972  0.16734463]]\n"
     ]
    },
    {
     "name": "stderr",
     "output_type": "stream",
     "text": [
      " 91%|█████████ | 2601/2874 [06:37<00:41,  6.53it/s]Setting `pad_token_id` to `eos_token_id`:128001 for open-end generation.\n",
      " 91%|█████████ | 2602/2874 [06:37<00:42,  6.42it/s]Setting `pad_token_id` to `eos_token_id`:128001 for open-end generation.\n"
     ]
    },
    {
     "name": "stdout",
     "output_type": "stream",
     "text": [
      "logits is [[0.3193787  0.38524428 0.29537705]]\n",
      "logits is [[0.7694682  0.10093226 0.12959959]]\n"
     ]
    },
    {
     "name": "stderr",
     "output_type": "stream",
     "text": [
      " 91%|█████████ | 2603/2874 [06:37<00:41,  6.59it/s]Setting `pad_token_id` to `eos_token_id`:128001 for open-end generation.\n",
      " 91%|█████████ | 2604/2874 [06:37<00:38,  6.93it/s]Setting `pad_token_id` to `eos_token_id`:128001 for open-end generation.\n"
     ]
    },
    {
     "name": "stdout",
     "output_type": "stream",
     "text": [
      "logits is [[0.59431046 0.23273532 0.1729542 ]]\n",
      "logits is [[0.4055245  0.3523258  0.24214973]]\n"
     ]
    },
    {
     "name": "stderr",
     "output_type": "stream",
     "text": [
      " 91%|█████████ | 2605/2874 [06:37<00:42,  6.38it/s]Setting `pad_token_id` to `eos_token_id`:128001 for open-end generation.\n",
      " 91%|█████████ | 2606/2874 [06:37<00:38,  6.95it/s]Setting `pad_token_id` to `eos_token_id`:128001 for open-end generation.\n"
     ]
    },
    {
     "name": "stdout",
     "output_type": "stream",
     "text": [
      "logits is [[0.5233444  0.22159795 0.2550577 ]]\n",
      "logits is [[0.78575027 0.04164324 0.17260642]]\n"
     ]
    },
    {
     "name": "stderr",
     "output_type": "stream",
     "text": [
      " 91%|█████████ | 2607/2874 [06:37<00:36,  7.22it/s]Setting `pad_token_id` to `eos_token_id`:128001 for open-end generation.\n"
     ]
    },
    {
     "name": "stdout",
     "output_type": "stream",
     "text": [
      "logits is [[0.19131404 0.5985687  0.21011738]]\n"
     ]
    },
    {
     "name": "stderr",
     "output_type": "stream",
     "text": [
      " 91%|█████████ | 2608/2874 [06:38<00:46,  5.75it/s]Setting `pad_token_id` to `eos_token_id`:128001 for open-end generation.\n",
      " 91%|█████████ | 2609/2874 [06:38<00:41,  6.41it/s]Setting `pad_token_id` to `eos_token_id`:128001 for open-end generation.\n"
     ]
    },
    {
     "name": "stdout",
     "output_type": "stream",
     "text": [
      "logits is [[0.21791926 0.5741408  0.20794001]]\n",
      "logits is [[0.3198864  0.41074225 0.26937136]]\n"
     ]
    },
    {
     "name": "stderr",
     "output_type": "stream",
     "text": [
      " 91%|█████████ | 2610/2874 [06:38<00:41,  6.39it/s]Setting `pad_token_id` to `eos_token_id`:128001 for open-end generation.\n",
      " 91%|█████████ | 2611/2874 [06:38<00:40,  6.51it/s]Setting `pad_token_id` to `eos_token_id`:128001 for open-end generation.\n"
     ]
    },
    {
     "name": "stdout",
     "output_type": "stream",
     "text": [
      "logits is [[0.46988449 0.22195771 0.30815777]]\n",
      "logits is [[0.69310707 0.17252798 0.13436493]]\n"
     ]
    },
    {
     "name": "stderr",
     "output_type": "stream",
     "text": [
      " 91%|█████████ | 2612/2874 [06:38<00:39,  6.62it/s]Setting `pad_token_id` to `eos_token_id`:128001 for open-end generation.\n",
      " 91%|█████████ | 2613/2874 [06:38<00:38,  6.74it/s]Setting `pad_token_id` to `eos_token_id`:128001 for open-end generation.\n"
     ]
    },
    {
     "name": "stdout",
     "output_type": "stream",
     "text": [
      "logits is [[0.34513295 0.3731777  0.28168932]]\n",
      "logits is [[0.7023709  0.08004481 0.21758434]]\n"
     ]
    },
    {
     "name": "stderr",
     "output_type": "stream",
     "text": [
      " 91%|█████████ | 2614/2874 [06:39<00:37,  6.89it/s]Setting `pad_token_id` to `eos_token_id`:128001 for open-end generation.\n"
     ]
    },
    {
     "name": "stdout",
     "output_type": "stream",
     "text": [
      "logits is [[0.13845246 0.10129398 0.76025355]]\n"
     ]
    },
    {
     "name": "stderr",
     "output_type": "stream",
     "text": [
      " 91%|█████████ | 2615/2874 [06:39<00:46,  5.57it/s]Setting `pad_token_id` to `eos_token_id`:128001 for open-end generation.\n",
      " 91%|█████████ | 2616/2874 [06:39<00:47,  5.44it/s]"
     ]
    },
    {
     "name": "stdout",
     "output_type": "stream",
     "text": [
      "logits is [[0.6895713  0.10012132 0.21030737]]\n",
      "logits is [[0.22408223 0.4743821  0.3015356 ]]\n"
     ]
    },
    {
     "name": "stderr",
     "output_type": "stream",
     "text": [
      "Setting `pad_token_id` to `eos_token_id`:128001 for open-end generation.\n",
      " 91%|█████████ | 2617/2874 [06:39<00:44,  5.84it/s]Setting `pad_token_id` to `eos_token_id`:128001 for open-end generation.\n",
      " 91%|█████████ | 2618/2874 [06:39<00:39,  6.43it/s]Setting `pad_token_id` to `eos_token_id`:128001 for open-end generation.\n"
     ]
    },
    {
     "name": "stdout",
     "output_type": "stream",
     "text": [
      "logits is [[0.67247945 0.15481356 0.172707  ]]\n",
      "logits is [[0.50098974 0.17045316 0.3285571 ]]\n"
     ]
    },
    {
     "name": "stderr",
     "output_type": "stream",
     "text": [
      " 91%|█████████ | 2619/2874 [06:39<00:37,  6.89it/s]Setting `pad_token_id` to `eos_token_id`:128001 for open-end generation.\n",
      " 91%|█████████ | 2620/2874 [06:39<00:34,  7.31it/s]Setting `pad_token_id` to `eos_token_id`:128001 for open-end generation.\n"
     ]
    },
    {
     "name": "stdout",
     "output_type": "stream",
     "text": [
      "logits is [[0.6676556  0.05833909 0.2740053 ]]\n",
      "logits is [[0.31695417 0.28859004 0.39445582]]\n"
     ]
    },
    {
     "name": "stderr",
     "output_type": "stream",
     "text": [
      " 91%|█████████ | 2621/2874 [06:40<00:33,  7.49it/s]Setting `pad_token_id` to `eos_token_id`:128001 for open-end generation.\n"
     ]
    },
    {
     "name": "stdout",
     "output_type": "stream",
     "text": [
      "logits is [[0.21187556 0.1456198  0.6425047 ]]\n"
     ]
    },
    {
     "name": "stderr",
     "output_type": "stream",
     "text": [
      " 91%|█████████ | 2622/2874 [06:40<00:41,  6.13it/s]Setting `pad_token_id` to `eos_token_id`:128001 for open-end generation.\n"
     ]
    },
    {
     "name": "stdout",
     "output_type": "stream",
     "text": [
      "logits is [[0.15459262 0.27993107 0.5654763 ]]\n"
     ]
    },
    {
     "name": "stderr",
     "output_type": "stream",
     "text": [
      " 91%|█████████▏| 2623/2874 [06:40<00:46,  5.40it/s]Setting `pad_token_id` to `eos_token_id`:128001 for open-end generation.\n",
      " 91%|█████████▏| 2624/2874 [06:40<00:40,  6.12it/s]Setting `pad_token_id` to `eos_token_id`:128001 for open-end generation.\n"
     ]
    },
    {
     "name": "stdout",
     "output_type": "stream",
     "text": [
      "logits is [[0.15701991 0.45435214 0.38862798]]\n",
      "logits is [[0.34980723 0.25995466 0.39023817]]\n"
     ]
    },
    {
     "name": "stderr",
     "output_type": "stream",
     "text": [
      " 91%|█████████▏| 2625/2874 [06:40<00:37,  6.57it/s]Setting `pad_token_id` to `eos_token_id`:128001 for open-end generation.\n",
      " 91%|█████████▏| 2626/2874 [06:40<00:36,  6.88it/s]Setting `pad_token_id` to `eos_token_id`:128001 for open-end generation.\n"
     ]
    },
    {
     "name": "stdout",
     "output_type": "stream",
     "text": [
      "logits is [[0.8736294  0.02364806 0.1027225 ]]\n",
      "logits is [[0.4019443  0.28502122 0.31303453]]\n"
     ]
    },
    {
     "name": "stderr",
     "output_type": "stream",
     "text": [
      " 91%|█████████▏| 2627/2874 [06:41<00:34,  7.20it/s]Setting `pad_token_id` to `eos_token_id`:128001 for open-end generation.\n",
      " 91%|█████████▏| 2628/2874 [06:41<00:37,  6.58it/s]Setting `pad_token_id` to `eos_token_id`:128001 for open-end generation.\n"
     ]
    },
    {
     "name": "stdout",
     "output_type": "stream",
     "text": [
      "logits is [[0.40343088 0.13942198 0.4571471 ]]\n",
      "logits is [[0.16493818 0.6422295  0.19283228]]\n"
     ]
    },
    {
     "name": "stderr",
     "output_type": "stream",
     "text": [
      " 91%|█████████▏| 2629/2874 [06:41<00:34,  7.07it/s]Setting `pad_token_id` to `eos_token_id`:128001 for open-end generation.\n",
      " 92%|█████████▏| 2630/2874 [06:41<00:33,  7.38it/s]Setting `pad_token_id` to `eos_token_id`:128001 for open-end generation.\n"
     ]
    },
    {
     "name": "stdout",
     "output_type": "stream",
     "text": [
      "logits is [[0.38379514 0.36054218 0.25566268]]\n",
      "logits is [[0.03535938 0.6776891  0.2869516 ]]\n"
     ]
    },
    {
     "name": "stderr",
     "output_type": "stream",
     "text": [
      " 92%|█████████▏| 2631/2874 [06:41<00:35,  6.91it/s]Setting `pad_token_id` to `eos_token_id`:128001 for open-end generation.\n",
      " 92%|█████████▏| 2632/2874 [06:41<00:36,  6.66it/s]Setting `pad_token_id` to `eos_token_id`:128001 for open-end generation.\n"
     ]
    },
    {
     "name": "stdout",
     "output_type": "stream",
     "text": [
      "logits is [[0.47489727 0.27484947 0.2502533 ]]\n",
      "logits is [[0.7672932  0.10547712 0.12722968]]\n"
     ]
    },
    {
     "name": "stderr",
     "output_type": "stream",
     "text": [
      " 92%|█████████▏| 2633/2874 [06:41<00:34,  6.92it/s]Setting `pad_token_id` to `eos_token_id`:128001 for open-end generation.\n",
      " 92%|█████████▏| 2634/2874 [06:42<00:32,  7.39it/s]Setting `pad_token_id` to `eos_token_id`:128001 for open-end generation.\n"
     ]
    },
    {
     "name": "stdout",
     "output_type": "stream",
     "text": [
      "logits is [[0.5850272  0.2220513  0.19292149]]\n",
      "logits is [[0.8635719  0.03001514 0.10641293]]\n"
     ]
    },
    {
     "name": "stderr",
     "output_type": "stream",
     "text": [
      " 92%|█████████▏| 2635/2874 [06:42<00:38,  6.24it/s]Setting `pad_token_id` to `eos_token_id`:128001 for open-end generation.\n",
      " 92%|█████████▏| 2636/2874 [06:42<00:38,  6.16it/s]Setting `pad_token_id` to `eos_token_id`:128001 for open-end generation.\n"
     ]
    },
    {
     "name": "stdout",
     "output_type": "stream",
     "text": [
      "logits is [[0.3369618  0.18036266 0.48267552]]\n",
      "logits is [[0.8021636  0.06482475 0.13301176]]\n"
     ]
    },
    {
     "name": "stderr",
     "output_type": "stream",
     "text": [
      " 92%|█████████▏| 2637/2874 [06:42<00:35,  6.74it/s]Setting `pad_token_id` to `eos_token_id`:128001 for open-end generation.\n",
      " 92%|█████████▏| 2638/2874 [06:42<00:38,  6.12it/s]"
     ]
    },
    {
     "name": "stdout",
     "output_type": "stream",
     "text": [
      "logits is [[0.4648258  0.28637087 0.24880333]]\n",
      "logits is [[0.36340067 0.386838   0.24976139]]\n"
     ]
    },
    {
     "name": "stderr",
     "output_type": "stream",
     "text": [
      "Setting `pad_token_id` to `eos_token_id`:128001 for open-end generation.\n",
      " 92%|█████████▏| 2639/2874 [06:42<00:35,  6.64it/s]Setting `pad_token_id` to `eos_token_id`:128001 for open-end generation.\n",
      " 92%|█████████▏| 2640/2874 [06:43<00:37,  6.27it/s]Setting `pad_token_id` to `eos_token_id`:128001 for open-end generation.\n"
     ]
    },
    {
     "name": "stdout",
     "output_type": "stream",
     "text": [
      "logits is [[0.16067895 0.6455052  0.19381581]]\n",
      "logits is [[0.41531953 0.34431198 0.24036852]]\n"
     ]
    },
    {
     "name": "stderr",
     "output_type": "stream",
     "text": [
      " 92%|█████████▏| 2641/2874 [06:43<00:33,  6.87it/s]Setting `pad_token_id` to `eos_token_id`:128001 for open-end generation.\n",
      " 92%|█████████▏| 2642/2874 [06:43<00:32,  7.11it/s]Setting `pad_token_id` to `eos_token_id`:128001 for open-end generation.\n"
     ]
    },
    {
     "name": "stdout",
     "output_type": "stream",
     "text": [
      "logits is [[0.7356716  0.10272277 0.1616056 ]]\n",
      "logits is [[0.27853855 0.3748146  0.34664685]]\n"
     ]
    },
    {
     "name": "stderr",
     "output_type": "stream",
     "text": [
      " 92%|█████████▏| 2643/2874 [06:43<00:40,  5.73it/s]Setting `pad_token_id` to `eos_token_id`:128001 for open-end generation.\n"
     ]
    },
    {
     "name": "stdout",
     "output_type": "stream",
     "text": [
      "logits is [[0.53401953 0.24809974 0.21788077]]\n"
     ]
    },
    {
     "name": "stderr",
     "output_type": "stream",
     "text": [
      " 92%|█████████▏| 2644/2874 [06:43<00:44,  5.19it/s]Setting `pad_token_id` to `eos_token_id`:128001 for open-end generation.\n",
      " 92%|█████████▏| 2645/2874 [06:43<00:39,  5.84it/s]Setting `pad_token_id` to `eos_token_id`:128001 for open-end generation.\n"
     ]
    },
    {
     "name": "stdout",
     "output_type": "stream",
     "text": [
      "logits is [[0.5638529  0.2502082  0.18593895]]\n",
      "logits is [[0.21842076 0.2893605  0.4922188 ]]\n"
     ]
    },
    {
     "name": "stderr",
     "output_type": "stream",
     "text": [
      " 92%|█████████▏| 2646/2874 [06:44<00:35,  6.40it/s]Setting `pad_token_id` to `eos_token_id`:128001 for open-end generation.\n",
      " 92%|█████████▏| 2647/2874 [06:44<00:34,  6.59it/s]Setting `pad_token_id` to `eos_token_id`:128001 for open-end generation.\n"
     ]
    },
    {
     "name": "stdout",
     "output_type": "stream",
     "text": [
      "logits is [[0.58237165 0.17485969 0.24276862]]\n",
      "logits is [[0.79865825 0.06255575 0.13878599]]\n"
     ]
    },
    {
     "name": "stderr",
     "output_type": "stream",
     "text": [
      " 92%|█████████▏| 2648/2874 [06:44<00:31,  7.17it/s]Setting `pad_token_id` to `eos_token_id`:128001 for open-end generation.\n",
      " 92%|█████████▏| 2649/2874 [06:44<00:35,  6.37it/s]"
     ]
    },
    {
     "name": "stdout",
     "output_type": "stream",
     "text": [
      "logits is [[0.5082449  0.28958923 0.20216584]]\n",
      "logits is [[0.21862407 0.5759977  0.20537831]]\n"
     ]
    },
    {
     "name": "stderr",
     "output_type": "stream",
     "text": [
      "Setting `pad_token_id` to `eos_token_id`:128001 for open-end generation.\n",
      " 92%|█████████▏| 2650/2874 [06:44<00:37,  5.93it/s]Setting `pad_token_id` to `eos_token_id`:128001 for open-end generation.\n"
     ]
    },
    {
     "name": "stdout",
     "output_type": "stream",
     "text": [
      "logits is [[0.33905578 0.40897936 0.25196487]]\n"
     ]
    },
    {
     "name": "stderr",
     "output_type": "stream",
     "text": [
      " 92%|█████████▏| 2651/2874 [06:44<00:43,  5.15it/s]Setting `pad_token_id` to `eos_token_id`:128001 for open-end generation.\n",
      " 92%|█████████▏| 2652/2874 [06:45<00:38,  5.71it/s]Setting `pad_token_id` to `eos_token_id`:128001 for open-end generation.\n"
     ]
    },
    {
     "name": "stdout",
     "output_type": "stream",
     "text": [
      "logits is [[0.4033272  0.45971534 0.1369574 ]]\n",
      "logits is [[0.433119   0.20781276 0.35906824]]\n"
     ]
    },
    {
     "name": "stderr",
     "output_type": "stream",
     "text": [
      " 92%|█████████▏| 2653/2874 [06:45<00:44,  5.02it/s]Setting `pad_token_id` to `eos_token_id`:128001 for open-end generation.\n",
      " 92%|█████████▏| 2654/2874 [06:45<00:40,  5.48it/s]Setting `pad_token_id` to `eos_token_id`:128001 for open-end generation.\n"
     ]
    },
    {
     "name": "stdout",
     "output_type": "stream",
     "text": [
      "logits is [[0.36950508 0.19169672 0.43879816]]\n",
      "logits is [[0.15522921 0.67428493 0.17048593]]\n"
     ]
    },
    {
     "name": "stderr",
     "output_type": "stream",
     "text": [
      " 92%|█████████▏| 2655/2874 [06:45<00:40,  5.45it/s]Setting `pad_token_id` to `eos_token_id`:128001 for open-end generation.\n",
      " 92%|█████████▏| 2656/2874 [06:45<00:36,  5.99it/s]Setting `pad_token_id` to `eos_token_id`:128001 for open-end generation.\n"
     ]
    },
    {
     "name": "stdout",
     "output_type": "stream",
     "text": [
      "logits is [[0.40453202 0.26529858 0.3301694 ]]\n",
      "logits is [[0.37232542 0.3552754  0.2723991 ]]\n"
     ]
    },
    {
     "name": "stderr",
     "output_type": "stream",
     "text": [
      " 92%|█████████▏| 2657/2874 [06:46<00:42,  5.13it/s]Setting `pad_token_id` to `eos_token_id`:128001 for open-end generation.\n",
      " 92%|█████████▏| 2658/2874 [06:46<00:41,  5.22it/s]Setting `pad_token_id` to `eos_token_id`:128001 for open-end generation.\n"
     ]
    },
    {
     "name": "stdout",
     "output_type": "stream",
     "text": [
      "logits is [[0.3905506  0.36120027 0.24824907]]\n",
      "logits is [[0.72625    0.12620333 0.14754663]]\n"
     ]
    },
    {
     "name": "stderr",
     "output_type": "stream",
     "text": [
      " 93%|█████████▎| 2659/2874 [06:46<00:39,  5.45it/s]Setting `pad_token_id` to `eos_token_id`:128001 for open-end generation.\n",
      " 93%|█████████▎| 2660/2874 [06:46<00:34,  6.13it/s]Setting `pad_token_id` to `eos_token_id`:128001 for open-end generation.\n"
     ]
    },
    {
     "name": "stdout",
     "output_type": "stream",
     "text": [
      "logits is [[0.53091973 0.18930526 0.27977505]]\n",
      "logits is [[0.24862514 0.55159897 0.1997759 ]]\n"
     ]
    },
    {
     "name": "stderr",
     "output_type": "stream",
     "text": [
      " 93%|█████████▎| 2661/2874 [06:46<00:33,  6.35it/s]Setting `pad_token_id` to `eos_token_id`:128001 for open-end generation.\n",
      " 93%|█████████▎| 2662/2874 [06:46<00:30,  6.87it/s]Setting `pad_token_id` to `eos_token_id`:128001 for open-end generation.\n"
     ]
    },
    {
     "name": "stdout",
     "output_type": "stream",
     "text": [
      "logits is [[0.8106942  0.09095737 0.09834837]]\n",
      "logits is [[0.72205025 0.06115091 0.21679881]]\n"
     ]
    },
    {
     "name": "stderr",
     "output_type": "stream",
     "text": [
      " 93%|█████████▎| 2663/2874 [06:46<00:33,  6.37it/s]Setting `pad_token_id` to `eos_token_id`:128001 for open-end generation.\n",
      " 93%|█████████▎| 2664/2874 [06:47<00:34,  6.11it/s]Setting `pad_token_id` to `eos_token_id`:128001 for open-end generation.\n"
     ]
    },
    {
     "name": "stdout",
     "output_type": "stream",
     "text": [
      "logits is [[0.60583586 0.15317929 0.24098486]]\n",
      "logits is [[0.68007135 0.10593469 0.21399394]]\n"
     ]
    },
    {
     "name": "stderr",
     "output_type": "stream",
     "text": [
      " 93%|█████████▎| 2665/2874 [06:47<00:34,  6.08it/s]Setting `pad_token_id` to `eos_token_id`:128001 for open-end generation.\n",
      " 93%|█████████▎| 2666/2874 [06:47<00:33,  6.15it/s]Setting `pad_token_id` to `eos_token_id`:128001 for open-end generation.\n"
     ]
    },
    {
     "name": "stdout",
     "output_type": "stream",
     "text": [
      "logits is [[0.21665882 0.57980907 0.20353213]]\n",
      "logits is [[0.4707898  0.24808879 0.2811214 ]]\n"
     ]
    },
    {
     "name": "stderr",
     "output_type": "stream",
     "text": [
      " 93%|█████████▎| 2667/2874 [06:47<00:30,  6.69it/s]Setting `pad_token_id` to `eos_token_id`:128001 for open-end generation.\n",
      " 93%|█████████▎| 2668/2874 [06:47<00:28,  7.20it/s]Setting `pad_token_id` to `eos_token_id`:128001 for open-end generation.\n"
     ]
    },
    {
     "name": "stdout",
     "output_type": "stream",
     "text": [
      "logits is [[0.7009271  0.1162251  0.18284777]]\n",
      "logits is [[0.2755366  0.52287656 0.20158687]]\n"
     ]
    },
    {
     "name": "stderr",
     "output_type": "stream",
     "text": [
      " 93%|█████████▎| 2669/2874 [06:47<00:29,  6.93it/s]Setting `pad_token_id` to `eos_token_id`:128001 for open-end generation.\n",
      " 93%|█████████▎| 2670/2874 [06:47<00:29,  6.91it/s]Setting `pad_token_id` to `eos_token_id`:128001 for open-end generation.\n"
     ]
    },
    {
     "name": "stdout",
     "output_type": "stream",
     "text": [
      "logits is [[0.05865648 0.7606688  0.18067467]]\n",
      "logits is [[0.7121697  0.15401751 0.13381273]]\n"
     ]
    },
    {
     "name": "stderr",
     "output_type": "stream",
     "text": [
      " 93%|█████████▎| 2671/2874 [06:48<00:31,  6.38it/s]Setting `pad_token_id` to `eos_token_id`:128001 for open-end generation.\n",
      " 93%|█████████▎| 2672/2874 [06:48<00:32,  6.24it/s]Setting `pad_token_id` to `eos_token_id`:128001 for open-end generation.\n"
     ]
    },
    {
     "name": "stdout",
     "output_type": "stream",
     "text": [
      "logits is [[0.8059033  0.07979523 0.1143014 ]]\n",
      "logits is [[0.55232126 0.20638737 0.24129128]]\n"
     ]
    },
    {
     "name": "stderr",
     "output_type": "stream",
     "text": [
      " 93%|█████████▎| 2673/2874 [06:48<00:29,  6.84it/s]Setting `pad_token_id` to `eos_token_id`:128001 for open-end generation.\n",
      " 93%|█████████▎| 2674/2874 [06:48<00:29,  6.88it/s]Setting `pad_token_id` to `eos_token_id`:128001 for open-end generation.\n"
     ]
    },
    {
     "name": "stdout",
     "output_type": "stream",
     "text": [
      "logits is [[0.7369327  0.10616522 0.15690203]]\n",
      "logits is [[0.58062166 0.07267332 0.34670502]]\n"
     ]
    },
    {
     "name": "stderr",
     "output_type": "stream",
     "text": [
      " 93%|█████████▎| 2675/2874 [06:48<00:26,  7.42it/s]Setting `pad_token_id` to `eos_token_id`:128001 for open-end generation.\n",
      " 93%|█████████▎| 2676/2874 [06:48<00:25,  7.69it/s]Setting `pad_token_id` to `eos_token_id`:128001 for open-end generation.\n"
     ]
    },
    {
     "name": "stdout",
     "output_type": "stream",
     "text": [
      "logits is [[0.03112076 0.89538175 0.07349741]]\n",
      "logits is [[0.2885799  0.46841145 0.24300866]]\n"
     ]
    },
    {
     "name": "stderr",
     "output_type": "stream",
     "text": [
      " 93%|█████████▎| 2677/2874 [06:48<00:24,  7.96it/s]Setting `pad_token_id` to `eos_token_id`:128001 for open-end generation.\n",
      " 93%|█████████▎| 2678/2874 [06:49<00:25,  7.63it/s]Setting `pad_token_id` to `eos_token_id`:128001 for open-end generation.\n"
     ]
    },
    {
     "name": "stdout",
     "output_type": "stream",
     "text": [
      "logits is [[0.46537197 0.26105002 0.27357805]]\n",
      "logits is [[0.23358528 0.6058741  0.16054066]]\n"
     ]
    },
    {
     "name": "stderr",
     "output_type": "stream",
     "text": [
      " 93%|█████████▎| 2679/2874 [06:49<00:24,  7.85it/s]Setting `pad_token_id` to `eos_token_id`:128001 for open-end generation.\n",
      " 93%|█████████▎| 2680/2874 [06:49<00:24,  8.02it/s]Setting `pad_token_id` to `eos_token_id`:128001 for open-end generation.\n"
     ]
    },
    {
     "name": "stdout",
     "output_type": "stream",
     "text": [
      "logits is [[0.25424746 0.53824186 0.20751072]]\n",
      "logits is [[0.6658313  0.16316898 0.17099963]]\n"
     ]
    },
    {
     "name": "stderr",
     "output_type": "stream",
     "text": [
      " 93%|█████████▎| 2681/2874 [06:49<00:23,  8.21it/s]Setting `pad_token_id` to `eos_token_id`:128001 for open-end generation.\n",
      " 93%|█████████▎| 2682/2874 [06:49<00:23,  8.14it/s]Setting `pad_token_id` to `eos_token_id`:128001 for open-end generation.\n"
     ]
    },
    {
     "name": "stdout",
     "output_type": "stream",
     "text": [
      "logits is [[0.15844606 0.2341681  0.6073858 ]]\n",
      "logits is [[0.14824022 0.66436654 0.18739319]]\n"
     ]
    },
    {
     "name": "stderr",
     "output_type": "stream",
     "text": [
      " 93%|█████████▎| 2683/2874 [06:49<00:22,  8.32it/s]Setting `pad_token_id` to `eos_token_id`:128001 for open-end generation.\n",
      " 93%|█████████▎| 2684/2874 [06:49<00:22,  8.54it/s]Setting `pad_token_id` to `eos_token_id`:128001 for open-end generation.\n"
     ]
    },
    {
     "name": "stdout",
     "output_type": "stream",
     "text": [
      "logits is [[0.5233806  0.04944861 0.42717078]]\n",
      "logits is [[0.2656535  0.43798858 0.2963579 ]]\n"
     ]
    },
    {
     "name": "stderr",
     "output_type": "stream",
     "text": [
      " 93%|█████████▎| 2685/2874 [06:49<00:21,  8.71it/s]Setting `pad_token_id` to `eos_token_id`:128001 for open-end generation.\n",
      " 93%|█████████▎| 2686/2874 [06:50<00:24,  7.66it/s]Setting `pad_token_id` to `eos_token_id`:128001 for open-end generation.\n"
     ]
    },
    {
     "name": "stdout",
     "output_type": "stream",
     "text": [
      "logits is [[0.2399078  0.58457184 0.1755203 ]]\n",
      "logits is [[0.58526397 0.21869716 0.19603887]]\n"
     ]
    },
    {
     "name": "stderr",
     "output_type": "stream",
     "text": [
      " 93%|█████████▎| 2687/2874 [06:50<00:31,  5.92it/s]Setting `pad_token_id` to `eos_token_id`:128001 for open-end generation.\n",
      " 94%|█████████▎| 2688/2874 [06:50<00:28,  6.45it/s]Setting `pad_token_id` to `eos_token_id`:128001 for open-end generation.\n"
     ]
    },
    {
     "name": "stdout",
     "output_type": "stream",
     "text": [
      "logits is [[0.3028416  0.35130242 0.34585598]]\n",
      "logits is [[0.42348865 0.14635375 0.43015763]]\n"
     ]
    },
    {
     "name": "stderr",
     "output_type": "stream",
     "text": [
      " 94%|█████████▎| 2689/2874 [06:50<00:30,  5.99it/s]Setting `pad_token_id` to `eos_token_id`:128001 for open-end generation.\n",
      " 94%|█████████▎| 2690/2874 [06:50<00:27,  6.67it/s]Setting `pad_token_id` to `eos_token_id`:128001 for open-end generation.\n"
     ]
    },
    {
     "name": "stdout",
     "output_type": "stream",
     "text": [
      "logits is [[0.37977332 0.31980118 0.3004254 ]]\n",
      "logits is [[0.5590827  0.10181652 0.3391008 ]]\n"
     ]
    },
    {
     "name": "stderr",
     "output_type": "stream",
     "text": [
      " 94%|█████████▎| 2691/2874 [06:50<00:25,  7.10it/s]Setting `pad_token_id` to `eos_token_id`:128001 for open-end generation.\n",
      " 94%|█████████▎| 2692/2874 [06:51<00:26,  6.77it/s]Setting `pad_token_id` to `eos_token_id`:128001 for open-end generation.\n"
     ]
    },
    {
     "name": "stdout",
     "output_type": "stream",
     "text": [
      "logits is [[0.1917335 0.5461979 0.2620686]]\n",
      "logits is [[0.12220282 0.39447555 0.48332155]]\n"
     ]
    },
    {
     "name": "stderr",
     "output_type": "stream",
     "text": [
      " 94%|█████████▎| 2693/2874 [06:51<00:25,  7.14it/s]Setting `pad_token_id` to `eos_token_id`:128001 for open-end generation.\n"
     ]
    },
    {
     "name": "stdout",
     "output_type": "stream",
     "text": [
      "logits is [[0.67346925 0.05442466 0.27210617]]\n"
     ]
    },
    {
     "name": "stderr",
     "output_type": "stream",
     "text": [
      " 94%|█████████▎| 2694/2874 [06:51<00:30,  5.97it/s]Setting `pad_token_id` to `eos_token_id`:128001 for open-end generation.\n",
      " 94%|█████████▍| 2695/2874 [06:51<00:30,  5.95it/s]Setting `pad_token_id` to `eos_token_id`:128001 for open-end generation.\n"
     ]
    },
    {
     "name": "stdout",
     "output_type": "stream",
     "text": [
      "logits is [[0.3725548 0.3137226 0.3137226]]\n",
      "logits is [[0.81643075 0.04605987 0.13750938]]\n"
     ]
    },
    {
     "name": "stderr",
     "output_type": "stream",
     "text": [
      " 94%|█████████▍| 2696/2874 [06:51<00:27,  6.55it/s]Setting `pad_token_id` to `eos_token_id`:128001 for open-end generation.\n",
      " 94%|█████████▍| 2697/2874 [06:51<00:25,  7.07it/s]Setting `pad_token_id` to `eos_token_id`:128001 for open-end generation.\n"
     ]
    },
    {
     "name": "stdout",
     "output_type": "stream",
     "text": [
      "logits is [[0.14054288 0.7026702  0.15678692]]\n",
      "logits is [[0.11299963 0.6401865  0.24681388]]\n"
     ]
    },
    {
     "name": "stderr",
     "output_type": "stream",
     "text": [
      " 94%|█████████▍| 2698/2874 [06:51<00:23,  7.49it/s]Setting `pad_token_id` to `eos_token_id`:128001 for open-end generation.\n",
      " 94%|█████████▍| 2699/2874 [06:52<00:25,  6.80it/s]Setting `pad_token_id` to `eos_token_id`:128001 for open-end generation.\n"
     ]
    },
    {
     "name": "stdout",
     "output_type": "stream",
     "text": [
      "logits is [[0.6623402  0.13247637 0.20518343]]\n",
      "logits is [[0.26741177 0.46932226 0.26326594]]\n"
     ]
    },
    {
     "name": "stderr",
     "output_type": "stream",
     "text": [
      " 94%|█████████▍| 2700/2874 [06:52<00:26,  6.61it/s]Setting `pad_token_id` to `eos_token_id`:128001 for open-end generation.\n",
      " 94%|█████████▍| 2701/2874 [06:52<00:28,  6.12it/s]"
     ]
    },
    {
     "name": "stdout",
     "output_type": "stream",
     "text": [
      "logits is [[0.2884496  0.4609411  0.25060934]]\n",
      "logits is [[0.45379096 0.27523813 0.27097094]]\n"
     ]
    },
    {
     "name": "stderr",
     "output_type": "stream",
     "text": [
      "Setting `pad_token_id` to `eos_token_id`:128001 for open-end generation.\n",
      " 94%|█████████▍| 2702/2874 [06:52<00:28,  6.07it/s]Setting `pad_token_id` to `eos_token_id`:128001 for open-end generation.\n",
      " 94%|█████████▍| 2703/2874 [06:52<00:28,  6.05it/s]Setting `pad_token_id` to `eos_token_id`:128001 for open-end generation.\n"
     ]
    },
    {
     "name": "stdout",
     "output_type": "stream",
     "text": [
      "logits is [[0.31718776 0.4543505  0.22846177]]\n",
      "logits is [[0.20941924 0.3675422  0.42303848]]\n"
     ]
    },
    {
     "name": "stderr",
     "output_type": "stream",
     "text": [
      " 94%|█████████▍| 2704/2874 [06:52<00:25,  6.59it/s]Setting `pad_token_id` to `eos_token_id`:128001 for open-end generation.\n",
      " 94%|█████████▍| 2705/2874 [06:53<00:24,  6.99it/s]Setting `pad_token_id` to `eos_token_id`:128001 for open-end generation.\n"
     ]
    },
    {
     "name": "stdout",
     "output_type": "stream",
     "text": [
      "logits is [[0.63955647 0.1591982  0.20124537]]\n",
      "logits is [[0.2755366  0.52287656 0.20158687]]\n"
     ]
    },
    {
     "name": "stderr",
     "output_type": "stream",
     "text": [
      " 94%|█████████▍| 2706/2874 [06:53<00:26,  6.23it/s]Setting `pad_token_id` to `eos_token_id`:128001 for open-end generation.\n",
      " 94%|█████████▍| 2707/2874 [06:53<00:24,  6.77it/s]Setting `pad_token_id` to `eos_token_id`:128001 for open-end generation.\n"
     ]
    },
    {
     "name": "stdout",
     "output_type": "stream",
     "text": [
      "logits is [[0.19109204 0.62656665 0.18234128]]\n",
      "logits is [[0.84412324 0.06408264 0.09179415]]\n"
     ]
    },
    {
     "name": "stderr",
     "output_type": "stream",
     "text": [
      " 94%|█████████▍| 2708/2874 [06:53<00:22,  7.27it/s]Setting `pad_token_id` to `eos_token_id`:128001 for open-end generation.\n",
      " 94%|█████████▍| 2709/2874 [06:53<00:21,  7.60it/s]Setting `pad_token_id` to `eos_token_id`:128001 for open-end generation.\n"
     ]
    },
    {
     "name": "stdout",
     "output_type": "stream",
     "text": [
      "logits is [[0.7227689  0.11084021 0.16639085]]\n",
      "logits is [[0.80478054 0.04400572 0.15121378]]\n"
     ]
    },
    {
     "name": "stderr",
     "output_type": "stream",
     "text": [
      " 94%|█████████▍| 2710/2874 [06:53<00:20,  7.83it/s]Setting `pad_token_id` to `eos_token_id`:128001 for open-end generation.\n",
      " 94%|█████████▍| 2711/2874 [06:53<00:20,  8.14it/s]Setting `pad_token_id` to `eos_token_id`:128001 for open-end generation.\n"
     ]
    },
    {
     "name": "stdout",
     "output_type": "stream",
     "text": [
      "logits is [[0.14800844 0.71722835 0.13476321]]\n",
      "logits is [[0.33392558 0.3667455  0.29932895]]\n"
     ]
    },
    {
     "name": "stderr",
     "output_type": "stream",
     "text": [
      " 94%|█████████▍| 2712/2874 [06:53<00:19,  8.33it/s]Setting `pad_token_id` to `eos_token_id`:128001 for open-end generation.\n",
      " 94%|█████████▍| 2713/2874 [06:54<00:22,  7.15it/s]Setting `pad_token_id` to `eos_token_id`:128001 for open-end generation.\n"
     ]
    },
    {
     "name": "stdout",
     "output_type": "stream",
     "text": [
      "logits is [[0.2881503  0.43256485 0.27928486]]\n",
      "logits is [[0.35909644 0.38225615 0.25864744]]\n"
     ]
    },
    {
     "name": "stderr",
     "output_type": "stream",
     "text": [
      " 94%|█████████▍| 2714/2874 [06:54<00:21,  7.45it/s]Setting `pad_token_id` to `eos_token_id`:128001 for open-end generation.\n",
      " 94%|█████████▍| 2715/2874 [06:54<00:20,  7.79it/s]Setting `pad_token_id` to `eos_token_id`:128001 for open-end generation.\n"
     ]
    },
    {
     "name": "stdout",
     "output_type": "stream",
     "text": [
      "logits is [[0.63746786 0.18551372 0.17701843]]\n",
      "logits is [[0.33340448 0.4149286  0.2516669 ]]\n"
     ]
    },
    {
     "name": "stderr",
     "output_type": "stream",
     "text": [
      " 95%|█████████▍| 2716/2874 [06:54<00:20,  7.87it/s]Setting `pad_token_id` to `eos_token_id`:128001 for open-end generation.\n",
      " 95%|█████████▍| 2717/2874 [06:54<00:21,  7.18it/s]Setting `pad_token_id` to `eos_token_id`:128001 for open-end generation.\n"
     ]
    },
    {
     "name": "stdout",
     "output_type": "stream",
     "text": [
      "logits is [[0.23063304 0.47322828 0.2961387 ]]\n",
      "logits is [[0.9059322  0.01970435 0.07436344]]\n"
     ]
    },
    {
     "name": "stderr",
     "output_type": "stream",
     "text": [
      " 95%|█████████▍| 2718/2874 [06:54<00:22,  6.87it/s]Setting `pad_token_id` to `eos_token_id`:128001 for open-end generation.\n",
      " 95%|█████████▍| 2719/2874 [06:54<00:24,  6.39it/s]Setting `pad_token_id` to `eos_token_id`:128001 for open-end generation.\n"
     ]
    },
    {
     "name": "stdout",
     "output_type": "stream",
     "text": [
      "logits is [[0.08547433 0.83670044 0.07782527]]\n",
      "logits is [[0.20053466 0.6081138  0.1913515 ]]\n"
     ]
    },
    {
     "name": "stderr",
     "output_type": "stream",
     "text": [
      " 95%|█████████▍| 2720/2874 [06:55<00:22,  6.71it/s]Setting `pad_token_id` to `eos_token_id`:128001 for open-end generation.\n",
      " 95%|█████████▍| 2721/2874 [06:55<00:24,  6.24it/s]Setting `pad_token_id` to `eos_token_id`:128001 for open-end generation.\n"
     ]
    },
    {
     "name": "stdout",
     "output_type": "stream",
     "text": [
      "logits is [[0.6945539  0.17288814 0.13255793]]\n",
      "logits is [[0.48485228 0.25153804 0.26360962]]\n"
     ]
    },
    {
     "name": "stderr",
     "output_type": "stream",
     "text": [
      " 95%|█████████▍| 2722/2874 [06:55<00:22,  6.88it/s]Setting `pad_token_id` to `eos_token_id`:128001 for open-end generation.\n",
      " 95%|█████████▍| 2723/2874 [06:55<00:20,  7.42it/s]Setting `pad_token_id` to `eos_token_id`:128001 for open-end generation.\n"
     ]
    },
    {
     "name": "stdout",
     "output_type": "stream",
     "text": [
      "logits is [[0.49992383 0.23248617 0.26758996]]\n",
      "logits is [[0.1260825  0.08940588 0.7845116 ]]\n"
     ]
    },
    {
     "name": "stderr",
     "output_type": "stream",
     "text": [
      " 95%|█████████▍| 2724/2874 [06:55<00:20,  7.22it/s]Setting `pad_token_id` to `eos_token_id`:128001 for open-end generation.\n",
      " 95%|█████████▍| 2725/2874 [06:55<00:19,  7.57it/s]Setting `pad_token_id` to `eos_token_id`:128001 for open-end generation.\n"
     ]
    },
    {
     "name": "stdout",
     "output_type": "stream",
     "text": [
      "logits is [[0.69303894 0.12043211 0.1865289 ]]\n",
      "logits is [[0.41541716 0.29000792 0.2945749 ]]\n"
     ]
    },
    {
     "name": "stderr",
     "output_type": "stream",
     "text": [
      " 95%|█████████▍| 2726/2874 [06:55<00:18,  7.80it/s]Setting `pad_token_id` to `eos_token_id`:128001 for open-end generation.\n",
      " 95%|█████████▍| 2727/2874 [06:55<00:18,  8.08it/s]Setting `pad_token_id` to `eos_token_id`:128001 for open-end generation.\n"
     ]
    },
    {
     "name": "stdout",
     "output_type": "stream",
     "text": [
      "logits is [[0.704164   0.10631286 0.18952318]]\n",
      "logits is [[0.20469782 0.2886702  0.506632  ]]\n"
     ]
    },
    {
     "name": "stderr",
     "output_type": "stream",
     "text": [
      " 95%|█████████▍| 2728/2874 [06:56<00:17,  8.21it/s]Setting `pad_token_id` to `eos_token_id`:128001 for open-end generation.\n",
      " 95%|█████████▍| 2729/2874 [06:56<00:18,  7.81it/s]Setting `pad_token_id` to `eos_token_id`:128001 for open-end generation.\n"
     ]
    },
    {
     "name": "stdout",
     "output_type": "stream",
     "text": [
      "logits is [[0.75180715 0.08304269 0.16515012]]\n",
      "logits is [[0.30488002 0.45767915 0.23744081]]\n"
     ]
    },
    {
     "name": "stderr",
     "output_type": "stream",
     "text": [
      " 95%|█████████▍| 2730/2874 [06:56<00:17,  8.01it/s]Setting `pad_token_id` to `eos_token_id`:128001 for open-end generation.\n",
      " 95%|█████████▌| 2731/2874 [06:56<00:17,  8.10it/s]Setting `pad_token_id` to `eos_token_id`:128001 for open-end generation.\n"
     ]
    },
    {
     "name": "stdout",
     "output_type": "stream",
     "text": [
      "logits is [[0.48389834 0.11493593 0.4011658 ]]\n",
      "logits is [[0.06997336 0.71783495 0.2121916 ]]\n"
     ]
    },
    {
     "name": "stderr",
     "output_type": "stream",
     "text": [
      " 95%|█████████▌| 2732/2874 [06:56<00:23,  6.05it/s]Setting `pad_token_id` to `eos_token_id`:128001 for open-end generation.\n",
      " 95%|█████████▌| 2733/2874 [06:56<00:22,  6.28it/s]Setting `pad_token_id` to `eos_token_id`:128001 for open-end generation.\n"
     ]
    },
    {
     "name": "stdout",
     "output_type": "stream",
     "text": [
      "logits is [[0.69916505 0.29836702 0.00246799]]\n",
      "logits is [[0.08865453 0.12117637 0.7901692 ]]\n"
     ]
    },
    {
     "name": "stderr",
     "output_type": "stream",
     "text": [
      " 95%|█████████▌| 2734/2874 [06:57<00:22,  6.22it/s]Setting `pad_token_id` to `eos_token_id`:128001 for open-end generation.\n",
      " 95%|█████████▌| 2735/2874 [06:57<00:20,  6.62it/s]Setting `pad_token_id` to `eos_token_id`:128001 for open-end generation.\n"
     ]
    },
    {
     "name": "stdout",
     "output_type": "stream",
     "text": [
      "logits is [[0.7221819  0.12163528 0.1561828 ]]\n",
      "logits is [[0.65392363 0.13706984 0.20900655]]\n"
     ]
    },
    {
     "name": "stderr",
     "output_type": "stream",
     "text": [
      " 95%|█████████▌| 2736/2874 [06:57<00:20,  6.88it/s]Setting `pad_token_id` to `eos_token_id`:128001 for open-end generation.\n",
      " 95%|█████████▌| 2737/2874 [06:57<00:18,  7.25it/s]Setting `pad_token_id` to `eos_token_id`:128001 for open-end generation.\n"
     ]
    },
    {
     "name": "stdout",
     "output_type": "stream",
     "text": [
      "logits is [[0.56318533 0.14463796 0.2921767 ]]\n",
      "logits is [[0.13507316 0.7188779  0.1460489 ]]\n"
     ]
    },
    {
     "name": "stderr",
     "output_type": "stream",
     "text": [
      " 95%|█████████▌| 2738/2874 [06:57<00:18,  7.20it/s]Setting `pad_token_id` to `eos_token_id`:128001 for open-end generation.\n",
      " 95%|█████████▌| 2739/2874 [06:57<00:17,  7.72it/s]Setting `pad_token_id` to `eos_token_id`:128001 for open-end generation.\n"
     ]
    },
    {
     "name": "stdout",
     "output_type": "stream",
     "text": [
      "logits is [[0.45183253 0.27836594 0.26980153]]\n",
      "logits is [[0.8201345  0.05409374 0.1257717 ]]\n"
     ]
    },
    {
     "name": "stderr",
     "output_type": "stream",
     "text": [
      " 95%|█████████▌| 2740/2874 [06:57<00:17,  7.52it/s]Setting `pad_token_id` to `eos_token_id`:128001 for open-end generation.\n"
     ]
    }
   ],
   "source": [
    "sub_pred = inference(model = model0, test_dataloader = test_dataloader)"
   ]
  },
  {
   "cell_type": "code",
   "execution_count": 15,
   "id": "87381f51-1930-4d19-8c61-c0196e9196a8",
   "metadata": {},
   "outputs": [],
   "source": [
    "# 提取数据\n",
    "processed_data = []\n",
    "for item in sub_pred:\n",
    "    item = item[0]\n",
    "    id = item[0].item()  # 获取id\n",
    "    array_values = item[1].tolist()  # 获取array并转换为列表\n",
    "    processed_data.append([id] + array_values)"
   ]
  },
  {
   "cell_type": "code",
   "execution_count": 16,
   "id": "6ad7e3bf-a0b1-4249-ba3c-68b6e632dc3f",
   "metadata": {},
   "outputs": [],
   "source": [
    "new_columns = ['id', 'winner_model_a', 'winner_model_b', 'winner_tie']\n",
    "df = pd.DataFrame(processed_data, columns=new_columns)"
   ]
  },
  {
   "cell_type": "code",
   "execution_count": 17,
   "id": "7b08e7ca-463a-4554-b57d-0b0385d21238",
   "metadata": {},
   "outputs": [],
   "source": [
    "df = df.groupby('id').mean().reset_index()"
   ]
  },
  {
   "cell_type": "code",
   "execution_count": 18,
   "id": "ef037aac-5011-48eb-ad82-e1f35d2ee2b9",
   "metadata": {},
   "outputs": [
    {
     "data": {
      "text/html": [
       "<div>\n",
       "<style scoped>\n",
       "    .dataframe tbody tr th:only-of-type {\n",
       "        vertical-align: middle;\n",
       "    }\n",
       "\n",
       "    .dataframe tbody tr th {\n",
       "        vertical-align: top;\n",
       "    }\n",
       "\n",
       "    .dataframe thead th {\n",
       "        text-align: right;\n",
       "    }\n",
       "</style>\n",
       "<table border=\"1\" class=\"dataframe\">\n",
       "  <thead>\n",
       "    <tr style=\"text-align: right;\">\n",
       "      <th></th>\n",
       "      <th>id</th>\n",
       "      <th>winner_model_a</th>\n",
       "      <th>winner_model_b</th>\n",
       "      <th>winner_tie</th>\n",
       "    </tr>\n",
       "  </thead>\n",
       "  <tbody>\n",
       "    <tr>\n",
       "      <th>0</th>\n",
       "      <td>30192</td>\n",
       "      <td>0.753196</td>\n",
       "      <td>0.091373</td>\n",
       "      <td>0.155431</td>\n",
       "    </tr>\n",
       "    <tr>\n",
       "      <th>1</th>\n",
       "      <td>1256092</td>\n",
       "      <td>0.651818</td>\n",
       "      <td>0.096884</td>\n",
       "      <td>0.251298</td>\n",
       "    </tr>\n",
       "    <tr>\n",
       "      <th>2</th>\n",
       "      <td>3258431</td>\n",
       "      <td>0.499254</td>\n",
       "      <td>0.225031</td>\n",
       "      <td>0.275714</td>\n",
       "    </tr>\n",
       "    <tr>\n",
       "      <th>3</th>\n",
       "      <td>4186011</td>\n",
       "      <td>0.203963</td>\n",
       "      <td>0.572028</td>\n",
       "      <td>0.224009</td>\n",
       "    </tr>\n",
       "    <tr>\n",
       "      <th>4</th>\n",
       "      <td>5717448</td>\n",
       "      <td>0.419157</td>\n",
       "      <td>0.283616</td>\n",
       "      <td>0.297227</td>\n",
       "    </tr>\n",
       "    <tr>\n",
       "      <th>...</th>\n",
       "      <td>...</td>\n",
       "      <td>...</td>\n",
       "      <td>...</td>\n",
       "      <td>...</td>\n",
       "    </tr>\n",
       "    <tr>\n",
       "      <th>2869</th>\n",
       "      <td>4287311513</td>\n",
       "      <td>0.482848</td>\n",
       "      <td>0.250498</td>\n",
       "      <td>0.266654</td>\n",
       "    </tr>\n",
       "    <tr>\n",
       "      <th>2870</th>\n",
       "      <td>4289792977</td>\n",
       "      <td>0.245108</td>\n",
       "      <td>0.430177</td>\n",
       "      <td>0.324715</td>\n",
       "    </tr>\n",
       "    <tr>\n",
       "      <th>2871</th>\n",
       "      <td>4291367819</td>\n",
       "      <td>0.394795</td>\n",
       "      <td>0.228490</td>\n",
       "      <td>0.376716</td>\n",
       "    </tr>\n",
       "    <tr>\n",
       "      <th>2872</th>\n",
       "      <td>4292709507</td>\n",
       "      <td>0.510546</td>\n",
       "      <td>0.216179</td>\n",
       "      <td>0.273276</td>\n",
       "    </tr>\n",
       "    <tr>\n",
       "      <th>2873</th>\n",
       "      <td>4293918673</td>\n",
       "      <td>0.612757</td>\n",
       "      <td>0.079130</td>\n",
       "      <td>0.308113</td>\n",
       "    </tr>\n",
       "  </tbody>\n",
       "</table>\n",
       "<p>2874 rows × 4 columns</p>\n",
       "</div>"
      ],
      "text/plain": [
       "              id  winner_model_a  winner_model_b  winner_tie\n",
       "0          30192        0.753196        0.091373    0.155431\n",
       "1        1256092        0.651818        0.096884    0.251298\n",
       "2        3258431        0.499254        0.225031    0.275714\n",
       "3        4186011        0.203963        0.572028    0.224009\n",
       "4        5717448        0.419157        0.283616    0.297227\n",
       "...          ...             ...             ...         ...\n",
       "2869  4287311513        0.482848        0.250498    0.266654\n",
       "2870  4289792977        0.245108        0.430177    0.324715\n",
       "2871  4291367819        0.394795        0.228490    0.376716\n",
       "2872  4292709507        0.510546        0.216179    0.273276\n",
       "2873  4293918673        0.612757        0.079130    0.308113\n",
       "\n",
       "[2874 rows x 4 columns]"
      ]
     },
     "execution_count": 18,
     "metadata": {},
     "output_type": "execute_result"
    }
   ],
   "source": [
    "df"
   ]
  },
  {
   "cell_type": "code",
   "execution_count": 19,
   "id": "09478421-4446-4043-bf81-e7d2567e798f",
   "metadata": {},
   "outputs": [],
   "source": [
    "str2num = {'A':0, \"B\":1, \"C\":2}"
   ]
  },
  {
   "cell_type": "code",
   "execution_count": 20,
   "id": "393efd7c-10ff-4af1-9a9d-7fdb561faced",
   "metadata": {},
   "outputs": [],
   "source": [
    "test['label_number'] = test.label.map(str2num)"
   ]
  },
  {
   "cell_type": "code",
   "execution_count": 21,
   "id": "ddf1c332-1191-46e5-8169-c1e1a1e4829e",
   "metadata": {},
   "outputs": [],
   "source": [
    "from sklearn.metrics import log_loss"
   ]
  },
  {
   "cell_type": "code",
   "execution_count": 22,
   "id": "6daa8e70-9a67-4a7f-89a1-81dac569fe7b",
   "metadata": {},
   "outputs": [],
   "source": [
    "prediction = np.array(df[new_columns[1:]])"
   ]
  },
  {
   "cell_type": "code",
   "execution_count": 23,
   "id": "d02d8404-ca77-4f95-8880-5220225f23a2",
   "metadata": {},
   "outputs": [],
   "source": [
    "test = test.drop_duplicates(subset = ['id']).reset_index(drop = True)"
   ]
  },
  {
   "cell_type": "code",
   "execution_count": 24,
   "id": "ec914b91-dce9-4fa8-91c2-b850ace35f3f",
   "metadata": {},
   "outputs": [
    {
     "name": "stderr",
     "output_type": "stream",
     "text": [
      "/root/miniconda3/lib/python3.10/site-packages/sklearn/metrics/_classification.py:2981: UserWarning: The y_pred values do not sum to one. Starting from 1.5 thiswill result in an error.\n",
      "  warnings.warn(\n"
     ]
    },
    {
     "data": {
      "text/plain": [
       "1.0390428347304115"
      ]
     },
     "execution_count": 24,
     "metadata": {},
     "output_type": "execute_result"
    }
   ],
   "source": [
    "log_loss(test.label_number, prediction)"
   ]
  },
  {
   "cell_type": "code",
   "execution_count": null,
   "id": "c18da3c9-f88c-462e-8f63-443825225783",
   "metadata": {},
   "outputs": [],
   "source": [
    "3.176938522630114"
   ]
  },
  {
   "cell_type": "code",
   "execution_count": null,
   "id": "20fc61cc-7b0c-417f-b743-ccae5dbd8d86",
   "metadata": {},
   "outputs": [],
   "source": [
    "test['label'][:12]"
   ]
  },
  {
   "cell_type": "code",
   "execution_count": null,
   "id": "accb6200-653d-417e-9d16-5de503023354",
   "metadata": {},
   "outputs": [],
   "source": []
  }
 ],
 "metadata": {
  "kernelspec": {
   "display_name": "Python 3 (ipykernel)",
   "language": "python",
   "name": "python3"
  },
  "language_info": {
   "codemirror_mode": {
    "name": "ipython",
    "version": 3
   },
   "file_extension": ".py",
   "mimetype": "text/x-python",
   "name": "python",
   "nbconvert_exporter": "python",
   "pygments_lexer": "ipython3",
   "version": "3.10.8"
  }
 },
 "nbformat": 4,
 "nbformat_minor": 5
}
