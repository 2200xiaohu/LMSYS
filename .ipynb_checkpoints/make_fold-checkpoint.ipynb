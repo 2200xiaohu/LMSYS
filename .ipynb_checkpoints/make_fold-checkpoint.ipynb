{
 "cells": [
  {
   "cell_type": "code",
   "execution_count": 8,
   "id": "99f33e55-b0e9-4823-bce3-ed037bfcdb89",
   "metadata": {},
   "outputs": [],
   "source": [
    "import pandas as pd\n",
    "\n",
    "from typing import Optional, Union\n",
    "import pandas as pd, numpy as np, torch\n",
    "from dataclasses import dataclass\n",
    "from transformers import AutoTokenizer, AutoConfig\n",
    "from transformers import EarlyStoppingCallback\n",
    "from transformers.tokenization_utils_base import PreTrainedTokenizerBase, PaddingStrategy\n",
    "from transformers import AutoModelForMultipleChoice, TrainingArguments, Trainer, RobertaForMultipleChoice\n",
    "import argparse\n",
    "from transformers import get_polynomial_decay_schedule_with_warmup, TrainerCallback\n",
    "import datasets\n",
    "from datasets import Dataset"
   ]
  },
  {
   "cell_type": "code",
   "execution_count": 9,
   "id": "d4b28f0e-8a8a-4b4f-bada-23d4e01ec161",
   "metadata": {},
   "outputs": [],
   "source": [
    "df_train = pd.read_csv(\"dataset/random_train.csv\")"
   ]
  },
  {
   "cell_type": "code",
   "execution_count": null,
   "id": "46fba1d3-1921-4ac8-a2bb-09e6d5f1c49f",
   "metadata": {},
   "outputs": [],
   "source": [
    "def process(input_str):\n",
    "    stripped_str = input_str.strip('[]')\n",
    "    sentences = [s.strip('\"') for s in stripped_str.split('\",\"')]\n",
    "    return  ' '.join(sentences)"
   ]
  },
  {
   "cell_type": "code",
   "execution_count": null,
   "id": "514b3b1f-951e-47c4-95b3-148c5a25a638",
   "metadata": {},
   "outputs": [],
   "source": [
    "df_train.loc[:, 'prompt'] = df_train['prompt'].apply(process)\n",
    "df_train.loc[:, 'response_a'] = df_train['response_a'].apply(process)\n",
    "df_train.loc[:, 'response_b'] = df_train['response_b'].apply(process)"
   ]
  },
  {
   "cell_type": "code",
   "execution_count": null,
   "id": "949f259b-e015-4929-a424-a4b8bbaa825f",
   "metadata": {},
   "outputs": [],
   "source": [
    "t = df_train.loc[df_train.index % 4 != 0,].reset_index(drop = True)"
   ]
  },
  {
   "cell_type": "code",
   "execution_count": null,
   "id": "b4c1474a-be0f-4dc7-b351-53c5246efca4",
   "metadata": {},
   "outputs": [],
   "source": [
    "t.loc[20,:]"
   ]
  },
  {
   "cell_type": "code",
   "execution_count": null,
   "id": "70207271-567d-407b-b89a-4fc26ea46deb",
   "metadata": {},
   "outputs": [],
   "source": [
    "def get_label(row):\n",
    "    label = [idx for idx, option in enumerate(['winner_model_a','winner_model_b','winner_tie']) if row[option] == 1]\n",
    "    return label[-1]\n",
    "    \n",
    "df_train = pd.read_csv('dataset/train.csv').reset_index(drop = True)\n",
    "df_train['label'] = df_train.apply(lambda x: get_label(x), axis = 1)"
   ]
  },
  {
   "cell_type": "code",
   "execution_count": null,
   "id": "77566547-d715-4100-81b3-8a4632b60d40",
   "metadata": {},
   "outputs": [],
   "source": [
    "df_train.loc[df_train.index % 4 != 0,]"
   ]
  },
  {
   "cell_type": "code",
   "execution_count": null,
   "id": "6a5911c8-6e58-4d4e-9637-9e237c091ca3",
   "metadata": {},
   "outputs": [],
   "source": [
    "df_train.loc[df_train.index % 20 == 0,].reset_index(drop = True).to_csv('dataset/random_valid.csv')\n",
    "df_train.loc[df_train.index % 20 != 0,].reset_index(drop = True).to_csv('dataset/random_train.csv')"
   ]
  },
  {
   "cell_type": "code",
   "execution_count": null,
   "id": "11551a59-2783-42cb-9ce0-c66c170576d9",
   "metadata": {},
   "outputs": [],
   "source": [
    "df_train.loc[df_train.index % 20 == 0,]"
   ]
  },
  {
   "cell_type": "markdown",
   "id": "d9624737-5529-4d7b-8ede-3a9e86a05330",
   "metadata": {},
   "source": [
    "# For instruction"
   ]
  },
  {
   "cell_type": "code",
   "execution_count": 141,
   "id": "752d005a-daf6-4c0b-bbf3-ad7de43f32d6",
   "metadata": {},
   "outputs": [],
   "source": [
    "def get_label(row):\n",
    "    label = [idx for idx, option in enumerate(['winner_model_a','winner_model_b','winner_tie']) if row[option] == 1]\n",
    "    if label[-1] == 0:\n",
    "        return 'A'\n",
    "    elif label[-1] == 1:\n",
    "        return 'B'\n",
    "    else:\n",
    "        return 'C'\n",
    "    return label[-1]\n",
    "    \n",
    "train = pd.read_csv('dataset/train.csv').reset_index(drop = True)\n",
    "train['label'] = train.apply(lambda x: get_label(x), axis = 1)"
   ]
  },
  {
   "cell_type": "code",
   "execution_count": 142,
   "id": "77f51266-81b1-406f-b41c-a16bbcd245fe",
   "metadata": {},
   "outputs": [],
   "source": [
    "def preprocess(row):\n",
    "    row['response_a'] = row['response_a'].replace(\"null\",'\"null\"')\n",
    "    row['response_b'] = row['response_b'].replace(\"null\",'\"null\"')\n",
    "    if row['prompt'][-3:] == ',\"]':\n",
    "        row['prompt'] = row['prompt'][:-3] + ']'\n",
    "    return row"
   ]
  },
  {
   "cell_type": "code",
   "execution_count": 143,
   "id": "a0c0a65f-0e04-4ca2-b7f3-c999d7f621b5",
   "metadata": {},
   "outputs": [],
   "source": [
    "train= train.apply(lambda x: preprocess(x), axis = 1)"
   ]
  },
  {
   "cell_type": "code",
   "execution_count": 144,
   "id": "9b394b59-7ae4-4f5c-9d96-f525d9d83c65",
   "metadata": {
    "scrolled": true
   },
   "outputs": [
    {
     "name": "stderr",
     "output_type": "stream",
     "text": [
      "100%|██████████| 57477/57477 [00:03<00:00, 15636.63it/s]\n"
     ]
    }
   ],
   "source": [
    "from tqdm import tqdm\n",
    "output_as = []\n",
    "output_bs = []\n",
    "scuess_idx = []\n",
    "labels = []\n",
    "ids = []\n",
    "for idx, row in tqdm(train.iterrows(), total=len(train)):\n",
    "    #try:\n",
    "    prompt = row[\"prompt\"]\n",
    "    response_a = row[\"response_a\"]\n",
    "    response_b = row[\"response_b\"]\n",
    "    label = row['label']\n",
    "    id = row['id']\n",
    "    if prompt.find('\",\"') != -1:\n",
    "        #不止一个prompt\n",
    "        #cnt = prompt.count('\",\"')\n",
    "        prompt = row[\"prompt\"].split('\",\"')\n",
    "        cnt = len(prompt)\n",
    "        response_a = row[\"response_a\"].split('\",\"')\n",
    "        response_b = row[\"response_b\"].split('\",\"')\n",
    "        for sentence_idx in range(cnt):\n",
    "            output_a = \"###Model A\\n\"\n",
    "            output_b = \"###Model B\\n\"\n",
    "            output_a += \"Prompt: \" + prompt[sentence_idx][2:].strip() + \"\\n\"\n",
    "            output_a += \"Response: \" + response_a[sentence_idx][2:].strip() + \"\\n\\n\"\n",
    "            output_b += \"Prompt: \" + prompt[sentence_idx][2:].strip() + \"\\n\"\n",
    "            output_b += \"Response: \" +response_b[sentence_idx][2:].strip() + \"\\n\\n\"\n",
    "            output_as.append(output_a)\n",
    "            output_bs.append(output_b)\n",
    "            scuess_idx.append(idx)\n",
    "            labels.append(label)\n",
    "            ids.append(id)\n",
    "    else:\n",
    "        output_a = \"###Model A\\nPrompt: \" + row[\"prompt\"][2:-2].strip() + \"\\nResponse: \" + row[\"response_a\"][2:-2].strip() + \"\\n\\n\"\n",
    "        output_b = \"###Model B\\nPrompt: \" + row[\"prompt\"][2:-2].strip() + \"\\nResponse: \" + row[\"response_b\"][2:-2].strip() + \"\\n\\n\"\n",
    "        output_as.append(output_a)\n",
    "        output_bs.append(output_b)\n",
    "        scuess_idx.append(idx)\n",
    "        labels.append(label)\n",
    "        ids.append(id)\n",
    "        \n",
    "    #except Exception as e:\n",
    "        # print(f\"Error: {idx}\")\n",
    "        # print(f\"{e}\")\n",
    "        # output_a = \"###Model A\\nPrompt: \" + row[\"prompt\"][2:-2].strip() + \"\\nResponse: \" + row[\"response_a\"][2:-2].strip() + \"\\n\\n\"\n",
    "        # output_b = \"###Model B\\nPrompt: \" + row[\"prompt\"][2:-2].strip() + \"\\nResponse: \" + row[\"response_b\"][2:-2].strip() + \"\\n\\n\"\n",
    "        # output_as.append(output_a)\n",
    "        # output_bs.append(output_b)\n",
    "        # scuess_idx.append(idx)\n",
    "        # labels.append(label)\n",
    "        # ids.append(id)"
   ]
  },
  {
   "cell_type": "code",
   "execution_count": 130,
   "id": "766de3ec-6f14-445e-8d8d-53bcd043b6b2",
   "metadata": {
    "scrolled": true
   },
   "outputs": [
    {
     "data": {
      "text/plain": [
       "['[\"Philosophy and mathematics are deeply interconnected in various ways, and their relationship can be explored through several key aspects:\\\\n\\\\n**1. Ontology (Nature of Being):**\\\\nMathematical ontology concerns the nature of mathematical entities. Philosophers such as Plato argued for a realist view, where mathematical objects (like numbers and geometric forms) have an independent, abstract existence. Others, like Immanuel Kant, believed that mathematical knowledge arises from the structure of the mind itself. \\\\n\\\\n**2. Epistemology (Theory of Knowledge):**\\\\nMathematical epistemology examines the nature and extent of mathematical knowledge. How do we know mathematical truths? Are they discovered or invented? Rationalists, such as Descartes, argued that mathematical truths are certain and known through reason. Empiricists, like Hume, claimed that knowledge is derived from sensory experience, although they often struggled to explain the apparent certainty of mathematics.\\\\n\\\\n**3. Logic and Foundations:**\\\\nLogic is a branch of both philosophy and mathematics. Philosophers like Aristotle laid the groundwork for formal logic, which later became essential in mathematical proof. In the early 20th century, foundational crises in mathematics led to the development of formal logical systems and the study of the consistency and completeness of mathematical systems (famously addressed by G\\\\u00f6del\\'s incompleteness theorems).\\\\n\\\\n**4. Philosophy of Mathematics:**\\\\nThis is a specific branch of philosophy that addresses questions about the methodology, aesthetics, and implications of mathematics. It includes debates on mathematical realism vs. anti-realism (formalism, intuitionism, constructivism), the nature of mathematical proof, the beauty of mathematics, and the applicability of mathematics to the real world.\\\\n\\\\n**5. Ethics and Aesthetics:**\\\\nWhile ethics is not usually associated with mathematics, the practice of mathematics involves ethical considerations such as intellectual honesty and rigor. The aesthetics of mathematics, on the other hand, can be seen in mathematicians\\' pursuit of elegant proofs and beautiful structures.\\\\n\\\\n**6. Mathematical Practice:**\\\\nPhilosophy can inform the understanding of how mathematics is done \\\\u2013 the processes of conjecture, proof, and the development of new theories. Philosophers like Lakatos have explored the quasi-empirical nature of mathematical discovery and the role of heuristics in mathematical thinking.\\\\n\\\\n**7. Applicability of Mathematics:**\\\\nPhilosophers like Eugene Wigner have pondered the \\\\\"unreasonable effectiveness of mathematics\\\\\" in the natural sciences. This raises philosophical questions about why mathematics, an abstract creation of the human mind, so powerfully describes the physical world.\\\\n\\\\n**8. Cognitive Science:**\\\\nThe intersection of philosophy, cognitive science, and mathematics explores how mathematical concepts are represented and processed in the human mind. This can include research into how mathematical ability develops and the nature of mathematical intuition.\\\\n\\\\nIn summary, philosophy provides tools for reflecting on and critically evaluating the assumptions, methods, and implications of mathematics, while mathematics can sometimes inform philosophical arguments by offering structured and precise ways of considering abstract concepts. The relationship between the two is one of mutual enrichment and ongoing dialogue.',\n",
       " 'The term \\\\\"structure\\\\\" holds various meanings and significance depending on the context in which it is used. Here are a few different areas where the concept of structure is fundamental:\\\\n\\\\n**1. Mathematics:**\\\\nIn mathematics, a structure on a set is an additional mathematical object that, in some manner, attaches (or relates) to the set, endowing the collection with meaning or significance. A well-known example is the algebraic structure, which includes operations like addition and multiplication that can be performed on the elements of a set. Examples include groups, rings, and fields. In geometry, a structure might be a metric that allows for the measurement of distances between points.\\\\n\\\\n**2. Philosophy:**\\\\nPhilosophy often deals with the structure of arguments, theories, and systems of thought. Structuralism, for instance, is a philosophical theory that elements of human culture must be understood in terms of their relationship to a broader, overarching system or structure.\\\\n\\\\n**3. Science:**\\\\nIn various scientific disciplines, \\\\\"structure\\\\\" can refer to the arrangement of and relations between the parts or elements of something complex. For example, in chemistry, the molecular structure refers to the arrangement of atoms in a molecule. In biology, the structure of a cell or an organism is central to its function.\\\\n\\\\n**4. Engineering and Architecture:**\\\\nIn these fields, a structure refers to something that has been built or put together, usually a building, bridge, or other edifice. The structure includes the materials used and the way they are assembled to ensure the stability and integrity of the construction.\\\\n\\\\n**5. Social Sciences:**\\\\nIn sociology and anthropology, structure can refer to the recurrent patterned arrangements which influence or limit the choices and opportunities available to individuals within a society. This might include institutions, social hierarchies, and cultural norms.\\\\n\\\\n**6. Linguistics:**\\\\nStructural linguistics considers language as a structured system of signs. Syntax is the study of the structure of sentences, for instance, and involves understanding how words and phrases are combined to form grammatically correct and meaningful sentences.\\\\n\\\\n**7. Literature and the Arts:\\\\u258c',\n",
       " 'The term \\\\\"structure\\\\\" holds various meanings and significance depending on the context in which it is used. Here are a few different areas where the concept of structure is fundamental:\\\\n\\\\n**1. Mathematics:**\\\\nIn mathematics, a structure on a set is an additional mathematical object that, in some manner, attaches (or relates) to the set, endowing the collection with meaning or significance. A well-known example is the algebraic structure, which includes operations like addition and multiplication that can be performed on the elements of a set. Examples include groups, rings, and fields. In geometry, a structure might be a metric that allows for the measurement of distances between points.\\\\n\\\\n**2. Philosophy:**\\\\nPhilosophy often deals with the structure of arguments, theories, and systems of thought. Structuralism, for instance, is a philosophical theory that elements of human culture must be understood in terms of their relationship to a broader, overarching system or structure.\\\\n\\\\n**3. Science:**\\\\nIn various scientific disciplines, \\\\\"structure\\\\\" can refer to the arrangement of and relations between the parts or elements of something complex. For example, in chemistry, the molecular structure refers to the arrangement of atoms in a molecule. In biology, the structure of a cell or an organism is central to its function.\\\\n\\\\n**4. Engineering and Architecture:**\\\\nIn these fields, a structure refers to something that has been built or put together, usually a building, bridge, or other edifice. The structure includes the materials used and the way they are assembled to ensure the stability and integrity of the construction.\\\\n\\\\n**5. Social Sciences:**\\\\nIn sociology and anthropology, structure can refer to the recurrent patterned arrangements which influence or limit the choices and opportunities available to individuals within a society. This might include institutions, social hierarchies, and cultural norms.\\\\n\\\\n**6. Linguistics:**\\\\nStructural linguistics considers language as a structured system of signs. Syntax is the study of the structure of sentences, for instance, and involves understanding how words and phrases are combined to form grammatically correct and meaningful sentences.\\\\n\\\\n**7. Literature and the Arts:**\\\\nIn literature, structure refers to the organization of a work of art, such as the plot structure of a novel or the stanzaic structure of a poem. In visual arts, artists consider the structure of their composition, arranging elements in a way that is aesthetically pleasing or meaningful.\\\\n\\\\nIn each context, \\\\\"structure\\\\\" typically involves an arrangement of parts or elements that are connected to each other in a particular way, and this connectedness often determines the properties and functions of the entity being described. Understanding these structures is crucial to comprehending, analyzing, and working within each respective field.',\n",
       " \"Prioritizing structure over concept, or vice versa, depends on the goals, context, and the nature of the project or problem at hand. Here are some situations where structure might be prioritized over concept:\\\\n\\\\n1. **Teaching and Learning:** When introducing a new subject or skill, focusing on the structure can help students understand the underlying framework before delving into more complex concepts. For example, learning the structure of a language (grammar, syntax) can provide a foundation for later developing conversational skills and exploring nuanced linguistic concepts.\\\\n\\\\n2. **Scientific Research:** In some scientific research, particularly in the experimental sciences, the structure of the experiment (methodology, controls, data collection) is critical to ensure validity and reproducibility, which must be established before the underlying concepts can be reliably explored or theories tested.\\\\n\\\\n3. **System Design and Engineering:** When designing a complex system or piece of technology, engineers often start with the structural design to ensure that the system will be functional and stable. Once a sound structure is in place, the finer conceptual details can be built upon it.\\\\n\\\\n4. **Project Management:** In managing a project, establishing the structure of tasks (timeline, team roles, workflows) is crucial for the project's successful completion. It can often be more important initially than the conceptual details of the project's individual components.\\\\n\\\\n5. **Software Development:** While the concept behind a piece of software is important, the architectural structure of the software often takes precedence. A well-structured codebase can accommodate changes and new features more easily, making it more maintainable and scalable over time.\\\\n\\\\n6. **Crisis Management:** In emergency or crisis situations, having a structured response plan to guide actions can be more immediately important than the theoretical concepts behind the crisis. The priority is to establish order and control the situation.\\\\n\\\\n7. **Legal Systems:** The structure of laws and regulations must be clearly defined before the nuances of legal concepts and interpretations can be applied. The structure provides a framework within which legal concepts operate.\\\\n\\\\n8. **Writing and Composition:** For some types of writing, such as technical or academic writing, the structure of the document (organization, format, sections) may be prioritized to ensure clarity and adherence to standards before focusing on the conceptual depth of the content.\\\\n\\\\nIn summary, structure is often prioritized when:\\\\n\\\\n- The foundational framework is necessary for further development.\\\\n- Stability and order are required to manage complexity.\\\\n- There is a need for clarity, organization, and systematic progression.\\\\n- The goal is to ensure functionality, reliability, and scalability.\\\\n\\\\nIn contrast, concept might be prioritized when innovation, creativity, or theoretical depth is the primary focus, and the structural elements can be more flexibly adapted around the concept. The key is to strike a balance and recognize when each aspect should take precedence to achieve the desired outcome effectively.\",\n",
       " 'Teaching a structure versus synthesizing the structure through specific concept learning represent two different educational approaches, each with its own advantages depending on the learning objectives and the context. Let\\'s explore both strategies:\\\\n\\\\n**Teaching a Structure:**\\\\n\\\\nThis approach involves directly instructing students on the framework or system within which various elements relate to one another. It\\'s akin to providing a map before embarking on a journey\\\\u2014the map itself doesn\\'t change, but it helps to navigate the terrain (concepts).\\\\n\\\\n- **Pros:**\\\\n  - Provides a clear, organized framework that students can use to categorize and relate new information.\\\\n  - Can be efficient for subjects where understanding the structure is essential to progress, such as mathematics or language syntax.\\\\n  - Helps students understand relationships between concepts and how they fit within a larger system.\\\\n\\\\n- **Cons:**\\\\n  - May be less engaging if students have no context or real-world application for the structure.\\\\n  - Risks being too abstract or theoretical, which can make it harder for some students to grasp and retain the information.\\\\n\\\\n**Synthesizing the Structure via Specific Concept Learning:**\\\\n\\\\nIn this method, students learn individual concepts first, often through concrete examples or hands-on experiences. As they become familiar with these concepts, they begin to recognize patterns and underlying structures on their own.\\\\n\\\\n- **Pros:**\\\\n  - Tends to be more engaging and intuitive, as students learn through concrete examples that may be relevant to their interests or experiences.\\\\n  - Encourages critical thinking and inductive reasoning as students must identify the structure from the particulars.\\\\n  - Can lead to a deeper understanding of the structure because students see how it emerges from the concepts.\\\\n\\\\n- **Cons:**\\\\n  - May be less systematic, potentially leading to gaps in understanding if the student does not encounter enough variety in concepts to naturally synthesize the structure.\\\\n  - Can be time-consuming, as students need to explore many examples to discern the underlying structure.\\\\n  - There is a risk that students might not correctly infer the structure or may develop misconceptions without explicit guidance.\\\\n\\\\nWhich approach to prioritize can depend on several factors:\\\\n\\\\n- **Subject Matter:** Some subjects have well-defined structures that are best taught directly (e.g., the periodic table in chemistry). In contrast, others may benefit from a discovery-based approach (e.g., understanding themes in literature).\\\\n\\\\n- **Learning Objectives:** If the goal is for students to be able to apply a concept flexibly across contexts, they might benefit from first seeing how the structure is synthesized from various examples. If the goal is to ensure precision and accuracy (e.g., in procedural mathematics), teaching the structure directly might be more effective.\\\\n\\\\n- **Student Preferences and Abilities:** Different students may have different learning styles. Some may prefer having a clear structure from the outset, while others may find more meaning in discovering patterns themselves.\\\\n\\\\n- **Time and Resources:** The amount of time available and the resources at hand can also influence the choice. Directly teaching the structure can be more time-efficient, while allowing students to synthesize the structure may require more time and diverse learning materials.\\\\n\\\\nIn practice, effective teaching often combines both strategies, providing enough structure to guide students while also allowing for the exploration and discovery that help students internalize and understand how that structure arises from the underlying concepts.\"]']"
      ]
     },
     "execution_count": 130,
     "metadata": {},
     "output_type": "execute_result"
    }
   ],
   "source": [
    "train.loc[763,'response_a'].split('\",\"')"
   ]
  },
  {
   "cell_type": "code",
   "execution_count": 133,
   "id": "1947e58f-725b-4397-b485-0ef29e1ffbac",
   "metadata": {},
   "outputs": [
    {
     "data": {
      "text/plain": [
       "3"
      ]
     },
     "execution_count": 133,
     "metadata": {},
     "output_type": "execute_result"
    }
   ],
   "source": [
    "len(train.loc[763,'response_b'].split('\",\"'))"
   ]
  },
  {
   "cell_type": "code",
   "execution_count": 71,
   "id": "e5b632bf-713d-4185-8472-46ae79024520",
   "metadata": {},
   "outputs": [
    {
     "data": {
      "text/plain": [
       "'[\"Sure, here is your `vercel.json` file for deployment:\\\\n\\\\n```json\\\\n{\\\\n  \\\\\"version\\\\\": 2,\\\\n  \\\\\"name\\\\\": \\\\\"your-project-name\\\\\",\\\\n  \\\\\"builds\\\\\": [\\\\n    {\\\\n      \\\\\"src\\\\\": \\\\\"index.js\\\\\",\\\\n      \\\\\"use\\\\\": \\\\\"@vercel\\\\/node\\\\\"\\\\n    }\\\\n  ],\\\\n  \\\\\"routes\\\\\": [\\\\n    {\\\\n      \\\\\"src\\\\\": \\\\\"\\\\/(.*)\\\\\",\\\\n      \\\\\"dest\\\\\": \\\\\"index.js\\\\\"\\\\n    }\\\\n  ],\\\\n  \\\\\"scripts\\\\\": {\\\\n    \\\\\"dev\\\\\": \\\\\"NODE_ENV=dev nodemon .\\\\/index.js\\\\\",\\\\n    \\\\\"build\\\\\": \\\\\"npm run gulp && NODE_ENV=production node .\\\\/index.js\\\\\"\\\\n  },\\\\n  \\\\\"env\\\\\": {\\\\n    \\\\\"NODE_ENV\\\\\": \\\\\"production\\\\\"\\\\n  }\\\\n}\\\\n```\\\\nPlease note that you need to replace `\\\\\"your-project-name\\\\\"` with the actual name of your project.\\\\n\\\\nAlso, please note that vercel.json doesn\\'t support the scripts property. The scripts that you have in your package.json are enough. The \\\\\"build\\\\\" and \\\\\"dev\\\\\" script in the vercel.json above are just for illustrative purposes. \\\\n\\\\nIn Vercel, the \\\\\"build\\\\\" command runs after a `git push`, and \\\\\"dev\\\\\" runs when you use `vercel dev`. Vercel uses the \\\\\"start\\\\\" script to start your application.\"]'"
      ]
     },
     "execution_count": 71,
     "metadata": {},
     "output_type": "execute_result"
    }
   ],
   "source": [
    "train.loc[763,'response_']"
   ]
  },
  {
   "cell_type": "code",
   "execution_count": 140,
   "id": "5f6fe473-35ae-4da4-b145-bb165d21b326",
   "metadata": {
    "scrolled": true
   },
   "outputs": [
    {
     "data": {
      "text/plain": [
       "'In both philosophy and mathematics, structure plays a significant role. The term \\\\\"structure\\\\\" generally refers to the arrangement of and relations between the parts or elements of something complex. It is a fundamental concept in various areas of study, as it helps us understand, analyze, and communicate complex ideas and systems. Here\\'s how structure is relevant to both fields:\\\\n\\\\n1. Mathematics: In mathematics, the study of structure is core to understanding various branches such as algebra, geometry, topology, and more. Mathematicians investigate the properties, patterns, and relationships that exist within different mathematical structures such as groups, rings, fields, vector spaces, and manifolds. By understanding these structures, mathematicians can develop a greater insight into the properties of numbers, shapes, and patterns, as well as create new mathematical theories and solve complex problems.\\\\n\\\\n2. Philosophy: In philosophy, structure is important for organizing complex ideas and arguments. Philosophers often create structured frameworks to analyze and communicate their thoughts on various subjects like ethics, metaphysics, epistemology, and logic. For example, in metaphysics, philosophers might develop structured models of reality to better understand the nature of existence. In ethics, philosophers build frameworks to evaluate moral principles and actions systematically.\\\\n\\\\nIn both disciplines, structure serves as a foundation for understanding, analyzing, and communicating complicated ideas and systems. The concept of structure allows us to break down complex entities into smaller, more manageable parts and examine the relationships between them. By doing so, we can gain a deeper and more comprehensive understanding of the world around us.\",null,\"Determining when to prioritize structure over concept depends on the context and the objectives of a particular study or project. Here are some situations where focusing on structure might be more important than emphasizing the concept:\\\\n\\\\n1. Teaching or learning a new subject: When introducing a new topic or trying to understand a complex idea, it can be helpful to prioritize the structure of the material. This enables learners to grasp the relationships between different elements and see how they fit together, making it easier to comprehend the overall concept.\\\\n\\\\n2. Problem-solving and analysis: In some cases, understanding the structure of a problem or a system can be crucial for finding a solution or conducting an analysis. By focusing on the structure, we can identify patterns, relationships, and key elements that can help us tackle the problem more effectively.\\\\n\\\\n3. Communication and presentation: When conveying information or presenting an argument, it is often essential to prioritize the structure of the content. A well-structured presentation or argument enables the audience to follow the logic and understand the key points more easily, ultimately making the concept clearer.\\\\n\\\\n4. Development of frameworks and models: In many disciplines, creating structured frameworks and models is crucial for understanding complex phenomena. Focusing on structure can help identify key variables, their relationships, and the underlying patterns that can be used to predict or explain the phenomena in question.\\\\n\\\\n5. Organizing information: In cases where a large amount of information needs to be managed or processed, prioritizing structure can help establish a systematic and logical way of organizing the data, making it more accessible and understandable.\\\\n\\\\nHowever, it is essential to strike a balance between structure and concept, as an overemphasis on either aspect could lead to an incomplete understanding or ineffective communication. Both structure and concept are important components of understanding and conveying complex ideas, and their relative importance depends on the specific context and objectives at hand.'"
      ]
     },
     "execution_count": 140,
     "metadata": {},
     "output_type": "execute_result"
    }
   ],
   "source": [
    "train.loc[763,'response_b'].split('\",\"')[1]"
   ]
  },
  {
   "cell_type": "code",
   "execution_count": 129,
   "id": "bd0b86eb-2a93-4446-82d9-8c313dc65e28",
   "metadata": {},
   "outputs": [
    {
     "data": {
      "text/plain": [
       "'[\"relate philosophy to mathematics\",\"Structure\",\"when should structure be prioritized over concept\",\"when should structure be prioritized over concept\",\"teaching a structure, vs synthesizing the structure via specific concept learning\"]'"
      ]
     },
     "execution_count": 129,
     "metadata": {},
     "output_type": "execute_result"
    }
   ],
   "source": [
    "train.loc[763,'prompt']"
   ]
  },
  {
   "cell_type": "code",
   "execution_count": 113,
   "id": "1c1a82f0-eee0-409d-9b0d-d16a393c6a1d",
   "metadata": {},
   "outputs": [
    {
     "data": {
      "text/plain": [
       "'[\"Is it morally right to try to have a certain percentage of females on managerial positions?\",\"OK, does pineapple belong on a pizza? Relax and give me fun answer.\"]'"
      ]
     },
     "execution_count": 113,
     "metadata": {},
     "output_type": "execute_result"
    }
   ],
   "source": [
    "train.loc[0,'prompt']"
   ]
  },
  {
   "cell_type": "code",
   "execution_count": 116,
   "id": "ae9a2e91-26e4-4308-8c4b-46983295f43f",
   "metadata": {},
   "outputs": [
    {
     "name": "stdout",
     "output_type": "stream",
     "text": [
      "[\"What is the difference between marriage license and marriage certificate?\n"
     ]
    }
   ],
   "source": [
    "print(train.loc[0,'prompt'].split('\",\"')[0])"
   ]
  },
  {
   "cell_type": "code",
   "execution_count": 114,
   "id": "3593a389-5ab7-4fd1-a624-a0149360a3ce",
   "metadata": {},
   "outputs": [
    {
     "name": "stdout",
     "output_type": "stream",
     "text": [
      "OK, does pineapple belong on a pizza? Relax and give me fun answer.\"]\n"
     ]
    }
   ],
   "source": [
    "print(train.loc[0,'prompt'].split('\",\"')[1])"
   ]
  },
  {
   "cell_type": "code",
   "execution_count": 132,
   "id": "dfdad7b3-1553-429c-9033-4255ac6d4b61",
   "metadata": {},
   "outputs": [
    {
     "data": {
      "text/plain": [
       "5"
      ]
     },
     "execution_count": 132,
     "metadata": {},
     "output_type": "execute_result"
    }
   ],
   "source": [
    "len(train.loc[763,'prompt'].split('\",\"'))"
   ]
  },
  {
   "cell_type": "code",
   "execution_count": 4,
   "id": "67b41d7a-e71e-43d1-a7ef-632f56a98848",
   "metadata": {},
   "outputs": [],
   "source": [
    "train = pd.DataFrame({'id': ids, 'instruction_a': output_as, 'instruction_b': output_bs, 'label': labels })"
   ]
  },
  {
   "cell_type": "code",
   "execution_count": 5,
   "id": "3e2f8afe-89f2-486a-9da2-549d01a14313",
   "metadata": {},
   "outputs": [
    {
     "data": {
      "text/html": [
       "<div>\n",
       "<style scoped>\n",
       "    .dataframe tbody tr th:only-of-type {\n",
       "        vertical-align: middle;\n",
       "    }\n",
       "\n",
       "    .dataframe tbody tr th {\n",
       "        vertical-align: top;\n",
       "    }\n",
       "\n",
       "    .dataframe thead th {\n",
       "        text-align: right;\n",
       "    }\n",
       "</style>\n",
       "<table border=\"1\" class=\"dataframe\">\n",
       "  <thead>\n",
       "    <tr style=\"text-align: right;\">\n",
       "      <th></th>\n",
       "      <th>id</th>\n",
       "      <th>instruction_a</th>\n",
       "      <th>instruction_b</th>\n",
       "      <th>label</th>\n",
       "    </tr>\n",
       "  </thead>\n",
       "  <tbody>\n",
       "    <tr>\n",
       "      <th>0</th>\n",
       "      <td>30192</td>\n",
       "      <td>###Model A\\nPrompt: Is it morally right to try...</td>\n",
       "      <td>###Model B\\nPrompt: Is it morally right to try...</td>\n",
       "      <td>A</td>\n",
       "    </tr>\n",
       "    <tr>\n",
       "      <th>1</th>\n",
       "      <td>30192</td>\n",
       "      <td>###Model A\\nPrompt: , does pineapple belong on...</td>\n",
       "      <td>###Model B\\nPrompt: , does pineapple belong on...</td>\n",
       "      <td>A</td>\n",
       "    </tr>\n",
       "    <tr>\n",
       "      <th>2</th>\n",
       "      <td>53567</td>\n",
       "      <td>###Model A\\nPrompt: What is the difference bet...</td>\n",
       "      <td>###Model B\\nPrompt: What is the difference bet...</td>\n",
       "      <td>B</td>\n",
       "    </tr>\n",
       "    <tr>\n",
       "      <th>3</th>\n",
       "      <td>53567</td>\n",
       "      <td>###Model A\\nPrompt: w can I get both of them a...</td>\n",
       "      <td>###Model B\\nPrompt: w can I get both of them a...</td>\n",
       "      <td>B</td>\n",
       "    </tr>\n",
       "    <tr>\n",
       "      <th>4</th>\n",
       "      <td>53567</td>\n",
       "      <td>###Model A\\nPrompt: at is the minimal time to ...</td>\n",
       "      <td>###Model B\\nPrompt: at is the minimal time to ...</td>\n",
       "      <td>B</td>\n",
       "    </tr>\n",
       "    <tr>\n",
       "      <th>...</th>\n",
       "      <td>...</td>\n",
       "      <td>...</td>\n",
       "      <td>...</td>\n",
       "      <td>...</td>\n",
       "    </tr>\n",
       "    <tr>\n",
       "      <th>71293</th>\n",
       "      <td>4294710549</td>\n",
       "      <td>###Model A\\nPrompt: e deterrents necessary in ...</td>\n",
       "      <td>###Model B\\nPrompt: e deterrents necessary in ...</td>\n",
       "      <td>A</td>\n",
       "    </tr>\n",
       "    <tr>\n",
       "      <th>71294</th>\n",
       "      <td>4294710549</td>\n",
       "      <td>###Model A\\nPrompt: w realistic is it for toda...</td>\n",
       "      <td>###Model B\\nPrompt: w realistic is it for toda...</td>\n",
       "      <td>A</td>\n",
       "    </tr>\n",
       "    <tr>\n",
       "      <th>71295</th>\n",
       "      <td>4294710549</td>\n",
       "      <td>###Model A\\nPrompt: n you explain concisely wh...</td>\n",
       "      <td>###Model B\\nPrompt: n you explain concisely wh...</td>\n",
       "      <td>A</td>\n",
       "    </tr>\n",
       "    <tr>\n",
       "      <th>71296</th>\n",
       "      <td>4294899228</td>\n",
       "      <td>###Model A\\nPrompt: If a bait contains 0,0025%...</td>\n",
       "      <td>###Model B\\nPrompt: If a bait contains 0,0025%...</td>\n",
       "      <td>B</td>\n",
       "    </tr>\n",
       "    <tr>\n",
       "      <th>71297</th>\n",
       "      <td>4294947231</td>\n",
       "      <td>###Model A\\nPrompt: three kids eat three apple...</td>\n",
       "      <td>###Model B\\nPrompt: three kids eat three apple...</td>\n",
       "      <td>A</td>\n",
       "    </tr>\n",
       "  </tbody>\n",
       "</table>\n",
       "<p>71298 rows × 4 columns</p>\n",
       "</div>"
      ],
      "text/plain": [
       "               id                                      instruction_a  \\\n",
       "0           30192  ###Model A\\nPrompt: Is it morally right to try...   \n",
       "1           30192  ###Model A\\nPrompt: , does pineapple belong on...   \n",
       "2           53567  ###Model A\\nPrompt: What is the difference bet...   \n",
       "3           53567  ###Model A\\nPrompt: w can I get both of them a...   \n",
       "4           53567  ###Model A\\nPrompt: at is the minimal time to ...   \n",
       "...           ...                                                ...   \n",
       "71293  4294710549  ###Model A\\nPrompt: e deterrents necessary in ...   \n",
       "71294  4294710549  ###Model A\\nPrompt: w realistic is it for toda...   \n",
       "71295  4294710549  ###Model A\\nPrompt: n you explain concisely wh...   \n",
       "71296  4294899228  ###Model A\\nPrompt: If a bait contains 0,0025%...   \n",
       "71297  4294947231  ###Model A\\nPrompt: three kids eat three apple...   \n",
       "\n",
       "                                           instruction_b label  \n",
       "0      ###Model B\\nPrompt: Is it morally right to try...     A  \n",
       "1      ###Model B\\nPrompt: , does pineapple belong on...     A  \n",
       "2      ###Model B\\nPrompt: What is the difference bet...     B  \n",
       "3      ###Model B\\nPrompt: w can I get both of them a...     B  \n",
       "4      ###Model B\\nPrompt: at is the minimal time to ...     B  \n",
       "...                                                  ...   ...  \n",
       "71293  ###Model B\\nPrompt: e deterrents necessary in ...     A  \n",
       "71294  ###Model B\\nPrompt: w realistic is it for toda...     A  \n",
       "71295  ###Model B\\nPrompt: n you explain concisely wh...     A  \n",
       "71296  ###Model B\\nPrompt: If a bait contains 0,0025%...     B  \n",
       "71297  ###Model B\\nPrompt: three kids eat three apple...     A  \n",
       "\n",
       "[71298 rows x 4 columns]"
      ]
     },
     "execution_count": 5,
     "metadata": {},
     "output_type": "execute_result"
    }
   ],
   "source": [
    "train"
   ]
  },
  {
   "cell_type": "code",
   "execution_count": 6,
   "id": "9638aa90-c07f-4210-8e7e-b563b87dc52c",
   "metadata": {},
   "outputs": [],
   "source": [
    "idx = train.id.unique()\n",
    "valid_idx = [idx[i] for i in range(len(idx)) if i % 20 == 0]"
   ]
  },
  {
   "cell_type": "code",
   "execution_count": 7,
   "id": "7d544182-fa38-4a85-9a1d-53bea29ee635",
   "metadata": {},
   "outputs": [],
   "source": [
    "train.loc[train.id.isin(valid_idx),].to_csv('dataset/random_instruction_valid.csv', index = False)\n",
    "train.loc[~train.id.isin(valid_idx),].to_csv('dataset/random_instruction_train.csv', index = False)"
   ]
  }
 ],
 "metadata": {
  "kernelspec": {
   "display_name": "Python 3 (ipykernel)",
   "language": "python",
   "name": "python3"
  },
  "language_info": {
   "codemirror_mode": {
    "name": "ipython",
    "version": 3
   },
   "file_extension": ".py",
   "mimetype": "text/x-python",
   "name": "python",
   "nbconvert_exporter": "python",
   "pygments_lexer": "ipython3",
   "version": "3.10.8"
  }
 },
 "nbformat": 4,
 "nbformat_minor": 5
}
