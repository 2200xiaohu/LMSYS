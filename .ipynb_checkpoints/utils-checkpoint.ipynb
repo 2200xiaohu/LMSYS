{
 "cells": [
  {
   "cell_type": "code",
   "execution_count": null,
   "id": "d62d1871-b58e-49f1-9b60-871f5d83141a",
   "metadata": {},
   "outputs": [],
   "source": [
    "import pandas as pd, numpy as np\n",
    "import json\n",
    "from tqdm import tqdm\n",
    "\n",
    "def process(input_str):\n",
    "    return json.loads(input_str)\n",
    "\n",
    "def get_label(row):\n",
    "    label = [idx for idx, option in enumerate(['winner_model_a','winner_model_b','winner_tie']) if row[option] == 1]\n",
    "    if label[-1] == 0:\n",
    "        return 'A'\n",
    "    elif label[-1] == 1:\n",
    "        return 'B'\n",
    "    else:\n",
    "        return 'C'\n",
    "    return label[-1]\n",
    "\n",
    "def load_json(data):\n",
    "    data.loc[:, 'prompt'] = data['prompt'].apply(process)\n",
    "    data.loc[:, 'response_a'] = data['response_a'].apply(process)\n",
    "    data.loc[:, 'response_b'] = data['response_b'].apply(process)\n",
    "    return data"
   ]
  },
  {
   "cell_type": "code",
   "execution_count": null,
   "id": "2496957b-549d-4478-a09f-4d1fc2ea7b50",
   "metadata": {},
   "outputs": [],
   "source": [
    "data = pd.read_csv(\"dataset/train.csv\")"
   ]
  },
  {
   "cell_type": "code",
   "execution_count": null,
   "id": "f52edc26-dc9b-495e-98a7-03bffa28f269",
   "metadata": {},
   "outputs": [],
   "source": [
    "data = load_json(data)"
   ]
  },
  {
   "cell_type": "code",
   "execution_count": null,
   "id": "45f465e1-d91f-436d-ac43-98d0d71a42e8",
   "metadata": {},
   "outputs": [],
   "source": [
    "data = data.explode(['prompt','response_a','response_b']).reset_index(drop = True)"
   ]
  },
  {
   "cell_type": "code",
   "execution_count": null,
   "id": "e2cd0d5e-2000-4035-9d61-c846cfd612e6",
   "metadata": {},
   "outputs": [],
   "source": [
    "data['label'] = data.apply(lambda x: get_label(x), axis = 1)"
   ]
  },
  {
   "cell_type": "code",
   "execution_count": null,
   "id": "c4ea3241-f363-4917-a6b3-e9d55a65ff1e",
   "metadata": {},
   "outputs": [],
   "source": [
    "data = data.fillna('None')"
   ]
  },
  {
   "cell_type": "code",
   "execution_count": null,
   "id": "c8cbfa09-f2a9-4115-b037-533b6a011567",
   "metadata": {},
   "outputs": [],
   "source": [
    "data['response_a'] = data['response_a'].apply(lambda x: 'None' if len(x)==0 else x)\n",
    "data['response_b'] = data['response_b'].apply(lambda x: 'None' if len(x)==0 else x)"
   ]
  },
  {
   "cell_type": "code",
   "execution_count": null,
   "id": "b77f9660-1f91-4d34-99ad-51e3aca1849a",
   "metadata": {},
   "outputs": [],
   "source": [
    "#prompt1\n",
    "'''\n",
    "#Model A\n",
    "Prompt1: xxx\n",
    "Response: xxx\n",
    "\n",
    "Prompt2: xxx\n",
    "Response: xxx\n",
    "\n",
    "#Model B\n",
    "Prompt1: xxx\n",
    "Response: xxx\n",
    "\n",
    "Prompt2: xxx\n",
    "Response: xxx\n",
    "'''"
   ]
  },
  {
   "cell_type": "code",
   "execution_count": null,
   "id": "7388f685-97f3-424f-87f7-8c47902cf835",
   "metadata": {},
   "outputs": [],
   "source": [
    "data['prompt_response_A'] = \"Prompt: \" + data['prompt'] + \"\\n\" + \"Response: \" + data['response_a']\n",
    "data['prompt_response_B'] = \"Prompt: \" + data['prompt'] + \"\\n\" + \"Response: \" + data['response_b']\n",
    "data = data.groupby('id').agg({'prompt_response_A': '\\n\\n'.join, 'prompt_response_B': '\\n\\n'.join, 'label': lambda x: list(x)[0]}).reset_index()\n",
    "data['prompt_response'] = \"#Model A\\n\" + data['prompt_response_A'] + \"\\n\\n#Model B\\n\" + data['prompt_response_B']"
   ]
  },
  {
   "cell_type": "code",
   "execution_count": null,
   "id": "7e90e1e6-ac61-4bed-bafc-c499e9f17e51",
   "metadata": {},
   "outputs": [],
   "source": [
    "print(data.prompt_response.values[0])"
   ]
  },
  {
   "cell_type": "code",
   "execution_count": null,
   "id": "00a9808d-0177-4569-bdde-dc9d9e7b9425",
   "metadata": {},
   "outputs": [],
   "source": [
    "#prompt2\n",
    "'''\n",
    "Label A\n",
    "#prompt1\n",
    "xxxx\n",
    "#Response\n",
    "##Model A\n",
    "##Model B\n",
    "\n",
    "到这里超过max length了，另外变成一行，Label还是A\n",
    "\n",
    "#Prompt2\n",
    "xxxxx\n",
    "#Response\n",
    "##Model A\n",
    "xxxx\n",
    "##Model B\n",
    "xxxx\n",
    "'''\n"
   ]
  },
  {
   "cell_type": "code",
   "execution_count": null,
   "id": "07858222-af1f-49e2-9742-85f60b20dc6f",
   "metadata": {},
   "outputs": [],
   "source": [
    "data['prompt_response'] = \"#Prompt\\n\" + data['prompt'] + \"\\n\\n\" + \"#Response\\n\" + \"##Model A\\n\" + data['response_a'] + \"\\n\\n\" + \"##Model B\\n\" + data['response_b']"
   ]
  },
  {
   "cell_type": "code",
   "execution_count": null,
   "id": "5bb026a7-a463-48b1-8359-f66591bc8f0c",
   "metadata": {},
   "outputs": [],
   "source": [
    "max_length = 3000"
   ]
  },
  {
   "cell_type": "code",
   "execution_count": null,
   "id": "fcd9926c-0082-4878-9bfb-a87e3c9cbb1d",
   "metadata": {
    "scrolled": true
   },
   "outputs": [],
   "source": [
    "prompt_response = []\n",
    "ids = []\n",
    "labels = []\n",
    "text_length = 0\n",
    "for idx, row in tqdm(data.iterrows(), total=len(data)):\n",
    "    text = row['prompt_response']\n",
    "    label = row['label']\n",
    "    id = row['id']\n",
    "    if id not in ids:\n",
    "        #第一次出现\n",
    "        prompt_response.append(text)\n",
    "        text_length = len(text.split(\" \"))\n",
    "        ids.append(id)\n",
    "        labels.append(label)\n",
    "    else:\n",
    "        text_length += len(text.split(\" \"))\n",
    "        if text_length <= max_length:\n",
    "            #print(f\"before: {prompt_response[-1]}\")\n",
    "            #取上一个text出来，合并后替换\n",
    "            text = prompt_response[-1] + \"\\n\\n\" + text\n",
    "            prompt_response[-1] = text\n",
    "            #print(f\"after: {prompt_response[-1]}\")\n",
    "        else:\n",
    "            #另一起一行\n",
    "            prompt_response.append(text)\n",
    "            text_length = len(text.split(\" \"))\n",
    "            ids.append(id)\n",
    "            labels.append(label)\n",
    "    "
   ]
  },
  {
   "cell_type": "code",
   "execution_count": null,
   "id": "3090b667-f4cd-4421-a80c-a9ab2bd2df60",
   "metadata": {},
   "outputs": [],
   "source": [
    "data = pd.DataFrame({'id': ids, 'prompt_response': prompt_response, \"labels\": labels})"
   ]
  },
  {
   "cell_type": "code",
   "execution_count": null,
   "id": "28d25fc0-a485-4cbd-b8ec-51af02e07c22",
   "metadata": {},
   "outputs": [],
   "source": [
    "data.id.value_counts()"
   ]
  },
  {
   "cell_type": "code",
   "execution_count": null,
   "id": "9ac36a8e-c454-46f2-a7fa-518a7cac7b2e",
   "metadata": {},
   "outputs": [],
   "source": [
    "tmp = data.loc[data.id == 2995198009,:]\n",
    "tmp"
   ]
  },
  {
   "cell_type": "code",
   "execution_count": null,
   "id": "271ba243-9d31-4a80-8c6d-ffcaffcbf804",
   "metadata": {},
   "outputs": [],
   "source": [
    "print(tmp.response_b.values[-2])"
   ]
  },
  {
   "cell_type": "code",
   "execution_count": null,
   "id": "6c9dcd84-ef4e-4d7d-8728-d2755fe5c343",
   "metadata": {},
   "outputs": [],
   "source": [
    "print(tmp.prompt_response.values[-1])"
   ]
  }
 ],
 "metadata": {
  "kernelspec": {
   "display_name": "Python 3 (ipykernel)",
   "language": "python",
   "name": "python3"
  },
  "language_info": {
   "codemirror_mode": {
    "name": "ipython",
    "version": 3
   },
   "file_extension": ".py",
   "mimetype": "text/x-python",
   "name": "python",
   "nbconvert_exporter": "python",
   "pygments_lexer": "ipython3",
   "version": "3.10.8"
  }
 },
 "nbformat": 4,
 "nbformat_minor": 5
}
