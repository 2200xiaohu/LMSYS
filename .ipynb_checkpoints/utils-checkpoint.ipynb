{
 "cells": [
  {
   "cell_type": "code",
   "execution_count": 9,
   "id": "d62d1871-b58e-49f1-9b60-871f5d83141a",
   "metadata": {},
   "outputs": [],
   "source": [
    "import pandas as pd, numpy as np\n",
    "import json\n",
    "from tqdm import tqdm\n",
    "\n",
    "def process(input_str):\n",
    "    return json.loads(input_str)\n",
    "\n",
    "def get_label(row):\n",
    "    label = [idx for idx, option in enumerate(['winner_model_a','winner_model_b','winner_tie']) if row[option] == 1]\n",
    "    if label[-1] == 0:\n",
    "        return 'A'\n",
    "    elif label[-1] == 1:\n",
    "        return 'B'\n",
    "    else:\n",
    "        return 'C'\n",
    "    return label[-1]\n",
    "\n",
    "def load_json(data):\n",
    "    data.loc[:, 'prompt'] = data['prompt'].apply(process)\n",
    "    data.loc[:, 'response_a'] = data['response_a'].apply(process)\n",
    "    data.loc[:, 'response_b'] = data['response_b'].apply(process)\n",
    "    return data"
   ]
  },
  {
   "cell_type": "code",
   "execution_count": 10,
   "id": "2496957b-549d-4478-a09f-4d1fc2ea7b50",
   "metadata": {},
   "outputs": [],
   "source": [
    "data = pd.read_csv(\"dataset/train.csv\")"
   ]
  },
  {
   "cell_type": "code",
   "execution_count": 11,
   "id": "f52edc26-dc9b-495e-98a7-03bffa28f269",
   "metadata": {},
   "outputs": [],
   "source": [
    "data = load_json(data)"
   ]
  },
  {
   "cell_type": "code",
   "execution_count": 4,
   "id": "45f465e1-d91f-436d-ac43-98d0d71a42e8",
   "metadata": {},
   "outputs": [],
   "source": [
    "data = data.explode(['prompt','response_a','response_b']).reset_index(drop = True)"
   ]
  },
  {
   "cell_type": "code",
   "execution_count": 5,
   "id": "e2cd0d5e-2000-4035-9d61-c846cfd612e6",
   "metadata": {},
   "outputs": [],
   "source": [
    "data['label'] = data.apply(lambda x: get_label(x), axis = 1)"
   ]
  },
  {
   "cell_type": "code",
   "execution_count": 6,
   "id": "c4ea3241-f363-4917-a6b3-e9d55a65ff1e",
   "metadata": {},
   "outputs": [],
   "source": [
    "data = data.fillna('None')"
   ]
  },
  {
   "cell_type": "code",
   "execution_count": 7,
   "id": "c8cbfa09-f2a9-4115-b037-533b6a011567",
   "metadata": {},
   "outputs": [],
   "source": [
    "data['response_a'] = data['response_a'].apply(lambda x: 'None' if len(x)==0 else x)\n",
    "data['response_b'] = data['response_b'].apply(lambda x: 'None' if len(x)==0 else x)"
   ]
  },
  {
   "cell_type": "code",
   "execution_count": null,
   "id": "b77f9660-1f91-4d34-99ad-51e3aca1849a",
   "metadata": {},
   "outputs": [],
   "source": [
    "#prompt1\n",
    "'''\n",
    "#Model A\n",
    "Prompt1: xxx\n",
    "Response: xxx\n",
    "\n",
    "Prompt2: xxx\n",
    "Response: xxx\n",
    "\n",
    "#Model B\n",
    "Prompt1: xxx\n",
    "Response: xxx\n",
    "\n",
    "Prompt2: xxx\n",
    "Response: xxx\n",
    "'''"
   ]
  },
  {
   "cell_type": "code",
   "execution_count": null,
   "id": "7388f685-97f3-424f-87f7-8c47902cf835",
   "metadata": {},
   "outputs": [],
   "source": [
    "data['prompt_response_A'] = \"Prompt: \" + data['prompt'] + \"\\n\" + \"Response: \" + data['response_a']\n",
    "data['prompt_response_B'] = \"Prompt: \" + data['prompt'] + \"\\n\" + \"Response: \" + data['response_b']\n",
    "data = data.groupby('id').agg({'prompt_response_A': '\\n\\n'.join, 'prompt_response_B': '\\n\\n'.join, 'label': lambda x: list(x)[0]}).reset_index()\n",
    "data['prompt_response'] = \"#Model A\\n\" + data['prompt_response_A'] + \"\\n\\n#Model B\\n\" + data['prompt_response_B']"
   ]
  },
  {
   "cell_type": "code",
   "execution_count": null,
   "id": "7e90e1e6-ac61-4bed-bafc-c499e9f17e51",
   "metadata": {},
   "outputs": [],
   "source": [
    "print(data.prompt_response.values[0])"
   ]
  },
  {
   "cell_type": "code",
   "execution_count": null,
   "id": "00a9808d-0177-4569-bdde-dc9d9e7b9425",
   "metadata": {},
   "outputs": [],
   "source": [
    "#prompt2\n",
    "'''\n",
    "Label A\n",
    "#prompt1\n",
    "xxxx\n",
    "#Response\n",
    "##Model A\n",
    "##Model B\n",
    "\n",
    "到这里超过max length了，另外变成一行，Label还是A\n",
    "\n",
    "#Prompt2\n",
    "xxxxx\n",
    "#Response\n",
    "##Model A\n",
    "xxxx\n",
    "##Model B\n",
    "xxxx\n",
    "'''\n"
   ]
  },
  {
   "cell_type": "code",
   "execution_count": 8,
   "id": "07858222-af1f-49e2-9742-85f60b20dc6f",
   "metadata": {},
   "outputs": [],
   "source": [
    "data['prompt_response'] = \"#Prompt\\n\" + data['prompt'] + \"\\n\\n\" + \"#Response\\n\" + \"##Model A\\n\" + data['response_a'] + \"\\n\\n\" + \"##Model B\\n\" + data['response_b']"
   ]
  },
  {
   "cell_type": "code",
   "execution_count": 9,
   "id": "5bb026a7-a463-48b1-8359-f66591bc8f0c",
   "metadata": {},
   "outputs": [],
   "source": [
    "max_length = 3000"
   ]
  },
  {
   "cell_type": "code",
   "execution_count": 10,
   "id": "fcd9926c-0082-4878-9bfb-a87e3c9cbb1d",
   "metadata": {
    "scrolled": true
   },
   "outputs": [
    {
     "name": "stderr",
     "output_type": "stream",
     "text": [
      "100%|██████████| 71514/71514 [00:19<00:00, 3669.76it/s]\n"
     ]
    }
   ],
   "source": [
    "prompt_response = []\n",
    "ids = []\n",
    "labels = []\n",
    "text_length = 0\n",
    "for idx, row in tqdm(data.iterrows(), total=len(data)):\n",
    "    text = row['prompt_response']\n",
    "    label = row['label']\n",
    "    id = row['id']\n",
    "    if id not in ids:\n",
    "        #第一次出现\n",
    "        prompt_response.append(text)\n",
    "        text_length = len(text.split(\" \"))\n",
    "        ids.append(id)\n",
    "        labels.append(label)\n",
    "    else:\n",
    "        text_length += len(text.split(\" \"))\n",
    "        if text_length <= max_length:\n",
    "            #print(f\"before: {prompt_response[-1]}\")\n",
    "            #取上一个text出来，合并后替换\n",
    "            text = prompt_response[-1] + \"\\n\\n\" + text\n",
    "            prompt_response[-1] = text\n",
    "            #print(f\"after: {prompt_response[-1]}\")\n",
    "        else:\n",
    "            #另一起一行\n",
    "            prompt_response.append(text)\n",
    "            text_length = len(text.split(\" \"))\n",
    "            ids.append(id)\n",
    "            labels.append(label)\n",
    "    "
   ]
  },
  {
   "cell_type": "code",
   "execution_count": 11,
   "id": "38960d07-0e89-4b98-8643-ed87777b258f",
   "metadata": {},
   "outputs": [],
   "source": [
    "length = [len(i.split(\" \")) for i in prompt_response]"
   ]
  },
  {
   "cell_type": "code",
   "execution_count": 14,
   "id": "d47a5f9b-5f6e-4bb5-9693-8b7f9d07ebcc",
   "metadata": {},
   "outputs": [
    {
     "data": {
      "text/plain": [
       "42803"
      ]
     },
     "execution_count": 14,
     "metadata": {},
     "output_type": "execute_result"
    }
   ],
   "source": [
    "length.index(21579)"
   ]
  },
  {
   "cell_type": "code",
   "execution_count": 15,
   "id": "807bd0d8-b652-4485-85b9-c61ec1c8f78d",
   "metadata": {},
   "outputs": [
    {
     "data": {
      "text/plain": [
       "3169432118"
      ]
     },
     "execution_count": 15,
     "metadata": {},
     "output_type": "execute_result"
    }
   ],
   "source": [
    "ids[42803]"
   ]
  },
  {
   "cell_type": "code",
   "execution_count": 12,
   "id": "821a58ae-3933-46e2-b333-be42ba638f50",
   "metadata": {},
   "outputs": [
    {
     "data": {
      "text/plain": [
       "21579"
      ]
     },
     "execution_count": 12,
     "metadata": {},
     "output_type": "execute_result"
    }
   ],
   "source": [
    "max(length)"
   ]
  },
  {
   "cell_type": "code",
   "execution_count": null,
   "id": "f5becb89-1bd5-412d-956b-f0cef3e186bb",
   "metadata": {},
   "outputs": [],
   "source": [
    "# 天才问题\n",
    "# id = 3169432118"
   ]
  },
  {
   "cell_type": "code",
   "execution_count": 18,
   "id": "3090b667-f4cd-4421-a80c-a9ab2bd2df60",
   "metadata": {},
   "outputs": [],
   "source": [
    "data = pd.DataFrame({'id': ids, 'prompt_response': prompt_response, \"labels\": labels})"
   ]
  },
  {
   "cell_type": "code",
   "execution_count": null,
   "id": "28d25fc0-a485-4cbd-b8ec-51af02e07c22",
   "metadata": {},
   "outputs": [],
   "source": [
    "data.id.value_counts()"
   ]
  },
  {
   "cell_type": "code",
   "execution_count": 19,
   "id": "9ac36a8e-c454-46f2-a7fa-518a7cac7b2e",
   "metadata": {},
   "outputs": [
    {
     "data": {
      "text/html": [
       "<div>\n",
       "<style scoped>\n",
       "    .dataframe tbody tr th:only-of-type {\n",
       "        vertical-align: middle;\n",
       "    }\n",
       "\n",
       "    .dataframe tbody tr th {\n",
       "        vertical-align: top;\n",
       "    }\n",
       "\n",
       "    .dataframe thead th {\n",
       "        text-align: right;\n",
       "    }\n",
       "</style>\n",
       "<table border=\"1\" class=\"dataframe\">\n",
       "  <thead>\n",
       "    <tr style=\"text-align: right;\">\n",
       "      <th></th>\n",
       "      <th>id</th>\n",
       "      <th>prompt_response</th>\n",
       "      <th>labels</th>\n",
       "    </tr>\n",
       "  </thead>\n",
       "  <tbody>\n",
       "    <tr>\n",
       "      <th>42803</th>\n",
       "      <td>3169432118</td>\n",
       "      <td>#Prompt\\nCreate an ascii map of a fantasy land...</td>\n",
       "      <td>A</td>\n",
       "    </tr>\n",
       "  </tbody>\n",
       "</table>\n",
       "</div>"
      ],
      "text/plain": [
       "               id                                    prompt_response labels\n",
       "42803  3169432118  #Prompt\\nCreate an ascii map of a fantasy land...      A"
      ]
     },
     "execution_count": 19,
     "metadata": {},
     "output_type": "execute_result"
    }
   ],
   "source": [
    "tmp = data.loc[data.id == 3169432118,:]\n",
    "tmp"
   ]
  },
  {
   "cell_type": "code",
   "execution_count": null,
   "id": "271ba243-9d31-4a80-8c6d-ffcaffcbf804",
   "metadata": {},
   "outputs": [],
   "source": [
    "print(tmp.response_b.values[-2])"
   ]
  },
  {
   "cell_type": "code",
   "execution_count": null,
   "id": "6c9dcd84-ef4e-4d7d-8728-d2755fe5c343",
   "metadata": {},
   "outputs": [],
   "source": [
    "print(tmp.prompt_response.values[-1])"
   ]
  },
  {
   "cell_type": "code",
   "execution_count": 2,
   "id": "3feb56d0-6557-4e6a-97e1-fec3c0df480e",
   "metadata": {},
   "outputs": [
    {
     "name": "stderr",
     "output_type": "stream",
     "text": [
      "100%|██████████| 71514/71514 [00:18<00:00, 3783.58it/s]\n"
     ]
    }
   ],
   "source": [
    "from utils import load_spilt_data\n",
    "data_path = 'dataset/train.csv'\n",
    "prompt_type = 2\n",
    "MAX_INPUT = 3000\n",
    "if_train = True\n",
    "df_train , df_valid = load_spilt_data(data_path, prompt_type, MAX_INPUT, if_train)"
   ]
  },
  {
   "cell_type": "code",
   "execution_count": null,
   "id": "ced6e68b-9d4b-4c3c-b231-68c578f96d24",
   "metadata": {},
   "outputs": [],
   "source": [
    "print(df_train.prompt_response.values[0])"
   ]
  },
  {
   "cell_type": "code",
   "execution_count": null,
   "id": "4995e4c8-9567-4c79-a056-f3c2d2c478bb",
   "metadata": {},
   "outputs": [],
   "source": [
    "t = data.loc[data.id == 470485337]\n",
    "print(t.response_a.values[0])"
   ]
  },
  {
   "cell_type": "code",
   "execution_count": 7,
   "id": "487219c1-f475-4c46-b355-e58906297597",
   "metadata": {},
   "outputs": [],
   "source": [
    "t = df_train.loc[df_train.id == 470485337]"
   ]
  },
  {
   "cell_type": "code",
   "execution_count": null,
   "id": "3acb77c0-db08-4d5a-9642-8b6562bde51d",
   "metadata": {},
   "outputs": [],
   "source": [
    "print(t.prompt_response.values[0])"
   ]
  }
 ],
 "metadata": {
  "kernelspec": {
   "display_name": "Python 3 (ipykernel)",
   "language": "python",
   "name": "python3"
  },
  "language_info": {
   "codemirror_mode": {
    "name": "ipython",
    "version": 3
   },
   "file_extension": ".py",
   "mimetype": "text/x-python",
   "name": "python",
   "nbconvert_exporter": "python",
   "pygments_lexer": "ipython3",
   "version": "3.10.8"
  }
 },
 "nbformat": 4,
 "nbformat_minor": 5
}
