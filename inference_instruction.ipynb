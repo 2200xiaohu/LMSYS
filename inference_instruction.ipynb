{
 "cells": [
  {
   "cell_type": "code",
   "execution_count": 1,
   "id": "06762a62-6035-4580-a70a-8578f5a58fb3",
   "metadata": {},
   "outputs": [],
   "source": [
    "import argparse\n",
    "from typing import Optional, Union\n",
    "\n",
    "import pandas as pd\n",
    "import numpy as np\n",
    "import torch\n",
    "import torch.nn as nn\n",
    "\n",
    "from dataclasses import dataclass\n",
    "\n",
    "import datasets\n",
    "from datasets import Dataset\n",
    "from torch.utils.data import Dataset, DataLoader\n",
    "\n",
    "from sklearn.metrics import log_loss\n",
    "\n",
    "from transformers import (\n",
    "    AutoTokenizer,\n",
    "    AutoConfig,\n",
    "    EarlyStoppingCallback,\n",
    "    AutoModelForCausalLM,\n",
    "    AutoModelForMultipleChoice,\n",
    "    TrainingArguments,\n",
    "    Trainer,\n",
    "    RobertaForMultipleChoice,\n",
    "    AutoModelForSequenceClassification,\n",
    "    LlamaModel,\n",
    "    LlamaForSequenceClassification,\n",
    "    BitsAndBytesConfig,\n",
    "    get_polynomial_decay_schedule_with_warmup,\n",
    "    get_cosine_schedule_with_warmup,\n",
    "    TrainerCallback,\n",
    ")\n",
    "from transformers.tokenization_utils_base import PreTrainedTokenizerBase, PaddingStrategy\n",
    "\n",
    "from peft import (\n",
    "    get_peft_config,\n",
    "    PeftModel,\n",
    "    PeftConfig,\n",
    "    get_peft_model,\n",
    "    LoraConfig,\n",
    "    TaskType,\n",
    ")\n",
    "import os"
   ]
  },
  {
   "cell_type": "code",
   "execution_count": 2,
   "id": "a017584f-6664-4302-83e4-30932a04da33",
   "metadata": {},
   "outputs": [],
   "source": [
    "from torch.utils.data import Dataset\n",
    "class InstructionDataSet(Dataset):\n",
    "    def __init__(self, data, tokenizer, max_source_length, max_target_length):\n",
    "        super(InstructionDataSet, self).__init__()\n",
    "        #self.data = data.sample(len(data), random_state=0).reset_index(drop=True)\n",
    "        self.data = data\n",
    "        self.tokenizer = tokenizer\n",
    "        self.max_source_length = max_source_length\n",
    "        self.max_target_length = max_target_length\n",
    "        # self.A_token = self.tokenizer.encode(text='A', add_special_tokens=False, truncation=True, )\n",
    "        # self.B_token = self.tokenizer.encode(text='B', add_special_tokens=False, truncation=True, )\n",
    "        # self.C_token = self.tokenizer.encode(text='C', add_special_tokens=False, truncation=True, )\n",
    "\n",
    "    def __len__(self):\n",
    "        return len(self.data)\n",
    "\n",
    "    def __getitem__(self, index):\n",
    "        now_data = self.data.loc[index]\n",
    "        idx = now_data['id']\n",
    "        r_a = now_data['instruction_a']\n",
    "        r_b = now_data['instruction_b']\n",
    "        \n",
    "        templete_part1 = \"<|begin_of_text|><|start_header_id|>user<|end_header_id|>\\n\\nHere are two question-answering dialogues. Compare two model performance on answering question, determine which is better.\\n\\n\"\n",
    "        templete_part1_input_ids = self.tokenizer.encode(text=templete_part1, add_special_tokens=True,)\n",
    "        \n",
    "        model_a_input_ids = self.tokenizer.encode(text=r_a, add_special_tokens=True, truncation=True,\n",
    "                                          max_length=self.max_source_length // 2)\n",
    "        model_b_input_ids = self.tokenizer.encode(text=r_b, add_special_tokens=True, truncation=True,\n",
    "                                          max_length=self.max_source_length // 2)\n",
    "        templete_part2 = \"###options\\nA. Model A\\nB. Model B\\nC. Tie\\n<|eot_id|>\\n<|start_header_id|>assistant<|end_header_id|>\"\n",
    "        templete_part2_input_ids = self.tokenizer.encode(text=templete_part2, add_special_tokens=True,)\n",
    "        \n",
    "        input_ids = templete_part1_input_ids + model_a_input_ids + model_b_input_ids + templete_part2_input_ids\n",
    "\n",
    "        return {\n",
    "            \"input_ids\": input_ids,\n",
    "            \"id\": idx\n",
    "        }"
   ]
  },
  {
   "cell_type": "code",
   "execution_count": 3,
   "id": "506790b9-c1ff-44f8-84a2-d2a186593f08",
   "metadata": {},
   "outputs": [],
   "source": [
    "from typing import Any, Callable, Dict, List, NewType, Optional, Tuple, Union\n",
    "@dataclass\n",
    "class DataCollatorForInstruction:\n",
    "    tokenizer: PreTrainedTokenizerBase\n",
    "    model: Optional[Any] = None\n",
    "    padding: Union[bool, str, PaddingStrategy] = True\n",
    "    max_length: Optional[int] = None\n",
    "    pad_to_multiple_of: Optional[int] = None\n",
    "    label_pad_token_id: int = -100\n",
    "    return_tensors: str = \"pt\"\n",
    "\n",
    "    def __call__(self, features, return_tensors=None):\n",
    "        if return_tensors is None:\n",
    "            return_tensors = self.return_tensors\n",
    "        labels = [feature[\"labels\"] for feature in features] if \"labels\" in features[0].keys() else None\n",
    "        # We have to pad the labels before calling `tokenizer.pad` as this method won't pad them and needs them of the\n",
    "        # same length to return tensors.\n",
    "\n",
    "        features = self.tokenizer.pad(\n",
    "            features,\n",
    "            padding=True,\n",
    "            max_length=MAX_LENGTH,\n",
    "            pad_to_multiple_of=self.pad_to_multiple_of,\n",
    "            return_tensors=return_tensors,\n",
    "        )\n",
    "\n",
    "        # prepare decoder_input_ids\n",
    "        if (\n",
    "                labels is not None\n",
    "                and self.model is not None\n",
    "                and hasattr(self.model, \"prepare_decoder_input_ids_from_labels\")\n",
    "        ):\n",
    "            decoder_input_ids = self.model.prepare_decoder_input_ids_from_labels(labels=features[\"labels\"])\n",
    "            features[\"decoder_input_ids\"] = decoder_input_ids\n",
    "        # breakpoint() # [(len(features[i]['input_ids']),len(features[i]['labels'])) for i in range(4)]\n",
    "        return features"
   ]
  },
  {
   "cell_type": "code",
   "execution_count": 4,
   "id": "f0208959-dfd7-4218-b958-a367f9521742",
   "metadata": {},
   "outputs": [],
   "source": [
    "test = pd.read_csv('dataset/random_instruction_valid.csv')#.sample(5).reset_index(drop = True)\n",
    "test = test.loc[:500,:].reset_index(drop=True)\n",
    "#sample_sub = pd.read_csv('/kaggle/input/lmsys-chatbot-arena/sample_submission.csv')"
   ]
  },
  {
   "cell_type": "code",
   "execution_count": 5,
   "id": "f2a1d9e5-14ed-4ba4-b701-dc878f211a93",
   "metadata": {},
   "outputs": [],
   "source": [
    "from tqdm import tqdm\n",
    "def inference(model, test_dataloader):\n",
    "    test_predictions = []\n",
    "    for batch in tqdm(test_dataloader):\n",
    "        for k in batch.keys():\n",
    "            batch[k] = batch[k].to(device)\n",
    "        with torch.no_grad():\n",
    "            batch_input, idx = batch['input_ids'], batch['id']\n",
    "            batch_input = {\"input_ids\": batch_input}\n",
    "            outputs = model(**batch_input)\n",
    "            #logits = outputs.logits.cpu().detach().numpy()\n",
    "            response = model.generate(**batch_input, max_new_tokens=2, return_dict_in_generate=True, output_scores=True)\n",
    "            #batch_input['input_ids'].shape[-1] + 1\n",
    "            print(f\"score {response.scores}\")\n",
    "            print(f\"score is {response.scores[0]}\")\n",
    "            #print(f\"response is {response}\")\n",
    "            #redict = np.exp(logits) / np.sum(np.exp(logits), axis=-1, keepdims=True)\n",
    "            score = response.scores[0]\n",
    "            A_prob, B_prob, C_prob = score[:,A_TOKEN_IDS], score[:,B_TOKEN_IDS], score[:,C_TOKEN_IDS]\n",
    "            logits = torch.Tensor([[A_prob,B_prob,C_prob]])\n",
    "            logits = torch.softmax(logits, dim=-1).cpu().numpy()\n",
    "            print(f\"logits is {logits}\")\n",
    "            node_result = [[idx[i],logits[i]] for i in range(batch_size)]\n",
    "\n",
    "        test_predictions.append(node_result)\n",
    "    return test_predictions"
   ]
  },
  {
   "cell_type": "code",
   "execution_count": 6,
   "id": "c5600585-ab23-4b1c-a723-7c6ab546e9d1",
   "metadata": {},
   "outputs": [],
   "source": [
    "device = torch.device(\"cuda:0\")"
   ]
  },
  {
   "cell_type": "code",
   "execution_count": 7,
   "id": "62cc96ee-74c1-4f9a-a50d-9a3598330116",
   "metadata": {},
   "outputs": [],
   "source": [
    "base_model = 'meta-llama/llama-3-transformers-8b-hf-v1'\n",
    "model_path = \"output/efficient-sponge-113/checkpoint-4\"\n",
    "MAX_LENGTH = 1500"
   ]
  },
  {
   "cell_type": "code",
   "execution_count": 8,
   "id": "57af0d60-712e-4efa-b0cd-3731f3198ae6",
   "metadata": {},
   "outputs": [
    {
     "name": "stderr",
     "output_type": "stream",
     "text": [
      "Special tokens have been added in the vocabulary, make sure the associated word embeddings are fine-tuned or trained.\n"
     ]
    },
    {
     "data": {
      "application/vnd.jupyter.widget-view+json": {
       "model_id": "ba13d2739bdd47d0b3423d691e789950",
       "version_major": 2,
       "version_minor": 0
      },
      "text/plain": [
       "Loading checkpoint shards:   0%|          | 0/4 [00:00<?, ?it/s]"
      ]
     },
     "metadata": {},
     "output_type": "display_data"
    },
    {
     "data": {
      "text/plain": [
       "PeftModelForSequenceClassification(\n",
       "  (base_model): LoraModel(\n",
       "    (model): LlamaForCausalLM(\n",
       "      (model): LlamaModel(\n",
       "        (embed_tokens): Embedding(128257, 4096)\n",
       "        (layers): ModuleList(\n",
       "          (0-31): 32 x LlamaDecoderLayer(\n",
       "            (self_attn): LlamaSdpaAttention(\n",
       "              (q_proj): lora.Linear4bit(\n",
       "                (base_layer): Linear4bit(in_features=4096, out_features=4096, bias=False)\n",
       "                (lora_dropout): ModuleDict(\n",
       "                  (default): Dropout(p=0.05, inplace=False)\n",
       "                )\n",
       "                (lora_A): ModuleDict(\n",
       "                  (default): Linear(in_features=4096, out_features=8, bias=False)\n",
       "                )\n",
       "                (lora_B): ModuleDict(\n",
       "                  (default): Linear(in_features=8, out_features=4096, bias=False)\n",
       "                )\n",
       "                (lora_embedding_A): ParameterDict()\n",
       "                (lora_embedding_B): ParameterDict()\n",
       "              )\n",
       "              (k_proj): lora.Linear4bit(\n",
       "                (base_layer): Linear4bit(in_features=4096, out_features=1024, bias=False)\n",
       "                (lora_dropout): ModuleDict(\n",
       "                  (default): Dropout(p=0.05, inplace=False)\n",
       "                )\n",
       "                (lora_A): ModuleDict(\n",
       "                  (default): Linear(in_features=4096, out_features=8, bias=False)\n",
       "                )\n",
       "                (lora_B): ModuleDict(\n",
       "                  (default): Linear(in_features=8, out_features=1024, bias=False)\n",
       "                )\n",
       "                (lora_embedding_A): ParameterDict()\n",
       "                (lora_embedding_B): ParameterDict()\n",
       "              )\n",
       "              (v_proj): lora.Linear4bit(\n",
       "                (base_layer): Linear4bit(in_features=4096, out_features=1024, bias=False)\n",
       "                (lora_dropout): ModuleDict(\n",
       "                  (default): Dropout(p=0.05, inplace=False)\n",
       "                )\n",
       "                (lora_A): ModuleDict(\n",
       "                  (default): Linear(in_features=4096, out_features=8, bias=False)\n",
       "                )\n",
       "                (lora_B): ModuleDict(\n",
       "                  (default): Linear(in_features=8, out_features=1024, bias=False)\n",
       "                )\n",
       "                (lora_embedding_A): ParameterDict()\n",
       "                (lora_embedding_B): ParameterDict()\n",
       "              )\n",
       "              (o_proj): lora.Linear4bit(\n",
       "                (base_layer): Linear4bit(in_features=4096, out_features=4096, bias=False)\n",
       "                (lora_dropout): ModuleDict(\n",
       "                  (default): Dropout(p=0.05, inplace=False)\n",
       "                )\n",
       "                (lora_A): ModuleDict(\n",
       "                  (default): Linear(in_features=4096, out_features=8, bias=False)\n",
       "                )\n",
       "                (lora_B): ModuleDict(\n",
       "                  (default): Linear(in_features=8, out_features=4096, bias=False)\n",
       "                )\n",
       "                (lora_embedding_A): ParameterDict()\n",
       "                (lora_embedding_B): ParameterDict()\n",
       "              )\n",
       "              (rotary_emb): LlamaRotaryEmbedding()\n",
       "            )\n",
       "            (mlp): LlamaMLP(\n",
       "              (gate_proj): Linear4bit(in_features=4096, out_features=14336, bias=False)\n",
       "              (up_proj): Linear4bit(in_features=4096, out_features=14336, bias=False)\n",
       "              (down_proj): Linear4bit(in_features=14336, out_features=4096, bias=False)\n",
       "              (act_fn): SiLU()\n",
       "            )\n",
       "            (input_layernorm): LlamaRMSNorm()\n",
       "            (post_attention_layernorm): LlamaRMSNorm()\n",
       "          )\n",
       "        )\n",
       "        (norm): LlamaRMSNorm()\n",
       "      )\n",
       "      (lm_head): Linear(in_features=4096, out_features=128257, bias=False)\n",
       "    )\n",
       "  )\n",
       ")"
      ]
     },
     "execution_count": 8,
     "metadata": {},
     "output_type": "execute_result"
    }
   ],
   "source": [
    "tokenizer = AutoTokenizer.from_pretrained(model_path)\n",
    "config = AutoConfig.from_pretrained(base_model, trust_remote_code=True)\n",
    "\n",
    "bnb_config = BitsAndBytesConfig(\n",
    "    load_in_4bit=True,  \n",
    "    bnb_4bit_quant_type='nf4',\n",
    "    bnb_4bit_compute_dtype=torch.float16,\n",
    "    bnb_4bit_use_double_quant=False\n",
    ")\n",
    "base_model_0 = AutoModelForCausalLM.from_pretrained(base_model,\n",
    "                                                 config=config,\n",
    "                                                 quantization_config=bnb_config,\n",
    "                                                 torch_dtype=torch.bfloat16,\n",
    "                                                 device_map=\"auto\",\n",
    "                                                 trust_remote_code=True)\n",
    "base_model_0.config.pad_token_id = tokenizer.pad_token_id\n",
    "base_model_0.resize_token_embeddings(len(tokenizer))\n",
    "new_model = model_path\n",
    "model0 = PeftModel.from_pretrained(base_model_0, new_model).to(device)\n",
    "#model0 = model0.merge_and_unload()\n",
    "model0.eval()"
   ]
  },
  {
   "cell_type": "code",
   "execution_count": 9,
   "id": "ae5a3f5e-455d-4318-ad64-02280a99aa5d",
   "metadata": {},
   "outputs": [],
   "source": [
    "\n",
    "A_TOKEN_IDS = tokenizer.encode('A',add_special_tokens=True, truncation=True,\n",
    "                                          max_length=1024)\n",
    "B_TOKEN_IDS = tokenizer.encode('B',add_special_tokens=True, truncation=True,\n",
    "                                          max_length=1024)\n",
    "C_TOKEN_IDS = tokenizer.encode('C',add_special_tokens=True, truncation=True,\n",
    "                                          max_length=1024)"
   ]
  },
  {
   "cell_type": "code",
   "execution_count": 10,
   "id": "bd6cf97a-1ad2-4cdb-92c1-17690144d40d",
   "metadata": {},
   "outputs": [],
   "source": [
    "tokenized_dataset = InstructionDataSet(test, tokenizer,MAX_LENGTH, 1)\n",
    "# test_dataloader = torch.utils.data.DataLoader(tokenized_dataset, batch_size = 2 ,shuffle=False, collate_fn=collate_fn)\n",
    "\n",
    "\n",
    "data_collator = DataCollatorForInstruction(tokenizer=tokenizer)\n",
    "batch_size = 1\n",
    "test_dataloader = DataLoader(tokenized_dataset, batch_size=batch_size, shuffle=False, collate_fn=data_collator)"
   ]
  },
  {
   "cell_type": "code",
   "execution_count": 11,
   "id": "4e194ff9-be6d-4472-a28b-b30b91a334a9",
   "metadata": {
    "scrolled": true
   },
   "outputs": [
    {
     "name": "stderr",
     "output_type": "stream",
     "text": [
      "  0%|          | 0/501 [00:00<?, ?it/s]You're using a PreTrainedTokenizerFast tokenizer. Please note that with a fast tokenizer, using the `__call__` method is faster than using a method to encode the text followed by a call to the `pad` method to get a padded encoding.\n",
      "/root/miniconda3/lib/python3.10/site-packages/transformers/tokenization_utils_base.py:2717: UserWarning: `max_length` is ignored when `padding`=`True` and there is no truncation strategy. To pad to max length, use `padding='max_length'`.\n",
      "  warnings.warn(\n",
      "The attention mask and the pad token id were not set. As a consequence, you may observe unexpected behavior. Please pass your input's `attention_mask` to obtain reliable results.\n",
      "Setting `pad_token_id` to `eos_token_id`:128001 for open-end generation.\n",
      "  0%|          | 1/501 [00:00<07:58,  1.04it/s]The attention mask and the pad token id were not set. As a consequence, you may observe unexpected behavior. Please pass your input's `attention_mask` to obtain reliable results.\n",
      "Setting `pad_token_id` to `eos_token_id`:128001 for open-end generation.\n"
     ]
    },
    {
     "name": "stdout",
     "output_type": "stream",
     "text": [
      "score (tensor([[ 3.9062,  4.9688,  5.8750,  ..., -3.8750, -3.8750, -1.5234]],\n",
      "       device='cuda:0'), tensor([[ 4.7500,  4.7188,  6.8125,  ...,  0.0806,  0.0806, -1.6172]],\n",
      "       device='cuda:0'))\n",
      "score is tensor([[ 3.9062,  4.9688,  5.8750,  ..., -3.8750, -3.8750, -1.5234]],\n",
      "       device='cuda:0')\n",
      "logits is [[0.3916697  0.50291383 0.10541646]]\n"
     ]
    },
    {
     "name": "stderr",
     "output_type": "stream",
     "text": [
      "  0%|          | 2/501 [00:01<05:15,  1.58it/s]The attention mask and the pad token id were not set. As a consequence, you may observe unexpected behavior. Please pass your input's `attention_mask` to obtain reliable results.\n",
      "Setting `pad_token_id` to `eos_token_id`:128001 for open-end generation.\n"
     ]
    },
    {
     "name": "stdout",
     "output_type": "stream",
     "text": [
      "score (tensor([[ 5.1562,  5.8438,  6.7188,  ..., -4.5938, -4.5938, -2.4531]],\n",
      "       device='cuda:0'), tensor([[ 4.5938,  5.9688,  7.1562,  ...,  3.0312,  3.0312, -2.4844]],\n",
      "       device='cuda:0'))\n",
      "score is tensor([[ 5.1562,  5.8438,  6.7188,  ..., -4.5938, -4.5938, -2.4531]],\n",
      "       device='cuda:0')\n",
      "logits is [[0.5511481  0.252334   0.19651791]]\n"
     ]
    },
    {
     "name": "stderr",
     "output_type": "stream",
     "text": [
      "  1%|          | 3/501 [00:01<04:11,  1.98it/s]The attention mask and the pad token id were not set. As a consequence, you may observe unexpected behavior. Please pass your input's `attention_mask` to obtain reliable results.\n",
      "Setting `pad_token_id` to `eos_token_id`:128001 for open-end generation.\n"
     ]
    },
    {
     "name": "stdout",
     "output_type": "stream",
     "text": [
      "score (tensor([[ 4.6250,  5.2812,  5.5938,  ..., -1.7188, -1.7188, -1.4531]],\n",
      "       device='cuda:0'), tensor([[ 3.8281,  4.7812,  6.4062,  ...,  0.1157,  0.1157, -2.2188]],\n",
      "       device='cuda:0'))\n",
      "score is tensor([[ 4.6250,  5.2812,  5.5938,  ..., -1.7188, -1.7188, -1.4531]],\n",
      "       device='cuda:0')\n",
      "logits is [[0.5685464  0.26856232 0.16289128]]\n"
     ]
    },
    {
     "name": "stderr",
     "output_type": "stream",
     "text": [
      "  1%|          | 4/501 [00:01<03:17,  2.52it/s]The attention mask and the pad token id were not set. As a consequence, you may observe unexpected behavior. Please pass your input's `attention_mask` to obtain reliable results.\n",
      "Setting `pad_token_id` to `eos_token_id`:128001 for open-end generation.\n"
     ]
    },
    {
     "name": "stdout",
     "output_type": "stream",
     "text": [
      "score (tensor([[ 4.1875,  5.3750,  6.3438,  ..., -4.9375, -4.9375, -1.2891]],\n",
      "       device='cuda:0'), tensor([[ 3.8750,  5.5625,  7.4375,  ..., -1.1484, -1.1484, -1.3594]],\n",
      "       device='cuda:0'))\n",
      "score is tensor([[ 4.1875,  5.3750,  6.3438,  ..., -4.9375, -4.9375, -1.2891]],\n",
      "       device='cuda:0')\n",
      "logits is [[0.5139557  0.38795412 0.09809016]]\n"
     ]
    },
    {
     "name": "stderr",
     "output_type": "stream",
     "text": [
      "  1%|          | 5/501 [00:02<03:24,  2.43it/s]The attention mask and the pad token id were not set. As a consequence, you may observe unexpected behavior. Please pass your input's `attention_mask` to obtain reliable results.\n",
      "Setting `pad_token_id` to `eos_token_id`:128001 for open-end generation.\n"
     ]
    },
    {
     "name": "stdout",
     "output_type": "stream",
     "text": [
      "score (tensor([[ 4.2812,  4.3125,  6.4375,  ..., -5.9375, -5.9375, -1.2891]],\n",
      "       device='cuda:0'), tensor([[ 4.0312,  4.8125,  7.1250,  ..., -4.0312, -4.0312,  0.1611]],\n",
      "       device='cuda:0'))\n",
      "score is tensor([[ 4.2812,  4.3125,  6.4375,  ..., -5.9375, -5.9375, -1.2891]],\n",
      "       device='cuda:0')\n",
      "logits is [[0.32584575 0.5542823  0.11987196]]\n"
     ]
    },
    {
     "name": "stderr",
     "output_type": "stream",
     "text": [
      "  1%|          | 6/501 [00:02<02:51,  2.88it/s]The attention mask and the pad token id were not set. As a consequence, you may observe unexpected behavior. Please pass your input's `attention_mask` to obtain reliable results.\n",
      "Setting `pad_token_id` to `eos_token_id`:128001 for open-end generation.\n"
     ]
    },
    {
     "name": "stdout",
     "output_type": "stream",
     "text": [
      "score (tensor([[ 4.1562,  5.2812,  6.0000,  ..., -5.8125, -5.8125, -3.3438]],\n",
      "       device='cuda:0'), tensor([[ 3.3750,  4.4062,  6.6250,  ...,  2.3281,  2.3281, -2.0625]],\n",
      "       device='cuda:0'))\n",
      "score is tensor([[ 4.1562,  5.2812,  6.0000,  ..., -5.8125, -5.8125, -3.3438]],\n",
      "       device='cuda:0')\n",
      "logits is [[0.17135197 0.72141874 0.10722932]]\n"
     ]
    },
    {
     "name": "stderr",
     "output_type": "stream",
     "text": [
      "  1%|▏         | 7/501 [00:03<03:00,  2.73it/s]The attention mask and the pad token id were not set. As a consequence, you may observe unexpected behavior. Please pass your input's `attention_mask` to obtain reliable results.\n",
      "Setting `pad_token_id` to `eos_token_id`:128001 for open-end generation.\n"
     ]
    },
    {
     "name": "stdout",
     "output_type": "stream",
     "text": [
      "score (tensor([[ 4.8438,  5.7188,  7.1250,  ..., -1.0547, -1.0547, -0.0537]],\n",
      "       device='cuda:0'), tensor([[ 4.4688,  5.4375,  7.7500,  ...,  1.0781,  1.0781, -2.0625]],\n",
      "       device='cuda:0'))\n",
      "score is tensor([[ 4.8438,  5.7188,  7.1250,  ..., -1.0547, -1.0547, -0.0537]],\n",
      "       device='cuda:0')\n",
      "logits is [[0.52931654 0.22065195 0.2500314 ]]\n"
     ]
    },
    {
     "name": "stderr",
     "output_type": "stream",
     "text": [
      "  2%|▏         | 8/501 [00:03<03:04,  2.67it/s]The attention mask and the pad token id were not set. As a consequence, you may observe unexpected behavior. Please pass your input's `attention_mask` to obtain reliable results.\n",
      "Setting `pad_token_id` to `eos_token_id`:128001 for open-end generation.\n"
     ]
    },
    {
     "name": "stdout",
     "output_type": "stream",
     "text": [
      "score (tensor([[ 3.6562,  4.8750,  5.9375,  ..., -3.7500, -3.7500, -0.5273]],\n",
      "       device='cuda:0'), tensor([[ 4.5625,  4.8750,  7.4375,  ..., -2.3125, -2.3125, -1.3750]],\n",
      "       device='cuda:0'))\n",
      "score is tensor([[ 3.6562,  4.8750,  5.9375,  ..., -3.7500, -3.7500, -0.5273]],\n",
      "       device='cuda:0')\n",
      "logits is [[0.44207612 0.3901308  0.16779317]]\n"
     ]
    },
    {
     "name": "stderr",
     "output_type": "stream",
     "text": [
      "  2%|▏         | 9/501 [00:03<02:54,  2.82it/s]"
     ]
    },
    {
     "name": "stdout",
     "output_type": "stream",
     "text": [
      "score (tensor([[ 4.2812,  4.6875,  5.7188,  ..., -5.5312, -5.5312,  0.5938]],\n",
      "       device='cuda:0'), tensor([[ 2.5000,  3.9688,  5.8750,  ...,  2.0781,  2.0781, -4.3438]],\n",
      "       device='cuda:0'))\n",
      "score is tensor([[ 4.2812,  4.6875,  5.7188,  ..., -5.5312, -5.5312,  0.5938]],\n",
      "       device='cuda:0')\n",
      "logits is [[0.3617317  0.5963948  0.04187349]]\n"
     ]
    },
    {
     "name": "stderr",
     "output_type": "stream",
     "text": [
      "The attention mask and the pad token id were not set. As a consequence, you may observe unexpected behavior. Please pass your input's `attention_mask` to obtain reliable results.\n",
      "Setting `pad_token_id` to `eos_token_id`:128001 for open-end generation.\n",
      "  2%|▏         | 10/501 [00:04<03:25,  2.39it/s]"
     ]
    },
    {
     "name": "stdout",
     "output_type": "stream",
     "text": [
      "score (tensor([[ 4.1875,  5.8125,  6.9688,  ...,  2.7031,  2.7031, -3.3906]],\n",
      "       device='cuda:0'), tensor([[ 4.0938,  4.8438,  6.4375,  ...,  1.6484,  1.6484, -3.0000]],\n",
      "       device='cuda:0'))\n",
      "score is tensor([[ 4.1875,  5.8125,  6.9688,  ...,  2.7031,  2.7031, -3.3906]],\n",
      "       device='cuda:0')\n",
      "logits is [[0.6913343  0.15915419 0.14951153]]\n"
     ]
    },
    {
     "name": "stderr",
     "output_type": "stream",
     "text": [
      "The attention mask and the pad token id were not set. As a consequence, you may observe unexpected behavior. Please pass your input's `attention_mask` to obtain reliable results.\n",
      "Setting `pad_token_id` to `eos_token_id`:128001 for open-end generation.\n",
      "  2%|▏         | 11/501 [00:05<04:20,  1.88it/s]The attention mask and the pad token id were not set. As a consequence, you may observe unexpected behavior. Please pass your input's `attention_mask` to obtain reliable results.\n",
      "Setting `pad_token_id` to `eos_token_id`:128001 for open-end generation.\n"
     ]
    },
    {
     "name": "stdout",
     "output_type": "stream",
     "text": [
      "score (tensor([[ 4.7188,  6.3125,  7.6562,  ..., -5.6562, -5.6562,  0.0332]],\n",
      "       device='cuda:0'), tensor([[ 4.3125,  6.2500,  8.6875,  ..., -0.1523, -0.1523, -1.1797]],\n",
      "       device='cuda:0'))\n",
      "score is tensor([[ 4.7188,  6.3125,  7.6562,  ..., -5.6562, -5.6562,  0.0332]],\n",
      "       device='cuda:0')\n",
      "logits is [[0.6044545  0.17317912 0.2223664 ]]\n"
     ]
    },
    {
     "name": "stderr",
     "output_type": "stream",
     "text": [
      "  2%|▏         | 12/501 [00:05<03:39,  2.23it/s]The attention mask and the pad token id were not set. As a consequence, you may observe unexpected behavior. Please pass your input's `attention_mask` to obtain reliable results.\n",
      "Setting `pad_token_id` to `eos_token_id`:128001 for open-end generation.\n"
     ]
    },
    {
     "name": "stdout",
     "output_type": "stream",
     "text": [
      "score (tensor([[ 3.7500,  5.6562,  6.4688,  ..., -4.2500, -4.2500, -1.6797]],\n",
      "       device='cuda:0'), tensor([[ 3.7031,  6.0000,  7.4375,  ..., -0.4512, -0.4531, -1.7969]],\n",
      "       device='cuda:0'))\n",
      "score is tensor([[ 3.7500,  5.6562,  6.4688,  ..., -4.2500, -4.2500, -1.6797]],\n",
      "       device='cuda:0')\n",
      "logits is [[0.5487513  0.26744002 0.18380865]]\n"
     ]
    },
    {
     "name": "stderr",
     "output_type": "stream",
     "text": [
      "  3%|▎         | 13/501 [00:05<03:31,  2.31it/s]The attention mask and the pad token id were not set. As a consequence, you may observe unexpected behavior. Please pass your input's `attention_mask` to obtain reliable results.\n",
      "Setting `pad_token_id` to `eos_token_id`:128001 for open-end generation.\n"
     ]
    },
    {
     "name": "stdout",
     "output_type": "stream",
     "text": [
      "score (tensor([[ 4.5000,  6.0000,  7.0312,  ...,  1.7109,  1.7109, -0.7695]],\n",
      "       device='cuda:0'), tensor([[ 4.0625,  5.5625,  7.5312,  ...,  1.8906,  1.8906, -1.3203]],\n",
      "       device='cuda:0'))\n",
      "score is tensor([[ 4.5000,  6.0000,  7.0312,  ...,  1.7109,  1.7109, -0.7695]],\n",
      "       device='cuda:0')\n",
      "logits is [[0.6874402  0.1440953  0.16846447]]\n"
     ]
    },
    {
     "name": "stderr",
     "output_type": "stream",
     "text": [
      "  3%|▎         | 14/501 [00:05<03:02,  2.67it/s]"
     ]
    },
    {
     "name": "stdout",
     "output_type": "stream",
     "text": [
      "score (tensor([[ 5.5938,  6.0625,  7.1562,  ..., -4.5625, -4.5625, -0.0654]],\n",
      "       device='cuda:0'), tensor([[ 7.8438,  6.8125,  8.0625,  ...,  0.4121,  0.4121, -0.4512]],\n",
      "       device='cuda:0'))\n",
      "score is tensor([[ 5.5938,  6.0625,  7.1562,  ..., -4.5625, -4.5625, -0.0654]],\n",
      "       device='cuda:0')\n",
      "logits is [[0.45278412 0.4819862  0.06522974]]\n"
     ]
    },
    {
     "name": "stderr",
     "output_type": "stream",
     "text": [
      "The attention mask and the pad token id were not set. As a consequence, you may observe unexpected behavior. Please pass your input's `attention_mask` to obtain reliable results.\n",
      "Setting `pad_token_id` to `eos_token_id`:128001 for open-end generation.\n",
      "  3%|▎         | 15/501 [00:06<03:38,  2.23it/s]The attention mask and the pad token id were not set. As a consequence, you may observe unexpected behavior. Please pass your input's `attention_mask` to obtain reliable results.\n",
      "Setting `pad_token_id` to `eos_token_id`:128001 for open-end generation.\n"
     ]
    },
    {
     "name": "stdout",
     "output_type": "stream",
     "text": [
      "score (tensor([[ 4.6875,  5.4062,  6.3438,  ..., -4.6562, -4.6562, -1.3828]],\n",
      "       device='cuda:0'), tensor([[ 6.1250,  5.1250,  7.2188,  ..., -0.1680, -0.1680, -2.3594]],\n",
      "       device='cuda:0'))\n",
      "score is tensor([[ 4.6875,  5.4062,  6.3438,  ..., -4.6562, -4.6562, -1.3828]],\n",
      "       device='cuda:0')\n",
      "logits is [[0.43734327 0.38595408 0.17670265]]\n"
     ]
    },
    {
     "name": "stderr",
     "output_type": "stream",
     "text": [
      "  3%|▎         | 16/501 [00:06<03:16,  2.46it/s]The attention mask and the pad token id were not set. As a consequence, you may observe unexpected behavior. Please pass your input's `attention_mask` to obtain reliable results.\n",
      "Setting `pad_token_id` to `eos_token_id`:128001 for open-end generation.\n"
     ]
    },
    {
     "name": "stdout",
     "output_type": "stream",
     "text": [
      "score (tensor([[ 6.0938,  5.9375,  7.7500,  ..., -4.1250, -4.1250, -4.3438]],\n",
      "       device='cuda:0'), tensor([[ 5.9062,  6.1875,  8.4375,  ...,  0.1270,  0.1270, -2.3594]],\n",
      "       device='cuda:0'))\n",
      "score is tensor([[ 6.0938,  5.9375,  7.7500,  ..., -4.1250, -4.1250, -4.3438]],\n",
      "       device='cuda:0')\n",
      "logits is [[0.44925287 0.42203403 0.1287131 ]]\n"
     ]
    },
    {
     "name": "stderr",
     "output_type": "stream",
     "text": [
      "  3%|▎         | 17/501 [00:07<02:51,  2.82it/s]The attention mask and the pad token id were not set. As a consequence, you may observe unexpected behavior. Please pass your input's `attention_mask` to obtain reliable results.\n",
      "Setting `pad_token_id` to `eos_token_id`:128001 for open-end generation.\n"
     ]
    },
    {
     "name": "stdout",
     "output_type": "stream",
     "text": [
      "score (tensor([[ 4.6875,  5.5000,  7.8438,  ..., -0.3359, -0.3359, -2.1406]],\n",
      "       device='cuda:0'), tensor([[ 4.4375,  6.0625,  8.0625,  ...,  0.6875,  0.6875, -1.7109]],\n",
      "       device='cuda:0'))\n",
      "score is tensor([[ 4.6875,  5.5000,  7.8438,  ..., -0.3359, -0.3359, -2.1406]],\n",
      "       device='cuda:0')\n",
      "logits is [[0.52931654 0.22065195 0.2500314 ]]\n"
     ]
    },
    {
     "name": "stderr",
     "output_type": "stream",
     "text": [
      "  4%|▎         | 18/501 [00:07<03:03,  2.64it/s]"
     ]
    },
    {
     "name": "stdout",
     "output_type": "stream",
     "text": [
      "score (tensor([[ 4.4375,  5.8125,  7.3750,  ..., -3.3906, -3.3906, -2.3281]],\n",
      "       device='cuda:0'), tensor([[ 4.6562,  5.2812,  7.6875,  ..., -0.9570, -0.9570, -1.1250]],\n",
      "       device='cuda:0'))\n",
      "score is tensor([[ 4.4375,  5.8125,  7.3750,  ..., -3.3906, -3.3906, -2.3281]],\n",
      "       device='cuda:0')\n",
      "logits is [[0.5254472  0.28125164 0.19330123]]\n"
     ]
    },
    {
     "name": "stderr",
     "output_type": "stream",
     "text": [
      "The attention mask and the pad token id were not set. As a consequence, you may observe unexpected behavior. Please pass your input's `attention_mask` to obtain reliable results.\n",
      "Setting `pad_token_id` to `eos_token_id`:128001 for open-end generation.\n",
      "  4%|▍         | 19/501 [00:08<03:19,  2.42it/s]The attention mask and the pad token id were not set. As a consequence, you may observe unexpected behavior. Please pass your input's `attention_mask` to obtain reliable results.\n",
      "Setting `pad_token_id` to `eos_token_id`:128001 for open-end generation.\n"
     ]
    },
    {
     "name": "stdout",
     "output_type": "stream",
     "text": [
      "score (tensor([[ 4.1250,  5.8750,  6.8438,  ..., -2.8438, -2.8438, -0.1177]],\n",
      "       device='cuda:0'), tensor([[ 4.4062,  5.9688,  7.9688,  ..., -0.6367, -0.6367, -0.7305]],\n",
      "       device='cuda:0'))\n",
      "score is tensor([[ 4.1250,  5.8750,  6.8438,  ..., -2.8438, -2.8438, -0.1177]],\n",
      "       device='cuda:0')\n",
      "logits is [[0.5872551  0.19670583 0.21603909]]\n"
     ]
    },
    {
     "name": "stderr",
     "output_type": "stream",
     "text": [
      "  4%|▍         | 20/501 [00:08<02:56,  2.72it/s]The attention mask and the pad token id were not set. As a consequence, you may observe unexpected behavior. Please pass your input's `attention_mask` to obtain reliable results.\n",
      "Setting `pad_token_id` to `eos_token_id`:128001 for open-end generation.\n"
     ]
    },
    {
     "name": "stdout",
     "output_type": "stream",
     "text": [
      "score (tensor([[ 4.7188,  6.0312,  6.9375,  ..., -5.7188, -5.7188, -1.3750]],\n",
      "       device='cuda:0'), tensor([[ 4.4688,  6.5938,  7.9688,  ...,  0.0605,  0.0605, -1.4844]],\n",
      "       device='cuda:0'))\n",
      "score is tensor([[ 4.7188,  6.0312,  6.9375,  ..., -5.7188, -5.7188, -1.3750]],\n",
      "       device='cuda:0')\n",
      "logits is [[0.36457288 0.34248453 0.29294255]]\n"
     ]
    },
    {
     "name": "stderr",
     "output_type": "stream",
     "text": [
      "  4%|▍         | 21/501 [00:08<02:48,  2.85it/s]The attention mask and the pad token id were not set. As a consequence, you may observe unexpected behavior. Please pass your input's `attention_mask` to obtain reliable results.\n",
      "Setting `pad_token_id` to `eos_token_id`:128001 for open-end generation.\n"
     ]
    },
    {
     "name": "stdout",
     "output_type": "stream",
     "text": [
      "score (tensor([[ 4.9062,  5.2500,  6.5000,  ..., -2.2031, -2.2031, -0.6133]],\n",
      "       device='cuda:0'), tensor([[ 4.3750,  5.0312,  6.5938,  ...,  0.8750,  0.8750, -2.2656]],\n",
      "       device='cuda:0'))\n",
      "score is tensor([[ 4.9062,  5.2500,  6.5000,  ..., -2.2031, -2.2031, -0.6133]],\n",
      "       device='cuda:0')\n",
      "logits is [[0.57202786 0.20396282 0.22400932]]\n"
     ]
    },
    {
     "name": "stderr",
     "output_type": "stream",
     "text": [
      "  4%|▍         | 22/501 [00:08<02:50,  2.81it/s]"
     ]
    },
    {
     "name": "stdout",
     "output_type": "stream",
     "text": [
      "score (tensor([[ 4.9062,  5.8438,  6.9688,  ..., -4.0625, -4.0625, -1.4297]],\n",
      "       device='cuda:0'), tensor([[ 4.1250,  5.4375,  7.5312,  ...,  1.6250,  1.6250, -2.0156]],\n",
      "       device='cuda:0'))\n",
      "score is tensor([[ 4.9062,  5.8438,  6.9688,  ..., -4.0625, -4.0625, -1.4297]],\n",
      "       device='cuda:0')\n",
      "logits is [[0.5137218  0.22796267 0.25831556]]\n"
     ]
    },
    {
     "name": "stderr",
     "output_type": "stream",
     "text": [
      "The attention mask and the pad token id were not set. As a consequence, you may observe unexpected behavior. Please pass your input's `attention_mask` to obtain reliable results.\n",
      "Setting `pad_token_id` to `eos_token_id`:128001 for open-end generation.\n",
      "  5%|▍         | 23/501 [00:09<03:52,  2.06it/s]The attention mask and the pad token id were not set. As a consequence, you may observe unexpected behavior. Please pass your input's `attention_mask` to obtain reliable results.\n",
      "Setting `pad_token_id` to `eos_token_id`:128001 for open-end generation.\n"
     ]
    },
    {
     "name": "stdout",
     "output_type": "stream",
     "text": [
      "score (tensor([[ 4.1562,  5.5938,  6.4062,  ..., -2.8750, -2.8750, -2.6406]],\n",
      "       device='cuda:0'), tensor([[ 5.4062,  6.6250,  7.8125,  ..., -0.0718, -0.0718, -1.1406]],\n",
      "       device='cuda:0'))\n",
      "score is tensor([[ 4.1562,  5.5938,  6.4062,  ..., -2.8750, -2.8750, -2.6406]],\n",
      "       device='cuda:0')\n",
      "logits is [[0.35040897 0.44993404 0.19965702]]\n"
     ]
    },
    {
     "name": "stderr",
     "output_type": "stream",
     "text": [
      "  5%|▍         | 24/501 [00:10<03:39,  2.18it/s]"
     ]
    },
    {
     "name": "stdout",
     "output_type": "stream",
     "text": [
      "score (tensor([[ 4.6250,  5.6562,  6.3750,  ..., -5.3125, -5.3125, -0.9727]],\n",
      "       device='cuda:0'), tensor([[ 4.0938,  5.5000,  7.1250,  ...,  2.2812,  2.2812, -2.0312]],\n",
      "       device='cuda:0'))\n",
      "score is tensor([[ 4.6250,  5.6562,  6.3750,  ..., -5.3125, -5.3125, -0.9727]],\n",
      "       device='cuda:0')\n",
      "logits is [[0.33613393 0.30605343 0.3578127 ]]\n"
     ]
    },
    {
     "name": "stderr",
     "output_type": "stream",
     "text": [
      "The attention mask and the pad token id were not set. As a consequence, you may observe unexpected behavior. Please pass your input's `attention_mask` to obtain reliable results.\n",
      "Setting `pad_token_id` to `eos_token_id`:128001 for open-end generation.\n",
      "  5%|▍         | 25/501 [00:10<04:03,  1.96it/s]The attention mask and the pad token id were not set. As a consequence, you may observe unexpected behavior. Please pass your input's `attention_mask` to obtain reliable results.\n",
      "Setting `pad_token_id` to `eos_token_id`:128001 for open-end generation.\n"
     ]
    },
    {
     "name": "stdout",
     "output_type": "stream",
     "text": [
      "score (tensor([[ 4.4062,  6.9062,  6.9375,  ..., -4.5938, -4.5938,  0.3965]],\n",
      "       device='cuda:0'), tensor([[ 4.5938,  6.4062,  8.3750,  ...,  1.2969,  1.2969, -1.6250]],\n",
      "       device='cuda:0'))\n",
      "score is tensor([[ 4.4062,  6.9062,  6.9375,  ..., -4.5938, -4.5938,  0.3965]],\n",
      "       device='cuda:0')\n",
      "logits is [[0.47540227 0.3069428  0.21765502]]\n"
     ]
    },
    {
     "name": "stderr",
     "output_type": "stream",
     "text": [
      "  5%|▌         | 26/501 [00:11<03:38,  2.17it/s]The attention mask and the pad token id were not set. As a consequence, you may observe unexpected behavior. Please pass your input's `attention_mask` to obtain reliable results.\n",
      "Setting `pad_token_id` to `eos_token_id`:128001 for open-end generation.\n"
     ]
    },
    {
     "name": "stdout",
     "output_type": "stream",
     "text": [
      "score (tensor([[ 4.3438,  5.8125,  6.9375,  ..., -2.8906, -2.8906, -1.9844]],\n",
      "       device='cuda:0'), tensor([[ 4.3125,  6.0312,  7.8125,  ...,  1.1172,  1.1172, -2.0469]],\n",
      "       device='cuda:0'))\n",
      "score is tensor([[ 4.3438,  5.8125,  6.9375,  ..., -2.8906, -2.8906, -1.9844]],\n",
      "       device='cuda:0')\n",
      "logits is [[0.6697112  0.22432515 0.10596369]]\n"
     ]
    },
    {
     "name": "stderr",
     "output_type": "stream",
     "text": [
      "  5%|▌         | 27/501 [00:11<03:29,  2.26it/s]"
     ]
    },
    {
     "name": "stdout",
     "output_type": "stream",
     "text": [
      "score (tensor([[ 4.1875,  7.0312,  6.8438,  ...,  0.1826,  0.1826, -0.6523]],\n",
      "       device='cuda:0'), tensor([[ 4.2188,  6.8125,  6.8125,  ...,  1.6562,  1.6562, -2.0156]],\n",
      "       device='cuda:0'))\n",
      "score is tensor([[ 4.1875,  7.0312,  6.8438,  ...,  0.1826,  0.1826, -0.6523]],\n",
      "       device='cuda:0')\n",
      "logits is [[0.69703925 0.18183357 0.12112726]]\n"
     ]
    },
    {
     "name": "stderr",
     "output_type": "stream",
     "text": [
      "The attention mask and the pad token id were not set. As a consequence, you may observe unexpected behavior. Please pass your input's `attention_mask` to obtain reliable results.\n",
      "Setting `pad_token_id` to `eos_token_id`:128001 for open-end generation.\n",
      "  6%|▌         | 28/501 [00:12<04:19,  1.82it/s]"
     ]
    },
    {
     "name": "stdout",
     "output_type": "stream",
     "text": [
      "score (tensor([[ 6.3125,  6.3438,  9.4375,  ..., -3.1719, -3.1719, -4.9688]],\n",
      "       device='cuda:0'), tensor([[ 6.4062e+00,  6.5938e+00,  1.0438e+01,  ...,  7.5378e-03,\n",
      "          7.5378e-03, -3.8750e+00]], device='cuda:0'))\n",
      "score is tensor([[ 6.3125,  6.3438,  9.4375,  ..., -3.1719, -3.1719, -4.9688]],\n",
      "       device='cuda:0')\n",
      "logits is [[0.72671056 0.1837412  0.08954831]]\n"
     ]
    },
    {
     "name": "stderr",
     "output_type": "stream",
     "text": [
      "The attention mask and the pad token id were not set. As a consequence, you may observe unexpected behavior. Please pass your input's `attention_mask` to obtain reliable results.\n",
      "Setting `pad_token_id` to `eos_token_id`:128001 for open-end generation.\n",
      "  6%|▌         | 29/501 [00:13<04:53,  1.61it/s]"
     ]
    },
    {
     "name": "stdout",
     "output_type": "stream",
     "text": [
      "score (tensor([[ 4.1875,  5.3125,  6.9375,  ..., -4.5312, -4.5312, -6.3125]],\n",
      "       device='cuda:0'), tensor([[ 5.7188,  5.9375,  9.5625,  ..., -0.0977, -0.0977, -5.2500]],\n",
      "       device='cuda:0'))\n",
      "score is tensor([[ 4.1875,  5.3125,  6.9375,  ..., -4.5312, -4.5312, -6.3125]],\n",
      "       device='cuda:0')\n",
      "logits is [[0.4567359  0.33415514 0.20910893]]\n"
     ]
    },
    {
     "name": "stderr",
     "output_type": "stream",
     "text": [
      "The attention mask and the pad token id were not set. As a consequence, you may observe unexpected behavior. Please pass your input's `attention_mask` to obtain reliable results.\n",
      "Setting `pad_token_id` to `eos_token_id`:128001 for open-end generation.\n",
      "  6%|▌         | 30/501 [00:13<05:17,  1.48it/s]"
     ]
    },
    {
     "name": "stdout",
     "output_type": "stream",
     "text": [
      "score (tensor([[ 4.2500,  5.3125,  6.6875,  ..., -4.3125, -4.3125, -6.4062]],\n",
      "       device='cuda:0'), tensor([[ 5.1250,  5.9375,  9.1875,  ...,  0.1279,  0.1279, -4.9688]],\n",
      "       device='cuda:0'))\n",
      "score is tensor([[ 4.2500,  5.3125,  6.6875,  ..., -4.3125, -4.3125, -6.4062]],\n",
      "       device='cuda:0')\n",
      "logits is [[0.43666196 0.32960975 0.23372832]]\n"
     ]
    },
    {
     "name": "stderr",
     "output_type": "stream",
     "text": [
      "The attention mask and the pad token id were not set. As a consequence, you may observe unexpected behavior. Please pass your input's `attention_mask` to obtain reliable results.\n",
      "Setting `pad_token_id` to `eos_token_id`:128001 for open-end generation.\n",
      "  6%|▌         | 31/501 [00:14<05:00,  1.56it/s]The attention mask and the pad token id were not set. As a consequence, you may observe unexpected behavior. Please pass your input's `attention_mask` to obtain reliable results.\n",
      "Setting `pad_token_id` to `eos_token_id`:128001 for open-end generation.\n"
     ]
    },
    {
     "name": "stdout",
     "output_type": "stream",
     "text": [
      "score (tensor([[ 4.3438,  5.1250,  5.7500,  ..., -3.1562, -3.1562,  1.3047]],\n",
      "       device='cuda:0'), tensor([[ 4.1562,  3.3750,  3.8281,  ..., -3.9844, -3.9844, -0.7852]],\n",
      "       device='cuda:0'))\n",
      "score is tensor([[ 4.3438,  5.1250,  5.7500,  ..., -3.1562, -3.1562,  1.3047]],\n",
      "       device='cuda:0')\n",
      "logits is [[0.5926962  0.23210315 0.17520066]]\n"
     ]
    },
    {
     "name": "stderr",
     "output_type": "stream",
     "text": [
      "  6%|▋         | 32/501 [00:14<04:15,  1.83it/s]The attention mask and the pad token id were not set. As a consequence, you may observe unexpected behavior. Please pass your input's `attention_mask` to obtain reliable results.\n",
      "Setting `pad_token_id` to `eos_token_id`:128001 for open-end generation.\n"
     ]
    },
    {
     "name": "stdout",
     "output_type": "stream",
     "text": [
      "score (tensor([[ 3.9688,  5.0312,  5.6875,  ..., -4.6250, -4.6250, -1.0391]],\n",
      "       device='cuda:0'), tensor([[ 4.4688,  5.3125,  6.8750,  ..., -3.0156, -3.0156, -0.6641]],\n",
      "       device='cuda:0'))\n",
      "score is tensor([[ 3.9688,  5.0312,  5.6875,  ..., -4.6250, -4.6250, -1.0391]],\n",
      "       device='cuda:0')\n",
      "logits is [[0.28229594 0.5111719  0.2065321 ]]\n"
     ]
    },
    {
     "name": "stderr",
     "output_type": "stream",
     "text": [
      "  7%|▋         | 33/501 [00:15<04:02,  1.93it/s]The attention mask and the pad token id were not set. As a consequence, you may observe unexpected behavior. Please pass your input's `attention_mask` to obtain reliable results.\n",
      "Setting `pad_token_id` to `eos_token_id`:128001 for open-end generation.\n"
     ]
    },
    {
     "name": "stdout",
     "output_type": "stream",
     "text": [
      "score (tensor([[ 4.2812,  5.4375,  6.6562,  ..., -0.5664, -0.5664, -0.7461]],\n",
      "       device='cuda:0'), tensor([[ 4.2500,  4.9375,  6.6562,  ...,  0.6094,  0.6055, -2.5938]],\n",
      "       device='cuda:0'))\n",
      "score is tensor([[ 4.2812,  5.4375,  6.6562,  ..., -0.5664, -0.5664, -0.7461]],\n",
      "       device='cuda:0')\n",
      "logits is [[0.6170101  0.22698534 0.1560046 ]]\n"
     ]
    },
    {
     "name": "stderr",
     "output_type": "stream",
     "text": [
      "  7%|▋         | 34/501 [00:15<03:32,  2.19it/s]The attention mask and the pad token id were not set. As a consequence, you may observe unexpected behavior. Please pass your input's `attention_mask` to obtain reliable results.\n",
      "Setting `pad_token_id` to `eos_token_id`:128001 for open-end generation.\n"
     ]
    },
    {
     "name": "stdout",
     "output_type": "stream",
     "text": [
      "score (tensor([[ 3.9844,  5.6875,  6.2812,  ...,  1.8203,  1.8203, -3.7500]],\n",
      "       device='cuda:0'), tensor([[ 5.1250,  6.4062,  8.0000,  ...,  2.7188,  2.7188, -1.2656]],\n",
      "       device='cuda:0'))\n",
      "score is tensor([[ 3.9844,  5.6875,  6.2812,  ...,  1.8203,  1.8203, -3.7500]],\n",
      "       device='cuda:0')\n",
      "logits is [[0.80913955 0.08798984 0.10287055]]\n"
     ]
    },
    {
     "name": "stderr",
     "output_type": "stream",
     "text": [
      "  7%|▋         | 35/501 [00:15<03:19,  2.33it/s]The attention mask and the pad token id were not set. As a consequence, you may observe unexpected behavior. Please pass your input's `attention_mask` to obtain reliable results.\n",
      "Setting `pad_token_id` to `eos_token_id`:128001 for open-end generation.\n"
     ]
    },
    {
     "name": "stdout",
     "output_type": "stream",
     "text": [
      "score (tensor([[ 4.8438,  4.9688,  6.5000,  ..., -5.9375, -5.9375, -0.7109]],\n",
      "       device='cuda:0'), tensor([[ 4.0625,  4.5000,  7.0938,  ..., -4.1250, -4.1250, -0.8594]],\n",
      "       device='cuda:0'))\n",
      "score is tensor([[ 4.8438,  4.9688,  6.5000,  ..., -5.9375, -5.9375, -0.7109]],\n",
      "       device='cuda:0')\n",
      "logits is [[0.2325153  0.6125962  0.15488859]]\n"
     ]
    },
    {
     "name": "stderr",
     "output_type": "stream",
     "text": [
      "  7%|▋         | 36/501 [00:16<03:15,  2.37it/s]"
     ]
    },
    {
     "name": "stdout",
     "output_type": "stream",
     "text": [
      "score (tensor([[ 3.9062,  4.8438,  5.2500,  ..., -5.5000, -5.5000, -0.8320]],\n",
      "       device='cuda:0'), tensor([[ 3.5312,  4.2500,  6.6562,  ...,  2.3594,  2.3594, -4.0625]],\n",
      "       device='cuda:0'))\n",
      "score is tensor([[ 3.9062,  4.8438,  5.2500,  ..., -5.5000, -5.5000, -0.8320]],\n",
      "       device='cuda:0')\n",
      "logits is [[0.3867294  0.46648473 0.14678593]]\n"
     ]
    },
    {
     "name": "stderr",
     "output_type": "stream",
     "text": [
      "The attention mask and the pad token id were not set. As a consequence, you may observe unexpected behavior. Please pass your input's `attention_mask` to obtain reliable results.\n",
      "Setting `pad_token_id` to `eos_token_id`:128001 for open-end generation.\n",
      "  7%|▋         | 37/501 [00:16<03:38,  2.12it/s]"
     ]
    },
    {
     "name": "stdout",
     "output_type": "stream",
     "text": [
      "score (tensor([[ 4.2188,  5.7500,  6.5000,  ..., -3.6406, -3.6406, -0.9375]],\n",
      "       device='cuda:0'), tensor([[ 4.5312,  6.0938,  7.8438,  ..., -2.5000, -2.5000, -0.8438]],\n",
      "       device='cuda:0'))\n",
      "score is tensor([[ 4.2188,  5.7500,  6.5000,  ..., -3.6406, -3.6406, -0.9375]],\n",
      "       device='cuda:0')\n",
      "logits is [[0.28413245 0.41341025 0.30245742]]\n"
     ]
    },
    {
     "name": "stderr",
     "output_type": "stream",
     "text": [
      "The attention mask and the pad token id were not set. As a consequence, you may observe unexpected behavior. Please pass your input's `attention_mask` to obtain reliable results.\n",
      "Setting `pad_token_id` to `eos_token_id`:128001 for open-end generation.\n",
      "  8%|▊         | 38/501 [00:17<04:01,  1.91it/s]The attention mask and the pad token id were not set. As a consequence, you may observe unexpected behavior. Please pass your input's `attention_mask` to obtain reliable results.\n",
      "Setting `pad_token_id` to `eos_token_id`:128001 for open-end generation.\n"
     ]
    },
    {
     "name": "stdout",
     "output_type": "stream",
     "text": [
      "score (tensor([[ 4.3750,  4.9375,  6.0938,  ..., -4.2812, -4.2812,  0.8125]],\n",
      "       device='cuda:0'), tensor([[ 4.3438,  5.4375,  7.5000,  ..., -3.3750, -3.3750,  0.0317]],\n",
      "       device='cuda:0'))\n",
      "score is tensor([[ 4.3750,  4.9375,  6.0938,  ..., -4.2812, -4.2812,  0.8125]],\n",
      "       device='cuda:0')\n",
      "logits is [[0.47407696 0.28754222 0.23838086]]\n"
     ]
    },
    {
     "name": "stderr",
     "output_type": "stream",
     "text": [
      "  8%|▊         | 39/501 [00:17<03:31,  2.18it/s]The attention mask and the pad token id were not set. As a consequence, you may observe unexpected behavior. Please pass your input's `attention_mask` to obtain reliable results.\n",
      "Setting `pad_token_id` to `eos_token_id`:128001 for open-end generation.\n"
     ]
    },
    {
     "name": "stdout",
     "output_type": "stream",
     "text": [
      "score (tensor([[ 4.8438,  5.6875,  6.4375,  ..., -5.3750, -5.3750, -0.2676]],\n",
      "       device='cuda:0'), tensor([[ 3.7812,  5.5938,  7.2188,  ...,  1.9297,  1.9297, -2.1875]],\n",
      "       device='cuda:0'))\n",
      "score is tensor([[ 4.8438,  5.6875,  6.4375,  ..., -5.3750, -5.3750, -0.2676]],\n",
      "       device='cuda:0')\n",
      "logits is [[0.28178298 0.28178298 0.43643403]]\n"
     ]
    },
    {
     "name": "stderr",
     "output_type": "stream",
     "text": [
      "  8%|▊         | 40/501 [00:18<03:12,  2.40it/s]The attention mask and the pad token id were not set. As a consequence, you may observe unexpected behavior. Please pass your input's `attention_mask` to obtain reliable results.\n",
      "Setting `pad_token_id` to `eos_token_id`:128001 for open-end generation.\n"
     ]
    },
    {
     "name": "stdout",
     "output_type": "stream",
     "text": [
      "score (tensor([[ 5.0625,  5.0312,  7.6250,  ..., -2.2344, -2.2344, -0.6445]],\n",
      "       device='cuda:0'), tensor([[ 4.3125,  5.2812,  7.6250,  ..., -0.1216, -0.1216, -1.2891]],\n",
      "       device='cuda:0'))\n",
      "score is tensor([[ 5.0625,  5.0312,  7.6250,  ..., -2.2344, -2.2344, -0.6445]],\n",
      "       device='cuda:0')\n",
      "logits is [[0.6273204  0.22367798 0.14900166]]\n"
     ]
    },
    {
     "name": "stderr",
     "output_type": "stream",
     "text": [
      "  8%|▊         | 41/501 [00:18<02:46,  2.75it/s]The attention mask and the pad token id were not set. As a consequence, you may observe unexpected behavior. Please pass your input's `attention_mask` to obtain reliable results.\n",
      "Setting `pad_token_id` to `eos_token_id`:128001 for open-end generation.\n"
     ]
    },
    {
     "name": "stdout",
     "output_type": "stream",
     "text": [
      "score (tensor([[ 3.9688,  4.8750,  6.3750,  ..., -1.4844, -1.4844, -1.7109]],\n",
      "       device='cuda:0'), tensor([[ 3.9219,  5.2188,  7.3125,  ..., -2.1250, -2.1250, -0.6836]],\n",
      "       device='cuda:0'))\n",
      "score is tensor([[ 3.9688,  4.8750,  6.3750,  ..., -1.4844, -1.4844, -1.7109]],\n",
      "       device='cuda:0')\n",
      "logits is [[0.49407455 0.37294704 0.13297836]]\n"
     ]
    },
    {
     "name": "stderr",
     "output_type": "stream",
     "text": [
      "  8%|▊         | 42/501 [00:18<02:59,  2.56it/s]The attention mask and the pad token id were not set. As a consequence, you may observe unexpected behavior. Please pass your input's `attention_mask` to obtain reliable results.\n",
      "Setting `pad_token_id` to `eos_token_id`:128001 for open-end generation.\n"
     ]
    },
    {
     "name": "stdout",
     "output_type": "stream",
     "text": [
      "score (tensor([[ 4.7188,  6.3438,  6.7188,  ..., -5.5938, -5.5938, -1.4531]],\n",
      "       device='cuda:0'), tensor([[ 4.1875,  5.3125,  7.3438,  ...,  2.4219,  2.4219, -1.5391]],\n",
      "       device='cuda:0'))\n",
      "score is tensor([[ 4.7188,  6.3438,  6.7188,  ..., -5.5938, -5.5938, -1.4531]],\n",
      "       device='cuda:0')\n",
      "logits is [[0.23823412 0.36898422 0.39278165]]\n"
     ]
    },
    {
     "name": "stderr",
     "output_type": "stream",
     "text": [
      "  9%|▊         | 43/501 [00:19<03:00,  2.54it/s]The attention mask and the pad token id were not set. As a consequence, you may observe unexpected behavior. Please pass your input's `attention_mask` to obtain reliable results.\n",
      "Setting `pad_token_id` to `eos_token_id`:128001 for open-end generation.\n"
     ]
    },
    {
     "name": "stdout",
     "output_type": "stream",
     "text": [
      "score (tensor([[ 4.1562,  6.2188,  6.0938,  ..., -5.0312, -5.0312, -1.3672]],\n",
      "       device='cuda:0'), tensor([[ 4.8125,  6.8125,  8.1250,  ..., -0.6250, -0.6250, -2.2500]],\n",
      "       device='cuda:0'))\n",
      "score is tensor([[ 4.1562,  6.2188,  6.0938,  ..., -5.0312, -5.0312, -1.3672]],\n",
      "       device='cuda:0')\n",
      "logits is [[0.2909895  0.5269139  0.18209657]]\n"
     ]
    },
    {
     "name": "stderr",
     "output_type": "stream",
     "text": [
      "  9%|▉         | 44/501 [00:19<02:55,  2.60it/s]The attention mask and the pad token id were not set. As a consequence, you may observe unexpected behavior. Please pass your input's `attention_mask` to obtain reliable results.\n",
      "Setting `pad_token_id` to `eos_token_id`:128001 for open-end generation.\n"
     ]
    },
    {
     "name": "stdout",
     "output_type": "stream",
     "text": [
      "score (tensor([[ 4.4688,  5.6562,  6.4062,  ..., -4.9375, -4.9375,  0.2871]],\n",
      "       device='cuda:0'), tensor([[ 4.1562,  5.6875,  7.5938,  ...,  0.9570,  0.9570, -2.2500]],\n",
      "       device='cuda:0'))\n",
      "score is tensor([[ 4.4688,  5.6562,  6.4062,  ..., -4.9375, -4.9375,  0.2871]],\n",
      "       device='cuda:0')\n",
      "logits is [[0.4513794  0.29143244 0.25718823]]\n"
     ]
    },
    {
     "name": "stderr",
     "output_type": "stream",
     "text": [
      "  9%|▉         | 45/501 [00:19<02:45,  2.76it/s]The attention mask and the pad token id were not set. As a consequence, you may observe unexpected behavior. Please pass your input's `attention_mask` to obtain reliable results.\n",
      "Setting `pad_token_id` to `eos_token_id`:128001 for open-end generation.\n"
     ]
    },
    {
     "name": "stdout",
     "output_type": "stream",
     "text": [
      "score (tensor([[ 4.9062,  5.1250,  7.5000,  ..., -4.2500, -4.2500, -3.6562]],\n",
      "       device='cuda:0'), tensor([[ 4.8125,  5.4062,  7.2500,  ...,  0.5117,  0.5117, -3.2031]],\n",
      "       device='cuda:0'))\n",
      "score is tensor([[ 4.9062,  5.1250,  7.5000,  ..., -4.2500, -4.2500, -3.6562]],\n",
      "       device='cuda:0')\n",
      "logits is [[0.53732723 0.36929926 0.09337347]]\n"
     ]
    },
    {
     "name": "stderr",
     "output_type": "stream",
     "text": [
      "  9%|▉         | 46/501 [00:20<02:44,  2.76it/s]The attention mask and the pad token id were not set. As a consequence, you may observe unexpected behavior. Please pass your input's `attention_mask` to obtain reliable results.\n",
      "Setting `pad_token_id` to `eos_token_id`:128001 for open-end generation.\n"
     ]
    },
    {
     "name": "stdout",
     "output_type": "stream",
     "text": [
      "score (tensor([[ 5.0625,  5.7500,  7.4688,  ..., -2.8125, -2.8125, -0.6289]],\n",
      "       device='cuda:0'), tensor([[ 4.6562,  6.3125,  7.8438,  ...,  1.5547,  1.5547, -1.3672]],\n",
      "       device='cuda:0'))\n",
      "score is tensor([[ 5.0625,  5.7500,  7.4688,  ..., -2.8125, -2.8125, -0.6289]],\n",
      "       device='cuda:0')\n",
      "logits is [[0.53997904 0.25506803 0.20495293]]\n"
     ]
    },
    {
     "name": "stderr",
     "output_type": "stream",
     "text": [
      "  9%|▉         | 47/501 [00:20<02:55,  2.59it/s]"
     ]
    },
    {
     "name": "stdout",
     "output_type": "stream",
     "text": [
      "score (tensor([[ 3.6094,  5.2188,  6.4375,  ..., -3.8438, -3.8438, -0.2969]],\n",
      "       device='cuda:0'), tensor([[ 4.1875,  5.5938,  7.8125,  ...,  1.3516,  1.3516, -2.6250]],\n",
      "       device='cuda:0'))\n",
      "score is tensor([[ 3.6094,  5.2188,  6.4375,  ..., -3.8438, -3.8438, -0.2969]],\n",
      "       device='cuda:0')\n",
      "logits is [[0.52224916 0.3371894  0.14056146]]\n"
     ]
    },
    {
     "name": "stderr",
     "output_type": "stream",
     "text": [
      "The attention mask and the pad token id were not set. As a consequence, you may observe unexpected behavior. Please pass your input's `attention_mask` to obtain reliable results.\n",
      "Setting `pad_token_id` to `eos_token_id`:128001 for open-end generation.\n",
      " 10%|▉         | 48/501 [00:21<03:08,  2.40it/s]"
     ]
    },
    {
     "name": "stdout",
     "output_type": "stream",
     "text": [
      "score (tensor([[ 4.5625,  4.7188,  5.5938,  ..., -3.9844, -3.9844,  1.0781]],\n",
      "       device='cuda:0'), tensor([[ 6.2188,  4.5312,  6.0312,  ...,  2.8594,  2.8594, -2.6250]],\n",
      "       device='cuda:0'))\n",
      "score is tensor([[ 4.5625,  4.7188,  5.5938,  ..., -3.9844, -3.9844,  1.0781]],\n",
      "       device='cuda:0')\n",
      "logits is [[0.1771256  0.58077246 0.24210198]]\n"
     ]
    },
    {
     "name": "stderr",
     "output_type": "stream",
     "text": [
      "The attention mask and the pad token id were not set. As a consequence, you may observe unexpected behavior. Please pass your input's `attention_mask` to obtain reliable results.\n",
      "Setting `pad_token_id` to `eos_token_id`:128001 for open-end generation.\n",
      " 10%|▉         | 49/501 [00:22<04:00,  1.88it/s]The attention mask and the pad token id were not set. As a consequence, you may observe unexpected behavior. Please pass your input's `attention_mask` to obtain reliable results.\n",
      "Setting `pad_token_id` to `eos_token_id`:128001 for open-end generation.\n"
     ]
    },
    {
     "name": "stdout",
     "output_type": "stream",
     "text": [
      "score (tensor([[ 4.5938,  6.6875,  7.7188,  ...,  1.3828,  1.3828, -1.2031]],\n",
      "       device='cuda:0'), tensor([[4.9375, 6.9062, 7.4375,  ..., 4.2812, 4.2812, 0.8945]],\n",
      "       device='cuda:0'))\n",
      "score is tensor([[ 4.5938,  6.6875,  7.7188,  ...,  1.3828,  1.3828, -1.2031]],\n",
      "       device='cuda:0')\n",
      "logits is [[0.58395475 0.24342856 0.17261669]]\n"
     ]
    },
    {
     "name": "stderr",
     "output_type": "stream",
     "text": [
      " 10%|▉         | 50/501 [00:22<03:47,  1.98it/s]The attention mask and the pad token id were not set. As a consequence, you may observe unexpected behavior. Please pass your input's `attention_mask` to obtain reliable results.\n",
      "Setting `pad_token_id` to `eos_token_id`:128001 for open-end generation.\n"
     ]
    },
    {
     "name": "stdout",
     "output_type": "stream",
     "text": [
      "score (tensor([[ 4.3750,  4.7188,  6.6250,  ..., -5.3438, -5.3438,  0.1777]],\n",
      "       device='cuda:0'), tensor([[ 4.6562,  5.1562,  7.5938,  ..., -0.6484, -0.6484, -1.6172]],\n",
      "       device='cuda:0'))\n",
      "score is tensor([[ 4.3750,  4.7188,  6.6250,  ..., -5.3438, -5.3438,  0.1777]],\n",
      "       device='cuda:0')\n",
      "logits is [[0.34757978 0.4604684  0.19195178]]\n"
     ]
    },
    {
     "name": "stderr",
     "output_type": "stream",
     "text": [
      " 10%|█         | 51/501 [00:22<03:27,  2.17it/s]The attention mask and the pad token id were not set. As a consequence, you may observe unexpected behavior. Please pass your input's `attention_mask` to obtain reliable results.\n",
      "Setting `pad_token_id` to `eos_token_id`:128001 for open-end generation.\n"
     ]
    },
    {
     "name": "stdout",
     "output_type": "stream",
     "text": [
      "score (tensor([[ 4.8438,  5.8750,  7.2500,  ..., -4.6875, -4.6875, -1.5781]],\n",
      "       device='cuda:0'), tensor([[ 5.4062,  5.3125,  7.5938,  ...,  1.3906,  1.3906, -2.0781]],\n",
      "       device='cuda:0'))\n",
      "score is tensor([[ 4.8438,  5.8750,  7.2500,  ..., -4.6875, -4.6875, -1.5781]],\n",
      "       device='cuda:0')\n",
      "logits is [[0.37936556 0.4298775  0.19075698]]\n"
     ]
    },
    {
     "name": "stderr",
     "output_type": "stream",
     "text": [
      " 10%|█         | 52/501 [00:23<03:05,  2.42it/s]The attention mask and the pad token id were not set. As a consequence, you may observe unexpected behavior. Please pass your input's `attention_mask` to obtain reliable results.\n",
      "Setting `pad_token_id` to `eos_token_id`:128001 for open-end generation.\n"
     ]
    },
    {
     "name": "stdout",
     "output_type": "stream",
     "text": [
      "score (tensor([[ 4.5938,  6.0938,  6.3125,  ..., -4.2188, -4.2188,  0.9023]],\n",
      "       device='cuda:0'), tensor([[ 4.1250e+00,  6.2188e+00,  7.2812e+00,  ..., -2.0000e+00,\n",
      "         -2.0000e+00, -5.9509e-03]], device='cuda:0'))\n",
      "score is tensor([[ 4.5938,  6.0938,  6.3125,  ..., -4.2188, -4.2188,  0.9023]],\n",
      "       device='cuda:0')\n",
      "logits is [[0.31304014 0.2021139  0.48484603]]\n"
     ]
    },
    {
     "name": "stderr",
     "output_type": "stream",
     "text": [
      " 11%|█         | 53/501 [00:23<03:08,  2.37it/s]"
     ]
    },
    {
     "name": "stdout",
     "output_type": "stream",
     "text": [
      "score (tensor([[ 3.9062,  4.8750,  6.1875,  ..., -3.3125, -3.3125,  0.4277]],\n",
      "       device='cuda:0'), tensor([[ 4.6875,  4.7188,  7.0625,  ..., -0.2178, -0.2178, -2.4375]],\n",
      "       device='cuda:0'))\n",
      "score is tensor([[ 3.9062,  4.8750,  6.1875,  ..., -3.3125, -3.3125,  0.4277]],\n",
      "       device='cuda:0')\n",
      "logits is [[0.40086764 0.42672136 0.17241101]]\n"
     ]
    },
    {
     "name": "stderr",
     "output_type": "stream",
     "text": [
      "The attention mask and the pad token id were not set. As a consequence, you may observe unexpected behavior. Please pass your input's `attention_mask` to obtain reliable results.\n",
      "Setting `pad_token_id` to `eos_token_id`:128001 for open-end generation.\n",
      " 11%|█         | 54/501 [00:24<03:30,  2.12it/s]The attention mask and the pad token id were not set. As a consequence, you may observe unexpected behavior. Please pass your input's `attention_mask` to obtain reliable results.\n",
      "Setting `pad_token_id` to `eos_token_id`:128001 for open-end generation.\n"
     ]
    },
    {
     "name": "stdout",
     "output_type": "stream",
     "text": [
      "score (tensor([[ 3.5469,  5.4688,  5.4375,  ..., -2.7500, -2.7500,  0.1089]],\n",
      "       device='cuda:0'), tensor([[ 3.9375,  5.7188,  7.0625,  ..., -0.4375, -0.4375, -0.9258]],\n",
      "       device='cuda:0'))\n",
      "score is tensor([[ 3.5469,  5.4688,  5.4375,  ..., -2.7500, -2.7500,  0.1089]],\n",
      "       device='cuda:0')\n",
      "logits is [[0.28413245 0.41341025 0.30245742]]\n"
     ]
    },
    {
     "name": "stderr",
     "output_type": "stream",
     "text": [
      " 11%|█         | 55/501 [00:24<02:56,  2.53it/s]The attention mask and the pad token id were not set. As a consequence, you may observe unexpected behavior. Please pass your input's `attention_mask` to obtain reliable results.\n",
      "Setting `pad_token_id` to `eos_token_id`:128001 for open-end generation.\n"
     ]
    },
    {
     "name": "stdout",
     "output_type": "stream",
     "text": [
      "score (tensor([[ 4.2188,  5.4375,  7.2500,  ..., -1.6016, -1.6016, -2.1094]],\n",
      "       device='cuda:0'), tensor([[ 3.7188,  5.7500,  7.9062,  ...,  0.0271,  0.0271, -1.1172]],\n",
      "       device='cuda:0'))\n",
      "score is tensor([[ 4.2188,  5.4375,  7.2500,  ..., -1.6016, -1.6016, -2.1094]],\n",
      "       device='cuda:0')\n",
      "logits is [[0.5698827  0.24510351 0.18501382]]\n"
     ]
    },
    {
     "name": "stderr",
     "output_type": "stream",
     "text": [
      " 11%|█         | 56/501 [00:24<03:02,  2.43it/s]"
     ]
    },
    {
     "name": "stdout",
     "output_type": "stream",
     "text": [
      "score (tensor([[ 3.6406,  4.8750,  6.5000,  ..., -4.0625, -4.0625, -1.8438]],\n",
      "       device='cuda:0'), tensor([[ 3.8750,  5.3750,  7.1250,  ...,  1.5000,  1.5000, -2.8438]],\n",
      "       device='cuda:0'))\n",
      "score is tensor([[ 3.6406,  4.8750,  6.5000,  ..., -4.0625, -4.0625, -1.8438]],\n",
      "       device='cuda:0')\n",
      "logits is [[0.49052298 0.40665781 0.1028192 ]]\n"
     ]
    },
    {
     "name": "stderr",
     "output_type": "stream",
     "text": [
      "The attention mask and the pad token id were not set. As a consequence, you may observe unexpected behavior. Please pass your input's `attention_mask` to obtain reliable results.\n",
      "Setting `pad_token_id` to `eos_token_id`:128001 for open-end generation.\n",
      " 11%|█▏        | 57/501 [00:25<03:55,  1.89it/s]The attention mask and the pad token id were not set. As a consequence, you may observe unexpected behavior. Please pass your input's `attention_mask` to obtain reliable results.\n",
      "Setting `pad_token_id` to `eos_token_id`:128001 for open-end generation.\n"
     ]
    },
    {
     "name": "stdout",
     "output_type": "stream",
     "text": [
      "score (tensor([[ 4.4688,  3.0625,  3.9062,  ..., -0.0859, -0.0859, -1.8438]],\n",
      "       device='cuda:0'), tensor([[ 3.3438,  4.0000,  6.2188,  ...,  1.8047,  1.8047, -2.4688]],\n",
      "       device='cuda:0'))\n",
      "score is tensor([[ 4.4688,  3.0625,  3.9062,  ..., -0.0859, -0.0859, -1.8438]],\n",
      "       device='cuda:0')\n",
      "logits is [[0.77691764 0.07936713 0.14371532]]\n"
     ]
    },
    {
     "name": "stderr",
     "output_type": "stream",
     "text": [
      " 12%|█▏        | 58/501 [00:26<03:36,  2.04it/s]The attention mask and the pad token id were not set. As a consequence, you may observe unexpected behavior. Please pass your input's `attention_mask` to obtain reliable results.\n",
      "Setting `pad_token_id` to `eos_token_id`:128001 for open-end generation.\n"
     ]
    },
    {
     "name": "stdout",
     "output_type": "stream",
     "text": [
      "score (tensor([[ 4.3438,  6.4688,  6.9375,  ...,  0.9297,  0.9297, -1.4844]],\n",
      "       device='cuda:0'), tensor([[ 3.7812,  5.1250,  6.4375,  ...,  0.1895,  0.1895, -3.2969]],\n",
      "       device='cuda:0'))\n",
      "score is tensor([[ 4.3438,  6.4688,  6.9375,  ...,  0.9297,  0.9297, -1.4844]],\n",
      "       device='cuda:0')\n",
      "logits is [[0.5770246  0.3287787  0.09419668]]\n"
     ]
    },
    {
     "name": "stderr",
     "output_type": "stream",
     "text": [
      " 12%|█▏        | 59/501 [00:26<03:17,  2.23it/s]The attention mask and the pad token id were not set. As a consequence, you may observe unexpected behavior. Please pass your input's `attention_mask` to obtain reliable results.\n",
      "Setting `pad_token_id` to `eos_token_id`:128001 for open-end generation.\n"
     ]
    },
    {
     "name": "stdout",
     "output_type": "stream",
     "text": [
      "score (tensor([[ 4.1875,  5.0625,  5.8750,  ..., -0.0593, -0.0593, -1.0703]],\n",
      "       device='cuda:0'), tensor([[ 4.0312,  4.5625,  6.6250,  ...,  0.6328,  0.6328, -2.5469]],\n",
      "       device='cuda:0'))\n",
      "score is tensor([[ 4.1875,  5.0625,  5.8750,  ..., -0.0593, -0.0593, -1.0703]],\n",
      "       device='cuda:0')\n",
      "logits is [[0.49052298 0.40665781 0.1028192 ]]\n"
     ]
    },
    {
     "name": "stderr",
     "output_type": "stream",
     "text": [
      " 12%|█▏        | 60/501 [00:26<02:58,  2.47it/s]The attention mask and the pad token id were not set. As a consequence, you may observe unexpected behavior. Please pass your input's `attention_mask` to obtain reliable results.\n",
      "Setting `pad_token_id` to `eos_token_id`:128001 for open-end generation.\n"
     ]
    },
    {
     "name": "stdout",
     "output_type": "stream",
     "text": [
      "score (tensor([[ 3.8438,  4.4688,  6.5000,  ...,  1.4141,  1.4141, -4.1875]],\n",
      "       device='cuda:0'), tensor([[ 3.9844,  4.8125,  7.2188,  ...,  1.9141,  1.9141, -2.8281]],\n",
      "       device='cuda:0'))\n",
      "score is tensor([[ 3.8438,  4.4688,  6.5000,  ...,  1.4141,  1.4141, -4.1875]],\n",
      "       device='cuda:0')\n",
      "logits is [[0.8094406  0.09081672 0.09974265]]\n"
     ]
    },
    {
     "name": "stderr",
     "output_type": "stream",
     "text": [
      " 12%|█▏        | 61/501 [00:27<02:56,  2.49it/s]The attention mask and the pad token id were not set. As a consequence, you may observe unexpected behavior. Please pass your input's `attention_mask` to obtain reliable results.\n",
      "Setting `pad_token_id` to `eos_token_id`:128001 for open-end generation.\n"
     ]
    },
    {
     "name": "stdout",
     "output_type": "stream",
     "text": [
      "score (tensor([[ 4.5000,  6.1875,  6.8125,  ..., -4.9375, -4.9375, -5.0312]],\n",
      "       device='cuda:0'), tensor([[ 4.9062,  7.4688,  8.5000,  ..., -2.9688, -2.9688, -4.3125]],\n",
      "       device='cuda:0'))\n",
      "score is tensor([[ 4.5000,  6.1875,  6.8125,  ..., -4.9375, -4.9375, -5.0312]],\n",
      "       device='cuda:0')\n",
      "logits is [[0.10537178 0.7314251  0.163203  ]]\n"
     ]
    },
    {
     "name": "stderr",
     "output_type": "stream",
     "text": [
      " 12%|█▏        | 62/501 [00:27<02:43,  2.68it/s]"
     ]
    },
    {
     "name": "stdout",
     "output_type": "stream",
     "text": [
      "score (tensor([[ 4.3125,  5.0000,  7.9062,  ..., -1.1016, -1.1016, -1.9297]],\n",
      "       device='cuda:0'), tensor([[ 4.4375,  5.5938,  7.9688,  ...,  0.4922,  0.4922, -0.8945]],\n",
      "       device='cuda:0'))\n",
      "score is tensor([[ 4.3125,  5.0000,  7.9062,  ..., -1.1016, -1.1016, -1.9297]],\n",
      "       device='cuda:0')\n",
      "logits is [[0.7275436  0.15734234 0.11511411]]\n"
     ]
    },
    {
     "name": "stderr",
     "output_type": "stream",
     "text": [
      "The attention mask and the pad token id were not set. As a consequence, you may observe unexpected behavior. Please pass your input's `attention_mask` to obtain reliable results.\n",
      "Setting `pad_token_id` to `eos_token_id`:128001 for open-end generation.\n",
      " 13%|█▎        | 63/501 [00:27<03:08,  2.33it/s]"
     ]
    },
    {
     "name": "stdout",
     "output_type": "stream",
     "text": [
      "score (tensor([[ 4.2188,  4.7500,  6.0000,  ..., -4.1875, -4.2188,  0.0674]],\n",
      "       device='cuda:0'), tensor([[ 5.0000,  5.2188,  7.3125,  ..., -1.3750, -1.3750, -1.3047]],\n",
      "       device='cuda:0'))\n",
      "score is tensor([[ 4.2188,  4.7500,  6.0000,  ..., -4.1875, -4.2188,  0.0674]],\n",
      "       device='cuda:0')\n",
      "logits is [[0.32058144 0.45209226 0.22732626]]\n"
     ]
    },
    {
     "name": "stderr",
     "output_type": "stream",
     "text": [
      "The attention mask and the pad token id were not set. As a consequence, you may observe unexpected behavior. Please pass your input's `attention_mask` to obtain reliable results.\n",
      "Setting `pad_token_id` to `eos_token_id`:128001 for open-end generation.\n",
      " 13%|█▎        | 64/501 [00:28<03:17,  2.21it/s]The attention mask and the pad token id were not set. As a consequence, you may observe unexpected behavior. Please pass your input's `attention_mask` to obtain reliable results.\n",
      "Setting `pad_token_id` to `eos_token_id`:128001 for open-end generation.\n"
     ]
    },
    {
     "name": "stdout",
     "output_type": "stream",
     "text": [
      "score (tensor([[ 4.0312,  5.8750,  6.8750,  ..., -3.8594, -3.8594,  0.2676]],\n",
      "       device='cuda:0'), tensor([[ 4.0938,  5.8750,  7.7500,  ...,  0.8047,  0.8047, -0.6172]],\n",
      "       device='cuda:0'))\n",
      "score is tensor([[ 4.0312,  5.8750,  6.8750,  ..., -3.8594, -3.8594,  0.2676]],\n",
      "       device='cuda:0')\n",
      "logits is [[0.63184255 0.17545633 0.1927011 ]]\n"
     ]
    },
    {
     "name": "stderr",
     "output_type": "stream",
     "text": [
      " 13%|█▎        | 65/501 [00:28<03:10,  2.29it/s]The attention mask and the pad token id were not set. As a consequence, you may observe unexpected behavior. Please pass your input's `attention_mask` to obtain reliable results.\n",
      "Setting `pad_token_id` to `eos_token_id`:128001 for open-end generation.\n"
     ]
    },
    {
     "name": "stdout",
     "output_type": "stream",
     "text": [
      "score (tensor([[ 3.9375,  4.4688,  6.7188,  ..., -3.4375, -3.4219, -0.5430]],\n",
      "       device='cuda:0'), tensor([[ 3.3438,  4.3750,  6.7188,  ...,  2.0625,  2.0625, -3.6250]],\n",
      "       device='cuda:0'))\n",
      "score is tensor([[ 3.9375,  4.4688,  6.7188,  ..., -3.4375, -3.4219, -0.5430]],\n",
      "       device='cuda:0')\n",
      "logits is [[0.42231882 0.42231882 0.15536241]]\n"
     ]
    },
    {
     "name": "stderr",
     "output_type": "stream",
     "text": [
      " 13%|█▎        | 66/501 [00:29<02:59,  2.43it/s]The attention mask and the pad token id were not set. As a consequence, you may observe unexpected behavior. Please pass your input's `attention_mask` to obtain reliable results.\n",
      "Setting `pad_token_id` to `eos_token_id`:128001 for open-end generation.\n"
     ]
    },
    {
     "name": "stdout",
     "output_type": "stream",
     "text": [
      "score (tensor([[ 4.7188,  5.3438,  7.3750,  ..., -3.8125, -3.8125, -1.4219]],\n",
      "       device='cuda:0'), tensor([[ 4.5625,  5.6875,  7.6875,  ...,  1.1406,  1.1406, -1.8516]],\n",
      "       device='cuda:0'))\n",
      "score is tensor([[ 4.7188,  5.3438,  7.3750,  ..., -3.8125, -3.8125, -1.4219]],\n",
      "       device='cuda:0')\n",
      "logits is [[0.41994193 0.34814408 0.23191397]]\n"
     ]
    },
    {
     "name": "stderr",
     "output_type": "stream",
     "text": [
      " 13%|█▎        | 67/501 [00:29<02:51,  2.53it/s]The attention mask and the pad token id were not set. As a consequence, you may observe unexpected behavior. Please pass your input's `attention_mask` to obtain reliable results.\n",
      "Setting `pad_token_id` to `eos_token_id`:128001 for open-end generation.\n"
     ]
    },
    {
     "name": "stdout",
     "output_type": "stream",
     "text": [
      "score (tensor([[ 3.7656,  5.3125,  6.3438,  ..., -5.2188, -5.2188, -1.5391]],\n",
      "       device='cuda:0'), tensor([[ 3.7812,  4.0312,  7.4062,  ...,  2.3906,  2.3906, -3.4531]],\n",
      "       device='cuda:0'))\n",
      "score is tensor([[ 3.7656,  5.3125,  6.3438,  ..., -5.2188, -5.2188, -1.5391]],\n",
      "       device='cuda:0')\n",
      "logits is [[0.18443936 0.47098243 0.34457812]]\n"
     ]
    },
    {
     "name": "stderr",
     "output_type": "stream",
     "text": [
      " 14%|█▎        | 68/501 [00:30<02:57,  2.45it/s]"
     ]
    },
    {
     "name": "stdout",
     "output_type": "stream",
     "text": [
      "score (tensor([[ 4.3438,  5.6250,  7.5625,  ...,  1.0156,  1.0156, -3.2344]],\n",
      "       device='cuda:0'), tensor([[ 4.6875,  6.2500,  8.1250,  ...,  0.6055,  0.6055, -2.8125]],\n",
      "       device='cuda:0'))\n",
      "score is tensor([[ 4.3438,  5.6250,  7.5625,  ...,  1.0156,  1.0156, -3.2344]],\n",
      "       device='cuda:0')\n",
      "logits is [[0.62452495 0.24456748 0.13090754]]\n"
     ]
    },
    {
     "name": "stderr",
     "output_type": "stream",
     "text": [
      "The attention mask and the pad token id were not set. As a consequence, you may observe unexpected behavior. Please pass your input's `attention_mask` to obtain reliable results.\n",
      "Setting `pad_token_id` to `eos_token_id`:128001 for open-end generation.\n",
      " 14%|█▍        | 69/501 [00:30<03:07,  2.30it/s]The attention mask and the pad token id were not set. As a consequence, you may observe unexpected behavior. Please pass your input's `attention_mask` to obtain reliable results.\n",
      "Setting `pad_token_id` to `eos_token_id`:128001 for open-end generation.\n"
     ]
    },
    {
     "name": "stdout",
     "output_type": "stream",
     "text": [
      "score (tensor([[ 3.8594,  5.5000,  6.5938,  ..., -2.7969, -2.7969, -1.6953]],\n",
      "       device='cuda:0'), tensor([[ 4.3125,  5.4688,  7.7500,  ...,  0.1680,  0.1680, -2.1562]],\n",
      "       device='cuda:0'))\n",
      "score is tensor([[ 3.8594,  5.5000,  6.5938,  ..., -2.7969, -2.7969, -1.6953]],\n",
      "       device='cuda:0')\n",
      "logits is [[0.3846515  0.4094594  0.20588912]]\n"
     ]
    },
    {
     "name": "stderr",
     "output_type": "stream",
     "text": [
      " 14%|█▍        | 70/501 [00:30<03:08,  2.28it/s]"
     ]
    },
    {
     "name": "stdout",
     "output_type": "stream",
     "text": [
      "score (tensor([[ 4.1562,  5.8438,  6.3750,  ..., -0.5391, -0.5391,  0.6367]],\n",
      "       device='cuda:0'), tensor([[ 4.3438,  5.5312,  7.3750,  ...,  0.0630,  0.0630, -1.7812]],\n",
      "       device='cuda:0'))\n",
      "score is tensor([[ 4.1562,  5.8438,  6.3750,  ..., -0.5391, -0.5391,  0.6367]],\n",
      "       device='cuda:0')\n",
      "logits is [[0.5472004  0.27514964 0.17764995]]\n"
     ]
    },
    {
     "name": "stderr",
     "output_type": "stream",
     "text": [
      "The attention mask and the pad token id were not set. As a consequence, you may observe unexpected behavior. Please pass your input's `attention_mask` to obtain reliable results.\n",
      "Setting `pad_token_id` to `eos_token_id`:128001 for open-end generation.\n",
      " 14%|█▍        | 71/501 [00:31<03:16,  2.19it/s]"
     ]
    },
    {
     "name": "stdout",
     "output_type": "stream",
     "text": [
      "score (tensor([[ 3.3125,  4.3125,  6.2812,  ..., -2.0469, -2.0469, -2.7969]],\n",
      "       device='cuda:0'), tensor([[ 3.7812,  4.7500,  6.8125,  ...,  0.9609,  0.9609, -2.0469]],\n",
      "       device='cuda:0'))\n",
      "score is tensor([[ 3.3125,  4.3125,  6.2812,  ..., -2.0469, -2.0469, -2.7969]],\n",
      "       device='cuda:0')\n",
      "logits is [[0.506632   0.2886702  0.20469782]]\n"
     ]
    },
    {
     "name": "stderr",
     "output_type": "stream",
     "text": [
      "The attention mask and the pad token id were not set. As a consequence, you may observe unexpected behavior. Please pass your input's `attention_mask` to obtain reliable results.\n",
      "Setting `pad_token_id` to `eos_token_id`:128001 for open-end generation.\n",
      " 14%|█▍        | 72/501 [00:31<03:21,  2.13it/s]The attention mask and the pad token id were not set. As a consequence, you may observe unexpected behavior. Please pass your input's `attention_mask` to obtain reliable results.\n",
      "Setting `pad_token_id` to `eos_token_id`:128001 for open-end generation.\n"
     ]
    },
    {
     "name": "stdout",
     "output_type": "stream",
     "text": [
      "score (tensor([[ 3.2031,  3.3125,  7.1875,  ..., -1.0547, -1.0547, -3.7812]],\n",
      "       device='cuda:0'), tensor([[ 4.0938,  4.2500,  6.7500,  ...,  0.9609,  0.9609, -3.0938]],\n",
      "       device='cuda:0'))\n",
      "score is tensor([[ 3.2031,  3.3125,  7.1875,  ..., -1.0547, -1.0547, -3.7812]],\n",
      "       device='cuda:0')\n",
      "logits is [[0.5322074  0.25937718 0.20841542]]\n"
     ]
    },
    {
     "name": "stderr",
     "output_type": "stream",
     "text": [
      " 15%|█▍        | 73/501 [00:32<03:11,  2.23it/s]The attention mask and the pad token id were not set. As a consequence, you may observe unexpected behavior. Please pass your input's `attention_mask` to obtain reliable results.\n",
      "Setting `pad_token_id` to `eos_token_id`:128001 for open-end generation.\n"
     ]
    },
    {
     "name": "stdout",
     "output_type": "stream",
     "text": [
      "score (tensor([[ 4.5625,  7.7500,  7.5312,  ..., -1.2422, -1.2422, -1.9609]],\n",
      "       device='cuda:0'), tensor([[ 4.9688,  7.7188,  9.3750,  ..., -0.5859, -0.5859, -1.5938]],\n",
      "       device='cuda:0'))\n",
      "score is tensor([[ 4.5625,  7.7500,  7.5312,  ..., -1.2422, -1.2422, -1.9609]],\n",
      "       device='cuda:0')\n",
      "logits is [[0.65440184 0.14601679 0.1995813 ]]\n"
     ]
    },
    {
     "name": "stderr",
     "output_type": "stream",
     "text": [
      " 15%|█▍        | 74/501 [00:32<03:00,  2.36it/s]The attention mask and the pad token id were not set. As a consequence, you may observe unexpected behavior. Please pass your input's `attention_mask` to obtain reliable results.\n",
      "Setting `pad_token_id` to `eos_token_id`:128001 for open-end generation.\n"
     ]
    },
    {
     "name": "stdout",
     "output_type": "stream",
     "text": [
      "score (tensor([[ 4.6875,  5.4375,  6.7812,  ..., -4.8750, -4.8750, -1.7422]],\n",
      "       device='cuda:0'), tensor([[ 4.2188,  5.3750,  7.2188,  ...,  1.7266,  1.7266, -2.8906]],\n",
      "       device='cuda:0'))\n",
      "score is tensor([[ 4.6875,  5.4375,  6.7812,  ..., -4.8750, -4.8750, -1.7422]],\n",
      "       device='cuda:0')\n",
      "logits is [[0.43340844 0.40714955 0.15944205]]\n"
     ]
    },
    {
     "name": "stderr",
     "output_type": "stream",
     "text": [
      " 15%|█▍        | 75/501 [00:33<02:59,  2.37it/s]The attention mask and the pad token id were not set. As a consequence, you may observe unexpected behavior. Please pass your input's `attention_mask` to obtain reliable results.\n",
      "Setting `pad_token_id` to `eos_token_id`:128001 for open-end generation.\n"
     ]
    },
    {
     "name": "stdout",
     "output_type": "stream",
     "text": [
      "score (tensor([[ 3.8125,  6.1250,  5.8750,  ..., -4.0938, -4.0938, -2.5938]],\n",
      "       device='cuda:0'), tensor([[ 4.4062,  6.7812,  7.0938,  ...,  0.9297,  0.9297, -3.1250]],\n",
      "       device='cuda:0'))\n",
      "score is tensor([[ 3.8125,  6.1250,  5.8750,  ..., -4.0938, -4.0938, -2.5938]],\n",
      "       device='cuda:0')\n",
      "logits is [[0.31692097 0.4908568  0.19222228]]\n"
     ]
    },
    {
     "name": "stderr",
     "output_type": "stream",
     "text": [
      " 15%|█▌        | 76/501 [00:33<02:50,  2.49it/s]The attention mask and the pad token id were not set. As a consequence, you may observe unexpected behavior. Please pass your input's `attention_mask` to obtain reliable results.\n",
      "Setting `pad_token_id` to `eos_token_id`:128001 for open-end generation.\n"
     ]
    },
    {
     "name": "stdout",
     "output_type": "stream",
     "text": [
      "score (tensor([[ 5.0000,  5.3438,  7.5938,  ..., -4.7188, -4.7188, -1.8906]],\n",
      "       device='cuda:0'), tensor([[ 4.8125,  5.7812,  8.1875,  ...,  1.6953,  1.6953, -1.8516]],\n",
      "       device='cuda:0'))\n",
      "score is tensor([[ 5.0000,  5.3438,  7.5938,  ..., -4.7188, -4.7188, -1.8906]],\n",
      "       device='cuda:0')\n",
      "logits is [[0.37708744 0.48418987 0.13872272]]\n"
     ]
    },
    {
     "name": "stderr",
     "output_type": "stream",
     "text": [
      " 15%|█▌        | 77/501 [00:33<02:27,  2.88it/s]The attention mask and the pad token id were not set. As a consequence, you may observe unexpected behavior. Please pass your input's `attention_mask` to obtain reliable results.\n",
      "Setting `pad_token_id` to `eos_token_id`:128001 for open-end generation.\n"
     ]
    },
    {
     "name": "stdout",
     "output_type": "stream",
     "text": [
      "score (tensor([[ 4.7812,  5.4375,  7.6250,  ..., -0.0723, -0.0723, -2.7031]],\n",
      "       device='cuda:0'), tensor([[ 4.3125,  6.0000,  8.0000,  ..., -0.1436, -0.1436, -1.3125]],\n",
      "       device='cuda:0'))\n",
      "score is tensor([[ 4.7812,  5.4375,  7.6250,  ..., -0.0723, -0.0723, -2.7031]],\n",
      "       device='cuda:0')\n",
      "logits is [[0.625746   0.2301991  0.14405492]]\n"
     ]
    },
    {
     "name": "stderr",
     "output_type": "stream",
     "text": [
      " 16%|█▌        | 78/501 [00:34<02:21,  2.99it/s]The attention mask and the pad token id were not set. As a consequence, you may observe unexpected behavior. Please pass your input's `attention_mask` to obtain reliable results.\n",
      "Setting `pad_token_id` to `eos_token_id`:128001 for open-end generation.\n"
     ]
    },
    {
     "name": "stdout",
     "output_type": "stream",
     "text": [
      "score (tensor([[ 4.1875,  5.6875,  6.2500,  ..., -1.4922, -1.4922,  1.7969]],\n",
      "       device='cuda:0'), tensor([[4.3125, 6.1562, 7.5625,  ..., 0.7891, 0.7891, 0.6133]],\n",
      "       device='cuda:0'))\n",
      "score is tensor([[ 4.1875,  5.6875,  6.2500,  ..., -1.4922, -1.4922,  1.7969]],\n",
      "       device='cuda:0')\n",
      "logits is [[0.4136063  0.36500627 0.2213875 ]]\n"
     ]
    },
    {
     "name": "stderr",
     "output_type": "stream",
     "text": [
      " 16%|█▌        | 79/501 [00:34<02:24,  2.92it/s]"
     ]
    },
    {
     "name": "stdout",
     "output_type": "stream",
     "text": [
      "score (tensor([[ 3.7031,  4.9688,  5.8438,  ..., -4.2812, -4.2812, -0.2285]],\n",
      "       device='cuda:0'), tensor([[ 4.0938,  5.1875,  7.4062,  ...,  1.7188,  1.7188, -2.0781]],\n",
      "       device='cuda:0'))\n",
      "score is tensor([[ 3.7031,  4.9688,  5.8438,  ..., -4.2812, -4.2812, -0.2285]],\n",
      "       device='cuda:0')\n",
      "logits is [[0.44207612 0.3901308  0.16779317]]\n"
     ]
    },
    {
     "name": "stderr",
     "output_type": "stream",
     "text": [
      "The attention mask and the pad token id were not set. As a consequence, you may observe unexpected behavior. Please pass your input's `attention_mask` to obtain reliable results.\n",
      "Setting `pad_token_id` to `eos_token_id`:128001 for open-end generation.\n",
      " 16%|█▌        | 80/501 [00:34<02:44,  2.55it/s]"
     ]
    },
    {
     "name": "stdout",
     "output_type": "stream",
     "text": [
      "score (tensor([[ 3.5625,  4.8125,  5.6875,  ..., -3.6719, -3.6719, -0.6875]],\n",
      "       device='cuda:0'), tensor([[ 4.0312,  5.3125,  6.9375,  ...,  1.4141,  1.4141, -2.0625]],\n",
      "       device='cuda:0'))\n",
      "score is tensor([[ 3.5625,  4.8125,  5.6875,  ..., -3.6719, -3.6719, -0.6875]],\n",
      "       device='cuda:0')\n",
      "logits is [[0.4781656  0.3286381  0.19319637]]\n"
     ]
    },
    {
     "name": "stderr",
     "output_type": "stream",
     "text": [
      "The attention mask and the pad token id were not set. As a consequence, you may observe unexpected behavior. Please pass your input's `attention_mask` to obtain reliable results.\n",
      "Setting `pad_token_id` to `eos_token_id`:128001 for open-end generation.\n",
      " 16%|█▌        | 81/501 [00:35<03:14,  2.16it/s]"
     ]
    },
    {
     "name": "stdout",
     "output_type": "stream",
     "text": [
      "score (tensor([[ 4.7188,  5.6250,  5.2812,  ..., -6.0000, -6.0000, -1.9141]],\n",
      "       device='cuda:0'), tensor([[ 3.3438,  6.0625,  5.4375,  ...,  1.5000,  1.5000, -3.0469]],\n",
      "       device='cuda:0'))\n",
      "score is tensor([[ 4.7188,  5.6250,  5.2812,  ..., -6.0000, -6.0000, -1.9141]],\n",
      "       device='cuda:0')\n",
      "logits is [[0.18991716 0.6424815  0.16760132]]\n"
     ]
    },
    {
     "name": "stderr",
     "output_type": "stream",
     "text": [
      "The attention mask and the pad token id were not set. As a consequence, you may observe unexpected behavior. Please pass your input's `attention_mask` to obtain reliable results.\n",
      "Setting `pad_token_id` to `eos_token_id`:128001 for open-end generation.\n",
      " 16%|█▋        | 82/501 [00:36<03:27,  2.02it/s]"
     ]
    },
    {
     "name": "stdout",
     "output_type": "stream",
     "text": [
      "score (tensor([[ 4.9062,  4.8750,  6.2500,  ..., -3.5938, -3.5938, -3.2969]],\n",
      "       device='cuda:0'), tensor([[ 5.0000,  5.5000,  7.6250,  ...,  2.6406,  2.6406, -2.8125]],\n",
      "       device='cuda:0'))\n",
      "score is tensor([[ 4.9062,  4.8750,  6.2500,  ..., -3.5938, -3.5938, -3.2969]],\n",
      "       device='cuda:0')\n",
      "logits is [[0.23589431 0.6825828  0.08152289]]\n"
     ]
    },
    {
     "name": "stderr",
     "output_type": "stream",
     "text": [
      "The attention mask and the pad token id were not set. As a consequence, you may observe unexpected behavior. Please pass your input's `attention_mask` to obtain reliable results.\n",
      "Setting `pad_token_id` to `eos_token_id`:128001 for open-end generation.\n",
      " 17%|█▋        | 83/501 [00:36<03:26,  2.02it/s]"
     ]
    },
    {
     "name": "stdout",
     "output_type": "stream",
     "text": [
      "score (tensor([[ 4.1562,  4.8750,  5.6875,  ..., -1.5625, -1.5625, -0.4785]],\n",
      "       device='cuda:0'), tensor([[ 4.0938,  5.3750,  7.1562,  ...,  0.9258,  0.9258, -2.9375]],\n",
      "       device='cuda:0'))\n",
      "score is tensor([[ 4.1562,  4.8750,  5.6875,  ..., -1.5625, -1.5625, -0.4785]],\n",
      "       device='cuda:0')\n",
      "logits is [[0.5867823  0.1905003  0.22271743]]\n"
     ]
    },
    {
     "name": "stderr",
     "output_type": "stream",
     "text": [
      "The attention mask and the pad token id were not set. As a consequence, you may observe unexpected behavior. Please pass your input's `attention_mask` to obtain reliable results.\n",
      "Setting `pad_token_id` to `eos_token_id`:128001 for open-end generation.\n",
      " 17%|█▋        | 84/501 [00:37<03:25,  2.02it/s]The attention mask and the pad token id were not set. As a consequence, you may observe unexpected behavior. Please pass your input's `attention_mask` to obtain reliable results.\n",
      "Setting `pad_token_id` to `eos_token_id`:128001 for open-end generation.\n"
     ]
    },
    {
     "name": "stdout",
     "output_type": "stream",
     "text": [
      "score (tensor([[ 3.9062,  6.0938,  6.4062,  ..., -3.1719, -3.1719, -0.3555]],\n",
      "       device='cuda:0'), tensor([[ 4.3125,  6.9688,  8.0625,  ..., -0.2178, -0.2178, -1.1250]],\n",
      "       device='cuda:0'))\n",
      "score is tensor([[ 3.9062,  6.0938,  6.4062,  ..., -3.1719, -3.1719, -0.3555]],\n",
      "       device='cuda:0')\n",
      "logits is [[0.4841051  0.34328192 0.172613  ]]\n"
     ]
    },
    {
     "name": "stderr",
     "output_type": "stream",
     "text": [
      " 17%|█▋        | 85/501 [00:37<03:19,  2.08it/s]The attention mask and the pad token id were not set. As a consequence, you may observe unexpected behavior. Please pass your input's `attention_mask` to obtain reliable results.\n",
      "Setting `pad_token_id` to `eos_token_id`:128001 for open-end generation.\n"
     ]
    },
    {
     "name": "stdout",
     "output_type": "stream",
     "text": [
      "score (tensor([[ 3.8438,  4.8125,  6.0312,  ..., -5.6875, -5.6875, -1.9766]],\n",
      "       device='cuda:0'), tensor([[ 3.1406,  4.6875,  6.7188,  ...,  2.1094,  2.1094, -3.5781]],\n",
      "       device='cuda:0'))\n",
      "score is tensor([[ 3.8438,  4.8125,  6.0312,  ..., -5.6875, -5.6875, -1.9766]],\n",
      "       device='cuda:0')\n",
      "logits is [[0.23921071 0.55618155 0.20460777]]\n"
     ]
    },
    {
     "name": "stderr",
     "output_type": "stream",
     "text": [
      " 17%|█▋        | 86/501 [00:37<02:52,  2.40it/s]The attention mask and the pad token id were not set. As a consequence, you may observe unexpected behavior. Please pass your input's `attention_mask` to obtain reliable results.\n",
      "Setting `pad_token_id` to `eos_token_id`:128001 for open-end generation.\n"
     ]
    },
    {
     "name": "stdout",
     "output_type": "stream",
     "text": [
      "score (tensor([[ 4.4062,  5.5938,  6.3750,  ..., -3.9844, -3.9844,  0.2129]],\n",
      "       device='cuda:0'), tensor([[ 4.5312,  5.7188,  7.4062,  ...,  0.5859,  0.5859, -1.0547]],\n",
      "       device='cuda:0'))\n",
      "score is tensor([[ 4.4062,  5.5938,  6.3750,  ..., -3.9844, -3.9844,  0.2129]],\n",
      "       device='cuda:0')\n",
      "logits is [[0.35763973 0.3807055  0.26165482]]\n"
     ]
    },
    {
     "name": "stderr",
     "output_type": "stream",
     "text": [
      " 17%|█▋        | 87/501 [00:38<02:33,  2.70it/s]The attention mask and the pad token id were not set. As a consequence, you may observe unexpected behavior. Please pass your input's `attention_mask` to obtain reliable results.\n",
      "Setting `pad_token_id` to `eos_token_id`:128001 for open-end generation.\n"
     ]
    },
    {
     "name": "stdout",
     "output_type": "stream",
     "text": [
      "score (tensor([[ 5.0938,  6.9062,  7.5625,  ..., -2.7969, -2.7969,  0.1992]],\n",
      "       device='cuda:0'), tensor([[ 4.6562,  7.3750,  7.8750,  ..., -2.2031, -2.2031,  0.3633]],\n",
      "       device='cuda:0'))\n",
      "score is tensor([[ 5.0938,  6.9062,  7.5625,  ..., -2.7969, -2.7969,  0.1992]],\n",
      "       device='cuda:0')\n",
      "logits is [[0.58266294 0.18916295 0.22817408]]\n"
     ]
    },
    {
     "name": "stderr",
     "output_type": "stream",
     "text": [
      " 18%|█▊        | 88/501 [00:38<02:14,  3.08it/s]The attention mask and the pad token id were not set. As a consequence, you may observe unexpected behavior. Please pass your input's `attention_mask` to obtain reliable results.\n",
      "Setting `pad_token_id` to `eos_token_id`:128001 for open-end generation.\n"
     ]
    },
    {
     "name": "stdout",
     "output_type": "stream",
     "text": [
      "score (tensor([[ 3.5156,  5.1562,  6.5938,  ..., -4.6250, -4.6250, -2.1875]],\n",
      "       device='cuda:0'), tensor([[ 3.1719,  5.4688,  7.4375,  ...,  3.6094,  3.6094, -2.1250]],\n",
      "       device='cuda:0'))\n",
      "score is tensor([[ 3.5156,  5.1562,  6.5938,  ..., -4.6250, -4.6250, -2.1875]],\n",
      "       device='cuda:0')\n",
      "logits is [[0.6020486  0.27563792 0.12231359]]\n"
     ]
    },
    {
     "name": "stderr",
     "output_type": "stream",
     "text": [
      " 18%|█▊        | 89/501 [00:38<02:11,  3.13it/s]"
     ]
    },
    {
     "name": "stdout",
     "output_type": "stream",
     "text": [
      "score (tensor([[ 4.3125,  5.5000,  6.1250,  ..., -5.6250, -5.6250, -1.1328]],\n",
      "       device='cuda:0'), tensor([[ 4.0625,  5.5000,  7.3438,  ..., -0.0688, -0.0688, -1.2891]],\n",
      "       device='cuda:0'))\n",
      "score is tensor([[ 4.3125,  5.5000,  6.1250,  ..., -5.6250, -5.6250, -1.1328]],\n",
      "       device='cuda:0')\n",
      "logits is [[0.28095952 0.4632239  0.25581655]]\n"
     ]
    },
    {
     "name": "stderr",
     "output_type": "stream",
     "text": [
      "The attention mask and the pad token id were not set. As a consequence, you may observe unexpected behavior. Please pass your input's `attention_mask` to obtain reliable results.\n",
      "Setting `pad_token_id` to `eos_token_id`:128001 for open-end generation.\n",
      " 18%|█▊        | 90/501 [00:39<02:34,  2.67it/s]"
     ]
    },
    {
     "name": "stdout",
     "output_type": "stream",
     "text": [
      "score (tensor([[ 4.1250,  5.4062,  6.1562,  ..., -5.8125, -5.8125, -1.1719]],\n",
      "       device='cuda:0'), tensor([[ 4.1562,  5.5000,  7.7188,  ..., -3.0156, -3.0156, -0.7852]],\n",
      "       device='cuda:0'))\n",
      "score is tensor([[ 4.1250,  5.4062,  6.1562,  ..., -5.8125, -5.8125, -1.1719]],\n",
      "       device='cuda:0')\n",
      "logits is [[0.32375795 0.39052665 0.2857154 ]]\n"
     ]
    },
    {
     "name": "stderr",
     "output_type": "stream",
     "text": [
      "The attention mask and the pad token id were not set. As a consequence, you may observe unexpected behavior. Please pass your input's `attention_mask` to obtain reliable results.\n",
      "Setting `pad_token_id` to `eos_token_id`:128001 for open-end generation.\n",
      " 18%|█▊        | 91/501 [00:39<03:20,  2.05it/s]The attention mask and the pad token id were not set. As a consequence, you may observe unexpected behavior. Please pass your input's `attention_mask` to obtain reliable results.\n",
      "Setting `pad_token_id` to `eos_token_id`:128001 for open-end generation.\n"
     ]
    },
    {
     "name": "stdout",
     "output_type": "stream",
     "text": [
      "score (tensor([[ 4.5625,  6.5312,  8.3750,  ...,  1.8047,  1.8047, -1.8281]],\n",
      "       device='cuda:0'), tensor([[ 4.4062,  6.0938,  8.1875,  ...,  0.9805,  0.9805, -2.3125]],\n",
      "       device='cuda:0'))\n",
      "score is tensor([[ 4.5625,  6.5312,  8.3750,  ...,  1.8047,  1.8047, -1.8281]],\n",
      "       device='cuda:0')\n",
      "logits is [[0.73596764 0.127892   0.13614033]]\n"
     ]
    },
    {
     "name": "stderr",
     "output_type": "stream",
     "text": [
      " 18%|█▊        | 92/501 [00:40<02:48,  2.43it/s]The attention mask and the pad token id were not set. As a consequence, you may observe unexpected behavior. Please pass your input's `attention_mask` to obtain reliable results.\n",
      "Setting `pad_token_id` to `eos_token_id`:128001 for open-end generation.\n"
     ]
    },
    {
     "name": "stdout",
     "output_type": "stream",
     "text": [
      "score (tensor([[ 3.9219,  4.8125,  5.4375,  ..., -5.2812, -5.2812, -0.7734]],\n",
      "       device='cuda:0'), tensor([[ 4.5625,  5.7500,  7.7500,  ..., -0.4355, -0.4355, -1.5469]],\n",
      "       device='cuda:0'))\n",
      "score is tensor([[ 3.9219,  4.8125,  5.4375,  ..., -5.2812, -5.2812, -0.7734]],\n",
      "       device='cuda:0')\n",
      "logits is [[0.44744617 0.46164966 0.09090421]]\n"
     ]
    },
    {
     "name": "stderr",
     "output_type": "stream",
     "text": [
      " 19%|█▊        | 93/501 [00:40<02:26,  2.79it/s]The attention mask and the pad token id were not set. As a consequence, you may observe unexpected behavior. Please pass your input's `attention_mask` to obtain reliable results.\n",
      "Setting `pad_token_id` to `eos_token_id`:128001 for open-end generation.\n"
     ]
    },
    {
     "name": "stdout",
     "output_type": "stream",
     "text": [
      "score (tensor([[ 4.3125,  5.5625,  6.7188,  ..., -3.3594, -3.3594, -1.6641]],\n",
      "       device='cuda:0'), tensor([[ 4.5938,  5.7188,  7.5625,  ..., -0.9609, -0.9609, -1.3828]],\n",
      "       device='cuda:0'))\n",
      "score is tensor([[ 4.3125,  5.5625,  6.7188,  ..., -3.3594, -3.3594, -1.6641]],\n",
      "       device='cuda:0')\n",
      "logits is [[0.46435928 0.30932996 0.22631064]]\n"
     ]
    },
    {
     "name": "stderr",
     "output_type": "stream",
     "text": [
      " 19%|█▉        | 94/501 [00:40<02:14,  3.03it/s]The attention mask and the pad token id were not set. As a consequence, you may observe unexpected behavior. Please pass your input's `attention_mask` to obtain reliable results.\n",
      "Setting `pad_token_id` to `eos_token_id`:128001 for open-end generation.\n"
     ]
    },
    {
     "name": "stdout",
     "output_type": "stream",
     "text": [
      "score (tensor([[ 4.4062,  5.8438,  6.6875,  ..., -4.7500, -4.7500, -1.4688]],\n",
      "       device='cuda:0'), tensor([[ 4.3438,  6.0312,  7.5625,  ...,  1.3281,  1.3281, -2.0000]],\n",
      "       device='cuda:0'))\n",
      "score is tensor([[ 4.4062,  5.8438,  6.6875,  ..., -4.7500, -4.7500, -1.4688]],\n",
      "       device='cuda:0')\n",
      "logits is [[0.2786964  0.45949265 0.26181105]]\n"
     ]
    },
    {
     "name": "stderr",
     "output_type": "stream",
     "text": [
      " 19%|█▉        | 95/501 [00:41<02:23,  2.83it/s]The attention mask and the pad token id were not set. As a consequence, you may observe unexpected behavior. Please pass your input's `attention_mask` to obtain reliable results.\n",
      "Setting `pad_token_id` to `eos_token_id`:128001 for open-end generation.\n"
     ]
    },
    {
     "name": "stdout",
     "output_type": "stream",
     "text": [
      "score (tensor([[ 4.0625,  5.8438,  7.1875,  ..., -3.0312, -3.0312, -0.8281]],\n",
      "       device='cuda:0'), tensor([[ 4.0938,  5.9375,  8.1250,  ...,  0.4395,  0.4395, -1.5625]],\n",
      "       device='cuda:0'))\n",
      "score is tensor([[ 4.0625,  5.8438,  7.1875,  ..., -3.0312, -3.0312, -0.8281]],\n",
      "       device='cuda:0')\n",
      "logits is [[0.41687304 0.2375271  0.34559986]]\n"
     ]
    },
    {
     "name": "stderr",
     "output_type": "stream",
     "text": [
      " 19%|█▉        | 96/501 [00:41<02:08,  3.15it/s]"
     ]
    },
    {
     "name": "stdout",
     "output_type": "stream",
     "text": [
      "score (tensor([[ 4.0625,  5.3125,  6.0938,  ..., -4.0625, -4.0625, -1.5781]],\n",
      "       device='cuda:0'), tensor([[ 4.5312,  6.0938,  8.1250,  ..., -0.6562, -0.6562, -0.9961]],\n",
      "       device='cuda:0'))\n",
      "score is tensor([[ 4.0625,  5.3125,  6.0938,  ..., -4.0625, -4.0625, -1.5781]],\n",
      "       device='cuda:0')\n",
      "logits is [[0.48631787 0.35579777 0.1578843 ]]\n"
     ]
    },
    {
     "name": "stderr",
     "output_type": "stream",
     "text": [
      "The attention mask and the pad token id were not set. As a consequence, you may observe unexpected behavior. Please pass your input's `attention_mask` to obtain reliable results.\n",
      "Setting `pad_token_id` to `eos_token_id`:128001 for open-end generation.\n",
      " 19%|█▉        | 97/501 [00:41<02:46,  2.42it/s]"
     ]
    },
    {
     "name": "stdout",
     "output_type": "stream",
     "text": [
      "score (tensor([[ 4.7500,  5.1250,  6.9688,  ..., -1.1797, -1.1797, -1.7891]],\n",
      "       device='cuda:0'), tensor([[ 5.7188,  6.0000,  8.1875,  ...,  2.0625,  2.0625, -0.9844]],\n",
      "       device='cuda:0'))\n",
      "score is tensor([[ 4.7500,  5.1250,  6.9688,  ..., -1.1797, -1.1797, -1.7891]],\n",
      "       device='cuda:0')\n",
      "logits is [[0.6780169  0.20042141 0.12156173]]\n"
     ]
    },
    {
     "name": "stderr",
     "output_type": "stream",
     "text": [
      "The attention mask and the pad token id were not set. As a consequence, you may observe unexpected behavior. Please pass your input's `attention_mask` to obtain reliable results.\n",
      "Setting `pad_token_id` to `eos_token_id`:128001 for open-end generation.\n",
      " 20%|█▉        | 98/501 [00:42<03:13,  2.08it/s]"
     ]
    },
    {
     "name": "stdout",
     "output_type": "stream",
     "text": [
      "score (tensor([[ 4.8750,  6.0625,  7.4062,  ..., -4.3125, -4.3125, -1.8359]],\n",
      "       device='cuda:0'), tensor([[ 4.6875,  5.7500,  8.0625,  ...,  3.0469,  3.0469, -1.4141]],\n",
      "       device='cuda:0'))\n",
      "score is tensor([[ 4.8750,  6.0625,  7.4062,  ..., -4.3125, -4.3125, -1.8359]],\n",
      "       device='cuda:0')\n",
      "logits is [[0.55546045 0.24648409 0.19805552]]\n"
     ]
    },
    {
     "name": "stderr",
     "output_type": "stream",
     "text": [
      "The attention mask and the pad token id were not set. As a consequence, you may observe unexpected behavior. Please pass your input's `attention_mask` to obtain reliable results.\n",
      "Setting `pad_token_id` to `eos_token_id`:128001 for open-end generation.\n",
      " 20%|█▉        | 99/501 [00:43<03:23,  1.97it/s]The attention mask and the pad token id were not set. As a consequence, you may observe unexpected behavior. Please pass your input's `attention_mask` to obtain reliable results.\n",
      "Setting `pad_token_id` to `eos_token_id`:128001 for open-end generation.\n"
     ]
    },
    {
     "name": "stdout",
     "output_type": "stream",
     "text": [
      "score (tensor([[ 4.7812,  8.0625,  7.1562,  ..., -2.1719, -2.1719, -1.8594]],\n",
      "       device='cuda:0'), tensor([[ 4.5938,  8.0000,  7.1875,  ...,  2.5625,  2.5625, -1.8203]],\n",
      "       device='cuda:0'))\n",
      "score is tensor([[ 4.7812,  8.0625,  7.1562,  ..., -2.1719, -2.1719, -1.8594]],\n",
      "       device='cuda:0')\n",
      "logits is [[0.6390814  0.18891211 0.17200643]]\n"
     ]
    },
    {
     "name": "stderr",
     "output_type": "stream",
     "text": [
      " 20%|█▉        | 100/501 [00:43<03:10,  2.11it/s]The attention mask and the pad token id were not set. As a consequence, you may observe unexpected behavior. Please pass your input's `attention_mask` to obtain reliable results.\n",
      "Setting `pad_token_id` to `eos_token_id`:128001 for open-end generation.\n"
     ]
    },
    {
     "name": "stdout",
     "output_type": "stream",
     "text": [
      "score (tensor([[ 3.6094,  2.8750,  3.8906,  ..., -0.1699, -0.1699, -2.4219]],\n",
      "       device='cuda:0'), tensor([[-0.5781,  0.1895, -0.3516,  ...,  0.8555,  0.8555,  0.7812]],\n",
      "       device='cuda:0'))\n",
      "score is tensor([[ 3.6094,  2.8750,  3.8906,  ..., -0.1699, -0.1699, -2.4219]],\n",
      "       device='cuda:0')\n",
      "logits is [[0.67767674 0.22000942 0.10231388]]\n"
     ]
    },
    {
     "name": "stderr",
     "output_type": "stream",
     "text": [
      " 20%|██        | 101/501 [00:43<02:41,  2.48it/s]The attention mask and the pad token id were not set. As a consequence, you may observe unexpected behavior. Please pass your input's `attention_mask` to obtain reliable results.\n",
      "Setting `pad_token_id` to `eos_token_id`:128001 for open-end generation.\n"
     ]
    },
    {
     "name": "stdout",
     "output_type": "stream",
     "text": [
      "score (tensor([[ 4.4062,  5.6562,  6.3750,  ..., -5.3125, -5.3125, -1.3672]],\n",
      "       device='cuda:0'), tensor([[ 3.7969,  5.4375,  7.1875,  ..., -0.0232, -0.0231, -1.3750]],\n",
      "       device='cuda:0'))\n",
      "score is tensor([[ 4.4062,  5.6562,  6.3750,  ..., -5.3125, -5.3125, -1.3672]],\n",
      "       device='cuda:0')\n",
      "logits is [[0.28502122 0.4019443  0.31303453]]\n"
     ]
    },
    {
     "name": "stderr",
     "output_type": "stream",
     "text": [
      " 20%|██        | 102/501 [00:44<02:45,  2.42it/s]The attention mask and the pad token id were not set. As a consequence, you may observe unexpected behavior. Please pass your input's `attention_mask` to obtain reliable results.\n",
      "Setting `pad_token_id` to `eos_token_id`:128001 for open-end generation.\n"
     ]
    },
    {
     "name": "stdout",
     "output_type": "stream",
     "text": [
      "score (tensor([[ 4.4688,  5.5312,  6.6250,  ..., -5.4062, -5.4062,  0.0513]],\n",
      "       device='cuda:0'), tensor([[ 4.4688,  5.8438,  8.0625,  ...,  0.7812,  0.7812, -1.6250]],\n",
      "       device='cuda:0'))\n",
      "score is tensor([[ 4.4688,  5.5312,  6.6250,  ..., -5.4062, -5.4062,  0.0513]],\n",
      "       device='cuda:0')\n",
      "logits is [[0.4411355  0.23612283 0.32274163]]\n"
     ]
    },
    {
     "name": "stderr",
     "output_type": "stream",
     "text": [
      " 21%|██        | 103/501 [00:44<02:26,  2.73it/s]The attention mask and the pad token id were not set. As a consequence, you may observe unexpected behavior. Please pass your input's `attention_mask` to obtain reliable results.\n",
      "Setting `pad_token_id` to `eos_token_id`:128001 for open-end generation.\n"
     ]
    },
    {
     "name": "stdout",
     "output_type": "stream",
     "text": [
      "score (tensor([[ 5.2188,  5.7812,  7.4375,  ..., -2.4062, -2.4062, -0.4355]],\n",
      "       device='cuda:0'), tensor([[ 5.2500e+00,  6.0938e+00,  8.1875e+00,  ..., -5.0735e-04,\n",
      "         -4.5395e-04, -1.6113e-01]], device='cuda:0'))\n",
      "score is tensor([[ 5.2188,  5.7812,  7.4375,  ..., -2.4062, -2.4062, -0.4355]],\n",
      "       device='cuda:0')\n",
      "logits is [[0.5078425  0.21170023 0.28045726]]\n"
     ]
    },
    {
     "name": "stderr",
     "output_type": "stream",
     "text": [
      " 21%|██        | 104/501 [00:44<02:29,  2.65it/s]The attention mask and the pad token id were not set. As a consequence, you may observe unexpected behavior. Please pass your input's `attention_mask` to obtain reliable results.\n",
      "Setting `pad_token_id` to `eos_token_id`:128001 for open-end generation.\n"
     ]
    },
    {
     "name": "stdout",
     "output_type": "stream",
     "text": [
      "score (tensor([[ 5.0312,  5.4688,  6.4375,  ..., -4.1875, -4.1875,  0.2158]],\n",
      "       device='cuda:0'), tensor([[ 4.4688,  5.9062,  7.4688,  ...,  0.8203,  0.8203, -0.6719]],\n",
      "       device='cuda:0'))\n",
      "score is tensor([[ 5.0312,  5.4688,  6.4375,  ..., -4.1875, -4.1875,  0.2158]],\n",
      "       device='cuda:0')\n",
      "logits is [[0.40147552 0.27592984 0.32259464]]\n"
     ]
    },
    {
     "name": "stderr",
     "output_type": "stream",
     "text": [
      " 21%|██        | 105/501 [00:45<02:31,  2.61it/s]"
     ]
    },
    {
     "name": "stdout",
     "output_type": "stream",
     "text": [
      "score (tensor([[ 4.5000,  6.2812,  6.3125,  ...,  0.4004,  0.4004, -0.5625]],\n",
      "       device='cuda:0'), tensor([[ 4.5312,  6.1250,  6.9062,  ...,  1.3594,  1.3594, -1.3828]],\n",
      "       device='cuda:0'))\n",
      "score is tensor([[ 4.5000,  6.2812,  6.3125,  ...,  0.4004,  0.4004, -0.5625]],\n",
      "       device='cuda:0')\n",
      "logits is [[0.681093   0.20772164 0.11118537]]\n"
     ]
    },
    {
     "name": "stderr",
     "output_type": "stream",
     "text": [
      "The attention mask and the pad token id were not set. As a consequence, you may observe unexpected behavior. Please pass your input's `attention_mask` to obtain reliable results.\n",
      "Setting `pad_token_id` to `eos_token_id`:128001 for open-end generation.\n",
      " 21%|██        | 106/501 [00:45<02:55,  2.26it/s]"
     ]
    },
    {
     "name": "stdout",
     "output_type": "stream",
     "text": [
      "score (tensor([[ 4.3438,  5.4688,  6.6875,  ..., -5.1250, -5.1250,  1.2266]],\n",
      "       device='cuda:0'), tensor([[ 3.8438,  4.9688,  7.4062,  ..., -0.6055, -0.6055, -0.4082]],\n",
      "       device='cuda:0'))\n",
      "score is tensor([[ 4.3438,  5.4688,  6.6875,  ..., -5.1250, -5.1250,  1.2266]],\n",
      "       device='cuda:0')\n",
      "logits is [[0.29962653 0.435954   0.26441947]]\n"
     ]
    },
    {
     "name": "stderr",
     "output_type": "stream",
     "text": [
      "The attention mask and the pad token id were not set. As a consequence, you may observe unexpected behavior. Please pass your input's `attention_mask` to obtain reliable results.\n",
      "Setting `pad_token_id` to `eos_token_id`:128001 for open-end generation.\n",
      " 21%|██▏       | 107/501 [00:46<03:09,  2.08it/s]The attention mask and the pad token id were not set. As a consequence, you may observe unexpected behavior. Please pass your input's `attention_mask` to obtain reliable results.\n",
      "Setting `pad_token_id` to `eos_token_id`:128001 for open-end generation.\n"
     ]
    },
    {
     "name": "stdout",
     "output_type": "stream",
     "text": [
      "score (tensor([[ 5.0312,  5.7500,  7.6875,  ..., -4.0312, -4.0312, -4.2812]],\n",
      "       device='cuda:0'), tensor([[ 4.8750,  6.3125,  8.3125,  ...,  2.4062,  2.4062, -3.2344]],\n",
      "       device='cuda:0'))\n",
      "score is tensor([[ 5.0312,  5.7500,  7.6875,  ..., -4.0312, -4.0312, -4.2812]],\n",
      "       device='cuda:0')\n",
      "logits is [[0.6097781  0.20425008 0.18597183]]\n"
     ]
    },
    {
     "name": "stderr",
     "output_type": "stream",
     "text": [
      " 22%|██▏       | 108/501 [00:46<03:04,  2.14it/s]The attention mask and the pad token id were not set. As a consequence, you may observe unexpected behavior. Please pass your input's `attention_mask` to obtain reliable results.\n",
      "Setting `pad_token_id` to `eos_token_id`:128001 for open-end generation.\n"
     ]
    },
    {
     "name": "stdout",
     "output_type": "stream",
     "text": [
      "score (tensor([[ 4.0938,  5.4375,  6.0938,  ..., -5.3438, -5.3438, -1.1562]],\n",
      "       device='cuda:0'), tensor([[ 3.2812,  4.2188,  6.4688,  ...,  2.0469,  2.0469, -2.5469]],\n",
      "       device='cuda:0'))\n",
      "score is tensor([[ 4.0938,  5.4375,  6.0938,  ..., -5.3438, -5.3438, -1.1562]],\n",
      "       device='cuda:0')\n",
      "logits is [[0.3344199  0.48657808 0.17900208]]\n"
     ]
    },
    {
     "name": "stderr",
     "output_type": "stream",
     "text": [
      " 22%|██▏       | 109/501 [00:47<03:00,  2.18it/s]The attention mask and the pad token id were not set. As a consequence, you may observe unexpected behavior. Please pass your input's `attention_mask` to obtain reliable results.\n",
      "Setting `pad_token_id` to `eos_token_id`:128001 for open-end generation.\n"
     ]
    },
    {
     "name": "stdout",
     "output_type": "stream",
     "text": [
      "score (tensor([[ 4.1875,  5.4688,  6.5312,  ..., -4.8438, -4.8438, -0.6992]],\n",
      "       device='cuda:0'), tensor([[ 4.2500,  5.9375,  7.5938,  ...,  0.8477,  0.8477, -1.4609]],\n",
      "       device='cuda:0'))\n",
      "score is tensor([[ 4.1875,  5.4688,  6.5312,  ..., -4.8438, -4.8438, -0.6992]],\n",
      "       device='cuda:0')\n",
      "logits is [[0.36525115 0.322333   0.31241587]]\n"
     ]
    },
    {
     "name": "stderr",
     "output_type": "stream",
     "text": [
      " 22%|██▏       | 110/501 [00:47<02:53,  2.26it/s]"
     ]
    },
    {
     "name": "stdout",
     "output_type": "stream",
     "text": [
      "score (tensor([[ 3.7812,  5.1875,  6.1250,  ..., -4.7188, -4.7188, -0.5195]],\n",
      "       device='cuda:0'), tensor([[ 4.1562,  5.4688,  7.4375,  ...,  0.4316,  0.4316, -2.6562]],\n",
      "       device='cuda:0'))\n",
      "score is tensor([[ 3.7812,  5.1875,  6.1250,  ..., -4.7188, -4.7188, -0.5195]],\n",
      "       device='cuda:0')\n",
      "logits is [[0.4908568  0.31692097 0.19222228]]\n"
     ]
    },
    {
     "name": "stderr",
     "output_type": "stream",
     "text": [
      "The attention mask and the pad token id were not set. As a consequence, you may observe unexpected behavior. Please pass your input's `attention_mask` to obtain reliable results.\n",
      "Setting `pad_token_id` to `eos_token_id`:128001 for open-end generation.\n",
      " 22%|██▏       | 111/501 [00:48<03:07,  2.08it/s]"
     ]
    },
    {
     "name": "stdout",
     "output_type": "stream",
     "text": [
      "score (tensor([[ 4.5938,  6.2812,  7.0938,  ...,  0.5508,  0.5508, -1.6406]],\n",
      "       device='cuda:0'), tensor([[ 4.3125,  5.3125,  7.4062,  ...,  1.5234,  1.5234, -2.5000]],\n",
      "       device='cuda:0'))\n",
      "score is tensor([[ 4.5938,  6.2812,  7.0938,  ...,  0.5508,  0.5508, -1.6406]],\n",
      "       device='cuda:0')\n",
      "logits is [[0.60255104 0.20182931 0.19561969]]\n"
     ]
    },
    {
     "name": "stderr",
     "output_type": "stream",
     "text": [
      "The attention mask and the pad token id were not set. As a consequence, you may observe unexpected behavior. Please pass your input's `attention_mask` to obtain reliable results.\n",
      "Setting `pad_token_id` to `eos_token_id`:128001 for open-end generation.\n",
      " 22%|██▏       | 112/501 [00:48<03:07,  2.07it/s]The attention mask and the pad token id were not set. As a consequence, you may observe unexpected behavior. Please pass your input's `attention_mask` to obtain reliable results.\n",
      "Setting `pad_token_id` to `eos_token_id`:128001 for open-end generation.\n"
     ]
    },
    {
     "name": "stdout",
     "output_type": "stream",
     "text": [
      "score (tensor([[ 4.0938,  4.9062,  6.0000,  ..., -3.7656, -3.7656, -1.0312]],\n",
      "       device='cuda:0'), tensor([[ 5.0312,  4.9375,  7.0312,  ...,  0.4395,  0.4395, -2.7812]],\n",
      "       device='cuda:0'))\n",
      "score is tensor([[ 4.0938,  4.9062,  6.0000,  ..., -3.7656, -3.7656, -1.0312]],\n",
      "       device='cuda:0')\n",
      "logits is [[0.35040897 0.44993404 0.19965702]]\n"
     ]
    },
    {
     "name": "stderr",
     "output_type": "stream",
     "text": [
      " 23%|██▎       | 113/501 [00:49<03:03,  2.12it/s]The attention mask and the pad token id were not set. As a consequence, you may observe unexpected behavior. Please pass your input's `attention_mask` to obtain reliable results.\n",
      "Setting `pad_token_id` to `eos_token_id`:128001 for open-end generation.\n"
     ]
    },
    {
     "name": "stdout",
     "output_type": "stream",
     "text": [
      "score (tensor([[ 4.7188,  5.5000,  5.5938,  ..., -4.7500, -4.7500, -0.6406]],\n",
      "       device='cuda:0'), tensor([[ 5.6875,  5.7188,  7.2500,  ...,  1.1016,  1.1016, -2.1562]],\n",
      "       device='cuda:0'))\n",
      "score is tensor([[ 4.7188,  5.5000,  5.5938,  ..., -4.7500, -4.7500, -0.6406]],\n",
      "       device='cuda:0')\n",
      "logits is [[0.36121398 0.33932912 0.2994569 ]]\n"
     ]
    },
    {
     "name": "stderr",
     "output_type": "stream",
     "text": [
      " 23%|██▎       | 114/501 [00:49<02:55,  2.21it/s]The attention mask and the pad token id were not set. As a consequence, you may observe unexpected behavior. Please pass your input's `attention_mask` to obtain reliable results.\n",
      "Setting `pad_token_id` to `eos_token_id`:128001 for open-end generation.\n"
     ]
    },
    {
     "name": "stdout",
     "output_type": "stream",
     "text": [
      "score (tensor([[ 4.5312,  5.2812,  7.5000,  ..., -1.7578, -1.7578, -0.9844]],\n",
      "       device='cuda:0'), tensor([[ 4.1250,  5.7500,  7.8125,  ...,  0.1729,  0.1729, -0.8477]],\n",
      "       device='cuda:0'))\n",
      "score is tensor([[ 4.5312,  5.2812,  7.5000,  ..., -1.7578, -1.7578, -0.9844]],\n",
      "       device='cuda:0')\n",
      "logits is [[0.62477267 0.18468244 0.1905449 ]]\n"
     ]
    },
    {
     "name": "stderr",
     "output_type": "stream",
     "text": [
      " 23%|██▎       | 115/501 [00:50<02:54,  2.21it/s]"
     ]
    },
    {
     "name": "stdout",
     "output_type": "stream",
     "text": [
      "score (tensor([[ 4.3750,  5.8438,  7.1250,  ..., -1.3047, -1.3047, -0.4043]],\n",
      "       device='cuda:0'), tensor([[ 4.0000,  5.9688,  7.4688,  ..., -0.4844, -0.4844, -0.2236]],\n",
      "       device='cuda:0'))\n",
      "score is tensor([[ 4.3750,  5.8438,  7.1250,  ..., -1.3047, -1.3047, -0.4043]],\n",
      "       device='cuda:0')\n",
      "logits is [[0.62454385 0.17893481 0.19652143]]\n"
     ]
    },
    {
     "name": "stderr",
     "output_type": "stream",
     "text": [
      "The attention mask and the pad token id were not set. As a consequence, you may observe unexpected behavior. Please pass your input's `attention_mask` to obtain reliable results.\n",
      "Setting `pad_token_id` to `eos_token_id`:128001 for open-end generation.\n",
      " 23%|██▎       | 116/501 [00:50<03:00,  2.13it/s]"
     ]
    },
    {
     "name": "stdout",
     "output_type": "stream",
     "text": [
      "score (tensor([[ 3.9062,  6.1250,  6.0000,  ..., -2.6250, -2.6250, -2.0312]],\n",
      "       device='cuda:0'), tensor([[ 4.8750,  6.8125,  8.1250,  ..., -0.7812, -0.7812, -1.3672]],\n",
      "       device='cuda:0'))\n",
      "score is tensor([[ 3.9062,  6.1250,  6.0000,  ..., -2.6250, -2.6250, -2.0312]],\n",
      "       device='cuda:0')\n",
      "logits is [[0.34847218 0.47630498 0.17522281]]\n"
     ]
    },
    {
     "name": "stderr",
     "output_type": "stream",
     "text": [
      "The attention mask and the pad token id were not set. As a consequence, you may observe unexpected behavior. Please pass your input's `attention_mask` to obtain reliable results.\n",
      "Setting `pad_token_id` to `eos_token_id`:128001 for open-end generation.\n",
      " 23%|██▎       | 117/501 [00:51<03:20,  1.92it/s]The attention mask and the pad token id were not set. As a consequence, you may observe unexpected behavior. Please pass your input's `attention_mask` to obtain reliable results.\n",
      "Setting `pad_token_id` to `eos_token_id`:128001 for open-end generation.\n"
     ]
    },
    {
     "name": "stdout",
     "output_type": "stream",
     "text": [
      "score (tensor([[ 4.6250,  5.0312,  6.2812,  ..., -5.0625, -5.0625, -2.2500]],\n",
      "       device='cuda:0'), tensor([[ 3.9375,  5.0938,  7.1250,  ...,  2.9844,  2.9844, -2.9531]],\n",
      "       device='cuda:0'))\n",
      "score is tensor([[ 4.6250,  5.0312,  6.2812,  ..., -5.0625, -5.0625, -2.2500]],\n",
      "       device='cuda:0')\n",
      "logits is [[0.3669873  0.51753503 0.11547768]]\n"
     ]
    },
    {
     "name": "stderr",
     "output_type": "stream",
     "text": [
      " 24%|██▎       | 118/501 [00:51<03:05,  2.06it/s]The attention mask and the pad token id were not set. As a consequence, you may observe unexpected behavior. Please pass your input's `attention_mask` to obtain reliable results.\n",
      "Setting `pad_token_id` to `eos_token_id`:128001 for open-end generation.\n"
     ]
    },
    {
     "name": "stdout",
     "output_type": "stream",
     "text": [
      "score (tensor([[ 4.1875,  5.1250,  5.1875,  ..., -3.8125, -3.8125, -0.1553]],\n",
      "       device='cuda:0'), tensor([[ 4.2812,  5.1562,  6.3750,  ...,  1.1797,  1.1797, -2.4219]],\n",
      "       device='cuda:0'))\n",
      "score is tensor([[ 4.1875,  5.1250,  5.1875,  ..., -3.8125, -3.8125, -0.1553]],\n",
      "       device='cuda:0')\n",
      "logits is [[0.39418796 0.4196109  0.1862012 ]]\n"
     ]
    },
    {
     "name": "stderr",
     "output_type": "stream",
     "text": [
      " 24%|██▍       | 119/501 [00:51<02:39,  2.39it/s]"
     ]
    },
    {
     "name": "stdout",
     "output_type": "stream",
     "text": [
      "score (tensor([[ 4.1875,  6.5312,  6.6875,  ..., -3.1406, -3.1406, -0.8672]],\n",
      "       device='cuda:0'), tensor([[ 3.7812,  6.9688,  7.5000,  ...,  1.5625,  1.5625, -1.1797]],\n",
      "       device='cuda:0'))\n",
      "score is tensor([[ 4.1875,  6.5312,  6.6875,  ..., -3.1406, -3.1406, -0.8672]],\n",
      "       device='cuda:0')\n",
      "logits is [[0.61099815 0.23927031 0.14973153]]\n"
     ]
    },
    {
     "name": "stderr",
     "output_type": "stream",
     "text": [
      "The attention mask and the pad token id were not set. As a consequence, you may observe unexpected behavior. Please pass your input's `attention_mask` to obtain reliable results.\n",
      "Setting `pad_token_id` to `eos_token_id`:128001 for open-end generation.\n",
      " 24%|██▍       | 120/501 [00:52<03:23,  1.87it/s]The attention mask and the pad token id were not set. As a consequence, you may observe unexpected behavior. Please pass your input's `attention_mask` to obtain reliable results.\n",
      "Setting `pad_token_id` to `eos_token_id`:128001 for open-end generation.\n"
     ]
    },
    {
     "name": "stdout",
     "output_type": "stream",
     "text": [
      "score (tensor([[ 4.7812,  7.0938,  7.4062,  ..., -2.8125, -2.8125, -0.6523]],\n",
      "       device='cuda:0'), tensor([[ 4.7500,  5.7188,  4.0938,  ..., -3.3125, -3.3125, -4.5312]],\n",
      "       device='cuda:0'))\n",
      "score is tensor([[ 4.7812,  7.0938,  7.4062,  ..., -2.8125, -2.8125, -0.6523]],\n",
      "       device='cuda:0')\n",
      "logits is [[0.71498    0.16459775 0.12042228]]\n"
     ]
    },
    {
     "name": "stderr",
     "output_type": "stream",
     "text": [
      " 24%|██▍       | 121/501 [00:53<03:07,  2.02it/s]The attention mask and the pad token id were not set. As a consequence, you may observe unexpected behavior. Please pass your input's `attention_mask` to obtain reliable results.\n",
      "Setting `pad_token_id` to `eos_token_id`:128001 for open-end generation.\n"
     ]
    },
    {
     "name": "stdout",
     "output_type": "stream",
     "text": [
      "score (tensor([[ 4.8750,  5.1562,  6.0625,  ..., -4.9688, -4.9688, -3.7188]],\n",
      "       device='cuda:0'), tensor([[ 4.1875,  4.7188,  7.7188,  ...,  1.7031,  1.7031, -2.3438]],\n",
      "       device='cuda:0'))\n",
      "score is tensor([[ 4.8750,  5.1562,  6.0625,  ..., -4.9688, -4.9688, -3.7188]],\n",
      "       device='cuda:0')\n",
      "logits is [[0.22188854 0.54917943 0.22893204]]\n"
     ]
    },
    {
     "name": "stderr",
     "output_type": "stream",
     "text": [
      " 24%|██▍       | 122/501 [00:53<02:57,  2.14it/s]The attention mask and the pad token id were not set. As a consequence, you may observe unexpected behavior. Please pass your input's `attention_mask` to obtain reliable results.\n",
      "Setting `pad_token_id` to `eos_token_id`:128001 for open-end generation.\n"
     ]
    },
    {
     "name": "stdout",
     "output_type": "stream",
     "text": [
      "score (tensor([[ 4.6562,  5.9062,  6.5938,  ..., -3.5781, -3.5781, -0.2891]],\n",
      "       device='cuda:0'), tensor([[ 5.0312,  5.7500,  7.1250,  ...,  1.9375,  1.9375, -1.8828]],\n",
      "       device='cuda:0'))\n",
      "score is tensor([[ 4.6562,  5.9062,  6.5938,  ..., -3.5781, -3.5781, -0.2891]],\n",
      "       device='cuda:0')\n",
      "logits is [[0.45513284 0.40165332 0.1432139 ]]\n"
     ]
    },
    {
     "name": "stderr",
     "output_type": "stream",
     "text": [
      " 25%|██▍       | 123/501 [00:53<02:44,  2.30it/s]The attention mask and the pad token id were not set. As a consequence, you may observe unexpected behavior. Please pass your input's `attention_mask` to obtain reliable results.\n",
      "Setting `pad_token_id` to `eos_token_id`:128001 for open-end generation.\n"
     ]
    },
    {
     "name": "stdout",
     "output_type": "stream",
     "text": [
      "score (tensor([[ 4.3750,  5.2500,  6.0000,  ..., -4.6875, -4.6875,  0.0552]],\n",
      "       device='cuda:0'), tensor([[ 4.4688,  5.5000,  7.5938,  ...,  1.0391,  1.0391, -0.9023]],\n",
      "       device='cuda:0'))\n",
      "score is tensor([[ 4.3750,  5.2500,  6.0000,  ..., -4.6875, -4.6875,  0.0552]],\n",
      "       device='cuda:0')\n",
      "logits is [[0.3754342  0.48206705 0.14249875]]\n"
     ]
    },
    {
     "name": "stderr",
     "output_type": "stream",
     "text": [
      " 25%|██▍       | 124/501 [00:54<02:21,  2.67it/s]The attention mask and the pad token id were not set. As a consequence, you may observe unexpected behavior. Please pass your input's `attention_mask` to obtain reliable results.\n",
      "Setting `pad_token_id` to `eos_token_id`:128001 for open-end generation.\n"
     ]
    },
    {
     "name": "stdout",
     "output_type": "stream",
     "text": [
      "score (tensor([[ 3.7812,  5.6250,  6.2188,  ..., -2.0625, -2.0625,  0.5117]],\n",
      "       device='cuda:0'), tensor([[ 3.9375,  5.7812,  7.5938,  ..., -0.0386, -0.0388,  0.7578]],\n",
      "       device='cuda:0'))\n",
      "score is tensor([[ 3.7812,  5.6250,  6.2188,  ..., -2.0625, -2.0625,  0.5117]],\n",
      "       device='cuda:0')\n",
      "logits is [[0.2723483  0.21883802 0.5088136 ]]\n"
     ]
    },
    {
     "name": "stderr",
     "output_type": "stream",
     "text": [
      " 25%|██▍       | 125/501 [00:54<02:24,  2.60it/s]The attention mask and the pad token id were not set. As a consequence, you may observe unexpected behavior. Please pass your input's `attention_mask` to obtain reliable results.\n",
      "Setting `pad_token_id` to `eos_token_id`:128001 for open-end generation.\n"
     ]
    },
    {
     "name": "stdout",
     "output_type": "stream",
     "text": [
      "score (tensor([[ 4.2188,  6.4688,  6.2812,  ..., -0.3730, -0.3730, -0.0840]],\n",
      "       device='cuda:0'), tensor([[ 4.0625,  6.5938,  7.2812,  ...,  0.1787,  0.1787, -0.2852]],\n",
      "       device='cuda:0'))\n",
      "score is tensor([[ 4.2188,  6.4688,  6.2812,  ..., -0.3730, -0.3730, -0.0840]],\n",
      "       device='cuda:0')\n",
      "logits is [[0.54425013 0.20657405 0.24917586]]\n"
     ]
    },
    {
     "name": "stderr",
     "output_type": "stream",
     "text": [
      " 25%|██▌       | 126/501 [00:54<02:21,  2.65it/s]"
     ]
    },
    {
     "name": "stdout",
     "output_type": "stream",
     "text": [
      "score (tensor([[ 4.2500,  5.8125,  6.4688,  ..., -5.3125, -5.3125, -2.5000]],\n",
      "       device='cuda:0'), tensor([[ 3.3594,  4.2188,  7.0000,  ...,  2.1250,  2.1250, -3.0469]],\n",
      "       device='cuda:0'))\n",
      "score is tensor([[ 4.2500,  5.8125,  6.4688,  ..., -5.3125, -5.3125, -2.5000]],\n",
      "       device='cuda:0')\n",
      "logits is [[0.20306581 0.5519901  0.24494413]]\n"
     ]
    },
    {
     "name": "stderr",
     "output_type": "stream",
     "text": [
      "The attention mask and the pad token id were not set. As a consequence, you may observe unexpected behavior. Please pass your input's `attention_mask` to obtain reliable results.\n",
      "Setting `pad_token_id` to `eos_token_id`:128001 for open-end generation.\n",
      " 25%|██▌       | 127/501 [00:55<02:49,  2.21it/s]"
     ]
    },
    {
     "name": "stdout",
     "output_type": "stream",
     "text": [
      "score (tensor([[ 4.2188,  5.5000,  6.3750,  ..., -5.1250, -5.1250, -2.1719]],\n",
      "       device='cuda:0'), tensor([[ 4.3125,  5.6875,  8.0000,  ...,  3.2031,  3.2031, -2.8594]],\n",
      "       device='cuda:0'))\n",
      "score is tensor([[ 4.2188,  5.5000,  6.3750,  ..., -5.1250, -5.1250, -2.1719]],\n",
      "       device='cuda:0')\n",
      "logits is [[0.22404598 0.53745836 0.23849571]]\n"
     ]
    },
    {
     "name": "stderr",
     "output_type": "stream",
     "text": [
      "The attention mask and the pad token id were not set. As a consequence, you may observe unexpected behavior. Please pass your input's `attention_mask` to obtain reliable results.\n",
      "Setting `pad_token_id` to `eos_token_id`:128001 for open-end generation.\n",
      " 26%|██▌       | 128/501 [00:56<03:27,  1.80it/s]"
     ]
    },
    {
     "name": "stdout",
     "output_type": "stream",
     "text": [
      "score (tensor([[ 4.1250,  6.2812,  7.1562,  ..., -4.8750, -4.8750, -0.8672]],\n",
      "       device='cuda:0'), tensor([[ 4.1250,  6.2500,  7.9375,  ..., -2.6719, -2.6719, -1.3438]],\n",
      "       device='cuda:0'))\n",
      "score is tensor([[ 4.1250,  6.2812,  7.1562,  ..., -4.8750, -4.8750, -0.8672]],\n",
      "       device='cuda:0')\n",
      "logits is [[0.4055002  0.27869594 0.3158039 ]]\n"
     ]
    },
    {
     "name": "stderr",
     "output_type": "stream",
     "text": [
      "The attention mask and the pad token id were not set. As a consequence, you may observe unexpected behavior. Please pass your input's `attention_mask` to obtain reliable results.\n",
      "Setting `pad_token_id` to `eos_token_id`:128001 for open-end generation.\n",
      " 26%|██▌       | 129/501 [00:57<03:54,  1.59it/s]The attention mask and the pad token id were not set. As a consequence, you may observe unexpected behavior. Please pass your input's `attention_mask` to obtain reliable results.\n",
      "Setting `pad_token_id` to `eos_token_id`:128001 for open-end generation.\n"
     ]
    },
    {
     "name": "stdout",
     "output_type": "stream",
     "text": [
      "score (tensor([[ 4.0312,  6.2188,  8.1875,  ...,  2.2969,  2.2969, -3.0469]],\n",
      "       device='cuda:0'), tensor([[ 3.7969,  5.6562,  7.6562,  ..., -0.0767, -0.0767, -2.5312]],\n",
      "       device='cuda:0'))\n",
      "score is tensor([[ 4.0312,  6.2188,  8.1875,  ...,  2.2969,  2.2969, -3.0469]],\n",
      "       device='cuda:0')\n",
      "logits is [[0.80150676 0.11913335 0.07935992]]\n"
     ]
    },
    {
     "name": "stderr",
     "output_type": "stream",
     "text": [
      " 26%|██▌       | 130/501 [00:57<03:33,  1.74it/s]"
     ]
    },
    {
     "name": "stdout",
     "output_type": "stream",
     "text": [
      "score (tensor([[ 3.2656,  4.5938,  6.6250,  ..., -3.2031, -3.2031, -1.3906]],\n",
      "       device='cuda:0'), tensor([[ 3.9375,  4.9062,  7.2500,  ..., -0.6602, -0.6602, -1.3906]],\n",
      "       device='cuda:0'))\n",
      "score is tensor([[ 3.2656,  4.5938,  6.6250,  ..., -3.2031, -3.2031, -1.3906]],\n",
      "       device='cuda:0')\n",
      "logits is [[0.36608374 0.36608374 0.2678326 ]]\n"
     ]
    },
    {
     "name": "stderr",
     "output_type": "stream",
     "text": [
      "The attention mask and the pad token id were not set. As a consequence, you may observe unexpected behavior. Please pass your input's `attention_mask` to obtain reliable results.\n",
      "Setting `pad_token_id` to `eos_token_id`:128001 for open-end generation.\n",
      " 26%|██▌       | 131/501 [00:57<03:23,  1.81it/s]The attention mask and the pad token id were not set. As a consequence, you may observe unexpected behavior. Please pass your input's `attention_mask` to obtain reliable results.\n",
      "Setting `pad_token_id` to `eos_token_id`:128001 for open-end generation.\n"
     ]
    },
    {
     "name": "stdout",
     "output_type": "stream",
     "text": [
      "score (tensor([[ 4.1875,  5.2812,  6.5938,  ..., -4.9062, -4.9062, -0.7812]],\n",
      "       device='cuda:0'), tensor([[ 4.1875,  5.9375,  7.8125,  ..., -0.5781, -0.5781, -1.1328]],\n",
      "       device='cuda:0'))\n",
      "score is tensor([[ 4.1875,  5.2812,  6.5938,  ..., -4.9062, -4.9062, -0.7812]],\n",
      "       device='cuda:0')\n",
      "logits is [[0.4158722 0.3238816 0.2602462]]\n"
     ]
    },
    {
     "name": "stderr",
     "output_type": "stream",
     "text": [
      " 26%|██▋       | 132/501 [00:58<02:57,  2.08it/s]The attention mask and the pad token id were not set. As a consequence, you may observe unexpected behavior. Please pass your input's `attention_mask` to obtain reliable results.\n",
      "Setting `pad_token_id` to `eos_token_id`:128001 for open-end generation.\n"
     ]
    },
    {
     "name": "stdout",
     "output_type": "stream",
     "text": [
      "score (tensor([[ 4.2812,  5.4375,  7.4062,  ..., -4.4375, -4.4375, -1.1719]],\n",
      "       device='cuda:0'), tensor([[ 4.5938,  5.5625,  7.5938,  ..., -0.3008, -0.3008, -1.0391]],\n",
      "       device='cuda:0'))\n",
      "score is tensor([[ 4.2812,  5.4375,  7.4062,  ..., -4.4375, -4.4375, -1.1719]],\n",
      "       device='cuda:0')\n",
      "logits is [[0.37702212 0.40133795 0.22163987]]\n"
     ]
    },
    {
     "name": "stderr",
     "output_type": "stream",
     "text": [
      " 27%|██▋       | 133/501 [00:58<02:38,  2.33it/s]The attention mask and the pad token id were not set. As a consequence, you may observe unexpected behavior. Please pass your input's `attention_mask` to obtain reliable results.\n",
      "Setting `pad_token_id` to `eos_token_id`:128001 for open-end generation.\n"
     ]
    },
    {
     "name": "stdout",
     "output_type": "stream",
     "text": [
      "score (tensor([[ 4.0625,  5.3125,  6.0000,  ..., -5.1562, -5.1562, -1.4766]],\n",
      "       device='cuda:0'), tensor([[ 3.6719,  4.5938,  7.1562,  ...,  2.2344,  2.2344, -2.5469]],\n",
      "       device='cuda:0'))\n",
      "score is tensor([[ 4.0625,  5.3125,  6.0000,  ..., -5.1562, -5.1562, -1.4766]],\n",
      "       device='cuda:0')\n",
      "logits is [[0.20042141 0.6780169  0.12156173]]\n"
     ]
    },
    {
     "name": "stderr",
     "output_type": "stream",
     "text": [
      " 27%|██▋       | 134/501 [00:58<02:24,  2.53it/s]The attention mask and the pad token id were not set. As a consequence, you may observe unexpected behavior. Please pass your input's `attention_mask` to obtain reliable results.\n",
      "Setting `pad_token_id` to `eos_token_id`:128001 for open-end generation.\n"
     ]
    },
    {
     "name": "stdout",
     "output_type": "stream",
     "text": [
      "score (tensor([[ 5.2188,  6.5625,  7.0938,  ..., -4.9375, -4.9375, -1.9062]],\n",
      "       device='cuda:0'), tensor([[ 4.5000,  7.3438,  8.2500,  ...,  0.1167,  0.1167, -1.8906]],\n",
      "       device='cuda:0'))\n",
      "score is tensor([[ 5.2188,  6.5625,  7.0938,  ..., -4.9375, -4.9375, -1.9062]],\n",
      "       device='cuda:0')\n",
      "logits is [[0.30392218 0.5334     0.16267781]]\n"
     ]
    },
    {
     "name": "stderr",
     "output_type": "stream",
     "text": [
      " 27%|██▋       | 135/501 [00:59<02:11,  2.79it/s]The attention mask and the pad token id were not set. As a consequence, you may observe unexpected behavior. Please pass your input's `attention_mask` to obtain reliable results.\n",
      "Setting `pad_token_id` to `eos_token_id`:128001 for open-end generation.\n"
     ]
    },
    {
     "name": "stdout",
     "output_type": "stream",
     "text": [
      "score (tensor([[ 4.9688,  5.5312,  6.7500,  ..., -4.3750, -4.3750, -0.9102]],\n",
      "       device='cuda:0'), tensor([[ 3.6406,  5.4375,  7.0938,  ...,  2.5781,  2.5781, -2.6406]],\n",
      "       device='cuda:0'))\n",
      "score is tensor([[ 4.9688,  5.5312,  6.7500,  ..., -4.3750, -4.3750, -0.9102]],\n",
      "       device='cuda:0')\n",
      "logits is [[0.35986748 0.35986748 0.2802651 ]]\n"
     ]
    },
    {
     "name": "stderr",
     "output_type": "stream",
     "text": [
      " 27%|██▋       | 136/501 [00:59<01:59,  3.04it/s]The attention mask and the pad token id were not set. As a consequence, you may observe unexpected behavior. Please pass your input's `attention_mask` to obtain reliable results.\n",
      "Setting `pad_token_id` to `eos_token_id`:128001 for open-end generation.\n"
     ]
    },
    {
     "name": "stdout",
     "output_type": "stream",
     "text": [
      "score (tensor([[ 4.7188,  5.6250,  6.5312,  ..., -5.2188, -5.2188, -0.4199]],\n",
      "       device='cuda:0'), tensor([[ 4.1875,  6.0000,  7.6250,  ...,  1.0547,  1.0547, -1.5234]],\n",
      "       device='cuda:0'))\n",
      "score is tensor([[ 4.7188,  5.6250,  6.5312,  ..., -5.2188, -5.2188, -0.4199]],\n",
      "       device='cuda:0')\n",
      "logits is [[0.27468976 0.46726304 0.25804716]]\n"
     ]
    },
    {
     "name": "stderr",
     "output_type": "stream",
     "text": [
      " 27%|██▋       | 137/501 [00:59<01:49,  3.32it/s]The attention mask and the pad token id were not set. As a consequence, you may observe unexpected behavior. Please pass your input's `attention_mask` to obtain reliable results.\n",
      "Setting `pad_token_id` to `eos_token_id`:128001 for open-end generation.\n"
     ]
    },
    {
     "name": "stdout",
     "output_type": "stream",
     "text": [
      "score (tensor([[ 4.3125,  5.4062,  6.7500,  ..., -3.4062, -3.4062, -0.2402]],\n",
      "       device='cuda:0'), tensor([[ 3.5312,  6.0000,  7.6562,  ...,  1.3906,  1.3906, -1.5234]],\n",
      "       device='cuda:0'))\n",
      "score is tensor([[ 4.3125,  5.4062,  6.7500,  ..., -3.4062, -3.4062, -0.2402]],\n",
      "       device='cuda:0')\n",
      "logits is [[0.5017323  0.26855797 0.22970977]]\n"
     ]
    },
    {
     "name": "stderr",
     "output_type": "stream",
     "text": [
      " 28%|██▊       | 138/501 [00:59<01:42,  3.56it/s]The attention mask and the pad token id were not set. As a consequence, you may observe unexpected behavior. Please pass your input's `attention_mask` to obtain reliable results.\n",
      "Setting `pad_token_id` to `eos_token_id`:128001 for open-end generation.\n"
     ]
    },
    {
     "name": "stdout",
     "output_type": "stream",
     "text": [
      "score (tensor([[ 3.9062,  5.6562,  5.9062,  ..., -4.8750, -4.8750, -3.0000]],\n",
      "       device='cuda:0'), tensor([[ 4.3438,  5.8125,  7.3750,  ..., -3.0312, -3.0312, -1.3984]],\n",
      "       device='cuda:0'))\n",
      "score is tensor([[ 3.9062,  5.6562,  5.9062,  ..., -4.8750, -4.8750, -3.0000]],\n",
      "       device='cuda:0')\n",
      "logits is [[0.29142419 0.59796363 0.11061215]]\n"
     ]
    },
    {
     "name": "stderr",
     "output_type": "stream",
     "text": [
      " 28%|██▊       | 139/501 [01:00<01:36,  3.75it/s]"
     ]
    },
    {
     "name": "stdout",
     "output_type": "stream",
     "text": [
      "score (tensor([[ 4.5625,  5.6875,  7.1250,  ..., -4.6562, -4.6562, -1.5156]],\n",
      "       device='cuda:0'), tensor([[ 4.4688,  6.5312,  8.1250,  ...,  0.4219,  0.4219, -1.8594]],\n",
      "       device='cuda:0'))\n",
      "score is tensor([[ 4.5625,  5.6875,  7.1250,  ..., -4.6562, -4.6562, -1.5156]],\n",
      "       device='cuda:0')\n",
      "logits is [[0.41246483 0.32122794 0.26630732]]\n"
     ]
    },
    {
     "name": "stderr",
     "output_type": "stream",
     "text": [
      "The attention mask and the pad token id were not set. As a consequence, you may observe unexpected behavior. Please pass your input's `attention_mask` to obtain reliable results.\n",
      "Setting `pad_token_id` to `eos_token_id`:128001 for open-end generation.\n",
      " 28%|██▊       | 140/501 [01:00<02:08,  2.80it/s]The attention mask and the pad token id were not set. As a consequence, you may observe unexpected behavior. Please pass your input's `attention_mask` to obtain reliable results.\n",
      "Setting `pad_token_id` to `eos_token_id`:128001 for open-end generation.\n"
     ]
    },
    {
     "name": "stdout",
     "output_type": "stream",
     "text": [
      "score (tensor([[ 4.7188,  6.9062,  7.5000,  ..., -4.1562, -4.1562, -3.0312]],\n",
      "       device='cuda:0'), tensor([[ 4.8750,  6.5312,  8.8125,  ...,  0.8516,  0.8516, -3.4219]],\n",
      "       device='cuda:0'))\n",
      "score is tensor([[ 4.7188,  6.9062,  7.5000,  ..., -4.1562, -4.1562, -3.0312]],\n",
      "       device='cuda:0')\n",
      "logits is [[0.4700226  0.41479346 0.11518399]]\n"
     ]
    },
    {
     "name": "stderr",
     "output_type": "stream",
     "text": [
      " 28%|██▊       | 141/501 [01:01<02:13,  2.69it/s]"
     ]
    },
    {
     "name": "stdout",
     "output_type": "stream",
     "text": [
      "score (tensor([[ 4.0000,  6.3438,  6.5625,  ..., -4.5000, -4.5000, -2.0469]],\n",
      "       device='cuda:0'), tensor([[ 3.8125,  6.1875,  7.5312,  ...,  1.2656,  1.2656, -2.7188]],\n",
      "       device='cuda:0'))\n",
      "score is tensor([[ 4.0000,  6.3438,  6.5625,  ..., -4.5000, -4.5000, -2.0469]],\n",
      "       device='cuda:0')\n",
      "logits is [[0.5200674  0.30573183 0.17420076]]\n"
     ]
    },
    {
     "name": "stderr",
     "output_type": "stream",
     "text": [
      "The attention mask and the pad token id were not set. As a consequence, you may observe unexpected behavior. Please pass your input's `attention_mask` to obtain reliable results.\n",
      "Setting `pad_token_id` to `eos_token_id`:128001 for open-end generation.\n",
      " 28%|██▊       | 142/501 [01:01<02:26,  2.45it/s]"
     ]
    },
    {
     "name": "stdout",
     "output_type": "stream",
     "text": [
      "score (tensor([[ 4.0625,  4.2188,  5.6250,  ..., -3.2031, -3.2031, -0.5820]],\n",
      "       device='cuda:0'), tensor([[ 4.4688,  4.5938,  6.8125,  ..., -2.5312, -2.5312, -1.0156]],\n",
      "       device='cuda:0'))\n",
      "score is tensor([[ 4.0625,  4.2188,  5.6250,  ..., -3.2031, -3.2031, -0.5820]],\n",
      "       device='cuda:0')\n",
      "logits is [[0.3737436  0.47989628 0.1463601 ]]\n"
     ]
    },
    {
     "name": "stderr",
     "output_type": "stream",
     "text": [
      "The attention mask and the pad token id were not set. As a consequence, you may observe unexpected behavior. Please pass your input's `attention_mask` to obtain reliable results.\n",
      "Setting `pad_token_id` to `eos_token_id`:128001 for open-end generation.\n",
      " 29%|██▊       | 143/501 [01:02<02:35,  2.30it/s]"
     ]
    },
    {
     "name": "stdout",
     "output_type": "stream",
     "text": [
      "score (tensor([[ 5.0312,  5.8438,  5.6562,  ..., -4.8125, -4.8125, -3.1719]],\n",
      "       device='cuda:0'), tensor([[ 3.5156,  5.4062,  7.0312,  ...,  3.3438,  3.3438, -1.6797]],\n",
      "       device='cuda:0'))\n",
      "score is tensor([[ 5.0312,  5.8438,  5.6562,  ..., -4.8125, -4.8125, -3.1719]],\n",
      "       device='cuda:0')\n",
      "logits is [[0.17952125 0.64648086 0.17399797]]\n"
     ]
    },
    {
     "name": "stderr",
     "output_type": "stream",
     "text": [
      "The attention mask and the pad token id were not set. As a consequence, you may observe unexpected behavior. Please pass your input's `attention_mask` to obtain reliable results.\n",
      "Setting `pad_token_id` to `eos_token_id`:128001 for open-end generation.\n",
      " 29%|██▊       | 144/501 [01:02<03:05,  1.92it/s]The attention mask and the pad token id were not set. As a consequence, you may observe unexpected behavior. Please pass your input's `attention_mask` to obtain reliable results.\n",
      "Setting `pad_token_id` to `eos_token_id`:128001 for open-end generation.\n"
     ]
    },
    {
     "name": "stdout",
     "output_type": "stream",
     "text": [
      "score (tensor([[ 4.7812,  5.8125,  6.4375,  ..., -3.4688, -3.4688, -2.3438]],\n",
      "       device='cuda:0'), tensor([[ 4.5312,  6.0938,  3.4688,  ...,  2.0312,  2.0312, -3.3125]],\n",
      "       device='cuda:0'))\n",
      "score is tensor([[ 4.7812,  5.8125,  6.4375,  ..., -3.4688, -3.4688, -2.3438]],\n",
      "       device='cuda:0')\n",
      "logits is [[0.16425149 0.64962727 0.18612133]]\n"
     ]
    },
    {
     "name": "stderr",
     "output_type": "stream",
     "text": [
      " 29%|██▉       | 145/501 [01:03<02:52,  2.07it/s]The attention mask and the pad token id were not set. As a consequence, you may observe unexpected behavior. Please pass your input's `attention_mask` to obtain reliable results.\n",
      "Setting `pad_token_id` to `eos_token_id`:128001 for open-end generation.\n"
     ]
    },
    {
     "name": "stdout",
     "output_type": "stream",
     "text": [
      "score (tensor([[3.5781, 4.9062, 5.4688,  ..., 0.6289, 0.6289, 0.0099]],\n",
      "       device='cuda:0'), tensor([[ 3.9688,  4.3125,  6.2812,  ...,  1.4219,  1.4219, -1.8828]],\n",
      "       device='cuda:0'))\n",
      "score is tensor([[3.5781, 4.9062, 5.4688,  ..., 0.6289, 0.6289, 0.0099]],\n",
      "       device='cuda:0')\n",
      "logits is [[0.6035454  0.24385439 0.15260018]]\n"
     ]
    },
    {
     "name": "stderr",
     "output_type": "stream",
     "text": [
      " 29%|██▉       | 146/501 [01:03<02:33,  2.32it/s]The attention mask and the pad token id were not set. As a consequence, you may observe unexpected behavior. Please pass your input's `attention_mask` to obtain reliable results.\n",
      "Setting `pad_token_id` to `eos_token_id`:128001 for open-end generation.\n"
     ]
    },
    {
     "name": "stdout",
     "output_type": "stream",
     "text": [
      "score (tensor([[ 4.9375,  5.7500,  6.9062,  ..., -4.4062, -4.4062, -1.6250]],\n",
      "       device='cuda:0'), tensor([[ 4.5625,  6.1562,  8.1875,  ..., -1.9375, -1.9375, -0.8789]],\n",
      "       device='cuda:0'))\n",
      "score is tensor([[ 4.9375,  5.7500,  6.9062,  ..., -4.4062, -4.4062, -1.6250]],\n",
      "       device='cuda:0')\n",
      "logits is [[0.43490383 0.38380128 0.18129489]]\n"
     ]
    },
    {
     "name": "stderr",
     "output_type": "stream",
     "text": [
      " 29%|██▉       | 147/501 [01:03<02:21,  2.51it/s]The attention mask and the pad token id were not set. As a consequence, you may observe unexpected behavior. Please pass your input's `attention_mask` to obtain reliable results.\n",
      "Setting `pad_token_id` to `eos_token_id`:128001 for open-end generation.\n"
     ]
    },
    {
     "name": "stdout",
     "output_type": "stream",
     "text": [
      "score (tensor([[ 3.7500,  5.4688,  6.5625,  ..., -4.7500, -4.7500, -1.7344]],\n",
      "       device='cuda:0'), tensor([[ 2.8906,  5.4688,  6.9375,  ...,  3.0469,  3.0469, -1.4531]],\n",
      "       device='cuda:0'))\n",
      "score is tensor([[ 3.7500,  5.4688,  6.5625,  ..., -4.7500, -4.7500, -1.7344]],\n",
      "       device='cuda:0')\n",
      "logits is [[0.5200674  0.30573183 0.17420076]]\n"
     ]
    },
    {
     "name": "stderr",
     "output_type": "stream",
     "text": [
      " 30%|██▉       | 148/501 [01:04<02:16,  2.59it/s]"
     ]
    },
    {
     "name": "stdout",
     "output_type": "stream",
     "text": [
      "score (tensor([[ 5.1875,  6.0625,  6.7500,  ..., -4.9375, -4.9375, -1.2109]],\n",
      "       device='cuda:0'), tensor([[ 5.2812,  6.0625,  8.1250,  ...,  0.3418,  0.3418, -2.2812]],\n",
      "       device='cuda:0'))\n",
      "score is tensor([[ 5.1875,  6.0625,  6.7500,  ..., -4.9375, -4.9375, -1.2109]],\n",
      "       device='cuda:0')\n",
      "logits is [[0.32546133 0.30574262 0.36879602]]\n"
     ]
    },
    {
     "name": "stderr",
     "output_type": "stream",
     "text": [
      "The attention mask and the pad token id were not set. As a consequence, you may observe unexpected behavior. Please pass your input's `attention_mask` to obtain reliable results.\n",
      "Setting `pad_token_id` to `eos_token_id`:128001 for open-end generation.\n",
      " 30%|██▉       | 149/501 [01:04<02:34,  2.27it/s]The attention mask and the pad token id were not set. As a consequence, you may observe unexpected behavior. Please pass your input's `attention_mask` to obtain reliable results.\n",
      "Setting `pad_token_id` to `eos_token_id`:128001 for open-end generation.\n"
     ]
    },
    {
     "name": "stdout",
     "output_type": "stream",
     "text": [
      "score (tensor([[ 4.5625,  4.6250,  6.0000,  ..., -4.8750, -4.8750,  0.7734]],\n",
      "       device='cuda:0'), tensor([[ 4.4688,  5.4062,  7.6250,  ...,  0.1572,  0.1582, -0.7891]],\n",
      "       device='cuda:0'))\n",
      "score is tensor([[ 4.5625,  4.6250,  6.0000,  ..., -4.8750, -4.8750,  0.7734]],\n",
      "       device='cuda:0')\n",
      "logits is [[0.4710025  0.25210947 0.27688807]]\n"
     ]
    },
    {
     "name": "stderr",
     "output_type": "stream",
     "text": [
      " 30%|██▉       | 150/501 [01:05<02:22,  2.47it/s]The attention mask and the pad token id were not set. As a consequence, you may observe unexpected behavior. Please pass your input's `attention_mask` to obtain reliable results.\n",
      "Setting `pad_token_id` to `eos_token_id`:128001 for open-end generation.\n"
     ]
    },
    {
     "name": "stdout",
     "output_type": "stream",
     "text": [
      "score (tensor([[ 4.6562,  5.7812,  6.9062,  ..., -4.2188, -4.2188, -0.4082]],\n",
      "       device='cuda:0'), tensor([[ 4.5312,  5.9062,  8.0625,  ...,  0.9375,  0.9375, -1.9766]],\n",
      "       device='cuda:0'))\n",
      "score is tensor([[ 4.6562,  5.7812,  6.9062,  ..., -4.2188, -4.2188, -0.4082]],\n",
      "       device='cuda:0')\n",
      "logits is [[0.35436994 0.33289975 0.31273037]]\n"
     ]
    },
    {
     "name": "stderr",
     "output_type": "stream",
     "text": [
      " 30%|███       | 151/501 [01:05<02:16,  2.56it/s]The attention mask and the pad token id were not set. As a consequence, you may observe unexpected behavior. Please pass your input's `attention_mask` to obtain reliable results.\n",
      "Setting `pad_token_id` to `eos_token_id`:128001 for open-end generation.\n"
     ]
    },
    {
     "name": "stdout",
     "output_type": "stream",
     "text": [
      "score (tensor([[ 4.6250,  5.2188,  7.2500,  ..., -1.1172, -1.1172, -0.9648]],\n",
      "       device='cuda:0'), tensor([[ 4.3438,  5.5000,  7.6562,  ...,  0.1816,  0.1816, -1.0625]],\n",
      "       device='cuda:0'))\n",
      "score is tensor([[ 4.6250,  5.2188,  7.2500,  ..., -1.1172, -1.1172, -0.9648]],\n",
      "       device='cuda:0')\n",
      "logits is [[0.44259894 0.37857494 0.17882614]]\n"
     ]
    },
    {
     "name": "stderr",
     "output_type": "stream",
     "text": [
      " 30%|███       | 152/501 [01:05<02:09,  2.70it/s]The attention mask and the pad token id were not set. As a consequence, you may observe unexpected behavior. Please pass your input's `attention_mask` to obtain reliable results.\n",
      "Setting `pad_token_id` to `eos_token_id`:128001 for open-end generation.\n"
     ]
    },
    {
     "name": "stdout",
     "output_type": "stream",
     "text": [
      "score (tensor([[ 4.7188,  5.3438,  7.1875,  ..., -4.6875, -4.6875, -1.8750]],\n",
      "       device='cuda:0'), tensor([[ 4.7500,  5.7500,  7.6562,  ...,  1.4141,  1.4141, -2.2188]],\n",
      "       device='cuda:0'))\n",
      "score is tensor([[ 4.7188,  5.3438,  7.1875,  ..., -4.6875, -4.6875, -1.8750]],\n",
      "       device='cuda:0')\n",
      "logits is [[0.27406862 0.45186275 0.27406862]]\n"
     ]
    },
    {
     "name": "stderr",
     "output_type": "stream",
     "text": [
      " 31%|███       | 153/501 [01:06<01:57,  2.96it/s]The attention mask and the pad token id were not set. As a consequence, you may observe unexpected behavior. Please pass your input's `attention_mask` to obtain reliable results.\n",
      "Setting `pad_token_id` to `eos_token_id`:128001 for open-end generation.\n"
     ]
    },
    {
     "name": "stdout",
     "output_type": "stream",
     "text": [
      "score (tensor([[ 4.3438,  5.5312,  6.4375,  ..., -6.0000, -6.0000, -0.9336]],\n",
      "       device='cuda:0'), tensor([[ 4.2188,  5.6562,  7.1875,  ..., -3.4531, -3.4531, -0.0175]],\n",
      "       device='cuda:0'))\n",
      "score is tensor([[ 4.3438,  5.5312,  6.4375,  ..., -6.0000, -6.0000, -0.9336]],\n",
      "       device='cuda:0')\n",
      "logits is [[0.28502122 0.4019443  0.31303453]]\n"
     ]
    },
    {
     "name": "stderr",
     "output_type": "stream",
     "text": [
      " 31%|███       | 154/501 [01:06<01:55,  3.00it/s]"
     ]
    },
    {
     "name": "stdout",
     "output_type": "stream",
     "text": [
      "score (tensor([[ 4.5312,  5.9375,  6.3750,  ..., -4.9688, -4.9688, -1.8359]],\n",
      "       device='cuda:0'), tensor([[ 5.1250,  6.2188,  7.3438,  ..., -0.3867, -0.3867, -2.2969]],\n",
      "       device='cuda:0'))\n",
      "score is tensor([[ 4.5312,  5.9375,  6.3750,  ..., -4.9688, -4.9688, -1.8359]],\n",
      "       device='cuda:0')\n",
      "logits is [[0.2960455  0.45852423 0.24543035]]\n"
     ]
    },
    {
     "name": "stderr",
     "output_type": "stream",
     "text": [
      "The attention mask and the pad token id were not set. As a consequence, you may observe unexpected behavior. Please pass your input's `attention_mask` to obtain reliable results.\n",
      "Setting `pad_token_id` to `eos_token_id`:128001 for open-end generation.\n",
      " 31%|███       | 155/501 [01:07<02:43,  2.11it/s]The attention mask and the pad token id were not set. As a consequence, you may observe unexpected behavior. Please pass your input's `attention_mask` to obtain reliable results.\n",
      "Setting `pad_token_id` to `eos_token_id`:128001 for open-end generation.\n"
     ]
    },
    {
     "name": "stdout",
     "output_type": "stream",
     "text": [
      "score (tensor([[ 4.2500,  5.1562,  6.3750,  ..., -1.5781, -1.5781,  0.1719]],\n",
      "       device='cuda:0'), tensor([[ 4.0938,  5.7812,  7.2812,  ...,  3.4062,  3.4062, -1.1641]],\n",
      "       device='cuda:0'))\n",
      "score is tensor([[ 4.2500,  5.1562,  6.3750,  ..., -1.5781, -1.5781,  0.1719]],\n",
      "       device='cuda:0')\n",
      "logits is [[0.7289868  0.16265894 0.10835421]]\n"
     ]
    },
    {
     "name": "stderr",
     "output_type": "stream",
     "text": [
      " 31%|███       | 156/501 [01:07<02:41,  2.14it/s]"
     ]
    },
    {
     "name": "stdout",
     "output_type": "stream",
     "text": [
      "score (tensor([[ 4.1875,  5.5938,  6.5625,  ..., -4.7812, -4.7812, -0.2236]],\n",
      "       device='cuda:0'), tensor([[ 3.4531,  5.6250,  7.1250,  ...,  3.6250,  3.6250, -0.8750]],\n",
      "       device='cuda:0'))\n",
      "score is tensor([[ 4.1875,  5.5938,  6.5625,  ..., -4.7812, -4.7812, -0.2236]],\n",
      "       device='cuda:0')\n",
      "logits is [[0.331604   0.37575656 0.2926395 ]]\n"
     ]
    },
    {
     "name": "stderr",
     "output_type": "stream",
     "text": [
      "The attention mask and the pad token id were not set. As a consequence, you may observe unexpected behavior. Please pass your input's `attention_mask` to obtain reliable results.\n",
      "Setting `pad_token_id` to `eos_token_id`:128001 for open-end generation.\n",
      " 31%|███▏      | 157/501 [01:08<02:54,  1.98it/s]The attention mask and the pad token id were not set. As a consequence, you may observe unexpected behavior. Please pass your input's `attention_mask` to obtain reliable results.\n",
      "Setting `pad_token_id` to `eos_token_id`:128001 for open-end generation.\n"
     ]
    },
    {
     "name": "stdout",
     "output_type": "stream",
     "text": [
      "score (tensor([[ 4.1562,  5.7188,  6.4062,  ..., -1.3438, -1.3438,  0.2734]],\n",
      "       device='cuda:0'), tensor([[ 4.5000,  6.1875,  7.9062,  ..., -1.0547, -1.0547, -0.5352]],\n",
      "       device='cuda:0'))\n",
      "score is tensor([[ 4.1562,  5.7188,  6.4062,  ..., -1.3438, -1.3438,  0.2734]],\n",
      "       device='cuda:0')\n",
      "logits is [[0.58266294 0.18916295 0.22817408]]\n"
     ]
    },
    {
     "name": "stderr",
     "output_type": "stream",
     "text": [
      " 32%|███▏      | 158/501 [01:08<02:29,  2.30it/s]The attention mask and the pad token id were not set. As a consequence, you may observe unexpected behavior. Please pass your input's `attention_mask` to obtain reliable results.\n",
      "Setting `pad_token_id` to `eos_token_id`:128001 for open-end generation.\n"
     ]
    },
    {
     "name": "stdout",
     "output_type": "stream",
     "text": [
      "score (tensor([[ 4.5625,  5.5938,  6.3125,  ..., -5.4688, -5.4688, -1.3438]],\n",
      "       device='cuda:0'), tensor([[ 3.7500,  5.5000,  7.0625,  ..., -2.3750, -2.3750, -1.1875]],\n",
      "       device='cuda:0'))\n",
      "score is tensor([[ 4.5625,  5.5938,  6.3125,  ..., -5.4688, -5.4688, -1.3438]],\n",
      "       device='cuda:0')\n",
      "logits is [[0.3077553  0.42065158 0.2715931 ]]\n"
     ]
    },
    {
     "name": "stderr",
     "output_type": "stream",
     "text": [
      " 32%|███▏      | 159/501 [01:08<02:08,  2.66it/s]The attention mask and the pad token id were not set. As a consequence, you may observe unexpected behavior. Please pass your input's `attention_mask` to obtain reliable results.\n",
      "Setting `pad_token_id` to `eos_token_id`:128001 for open-end generation.\n"
     ]
    },
    {
     "name": "stdout",
     "output_type": "stream",
     "text": [
      "score (tensor([[ 4.6562,  5.9062,  6.3750,  ..., -5.3125, -5.3125,  0.8242]],\n",
      "       device='cuda:0'), tensor([[ 4.5938,  6.1250,  7.4062,  ..., -0.5078, -0.5078, -0.1875]],\n",
      "       device='cuda:0'))\n",
      "score is tensor([[ 4.6562,  5.9062,  6.3750,  ..., -5.3125, -5.3125,  0.8242]],\n",
      "       device='cuda:0')\n",
      "logits is [[0.45984408 0.3160459  0.22411011]]\n"
     ]
    },
    {
     "name": "stderr",
     "output_type": "stream",
     "text": [
      " 32%|███▏      | 160/501 [01:09<02:15,  2.52it/s]"
     ]
    },
    {
     "name": "stdout",
     "output_type": "stream",
     "text": [
      "score (tensor([[ 4.1250,  5.4688,  5.8750,  ..., -5.2188, -5.2188, -3.4375]],\n",
      "       device='cuda:0'), tensor([[ 4.0312,  5.0312,  7.6562,  ...,  2.1719,  2.1719, -3.7656]],\n",
      "       device='cuda:0'))\n",
      "score is tensor([[ 4.1250,  5.4688,  5.8750,  ..., -5.2188, -5.2188, -3.4375]],\n",
      "       device='cuda:0')\n",
      "logits is [[0.1644118  0.6108639  0.22472428]]\n"
     ]
    },
    {
     "name": "stderr",
     "output_type": "stream",
     "text": [
      "The attention mask and the pad token id were not set. As a consequence, you may observe unexpected behavior. Please pass your input's `attention_mask` to obtain reliable results.\n",
      "Setting `pad_token_id` to `eos_token_id`:128001 for open-end generation.\n",
      " 32%|███▏      | 161/501 [01:09<02:26,  2.32it/s]"
     ]
    },
    {
     "name": "stdout",
     "output_type": "stream",
     "text": [
      "score (tensor([[ 4.8438,  5.9062,  8.6875,  ..., -4.7188, -4.7188, -5.5000]],\n",
      "       device='cuda:0'), tensor([[ 4.5312,  6.5625,  9.1250,  ..., -3.0938, -3.0938, -2.8281]],\n",
      "       device='cuda:0'))\n",
      "score is tensor([[ 4.8438,  5.9062,  8.6875,  ..., -4.7188, -4.7188, -5.5000]],\n",
      "       device='cuda:0')\n",
      "logits is [[0.5549312  0.27045187 0.17461684]]\n"
     ]
    },
    {
     "name": "stderr",
     "output_type": "stream",
     "text": [
      "The attention mask and the pad token id were not set. As a consequence, you may observe unexpected behavior. Please pass your input's `attention_mask` to obtain reliable results.\n",
      "Setting `pad_token_id` to `eos_token_id`:128001 for open-end generation.\n",
      " 32%|███▏      | 162/501 [01:10<02:56,  1.92it/s]"
     ]
    },
    {
     "name": "stdout",
     "output_type": "stream",
     "text": [
      "score (tensor([[ 4.4375,  5.6562,  6.5938,  ..., -2.4062, -2.4062,  0.4922]],\n",
      "       device='cuda:0'), tensor([[ 4.7500,  5.9375,  7.7812,  ..., -1.2109, -1.2109,  0.5312]],\n",
      "       device='cuda:0'))\n",
      "score is tensor([[ 4.4375,  5.6562,  6.5938,  ..., -2.4062, -2.4062,  0.4922]],\n",
      "       device='cuda:0')\n",
      "logits is [[0.43214053 0.3365514  0.23130816]]\n"
     ]
    },
    {
     "name": "stderr",
     "output_type": "stream",
     "text": [
      "The attention mask and the pad token id were not set. As a consequence, you may observe unexpected behavior. Please pass your input's `attention_mask` to obtain reliable results.\n",
      "Setting `pad_token_id` to `eos_token_id`:128001 for open-end generation.\n",
      " 33%|███▎      | 163/501 [01:11<03:05,  1.83it/s]"
     ]
    },
    {
     "name": "stdout",
     "output_type": "stream",
     "text": [
      "score (tensor([[ 4.5000,  5.4062,  5.8438,  ..., -3.5781, -3.5781, -0.7031]],\n",
      "       device='cuda:0'), tensor([[ 5.1875,  6.2500,  7.6875,  ..., -2.2969, -2.2969,  0.8477]],\n",
      "       device='cuda:0'))\n",
      "score is tensor([[ 4.5000,  5.4062,  5.8438,  ..., -3.5781, -3.5781, -0.7031]],\n",
      "       device='cuda:0')\n",
      "logits is [[0.41812915 0.41812915 0.16374172]]\n"
     ]
    },
    {
     "name": "stderr",
     "output_type": "stream",
     "text": [
      "The attention mask and the pad token id were not set. As a consequence, you may observe unexpected behavior. Please pass your input's `attention_mask` to obtain reliable results.\n",
      "Setting `pad_token_id` to `eos_token_id`:128001 for open-end generation.\n",
      " 33%|███▎      | 164/501 [01:11<03:13,  1.74it/s]The attention mask and the pad token id were not set. As a consequence, you may observe unexpected behavior. Please pass your input's `attention_mask` to obtain reliable results.\n",
      "Setting `pad_token_id` to `eos_token_id`:128001 for open-end generation.\n"
     ]
    },
    {
     "name": "stdout",
     "output_type": "stream",
     "text": [
      "score (tensor([[ 3.7344,  4.5938,  6.0000,  ..., -5.0938, -5.0938, -1.8281]],\n",
      "       device='cuda:0'), tensor([[ 4.4375,  5.4375,  7.4062,  ...,  1.7656,  1.7656, -3.0312]],\n",
      "       device='cuda:0'))\n",
      "score is tensor([[ 3.7344,  4.5938,  6.0000,  ..., -5.0938, -5.0938, -1.8281]],\n",
      "       device='cuda:0')\n",
      "logits is [[0.52467644 0.40861842 0.06670513]]\n"
     ]
    },
    {
     "name": "stderr",
     "output_type": "stream",
     "text": [
      " 33%|███▎      | 165/501 [01:11<02:39,  2.11it/s]The attention mask and the pad token id were not set. As a consequence, you may observe unexpected behavior. Please pass your input's `attention_mask` to obtain reliable results.\n",
      "Setting `pad_token_id` to `eos_token_id`:128001 for open-end generation.\n"
     ]
    },
    {
     "name": "stdout",
     "output_type": "stream",
     "text": [
      "score (tensor([[ 4.0938,  5.7812,  6.2188,  ..., -3.2188, -3.2188, -0.5352]],\n",
      "       device='cuda:0'), tensor([[ 4.2812,  6.1562,  7.4375,  ..., -1.3516, -1.3516, -0.6211]],\n",
      "       device='cuda:0'))\n",
      "score is tensor([[ 4.0938,  5.7812,  6.2188,  ..., -3.2188, -3.2188, -0.5352]],\n",
      "       device='cuda:0')\n",
      "logits is [[0.50003064 0.2849089  0.2150605 ]]\n"
     ]
    },
    {
     "name": "stderr",
     "output_type": "stream",
     "text": [
      " 33%|███▎      | 166/501 [01:12<02:22,  2.36it/s]The attention mask and the pad token id were not set. As a consequence, you may observe unexpected behavior. Please pass your input's `attention_mask` to obtain reliable results.\n",
      "Setting `pad_token_id` to `eos_token_id`:128001 for open-end generation.\n"
     ]
    },
    {
     "name": "stdout",
     "output_type": "stream",
     "text": [
      "score (tensor([[ 4.5000,  5.1875,  8.1250,  ..., -1.7344, -1.7344, -0.3535]],\n",
      "       device='cuda:0'), tensor([[ 3.6406,  4.1562,  6.3750,  ..., -1.5391, -1.5391,  0.0308]],\n",
      "       device='cuda:0'))\n",
      "score is tensor([[ 4.5000,  5.1875,  8.1250,  ..., -1.7344, -1.7344, -0.3535]],\n",
      "       device='cuda:0')\n",
      "logits is [[0.57695675 0.15050817 0.27253506]]\n"
     ]
    },
    {
     "name": "stderr",
     "output_type": "stream",
     "text": [
      " 33%|███▎      | 167/501 [01:12<02:01,  2.74it/s]"
     ]
    },
    {
     "name": "stdout",
     "output_type": "stream",
     "text": [
      "score (tensor([[ 4.2188,  5.1250,  6.6250,  ..., -2.7188, -2.7188, -2.2500]],\n",
      "       device='cuda:0'), tensor([[ 4.0625,  5.8750,  7.5312,  ..., -0.2070, -0.2070, -1.5859]],\n",
      "       device='cuda:0'))\n",
      "score is tensor([[ 4.2188,  5.1250,  6.6250,  ..., -2.7188, -2.7188, -2.2500]],\n",
      "       device='cuda:0')\n",
      "logits is [[0.5608649  0.27334374 0.16579135]]\n"
     ]
    },
    {
     "name": "stderr",
     "output_type": "stream",
     "text": [
      "The attention mask and the pad token id were not set. As a consequence, you may observe unexpected behavior. Please pass your input's `attention_mask` to obtain reliable results.\n",
      "Setting `pad_token_id` to `eos_token_id`:128001 for open-end generation.\n",
      " 34%|███▎      | 168/501 [01:12<02:21,  2.35it/s]"
     ]
    },
    {
     "name": "stdout",
     "output_type": "stream",
     "text": [
      "score (tensor([[ 4.4375,  4.7500,  6.2500,  ...,  0.9805,  0.9805, -0.5820]],\n",
      "       device='cuda:0'), tensor([[ 4.1875,  4.5625,  6.3125,  ...,  2.4375,  2.4375, -2.0938]],\n",
      "       device='cuda:0'))\n",
      "score is tensor([[ 4.4375,  4.7500,  6.2500,  ...,  0.9805,  0.9805, -0.5820]],\n",
      "       device='cuda:0')\n",
      "logits is [[0.6463416  0.11588266 0.2377758 ]]\n"
     ]
    },
    {
     "name": "stderr",
     "output_type": "stream",
     "text": [
      "The attention mask and the pad token id were not set. As a consequence, you may observe unexpected behavior. Please pass your input's `attention_mask` to obtain reliable results.\n",
      "Setting `pad_token_id` to `eos_token_id`:128001 for open-end generation.\n",
      " 34%|███▎      | 169/501 [01:13<02:58,  1.86it/s]The attention mask and the pad token id were not set. As a consequence, you may observe unexpected behavior. Please pass your input's `attention_mask` to obtain reliable results.\n",
      "Setting `pad_token_id` to `eos_token_id`:128001 for open-end generation.\n"
     ]
    },
    {
     "name": "stdout",
     "output_type": "stream",
     "text": [
      "score (tensor([[ 5.0312,  5.6875,  8.1250,  ..., -3.2344, -3.2344, -1.5859]],\n",
      "       device='cuda:0'), tensor([[ 5.3750,  6.2500,  8.4375,  ..., -2.7656, -2.7656, -1.0703]],\n",
      "       device='cuda:0'))\n",
      "score is tensor([[ 5.0312,  5.6875,  8.1250,  ..., -3.2344, -3.2344, -1.5859]],\n",
      "       device='cuda:0')\n",
      "logits is [[0.48484603 0.31304014 0.2021139 ]]\n"
     ]
    },
    {
     "name": "stderr",
     "output_type": "stream",
     "text": [
      " 34%|███▍      | 170/501 [01:14<02:38,  2.08it/s]The attention mask and the pad token id were not set. As a consequence, you may observe unexpected behavior. Please pass your input's `attention_mask` to obtain reliable results.\n",
      "Setting `pad_token_id` to `eos_token_id`:128001 for open-end generation.\n"
     ]
    },
    {
     "name": "stdout",
     "output_type": "stream",
     "text": [
      "score (tensor([[ 4.0938,  5.6875,  6.3750,  ..., -0.1465, -0.1465, -2.5781]],\n",
      "       device='cuda:0'), tensor([[ 4.5938,  5.5938,  7.7812,  ...,  4.0938,  4.0938, -2.0156]],\n",
      "       device='cuda:0'))\n",
      "score is tensor([[ 4.0938,  5.6875,  6.3750,  ..., -0.1465, -0.1465, -2.5781]],\n",
      "       device='cuda:0')\n",
      "logits is [[0.5846274  0.28492463 0.13044801]]\n"
     ]
    },
    {
     "name": "stderr",
     "output_type": "stream",
     "text": [
      " 34%|███▍      | 171/501 [01:14<02:31,  2.18it/s]The attention mask and the pad token id were not set. As a consequence, you may observe unexpected behavior. Please pass your input's `attention_mask` to obtain reliable results.\n",
      "Setting `pad_token_id` to `eos_token_id`:128001 for open-end generation.\n"
     ]
    },
    {
     "name": "stdout",
     "output_type": "stream",
     "text": [
      "score (tensor([[ 4.3125,  4.9375,  5.7500,  ..., -4.6875, -4.6875, -1.4062]],\n",
      "       device='cuda:0'), tensor([[ 3.7188,  4.9062,  7.0312,  ...,  1.2891,  1.2891, -2.7969]],\n",
      "       device='cuda:0'))\n",
      "score is tensor([[ 4.3125,  4.9375,  5.7500,  ..., -4.6875, -4.6875, -1.4062]],\n",
      "       device='cuda:0')\n",
      "logits is [[0.43771666 0.45161128 0.1106721 ]]\n"
     ]
    },
    {
     "name": "stderr",
     "output_type": "stream",
     "text": [
      " 34%|███▍      | 172/501 [01:14<02:20,  2.34it/s]The attention mask and the pad token id were not set. As a consequence, you may observe unexpected behavior. Please pass your input's `attention_mask` to obtain reliable results.\n",
      "Setting `pad_token_id` to `eos_token_id`:128001 for open-end generation.\n"
     ]
    },
    {
     "name": "stdout",
     "output_type": "stream",
     "text": [
      "score (tensor([[ 4.3125,  4.3438,  6.6875,  ..., -1.0547, -1.0547, -4.2812]],\n",
      "       device='cuda:0'), tensor([[ 4.1562,  4.8125,  7.1250,  ...,  1.3438,  1.3438, -2.2188]],\n",
      "       device='cuda:0'))\n",
      "score is tensor([[ 4.3125,  4.3438,  6.6875,  ..., -1.0547, -1.0547, -4.2812]],\n",
      "       device='cuda:0')\n",
      "logits is [[0.6139758  0.27245012 0.11357411]]\n"
     ]
    },
    {
     "name": "stderr",
     "output_type": "stream",
     "text": [
      " 35%|███▍      | 173/501 [01:15<02:13,  2.46it/s]The attention mask and the pad token id were not set. As a consequence, you may observe unexpected behavior. Please pass your input's `attention_mask` to obtain reliable results.\n",
      "Setting `pad_token_id` to `eos_token_id`:128001 for open-end generation.\n"
     ]
    },
    {
     "name": "stdout",
     "output_type": "stream",
     "text": [
      "score (tensor([[ 4.7188,  5.2188,  6.8750,  ..., -2.0469, -2.0469, -3.4531]],\n",
      "       device='cuda:0'), tensor([[ 5.5000,  5.6562,  7.6875,  ...,  0.9531,  0.9531, -1.5312]],\n",
      "       device='cuda:0'))\n",
      "score is tensor([[ 4.7188,  5.2188,  6.8750,  ..., -2.0469, -2.0469, -3.4531]],\n",
      "       device='cuda:0')\n",
      "logits is [[0.54350257 0.36205074 0.09444658]]\n"
     ]
    },
    {
     "name": "stderr",
     "output_type": "stream",
     "text": [
      " 35%|███▍      | 174/501 [01:15<02:12,  2.47it/s]The attention mask and the pad token id were not set. As a consequence, you may observe unexpected behavior. Please pass your input's `attention_mask` to obtain reliable results.\n",
      "Setting `pad_token_id` to `eos_token_id`:128001 for open-end generation.\n"
     ]
    },
    {
     "name": "stdout",
     "output_type": "stream",
     "text": [
      "score (tensor([[ 4.6250,  5.6250,  6.5312,  ..., -0.3828, -0.3828, -2.7969]],\n",
      "       device='cuda:0'), tensor([[ 4.7812,  5.4062,  7.1562,  ...,  1.6719,  1.6719, -2.8281]],\n",
      "       device='cuda:0'))\n",
      "score is tensor([[ 4.6250,  5.6250,  6.5312,  ..., -0.3828, -0.3828, -2.7969]],\n",
      "       device='cuda:0')\n",
      "logits is [[0.7764817  0.13078086 0.09273752]]\n"
     ]
    },
    {
     "name": "stderr",
     "output_type": "stream",
     "text": [
      " 35%|███▍      | 175/501 [01:16<02:11,  2.48it/s]The attention mask and the pad token id were not set. As a consequence, you may observe unexpected behavior. Please pass your input's `attention_mask` to obtain reliable results.\n",
      "Setting `pad_token_id` to `eos_token_id`:128001 for open-end generation.\n"
     ]
    },
    {
     "name": "stdout",
     "output_type": "stream",
     "text": [
      "score (tensor([[ 5.0625,  5.0000,  7.3438,  ..., -1.6328, -1.6328, -4.6250]],\n",
      "       device='cuda:0'), tensor([[ 4.6875,  5.3125,  7.8750,  ...,  1.9453,  1.9453, -2.7188]],\n",
      "       device='cuda:0'))\n",
      "score is tensor([[ 5.0625,  5.0000,  7.3438,  ..., -1.6328, -1.6328, -4.6250]],\n",
      "       device='cuda:0')\n",
      "logits is [[0.5838074  0.25906298 0.15712963]]\n"
     ]
    },
    {
     "name": "stderr",
     "output_type": "stream",
     "text": [
      " 35%|███▌      | 176/501 [01:16<02:06,  2.58it/s]"
     ]
    },
    {
     "name": "stdout",
     "output_type": "stream",
     "text": [
      "score (tensor([[ 4.1875,  5.0312,  5.7500,  ..., -5.1562, -5.1562, -0.8945]],\n",
      "       device='cuda:0'), tensor([[ 3.2656,  4.4688,  6.8125,  ...,  2.1406,  2.1406, -3.2188]],\n",
      "       device='cuda:0'))\n",
      "score is tensor([[ 4.1875,  5.0312,  5.7500,  ..., -5.1562, -5.1562, -0.8945]],\n",
      "       device='cuda:0')\n",
      "logits is [[0.25851512 0.48296982 0.25851512]]\n"
     ]
    },
    {
     "name": "stderr",
     "output_type": "stream",
     "text": [
      "The attention mask and the pad token id were not set. As a consequence, you may observe unexpected behavior. Please pass your input's `attention_mask` to obtain reliable results.\n",
      "Setting `pad_token_id` to `eos_token_id`:128001 for open-end generation.\n",
      " 35%|███▌      | 177/501 [01:16<02:15,  2.39it/s]"
     ]
    },
    {
     "name": "stdout",
     "output_type": "stream",
     "text": [
      "score (tensor([[ 3.7344,  5.0312,  5.1562,  ..., -5.1562, -5.1562, -1.8672]],\n",
      "       device='cuda:0'), tensor([[ 3.3750,  6.2500,  6.9062,  ...,  2.5156,  2.5156, -3.8594]],\n",
      "       device='cuda:0'))\n",
      "score is tensor([[ 3.7344,  5.0312,  5.1562,  ..., -5.1562, -5.1562, -1.8672]],\n",
      "       device='cuda:0')\n",
      "logits is [[0.29582796 0.5883241  0.11584789]]\n"
     ]
    },
    {
     "name": "stderr",
     "output_type": "stream",
     "text": [
      "The attention mask and the pad token id were not set. As a consequence, you may observe unexpected behavior. Please pass your input's `attention_mask` to obtain reliable results.\n",
      "Setting `pad_token_id` to `eos_token_id`:128001 for open-end generation.\n",
      " 36%|███▌      | 178/501 [01:17<02:32,  2.12it/s]The attention mask and the pad token id were not set. As a consequence, you may observe unexpected behavior. Please pass your input's `attention_mask` to obtain reliable results.\n",
      "Setting `pad_token_id` to `eos_token_id`:128001 for open-end generation.\n"
     ]
    },
    {
     "name": "stdout",
     "output_type": "stream",
     "text": [
      "score (tensor([[ 4.1562,  5.4688,  6.2188,  ..., -4.1562, -4.1562,  0.4648]],\n",
      "       device='cuda:0'), tensor([[ 4.4375,  5.4688,  7.1875,  ...,  0.7930,  0.7930, -2.4062]],\n",
      "       device='cuda:0'))\n",
      "score is tensor([[ 4.1562,  5.4688,  6.2188,  ..., -4.1562, -4.1562,  0.4648]],\n",
      "       device='cuda:0')\n",
      "logits is [[0.4411355  0.32274163 0.23612283]]\n"
     ]
    },
    {
     "name": "stderr",
     "output_type": "stream",
     "text": [
      " 36%|███▌      | 179/501 [01:17<02:07,  2.52it/s]The attention mask and the pad token id were not set. As a consequence, you may observe unexpected behavior. Please pass your input's `attention_mask` to obtain reliable results.\n",
      "Setting `pad_token_id` to `eos_token_id`:128001 for open-end generation.\n"
     ]
    },
    {
     "name": "stdout",
     "output_type": "stream",
     "text": [
      "score (tensor([[ 3.8281,  5.1250,  5.8438,  ..., -0.5391, -0.5391, -2.5625]],\n",
      "       device='cuda:0'), tensor([[ 3.7500,  5.2812,  6.9062,  ..., -0.3652, -0.3652, -1.4453]],\n",
      "       device='cuda:0'))\n",
      "score is tensor([[ 3.8281,  5.1250,  5.8438,  ..., -0.5391, -0.5391, -2.5625]],\n",
      "       device='cuda:0')\n",
      "logits is [[0.4378481 0.4243769 0.137775 ]]\n"
     ]
    },
    {
     "name": "stderr",
     "output_type": "stream",
     "text": [
      " 36%|███▌      | 180/501 [01:17<01:50,  2.89it/s]"
     ]
    },
    {
     "name": "stdout",
     "output_type": "stream",
     "text": [
      "score (tensor([[ 4.1562,  5.8125,  7.0625,  ..., -4.6875, -4.6875, -2.6562]],\n",
      "       device='cuda:0'), tensor([[ 5.2500,  6.1875,  7.8125,  ...,  0.3477,  0.3477, -1.5078]],\n",
      "       device='cuda:0'))\n",
      "score is tensor([[ 4.1562,  5.8125,  7.0625,  ..., -4.6875, -4.6875, -2.6562]],\n",
      "       device='cuda:0')\n",
      "logits is [[0.37936556 0.4298775  0.19075698]]\n"
     ]
    },
    {
     "name": "stderr",
     "output_type": "stream",
     "text": [
      "The attention mask and the pad token id were not set. As a consequence, you may observe unexpected behavior. Please pass your input's `attention_mask` to obtain reliable results.\n",
      "Setting `pad_token_id` to `eos_token_id`:128001 for open-end generation.\n",
      " 36%|███▌      | 181/501 [01:18<02:11,  2.43it/s]"
     ]
    },
    {
     "name": "stdout",
     "output_type": "stream",
     "text": [
      "score (tensor([[ 4.5938,  5.1875,  6.2500,  ..., -3.7031, -3.7031,  0.1846]],\n",
      "       device='cuda:0'), tensor([[ 4.2500,  5.1875,  7.5312,  ...,  0.5352,  0.5352, -1.3281]],\n",
      "       device='cuda:0'))\n",
      "score is tensor([[ 4.5938,  5.1875,  6.2500,  ..., -3.7031, -3.7031,  0.1846]],\n",
      "       device='cuda:0')\n",
      "logits is [[0.44710043 0.34820217 0.20469749]]\n"
     ]
    },
    {
     "name": "stderr",
     "output_type": "stream",
     "text": [
      "The attention mask and the pad token id were not set. As a consequence, you may observe unexpected behavior. Please pass your input's `attention_mask` to obtain reliable results.\n",
      "Setting `pad_token_id` to `eos_token_id`:128001 for open-end generation.\n",
      " 36%|███▋      | 182/501 [01:19<02:29,  2.14it/s]The attention mask and the pad token id were not set. As a consequence, you may observe unexpected behavior. Please pass your input's `attention_mask` to obtain reliable results.\n",
      "Setting `pad_token_id` to `eos_token_id`:128001 for open-end generation.\n"
     ]
    },
    {
     "name": "stdout",
     "output_type": "stream",
     "text": [
      "score (tensor([[ 4.5000,  5.9375,  7.8438,  ..., -1.0625, -1.0625, -2.2656]],\n",
      "       device='cuda:0'), tensor([[ 5.0625,  6.1250,  8.6250,  ..., -0.5508, -0.5508, -2.4375]],\n",
      "       device='cuda:0'))\n",
      "score is tensor([[ 4.5000,  5.9375,  7.8438,  ..., -1.0625, -1.0625, -2.2656]],\n",
      "       device='cuda:0')\n",
      "logits is [[0.5894187  0.26155296 0.14902839]]\n"
     ]
    },
    {
     "name": "stderr",
     "output_type": "stream",
     "text": [
      " 37%|███▋      | 183/501 [01:19<02:22,  2.23it/s]The attention mask and the pad token id were not set. As a consequence, you may observe unexpected behavior. Please pass your input's `attention_mask` to obtain reliable results.\n",
      "Setting `pad_token_id` to `eos_token_id`:128001 for open-end generation.\n"
     ]
    },
    {
     "name": "stdout",
     "output_type": "stream",
     "text": [
      "score (tensor([[ 4.6250,  5.6875,  6.8438,  ..., -4.7812, -4.7812, -0.0128]],\n",
      "       device='cuda:0'), tensor([[ 4.4688,  5.0000,  7.4688,  ..., -0.0156, -0.0156, -2.3906]],\n",
      "       device='cuda:0'))\n",
      "score is tensor([[ 4.6250,  5.6875,  6.8438,  ..., -4.7812, -4.7812, -0.0128]],\n",
      "       device='cuda:0')\n",
      "logits is [[0.4094594  0.3846515  0.20588912]]\n"
     ]
    },
    {
     "name": "stderr",
     "output_type": "stream",
     "text": [
      " 37%|███▋      | 184/501 [01:19<02:09,  2.45it/s]The attention mask and the pad token id were not set. As a consequence, you may observe unexpected behavior. Please pass your input's `attention_mask` to obtain reliable results.\n",
      "Setting `pad_token_id` to `eos_token_id`:128001 for open-end generation.\n"
     ]
    },
    {
     "name": "stdout",
     "output_type": "stream",
     "text": [
      "score (tensor([[ 4.7188,  5.2500,  6.5625,  ..., -4.6562, -4.6562, -1.2422]],\n",
      "       device='cuda:0'), tensor([[ 4.5625,  5.2188,  7.2500,  ...,  0.9688,  0.9688, -2.3594]],\n",
      "       device='cuda:0'))\n",
      "score is tensor([[ 4.7188,  5.2500,  6.5625,  ..., -4.6562, -4.6562, -1.2422]],\n",
      "       device='cuda:0')\n",
      "logits is [[0.41687304 0.34559986 0.2375271 ]]\n"
     ]
    },
    {
     "name": "stderr",
     "output_type": "stream",
     "text": [
      " 37%|███▋      | 185/501 [01:20<02:00,  2.62it/s]The attention mask and the pad token id were not set. As a consequence, you may observe unexpected behavior. Please pass your input's `attention_mask` to obtain reliable results.\n",
      "Setting `pad_token_id` to `eos_token_id`:128001 for open-end generation.\n"
     ]
    },
    {
     "name": "stdout",
     "output_type": "stream",
     "text": [
      "score (tensor([[ 3.8281,  4.9688,  5.7188,  ..., -5.1875, -5.1875, -0.9219]],\n",
      "       device='cuda:0'), tensor([[ 3.0625,  4.6562,  6.7500,  ...,  2.8125,  2.8125, -3.7031]],\n",
      "       device='cuda:0'))\n",
      "score is tensor([[ 3.8281,  4.9688,  5.7188,  ..., -5.1875, -5.1875, -0.9219]],\n",
      "       device='cuda:0')\n",
      "logits is [[0.30841205 0.54128    0.15030801]]\n"
     ]
    },
    {
     "name": "stderr",
     "output_type": "stream",
     "text": [
      " 37%|███▋      | 186/501 [01:20<01:49,  2.88it/s]"
     ]
    },
    {
     "name": "stdout",
     "output_type": "stream",
     "text": [
      "score (tensor([[ 5.3125,  5.3438,  6.4688,  ..., -5.4688, -5.4688,  0.3672]],\n",
      "       device='cuda:0'), tensor([[ 4.6875,  6.5000,  7.9062,  ...,  0.5898,  0.5898, -0.7930]],\n",
      "       device='cuda:0'))\n",
      "score is tensor([[ 5.3125,  5.3438,  6.4688,  ..., -5.4688, -5.4688,  0.3672]],\n",
      "       device='cuda:0')\n",
      "logits is [[0.32546133 0.36879602 0.30574262]]\n"
     ]
    },
    {
     "name": "stderr",
     "output_type": "stream",
     "text": [
      "The attention mask and the pad token id were not set. As a consequence, you may observe unexpected behavior. Please pass your input's `attention_mask` to obtain reliable results.\n",
      "Setting `pad_token_id` to `eos_token_id`:128001 for open-end generation.\n",
      " 37%|███▋      | 187/501 [01:20<02:03,  2.54it/s]"
     ]
    },
    {
     "name": "stdout",
     "output_type": "stream",
     "text": [
      "score (tensor([[ 4.3750,  5.7188,  6.8750,  ..., -6.0000, -6.0000, -0.4434]],\n",
      "       device='cuda:0'), tensor([[ 3.0781,  4.5938,  6.5312,  ...,  2.3906,  2.3906, -2.5312]],\n",
      "       device='cuda:0'))\n",
      "score is tensor([[ 4.3750,  5.7188,  6.8750,  ..., -6.0000, -6.0000, -0.4434]],\n",
      "       device='cuda:0')\n",
      "logits is [[0.25483078 0.4472419  0.29792732]]\n"
     ]
    },
    {
     "name": "stderr",
     "output_type": "stream",
     "text": [
      "The attention mask and the pad token id were not set. As a consequence, you may observe unexpected behavior. Please pass your input's `attention_mask` to obtain reliable results.\n",
      "Setting `pad_token_id` to `eos_token_id`:128001 for open-end generation.\n",
      " 38%|███▊      | 188/501 [01:21<02:12,  2.36it/s]The attention mask and the pad token id were not set. As a consequence, you may observe unexpected behavior. Please pass your input's `attention_mask` to obtain reliable results.\n",
      "Setting `pad_token_id` to `eos_token_id`:128001 for open-end generation.\n"
     ]
    },
    {
     "name": "stdout",
     "output_type": "stream",
     "text": [
      "score (tensor([[ 4.3750,  5.2812,  5.9062,  ..., -4.0938, -4.0938,  2.2188]],\n",
      "       device='cuda:0'), tensor([[ 4.2500,  5.7188,  7.3438,  ...,  0.9297,  0.9297, -0.7812]],\n",
      "       device='cuda:0'))\n",
      "score is tensor([[ 4.3750,  5.2812,  5.9062,  ..., -4.0938, -4.0938,  2.2188]],\n",
      "       device='cuda:0')\n",
      "logits is [[0.3566941  0.3566941  0.28661177]]\n"
     ]
    },
    {
     "name": "stderr",
     "output_type": "stream",
     "text": [
      " 38%|███▊      | 189/501 [01:21<01:54,  2.72it/s]"
     ]
    },
    {
     "name": "stdout",
     "output_type": "stream",
     "text": [
      "score (tensor([[ 4.0938,  5.4688,  6.7812,  ..., -4.7812, -4.7812, -2.7812]],\n",
      "       device='cuda:0'), tensor([[ 4.5625,  6.1562,  7.5625,  ...,  0.3828,  0.3828, -2.2188]],\n",
      "       device='cuda:0'))\n",
      "score is tensor([[ 4.0938,  5.4688,  6.7812,  ..., -4.7812, -4.7812, -2.7812]],\n",
      "       device='cuda:0')\n",
      "logits is [[0.44555423 0.41855946 0.13588637]]\n"
     ]
    },
    {
     "name": "stderr",
     "output_type": "stream",
     "text": [
      "The attention mask and the pad token id were not set. As a consequence, you may observe unexpected behavior. Please pass your input's `attention_mask` to obtain reliable results.\n",
      "Setting `pad_token_id` to `eos_token_id`:128001 for open-end generation.\n",
      " 38%|███▊      | 190/501 [01:22<02:07,  2.44it/s]"
     ]
    },
    {
     "name": "stdout",
     "output_type": "stream",
     "text": [
      "score (tensor([[ 4.5625,  4.8438,  6.5625,  ..., -5.2812, -5.2812, -0.2949]],\n",
      "       device='cuda:0'), tensor([[ 4.3438,  5.2500,  7.4062,  ..., -0.4785, -0.4785, -0.4414]],\n",
      "       device='cuda:0'))\n",
      "score is tensor([[ 4.5625,  4.8438,  6.5625,  ..., -5.2812, -5.2812, -0.2949]],\n",
      "       device='cuda:0')\n",
      "logits is [[0.18157622 0.7181479  0.10027591]]\n"
     ]
    },
    {
     "name": "stderr",
     "output_type": "stream",
     "text": [
      "The attention mask and the pad token id were not set. As a consequence, you may observe unexpected behavior. Please pass your input's `attention_mask` to obtain reliable results.\n",
      "Setting `pad_token_id` to `eos_token_id`:128001 for open-end generation.\n",
      " 38%|███▊      | 191/501 [01:22<02:28,  2.08it/s]The attention mask and the pad token id were not set. As a consequence, you may observe unexpected behavior. Please pass your input's `attention_mask` to obtain reliable results.\n",
      "Setting `pad_token_id` to `eos_token_id`:128001 for open-end generation.\n"
     ]
    },
    {
     "name": "stdout",
     "output_type": "stream",
     "text": [
      "score (tensor([[ 4.0938,  5.5938,  6.6250,  ..., -5.3750, -5.3750, -0.8438]],\n",
      "       device='cuda:0'), tensor([[ 4.2812,  6.6250,  8.0000,  ..., -1.5547, -1.5547, -0.4238]],\n",
      "       device='cuda:0'))\n",
      "score is tensor([[ 4.0938,  5.5938,  6.6250,  ..., -5.3750, -5.3750, -0.8438]],\n",
      "       device='cuda:0')\n",
      "logits is [[0.33149895 0.5465494  0.12195165]]\n"
     ]
    },
    {
     "name": "stderr",
     "output_type": "stream",
     "text": [
      " 38%|███▊      | 192/501 [01:23<02:08,  2.41it/s]The attention mask and the pad token id were not set. As a consequence, you may observe unexpected behavior. Please pass your input's `attention_mask` to obtain reliable results.\n",
      "Setting `pad_token_id` to `eos_token_id`:128001 for open-end generation.\n"
     ]
    },
    {
     "name": "stdout",
     "output_type": "stream",
     "text": [
      "score (tensor([[ 3.9375,  5.7188,  6.8438,  ...,  0.6719,  0.6719, -0.9922]],\n",
      "       device='cuda:0'), tensor([[ 3.4531,  5.4375,  6.8750,  ...,  3.1406,  3.1406, -1.6328]],\n",
      "       device='cuda:0'))\n",
      "score is tensor([[ 3.9375,  5.7188,  6.8438,  ...,  0.6719,  0.6719, -0.9922]],\n",
      "       device='cuda:0')\n",
      "logits is [[0.7205831  0.1375257  0.14189123]]\n"
     ]
    },
    {
     "name": "stderr",
     "output_type": "stream",
     "text": [
      " 39%|███▊      | 193/501 [01:23<02:02,  2.51it/s]The attention mask and the pad token id were not set. As a consequence, you may observe unexpected behavior. Please pass your input's `attention_mask` to obtain reliable results.\n",
      "Setting `pad_token_id` to `eos_token_id`:128001 for open-end generation.\n"
     ]
    },
    {
     "name": "stdout",
     "output_type": "stream",
     "text": [
      "score (tensor([[ 4.1875,  4.5938,  5.7812,  ..., -4.5625, -4.5625, -2.5000]],\n",
      "       device='cuda:0'), tensor([[ 4.4688,  5.0938,  7.3125,  ...,  1.7266,  1.7266, -2.2344]],\n",
      "       device='cuda:0'))\n",
      "score is tensor([[ 4.1875,  4.5938,  5.7812,  ..., -4.5625, -4.5625, -2.5000]],\n",
      "       device='cuda:0')\n",
      "logits is [[0.26896104 0.55187225 0.17916669]]\n"
     ]
    },
    {
     "name": "stderr",
     "output_type": "stream",
     "text": [
      " 39%|███▊      | 194/501 [01:23<01:57,  2.62it/s]The attention mask and the pad token id were not set. As a consequence, you may observe unexpected behavior. Please pass your input's `attention_mask` to obtain reliable results.\n",
      "Setting `pad_token_id` to `eos_token_id`:128001 for open-end generation.\n"
     ]
    },
    {
     "name": "stdout",
     "output_type": "stream",
     "text": [
      "score (tensor([[ 3.6250,  4.7812,  4.8125,  ..., -0.6250, -0.6250,  0.2363]],\n",
      "       device='cuda:0'), tensor([[ 2.9219,  5.1875,  6.4062,  ...,  3.4062,  3.4062, -1.4375]],\n",
      "       device='cuda:0'))\n",
      "score is tensor([[ 3.6250,  4.7812,  4.8125,  ..., -0.6250, -0.6250,  0.2363]],\n",
      "       device='cuda:0')\n",
      "logits is [[0.74655277 0.11096516 0.14248209]]\n"
     ]
    },
    {
     "name": "stderr",
     "output_type": "stream",
     "text": [
      " 39%|███▉      | 195/501 [01:24<01:45,  2.89it/s]"
     ]
    },
    {
     "name": "stdout",
     "output_type": "stream",
     "text": [
      "score (tensor([[ 4.1250,  5.0938,  5.5625,  ..., -4.4062, -4.4062, -0.3594]],\n",
      "       device='cuda:0'), tensor([[ 4.3125,  5.8750,  7.2500,  ..., -1.0625, -1.0625, -0.8047]],\n",
      "       device='cuda:0'))\n",
      "score is tensor([[ 4.1250,  5.0938,  5.5625,  ..., -4.4062, -4.4062, -0.3594]],\n",
      "       device='cuda:0')\n",
      "logits is [[0.30237958 0.48320118 0.21441922]]\n"
     ]
    },
    {
     "name": "stderr",
     "output_type": "stream",
     "text": [
      "The attention mask and the pad token id were not set. As a consequence, you may observe unexpected behavior. Please pass your input's `attention_mask` to obtain reliable results.\n",
      "Setting `pad_token_id` to `eos_token_id`:128001 for open-end generation.\n",
      " 39%|███▉      | 196/501 [01:24<02:23,  2.13it/s]The attention mask and the pad token id were not set. As a consequence, you may observe unexpected behavior. Please pass your input's `attention_mask` to obtain reliable results.\n",
      "Setting `pad_token_id` to `eos_token_id`:128001 for open-end generation.\n"
     ]
    },
    {
     "name": "stdout",
     "output_type": "stream",
     "text": [
      "score (tensor([[4.2188, 5.6562, 6.3750,  ..., 0.4805, 0.4805, 1.3203]],\n",
      "       device='cuda:0'), tensor([[ 4.5625,  5.9375,  6.7188,  ..., -1.4062, -1.4062, -0.4434]],\n",
      "       device='cuda:0'))\n",
      "score is tensor([[4.2188, 5.6562, 6.3750,  ..., 0.4805, 0.4805, 1.3203]],\n",
      "       device='cuda:0')\n",
      "logits is [[0.5924008  0.27122083 0.13637841]]\n"
     ]
    },
    {
     "name": "stderr",
     "output_type": "stream",
     "text": [
      " 39%|███▉      | 197/501 [01:25<02:01,  2.50it/s]The attention mask and the pad token id were not set. As a consequence, you may observe unexpected behavior. Please pass your input's `attention_mask` to obtain reliable results.\n",
      "Setting `pad_token_id` to `eos_token_id`:128001 for open-end generation.\n"
     ]
    },
    {
     "name": "stdout",
     "output_type": "stream",
     "text": [
      "score (tensor([[ 3.9375,  5.1875,  6.3438,  ..., -3.5312, -3.5312, -1.3359]],\n",
      "       device='cuda:0'), tensor([[ 3.8906,  6.0938,  7.9062,  ..., -1.7031, -1.7031, -1.0312]],\n",
      "       device='cuda:0'))\n",
      "score is tensor([[ 3.9375,  5.1875,  6.3438,  ..., -3.5312, -3.5312, -1.3359]],\n",
      "       device='cuda:0')\n",
      "logits is [[0.44127473 0.34366512 0.21506013]]\n"
     ]
    },
    {
     "name": "stderr",
     "output_type": "stream",
     "text": [
      " 40%|███▉      | 198/501 [01:25<01:58,  2.56it/s]The attention mask and the pad token id were not set. As a consequence, you may observe unexpected behavior. Please pass your input's `attention_mask` to obtain reliable results.\n",
      "Setting `pad_token_id` to `eos_token_id`:128001 for open-end generation.\n"
     ]
    },
    {
     "name": "stdout",
     "output_type": "stream",
     "text": [
      "score (tensor([[ 5.0938,  5.1250,  6.7812,  ..., -4.2812, -4.2812, -0.1299]],\n",
      "       device='cuda:0'), tensor([[ 4.2500,  5.9688,  7.7812,  ...,  1.3672,  1.3672, -1.8672]],\n",
      "       device='cuda:0'))\n",
      "score is tensor([[ 5.0938,  5.1250,  6.7812,  ..., -4.2812, -4.2812, -0.1299]],\n",
      "       device='cuda:0')\n",
      "logits is [[0.43952975 0.3020841  0.2583862 ]]\n"
     ]
    },
    {
     "name": "stderr",
     "output_type": "stream",
     "text": [
      " 40%|███▉      | 199/501 [01:25<01:56,  2.60it/s]The attention mask and the pad token id were not set. As a consequence, you may observe unexpected behavior. Please pass your input's `attention_mask` to obtain reliable results.\n",
      "Setting `pad_token_id` to `eos_token_id`:128001 for open-end generation.\n"
     ]
    },
    {
     "name": "stdout",
     "output_type": "stream",
     "text": [
      "score (tensor([[ 4.3125,  5.6875,  8.0000,  ..., -1.6406, -1.6406, -0.2236]],\n",
      "       device='cuda:0'), tensor([[ 4.2812,  5.9062,  8.4375,  ...,  0.9805,  0.9805, -1.2500]],\n",
      "       device='cuda:0'))\n",
      "score is tensor([[ 4.3125,  5.6875,  8.0000,  ..., -1.6406, -1.6406, -0.2236]],\n",
      "       device='cuda:0')\n",
      "logits is [[0.64013386 0.20782103 0.15204512]]\n"
     ]
    },
    {
     "name": "stderr",
     "output_type": "stream",
     "text": [
      " 40%|███▉      | 200/501 [01:26<01:52,  2.67it/s]The attention mask and the pad token id were not set. As a consequence, you may observe unexpected behavior. Please pass your input's `attention_mask` to obtain reliable results.\n",
      "Setting `pad_token_id` to `eos_token_id`:128001 for open-end generation.\n"
     ]
    },
    {
     "name": "stdout",
     "output_type": "stream",
     "text": [
      "score (tensor([[ 4.5938,  5.4375,  6.6875,  ..., -0.6562, -0.6562, -0.2090]],\n",
      "       device='cuda:0'), tensor([[ 4.0625,  5.3438,  6.9062,  ...,  2.0469,  2.0469, -1.7266]],\n",
      "       device='cuda:0'))\n",
      "score is tensor([[ 4.5938,  5.4375,  6.6875,  ..., -0.6562, -0.6562, -0.2090]],\n",
      "       device='cuda:0')\n",
      "logits is [[0.5218896  0.2465232  0.23158711]]\n"
     ]
    },
    {
     "name": "stderr",
     "output_type": "stream",
     "text": [
      " 40%|████      | 201/501 [01:26<01:46,  2.82it/s]The attention mask and the pad token id were not set. As a consequence, you may observe unexpected behavior. Please pass your input's `attention_mask` to obtain reliable results.\n",
      "Setting `pad_token_id` to `eos_token_id`:128001 for open-end generation.\n"
     ]
    },
    {
     "name": "stdout",
     "output_type": "stream",
     "text": [
      "score (tensor([[ 4.5312,  6.0312,  6.0625,  ..., -5.6250, -5.6250, -2.7969]],\n",
      "       device='cuda:0'), tensor([[ 4.4688,  5.5625,  6.9688,  ..., -5.5000, -5.5000, -0.3633]],\n",
      "       device='cuda:0'))\n",
      "score is tensor([[ 4.5312,  6.0312,  6.0625,  ..., -5.6250, -5.6250, -2.7969]],\n",
      "       device='cuda:0')\n",
      "logits is [[0.17137162 0.5278618  0.3007666 ]]\n"
     ]
    },
    {
     "name": "stderr",
     "output_type": "stream",
     "text": [
      " 40%|████      | 202/501 [01:26<01:33,  3.19it/s]The attention mask and the pad token id were not set. As a consequence, you may observe unexpected behavior. Please pass your input's `attention_mask` to obtain reliable results.\n",
      "Setting `pad_token_id` to `eos_token_id`:128001 for open-end generation.\n"
     ]
    },
    {
     "name": "stdout",
     "output_type": "stream",
     "text": [
      "score (tensor([[ 4.6250,  5.3125,  6.7188,  ..., -3.0312, -3.0312, -0.5859]],\n",
      "       device='cuda:0'), tensor([[ 4.1250,  5.5938,  7.5625,  ...,  0.8555,  0.8555, -1.3516]],\n",
      "       device='cuda:0'))\n",
      "score is tensor([[ 4.6250,  5.3125,  6.7188,  ..., -3.0312, -3.0312, -0.5859]],\n",
      "       device='cuda:0')\n",
      "logits is [[0.54626006 0.352692   0.10104796]]\n"
     ]
    },
    {
     "name": "stderr",
     "output_type": "stream",
     "text": [
      " 41%|████      | 203/501 [01:26<01:34,  3.16it/s]"
     ]
    },
    {
     "name": "stdout",
     "output_type": "stream",
     "text": [
      "score (tensor([[ 4.9375,  6.8750,  6.3438,  ..., -5.8750, -5.8750, -2.7500]],\n",
      "       device='cuda:0'), tensor([[ 4.7500,  6.5938,  6.3125,  ..., -6.5625, -6.5625, -1.9844]],\n",
      "       device='cuda:0'))\n",
      "score is tensor([[ 4.9375,  6.8750,  6.3438,  ..., -5.8750, -5.8750, -2.7500]],\n",
      "       device='cuda:0')\n",
      "logits is [[0.26556534 0.45174187 0.28269285]]\n"
     ]
    },
    {
     "name": "stderr",
     "output_type": "stream",
     "text": [
      "The attention mask and the pad token id were not set. As a consequence, you may observe unexpected behavior. Please pass your input's `attention_mask` to obtain reliable results.\n",
      "Setting `pad_token_id` to `eos_token_id`:128001 for open-end generation.\n",
      " 41%|████      | 204/501 [01:27<02:18,  2.15it/s]The attention mask and the pad token id were not set. As a consequence, you may observe unexpected behavior. Please pass your input's `attention_mask` to obtain reliable results.\n",
      "Setting `pad_token_id` to `eos_token_id`:128001 for open-end generation.\n"
     ]
    },
    {
     "name": "stdout",
     "output_type": "stream",
     "text": [
      "score (tensor([[ 4.7500,  6.0000,  7.5625,  ..., -3.7656, -3.7656,  0.4355]],\n",
      "       device='cuda:0'), tensor([[ 4.4375,  5.9688,  7.6562,  ..., -0.4180, -0.4180, -0.7148]],\n",
      "       device='cuda:0'))\n",
      "score is tensor([[ 4.7500,  6.0000,  7.5625,  ..., -3.7656, -3.7656,  0.4355]],\n",
      "       device='cuda:0')\n",
      "logits is [[0.5529543  0.21654001 0.23050565]]\n"
     ]
    },
    {
     "name": "stderr",
     "output_type": "stream",
     "text": [
      " 41%|████      | 205/501 [01:28<02:07,  2.32it/s]The attention mask and the pad token id were not set. As a consequence, you may observe unexpected behavior. Please pass your input's `attention_mask` to obtain reliable results.\n",
      "Setting `pad_token_id` to `eos_token_id`:128001 for open-end generation.\n"
     ]
    },
    {
     "name": "stdout",
     "output_type": "stream",
     "text": [
      "score (tensor([[ 5.3438,  5.8438,  6.9375,  ..., -3.7188, -3.7188,  1.7031]],\n",
      "       device='cuda:0'), tensor([[ 4.5000,  5.8750,  7.8750,  ...,  0.6641,  0.6641, -0.5977]],\n",
      "       device='cuda:0'))\n",
      "score is tensor([[ 5.3438,  5.8438,  6.9375,  ..., -3.7188, -3.7188,  1.7031]],\n",
      "       device='cuda:0')\n",
      "logits is [[0.5033612  0.20983218 0.28680658]]\n"
     ]
    },
    {
     "name": "stderr",
     "output_type": "stream",
     "text": [
      " 41%|████      | 206/501 [01:28<01:59,  2.46it/s]The attention mask and the pad token id were not set. As a consequence, you may observe unexpected behavior. Please pass your input's `attention_mask` to obtain reliable results.\n",
      "Setting `pad_token_id` to `eos_token_id`:128001 for open-end generation.\n"
     ]
    },
    {
     "name": "stdout",
     "output_type": "stream",
     "text": [
      "score (tensor([[ 4.7188,  5.9375,  6.6250,  ..., -2.7344, -2.7344,  0.8242]],\n",
      "       device='cuda:0'), tensor([[ 4.7188,  5.5312,  7.7188,  ...,  0.4629,  0.4629, -1.5781]],\n",
      "       device='cuda:0'))\n",
      "score is tensor([[ 4.7188,  5.9375,  6.6250,  ..., -2.7344, -2.7344,  0.8242]],\n",
      "       device='cuda:0')\n",
      "logits is [[0.5487513  0.18380865 0.26744002]]\n"
     ]
    },
    {
     "name": "stderr",
     "output_type": "stream",
     "text": [
      " 41%|████▏     | 207/501 [01:28<01:54,  2.56it/s]The attention mask and the pad token id were not set. As a consequence, you may observe unexpected behavior. Please pass your input's `attention_mask` to obtain reliable results.\n",
      "Setting `pad_token_id` to `eos_token_id`:128001 for open-end generation.\n"
     ]
    },
    {
     "name": "stdout",
     "output_type": "stream",
     "text": [
      "score (tensor([[ 4.5000,  5.9688,  5.9688,  ..., -4.7188, -4.7188, -0.4316]],\n",
      "       device='cuda:0'), tensor([[ 4.5625,  5.8750,  6.9688,  ..., -0.7891, -0.7891, -2.0625]],\n",
      "       device='cuda:0'))\n",
      "score is tensor([[ 4.5000,  5.9688,  5.9688,  ..., -4.7188, -4.7188, -0.4316]],\n",
      "       device='cuda:0')\n",
      "logits is [[0.32598525 0.5048958  0.16911891]]\n"
     ]
    },
    {
     "name": "stderr",
     "output_type": "stream",
     "text": [
      " 42%|████▏     | 208/501 [01:29<01:51,  2.62it/s]"
     ]
    },
    {
     "name": "stdout",
     "output_type": "stream",
     "text": [
      "score (tensor([[ 4.7812,  5.3125,  6.7188,  ..., -2.9688, -2.9688,  0.4688]],\n",
      "       device='cuda:0'), tensor([[ 4.5625,  5.8125,  7.8125,  ..., -1.1797, -1.1797, -0.1396]],\n",
      "       device='cuda:0'))\n",
      "score is tensor([[ 4.7812,  5.3125,  6.7188,  ..., -2.9688, -2.9688,  0.4688]],\n",
      "       device='cuda:0')\n",
      "logits is [[0.4865981  0.24467689 0.268725  ]]\n"
     ]
    },
    {
     "name": "stderr",
     "output_type": "stream",
     "text": [
      "The attention mask and the pad token id were not set. As a consequence, you may observe unexpected behavior. Please pass your input's `attention_mask` to obtain reliable results.\n",
      "Setting `pad_token_id` to `eos_token_id`:128001 for open-end generation.\n",
      " 42%|████▏     | 209/501 [01:30<02:28,  1.97it/s]The attention mask and the pad token id were not set. As a consequence, you may observe unexpected behavior. Please pass your input's `attention_mask` to obtain reliable results.\n",
      "Setting `pad_token_id` to `eos_token_id`:128001 for open-end generation.\n"
     ]
    },
    {
     "name": "stdout",
     "output_type": "stream",
     "text": [
      "score (tensor([[ 4.0938,  5.6875,  7.3438,  ..., -5.0312, -5.0312,  0.1235]],\n",
      "       device='cuda:0'), tensor([[ 4.4375,  6.4688,  8.1875,  ...,  0.2070,  0.2070, -2.0938]],\n",
      "       device='cuda:0'))\n",
      "score is tensor([[ 4.0938,  5.6875,  7.3438,  ..., -5.0312, -5.0312,  0.1235]],\n",
      "       device='cuda:0')\n",
      "logits is [[0.4551851  0.37736169 0.16745324]]\n"
     ]
    },
    {
     "name": "stderr",
     "output_type": "stream",
     "text": [
      " 42%|████▏     | 210/501 [01:30<02:18,  2.10it/s]The attention mask and the pad token id were not set. As a consequence, you may observe unexpected behavior. Please pass your input's `attention_mask` to obtain reliable results.\n",
      "Setting `pad_token_id` to `eos_token_id`:128001 for open-end generation.\n"
     ]
    },
    {
     "name": "stdout",
     "output_type": "stream",
     "text": [
      "score (tensor([[ 4.7188,  5.6562,  6.4375,  ..., -4.3438, -4.3438,  0.8242]],\n",
      "       device='cuda:0'), tensor([[ 4.3438,  5.8750,  7.5312,  ...,  0.3184,  0.3184, -1.0547]],\n",
      "       device='cuda:0'))\n",
      "score is tensor([[ 4.7188,  5.6562,  6.4375,  ..., -4.3438, -4.3438,  0.8242]],\n",
      "       device='cuda:0')\n",
      "logits is [[0.44772413 0.28907242 0.2632034 ]]\n"
     ]
    },
    {
     "name": "stderr",
     "output_type": "stream",
     "text": [
      " 42%|████▏     | 211/501 [01:30<02:08,  2.26it/s]The attention mask and the pad token id were not set. As a consequence, you may observe unexpected behavior. Please pass your input's `attention_mask` to obtain reliable results.\n",
      "Setting `pad_token_id` to `eos_token_id`:128001 for open-end generation.\n"
     ]
    },
    {
     "name": "stdout",
     "output_type": "stream",
     "text": [
      "score (tensor([[ 4.8750,  6.3125,  6.2188,  ..., -5.8438, -5.8438, -0.8555]],\n",
      "       device='cuda:0'), tensor([[ 3.9375,  5.4062,  7.1875,  ...,  1.1328,  1.1328, -2.6406]],\n",
      "       device='cuda:0'))\n",
      "score is tensor([[ 4.8750,  6.3125,  6.2188,  ..., -5.8438, -5.8438, -0.8555]],\n",
      "       device='cuda:0')\n",
      "logits is [[0.3500901  0.40929678 0.24061315]]\n"
     ]
    },
    {
     "name": "stderr",
     "output_type": "stream",
     "text": [
      " 42%|████▏     | 212/501 [01:31<01:49,  2.63it/s]The attention mask and the pad token id were not set. As a consequence, you may observe unexpected behavior. Please pass your input's `attention_mask` to obtain reliable results.\n",
      "Setting `pad_token_id` to `eos_token_id`:128001 for open-end generation.\n"
     ]
    },
    {
     "name": "stdout",
     "output_type": "stream",
     "text": [
      "score (tensor([[ 4.2812,  5.7812,  6.7812,  ..., -3.1250, -3.1250, -0.5547]],\n",
      "       device='cuda:0'), tensor([[ 4.4688,  6.4688,  7.5312,  ...,  0.6992,  0.6992, -1.1250]],\n",
      "       device='cuda:0'))\n",
      "score is tensor([[ 4.2812,  5.7812,  6.7812,  ..., -3.1250, -3.1250, -0.5547]],\n",
      "       device='cuda:0')\n",
      "logits is [[0.37961078 0.40409356 0.2162957 ]]\n"
     ]
    },
    {
     "name": "stderr",
     "output_type": "stream",
     "text": [
      " 43%|████▎     | 213/501 [01:31<01:54,  2.51it/s]The attention mask and the pad token id were not set. As a consequence, you may observe unexpected behavior. Please pass your input's `attention_mask` to obtain reliable results.\n",
      "Setting `pad_token_id` to `eos_token_id`:128001 for open-end generation.\n"
     ]
    },
    {
     "name": "stdout",
     "output_type": "stream",
     "text": [
      "score (tensor([[ 4.9375,  6.1562,  7.7812,  ..., -1.1562, -1.1562, -1.6328]],\n",
      "       device='cuda:0'), tensor([[ 5.3438,  5.5312,  7.8125,  ..., -1.0312, -1.0312, -1.2578]],\n",
      "       device='cuda:0'))\n",
      "score is tensor([[ 4.9375,  6.1562,  7.7812,  ..., -1.1562, -1.1562, -1.6328]],\n",
      "       device='cuda:0')\n",
      "logits is [[0.7225376 0.1826861 0.0947763]]\n"
     ]
    },
    {
     "name": "stderr",
     "output_type": "stream",
     "text": [
      " 43%|████▎     | 214/501 [01:31<01:43,  2.78it/s]"
     ]
    },
    {
     "name": "stdout",
     "output_type": "stream",
     "text": [
      "score (tensor([[ 4.7812,  5.3438,  6.8125,  ..., -5.8125, -5.8125, -2.7188]],\n",
      "       device='cuda:0'), tensor([[ 4.1875,  5.9062,  8.1875,  ..., -1.3281, -1.3281, -1.8281]],\n",
      "       device='cuda:0'))\n",
      "score is tensor([[ 4.7812,  5.3438,  6.8125,  ..., -5.8125, -5.8125, -2.7188]],\n",
      "       device='cuda:0')\n",
      "logits is [[0.37708744 0.48418987 0.13872272]]\n"
     ]
    },
    {
     "name": "stderr",
     "output_type": "stream",
     "text": [
      "The attention mask and the pad token id were not set. As a consequence, you may observe unexpected behavior. Please pass your input's `attention_mask` to obtain reliable results.\n",
      "Setting `pad_token_id` to `eos_token_id`:128001 for open-end generation.\n",
      " 43%|████▎     | 215/501 [01:32<02:13,  2.15it/s]The attention mask and the pad token id were not set. As a consequence, you may observe unexpected behavior. Please pass your input's `attention_mask` to obtain reliable results.\n",
      "Setting `pad_token_id` to `eos_token_id`:128001 for open-end generation.\n"
     ]
    },
    {
     "name": "stdout",
     "output_type": "stream",
     "text": [
      "score (tensor([[ 4.1250,  5.3438,  6.5312,  ..., -4.5938, -4.5938, -1.4062]],\n",
      "       device='cuda:0'), tensor([[ 4.8125,  5.9688,  8.5000,  ...,  0.2578,  0.2578, -1.0859]],\n",
      "       device='cuda:0'))\n",
      "score is tensor([[ 4.1250,  5.3438,  6.5312,  ..., -4.5938, -4.5938, -1.4062]],\n",
      "       device='cuda:0')\n",
      "logits is [[0.43344605 0.32718223 0.23937166]]\n"
     ]
    },
    {
     "name": "stderr",
     "output_type": "stream",
     "text": [
      " 43%|████▎     | 216/501 [01:32<02:10,  2.18it/s]The attention mask and the pad token id were not set. As a consequence, you may observe unexpected behavior. Please pass your input's `attention_mask` to obtain reliable results.\n",
      "Setting `pad_token_id` to `eos_token_id`:128001 for open-end generation.\n"
     ]
    },
    {
     "name": "stdout",
     "output_type": "stream",
     "text": [
      "score (tensor([[ 5.2188,  6.1875,  7.0938,  ..., -3.0938, -3.0938, -1.6406]],\n",
      "       device='cuda:0'), tensor([[ 6.4375,  5.9688,  8.2500,  ...,  1.5469,  1.5469, -0.8281]],\n",
      "       device='cuda:0'))\n",
      "score is tensor([[ 5.2188,  6.1875,  7.0938,  ..., -3.0938, -3.0938, -1.6406]],\n",
      "       device='cuda:0')\n",
      "logits is [[0.32564566 0.6476237  0.02673062]]\n"
     ]
    },
    {
     "name": "stderr",
     "output_type": "stream",
     "text": [
      " 43%|████▎     | 217/501 [01:33<01:53,  2.51it/s]"
     ]
    },
    {
     "name": "stdout",
     "output_type": "stream",
     "text": [
      "score (tensor([[ 4.1562,  5.2188,  6.1875,  ..., -5.9375, -5.9375, -2.2969]],\n",
      "       device='cuda:0'), tensor([[ 3.6094,  4.4688,  7.0938,  ...,  2.7500,  2.7500, -2.0781]],\n",
      "       device='cuda:0'))\n",
      "score is tensor([[ 4.1562,  5.2188,  6.1875,  ..., -5.9375, -5.9375, -2.2969]],\n",
      "       device='cuda:0')\n",
      "logits is [[0.24015109 0.54118884 0.21866006]]\n"
     ]
    },
    {
     "name": "stderr",
     "output_type": "stream",
     "text": [
      "The attention mask and the pad token id were not set. As a consequence, you may observe unexpected behavior. Please pass your input's `attention_mask` to obtain reliable results.\n",
      "Setting `pad_token_id` to `eos_token_id`:128001 for open-end generation.\n",
      " 44%|████▎     | 218/501 [01:33<02:09,  2.18it/s]"
     ]
    },
    {
     "name": "stdout",
     "output_type": "stream",
     "text": [
      "score (tensor([[ 5.5000,  6.0625,  8.1250,  ..., -5.5312, -5.5312, -2.7500]],\n",
      "       device='cuda:0'), tensor([[ 5.4688,  6.0312,  9.3750,  ..., -2.8438, -2.8438, -3.7969]],\n",
      "       device='cuda:0'))\n",
      "score is tensor([[ 5.5000,  6.0625,  8.1250,  ..., -5.5312, -5.5312, -2.7500]],\n",
      "       device='cuda:0')\n",
      "logits is [[0.55925256 0.29934633 0.14140119]]\n"
     ]
    },
    {
     "name": "stderr",
     "output_type": "stream",
     "text": [
      "The attention mask and the pad token id were not set. As a consequence, you may observe unexpected behavior. Please pass your input's `attention_mask` to obtain reliable results.\n",
      "Setting `pad_token_id` to `eos_token_id`:128001 for open-end generation.\n",
      " 44%|████▎     | 219/501 [01:34<02:12,  2.13it/s]The attention mask and the pad token id were not set. As a consequence, you may observe unexpected behavior. Please pass your input's `attention_mask` to obtain reliable results.\n",
      "Setting `pad_token_id` to `eos_token_id`:128001 for open-end generation.\n"
     ]
    },
    {
     "name": "stdout",
     "output_type": "stream",
     "text": [
      "score (tensor([[ 3.2344,  3.4062,  4.0938,  ...,  0.5586,  0.5586, -3.1719]],\n",
      "       device='cuda:0'), tensor([[ 3.5469,  3.9062,  5.3750,  ...,  1.9688,  1.9688, -3.4688]],\n",
      "       device='cuda:0'))\n",
      "score is tensor([[ 3.2344,  3.4062,  4.0938,  ...,  0.5586,  0.5586, -3.1719]],\n",
      "       device='cuda:0')\n",
      "logits is [[0.6492485  0.25424936 0.09650217]]\n"
     ]
    },
    {
     "name": "stderr",
     "output_type": "stream",
     "text": [
      " 44%|████▍     | 220/501 [01:34<02:10,  2.16it/s]"
     ]
    },
    {
     "name": "stdout",
     "output_type": "stream",
     "text": [
      "score (tensor([[ 4.0000,  5.7188,  6.1562,  ..., -0.1562, -0.1562, -3.1719]],\n",
      "       device='cuda:0'), tensor([[ 4.1875,  5.9375,  7.2188,  ...,  1.4375,  1.4375, -3.3438]],\n",
      "       device='cuda:0'))\n",
      "score is tensor([[ 4.0000,  5.7188,  6.1562,  ..., -0.1562, -0.1562, -3.1719]],\n",
      "       device='cuda:0')\n",
      "logits is [[0.73062444 0.1735385  0.09583706]]\n"
     ]
    },
    {
     "name": "stderr",
     "output_type": "stream",
     "text": [
      "The attention mask and the pad token id were not set. As a consequence, you may observe unexpected behavior. Please pass your input's `attention_mask` to obtain reliable results.\n",
      "Setting `pad_token_id` to `eos_token_id`:128001 for open-end generation.\n",
      " 44%|████▍     | 221/501 [01:35<02:38,  1.77it/s]The attention mask and the pad token id were not set. As a consequence, you may observe unexpected behavior. Please pass your input's `attention_mask` to obtain reliable results.\n",
      "Setting `pad_token_id` to `eos_token_id`:128001 for open-end generation.\n"
     ]
    },
    {
     "name": "stdout",
     "output_type": "stream",
     "text": [
      "score (tensor([[ 4.2500,  5.4688,  7.6562,  ..., -3.9219, -3.9219, -1.4375]],\n",
      "       device='cuda:0'), tensor([[ 4.8125,  6.1875,  8.5625,  ..., -1.5391, -1.5391, -1.4219]],\n",
      "       device='cuda:0'))\n",
      "score is tensor([[ 4.2500,  5.4688,  7.6562,  ..., -3.9219, -3.9219, -1.4375]],\n",
      "       device='cuda:0')\n",
      "logits is [[0.49652177 0.411631   0.09184729]]\n"
     ]
    },
    {
     "name": "stderr",
     "output_type": "stream",
     "text": [
      " 44%|████▍     | 222/501 [01:35<02:15,  2.05it/s]"
     ]
    },
    {
     "name": "stdout",
     "output_type": "stream",
     "text": [
      "score (tensor([[ 4.5938,  5.5625,  7.1250,  ..., -3.4688, -3.4688,  0.5195]],\n",
      "       device='cuda:0'), tensor([[ 4.3125,  6.0625,  7.8438,  ...,  0.2812,  0.2812, -1.2422]],\n",
      "       device='cuda:0'))\n",
      "score is tensor([[ 4.5938,  5.5625,  7.1250,  ..., -3.4688, -3.4688,  0.5195]],\n",
      "       device='cuda:0')\n",
      "logits is [[0.357897   0.21039681 0.43170622]]\n"
     ]
    },
    {
     "name": "stderr",
     "output_type": "stream",
     "text": [
      "The attention mask and the pad token id were not set. As a consequence, you may observe unexpected behavior. Please pass your input's `attention_mask` to obtain reliable results.\n",
      "Setting `pad_token_id` to `eos_token_id`:128001 for open-end generation.\n",
      " 45%|████▍     | 223/501 [01:36<02:27,  1.88it/s]"
     ]
    },
    {
     "name": "stdout",
     "output_type": "stream",
     "text": [
      "score (tensor([[ 3.6250,  5.4062,  6.4375,  ..., -2.6719, -2.6719, -0.9180]],\n",
      "       device='cuda:0'), tensor([[ 4.1250,  5.5938,  7.4062,  ...,  0.2891,  0.2891, -2.7656]],\n",
      "       device='cuda:0'))\n",
      "score is tensor([[ 3.6250,  5.4062,  6.4375,  ..., -2.6719, -2.6719, -0.9180]],\n",
      "       device='cuda:0')\n",
      "logits is [[0.62452495 0.24456748 0.13090754]]\n"
     ]
    },
    {
     "name": "stderr",
     "output_type": "stream",
     "text": [
      "The attention mask and the pad token id were not set. As a consequence, you may observe unexpected behavior. Please pass your input's `attention_mask` to obtain reliable results.\n",
      "Setting `pad_token_id` to `eos_token_id`:128001 for open-end generation.\n",
      " 45%|████▍     | 224/501 [01:36<02:30,  1.84it/s]The attention mask and the pad token id were not set. As a consequence, you may observe unexpected behavior. Please pass your input's `attention_mask` to obtain reliable results.\n",
      "Setting `pad_token_id` to `eos_token_id`:128001 for open-end generation.\n"
     ]
    },
    {
     "name": "stdout",
     "output_type": "stream",
     "text": [
      "score (tensor([[ 4.4688,  6.6562,  6.5625,  ..., -5.3438, -5.3438, -1.7109]],\n",
      "       device='cuda:0'), tensor([[ 5.0625,  7.1562,  8.1875,  ..., -0.8906, -0.8906, -0.8164]],\n",
      "       device='cuda:0'))\n",
      "score is tensor([[ 4.4688,  6.6562,  6.5625,  ..., -5.3438, -5.3438, -1.7109]],\n",
      "       device='cuda:0')\n",
      "logits is [[0.3572332  0.40479824 0.2379686 ]]\n"
     ]
    },
    {
     "name": "stderr",
     "output_type": "stream",
     "text": [
      " 45%|████▍     | 225/501 [01:37<02:13,  2.06it/s]The attention mask and the pad token id were not set. As a consequence, you may observe unexpected behavior. Please pass your input's `attention_mask` to obtain reliable results.\n",
      "Setting `pad_token_id` to `eos_token_id`:128001 for open-end generation.\n"
     ]
    },
    {
     "name": "stdout",
     "output_type": "stream",
     "text": [
      "score (tensor([[ 4.8125,  5.7500,  7.2500,  ..., -3.7812, -3.7812,  1.9531]],\n",
      "       device='cuda:0'), tensor([[ 4.1875,  6.2188,  8.0000,  ..., -0.4707, -0.4707,  0.9844]],\n",
      "       device='cuda:0'))\n",
      "score is tensor([[ 4.8125,  5.7500,  7.2500,  ..., -3.7812, -3.7812,  1.9531]],\n",
      "       device='cuda:0')\n",
      "logits is [[0.38806382 0.17220227 0.43973392]]\n"
     ]
    },
    {
     "name": "stderr",
     "output_type": "stream",
     "text": [
      " 45%|████▌     | 226/501 [01:37<01:54,  2.40it/s]The attention mask and the pad token id were not set. As a consequence, you may observe unexpected behavior. Please pass your input's `attention_mask` to obtain reliable results.\n",
      "Setting `pad_token_id` to `eos_token_id`:128001 for open-end generation.\n"
     ]
    },
    {
     "name": "stdout",
     "output_type": "stream",
     "text": [
      "score (tensor([[ 4.6250,  5.3750,  6.8438,  ..., -3.5938, -3.5938, -2.7969]],\n",
      "       device='cuda:0'), tensor([[ 4.1875,  5.9688,  7.5625,  ...,  1.0859,  1.0859, -2.5781]],\n",
      "       device='cuda:0'))\n",
      "score is tensor([[ 4.6250,  5.3750,  6.8438,  ..., -3.5938, -3.5938, -2.7969]],\n",
      "       device='cuda:0')\n",
      "logits is [[0.44770426 0.3597405  0.1925552 ]]\n"
     ]
    },
    {
     "name": "stderr",
     "output_type": "stream",
     "text": [
      " 45%|████▌     | 227/501 [01:37<01:41,  2.69it/s]The attention mask and the pad token id were not set. As a consequence, you may observe unexpected behavior. Please pass your input's `attention_mask` to obtain reliable results.\n",
      "Setting `pad_token_id` to `eos_token_id`:128001 for open-end generation.\n"
     ]
    },
    {
     "name": "stdout",
     "output_type": "stream",
     "text": [
      "score (tensor([[ 4.2812,  6.1250,  6.5625,  ..., -1.8750, -1.8750, -2.0938]],\n",
      "       device='cuda:0'), tensor([[ 2.6562,  5.5312,  6.0625,  ...,  3.9375,  3.9375, -2.6094]],\n",
      "       device='cuda:0'))\n",
      "score is tensor([[ 4.2812,  6.1250,  6.5625,  ..., -1.8750, -1.8750, -2.0938]],\n",
      "       device='cuda:0')\n",
      "logits is [[0.6212067  0.23578347 0.1430099 ]]\n"
     ]
    },
    {
     "name": "stderr",
     "output_type": "stream",
     "text": [
      " 46%|████▌     | 228/501 [01:38<01:36,  2.84it/s]"
     ]
    },
    {
     "name": "stdout",
     "output_type": "stream",
     "text": [
      "score (tensor([[ 4.5938,  4.8125,  6.4375,  ..., -3.2656, -3.2656, -2.5781]],\n",
      "       device='cuda:0'), tensor([[ 2.8750,  3.2500,  7.3438,  ...,  1.1406,  1.1406, -1.8828]],\n",
      "       device='cuda:0'))\n",
      "score is tensor([[ 4.5938,  4.8125,  6.4375,  ..., -3.2656, -3.2656, -2.5781]],\n",
      "       device='cuda:0')\n",
      "logits is [[0.21242206 0.7186146  0.06896335]]\n"
     ]
    },
    {
     "name": "stderr",
     "output_type": "stream",
     "text": [
      "The attention mask and the pad token id were not set. As a consequence, you may observe unexpected behavior. Please pass your input's `attention_mask` to obtain reliable results.\n",
      "Setting `pad_token_id` to `eos_token_id`:128001 for open-end generation.\n",
      " 46%|████▌     | 229/501 [01:38<02:12,  2.05it/s]"
     ]
    },
    {
     "name": "stdout",
     "output_type": "stream",
     "text": [
      "score (tensor([[ 4.8438,  5.3125,  8.0000,  ..., -5.1875, -5.1875, -3.6875]],\n",
      "       device='cuda:0'), tensor([[ 4.3750,  6.7188,  8.5625,  ...,  0.7500,  0.7500, -1.3516]],\n",
      "       device='cuda:0'))\n",
      "score is tensor([[ 4.8438,  5.3125,  8.0000,  ..., -5.1875, -5.1875, -3.6875]],\n",
      "       device='cuda:0')\n",
      "logits is [[0.38823435 0.37628964 0.23547603]]\n"
     ]
    },
    {
     "name": "stderr",
     "output_type": "stream",
     "text": [
      "The attention mask and the pad token id were not set. As a consequence, you may observe unexpected behavior. Please pass your input's `attention_mask` to obtain reliable results.\n",
      "Setting `pad_token_id` to `eos_token_id`:128001 for open-end generation.\n",
      " 46%|████▌     | 230/501 [01:39<02:20,  1.93it/s]The attention mask and the pad token id were not set. As a consequence, you may observe unexpected behavior. Please pass your input's `attention_mask` to obtain reliable results.\n",
      "Setting `pad_token_id` to `eos_token_id`:128001 for open-end generation.\n"
     ]
    },
    {
     "name": "stdout",
     "output_type": "stream",
     "text": [
      "score (tensor([[ 4.2188,  5.3125,  5.7188,  ..., -4.7188, -4.7188, -0.2227]],\n",
      "       device='cuda:0'), tensor([[ 4.4688,  6.0625,  7.8125,  ..., -2.9688, -2.9688, -1.0078]],\n",
      "       device='cuda:0'))\n",
      "score is tensor([[ 4.2188,  5.3125,  5.7188,  ..., -4.7188, -4.7188, -0.2227]],\n",
      "       device='cuda:0')\n",
      "logits is [[0.37238392 0.42196625 0.20564993]]\n"
     ]
    },
    {
     "name": "stderr",
     "output_type": "stream",
     "text": [
      " 46%|████▌     | 231/501 [01:39<02:11,  2.06it/s]The attention mask and the pad token id were not set. As a consequence, you may observe unexpected behavior. Please pass your input's `attention_mask` to obtain reliable results.\n",
      "Setting `pad_token_id` to `eos_token_id`:128001 for open-end generation.\n"
     ]
    },
    {
     "name": "stdout",
     "output_type": "stream",
     "text": [
      "score (tensor([[ 4.6250,  5.5625,  7.1875,  ..., -5.9688, -5.9688, -0.6445]],\n",
      "       device='cuda:0'), tensor([[ 3.0781,  4.5938,  7.3125,  ...,  2.5156,  2.5156, -3.0781]],\n",
      "       device='cuda:0'))\n",
      "score is tensor([[ 4.6250,  5.5625,  7.1875,  ..., -5.9688, -5.9688, -0.6445]],\n",
      "       device='cuda:0')\n",
      "logits is [[0.46588656 0.35166964 0.1824438 ]]\n"
     ]
    },
    {
     "name": "stderr",
     "output_type": "stream",
     "text": [
      " 46%|████▋     | 232/501 [01:40<02:07,  2.11it/s]The attention mask and the pad token id were not set. As a consequence, you may observe unexpected behavior. Please pass your input's `attention_mask` to obtain reliable results.\n",
      "Setting `pad_token_id` to `eos_token_id`:128001 for open-end generation.\n"
     ]
    },
    {
     "name": "stdout",
     "output_type": "stream",
     "text": [
      "score (tensor([[ 3.9844,  5.8438,  6.7812,  ..., -4.7812, -4.7812, -2.1875]],\n",
      "       device='cuda:0'), tensor([[ 4.3125,  6.2500,  7.8438,  ..., -0.0354, -0.0354, -2.1719]],\n",
      "       device='cuda:0'))\n",
      "score is tensor([[ 3.9844,  5.8438,  6.7812,  ..., -4.7812, -4.7812, -2.1875]],\n",
      "       device='cuda:0')\n",
      "logits is [[0.29049975 0.50984293 0.19965735]]\n"
     ]
    },
    {
     "name": "stderr",
     "output_type": "stream",
     "text": [
      " 47%|████▋     | 233/501 [01:40<01:50,  2.43it/s]The attention mask and the pad token id were not set. As a consequence, you may observe unexpected behavior. Please pass your input's `attention_mask` to obtain reliable results.\n",
      "Setting `pad_token_id` to `eos_token_id`:128001 for open-end generation.\n"
     ]
    },
    {
     "name": "stdout",
     "output_type": "stream",
     "text": [
      "score (tensor([[ 4.1875,  5.7812,  6.4688,  ..., -5.4062, -5.4062, -0.3398]],\n",
      "       device='cuda:0'), tensor([[ 4.1250,  5.7188,  7.2812,  ...,  1.9375,  1.9375, -1.8984]],\n",
      "       device='cuda:0'))\n",
      "score is tensor([[ 4.1875,  5.7812,  6.4688,  ..., -5.4062, -5.4062, -0.3398]],\n",
      "       device='cuda:0')\n",
      "logits is [[0.19905038 0.4926544  0.30829528]]\n"
     ]
    },
    {
     "name": "stderr",
     "output_type": "stream",
     "text": [
      " 47%|████▋     | 234/501 [01:41<01:53,  2.36it/s]"
     ]
    },
    {
     "name": "stdout",
     "output_type": "stream",
     "text": [
      "score (tensor([[ 3.7344,  5.7500,  5.8438,  ..., -4.4375, -4.4375, -0.8242]],\n",
      "       device='cuda:0'), tensor([[ 4.3438,  5.9062,  7.6875,  ...,  0.0742,  0.0742, -2.2031]],\n",
      "       device='cuda:0'))\n",
      "score is tensor([[ 3.7344,  5.7500,  5.8438,  ..., -4.4375, -4.4375, -0.8242]],\n",
      "       device='cuda:0')\n",
      "logits is [[0.397406   0.32946113 0.2731329 ]]\n"
     ]
    },
    {
     "name": "stderr",
     "output_type": "stream",
     "text": [
      "The attention mask and the pad token id were not set. As a consequence, you may observe unexpected behavior. Please pass your input's `attention_mask` to obtain reliable results.\n",
      "Setting `pad_token_id` to `eos_token_id`:128001 for open-end generation.\n",
      " 47%|████▋     | 235/501 [01:41<02:06,  2.11it/s]The attention mask and the pad token id were not set. As a consequence, you may observe unexpected behavior. Please pass your input's `attention_mask` to obtain reliable results.\n",
      "Setting `pad_token_id` to `eos_token_id`:128001 for open-end generation.\n"
     ]
    },
    {
     "name": "stdout",
     "output_type": "stream",
     "text": [
      "score (tensor([[ 4.1250,  5.7188,  6.9062,  ..., -4.6875, -4.6875, -1.4766]],\n",
      "       device='cuda:0'), tensor([[ 4.2500,  5.5312,  7.8750,  ..., -3.3281, -3.3281, -1.7500]],\n",
      "       device='cuda:0'))\n",
      "score is tensor([[ 4.1250,  5.7188,  6.9062,  ..., -4.6875, -4.6875, -1.4766]],\n",
      "       device='cuda:0')\n",
      "logits is [[0.35986796 0.40778384 0.23234823]]\n"
     ]
    },
    {
     "name": "stderr",
     "output_type": "stream",
     "text": [
      " 47%|████▋     | 236/501 [01:42<01:52,  2.36it/s]The attention mask and the pad token id were not set. As a consequence, you may observe unexpected behavior. Please pass your input's `attention_mask` to obtain reliable results.\n",
      "Setting `pad_token_id` to `eos_token_id`:128001 for open-end generation.\n"
     ]
    },
    {
     "name": "stdout",
     "output_type": "stream",
     "text": [
      "score (tensor([[ 4.7500,  5.2188,  6.1562,  ..., -0.3359, -0.3359,  0.2773]],\n",
      "       device='cuda:0'), tensor([[ 4.2188,  5.5312,  7.5625,  ...,  1.0391,  1.0391, -0.7539]],\n",
      "       device='cuda:0'))\n",
      "score is tensor([[ 4.7500,  5.2188,  6.1562,  ..., -0.3359, -0.3359,  0.2773]],\n",
      "       device='cuda:0')\n",
      "logits is [[0.71751595 0.17583483 0.10664922]]\n"
     ]
    },
    {
     "name": "stderr",
     "output_type": "stream",
     "text": [
      " 47%|████▋     | 237/501 [01:42<01:36,  2.72it/s]The attention mask and the pad token id were not set. As a consequence, you may observe unexpected behavior. Please pass your input's `attention_mask` to obtain reliable results.\n",
      "Setting `pad_token_id` to `eos_token_id`:128001 for open-end generation.\n"
     ]
    },
    {
     "name": "stdout",
     "output_type": "stream",
     "text": [
      "score (tensor([[ 4.6562,  5.5000,  6.8125,  ..., -3.6875, -3.6875, -1.4141]],\n",
      "       device='cuda:0'), tensor([[ 5.0938,  5.8125,  7.5625,  ...,  0.8750,  0.8750, -2.7969]],\n",
      "       device='cuda:0'))\n",
      "score is tensor([[ 4.6562,  5.5000,  6.8125,  ..., -3.6875, -3.6875, -1.4141]],\n",
      "       device='cuda:0')\n",
      "logits is [[0.5968265  0.28192088 0.12125266]]\n"
     ]
    },
    {
     "name": "stderr",
     "output_type": "stream",
     "text": [
      " 48%|████▊     | 238/501 [01:42<01:28,  2.98it/s]The attention mask and the pad token id were not set. As a consequence, you may observe unexpected behavior. Please pass your input's `attention_mask` to obtain reliable results.\n",
      "Setting `pad_token_id` to `eos_token_id`:128001 for open-end generation.\n"
     ]
    },
    {
     "name": "stdout",
     "output_type": "stream",
     "text": [
      "score (tensor([[ 4.0625,  5.3438,  6.8125,  ..., -3.7656, -3.7656, -0.8281]],\n",
      "       device='cuda:0'), tensor([[ 3.9844,  5.5000,  7.0625,  ...,  1.6406,  1.6406, -2.0625]],\n",
      "       device='cuda:0'))\n",
      "score is tensor([[ 4.0625,  5.3438,  6.8125,  ..., -3.7656, -3.7656, -0.8281]],\n",
      "       device='cuda:0')\n",
      "logits is [[0.6757738  0.24095456 0.08327167]]\n"
     ]
    },
    {
     "name": "stderr",
     "output_type": "stream",
     "text": [
      " 48%|████▊     | 239/501 [01:42<01:21,  3.20it/s]The attention mask and the pad token id were not set. As a consequence, you may observe unexpected behavior. Please pass your input's `attention_mask` to obtain reliable results.\n",
      "Setting `pad_token_id` to `eos_token_id`:128001 for open-end generation.\n"
     ]
    },
    {
     "name": "stdout",
     "output_type": "stream",
     "text": [
      "score (tensor([[ 5.0000,  5.3438,  6.9375,  ..., -1.5078, -1.5078, -2.3906]],\n",
      "       device='cuda:0'), tensor([[ 4.0312,  5.1250,  7.0938,  ...,  1.1250,  1.1250, -1.8828]],\n",
      "       device='cuda:0'))\n",
      "score is tensor([[ 5.0000,  5.3438,  6.9375,  ..., -1.5078, -1.5078, -2.3906]],\n",
      "       device='cuda:0')\n",
      "logits is [[0.5845653  0.26763347 0.14780125]]\n"
     ]
    },
    {
     "name": "stderr",
     "output_type": "stream",
     "text": [
      " 48%|████▊     | 240/501 [01:43<01:17,  3.35it/s]The attention mask and the pad token id were not set. As a consequence, you may observe unexpected behavior. Please pass your input's `attention_mask` to obtain reliable results.\n",
      "Setting `pad_token_id` to `eos_token_id`:128001 for open-end generation.\n"
     ]
    },
    {
     "name": "stdout",
     "output_type": "stream",
     "text": [
      "score (tensor([[ 4.5625,  5.2188,  6.3750,  ..., -3.7188, -3.7188, -1.2344]],\n",
      "       device='cuda:0'), tensor([[ 3.9531,  5.4688,  7.0625,  ...,  0.7031,  0.7031, -1.6016]],\n",
      "       device='cuda:0'))\n",
      "score is tensor([[ 4.5625,  5.2188,  6.3750,  ..., -3.7188, -3.7188, -1.2344]],\n",
      "       device='cuda:0')\n",
      "logits is [[0.61041635 0.31667984 0.07290384]]\n"
     ]
    },
    {
     "name": "stderr",
     "output_type": "stream",
     "text": [
      " 48%|████▊     | 241/501 [01:43<01:14,  3.48it/s]The attention mask and the pad token id were not set. As a consequence, you may observe unexpected behavior. Please pass your input's `attention_mask` to obtain reliable results.\n",
      "Setting `pad_token_id` to `eos_token_id`:128001 for open-end generation.\n"
     ]
    },
    {
     "name": "stdout",
     "output_type": "stream",
     "text": [
      "score (tensor([[ 5.0312,  5.3438,  6.9062,  ..., -1.6406, -1.6406, -2.2656]],\n",
      "       device='cuda:0'), tensor([[ 4.0625,  5.2812,  7.0625,  ...,  1.3281,  1.3281, -1.7812]],\n",
      "       device='cuda:0'))\n",
      "score is tensor([[ 5.0312,  5.3438,  6.9062,  ..., -1.6406, -1.6406, -2.2656]],\n",
      "       device='cuda:0')\n",
      "logits is [[0.6754106  0.199651   0.12493841]]\n"
     ]
    },
    {
     "name": "stderr",
     "output_type": "stream",
     "text": [
      " 48%|████▊     | 242/501 [01:43<01:12,  3.58it/s]The attention mask and the pad token id were not set. As a consequence, you may observe unexpected behavior. Please pass your input's `attention_mask` to obtain reliable results.\n",
      "Setting `pad_token_id` to `eos_token_id`:128001 for open-end generation.\n"
     ]
    },
    {
     "name": "stdout",
     "output_type": "stream",
     "text": [
      "score (tensor([[ 4.1562,  5.5000,  7.0938,  ..., -4.4062, -4.4062, -2.1562]],\n",
      "       device='cuda:0'), tensor([[ 4.3750,  5.7812,  7.5312,  ...,  1.5703,  1.5703, -2.2344]],\n",
      "       device='cuda:0'))\n",
      "score is tensor([[ 4.1562,  5.5000,  7.0938,  ..., -4.4062, -4.4062, -2.1562]],\n",
      "       device='cuda:0')\n",
      "logits is [[0.73067474 0.18474351 0.08458174]]\n"
     ]
    },
    {
     "name": "stderr",
     "output_type": "stream",
     "text": [
      " 49%|████▊     | 243/501 [01:43<01:11,  3.60it/s]The attention mask and the pad token id were not set. As a consequence, you may observe unexpected behavior. Please pass your input's `attention_mask` to obtain reliable results.\n",
      "Setting `pad_token_id` to `eos_token_id`:128001 for open-end generation.\n"
     ]
    },
    {
     "name": "stdout",
     "output_type": "stream",
     "text": [
      "score (tensor([[ 4.6562,  5.5000,  7.0625,  ..., -3.9688, -3.9688, -0.3125]],\n",
      "       device='cuda:0'), tensor([[ 4.4062,  5.8125,  7.5625,  ...,  1.2031,  1.2031, -1.1328]],\n",
      "       device='cuda:0'))\n",
      "score is tensor([[ 4.6562,  5.5000,  7.0625,  ..., -3.9688, -3.9688, -0.3125]],\n",
      "       device='cuda:0')\n",
      "logits is [[0.6319279  0.24746652 0.12060555]]\n"
     ]
    },
    {
     "name": "stderr",
     "output_type": "stream",
     "text": [
      " 49%|████▊     | 244/501 [01:44<01:15,  3.42it/s]The attention mask and the pad token id were not set. As a consequence, you may observe unexpected behavior. Please pass your input's `attention_mask` to obtain reliable results.\n",
      "Setting `pad_token_id` to `eos_token_id`:128001 for open-end generation.\n"
     ]
    },
    {
     "name": "stdout",
     "output_type": "stream",
     "text": [
      "score (tensor([[ 4.9375,  5.2500,  6.2500,  ..., -5.5000, -5.5000, -2.4375]],\n",
      "       device='cuda:0'), tensor([[ 3.3438,  4.4062,  6.3125,  ...,  2.6719,  2.6719, -2.6250]],\n",
      "       device='cuda:0'))\n",
      "score is tensor([[ 4.9375,  5.2500,  6.2500,  ..., -5.5000, -5.5000, -2.4375]],\n",
      "       device='cuda:0')\n",
      "logits is [[0.26229984 0.60986537 0.12783472]]\n"
     ]
    },
    {
     "name": "stderr",
     "output_type": "stream",
     "text": [
      " 49%|████▉     | 245/501 [01:44<01:17,  3.31it/s]The attention mask and the pad token id were not set. As a consequence, you may observe unexpected behavior. Please pass your input's `attention_mask` to obtain reliable results.\n",
      "Setting `pad_token_id` to `eos_token_id`:128001 for open-end generation.\n"
     ]
    },
    {
     "name": "stdout",
     "output_type": "stream",
     "text": [
      "score (tensor([[ 4.4062,  5.5625,  6.9688,  ..., -3.8594, -3.8594, -1.5859]],\n",
      "       device='cuda:0'), tensor([[ 4.1562,  6.3125,  7.8125,  ...,  0.6602,  0.6602, -2.0469]],\n",
      "       device='cuda:0'))\n",
      "score is tensor([[ 4.4062,  5.5625,  6.9688,  ..., -3.8594, -3.8594, -1.5859]],\n",
      "       device='cuda:0')\n",
      "logits is [[0.40915665 0.435545   0.15529835]]\n"
     ]
    },
    {
     "name": "stderr",
     "output_type": "stream",
     "text": [
      " 49%|████▉     | 246/501 [01:44<01:27,  2.91it/s]The attention mask and the pad token id were not set. As a consequence, you may observe unexpected behavior. Please pass your input's `attention_mask` to obtain reliable results.\n",
      "Setting `pad_token_id` to `eos_token_id`:128001 for open-end generation.\n"
     ]
    },
    {
     "name": "stdout",
     "output_type": "stream",
     "text": [
      "score (tensor([[ 5.0625,  6.1875,  8.2500,  ..., -0.5664, -0.5664, -1.5391]],\n",
      "       device='cuda:0'), tensor([[ 4.6250,  6.0312,  7.9375,  ...,  1.6172,  1.6172, -2.0625]],\n",
      "       device='cuda:0'))\n",
      "score is tensor([[ 5.0625,  6.1875,  8.2500,  ..., -0.5664, -0.5664, -1.5391]],\n",
      "       device='cuda:0')\n",
      "logits is [[0.64608556 0.20975327 0.14416118]]\n"
     ]
    },
    {
     "name": "stderr",
     "output_type": "stream",
     "text": [
      " 49%|████▉     | 247/501 [01:45<01:25,  2.98it/s]The attention mask and the pad token id were not set. As a consequence, you may observe unexpected behavior. Please pass your input's `attention_mask` to obtain reliable results.\n",
      "Setting `pad_token_id` to `eos_token_id`:128001 for open-end generation.\n"
     ]
    },
    {
     "name": "stdout",
     "output_type": "stream",
     "text": [
      "score (tensor([[ 4.4688,  5.5000,  6.3125,  ..., -5.1562, -5.1562, -1.8203]],\n",
      "       device='cuda:0'), tensor([[ 4.4375,  5.9375,  8.2500,  ..., -2.5625, -2.5625, -1.3203]],\n",
      "       device='cuda:0'))\n",
      "score is tensor([[ 4.4688,  5.5000,  6.3125,  ..., -5.1562, -5.1562, -1.8203]],\n",
      "       device='cuda:0')\n",
      "logits is [[0.26724166 0.6213555  0.11140289]]\n"
     ]
    },
    {
     "name": "stderr",
     "output_type": "stream",
     "text": [
      " 50%|████▉     | 248/501 [01:45<01:23,  3.03it/s]The attention mask and the pad token id were not set. As a consequence, you may observe unexpected behavior. Please pass your input's `attention_mask` to obtain reliable results.\n",
      "Setting `pad_token_id` to `eos_token_id`:128001 for open-end generation.\n"
     ]
    },
    {
     "name": "stdout",
     "output_type": "stream",
     "text": [
      "score (tensor([[ 4.1875,  5.7812,  7.2188,  ..., -1.1406, -1.1406, -2.1094]],\n",
      "       device='cuda:0'), tensor([[ 4.4688,  5.7188,  8.0000,  ...,  1.0938,  1.0938, -2.2188]],\n",
      "       device='cuda:0'))\n",
      "score is tensor([[ 4.1875,  5.7812,  7.2188,  ..., -1.1406, -1.1406, -2.1094]],\n",
      "       device='cuda:0')\n",
      "logits is [[0.5560402  0.27959457 0.16436517]]\n"
     ]
    },
    {
     "name": "stderr",
     "output_type": "stream",
     "text": [
      " 50%|████▉     | 249/501 [01:45<01:22,  3.06it/s]The attention mask and the pad token id were not set. As a consequence, you may observe unexpected behavior. Please pass your input's `attention_mask` to obtain reliable results.\n",
      "Setting `pad_token_id` to `eos_token_id`:128001 for open-end generation.\n"
     ]
    },
    {
     "name": "stdout",
     "output_type": "stream",
     "text": [
      "score (tensor([[ 4.7812,  5.1562,  7.4688,  ..., -4.3750, -4.3750, -1.7344]],\n",
      "       device='cuda:0'), tensor([[ 5.1562,  5.8750,  7.9062,  ...,  0.5117,  0.5117, -1.4375]],\n",
      "       device='cuda:0'))\n",
      "score is tensor([[ 4.7812,  5.1562,  7.4688,  ..., -4.3750, -4.3750, -1.7344]],\n",
      "       device='cuda:0')\n",
      "logits is [[0.48418987 0.37708744 0.13872272]]\n"
     ]
    },
    {
     "name": "stderr",
     "output_type": "stream",
     "text": [
      " 50%|████▉     | 250/501 [01:46<01:21,  3.10it/s]The attention mask and the pad token id were not set. As a consequence, you may observe unexpected behavior. Please pass your input's `attention_mask` to obtain reliable results.\n",
      "Setting `pad_token_id` to `eos_token_id`:128001 for open-end generation.\n"
     ]
    },
    {
     "name": "stdout",
     "output_type": "stream",
     "text": [
      "score (tensor([[ 4.0938,  6.4375,  6.8438,  ..., -2.1562, -2.1562, -0.5508]],\n",
      "       device='cuda:0'), tensor([[ 4.1250,  6.4688,  7.0000,  ...,  1.2969,  1.2969, -1.8281]],\n",
      "       device='cuda:0'))\n",
      "score is tensor([[ 4.0938,  6.4375,  6.8438,  ..., -2.1562, -2.1562, -0.5508]],\n",
      "       device='cuda:0')\n",
      "logits is [[0.4094594  0.3846515  0.20588912]]\n"
     ]
    },
    {
     "name": "stderr",
     "output_type": "stream",
     "text": [
      " 50%|█████     | 251/501 [01:46<01:27,  2.86it/s]The attention mask and the pad token id were not set. As a consequence, you may observe unexpected behavior. Please pass your input's `attention_mask` to obtain reliable results.\n",
      "Setting `pad_token_id` to `eos_token_id`:128001 for open-end generation.\n"
     ]
    },
    {
     "name": "stdout",
     "output_type": "stream",
     "text": [
      "score (tensor([[ 5.6875,  6.1250,  7.6250,  ..., -4.0938, -4.0938, -1.0078]],\n",
      "       device='cuda:0'), tensor([[ 5.5625,  6.0000,  7.5000,  ...,  1.3516,  1.3516, -1.9297]],\n",
      "       device='cuda:0'))\n",
      "score is tensor([[ 5.6875,  6.1250,  7.6250,  ..., -4.0938, -4.0938, -1.0078]],\n",
      "       device='cuda:0')\n",
      "logits is [[0.617188   0.2003716  0.18244042]]\n"
     ]
    },
    {
     "name": "stderr",
     "output_type": "stream",
     "text": [
      " 50%|█████     | 252/501 [01:46<01:25,  2.91it/s]The attention mask and the pad token id were not set. As a consequence, you may observe unexpected behavior. Please pass your input's `attention_mask` to obtain reliable results.\n",
      "Setting `pad_token_id` to `eos_token_id`:128001 for open-end generation.\n"
     ]
    },
    {
     "name": "stdout",
     "output_type": "stream",
     "text": [
      "score (tensor([[ 4.5000,  5.4062,  6.2812,  ..., -3.4219, -3.4219,  0.5547]],\n",
      "       device='cuda:0'), tensor([[ 4.3438,  5.7188,  7.5625,  ...,  0.2158,  0.2158, -1.3828]],\n",
      "       device='cuda:0'))\n",
      "score is tensor([[ 4.5000,  5.4062,  6.2812,  ..., -3.4219, -3.4219,  0.5547]],\n",
      "       device='cuda:0')\n",
      "logits is [[0.35552257 0.4288421  0.21563534]]\n"
     ]
    },
    {
     "name": "stderr",
     "output_type": "stream",
     "text": [
      " 50%|█████     | 253/501 [01:47<01:23,  2.97it/s]The attention mask and the pad token id were not set. As a consequence, you may observe unexpected behavior. Please pass your input's `attention_mask` to obtain reliable results.\n",
      "Setting `pad_token_id` to `eos_token_id`:128001 for open-end generation.\n"
     ]
    },
    {
     "name": "stdout",
     "output_type": "stream",
     "text": [
      "score (tensor([[ 5.6250,  5.5938,  7.6875,  ..., -3.7188, -3.7188, -1.0000]],\n",
      "       device='cuda:0'), tensor([[ 4.4688,  5.8438,  8.0000,  ..., -0.4082, -0.4082, -0.5859]],\n",
      "       device='cuda:0'))\n",
      "score is tensor([[ 5.6250,  5.5938,  7.6875,  ..., -3.7188, -3.7188, -1.0000]],\n",
      "       device='cuda:0')\n",
      "logits is [[0.609461   0.287889   0.10264999]]\n"
     ]
    },
    {
     "name": "stderr",
     "output_type": "stream",
     "text": [
      " 51%|█████     | 254/501 [01:47<01:21,  3.02it/s]The attention mask and the pad token id were not set. As a consequence, you may observe unexpected behavior. Please pass your input's `attention_mask` to obtain reliable results.\n",
      "Setting `pad_token_id` to `eos_token_id`:128001 for open-end generation.\n"
     ]
    },
    {
     "name": "stdout",
     "output_type": "stream",
     "text": [
      "score (tensor([[ 4.8125,  5.7500,  6.4062,  ..., -4.6875, -4.6875,  1.5703]],\n",
      "       device='cuda:0'), tensor([[ 4.2812,  6.1875,  7.6875,  ..., -0.4023, -0.4023, -0.0422]],\n",
      "       device='cuda:0'))\n",
      "score is tensor([[ 4.8125,  5.7500,  6.4062,  ..., -4.6875, -4.6875,  1.5703]],\n",
      "       device='cuda:0')\n",
      "logits is [[0.54845476 0.24337533 0.20816995]]\n"
     ]
    },
    {
     "name": "stderr",
     "output_type": "stream",
     "text": [
      " 51%|█████     | 255/501 [01:47<01:22,  2.99it/s]The attention mask and the pad token id were not set. As a consequence, you may observe unexpected behavior. Please pass your input's `attention_mask` to obtain reliable results.\n",
      "Setting `pad_token_id` to `eos_token_id`:128001 for open-end generation.\n"
     ]
    },
    {
     "name": "stdout",
     "output_type": "stream",
     "text": [
      "score (tensor([[ 4.7812,  5.5938,  6.4688,  ..., -4.3125, -4.3125,  0.4746]],\n",
      "       device='cuda:0'), tensor([[ 4.0312,  5.6250,  7.5000,  ..., -1.4453, -1.4453, -0.1660]],\n",
      "       device='cuda:0'))\n",
      "score is tensor([[ 4.7812,  5.5938,  6.4688,  ..., -4.3125, -4.3125,  0.4746]],\n",
      "       device='cuda:0')\n",
      "logits is [[0.54831296 0.28446102 0.16722602]]\n"
     ]
    },
    {
     "name": "stderr",
     "output_type": "stream",
     "text": [
      " 51%|█████     | 256/501 [01:48<01:16,  3.19it/s]"
     ]
    },
    {
     "name": "stdout",
     "output_type": "stream",
     "text": [
      "score (tensor([[ 4.6875,  6.7500,  7.0312,  ..., -4.2812, -4.2812, -1.9453]],\n",
      "       device='cuda:0'), tensor([[ 4.5312,  6.8750,  7.7188,  ..., -2.6875, -2.6875, -1.2656]],\n",
      "       device='cuda:0'))\n",
      "score is tensor([[ 4.6875,  6.7500,  7.0312,  ..., -4.2812, -4.2812, -1.9453]],\n",
      "       device='cuda:0')\n",
      "logits is [[0.4995122  0.34330937 0.15717848]]\n"
     ]
    },
    {
     "name": "stderr",
     "output_type": "stream",
     "text": [
      "The attention mask and the pad token id were not set. As a consequence, you may observe unexpected behavior. Please pass your input's `attention_mask` to obtain reliable results.\n",
      "Setting `pad_token_id` to `eos_token_id`:128001 for open-end generation.\n",
      " 51%|█████▏    | 257/501 [01:48<01:49,  2.22it/s]"
     ]
    },
    {
     "name": "stdout",
     "output_type": "stream",
     "text": [
      "score (tensor([[ 4.0938,  5.2188,  5.9375,  ..., -4.0312, -4.0312, -1.5312]],\n",
      "       device='cuda:0'), tensor([[ 4.0000,  5.6875,  7.3125,  ...,  2.5938,  2.5938, -2.2344]],\n",
      "       device='cuda:0'))\n",
      "score is tensor([[ 4.0938,  5.2188,  5.9375,  ..., -4.0312, -4.0312, -1.5312]],\n",
      "       device='cuda:0')\n",
      "logits is [[0.21174665 0.6127092  0.17554414]]\n"
     ]
    },
    {
     "name": "stderr",
     "output_type": "stream",
     "text": [
      "The attention mask and the pad token id were not set. As a consequence, you may observe unexpected behavior. Please pass your input's `attention_mask` to obtain reliable results.\n",
      "Setting `pad_token_id` to `eos_token_id`:128001 for open-end generation.\n",
      " 51%|█████▏    | 258/501 [01:49<02:03,  1.96it/s]"
     ]
    },
    {
     "name": "stdout",
     "output_type": "stream",
     "text": [
      "score (tensor([[ 5.3750,  5.9688,  6.9688,  ..., -5.2812, -5.2812,  0.7188]],\n",
      "       device='cuda:0'), tensor([[ 5.0938,  5.8750,  8.1875,  ..., -1.7812, -1.7812, -0.2812]],\n",
      "       device='cuda:0'))\n",
      "score is tensor([[ 5.3750,  5.9688,  6.9688,  ..., -5.2812, -5.2812,  0.7188]],\n",
      "       device='cuda:0')\n",
      "logits is [[0.38595408 0.43734327 0.17670265]]\n"
     ]
    },
    {
     "name": "stderr",
     "output_type": "stream",
     "text": [
      "The attention mask and the pad token id were not set. As a consequence, you may observe unexpected behavior. Please pass your input's `attention_mask` to obtain reliable results.\n",
      "Setting `pad_token_id` to `eos_token_id`:128001 for open-end generation.\n",
      " 52%|█████▏    | 259/501 [01:50<02:02,  1.98it/s]The attention mask and the pad token id were not set. As a consequence, you may observe unexpected behavior. Please pass your input's `attention_mask` to obtain reliable results.\n",
      "Setting `pad_token_id` to `eos_token_id`:128001 for open-end generation.\n"
     ]
    },
    {
     "name": "stdout",
     "output_type": "stream",
     "text": [
      "score (tensor([[ 6.0938,  4.8750,  6.5312,  ..., -3.2656, -3.2656, -2.3438]],\n",
      "       device='cuda:0'), tensor([[ 4.4375,  5.0625,  7.5938,  ...,  1.7344,  1.7344, -1.7734]],\n",
      "       device='cuda:0'))\n",
      "score is tensor([[ 6.0938,  4.8750,  6.5312,  ..., -3.2656, -3.2656, -2.3438]],\n",
      "       device='cuda:0')\n",
      "logits is [[0.4629444  0.44870108 0.08835448]]\n"
     ]
    },
    {
     "name": "stderr",
     "output_type": "stream",
     "text": [
      " 52%|█████▏    | 260/501 [01:50<01:44,  2.30it/s]"
     ]
    },
    {
     "name": "stdout",
     "output_type": "stream",
     "text": [
      "score (tensor([[ 4.5312,  5.4062,  6.0312,  ...,  0.1787,  0.1787, -2.0781]],\n",
      "       device='cuda:0'), tensor([[ 4.1875,  5.4688,  7.1875,  ..., -0.8867, -0.8867, -0.3770]],\n",
      "       device='cuda:0'))\n",
      "score is tensor([[ 4.5312,  5.4062,  6.0312,  ...,  0.1787,  0.1787, -2.0781]],\n",
      "       device='cuda:0')\n",
      "logits is [[0.49318996 0.2810112  0.22579882]]\n"
     ]
    },
    {
     "name": "stderr",
     "output_type": "stream",
     "text": [
      "The attention mask and the pad token id were not set. As a consequence, you may observe unexpected behavior. Please pass your input's `attention_mask` to obtain reliable results.\n",
      "Setting `pad_token_id` to `eos_token_id`:128001 for open-end generation.\n",
      " 52%|█████▏    | 261/501 [01:50<01:55,  2.07it/s]"
     ]
    },
    {
     "name": "stdout",
     "output_type": "stream",
     "text": [
      "score (tensor([[ 5.2188,  5.0625,  7.3125,  ..., -5.8438, -5.8438, -2.1094]],\n",
      "       device='cuda:0'), tensor([[ 6.0000,  5.5938,  8.8750,  ..., -0.7812, -0.7812, -3.1562]],\n",
      "       device='cuda:0'))\n",
      "score is tensor([[ 5.2188,  5.0625,  7.3125,  ..., -5.8438, -5.8438, -2.1094]],\n",
      "       device='cuda:0')\n",
      "logits is [[0.470723   0.36659944 0.16267753]]\n"
     ]
    },
    {
     "name": "stderr",
     "output_type": "stream",
     "text": [
      "The attention mask and the pad token id were not set. As a consequence, you may observe unexpected behavior. Please pass your input's `attention_mask` to obtain reliable results.\n",
      "Setting `pad_token_id` to `eos_token_id`:128001 for open-end generation.\n",
      " 52%|█████▏    | 262/501 [01:51<02:03,  1.93it/s]"
     ]
    },
    {
     "name": "stdout",
     "output_type": "stream",
     "text": [
      "score (tensor([[4.1562, 5.7812, 6.2188,  ..., 0.7461, 0.7461, 0.1113]],\n",
      "       device='cuda:0'), tensor([[ 3.9531,  4.8125,  6.2500,  ...,  0.5430,  0.5430, -1.8125]],\n",
      "       device='cuda:0'))\n",
      "score is tensor([[4.1562, 5.7812, 6.2188,  ..., 0.7461, 0.7461, 0.1113]],\n",
      "       device='cuda:0')\n",
      "logits is [[0.5784731  0.23372425 0.18780272]]\n"
     ]
    },
    {
     "name": "stderr",
     "output_type": "stream",
     "text": [
      "The attention mask and the pad token id were not set. As a consequence, you may observe unexpected behavior. Please pass your input's `attention_mask` to obtain reliable results.\n",
      "Setting `pad_token_id` to `eos_token_id`:128001 for open-end generation.\n",
      " 52%|█████▏    | 263/501 [01:52<02:06,  1.88it/s]The attention mask and the pad token id were not set. As a consequence, you may observe unexpected behavior. Please pass your input's `attention_mask` to obtain reliable results.\n",
      "Setting `pad_token_id` to `eos_token_id`:128001 for open-end generation.\n"
     ]
    },
    {
     "name": "stdout",
     "output_type": "stream",
     "text": [
      "score (tensor([[ 5.3125,  7.4062,  7.2188,  ...,  0.1934,  0.1934, -0.3672]],\n",
      "       device='cuda:0'), tensor([[ 4.4375,  6.7188,  7.0938,  ...,  1.7734,  1.7734, -1.8516]],\n",
      "       device='cuda:0'))\n",
      "score is tensor([[ 5.3125,  7.4062,  7.2188,  ...,  0.1934,  0.1934, -0.3672]],\n",
      "       device='cuda:0')\n",
      "logits is [[0.6076924  0.22355755 0.16875009]]\n"
     ]
    },
    {
     "name": "stderr",
     "output_type": "stream",
     "text": [
      " 53%|█████▎    | 264/501 [01:52<01:59,  1.98it/s]The attention mask and the pad token id were not set. As a consequence, you may observe unexpected behavior. Please pass your input's `attention_mask` to obtain reliable results.\n",
      "Setting `pad_token_id` to `eos_token_id`:128001 for open-end generation.\n"
     ]
    },
    {
     "name": "stdout",
     "output_type": "stream",
     "text": [
      "score (tensor([[ 5.0625,  6.0625,  7.5938,  ..., -0.7422, -0.7422, -0.6797]],\n",
      "       device='cuda:0'), tensor([[ 4.4375,  5.3750,  7.0625,  ...,  2.8281,  2.8281, -1.1875]],\n",
      "       device='cuda:0'))\n",
      "score is tensor([[ 5.0625,  6.0625,  7.5938,  ..., -0.7422, -0.7422, -0.6797]],\n",
      "       device='cuda:0')\n",
      "logits is [[0.5796604  0.2003253  0.22001427]]\n"
     ]
    },
    {
     "name": "stderr",
     "output_type": "stream",
     "text": [
      " 53%|█████▎    | 265/501 [01:52<01:38,  2.38it/s]"
     ]
    },
    {
     "name": "stdout",
     "output_type": "stream",
     "text": [
      "score (tensor([[ 4.7188,  5.2812,  6.4062,  ..., -5.5625, -5.5625, -1.5391]],\n",
      "       device='cuda:0'), tensor([[ 3.2188,  4.3750,  6.7500,  ...,  1.3828,  1.3828, -2.1719]],\n",
      "       device='cuda:0'))\n",
      "score is tensor([[ 4.7188,  5.2812,  6.4062,  ..., -5.5625, -5.5625, -1.5391]],\n",
      "       device='cuda:0')\n",
      "logits is [[0.41819802 0.5044431  0.07735886]]\n"
     ]
    },
    {
     "name": "stderr",
     "output_type": "stream",
     "text": [
      "The attention mask and the pad token id were not set. As a consequence, you may observe unexpected behavior. Please pass your input's `attention_mask` to obtain reliable results.\n",
      "Setting `pad_token_id` to `eos_token_id`:128001 for open-end generation.\n",
      " 53%|█████▎    | 266/501 [01:53<01:48,  2.16it/s]The attention mask and the pad token id were not set. As a consequence, you may observe unexpected behavior. Please pass your input's `attention_mask` to obtain reliable results.\n",
      "Setting `pad_token_id` to `eos_token_id`:128001 for open-end generation.\n"
     ]
    },
    {
     "name": "stdout",
     "output_type": "stream",
     "text": [
      "score (tensor([[ 4.0938,  6.2188,  6.1250,  ..., -4.6875, -4.6875, -1.5469]],\n",
      "       device='cuda:0'), tensor([[ 4.4375,  6.7812,  7.3125,  ...,  1.5938,  1.5938, -2.9531]],\n",
      "       device='cuda:0'))\n",
      "score is tensor([[ 4.0938,  6.2188,  6.1250,  ..., -4.6875, -4.6875, -1.5469]],\n",
      "       device='cuda:0')\n",
      "logits is [[0.39278165 0.36898422 0.23823412]]\n"
     ]
    },
    {
     "name": "stderr",
     "output_type": "stream",
     "text": [
      " 53%|█████▎    | 267/501 [01:53<01:46,  2.19it/s]The attention mask and the pad token id were not set. As a consequence, you may observe unexpected behavior. Please pass your input's `attention_mask` to obtain reliable results.\n",
      "Setting `pad_token_id` to `eos_token_id`:128001 for open-end generation.\n"
     ]
    },
    {
     "name": "stdout",
     "output_type": "stream",
     "text": [
      "score (tensor([[ 5.5938,  5.7188,  8.3125,  ..., -2.3281, -2.3281,  0.0226]],\n",
      "       device='cuda:0'), tensor([[ 4.7188,  5.3438,  7.8750,  ...,  1.8047,  1.8047, -1.2109]],\n",
      "       device='cuda:0'))\n",
      "score is tensor([[ 5.5938,  5.7188,  8.3125,  ..., -2.3281, -2.3281,  0.0226]],\n",
      "       device='cuda:0')\n",
      "logits is [[0.5334     0.30392218 0.16267781]]\n"
     ]
    },
    {
     "name": "stderr",
     "output_type": "stream",
     "text": [
      " 53%|█████▎    | 268/501 [01:54<01:39,  2.35it/s]The attention mask and the pad token id were not set. As a consequence, you may observe unexpected behavior. Please pass your input's `attention_mask` to obtain reliable results.\n",
      "Setting `pad_token_id` to `eos_token_id`:128001 for open-end generation.\n"
     ]
    },
    {
     "name": "stdout",
     "output_type": "stream",
     "text": [
      "score (tensor([[ 4.7188,  5.8125,  6.5000,  ..., -3.2500, -3.2500,  0.9727]],\n",
      "       device='cuda:0'), tensor([[ 4.2812,  6.1250,  7.5625,  ...,  0.3711,  0.3711, -0.8398]],\n",
      "       device='cuda:0'))\n",
      "score is tensor([[ 4.7188,  5.8125,  6.5000,  ..., -3.2500, -3.2500,  0.9727]],\n",
      "       device='cuda:0')\n",
      "logits is [[0.54246247 0.17611177 0.28142583]]\n"
     ]
    },
    {
     "name": "stderr",
     "output_type": "stream",
     "text": [
      " 54%|█████▎    | 269/501 [01:54<01:39,  2.33it/s]"
     ]
    },
    {
     "name": "stdout",
     "output_type": "stream",
     "text": [
      "score (tensor([[ 4.2500,  4.8125,  5.9375,  ..., -2.9688, -2.9688, -0.5820]],\n",
      "       device='cuda:0'), tensor([[ 4.0000,  5.3750,  7.7188,  ...,  0.9961,  0.9961, -2.0938]],\n",
      "       device='cuda:0'))\n",
      "score is tensor([[ 4.2500,  4.8125,  5.9375,  ..., -2.9688, -2.9688, -0.5820]],\n",
      "       device='cuda:0')\n",
      "logits is [[0.41058323 0.34038544 0.24903132]]\n"
     ]
    },
    {
     "name": "stderr",
     "output_type": "stream",
     "text": [
      "The attention mask and the pad token id were not set. As a consequence, you may observe unexpected behavior. Please pass your input's `attention_mask` to obtain reliable results.\n",
      "Setting `pad_token_id` to `eos_token_id`:128001 for open-end generation.\n",
      " 54%|█████▍    | 270/501 [01:55<01:50,  2.08it/s]The attention mask and the pad token id were not set. As a consequence, you may observe unexpected behavior. Please pass your input's `attention_mask` to obtain reliable results.\n",
      "Setting `pad_token_id` to `eos_token_id`:128001 for open-end generation.\n"
     ]
    },
    {
     "name": "stdout",
     "output_type": "stream",
     "text": [
      "score (tensor([[ 4.9688,  6.0625,  7.2188,  ..., -4.8125, -4.8125, -5.5625]],\n",
      "       device='cuda:0'), tensor([[ 5.2812,  6.1250,  8.6875,  ..., -0.1914, -0.1914, -4.1250]],\n",
      "       device='cuda:0'))\n",
      "score is tensor([[ 4.9688,  6.0625,  7.2188,  ..., -4.8125, -4.8125, -5.5625]],\n",
      "       device='cuda:0')\n",
      "logits is [[0.49342442 0.39647767 0.11009787]]\n"
     ]
    },
    {
     "name": "stderr",
     "output_type": "stream",
     "text": [
      " 54%|█████▍    | 271/501 [01:55<01:45,  2.19it/s]"
     ]
    },
    {
     "name": "stdout",
     "output_type": "stream",
     "text": [
      "score (tensor([[ 4.3438,  5.5938,  6.0938,  ..., -4.2188, -4.2188,  0.7617]],\n",
      "       device='cuda:0'), tensor([[ 4.2188,  5.8750,  7.6250,  ..., -0.8711, -0.8711, -0.0157]],\n",
      "       device='cuda:0'))\n",
      "score is tensor([[ 4.3438,  5.5938,  6.0938,  ..., -4.2188, -4.2188,  0.7617]],\n",
      "       device='cuda:0')\n",
      "logits is [[0.5218896  0.2465232  0.23158711]]\n"
     ]
    },
    {
     "name": "stderr",
     "output_type": "stream",
     "text": [
      "The attention mask and the pad token id were not set. As a consequence, you may observe unexpected behavior. Please pass your input's `attention_mask` to obtain reliable results.\n",
      "Setting `pad_token_id` to `eos_token_id`:128001 for open-end generation.\n",
      " 54%|█████▍    | 272/501 [01:56<02:08,  1.78it/s]"
     ]
    },
    {
     "name": "stdout",
     "output_type": "stream",
     "text": [
      "score (tensor([[ 4.4062,  6.5312,  7.9062,  ..., -2.5469, -2.5469,  0.0894]],\n",
      "       device='cuda:0'), tensor([[5.5000, 7.1562, 8.1250,  ..., 2.4531, 2.4531, 0.3789]],\n",
      "       device='cuda:0'))\n",
      "score is tensor([[ 4.4062,  6.5312,  7.9062,  ..., -2.5469, -2.5469,  0.0894]],\n",
      "       device='cuda:0')\n",
      "logits is [[0.7221819  0.12163528 0.1561828 ]]\n"
     ]
    },
    {
     "name": "stderr",
     "output_type": "stream",
     "text": [
      "The attention mask and the pad token id were not set. As a consequence, you may observe unexpected behavior. Please pass your input's `attention_mask` to obtain reliable results.\n",
      "Setting `pad_token_id` to `eos_token_id`:128001 for open-end generation.\n",
      " 54%|█████▍    | 273/501 [01:57<02:21,  1.61it/s]The attention mask and the pad token id were not set. As a consequence, you may observe unexpected behavior. Please pass your input's `attention_mask` to obtain reliable results.\n",
      "Setting `pad_token_id` to `eos_token_id`:128001 for open-end generation.\n"
     ]
    },
    {
     "name": "stdout",
     "output_type": "stream",
     "text": [
      "score (tensor([[ 5.3750,  6.2500,  7.8750,  ..., -4.3750, -4.3750, -0.5430]],\n",
      "       device='cuda:0'), tensor([[ 4.9062,  6.0312,  8.4375,  ...,  2.3906,  2.3906, -0.9062]],\n",
      "       device='cuda:0'))\n",
      "score is tensor([[ 5.3750,  6.2500,  7.8750,  ..., -4.3750, -4.3750, -0.5430]],\n",
      "       device='cuda:0')\n",
      "logits is [[0.5015891  0.31388646 0.18452433]]\n"
     ]
    },
    {
     "name": "stderr",
     "output_type": "stream",
     "text": [
      " 55%|█████▍    | 274/501 [01:57<01:56,  1.94it/s]The attention mask and the pad token id were not set. As a consequence, you may observe unexpected behavior. Please pass your input's `attention_mask` to obtain reliable results.\n",
      "Setting `pad_token_id` to `eos_token_id`:128001 for open-end generation.\n"
     ]
    },
    {
     "name": "stdout",
     "output_type": "stream",
     "text": [
      "score (tensor([[ 4.3438,  5.6250,  6.2812,  ..., -4.8750, -4.8750, -1.7578]],\n",
      "       device='cuda:0'), tensor([[ 4.0625,  5.4062,  7.2812,  ..., -2.3906, -2.3906, -1.0391]],\n",
      "       device='cuda:0'))\n",
      "score is tensor([[ 4.3438,  5.6250,  6.2812,  ..., -4.8750, -4.8750, -1.7578]],\n",
      "       device='cuda:0')\n",
      "logits is [[0.21336801 0.54485434 0.24177764]]\n"
     ]
    },
    {
     "name": "stderr",
     "output_type": "stream",
     "text": [
      " 55%|█████▍    | 275/501 [01:57<01:49,  2.07it/s]"
     ]
    },
    {
     "name": "stdout",
     "output_type": "stream",
     "text": [
      "score (tensor([[ 4.2188,  6.3438,  7.4062,  ...,  0.0493,  0.0493, -2.2344]],\n",
      "       device='cuda:0'), tensor([[ 3.6406,  5.7812,  7.0938,  ...,  2.2500,  2.2500, -1.1406]],\n",
      "       device='cuda:0'))\n",
      "score is tensor([[ 4.2188,  6.3438,  7.4062,  ...,  0.0493,  0.0493, -2.2344]],\n",
      "       device='cuda:0')\n",
      "logits is [[0.7085692  0.16829994 0.12313087]]\n"
     ]
    },
    {
     "name": "stderr",
     "output_type": "stream",
     "text": [
      "The attention mask and the pad token id were not set. As a consequence, you may observe unexpected behavior. Please pass your input's `attention_mask` to obtain reliable results.\n",
      "Setting `pad_token_id` to `eos_token_id`:128001 for open-end generation.\n",
      " 55%|█████▌    | 276/501 [01:58<01:56,  1.93it/s]The attention mask and the pad token id were not set. As a consequence, you may observe unexpected behavior. Please pass your input's `attention_mask` to obtain reliable results.\n",
      "Setting `pad_token_id` to `eos_token_id`:128001 for open-end generation.\n"
     ]
    },
    {
     "name": "stdout",
     "output_type": "stream",
     "text": [
      "score (tensor([[ 3.8906,  4.5625,  5.7500,  ..., -4.3750, -4.3750, -3.7969]],\n",
      "       device='cuda:0'), tensor([[ 4.2500,  5.3438,  6.6875,  ...,  1.9375,  1.9375, -2.3438]],\n",
      "       device='cuda:0'))\n",
      "score is tensor([[ 3.8906,  4.5625,  5.7500,  ..., -4.3750, -4.3750, -3.7969]],\n",
      "       device='cuda:0')\n",
      "logits is [[0.37728193 0.41436315 0.20835488]]\n"
     ]
    },
    {
     "name": "stderr",
     "output_type": "stream",
     "text": [
      " 55%|█████▌    | 277/501 [01:58<01:51,  2.01it/s]"
     ]
    },
    {
     "name": "stdout",
     "output_type": "stream",
     "text": [
      "score (tensor([[ 4.4375,  6.1562,  6.8438,  ..., -1.0234, -1.0234, -1.4922]],\n",
      "       device='cuda:0'), tensor([[ 4.2188,  5.8125,  7.1562,  ...,  2.2188,  2.2188, -2.9062]],\n",
      "       device='cuda:0'))\n",
      "score is tensor([[ 4.4375,  6.1562,  6.8438,  ..., -1.0234, -1.0234, -1.4922]],\n",
      "       device='cuda:0')\n",
      "logits is [[0.63290393 0.21199627 0.15509978]]\n"
     ]
    },
    {
     "name": "stderr",
     "output_type": "stream",
     "text": [
      "The attention mask and the pad token id were not set. As a consequence, you may observe unexpected behavior. Please pass your input's `attention_mask` to obtain reliable results.\n",
      "Setting `pad_token_id` to `eos_token_id`:128001 for open-end generation.\n",
      " 55%|█████▌    | 278/501 [01:59<01:50,  2.02it/s]"
     ]
    },
    {
     "name": "stdout",
     "output_type": "stream",
     "text": [
      "score (tensor([[ 4.6875,  5.0625,  6.2500,  ..., -4.5312, -4.5312,  0.5312]],\n",
      "       device='cuda:0'), tensor([[ 5.3125,  5.0625,  7.1250,  ...,  1.7578,  1.7578, -2.6562]],\n",
      "       device='cuda:0'))\n",
      "score is tensor([[ 4.6875,  5.0625,  6.2500,  ..., -4.5312, -4.5312,  0.5312]],\n",
      "       device='cuda:0')\n",
      "logits is [[0.322468   0.49944824 0.17808375]]\n"
     ]
    },
    {
     "name": "stderr",
     "output_type": "stream",
     "text": [
      "The attention mask and the pad token id were not set. As a consequence, you may observe unexpected behavior. Please pass your input's `attention_mask` to obtain reliable results.\n",
      "Setting `pad_token_id` to `eos_token_id`:128001 for open-end generation.\n",
      " 56%|█████▌    | 279/501 [01:59<01:49,  2.02it/s]"
     ]
    },
    {
     "name": "stdout",
     "output_type": "stream",
     "text": [
      "score (tensor([[ 4.2812,  4.7812,  6.9062,  ...,  2.9375,  2.9375, -3.0156]],\n",
      "       device='cuda:0'), tensor([[ 4.5312,  5.7188,  8.1875,  ...,  1.0078,  1.0078, -1.6953]],\n",
      "       device='cuda:0'))\n",
      "score is tensor([[ 4.2812,  4.7812,  6.9062,  ...,  2.9375,  2.9375, -3.0156]],\n",
      "       device='cuda:0')\n",
      "logits is [[0.66306615 0.13471006 0.20222376]]\n"
     ]
    },
    {
     "name": "stderr",
     "output_type": "stream",
     "text": [
      "The attention mask and the pad token id were not set. As a consequence, you may observe unexpected behavior. Please pass your input's `attention_mask` to obtain reliable results.\n",
      "Setting `pad_token_id` to `eos_token_id`:128001 for open-end generation.\n",
      " 56%|█████▌    | 280/501 [02:00<01:54,  1.93it/s]The attention mask and the pad token id were not set. As a consequence, you may observe unexpected behavior. Please pass your input's `attention_mask` to obtain reliable results.\n",
      "Setting `pad_token_id` to `eos_token_id`:128001 for open-end generation.\n"
     ]
    },
    {
     "name": "stdout",
     "output_type": "stream",
     "text": [
      "score (tensor([[ 3.7031,  5.0312,  6.2188,  ..., -1.2891, -1.2891, -0.8281]],\n",
      "       device='cuda:0'), tensor([[ 4.2812,  5.5625,  6.9375,  ...,  0.4629,  0.4629, -2.0312]],\n",
      "       device='cuda:0'))\n",
      "score is tensor([[ 3.7031,  5.0312,  6.2188,  ..., -1.2891, -1.2891, -0.8281]],\n",
      "       device='cuda:0')\n",
      "logits is [[0.62663615 0.23784426 0.13551958]]\n"
     ]
    },
    {
     "name": "stderr",
     "output_type": "stream",
     "text": [
      " 56%|█████▌    | 281/501 [02:00<01:36,  2.29it/s]"
     ]
    },
    {
     "name": "stdout",
     "output_type": "stream",
     "text": [
      "score (tensor([[ 5.0312,  4.4375,  6.1250,  ..., -5.6562, -5.6562, -1.7969]],\n",
      "       device='cuda:0'), tensor([[ 4.3438,  5.3438,  7.4375,  ..., -0.9180, -0.9180, -1.7734]],\n",
      "       device='cuda:0'))\n",
      "score is tensor([[ 5.0312,  4.4375,  6.1250,  ..., -5.6562, -5.6562, -1.7969]],\n",
      "       device='cuda:0')\n",
      "logits is [[0.32120192 0.6000842  0.07871392]]\n"
     ]
    },
    {
     "name": "stderr",
     "output_type": "stream",
     "text": [
      "The attention mask and the pad token id were not set. As a consequence, you may observe unexpected behavior. Please pass your input's `attention_mask` to obtain reliable results.\n",
      "Setting `pad_token_id` to `eos_token_id`:128001 for open-end generation.\n",
      " 56%|█████▋    | 282/501 [02:01<01:44,  2.09it/s]The attention mask and the pad token id were not set. As a consequence, you may observe unexpected behavior. Please pass your input's `attention_mask` to obtain reliable results.\n",
      "Setting `pad_token_id` to `eos_token_id`:128001 for open-end generation.\n"
     ]
    },
    {
     "name": "stdout",
     "output_type": "stream",
     "text": [
      "score (tensor([[ 4.1562,  5.3125,  5.6875,  ..., -3.2500, -3.2500, -1.8125]],\n",
      "       device='cuda:0'), tensor([[ 4.7500,  4.4062,  5.7188,  ..., -2.7969, -2.7969, -3.5312]],\n",
      "       device='cuda:0'))\n",
      "score is tensor([[ 4.1562,  5.3125,  5.6875,  ..., -3.2500, -3.2500, -1.8125]],\n",
      "       device='cuda:0')\n",
      "logits is [[0.4107199  0.36245903 0.22682108]]\n"
     ]
    },
    {
     "name": "stderr",
     "output_type": "stream",
     "text": [
      " 56%|█████▋    | 283/501 [02:01<01:39,  2.19it/s]"
     ]
    },
    {
     "name": "stdout",
     "output_type": "stream",
     "text": [
      "score (tensor([[ 4.1875,  6.4688,  6.8125,  ..., -3.5781, -3.5781, -2.3281]],\n",
      "       device='cuda:0'), tensor([[ 4.2188,  6.7812,  7.9688,  ..., -1.6484, -1.6484, -2.1094]],\n",
      "       device='cuda:0'))\n",
      "score is tensor([[ 4.1875,  6.4688,  6.8125,  ..., -3.5781, -3.5781, -2.3281]],\n",
      "       device='cuda:0')\n",
      "logits is [[0.3834606  0.3179     0.29863942]]\n"
     ]
    },
    {
     "name": "stderr",
     "output_type": "stream",
     "text": [
      "The attention mask and the pad token id were not set. As a consequence, you may observe unexpected behavior. Please pass your input's `attention_mask` to obtain reliable results.\n",
      "Setting `pad_token_id` to `eos_token_id`:128001 for open-end generation.\n",
      " 57%|█████▋    | 284/501 [02:02<01:45,  2.05it/s]The attention mask and the pad token id were not set. As a consequence, you may observe unexpected behavior. Please pass your input's `attention_mask` to obtain reliable results.\n",
      "Setting `pad_token_id` to `eos_token_id`:128001 for open-end generation.\n"
     ]
    },
    {
     "name": "stdout",
     "output_type": "stream",
     "text": [
      "score (tensor([[ 4.4062,  5.4062,  7.0938,  ..., -3.5469, -3.5469, -1.3516]],\n",
      "       device='cuda:0'), tensor([[ 4.5312,  5.9062,  7.8750,  ..., -0.3555, -0.3555, -1.4219]],\n",
      "       device='cuda:0'))\n",
      "score is tensor([[ 4.4062,  5.4062,  7.0938,  ..., -3.5469, -3.5469, -1.3516]],\n",
      "       device='cuda:0')\n",
      "logits is [[0.4399905 0.1952446 0.3647649]]\n"
     ]
    },
    {
     "name": "stderr",
     "output_type": "stream",
     "text": [
      " 57%|█████▋    | 285/501 [02:02<01:40,  2.16it/s]"
     ]
    },
    {
     "name": "stdout",
     "output_type": "stream",
     "text": [
      "score (tensor([[ 4.4688,  6.1250,  5.8750,  ..., -2.7031, -2.7031, -1.9297]],\n",
      "       device='cuda:0'), tensor([[ 4.2188,  6.6562,  7.1250,  ...,  0.7305,  0.7305, -1.6484]],\n",
      "       device='cuda:0'))\n",
      "score is tensor([[ 4.4688,  6.1250,  5.8750,  ..., -2.7031, -2.7031, -1.9297]],\n",
      "       device='cuda:0')\n",
      "logits is [[0.22991873 0.70819956 0.06188178]]\n"
     ]
    },
    {
     "name": "stderr",
     "output_type": "stream",
     "text": [
      "The attention mask and the pad token id were not set. As a consequence, you may observe unexpected behavior. Please pass your input's `attention_mask` to obtain reliable results.\n",
      "Setting `pad_token_id` to `eos_token_id`:128001 for open-end generation.\n",
      " 57%|█████▋    | 286/501 [02:03<01:46,  2.02it/s]The attention mask and the pad token id were not set. As a consequence, you may observe unexpected behavior. Please pass your input's `attention_mask` to obtain reliable results.\n",
      "Setting `pad_token_id` to `eos_token_id`:128001 for open-end generation.\n"
     ]
    },
    {
     "name": "stdout",
     "output_type": "stream",
     "text": [
      "score (tensor([[ 4.3438,  5.0000,  7.0000,  ...,  1.6250,  1.6250, -1.3359]],\n",
      "       device='cuda:0'), tensor([[ 4.3750,  5.8125,  6.8750,  ...,  0.9922,  0.9922, -1.2188]],\n",
      "       device='cuda:0'))\n",
      "score is tensor([[ 4.3438,  5.0000,  7.0000,  ...,  1.6250,  1.6250, -1.3359]],\n",
      "       device='cuda:0')\n",
      "logits is [[0.63705915 0.15611805 0.20682283]]\n"
     ]
    },
    {
     "name": "stderr",
     "output_type": "stream",
     "text": [
      " 57%|█████▋    | 287/501 [02:03<01:34,  2.27it/s]"
     ]
    },
    {
     "name": "stdout",
     "output_type": "stream",
     "text": [
      "score (tensor([[ 5.6250,  5.9688,  8.1250,  ..., -3.1875, -3.1875, -0.4512]],\n",
      "       device='cuda:0'), tensor([[ 4.7500,  5.9688,  8.1250,  ...,  0.2793,  0.2793, -1.4688]],\n",
      "       device='cuda:0'))\n",
      "score is tensor([[ 5.6250,  5.9688,  8.1250,  ..., -3.1875, -3.1875, -0.4512]],\n",
      "       device='cuda:0')\n",
      "logits is [[0.5987152  0.20691045 0.19437435]]\n"
     ]
    },
    {
     "name": "stderr",
     "output_type": "stream",
     "text": [
      "The attention mask and the pad token id were not set. As a consequence, you may observe unexpected behavior. Please pass your input's `attention_mask` to obtain reliable results.\n",
      "Setting `pad_token_id` to `eos_token_id`:128001 for open-end generation.\n",
      " 57%|█████▋    | 288/501 [02:04<01:41,  2.10it/s]The attention mask and the pad token id were not set. As a consequence, you may observe unexpected behavior. Please pass your input's `attention_mask` to obtain reliable results.\n",
      "Setting `pad_token_id` to `eos_token_id`:128001 for open-end generation.\n"
     ]
    },
    {
     "name": "stdout",
     "output_type": "stream",
     "text": [
      "score (tensor([[ 4.2500,  5.7812,  6.9375,  ..., -4.0938, -4.0938, -0.4297]],\n",
      "       device='cuda:0'), tensor([[ 4.1875,  6.2500,  8.0625,  ..., -0.9883, -0.9883, -0.5508]],\n",
      "       device='cuda:0'))\n",
      "score is tensor([[ 4.2500,  5.7812,  6.9375,  ..., -4.0938, -4.0938, -0.4297]],\n",
      "       device='cuda:0')\n",
      "logits is [[0.435954   0.26441947 0.29962653]]\n"
     ]
    },
    {
     "name": "stderr",
     "output_type": "stream",
     "text": [
      " 58%|█████▊    | 289/501 [02:04<01:25,  2.49it/s]The attention mask and the pad token id were not set. As a consequence, you may observe unexpected behavior. Please pass your input's `attention_mask` to obtain reliable results.\n",
      "Setting `pad_token_id` to `eos_token_id`:128001 for open-end generation.\n"
     ]
    },
    {
     "name": "stdout",
     "output_type": "stream",
     "text": [
      "score (tensor([[ 3.9531,  5.4375,  6.5000,  ..., -0.5195, -0.5195, -1.5156]],\n",
      "       device='cuda:0'), tensor([[ 4.1875,  5.9375,  7.6562,  ..., -1.5859, -1.5859, -0.3984]],\n",
      "       device='cuda:0'))\n",
      "score is tensor([[ 3.9531,  5.4375,  6.5000,  ..., -0.5195, -0.5195, -1.5156]],\n",
      "       device='cuda:0')\n",
      "logits is [[0.5427231  0.35040838 0.10686852]]\n"
     ]
    },
    {
     "name": "stderr",
     "output_type": "stream",
     "text": [
      " 58%|█████▊    | 290/501 [02:04<01:22,  2.56it/s]The attention mask and the pad token id were not set. As a consequence, you may observe unexpected behavior. Please pass your input's `attention_mask` to obtain reliable results.\n",
      "Setting `pad_token_id` to `eos_token_id`:128001 for open-end generation.\n"
     ]
    },
    {
     "name": "stdout",
     "output_type": "stream",
     "text": [
      "score (tensor([[ 4.6875,  5.7812,  6.0000,  ..., -3.8750, -3.8750, -0.4785]],\n",
      "       device='cuda:0'), tensor([[ 4.3125,  5.4688,  7.1562,  ...,  1.1797,  1.1797, -2.8125]],\n",
      "       device='cuda:0'))\n",
      "score is tensor([[ 4.6875,  5.7812,  6.0000,  ..., -3.8750, -3.8750, -0.4785]],\n",
      "       device='cuda:0')\n",
      "logits is [[0.36879602 0.32546133 0.30574262]]\n"
     ]
    },
    {
     "name": "stderr",
     "output_type": "stream",
     "text": [
      " 58%|█████▊    | 291/501 [02:05<01:22,  2.54it/s]The attention mask and the pad token id were not set. As a consequence, you may observe unexpected behavior. Please pass your input's `attention_mask` to obtain reliable results.\n",
      "Setting `pad_token_id` to `eos_token_id`:128001 for open-end generation.\n"
     ]
    },
    {
     "name": "stdout",
     "output_type": "stream",
     "text": [
      "score (tensor([[ 4.1562,  4.9375,  6.3125,  ..., -4.6562, -4.6562, -2.2188]],\n",
      "       device='cuda:0'), tensor([[ 3.7031,  4.8125,  7.4062,  ...,  1.6250,  1.6250, -2.0469]],\n",
      "       device='cuda:0'))\n",
      "score is tensor([[ 4.1562,  4.9375,  6.3125,  ..., -4.6562, -4.6562, -2.2188]],\n",
      "       device='cuda:0')\n",
      "logits is [[0.269915   0.5714101  0.15867485]]\n"
     ]
    },
    {
     "name": "stderr",
     "output_type": "stream",
     "text": [
      " 58%|█████▊    | 292/501 [02:05<01:25,  2.45it/s]The attention mask and the pad token id were not set. As a consequence, you may observe unexpected behavior. Please pass your input's `attention_mask` to obtain reliable results.\n",
      "Setting `pad_token_id` to `eos_token_id`:128001 for open-end generation.\n"
     ]
    },
    {
     "name": "stdout",
     "output_type": "stream",
     "text": [
      "score (tensor([[ 5.0938,  5.0938,  6.4375,  ..., -4.7500, -4.7500, -0.1963]],\n",
      "       device='cuda:0'), tensor([[ 5.4062,  5.5312,  7.6875,  ...,  0.3945,  0.3945, -1.1172]],\n",
      "       device='cuda:0'))\n",
      "score is tensor([[ 5.0938,  5.0938,  6.4375,  ..., -4.7500, -4.7500, -0.1963]],\n",
      "       device='cuda:0')\n",
      "logits is [[0.29460248 0.4286441  0.27675343]]\n"
     ]
    },
    {
     "name": "stderr",
     "output_type": "stream",
     "text": [
      " 58%|█████▊    | 293/501 [02:05<01:24,  2.45it/s]The attention mask and the pad token id were not set. As a consequence, you may observe unexpected behavior. Please pass your input's `attention_mask` to obtain reliable results.\n",
      "Setting `pad_token_id` to `eos_token_id`:128001 for open-end generation.\n"
     ]
    },
    {
     "name": "stdout",
     "output_type": "stream",
     "text": [
      "score (tensor([[ 4.7500,  6.0312,  6.0938,  ..., -5.0312, -5.0312, -1.1016]],\n",
      "       device='cuda:0'), tensor([[ 5.4062,  5.9688,  7.0938,  ..., -0.0206, -0.0206, -2.2812]],\n",
      "       device='cuda:0'))\n",
      "score is tensor([[ 4.7500,  6.0312,  6.0938,  ..., -5.0312, -5.0312, -1.1016]],\n",
      "       device='cuda:0')\n",
      "logits is [[0.3274258  0.447538   0.22503623]]\n"
     ]
    },
    {
     "name": "stderr",
     "output_type": "stream",
     "text": [
      " 59%|█████▊    | 294/501 [02:06<01:24,  2.45it/s]The attention mask and the pad token id were not set. As a consequence, you may observe unexpected behavior. Please pass your input's `attention_mask` to obtain reliable results.\n",
      "Setting `pad_token_id` to `eos_token_id`:128001 for open-end generation.\n"
     ]
    },
    {
     "name": "stdout",
     "output_type": "stream",
     "text": [
      "score (tensor([[ 4.3438,  5.6250,  6.5312,  ..., -6.0312, -6.0312, -1.4609]],\n",
      "       device='cuda:0'), tensor([[ 4.7500,  5.9062,  7.0625,  ..., -0.5352, -0.5352, -1.5391]],\n",
      "       device='cuda:0'))\n",
      "score is tensor([[ 4.3438,  5.6250,  6.5312,  ..., -6.0312, -6.0312, -1.4609]],\n",
      "       device='cuda:0')\n",
      "logits is [[0.29049975 0.50984293 0.19965735]]\n"
     ]
    },
    {
     "name": "stderr",
     "output_type": "stream",
     "text": [
      " 59%|█████▉    | 295/501 [02:06<01:15,  2.71it/s]The attention mask and the pad token id were not set. As a consequence, you may observe unexpected behavior. Please pass your input's `attention_mask` to obtain reliable results.\n",
      "Setting `pad_token_id` to `eos_token_id`:128001 for open-end generation.\n"
     ]
    },
    {
     "name": "stdout",
     "output_type": "stream",
     "text": [
      "score (tensor([[ 4.0312,  5.4688,  6.9062,  ..., -4.3750, -4.3750, -1.8125]],\n",
      "       device='cuda:0'), tensor([[ 2.5000,  4.8438,  6.5312,  ...,  4.2188,  4.2188, -3.2500]],\n",
      "       device='cuda:0'))\n",
      "score is tensor([[ 4.0312,  5.4688,  6.9062,  ..., -4.3750, -4.3750, -1.8125]],\n",
      "       device='cuda:0')\n",
      "logits is [[0.3413349  0.4382827  0.22038238]]\n"
     ]
    },
    {
     "name": "stderr",
     "output_type": "stream",
     "text": [
      " 59%|█████▉    | 296/501 [02:06<01:14,  2.73it/s]"
     ]
    },
    {
     "name": "stdout",
     "output_type": "stream",
     "text": [
      "score (tensor([[ 4.0312,  5.8438,  7.1875,  ..., -4.7812, -4.7812, -1.5469]],\n",
      "       device='cuda:0'), tensor([[ 5.3750,  5.7188,  7.6250,  ..., -2.0000, -2.0000, -2.6094]],\n",
      "       device='cuda:0'))\n",
      "score is tensor([[ 4.0312,  5.8438,  7.1875,  ..., -4.7812, -4.7812, -1.5469]],\n",
      "       device='cuda:0')\n",
      "logits is [[0.5346966  0.28620246 0.17910092]]\n"
     ]
    },
    {
     "name": "stderr",
     "output_type": "stream",
     "text": [
      "The attention mask and the pad token id were not set. As a consequence, you may observe unexpected behavior. Please pass your input's `attention_mask` to obtain reliable results.\n",
      "Setting `pad_token_id` to `eos_token_id`:128001 for open-end generation.\n",
      " 59%|█████▉    | 297/501 [02:07<01:23,  2.45it/s]The attention mask and the pad token id were not set. As a consequence, you may observe unexpected behavior. Please pass your input's `attention_mask` to obtain reliable results.\n",
      "Setting `pad_token_id` to `eos_token_id`:128001 for open-end generation.\n"
     ]
    },
    {
     "name": "stdout",
     "output_type": "stream",
     "text": [
      "score (tensor([[ 3.9219,  5.5000,  6.1562,  ..., -3.0312, -3.0312,  0.9844]],\n",
      "       device='cuda:0'), tensor([[ 4.2812,  5.9375,  7.6250,  ..., -1.9297, -1.9297, -0.5078]],\n",
      "       device='cuda:0'))\n",
      "score is tensor([[ 3.9219,  5.5000,  6.1562,  ..., -3.0312, -3.0312,  0.9844]],\n",
      "       device='cuda:0')\n",
      "logits is [[0.22702149 0.69927543 0.07370309]]\n"
     ]
    },
    {
     "name": "stderr",
     "output_type": "stream",
     "text": [
      " 59%|█████▉    | 298/501 [02:07<01:19,  2.57it/s]"
     ]
    },
    {
     "name": "stdout",
     "output_type": "stream",
     "text": [
      "score (tensor([[ 3.6250,  4.3125,  5.5625,  ..., -5.2500, -5.2500, -1.2812]],\n",
      "       device='cuda:0'), tensor([[ 3.5469,  4.2188,  5.8750,  ..., -3.9844, -3.9844,  0.2002]],\n",
      "       device='cuda:0'))\n",
      "score is tensor([[ 3.6250,  4.3125,  5.5625,  ..., -5.2500, -5.2500, -1.2812]],\n",
      "       device='cuda:0')\n",
      "logits is [[0.27147138 0.6117702  0.11675839]]\n"
     ]
    },
    {
     "name": "stderr",
     "output_type": "stream",
     "text": [
      "The attention mask and the pad token id were not set. As a consequence, you may observe unexpected behavior. Please pass your input's `attention_mask` to obtain reliable results.\n",
      "Setting `pad_token_id` to `eos_token_id`:128001 for open-end generation.\n",
      " 60%|█████▉    | 299/501 [02:08<01:31,  2.21it/s]The attention mask and the pad token id were not set. As a consequence, you may observe unexpected behavior. Please pass your input's `attention_mask` to obtain reliable results.\n",
      "Setting `pad_token_id` to `eos_token_id`:128001 for open-end generation.\n"
     ]
    },
    {
     "name": "stdout",
     "output_type": "stream",
     "text": [
      "score (tensor([[ 3.5469,  6.6562,  7.0312,  ..., -3.2656, -3.2656, -4.9375]],\n",
      "       device='cuda:0'), tensor([[ 3.9844,  8.0625,  7.4375,  ...,  0.3613,  0.3613, -2.3125]],\n",
      "       device='cuda:0'))\n",
      "score is tensor([[ 3.5469,  6.6562,  7.0312,  ..., -3.2656, -3.2656, -4.9375]],\n",
      "       device='cuda:0')\n",
      "logits is [[0.4580685  0.36806837 0.17386319]]\n"
     ]
    },
    {
     "name": "stderr",
     "output_type": "stream",
     "text": [
      " 60%|█████▉    | 300/501 [02:08<01:22,  2.42it/s]"
     ]
    },
    {
     "name": "stdout",
     "output_type": "stream",
     "text": [
      "score (tensor([[ 5.6250,  5.2812,  6.5000,  ..., -4.1875, -4.1875, -0.6836]],\n",
      "       device='cuda:0'), tensor([[ 4.5000,  5.6250,  7.3125,  ...,  0.0510,  0.0510, -1.9062]],\n",
      "       device='cuda:0'))\n",
      "score is tensor([[ 5.6250,  5.2812,  6.5000,  ..., -4.1875, -4.1875, -0.6836]],\n",
      "       device='cuda:0')\n",
      "logits is [[0.5053035  0.2704695  0.22422707]]\n"
     ]
    },
    {
     "name": "stderr",
     "output_type": "stream",
     "text": [
      "The attention mask and the pad token id were not set. As a consequence, you may observe unexpected behavior. Please pass your input's `attention_mask` to obtain reliable results.\n",
      "Setting `pad_token_id` to `eos_token_id`:128001 for open-end generation.\n",
      " 60%|██████    | 301/501 [02:09<01:33,  2.15it/s]The attention mask and the pad token id were not set. As a consequence, you may observe unexpected behavior. Please pass your input's `attention_mask` to obtain reliable results.\n",
      "Setting `pad_token_id` to `eos_token_id`:128001 for open-end generation.\n"
     ]
    },
    {
     "name": "stdout",
     "output_type": "stream",
     "text": [
      "score (tensor([[ 4.5625,  6.0312,  7.3125,  ..., -3.5156, -3.5156, -1.8750]],\n",
      "       device='cuda:0'), tensor([[ 5.8125,  5.6250,  7.8750,  ...,  0.5664,  0.5664, -2.1875]],\n",
      "       device='cuda:0'))\n",
      "score is tensor([[ 4.5625,  6.0312,  7.3125,  ..., -3.5156, -3.5156, -1.8750]],\n",
      "       device='cuda:0')\n",
      "logits is [[0.17405172 0.7327851  0.09316318]]\n"
     ]
    },
    {
     "name": "stderr",
     "output_type": "stream",
     "text": [
      " 60%|██████    | 302/501 [02:09<01:19,  2.52it/s]The attention mask and the pad token id were not set. As a consequence, you may observe unexpected behavior. Please pass your input's `attention_mask` to obtain reliable results.\n",
      "Setting `pad_token_id` to `eos_token_id`:128001 for open-end generation.\n"
     ]
    },
    {
     "name": "stdout",
     "output_type": "stream",
     "text": [
      "score (tensor([[ 4.6250,  6.0312,  7.1562,  ..., -5.4062, -5.4062, -3.4375]],\n",
      "       device='cuda:0'), tensor([[ 4.0625,  5.1562,  7.7812,  ...,  3.2188,  3.2188, -2.7812]],\n",
      "       device='cuda:0'))\n",
      "score is tensor([[ 4.6250,  6.0312,  7.1562,  ..., -5.4062, -5.4062, -3.4375]],\n",
      "       device='cuda:0')\n",
      "logits is [[0.25790995 0.5996586  0.14243141]]\n"
     ]
    },
    {
     "name": "stderr",
     "output_type": "stream",
     "text": [
      " 60%|██████    | 303/501 [02:09<01:13,  2.70it/s]The attention mask and the pad token id were not set. As a consequence, you may observe unexpected behavior. Please pass your input's `attention_mask` to obtain reliable results.\n",
      "Setting `pad_token_id` to `eos_token_id`:128001 for open-end generation.\n"
     ]
    },
    {
     "name": "stdout",
     "output_type": "stream",
     "text": [
      "score (tensor([[ 5.5938,  6.6875,  8.1250,  ..., -4.6250, -4.6250, -1.9922]],\n",
      "       device='cuda:0'), tensor([[ 4.7188,  6.8438,  8.3125,  ..., -2.2031, -2.2031, -1.3906]],\n",
      "       device='cuda:0'))\n",
      "score is tensor([[ 5.5938,  6.6875,  8.1250,  ..., -4.6250, -4.6250, -1.9922]],\n",
      "       device='cuda:0')\n",
      "logits is [[0.43763602 0.41112098 0.15124297]]\n"
     ]
    },
    {
     "name": "stderr",
     "output_type": "stream",
     "text": [
      " 61%|██████    | 304/501 [02:10<01:17,  2.55it/s]The attention mask and the pad token id were not set. As a consequence, you may observe unexpected behavior. Please pass your input's `attention_mask` to obtain reliable results.\n",
      "Setting `pad_token_id` to `eos_token_id`:128001 for open-end generation.\n"
     ]
    },
    {
     "name": "stdout",
     "output_type": "stream",
     "text": [
      "score (tensor([[ 5.6562,  7.7188,  8.6250,  ..., -2.9375, -2.9375,  0.3945]],\n",
      "       device='cuda:0'), tensor([[ 6.3125,  7.0312,  6.0312,  ..., -5.7500, -5.7500, -2.5469]],\n",
      "       device='cuda:0'))\n",
      "score is tensor([[ 5.6562,  7.7188,  8.6250,  ..., -2.9375, -2.9375,  0.3945]],\n",
      "       device='cuda:0')\n",
      "logits is [[0.03693192 0.9524869  0.01058117]]\n"
     ]
    },
    {
     "name": "stderr",
     "output_type": "stream",
     "text": [
      " 61%|██████    | 305/501 [02:10<01:14,  2.63it/s]The attention mask and the pad token id were not set. As a consequence, you may observe unexpected behavior. Please pass your input's `attention_mask` to obtain reliable results.\n",
      "Setting `pad_token_id` to `eos_token_id`:128001 for open-end generation.\n"
     ]
    },
    {
     "name": "stdout",
     "output_type": "stream",
     "text": [
      "score (tensor([[ 4.7500,  5.1875,  7.0312,  ..., -3.0938, -3.0938,  0.0786]],\n",
      "       device='cuda:0'), tensor([[ 4.0938,  4.9062,  7.4062,  ...,  1.8281,  1.8281, -1.7031]],\n",
      "       device='cuda:0'))\n",
      "score is tensor([[ 4.7500,  5.1875,  7.0312,  ..., -3.0938, -3.0938,  0.0786]],\n",
      "       device='cuda:0')\n",
      "logits is [[0.5258783  0.23335709 0.24076463]]\n"
     ]
    },
    {
     "name": "stderr",
     "output_type": "stream",
     "text": [
      " 61%|██████    | 306/501 [02:10<01:09,  2.80it/s]The attention mask and the pad token id were not set. As a consequence, you may observe unexpected behavior. Please pass your input's `attention_mask` to obtain reliable results.\n",
      "Setting `pad_token_id` to `eos_token_id`:128001 for open-end generation.\n"
     ]
    },
    {
     "name": "stdout",
     "output_type": "stream",
     "text": [
      "score (tensor([[ 4.3125,  5.1562,  7.0625,  ..., -4.2500, -4.2500, -1.0859]],\n",
      "       device='cuda:0'), tensor([[ 4.4062,  5.9688,  8.1250,  ..., -0.2617, -0.2617, -1.8672]],\n",
      "       device='cuda:0'))\n",
      "score is tensor([[ 4.3125,  5.1562,  7.0625,  ..., -4.2500, -4.2500, -1.0859]],\n",
      "       device='cuda:0')\n",
      "logits is [[0.39970747 0.48213926 0.1181533 ]]\n"
     ]
    },
    {
     "name": "stderr",
     "output_type": "stream",
     "text": [
      " 61%|██████▏   | 307/501 [02:11<01:02,  3.11it/s]The attention mask and the pad token id were not set. As a consequence, you may observe unexpected behavior. Please pass your input's `attention_mask` to obtain reliable results.\n",
      "Setting `pad_token_id` to `eos_token_id`:128001 for open-end generation.\n"
     ]
    },
    {
     "name": "stdout",
     "output_type": "stream",
     "text": [
      "score (tensor([[ 5.5625,  5.4688,  7.1562,  ..., -4.7500, -4.7500, -3.3906]],\n",
      "       device='cuda:0'), tensor([[ 6.3125,  6.5625,  8.5625,  ..., -0.1768, -0.1768, -1.8438]],\n",
      "       device='cuda:0'))\n",
      "score is tensor([[ 5.5625,  5.4688,  7.1562,  ..., -4.7500, -4.7500, -3.3906]],\n",
      "       device='cuda:0')\n",
      "logits is [[0.4161001  0.45699656 0.12690336]]\n"
     ]
    },
    {
     "name": "stderr",
     "output_type": "stream",
     "text": [
      " 61%|██████▏   | 308/501 [02:11<01:09,  2.78it/s]The attention mask and the pad token id were not set. As a consequence, you may observe unexpected behavior. Please pass your input's `attention_mask` to obtain reliable results.\n",
      "Setting `pad_token_id` to `eos_token_id`:128001 for open-end generation.\n"
     ]
    },
    {
     "name": "stdout",
     "output_type": "stream",
     "text": [
      "score (tensor([[ 3.9844,  5.0625,  6.3438,  ..., -4.3750, -4.3750, -0.0630]],\n",
      "       device='cuda:0'), tensor([[ 4.1250,  5.5938,  7.3438,  ...,  0.3672,  0.3672, -1.0156]],\n",
      "       device='cuda:0'))\n",
      "score is tensor([[ 3.9844,  5.0625,  6.3438,  ..., -4.3750, -4.3750, -0.0630]],\n",
      "       device='cuda:0')\n",
      "logits is [[0.33771577 0.407363   0.25492126]]\n"
     ]
    },
    {
     "name": "stderr",
     "output_type": "stream",
     "text": [
      " 62%|██████▏   | 309/501 [02:12<01:08,  2.80it/s]The attention mask and the pad token id were not set. As a consequence, you may observe unexpected behavior. Please pass your input's `attention_mask` to obtain reliable results.\n",
      "Setting `pad_token_id` to `eos_token_id`:128001 for open-end generation.\n"
     ]
    },
    {
     "name": "stdout",
     "output_type": "stream",
     "text": [
      "score (tensor([[ 5.2188,  6.1875,  7.1562,  ..., -4.6875, -4.6875, -1.3359]],\n",
      "       device='cuda:0'), tensor([[ 4.6875,  5.7500,  7.6562,  ...,  1.0000,  1.0000, -2.2031]],\n",
      "       device='cuda:0'))\n",
      "score is tensor([[ 5.2188,  6.1875,  7.1562,  ..., -4.6875, -4.6875, -1.3359]],\n",
      "       device='cuda:0')\n",
      "logits is [[0.54118884 0.24015109 0.21866006]]\n"
     ]
    },
    {
     "name": "stderr",
     "output_type": "stream",
     "text": [
      " 62%|██████▏   | 310/501 [02:12<01:13,  2.61it/s]"
     ]
    },
    {
     "name": "stdout",
     "output_type": "stream",
     "text": [
      "score (tensor([[ 4.4688,  5.9688,  6.6250,  ..., -2.8438, -2.8438,  0.2598]],\n",
      "       device='cuda:0'), tensor([[ 4.3125,  5.8125,  7.6250,  ...,  0.6094,  0.6094, -1.5547]],\n",
      "       device='cuda:0'))\n",
      "score is tensor([[ 4.4688,  5.9688,  6.6250,  ..., -2.8438, -2.8438,  0.2598]],\n",
      "       device='cuda:0')\n",
      "logits is [[0.44305187 0.3045048  0.25244337]]\n"
     ]
    },
    {
     "name": "stderr",
     "output_type": "stream",
     "text": [
      "The attention mask and the pad token id were not set. As a consequence, you may observe unexpected behavior. Please pass your input's `attention_mask` to obtain reliable results.\n",
      "Setting `pad_token_id` to `eos_token_id`:128001 for open-end generation.\n",
      " 62%|██████▏   | 311/501 [02:13<01:36,  1.96it/s]The attention mask and the pad token id were not set. As a consequence, you may observe unexpected behavior. Please pass your input's `attention_mask` to obtain reliable results.\n",
      "Setting `pad_token_id` to `eos_token_id`:128001 for open-end generation.\n"
     ]
    },
    {
     "name": "stdout",
     "output_type": "stream",
     "text": [
      "score (tensor([[ 3.7969,  5.2500,  6.4688,  ..., -0.2773, -0.2773,  0.5352]],\n",
      "       device='cuda:0'), tensor([[ 3.6094,  4.7188,  6.8125,  ...,  0.5703,  0.5703, -2.9531]],\n",
      "       device='cuda:0'))\n",
      "score is tensor([[ 3.7969,  5.2500,  6.4688,  ..., -0.2773, -0.2773,  0.5352]],\n",
      "       device='cuda:0')\n",
      "logits is [[0.781617   0.11260261 0.10578036]]\n"
     ]
    },
    {
     "name": "stderr",
     "output_type": "stream",
     "text": [
      " 62%|██████▏   | 312/501 [02:13<01:30,  2.08it/s]The attention mask and the pad token id were not set. As a consequence, you may observe unexpected behavior. Please pass your input's `attention_mask` to obtain reliable results.\n",
      "Setting `pad_token_id` to `eos_token_id`:128001 for open-end generation.\n"
     ]
    },
    {
     "name": "stdout",
     "output_type": "stream",
     "text": [
      "score (tensor([[ 4.4375,  5.0625,  7.0000,  ..., -4.6875, -4.6875, -0.0806]],\n",
      "       device='cuda:0'), tensor([[ 4.3125,  5.3438,  8.0625,  ...,  0.4160,  0.4160, -0.7148]],\n",
      "       device='cuda:0'))\n",
      "score is tensor([[ 4.4375,  5.0625,  7.0000,  ..., -4.6875, -4.6875, -0.0806]],\n",
      "       device='cuda:0')\n",
      "logits is [[0.3431426  0.30282226 0.3540351 ]]\n"
     ]
    },
    {
     "name": "stderr",
     "output_type": "stream",
     "text": [
      " 62%|██████▏   | 313/501 [02:13<01:21,  2.32it/s]The attention mask and the pad token id were not set. As a consequence, you may observe unexpected behavior. Please pass your input's `attention_mask` to obtain reliable results.\n",
      "Setting `pad_token_id` to `eos_token_id`:128001 for open-end generation.\n"
     ]
    },
    {
     "name": "stdout",
     "output_type": "stream",
     "text": [
      "score (tensor([[ 4.5625,  5.5312,  7.5312,  ..., -2.1406, -2.1406, -1.9766]],\n",
      "       device='cuda:0'), tensor([[ 5.0312,  6.0938,  8.1875,  ...,  0.4766,  0.4766, -1.6016]],\n",
      "       device='cuda:0'))\n",
      "score is tensor([[ 4.5625,  5.5312,  7.5312,  ..., -2.1406, -2.1406, -1.9766]],\n",
      "       device='cuda:0')\n",
      "logits is [[0.5310197  0.3428521  0.12612823]]\n"
     ]
    },
    {
     "name": "stderr",
     "output_type": "stream",
     "text": [
      " 63%|██████▎   | 314/501 [02:14<01:16,  2.43it/s]The attention mask and the pad token id were not set. As a consequence, you may observe unexpected behavior. Please pass your input's `attention_mask` to obtain reliable results.\n",
      "Setting `pad_token_id` to `eos_token_id`:128001 for open-end generation.\n"
     ]
    },
    {
     "name": "stdout",
     "output_type": "stream",
     "text": [
      "score (tensor([[ 4.7188,  5.7500,  6.5312,  ..., -3.5781, -3.5781, -0.5781]],\n",
      "       device='cuda:0'), tensor([[ 4.2500,  6.0000,  7.4062,  ...,  1.2344,  1.2344, -1.9609]],\n",
      "       device='cuda:0'))\n",
      "score is tensor([[ 4.7188,  5.7500,  6.5312,  ..., -3.5781, -3.5781, -0.5781]],\n",
      "       device='cuda:0')\n",
      "logits is [[0.40971482 0.2905313  0.2997538 ]]\n"
     ]
    },
    {
     "name": "stderr",
     "output_type": "stream",
     "text": [
      " 63%|██████▎   | 315/501 [02:14<01:18,  2.36it/s]"
     ]
    },
    {
     "name": "stdout",
     "output_type": "stream",
     "text": [
      "score (tensor([[3.9688, 5.6250, 6.6562,  ..., 0.5039, 0.5039, 0.1514]],\n",
      "       device='cuda:0'), tensor([[ 3.7031,  4.3438,  6.5000,  ...,  1.0859,  1.0859, -1.3203]],\n",
      "       device='cuda:0'))\n",
      "score is tensor([[3.9688, 5.6250, 6.6562,  ..., 0.5039, 0.5039, 0.1514]],\n",
      "       device='cuda:0')\n",
      "logits is [[0.635611   0.18788625 0.1765028 ]]\n"
     ]
    },
    {
     "name": "stderr",
     "output_type": "stream",
     "text": [
      "The attention mask and the pad token id were not set. As a consequence, you may observe unexpected behavior. Please pass your input's `attention_mask` to obtain reliable results.\n",
      "Setting `pad_token_id` to `eos_token_id`:128001 for open-end generation.\n",
      " 63%|██████▎   | 316/501 [02:15<01:23,  2.23it/s]"
     ]
    },
    {
     "name": "stdout",
     "output_type": "stream",
     "text": [
      "score (tensor([[ 4.7188,  6.6250,  5.6562,  ..., -1.9375, -1.9375, -3.6562]],\n",
      "       device='cuda:0'), tensor([[ 3.4219,  4.5625,  6.2500,  ...,  1.0391,  1.0391, -3.0781]],\n",
      "       device='cuda:0'))\n",
      "score is tensor([[ 4.7188,  6.6250,  5.6562,  ..., -1.9375, -1.9375, -3.6562]],\n",
      "       device='cuda:0')\n",
      "logits is [[0.67688394 0.1939305  0.12918556]]\n"
     ]
    },
    {
     "name": "stderr",
     "output_type": "stream",
     "text": [
      "The attention mask and the pad token id were not set. As a consequence, you may observe unexpected behavior. Please pass your input's `attention_mask` to obtain reliable results.\n",
      "Setting `pad_token_id` to `eos_token_id`:128001 for open-end generation.\n",
      " 63%|██████▎   | 317/501 [02:15<01:25,  2.15it/s]The attention mask and the pad token id were not set. As a consequence, you may observe unexpected behavior. Please pass your input's `attention_mask` to obtain reliable results.\n",
      "Setting `pad_token_id` to `eos_token_id`:128001 for open-end generation.\n"
     ]
    },
    {
     "name": "stdout",
     "output_type": "stream",
     "text": [
      "score (tensor([[ 4.0938,  5.4062,  6.5000,  ...,  0.2080,  0.2080, -3.2344]],\n",
      "       device='cuda:0'), tensor([[ 3.7031,  5.5625,  7.1562,  ...,  3.7344,  3.7344, -2.8281]],\n",
      "       device='cuda:0'))\n",
      "score is tensor([[ 4.0938,  5.4062,  6.5000,  ...,  0.2080,  0.2080, -3.2344]],\n",
      "       device='cuda:0')\n",
      "logits is [[0.56548303 0.18358546 0.2509316 ]]\n"
     ]
    },
    {
     "name": "stderr",
     "output_type": "stream",
     "text": [
      " 63%|██████▎   | 318/501 [02:16<01:24,  2.17it/s]"
     ]
    },
    {
     "name": "stdout",
     "output_type": "stream",
     "text": [
      "score (tensor([[ 3.5781,  5.7500,  5.6250,  ..., -3.8281, -3.8281, -1.1484]],\n",
      "       device='cuda:0'), tensor([[ 4.6875,  6.4062,  7.6562,  ...,  1.4531,  1.4531, -2.0000]],\n",
      "       device='cuda:0'))\n",
      "score is tensor([[ 3.5781,  5.7500,  5.6250,  ..., -3.8281, -3.8281, -1.1484]],\n",
      "       device='cuda:0')\n",
      "logits is [[0.36621478 0.3898336  0.24395165]]\n"
     ]
    },
    {
     "name": "stderr",
     "output_type": "stream",
     "text": [
      "The attention mask and the pad token id were not set. As a consequence, you may observe unexpected behavior. Please pass your input's `attention_mask` to obtain reliable results.\n",
      "Setting `pad_token_id` to `eos_token_id`:128001 for open-end generation.\n",
      " 64%|██████▎   | 319/501 [02:16<01:30,  2.00it/s]The attention mask and the pad token id were not set. As a consequence, you may observe unexpected behavior. Please pass your input's `attention_mask` to obtain reliable results.\n",
      "Setting `pad_token_id` to `eos_token_id`:128001 for open-end generation.\n"
     ]
    },
    {
     "name": "stdout",
     "output_type": "stream",
     "text": [
      "score (tensor([[ 3.9219,  5.1562,  5.6562,  ..., -4.0938, -4.0938, -3.2812]],\n",
      "       device='cuda:0'), tensor([[ 3.9375,  3.5625,  6.0625,  ...,  2.3281,  2.3281, -2.9844]],\n",
      "       device='cuda:0'))\n",
      "score is tensor([[ 3.9219,  5.1562,  5.6562,  ..., -4.0938, -4.0938, -3.2812]],\n",
      "       device='cuda:0')\n",
      "logits is [[0.22681215 0.5791851  0.19400272]]\n"
     ]
    },
    {
     "name": "stderr",
     "output_type": "stream",
     "text": [
      " 64%|██████▍   | 320/501 [02:17<01:27,  2.06it/s]"
     ]
    },
    {
     "name": "stdout",
     "output_type": "stream",
     "text": [
      "score (tensor([[ 4.0625,  5.0000,  5.4688,  ..., -4.0625, -4.0625, -2.5625]],\n",
      "       device='cuda:0'), tensor([[ 4.4062,  5.2500,  7.2812,  ...,  0.2227,  0.2227, -2.5781]],\n",
      "       device='cuda:0'))\n",
      "score is tensor([[ 4.0625,  5.0000,  5.4688,  ..., -4.0625, -4.0625, -2.5625]],\n",
      "       device='cuda:0')\n",
      "logits is [[0.2859956  0.6054527  0.10855169]]\n"
     ]
    },
    {
     "name": "stderr",
     "output_type": "stream",
     "text": [
      "The attention mask and the pad token id were not set. As a consequence, you may observe unexpected behavior. Please pass your input's `attention_mask` to obtain reliable results.\n",
      "Setting `pad_token_id` to `eos_token_id`:128001 for open-end generation.\n",
      " 64%|██████▍   | 321/501 [02:18<01:44,  1.72it/s]The attention mask and the pad token id were not set. As a consequence, you may observe unexpected behavior. Please pass your input's `attention_mask` to obtain reliable results.\n",
      "Setting `pad_token_id` to `eos_token_id`:128001 for open-end generation.\n"
     ]
    },
    {
     "name": "stdout",
     "output_type": "stream",
     "text": [
      "score (tensor([[ 3.6250,  5.5000,  6.1250,  ..., -3.4219, -3.4219, -2.2812]],\n",
      "       device='cuda:0'), tensor([[ 3.5312,  5.2812,  6.9062,  ...,  1.9922,  1.9922, -1.7500]],\n",
      "       device='cuda:0'))\n",
      "score is tensor([[ 3.6250,  5.5000,  6.1250,  ..., -3.4219, -3.4219, -2.2812]],\n",
      "       device='cuda:0')\n",
      "logits is [[0.4916365  0.32750052 0.18086298]]\n"
     ]
    },
    {
     "name": "stderr",
     "output_type": "stream",
     "text": [
      " 64%|██████▍   | 322/501 [02:18<01:24,  2.11it/s]"
     ]
    },
    {
     "name": "stdout",
     "output_type": "stream",
     "text": [
      "score (tensor([[ 4.2188,  5.3125,  7.0625,  ..., -2.4062, -2.4062, -1.6250]],\n",
      "       device='cuda:0'), tensor([[ 3.8281,  5.6250,  7.9062,  ...,  0.0271,  0.0271, -1.1094]],\n",
      "       device='cuda:0'))\n",
      "score is tensor([[ 4.2188,  5.3125,  7.0625,  ..., -2.4062, -2.4062, -1.6250]],\n",
      "       device='cuda:0')\n",
      "logits is [[0.5567535  0.2980087  0.14523783]]\n"
     ]
    },
    {
     "name": "stderr",
     "output_type": "stream",
     "text": [
      "The attention mask and the pad token id were not set. As a consequence, you may observe unexpected behavior. Please pass your input's `attention_mask` to obtain reliable results.\n",
      "Setting `pad_token_id` to `eos_token_id`:128001 for open-end generation.\n",
      " 64%|██████▍   | 323/501 [02:18<01:29,  1.98it/s]The attention mask and the pad token id were not set. As a consequence, you may observe unexpected behavior. Please pass your input's `attention_mask` to obtain reliable results.\n",
      "Setting `pad_token_id` to `eos_token_id`:128001 for open-end generation.\n"
     ]
    },
    {
     "name": "stdout",
     "output_type": "stream",
     "text": [
      "score (tensor([[ 4.1250,  5.4688,  6.0312,  ..., -4.5000, -4.5000, -1.4297]],\n",
      "       device='cuda:0'), tensor([[ 4.0312,  5.2188,  7.6250,  ..., -2.4375, -2.4375, -1.0312]],\n",
      "       device='cuda:0'))\n",
      "score is tensor([[ 4.1250,  5.4688,  6.0312,  ..., -4.5000, -4.5000, -1.4297]],\n",
      "       device='cuda:0')\n",
      "logits is [[0.3725263  0.31863862 0.30883512]]\n"
     ]
    },
    {
     "name": "stderr",
     "output_type": "stream",
     "text": [
      " 65%|██████▍   | 324/501 [02:19<01:24,  2.11it/s]The attention mask and the pad token id were not set. As a consequence, you may observe unexpected behavior. Please pass your input's `attention_mask` to obtain reliable results.\n",
      "Setting `pad_token_id` to `eos_token_id`:128001 for open-end generation.\n"
     ]
    },
    {
     "name": "stdout",
     "output_type": "stream",
     "text": [
      "score (tensor([[ 4.1875,  5.5312,  6.0625,  ..., -5.5625, -5.5625, -1.0000]],\n",
      "       device='cuda:0'), tensor([[ 3.1719,  3.9062,  6.1250,  ..., -0.1025, -0.1025, -2.8750]],\n",
      "       device='cuda:0'))\n",
      "score is tensor([[ 4.1875,  5.5312,  6.0625,  ..., -5.5625, -5.5625, -1.0000]],\n",
      "       device='cuda:0')\n",
      "logits is [[0.19222228 0.4908568  0.31692097]]\n"
     ]
    },
    {
     "name": "stderr",
     "output_type": "stream",
     "text": [
      " 65%|██████▍   | 325/501 [02:19<01:15,  2.33it/s]The attention mask and the pad token id were not set. As a consequence, you may observe unexpected behavior. Please pass your input's `attention_mask` to obtain reliable results.\n",
      "Setting `pad_token_id` to `eos_token_id`:128001 for open-end generation.\n"
     ]
    },
    {
     "name": "stdout",
     "output_type": "stream",
     "text": [
      "score (tensor([[ 5.5938,  4.4688,  6.5312,  ..., -1.4922, -1.4922, -2.1406]],\n",
      "       device='cuda:0'), tensor([[ 5.0312,  4.6875,  7.3438,  ...,  0.8945,  0.8945, -3.0781]],\n",
      "       device='cuda:0'))\n",
      "score is tensor([[ 5.5938,  4.4688,  6.5312,  ..., -1.4922, -1.4922, -2.1406]],\n",
      "       device='cuda:0')\n",
      "logits is [[0.68210125 0.18358506 0.1343137 ]]\n"
     ]
    },
    {
     "name": "stderr",
     "output_type": "stream",
     "text": [
      " 65%|██████▌   | 326/501 [02:20<01:15,  2.30it/s]"
     ]
    },
    {
     "name": "stdout",
     "output_type": "stream",
     "text": [
      "score (tensor([[ 4.4688,  5.8750,  6.6875,  ..., -5.4062, -5.4062,  0.8633]],\n",
      "       device='cuda:0'), tensor([[ 3.0312,  4.1875,  6.9062,  ...,  3.0312,  3.0312, -3.0938]],\n",
      "       device='cuda:0'))\n",
      "score is tensor([[ 4.4688,  5.8750,  6.6875,  ..., -5.4062, -5.4062,  0.8633]],\n",
      "       device='cuda:0')\n",
      "logits is [[0.19075696 0.37936553 0.42987746]]\n"
     ]
    },
    {
     "name": "stderr",
     "output_type": "stream",
     "text": [
      "The attention mask and the pad token id were not set. As a consequence, you may observe unexpected behavior. Please pass your input's `attention_mask` to obtain reliable results.\n",
      "Setting `pad_token_id` to `eos_token_id`:128001 for open-end generation.\n",
      " 65%|██████▌   | 327/501 [02:20<01:19,  2.19it/s]"
     ]
    },
    {
     "name": "stdout",
     "output_type": "stream",
     "text": [
      "score (tensor([[ 3.9219,  4.9375,  5.6875,  ...,  0.3828,  0.3828, -1.0312]],\n",
      "       device='cuda:0'), tensor([[ 4.1250,  4.7812,  6.8125,  ...,  1.4844,  1.4844, -1.6641]],\n",
      "       device='cuda:0'))\n",
      "score is tensor([[ 3.9219,  4.9375,  5.6875,  ...,  0.3828,  0.3828, -1.0312]],\n",
      "       device='cuda:0')\n",
      "logits is [[0.5122627  0.27419448 0.21354286]]\n"
     ]
    },
    {
     "name": "stderr",
     "output_type": "stream",
     "text": [
      "The attention mask and the pad token id were not set. As a consequence, you may observe unexpected behavior. Please pass your input's `attention_mask` to obtain reliable results.\n",
      "Setting `pad_token_id` to `eos_token_id`:128001 for open-end generation.\n",
      " 65%|██████▌   | 328/501 [02:21<01:25,  2.03it/s]"
     ]
    },
    {
     "name": "stdout",
     "output_type": "stream",
     "text": [
      "score (tensor([[ 5.3125,  6.0938,  7.2188,  ..., -1.8750, -1.8750,  0.6328]],\n",
      "       device='cuda:0'), tensor([[ 4.9375,  6.3438,  7.7500,  ..., -1.1172, -1.1172, -0.9688]],\n",
      "       device='cuda:0'))\n",
      "score is tensor([[ 5.3125,  6.0938,  7.2188,  ..., -1.8750, -1.8750,  0.6328]],\n",
      "       device='cuda:0')\n",
      "logits is [[0.5231457  0.15955043 0.3173039 ]]\n"
     ]
    },
    {
     "name": "stderr",
     "output_type": "stream",
     "text": [
      "The attention mask and the pad token id were not set. As a consequence, you may observe unexpected behavior. Please pass your input's `attention_mask` to obtain reliable results.\n",
      "Setting `pad_token_id` to `eos_token_id`:128001 for open-end generation.\n",
      " 66%|██████▌   | 329/501 [02:21<01:25,  2.02it/s]The attention mask and the pad token id were not set. As a consequence, you may observe unexpected behavior. Please pass your input's `attention_mask` to obtain reliable results.\n",
      "Setting `pad_token_id` to `eos_token_id`:128001 for open-end generation.\n"
     ]
    },
    {
     "name": "stdout",
     "output_type": "stream",
     "text": [
      "score (tensor([[ 3.8125,  4.9375,  5.6250,  ...,  0.6641,  0.6641, -0.9258]],\n",
      "       device='cuda:0'), tensor([[ 4.4375,  4.6562,  6.0312,  ...,  1.4219,  1.4219, -0.7109]],\n",
      "       device='cuda:0'))\n",
      "score is tensor([[ 3.8125,  4.9375,  5.6250,  ...,  0.6641,  0.6641, -0.9258]],\n",
      "       device='cuda:0')\n",
      "logits is [[0.45174187 0.28269285 0.26556534]]\n"
     ]
    },
    {
     "name": "stderr",
     "output_type": "stream",
     "text": [
      " 66%|██████▌   | 330/501 [02:22<01:20,  2.12it/s]The attention mask and the pad token id were not set. As a consequence, you may observe unexpected behavior. Please pass your input's `attention_mask` to obtain reliable results.\n",
      "Setting `pad_token_id` to `eos_token_id`:128001 for open-end generation.\n"
     ]
    },
    {
     "name": "stdout",
     "output_type": "stream",
     "text": [
      "score (tensor([[ 5.2500,  6.6562,  7.0000,  ..., -5.0312, -5.0312, -0.6289]],\n",
      "       device='cuda:0'), tensor([[ 5.0625,  7.0312,  8.1250,  ..., -1.8828, -1.8828, -0.8945]],\n",
      "       device='cuda:0'))\n",
      "score is tensor([[ 5.2500,  6.6562,  7.0000,  ..., -5.0312, -5.0312, -0.6289]],\n",
      "       device='cuda:0')\n",
      "logits is [[0.2994569  0.33932912 0.36121398]]\n"
     ]
    },
    {
     "name": "stderr",
     "output_type": "stream",
     "text": [
      " 66%|██████▌   | 331/501 [02:22<01:08,  2.48it/s]The attention mask and the pad token id were not set. As a consequence, you may observe unexpected behavior. Please pass your input's `attention_mask` to obtain reliable results.\n",
      "Setting `pad_token_id` to `eos_token_id`:128001 for open-end generation.\n"
     ]
    },
    {
     "name": "stdout",
     "output_type": "stream",
     "text": [
      "score (tensor([[ 4.1250,  5.1875,  6.4062,  ..., -5.5625, -5.5625, -1.6641]],\n",
      "       device='cuda:0'), tensor([[ 4.5938,  6.0312,  7.6250,  ..., -0.1914, -0.1914, -1.9844]],\n",
      "       device='cuda:0'))\n",
      "score is tensor([[ 4.1250,  5.1875,  6.4062,  ..., -5.5625, -5.5625, -1.6641]],\n",
      "       device='cuda:0')\n",
      "logits is [[0.4587161  0.39236066 0.14892331]]\n"
     ]
    },
    {
     "name": "stderr",
     "output_type": "stream",
     "text": [
      " 66%|██████▋   | 332/501 [02:22<00:59,  2.83it/s]"
     ]
    },
    {
     "name": "stdout",
     "output_type": "stream",
     "text": [
      "score (tensor([[ 3.4219,  5.0000,  5.6875,  ..., -5.2812, -5.2812, -1.6172]],\n",
      "       device='cuda:0'), tensor([[ 5.4688,  5.4688,  7.3750,  ...,  0.9766,  0.9766, -2.0938]],\n",
      "       device='cuda:0'))\n",
      "score is tensor([[ 3.4219,  5.0000,  5.6875,  ..., -5.2812, -5.2812, -1.6172]],\n",
      "       device='cuda:0')\n",
      "logits is [[0.3862483  0.4959526  0.11779907]]\n"
     ]
    },
    {
     "name": "stderr",
     "output_type": "stream",
     "text": [
      "The attention mask and the pad token id were not set. As a consequence, you may observe unexpected behavior. Please pass your input's `attention_mask` to obtain reliable results.\n",
      "Setting `pad_token_id` to `eos_token_id`:128001 for open-end generation.\n",
      " 66%|██████▋   | 333/501 [02:23<01:10,  2.40it/s]"
     ]
    },
    {
     "name": "stdout",
     "output_type": "stream",
     "text": [
      "score (tensor([[ 4.2500,  4.9062,  5.7500,  ..., -2.7188, -2.7188,  0.3477]],\n",
      "       device='cuda:0'), tensor([[ 4.5938,  5.1875,  6.6250,  ...,  1.2812,  1.2812, -2.5938]],\n",
      "       device='cuda:0'))\n",
      "score is tensor([[ 4.2500,  4.9062,  5.7500,  ..., -2.7188, -2.7188,  0.3477]],\n",
      "       device='cuda:0')\n",
      "logits is [[0.5870726  0.16819912 0.24472827]]\n"
     ]
    },
    {
     "name": "stderr",
     "output_type": "stream",
     "text": [
      "The attention mask and the pad token id were not set. As a consequence, you may observe unexpected behavior. Please pass your input's `attention_mask` to obtain reliable results.\n",
      "Setting `pad_token_id` to `eos_token_id`:128001 for open-end generation.\n",
      " 67%|██████▋   | 334/501 [02:23<01:20,  2.07it/s]The attention mask and the pad token id were not set. As a consequence, you may observe unexpected behavior. Please pass your input's `attention_mask` to obtain reliable results.\n",
      "Setting `pad_token_id` to `eos_token_id`:128001 for open-end generation.\n"
     ]
    },
    {
     "name": "stdout",
     "output_type": "stream",
     "text": [
      "score (tensor([[ 4.5000,  5.7500,  6.9375,  ..., -1.6875, -1.6875,  0.6719]],\n",
      "       device='cuda:0'), tensor([[ 4.0312,  5.6250,  7.5625,  ...,  0.2236,  0.2236, -2.3750]],\n",
      "       device='cuda:0'))\n",
      "score is tensor([[ 4.5000,  5.7500,  6.9375,  ..., -1.6875, -1.6875,  0.6719]],\n",
      "       device='cuda:0')\n",
      "logits is [[0.67658657 0.10375792 0.2196555 ]]\n"
     ]
    },
    {
     "name": "stderr",
     "output_type": "stream",
     "text": [
      " 67%|██████▋   | 335/501 [02:24<01:16,  2.18it/s]The attention mask and the pad token id were not set. As a consequence, you may observe unexpected behavior. Please pass your input's `attention_mask` to obtain reliable results.\n",
      "Setting `pad_token_id` to `eos_token_id`:128001 for open-end generation.\n"
     ]
    },
    {
     "name": "stdout",
     "output_type": "stream",
     "text": [
      "score (tensor([[ 4.4688,  5.1562,  6.2500,  ..., -2.7969, -2.7969,  1.0938]],\n",
      "       device='cuda:0'), tensor([[4.5312, 5.8125, 7.5000,  ..., 0.5273, 0.5273, 0.0557]],\n",
      "       device='cuda:0'))\n",
      "score is tensor([[ 4.4688,  5.1562,  6.2500,  ..., -2.7969, -2.7969,  1.0938]],\n",
      "       device='cuda:0')\n",
      "logits is [[0.58299667 0.35360536 0.06339794]]\n"
     ]
    },
    {
     "name": "stderr",
     "output_type": "stream",
     "text": [
      " 67%|██████▋   | 336/501 [02:24<01:12,  2.26it/s]"
     ]
    },
    {
     "name": "stdout",
     "output_type": "stream",
     "text": [
      "score (tensor([[ 4.0938,  5.8750,  6.4375,  ...,  1.8672,  1.8672, -1.5469]],\n",
      "       device='cuda:0'), tensor([[ 3.9688,  5.5625,  6.9062,  ..., -0.6172, -0.6172, -1.7266]],\n",
      "       device='cuda:0'))\n",
      "score is tensor([[ 4.0938,  5.8750,  6.4375,  ...,  1.8672,  1.8672, -1.5469]],\n",
      "       device='cuda:0')\n",
      "logits is [[0.68132246 0.15684934 0.16182826]]\n"
     ]
    },
    {
     "name": "stderr",
     "output_type": "stream",
     "text": [
      "The attention mask and the pad token id were not set. As a consequence, you may observe unexpected behavior. Please pass your input's `attention_mask` to obtain reliable results.\n",
      "Setting `pad_token_id` to `eos_token_id`:128001 for open-end generation.\n",
      " 67%|██████▋   | 337/501 [02:25<01:15,  2.16it/s]"
     ]
    },
    {
     "name": "stdout",
     "output_type": "stream",
     "text": [
      "score (tensor([[ 4.0000,  5.0312,  5.5625,  ...,  2.1094,  2.1094, -1.9844]],\n",
      "       device='cuda:0'), tensor([[ 3.9219,  5.0938,  6.7500,  ...,  2.1562,  2.1562, -2.8125]],\n",
      "       device='cuda:0'))\n",
      "score is tensor([[ 4.0000,  5.0312,  5.5625,  ...,  2.1094,  2.1094, -1.9844]],\n",
      "       device='cuda:0')\n",
      "logits is [[0.7960132  0.11467658 0.08931021]]\n"
     ]
    },
    {
     "name": "stderr",
     "output_type": "stream",
     "text": [
      "The attention mask and the pad token id were not set. As a consequence, you may observe unexpected behavior. Please pass your input's `attention_mask` to obtain reliable results.\n",
      "Setting `pad_token_id` to `eos_token_id`:128001 for open-end generation.\n",
      " 67%|██████▋   | 338/501 [02:25<01:20,  2.02it/s]The attention mask and the pad token id were not set. As a consequence, you may observe unexpected behavior. Please pass your input's `attention_mask` to obtain reliable results.\n",
      "Setting `pad_token_id` to `eos_token_id`:128001 for open-end generation.\n"
     ]
    },
    {
     "name": "stdout",
     "output_type": "stream",
     "text": [
      "score (tensor([[ 4.1875,  5.7812,  6.5625,  ..., -4.0625, -4.0625, -2.8125]],\n",
      "       device='cuda:0'), tensor([[ 4.1875,  6.4062,  7.9688,  ...,  0.9258,  0.9258, -1.9141]],\n",
      "       device='cuda:0'))\n",
      "score is tensor([[ 4.1875,  5.7812,  6.5625,  ..., -4.0625, -4.0625, -2.8125]],\n",
      "       device='cuda:0')\n",
      "logits is [[0.5122632  0.31070334 0.17703342]]\n"
     ]
    },
    {
     "name": "stderr",
     "output_type": "stream",
     "text": [
      " 68%|██████▊   | 339/501 [02:25<01:10,  2.30it/s]The attention mask and the pad token id were not set. As a consequence, you may observe unexpected behavior. Please pass your input's `attention_mask` to obtain reliable results.\n",
      "Setting `pad_token_id` to `eos_token_id`:128001 for open-end generation.\n"
     ]
    },
    {
     "name": "stdout",
     "output_type": "stream",
     "text": [
      "score (tensor([[ 5.1562,  5.8125,  7.8438,  ..., -3.1094, -3.1094, -0.8516]],\n",
      "       device='cuda:0'), tensor([[ 4.4688,  6.0000,  7.8125,  ...,  0.0537,  0.0537, -1.1094]],\n",
      "       device='cuda:0'))\n",
      "score is tensor([[ 5.1562,  5.8125,  7.8438,  ..., -3.1094, -3.1094, -0.8516]],\n",
      "       device='cuda:0')\n",
      "logits is [[0.5129941  0.29229525 0.1947106 ]]\n"
     ]
    },
    {
     "name": "stderr",
     "output_type": "stream",
     "text": [
      " 68%|██████▊   | 340/501 [02:26<01:10,  2.28it/s]The attention mask and the pad token id were not set. As a consequence, you may observe unexpected behavior. Please pass your input's `attention_mask` to obtain reliable results.\n",
      "Setting `pad_token_id` to `eos_token_id`:128001 for open-end generation.\n"
     ]
    },
    {
     "name": "stdout",
     "output_type": "stream",
     "text": [
      "score (tensor([[ 4.3125,  6.3438,  7.0625,  ..., -2.5781, -2.5781, -1.8281]],\n",
      "       device='cuda:0'), tensor([[ 4.3750,  6.0000,  7.8750,  ...,  1.0469,  1.0469, -3.7969]],\n",
      "       device='cuda:0'))\n",
      "score is tensor([[ 4.3125,  6.3438,  7.0625,  ..., -2.5781, -2.5781, -1.8281]],\n",
      "       device='cuda:0')\n",
      "logits is [[0.6286733  0.15406302 0.2172637 ]]\n"
     ]
    },
    {
     "name": "stderr",
     "output_type": "stream",
     "text": [
      " 68%|██████▊   | 341/501 [02:26<01:10,  2.25it/s]"
     ]
    },
    {
     "name": "stdout",
     "output_type": "stream",
     "text": [
      "score (tensor([[ 4.8125,  4.8438,  7.2500,  ..., -5.0312, -5.0312, -1.0234]],\n",
      "       device='cuda:0'), tensor([[ 4.5938,  5.3125,  7.5000,  ...,  1.6406,  1.6406, -2.3750]],\n",
      "       device='cuda:0'))\n",
      "score is tensor([[ 4.8125,  4.8438,  7.2500,  ..., -5.0312, -5.0312, -1.0234]],\n",
      "       device='cuda:0')\n",
      "logits is [[0.42633182 0.42633182 0.14733633]]\n"
     ]
    },
    {
     "name": "stderr",
     "output_type": "stream",
     "text": [
      "The attention mask and the pad token id were not set. As a consequence, you may observe unexpected behavior. Please pass your input's `attention_mask` to obtain reliable results.\n",
      "Setting `pad_token_id` to `eos_token_id`:128001 for open-end generation.\n",
      " 68%|██████▊   | 342/501 [02:27<01:13,  2.16it/s]The attention mask and the pad token id were not set. As a consequence, you may observe unexpected behavior. Please pass your input's `attention_mask` to obtain reliable results.\n",
      "Setting `pad_token_id` to `eos_token_id`:128001 for open-end generation.\n"
     ]
    },
    {
     "name": "stdout",
     "output_type": "stream",
     "text": [
      "score (tensor([[ 4.2188,  5.8438,  6.8750,  ..., -3.6875, -3.6875,  0.1631]],\n",
      "       device='cuda:0'), tensor([[ 4.1875,  5.9375,  8.1250,  ...,  0.5391,  0.5391, -1.0234]],\n",
      "       device='cuda:0'))\n",
      "score is tensor([[ 4.2188,  5.8438,  6.8750,  ..., -3.6875, -3.6875,  0.1631]],\n",
      "       device='cuda:0')\n",
      "logits is [[0.447538   0.3274258  0.22503623]]\n"
     ]
    },
    {
     "name": "stderr",
     "output_type": "stream",
     "text": [
      " 68%|██████▊   | 343/501 [02:27<01:10,  2.25it/s]"
     ]
    },
    {
     "name": "stdout",
     "output_type": "stream",
     "text": [
      "score (tensor([[ 4.7188,  5.8438,  6.5625,  ..., -4.5312, -4.5312,  0.4277]],\n",
      "       device='cuda:0'), tensor([[ 4.1250,  5.8125,  7.0938,  ...,  0.7891,  0.7891, -1.2422]],\n",
      "       device='cuda:0'))\n",
      "score is tensor([[ 4.7188,  5.8438,  6.5625,  ..., -4.5312, -4.5312,  0.4277]],\n",
      "       device='cuda:0')\n",
      "logits is [[0.31959206 0.34020397 0.34020397]]\n"
     ]
    },
    {
     "name": "stderr",
     "output_type": "stream",
     "text": [
      "The attention mask and the pad token id were not set. As a consequence, you may observe unexpected behavior. Please pass your input's `attention_mask` to obtain reliable results.\n",
      "Setting `pad_token_id` to `eos_token_id`:128001 for open-end generation.\n",
      " 69%|██████▊   | 344/501 [02:28<01:26,  1.81it/s]The attention mask and the pad token id were not set. As a consequence, you may observe unexpected behavior. Please pass your input's `attention_mask` to obtain reliable results.\n",
      "Setting `pad_token_id` to `eos_token_id`:128001 for open-end generation.\n"
     ]
    },
    {
     "name": "stdout",
     "output_type": "stream",
     "text": [
      "score (tensor([[ 4.1562,  6.7500,  7.9062,  ..., -0.9805, -0.9805, -1.2734]],\n",
      "       device='cuda:0'), tensor([[ 3.4219,  6.2812,  8.1875,  ...,  0.8047,  0.8008, -3.2656]],\n",
      "       device='cuda:0'))\n",
      "score is tensor([[ 4.1562,  6.7500,  7.9062,  ..., -0.9805, -0.9805, -1.2734]],\n",
      "       device='cuda:0')\n",
      "logits is [[0.90033436 0.05755645 0.0421092 ]]\n"
     ]
    },
    {
     "name": "stderr",
     "output_type": "stream",
     "text": [
      " 69%|██████▉   | 345/501 [02:29<01:21,  1.91it/s]The attention mask and the pad token id were not set. As a consequence, you may observe unexpected behavior. Please pass your input's `attention_mask` to obtain reliable results.\n",
      "Setting `pad_token_id` to `eos_token_id`:128001 for open-end generation.\n"
     ]
    },
    {
     "name": "stdout",
     "output_type": "stream",
     "text": [
      "score (tensor([[ 3.8906,  4.6250,  6.8438,  ..., -4.6562, -4.6562, -1.6562]],\n",
      "       device='cuda:0'), tensor([[ 4.0312,  4.7812,  7.5000,  ...,  1.1797,  1.1797, -2.4375]],\n",
      "       device='cuda:0'))\n",
      "score is tensor([[ 3.8906,  4.6250,  6.8438,  ..., -4.6562, -4.6562, -1.6562]],\n",
      "       device='cuda:0')\n",
      "logits is [[0.39983562 0.4530731  0.1470913 ]]\n"
     ]
    },
    {
     "name": "stderr",
     "output_type": "stream",
     "text": [
      " 69%|██████▉   | 346/501 [02:29<01:15,  2.04it/s]The attention mask and the pad token id were not set. As a consequence, you may observe unexpected behavior. Please pass your input's `attention_mask` to obtain reliable results.\n",
      "Setting `pad_token_id` to `eos_token_id`:128001 for open-end generation.\n"
     ]
    },
    {
     "name": "stdout",
     "output_type": "stream",
     "text": [
      "score (tensor([[ 5.2812,  5.3438,  8.1250,  ..., -1.1641, -1.1641, -0.7578]],\n",
      "       device='cuda:0'), tensor([[ 4.7500,  5.4375,  7.4062,  ...,  0.9883,  0.9883, -0.8477]],\n",
      "       device='cuda:0'))\n",
      "score is tensor([[ 5.2812,  5.3438,  8.1250,  ..., -1.1641, -1.1641, -0.7578]],\n",
      "       device='cuda:0')\n",
      "logits is [[0.5519901  0.20306581 0.24494413]]\n"
     ]
    },
    {
     "name": "stderr",
     "output_type": "stream",
     "text": [
      " 69%|██████▉   | 347/501 [02:29<01:09,  2.23it/s]The attention mask and the pad token id were not set. As a consequence, you may observe unexpected behavior. Please pass your input's `attention_mask` to obtain reliable results.\n",
      "Setting `pad_token_id` to `eos_token_id`:128001 for open-end generation.\n"
     ]
    },
    {
     "name": "stdout",
     "output_type": "stream",
     "text": [
      "score (tensor([[ 3.6875,  4.9688,  5.6562,  ..., -4.1875, -4.1875, -1.8203]],\n",
      "       device='cuda:0'), tensor([[ 4.4688,  5.3750,  7.5312,  ...,  0.5977,  0.5977, -2.3125]],\n",
      "       device='cuda:0'))\n",
      "score is tensor([[ 3.6875,  4.9688,  5.6562,  ..., -4.1875, -4.1875, -1.8203]],\n",
      "       device='cuda:0')\n",
      "logits is [[0.3844503  0.42223603 0.19331373]]\n"
     ]
    },
    {
     "name": "stderr",
     "output_type": "stream",
     "text": [
      " 69%|██████▉   | 348/501 [02:30<01:00,  2.54it/s]The attention mask and the pad token id were not set. As a consequence, you may observe unexpected behavior. Please pass your input's `attention_mask` to obtain reliable results.\n",
      "Setting `pad_token_id` to `eos_token_id`:128001 for open-end generation.\n"
     ]
    },
    {
     "name": "stdout",
     "output_type": "stream",
     "text": [
      "score (tensor([[ 4.3750,  5.7188,  6.5000,  ..., -5.4688, -5.4688, -1.3516]],\n",
      "       device='cuda:0'), tensor([[ 4.5312,  5.9688,  7.5625,  ..., -2.8750, -2.8750, -0.1699]],\n",
      "       device='cuda:0'))\n",
      "score is tensor([[ 4.3750,  5.7188,  6.5000,  ..., -5.4688, -5.4688, -1.3516]],\n",
      "       device='cuda:0')\n",
      "logits is [[0.16635159 0.5990551  0.23459335]]\n"
     ]
    },
    {
     "name": "stderr",
     "output_type": "stream",
     "text": [
      " 70%|██████▉   | 349/501 [02:30<00:53,  2.82it/s]The attention mask and the pad token id were not set. As a consequence, you may observe unexpected behavior. Please pass your input's `attention_mask` to obtain reliable results.\n",
      "Setting `pad_token_id` to `eos_token_id`:128001 for open-end generation.\n"
     ]
    },
    {
     "name": "stdout",
     "output_type": "stream",
     "text": [
      "score (tensor([[ 3.8281,  5.7188,  6.8750,  ..., -0.2363, -0.2363, -0.9609]],\n",
      "       device='cuda:0'), tensor([[ 4.5625,  5.3750,  7.6875,  ..., -0.1875, -0.1875, -2.2656]],\n",
      "       device='cuda:0'))\n",
      "score is tensor([[ 3.8281,  5.7188,  6.8750,  ..., -0.2363, -0.2363, -0.9609]],\n",
      "       device='cuda:0')\n",
      "logits is [[0.66695154 0.17950757 0.15354097]]\n"
     ]
    },
    {
     "name": "stderr",
     "output_type": "stream",
     "text": [
      " 70%|██████▉   | 350/501 [02:30<00:47,  3.17it/s]"
     ]
    },
    {
     "name": "stdout",
     "output_type": "stream",
     "text": [
      "score (tensor([[ 4.7188,  5.5312,  6.7188,  ..., -3.1250, -3.1250, -3.0312]],\n",
      "       device='cuda:0'), tensor([[ 3.9844,  5.0625,  7.0938,  ...,  1.1250,  1.1250, -2.8906]],\n",
      "       device='cuda:0'))\n",
      "score is tensor([[ 4.7188,  5.5312,  6.7188,  ..., -3.1250, -3.1250, -3.0312]],\n",
      "       device='cuda:0')\n",
      "logits is [[0.4892214  0.34690994 0.16386864]]\n"
     ]
    },
    {
     "name": "stderr",
     "output_type": "stream",
     "text": [
      "The attention mask and the pad token id were not set. As a consequence, you may observe unexpected behavior. Please pass your input's `attention_mask` to obtain reliable results.\n",
      "Setting `pad_token_id` to `eos_token_id`:128001 for open-end generation.\n",
      " 70%|███████   | 351/501 [02:31<00:58,  2.55it/s]The attention mask and the pad token id were not set. As a consequence, you may observe unexpected behavior. Please pass your input's `attention_mask` to obtain reliable results.\n",
      "Setting `pad_token_id` to `eos_token_id`:128001 for open-end generation.\n"
     ]
    },
    {
     "name": "stdout",
     "output_type": "stream",
     "text": [
      "score (tensor([[ 3.6562,  4.3438,  4.9062,  ..., -2.3125, -2.3125,  0.3574]],\n",
      "       device='cuda:0'), tensor([[ 5.3750,  4.8438,  6.8438,  ..., -0.2412, -0.2412, -2.1406]],\n",
      "       device='cuda:0'))\n",
      "score is tensor([[ 3.6562,  4.3438,  4.9062,  ..., -2.3125, -2.3125,  0.3574]],\n",
      "       device='cuda:0')\n",
      "logits is [[0.5770192  0.2901435  0.13283737]]\n"
     ]
    },
    {
     "name": "stderr",
     "output_type": "stream",
     "text": [
      " 70%|███████   | 352/501 [02:31<00:50,  2.93it/s]The attention mask and the pad token id were not set. As a consequence, you may observe unexpected behavior. Please pass your input's `attention_mask` to obtain reliable results.\n",
      "Setting `pad_token_id` to `eos_token_id`:128001 for open-end generation.\n"
     ]
    },
    {
     "name": "stdout",
     "output_type": "stream",
     "text": [
      "score (tensor([[ 5.6562,  5.3750,  7.2812,  ..., -0.7227, -0.7227, -3.9531]],\n",
      "       device='cuda:0'), tensor([[ 4.3750,  5.0938,  7.0000,  ...,  1.5234,  1.5234, -2.1562]],\n",
      "       device='cuda:0'))\n",
      "score is tensor([[ 5.6562,  5.3750,  7.2812,  ..., -0.7227, -0.7227, -3.9531]],\n",
      "       device='cuda:0')\n",
      "logits is [[0.5515868  0.29524314 0.15317012]]\n"
     ]
    },
    {
     "name": "stderr",
     "output_type": "stream",
     "text": [
      " 70%|███████   | 353/501 [02:31<00:50,  2.91it/s]The attention mask and the pad token id were not set. As a consequence, you may observe unexpected behavior. Please pass your input's `attention_mask` to obtain reliable results.\n",
      "Setting `pad_token_id` to `eos_token_id`:128001 for open-end generation.\n"
     ]
    },
    {
     "name": "stdout",
     "output_type": "stream",
     "text": [
      "score (tensor([[ 4.1562,  5.4375,  6.0938,  ..., -4.1875, -4.1875, -2.9062]],\n",
      "       device='cuda:0'), tensor([[ 5.2188,  6.7188,  8.1875,  ..., -1.9297, -1.9297, -1.3281]],\n",
      "       device='cuda:0'))\n",
      "score is tensor([[ 4.1562,  5.4375,  6.0938,  ..., -4.1875, -4.1875, -2.9062]],\n",
      "       device='cuda:0')\n",
      "logits is [[0.30449638 0.5869321  0.10857153]]\n"
     ]
    },
    {
     "name": "stderr",
     "output_type": "stream",
     "text": [
      " 71%|███████   | 354/501 [02:31<00:49,  2.98it/s]"
     ]
    },
    {
     "name": "stdout",
     "output_type": "stream",
     "text": [
      "score (tensor([[ 4.7500,  5.5625,  6.7500,  ..., -6.0000, -6.0000, -2.1875]],\n",
      "       device='cuda:0'), tensor([[ 4.5625,  6.3750,  8.0000,  ..., -2.2656, -2.2656, -1.3047]],\n",
      "       device='cuda:0'))\n",
      "score is tensor([[ 4.7500,  5.5625,  6.7500,  ..., -6.0000, -6.0000, -2.1875]],\n",
      "       device='cuda:0')\n",
      "logits is [[0.24251992 0.6192963  0.13818368]]\n"
     ]
    },
    {
     "name": "stderr",
     "output_type": "stream",
     "text": [
      "The attention mask and the pad token id were not set. As a consequence, you may observe unexpected behavior. Please pass your input's `attention_mask` to obtain reliable results.\n",
      "Setting `pad_token_id` to `eos_token_id`:128001 for open-end generation.\n",
      " 71%|███████   | 355/501 [02:32<01:00,  2.42it/s]"
     ]
    },
    {
     "name": "stdout",
     "output_type": "stream",
     "text": [
      "score (tensor([[ 4.4688,  6.0312,  5.0625,  ..., -1.7969, -1.7969, -3.7344]],\n",
      "       device='cuda:0'), tensor([[ 4.5000,  6.4688,  7.4062,  ...,  0.6914,  0.6914, -2.6250]],\n",
      "       device='cuda:0'))\n",
      "score is tensor([[ 4.4688,  6.0312,  5.0625,  ..., -1.7969, -1.7969, -3.7344]],\n",
      "       device='cuda:0')\n",
      "logits is [[0.5669404  0.2941248  0.13893472]]\n"
     ]
    },
    {
     "name": "stderr",
     "output_type": "stream",
     "text": [
      "The attention mask and the pad token id were not set. As a consequence, you may observe unexpected behavior. Please pass your input's `attention_mask` to obtain reliable results.\n",
      "Setting `pad_token_id` to `eos_token_id`:128001 for open-end generation.\n",
      " 71%|███████   | 356/501 [02:33<01:06,  2.17it/s]The attention mask and the pad token id were not set. As a consequence, you may observe unexpected behavior. Please pass your input's `attention_mask` to obtain reliable results.\n",
      "Setting `pad_token_id` to `eos_token_id`:128001 for open-end generation.\n"
     ]
    },
    {
     "name": "stdout",
     "output_type": "stream",
     "text": [
      "score (tensor([[ 4.0000,  4.8750,  6.3750,  ...,  0.0217,  0.0217, -0.5977]],\n",
      "       device='cuda:0'), tensor([[ 4.0625,  5.6875,  7.3750,  ..., -1.2578, -1.2578, -0.5312]],\n",
      "       device='cuda:0'))\n",
      "score is tensor([[ 4.0000,  4.8750,  6.3750,  ...,  0.0217,  0.0217, -0.5977]],\n",
      "       device='cuda:0')\n",
      "logits is [[0.4115066  0.4115066  0.17698678]]\n"
     ]
    },
    {
     "name": "stderr",
     "output_type": "stream",
     "text": [
      " 71%|███████▏  | 357/501 [02:33<00:56,  2.54it/s]"
     ]
    },
    {
     "name": "stdout",
     "output_type": "stream",
     "text": [
      "score (tensor([[ 4.0312,  5.6875,  6.8125,  ..., -2.5156, -2.5156, -0.6328]],\n",
      "       device='cuda:0'), tensor([[ 3.9688,  5.8438,  7.5312,  ...,  1.1016,  1.1016, -1.0234]],\n",
      "       device='cuda:0'))\n",
      "score is tensor([[ 4.0312,  5.6875,  6.8125,  ..., -2.5156, -2.5156, -0.6328]],\n",
      "       device='cuda:0')\n",
      "logits is [[0.40133795 0.37702212 0.22163987]]\n"
     ]
    },
    {
     "name": "stderr",
     "output_type": "stream",
     "text": [
      "The attention mask and the pad token id were not set. As a consequence, you may observe unexpected behavior. Please pass your input's `attention_mask` to obtain reliable results.\n",
      "Setting `pad_token_id` to `eos_token_id`:128001 for open-end generation.\n",
      " 71%|███████▏  | 358/501 [02:34<01:07,  2.13it/s]"
     ]
    },
    {
     "name": "stdout",
     "output_type": "stream",
     "text": [
      "score (tensor([[ 4.4062,  5.2812,  5.8438,  ..., -4.3750, -4.3750, -0.7227]],\n",
      "       device='cuda:0'), tensor([[ 5.4375,  5.5312,  7.0000,  ...,  2.0938,  2.0938, -2.0625]],\n",
      "       device='cuda:0'))\n",
      "score is tensor([[ 4.4062,  5.2812,  5.8438,  ..., -4.3750, -4.3750, -0.7227]],\n",
      "       device='cuda:0')\n",
      "logits is [[0.3459542  0.444214   0.20983182]]\n"
     ]
    },
    {
     "name": "stderr",
     "output_type": "stream",
     "text": [
      "The attention mask and the pad token id were not set. As a consequence, you may observe unexpected behavior. Please pass your input's `attention_mask` to obtain reliable results.\n",
      "Setting `pad_token_id` to `eos_token_id`:128001 for open-end generation.\n",
      " 72%|███████▏  | 359/501 [02:34<01:12,  1.96it/s]"
     ]
    },
    {
     "name": "stdout",
     "output_type": "stream",
     "text": [
      "score (tensor([[ 4.5938,  5.9688,  6.2812,  ..., -3.7969, -3.7969, -0.4688]],\n",
      "       device='cuda:0'), tensor([[ 5.4062,  5.3125,  7.1562,  ..., -1.3125, -1.3125, -2.4219]],\n",
      "       device='cuda:0'))\n",
      "score is tensor([[ 4.5938,  5.9688,  6.2812,  ..., -3.7969, -3.7969, -0.4688]],\n",
      "       device='cuda:0')\n",
      "logits is [[0.45372418 0.3319517  0.21432412]]\n"
     ]
    },
    {
     "name": "stderr",
     "output_type": "stream",
     "text": [
      "The attention mask and the pad token id were not set. As a consequence, you may observe unexpected behavior. Please pass your input's `attention_mask` to obtain reliable results.\n",
      "Setting `pad_token_id` to `eos_token_id`:128001 for open-end generation.\n",
      " 72%|███████▏  | 360/501 [02:35<01:17,  1.82it/s]"
     ]
    },
    {
     "name": "stdout",
     "output_type": "stream",
     "text": [
      "score (tensor([[ 4.8438,  6.3125,  6.5625,  ..., -3.5469, -3.5469, -1.8984]],\n",
      "       device='cuda:0'), tensor([[ 5.8438,  6.1562,  7.4062,  ...,  0.1001,  0.0996, -1.8438]],\n",
      "       device='cuda:0'))\n",
      "score is tensor([[ 4.8438,  6.3125,  6.5625,  ..., -3.5469, -3.5469, -1.8984]],\n",
      "       device='cuda:0')\n",
      "logits is [[0.43734327 0.38595408 0.17670265]]\n"
     ]
    },
    {
     "name": "stderr",
     "output_type": "stream",
     "text": [
      "The attention mask and the pad token id were not set. As a consequence, you may observe unexpected behavior. Please pass your input's `attention_mask` to obtain reliable results.\n",
      "Setting `pad_token_id` to `eos_token_id`:128001 for open-end generation.\n",
      " 72%|███████▏  | 361/501 [02:35<01:20,  1.74it/s]The attention mask and the pad token id were not set. As a consequence, you may observe unexpected behavior. Please pass your input's `attention_mask` to obtain reliable results.\n",
      "Setting `pad_token_id` to `eos_token_id`:128001 for open-end generation.\n"
     ]
    },
    {
     "name": "stdout",
     "output_type": "stream",
     "text": [
      "score (tensor([[ 4.6562,  4.7188,  5.2812,  ..., -4.7812, -4.7812, -1.7031]],\n",
      "       device='cuda:0'), tensor([[ 3.4844,  4.2812,  7.2188,  ...,  2.9688,  2.9688, -0.9883]],\n",
      "       device='cuda:0'))\n",
      "score is tensor([[ 4.6562,  4.7188,  5.2812,  ..., -4.7812, -4.7812, -1.7031]],\n",
      "       device='cuda:0')\n",
      "logits is [[0.15840243 0.68806875 0.1535289 ]]\n"
     ]
    },
    {
     "name": "stderr",
     "output_type": "stream",
     "text": [
      " 72%|███████▏  | 362/501 [02:36<01:11,  1.94it/s]The attention mask and the pad token id were not set. As a consequence, you may observe unexpected behavior. Please pass your input's `attention_mask` to obtain reliable results.\n",
      "Setting `pad_token_id` to `eos_token_id`:128001 for open-end generation.\n"
     ]
    },
    {
     "name": "stdout",
     "output_type": "stream",
     "text": [
      "score (tensor([[ 4.9062,  6.3750,  6.9375,  ..., -0.4688, -0.4688, -1.7188]],\n",
      "       device='cuda:0'), tensor([[ 4.9688,  5.2188,  7.1562,  ...,  0.6992,  0.6992, -2.9375]],\n",
      "       device='cuda:0'))\n",
      "score is tensor([[ 4.9062,  6.3750,  6.9375,  ..., -0.4688, -0.4688, -1.7188]],\n",
      "       device='cuda:0')\n",
      "logits is [[0.49027625 0.38182753 0.1278962 ]]\n"
     ]
    },
    {
     "name": "stderr",
     "output_type": "stream",
     "text": [
      " 72%|███████▏  | 363/501 [02:36<01:07,  2.03it/s]The attention mask and the pad token id were not set. As a consequence, you may observe unexpected behavior. Please pass your input's `attention_mask` to obtain reliable results.\n",
      "Setting `pad_token_id` to `eos_token_id`:128001 for open-end generation.\n"
     ]
    },
    {
     "name": "stdout",
     "output_type": "stream",
     "text": [
      "score (tensor([[ 3.8750,  5.0625,  6.2188,  ..., -5.3438, -5.3438, -1.4453]],\n",
      "       device='cuda:0'), tensor([[ 4.4688,  5.8750,  7.5000,  ...,  0.7656,  0.7656, -3.0156]],\n",
      "       device='cuda:0'))\n",
      "score is tensor([[ 3.8750,  5.0625,  6.2188,  ..., -5.3438, -5.3438, -1.4453]],\n",
      "       device='cuda:0')\n",
      "logits is [[0.5215118  0.35842946 0.12005883]]\n"
     ]
    },
    {
     "name": "stderr",
     "output_type": "stream",
     "text": [
      " 73%|███████▎  | 364/501 [02:37<01:05,  2.08it/s]The attention mask and the pad token id were not set. As a consequence, you may observe unexpected behavior. Please pass your input's `attention_mask` to obtain reliable results.\n",
      "Setting `pad_token_id` to `eos_token_id`:128001 for open-end generation.\n"
     ]
    },
    {
     "name": "stdout",
     "output_type": "stream",
     "text": [
      "score (tensor([[ 3.9844,  6.0312,  6.8438,  ..., -0.8477, -0.8477, -2.7969]],\n",
      "       device='cuda:0'), tensor([[ 4.4375,  6.8125,  8.0000,  ...,  0.9180,  0.9180, -2.4219]],\n",
      "       device='cuda:0'))\n",
      "score is tensor([[ 3.9844,  6.0312,  6.8438,  ..., -0.8477, -0.8477, -2.7969]],\n",
      "       device='cuda:0')\n",
      "logits is [[0.6922264  0.21111713 0.09665646]]\n"
     ]
    },
    {
     "name": "stderr",
     "output_type": "stream",
     "text": [
      " 73%|███████▎  | 365/501 [02:37<00:55,  2.47it/s]The attention mask and the pad token id were not set. As a consequence, you may observe unexpected behavior. Please pass your input's `attention_mask` to obtain reliable results.\n",
      "Setting `pad_token_id` to `eos_token_id`:128001 for open-end generation.\n"
     ]
    },
    {
     "name": "stdout",
     "output_type": "stream",
     "text": [
      "score (tensor([[ 3.7031,  5.1562,  6.1875,  ..., -2.4844, -2.4844, -1.2188]],\n",
      "       device='cuda:0'), tensor([[ 4.0312,  5.8750,  7.4062,  ..., -0.0544, -0.0544, -0.3867]],\n",
      "       device='cuda:0'))\n",
      "score is tensor([[ 3.7031,  5.1562,  6.1875,  ..., -2.4844, -2.4844, -1.2188]],\n",
      "       device='cuda:0')\n",
      "logits is [[0.4375525 0.3742585 0.188189 ]]\n"
     ]
    },
    {
     "name": "stderr",
     "output_type": "stream",
     "text": [
      " 73%|███████▎  | 366/501 [02:37<00:47,  2.83it/s]The attention mask and the pad token id were not set. As a consequence, you may observe unexpected behavior. Please pass your input's `attention_mask` to obtain reliable results.\n",
      "Setting `pad_token_id` to `eos_token_id`:128001 for open-end generation.\n"
     ]
    },
    {
     "name": "stdout",
     "output_type": "stream",
     "text": [
      "score (tensor([[ 3.7344,  5.3750,  6.5938,  ..., -3.3906, -3.3906, -2.2500]],\n",
      "       device='cuda:0'), tensor([[ 3.8281,  5.5312,  7.4375,  ...,  0.6211,  0.6211, -1.5703]],\n",
      "       device='cuda:0'))\n",
      "score is tensor([[ 3.7344,  5.3750,  6.5938,  ..., -3.3906, -3.3906, -2.2500]],\n",
      "       device='cuda:0')\n",
      "logits is [[0.540858   0.3384603  0.12068173]]\n"
     ]
    },
    {
     "name": "stderr",
     "output_type": "stream",
     "text": [
      " 73%|███████▎  | 367/501 [02:37<00:42,  3.15it/s]The attention mask and the pad token id were not set. As a consequence, you may observe unexpected behavior. Please pass your input's `attention_mask` to obtain reliable results.\n",
      "Setting `pad_token_id` to `eos_token_id`:128001 for open-end generation.\n"
     ]
    },
    {
     "name": "stdout",
     "output_type": "stream",
     "text": [
      "score (tensor([[ 4.6875,  6.0625,  7.0312,  ..., -4.9375, -4.9375, -1.9062]],\n",
      "       device='cuda:0'), tensor([[ 4.5625,  6.1875,  7.6875,  ...,  0.4961,  0.4961, -1.3203]],\n",
      "       device='cuda:0'))\n",
      "score is tensor([[ 4.6875,  6.0625,  7.0312,  ..., -4.9375, -4.9375, -1.9062]],\n",
      "       device='cuda:0')\n",
      "logits is [[0.4382827  0.3413349  0.22038238]]\n"
     ]
    },
    {
     "name": "stderr",
     "output_type": "stream",
     "text": [
      " 73%|███████▎  | 368/501 [02:38<00:38,  3.42it/s]The attention mask and the pad token id were not set. As a consequence, you may observe unexpected behavior. Please pass your input's `attention_mask` to obtain reliable results.\n",
      "Setting `pad_token_id` to `eos_token_id`:128001 for open-end generation.\n"
     ]
    },
    {
     "name": "stdout",
     "output_type": "stream",
     "text": [
      "score (tensor([[ 3.9219,  6.0625,  5.9688,  ..., -1.2188, -1.2188, -1.4844]],\n",
      "       device='cuda:0'), tensor([[ 4.0000,  6.6875,  7.4062,  ...,  0.4590,  0.4590, -1.2109]],\n",
      "       device='cuda:0'))\n",
      "score is tensor([[ 3.9219,  6.0625,  5.9688,  ..., -1.2188, -1.2188, -1.4844]],\n",
      "       device='cuda:0')\n",
      "logits is [[0.55257994 0.33515668 0.11226343]]\n"
     ]
    },
    {
     "name": "stderr",
     "output_type": "stream",
     "text": [
      " 74%|███████▎  | 369/501 [02:38<00:43,  3.06it/s]The attention mask and the pad token id were not set. As a consequence, you may observe unexpected behavior. Please pass your input's `attention_mask` to obtain reliable results.\n",
      "Setting `pad_token_id` to `eos_token_id`:128001 for open-end generation.\n"
     ]
    },
    {
     "name": "stdout",
     "output_type": "stream",
     "text": [
      "score (tensor([[ 4.6562,  5.8438,  8.0625,  ..., -4.2188, -4.2188, -1.8281]],\n",
      "       device='cuda:0'), tensor([[ 4.6562,  4.8750,  9.3125,  ...,  2.8906,  2.8906, -2.0625]],\n",
      "       device='cuda:0'))\n",
      "score is tensor([[ 4.6562,  5.8438,  8.0625,  ..., -4.2188, -4.2188, -1.8281]],\n",
      "       device='cuda:0')\n",
      "logits is [[0.35455492 0.40176335 0.24368179]]\n"
     ]
    },
    {
     "name": "stderr",
     "output_type": "stream",
     "text": [
      " 74%|███████▍  | 370/501 [02:38<00:39,  3.30it/s]"
     ]
    },
    {
     "name": "stdout",
     "output_type": "stream",
     "text": [
      "score (tensor([[ 4.3750,  5.0625,  6.5000,  ..., -1.4453, -1.4453,  0.1689]],\n",
      "       device='cuda:0'), tensor([[ 4.1250,  5.3750,  7.1562,  ..., -0.8047, -0.8047, -0.8008]],\n",
      "       device='cuda:0'))\n",
      "score is tensor([[ 4.3750,  5.0625,  6.5000,  ..., -1.4453, -1.4453,  0.1689]],\n",
      "       device='cuda:0')\n",
      "logits is [[0.6419217  0.16230322 0.19577506]]\n"
     ]
    },
    {
     "name": "stderr",
     "output_type": "stream",
     "text": [
      "The attention mask and the pad token id were not set. As a consequence, you may observe unexpected behavior. Please pass your input's `attention_mask` to obtain reliable results.\n",
      "Setting `pad_token_id` to `eos_token_id`:128001 for open-end generation.\n",
      " 74%|███████▍  | 371/501 [02:39<00:51,  2.54it/s]The attention mask and the pad token id were not set. As a consequence, you may observe unexpected behavior. Please pass your input's `attention_mask` to obtain reliable results.\n",
      "Setting `pad_token_id` to `eos_token_id`:128001 for open-end generation.\n"
     ]
    },
    {
     "name": "stdout",
     "output_type": "stream",
     "text": [
      "score (tensor([[ 4.5625,  6.0625,  6.6875,  ..., -5.2812, -5.2812, -1.1797]],\n",
      "       device='cuda:0'), tensor([[ 4.9688,  6.7188,  8.5625,  ..., -2.1719, -2.1719, -0.8633]],\n",
      "       device='cuda:0'))\n",
      "score is tensor([[ 4.5625,  6.0625,  6.6875,  ..., -5.2812, -5.2812, -1.1797]],\n",
      "       device='cuda:0')\n",
      "logits is [[0.3490689  0.39554688 0.25538427]]\n"
     ]
    },
    {
     "name": "stderr",
     "output_type": "stream",
     "text": [
      " 74%|███████▍  | 372/501 [02:39<00:51,  2.49it/s]"
     ]
    },
    {
     "name": "stdout",
     "output_type": "stream",
     "text": [
      "score (tensor([[ 4.2500,  5.9062,  7.1562,  ..., -0.5625, -0.5625,  0.4043]],\n",
      "       device='cuda:0'), tensor([[ 4.0625,  6.0625,  7.6875,  ...,  0.4082,  0.4082, -0.7266]],\n",
      "       device='cuda:0'))\n",
      "score is tensor([[ 4.2500,  5.9062,  7.1562,  ..., -0.5625, -0.5625,  0.4043]],\n",
      "       device='cuda:0')\n",
      "logits is [[0.68731725 0.11576311 0.1969197 ]]\n"
     ]
    },
    {
     "name": "stderr",
     "output_type": "stream",
     "text": [
      "The attention mask and the pad token id were not set. As a consequence, you may observe unexpected behavior. Please pass your input's `attention_mask` to obtain reliable results.\n",
      "Setting `pad_token_id` to `eos_token_id`:128001 for open-end generation.\n",
      " 74%|███████▍  | 373/501 [02:40<01:05,  1.95it/s]"
     ]
    },
    {
     "name": "stdout",
     "output_type": "stream",
     "text": [
      "score (tensor([[ 4.6250,  6.1250,  6.5938,  ..., -3.4062, -3.4062, -1.3359]],\n",
      "       device='cuda:0'), tensor([[ 4.0938,  5.9688,  7.5938,  ...,  2.1875,  2.1875, -2.4688]],\n",
      "       device='cuda:0'))\n",
      "score is tensor([[ 4.6250,  6.1250,  6.5938,  ..., -3.4062, -3.4062, -1.3359]],\n",
      "       device='cuda:0')\n",
      "logits is [[0.4824824  0.2749102  0.24260738]]\n"
     ]
    },
    {
     "name": "stderr",
     "output_type": "stream",
     "text": [
      "The attention mask and the pad token id were not set. As a consequence, you may observe unexpected behavior. Please pass your input's `attention_mask` to obtain reliable results.\n",
      "Setting `pad_token_id` to `eos_token_id`:128001 for open-end generation.\n",
      " 75%|███████▍  | 374/501 [02:41<01:07,  1.89it/s]The attention mask and the pad token id were not set. As a consequence, you may observe unexpected behavior. Please pass your input's `attention_mask` to obtain reliable results.\n",
      "Setting `pad_token_id` to `eos_token_id`:128001 for open-end generation.\n"
     ]
    },
    {
     "name": "stdout",
     "output_type": "stream",
     "text": [
      "score (tensor([[ 4.0312,  5.6562,  5.2812,  ..., -4.5312, -4.5312, -1.5859]],\n",
      "       device='cuda:0'), tensor([[ 3.9688,  6.3438,  6.3438,  ...,  2.1094,  2.1094, -3.2812]],\n",
      "       device='cuda:0'))\n",
      "score is tensor([[ 4.0312,  5.6562,  5.2812,  ..., -4.5312, -4.5312, -1.5859]],\n",
      "       device='cuda:0')\n",
      "logits is [[0.5039166  0.3686733  0.12741007]]\n"
     ]
    },
    {
     "name": "stderr",
     "output_type": "stream",
     "text": [
      " 75%|███████▍  | 375/501 [02:41<01:02,  2.03it/s]"
     ]
    },
    {
     "name": "stdout",
     "output_type": "stream",
     "text": [
      "score (tensor([[ 4.1875,  5.2188,  6.3750,  ..., -2.3750, -2.3750, -1.7266]],\n",
      "       device='cuda:0'), tensor([[ 4.1875,  5.4375,  7.0625,  ..., -0.3672, -0.3672, -0.7031]],\n",
      "       device='cuda:0'))\n",
      "score is tensor([[ 4.1875,  5.2188,  6.3750,  ..., -2.3750, -2.3750, -1.7266]],\n",
      "       device='cuda:0')\n",
      "logits is [[0.33434433 0.44293427 0.22272134]]\n"
     ]
    },
    {
     "name": "stderr",
     "output_type": "stream",
     "text": [
      "The attention mask and the pad token id were not set. As a consequence, you may observe unexpected behavior. Please pass your input's `attention_mask` to obtain reliable results.\n",
      "Setting `pad_token_id` to `eos_token_id`:128001 for open-end generation.\n",
      " 75%|███████▌  | 376/501 [02:42<01:04,  1.94it/s]The attention mask and the pad token id were not set. As a consequence, you may observe unexpected behavior. Please pass your input's `attention_mask` to obtain reliable results.\n",
      "Setting `pad_token_id` to `eos_token_id`:128001 for open-end generation.\n"
     ]
    },
    {
     "name": "stdout",
     "output_type": "stream",
     "text": [
      "score (tensor([[ 4.7500,  6.0938,  7.3438,  ..., -2.6562, -2.6562, -0.0684]],\n",
      "       device='cuda:0'), tensor([[ 4.1562,  5.7812,  7.7500,  ..., -1.9844, -1.9844, -0.8242]],\n",
      "       device='cuda:0'))\n",
      "score is tensor([[ 4.7500,  6.0938,  7.3438,  ..., -2.6562, -2.6562, -0.0684]],\n",
      "       device='cuda:0')\n",
      "logits is [[0.5761169  0.21194157 0.21194157]]\n"
     ]
    },
    {
     "name": "stderr",
     "output_type": "stream",
     "text": [
      " 75%|███████▌  | 377/501 [02:42<00:57,  2.15it/s]"
     ]
    },
    {
     "name": "stdout",
     "output_type": "stream",
     "text": [
      "score (tensor([[ 4.8125,  6.0938,  7.6250,  ..., -1.4453, -1.4453, -1.0234]],\n",
      "       device='cuda:0'), tensor([[ 4.2500,  6.0625,  7.7500,  ...,  1.4297,  1.4297, -1.3828]],\n",
      "       device='cuda:0'))\n",
      "score is tensor([[ 4.8125,  6.0938,  7.6250,  ..., -1.4453, -1.4453, -1.0234]],\n",
      "       device='cuda:0')\n",
      "logits is [[0.63572407 0.182138   0.182138  ]]\n"
     ]
    },
    {
     "name": "stderr",
     "output_type": "stream",
     "text": [
      "The attention mask and the pad token id were not set. As a consequence, you may observe unexpected behavior. Please pass your input's `attention_mask` to obtain reliable results.\n",
      "Setting `pad_token_id` to `eos_token_id`:128001 for open-end generation.\n",
      " 75%|███████▌  | 378/501 [02:43<01:02,  1.97it/s]The attention mask and the pad token id were not set. As a consequence, you may observe unexpected behavior. Please pass your input's `attention_mask` to obtain reliable results.\n",
      "Setting `pad_token_id` to `eos_token_id`:128001 for open-end generation.\n"
     ]
    },
    {
     "name": "stdout",
     "output_type": "stream",
     "text": [
      "score (tensor([[ 4.5000,  5.1562,  6.5000,  ..., -4.9062, -4.9062, -2.2031]],\n",
      "       device='cuda:0'), tensor([[ 3.7500,  5.4688,  7.5625,  ...,  2.0625,  2.0625, -3.9062]],\n",
      "       device='cuda:0'))\n",
      "score is tensor([[ 4.5000,  5.1562,  6.5000,  ..., -4.9062, -4.9062, -2.2031]],\n",
      "       device='cuda:0')\n",
      "logits is [[0.29283336 0.5644511  0.14271559]]\n"
     ]
    },
    {
     "name": "stderr",
     "output_type": "stream",
     "text": [
      " 76%|███████▌  | 379/501 [02:43<00:51,  2.35it/s]"
     ]
    },
    {
     "name": "stdout",
     "output_type": "stream",
     "text": [
      "score (tensor([[ 4.4062,  5.6562,  6.7188,  ..., -2.3281, -2.3281, -0.9375]],\n",
      "       device='cuda:0'), tensor([[ 4.0938,  5.7812,  7.6250,  ...,  2.0469,  2.0469, -1.9453]],\n",
      "       device='cuda:0'))\n",
      "score is tensor([[ 4.4062,  5.6562,  6.7188,  ..., -2.3281, -2.3281, -0.9375]],\n",
      "       device='cuda:0')\n",
      "logits is [[0.52286977 0.30737928 0.16975096]]\n"
     ]
    },
    {
     "name": "stderr",
     "output_type": "stream",
     "text": [
      "The attention mask and the pad token id were not set. As a consequence, you may observe unexpected behavior. Please pass your input's `attention_mask` to obtain reliable results.\n",
      "Setting `pad_token_id` to `eos_token_id`:128001 for open-end generation.\n",
      " 76%|███████▌  | 380/501 [02:43<00:57,  2.11it/s]The attention mask and the pad token id were not set. As a consequence, you may observe unexpected behavior. Please pass your input's `attention_mask` to obtain reliable results.\n",
      "Setting `pad_token_id` to `eos_token_id`:128001 for open-end generation.\n"
     ]
    },
    {
     "name": "stdout",
     "output_type": "stream",
     "text": [
      "score (tensor([[ 4.0000,  5.5938,  6.9688,  ..., -2.5781, -2.5781, -1.7500]],\n",
      "       device='cuda:0'), tensor([[ 4.5000,  6.0312,  8.1250,  ..., -2.4219, -2.4219, -1.6250]],\n",
      "       device='cuda:0'))\n",
      "score is tensor([[ 4.0000,  5.5938,  6.9688,  ..., -2.5781, -2.5781, -1.7500]],\n",
      "       device='cuda:0')\n",
      "logits is [[0.5022199  0.23723188 0.26054826]]\n"
     ]
    },
    {
     "name": "stderr",
     "output_type": "stream",
     "text": [
      " 76%|███████▌  | 381/501 [02:44<00:50,  2.36it/s]The attention mask and the pad token id were not set. As a consequence, you may observe unexpected behavior. Please pass your input's `attention_mask` to obtain reliable results.\n",
      "Setting `pad_token_id` to `eos_token_id`:128001 for open-end generation.\n"
     ]
    },
    {
     "name": "stdout",
     "output_type": "stream",
     "text": [
      "score (tensor([[ 4.4062,  5.4688,  6.2188,  ..., -4.8438, -4.8438, -4.3125]],\n",
      "       device='cuda:0'), tensor([[ 3.8125,  5.6875,  7.4375,  ...,  4.2812,  4.2812, -2.8281]],\n",
      "       device='cuda:0'))\n",
      "score is tensor([[ 4.4062,  5.4688,  6.2188,  ..., -4.8438, -4.8438, -4.3125]],\n",
      "       device='cuda:0')\n",
      "logits is [[0.33416012 0.5175573  0.14828266]]\n"
     ]
    },
    {
     "name": "stderr",
     "output_type": "stream",
     "text": [
      " 76%|███████▌  | 382/501 [02:44<00:46,  2.55it/s]The attention mask and the pad token id were not set. As a consequence, you may observe unexpected behavior. Please pass your input's `attention_mask` to obtain reliable results.\n",
      "Setting `pad_token_id` to `eos_token_id`:128001 for open-end generation.\n"
     ]
    },
    {
     "name": "stdout",
     "output_type": "stream",
     "text": [
      "score (tensor([[ 4.9375,  5.8125,  7.1875,  ..., -5.5312, -5.5312, -0.9844]],\n",
      "       device='cuda:0'), tensor([[ 4.8750,  6.0000,  7.8750,  ...,  1.1875,  1.1875, -1.8594]],\n",
      "       device='cuda:0'))\n",
      "score is tensor([[ 4.9375,  5.8125,  7.1875,  ..., -5.5312, -5.5312, -0.9844]],\n",
      "       device='cuda:0')\n",
      "logits is [[0.30450436 0.39099133 0.30450436]]\n"
     ]
    },
    {
     "name": "stderr",
     "output_type": "stream",
     "text": [
      " 76%|███████▋  | 383/501 [02:44<00:47,  2.46it/s]The attention mask and the pad token id were not set. As a consequence, you may observe unexpected behavior. Please pass your input's `attention_mask` to obtain reliable results.\n",
      "Setting `pad_token_id` to `eos_token_id`:128001 for open-end generation.\n"
     ]
    },
    {
     "name": "stdout",
     "output_type": "stream",
     "text": [
      "score (tensor([[ 4.7812,  6.2812,  6.8750,  ..., -2.9531, -2.9531, -0.3477]],\n",
      "       device='cuda:0'), tensor([[ 5.0000,  5.5000,  7.9375,  ..., -0.9414, -0.9414, -0.8906]],\n",
      "       device='cuda:0'))\n",
      "score is tensor([[ 4.7812,  6.2812,  6.8750,  ..., -2.9531, -2.9531, -0.3477]],\n",
      "       device='cuda:0')\n",
      "logits is [[0.594627   0.16512196 0.24025103]]\n"
     ]
    },
    {
     "name": "stderr",
     "output_type": "stream",
     "text": [
      " 77%|███████▋  | 384/501 [02:45<00:44,  2.64it/s]The attention mask and the pad token id were not set. As a consequence, you may observe unexpected behavior. Please pass your input's `attention_mask` to obtain reliable results.\n",
      "Setting `pad_token_id` to `eos_token_id`:128001 for open-end generation.\n"
     ]
    },
    {
     "name": "stdout",
     "output_type": "stream",
     "text": [
      "score (tensor([[ 5.0625,  5.3438,  6.7812,  ..., -1.0703, -1.0703, -1.4844]],\n",
      "       device='cuda:0'), tensor([[ 5.5938,  7.1875,  7.4375,  ...,  0.9219,  0.9219, -1.0938]],\n",
      "       device='cuda:0'))\n",
      "score is tensor([[ 5.0625,  5.3438,  6.7812,  ..., -1.0703, -1.0703, -1.4844]],\n",
      "       device='cuda:0')\n",
      "logits is [[0.7042046  0.13866611 0.15712929]]\n"
     ]
    },
    {
     "name": "stderr",
     "output_type": "stream",
     "text": [
      " 77%|███████▋  | 385/501 [02:45<00:40,  2.89it/s]"
     ]
    },
    {
     "name": "stdout",
     "output_type": "stream",
     "text": [
      "score (tensor([[ 5.2188,  5.8438,  7.9688,  ..., -0.5156, -0.5156, -0.6055]],\n",
      "       device='cuda:0'), tensor([[ 4.7500,  6.0312,  7.9375,  ..., -1.0078, -1.0078, -0.6172]],\n",
      "       device='cuda:0'))\n",
      "score is tensor([[ 5.2188,  5.8438,  7.9688,  ..., -0.5156, -0.5156, -0.6055]],\n",
      "       device='cuda:0')\n",
      "logits is [[0.70298666 0.13003945 0.16697396]]\n"
     ]
    },
    {
     "name": "stderr",
     "output_type": "stream",
     "text": [
      "The attention mask and the pad token id were not set. As a consequence, you may observe unexpected behavior. Please pass your input's `attention_mask` to obtain reliable results.\n",
      "Setting `pad_token_id` to `eos_token_id`:128001 for open-end generation.\n",
      " 77%|███████▋  | 386/501 [02:46<00:44,  2.56it/s]"
     ]
    },
    {
     "name": "stdout",
     "output_type": "stream",
     "text": [
      "score (tensor([[ 4.1562,  5.0938,  6.0312,  ..., -4.1562, -4.1562, -2.2031]],\n",
      "       device='cuda:0'), tensor([[ 3.7344,  4.4375,  7.1875,  ...,  3.0000,  3.0000, -2.6875]],\n",
      "       device='cuda:0'))\n",
      "score is tensor([[ 4.1562,  5.0938,  6.0312,  ..., -4.1562, -4.1562, -2.2031]],\n",
      "       device='cuda:0')\n",
      "logits is [[0.24074836 0.5775253  0.1817264 ]]\n"
     ]
    },
    {
     "name": "stderr",
     "output_type": "stream",
     "text": [
      "The attention mask and the pad token id were not set. As a consequence, you may observe unexpected behavior. Please pass your input's `attention_mask` to obtain reliable results.\n",
      "Setting `pad_token_id` to `eos_token_id`:128001 for open-end generation.\n",
      " 77%|███████▋  | 387/501 [02:46<00:48,  2.36it/s]The attention mask and the pad token id were not set. As a consequence, you may observe unexpected behavior. Please pass your input's `attention_mask` to obtain reliable results.\n",
      "Setting `pad_token_id` to `eos_token_id`:128001 for open-end generation.\n"
     ]
    },
    {
     "name": "stdout",
     "output_type": "stream",
     "text": [
      "score (tensor([[ 4.9688,  5.4062,  7.3125,  ..., -6.0625, -6.0625, -0.5391]],\n",
      "       device='cuda:0'), tensor([[ 5.2188,  5.6875,  7.9062,  ..., -1.3047, -1.3047, -0.0105]],\n",
      "       device='cuda:0'))\n",
      "score is tensor([[ 4.9688,  5.4062,  7.3125,  ..., -6.0625, -6.0625, -0.5391]],\n",
      "       device='cuda:0')\n",
      "logits is [[0.32970858 0.45065817 0.21963325]]\n"
     ]
    },
    {
     "name": "stderr",
     "output_type": "stream",
     "text": [
      " 77%|███████▋  | 388/501 [02:46<00:47,  2.40it/s]The attention mask and the pad token id were not set. As a consequence, you may observe unexpected behavior. Please pass your input's `attention_mask` to obtain reliable results.\n",
      "Setting `pad_token_id` to `eos_token_id`:128001 for open-end generation.\n"
     ]
    },
    {
     "name": "stdout",
     "output_type": "stream",
     "text": [
      "score (tensor([[ 4.2812,  5.1250,  5.8125,  ..., -5.1875, -5.1875, -2.6562]],\n",
      "       device='cuda:0'), tensor([[ 3.4531,  4.3125,  6.6562,  ...,  2.4688,  2.4688, -2.5156]],\n",
      "       device='cuda:0'))\n",
      "score is tensor([[ 4.2812,  5.1250,  5.8125,  ..., -5.1875, -5.1875, -2.6562]],\n",
      "       device='cuda:0')\n",
      "logits is [[0.22542392 0.57564014 0.19893593]]\n"
     ]
    },
    {
     "name": "stderr",
     "output_type": "stream",
     "text": [
      " 78%|███████▊  | 389/501 [02:47<00:47,  2.34it/s]The attention mask and the pad token id were not set. As a consequence, you may observe unexpected behavior. Please pass your input's `attention_mask` to obtain reliable results.\n",
      "Setting `pad_token_id` to `eos_token_id`:128001 for open-end generation.\n"
     ]
    },
    {
     "name": "stdout",
     "output_type": "stream",
     "text": [
      "score (tensor([[ 5.2188,  6.0312,  7.0000,  ..., -0.9219, -0.9219, -0.1328]],\n",
      "       device='cuda:0'), tensor([[ 4.6562,  5.1562,  7.2188,  ..., -0.3633, -0.3633, -0.2109]],\n",
      "       device='cuda:0'))\n",
      "score is tensor([[ 5.2188,  6.0312,  7.0000,  ..., -0.9219, -0.9219, -0.1328]],\n",
      "       device='cuda:0')\n",
      "logits is [[0.7295619  0.14365926 0.12677886]]\n"
     ]
    },
    {
     "name": "stderr",
     "output_type": "stream",
     "text": [
      " 78%|███████▊  | 390/501 [02:47<00:44,  2.49it/s]"
     ]
    },
    {
     "name": "stdout",
     "output_type": "stream",
     "text": [
      "score (tensor([[ 4.4062,  5.5312,  6.9375,  ..., -4.6875, -4.6875, -1.0469]],\n",
      "       device='cuda:0'), tensor([[ 4.3125,  5.9375,  7.5938,  ...,  0.4863,  0.4863, -1.2031]],\n",
      "       device='cuda:0'))\n",
      "score is tensor([[ 4.4062,  5.5312,  6.9375,  ..., -4.6875, -4.6875, -1.0469]],\n",
      "       device='cuda:0')\n",
      "logits is [[0.33409825 0.42899063 0.23691113]]\n"
     ]
    },
    {
     "name": "stderr",
     "output_type": "stream",
     "text": [
      "The attention mask and the pad token id were not set. As a consequence, you may observe unexpected behavior. Please pass your input's `attention_mask` to obtain reliable results.\n",
      "Setting `pad_token_id` to `eos_token_id`:128001 for open-end generation.\n",
      " 78%|███████▊  | 391/501 [02:48<00:50,  2.18it/s]The attention mask and the pad token id were not set. As a consequence, you may observe unexpected behavior. Please pass your input's `attention_mask` to obtain reliable results.\n",
      "Setting `pad_token_id` to `eos_token_id`:128001 for open-end generation.\n"
     ]
    },
    {
     "name": "stdout",
     "output_type": "stream",
     "text": [
      "score (tensor([[ 3.0938,  5.0625,  5.4062,  ..., -1.0078, -1.0078,  1.1172]],\n",
      "       device='cuda:0'), tensor([[ 3.9688,  4.4375,  3.4531,  ..., -2.0938, -2.0938, -0.4492]],\n",
      "       device='cuda:0'))\n",
      "score is tensor([[ 3.0938,  5.0625,  5.4062,  ..., -1.0078, -1.0078,  1.1172]],\n",
      "       device='cuda:0')\n",
      "logits is [[0.56436086 0.2280224  0.20761676]]\n"
     ]
    },
    {
     "name": "stderr",
     "output_type": "stream",
     "text": [
      " 78%|███████▊  | 392/501 [02:48<00:45,  2.39it/s]The attention mask and the pad token id were not set. As a consequence, you may observe unexpected behavior. Please pass your input's `attention_mask` to obtain reliable results.\n",
      "Setting `pad_token_id` to `eos_token_id`:128001 for open-end generation.\n"
     ]
    },
    {
     "name": "stdout",
     "output_type": "stream",
     "text": [
      "score (tensor([[ 5.2500,  5.2500,  7.5000,  ..., -5.0312, -5.0312, -0.7461]],\n",
      "       device='cuda:0'), tensor([[ 4.7812,  6.0000,  8.1250,  ..., -0.0388, -0.0388, -1.0938]],\n",
      "       device='cuda:0'))\n",
      "score is tensor([[ 5.2500,  5.2500,  7.5000,  ..., -5.0312, -5.0312, -0.7461]],\n",
      "       device='cuda:0')\n",
      "logits is [[0.4382827  0.3413349  0.22038238]]\n"
     ]
    },
    {
     "name": "stderr",
     "output_type": "stream",
     "text": [
      " 78%|███████▊  | 393/501 [02:49<00:46,  2.34it/s]The attention mask and the pad token id were not set. As a consequence, you may observe unexpected behavior. Please pass your input's `attention_mask` to obtain reliable results.\n",
      "Setting `pad_token_id` to `eos_token_id`:128001 for open-end generation.\n"
     ]
    },
    {
     "name": "stdout",
     "output_type": "stream",
     "text": [
      "score (tensor([[ 4.0938,  5.7188,  6.5625,  ...,  0.5703,  0.5703, -1.2500]],\n",
      "       device='cuda:0'), tensor([[ 4.3438,  5.5312,  7.3750,  ...,  0.2793,  0.2793, -1.6250]],\n",
      "       device='cuda:0'))\n",
      "score is tensor([[ 4.0938,  5.7188,  6.5625,  ...,  0.5703,  0.5703, -1.2500]],\n",
      "       device='cuda:0')\n",
      "logits is [[0.68132246 0.16182826 0.15684934]]\n"
     ]
    },
    {
     "name": "stderr",
     "output_type": "stream",
     "text": [
      " 79%|███████▊  | 394/501 [02:49<00:41,  2.56it/s]"
     ]
    },
    {
     "name": "stdout",
     "output_type": "stream",
     "text": [
      "score (tensor([[ 4.6562,  5.5938,  7.5312,  ..., -3.2969, -3.2969, -1.5312]],\n",
      "       device='cuda:0'), tensor([[ 4.3125,  5.8438,  7.8750,  ...,  1.5547,  1.5547, -2.2656]],\n",
      "       device='cuda:0'))\n",
      "score is tensor([[ 4.6562,  5.5938,  7.5312,  ..., -3.2969, -3.2969, -1.5312]],\n",
      "       device='cuda:0')\n",
      "logits is [[0.50003064 0.2849089  0.2150605 ]]\n"
     ]
    },
    {
     "name": "stderr",
     "output_type": "stream",
     "text": [
      "The attention mask and the pad token id were not set. As a consequence, you may observe unexpected behavior. Please pass your input's `attention_mask` to obtain reliable results.\n",
      "Setting `pad_token_id` to `eos_token_id`:128001 for open-end generation.\n",
      " 79%|███████▉  | 395/501 [02:50<00:52,  2.04it/s]"
     ]
    },
    {
     "name": "stdout",
     "output_type": "stream",
     "text": [
      "score (tensor([[ 5.3750,  5.1250,  6.7188,  ..., -5.2812, -5.2812,  3.6094]],\n",
      "       device='cuda:0'), tensor([[6.1250, 5.0000, 8.5625,  ..., 1.2969, 1.2969, 3.4219]],\n",
      "       device='cuda:0'))\n",
      "score is tensor([[ 5.3750,  5.1250,  6.7188,  ..., -5.2812, -5.2812,  3.6094]],\n",
      "       device='cuda:0')\n",
      "logits is [[0.07070306 0.5224289  0.406868  ]]\n"
     ]
    },
    {
     "name": "stderr",
     "output_type": "stream",
     "text": [
      "The attention mask and the pad token id were not set. As a consequence, you may observe unexpected behavior. Please pass your input's `attention_mask` to obtain reliable results.\n",
      "Setting `pad_token_id` to `eos_token_id`:128001 for open-end generation.\n",
      " 79%|███████▉  | 396/501 [02:50<00:51,  2.02it/s]"
     ]
    },
    {
     "name": "stdout",
     "output_type": "stream",
     "text": [
      "score (tensor([[ 4.0312,  5.7188,  6.9375,  ...,  1.8750,  1.8750, -2.8281]],\n",
      "       device='cuda:0'), tensor([[ 3.8750,  5.4688,  7.3438,  ...,  1.9922,  1.9922, -4.2500]],\n",
      "       device='cuda:0'))\n",
      "score is tensor([[ 4.0312,  5.7188,  6.9375,  ...,  1.8750,  1.8750, -2.8281]],\n",
      "       device='cuda:0')\n",
      "logits is [[0.69826084 0.12519127 0.17654799]]\n"
     ]
    },
    {
     "name": "stderr",
     "output_type": "stream",
     "text": [
      "The attention mask and the pad token id were not set. As a consequence, you may observe unexpected behavior. Please pass your input's `attention_mask` to obtain reliable results.\n",
      "Setting `pad_token_id` to `eos_token_id`:128001 for open-end generation.\n",
      " 79%|███████▉  | 397/501 [02:51<00:53,  1.94it/s]The attention mask and the pad token id were not set. As a consequence, you may observe unexpected behavior. Please pass your input's `attention_mask` to obtain reliable results.\n",
      "Setting `pad_token_id` to `eos_token_id`:128001 for open-end generation.\n"
     ]
    },
    {
     "name": "stdout",
     "output_type": "stream",
     "text": [
      "score (tensor([[ 4.0000,  5.5312,  6.3438,  ..., -3.4844, -3.4844, -0.8398]],\n",
      "       device='cuda:0'), tensor([[ 4.6250,  6.0938,  7.8125,  ..., -0.3086, -0.3086, -0.6094]],\n",
      "       device='cuda:0'))\n",
      "score is tensor([[ 4.0000,  5.5312,  6.3438,  ..., -3.4844, -3.4844, -0.8398]],\n",
      "       device='cuda:0')\n",
      "logits is [[0.40300536 0.42899698 0.16799763]]\n"
     ]
    },
    {
     "name": "stderr",
     "output_type": "stream",
     "text": [
      " 79%|███████▉  | 398/501 [02:51<00:45,  2.28it/s]The attention mask and the pad token id were not set. As a consequence, you may observe unexpected behavior. Please pass your input's `attention_mask` to obtain reliable results.\n",
      "Setting `pad_token_id` to `eos_token_id`:128001 for open-end generation.\n"
     ]
    },
    {
     "name": "stdout",
     "output_type": "stream",
     "text": [
      "score (tensor([[ 4.4062,  4.8125,  6.1875,  ..., -2.9531, -2.9531, -2.6875]],\n",
      "       device='cuda:0'), tensor([[ 3.5781,  5.0625,  7.1875,  ..., -2.0469, -2.0469, -1.4453]],\n",
      "       device='cuda:0'))\n",
      "score is tensor([[ 4.4062,  4.8125,  6.1875,  ..., -2.9531, -2.9531, -2.6875]],\n",
      "       device='cuda:0')\n",
      "logits is [[0.5851254  0.31319505 0.10167955]]\n"
     ]
    },
    {
     "name": "stderr",
     "output_type": "stream",
     "text": [
      " 80%|███████▉  | 399/501 [02:51<00:40,  2.51it/s]The attention mask and the pad token id were not set. As a consequence, you may observe unexpected behavior. Please pass your input's `attention_mask` to obtain reliable results.\n",
      "Setting `pad_token_id` to `eos_token_id`:128001 for open-end generation.\n"
     ]
    },
    {
     "name": "stdout",
     "output_type": "stream",
     "text": [
      "score (tensor([[ 5.8750,  5.9375,  7.9688,  ..., -3.9219, -3.9219,  0.9883]],\n",
      "       device='cuda:0'), tensor([[ 5.9062,  6.4375,  7.9375,  ..., -1.7344, -1.7344, -0.6016]],\n",
      "       device='cuda:0'))\n",
      "score is tensor([[ 5.8750,  5.9375,  7.9688,  ..., -3.9219, -3.9219,  0.9883]],\n",
      "       device='cuda:0')\n",
      "logits is [[0.5019395  0.34497762 0.15308289]]\n"
     ]
    },
    {
     "name": "stderr",
     "output_type": "stream",
     "text": [
      " 80%|███████▉  | 400/501 [02:52<00:37,  2.72it/s]The attention mask and the pad token id were not set. As a consequence, you may observe unexpected behavior. Please pass your input's `attention_mask` to obtain reliable results.\n",
      "Setting `pad_token_id` to `eos_token_id`:128001 for open-end generation.\n"
     ]
    },
    {
     "name": "stdout",
     "output_type": "stream",
     "text": [
      "score (tensor([[ 5.7500,  5.0625,  7.6875,  ..., -4.1250, -4.1250,  0.0320]],\n",
      "       device='cuda:0'), tensor([[ 4.8125,  5.3125,  7.8125,  ..., -1.5469, -1.5469, -1.1250]],\n",
      "       device='cuda:0'))\n",
      "score is tensor([[ 5.7500,  5.0625,  7.6875,  ..., -4.1250, -4.1250,  0.0320]],\n",
      "       device='cuda:0')\n",
      "logits is [[0.59478915 0.26393607 0.14127481]]\n"
     ]
    },
    {
     "name": "stderr",
     "output_type": "stream",
     "text": [
      " 80%|████████  | 401/501 [02:52<00:34,  2.94it/s]The attention mask and the pad token id were not set. As a consequence, you may observe unexpected behavior. Please pass your input's `attention_mask` to obtain reliable results.\n",
      "Setting `pad_token_id` to `eos_token_id`:128001 for open-end generation.\n"
     ]
    },
    {
     "name": "stdout",
     "output_type": "stream",
     "text": [
      "score (tensor([[ 3.6094,  3.3438,  8.6250,  ...,  1.3438,  1.3438, -2.2656]],\n",
      "       device='cuda:0'), tensor([[4.2500, 3.8125, 6.3438,  ..., 3.3906, 3.3906, 0.2119]],\n",
      "       device='cuda:0'))\n",
      "score is tensor([[ 3.6094,  3.3438,  8.6250,  ...,  1.3438,  1.3438, -2.2656]],\n",
      "       device='cuda:0')\n",
      "logits is [[0.72663766 0.13027894 0.14308344]]\n"
     ]
    },
    {
     "name": "stderr",
     "output_type": "stream",
     "text": [
      " 80%|████████  | 402/501 [02:52<00:35,  2.78it/s]"
     ]
    },
    {
     "name": "stdout",
     "output_type": "stream",
     "text": [
      "score (tensor([[ 3.2812,  4.0000,  5.1875,  ..., -0.6094, -0.6055, -2.5625]],\n",
      "       device='cuda:0'), tensor([[ 3.7969,  4.8750,  6.5312,  ...,  1.3984,  1.3984, -3.2656]],\n",
      "       device='cuda:0'))\n",
      "score is tensor([[ 3.2812,  4.0000,  5.1875,  ..., -0.6094, -0.6055, -2.5625]],\n",
      "       device='cuda:0')\n",
      "logits is [[0.68119013 0.21434598 0.1044639 ]]\n"
     ]
    },
    {
     "name": "stderr",
     "output_type": "stream",
     "text": [
      "The attention mask and the pad token id were not set. As a consequence, you may observe unexpected behavior. Please pass your input's `attention_mask` to obtain reliable results.\n",
      "Setting `pad_token_id` to `eos_token_id`:128001 for open-end generation.\n",
      " 80%|████████  | 403/501 [02:53<00:41,  2.36it/s]The attention mask and the pad token id were not set. As a consequence, you may observe unexpected behavior. Please pass your input's `attention_mask` to obtain reliable results.\n",
      "Setting `pad_token_id` to `eos_token_id`:128001 for open-end generation.\n"
     ]
    },
    {
     "name": "stdout",
     "output_type": "stream",
     "text": [
      "score (tensor([[ 4.1875,  5.2500,  6.4375,  ..., -4.5000, -4.5000, -0.4590]],\n",
      "       device='cuda:0'), tensor([[ 3.5938,  4.5938,  6.9688,  ...,  2.2812,  2.2812, -2.6406]],\n",
      "       device='cuda:0'))\n",
      "score is tensor([[ 4.1875,  5.2500,  6.4375,  ..., -4.5000, -4.5000, -0.4590]],\n",
      "       device='cuda:0')\n",
      "logits is [[0.31407207 0.5178173  0.16811067]]\n"
     ]
    },
    {
     "name": "stderr",
     "output_type": "stream",
     "text": [
      " 81%|████████  | 404/501 [02:53<00:35,  2.72it/s]"
     ]
    },
    {
     "name": "stdout",
     "output_type": "stream",
     "text": [
      "score (tensor([[ 3.4688,  3.9375,  5.4375,  ..., -4.2188, -4.2188, -0.6094]],\n",
      "       device='cuda:0'), tensor([[ 2.4375,  4.7188,  6.9375,  ...,  3.8125,  3.8125, -2.2500]],\n",
      "       device='cuda:0'))\n",
      "score is tensor([[ 3.4688,  3.9375,  5.4375,  ..., -4.2188, -4.2188, -0.6094]],\n",
      "       device='cuda:0')\n",
      "logits is [[0.32779858 0.5753044  0.09689707]]\n"
     ]
    },
    {
     "name": "stderr",
     "output_type": "stream",
     "text": [
      "The attention mask and the pad token id were not set. As a consequence, you may observe unexpected behavior. Please pass your input's `attention_mask` to obtain reliable results.\n",
      "Setting `pad_token_id` to `eos_token_id`:128001 for open-end generation.\n",
      " 81%|████████  | 405/501 [02:54<00:39,  2.43it/s]The attention mask and the pad token id were not set. As a consequence, you may observe unexpected behavior. Please pass your input's `attention_mask` to obtain reliable results.\n",
      "Setting `pad_token_id` to `eos_token_id`:128001 for open-end generation.\n"
     ]
    },
    {
     "name": "stdout",
     "output_type": "stream",
     "text": [
      "score (tensor([[ 3.7344,  5.3125,  5.9062,  ..., -4.6562, -4.6562, -0.4746]],\n",
      "       device='cuda:0'), tensor([[ 3.1094,  4.0000,  5.8750,  ...,  1.5469,  1.5469, -2.5000]],\n",
      "       device='cuda:0'))\n",
      "score is tensor([[ 3.7344,  5.3125,  5.9062,  ..., -4.6562, -4.6562, -0.4746]],\n",
      "       device='cuda:0')\n",
      "logits is [[0.32946113 0.397406   0.2731329 ]]\n"
     ]
    },
    {
     "name": "stderr",
     "output_type": "stream",
     "text": [
      " 81%|████████  | 406/501 [02:54<00:39,  2.43it/s]The attention mask and the pad token id were not set. As a consequence, you may observe unexpected behavior. Please pass your input's `attention_mask` to obtain reliable results.\n",
      "Setting `pad_token_id` to `eos_token_id`:128001 for open-end generation.\n"
     ]
    },
    {
     "name": "stdout",
     "output_type": "stream",
     "text": [
      "score (tensor([[ 4.3125,  4.5625,  6.4062,  ..., -4.4062, -4.4062, -2.0938]],\n",
      "       device='cuda:0'), tensor([[ 3.7500,  4.4375,  6.2500,  ..., -4.3125, -4.3125,  0.2080]],\n",
      "       device='cuda:0'))\n",
      "score is tensor([[ 4.3125,  4.5625,  6.4062,  ..., -4.4062, -4.4062, -2.0938]],\n",
      "       device='cuda:0')\n",
      "logits is [[0.43734327 0.38595408 0.17670265]]\n"
     ]
    },
    {
     "name": "stderr",
     "output_type": "stream",
     "text": [
      " 81%|████████  | 407/501 [02:54<00:38,  2.45it/s]The attention mask and the pad token id were not set. As a consequence, you may observe unexpected behavior. Please pass your input's `attention_mask` to obtain reliable results.\n",
      "Setting `pad_token_id` to `eos_token_id`:128001 for open-end generation.\n"
     ]
    },
    {
     "name": "stdout",
     "output_type": "stream",
     "text": [
      "score (tensor([[ 4.1875,  5.4375,  6.3438,  ..., -0.1514, -0.1514, -0.6602]],\n",
      "       device='cuda:0'), tensor([[ 4.7188,  5.1250,  7.3125,  ..., -0.1582, -0.1582, -1.6328]],\n",
      "       device='cuda:0'))\n",
      "score is tensor([[ 4.1875,  5.4375,  6.3438,  ..., -0.1514, -0.1514, -0.6602]],\n",
      "       device='cuda:0')\n",
      "logits is [[0.69050145 0.14028388 0.16921465]]\n"
     ]
    },
    {
     "name": "stderr",
     "output_type": "stream",
     "text": [
      " 81%|████████▏ | 408/501 [02:55<00:35,  2.65it/s]The attention mask and the pad token id were not set. As a consequence, you may observe unexpected behavior. Please pass your input's `attention_mask` to obtain reliable results.\n",
      "Setting `pad_token_id` to `eos_token_id`:128001 for open-end generation.\n"
     ]
    },
    {
     "name": "stdout",
     "output_type": "stream",
     "text": [
      "score (tensor([[ 4.2500,  5.5625,  5.9375,  ..., -4.3125, -4.3125, -1.0938]],\n",
      "       device='cuda:0'), tensor([[ 4.4375,  6.0312,  7.7500,  ..., -0.2041, -0.2041, -1.2656]],\n",
      "       device='cuda:0'))\n",
      "score is tensor([[ 4.2500,  5.5625,  5.9375,  ..., -4.3125, -4.3125, -1.0938]],\n",
      "       device='cuda:0')\n",
      "logits is [[0.3263181 0.3473638 0.3263181]]\n"
     ]
    },
    {
     "name": "stderr",
     "output_type": "stream",
     "text": [
      " 82%|████████▏ | 409/501 [02:55<00:35,  2.60it/s]"
     ]
    },
    {
     "name": "stdout",
     "output_type": "stream",
     "text": [
      "score (tensor([[ 3.6875,  5.7500,  5.5938,  ..., -4.3125, -4.3125, -1.1719]],\n",
      "       device='cuda:0'), tensor([[ 4.2500,  6.6875,  7.5000,  ..., -0.3340, -0.3340, -1.6484]],\n",
      "       device='cuda:0'))\n",
      "score is tensor([[ 3.6875,  5.7500,  5.5938,  ..., -4.3125, -4.3125, -1.1719]],\n",
      "       device='cuda:0')\n",
      "logits is [[0.3197992  0.4800755  0.20012525]]\n"
     ]
    },
    {
     "name": "stderr",
     "output_type": "stream",
     "text": [
      "The attention mask and the pad token id were not set. As a consequence, you may observe unexpected behavior. Please pass your input's `attention_mask` to obtain reliable results.\n",
      "Setting `pad_token_id` to `eos_token_id`:128001 for open-end generation.\n",
      " 82%|████████▏ | 410/501 [02:56<00:40,  2.23it/s]"
     ]
    },
    {
     "name": "stdout",
     "output_type": "stream",
     "text": [
      "score (tensor([[ 4.1250,  5.6562,  6.8750,  ..., -2.1094, -2.1094, -0.1934]],\n",
      "       device='cuda:0'), tensor([[ 4.0938,  5.7188,  7.5312,  ..., -1.5469, -1.5469, -0.1611]],\n",
      "       device='cuda:0'))\n",
      "score is tensor([[ 4.1250,  5.6562,  6.8750,  ..., -2.1094, -2.1094, -0.1934]],\n",
      "       device='cuda:0')\n",
      "logits is [[0.45174187 0.26556534 0.28269285]]\n"
     ]
    },
    {
     "name": "stderr",
     "output_type": "stream",
     "text": [
      "The attention mask and the pad token id were not set. As a consequence, you may observe unexpected behavior. Please pass your input's `attention_mask` to obtain reliable results.\n",
      "Setting `pad_token_id` to `eos_token_id`:128001 for open-end generation.\n",
      " 82%|████████▏ | 411/501 [02:56<00:41,  2.15it/s]The attention mask and the pad token id were not set. As a consequence, you may observe unexpected behavior. Please pass your input's `attention_mask` to obtain reliable results.\n",
      "Setting `pad_token_id` to `eos_token_id`:128001 for open-end generation.\n"
     ]
    },
    {
     "name": "stdout",
     "output_type": "stream",
     "text": [
      "score (tensor([[ 4.7500,  6.1875,  7.6250,  ..., -2.3281, -2.3281, -0.8906]],\n",
      "       device='cuda:0'), tensor([[ 4.7188,  6.5625,  8.3125,  ...,  0.6094,  0.6094, -0.9844]],\n",
      "       device='cuda:0'))\n",
      "score is tensor([[ 4.7500,  6.1875,  7.6250,  ..., -2.3281, -2.3281, -0.8906]],\n",
      "       device='cuda:0')\n",
      "logits is [[0.5502077  0.27666178 0.17313051]]\n"
     ]
    },
    {
     "name": "stderr",
     "output_type": "stream",
     "text": [
      " 82%|████████▏ | 412/501 [02:57<00:38,  2.31it/s]The attention mask and the pad token id were not set. As a consequence, you may observe unexpected behavior. Please pass your input's `attention_mask` to obtain reliable results.\n",
      "Setting `pad_token_id` to `eos_token_id`:128001 for open-end generation.\n"
     ]
    },
    {
     "name": "stdout",
     "output_type": "stream",
     "text": [
      "score (tensor([[ 4.7188,  5.7500,  6.6562,  ..., -4.9062, -4.9062, -0.9258]],\n",
      "       device='cuda:0'), tensor([[ 3.5938,  4.8125,  7.4062,  ...,  1.7578,  1.7578, -2.3594]],\n",
      "       device='cuda:0'))\n",
      "score is tensor([[ 4.7188,  5.7500,  6.6562,  ..., -4.9062, -4.9062, -0.9258]],\n",
      "       device='cuda:0')\n",
      "logits is [[0.32510343 0.44436368 0.23053284]]\n"
     ]
    },
    {
     "name": "stderr",
     "output_type": "stream",
     "text": [
      " 82%|████████▏ | 413/501 [02:57<00:33,  2.65it/s]The attention mask and the pad token id were not set. As a consequence, you may observe unexpected behavior. Please pass your input's `attention_mask` to obtain reliable results.\n",
      "Setting `pad_token_id` to `eos_token_id`:128001 for open-end generation.\n"
     ]
    },
    {
     "name": "stdout",
     "output_type": "stream",
     "text": [
      "score (tensor([[ 4.4375,  6.0000,  6.4375,  ..., -0.2520, -0.2520, -1.9922]],\n",
      "       device='cuda:0'), tensor([[ 3.9375,  6.0938,  7.0312,  ..., -0.1660, -0.1660, -1.3125]],\n",
      "       device='cuda:0'))\n",
      "score is tensor([[ 4.4375,  6.0000,  6.4375,  ..., -0.2520, -0.2520, -1.9922]],\n",
      "       device='cuda:0')\n",
      "logits is [[0.51808107 0.23719479 0.24472417]]\n"
     ]
    },
    {
     "name": "stderr",
     "output_type": "stream",
     "text": [
      " 83%|████████▎ | 414/501 [02:57<00:32,  2.67it/s]The attention mask and the pad token id were not set. As a consequence, you may observe unexpected behavior. Please pass your input's `attention_mask` to obtain reliable results.\n",
      "Setting `pad_token_id` to `eos_token_id`:128001 for open-end generation.\n"
     ]
    },
    {
     "name": "stdout",
     "output_type": "stream",
     "text": [
      "score (tensor([[ 3.6250,  4.6562,  5.6250,  ...,  1.7344,  1.7344, -0.8867]],\n",
      "       device='cuda:0'), tensor([[ 3.8906,  4.8125,  6.5625,  ...,  0.7852,  0.7852, -2.3594]],\n",
      "       device='cuda:0'))\n",
      "score is tensor([[ 3.6250,  4.6562,  5.6250,  ...,  1.7344,  1.7344, -0.8867]],\n",
      "       device='cuda:0')\n",
      "logits is [[0.652797   0.21865961 0.12854335]]\n"
     ]
    },
    {
     "name": "stderr",
     "output_type": "stream",
     "text": [
      " 83%|████████▎ | 415/501 [02:57<00:28,  3.01it/s]The attention mask and the pad token id were not set. As a consequence, you may observe unexpected behavior. Please pass your input's `attention_mask` to obtain reliable results.\n",
      "Setting `pad_token_id` to `eos_token_id`:128001 for open-end generation.\n"
     ]
    },
    {
     "name": "stdout",
     "output_type": "stream",
     "text": [
      "score (tensor([[ 4.4375,  5.1875,  7.3438,  ..., -1.0156, -1.0156, -1.7656]],\n",
      "       device='cuda:0'), tensor([[ 4.3750,  5.9375,  8.0625,  ...,  0.5781,  0.5781, -1.2656]],\n",
      "       device='cuda:0'))\n",
      "score is tensor([[ 4.4375,  5.1875,  7.3438,  ..., -1.0156, -1.0156, -1.7656]],\n",
      "       device='cuda:0')\n",
      "logits is [[0.51311314 0.2661996  0.22068723]]\n"
     ]
    },
    {
     "name": "stderr",
     "output_type": "stream",
     "text": [
      " 83%|████████▎ | 416/501 [02:58<00:30,  2.83it/s]"
     ]
    },
    {
     "name": "stdout",
     "output_type": "stream",
     "text": [
      "score (tensor([[ 4.1562,  6.0938,  6.6250,  ...,  2.5469,  2.5469, -2.5781]],\n",
      "       device='cuda:0'), tensor([[ 3.7188,  5.9375,  6.2812,  ...,  3.8906,  3.8906, -4.0312]],\n",
      "       device='cuda:0'))\n",
      "score is tensor([[ 4.1562,  6.0938,  6.6250,  ...,  2.5469,  2.5469, -2.5781]],\n",
      "       device='cuda:0')\n",
      "logits is [[0.68480074 0.11900052 0.1961987 ]]\n"
     ]
    },
    {
     "name": "stderr",
     "output_type": "stream",
     "text": [
      "The attention mask and the pad token id were not set. As a consequence, you may observe unexpected behavior. Please pass your input's `attention_mask` to obtain reliable results.\n",
      "Setting `pad_token_id` to `eos_token_id`:128001 for open-end generation.\n",
      " 83%|████████▎ | 417/501 [02:58<00:35,  2.39it/s]The attention mask and the pad token id were not set. As a consequence, you may observe unexpected behavior. Please pass your input's `attention_mask` to obtain reliable results.\n",
      "Setting `pad_token_id` to `eos_token_id`:128001 for open-end generation.\n"
     ]
    },
    {
     "name": "stdout",
     "output_type": "stream",
     "text": [
      "score (tensor([[ 4.1250,  5.3750,  5.8125,  ..., -4.6562, -4.6562,  0.0464]],\n",
      "       device='cuda:0'), tensor([[ 4.2188,  5.4375,  7.3750,  ...,  0.5742,  0.5742, -1.9688]],\n",
      "       device='cuda:0'))\n",
      "score is tensor([[ 4.1250,  5.3750,  5.8125,  ..., -4.6562, -4.6562,  0.0464]],\n",
      "       device='cuda:0')\n",
      "logits is [[0.47540227 0.21765502 0.3069428 ]]\n"
     ]
    },
    {
     "name": "stderr",
     "output_type": "stream",
     "text": [
      " 83%|████████▎ | 418/501 [02:59<00:29,  2.80it/s]The attention mask and the pad token id were not set. As a consequence, you may observe unexpected behavior. Please pass your input's `attention_mask` to obtain reliable results.\n",
      "Setting `pad_token_id` to `eos_token_id`:128001 for open-end generation.\n"
     ]
    },
    {
     "name": "stdout",
     "output_type": "stream",
     "text": [
      "score (tensor([[ 3.2188,  5.2812,  6.5312,  ..., -2.5938, -2.5938, -2.2812]],\n",
      "       device='cuda:0'), tensor([[ 3.8906,  5.7188,  7.6875,  ...,  0.2578,  0.2578, -2.2031]],\n",
      "       device='cuda:0'))\n",
      "score is tensor([[ 3.2188,  5.2812,  6.5312,  ..., -2.5938, -2.5938, -2.2812]],\n",
      "       device='cuda:0')\n",
      "logits is [[0.7439323  0.14198197 0.11408572]]\n"
     ]
    },
    {
     "name": "stderr",
     "output_type": "stream",
     "text": [
      " 84%|████████▎ | 419/501 [02:59<00:27,  3.04it/s]"
     ]
    },
    {
     "name": "stdout",
     "output_type": "stream",
     "text": [
      "score (tensor([[ 4.1562,  6.0938,  6.2812,  ..., -2.3125, -2.3125, -0.4453]],\n",
      "       device='cuda:0'), tensor([[ 4.0938,  6.7188,  7.5625,  ...,  0.6562,  0.6562, -1.8438]],\n",
      "       device='cuda:0'))\n",
      "score is tensor([[ 4.1562,  6.0938,  6.2812,  ..., -2.3125, -2.3125, -0.4453]],\n",
      "       device='cuda:0')\n",
      "logits is [[0.6318239  0.2398133  0.12836282]]\n"
     ]
    },
    {
     "name": "stderr",
     "output_type": "stream",
     "text": [
      "The attention mask and the pad token id were not set. As a consequence, you may observe unexpected behavior. Please pass your input's `attention_mask` to obtain reliable results.\n",
      "Setting `pad_token_id` to `eos_token_id`:128001 for open-end generation.\n",
      " 84%|████████▍ | 420/501 [02:59<00:32,  2.46it/s]The attention mask and the pad token id were not set. As a consequence, you may observe unexpected behavior. Please pass your input's `attention_mask` to obtain reliable results.\n",
      "Setting `pad_token_id` to `eos_token_id`:128001 for open-end generation.\n"
     ]
    },
    {
     "name": "stdout",
     "output_type": "stream",
     "text": [
      "score (tensor([[ 3.8750,  5.0312,  5.9688,  ..., -4.3125, -4.3125, -2.2188]],\n",
      "       device='cuda:0'), tensor([[ 4.4062,  5.2500,  7.0000,  ...,  0.4395,  0.4395, -2.5000]],\n",
      "       device='cuda:0'))\n",
      "score is tensor([[ 3.8750,  5.0312,  5.9688,  ..., -4.3125, -4.3125, -2.2188]],\n",
      "       device='cuda:0')\n",
      "logits is [[0.34356424 0.4275726  0.22886313]]\n"
     ]
    },
    {
     "name": "stderr",
     "output_type": "stream",
     "text": [
      " 84%|████████▍ | 421/501 [03:00<00:29,  2.67it/s]The attention mask and the pad token id were not set. As a consequence, you may observe unexpected behavior. Please pass your input's `attention_mask` to obtain reliable results.\n",
      "Setting `pad_token_id` to `eos_token_id`:128001 for open-end generation.\n"
     ]
    },
    {
     "name": "stdout",
     "output_type": "stream",
     "text": [
      "score (tensor([[ 4.5312,  4.9688,  5.5625,  ..., -5.7812, -5.7812, -0.2217]],\n",
      "       device='cuda:0'), tensor([[ 4.2188,  5.2188,  7.0312,  ..., -2.6875, -2.6875,  0.3379]],\n",
      "       device='cuda:0'))\n",
      "score is tensor([[ 4.5312,  4.9688,  5.5625,  ..., -5.7812, -5.7812, -0.2217]],\n",
      "       device='cuda:0')\n",
      "logits is [[0.2505504  0.58254707 0.16690253]]\n"
     ]
    },
    {
     "name": "stderr",
     "output_type": "stream",
     "text": [
      " 84%|████████▍ | 422/501 [03:00<00:28,  2.74it/s]The attention mask and the pad token id were not set. As a consequence, you may observe unexpected behavior. Please pass your input's `attention_mask` to obtain reliable results.\n",
      "Setting `pad_token_id` to `eos_token_id`:128001 for open-end generation.\n"
     ]
    },
    {
     "name": "stdout",
     "output_type": "stream",
     "text": [
      "score (tensor([[ 4.7812,  6.0000,  7.0625,  ..., -2.5625, -2.5625, -0.0344]],\n",
      "       device='cuda:0'), tensor([[ 4.0000,  6.0000,  7.8125,  ...,  0.4023,  0.4023, -0.6055]],\n",
      "       device='cuda:0'))\n",
      "score is tensor([[ 4.7812,  6.0000,  7.0625,  ..., -2.5625, -2.5625, -0.0344]],\n",
      "       device='cuda:0')\n",
      "logits is [[0.56066585 0.22652948 0.21280475]]\n"
     ]
    },
    {
     "name": "stderr",
     "output_type": "stream",
     "text": [
      " 84%|████████▍ | 423/501 [03:00<00:29,  2.64it/s]The attention mask and the pad token id were not set. As a consequence, you may observe unexpected behavior. Please pass your input's `attention_mask` to obtain reliable results.\n",
      "Setting `pad_token_id` to `eos_token_id`:128001 for open-end generation.\n"
     ]
    },
    {
     "name": "stdout",
     "output_type": "stream",
     "text": [
      "score (tensor([[ 4.2188,  5.7188,  6.5938,  ..., -3.7344, -3.7344,  0.2539]],\n",
      "       device='cuda:0'), tensor([[ 4.0000,  5.9375,  7.2500,  ...,  0.5938,  0.5938, -1.0547]],\n",
      "       device='cuda:0'))\n",
      "score is tensor([[ 4.2188,  5.7188,  6.5938,  ..., -3.7344, -3.7344,  0.2539]],\n",
      "       device='cuda:0')\n",
      "logits is [[0.44993404 0.19965702 0.35040897]]\n"
     ]
    },
    {
     "name": "stderr",
     "output_type": "stream",
     "text": [
      " 85%|████████▍ | 424/501 [03:01<00:30,  2.51it/s]The attention mask and the pad token id were not set. As a consequence, you may observe unexpected behavior. Please pass your input's `attention_mask` to obtain reliable results.\n",
      "Setting `pad_token_id` to `eos_token_id`:128001 for open-end generation.\n"
     ]
    },
    {
     "name": "stdout",
     "output_type": "stream",
     "text": [
      "score (tensor([[ 4.5000,  6.1562,  6.5000,  ..., -4.7188, -4.7188,  0.5742]],\n",
      "       device='cuda:0'), tensor([[ 4.6250,  6.8438,  7.5938,  ...,  0.2080,  0.2080, -0.5195]],\n",
      "       device='cuda:0'))\n",
      "score is tensor([[ 4.5000,  6.1562,  6.5000,  ..., -4.7188, -4.7188,  0.5742]],\n",
      "       device='cuda:0')\n",
      "logits is [[0.45984408 0.3160459  0.22411011]]\n"
     ]
    },
    {
     "name": "stderr",
     "output_type": "stream",
     "text": [
      " 85%|████████▍ | 425/501 [03:01<00:28,  2.67it/s]The attention mask and the pad token id were not set. As a consequence, you may observe unexpected behavior. Please pass your input's `attention_mask` to obtain reliable results.\n",
      "Setting `pad_token_id` to `eos_token_id`:128001 for open-end generation.\n"
     ]
    },
    {
     "name": "stdout",
     "output_type": "stream",
     "text": [
      "score (tensor([[ 4.8750,  6.0000,  6.7500,  ..., -4.9062, -4.9062, -1.6953]],\n",
      "       device='cuda:0'), tensor([[ 3.1094,  4.8125,  7.5000,  ...,  3.1406,  3.1406, -2.0938]],\n",
      "       device='cuda:0'))\n",
      "score is tensor([[ 4.8750,  6.0000,  6.7500,  ..., -4.9062, -4.9062, -1.6953]],\n",
      "       device='cuda:0')\n",
      "logits is [[0.56408507 0.301933   0.13398194]]\n"
     ]
    },
    {
     "name": "stderr",
     "output_type": "stream",
     "text": [
      " 85%|████████▌ | 426/501 [03:02<00:27,  2.71it/s]The attention mask and the pad token id were not set. As a consequence, you may observe unexpected behavior. Please pass your input's `attention_mask` to obtain reliable results.\n",
      "Setting `pad_token_id` to `eos_token_id`:128001 for open-end generation.\n"
     ]
    },
    {
     "name": "stdout",
     "output_type": "stream",
     "text": [
      "score (tensor([[ 5.0000,  5.5938,  6.1875,  ..., -4.9062, -4.9062, -1.8672]],\n",
      "       device='cuda:0'), tensor([[ 4.6875,  4.9062,  8.1250,  ...,  3.0469,  3.0469, -2.0312]],\n",
      "       device='cuda:0'))\n",
      "score is tensor([[ 5.0000,  5.5938,  6.1875,  ..., -4.9062, -4.9062, -1.8672]],\n",
      "       device='cuda:0')\n",
      "logits is [[0.36659944 0.470723   0.16267753]]\n"
     ]
    },
    {
     "name": "stderr",
     "output_type": "stream",
     "text": [
      " 85%|████████▌ | 427/501 [03:02<00:25,  2.86it/s]The attention mask and the pad token id were not set. As a consequence, you may observe unexpected behavior. Please pass your input's `attention_mask` to obtain reliable results.\n",
      "Setting `pad_token_id` to `eos_token_id`:128001 for open-end generation.\n"
     ]
    },
    {
     "name": "stdout",
     "output_type": "stream",
     "text": [
      "score (tensor([[ 4.5000,  6.9062,  6.4688,  ..., -4.8438, -4.8438, -1.7109]],\n",
      "       device='cuda:0'), tensor([[ 3.2344,  5.7500,  7.2500,  ...,  3.3438,  3.3438, -2.6875]],\n",
      "       device='cuda:0'))\n",
      "score is tensor([[ 4.5000,  6.9062,  6.4688,  ..., -4.8438, -4.8438, -1.7109]],\n",
      "       device='cuda:0')\n",
      "logits is [[0.34820217 0.44710043 0.20469749]]\n"
     ]
    },
    {
     "name": "stderr",
     "output_type": "stream",
     "text": [
      " 85%|████████▌ | 428/501 [03:02<00:23,  3.17it/s]The attention mask and the pad token id were not set. As a consequence, you may observe unexpected behavior. Please pass your input's `attention_mask` to obtain reliable results.\n",
      "Setting `pad_token_id` to `eos_token_id`:128001 for open-end generation.\n"
     ]
    },
    {
     "name": "stdout",
     "output_type": "stream",
     "text": [
      "score (tensor([[ 4.6562,  4.9688,  6.5312,  ..., -3.8750, -3.8750, -2.3594]],\n",
      "       device='cuda:0'), tensor([[ 4.1250,  4.8438,  6.9688,  ...,  0.4883,  0.4883, -1.7344]],\n",
      "       device='cuda:0'))\n",
      "score is tensor([[ 4.6562,  4.9688,  6.5312,  ..., -3.8750, -3.8750, -2.3594]],\n",
      "       device='cuda:0')\n",
      "logits is [[0.50109965 0.35533288 0.14356746]]\n"
     ]
    },
    {
     "name": "stderr",
     "output_type": "stream",
     "text": [
      " 86%|████████▌ | 429/501 [03:02<00:23,  3.06it/s]The attention mask and the pad token id were not set. As a consequence, you may observe unexpected behavior. Please pass your input's `attention_mask` to obtain reliable results.\n",
      "Setting `pad_token_id` to `eos_token_id`:128001 for open-end generation.\n"
     ]
    },
    {
     "name": "stdout",
     "output_type": "stream",
     "text": [
      "score (tensor([[ 4.4375,  5.7188,  6.3750,  ..., -4.9375, -4.9375,  1.2656]],\n",
      "       device='cuda:0'), tensor([[ 4.0312,  5.9375,  7.8125,  ..., -0.8047, -0.8047, -1.3750]],\n",
      "       device='cuda:0'))\n",
      "score is tensor([[ 4.4375,  5.7188,  6.3750,  ..., -4.9375, -4.9375,  1.2656]],\n",
      "       device='cuda:0')\n",
      "logits is [[0.394689   0.3073841  0.29792687]]\n"
     ]
    },
    {
     "name": "stderr",
     "output_type": "stream",
     "text": [
      " 86%|████████▌ | 430/501 [03:03<00:23,  3.09it/s]"
     ]
    },
    {
     "name": "stdout",
     "output_type": "stream",
     "text": [
      "score (tensor([[ 4.5938,  5.4375,  6.4375,  ..., -3.6406, -3.6406, -3.0469]],\n",
      "       device='cuda:0'), tensor([[ 5.4375,  5.6875,  7.4688,  ..., -0.2617, -0.2617, -2.7656]],\n",
      "       device='cuda:0'))\n",
      "score is tensor([[ 4.5938,  5.4375,  6.4375,  ..., -3.6406, -3.6406, -3.0469]],\n",
      "       device='cuda:0')\n",
      "logits is [[0.34820217 0.44710043 0.20469749]]\n"
     ]
    },
    {
     "name": "stderr",
     "output_type": "stream",
     "text": [
      "The attention mask and the pad token id were not set. As a consequence, you may observe unexpected behavior. Please pass your input's `attention_mask` to obtain reliable results.\n",
      "Setting `pad_token_id` to `eos_token_id`:128001 for open-end generation.\n",
      " 86%|████████▌ | 431/501 [03:03<00:29,  2.40it/s]"
     ]
    },
    {
     "name": "stdout",
     "output_type": "stream",
     "text": [
      "score (tensor([[ 4.5625,  4.9688,  6.4062,  ..., -4.3750, -4.3750, -1.0391]],\n",
      "       device='cuda:0'), tensor([[ 4.7812,  5.8125,  7.4688,  ..., -0.0488, -0.0488, -1.5156]],\n",
      "       device='cuda:0'))\n",
      "score is tensor([[ 4.5625,  4.9688,  6.4062,  ..., -4.3750, -4.3750, -1.0391]],\n",
      "       device='cuda:0')\n",
      "logits is [[0.37962967 0.29565588 0.32471445]]\n"
     ]
    },
    {
     "name": "stderr",
     "output_type": "stream",
     "text": [
      "The attention mask and the pad token id were not set. As a consequence, you may observe unexpected behavior. Please pass your input's `attention_mask` to obtain reliable results.\n",
      "Setting `pad_token_id` to `eos_token_id`:128001 for open-end generation.\n",
      " 86%|████████▌ | 432/501 [03:04<00:31,  2.16it/s]"
     ]
    },
    {
     "name": "stdout",
     "output_type": "stream",
     "text": [
      "score (tensor([[ 3.6094,  6.5938,  5.8438,  ..., -1.9766, -1.9766, -2.6875]],\n",
      "       device='cuda:0'), tensor([[ 5.0625,  7.4062,  7.2500,  ..., -0.6484, -0.6484, -3.2812]],\n",
      "       device='cuda:0'))\n",
      "score is tensor([[ 3.6094,  6.5938,  5.8438,  ..., -1.9766, -1.9766, -2.6875]],\n",
      "       device='cuda:0')\n",
      "logits is [[0.5811656  0.32095015 0.09788426]]\n"
     ]
    },
    {
     "name": "stderr",
     "output_type": "stream",
     "text": [
      "The attention mask and the pad token id were not set. As a consequence, you may observe unexpected behavior. Please pass your input's `attention_mask` to obtain reliable results.\n",
      "Setting `pad_token_id` to `eos_token_id`:128001 for open-end generation.\n",
      " 86%|████████▋ | 433/501 [03:05<00:33,  2.04it/s]The attention mask and the pad token id were not set. As a consequence, you may observe unexpected behavior. Please pass your input's `attention_mask` to obtain reliable results.\n",
      "Setting `pad_token_id` to `eos_token_id`:128001 for open-end generation.\n"
     ]
    },
    {
     "name": "stdout",
     "output_type": "stream",
     "text": [
      "score (tensor([[ 5.0000,  6.0000,  6.9062,  ..., -4.7500, -4.7500,  0.4375]],\n",
      "       device='cuda:0'), tensor([[6.0000, 6.2500, 7.7812,  ..., 0.4727, 0.4727, 0.2412]],\n",
      "       device='cuda:0'))\n",
      "score is tensor([[ 5.0000,  6.0000,  6.9062,  ..., -4.7500, -4.7500,  0.4375]],\n",
      "       device='cuda:0')\n",
      "logits is [[0.5698771  0.3247062  0.10541666]]\n"
     ]
    },
    {
     "name": "stderr",
     "output_type": "stream",
     "text": [
      " 87%|████████▋ | 434/501 [03:05<00:29,  2.29it/s]"
     ]
    },
    {
     "name": "stdout",
     "output_type": "stream",
     "text": [
      "score (tensor([[ 5.7500,  5.5000,  7.7500,  ..., -5.0625, -5.0625, -1.9922]],\n",
      "       device='cuda:0'), tensor([[ 5.1562,  5.7812,  8.0000,  ..., -0.2266, -0.2266, -1.7188]],\n",
      "       device='cuda:0'))\n",
      "score is tensor([[ 5.7500,  5.5000,  7.7500,  ..., -5.0625, -5.0625, -1.9922]],\n",
      "       device='cuda:0')\n",
      "logits is [[0.52500576 0.2991393  0.1758549 ]]\n"
     ]
    },
    {
     "name": "stderr",
     "output_type": "stream",
     "text": [
      "The attention mask and the pad token id were not set. As a consequence, you may observe unexpected behavior. Please pass your input's `attention_mask` to obtain reliable results.\n",
      "Setting `pad_token_id` to `eos_token_id`:128001 for open-end generation.\n",
      " 87%|████████▋ | 435/501 [03:05<00:30,  2.19it/s]The attention mask and the pad token id were not set. As a consequence, you may observe unexpected behavior. Please pass your input's `attention_mask` to obtain reliable results.\n",
      "Setting `pad_token_id` to `eos_token_id`:128001 for open-end generation.\n"
     ]
    },
    {
     "name": "stdout",
     "output_type": "stream",
     "text": [
      "score (tensor([[ 4.0938,  5.0000,  5.9688,  ..., -5.0312, -5.0312, -1.8906]],\n",
      "       device='cuda:0'), tensor([[ 4.4688,  5.4688,  7.7812,  ...,  0.8164,  0.8164, -2.1094]],\n",
      "       device='cuda:0'))\n",
      "score is tensor([[ 4.0938,  5.0000,  5.9688,  ..., -5.0312, -5.0312, -1.8906]],\n",
      "       device='cuda:0')\n",
      "logits is [[0.33640122 0.39329287 0.270306  ]]\n"
     ]
    },
    {
     "name": "stderr",
     "output_type": "stream",
     "text": [
      " 87%|████████▋ | 436/501 [03:06<00:25,  2.50it/s]The attention mask and the pad token id were not set. As a consequence, you may observe unexpected behavior. Please pass your input's `attention_mask` to obtain reliable results.\n",
      "Setting `pad_token_id` to `eos_token_id`:128001 for open-end generation.\n"
     ]
    },
    {
     "name": "stdout",
     "output_type": "stream",
     "text": [
      "score (tensor([[ 5.0625,  5.1250,  6.4062,  ..., -4.4062, -4.4062, -0.2539]],\n",
      "       device='cuda:0'), tensor([[ 4.5938,  5.9688,  7.5625,  ...,  2.1094,  2.1094, -1.6484]],\n",
      "       device='cuda:0'))\n",
      "score is tensor([[ 5.0625,  5.1250,  6.4062,  ..., -4.4062, -4.4062, -0.2539]],\n",
      "       device='cuda:0')\n",
      "logits is [[0.35552257 0.4288421  0.21563534]]\n"
     ]
    },
    {
     "name": "stderr",
     "output_type": "stream",
     "text": [
      " 87%|████████▋ | 437/501 [03:06<00:25,  2.50it/s]"
     ]
    },
    {
     "name": "stdout",
     "output_type": "stream",
     "text": [
      "score (tensor([[ 5.2500,  6.2812,  7.2188,  ..., -6.3125, -6.3125, -1.3125]],\n",
      "       device='cuda:0'), tensor([[ 4.9062,  6.3125,  7.7812,  ..., -1.9453, -1.9453,  0.0090]],\n",
      "       device='cuda:0'))\n",
      "score is tensor([[ 5.2500,  6.2812,  7.2188,  ..., -6.3125, -6.3125, -1.3125]],\n",
      "       device='cuda:0')\n",
      "logits is [[0.2467167  0.49065474 0.26262856]]\n"
     ]
    },
    {
     "name": "stderr",
     "output_type": "stream",
     "text": [
      "The attention mask and the pad token id were not set. As a consequence, you may observe unexpected behavior. Please pass your input's `attention_mask` to obtain reliable results.\n",
      "Setting `pad_token_id` to `eos_token_id`:128001 for open-end generation.\n",
      " 87%|████████▋ | 438/501 [03:07<00:26,  2.35it/s]The attention mask and the pad token id were not set. As a consequence, you may observe unexpected behavior. Please pass your input's `attention_mask` to obtain reliable results.\n",
      "Setting `pad_token_id` to `eos_token_id`:128001 for open-end generation.\n"
     ]
    },
    {
     "name": "stdout",
     "output_type": "stream",
     "text": [
      "score (tensor([[ 3.7812,  5.3125,  6.2188,  ..., -4.8438, -4.8438, -0.0515]],\n",
      "       device='cuda:0'), tensor([[ 4.0938,  5.8125,  8.1250,  ..., -1.6562, -1.6562, -1.0703]],\n",
      "       device='cuda:0'))\n",
      "score is tensor([[ 3.7812,  5.3125,  6.2188,  ..., -4.8438, -4.8438, -0.0515]],\n",
      "       device='cuda:0')\n",
      "logits is [[0.41058323 0.34038544 0.24903132]]\n"
     ]
    },
    {
     "name": "stderr",
     "output_type": "stream",
     "text": [
      " 88%|████████▊ | 439/501 [03:07<00:23,  2.69it/s]The attention mask and the pad token id were not set. As a consequence, you may observe unexpected behavior. Please pass your input's `attention_mask` to obtain reliable results.\n",
      "Setting `pad_token_id` to `eos_token_id`:128001 for open-end generation.\n"
     ]
    },
    {
     "name": "stdout",
     "output_type": "stream",
     "text": [
      "score (tensor([[ 4.3125,  5.6875,  6.9688,  ..., -3.4219, -3.4219, -1.7734]],\n",
      "       device='cuda:0'), tensor([[ 4.3438,  6.0625,  7.7188,  ...,  0.0535,  0.0535, -1.3750]],\n",
      "       device='cuda:0'))\n",
      "score is tensor([[ 4.3125,  5.6875,  6.9688,  ..., -3.4219, -3.4219, -1.7734]],\n",
      "       device='cuda:0')\n",
      "logits is [[0.48175517 0.20720032 0.3110445 ]]\n"
     ]
    },
    {
     "name": "stderr",
     "output_type": "stream",
     "text": [
      " 88%|████████▊ | 440/501 [03:07<00:21,  2.85it/s]The attention mask and the pad token id were not set. As a consequence, you may observe unexpected behavior. Please pass your input's `attention_mask` to obtain reliable results.\n",
      "Setting `pad_token_id` to `eos_token_id`:128001 for open-end generation.\n"
     ]
    },
    {
     "name": "stdout",
     "output_type": "stream",
     "text": [
      "score (tensor([[ 4.9688,  5.3750,  7.2188,  ..., -2.8125, -2.8125, -1.0703]],\n",
      "       device='cuda:0'), tensor([[ 4.3750,  5.8125,  7.9688,  ...,  1.3281,  1.3281, -1.6406]],\n",
      "       device='cuda:0'))\n",
      "score is tensor([[ 4.9688,  5.3750,  7.2188,  ..., -2.8125, -2.8125, -1.0703]],\n",
      "       device='cuda:0')\n",
      "logits is [[0.49319002 0.22579885 0.28101122]]\n"
     ]
    },
    {
     "name": "stderr",
     "output_type": "stream",
     "text": [
      " 88%|████████▊ | 441/501 [03:07<00:20,  2.96it/s]The attention mask and the pad token id were not set. As a consequence, you may observe unexpected behavior. Please pass your input's `attention_mask` to obtain reliable results.\n",
      "Setting `pad_token_id` to `eos_token_id`:128001 for open-end generation.\n"
     ]
    },
    {
     "name": "stdout",
     "output_type": "stream",
     "text": [
      "score (tensor([[ 4.0938,  5.3750,  6.0625,  ..., -4.7500, -4.7500,  0.0894]],\n",
      "       device='cuda:0'), tensor([[ 4.5938,  5.6875,  7.6250,  ...,  0.9062,  0.9062, -2.0156]],\n",
      "       device='cuda:0'))\n",
      "score is tensor([[ 4.0938,  5.3750,  6.0625,  ..., -4.7500, -4.7500,  0.0894]],\n",
      "       device='cuda:0')\n",
      "logits is [[0.33288842 0.49972472 0.16738681]]\n"
     ]
    },
    {
     "name": "stderr",
     "output_type": "stream",
     "text": [
      " 88%|████████▊ | 442/501 [03:08<00:21,  2.78it/s]The attention mask and the pad token id were not set. As a consequence, you may observe unexpected behavior. Please pass your input's `attention_mask` to obtain reliable results.\n",
      "Setting `pad_token_id` to `eos_token_id`:128001 for open-end generation.\n"
     ]
    },
    {
     "name": "stdout",
     "output_type": "stream",
     "text": [
      "score (tensor([[ 4.0625,  5.6250,  6.7188,  ..., -2.5156, -2.5156, -0.0439]],\n",
      "       device='cuda:0'), tensor([[ 4.2500,  5.6562,  7.7500,  ...,  0.0835,  0.0835, -1.7656]],\n",
      "       device='cuda:0'))\n",
      "score is tensor([[ 4.0625,  5.6250,  6.7188,  ..., -2.5156, -2.5156, -0.0439]],\n",
      "       device='cuda:0')\n",
      "logits is [[0.6127092  0.21174665 0.17554414]]\n"
     ]
    },
    {
     "name": "stderr",
     "output_type": "stream",
     "text": [
      " 88%|████████▊ | 443/501 [03:08<00:19,  3.02it/s]The attention mask and the pad token id were not set. As a consequence, you may observe unexpected behavior. Please pass your input's `attention_mask` to obtain reliable results.\n",
      "Setting `pad_token_id` to `eos_token_id`:128001 for open-end generation.\n"
     ]
    },
    {
     "name": "stdout",
     "output_type": "stream",
     "text": [
      "score (tensor([[ 4.6875,  6.2500,  6.5000,  ..., -4.0625, -4.0625,  0.4316]],\n",
      "       device='cuda:0'), tensor([[ 3.9219,  6.0000,  7.1875,  ...,  1.2891,  1.2891, -1.6250]],\n",
      "       device='cuda:0'))\n",
      "score is tensor([[ 4.6875,  6.2500,  6.5000,  ..., -4.0625, -4.0625,  0.4316]],\n",
      "       device='cuda:0')\n",
      "logits is [[0.4440144  0.26930836 0.28667724]]\n"
     ]
    },
    {
     "name": "stderr",
     "output_type": "stream",
     "text": [
      " 89%|████████▊ | 444/501 [03:08<00:19,  2.94it/s]The attention mask and the pad token id were not set. As a consequence, you may observe unexpected behavior. Please pass your input's `attention_mask` to obtain reliable results.\n",
      "Setting `pad_token_id` to `eos_token_id`:128001 for open-end generation.\n"
     ]
    },
    {
     "name": "stdout",
     "output_type": "stream",
     "text": [
      "score (tensor([[ 3.8594,  5.3125,  5.8125,  ..., -3.8125, -3.8125, -2.0312]],\n",
      "       device='cuda:0'), tensor([[ 4.0938,  5.0625,  6.8750,  ...,  2.2188,  2.2188, -3.2031]],\n",
      "       device='cuda:0'))\n",
      "score is tensor([[ 3.8594,  5.3125,  5.8125,  ..., -3.8125, -3.8125, -2.0312]],\n",
      "       device='cuda:0')\n",
      "logits is [[0.3302206  0.54444176 0.12533762]]\n"
     ]
    },
    {
     "name": "stderr",
     "output_type": "stream",
     "text": [
      " 89%|████████▉ | 445/501 [03:09<00:19,  2.91it/s]The attention mask and the pad token id were not set. As a consequence, you may observe unexpected behavior. Please pass your input's `attention_mask` to obtain reliable results.\n",
      "Setting `pad_token_id` to `eos_token_id`:128001 for open-end generation.\n"
     ]
    },
    {
     "name": "stdout",
     "output_type": "stream",
     "text": [
      "score (tensor([[ 4.3750e+00,  5.7500e+00,  6.2188e+00,  ..., -2.2500e+00,\n",
      "         -2.2500e+00,  1.5182e-03]], device='cuda:0'), tensor([[ 4.1250,  5.8750,  7.3750,  ...,  0.4473,  0.4473, -1.6797]],\n",
      "       device='cuda:0'))\n",
      "score is tensor([[ 4.3750e+00,  5.7500e+00,  6.2188e+00,  ..., -2.2500e+00,\n",
      "         -2.2500e+00,  1.5182e-03]], device='cuda:0')\n",
      "logits is [[0.42768925 0.31290415 0.25940666]]\n"
     ]
    },
    {
     "name": "stderr",
     "output_type": "stream",
     "text": [
      " 89%|████████▉ | 446/501 [03:09<00:17,  3.12it/s]The attention mask and the pad token id were not set. As a consequence, you may observe unexpected behavior. Please pass your input's `attention_mask` to obtain reliable results.\n",
      "Setting `pad_token_id` to `eos_token_id`:128001 for open-end generation.\n"
     ]
    },
    {
     "name": "stdout",
     "output_type": "stream",
     "text": [
      "score (tensor([[ 4.8750,  5.5312,  6.5312,  ..., -2.9062, -2.9062, -1.5234]],\n",
      "       device='cuda:0'), tensor([[ 4.8125,  6.1875,  7.5000,  ..., -0.0537, -0.0537, -1.1406]],\n",
      "       device='cuda:0'))\n",
      "score is tensor([[ 4.8750,  5.5312,  6.5312,  ..., -2.9062, -2.9062, -1.5234]],\n",
      "       device='cuda:0')\n",
      "logits is [[0.4499335  0.24083206 0.30923447]]\n"
     ]
    },
    {
     "name": "stderr",
     "output_type": "stream",
     "text": [
      " 89%|████████▉ | 447/501 [03:09<00:17,  3.13it/s]The attention mask and the pad token id were not set. As a consequence, you may observe unexpected behavior. Please pass your input's `attention_mask` to obtain reliable results.\n",
      "Setting `pad_token_id` to `eos_token_id`:128001 for open-end generation.\n"
     ]
    },
    {
     "name": "stdout",
     "output_type": "stream",
     "text": [
      "score (tensor([[ 4.9688,  6.1875,  7.1562,  ..., -3.7031, -3.7031, -0.4805]],\n",
      "       device='cuda:0'), tensor([[ 4.5625,  6.6250,  7.8125,  ...,  0.7305,  0.7305, -1.2500]],\n",
      "       device='cuda:0'))\n",
      "score is tensor([[ 4.9688,  6.1875,  7.1562,  ..., -3.7031, -3.7031, -0.4805]],\n",
      "       device='cuda:0')\n",
      "logits is [[0.48659807 0.26872498 0.24467687]]\n"
     ]
    },
    {
     "name": "stderr",
     "output_type": "stream",
     "text": [
      " 89%|████████▉ | 448/501 [03:10<00:18,  2.90it/s]The attention mask and the pad token id were not set. As a consequence, you may observe unexpected behavior. Please pass your input's `attention_mask` to obtain reliable results.\n",
      "Setting `pad_token_id` to `eos_token_id`:128001 for open-end generation.\n"
     ]
    },
    {
     "name": "stdout",
     "output_type": "stream",
     "text": [
      "score (tensor([[ 3.7812,  5.6562,  6.8438,  ...,  2.1875,  2.1875, -2.7500]],\n",
      "       device='cuda:0'), tensor([[ 3.8281,  5.2500,  7.5312,  ..., -1.0000, -1.0000, -2.7812]],\n",
      "       device='cuda:0'))\n",
      "score is tensor([[ 3.7812,  5.6562,  6.8438,  ...,  2.1875,  2.1875, -2.7500]],\n",
      "       device='cuda:0')\n",
      "logits is [[0.57904565 0.2651064  0.15584803]]\n"
     ]
    },
    {
     "name": "stderr",
     "output_type": "stream",
     "text": [
      " 90%|████████▉ | 449/501 [03:10<00:18,  2.89it/s]"
     ]
    },
    {
     "name": "stdout",
     "output_type": "stream",
     "text": [
      "score (tensor([[ 4.9688,  4.6875,  5.7812,  ..., -4.6875, -4.6875,  1.2656]],\n",
      "       device='cuda:0'), tensor([[ 4.6562,  5.0625,  7.2812,  ...,  1.7422,  1.7422, -0.0179]],\n",
      "       device='cuda:0'))\n",
      "score is tensor([[ 4.9688,  4.6875,  5.7812,  ..., -4.6875, -4.6875,  1.2656]],\n",
      "       device='cuda:0')\n",
      "logits is [[0.19463597 0.658445   0.14691894]]\n"
     ]
    },
    {
     "name": "stderr",
     "output_type": "stream",
     "text": [
      "The attention mask and the pad token id were not set. As a consequence, you may observe unexpected behavior. Please pass your input's `attention_mask` to obtain reliable results.\n",
      "Setting `pad_token_id` to `eos_token_id`:128001 for open-end generation.\n",
      " 90%|████████▉ | 450/501 [03:11<00:22,  2.30it/s]The attention mask and the pad token id were not set. As a consequence, you may observe unexpected behavior. Please pass your input's `attention_mask` to obtain reliable results.\n",
      "Setting `pad_token_id` to `eos_token_id`:128001 for open-end generation.\n"
     ]
    },
    {
     "name": "stdout",
     "output_type": "stream",
     "text": [
      "score (tensor([[ 4.5000,  5.1875,  6.8438,  ..., -2.0156, -2.0156, -3.0156]],\n",
      "       device='cuda:0'), tensor([[ 5.1250,  5.6562,  7.5938,  ..., -1.0625, -1.0625, -2.1406]],\n",
      "       device='cuda:0'))\n",
      "score is tensor([[ 4.5000,  5.1875,  6.8438,  ..., -2.0156, -2.0156, -3.0156]],\n",
      "       device='cuda:0')\n",
      "logits is [[0.5195318  0.35706863 0.12339962]]\n"
     ]
    },
    {
     "name": "stderr",
     "output_type": "stream",
     "text": [
      " 90%|█████████ | 451/501 [03:11<00:19,  2.51it/s]The attention mask and the pad token id were not set. As a consequence, you may observe unexpected behavior. Please pass your input's `attention_mask` to obtain reliable results.\n",
      "Setting `pad_token_id` to `eos_token_id`:128001 for open-end generation.\n"
     ]
    },
    {
     "name": "stdout",
     "output_type": "stream",
     "text": [
      "score (tensor([[ 4.7500,  5.0938,  6.5000,  ..., -5.7812, -5.7812,  0.0889]],\n",
      "       device='cuda:0'), tensor([[ 4.8438,  5.5938,  7.5312,  ..., -1.7500, -1.7500,  0.2422]],\n",
      "       device='cuda:0'))\n",
      "score is tensor([[ 4.7500,  5.0938,  6.5000,  ..., -5.7812, -5.7812,  0.0889]],\n",
      "       device='cuda:0')\n",
      "logits is [[0.4814158  0.35221136 0.16637287]]\n"
     ]
    },
    {
     "name": "stderr",
     "output_type": "stream",
     "text": [
      " 90%|█████████ | 452/501 [03:12<00:20,  2.41it/s]"
     ]
    },
    {
     "name": "stdout",
     "output_type": "stream",
     "text": [
      "score (tensor([[ 3.8906,  5.1562,  6.5000,  ..., -2.8906, -2.8906,  0.2676]],\n",
      "       device='cuda:0'), tensor([[ 4.4062,  5.3438,  7.3750,  ...,  0.9258,  0.9258, -2.1250]],\n",
      "       device='cuda:0'))\n",
      "score is tensor([[ 3.8906,  5.1562,  6.5000,  ..., -2.8906, -2.8906,  0.2676]],\n",
      "       device='cuda:0')\n",
      "logits is [[0.48484603 0.31304014 0.2021139 ]]\n"
     ]
    },
    {
     "name": "stderr",
     "output_type": "stream",
     "text": [
      "The attention mask and the pad token id were not set. As a consequence, you may observe unexpected behavior. Please pass your input's `attention_mask` to obtain reliable results.\n",
      "Setting `pad_token_id` to `eos_token_id`:128001 for open-end generation.\n",
      " 90%|█████████ | 453/501 [03:12<00:21,  2.27it/s]The attention mask and the pad token id were not set. As a consequence, you may observe unexpected behavior. Please pass your input's `attention_mask` to obtain reliable results.\n",
      "Setting `pad_token_id` to `eos_token_id`:128001 for open-end generation.\n"
     ]
    },
    {
     "name": "stdout",
     "output_type": "stream",
     "text": [
      "score (tensor([[ 4.7188,  5.0938,  7.9375,  ..., -2.5312, -2.5312, -1.7500]],\n",
      "       device='cuda:0'), tensor([[ 4.9062,  5.5938,  8.4375,  ..., -0.7852, -0.7852, -1.0234]],\n",
      "       device='cuda:0'))\n",
      "score is tensor([[ 4.7188,  5.0938,  7.9375,  ..., -2.5312, -2.5312, -1.7500]],\n",
      "       device='cuda:0')\n",
      "logits is [[0.6021369  0.23580019 0.16206296]]\n"
     ]
    },
    {
     "name": "stderr",
     "output_type": "stream",
     "text": [
      " 91%|█████████ | 454/501 [03:12<00:19,  2.43it/s]"
     ]
    },
    {
     "name": "stdout",
     "output_type": "stream",
     "text": [
      "score (tensor([[ 4.8438,  5.4062,  7.0625,  ..., -3.2969, -3.2969,  0.7266]],\n",
      "       device='cuda:0'), tensor([[ 4.3438,  5.6562,  7.9375,  ...,  0.0684,  0.0684, -0.5625]],\n",
      "       device='cuda:0'))\n",
      "score is tensor([[ 4.8438,  5.4062,  7.0625,  ..., -3.2969, -3.2969,  0.7266]],\n",
      "       device='cuda:0')\n",
      "logits is [[0.5053035  0.2704695  0.22422707]]\n"
     ]
    },
    {
     "name": "stderr",
     "output_type": "stream",
     "text": [
      "The attention mask and the pad token id were not set. As a consequence, you may observe unexpected behavior. Please pass your input's `attention_mask` to obtain reliable results.\n",
      "Setting `pad_token_id` to `eos_token_id`:128001 for open-end generation.\n",
      " 91%|█████████ | 455/501 [03:13<00:20,  2.28it/s]"
     ]
    },
    {
     "name": "stdout",
     "output_type": "stream",
     "text": [
      "score (tensor([[ 3.9219,  4.9062,  5.5625,  ..., -1.8438, -1.8438, -0.9805]],\n",
      "       device='cuda:0'), tensor([[ 3.9688,  4.6875,  6.0938,  ...,  1.1641,  1.1641, -3.2031]],\n",
      "       device='cuda:0'))\n",
      "score is tensor([[ 3.9219,  4.9062,  5.5625,  ..., -1.8438, -1.8438, -0.9805]],\n",
      "       device='cuda:0')\n",
      "logits is [[0.6365203  0.23416275 0.12931696]]\n"
     ]
    },
    {
     "name": "stderr",
     "output_type": "stream",
     "text": [
      "The attention mask and the pad token id were not set. As a consequence, you may observe unexpected behavior. Please pass your input's `attention_mask` to obtain reliable results.\n",
      "Setting `pad_token_id` to `eos_token_id`:128001 for open-end generation.\n",
      " 91%|█████████ | 456/501 [03:13<00:21,  2.06it/s]The attention mask and the pad token id were not set. As a consequence, you may observe unexpected behavior. Please pass your input's `attention_mask` to obtain reliable results.\n",
      "Setting `pad_token_id` to `eos_token_id`:128001 for open-end generation.\n"
     ]
    },
    {
     "name": "stdout",
     "output_type": "stream",
     "text": [
      "score (tensor([[ 4.7500,  5.6250,  7.4375,  ...,  0.6445,  0.6445, -0.5703]],\n",
      "       device='cuda:0'), tensor([[ 4.9688,  5.5625,  7.3125,  ...,  0.2393,  0.2383, -2.2188]],\n",
      "       device='cuda:0'))\n",
      "score is tensor([[ 4.7500,  5.6250,  7.4375,  ...,  0.6445,  0.6445, -0.5703]],\n",
      "       device='cuda:0')\n",
      "logits is [[0.65336865 0.18143392 0.16519746]]\n"
     ]
    },
    {
     "name": "stderr",
     "output_type": "stream",
     "text": [
      " 91%|█████████ | 457/501 [03:14<00:20,  2.17it/s]The attention mask and the pad token id were not set. As a consequence, you may observe unexpected behavior. Please pass your input's `attention_mask` to obtain reliable results.\n",
      "Setting `pad_token_id` to `eos_token_id`:128001 for open-end generation.\n"
     ]
    },
    {
     "name": "stdout",
     "output_type": "stream",
     "text": [
      "score (tensor([[ 3.9375,  5.6562,  6.1562,  ..., -1.2734, -1.2734, -0.5195]],\n",
      "       device='cuda:0'), tensor([[ 4.1250,  5.0312,  6.4688,  ...,  0.8555,  0.8555, -3.8438]],\n",
      "       device='cuda:0'))\n",
      "score is tensor([[ 3.9375,  5.6562,  6.1562,  ..., -1.2734, -1.2734, -0.5195]],\n",
      "       device='cuda:0')\n",
      "logits is [[0.5502077  0.27666178 0.17313051]]\n"
     ]
    },
    {
     "name": "stderr",
     "output_type": "stream",
     "text": [
      " 91%|█████████▏| 458/501 [03:14<00:17,  2.39it/s]The attention mask and the pad token id were not set. As a consequence, you may observe unexpected behavior. Please pass your input's `attention_mask` to obtain reliable results.\n",
      "Setting `pad_token_id` to `eos_token_id`:128001 for open-end generation.\n"
     ]
    },
    {
     "name": "stdout",
     "output_type": "stream",
     "text": [
      "score (tensor([[ 4.5312,  6.1562,  7.2500,  ...,  0.0698,  0.0698, -1.4922]],\n",
      "       device='cuda:0'), tensor([[ 3.4844,  5.3750,  6.8125,  ...,  2.8125,  2.8125, -1.1641]],\n",
      "       device='cuda:0'))\n",
      "score is tensor([[ 4.5312,  6.1562,  7.2500,  ...,  0.0698,  0.0698, -1.4922]],\n",
      "       device='cuda:0')\n",
      "logits is [[0.7036969  0.16200022 0.1343029 ]]\n"
     ]
    },
    {
     "name": "stderr",
     "output_type": "stream",
     "text": [
      " 92%|█████████▏| 459/501 [03:14<00:16,  2.61it/s]The attention mask and the pad token id were not set. As a consequence, you may observe unexpected behavior. Please pass your input's `attention_mask` to obtain reliable results.\n",
      "Setting `pad_token_id` to `eos_token_id`:128001 for open-end generation.\n"
     ]
    },
    {
     "name": "stdout",
     "output_type": "stream",
     "text": [
      "score (tensor([[ 5.1250,  5.8438,  7.0000,  ..., -4.2812, -4.2812, -0.7734]],\n",
      "       device='cuda:0'), tensor([[ 4.5312,  6.1250,  8.0625,  ..., -0.0603, -0.0603, -1.3281]],\n",
      "       device='cuda:0'))\n",
      "score is tensor([[ 5.1250,  5.8438,  7.0000,  ..., -4.2812, -4.2812, -0.7734]],\n",
      "       device='cuda:0')\n",
      "logits is [[0.44127473 0.34366512 0.21506013]]\n"
     ]
    },
    {
     "name": "stderr",
     "output_type": "stream",
     "text": [
      " 92%|█████████▏| 460/501 [03:15<00:15,  2.68it/s]The attention mask and the pad token id were not set. As a consequence, you may observe unexpected behavior. Please pass your input's `attention_mask` to obtain reliable results.\n",
      "Setting `pad_token_id` to `eos_token_id`:128001 for open-end generation.\n"
     ]
    },
    {
     "name": "stdout",
     "output_type": "stream",
     "text": [
      "score (tensor([[ 5.3438,  6.0625,  7.1250,  ..., -5.9062, -5.9062, -1.9453]],\n",
      "       device='cuda:0'), tensor([[ 4.7188,  5.8438,  7.7188,  ..., -2.0781, -2.0781, -1.0781]],\n",
      "       device='cuda:0'))\n",
      "score is tensor([[ 5.3438,  6.0625,  7.1250,  ..., -5.9062, -5.9062, -1.9453]],\n",
      "       device='cuda:0')\n",
      "logits is [[0.18916295 0.58266294 0.22817408]]\n"
     ]
    },
    {
     "name": "stderr",
     "output_type": "stream",
     "text": [
      " 92%|█████████▏| 461/501 [03:15<00:13,  2.95it/s]"
     ]
    },
    {
     "name": "stdout",
     "output_type": "stream",
     "text": [
      "score (tensor([[ 5.2188,  4.7812,  7.4375,  ..., -2.2969, -2.2969, -1.5469]],\n",
      "       device='cuda:0'), tensor([[ 4.4062,  5.0938,  7.6562,  ...,  0.1318,  0.1318, -1.7891]],\n",
      "       device='cuda:0'))\n",
      "score is tensor([[ 5.2188,  4.7812,  7.4375,  ..., -2.2969, -2.2969, -1.5469]],\n",
      "       device='cuda:0')\n",
      "logits is [[0.4838289  0.33253044 0.18364073]]\n"
     ]
    },
    {
     "name": "stderr",
     "output_type": "stream",
     "text": [
      "The attention mask and the pad token id were not set. As a consequence, you may observe unexpected behavior. Please pass your input's `attention_mask` to obtain reliable results.\n",
      "Setting `pad_token_id` to `eos_token_id`:128001 for open-end generation.\n",
      " 92%|█████████▏| 462/501 [03:16<00:15,  2.45it/s]"
     ]
    },
    {
     "name": "stdout",
     "output_type": "stream",
     "text": [
      "score (tensor([[ 4.5938,  5.5938,  6.6562,  ..., -4.3750, -4.3750, -1.7266]],\n",
      "       device='cuda:0'), tensor([[ 4.6562,  5.5938,  7.5938,  ..., -1.2031, -1.2031, -1.1719]],\n",
      "       device='cuda:0'))\n",
      "score is tensor([[ 4.5938,  5.5938,  6.6562,  ..., -4.3750, -4.3750, -1.7266]],\n",
      "       device='cuda:0')\n",
      "logits is [[0.32649586 0.41922897 0.25427523]]\n"
     ]
    },
    {
     "name": "stderr",
     "output_type": "stream",
     "text": [
      "The attention mask and the pad token id were not set. As a consequence, you may observe unexpected behavior. Please pass your input's `attention_mask` to obtain reliable results.\n",
      "Setting `pad_token_id` to `eos_token_id`:128001 for open-end generation.\n",
      " 92%|█████████▏| 463/501 [03:16<00:20,  1.90it/s]The attention mask and the pad token id were not set. As a consequence, you may observe unexpected behavior. Please pass your input's `attention_mask` to obtain reliable results.\n",
      "Setting `pad_token_id` to `eos_token_id`:128001 for open-end generation.\n"
     ]
    },
    {
     "name": "stdout",
     "output_type": "stream",
     "text": [
      "score (tensor([[ 4.4062,  6.1250,  7.3125,  ...,  1.9531,  1.9531, -2.8750]],\n",
      "       device='cuda:0'), tensor([[5.7188, 7.1250, 7.5938,  ..., 3.4844, 3.4844, 1.4062]],\n",
      "       device='cuda:0'))\n",
      "score is tensor([[ 4.4062,  6.1250,  7.3125,  ...,  1.9531,  1.9531, -2.8750]],\n",
      "       device='cuda:0')\n",
      "logits is [[0.77971554 0.13549425 0.08479013]]\n"
     ]
    },
    {
     "name": "stderr",
     "output_type": "stream",
     "text": [
      " 93%|█████████▎| 464/501 [03:17<00:17,  2.10it/s]The attention mask and the pad token id were not set. As a consequence, you may observe unexpected behavior. Please pass your input's `attention_mask` to obtain reliable results.\n",
      "Setting `pad_token_id` to `eos_token_id`:128001 for open-end generation.\n"
     ]
    },
    {
     "name": "stdout",
     "output_type": "stream",
     "text": [
      "score (tensor([[ 4.2188,  5.0312,  5.8750,  ..., -5.1875, -5.1875, -0.4238]],\n",
      "       device='cuda:0'), tensor([[ 3.7812,  5.1875,  7.5938,  ..., -1.7500, -1.7500, -1.0312]],\n",
      "       device='cuda:0'))\n",
      "score is tensor([[ 4.2188,  5.0312,  5.8750,  ..., -5.1875, -5.1875, -0.4238]],\n",
      "       device='cuda:0')\n",
      "logits is [[0.42348292 0.25685537 0.31966168]]\n"
     ]
    },
    {
     "name": "stderr",
     "output_type": "stream",
     "text": [
      " 93%|█████████▎| 465/501 [03:17<00:15,  2.35it/s]The attention mask and the pad token id were not set. As a consequence, you may observe unexpected behavior. Please pass your input's `attention_mask` to obtain reliable results.\n",
      "Setting `pad_token_id` to `eos_token_id`:128001 for open-end generation.\n"
     ]
    },
    {
     "name": "stdout",
     "output_type": "stream",
     "text": [
      "score (tensor([[ 4.2188,  5.8125,  6.9688,  ..., -2.1406, -2.1406, -0.5469]],\n",
      "       device='cuda:0'), tensor([[ 4.2188,  5.1250,  7.4375,  ...,  1.4141,  1.4141, -1.0938]],\n",
      "       device='cuda:0'))\n",
      "score is tensor([[ 4.2188,  5.8125,  6.9688,  ..., -2.1406, -2.1406, -0.5469]],\n",
      "       device='cuda:0')\n",
      "logits is [[0.609759   0.25418535 0.13605562]]\n"
     ]
    },
    {
     "name": "stderr",
     "output_type": "stream",
     "text": [
      " 93%|█████████▎| 466/501 [03:17<00:12,  2.71it/s]The attention mask and the pad token id were not set. As a consequence, you may observe unexpected behavior. Please pass your input's `attention_mask` to obtain reliable results.\n",
      "Setting `pad_token_id` to `eos_token_id`:128001 for open-end generation.\n"
     ]
    },
    {
     "name": "stdout",
     "output_type": "stream",
     "text": [
      "score (tensor([[ 3.9531,  5.1875,  7.3125,  ..., -1.9844, -1.9844, -2.7812]],\n",
      "       device='cuda:0'), tensor([[ 3.6250,  5.1562,  7.3750,  ...,  2.7344,  2.7344, -3.4375]],\n",
      "       device='cuda:0'))\n",
      "score is tensor([[ 3.9531,  5.1875,  7.3125,  ..., -1.9844, -1.9844, -2.7812]],\n",
      "       device='cuda:0')\n",
      "logits is [[0.38173574 0.39385334 0.22441088]]\n"
     ]
    },
    {
     "name": "stderr",
     "output_type": "stream",
     "text": [
      " 93%|█████████▎| 467/501 [03:18<00:13,  2.56it/s]The attention mask and the pad token id were not set. As a consequence, you may observe unexpected behavior. Please pass your input's `attention_mask` to obtain reliable results.\n",
      "Setting `pad_token_id` to `eos_token_id`:128001 for open-end generation.\n"
     ]
    },
    {
     "name": "stdout",
     "output_type": "stream",
     "text": [
      "score (tensor([[ 3.6719,  5.3438,  6.3438,  ..., -2.8438, -2.8438, -0.6367]],\n",
      "       device='cuda:0'), tensor([[ 4.1562,  5.4062,  7.6250,  ...,  0.5469,  0.5469, -2.1406]],\n",
      "       device='cuda:0'))\n",
      "score is tensor([[ 3.6719,  5.3438,  6.3438,  ..., -2.8438, -2.8438, -0.6367]],\n",
      "       device='cuda:0')\n",
      "logits is [[0.47214016 0.3048366  0.22302322]]\n"
     ]
    },
    {
     "name": "stderr",
     "output_type": "stream",
     "text": [
      " 93%|█████████▎| 468/501 [03:18<00:11,  2.95it/s]The attention mask and the pad token id were not set. As a consequence, you may observe unexpected behavior. Please pass your input's `attention_mask` to obtain reliable results.\n",
      "Setting `pad_token_id` to `eos_token_id`:128001 for open-end generation.\n"
     ]
    },
    {
     "name": "stdout",
     "output_type": "stream",
     "text": [
      "score (tensor([[ 4.7188,  5.6875,  7.1875,  ..., -3.4688, -3.4688, -2.3906]],\n",
      "       device='cuda:0'), tensor([[ 4.2812,  5.8438,  7.5312,  ..., -2.7812, -2.7812, -1.3828]],\n",
      "       device='cuda:0'))\n",
      "score is tensor([[ 4.7188,  5.6875,  7.1875,  ..., -3.4688, -3.4688, -2.3906]],\n",
      "       device='cuda:0')\n",
      "logits is [[0.52016443 0.38056046 0.09927512]]\n"
     ]
    },
    {
     "name": "stderr",
     "output_type": "stream",
     "text": [
      " 94%|█████████▎| 469/501 [03:18<00:10,  3.01it/s]The attention mask and the pad token id were not set. As a consequence, you may observe unexpected behavior. Please pass your input's `attention_mask` to obtain reliable results.\n",
      "Setting `pad_token_id` to `eos_token_id`:128001 for open-end generation.\n"
     ]
    },
    {
     "name": "stdout",
     "output_type": "stream",
     "text": [
      "score (tensor([[ 4.9062,  6.5312,  7.1562,  ...,  0.1553,  0.1553, -1.4609]],\n",
      "       device='cuda:0'), tensor([[ 4.2188,  6.3125,  7.6250,  ...,  1.1562,  1.1562, -2.4219]],\n",
      "       device='cuda:0'))\n",
      "score is tensor([[ 4.9062,  6.5312,  7.1562,  ...,  0.1553,  0.1553, -1.4609]],\n",
      "       device='cuda:0')\n",
      "logits is [[0.7221819  0.1561828  0.12163528]]\n"
     ]
    },
    {
     "name": "stderr",
     "output_type": "stream",
     "text": [
      " 94%|█████████▍| 470/501 [03:19<00:09,  3.26it/s]The attention mask and the pad token id were not set. As a consequence, you may observe unexpected behavior. Please pass your input's `attention_mask` to obtain reliable results.\n",
      "Setting `pad_token_id` to `eos_token_id`:128001 for open-end generation.\n"
     ]
    },
    {
     "name": "stdout",
     "output_type": "stream",
     "text": [
      "score (tensor([[ 5.0312,  5.8438,  7.0625,  ..., -3.1875, -3.1875, -1.7969]],\n",
      "       device='cuda:0'), tensor([[ 4.5000,  6.1250,  7.8750,  ...,  0.3301,  0.3301, -1.7812]],\n",
      "       device='cuda:0'))\n",
      "score is tensor([[ 5.0312,  5.8438,  7.0625,  ..., -3.1875, -3.1875, -1.7969]],\n",
      "       device='cuda:0')\n",
      "logits is [[0.567989   0.2294883  0.20252271]]\n"
     ]
    },
    {
     "name": "stderr",
     "output_type": "stream",
     "text": [
      " 94%|█████████▍| 471/501 [03:19<00:09,  3.12it/s]"
     ]
    },
    {
     "name": "stdout",
     "output_type": "stream",
     "text": [
      "score (tensor([[ 3.6875,  4.4062,  5.0625,  ..., -2.0625, -2.0625, -1.7031]],\n",
      "       device='cuda:0'), tensor([[ 3.9375,  5.0625,  7.0938,  ...,  1.1172,  1.1172, -2.3281]],\n",
      "       device='cuda:0'))\n",
      "score is tensor([[ 3.6875,  4.4062,  5.0625,  ..., -2.0625, -2.0625, -1.7031]],\n",
      "       device='cuda:0')\n",
      "logits is [[0.48927265 0.33627185 0.17445554]]\n"
     ]
    },
    {
     "name": "stderr",
     "output_type": "stream",
     "text": [
      "The attention mask and the pad token id were not set. As a consequence, you may observe unexpected behavior. Please pass your input's `attention_mask` to obtain reliable results.\n",
      "Setting `pad_token_id` to `eos_token_id`:128001 for open-end generation.\n",
      " 94%|█████████▍| 472/501 [03:20<00:11,  2.48it/s]The attention mask and the pad token id were not set. As a consequence, you may observe unexpected behavior. Please pass your input's `attention_mask` to obtain reliable results.\n",
      "Setting `pad_token_id` to `eos_token_id`:128001 for open-end generation.\n"
     ]
    },
    {
     "name": "stdout",
     "output_type": "stream",
     "text": [
      "score (tensor([[ 4.8750,  6.1250,  6.3750,  ..., -4.4062, -4.4062, -0.3477]],\n",
      "       device='cuda:0'), tensor([[ 4.9062,  4.5312,  4.6875,  ..., -2.7969, -2.7969, -0.5117]],\n",
      "       device='cuda:0'))\n",
      "score is tensor([[ 4.8750,  6.1250,  6.3750,  ..., -4.4062, -4.4062, -0.3477]],\n",
      "       device='cuda:0')\n",
      "logits is [[0.5731452  0.24650669 0.18034813]]\n"
     ]
    },
    {
     "name": "stderr",
     "output_type": "stream",
     "text": [
      " 94%|█████████▍| 473/501 [03:20<00:11,  2.48it/s]The attention mask and the pad token id were not set. As a consequence, you may observe unexpected behavior. Please pass your input's `attention_mask` to obtain reliable results.\n",
      "Setting `pad_token_id` to `eos_token_id`:128001 for open-end generation.\n"
     ]
    },
    {
     "name": "stdout",
     "output_type": "stream",
     "text": [
      "score (tensor([[ 4.2500,  5.7188,  6.5312,  ..., -1.2031, -1.2031,  0.4082]],\n",
      "       device='cuda:0'), tensor([[ 3.7344,  5.5625,  7.3438,  ...,  0.7891,  0.7891, -2.2188]],\n",
      "       device='cuda:0'))\n",
      "score is tensor([[ 4.2500,  5.7188,  6.5312,  ..., -1.2031, -1.2031,  0.4082]],\n",
      "       device='cuda:0')\n",
      "logits is [[0.69826084 0.12519127 0.17654799]]\n"
     ]
    },
    {
     "name": "stderr",
     "output_type": "stream",
     "text": [
      " 95%|█████████▍| 474/501 [03:20<00:10,  2.64it/s]"
     ]
    },
    {
     "name": "stdout",
     "output_type": "stream",
     "text": [
      "score (tensor([[ 4.3125,  5.4688,  6.8438,  ..., -1.9219, -1.9219, -1.3359]],\n",
      "       device='cuda:0'), tensor([[ 4.2500,  6.1250,  8.0000,  ..., -0.6328, -0.6328, -1.5078]],\n",
      "       device='cuda:0'))\n",
      "score is tensor([[ 4.3125,  5.4688,  6.8438,  ..., -1.9219, -1.9219, -1.3359]],\n",
      "       device='cuda:0')\n",
      "logits is [[0.58361095 0.20169055 0.21469848]]\n"
     ]
    },
    {
     "name": "stderr",
     "output_type": "stream",
     "text": [
      "The attention mask and the pad token id were not set. As a consequence, you may observe unexpected behavior. Please pass your input's `attention_mask` to obtain reliable results.\n",
      "Setting `pad_token_id` to `eos_token_id`:128001 for open-end generation.\n",
      " 95%|█████████▍| 475/501 [03:21<00:11,  2.24it/s]The attention mask and the pad token id were not set. As a consequence, you may observe unexpected behavior. Please pass your input's `attention_mask` to obtain reliable results.\n",
      "Setting `pad_token_id` to `eos_token_id`:128001 for open-end generation.\n"
     ]
    },
    {
     "name": "stdout",
     "output_type": "stream",
     "text": [
      "score (tensor([[ 4.9062,  5.6875,  7.1562,  ..., -4.2500, -4.2500, -4.5938]],\n",
      "       device='cuda:0'), tensor([[ 5.0312,  5.7188,  7.7188,  ...,  1.1641,  1.1641, -3.9375]],\n",
      "       device='cuda:0'))\n",
      "score is tensor([[ 4.9062,  5.6875,  7.1562,  ..., -4.2500, -4.2500, -4.5938]],\n",
      "       device='cuda:0')\n",
      "logits is [[0.3492237  0.54088825 0.10988811]]\n"
     ]
    },
    {
     "name": "stderr",
     "output_type": "stream",
     "text": [
      " 95%|█████████▌| 476/501 [03:21<00:10,  2.48it/s]"
     ]
    },
    {
     "name": "stdout",
     "output_type": "stream",
     "text": [
      "score (tensor([[ 4.7500,  5.3125,  6.1250,  ..., -5.5938, -5.5938, -0.6523]],\n",
      "       device='cuda:0'), tensor([[ 4.0625,  5.7500,  7.6250,  ...,  0.3359,  0.3359, -1.0781]],\n",
      "       device='cuda:0'))\n",
      "score is tensor([[ 4.7500,  5.3125,  6.1250,  ..., -5.5938, -5.5938, -0.6523]],\n",
      "       device='cuda:0')\n",
      "logits is [[0.3898336  0.36621478 0.24395165]]\n"
     ]
    },
    {
     "name": "stderr",
     "output_type": "stream",
     "text": [
      "The attention mask and the pad token id were not set. As a consequence, you may observe unexpected behavior. Please pass your input's `attention_mask` to obtain reliable results.\n",
      "Setting `pad_token_id` to `eos_token_id`:128001 for open-end generation.\n",
      " 95%|█████████▌| 477/501 [03:22<00:11,  2.11it/s]The attention mask and the pad token id were not set. As a consequence, you may observe unexpected behavior. Please pass your input's `attention_mask` to obtain reliable results.\n",
      "Setting `pad_token_id` to `eos_token_id`:128001 for open-end generation.\n"
     ]
    },
    {
     "name": "stdout",
     "output_type": "stream",
     "text": [
      "score (tensor([[ 3.8594,  5.8438,  6.0625,  ..., -3.0156, -3.0156, -0.7969]],\n",
      "       device='cuda:0'), tensor([[ 4.3125,  4.6562,  3.9531,  ..., -3.0938, -3.0938, -3.4531]],\n",
      "       device='cuda:0'))\n",
      "score is tensor([[ 3.8594,  5.8438,  6.0625,  ..., -3.0156, -3.0156, -0.7969]],\n",
      "       device='cuda:0')\n",
      "logits is [[0.5331402  0.39005372 0.07680613]]\n"
     ]
    },
    {
     "name": "stderr",
     "output_type": "stream",
     "text": [
      " 95%|█████████▌| 478/501 [03:22<00:10,  2.28it/s]The attention mask and the pad token id were not set. As a consequence, you may observe unexpected behavior. Please pass your input's `attention_mask` to obtain reliable results.\n",
      "Setting `pad_token_id` to `eos_token_id`:128001 for open-end generation.\n"
     ]
    },
    {
     "name": "stdout",
     "output_type": "stream",
     "text": [
      "score (tensor([[ 4.1875,  5.7812,  6.5938,  ..., -4.7500, -4.7500, -1.3672]],\n",
      "       device='cuda:0'), tensor([[ 4.1875,  6.1875,  8.1875,  ...,  0.8203,  0.8203, -1.9844]],\n",
      "       device='cuda:0'))\n",
      "score is tensor([[ 4.1875,  5.7812,  6.5938,  ..., -4.7500, -4.7500, -1.3672]],\n",
      "       device='cuda:0')\n",
      "logits is [[0.44724187 0.29792732 0.25483075]]\n"
     ]
    },
    {
     "name": "stderr",
     "output_type": "stream",
     "text": [
      " 96%|█████████▌| 479/501 [03:22<00:08,  2.58it/s]The attention mask and the pad token id were not set. As a consequence, you may observe unexpected behavior. Please pass your input's `attention_mask` to obtain reliable results.\n",
      "Setting `pad_token_id` to `eos_token_id`:128001 for open-end generation.\n"
     ]
    },
    {
     "name": "stdout",
     "output_type": "stream",
     "text": [
      "score (tensor([[ 5.8438,  6.8750,  9.5000,  ..., -2.1875, -2.1875, -3.9375]],\n",
      "       device='cuda:0'), tensor([[ 5.7812,  7.2500,  9.6250,  ..., -0.4668, -0.4668, -3.3906]],\n",
      "       device='cuda:0'))\n",
      "score is tensor([[ 5.8438,  6.8750,  9.5000,  ..., -2.1875, -2.1875, -3.9375]],\n",
      "       device='cuda:0')\n",
      "logits is [[0.70538455 0.25949648 0.03511903]]\n"
     ]
    },
    {
     "name": "stderr",
     "output_type": "stream",
     "text": [
      " 96%|█████████▌| 480/501 [03:23<00:07,  2.86it/s]"
     ]
    },
    {
     "name": "stdout",
     "output_type": "stream",
     "text": [
      "score (tensor([[ 4.3438,  6.0625,  6.2188,  ..., -5.7812, -5.7812, -0.5273]],\n",
      "       device='cuda:0'), tensor([[ 4.1875e+00,  6.3750e+00,  7.2188e+00,  ..., -7.0190e-03,\n",
      "         -6.9885e-03, -1.2656e+00]], device='cuda:0'))\n",
      "score is tensor([[ 4.3438,  6.0625,  6.2188,  ..., -5.7812, -5.7812, -0.5273]],\n",
      "       device='cuda:0')\n",
      "logits is [[0.26630732 0.41246483 0.32122794]]\n"
     ]
    },
    {
     "name": "stderr",
     "output_type": "stream",
     "text": [
      "The attention mask and the pad token id were not set. As a consequence, you may observe unexpected behavior. Please pass your input's `attention_mask` to obtain reliable results.\n",
      "Setting `pad_token_id` to `eos_token_id`:128001 for open-end generation.\n",
      " 96%|█████████▌| 481/501 [03:23<00:09,  2.06it/s]The attention mask and the pad token id were not set. As a consequence, you may observe unexpected behavior. Please pass your input's `attention_mask` to obtain reliable results.\n",
      "Setting `pad_token_id` to `eos_token_id`:128001 for open-end generation.\n"
     ]
    },
    {
     "name": "stdout",
     "output_type": "stream",
     "text": [
      "score (tensor([[ 4.8750,  5.4375,  7.7500,  ..., -5.2812, -5.2812, -1.5547]],\n",
      "       device='cuda:0'), tensor([[ 5.6250,  6.1562,  8.9375,  ..., -0.8594, -0.8594, -1.7500]],\n",
      "       device='cuda:0'))\n",
      "score is tensor([[ 4.8750,  5.4375,  7.7500,  ..., -5.2812, -5.2812, -1.5547]],\n",
      "       device='cuda:0')\n",
      "logits is [[0.51212496 0.34114876 0.14672627]]\n"
     ]
    },
    {
     "name": "stderr",
     "output_type": "stream",
     "text": [
      " 96%|█████████▌| 482/501 [03:24<00:08,  2.17it/s]"
     ]
    },
    {
     "name": "stdout",
     "output_type": "stream",
     "text": [
      "score (tensor([[ 4.1875,  5.7188,  6.4688,  ..., -5.6562, -5.6562, -1.2109]],\n",
      "       device='cuda:0'), tensor([[ 4.1250,  6.2812,  7.7812,  ...,  0.5469,  0.5469, -2.0000]],\n",
      "       device='cuda:0'))\n",
      "score is tensor([[ 4.1875,  5.7188,  6.4688,  ..., -5.6562, -5.6562, -1.2109]],\n",
      "       device='cuda:0')\n",
      "logits is [[0.36788866 0.3455994  0.286512  ]]\n"
     ]
    },
    {
     "name": "stderr",
     "output_type": "stream",
     "text": [
      "The attention mask and the pad token id were not set. As a consequence, you may observe unexpected behavior. Please pass your input's `attention_mask` to obtain reliable results.\n",
      "Setting `pad_token_id` to `eos_token_id`:128001 for open-end generation.\n",
      " 96%|█████████▋| 483/501 [03:24<00:08,  2.04it/s]"
     ]
    },
    {
     "name": "stdout",
     "output_type": "stream",
     "text": [
      "score (tensor([[ 4.5000,  5.0625,  6.5312,  ..., -4.6250, -4.6250,  2.4531]],\n",
      "       device='cuda:0'), tensor([[ 4.6562,  3.9062,  4.5938,  ...,  0.2314,  0.2314, -0.6406]],\n",
      "       device='cuda:0'))\n",
      "score is tensor([[ 4.5000,  5.0625,  6.5312,  ..., -4.6250, -4.6250,  2.4531]],\n",
      "       device='cuda:0')\n",
      "logits is [[0.20434871 0.20434871 0.5913026 ]]\n"
     ]
    },
    {
     "name": "stderr",
     "output_type": "stream",
     "text": [
      "The attention mask and the pad token id were not set. As a consequence, you may observe unexpected behavior. Please pass your input's `attention_mask` to obtain reliable results.\n",
      "Setting `pad_token_id` to `eos_token_id`:128001 for open-end generation.\n",
      " 97%|█████████▋| 484/501 [03:25<00:08,  2.02it/s]"
     ]
    },
    {
     "name": "stdout",
     "output_type": "stream",
     "text": [
      "score (tensor([[ 5.5312,  6.1250,  6.4688,  ..., -3.7344, -3.7344, -0.1943]],\n",
      "       device='cuda:0'), tensor([[ 4.3125,  3.7969,  3.7812,  ..., -3.4375, -3.4375, -0.8203]],\n",
      "       device='cuda:0'))\n",
      "score is tensor([[ 5.5312,  6.1250,  6.4688,  ..., -3.7344, -3.7344, -0.1943]],\n",
      "       device='cuda:0')\n",
      "logits is [[0.47630498 0.34847218 0.17522281]]\n"
     ]
    },
    {
     "name": "stderr",
     "output_type": "stream",
     "text": [
      "The attention mask and the pad token id were not set. As a consequence, you may observe unexpected behavior. Please pass your input's `attention_mask` to obtain reliable results.\n",
      "Setting `pad_token_id` to `eos_token_id`:128001 for open-end generation.\n",
      " 97%|█████████▋| 485/501 [03:25<00:07,  2.01it/s]The attention mask and the pad token id were not set. As a consequence, you may observe unexpected behavior. Please pass your input's `attention_mask` to obtain reliable results.\n",
      "Setting `pad_token_id` to `eos_token_id`:128001 for open-end generation.\n"
     ]
    },
    {
     "name": "stdout",
     "output_type": "stream",
     "text": [
      "score (tensor([[ 6.3125,  8.3125,  6.9688,  ..., -3.2188, -3.2188,  0.1152]],\n",
      "       device='cuda:0'), tensor([[ 5.8438,  6.8750,  5.2188,  ..., -4.2812, -4.2812, -1.3906]],\n",
      "       device='cuda:0'))\n",
      "score is tensor([[ 6.3125,  8.3125,  6.9688,  ..., -3.2188, -3.2188,  0.1152]],\n",
      "       device='cuda:0')\n",
      "logits is [[0.40217894 0.30358058 0.29424042]]\n"
     ]
    },
    {
     "name": "stderr",
     "output_type": "stream",
     "text": [
      " 97%|█████████▋| 486/501 [03:26<00:06,  2.21it/s]The attention mask and the pad token id were not set. As a consequence, you may observe unexpected behavior. Please pass your input's `attention_mask` to obtain reliable results.\n",
      "Setting `pad_token_id` to `eos_token_id`:128001 for open-end generation.\n"
     ]
    },
    {
     "name": "stdout",
     "output_type": "stream",
     "text": [
      "score (tensor([[ 4.5625,  5.9062,  7.0312,  ..., -2.4688, -2.4688, -0.7578]],\n",
      "       device='cuda:0'), tensor([[ 4.2812,  6.4375,  8.0625,  ..., -0.3555, -0.3555, -1.1328]],\n",
      "       device='cuda:0'))\n",
      "score is tensor([[ 4.5625,  5.9062,  7.0312,  ..., -2.4688, -2.4688, -0.7578]],\n",
      "       device='cuda:0')\n",
      "logits is [[0.50984293 0.19965735 0.29049975]]\n"
     ]
    },
    {
     "name": "stderr",
     "output_type": "stream",
     "text": [
      " 97%|█████████▋| 487/501 [03:26<00:05,  2.53it/s]The attention mask and the pad token id were not set. As a consequence, you may observe unexpected behavior. Please pass your input's `attention_mask` to obtain reliable results.\n",
      "Setting `pad_token_id` to `eos_token_id`:128001 for open-end generation.\n"
     ]
    },
    {
     "name": "stdout",
     "output_type": "stream",
     "text": [
      "score (tensor([[ 4.3750,  6.2188,  6.8438,  ..., -2.7500, -2.7500, -1.7344]],\n",
      "       device='cuda:0'), tensor([[ 4.6562,  6.2188,  7.5938,  ..., -0.9102, -0.9102, -1.1250]],\n",
      "       device='cuda:0'))\n",
      "score is tensor([[ 4.3750,  6.2188,  6.8438,  ..., -2.7500, -2.7500, -1.7344]],\n",
      "       device='cuda:0')\n",
      "logits is [[0.5502077  0.27666178 0.17313051]]\n"
     ]
    },
    {
     "name": "stderr",
     "output_type": "stream",
     "text": [
      " 97%|█████████▋| 488/501 [03:26<00:05,  2.52it/s]The attention mask and the pad token id were not set. As a consequence, you may observe unexpected behavior. Please pass your input's `attention_mask` to obtain reliable results.\n",
      "Setting `pad_token_id` to `eos_token_id`:128001 for open-end generation.\n"
     ]
    },
    {
     "name": "stdout",
     "output_type": "stream",
     "text": [
      "score (tensor([[ 4.7500,  6.5938,  7.0000,  ..., -3.2031, -3.2031,  0.2471]],\n",
      "       device='cuda:0'), tensor([[ 4.1875,  6.5312,  7.6562,  ...,  0.0140,  0.0140, -1.8516]],\n",
      "       device='cuda:0'))\n",
      "score is tensor([[ 4.7500,  6.5938,  7.0000,  ..., -3.2031, -3.2031,  0.2471]],\n",
      "       device='cuda:0')\n",
      "logits is [[0.57947695 0.17129305 0.24922994]]\n"
     ]
    },
    {
     "name": "stderr",
     "output_type": "stream",
     "text": [
      " 98%|█████████▊| 489/501 [03:27<00:04,  2.79it/s]The attention mask and the pad token id were not set. As a consequence, you may observe unexpected behavior. Please pass your input's `attention_mask` to obtain reliable results.\n",
      "Setting `pad_token_id` to `eos_token_id`:128001 for open-end generation.\n"
     ]
    },
    {
     "name": "stdout",
     "output_type": "stream",
     "text": [
      "score (tensor([[ 4.3438,  5.3125,  5.7188,  ..., -4.5625, -4.5625, -3.3281]],\n",
      "       device='cuda:0'), tensor([[ 3.0625,  3.0156,  5.5938,  ...,  2.0156,  2.0156, -2.5781]],\n",
      "       device='cuda:0'))\n",
      "score is tensor([[ 4.3438,  5.3125,  5.7188,  ..., -4.5625, -4.5625, -3.3281]],\n",
      "       device='cuda:0')\n",
      "logits is [[0.15428077 0.6914384  0.15428077]]\n"
     ]
    },
    {
     "name": "stderr",
     "output_type": "stream",
     "text": [
      " 98%|█████████▊| 490/501 [03:27<00:04,  2.67it/s]The attention mask and the pad token id were not set. As a consequence, you may observe unexpected behavior. Please pass your input's `attention_mask` to obtain reliable results.\n",
      "Setting `pad_token_id` to `eos_token_id`:128001 for open-end generation.\n"
     ]
    },
    {
     "name": "stdout",
     "output_type": "stream",
     "text": [
      "score (tensor([[ 3.2188,  4.6875,  5.8438,  ..., -2.2500, -2.2500, -0.6211]],\n",
      "       device='cuda:0'), tensor([[ 3.9062,  4.2500,  4.6562,  ..., -2.4219, -2.4219, -1.0391]],\n",
      "       device='cuda:0'))\n",
      "score is tensor([[ 3.2188,  4.6875,  5.8438,  ..., -2.2500, -2.2500, -0.6211]],\n",
      "       device='cuda:0')\n",
      "logits is [[0.6074006  0.26123977 0.13135959]]\n"
     ]
    },
    {
     "name": "stderr",
     "output_type": "stream",
     "text": [
      " 98%|█████████▊| 491/501 [03:28<00:03,  2.61it/s]The attention mask and the pad token id were not set. As a consequence, you may observe unexpected behavior. Please pass your input's `attention_mask` to obtain reliable results.\n",
      "Setting `pad_token_id` to `eos_token_id`:128001 for open-end generation.\n"
     ]
    },
    {
     "name": "stdout",
     "output_type": "stream",
     "text": [
      "score (tensor([[ 4.0312,  6.8438,  6.3750,  ..., -2.4688, -2.4688, -0.3262]],\n",
      "       device='cuda:0'), tensor([[ 4.1562,  7.2188,  7.7188,  ..., -0.0703, -0.0703, -0.7734]],\n",
      "       device='cuda:0'))\n",
      "score is tensor([[ 4.0312,  6.8438,  6.3750,  ..., -2.4688, -2.4688, -0.3262]],\n",
      "       device='cuda:0')\n",
      "logits is [[0.38083866 0.38083866 0.23832275]]\n"
     ]
    },
    {
     "name": "stderr",
     "output_type": "stream",
     "text": [
      " 98%|█████████▊| 492/501 [03:28<00:03,  2.65it/s]"
     ]
    },
    {
     "name": "stdout",
     "output_type": "stream",
     "text": [
      "score (tensor([[ 4.2188,  5.5000,  5.4688,  ..., -1.3828, -1.3828, -1.3359]],\n",
      "       device='cuda:0'), tensor([[ 4.5312,  5.5938,  7.1875,  ...,  2.1406,  2.1406, -1.6250]],\n",
      "       device='cuda:0'))\n",
      "score is tensor([[ 4.2188,  5.5000,  5.4688,  ..., -1.3828, -1.3828, -1.3359]],\n",
      "       device='cuda:0')\n",
      "logits is [[0.5200674  0.17420076 0.30573183]]\n"
     ]
    },
    {
     "name": "stderr",
     "output_type": "stream",
     "text": [
      "The attention mask and the pad token id were not set. As a consequence, you may observe unexpected behavior. Please pass your input's `attention_mask` to obtain reliable results.\n",
      "Setting `pad_token_id` to `eos_token_id`:128001 for open-end generation.\n",
      " 98%|█████████▊| 493/501 [03:28<00:03,  2.31it/s]The attention mask and the pad token id were not set. As a consequence, you may observe unexpected behavior. Please pass your input's `attention_mask` to obtain reliable results.\n",
      "Setting `pad_token_id` to `eos_token_id`:128001 for open-end generation.\n"
     ]
    },
    {
     "name": "stdout",
     "output_type": "stream",
     "text": [
      "score (tensor([[ 3.8906,  4.3438,  5.9062,  ...,  1.1016,  1.1016, -1.4141]],\n",
      "       device='cuda:0'), tensor([[ 4.0938,  5.3125,  7.0625,  ...,  0.3848,  0.3848, -0.1699]],\n",
      "       device='cuda:0'))\n",
      "score is tensor([[ 3.8906,  4.3438,  5.9062,  ...,  1.1016,  1.1016, -1.4141]],\n",
      "       device='cuda:0')\n",
      "logits is [[0.7112637  0.11979636 0.16893993]]\n"
     ]
    },
    {
     "name": "stderr",
     "output_type": "stream",
     "text": [
      " 99%|█████████▊| 494/501 [03:29<00:02,  2.37it/s]"
     ]
    },
    {
     "name": "stdout",
     "output_type": "stream",
     "text": [
      "score (tensor([[ 4.8438,  5.5938,  6.5000,  ..., -2.1250, -2.1250,  0.2676]],\n",
      "       device='cuda:0'), tensor([[ 4.1875,  5.4062,  7.0312,  ...,  1.1328,  1.1406, -2.6250]],\n",
      "       device='cuda:0'))\n",
      "score is tensor([[ 4.8438,  5.5938,  6.5000,  ..., -2.1250, -2.1250,  0.2676]],\n",
      "       device='cuda:0')\n",
      "logits is [[0.4055002  0.3158039  0.27869594]]\n"
     ]
    },
    {
     "name": "stderr",
     "output_type": "stream",
     "text": [
      "The attention mask and the pad token id were not set. As a consequence, you may observe unexpected behavior. Please pass your input's `attention_mask` to obtain reliable results.\n",
      "Setting `pad_token_id` to `eos_token_id`:128001 for open-end generation.\n",
      " 99%|█████████▉| 495/501 [03:29<00:02,  2.15it/s]"
     ]
    },
    {
     "name": "stdout",
     "output_type": "stream",
     "text": [
      "score (tensor([[ 3.2500,  3.5000,  5.0938,  ...,  2.0625,  2.0625, -5.3750]],\n",
      "       device='cuda:0'), tensor([[ 4.0938,  4.9062,  6.9062,  ...,  1.2656,  1.2656, -2.2031]],\n",
      "       device='cuda:0'))\n",
      "score is tensor([[ 3.2500,  3.5000,  5.0938,  ...,  2.0625,  2.0625, -5.3750]],\n",
      "       device='cuda:0')\n",
      "logits is [[0.6549042  0.25646415 0.08863164]]\n"
     ]
    },
    {
     "name": "stderr",
     "output_type": "stream",
     "text": [
      "The attention mask and the pad token id were not set. As a consequence, you may observe unexpected behavior. Please pass your input's `attention_mask` to obtain reliable results.\n",
      "Setting `pad_token_id` to `eos_token_id`:128001 for open-end generation.\n",
      " 99%|█████████▉| 496/501 [03:30<00:02,  2.11it/s]The attention mask and the pad token id were not set. As a consequence, you may observe unexpected behavior. Please pass your input's `attention_mask` to obtain reliable results.\n",
      "Setting `pad_token_id` to `eos_token_id`:128001 for open-end generation.\n"
     ]
    },
    {
     "name": "stdout",
     "output_type": "stream",
     "text": [
      "score (tensor([[ 4.0938,  5.0312,  5.7500,  ..., -5.5000, -5.5000, -0.3652]],\n",
      "       device='cuda:0'), tensor([[ 3.7500,  4.8438,  7.1875,  ..., -1.9141, -1.9141, -0.9844]],\n",
      "       device='cuda:0'))\n",
      "score is tensor([[ 4.0938,  5.0312,  5.7500,  ..., -5.5000, -5.5000, -0.3652]],\n",
      "       device='cuda:0')\n",
      "logits is [[0.3375895  0.38253903 0.27987155]]\n"
     ]
    },
    {
     "name": "stderr",
     "output_type": "stream",
     "text": [
      " 99%|█████████▉| 497/501 [03:30<00:01,  2.34it/s]The attention mask and the pad token id were not set. As a consequence, you may observe unexpected behavior. Please pass your input's `attention_mask` to obtain reliable results.\n",
      "Setting `pad_token_id` to `eos_token_id`:128001 for open-end generation.\n"
     ]
    },
    {
     "name": "stdout",
     "output_type": "stream",
     "text": [
      "score (tensor([[ 3.9062,  5.3125,  6.9688,  ..., -4.0938, -4.0938,  0.3203]],\n",
      "       device='cuda:0'), tensor([[ 4.3125,  5.5312,  8.0000,  ...,  0.2754,  0.2754, -1.2422]],\n",
      "       device='cuda:0'))\n",
      "score is tensor([[ 3.9062,  5.3125,  6.9688,  ..., -4.0938, -4.0938,  0.3203]],\n",
      "       device='cuda:0')\n",
      "logits is [[0.58555394 0.25184363 0.16260245]]\n"
     ]
    },
    {
     "name": "stderr",
     "output_type": "stream",
     "text": [
      " 99%|█████████▉| 498/501 [03:31<00:01,  2.38it/s]The attention mask and the pad token id were not set. As a consequence, you may observe unexpected behavior. Please pass your input's `attention_mask` to obtain reliable results.\n",
      "Setting `pad_token_id` to `eos_token_id`:128001 for open-end generation.\n"
     ]
    },
    {
     "name": "stdout",
     "output_type": "stream",
     "text": [
      "score (tensor([[ 4.6250,  6.5000,  7.3125,  ..., -3.9219, -3.9219,  0.4375]],\n",
      "       device='cuda:0'), tensor([[ 4.6875,  6.0625,  7.4688,  ..., -1.8828, -1.8828, -0.6953]],\n",
      "       device='cuda:0'))\n",
      "score is tensor([[ 4.6250,  6.5000,  7.3125,  ..., -3.9219, -3.9219,  0.4375]],\n",
      "       device='cuda:0')\n",
      "logits is [[0.49421945 0.29975924 0.20602131]]\n"
     ]
    },
    {
     "name": "stderr",
     "output_type": "stream",
     "text": [
      "100%|█████████▉| 499/501 [03:31<00:00,  2.78it/s]"
     ]
    },
    {
     "name": "stdout",
     "output_type": "stream",
     "text": [
      "score (tensor([[ 4.0312,  5.0000,  6.5312,  ..., -3.2500, -3.2500, -0.8672]],\n",
      "       device='cuda:0'), tensor([[ 3.7812,  5.3750,  7.1875,  ..., -1.9844, -1.9844, -0.7891]],\n",
      "       device='cuda:0'))\n",
      "score is tensor([[ 4.0312,  5.0000,  6.5312,  ..., -3.2500, -3.2500, -0.8672]],\n",
      "       device='cuda:0')\n",
      "logits is [[0.4213596  0.4083957  0.17024466]]\n"
     ]
    },
    {
     "name": "stderr",
     "output_type": "stream",
     "text": [
      "The attention mask and the pad token id were not set. As a consequence, you may observe unexpected behavior. Please pass your input's `attention_mask` to obtain reliable results.\n",
      "Setting `pad_token_id` to `eos_token_id`:128001 for open-end generation.\n",
      "100%|█████████▉| 500/501 [03:32<00:00,  2.13it/s]"
     ]
    },
    {
     "name": "stdout",
     "output_type": "stream",
     "text": [
      "score (tensor([[ 5.5625,  6.3125,  7.3750,  ..., -4.8438, -4.8438, -0.0918]],\n",
      "       device='cuda:0'), tensor([[ 5.0938,  6.3438,  7.7500,  ..., -3.0938, -3.0938, -0.2363]],\n",
      "       device='cuda:0'))\n",
      "score is tensor([[ 5.5625,  6.3125,  7.3750,  ..., -4.8438, -4.8438, -0.0918]],\n",
      "       device='cuda:0')\n",
      "logits is [[0.4345184  0.31790048 0.24758114]]\n"
     ]
    },
    {
     "name": "stderr",
     "output_type": "stream",
     "text": [
      "The attention mask and the pad token id were not set. As a consequence, you may observe unexpected behavior. Please pass your input's `attention_mask` to obtain reliable results.\n",
      "Setting `pad_token_id` to `eos_token_id`:128001 for open-end generation.\n",
      "100%|██████████| 501/501 [03:32<00:00,  2.36it/s]"
     ]
    },
    {
     "name": "stdout",
     "output_type": "stream",
     "text": [
      "score (tensor([[ 4.0625,  5.0312,  6.3125,  ..., -4.1875, -4.1875,  0.3242]],\n",
      "       device='cuda:0'), tensor([[ 4.2500,  5.7500,  7.6875,  ..., -0.7266, -0.7266, -0.3203]],\n",
      "       device='cuda:0'))\n",
      "score is tensor([[ 4.0625,  5.0312,  6.3125,  ..., -4.1875, -4.1875,  0.3242]],\n",
      "       device='cuda:0')\n",
      "logits is [[0.4172934  0.29590535 0.28680128]]\n"
     ]
    },
    {
     "name": "stderr",
     "output_type": "stream",
     "text": [
      "\n"
     ]
    }
   ],
   "source": [
    "sub_pred = inference(model = model0, test_dataloader = test_dataloader)"
   ]
  },
  {
   "cell_type": "code",
   "execution_count": 12,
   "id": "87381f51-1930-4d19-8c61-c0196e9196a8",
   "metadata": {},
   "outputs": [],
   "source": [
    "# 提取数据\n",
    "processed_data = []\n",
    "for item in sub_pred:\n",
    "    item = item[0]\n",
    "    id = item[0].item()  # 获取id\n",
    "    array_values = item[1].tolist()  # 获取array并转换为列表\n",
    "    processed_data.append([id] + array_values)"
   ]
  },
  {
   "cell_type": "code",
   "execution_count": 13,
   "id": "6ad7e3bf-a0b1-4249-ba3c-68b6e632dc3f",
   "metadata": {},
   "outputs": [],
   "source": [
    "new_columns = ['id', 'winner_model_a', 'winner_model_b', 'winner_tie']\n",
    "df = pd.DataFrame(processed_data, columns=new_columns)"
   ]
  },
  {
   "cell_type": "code",
   "execution_count": 14,
   "id": "7b08e7ca-463a-4554-b57d-0b0385d21238",
   "metadata": {},
   "outputs": [],
   "source": [
    "df = df.groupby('id').mean().reset_index()"
   ]
  },
  {
   "cell_type": "code",
   "execution_count": 17,
   "id": "ef037aac-5011-48eb-ad82-e1f35d2ee2b9",
   "metadata": {},
   "outputs": [
    {
     "data": {
      "text/html": [
       "<div>\n",
       "<style scoped>\n",
       "    .dataframe tbody tr th:only-of-type {\n",
       "        vertical-align: middle;\n",
       "    }\n",
       "\n",
       "    .dataframe tbody tr th {\n",
       "        vertical-align: top;\n",
       "    }\n",
       "\n",
       "    .dataframe thead th {\n",
       "        text-align: right;\n",
       "    }\n",
       "</style>\n",
       "<table border=\"1\" class=\"dataframe\">\n",
       "  <thead>\n",
       "    <tr style=\"text-align: right;\">\n",
       "      <th></th>\n",
       "      <th>id</th>\n",
       "      <th>winner_model_a</th>\n",
       "      <th>winner_model_b</th>\n",
       "      <th>winner_tie</th>\n",
       "    </tr>\n",
       "  </thead>\n",
       "  <tbody>\n",
       "    <tr>\n",
       "      <th>0</th>\n",
       "      <td>30192</td>\n",
       "      <td>0.471409</td>\n",
       "      <td>0.377624</td>\n",
       "      <td>0.150967</td>\n",
       "    </tr>\n",
       "    <tr>\n",
       "      <th>1</th>\n",
       "      <td>1256092</td>\n",
       "      <td>0.568546</td>\n",
       "      <td>0.268562</td>\n",
       "      <td>0.162891</td>\n",
       "    </tr>\n",
       "    <tr>\n",
       "      <th>2</th>\n",
       "      <td>3258431</td>\n",
       "      <td>0.513956</td>\n",
       "      <td>0.387954</td>\n",
       "      <td>0.098090</td>\n",
       "    </tr>\n",
       "    <tr>\n",
       "      <th>3</th>\n",
       "      <td>4186011</td>\n",
       "      <td>0.325846</td>\n",
       "      <td>0.554282</td>\n",
       "      <td>0.119872</td>\n",
       "    </tr>\n",
       "    <tr>\n",
       "      <th>4</th>\n",
       "      <td>5717448</td>\n",
       "      <td>0.171352</td>\n",
       "      <td>0.721419</td>\n",
       "      <td>0.107229</td>\n",
       "    </tr>\n",
       "    <tr>\n",
       "      <th>...</th>\n",
       "      <td>...</td>\n",
       "      <td>...</td>\n",
       "      <td>...</td>\n",
       "      <td>...</td>\n",
       "    </tr>\n",
       "    <tr>\n",
       "      <th>400</th>\n",
       "      <td>599762723</td>\n",
       "      <td>0.337590</td>\n",
       "      <td>0.382539</td>\n",
       "      <td>0.279872</td>\n",
       "    </tr>\n",
       "    <tr>\n",
       "      <th>401</th>\n",
       "      <td>601396996</td>\n",
       "      <td>0.539887</td>\n",
       "      <td>0.275801</td>\n",
       "      <td>0.184312</td>\n",
       "    </tr>\n",
       "    <tr>\n",
       "      <th>402</th>\n",
       "      <td>602406101</td>\n",
       "      <td>0.421360</td>\n",
       "      <td>0.408396</td>\n",
       "      <td>0.170245</td>\n",
       "    </tr>\n",
       "    <tr>\n",
       "      <th>403</th>\n",
       "      <td>604482704</td>\n",
       "      <td>0.434518</td>\n",
       "      <td>0.317900</td>\n",
       "      <td>0.247581</td>\n",
       "    </tr>\n",
       "    <tr>\n",
       "      <th>404</th>\n",
       "      <td>606115644</td>\n",
       "      <td>0.417293</td>\n",
       "      <td>0.295905</td>\n",
       "      <td>0.286801</td>\n",
       "    </tr>\n",
       "  </tbody>\n",
       "</table>\n",
       "<p>405 rows × 4 columns</p>\n",
       "</div>"
      ],
      "text/plain": [
       "            id  winner_model_a  winner_model_b  winner_tie\n",
       "0        30192        0.471409        0.377624    0.150967\n",
       "1      1256092        0.568546        0.268562    0.162891\n",
       "2      3258431        0.513956        0.387954    0.098090\n",
       "3      4186011        0.325846        0.554282    0.119872\n",
       "4      5717448        0.171352        0.721419    0.107229\n",
       "..         ...             ...             ...         ...\n",
       "400  599762723        0.337590        0.382539    0.279872\n",
       "401  601396996        0.539887        0.275801    0.184312\n",
       "402  602406101        0.421360        0.408396    0.170245\n",
       "403  604482704        0.434518        0.317900    0.247581\n",
       "404  606115644        0.417293        0.295905    0.286801\n",
       "\n",
       "[405 rows x 4 columns]"
      ]
     },
     "execution_count": 17,
     "metadata": {},
     "output_type": "execute_result"
    }
   ],
   "source": [
    "df"
   ]
  },
  {
   "cell_type": "code",
   "execution_count": 18,
   "id": "09478421-4446-4043-bf81-e7d2567e798f",
   "metadata": {},
   "outputs": [],
   "source": [
    "str2num = {'A':0, \"B\":1, \"C\":2}"
   ]
  },
  {
   "cell_type": "code",
   "execution_count": 19,
   "id": "393efd7c-10ff-4af1-9a9d-7fdb561faced",
   "metadata": {},
   "outputs": [],
   "source": [
    "test['label_number'] = test.label.map(str2num)"
   ]
  },
  {
   "cell_type": "code",
   "execution_count": 20,
   "id": "ddf1c332-1191-46e5-8169-c1e1a1e4829e",
   "metadata": {},
   "outputs": [],
   "source": [
    "from sklearn.metrics import log_loss"
   ]
  },
  {
   "cell_type": "code",
   "execution_count": 23,
   "id": "6daa8e70-9a67-4a7f-89a1-81dac569fe7b",
   "metadata": {},
   "outputs": [],
   "source": [
    "prediction = np.array(df[new_columns[1:]])"
   ]
  },
  {
   "cell_type": "code",
   "execution_count": 24,
   "id": "4fbe810e-88df-4174-b40a-930e05091887",
   "metadata": {},
   "outputs": [
    {
     "data": {
      "text/plain": [
       "array([[0.4714089 , 0.37762392, 0.15096719],\n",
       "       [0.56854641, 0.26856232, 0.16289128],\n",
       "       [0.51395571, 0.38795412, 0.09809016],\n",
       "       ...,\n",
       "       [0.4213596 , 0.40839571, 0.17024466],\n",
       "       [0.4345184 , 0.31790048, 0.24758114],\n",
       "       [0.4172934 , 0.29590535, 0.28680128]])"
      ]
     },
     "execution_count": 24,
     "metadata": {},
     "output_type": "execute_result"
    }
   ],
   "source": [
    "prediction"
   ]
  },
  {
   "cell_type": "code",
   "execution_count": 29,
   "id": "d02d8404-ca77-4f95-8880-5220225f23a2",
   "metadata": {},
   "outputs": [
    {
     "ename": "TypeError",
     "evalue": "DataFrame.drop_duplicates() got an unexpected keyword argument 'on'",
     "output_type": "error",
     "traceback": [
      "\u001b[0;31m---------------------------------------------------------------------------\u001b[0m",
      "\u001b[0;31mTypeError\u001b[0m                                 Traceback (most recent call last)",
      "Cell \u001b[0;32mIn[29], line 1\u001b[0m\n\u001b[0;32m----> 1\u001b[0m \u001b[43mtest\u001b[49m\u001b[38;5;241;43m.\u001b[39;49m\u001b[43mdrop_duplicates\u001b[49m\u001b[43m(\u001b[49m\u001b[43mon\u001b[49m\u001b[43m \u001b[49m\u001b[38;5;241;43m=\u001b[39;49m\u001b[43m \u001b[49m\u001b[43m[\u001b[49m\u001b[38;5;124;43m'\u001b[39;49m\u001b[38;5;124;43mid\u001b[39;49m\u001b[38;5;124;43m'\u001b[39;49m\u001b[43m]\u001b[49m\u001b[43m)\u001b[49m\n",
      "\u001b[0;31mTypeError\u001b[0m: DataFrame.drop_duplicates() got an unexpected keyword argument 'on'"
     ]
    }
   ],
   "source": [
    "test.drop_duplicates(on = ['id'])"
   ]
  },
  {
   "cell_type": "code",
   "execution_count": 25,
   "id": "ec914b91-dce9-4fa8-91c2-b850ace35f3f",
   "metadata": {},
   "outputs": [
    {
     "ename": "ValueError",
     "evalue": "Found input variables with inconsistent numbers of samples: [405, 501]",
     "output_type": "error",
     "traceback": [
      "\u001b[0;31m---------------------------------------------------------------------------\u001b[0m",
      "\u001b[0;31mValueError\u001b[0m                                Traceback (most recent call last)",
      "Cell \u001b[0;32mIn[25], line 1\u001b[0m\n\u001b[0;32m----> 1\u001b[0m \u001b[43mlog_loss\u001b[49m\u001b[43m(\u001b[49m\u001b[43mtest\u001b[49m\u001b[38;5;241;43m.\u001b[39;49m\u001b[43mlabel_number\u001b[49m\u001b[43m,\u001b[49m\u001b[43m \u001b[49m\u001b[43mprediction\u001b[49m\u001b[43m)\u001b[49m\n",
      "File \u001b[0;32m~/miniconda3/lib/python3.10/site-packages/sklearn/utils/_param_validation.py:213\u001b[0m, in \u001b[0;36mvalidate_params.<locals>.decorator.<locals>.wrapper\u001b[0;34m(*args, **kwargs)\u001b[0m\n\u001b[1;32m    207\u001b[0m \u001b[38;5;28;01mtry\u001b[39;00m:\n\u001b[1;32m    208\u001b[0m     \u001b[38;5;28;01mwith\u001b[39;00m config_context(\n\u001b[1;32m    209\u001b[0m         skip_parameter_validation\u001b[38;5;241m=\u001b[39m(\n\u001b[1;32m    210\u001b[0m             prefer_skip_nested_validation \u001b[38;5;129;01mor\u001b[39;00m global_skip_validation\n\u001b[1;32m    211\u001b[0m         )\n\u001b[1;32m    212\u001b[0m     ):\n\u001b[0;32m--> 213\u001b[0m         \u001b[38;5;28;01mreturn\u001b[39;00m \u001b[43mfunc\u001b[49m\u001b[43m(\u001b[49m\u001b[38;5;241;43m*\u001b[39;49m\u001b[43margs\u001b[49m\u001b[43m,\u001b[49m\u001b[43m \u001b[49m\u001b[38;5;241;43m*\u001b[39;49m\u001b[38;5;241;43m*\u001b[39;49m\u001b[43mkwargs\u001b[49m\u001b[43m)\u001b[49m\n\u001b[1;32m    214\u001b[0m \u001b[38;5;28;01mexcept\u001b[39;00m InvalidParameterError \u001b[38;5;28;01mas\u001b[39;00m e:\n\u001b[1;32m    215\u001b[0m     \u001b[38;5;66;03m# When the function is just a wrapper around an estimator, we allow\u001b[39;00m\n\u001b[1;32m    216\u001b[0m     \u001b[38;5;66;03m# the function to delegate validation to the estimator, but we replace\u001b[39;00m\n\u001b[1;32m    217\u001b[0m     \u001b[38;5;66;03m# the name of the estimator by the name of the function in the error\u001b[39;00m\n\u001b[1;32m    218\u001b[0m     \u001b[38;5;66;03m# message to avoid confusion.\u001b[39;00m\n\u001b[1;32m    219\u001b[0m     msg \u001b[38;5;241m=\u001b[39m re\u001b[38;5;241m.\u001b[39msub(\n\u001b[1;32m    220\u001b[0m         \u001b[38;5;124mr\u001b[39m\u001b[38;5;124m\"\u001b[39m\u001b[38;5;124mparameter of \u001b[39m\u001b[38;5;124m\\\u001b[39m\u001b[38;5;124mw+ must be\u001b[39m\u001b[38;5;124m\"\u001b[39m,\n\u001b[1;32m    221\u001b[0m         \u001b[38;5;124mf\u001b[39m\u001b[38;5;124m\"\u001b[39m\u001b[38;5;124mparameter of \u001b[39m\u001b[38;5;132;01m{\u001b[39;00mfunc\u001b[38;5;241m.\u001b[39m\u001b[38;5;18m__qualname__\u001b[39m\u001b[38;5;132;01m}\u001b[39;00m\u001b[38;5;124m must be\u001b[39m\u001b[38;5;124m\"\u001b[39m,\n\u001b[1;32m    222\u001b[0m         \u001b[38;5;28mstr\u001b[39m(e),\n\u001b[1;32m    223\u001b[0m     )\n",
      "File \u001b[0;32m~/miniconda3/lib/python3.10/site-packages/sklearn/metrics/_classification.py:2919\u001b[0m, in \u001b[0;36mlog_loss\u001b[0;34m(y_true, y_pred, eps, normalize, sample_weight, labels)\u001b[0m\n\u001b[1;32m   2908\u001b[0m \u001b[38;5;28;01melse\u001b[39;00m:\n\u001b[1;32m   2909\u001b[0m     \u001b[38;5;66;03m# TODO: Remove user defined eps in 1.5\u001b[39;00m\n\u001b[1;32m   2910\u001b[0m     warnings\u001b[38;5;241m.\u001b[39mwarn(\n\u001b[1;32m   2911\u001b[0m         (\n\u001b[1;32m   2912\u001b[0m             \u001b[38;5;124m\"\u001b[39m\u001b[38;5;124mSetting the eps parameter is deprecated and will \u001b[39m\u001b[38;5;124m\"\u001b[39m\n\u001b[0;32m   (...)\u001b[0m\n\u001b[1;32m   2916\u001b[0m         \u001b[38;5;167;01mFutureWarning\u001b[39;00m,\n\u001b[1;32m   2917\u001b[0m     )\n\u001b[0;32m-> 2919\u001b[0m \u001b[43mcheck_consistent_length\u001b[49m\u001b[43m(\u001b[49m\u001b[43my_pred\u001b[49m\u001b[43m,\u001b[49m\u001b[43m \u001b[49m\u001b[43my_true\u001b[49m\u001b[43m,\u001b[49m\u001b[43m \u001b[49m\u001b[43msample_weight\u001b[49m\u001b[43m)\u001b[49m\n\u001b[1;32m   2920\u001b[0m lb \u001b[38;5;241m=\u001b[39m LabelBinarizer()\n\u001b[1;32m   2922\u001b[0m \u001b[38;5;28;01mif\u001b[39;00m labels \u001b[38;5;129;01mis\u001b[39;00m \u001b[38;5;129;01mnot\u001b[39;00m \u001b[38;5;28;01mNone\u001b[39;00m:\n",
      "File \u001b[0;32m~/miniconda3/lib/python3.10/site-packages/sklearn/utils/validation.py:457\u001b[0m, in \u001b[0;36mcheck_consistent_length\u001b[0;34m(*arrays)\u001b[0m\n\u001b[1;32m    455\u001b[0m uniques \u001b[38;5;241m=\u001b[39m np\u001b[38;5;241m.\u001b[39munique(lengths)\n\u001b[1;32m    456\u001b[0m \u001b[38;5;28;01mif\u001b[39;00m \u001b[38;5;28mlen\u001b[39m(uniques) \u001b[38;5;241m>\u001b[39m \u001b[38;5;241m1\u001b[39m:\n\u001b[0;32m--> 457\u001b[0m     \u001b[38;5;28;01mraise\u001b[39;00m \u001b[38;5;167;01mValueError\u001b[39;00m(\n\u001b[1;32m    458\u001b[0m         \u001b[38;5;124m\"\u001b[39m\u001b[38;5;124mFound input variables with inconsistent numbers of samples: \u001b[39m\u001b[38;5;132;01m%r\u001b[39;00m\u001b[38;5;124m\"\u001b[39m\n\u001b[1;32m    459\u001b[0m         \u001b[38;5;241m%\u001b[39m [\u001b[38;5;28mint\u001b[39m(l) \u001b[38;5;28;01mfor\u001b[39;00m l \u001b[38;5;129;01min\u001b[39;00m lengths]\n\u001b[1;32m    460\u001b[0m     )\n",
      "\u001b[0;31mValueError\u001b[0m: Found input variables with inconsistent numbers of samples: [405, 501]"
     ]
    }
   ],
   "source": [
    "log_loss(test.label_number, prediction)"
   ]
  },
  {
   "cell_type": "code",
   "execution_count": null,
   "id": "c18da3c9-f88c-462e-8f63-443825225783",
   "metadata": {},
   "outputs": [],
   "source": [
    "3.176938522630114"
   ]
  },
  {
   "cell_type": "code",
   "execution_count": null,
   "id": "20fc61cc-7b0c-417f-b743-ccae5dbd8d86",
   "metadata": {},
   "outputs": [],
   "source": [
    "test['label'][:12]"
   ]
  },
  {
   "cell_type": "code",
   "execution_count": null,
   "id": "accb6200-653d-417e-9d16-5de503023354",
   "metadata": {},
   "outputs": [],
   "source": []
  }
 ],
 "metadata": {
  "kernelspec": {
   "display_name": "Python 3 (ipykernel)",
   "language": "python",
   "name": "python3"
  },
  "language_info": {
   "codemirror_mode": {
    "name": "ipython",
    "version": 3
   },
   "file_extension": ".py",
   "mimetype": "text/x-python",
   "name": "python",
   "nbconvert_exporter": "python",
   "pygments_lexer": "ipython3",
   "version": "3.10.8"
  }
 },
 "nbformat": 4,
 "nbformat_minor": 5
}
