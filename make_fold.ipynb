{
 "cells": [
  {
   "cell_type": "code",
   "execution_count": 1,
   "id": "99f33e55-b0e9-4823-bce3-ed037bfcdb89",
   "metadata": {},
   "outputs": [],
   "source": [
    "import pandas as pd\n",
    "\n",
    "from typing import Optional, Union\n",
    "import pandas as pd, numpy as np, torch\n",
    "from dataclasses import dataclass\n",
    "from transformers import AutoTokenizer, AutoConfig\n",
    "from transformers import EarlyStoppingCallback\n",
    "from transformers.tokenization_utils_base import PreTrainedTokenizerBase, PaddingStrategy\n",
    "from transformers import AutoModelForMultipleChoice, TrainingArguments, Trainer, RobertaForMultipleChoice\n",
    "import argparse\n",
    "from transformers import get_polynomial_decay_schedule_with_warmup, TrainerCallback\n",
    "import datasets\n",
    "from datasets import Dataset"
   ]
  },
  {
   "cell_type": "code",
   "execution_count": 4,
   "id": "d4b28f0e-8a8a-4b4f-bada-23d4e01ec161",
   "metadata": {},
   "outputs": [],
   "source": [
    "df_train = pd.read_csv(\"dataset/random_train.csv\")"
   ]
  },
  {
   "cell_type": "code",
   "execution_count": null,
   "id": "46fba1d3-1921-4ac8-a2bb-09e6d5f1c49f",
   "metadata": {},
   "outputs": [],
   "source": [
    "def process(input_str):\n",
    "    stripped_str = input_str.strip('[]')\n",
    "    sentences = [s.strip('\"') for s in stripped_str.split('\",\"')]\n",
    "    return  ' '.join(sentences)"
   ]
  },
  {
   "cell_type": "code",
   "execution_count": null,
   "id": "514b3b1f-951e-47c4-95b3-148c5a25a638",
   "metadata": {},
   "outputs": [],
   "source": [
    "df_train.loc[:, 'prompt'] = df_train['prompt'].apply(process)\n",
    "df_train.loc[:, 'response_a'] = df_train['response_a'].apply(process)\n",
    "df_train.loc[:, 'response_b'] = df_train['response_b'].apply(process)"
   ]
  },
  {
   "cell_type": "code",
   "execution_count": null,
   "id": "949f259b-e015-4929-a424-a4b8bbaa825f",
   "metadata": {},
   "outputs": [],
   "source": [
    "t = df_train.loc[df_train.index % 4 != 0,].reset_index(drop = True)"
   ]
  },
  {
   "cell_type": "code",
   "execution_count": null,
   "id": "b4c1474a-be0f-4dc7-b351-53c5246efca4",
   "metadata": {},
   "outputs": [],
   "source": [
    "t.loc[20,:]"
   ]
  },
  {
   "cell_type": "code",
   "execution_count": null,
   "id": "70207271-567d-407b-b89a-4fc26ea46deb",
   "metadata": {},
   "outputs": [],
   "source": [
    "def get_label(row):\n",
    "    label = [idx for idx, option in enumerate(['winner_model_a','winner_model_b','winner_tie']) if row[option] == 1]\n",
    "    return label[-1]\n",
    "    \n",
    "df_train = pd.read_csv('dataset/train.csv').reset_index(drop = True)\n",
    "df_train['label'] = df_train.apply(lambda x: get_label(x), axis = 1)"
   ]
  },
  {
   "cell_type": "code",
   "execution_count": null,
   "id": "77566547-d715-4100-81b3-8a4632b60d40",
   "metadata": {},
   "outputs": [],
   "source": [
    "df_train.loc[df_train.index % 4 != 0,]"
   ]
  },
  {
   "cell_type": "code",
   "execution_count": null,
   "id": "6a5911c8-6e58-4d4e-9637-9e237c091ca3",
   "metadata": {},
   "outputs": [],
   "source": [
    "df_train.loc[df_train.index % 20 == 0,].reset_index(drop = True).to_csv('dataset/random_valid.csv')\n",
    "df_train.loc[df_train.index % 20 != 0,].reset_index(drop = True).to_csv('dataset/random_train.csv')"
   ]
  },
  {
   "cell_type": "code",
   "execution_count": null,
   "id": "11551a59-2783-42cb-9ce0-c66c170576d9",
   "metadata": {},
   "outputs": [],
   "source": [
    "df_train.loc[df_train.index % 20 == 0,]"
   ]
  },
  {
   "cell_type": "markdown",
   "id": "d9624737-5529-4d7b-8ede-3a9e86a05330",
   "metadata": {},
   "source": [
    "# For instruction"
   ]
  },
  {
   "cell_type": "code",
   "execution_count": 3,
   "id": "752d005a-daf6-4c0b-bbf3-ad7de43f32d6",
   "metadata": {},
   "outputs": [],
   "source": [
    "def get_label(row):\n",
    "    label = [idx for idx, option in enumerate(['winner_model_a','winner_model_b','winner_tie']) if row[option] == 1]\n",
    "    if label[-1] == 0:\n",
    "        return 'A'\n",
    "    elif label[-1] == 1:\n",
    "        return 'B'\n",
    "    else:\n",
    "        return 'C'\n",
    "    return label[-1]\n",
    "    \n",
    "train = pd.read_csv('dataset/train.csv').reset_index(drop = True)\n",
    "train['label'] = train.apply(lambda x: get_label(x), axis = 1)"
   ]
  },
  {
   "cell_type": "code",
   "execution_count": 5,
   "id": "9b394b59-7ae4-4f5c-9d96-f525d9d83c65",
   "metadata": {
    "scrolled": true
   },
   "outputs": [
    {
     "name": "stderr",
     "output_type": "stream",
     "text": [
      "  5%|▍         | 2602/57477 [00:00<00:04, 13191.03it/s]"
     ]
    },
    {
     "name": "stdout",
     "output_type": "stream",
     "text": [
      "Error: 207\n",
      "list index out of range\n",
      "Error: 385\n",
      "list index out of range\n",
      "Error: 491\n",
      "list index out of range\n",
      "Error: 763\n",
      "list index out of range\n",
      "Error: 1763\n",
      "list index out of range\n",
      "Error: 2530\n",
      "list index out of range\n",
      "Error: 2648\n",
      "list index out of range\n",
      "Error: 2770\n",
      "list index out of range\n",
      "Error: 2989\n",
      "list index out of range\n",
      "Error: 3152\n",
      "list index out of range\n"
     ]
    },
    {
     "name": "stderr",
     "output_type": "stream",
     "text": [
      "  9%|▉         | 5382/57477 [00:00<00:03, 13663.15it/s]"
     ]
    },
    {
     "name": "stdout",
     "output_type": "stream",
     "text": [
      "Error: 3774\n",
      "list index out of range\n",
      "Error: 3951\n",
      "list index out of range\n",
      "Error: 4165\n",
      "list index out of range\n",
      "Error: 4197\n",
      "list index out of range\n",
      "Error: 4348\n",
      "list index out of range\n",
      "Error: 5390\n",
      "list index out of range\n",
      "Error: 6593\n",
      "list index out of range\n"
     ]
    },
    {
     "name": "stderr",
     "output_type": "stream",
     "text": [
      " 17%|█▋        | 9667/57477 [00:00<00:03, 14144.34it/s]"
     ]
    },
    {
     "name": "stdout",
     "output_type": "stream",
     "text": [
      "Error: 6961\n",
      "list index out of range\n",
      "Error: 7209\n",
      "list index out of range\n",
      "Error: 7688\n",
      "list index out of range\n",
      "Error: 8409\n",
      "list index out of range\n",
      "Error: 8535\n",
      "list index out of range\n",
      "Error: 9789\n",
      "list index out of range\n",
      "Error: 9858\n",
      "list index out of range\n",
      "Error: 10166\n",
      "list index out of range\n"
     ]
    },
    {
     "name": "stderr",
     "output_type": "stream",
     "text": [
      " 22%|██▏       | 12630/57477 [00:00<00:03, 14521.38it/s]"
     ]
    },
    {
     "name": "stdout",
     "output_type": "stream",
     "text": [
      "Error: 10992\n",
      "list index out of range\n",
      "Error: 11969\n",
      "list index out of range\n",
      "Error: 12368\n",
      "list index out of range\n",
      "Error: 13019\n",
      "list index out of range\n",
      "Error: 13062\n",
      "list index out of range\n",
      "Error: 13656\n",
      "list index out of range\n",
      "Error: 13664\n",
      "list index out of range\n",
      "Error: 13720\n",
      "list index out of range\n",
      "Error: 13949\n",
      "list index out of range\n",
      "Error: 14079\n",
      "list index out of range\n"
     ]
    },
    {
     "name": "stderr",
     "output_type": "stream",
     "text": [
      " 30%|██▉       | 17070/57477 [00:01<00:02, 14387.20it/s]"
     ]
    },
    {
     "name": "stdout",
     "output_type": "stream",
     "text": [
      "Error: 15153\n",
      "list index out of range\n",
      "Error: 15805\n",
      "list index out of range\n",
      "Error: 16055\n",
      "list index out of range\n",
      "Error: 16282\n",
      "list index out of range\n",
      "Error: 16643\n",
      "list index out of range\n",
      "Error: 16662\n",
      "list index out of range\n",
      "Error: 16879\n",
      "list index out of range\n",
      "Error: 17181\n",
      "list index out of range\n",
      "Error: 17192\n",
      "list index out of range\n",
      "Error: 17295\n",
      "list index out of range\n",
      "Error: 17467\n",
      "list index out of range\n",
      "Error: 17841\n",
      "list index out of range\n"
     ]
    },
    {
     "name": "stderr",
     "output_type": "stream",
     "text": [
      " 37%|███▋      | 21390/57477 [00:01<00:02, 14345.23it/s]"
     ]
    },
    {
     "name": "stdout",
     "output_type": "stream",
     "text": [
      "Error: 18556\n",
      "list index out of range\n",
      "Error: 18590\n",
      "list index out of range\n",
      "Error: 18642\n",
      "list index out of range\n",
      "Error: 20580\n",
      "list index out of range\n",
      "Error: 21128\n",
      "list index out of range\n",
      "Error: 21206\n",
      "list index out of range\n",
      "Error: 21508\n",
      "list index out of range\n"
     ]
    },
    {
     "name": "stderr",
     "output_type": "stream",
     "text": [
      " 42%|████▏     | 24275/57477 [00:01<00:02, 14354.34it/s]"
     ]
    },
    {
     "name": "stdout",
     "output_type": "stream",
     "text": [
      "Error: 22351\n",
      "list index out of range\n",
      "Error: 22843\n",
      "list index out of range\n",
      "Error: 23376\n",
      "list index out of range\n",
      "Error: 23436\n",
      "list index out of range\n",
      "Error: 23523\n",
      "list index out of range\n",
      "Error: 23881\n",
      "list index out of range\n",
      "Error: 24132\n",
      "list index out of range\n",
      "Error: 24466\n",
      "list index out of range\n",
      "Error: 24976\n",
      "list index out of range\n",
      "Error: 25302\n",
      "list index out of range\n",
      "Error: 25339\n",
      "list index out of range\n",
      "Error: 25351\n",
      "list index out of range\n"
     ]
    },
    {
     "name": "stderr",
     "output_type": "stream",
     "text": [
      " 47%|████▋     | 27143/57477 [00:01<00:02, 14245.77it/s]"
     ]
    },
    {
     "name": "stdout",
     "output_type": "stream",
     "text": [
      "Error: 25628\n",
      "list index out of range\n",
      "Error: 25709\n",
      "list index out of range\n",
      "Error: 26238\n",
      "list index out of range\n"
     ]
    },
    {
     "name": "stderr",
     "output_type": "stream",
     "text": [
      " 55%|█████▍    | 31381/57477 [00:02<00:01, 13954.92it/s]"
     ]
    },
    {
     "name": "stdout",
     "output_type": "stream",
     "text": [
      "Error: 28585\n",
      "list index out of range\n",
      "Error: 29203\n",
      "list index out of range\n",
      "Error: 29535\n",
      "list index out of range\n",
      "Error: 30519\n",
      "list index out of range\n",
      "Error: 30665\n",
      "list index out of range\n",
      "Error: 31516\n",
      "list index out of range\n"
     ]
    },
    {
     "name": "stderr",
     "output_type": "stream",
     "text": [
      " 60%|█████▉    | 34209/57477 [00:02<00:01, 13981.71it/s]"
     ]
    },
    {
     "name": "stdout",
     "output_type": "stream",
     "text": [
      "Error: 32185\n",
      "list index out of range\n",
      "Error: 32331\n",
      "list index out of range\n",
      "Error: 32336\n",
      "list index out of range\n",
      "Error: 32513\n",
      "list index out of range\n",
      "Error: 32851\n",
      "list index out of range\n",
      "Error: 33491\n",
      "list index out of range\n",
      "Error: 33598\n",
      "list index out of range\n",
      "Error: 33702\n",
      "list index out of range\n",
      "Error: 34143\n",
      "list index out of range\n",
      "Error: 34376\n",
      "list index out of range\n",
      "Error: 34611\n",
      "list index out of range\n"
     ]
    },
    {
     "name": "stderr",
     "output_type": "stream",
     "text": [
      " 64%|██████▍   | 37055/57477 [00:02<00:01, 14065.74it/s]"
     ]
    },
    {
     "name": "stdout",
     "output_type": "stream",
     "text": [
      "Error: 35170\n",
      "list index out of range\n",
      "Error: 35225\n",
      "list index out of range\n",
      "Error: 35388\n",
      "list index out of range\n",
      "Error: 36279\n",
      "list index out of range\n",
      "Error: 36508\n",
      "list index out of range\n",
      "Error: 37285\n",
      "list index out of range\n",
      "Error: 38153\n",
      "list index out of range\n",
      "Error: 38227\n",
      "list index out of range\n"
     ]
    },
    {
     "name": "stderr",
     "output_type": "stream",
     "text": [
      " 72%|███████▏  | 41377/57477 [00:02<00:01, 14271.21it/s]"
     ]
    },
    {
     "name": "stdout",
     "output_type": "stream",
     "text": [
      "Error: 39625\n",
      "list index out of range\n",
      "Error: 39736\n",
      "list index out of range\n",
      "Error: 40208\n",
      "list index out of range\n",
      "Error: 40347\n",
      "list index out of range\n",
      "Error: 40625\n",
      "list index out of range\n",
      "Error: 40902\n",
      "list index out of range\n",
      "Error: 41478\n",
      "list index out of range\n",
      "Error: 41633\n",
      "list index out of range\n",
      "Error: 42081\n",
      "list index out of range\n"
     ]
    },
    {
     "name": "stderr",
     "output_type": "stream",
     "text": [
      " 80%|███████▉  | 45777/57477 [00:03<00:00, 14549.21it/s]"
     ]
    },
    {
     "name": "stdout",
     "output_type": "stream",
     "text": [
      "Error: 42726\n",
      "list index out of range\n",
      "Error: 43001\n",
      "list index out of range\n",
      "Error: 43324\n",
      "list index out of range\n",
      "Error: 43534\n",
      "list index out of range\n",
      "Error: 43736\n",
      "list index out of range\n",
      "Error: 44071\n",
      "list index out of range\n",
      "Error: 44102\n",
      "list index out of range\n",
      "Error: 44160\n",
      "list index out of range\n",
      "Error: 44240\n",
      "list index out of range\n",
      "Error: 44894\n",
      "list index out of range\n"
     ]
    },
    {
     "name": "stderr",
     "output_type": "stream",
     "text": [
      " 85%|████████▍ | 48720/57477 [00:03<00:00, 14640.38it/s]"
     ]
    },
    {
     "name": "stdout",
     "output_type": "stream",
     "text": [
      "Error: 46083\n",
      "list index out of range\n",
      "Error: 46543\n",
      "list index out of range\n",
      "Error: 46633\n",
      "list index out of range\n",
      "Error: 47252\n",
      "list index out of range\n",
      "Error: 47586\n",
      "list index out of range\n",
      "Error: 47743\n",
      "list index out of range\n",
      "Error: 48068\n",
      "list index out of range\n",
      "Error: 48167\n",
      "list index out of range\n",
      "Error: 48766\n",
      "list index out of range\n",
      "Error: 49103\n",
      "list index out of range\n",
      "Error: 49127\n",
      "list index out of range\n",
      "Error: 49153\n",
      "list index out of range\n"
     ]
    },
    {
     "name": "stderr",
     "output_type": "stream",
     "text": [
      " 90%|████████▉ | 51640/57477 [00:03<00:00, 14371.78it/s]"
     ]
    },
    {
     "name": "stdout",
     "output_type": "stream",
     "text": [
      "Error: 49295\n",
      "list index out of range\n",
      "Error: 49401\n",
      "list index out of range\n",
      "Error: 50374\n",
      "list index out of range\n",
      "Error: 51240\n",
      "list index out of range\n",
      "Error: 51463\n",
      "list index out of range\n",
      "Error: 51664\n",
      "list index out of range\n",
      "Error: 51836\n",
      "list index out of range\n",
      "Error: 52149\n",
      "list index out of range\n"
     ]
    },
    {
     "name": "stderr",
     "output_type": "stream",
     "text": [
      " 95%|█████████▍| 54497/57477 [00:03<00:00, 14180.07it/s]"
     ]
    },
    {
     "name": "stdout",
     "output_type": "stream",
     "text": [
      "Error: 52680\n",
      "list index out of range\n",
      "Error: 53194\n",
      "list index out of range\n",
      "Error: 53281\n",
      "list index out of range\n",
      "Error: 54087\n",
      "list index out of range\n",
      "Error: 54096\n",
      "list index out of range\n",
      "Error: 54765\n",
      "list index out of range\n",
      "Error: 54931\n",
      "list index out of range\n",
      "Error: 54952\n",
      "list index out of range\n",
      "Error: 55385\n",
      "list index out of range\n"
     ]
    },
    {
     "name": "stderr",
     "output_type": "stream",
     "text": [
      "100%|██████████| 57477/57477 [00:04<00:00, 14191.76it/s]"
     ]
    },
    {
     "name": "stdout",
     "output_type": "stream",
     "text": [
      "Error: 55856\n",
      "list index out of range\n",
      "Error: 55912\n",
      "list index out of range\n",
      "Error: 56737\n",
      "list index out of range\n",
      "Error: 56743\n",
      "list index out of range\n"
     ]
    },
    {
     "name": "stderr",
     "output_type": "stream",
     "text": [
      "\n"
     ]
    }
   ],
   "source": [
    "from tqdm import tqdm\n",
    "output_as = []\n",
    "output_bs = []\n",
    "scuess_idx = []\n",
    "labels = []\n",
    "ids = []\n",
    "for idx, row in tqdm(train.iterrows(), total=len(train)):\n",
    "    try:\n",
    "        prompt = row[\"prompt\"]\n",
    "        response_a = row[\"response_a\"]\n",
    "        response_b = row[\"response_b\"]\n",
    "        label = row['label']\n",
    "        id = row['id']\n",
    "        if prompt.find('\",\"') != -1:\n",
    "            cnt = prompt.count('\",\"')\n",
    "            prompt = row[\"prompt\"].split('\",\"')\n",
    "            response_a = row[\"response_a\"].split('\",\"')\n",
    "            response_b = row[\"response_b\"].split('\",\"')\n",
    "            for sentence_idx in range(cnt + 1):\n",
    "                output_a = \"###Model A\\n\"\n",
    "                output_b = \"###Model B\\n\"\n",
    "                output_a += \"Prompt: \" + prompt[sentence_idx][2:].strip() + \"\\n\"\n",
    "                output_a += \"Response: \" + response_a[sentence_idx][2:].strip() + \"\\n\\n\"\n",
    "                output_b += \"Prompt: \" + prompt[sentence_idx][2:].strip() + \"\\n\"\n",
    "                output_b += \"Response: \" +response_b[sentence_idx][2:].strip() + \"\\n\\n\"\n",
    "                output_as.append(output_a)\n",
    "                output_bs.append(output_b)\n",
    "                scuess_idx.append(idx)\n",
    "                labels.append(label)\n",
    "                ids.append(id)\n",
    "        else:\n",
    "            output_a = \"###Model A\\nPrompt: \" + row[\"prompt\"][2:-2].strip() + \"\\nResponse: \" + row[\"response_a\"][2:-2].strip() + \"\\n\\n\"\n",
    "            output_b = \"###Model B\\nPrompt: \" + row[\"prompt\"][2:-2].strip() + \"\\nResponse: \" + row[\"response_b\"][2:-2].strip() + \"\\n\\n\"\n",
    "            output_as.append(output_a)\n",
    "            output_bs.append(output_b)\n",
    "            scuess_idx.append(idx)\n",
    "            labels.append(label)\n",
    "            ids.append(id)\n",
    "        \n",
    "    except Exception as e:\n",
    "        print(f\"Error: {idx}\")\n",
    "        print(f\"{e}\")\n",
    "        # output_as.append(\" \")\n",
    "        # output_bs.append(\" \")"
   ]
  },
  {
   "cell_type": "code",
   "execution_count": 6,
   "id": "67b41d7a-e71e-43d1-a7ef-632f56a98848",
   "metadata": {},
   "outputs": [],
   "source": [
    "train = pd.DataFrame({'id': ids, 'instruction_a': output_as, 'instruction_b': output_bs, 'label': labels })"
   ]
  },
  {
   "cell_type": "code",
   "execution_count": 7,
   "id": "3e2f8afe-89f2-486a-9da2-549d01a14313",
   "metadata": {},
   "outputs": [
    {
     "data": {
      "text/html": [
       "<div>\n",
       "<style scoped>\n",
       "    .dataframe tbody tr th:only-of-type {\n",
       "        vertical-align: middle;\n",
       "    }\n",
       "\n",
       "    .dataframe tbody tr th {\n",
       "        vertical-align: top;\n",
       "    }\n",
       "\n",
       "    .dataframe thead th {\n",
       "        text-align: right;\n",
       "    }\n",
       "</style>\n",
       "<table border=\"1\" class=\"dataframe\">\n",
       "  <thead>\n",
       "    <tr style=\"text-align: right;\">\n",
       "      <th></th>\n",
       "      <th>id</th>\n",
       "      <th>instruction_a</th>\n",
       "      <th>instruction_b</th>\n",
       "      <th>label</th>\n",
       "    </tr>\n",
       "  </thead>\n",
       "  <tbody>\n",
       "    <tr>\n",
       "      <th>0</th>\n",
       "      <td>30192</td>\n",
       "      <td>###Model A\\nPrompt: Is it morally right to try...</td>\n",
       "      <td>###Model B\\nPrompt: Is it morally right to try...</td>\n",
       "      <td>A</td>\n",
       "    </tr>\n",
       "    <tr>\n",
       "      <th>1</th>\n",
       "      <td>30192</td>\n",
       "      <td>###Model A\\nPrompt: , does pineapple belong on...</td>\n",
       "      <td>###Model B\\nPrompt: , does pineapple belong on...</td>\n",
       "      <td>A</td>\n",
       "    </tr>\n",
       "    <tr>\n",
       "      <th>2</th>\n",
       "      <td>53567</td>\n",
       "      <td>###Model A\\nPrompt: What is the difference bet...</td>\n",
       "      <td>###Model B\\nPrompt: What is the difference bet...</td>\n",
       "      <td>B</td>\n",
       "    </tr>\n",
       "    <tr>\n",
       "      <th>3</th>\n",
       "      <td>53567</td>\n",
       "      <td>###Model A\\nPrompt: w can I get both of them a...</td>\n",
       "      <td>###Model B\\nPrompt: w can I get both of them a...</td>\n",
       "      <td>B</td>\n",
       "    </tr>\n",
       "    <tr>\n",
       "      <th>4</th>\n",
       "      <td>53567</td>\n",
       "      <td>###Model A\\nPrompt: at is the minimal time to ...</td>\n",
       "      <td>###Model B\\nPrompt: at is the minimal time to ...</td>\n",
       "      <td>B</td>\n",
       "    </tr>\n",
       "    <tr>\n",
       "      <th>...</th>\n",
       "      <td>...</td>\n",
       "      <td>...</td>\n",
       "      <td>...</td>\n",
       "      <td>...</td>\n",
       "    </tr>\n",
       "    <tr>\n",
       "      <th>71293</th>\n",
       "      <td>4294710549</td>\n",
       "      <td>###Model A\\nPrompt: e deterrents necessary in ...</td>\n",
       "      <td>###Model B\\nPrompt: e deterrents necessary in ...</td>\n",
       "      <td>A</td>\n",
       "    </tr>\n",
       "    <tr>\n",
       "      <th>71294</th>\n",
       "      <td>4294710549</td>\n",
       "      <td>###Model A\\nPrompt: w realistic is it for toda...</td>\n",
       "      <td>###Model B\\nPrompt: w realistic is it for toda...</td>\n",
       "      <td>A</td>\n",
       "    </tr>\n",
       "    <tr>\n",
       "      <th>71295</th>\n",
       "      <td>4294710549</td>\n",
       "      <td>###Model A\\nPrompt: n you explain concisely wh...</td>\n",
       "      <td>###Model B\\nPrompt: n you explain concisely wh...</td>\n",
       "      <td>A</td>\n",
       "    </tr>\n",
       "    <tr>\n",
       "      <th>71296</th>\n",
       "      <td>4294899228</td>\n",
       "      <td>###Model A\\nPrompt: If a bait contains 0,0025%...</td>\n",
       "      <td>###Model B\\nPrompt: If a bait contains 0,0025%...</td>\n",
       "      <td>B</td>\n",
       "    </tr>\n",
       "    <tr>\n",
       "      <th>71297</th>\n",
       "      <td>4294947231</td>\n",
       "      <td>###Model A\\nPrompt: three kids eat three apple...</td>\n",
       "      <td>###Model B\\nPrompt: three kids eat three apple...</td>\n",
       "      <td>A</td>\n",
       "    </tr>\n",
       "  </tbody>\n",
       "</table>\n",
       "<p>71298 rows × 4 columns</p>\n",
       "</div>"
      ],
      "text/plain": [
       "               id                                      instruction_a  \\\n",
       "0           30192  ###Model A\\nPrompt: Is it morally right to try...   \n",
       "1           30192  ###Model A\\nPrompt: , does pineapple belong on...   \n",
       "2           53567  ###Model A\\nPrompt: What is the difference bet...   \n",
       "3           53567  ###Model A\\nPrompt: w can I get both of them a...   \n",
       "4           53567  ###Model A\\nPrompt: at is the minimal time to ...   \n",
       "...           ...                                                ...   \n",
       "71293  4294710549  ###Model A\\nPrompt: e deterrents necessary in ...   \n",
       "71294  4294710549  ###Model A\\nPrompt: w realistic is it for toda...   \n",
       "71295  4294710549  ###Model A\\nPrompt: n you explain concisely wh...   \n",
       "71296  4294899228  ###Model A\\nPrompt: If a bait contains 0,0025%...   \n",
       "71297  4294947231  ###Model A\\nPrompt: three kids eat three apple...   \n",
       "\n",
       "                                           instruction_b label  \n",
       "0      ###Model B\\nPrompt: Is it morally right to try...     A  \n",
       "1      ###Model B\\nPrompt: , does pineapple belong on...     A  \n",
       "2      ###Model B\\nPrompt: What is the difference bet...     B  \n",
       "3      ###Model B\\nPrompt: w can I get both of them a...     B  \n",
       "4      ###Model B\\nPrompt: at is the minimal time to ...     B  \n",
       "...                                                  ...   ...  \n",
       "71293  ###Model B\\nPrompt: e deterrents necessary in ...     A  \n",
       "71294  ###Model B\\nPrompt: w realistic is it for toda...     A  \n",
       "71295  ###Model B\\nPrompt: n you explain concisely wh...     A  \n",
       "71296  ###Model B\\nPrompt: If a bait contains 0,0025%...     B  \n",
       "71297  ###Model B\\nPrompt: three kids eat three apple...     A  \n",
       "\n",
       "[71298 rows x 4 columns]"
      ]
     },
     "execution_count": 7,
     "metadata": {},
     "output_type": "execute_result"
    }
   ],
   "source": [
    "train"
   ]
  },
  {
   "cell_type": "code",
   "execution_count": 20,
   "id": "9638aa90-c07f-4210-8e7e-b563b87dc52c",
   "metadata": {},
   "outputs": [],
   "source": [
    "idx = train.id.unique()\n",
    "valid_idx = [idx[i] for i in range(len(idx)) if i % 20 == 0]"
   ]
  },
  {
   "cell_type": "code",
   "execution_count": 21,
   "id": "7d544182-fa38-4a85-9a1d-53bea29ee635",
   "metadata": {},
   "outputs": [],
   "source": [
    "train.loc[train.id.isin(valid_idx),].to_csv('dataset/random_instruction_valid.csv', index = False)\n",
    "train.loc[~train.id.isin(valid_idx),].to_csv('dataset/random_instruction_train.csv', index = False)"
   ]
  }
 ],
 "metadata": {
  "kernelspec": {
   "display_name": "Python 3 (ipykernel)",
   "language": "python",
   "name": "python3"
  },
  "language_info": {
   "codemirror_mode": {
    "name": "ipython",
    "version": 3
   },
   "file_extension": ".py",
   "mimetype": "text/x-python",
   "name": "python",
   "nbconvert_exporter": "python",
   "pygments_lexer": "ipython3",
   "version": "3.10.8"
  }
 },
 "nbformat": 4,
 "nbformat_minor": 5
}
