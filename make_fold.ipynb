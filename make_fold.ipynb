{
 "cells": [
  {
   "cell_type": "code",
   "execution_count": null,
   "id": "c6979c80-3c38-4fe8-a743-ae35ab39f6de",
   "metadata": {},
   "outputs": [],
   "source": [
    "import json\n",
    "import pandas as pd\n",
    "def process(input_str):\n",
    "    return json.loads(input_str)\n",
    "df_train = pd.read_csv(\"dataset/random_train.csv\")\n",
    "df_train.loc[:, 'prompt'] = df_train['prompt'].apply(process)\n",
    "df_train.loc[:, 'response_a'] = df_train['response_a'].apply(process)\n",
    "df_train.loc[:, 'response_b'] = df_train['response_b'].apply(process)\n"
   ]
  },
  {
   "cell_type": "code",
   "execution_count": 2,
   "id": "99f33e55-b0e9-4823-bce3-ed037bfcdb89",
   "metadata": {},
   "outputs": [],
   "source": [
    "import pandas as pd\n",
    "\n",
    "from typing import Optional, Union\n",
    "import pandas as pd, numpy as np, torch\n",
    "from dataclasses import dataclass\n",
    "from transformers import AutoTokenizer, AutoConfig\n",
    "from transformers import EarlyStoppingCallback\n",
    "from transformers.tokenization_utils_base import PreTrainedTokenizerBase, PaddingStrategy\n",
    "from transformers import AutoModelForMultipleChoice, TrainingArguments, Trainer, RobertaForMultipleChoice\n",
    "import argparse\n",
    "from transformers import get_polynomial_decay_schedule_with_warmup, TrainerCallback\n",
    "import datasets\n",
    "from datasets import Dataset"
   ]
  },
  {
   "cell_type": "code",
   "execution_count": null,
   "id": "d4b28f0e-8a8a-4b4f-bada-23d4e01ec161",
   "metadata": {},
   "outputs": [],
   "source": [
    "df_train = pd.read_csv(\"dataset/random_train.csv\")"
   ]
  },
  {
   "cell_type": "code",
   "execution_count": null,
   "id": "46fba1d3-1921-4ac8-a2bb-09e6d5f1c49f",
   "metadata": {},
   "outputs": [],
   "source": [
    "def process(input_str):\n",
    "    stripped_str = input_str.strip('[]')\n",
    "    sentences = [s.strip('\"') for s in stripped_str.split('\",\"')]\n",
    "    return  ' '.join(sentences)"
   ]
  },
  {
   "cell_type": "code",
   "execution_count": null,
   "id": "514b3b1f-951e-47c4-95b3-148c5a25a638",
   "metadata": {},
   "outputs": [],
   "source": [
    "df_train.loc[:, 'prompt'] = df_train['prompt'].apply(process)\n",
    "df_train.loc[:, 'response_a'] = df_train['response_a'].apply(process)\n",
    "df_train.loc[:, 'response_b'] = df_train['response_b'].apply(process)"
   ]
  },
  {
   "cell_type": "code",
   "execution_count": null,
   "id": "949f259b-e015-4929-a424-a4b8bbaa825f",
   "metadata": {},
   "outputs": [],
   "source": [
    "t = df_train.loc[df_train.index % 4 != 0,].reset_index(drop = True)"
   ]
  },
  {
   "cell_type": "code",
   "execution_count": null,
   "id": "b4c1474a-be0f-4dc7-b351-53c5246efca4",
   "metadata": {},
   "outputs": [],
   "source": [
    "t.loc[20,:]"
   ]
  },
  {
   "cell_type": "code",
   "execution_count": null,
   "id": "70207271-567d-407b-b89a-4fc26ea46deb",
   "metadata": {},
   "outputs": [],
   "source": [
    "def get_label(row):\n",
    "    label = [idx for idx, option in enumerate(['winner_model_a','winner_model_b','winner_tie']) if row[option] == 1]\n",
    "    return label[-1]\n",
    "    \n",
    "df_train = pd.read_csv('dataset/train.csv').reset_index(drop = True)\n",
    "df_train['label'] = df_train.apply(lambda x: get_label(x), axis = 1)"
   ]
  },
  {
   "cell_type": "code",
   "execution_count": null,
   "id": "77566547-d715-4100-81b3-8a4632b60d40",
   "metadata": {},
   "outputs": [],
   "source": [
    "df_train.loc[df_train.index % 4 != 0,]"
   ]
  },
  {
   "cell_type": "code",
   "execution_count": null,
   "id": "6a5911c8-6e58-4d4e-9637-9e237c091ca3",
   "metadata": {},
   "outputs": [],
   "source": [
    "df_train.loc[df_train.index % 20 == 0,].reset_index(drop = True).to_csv('dataset/random_valid.csv')\n",
    "df_train.loc[df_train.index % 20 != 0,].reset_index(drop = True).to_csv('dataset/random_train.csv')"
   ]
  },
  {
   "cell_type": "code",
   "execution_count": null,
   "id": "11551a59-2783-42cb-9ce0-c66c170576d9",
   "metadata": {},
   "outputs": [],
   "source": [
    "df_train.loc[df_train.index % 20 == 0,]"
   ]
  },
  {
   "cell_type": "markdown",
   "id": "d9624737-5529-4d7b-8ede-3a9e86a05330",
   "metadata": {},
   "source": [
    "# For instruction"
   ]
  },
  {
   "cell_type": "code",
   "execution_count": null,
   "id": "752d005a-daf6-4c0b-bbf3-ad7de43f32d6",
   "metadata": {},
   "outputs": [],
   "source": [
    "def get_label(row):\n",
    "    label = [idx for idx, option in enumerate(['winner_model_a','winner_model_b','winner_tie']) if row[option] == 1]\n",
    "    if label[-1] == 0:\n",
    "        return 'A'\n",
    "    elif label[-1] == 1:\n",
    "        return 'B'\n",
    "    else:\n",
    "        return 'C'\n",
    "    return label[-1]\n",
    "\n",
    "import json\n",
    "import pandas as pd\n",
    "def process(input_str):\n",
    "    return json.loads(input_str)\n",
    "train = pd.read_csv(\"dataset/train.csv\")\n",
    "train.loc[:, 'prompt'] = train['prompt'].apply(process)\n",
    "train.loc[:, 'response_a'] = train['response_a'].apply(process)\n",
    "train.loc[:, 'response_b'] = train['response_b'].apply(process)\n",
    "train['label'] = train.apply(lambda x: get_label(x), axis = 1)"
   ]
  },
  {
   "cell_type": "code",
   "execution_count": null,
   "id": "77f51266-81b1-406f-b41c-a16bbcd245fe",
   "metadata": {},
   "outputs": [],
   "source": [
    "# def preprocess(row):\n",
    "#     row['response_a'] = row['response_a'].replace(\"null\",'\"null\"')\n",
    "#     row['response_b'] = row['response_b'].replace(\"null\",'\"null\"')\n",
    "#     if row['prompt'][-3:] == ',\"]':\n",
    "#         row['prompt'] = row['prompt'][:-3] + ']'\n",
    "#     return row\n",
    "\n",
    "# train= train.apply(lambda x: preprocess(x), axis = 1)"
   ]
  },
  {
   "cell_type": "code",
   "execution_count": null,
   "id": "5776472b-0f14-4180-91d1-29b182ce2423",
   "metadata": {},
   "outputs": [],
   "source": [
    "from tqdm import tqdm\n",
    "output_as = []\n",
    "output_bs = []\n",
    "labels = []\n",
    "ids = []\n",
    "for idx, row in tqdm(train.iterrows(), total=len(train)):\n",
    "    prompt = row[\"prompt\"]\n",
    "    response_a = row[\"response_a\"]\n",
    "    response_b = row[\"response_b\"]\n",
    "    label = row['label']\n",
    "    id = row['id']\n",
    "    assert len(prompt) == len(response_a) == len(response_b)\n",
    "    for i in range(len(prompt)):\n",
    "        output_as.append(f\"###Model A\\nPrompt: {prompt[i]}\\nResponse: {response_a[i]}\\n\\n\")\n",
    "        output_bs.append(f\"###Model B\\nPrompt: {prompt[i]}\\nResponse: {response_b[i]}\\n\\n\")\n",
    "        ids.append(id)\n",
    "        labels.append(label)\n",
    "        "
   ]
  },
  {
   "cell_type": "code",
   "execution_count": null,
   "id": "6f8e05a4-4d15-40ec-9456-4b70e5b51e87",
   "metadata": {},
   "outputs": [],
   "source": [
    "assert len(set(ids)) == len(train)\n",
    "train = pd.DataFrame({'id': ids, 'instruction_a': output_as, 'instruction_b': output_bs, 'label': labels })"
   ]
  },
  {
   "cell_type": "code",
   "execution_count": null,
   "id": "9b394b59-7ae4-4f5c-9d96-f525d9d83c65",
   "metadata": {
    "scrolled": true
   },
   "outputs": [],
   "source": [
    "# from tqdm import tqdm\n",
    "# output_as = []\n",
    "# output_bs = []\n",
    "# scuess_idx = []\n",
    "# labels = []\n",
    "# ids = []\n",
    "# for idx, row in tqdm(train.iterrows(), total=len(train)):\n",
    "#     try:\n",
    "#         prompt = row[\"prompt\"]\n",
    "#         response_a = row[\"response_a\"]\n",
    "#         response_b = row[\"response_b\"]\n",
    "#         label = row['label']\n",
    "#         id = row['id']\n",
    "#         if prompt.find('\",\"') != -1:\n",
    "#             #不止一个prompt\n",
    "#             #cnt = prompt.count('\",\"')\n",
    "#             prompt = row[\"prompt\"].split('\",\"')\n",
    "#             cnt = len(prompt)\n",
    "#             response_a = row[\"response_a\"].split('\",\"')\n",
    "#             response_b = row[\"response_b\"].split('\",\"')\n",
    "#             for sentence_idx in range(cnt):\n",
    "#                 output_a = \"###Model A\\n\"\n",
    "#                 output_b = \"###Model B\\n\"\n",
    "#                 output_a += \"Prompt: \" + prompt[sentence_idx][2:].strip() + \"\\n\"\n",
    "#                 output_a += \"Response: \" + response_a[sentence_idx][2:].strip() + \"\\n\\n\"\n",
    "#                 output_b += \"Prompt: \" + prompt[sentence_idx][2:].strip() + \"\\n\"\n",
    "#                 output_b += \"Response: \" +response_b[sentence_idx][2:].strip() + \"\\n\\n\"\n",
    "#                 output_as.append(output_a)\n",
    "#                 output_bs.append(output_b)\n",
    "#                 scuess_idx.append(idx)\n",
    "#                 labels.append(label)\n",
    "#                 ids.append(id)\n",
    "#         else:\n",
    "#             output_a = \"###Model A\\nPrompt: \" + row[\"prompt\"][2:-2].strip() + \"\\nResponse: \" + row[\"response_a\"][2:-2].strip() + \"\\n\\n\"\n",
    "#             output_b = \"###Model B\\nPrompt: \" + row[\"prompt\"][2:-2].strip() + \"\\nResponse: \" + row[\"response_b\"][2:-2].strip() + \"\\n\\n\"\n",
    "#             output_as.append(output_a)\n",
    "#             output_bs.append(output_b)\n",
    "#             scuess_idx.append(idx)\n",
    "#             labels.append(label)\n",
    "#             ids.append(id)\n",
    "        \n",
    "#     except Exception as e:\n",
    "#         print(f\"Error: {idx}\")\n",
    "#         print(f\"{e}\")\n",
    "#         output_a = \"###Model A\\nPrompt: \" + row[\"prompt\"][2:-2].strip() + \"\\nResponse: \" + row[\"response_a\"].strip() + \"\\n\\n\"\n",
    "#         output_b = \"###Model B\\nPrompt: \" + row[\"prompt\"][2:-2].strip() + \"\\nResponse: \" + row[\"response_b\"].strip() + \"\\n\\n\"\n",
    "#         output_as.append(output_a)\n",
    "#         output_bs.append(output_b)\n",
    "#         scuess_idx.append(idx)\n",
    "#         labels.append(label)\n",
    "#         ids.append(id)"
   ]
  },
  {
   "cell_type": "code",
   "execution_count": null,
   "id": "9638aa90-c07f-4210-8e7e-b563b87dc52c",
   "metadata": {},
   "outputs": [],
   "source": [
    "idx = train.id.unique()\n",
    "valid_idx = [idx[i] for i in range(len(idx)) if i % 20 == 0]"
   ]
  },
  {
   "cell_type": "code",
   "execution_count": null,
   "id": "b2182965-8c75-4ee2-b2cd-03528454b123",
   "metadata": {},
   "outputs": [],
   "source": [
    "train.loc[train.id.isin(valid_idx),].to_csv(\"dataset/random_instruction_valid.csv\", index = False)\n",
    "train.loc[~train.id.isin(valid_idx),].to_csv(\"dataset/random_instruction_train.csv\", index = False)"
   ]
  },
  {
   "cell_type": "markdown",
   "id": "fc8989db-c565-47e2-8147-8b08c9657b6b",
   "metadata": {},
   "source": [
    "# 每个对话一段文本，做classification"
   ]
  },
  {
   "cell_type": "code",
   "execution_count": null,
   "id": "97e5b29b-0133-417f-84fd-cd29f3ef6af7",
   "metadata": {},
   "outputs": [],
   "source": [
    "valid = pd.read_csv(\"dataset/random_instruction_valid.csv\")\n",
    "train = pd.read_csv(\"dataset/random_instruction_train.csv\")"
   ]
  },
  {
   "cell_type": "code",
   "execution_count": null,
   "id": "b659c996-b10f-4d28-8b0a-25683898a1ec",
   "metadata": {},
   "outputs": [],
   "source": [
    "str2num = {'A':0, \"B\":1, \"C\":2}\n",
    "train['label'] = train.label.map(str2num)\n",
    "valid['label'] = valid.label.map(str2num)"
   ]
  },
  {
   "cell_type": "code",
   "execution_count": null,
   "id": "71cda41a-4ac7-4f9d-9d56-b20d0a27c19c",
   "metadata": {},
   "outputs": [],
   "source": [
    "train.to_csv('dataset/random_multi_turn_cls_train.csv', index = False)\n",
    "valid.to_csv('dataset/random_multi_turn_cls_valid.csv', index = False)"
   ]
  },
  {
   "cell_type": "markdown",
   "id": "a0d72be5-51bd-4a4e-b55d-b95b5b59791a",
   "metadata": {},
   "source": [
    "# 所有对话拼接一起"
   ]
  },
  {
   "cell_type": "code",
   "execution_count": null,
   "id": "2c7db611-4b90-4f24-8c44-77a18e19dad8",
   "metadata": {},
   "outputs": [],
   "source": [
    "'''\n",
    "###Model A\n",
    "Prompt: xxx\n",
    "Response: xxx\n",
    "###Model B\n",
    "Prompt: xxx\n",
    "Response: xxx\n",
    "'''"
   ]
  },
  {
   "cell_type": "code",
   "execution_count": 3,
   "id": "5589cb81-ed3d-437c-8788-f45b5591871c",
   "metadata": {},
   "outputs": [],
   "source": [
    "valid = pd.read_csv(\"dataset/random_instruction_valid.csv\")\n",
    "train = pd.read_csv(\"dataset/random_instruction_train.csv\")"
   ]
  },
  {
   "cell_type": "code",
   "execution_count": 4,
   "id": "3148e7b4-5f8e-41bc-8dfe-e3146ada1073",
   "metadata": {},
   "outputs": [
    {
     "name": "stdout",
     "output_type": "stream",
     "text": [
      "CPU times: user 2.58 s, sys: 206 ms, total: 2.78 s\n",
      "Wall time: 2.79 s\n"
     ]
    }
   ],
   "source": [
    "%%time\n",
    "# 定义一个函数来删除###Model A\\n\n",
    "def remove(row):\n",
    "    row['instruction_a'] = row['instruction_a'].replace('###Model A\\n', '')\n",
    "    row['instruction_b'] = row['instruction_b'].replace('###Model B\\n', '')\n",
    "    return row\n",
    "# 添加\n",
    "def add(row):\n",
    "    row['instruction_a'] = \"###Model A\\n\" + row['instruction_a']\n",
    "    row['instruction_b'] = '###Model B\\n' + row['instruction_b']\n",
    "    return row\n",
    "    \n",
    "def main(data):\n",
    "    data['instruction_a'] = data['instruction_a'].apply(lambda x: x.replace('###Model A\\n', ''))\n",
    "    data['instruction_b'] = data['instruction_b'].apply(lambda x: x.replace('###Model B\\n', ''))\n",
    "    data = data.groupby('id').agg({'instruction_a': ''.join, 'instruction_b': ''.join, 'label': lambda x: list(x)[0]}).reset_index()\n",
    "    data['instruction_a'] = \"###Model A\\n\" + data['instruction_a']\n",
    "    data['instruction_b'] = \"###Model B\\n\" + data['instruction_b']\n",
    "    data['prompt_response'] = data['instruction_a'] + data['instruction_b']\n",
    "    return data\n",
    "train = main(train)\n",
    "valid = main(valid)"
   ]
  },
  {
   "cell_type": "code",
   "execution_count": 5,
   "id": "161de9d9-a9ee-49c7-9ea8-a9aaadd5cfb0",
   "metadata": {},
   "outputs": [],
   "source": [
    "train.to_csv('dataset/random_all_in_one_train.csv', index = False)\n",
    "valid.to_csv('dataset/random_all_in_one_valid.csv', index = False)\n",
    "\n",
    "all = pd.concat([train, valid]).reset_index(drop = True)\n",
    "all.to_csv(\"dataset/full_all_in_one.csv\", index = False)"
   ]
  },
  {
   "cell_type": "code",
   "execution_count": null,
   "id": "570c6f20-addb-4331-b110-8cd9137866bb",
   "metadata": {},
   "outputs": [],
   "source": [
    "c = pd.read_csv('dataset/random_all_in_one_train.csv')\n",
    "print(c.prompt_response.values[0])"
   ]
  },
  {
   "cell_type": "code",
   "execution_count": null,
   "id": "a3260391-6804-4006-8b91-ab6a854b72cf",
   "metadata": {},
   "outputs": [],
   "source": [
    "# classification\n",
    "str2num = {'A':0, \"B\":1, \"C\":2}\n",
    "train['label'] = train.label.map(str2num)\n",
    "valid['label'] = valid.label.map(str2num)\n",
    "\n",
    "train.to_csv('dataset/random_all_in_one_cls_train.csv', index = False)\n",
    "valid.to_csv('dataset/random_all_in_one_cls_valid.csv', index = False)"
   ]
  },
  {
   "cell_type": "markdown",
   "id": "5daee873-269a-4c8d-ba0e-00c239d578ca",
   "metadata": {},
   "source": [
    "# 另一种prompt"
   ]
  },
  {
   "cell_type": "code",
   "execution_count": null,
   "id": "003d8e23-2427-4cd2-81fa-42d4382b7e94",
   "metadata": {},
   "outputs": [],
   "source": [
    "'''\n",
    "#Prompt\n",
    "xxxx\n",
    "#Response\n",
    "##Model A\n",
    "xxxx\n",
    "##Model B\n",
    "xxxx\n",
    "\n",
    "#Prompt\n",
    "#Response\n",
    "##Model A\n",
    "xxxx\n",
    "##Model B\n",
    "xxxx\n",
    "'''"
   ]
  },
  {
   "cell_type": "code",
   "execution_count": null,
   "id": "1345c344-028d-4683-9d7f-b8d9256213a3",
   "metadata": {},
   "outputs": [],
   "source": [
    "def get_label(row):\n",
    "    label = [idx for idx, option in enumerate(['winner_model_a','winner_model_b','winner_tie']) if row[option] == 1]\n",
    "    if label[-1] == 0:\n",
    "        return 'A'\n",
    "    elif label[-1] == 1:\n",
    "        return 'B'\n",
    "    else:\n",
    "        return 'C'\n",
    "    return label[-1]\n",
    "\n",
    "import json\n",
    "import pandas as pd\n",
    "def process(input_str):\n",
    "    return json.loads(input_str)\n",
    "train = pd.read_csv(\"dataset/train.csv\")\n",
    "train.loc[:, 'prompt'] = train['prompt'].apply(process)\n",
    "train.loc[:, 'response_a'] = train['response_a'].apply(process)\n",
    "train.loc[:, 'response_b'] = train['response_b'].apply(process)\n",
    "train['label'] = train.apply(lambda x: get_label(x), axis = 1)"
   ]
  },
  {
   "cell_type": "code",
   "execution_count": null,
   "id": "4956f1a9-65f7-4e99-9fc8-4fbfb045e5a7",
   "metadata": {},
   "outputs": [],
   "source": [
    "from tqdm import tqdm\n",
    "singel_turn = []\n",
    "labels = []\n",
    "ids = []\n",
    "for idx, row in tqdm(train.iterrows(), total=len(train)):\n",
    "    prompt = row[\"prompt\"]\n",
    "    response_a = row[\"response_a\"]\n",
    "    response_b = row[\"response_b\"]\n",
    "    label = row['label']\n",
    "    id = row['id']\n",
    "    assert len(prompt) == len(response_a) == len(response_b)\n",
    "    for i in range(len(prompt)):\n",
    "        template = f\"#Prompt\\n{prompt[i]}\\n\\n#Response\\n##Model A\\n{response_a[i]}\\n\\n##Model B\\n{response_b[i]}\\n\\n\"\n",
    "        singel_turn.append(template)\n",
    "        ids.append(id)\n",
    "        labels.append(label)\n",
    "        "
   ]
  },
  {
   "cell_type": "code",
   "execution_count": null,
   "id": "866b5a56-a7ec-4b70-aee0-f9a897bffa1e",
   "metadata": {},
   "outputs": [],
   "source": [
    "assert len(set(ids)) == len(train)\n",
    "train = pd.DataFrame({'id': ids, 'singel_turn': singel_turn,'label': labels })"
   ]
  },
  {
   "cell_type": "code",
   "execution_count": null,
   "id": "d2f5c311-f322-4974-a2e6-de690e1c1555",
   "metadata": {},
   "outputs": [],
   "source": [
    "idx = train.id.unique()\n",
    "valid_idx = [idx[i] for i in range(len(idx)) if i % 20 == 0]\n",
    "\n",
    "train.loc[train.id.isin(valid_idx),].to_csv(\"dataset/random_instruction_version2_valid.csv\", index = False)\n",
    "train.loc[~train.id.isin(valid_idx),].to_csv(\"dataset/random_instruction_version2_train.csv\", index = False)"
   ]
  },
  {
   "cell_type": "code",
   "execution_count": null,
   "id": "d913f33e-a49f-46db-9376-3a859316494a",
   "metadata": {},
   "outputs": [],
   "source": [
    "print(train.singel_turn.values[0])"
   ]
  },
  {
   "cell_type": "code",
   "execution_count": null,
   "id": "1dac3021-0299-48f4-a0ae-9129c5456113",
   "metadata": {},
   "outputs": [],
   "source": [
    "# 所有对话拼接在一起\n",
    "valid = pd.read_csv(\"dataset/random_instruction_version2_valid.csv\")\n",
    "train = pd.read_csv(\"dataset/random_instruction_version2_train.csv\")"
   ]
  },
  {
   "cell_type": "code",
   "execution_count": null,
   "id": "69151935-e6d1-49d7-a351-5313cdcb6f49",
   "metadata": {},
   "outputs": [],
   "source": [
    "def main(data):\n",
    "    data = data.groupby('id').agg({'singel_turn': '#######\\n'.join, 'label': lambda x: list(x)[0]}).reset_index()\n",
    "    data = data.rename(columns = {'singel_turn':'prompt_response'})\n",
    "    return data\n",
    "train = main(train)\n",
    "valid = main(valid)"
   ]
  },
  {
   "cell_type": "code",
   "execution_count": null,
   "id": "7d5e40ae-777d-4630-9a2f-d914f65845bc",
   "metadata": {},
   "outputs": [],
   "source": [
    "train.to_csv('dataset/random_all_in_one_train_version2.csv', index = False)\n",
    "valid.to_csv('dataset/random_all_in_one_valid_version2.csv', index = False)\n",
    "\n",
    "all = pd.concat([train, valid]).reset_index(drop = True)\n",
    "all.to_csv(\"dataset/full_all_in_one_version2.csv\", index = False)"
   ]
  },
  {
   "cell_type": "code",
   "execution_count": null,
   "id": "14b0f9d8-4b63-4c63-8151-933be42013a6",
   "metadata": {},
   "outputs": [],
   "source": [
    "print(valid.prompt_response.values[0])"
   ]
  },
  {
   "cell_type": "code",
   "execution_count": null,
   "id": "06328338-4ecf-4eaa-ae39-a69165da1717",
   "metadata": {},
   "outputs": [],
   "source": [
    "# 特殊例子"
   ]
  },
  {
   "cell_type": "code",
   "execution_count": null,
   "id": "546dcbc2-b6a2-4ce8-b46e-213049ef4f45",
   "metadata": {},
   "outputs": [],
   "source": [
    "t = pd.read_csv(\"dataset/random_all_in_one_train_version2.csv\")\n",
    "print(t.loc[t.id == 16350735,:].values)"
   ]
  },
  {
   "cell_type": "code",
   "execution_count": null,
   "id": "87eb60c2-9d99-4e7e-90e9-f53ee4b00952",
   "metadata": {
    "scrolled": true
   },
   "outputs": [],
   "source": [
    "from tqdm import tqdm\n",
    "ids = []\n",
    "for idx, row in tqdm(train.iterrows(), total=len(train)):\n",
    "    prompt = row[\"prompt\"]\n",
    "    response_a = row[\"response_a\"]\n",
    "    response_b = row[\"response_b\"]\n",
    "    label = row['label']\n",
    "    id = row['id']\n",
    "    assert len(prompt) == len(response_a) == len(response_b)\n",
    "    for i in range(len(prompt)):\n",
    "        print(id)\n",
    "        if 'null' in response_a[i] or 'null' in response_b[i]:\n",
    "            ids.append(id)"
   ]
  },
  {
   "cell_type": "code",
   "execution_count": null,
   "id": "6a0f789c-f0b1-470a-9e02-98bd71f4312e",
   "metadata": {},
   "outputs": [],
   "source": [
    "train.loc[208,]"
   ]
  },
  {
   "cell_type": "code",
   "execution_count": null,
   "id": "2f8cf3c0-35ad-48b5-a37e-42191c6a6c7b",
   "metadata": {},
   "outputs": [],
   "source": [
    "print(train.loc[train.id == 16350735,'response_a'].values)"
   ]
  },
  {
   "cell_type": "code",
   "execution_count": null,
   "id": "328b921e-1899-4ea3-9321-5d0c9a75abd6",
   "metadata": {},
   "outputs": [],
   "source": [
    "print(train.loc[train.id == 16350735,'prompt'].values)"
   ]
  },
  {
   "cell_type": "code",
   "execution_count": null,
   "id": "b0b8da4a-a42e-4c01-9545-1bcab9cad51a",
   "metadata": {},
   "outputs": [],
   "source": [
    "train.loc[train.id == 16350735,:]"
   ]
  },
  {
   "cell_type": "code",
   "execution_count": null,
   "id": "92a5212f-29af-484c-a60c-6eefc7c0eade",
   "metadata": {},
   "outputs": [],
   "source": [
    "print(train.loc[train.id == 16350735,'response_b'].values)"
   ]
  }
 ],
 "metadata": {
  "kernelspec": {
   "display_name": "Python 3 (ipykernel)",
   "language": "python",
   "name": "python3"
  },
  "language_info": {
   "codemirror_mode": {
    "name": "ipython",
    "version": 3
   },
   "file_extension": ".py",
   "mimetype": "text/x-python",
   "name": "python",
   "nbconvert_exporter": "python",
   "pygments_lexer": "ipython3",
   "version": "3.10.8"
  }
 },
 "nbformat": 4,
 "nbformat_minor": 5
}
