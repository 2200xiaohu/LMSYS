{
 "cells": [
  {
   "cell_type": "markdown",
   "id": "d755d689-f9cd-4a66-b050-a37479a22807",
   "metadata": {},
   "source": [
    "# 完全不一样"
   ]
  },
  {
   "cell_type": "code",
   "execution_count": 3,
   "id": "7966d018-416b-4c58-b180-2a6ad61eaa06",
   "metadata": {},
   "outputs": [],
   "source": [
    "import pandas as pd\n",
    "\n",
    "from typing import Optional, Union\n",
    "import pandas as pd, numpy as np, torch\n",
    "from dataclasses import dataclass\n",
    "from transformers import (\n",
    "    AutoTokenizer,\n",
    "    AutoConfig,\n",
    "    EarlyStoppingCallback,\n",
    "    AutoModelForCausalLM,\n",
    "    AutoModelForMultipleChoice,\n",
    "    TrainingArguments,\n",
    "    Trainer,\n",
    "    RobertaForMultipleChoice,\n",
    "    AutoModelForSequenceClassification,\n",
    "    LlamaModel,\n",
    "    LlamaForSequenceClassification,\n",
    "    BitsAndBytesConfig,\n",
    "    get_polynomial_decay_schedule_with_warmup,\n",
    "    get_cosine_schedule_with_warmup,\n",
    "    TrainerCallback,\n",
    ")\n",
    "import argparse\n",
    "from transformers import get_polynomial_decay_schedule_with_warmup, TrainerCallback\n",
    "import datasets\n",
    "from datasets import Dataset\n",
    "from random import random, randint\n",
    "from utils import load_json, load_split_data\n",
    "\n",
    "import random\n",
    "def seed_everything(seed=None):\n",
    "    '''\n",
    "    固定seed\n",
    "    :param seed: int, 随机种子\n",
    "    '''\n",
    "    max_seed_value = np.iinfo(np.uint32).max\n",
    "    min_seed_value = np.iinfo(np.uint32).min\n",
    "\n",
    "    if (seed is None) or not (min_seed_value <= seed <= max_seed_value):\n",
    "        seed = random.randint(np.iinfo(np.uint32).min, np.iinfo(np.uint32).max)\n",
    "    os.environ[\"PYTHONHASHSEED\"] = str(seed)\n",
    "    random.seed(seed)\n",
    "    np.random.seed(seed)\n",
    "    torch.manual_seed(seed)\n",
    "    torch.cuda.manual_seed(seed)\n",
    "    torch.cuda.manual_seed_all(seed)\n",
    "    torch.backends.cudnn.benchmark = False\n",
    "    torch.backends.cudnn.deterministic = True\n",
    "    return seed"
   ]
  },
  {
   "cell_type": "code",
   "execution_count": 2,
   "id": "178cf20f-1c23-4ca7-a84c-72d677d2bbc7",
   "metadata": {},
   "outputs": [],
   "source": [
    "data = pd.read_csv('dataset/train.csv')\n",
    "data = load_json(data)\n",
    "\n",
    "ex_33 = pd.read_csv('dataset/lmsys-chatbot_arena_conversations-33k.csv')\n",
    "ex_33 = load_json(ex_33)"
   ]
  },
  {
   "cell_type": "code",
   "execution_count": 3,
   "id": "5d2492c6-c2f4-494c-be7a-932f05e2b219",
   "metadata": {},
   "outputs": [],
   "source": [
    "'''\n",
    "1、找出train里面不与33k重复部分\n",
    "2、不重复的部分再划分\n",
    "'''\n",
    "set_prompt_response = []\n",
    "for i in data.itertuples():\n",
    "    prompt_response = i.prompt + i.response_a + i.response_b\n",
    "    set_prompt_response.append(set(prompt_response))\n",
    "data['set_prompt_response'] = set_prompt_response    "
   ]
  },
  {
   "cell_type": "code",
   "execution_count": 4,
   "id": "08b79b16-12a0-4564-9ce7-7c98ce8519fc",
   "metadata": {},
   "outputs": [],
   "source": [
    "set_prompt_response = []\n",
    "for i in ex_33.itertuples():\n",
    "    prompt_response = i.prompt + i.response_a + i.response_b\n",
    "    set_prompt_response.append(set(prompt_response))\n",
    "ex_33['set_prompt_response'] = set_prompt_response  "
   ]
  },
  {
   "cell_type": "code",
   "execution_count": 5,
   "id": "aa41421e-0605-4f96-849f-142412de300d",
   "metadata": {},
   "outputs": [],
   "source": [
    "idx = [idx for idx, i in enumerate(data.set_prompt_response.values) if i in ex_33.set_prompt_response.values]"
   ]
  },
  {
   "cell_type": "code",
   "execution_count": 6,
   "id": "54031d68-246f-452f-9018-2f14fead3b65",
   "metadata": {},
   "outputs": [],
   "source": [
    "same = data.loc[idx,:].reset_index(drop = True)\n",
    "not_same = data.loc[~data.index.isin(idx),:].reset_index(drop = True)"
   ]
  },
  {
   "cell_type": "code",
   "execution_count": 8,
   "id": "47446ad7-608f-4f15-b04c-7ca1ff7b532e",
   "metadata": {},
   "outputs": [],
   "source": [
    "assert len(not_same) + len(same) == len(data)"
   ]
  },
  {
   "cell_type": "code",
   "execution_count": 9,
   "id": "11689868-4a0a-40a0-8b97-39d0ab41e57e",
   "metadata": {},
   "outputs": [],
   "source": [
    "unique_sets = not_same['set_prompt_response'].drop_duplicates().reset_index(drop=True)\n",
    "# 将唯一集合进行随机划分\n",
    "unique_sets = unique_sets.sample(frac=1, random_state=42).reset_index(drop=True)\n",
    "midpoint = len(unique_sets) // 10\n",
    "set1 = unique_sets.iloc[:midpoint]\n",
    "set2 = unique_sets.iloc[midpoint:]"
   ]
  },
  {
   "cell_type": "code",
   "execution_count": 10,
   "id": "cb1a74ee-6a83-48af-8961-108d4d420fea",
   "metadata": {},
   "outputs": [],
   "source": [
    "# 根据划分结果从原数据集中提取对应的行\n",
    "valid = not_same[not_same['set_prompt_response'].isin(set1)].reset_index(drop=True)\n",
    "train_subset = not_same[not_same['set_prompt_response'].isin(set2)].reset_index(drop=True)\n",
    "assert len(valid) + len(train_subset) == len(not_same)\n",
    "assert len(valid) + len(train_subset) + len(same) == len(data)"
   ]
  },
  {
   "cell_type": "code",
   "execution_count": 11,
   "id": "17e80a94-bf19-408e-8ad4-53fbb67a9597",
   "metadata": {},
   "outputs": [],
   "source": [
    "train_exclude_valid = pd.concat([train_subset, same]).reset_index(drop=True) #train 里面排除valid\n",
    "len([idx for idx, i in enumerate(valid.set_prompt_response.values) if i in train_exclude_valid.set_prompt_response.values])\n",
    "assert len(valid) + len(train_exclude_valid) == len(data)"
   ]
  },
  {
   "cell_type": "code",
   "execution_count": 12,
   "id": "51660b83-b835-4028-a476-939d9301d574",
   "metadata": {},
   "outputs": [],
   "source": [
    "train_33k = pd.concat([train_subset, ex_33]).reset_index(drop=True)"
   ]
  },
  {
   "cell_type": "code",
   "execution_count": 18,
   "id": "79c5d50c-ba64-4ddd-9c60-59dfdea9c09e",
   "metadata": {},
   "outputs": [],
   "source": [
    "train_subset = train_subset.drop(columns = ['set_prompt_response'])\n",
    "valid = valid.drop(columns = ['set_prompt_response'])\n",
    "train_exclude_valid = train_exclude_valid.drop(columns = ['set_prompt_response'])\n",
    "train_33k = train_33k.drop(columns = ['set_prompt_response'])"
   ]
  },
  {
   "cell_type": "code",
   "execution_count": 19,
   "id": "a0280b76-5188-4c03-a4a1-ba4317040a4f",
   "metadata": {},
   "outputs": [],
   "source": [
    "train_subset.to_json(\"dataset/non_overlap/train_subset.json\", index = False)\n",
    "valid.to_json(\"dataset/non_overlap/valid.json\", index = False)\n",
    "train_exclude_valid.to_json(\"dataset/non_overlap/train_exclude_valid.json\", index = False)\n",
    "train_33k.to_json(\"dataset/non_overlap/train_33k.json\", index = False)"
   ]
  },
  {
   "cell_type": "code",
   "execution_count": 20,
   "id": "7f239689-3b6d-4316-b3d7-a8302c53ab25",
   "metadata": {},
   "outputs": [],
   "source": [
    "# 检查\n",
    "train_subset = pd.read_json(\"dataset/non_overlap/train_subset.json\")\n",
    "valid = pd.read_json(\"dataset/non_overlap/valid.json\")\n",
    "train_exclude_valid = pd.read_json(\"dataset/non_overlap/train_exclude_valid.json\")\n",
    "train_33k = pd.read_json(\"dataset/non_overlap/train_33k.json\")"
   ]
  },
  {
   "cell_type": "code",
   "execution_count": 21,
   "id": "96dbbe12-3e36-4022-8d9c-a3378e0b298f",
   "metadata": {},
   "outputs": [],
   "source": [
    "def get_set_prompt_response(data):\n",
    "    set_prompt_response = []\n",
    "    for i in data.itertuples():\n",
    "        prompt_response = i.prompt + i.response_a + i.response_b\n",
    "        set_prompt_response.append(set(prompt_response))\n",
    "    data['set_prompt_response'] = set_prompt_response  \n",
    "    return data"
   ]
  },
  {
   "cell_type": "code",
   "execution_count": 22,
   "id": "4f7255ac-620d-4a8f-ab58-451b613fe0ad",
   "metadata": {},
   "outputs": [],
   "source": [
    "train_subset = get_set_prompt_response(train_subset)\n",
    "valid = get_set_prompt_response(valid)\n",
    "train_exclude_valid = get_set_prompt_response(train_exclude_valid)\n",
    "train_33k = get_set_prompt_response(train_33k)"
   ]
  },
  {
   "cell_type": "code",
   "execution_count": 23,
   "id": "7c80f26a-a248-467b-b28a-115378660e3d",
   "metadata": {},
   "outputs": [],
   "source": [
    "#valid和任何都不重合\n",
    "assert len([idx for idx, i in enumerate(valid.set_prompt_response.values) if i in train_subset.set_prompt_response.values]) == 0\n",
    "assert len([idx for idx, i in enumerate(valid.set_prompt_response.values) if i in train_exclude_valid.set_prompt_response.values]) == 0\n",
    "assert len([idx for idx, i in enumerate(valid.set_prompt_response.values) if i in train_33k.set_prompt_response.values]) == 0"
   ]
  },
  {
   "cell_type": "code",
   "execution_count": 26,
   "id": "980bbae8-dc18-42e2-b8ee-18810ffacc7c",
   "metadata": {},
   "outputs": [
    {
     "data": {
      "text/plain": [
       "'OK, does pineapple belong on a pizza? Relax and give me fun answer.'"
      ]
     },
     "execution_count": 26,
     "metadata": {},
     "output_type": "execute_result"
    }
   ],
   "source": [
    "train_33k.prompt.values[0][1]"
   ]
  },
  {
   "cell_type": "markdown",
   "id": "1520a077-21f8-4324-8fbc-b096fce1d9c1",
   "metadata": {},
   "source": [
    "# 1M 与 train_33k和valid重复的"
   ]
  },
  {
   "cell_type": "code",
   "execution_count": 4,
   "id": "b46b4a9e-53a6-4bc3-9334-870487b64797",
   "metadata": {},
   "outputs": [],
   "source": [
    "def get_set_prompt_response(data):\n",
    "    set_prompt_response = []\n",
    "    for i in data.itertuples():\n",
    "        prompt_response = i.prompt + i.response_a + i.response_b\n",
    "        set_prompt_response.append(set(prompt_response))\n",
    "    data['set_prompt_response'] = set_prompt_response  \n",
    "    return data"
   ]
  },
  {
   "cell_type": "code",
   "execution_count": 24,
   "id": "b45296df-0c95-47f6-b8dc-6e1cd53d2b66",
   "metadata": {},
   "outputs": [],
   "source": [
    "# 检查\n",
    "train_subset = pd.read_json(\"dataset/non_overlap/train_subset.json\")\n",
    "valid = pd.read_json(\"dataset/non_overlap/valid.json\")\n",
    "train_exclude_valid = pd.read_json(\"dataset/non_overlap/train_exclude_valid.json\")\n",
    "train_33k = pd.read_json(\"dataset/non_overlap/train_33k.json\")\n",
    "ex_data = pd.read_json(\"dataset/1M/35k_in_1M.json\")\n",
    "ex_data = pd.read_parquet(\"dataset/1M/filtered_df.parquet\")"
   ]
  },
  {
   "cell_type": "code",
   "execution_count": 31,
   "id": "c8880a87-1497-4355-bf78-c993e516aa8d",
   "metadata": {},
   "outputs": [],
   "source": [
    "def drop_dup_hate(data):\n",
    "    data = data.loc[data.model_a != data.model_b].reset_index(drop = True)\n",
    "    set_prompt_response = []\n",
    "    for i in data.itertuples():\n",
    "        prompt_response = i.prompt + i.response_a + i.response_b\n",
    "        set_prompt_response.append(set(prompt_response))\n",
    "    data['set_prompt_response'] = set_prompt_response  \n",
    "    idx = (data.response_a_categories != 'Good') | (data.response_b_categories != 'Good')\n",
    "    data = data[~idx].reset_index(drop = True)\n",
    "    data = data.drop(columns = ['set_prompt_response'])\n",
    "    return data"
   ]
  },
  {
   "cell_type": "code",
   "execution_count": 32,
   "id": "1c759a81-927e-499f-a55a-3e4756d754e6",
   "metadata": {},
   "outputs": [],
   "source": [
    "ex_data = drop_dup_hate(ex_data)"
   ]
  },
  {
   "cell_type": "code",
   "execution_count": 34,
   "id": "9b25062d-6f3e-41be-8e60-5c220713d66d",
   "metadata": {},
   "outputs": [],
   "source": [
    "train_subset = get_set_prompt_response(train_subset)\n",
    "valid = get_set_prompt_response(valid)\n",
    "train_exclude_valid = get_set_prompt_response(train_exclude_valid)\n",
    "train_33k = get_set_prompt_response(train_33k)\n",
    "ex_data = get_set_prompt_response(ex_data)"
   ]
  },
  {
   "cell_type": "code",
   "execution_count": 39,
   "id": "e9e45948-7ebe-4625-8b2c-be888840960c",
   "metadata": {},
   "outputs": [
    {
     "data": {
      "text/plain": [
       "1"
      ]
     },
     "execution_count": 39,
     "metadata": {},
     "output_type": "execute_result"
    }
   ],
   "source": [
    "len([idx for idx, i in enumerate(ex_data.set_prompt_response.values) if i in train_subset.set_prompt_response.values])"
   ]
  },
  {
   "cell_type": "code",
   "execution_count": 35,
   "id": "c172ddd1-a4ae-4643-9259-9a3dfc233d1d",
   "metadata": {},
   "outputs": [],
   "source": [
    "in_valid = [idx for idx, i in enumerate(ex_data.set_prompt_response.values) if i in valid.set_prompt_response.values]"
   ]
  },
  {
   "cell_type": "code",
   "execution_count": 36,
   "id": "f662a619-ec03-48e4-bf7c-5452ac2f0040",
   "metadata": {},
   "outputs": [
    {
     "data": {
      "text/plain": [
       "0"
      ]
     },
     "execution_count": 36,
     "metadata": {},
     "output_type": "execute_result"
    }
   ],
   "source": [
    "len(in_valid)"
   ]
  },
  {
   "cell_type": "code",
   "execution_count": 37,
   "id": "b6c23fcf-fcdb-4b18-8844-ba2a243339ca",
   "metadata": {},
   "outputs": [],
   "source": [
    "ex_data = ex_data.loc[~ex_data.index.isin(in_valid)].reset_index(drop = True)"
   ]
  },
  {
   "cell_type": "code",
   "execution_count": 38,
   "id": "ce8f37da-e102-4877-a36e-64965fffc3a6",
   "metadata": {},
   "outputs": [],
   "source": [
    "ex_data.to_json(\"dataset/1M/3k_high_quality_method_2.json\", index = False)"
   ]
  },
  {
   "cell_type": "code",
   "execution_count": 42,
   "id": "dbeec11f-e05f-48c2-bbe4-6753f4d07fad",
   "metadata": {},
   "outputs": [
    {
     "data": {
      "text/html": [
       "<div>\n",
       "<style scoped>\n",
       "    .dataframe tbody tr th:only-of-type {\n",
       "        vertical-align: middle;\n",
       "    }\n",
       "\n",
       "    .dataframe tbody tr th {\n",
       "        vertical-align: top;\n",
       "    }\n",
       "\n",
       "    .dataframe thead th {\n",
       "        text-align: right;\n",
       "    }\n",
       "</style>\n",
       "<table border=\"1\" class=\"dataframe\">\n",
       "  <thead>\n",
       "    <tr style=\"text-align: right;\">\n",
       "      <th></th>\n",
       "      <th>id</th>\n",
       "      <th>prompt</th>\n",
       "      <th>model_a</th>\n",
       "      <th>model_b</th>\n",
       "      <th>response_a</th>\n",
       "      <th>response_b</th>\n",
       "      <th>response_a_categories</th>\n",
       "      <th>response_b_categories</th>\n",
       "      <th>set_prompt_response</th>\n",
       "    </tr>\n",
       "  </thead>\n",
       "  <tbody>\n",
       "    <tr>\n",
       "      <th>0</th>\n",
       "      <td>1890</td>\n",
       "      <td>[She felt something and likes me but loves oth...</td>\n",
       "      <td>stablelm-tuned-alpha-7b</td>\n",
       "      <td>vicuna-13b</td>\n",
       "      <td>[It sounds like you and the other person have ...</td>\n",
       "      <td>[It's difficult to say whether it was a smart ...</td>\n",
       "      <td>Good</td>\n",
       "      <td>Good</td>\n",
       "      <td>{It sounds like you and the other person have ...</td>\n",
       "    </tr>\n",
       "    <tr>\n",
       "      <th>1</th>\n",
       "      <td>1891</td>\n",
       "      <td>[She felt something and likes me but loves oth...</td>\n",
       "      <td>stablelm-tuned-alpha-7b</td>\n",
       "      <td>koala-13b</td>\n",
       "      <td>[It sounds like you and the other person have ...</td>\n",
       "      <td>[It's understandable that you would feel angry...</td>\n",
       "      <td>Good</td>\n",
       "      <td>Good</td>\n",
       "      <td>{It sounds like you and the other person have ...</td>\n",
       "    </tr>\n",
       "    <tr>\n",
       "      <th>2</th>\n",
       "      <td>2238</td>\n",
       "      <td>[write a single dot.]</td>\n",
       "      <td>alpaca-13b</td>\n",
       "      <td>vicuna-13b</td>\n",
       "      <td>[.]</td>\n",
       "      <td>[.]</td>\n",
       "      <td>Good</td>\n",
       "      <td>Good</td>\n",
       "      <td>{write a single dot., .}</td>\n",
       "    </tr>\n",
       "    <tr>\n",
       "      <th>3</th>\n",
       "      <td>2946</td>\n",
       "      <td>[what is your thoughts on sex?]</td>\n",
       "      <td>stablelm-tuned-alpha-7b</td>\n",
       "      <td>fastchat-t5-3b</td>\n",
       "      <td>[As an AI language model, I do not have person...</td>\n",
       "      <td>[As an AI language model, I don't have persona...</td>\n",
       "      <td>Good</td>\n",
       "      <td>Good</td>\n",
       "      <td>{what is your thoughts on sex?, As an AI langu...</td>\n",
       "    </tr>\n",
       "    <tr>\n",
       "      <th>4</th>\n",
       "      <td>2022</td>\n",
       "      <td>[Write a single # character]</td>\n",
       "      <td>koala-13b</td>\n",
       "      <td>claude-1</td>\n",
       "      <td>[\\#]</td>\n",
       "      <td>[#]</td>\n",
       "      <td>Good</td>\n",
       "      <td>Good</td>\n",
       "      <td>{#, Write a single # character, \\#}</td>\n",
       "    </tr>\n",
       "    <tr>\n",
       "      <th>...</th>\n",
       "      <td>...</td>\n",
       "      <td>...</td>\n",
       "      <td>...</td>\n",
       "      <td>...</td>\n",
       "      <td>...</td>\n",
       "      <td>...</td>\n",
       "      <td>...</td>\n",
       "      <td>...</td>\n",
       "      <td>...</td>\n",
       "    </tr>\n",
       "    <tr>\n",
       "      <th>2514</th>\n",
       "      <td>2831</td>\n",
       "      <td>[Explain what CHOAM is from the Dune book seri...</td>\n",
       "      <td>RWKV-4-Raven-14B</td>\n",
       "      <td>vicuna-13b</td>\n",
       "      <td>[CHOAM is a powerful corporation in the Dune u...</td>\n",
       "      <td>[In the Dune book series by NAME_1, CHOAM is a...</td>\n",
       "      <td>Good</td>\n",
       "      <td>Good</td>\n",
       "      <td>{Explain what CHOAM is from the Dune book seri...</td>\n",
       "    </tr>\n",
       "    <tr>\n",
       "      <th>2515</th>\n",
       "      <td>3033</td>\n",
       "      <td>[How do I determine the angular momentum of th...</td>\n",
       "      <td>vicuna-13b</td>\n",
       "      <td>claude-instant-1</td>\n",
       "      <td>[The angular momentum of the Sun is determined...</td>\n",
       "      <td>[The angular momentum of an object is calculat...</td>\n",
       "      <td>Good</td>\n",
       "      <td>Good</td>\n",
       "      <td>{The angular momentum of an object is calculat...</td>\n",
       "    </tr>\n",
       "    <tr>\n",
       "      <th>2516</th>\n",
       "      <td>3118</td>\n",
       "      <td>[we are the 6 May 2023, add 3 weeks]</td>\n",
       "      <td>koala-13b</td>\n",
       "      <td>claude-1</td>\n",
       "      <td>[Sure, I'm sorry but I am not able to calculat...</td>\n",
       "      <td>[3 weeks from May 6, 2023 is May 27, 2023.]</td>\n",
       "      <td>Good</td>\n",
       "      <td>Good</td>\n",
       "      <td>{3 weeks from May 6, 2023 is May 27, 2023., Su...</td>\n",
       "    </tr>\n",
       "    <tr>\n",
       "      <th>2517</th>\n",
       "      <td>2918</td>\n",
       "      <td>[* You are a product owner, and you will like ...</td>\n",
       "      <td>vicuna-7b</td>\n",
       "      <td>alpaca-13b</td>\n",
       "      <td>[Here's an example of a high-level product bac...</td>\n",
       "      <td>[• Support the Branch Relationship Managers (B...</td>\n",
       "      <td>Good</td>\n",
       "      <td>Good</td>\n",
       "      <td>{Here's an example of a high-level product bac...</td>\n",
       "    </tr>\n",
       "    <tr>\n",
       "      <th>2518</th>\n",
       "      <td>2989</td>\n",
       "      <td>[Can you come up with three concise statements...</td>\n",
       "      <td>chatglm-6b</td>\n",
       "      <td>gpt-4</td>\n",
       "      <td>[Sure, here are three concise statements that ...</td>\n",
       "      <td>[1. Both require regular updates and maintenan...</td>\n",
       "      <td>Good</td>\n",
       "      <td>Good</td>\n",
       "      <td>{Can you come up with three concise statements...</td>\n",
       "    </tr>\n",
       "  </tbody>\n",
       "</table>\n",
       "<p>2519 rows × 9 columns</p>\n",
       "</div>"
      ],
      "text/plain": [
       "        id                                             prompt  \\\n",
       "0     1890  [She felt something and likes me but loves oth...   \n",
       "1     1891  [She felt something and likes me but loves oth...   \n",
       "2     2238                              [write a single dot.]   \n",
       "3     2946                    [what is your thoughts on sex?]   \n",
       "4     2022                       [Write a single # character]   \n",
       "...    ...                                                ...   \n",
       "2514  2831  [Explain what CHOAM is from the Dune book seri...   \n",
       "2515  3033  [How do I determine the angular momentum of th...   \n",
       "2516  3118               [we are the 6 May 2023, add 3 weeks]   \n",
       "2517  2918  [* You are a product owner, and you will like ...   \n",
       "2518  2989  [Can you come up with three concise statements...   \n",
       "\n",
       "                      model_a           model_b  \\\n",
       "0     stablelm-tuned-alpha-7b        vicuna-13b   \n",
       "1     stablelm-tuned-alpha-7b         koala-13b   \n",
       "2                  alpaca-13b        vicuna-13b   \n",
       "3     stablelm-tuned-alpha-7b    fastchat-t5-3b   \n",
       "4                   koala-13b          claude-1   \n",
       "...                       ...               ...   \n",
       "2514         RWKV-4-Raven-14B        vicuna-13b   \n",
       "2515               vicuna-13b  claude-instant-1   \n",
       "2516                koala-13b          claude-1   \n",
       "2517                vicuna-7b        alpaca-13b   \n",
       "2518               chatglm-6b             gpt-4   \n",
       "\n",
       "                                             response_a  \\\n",
       "0     [It sounds like you and the other person have ...   \n",
       "1     [It sounds like you and the other person have ...   \n",
       "2                                                   [.]   \n",
       "3     [As an AI language model, I do not have person...   \n",
       "4                                                  [\\#]   \n",
       "...                                                 ...   \n",
       "2514  [CHOAM is a powerful corporation in the Dune u...   \n",
       "2515  [The angular momentum of the Sun is determined...   \n",
       "2516  [Sure, I'm sorry but I am not able to calculat...   \n",
       "2517  [Here's an example of a high-level product bac...   \n",
       "2518  [Sure, here are three concise statements that ...   \n",
       "\n",
       "                                             response_b response_a_categories  \\\n",
       "0     [It's difficult to say whether it was a smart ...                  Good   \n",
       "1     [It's understandable that you would feel angry...                  Good   \n",
       "2                                                   [.]                  Good   \n",
       "3     [As an AI language model, I don't have persona...                  Good   \n",
       "4                                                   [#]                  Good   \n",
       "...                                                 ...                   ...   \n",
       "2514  [In the Dune book series by NAME_1, CHOAM is a...                  Good   \n",
       "2515  [The angular momentum of an object is calculat...                  Good   \n",
       "2516        [3 weeks from May 6, 2023 is May 27, 2023.]                  Good   \n",
       "2517  [• Support the Branch Relationship Managers (B...                  Good   \n",
       "2518  [1. Both require regular updates and maintenan...                  Good   \n",
       "\n",
       "     response_b_categories                                set_prompt_response  \n",
       "0                     Good  {It sounds like you and the other person have ...  \n",
       "1                     Good  {It sounds like you and the other person have ...  \n",
       "2                     Good                           {write a single dot., .}  \n",
       "3                     Good  {what is your thoughts on sex?, As an AI langu...  \n",
       "4                     Good                {#, Write a single # character, \\#}  \n",
       "...                    ...                                                ...  \n",
       "2514                  Good  {Explain what CHOAM is from the Dune book seri...  \n",
       "2515                  Good  {The angular momentum of an object is calculat...  \n",
       "2516                  Good  {3 weeks from May 6, 2023 is May 27, 2023., Su...  \n",
       "2517                  Good  {Here's an example of a high-level product bac...  \n",
       "2518                  Good  {Can you come up with three concise statements...  \n",
       "\n",
       "[2519 rows x 9 columns]"
      ]
     },
     "execution_count": 42,
     "metadata": {},
     "output_type": "execute_result"
    }
   ],
   "source": [
    "ex_data"
   ]
  },
  {
   "cell_type": "code",
   "execution_count": 41,
   "id": "52543555-eed4-4181-8c71-25992c149982",
   "metadata": {},
   "outputs": [
    {
     "data": {
      "text/plain": [
       "54"
      ]
     },
     "execution_count": 41,
     "metadata": {},
     "output_type": "execute_result"
    }
   ],
   "source": [
    "len([idx for idx, i in enumerate(ex_data.set_prompt_response.values) if i in train_exclude_valid.set_prompt_response.values])"
   ]
  },
  {
   "cell_type": "markdown",
   "id": "18156080-c6ed-4d70-b2fd-4fa0e8ccfb6b",
   "metadata": {},
   "source": [
    "# 1M 伪标签"
   ]
  },
  {
   "cell_type": "code",
   "execution_count": 23,
   "id": "daf34660-0511-4270-9402-285c95229612",
   "metadata": {},
   "outputs": [],
   "source": [
    "pre = pd.read_csv('dataset/1M/15k_preds.csv')"
   ]
  },
  {
   "cell_type": "code",
   "execution_count": 25,
   "id": "1e65786a-6541-4b79-aaf9-8f765cfea879",
   "metadata": {},
   "outputs": [],
   "source": [
    "ex_data = pd.read_json(\"dataset/1M/15k_in_1M_only_english.json\")"
   ]
  },
  {
   "cell_type": "code",
   "execution_count": 26,
   "id": "5d9dbfa4-3f07-4012-a461-29036a9a5c96",
   "metadata": {},
   "outputs": [],
   "source": [
    "assert len(pre) == len(ex_data)"
   ]
  },
  {
   "cell_type": "code",
   "execution_count": 27,
   "id": "51dedd90-a426-493d-9a55-d17224e7ff25",
   "metadata": {},
   "outputs": [
    {
     "data": {
      "text/html": [
       "<div>\n",
       "<style scoped>\n",
       "    .dataframe tbody tr th:only-of-type {\n",
       "        vertical-align: middle;\n",
       "    }\n",
       "\n",
       "    .dataframe tbody tr th {\n",
       "        vertical-align: top;\n",
       "    }\n",
       "\n",
       "    .dataframe thead th {\n",
       "        text-align: right;\n",
       "    }\n",
       "</style>\n",
       "<table border=\"1\" class=\"dataframe\">\n",
       "  <thead>\n",
       "    <tr style=\"text-align: right;\">\n",
       "      <th></th>\n",
       "      <th>id</th>\n",
       "      <th>winner_model_a</th>\n",
       "      <th>winner_model_b</th>\n",
       "      <th>winner_tie</th>\n",
       "    </tr>\n",
       "  </thead>\n",
       "  <tbody>\n",
       "    <tr>\n",
       "      <th>0</th>\n",
       "      <td>00004a7ca3</td>\n",
       "      <td>0.219152</td>\n",
       "      <td>0.568438</td>\n",
       "      <td>0.212410</td>\n",
       "    </tr>\n",
       "    <tr>\n",
       "      <th>1</th>\n",
       "      <td>0005fc6670</td>\n",
       "      <td>0.762098</td>\n",
       "      <td>0.092453</td>\n",
       "      <td>0.145449</td>\n",
       "    </tr>\n",
       "    <tr>\n",
       "      <th>2</th>\n",
       "      <td>000c92b58d</td>\n",
       "      <td>0.950595</td>\n",
       "      <td>0.011966</td>\n",
       "      <td>0.037439</td>\n",
       "    </tr>\n",
       "    <tr>\n",
       "      <th>3</th>\n",
       "      <td>000e2d2951</td>\n",
       "      <td>0.197311</td>\n",
       "      <td>0.617332</td>\n",
       "      <td>0.185357</td>\n",
       "    </tr>\n",
       "    <tr>\n",
       "      <th>4</th>\n",
       "      <td>0012aa0a79</td>\n",
       "      <td>0.445131</td>\n",
       "      <td>0.213576</td>\n",
       "      <td>0.341293</td>\n",
       "    </tr>\n",
       "    <tr>\n",
       "      <th>...</th>\n",
       "      <td>...</td>\n",
       "      <td>...</td>\n",
       "      <td>...</td>\n",
       "      <td>...</td>\n",
       "    </tr>\n",
       "    <tr>\n",
       "      <th>15008</th>\n",
       "      <td>fff80913e5</td>\n",
       "      <td>0.414370</td>\n",
       "      <td>0.247432</td>\n",
       "      <td>0.338199</td>\n",
       "    </tr>\n",
       "    <tr>\n",
       "      <th>15009</th>\n",
       "      <td>fff8645269</td>\n",
       "      <td>0.871195</td>\n",
       "      <td>0.014529</td>\n",
       "      <td>0.114276</td>\n",
       "    </tr>\n",
       "    <tr>\n",
       "      <th>15010</th>\n",
       "      <td>fff9e88318</td>\n",
       "      <td>0.370582</td>\n",
       "      <td>0.138476</td>\n",
       "      <td>0.490942</td>\n",
       "    </tr>\n",
       "    <tr>\n",
       "      <th>15011</th>\n",
       "      <td>fffa956330</td>\n",
       "      <td>0.686391</td>\n",
       "      <td>0.040582</td>\n",
       "      <td>0.273027</td>\n",
       "    </tr>\n",
       "    <tr>\n",
       "      <th>15012</th>\n",
       "      <td>fffe4eb7c2</td>\n",
       "      <td>0.401338</td>\n",
       "      <td>0.221640</td>\n",
       "      <td>0.377022</td>\n",
       "    </tr>\n",
       "  </tbody>\n",
       "</table>\n",
       "<p>15013 rows × 4 columns</p>\n",
       "</div>"
      ],
      "text/plain": [
       "               id  winner_model_a  winner_model_b  winner_tie\n",
       "0      00004a7ca3        0.219152        0.568438    0.212410\n",
       "1      0005fc6670        0.762098        0.092453    0.145449\n",
       "2      000c92b58d        0.950595        0.011966    0.037439\n",
       "3      000e2d2951        0.197311        0.617332    0.185357\n",
       "4      0012aa0a79        0.445131        0.213576    0.341293\n",
       "...           ...             ...             ...         ...\n",
       "15008  fff80913e5        0.414370        0.247432    0.338199\n",
       "15009  fff8645269        0.871195        0.014529    0.114276\n",
       "15010  fff9e88318        0.370582        0.138476    0.490942\n",
       "15011  fffa956330        0.686391        0.040582    0.273027\n",
       "15012  fffe4eb7c2        0.401338        0.221640    0.377022\n",
       "\n",
       "[15013 rows x 4 columns]"
      ]
     },
     "execution_count": 27,
     "metadata": {},
     "output_type": "execute_result"
    }
   ],
   "source": [
    "pre"
   ]
  },
  {
   "cell_type": "code",
   "execution_count": 50,
   "id": "534c0ac1-46fe-4bd2-9f1d-f2a24d518dec",
   "metadata": {},
   "outputs": [],
   "source": [
    "ex_data = ex_data.loc[ex_data.model_a != ex_data.model_b].reset_index(drop = True)"
   ]
  },
  {
   "cell_type": "code",
   "execution_count": 57,
   "id": "247aec63-6e79-4d05-9ceb-b1123690b1c3",
   "metadata": {},
   "outputs": [],
   "source": [
    "final = ex_data.merge(pre, on=['id'], how = 'inner')"
   ]
  },
  {
   "cell_type": "code",
   "execution_count": 102,
   "id": "a62526d8-fb4d-4728-b21d-cd14017041f8",
   "metadata": {},
   "outputs": [
    {
     "data": {
      "text/html": [
       "<div>\n",
       "<style scoped>\n",
       "    .dataframe tbody tr th:only-of-type {\n",
       "        vertical-align: middle;\n",
       "    }\n",
       "\n",
       "    .dataframe tbody tr th {\n",
       "        vertical-align: top;\n",
       "    }\n",
       "\n",
       "    .dataframe thead th {\n",
       "        text-align: right;\n",
       "    }\n",
       "</style>\n",
       "<table border=\"1\" class=\"dataframe\">\n",
       "  <thead>\n",
       "    <tr style=\"text-align: right;\">\n",
       "      <th></th>\n",
       "      <th>id</th>\n",
       "      <th>prompt</th>\n",
       "      <th>model_a</th>\n",
       "      <th>model_b</th>\n",
       "      <th>response_a</th>\n",
       "      <th>response_b</th>\n",
       "      <th>set_prompt_response</th>\n",
       "      <th>winner_model_a</th>\n",
       "      <th>winner_model_b</th>\n",
       "      <th>winner_tie</th>\n",
       "    </tr>\n",
       "  </thead>\n",
       "  <tbody>\n",
       "    <tr>\n",
       "      <th>0</th>\n",
       "      <td>ccf8a9653a</td>\n",
       "      <td>[1. The Most Intelligent Prince\\n\\nA king want...</td>\n",
       "      <td>fastchat-t5-3b</td>\n",
       "      <td>vicuna-33b</td>\n",
       "      <td>[As the most intelligent prince, I think my ha...</td>\n",
       "      <td>[My hat is black.\\n\\nReasoning: Since I can se...</td>\n",
       "      <td>[1. The Most Intelligent Prince\\n\\nA king want...</td>\n",
       "      <td>0.052349</td>\n",
       "      <td>0.213616</td>\n",
       "      <td>0.734035</td>\n",
       "    </tr>\n",
       "    <tr>\n",
       "      <th>1</th>\n",
       "      <td>a593212996</td>\n",
       "      <td>[A chat between a curious user and an artifici...</td>\n",
       "      <td>vicuna-7b</td>\n",
       "      <td>mpt-7b-chat</td>\n",
       "      <td>[Product Name: IQOO Neo 6 5G\\n\\nList Price: ₹3...</td>\n",
       "      <td>[Sure, I'd be happy to help you with that. Can...</td>\n",
       "      <td>[A chat between a curious user and an artifici...</td>\n",
       "      <td>0.946193</td>\n",
       "      <td>0.005203</td>\n",
       "      <td>0.048604</td>\n",
       "    </tr>\n",
       "    <tr>\n",
       "      <th>2</th>\n",
       "      <td>ac3403b4bb</td>\n",
       "      <td>[According to the following sentiment elements...</td>\n",
       "      <td>guanaco-33b</td>\n",
       "      <td>vicuna-33b</td>\n",
       "      <td>[Here are the sentiment elements:\\n\\n'never ag...</td>\n",
       "      <td>[[('Starcraft', 'awesome', 'drinks style_optio...</td>\n",
       "      <td>[[('Starcraft', 'awesome', 'drinks style_optio...</td>\n",
       "      <td>0.012262</td>\n",
       "      <td>0.873199</td>\n",
       "      <td>0.114539</td>\n",
       "    </tr>\n",
       "    <tr>\n",
       "      <th>3</th>\n",
       "      <td>38b40468a1</td>\n",
       "      <td>[Act as a customer service rep and respond to ...</td>\n",
       "      <td>vicuna-13b</td>\n",
       "      <td>llama-13b</td>\n",
       "      <td>[Hello! I'd be happy to help you with accessin...</td>\n",
       "      <td>[I can access your account information and see...</td>\n",
       "      <td>[Act as a customer service rep and respond to ...</td>\n",
       "      <td>0.810281</td>\n",
       "      <td>0.061513</td>\n",
       "      <td>0.128205</td>\n",
       "    </tr>\n",
       "    <tr>\n",
       "      <th>4</th>\n",
       "      <td>ad06742cff</td>\n",
       "      <td>[Answer the following question using ONLY the ...</td>\n",
       "      <td>chatglm-6b</td>\n",
       "      <td>llama-13b</td>\n",
       "      <td>[Yes, there is a strong inference that at leas...</td>\n",
       "      <td>[I'm sorry, I didn't catch that.]</td>\n",
       "      <td>[I'm sorry, I didn't catch that., Yes, there i...</td>\n",
       "      <td>0.879896</td>\n",
       "      <td>0.013361</td>\n",
       "      <td>0.106743</td>\n",
       "    </tr>\n",
       "    <tr>\n",
       "      <th>...</th>\n",
       "      <td>...</td>\n",
       "      <td>...</td>\n",
       "      <td>...</td>\n",
       "      <td>...</td>\n",
       "      <td>...</td>\n",
       "      <td>...</td>\n",
       "      <td>...</td>\n",
       "      <td>...</td>\n",
       "      <td>...</td>\n",
       "      <td>...</td>\n",
       "    </tr>\n",
       "    <tr>\n",
       "      <th>4560</th>\n",
       "      <td>48a9ff6e35</td>\n",
       "      <td>[write me an HTML page which contains a button...</td>\n",
       "      <td>vicuna-33b</td>\n",
       "      <td>guanaco-33b</td>\n",
       "      <td>[Here's a simple HTML page that contains a but...</td>\n",
       "      <td>[Sure, here is an example HTML code for a butt...</td>\n",
       "      <td>[Here's a simple HTML page that contains a but...</td>\n",
       "      <td>0.887580</td>\n",
       "      <td>0.036067</td>\n",
       "      <td>0.076353</td>\n",
       "    </tr>\n",
       "    <tr>\n",
       "      <th>4561</th>\n",
       "      <td>3cecab6f4a</td>\n",
       "      <td>[write python program , using simple-salesforc...</td>\n",
       "      <td>vicuna-13b</td>\n",
       "      <td>llama-13b</td>\n",
       "      <td>[Here's a sample Python program using the simp...</td>\n",
       "      <td>[I was able to find this article that might he...</td>\n",
       "      <td>[write python program , using simple-salesforc...</td>\n",
       "      <td>0.755829</td>\n",
       "      <td>0.053068</td>\n",
       "      <td>0.191103</td>\n",
       "    </tr>\n",
       "    <tr>\n",
       "      <th>4562</th>\n",
       "      <td>6fc3fca875</td>\n",
       "      <td>[write the first 3 paragraph of a novel about ...</td>\n",
       "      <td>llama-2-7b-chat</td>\n",
       "      <td>llama-2-13b-chat</td>\n",
       "      <td>[Ah, the birth of cool jazz! *adjusts sunglass...</td>\n",
       "      <td>[Sure thing! Here's my attempt at writing the ...</td>\n",
       "      <td>[write the first 3 paragraph of a novel about ...</td>\n",
       "      <td>0.100774</td>\n",
       "      <td>0.733078</td>\n",
       "      <td>0.166148</td>\n",
       "    </tr>\n",
       "    <tr>\n",
       "      <th>4563</th>\n",
       "      <td>6d93e7deee</td>\n",
       "      <td>[“NAME_1 is on trial, she (supposed) to have k...</td>\n",
       "      <td>koala-13b</td>\n",
       "      <td>alpaca-13b</td>\n",
       "      <td>[This is a completely baseless and false state...</td>\n",
       "      <td>[NAME_1 is not on trial and has not been charg...</td>\n",
       "      <td>[This is a completely baseless and false state...</td>\n",
       "      <td>0.169872</td>\n",
       "      <td>0.114941</td>\n",
       "      <td>0.715187</td>\n",
       "    </tr>\n",
       "    <tr>\n",
       "      <th>4564</th>\n",
       "      <td>5401ca04b6</td>\n",
       "      <td>[“One One was a race horse Two Two was one too...</td>\n",
       "      <td>RWKV-4-Raven-14B</td>\n",
       "      <td>fastchat-t5-3b</td>\n",
       "      <td>[The given conversation does not provide enoug...</td>\n",
       "      <td>[There are two horses in this story.]</td>\n",
       "      <td>[“One One was a race horse Two Two was one too...</td>\n",
       "      <td>0.029712</td>\n",
       "      <td>0.828541</td>\n",
       "      <td>0.141747</td>\n",
       "    </tr>\n",
       "  </tbody>\n",
       "</table>\n",
       "<p>4565 rows × 10 columns</p>\n",
       "</div>"
      ],
      "text/plain": [
       "              id                                             prompt  \\\n",
       "0     ccf8a9653a  [1. The Most Intelligent Prince\\n\\nA king want...   \n",
       "1     a593212996  [A chat between a curious user and an artifici...   \n",
       "2     ac3403b4bb  [According to the following sentiment elements...   \n",
       "3     38b40468a1  [Act as a customer service rep and respond to ...   \n",
       "4     ad06742cff  [Answer the following question using ONLY the ...   \n",
       "...          ...                                                ...   \n",
       "4560  48a9ff6e35  [write me an HTML page which contains a button...   \n",
       "4561  3cecab6f4a  [write python program , using simple-salesforc...   \n",
       "4562  6fc3fca875  [write the first 3 paragraph of a novel about ...   \n",
       "4563  6d93e7deee  [“NAME_1 is on trial, she (supposed) to have k...   \n",
       "4564  5401ca04b6  [“One One was a race horse Two Two was one too...   \n",
       "\n",
       "               model_a           model_b  \\\n",
       "0       fastchat-t5-3b        vicuna-33b   \n",
       "1            vicuna-7b       mpt-7b-chat   \n",
       "2          guanaco-33b        vicuna-33b   \n",
       "3           vicuna-13b         llama-13b   \n",
       "4           chatglm-6b         llama-13b   \n",
       "...                ...               ...   \n",
       "4560        vicuna-33b       guanaco-33b   \n",
       "4561        vicuna-13b         llama-13b   \n",
       "4562   llama-2-7b-chat  llama-2-13b-chat   \n",
       "4563         koala-13b        alpaca-13b   \n",
       "4564  RWKV-4-Raven-14B    fastchat-t5-3b   \n",
       "\n",
       "                                             response_a  \\\n",
       "0     [As the most intelligent prince, I think my ha...   \n",
       "1     [Product Name: IQOO Neo 6 5G\\n\\nList Price: ₹3...   \n",
       "2     [Here are the sentiment elements:\\n\\n'never ag...   \n",
       "3     [Hello! I'd be happy to help you with accessin...   \n",
       "4     [Yes, there is a strong inference that at leas...   \n",
       "...                                                 ...   \n",
       "4560  [Here's a simple HTML page that contains a but...   \n",
       "4561  [Here's a sample Python program using the simp...   \n",
       "4562  [Ah, the birth of cool jazz! *adjusts sunglass...   \n",
       "4563  [This is a completely baseless and false state...   \n",
       "4564  [The given conversation does not provide enoug...   \n",
       "\n",
       "                                             response_b  \\\n",
       "0     [My hat is black.\\n\\nReasoning: Since I can se...   \n",
       "1     [Sure, I'd be happy to help you with that. Can...   \n",
       "2     [[('Starcraft', 'awesome', 'drinks style_optio...   \n",
       "3     [I can access your account information and see...   \n",
       "4                     [I'm sorry, I didn't catch that.]   \n",
       "...                                                 ...   \n",
       "4560  [Sure, here is an example HTML code for a butt...   \n",
       "4561  [I was able to find this article that might he...   \n",
       "4562  [Sure thing! Here's my attempt at writing the ...   \n",
       "4563  [NAME_1 is not on trial and has not been charg...   \n",
       "4564              [There are two horses in this story.]   \n",
       "\n",
       "                                    set_prompt_response  winner_model_a  \\\n",
       "0     [1. The Most Intelligent Prince\\n\\nA king want...        0.052349   \n",
       "1     [A chat between a curious user and an artifici...        0.946193   \n",
       "2     [[('Starcraft', 'awesome', 'drinks style_optio...        0.012262   \n",
       "3     [Act as a customer service rep and respond to ...        0.810281   \n",
       "4     [I'm sorry, I didn't catch that., Yes, there i...        0.879896   \n",
       "...                                                 ...             ...   \n",
       "4560  [Here's a simple HTML page that contains a but...        0.887580   \n",
       "4561  [write python program , using simple-salesforc...        0.755829   \n",
       "4562  [write the first 3 paragraph of a novel about ...        0.100774   \n",
       "4563  [This is a completely baseless and false state...        0.169872   \n",
       "4564  [“One One was a race horse Two Two was one too...        0.029712   \n",
       "\n",
       "      winner_model_b  winner_tie  \n",
       "0           0.213616    0.734035  \n",
       "1           0.005203    0.048604  \n",
       "2           0.873199    0.114539  \n",
       "3           0.061513    0.128205  \n",
       "4           0.013361    0.106743  \n",
       "...              ...         ...  \n",
       "4560        0.036067    0.076353  \n",
       "4561        0.053068    0.191103  \n",
       "4562        0.733078    0.166148  \n",
       "4563        0.114941    0.715187  \n",
       "4564        0.828541    0.141747  \n",
       "\n",
       "[4565 rows x 10 columns]"
      ]
     },
     "execution_count": 102,
     "metadata": {},
     "output_type": "execute_result"
    }
   ],
   "source": [
    "threshold1 = 0.7\n",
    "filter_list = (final.winner_model_a >= threshold1) | (final.winner_model_b >= threshold1) | (final.winner_tie >= threshold1)\n",
    "filter = final.loc[filter_list,:].reset_index(drop = True)\n",
    "filter"
   ]
  },
  {
   "cell_type": "code",
   "execution_count": 103,
   "id": "958a35a1-1444-4eda-aafb-a517de328b78",
   "metadata": {},
   "outputs": [],
   "source": [
    "def get_label(row):\n",
    "    val = [row[option] for idx, option in enumerate(['winner_model_a','winner_model_b','winner_tie'])]\n",
    "    label = val.index(max(val))\n",
    "    #label = [idx for idx, option in enumerate(['winner_model_a','winner_model_b','winner_tie']) if row[option] == 1]\n",
    "    if label == 0:\n",
    "        return 'A'\n",
    "    elif label == 1:\n",
    "        return 'B'\n",
    "    else:\n",
    "        return 'C'\n",
    "    return label"
   ]
  },
  {
   "cell_type": "code",
   "execution_count": 104,
   "id": "3b2788f0-aa59-401e-875f-d0c4980695b5",
   "metadata": {},
   "outputs": [],
   "source": [
    "filter['label'] = filter.apply(lambda x: get_label(x), axis = 1)\n",
    "filter[\"winner_model_a\"] = 0\n",
    "filter[\"winner_model_b\"] = 0\n",
    "filter[\"winner_tie\"] = 0"
   ]
  },
  {
   "cell_type": "code",
   "execution_count": 105,
   "id": "8bbed5de-30c4-4b76-8a65-d346864e5489",
   "metadata": {},
   "outputs": [],
   "source": [
    "filter.loc[filter.label == 'A',\"winner_model_a\"] = 1\n",
    "filter.loc[filter.label == 'B',\"winner_model_b\"] = 1\n",
    "filter.loc[filter.label == 'C',\"winner_tie\"] = 1"
   ]
  },
  {
   "cell_type": "code",
   "execution_count": 106,
   "id": "32e73b43-d2ed-4bab-8faa-68be57638fbd",
   "metadata": {},
   "outputs": [],
   "source": [
    "filter = filter.drop(columns = ['label'])"
   ]
  },
  {
   "cell_type": "code",
   "execution_count": 108,
   "id": "8ff6754a-997f-47bc-8393-cca9a8104982",
   "metadata": {},
   "outputs": [],
   "source": [
    "filter.to_json('dataset/1M/15k_in_1M_only_english_thr70_5k.json', index = False)"
   ]
  },
  {
   "cell_type": "code",
   "execution_count": null,
   "id": "6f2add65-971e-4987-9b19-17c6168654aa",
   "metadata": {},
   "outputs": [],
   "source": []
  },
  {
   "cell_type": "code",
   "execution_count": null,
   "id": "3964467d-63e6-4cb5-8868-c9d4abc40d70",
   "metadata": {},
   "outputs": [],
   "source": [
    "i = 2846\n",
    "print(filter.loc[i,'prompt'][0])"
   ]
  },
  {
   "cell_type": "code",
   "execution_count": null,
   "id": "9a2aeb8b-caf0-48bf-832c-b0a706a56d1b",
   "metadata": {},
   "outputs": [],
   "source": [
    "print(filter.loc[i,'response_a'][0])"
   ]
  },
  {
   "cell_type": "code",
   "execution_count": null,
   "id": "cc3a707f-f5f6-4e04-a0d8-2e389667e071",
   "metadata": {},
   "outputs": [],
   "source": [
    "print(filter.loc[i,'response_b'][0])"
   ]
  }
 ],
 "metadata": {
  "kernelspec": {
   "display_name": "Python 3 (ipykernel)",
   "language": "python",
   "name": "python3"
  },
  "language_info": {
   "codemirror_mode": {
    "name": "ipython",
    "version": 3
   },
   "file_extension": ".py",
   "mimetype": "text/x-python",
   "name": "python",
   "nbconvert_exporter": "python",
   "pygments_lexer": "ipython3",
   "version": "3.10.8"
  }
 },
 "nbformat": 4,
 "nbformat_minor": 5
}
