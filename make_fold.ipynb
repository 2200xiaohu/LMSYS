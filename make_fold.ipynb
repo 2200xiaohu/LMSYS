{
 "cells": [
  {
   "cell_type": "code",
   "execution_count": 14,
   "id": "99f33e55-b0e9-4823-bce3-ed037bfcdb89",
   "metadata": {},
   "outputs": [],
   "source": [
    "import pandas as pd\n",
    "\n",
    "from typing import Optional, Union\n",
    "import pandas as pd, numpy as np, torch\n",
    "from dataclasses import dataclass\n",
    "from transformers import AutoTokenizer, AutoConfig\n",
    "from transformers import EarlyStoppingCallback\n",
    "from transformers.tokenization_utils_base import PreTrainedTokenizerBase, PaddingStrategy\n",
    "from transformers import AutoModelForMultipleChoice, TrainingArguments, Trainer, RobertaForMultipleChoice\n",
    "import argparse\n",
    "from transformers import get_polynomial_decay_schedule_with_warmup, TrainerCallback\n",
    "import datasets\n",
    "from datasets import Dataset"
   ]
  },
  {
   "cell_type": "code",
   "execution_count": 9,
   "id": "d4b28f0e-8a8a-4b4f-bada-23d4e01ec161",
   "metadata": {},
   "outputs": [],
   "source": [
    "df_train = pd.read_csv(\"dataset/random_train.csv\")"
   ]
  },
  {
   "cell_type": "code",
   "execution_count": null,
   "id": "46fba1d3-1921-4ac8-a2bb-09e6d5f1c49f",
   "metadata": {},
   "outputs": [],
   "source": [
    "def process(input_str):\n",
    "    stripped_str = input_str.strip('[]')\n",
    "    sentences = [s.strip('\"') for s in stripped_str.split('\",\"')]\n",
    "    return  ' '.join(sentences)"
   ]
  },
  {
   "cell_type": "code",
   "execution_count": null,
   "id": "514b3b1f-951e-47c4-95b3-148c5a25a638",
   "metadata": {},
   "outputs": [],
   "source": [
    "df_train.loc[:, 'prompt'] = df_train['prompt'].apply(process)\n",
    "df_train.loc[:, 'response_a'] = df_train['response_a'].apply(process)\n",
    "df_train.loc[:, 'response_b'] = df_train['response_b'].apply(process)"
   ]
  },
  {
   "cell_type": "code",
   "execution_count": null,
   "id": "949f259b-e015-4929-a424-a4b8bbaa825f",
   "metadata": {},
   "outputs": [],
   "source": [
    "t = df_train.loc[df_train.index % 4 != 0,].reset_index(drop = True)"
   ]
  },
  {
   "cell_type": "code",
   "execution_count": null,
   "id": "b4c1474a-be0f-4dc7-b351-53c5246efca4",
   "metadata": {},
   "outputs": [],
   "source": [
    "t.loc[20,:]"
   ]
  },
  {
   "cell_type": "code",
   "execution_count": null,
   "id": "70207271-567d-407b-b89a-4fc26ea46deb",
   "metadata": {},
   "outputs": [],
   "source": [
    "def get_label(row):\n",
    "    label = [idx for idx, option in enumerate(['winner_model_a','winner_model_b','winner_tie']) if row[option] == 1]\n",
    "    return label[-1]\n",
    "    \n",
    "df_train = pd.read_csv('dataset/train.csv').reset_index(drop = True)\n",
    "df_train['label'] = df_train.apply(lambda x: get_label(x), axis = 1)"
   ]
  },
  {
   "cell_type": "code",
   "execution_count": null,
   "id": "77566547-d715-4100-81b3-8a4632b60d40",
   "metadata": {},
   "outputs": [],
   "source": [
    "df_train.loc[df_train.index % 4 != 0,]"
   ]
  },
  {
   "cell_type": "code",
   "execution_count": null,
   "id": "6a5911c8-6e58-4d4e-9637-9e237c091ca3",
   "metadata": {},
   "outputs": [],
   "source": [
    "df_train.loc[df_train.index % 20 == 0,].reset_index(drop = True).to_csv('dataset/random_valid.csv')\n",
    "df_train.loc[df_train.index % 20 != 0,].reset_index(drop = True).to_csv('dataset/random_train.csv')"
   ]
  },
  {
   "cell_type": "code",
   "execution_count": null,
   "id": "11551a59-2783-42cb-9ce0-c66c170576d9",
   "metadata": {},
   "outputs": [],
   "source": [
    "df_train.loc[df_train.index % 20 == 0,]"
   ]
  },
  {
   "cell_type": "markdown",
   "id": "d9624737-5529-4d7b-8ede-3a9e86a05330",
   "metadata": {},
   "source": [
    "# For instruction"
   ]
  },
  {
   "cell_type": "code",
   "execution_count": 11,
   "id": "752d005a-daf6-4c0b-bbf3-ad7de43f32d6",
   "metadata": {},
   "outputs": [],
   "source": [
    "def get_label(row):\n",
    "    label = [idx for idx, option in enumerate(['winner_model_a','winner_model_b','winner_tie']) if row[option] == 1]\n",
    "    if label[-1] == 0:\n",
    "        return 'A'\n",
    "    elif label[-1] == 1:\n",
    "        return 'B'\n",
    "    else:\n",
    "        return 'C'\n",
    "    return label[-1]\n",
    "    \n",
    "train = pd.read_csv('dataset/train.csv').reset_index(drop = True)\n",
    "train['label'] = train.apply(lambda x: get_label(x), axis = 1)"
   ]
  },
  {
   "cell_type": "code",
   "execution_count": 12,
   "id": "77f51266-81b1-406f-b41c-a16bbcd245fe",
   "metadata": {},
   "outputs": [],
   "source": [
    "def preprocess(row):\n",
    "    row['response_a'] = row['response_a'].replace(\"null\",'\"null\"')\n",
    "    row['response_b'] = row['response_b'].replace(\"null\",'\"null\"')\n",
    "    if row['prompt'][-3:] == ',\"]':\n",
    "        row['prompt'] = row['prompt'][:-3] + ']'\n",
    "    return row\n",
    "\n",
    "train= train.apply(lambda x: preprocess(x), axis = 1)"
   ]
  },
  {
   "cell_type": "code",
   "execution_count": 13,
   "id": "9b394b59-7ae4-4f5c-9d96-f525d9d83c65",
   "metadata": {
    "scrolled": true
   },
   "outputs": [
    {
     "name": "stderr",
     "output_type": "stream",
     "text": [
      "100%|██████████| 57477/57477 [00:03<00:00, 16292.07it/s]\n"
     ]
    }
   ],
   "source": [
    "from tqdm import tqdm\n",
    "output_as = []\n",
    "output_bs = []\n",
    "scuess_idx = []\n",
    "labels = []\n",
    "ids = []\n",
    "for idx, row in tqdm(train.iterrows(), total=len(train)):\n",
    "    try:\n",
    "        prompt = row[\"prompt\"]\n",
    "        response_a = row[\"response_a\"]\n",
    "        response_b = row[\"response_b\"]\n",
    "        label = row['label']\n",
    "        id = row['id']\n",
    "        if prompt.find('\",\"') != -1:\n",
    "            #不止一个prompt\n",
    "            #cnt = prompt.count('\",\"')\n",
    "            prompt = row[\"prompt\"].split('\",\"')\n",
    "            cnt = len(prompt)\n",
    "            response_a = row[\"response_a\"].split('\",\"')\n",
    "            response_b = row[\"response_b\"].split('\",\"')\n",
    "            for sentence_idx in range(cnt):\n",
    "                output_a = \"###Model A\\n\"\n",
    "                output_b = \"###Model B\\n\"\n",
    "                output_a += \"Prompt: \" + prompt[sentence_idx][2:].strip() + \"\\n\"\n",
    "                output_a += \"Response: \" + response_a[sentence_idx][2:].strip() + \"\\n\\n\"\n",
    "                output_b += \"Prompt: \" + prompt[sentence_idx][2:].strip() + \"\\n\"\n",
    "                output_b += \"Response: \" +response_b[sentence_idx][2:].strip() + \"\\n\\n\"\n",
    "                output_as.append(output_a)\n",
    "                output_bs.append(output_b)\n",
    "                scuess_idx.append(idx)\n",
    "                labels.append(label)\n",
    "                ids.append(id)\n",
    "        else:\n",
    "            output_a = \"###Model A\\nPrompt: \" + row[\"prompt\"][2:-2].strip() + \"\\nResponse: \" + row[\"response_a\"][2:-2].strip() + \"\\n\\n\"\n",
    "            output_b = \"###Model B\\nPrompt: \" + row[\"prompt\"][2:-2].strip() + \"\\nResponse: \" + row[\"response_b\"][2:-2].strip() + \"\\n\\n\"\n",
    "            output_as.append(output_a)\n",
    "            output_bs.append(output_b)\n",
    "            scuess_idx.append(idx)\n",
    "            labels.append(label)\n",
    "            ids.append(id)\n",
    "        \n",
    "    except Exception as e:\n",
    "        print(f\"Error: {idx}\")\n",
    "        print(f\"{e}\")\n",
    "        output_a = \"###Model A\\nPrompt: \" + row[\"prompt\"][2:-2].strip() + \"\\nResponse: \" + row[\"response_a\"].strip() + \"\\n\\n\"\n",
    "        output_b = \"###Model B\\nPrompt: \" + row[\"prompt\"][2:-2].strip() + \"\\nResponse: \" + row[\"response_b\"].strip() + \"\\n\\n\"\n",
    "        output_as.append(output_a)\n",
    "        output_bs.append(output_b)\n",
    "        scuess_idx.append(idx)\n",
    "        labels.append(label)\n",
    "        ids.append(id)"
   ]
  },
  {
   "cell_type": "code",
   "execution_count": 6,
   "id": "bfceda22-1e70-41a2-a57f-4abe4e559f1c",
   "metadata": {},
   "outputs": [],
   "source": [
    "assert len(set(ids)) == len(train)"
   ]
  },
  {
   "cell_type": "code",
   "execution_count": 14,
   "id": "67b41d7a-e71e-43d1-a7ef-632f56a98848",
   "metadata": {},
   "outputs": [],
   "source": [
    "train = pd.DataFrame({'id': ids, 'instruction_a': output_as, 'instruction_b': output_bs, 'label': labels })"
   ]
  },
  {
   "cell_type": "code",
   "execution_count": 15,
   "id": "3e2f8afe-89f2-486a-9da2-549d01a14313",
   "metadata": {},
   "outputs": [
    {
     "data": {
      "text/html": [
       "<div>\n",
       "<style scoped>\n",
       "    .dataframe tbody tr th:only-of-type {\n",
       "        vertical-align: middle;\n",
       "    }\n",
       "\n",
       "    .dataframe tbody tr th {\n",
       "        vertical-align: top;\n",
       "    }\n",
       "\n",
       "    .dataframe thead th {\n",
       "        text-align: right;\n",
       "    }\n",
       "</style>\n",
       "<table border=\"1\" class=\"dataframe\">\n",
       "  <thead>\n",
       "    <tr style=\"text-align: right;\">\n",
       "      <th></th>\n",
       "      <th>id</th>\n",
       "      <th>instruction_a</th>\n",
       "      <th>instruction_b</th>\n",
       "      <th>label</th>\n",
       "    </tr>\n",
       "  </thead>\n",
       "  <tbody>\n",
       "    <tr>\n",
       "      <th>0</th>\n",
       "      <td>30192</td>\n",
       "      <td>###Model A\\nPrompt: Is it morally right to try...</td>\n",
       "      <td>###Model B\\nPrompt: Is it morally right to try...</td>\n",
       "      <td>A</td>\n",
       "    </tr>\n",
       "    <tr>\n",
       "      <th>1</th>\n",
       "      <td>30192</td>\n",
       "      <td>###Model A\\nPrompt: , does pineapple belong on...</td>\n",
       "      <td>###Model B\\nPrompt: , does pineapple belong on...</td>\n",
       "      <td>A</td>\n",
       "    </tr>\n",
       "    <tr>\n",
       "      <th>2</th>\n",
       "      <td>53567</td>\n",
       "      <td>###Model A\\nPrompt: What is the difference bet...</td>\n",
       "      <td>###Model B\\nPrompt: What is the difference bet...</td>\n",
       "      <td>B</td>\n",
       "    </tr>\n",
       "    <tr>\n",
       "      <th>3</th>\n",
       "      <td>53567</td>\n",
       "      <td>###Model A\\nPrompt: w can I get both of them a...</td>\n",
       "      <td>###Model B\\nPrompt: w can I get both of them a...</td>\n",
       "      <td>B</td>\n",
       "    </tr>\n",
       "    <tr>\n",
       "      <th>4</th>\n",
       "      <td>53567</td>\n",
       "      <td>###Model A\\nPrompt: at is the minimal time to ...</td>\n",
       "      <td>###Model B\\nPrompt: at is the minimal time to ...</td>\n",
       "      <td>B</td>\n",
       "    </tr>\n",
       "    <tr>\n",
       "      <th>...</th>\n",
       "      <td>...</td>\n",
       "      <td>...</td>\n",
       "      <td>...</td>\n",
       "      <td>...</td>\n",
       "    </tr>\n",
       "    <tr>\n",
       "      <th>71509</th>\n",
       "      <td>4294710549</td>\n",
       "      <td>###Model A\\nPrompt: e deterrents necessary in ...</td>\n",
       "      <td>###Model B\\nPrompt: e deterrents necessary in ...</td>\n",
       "      <td>A</td>\n",
       "    </tr>\n",
       "    <tr>\n",
       "      <th>71510</th>\n",
       "      <td>4294710549</td>\n",
       "      <td>###Model A\\nPrompt: w realistic is it for toda...</td>\n",
       "      <td>###Model B\\nPrompt: w realistic is it for toda...</td>\n",
       "      <td>A</td>\n",
       "    </tr>\n",
       "    <tr>\n",
       "      <th>71511</th>\n",
       "      <td>4294710549</td>\n",
       "      <td>###Model A\\nPrompt: n you explain concisely wh...</td>\n",
       "      <td>###Model B\\nPrompt: n you explain concisely wh...</td>\n",
       "      <td>A</td>\n",
       "    </tr>\n",
       "    <tr>\n",
       "      <th>71512</th>\n",
       "      <td>4294899228</td>\n",
       "      <td>###Model A\\nPrompt: If a bait contains 0,0025%...</td>\n",
       "      <td>###Model B\\nPrompt: If a bait contains 0,0025%...</td>\n",
       "      <td>B</td>\n",
       "    </tr>\n",
       "    <tr>\n",
       "      <th>71513</th>\n",
       "      <td>4294947231</td>\n",
       "      <td>###Model A\\nPrompt: three kids eat three apple...</td>\n",
       "      <td>###Model B\\nPrompt: three kids eat three apple...</td>\n",
       "      <td>A</td>\n",
       "    </tr>\n",
       "  </tbody>\n",
       "</table>\n",
       "<p>71514 rows × 4 columns</p>\n",
       "</div>"
      ],
      "text/plain": [
       "               id                                      instruction_a  \\\n",
       "0           30192  ###Model A\\nPrompt: Is it morally right to try...   \n",
       "1           30192  ###Model A\\nPrompt: , does pineapple belong on...   \n",
       "2           53567  ###Model A\\nPrompt: What is the difference bet...   \n",
       "3           53567  ###Model A\\nPrompt: w can I get both of them a...   \n",
       "4           53567  ###Model A\\nPrompt: at is the minimal time to ...   \n",
       "...           ...                                                ...   \n",
       "71509  4294710549  ###Model A\\nPrompt: e deterrents necessary in ...   \n",
       "71510  4294710549  ###Model A\\nPrompt: w realistic is it for toda...   \n",
       "71511  4294710549  ###Model A\\nPrompt: n you explain concisely wh...   \n",
       "71512  4294899228  ###Model A\\nPrompt: If a bait contains 0,0025%...   \n",
       "71513  4294947231  ###Model A\\nPrompt: three kids eat three apple...   \n",
       "\n",
       "                                           instruction_b label  \n",
       "0      ###Model B\\nPrompt: Is it morally right to try...     A  \n",
       "1      ###Model B\\nPrompt: , does pineapple belong on...     A  \n",
       "2      ###Model B\\nPrompt: What is the difference bet...     B  \n",
       "3      ###Model B\\nPrompt: w can I get both of them a...     B  \n",
       "4      ###Model B\\nPrompt: at is the minimal time to ...     B  \n",
       "...                                                  ...   ...  \n",
       "71509  ###Model B\\nPrompt: e deterrents necessary in ...     A  \n",
       "71510  ###Model B\\nPrompt: w realistic is it for toda...     A  \n",
       "71511  ###Model B\\nPrompt: n you explain concisely wh...     A  \n",
       "71512  ###Model B\\nPrompt: If a bait contains 0,0025%...     B  \n",
       "71513  ###Model B\\nPrompt: three kids eat three apple...     A  \n",
       "\n",
       "[71514 rows x 4 columns]"
      ]
     },
     "execution_count": 15,
     "metadata": {},
     "output_type": "execute_result"
    }
   ],
   "source": [
    "train"
   ]
  },
  {
   "cell_type": "code",
   "execution_count": 16,
   "id": "9638aa90-c07f-4210-8e7e-b563b87dc52c",
   "metadata": {},
   "outputs": [],
   "source": [
    "idx = train.id.unique()\n",
    "valid_idx = [idx[i] for i in range(len(idx)) if i % 20 == 0]"
   ]
  },
  {
   "cell_type": "code",
   "execution_count": 17,
   "id": "7d544182-fa38-4a85-9a1d-53bea29ee635",
   "metadata": {},
   "outputs": [],
   "source": [
    "train.loc[train.id.isin(valid_idx),].to_csv('dataset/random_instruction_valid.csv', index = False)\n",
    "train.loc[~train.id.isin(valid_idx),].to_csv('dataset/random_instruction_train.csv', index = False)"
   ]
  },
  {
   "cell_type": "markdown",
   "id": "fc8989db-c565-47e2-8147-8b08c9657b6b",
   "metadata": {},
   "source": [
    "# 每个对话一段文本，做classification"
   ]
  },
  {
   "cell_type": "code",
   "execution_count": 11,
   "id": "97e5b29b-0133-417f-84fd-cd29f3ef6af7",
   "metadata": {},
   "outputs": [],
   "source": [
    "valid = pd.read_csv(\"dataset/random_instruction_valid.csv\")\n",
    "train = pd.read_csv(\"dataset/random_instruction_train.csv\")"
   ]
  },
  {
   "cell_type": "code",
   "execution_count": null,
   "id": "5d621cdf-d5c5-4058-80b3-50aea553d0e9",
   "metadata": {},
   "outputs": [],
   "source": [
    "random_multi_valid"
   ]
  },
  {
   "cell_type": "code",
   "execution_count": 12,
   "id": "b659c996-b10f-4d28-8b0a-25683898a1ec",
   "metadata": {},
   "outputs": [],
   "source": [
    "str2num = {'A':0, \"B\":1, \"C\":2}\n",
    "train['label'] = train.label.map(str2num)\n",
    "valid['label'] = valid.label.map(str2num)"
   ]
  },
  {
   "cell_type": "code",
   "execution_count": 13,
   "id": "71cda41a-4ac7-4f9d-9d56-b20d0a27c19c",
   "metadata": {},
   "outputs": [],
   "source": [
    "train.to_csv('dataset/random_multi_turn_cls_train.csv', index = False)\n",
    "valid.to_csv('dataset/random_multi_turn_cls_valid.csv', index = False)"
   ]
  },
  {
   "cell_type": "markdown",
   "id": "a0d72be5-51bd-4a4e-b55d-b95b5b59791a",
   "metadata": {},
   "source": [
    "# 所有对话拼接一起"
   ]
  },
  {
   "cell_type": "code",
   "execution_count": 15,
   "id": "5589cb81-ed3d-437c-8788-f45b5591871c",
   "metadata": {},
   "outputs": [],
   "source": [
    "valid = pd.read_csv(\"dataset/random_instruction_valid.csv\")\n",
    "train = pd.read_csv(\"dataset/random_instruction_train.csv\")"
   ]
  },
  {
   "cell_type": "code",
   "execution_count": 16,
   "id": "3148e7b4-5f8e-41bc-8dfe-e3146ada1073",
   "metadata": {},
   "outputs": [
    {
     "name": "stdout",
     "output_type": "stream",
     "text": [
      "CPU times: user 2.4 s, sys: 507 ms, total: 2.91 s\n",
      "Wall time: 2.91 s\n"
     ]
    }
   ],
   "source": [
    "%%time\n",
    "# 定义一个函数来删除###Model A\\n\n",
    "def remove(row):\n",
    "    row['instruction_a'] = row['instruction_a'].replace('###Model A\\n', '')\n",
    "    row['instruction_b'] = row['instruction_b'].replace('###Model B\\n', '')\n",
    "    return row\n",
    "# 添加\n",
    "def add(row):\n",
    "    row['instruction_a'] = \"###Model A\\n\" + row['instruction_a']\n",
    "    row['instruction_b'] = '###Model B\\n' + row['instruction_b']\n",
    "    return row\n",
    "    \n",
    "def main(data):\n",
    "    data['instruction_a'] = data['instruction_a'].apply(lambda x: x.replace('###Model A\\n', ''))\n",
    "    data['instruction_b'] = data['instruction_b'].apply(lambda x: x.replace('###Model B\\n', ''))\n",
    "    data = data.groupby('id').agg({'instruction_a': ''.join, 'instruction_b': ''.join, 'label': lambda x: list(x)[0]}).reset_index()\n",
    "    data['instruction_a'] = \"###Model A\\n\" + data['instruction_a']\n",
    "    data['instruction_b'] = \"###Model B\\n\" + data['instruction_b']\n",
    "    data['prompt_response'] = data['instruction_a'] + data['instruction_b']\n",
    "    return data\n",
    "train = main(train)\n",
    "valid = main(valid)"
   ]
  },
  {
   "cell_type": "code",
   "execution_count": 11,
   "id": "161de9d9-a9ee-49c7-9ea8-a9aaadd5cfb0",
   "metadata": {},
   "outputs": [],
   "source": [
    "train.to_csv('dataset/random_all_in_one_train.csv', index = False)\n",
    "valid.to_csv('dataset/random_all_in_one_valid.csv', index = False)"
   ]
  },
  {
   "cell_type": "code",
   "execution_count": 13,
   "id": "570c6f20-addb-4331-b110-8cd9137866bb",
   "metadata": {},
   "outputs": [
    {
     "data": {
      "text/html": [
       "<div>\n",
       "<style scoped>\n",
       "    .dataframe tbody tr th:only-of-type {\n",
       "        vertical-align: middle;\n",
       "    }\n",
       "\n",
       "    .dataframe tbody tr th {\n",
       "        vertical-align: top;\n",
       "    }\n",
       "\n",
       "    .dataframe thead th {\n",
       "        text-align: right;\n",
       "    }\n",
       "</style>\n",
       "<table border=\"1\" class=\"dataframe\">\n",
       "  <thead>\n",
       "    <tr style=\"text-align: right;\">\n",
       "      <th></th>\n",
       "      <th>id</th>\n",
       "      <th>instruction_a</th>\n",
       "      <th>instruction_b</th>\n",
       "      <th>label</th>\n",
       "      <th>prompt_response</th>\n",
       "    </tr>\n",
       "  </thead>\n",
       "  <tbody>\n",
       "    <tr>\n",
       "      <th>0</th>\n",
       "      <td>53567</td>\n",
       "      <td>###Model A\\nPrompt: What is the difference bet...</td>\n",
       "      <td>###Model B\\nPrompt: What is the difference bet...</td>\n",
       "      <td>B</td>\n",
       "      <td>###Model A\\nPrompt: What is the difference bet...</td>\n",
       "    </tr>\n",
       "    <tr>\n",
       "      <th>1</th>\n",
       "      <td>65089</td>\n",
       "      <td>###Model A\\nPrompt: explain function calling. ...</td>\n",
       "      <td>###Model B\\nPrompt: explain function calling. ...</td>\n",
       "      <td>C</td>\n",
       "      <td>###Model A\\nPrompt: explain function calling. ...</td>\n",
       "    </tr>\n",
       "    <tr>\n",
       "      <th>2</th>\n",
       "      <td>96401</td>\n",
       "      <td>###Model A\\nPrompt: How can I create a test se...</td>\n",
       "      <td>###Model B\\nPrompt: How can I create a test se...</td>\n",
       "      <td>A</td>\n",
       "      <td>###Model A\\nPrompt: How can I create a test se...</td>\n",
       "    </tr>\n",
       "    <tr>\n",
       "      <th>3</th>\n",
       "      <td>198779</td>\n",
       "      <td>###Model A\\nPrompt: What is the best way to tr...</td>\n",
       "      <td>###Model B\\nPrompt: What is the best way to tr...</td>\n",
       "      <td>B</td>\n",
       "      <td>###Model A\\nPrompt: What is the best way to tr...</td>\n",
       "    </tr>\n",
       "    <tr>\n",
       "      <th>4</th>\n",
       "      <td>292873</td>\n",
       "      <td>###Model A\\nPrompt: Construct a rap battle, in...</td>\n",
       "      <td>###Model B\\nPrompt: Construct a rap battle, in...</td>\n",
       "      <td>B</td>\n",
       "      <td>###Model A\\nPrompt: Construct a rap battle, in...</td>\n",
       "    </tr>\n",
       "    <tr>\n",
       "      <th>...</th>\n",
       "      <td>...</td>\n",
       "      <td>...</td>\n",
       "      <td>...</td>\n",
       "      <td>...</td>\n",
       "      <td>...</td>\n",
       "    </tr>\n",
       "    <tr>\n",
       "      <th>54598</th>\n",
       "      <td>4294656694</td>\n",
       "      <td>###Model A\\nPrompt: A simple mnemonic for \\u03...</td>\n",
       "      <td>###Model B\\nPrompt: A simple mnemonic for \\u03...</td>\n",
       "      <td>A</td>\n",
       "      <td>###Model A\\nPrompt: A simple mnemonic for \\u03...</td>\n",
       "    </tr>\n",
       "    <tr>\n",
       "      <th>54599</th>\n",
       "      <td>4294692063</td>\n",
       "      <td>###Model A\\nPrompt: In python, implement a nai...</td>\n",
       "      <td>###Model B\\nPrompt: In python, implement a nai...</td>\n",
       "      <td>A</td>\n",
       "      <td>###Model A\\nPrompt: In python, implement a nai...</td>\n",
       "    </tr>\n",
       "    <tr>\n",
       "      <th>54600</th>\n",
       "      <td>4294710549</td>\n",
       "      <td>###Model A\\nPrompt: is it unethical to work on...</td>\n",
       "      <td>###Model B\\nPrompt: is it unethical to work on...</td>\n",
       "      <td>A</td>\n",
       "      <td>###Model A\\nPrompt: is it unethical to work on...</td>\n",
       "    </tr>\n",
       "    <tr>\n",
       "      <th>54601</th>\n",
       "      <td>4294899228</td>\n",
       "      <td>###Model A\\nPrompt: If a bait contains 0,0025%...</td>\n",
       "      <td>###Model B\\nPrompt: If a bait contains 0,0025%...</td>\n",
       "      <td>B</td>\n",
       "      <td>###Model A\\nPrompt: If a bait contains 0,0025%...</td>\n",
       "    </tr>\n",
       "    <tr>\n",
       "      <th>54602</th>\n",
       "      <td>4294947231</td>\n",
       "      <td>###Model A\\nPrompt: three kids eat three apple...</td>\n",
       "      <td>###Model B\\nPrompt: three kids eat three apple...</td>\n",
       "      <td>A</td>\n",
       "      <td>###Model A\\nPrompt: three kids eat three apple...</td>\n",
       "    </tr>\n",
       "  </tbody>\n",
       "</table>\n",
       "<p>54603 rows × 5 columns</p>\n",
       "</div>"
      ],
      "text/plain": [
       "               id                                      instruction_a  \\\n",
       "0           53567  ###Model A\\nPrompt: What is the difference bet...   \n",
       "1           65089  ###Model A\\nPrompt: explain function calling. ...   \n",
       "2           96401  ###Model A\\nPrompt: How can I create a test se...   \n",
       "3          198779  ###Model A\\nPrompt: What is the best way to tr...   \n",
       "4          292873  ###Model A\\nPrompt: Construct a rap battle, in...   \n",
       "...           ...                                                ...   \n",
       "54598  4294656694  ###Model A\\nPrompt: A simple mnemonic for \\u03...   \n",
       "54599  4294692063  ###Model A\\nPrompt: In python, implement a nai...   \n",
       "54600  4294710549  ###Model A\\nPrompt: is it unethical to work on...   \n",
       "54601  4294899228  ###Model A\\nPrompt: If a bait contains 0,0025%...   \n",
       "54602  4294947231  ###Model A\\nPrompt: three kids eat three apple...   \n",
       "\n",
       "                                           instruction_b label  \\\n",
       "0      ###Model B\\nPrompt: What is the difference bet...     B   \n",
       "1      ###Model B\\nPrompt: explain function calling. ...     C   \n",
       "2      ###Model B\\nPrompt: How can I create a test se...     A   \n",
       "3      ###Model B\\nPrompt: What is the best way to tr...     B   \n",
       "4      ###Model B\\nPrompt: Construct a rap battle, in...     B   \n",
       "...                                                  ...   ...   \n",
       "54598  ###Model B\\nPrompt: A simple mnemonic for \\u03...     A   \n",
       "54599  ###Model B\\nPrompt: In python, implement a nai...     A   \n",
       "54600  ###Model B\\nPrompt: is it unethical to work on...     A   \n",
       "54601  ###Model B\\nPrompt: If a bait contains 0,0025%...     B   \n",
       "54602  ###Model B\\nPrompt: three kids eat three apple...     A   \n",
       "\n",
       "                                         prompt_response  \n",
       "0      ###Model A\\nPrompt: What is the difference bet...  \n",
       "1      ###Model A\\nPrompt: explain function calling. ...  \n",
       "2      ###Model A\\nPrompt: How can I create a test se...  \n",
       "3      ###Model A\\nPrompt: What is the best way to tr...  \n",
       "4      ###Model A\\nPrompt: Construct a rap battle, in...  \n",
       "...                                                  ...  \n",
       "54598  ###Model A\\nPrompt: A simple mnemonic for \\u03...  \n",
       "54599  ###Model A\\nPrompt: In python, implement a nai...  \n",
       "54600  ###Model A\\nPrompt: is it unethical to work on...  \n",
       "54601  ###Model A\\nPrompt: If a bait contains 0,0025%...  \n",
       "54602  ###Model A\\nPrompt: three kids eat three apple...  \n",
       "\n",
       "[54603 rows x 5 columns]"
      ]
     },
     "execution_count": 13,
     "metadata": {},
     "output_type": "execute_result"
    }
   ],
   "source": [
    "pd.read_csv('dataset/random_all_in_one_train.csv')"
   ]
  },
  {
   "cell_type": "code",
   "execution_count": 12,
   "id": "a3260391-6804-4006-8b91-ab6a854b72cf",
   "metadata": {},
   "outputs": [],
   "source": [
    "# classification\n",
    "str2num = {'A':0, \"B\":1, \"C\":2}\n",
    "train['label'] = train.label.map(str2num)\n",
    "valid['label'] = valid.label.map(str2num)\n",
    "\n",
    "train.to_csv('dataset/random_all_in_one_cls_train.csv', index = False)\n",
    "valid.to_csv('dataset/random_all_in_one_cls_valid.csv', index = False)"
   ]
  },
  {
   "cell_type": "code",
   "execution_count": 18,
   "id": "b052128d-70bb-4764-bce0-97122f3a60dc",
   "metadata": {},
   "outputs": [],
   "source": [
    "all = pd.concat([train, valid]).reset_index(drop = True)"
   ]
  },
  {
   "cell_type": "code",
   "execution_count": 21,
   "id": "30a3eabf-9271-4e83-ab68-a2059e483a1c",
   "metadata": {},
   "outputs": [],
   "source": [
    "all.to_csv(\"dataset/full_all_in_one.csv\", index = False)"
   ]
  },
  {
   "cell_type": "code",
   "execution_count": null,
   "id": "8ee47fab-da9e-4466-8774-3a5237b366cc",
   "metadata": {},
   "outputs": [],
   "source": []
  }
 ],
 "metadata": {
  "kernelspec": {
   "display_name": "Python 3 (ipykernel)",
   "language": "python",
   "name": "python3"
  },
  "language_info": {
   "codemirror_mode": {
    "name": "ipython",
    "version": 3
   },
   "file_extension": ".py",
   "mimetype": "text/x-python",
   "name": "python",
   "nbconvert_exporter": "python",
   "pygments_lexer": "ipython3",
   "version": "3.10.8"
  }
 },
 "nbformat": 4,
 "nbformat_minor": 5
}
